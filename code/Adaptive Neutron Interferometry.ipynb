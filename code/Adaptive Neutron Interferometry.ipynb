{
 "metadata": {
  "name": ""
 },
 "nbformat": 3,
 "nbformat_minor": 0,
 "worksheets": [
  {
   "cells": [
    {
     "cell_type": "heading",
     "level": 1,
     "metadata": {},
     "source": [
      "Adaptive Neutron Interferometry"
     ]
    },
    {
     "cell_type": "heading",
     "level": 2,
     "metadata": {},
     "source": [
      "Preamble"
     ]
    },
    {
     "cell_type": "code",
     "collapsed": false,
     "input": [
      "from __future__ import division, print_function"
     ],
     "language": "python",
     "metadata": {},
     "outputs": [],
     "prompt_number": 89
    },
    {
     "cell_type": "code",
     "collapsed": false,
     "input": [
      "%pylab inline"
     ],
     "language": "python",
     "metadata": {},
     "outputs": [
      {
       "output_type": "stream",
       "stream": "stdout",
       "text": [
        "Populating the interactive namespace from numpy and matplotlib\n"
       ]
      },
      {
       "output_type": "stream",
       "stream": "stderr",
       "text": [
        "WARNING: pylab import has clobbered these variables: ['axes', 'f']\n",
        "`%pylab --no-import-all` prevents importing * from pylab and numpy\n"
       ]
      }
     ],
     "prompt_number": 90
    },
    {
     "cell_type": "code",
     "collapsed": false,
     "input": [
      "from qinfer import smc, abstract_model, derived_models, distributions, expdesign, resamplers\n",
      "from scipy.optimize import minimize, curve_fit\n",
      "import scipy.stats\n",
      "import timeit"
     ],
     "language": "python",
     "metadata": {},
     "outputs": [],
     "prompt_number": 91
    },
    {
     "cell_type": "heading",
     "level": 2,
     "metadata": {},
     "source": [
      "Constants"
     ]
    },
    {
     "cell_type": "code",
     "collapsed": false,
     "input": [
      "TWO_PI = np.pi * 2\n",
      "d_u = np.pi/10"
     ],
     "language": "python",
     "metadata": {},
     "outputs": [],
     "prompt_number": 92
    },
    {
     "cell_type": "heading",
     "level": 2,
     "metadata": {},
     "source": [
      "Inference Models"
     ]
    },
    {
     "cell_type": "markdown",
     "metadata": {},
     "source": [
      "We start with a model that will be used for performing inference, $\\Pr(O | A, b, \\phi, \\lambda; \\theta) = (\\frac{1}{2} + b) + \\frac{A}{2} \\cos(\\lambda \\theta + \\phi)$.\n",
      "This model will then be used to adaptively learn the value of $\\vec{x} = (A, b, \\phi, \\lambda)$."
     ]
    },
    {
     "cell_type": "code",
     "collapsed": false,
     "input": [
      "class SingleNeutronModel(abstract_model.Model):    \n",
      "    ## PROPERTIES ##\n",
      "    @property\n",
      "    def n_modelparams(self):\n",
      "        return 4 # A, b, \\phi, \\lambda\n",
      "    @property\n",
      "    def expparams_dtype(self):\n",
      "        return [('theta', 'float')]\n",
      "    @property\n",
      "    def is_n_outcomes_constant(self):\n",
      "        return True\n",
      "    @property\n",
      "    def Q(self):\n",
      "        return np.array([1, 1, 1, 1]) # Prioritize phi over the others.\n",
      "    ## METHODS ##    \n",
      "    @staticmethod\n",
      "    def are_models_valid(modelparams):\n",
      "        A, b, phi, lambda_ = modelparams.T\n",
      "        abs_b = np.abs(b)\n",
      "        return np.all([\n",
      "            A > 0,\n",
      "            A <= 1 - 2 * abs_b,\n",
      "            abs_b <= 0.5,\n",
      "            phi >= 0,\n",
      "            phi <= np.pi / 2,\n",
      "            lambda_ >= 0\n",
      "        ], axis=0)\n",
      "    def n_outcomes(self, expparams):\n",
      "        return 2    \n",
      "    def likelihood(self, outcomes, modelparams, expparams):\n",
      "        # By calling the superclass implementation, we can consolidate\n",
      "        # call counting there.\n",
      "        super(SingleNeutronModel, self).likelihood(outcomes, modelparams, expparams)\n",
      "                    \n",
      "        # Extract each model parameter under its own name.\n",
      "        A, b, phi, lambda_ = modelparams.T[..., np.newaxis]\n",
      "        theta = expparams['theta'][np.newaxis, :]\n",
      "        \n",
      "        pr0 = (0.5 + b) + (0.5 * A * np.cos(lambda_ * theta + phi))\n",
      "                \n",
      "        # Now we concatenate over outcomes.\n",
      "        return abstract_model.Model.pr0_to_likelihood_array(outcomes, pr0)"
     ],
     "language": "python",
     "metadata": {},
     "outputs": [],
     "prompt_number": 93
    },
    {
     "cell_type": "markdown",
     "metadata": {},
     "source": [
      "We start with a model that will be used for performing inference, $$P(0|A,b,\\Delta\\phi,C,\\alpha';\\delta,\\hat{\\Phi},\\hat{T})= \\int \\limits_\\Phi \\int \\limits_T \\left[(\\frac{1}{2}+b)+\\frac{A}{2}cos\\left(\\Delta\\phi + C\\delta + \\frac{\\alpha' \\Phi\\delta}{T}\\times 10^{h_A - \\frac{h_B}{h_C - T}}\\right)\\right]P(T|\\hat{T})P(\\Phi|\\hat{\\Phi})dTd\\Phi$$\n",
      " This model will learn $\\vec{x} = (A,b,\\Delta\\phi,C,\\alpha')$                                                                                                                                         "
     ]
    },
    {
     "cell_type": "code",
     "collapsed": false,
     "input": [
      "class SingleNeutronModelEx(abstract_model.Model): \n",
      "    def __init__(self):\n",
      "        self.h_A=6.20963\n",
      "        self.h_B=2354.731 \n",
      "        self.h_C=7.559\n",
      "        super(SingleNeutronModelEx, self).__init__()\n",
      "    ## PROPERTIES ##\n",
      "    @property\n",
      "    def n_modelparams(self):\n",
      "        return 5 # A, b, \\phi,C,\\alpha\n",
      "    @property\n",
      "    def expparams_dtype(self):\n",
      "        return [('delta', 'float'),('temp','float'),('humid','float')]\n",
      "    @property\n",
      "    def is_n_outcomes_constant(self):\n",
      "        return True\n",
      "    @property\n",
      "    def Q(self):\n",
      "        return np.array([1, 1, 1, 1,1]) # Quadratic loss matrix, all are same for now\n",
      "    ## METHODS ##    \n",
      "    @staticmethod\n",
      "    def are_models_valid(modelparams):\n",
      "        A, b, phi, C, alpha = modelparams.T\n",
      "        abs_b = np.abs(b)\n",
      "        return np.all([\n",
      "            A > 0,\n",
      "            A <= 1 - 2 * abs_b,\n",
      "            abs_b <= 0.5,\n",
      "            phi >= 0 ,\n",
      "            phi <= np.pi / 2,\n",
      "            C >= 0,\n",
      "            alpha <=0 # might not work care\n",
      "            \n",
      "        ], axis=0)\n",
      "    def n_outcomes(self, expparams):\n",
      "        return 2    \n",
      "    def likelihood(self, outcomes, modelparams, expparams):\n",
      "        # By calling the superclass implementation, we can consolidate\n",
      "        # call counting there.\n",
      "        super(SingleNeutronModelEx, self).likelihood(outcomes, modelparams, expparams)\n",
      "                    \n",
      "        # Extract each model parameter under its own name.\n",
      "        A, b, phi, C, alpha = modelparams.T[..., np.newaxis]\n",
      "        delta = expparams['delta'][np.newaxis, :]\n",
      "        temp = expparams['temp'][np.newaxis, :]\n",
      "        humid = expparams['humid'][np.newaxis, :]\n",
      "        pr0 = (0.5 + b) + (0.5 * A * np.cos(C * delta + phi+ (alpha*delta*humid/temp*10**(self.h_A-(self.h_B/(self.h_C+temp))))))\n",
      "                \n",
      "        # Now we concatenate over outcomes.\n",
      "        return abstract_model.Model.pr0_to_likelihood_array(outcomes, pr0)"
     ],
     "language": "python",
     "metadata": {},
     "outputs": [],
     "prompt_number": 94
    },
    {
     "cell_type": "code",
     "collapsed": false,
     "input": [
      "single_neutron_model = SingleNeutronModel()\n",
      "neutron_model = derived_models.BinomialModel(single_neutron_model)\n",
      "single_neutron_model_ex = SingleNeutronModelEx()\n",
      "neutron_model_ex = derived_models.BinomialModel(single_neutron_model_ex)\n"
     ],
     "language": "python",
     "metadata": {},
     "outputs": [],
     "prompt_number": 95
    },
    {
     "cell_type": "heading",
     "level": 2,
     "metadata": {},
     "source": [
      "True Models"
     ]
    },
    {
     "cell_type": "markdown",
     "metadata": {},
     "source": [
      "For consistency, we will test with a set of \"true\" model parameters for each model."
     ]
    },
    {
     "cell_type": "code",
     "collapsed": false,
     "input": [
      "true_modelparams = np.array([[0.9, 0.00, (0.43 * np.pi / 16), 1.02]])\n",
      "true_modelparams_ex = np.array([[0.9, 0.00, (0.43 * np.pi / 16), 22.0,-1.02]])"
     ],
     "language": "python",
     "metadata": {},
     "outputs": [],
     "prompt_number": 96
    },
    {
     "cell_type": "code",
     "collapsed": false,
     "input": [
      "true_modelparams_array = np.array([[[0.9, 0.00, (0.43 * np.pi / 16), 22.02,-1.02]],#normal\n",
      "                                   [[0.9, 0.00, (0.43 * np.pi / 16), 15.00,-1.02]],#not full phase control\n",
      "                                   [[0.9, 0.00, (np.pi / 2),22.02,-1.02]]#larger phase offset\n",
      "                                   ,[[0.7, 0.00, (0.43 * np.pi / 16), 22.02,-1.02]]#smaller cos constant                                   \n",
      "                                   ,[[0.1, 0.00, (0.43 * np.pi / 16), 22.02,-1.02]]#very small cos constant\n",
      "                                    ,[[0.7, 0.1, (0.43 * np.pi / 16), 22.02,-1.02]]#larger offset\n",
      "                                   ])"
     ],
     "language": "python",
     "metadata": {},
     "outputs": [],
     "prompt_number": 97
    },
    {
     "cell_type": "code",
     "collapsed": false,
     "input": [
      "[[[0.9, 0.00, (0.43 * np.pi / 16), 22.02,-1.02]],#normal\n",
      "                                   [[0.9, 0.00, (0.43 * np.pi / 16), 15.00,-1.02]],#not full phase control\n",
      "                                   [[0.9, 0.00, (np.pi / 2), 22.02,-1.02]]#larger phase offset\n",
      "                                   ,[[0.7, 0.00, (0.43 * np.pi / 16), 22.02,-1.02]]#smaller cos constant                                   \n",
      "                                   ,[[0.1, 0.00, (0.43 * np.pi / 16), 22.02,-1.02]]#very small cos constant\n",
      "                                    ,[[0.9, 0.1, (0.43 * np.pi / 16), 22.02,-1.02]]#larger offset\n",
      "                                   ]"
     ],
     "language": "python",
     "metadata": {},
     "outputs": [
      {
       "metadata": {},
       "output_type": "pyout",
       "prompt_number": 98,
       "text": [
        "[[[0.9, 0.0, 0.08443030256522568, 22.02, -1.02]],\n",
        " [[0.9, 0.0, 0.08443030256522568, 15.0, -1.02]],\n",
        " [[0.9, 0.0, 1.5707963267948966, 22.02, -1.02]],\n",
        " [[0.7, 0.0, 0.08443030256522568, 22.02, -1.02]],\n",
        " [[0.1, 0.0, 0.08443030256522568, 22.02, -1.02]],\n",
        " [[0.9, 0.1, 0.08443030256522568, 22.02, -1.02]]]"
       ]
      }
     ],
     "prompt_number": 98
    },
    {
     "cell_type": "markdown",
     "metadata": {},
     "source": [
      "Of course, it's important that each \"true\" model be a valid model, and so we assert that here."
     ]
    },
    {
     "cell_type": "code",
     "collapsed": false,
     "input": [
      "assert neutron_model.are_models_valid(true_modelparams)\n",
      "assert neutron_model_ex.are_models_valid(true_modelparams_ex)\n",
      "for x in true_modelparams_array:\n",
      "    print(neutron_model_ex.are_models_valid(x))"
     ],
     "language": "python",
     "metadata": {},
     "outputs": [
      {
       "output_type": "stream",
       "stream": "stdout",
       "text": [
        "[ True]\n",
        "[ True]\n",
        "[ True]\n",
        "[ True]\n",
        "[ True]\n",
        "[ True]\n"
       ]
      }
     ],
     "prompt_number": 99
    },
    {
     "cell_type": "code",
     "collapsed": false,
     "input": [
      "def lik(delta,temp,humid,A,b,phi,C,alpha):\n",
      "    h_A=6.20963\n",
      "    h_B=2354.731 \n",
      "    h_C=7.559 \n",
      "    return   (0.5 + b) + (0.5 * A * np.cos(C * delta + phi+ (alpha*delta*humid/temp*10**(h_A-(h_B/(h_C+temp))))))"
     ],
     "language": "python",
     "metadata": {},
     "outputs": [],
     "prompt_number": 100
    },
    {
     "cell_type": "code",
     "collapsed": false,
     "input": [
      "true_modelparams_array[4][0]"
     ],
     "language": "python",
     "metadata": {},
     "outputs": [
      {
       "metadata": {},
       "output_type": "pyout",
       "prompt_number": 101,
       "text": [
        "array([  0.1      ,   0.       ,   0.0844303,  22.02     ,  -1.02     ])"
       ]
      }
     ],
     "prompt_number": 101
    },
    {
     "cell_type": "code",
     "collapsed": false,
     "input": [
      "T = np.array(10000)\n",
      "H = np.array(10000)\n",
      "H.fill(0.70)\n",
      "T.fill(293.15)\n",
      "delta = np.linspace(0,np.pi/10,10000)\n",
      "y = true_modelparams_array\n",
      "\n",
      "fig,axes = subplots(nrows=int(math.ceil((float(len(y)))/2)),ncols=2,figsize=(8,6))\n",
      "fig.tight_layout(pad=3.0,w_pad=3.0,h_pad=3.0)    \n",
      "for i,x in zip(range(1,len(y)+1),y):       \n",
      "    x = x[0]\n",
      "    subplot(math.ceil((float(len(y))/2)),2,i)\n",
      "    p = lik(delta,T,H,x[0],x[1],x[2],x[3],x[4])\n",
      "    plot(delta/np.pi,p)\n",
      "    xlim(0,1/10.)\n",
      "    xlabel(r'$\\delta/\\pi$')\n",
      "    ylabel(r'Probability of Detection')\n",
      "    title(r'$(A={0},b={1},\\phi={2:.3},C={3},\\alpha\\'={4})$'.format(*x))\n",
      "    \n",
      "subplots_adjust(left=0.2,right=2.0,bottom=0.2,top=2.0,wspace=0.3,hspace=0.3)\n",
      "\n",
      "savefig('likelihoods.eps')\n",
      "show()"
     ],
     "language": "python",
     "metadata": {},
     "outputs": [
      {
       "metadata": {},
       "output_type": "display_data",
       "png": "[encoded data removed]",
       "text": [
        "<matplotlib.figure.Figure at 0x62c9210>"
       ]
      }
     ],
     "prompt_number": 102
    },
    {
     "cell_type": "heading",
     "level": 2,
     "metadata": {},
     "source": [
      "Prior Distributions"
     ]
    },
    {
     "cell_type": "code",
     "collapsed": false,
     "input": [
      "neutron_prior = distributions.UniformDistribution([\n",
      "    [0.7, 0.925],\n",
      "    [-0.00005, 0.00005],\n",
      "    [0, np.pi / 8],\n",
      "    [true_modelparams[0, 3] - 0.01, true_modelparams[0, 3] + 0.01]\n",
      "])\n",
      "neutron_prior_ex = distributions.UniformDistribution([\n",
      "    [true_modelparams_ex[0, 0] - 0.01, true_modelparams_ex[0, 0] + 0.01],\n",
      "    [true_modelparams_ex[0, 1] - 0.01, true_modelparams_ex[0, 1] + 0.01],\n",
      "    [0,np.pi/2],\n",
      "    [true_modelparams_ex[0, 3] - 0.01, true_modelparams_ex[0, 3] + 0.01],\n",
      "    [true_modelparams_ex[0, 4] - 0.01, true_modelparams_ex[0, 4] + 0.01]\n",
      "])"
     ],
     "language": "python",
     "metadata": {},
     "outputs": [],
     "prompt_number": 103
    },
    {
     "cell_type": "code",
     "collapsed": false,
     "input": [
      "neutron_prior_arr = [  distributions.UniformDistribution([\n",
      "    [x[0, 0] - 0.02, x[0, 0] + 0.02],\n",
      "    [x[0, 1] - 0.02, x[0, 1] + 0.02],\n",
      "    [0,np.pi/2],\n",
      "    [x[0, 3] - 0.05, x[0, 3] + 0.05],\n",
      "    [x[0, 4] - 0.05, x[0, 4] + 0.05]\n",
      "]) for x in true_modelparams_array]\n"
     ],
     "language": "python",
     "metadata": {},
     "outputs": [],
     "prompt_number": 104
    },
    {
     "cell_type": "heading",
     "level": 2,
     "metadata": {},
     "source": [
      "Plotting Functions"
     ]
    },
    {
     "cell_type": "code",
     "collapsed": false,
     "input": [
      "def plot_kernel_smoothed_pdf(updater, param=2, show_true=True):\n",
      "    kernel = scipy.stats.norm(scale=0.0005, loc=updater.particle_locations[:, param]).pdf\n",
      "    xs = linspace(*updater.prior._ranges[param], num=100)\n",
      "    smoothed_pdf = np.sum(kernel(xs[:, np.newaxis]) * updater.particle_weights, axis=-1)\n",
      "    plot(xs, smoothed_pdf)\n",
      "    if show_true:\n",
      "        plot(true_modelparams[:, param], 0, 'rx')"
     ],
     "language": "python",
     "metadata": {},
     "outputs": [],
     "prompt_number": 105
    },
    {
     "cell_type": "heading",
     "level": 2,
     "metadata": {},
     "source": [
      "SMC Updater"
     ]
    },
    {
     "cell_type": "markdown",
     "metadata": {},
     "source": [
      "Warm up the updater by performing experiments over unifomly spaced theta, then look at the risk profile. This experimental setup is not really reasonable, as it assumes 1000 changings of the phase flag but only 10 neutrons per setting. That said, this is still useful for our purposes, as it causes the distribution to warm up to one that is approximately Gaussian."
     ]
    },
    {
     "cell_type": "code",
     "collapsed": false,
     "input": [
      "def plot_risks(updater, theta_min=0, theta_max=TWO_PI, n_thetas=100):\n",
      "    thetas = np.linspace(theta_min, theta_max, n_thetas)\n",
      "    risks = np.array([\n",
      "        updater.bayes_risk(np.array([(theta, 10)], dtype=updater.model.expparams_dtype))\n",
      "        for theta in thetas\n",
      "    ])\n",
      "    f = plot(thetas / np.pi, risks)\n",
      "    xlabel(r'$\\theta / \\pi$')\n",
      "    ylabel(r'$r(\\theta)$')\n",
      "    return f"
     ],
     "language": "python",
     "metadata": {},
     "outputs": [],
     "prompt_number": 106
    },
    {
     "cell_type": "markdown",
     "metadata": {},
     "source": [
      "Before we do anything, the risk profile rewards exploring $\\theta \\approx \\pi$. Note that this is dependent on the prior; here, we have chosen $\\phi \\sim \\text{Uniform}(0, \\pi / 2)$."
     ]
    },
    {
     "cell_type": "code",
     "collapsed": false,
     "input": [
      "plot_risks(smc.SMCUpdater(neutron_model, 100000, neutron_prior))"
     ],
     "language": "python",
     "metadata": {},
     "outputs": [
      {
       "metadata": {},
       "output_type": "pyout",
       "prompt_number": 107,
       "text": [
        "[<matplotlib.lines.Line2D at 0x658df10>]"
       ]
      },
      {
       "metadata": {},
       "output_type": "display_data",
       "png": "[encoded data removed]",
       "text": [
        "<matplotlib.figure.Figure at 0x7830850>"
       ]
      }
     ],
     "prompt_number": 107
    },
    {
     "cell_type": "code",
     "collapsed": false,
     "input": [
      "def plot_risks_ex(updater, theta_min=0, theta_max=TWO_PI,hum=0.70,hum_std=0.01,temp=293.15,temp_std=0.5, n_thetas=100):\n",
      "    deltas = np.linspace(theta_min, theta_max, n_thetas)\n",
      "    humidities = np.random.normal(hum,hum_std,n_thetas)\n",
      "    temps = np.random.normal(temp,temp_std,n_thetas)\n",
      "    exparams = zip(deltas,temps,humidities)   \n",
      "    risks = np.array([\n",
      "        updater.bayes_risk(np.array([exparam+(10,)], dtype=updater.model.expparams_dtype))\n",
      "        for exparam in exparams\n",
      "    ])\n",
      "    f = plot(deltas / np.pi, risks)    \n",
      "    xlabel(r'$\\theta / \\pi$')\n",
      "    ylabel(r'$r(\\theta)$')\n",
      "    return f\n"
     ],
     "language": "python",
     "metadata": {},
     "outputs": [],
     "prompt_number": 108
    },
    {
     "cell_type": "code",
     "collapsed": false,
     "input": [
      "def plot_risks_array(updater, theta_min=0, theta_max=TWO_PI,hum=0.70,hum_std=0.01,temp=293.15,temp_std=0.5, n_thetas=100,ylims=None):\n",
      "    deltas = np.linspace(theta_min, theta_max, n_thetas)\n",
      "    humidities = np.random.normal(hum,hum_std,n_thetas)\n",
      "    temps = np.random.normal(temp,temp_std,n_thetas)\n",
      "    exparams = zip(deltas,temps,humidities)   \n",
      "    risks = np.array([\n",
      "        updater.bayes_risk(np.array([exparam+(100,)], dtype=updater.model.expparams_dtype))\n",
      "        for exparam in exparams\n",
      "    ])\n",
      "    f = plot(deltas / np.pi, risks)    \n",
      "    xlabel(r'$\\theta / \\pi$')\n",
      "    ylabel(r'$r(\\delta)$')\n",
      "    if ylims is not None:\n",
      "        ylim(ylims)\n",
      "    return f\n",
      "def make_array(model,trueparams,priors,num_particle=100000,theta_min=0, theta_max=TWO_PI,\n",
      "               hum=0.70,hum_std=0.01,temp=293.15,temp_std=0.5, n_thetas=100,save_file=None):\n",
      "    fig,axes = subplots(nrows=int(math.ceil((float(len(priors)))/2)),ncols=2,figsize=(8,6))\n",
      "   \n",
      "    fig.tight_layout(pad=3.0,w_pad=3.0,h_pad=3.0)    \n",
      "    for i,x,y in zip(range(1,len(priors)+1),trueparams,priors):        \n",
      "        subplot(math.ceil((float(len(priors))))/2,2,i)\n",
      "        f = plot_risks_array(smc.SMCUpdater(model, num_particle,y),theta_min=theta_min,theta_max=theta_max)\n",
      "        title(r'$(A={0},b={1},\\phi={2:.3},C={3},\\alpha\\'={4})$'.format(*x[0]))\n",
      "    \n",
      "    subplots_adjust(left=0.2,right=2.0,bottom=0.2,top=2.0,wspace=0.3,hspace=0.3)\n",
      "    if save_file is not None:\n",
      "        savefig(save_file)\n",
      "    show()"
     ],
     "language": "python",
     "metadata": {},
     "outputs": [],
     "prompt_number": 109
    },
    {
     "cell_type": "code",
     "collapsed": false,
     "input": [
      "make_array(neutron_model_ex,true_modelparams_array,neutron_prior_arr,100000,theta_min=0,theta_max=d_u,save_file=\"risks1.eps\")"
     ],
     "language": "python",
     "metadata": {},
     "outputs": [
      {
       "ename": "KeyboardInterrupt",
       "evalue": "",
       "output_type": "pyerr",
       "traceback": [
        "\u001b[1;31m---------------------------------------------------------------------------\u001b[0m\n\u001b[1;31mKeyboardInterrupt\u001b[0m                         Traceback (most recent call last)",
        "\u001b[1;32m<ipython-input-110-732817a6465f>\u001b[0m in \u001b[0;36m<module>\u001b[1;34m()\u001b[0m\n\u001b[1;32m----> 1\u001b[1;33m \u001b[0mmake_array\u001b[0m\u001b[1;33m(\u001b[0m\u001b[0mneutron_model_ex\u001b[0m\u001b[1;33m,\u001b[0m\u001b[0mtrue_modelparams_array\u001b[0m\u001b[1;33m,\u001b[0m\u001b[0mneutron_prior_arr\u001b[0m\u001b[1;33m,\u001b[0m\u001b[1;36m100000\u001b[0m\u001b[1;33m,\u001b[0m\u001b[0mtheta_min\u001b[0m\u001b[1;33m=\u001b[0m\u001b[1;36m0\u001b[0m\u001b[1;33m,\u001b[0m\u001b[0mtheta_max\u001b[0m\u001b[1;33m=\u001b[0m\u001b[0md_u\u001b[0m\u001b[1;33m,\u001b[0m\u001b[0msave_file\u001b[0m\u001b[1;33m=\u001b[0m\u001b[1;34m\"risks1.eps\"\u001b[0m\u001b[1;33m)\u001b[0m\u001b[1;33m\u001b[0m\u001b[0m\n\u001b[0m",
        "\u001b[1;32m<ipython-input-109-73b79798ed8b>\u001b[0m in \u001b[0;36mmake_array\u001b[1;34m(model, trueparams, priors, num_particle, theta_min, theta_max, hum, hum_std, temp, temp_std, n_thetas, save_file)\u001b[0m\n\u001b[0;32m     21\u001b[0m     \u001b[1;32mfor\u001b[0m \u001b[0mi\u001b[0m\u001b[1;33m,\u001b[0m\u001b[0mx\u001b[0m\u001b[1;33m,\u001b[0m\u001b[0my\u001b[0m \u001b[1;32min\u001b[0m \u001b[0mzip\u001b[0m\u001b[1;33m(\u001b[0m\u001b[0mrange\u001b[0m\u001b[1;33m(\u001b[0m\u001b[1;36m1\u001b[0m\u001b[1;33m,\u001b[0m\u001b[0mlen\u001b[0m\u001b[1;33m(\u001b[0m\u001b[0mpriors\u001b[0m\u001b[1;33m)\u001b[0m\u001b[1;33m+\u001b[0m\u001b[1;36m1\u001b[0m\u001b[1;33m)\u001b[0m\u001b[1;33m,\u001b[0m\u001b[0mtrueparams\u001b[0m\u001b[1;33m,\u001b[0m\u001b[0mpriors\u001b[0m\u001b[1;33m)\u001b[0m\u001b[1;33m:\u001b[0m\u001b[1;33m\u001b[0m\u001b[0m\n\u001b[0;32m     22\u001b[0m         \u001b[0msubplot\u001b[0m\u001b[1;33m(\u001b[0m\u001b[0mmath\u001b[0m\u001b[1;33m.\u001b[0m\u001b[0mceil\u001b[0m\u001b[1;33m(\u001b[0m\u001b[1;33m(\u001b[0m\u001b[0mfloat\u001b[0m\u001b[1;33m(\u001b[0m\u001b[0mlen\u001b[0m\u001b[1;33m(\u001b[0m\u001b[0mpriors\u001b[0m\u001b[1;33m)\u001b[0m\u001b[1;33m)\u001b[0m\u001b[1;33m)\u001b[0m\u001b[1;33m)\u001b[0m\u001b[1;33m/\u001b[0m\u001b[1;36m2\u001b[0m\u001b[1;33m,\u001b[0m\u001b[1;36m2\u001b[0m\u001b[1;33m,\u001b[0m\u001b[0mi\u001b[0m\u001b[1;33m)\u001b[0m\u001b[1;33m\u001b[0m\u001b[0m\n\u001b[1;32m---> 23\u001b[1;33m         \u001b[0mf\u001b[0m \u001b[1;33m=\u001b[0m \u001b[0mplot_risks_array\u001b[0m\u001b[1;33m(\u001b[0m\u001b[0msmc\u001b[0m\u001b[1;33m.\u001b[0m\u001b[0mSMCUpdater\u001b[0m\u001b[1;33m(\u001b[0m\u001b[0mmodel\u001b[0m\u001b[1;33m,\u001b[0m \u001b[0mnum_particle\u001b[0m\u001b[1;33m,\u001b[0m\u001b[0my\u001b[0m\u001b[1;33m)\u001b[0m\u001b[1;33m,\u001b[0m\u001b[0mtheta_min\u001b[0m\u001b[1;33m=\u001b[0m\u001b[0mtheta_min\u001b[0m\u001b[1;33m,\u001b[0m\u001b[0mtheta_max\u001b[0m\u001b[1;33m=\u001b[0m\u001b[0mtheta_max\u001b[0m\u001b[1;33m)\u001b[0m\u001b[1;33m\u001b[0m\u001b[0m\n\u001b[0m\u001b[0;32m     24\u001b[0m         \u001b[0mtitle\u001b[0m\u001b[1;33m(\u001b[0m\u001b[1;34mr'$(A={0},b={1},\\phi={2:.3},C={3},\\alpha\\'={4})$'\u001b[0m\u001b[1;33m.\u001b[0m\u001b[0mformat\u001b[0m\u001b[1;33m(\u001b[0m\u001b[1;33m*\u001b[0m\u001b[0mx\u001b[0m\u001b[1;33m[\u001b[0m\u001b[1;36m0\u001b[0m\u001b[1;33m]\u001b[0m\u001b[1;33m)\u001b[0m\u001b[1;33m)\u001b[0m\u001b[1;33m\u001b[0m\u001b[0m\n\u001b[0;32m     25\u001b[0m \u001b[1;33m\u001b[0m\u001b[0m\n",
        "\u001b[1;32m<ipython-input-109-73b79798ed8b>\u001b[0m in \u001b[0;36mplot_risks_array\u001b[1;34m(updater, theta_min, theta_max, hum, hum_std, temp, temp_std, n_thetas, ylims)\u001b[0m\n\u001b[0;32m      6\u001b[0m     risks = np.array([\n\u001b[0;32m      7\u001b[0m         \u001b[0mupdater\u001b[0m\u001b[1;33m.\u001b[0m\u001b[0mbayes_risk\u001b[0m\u001b[1;33m(\u001b[0m\u001b[0mnp\u001b[0m\u001b[1;33m.\u001b[0m\u001b[0marray\u001b[0m\u001b[1;33m(\u001b[0m\u001b[1;33m[\u001b[0m\u001b[0mexparam\u001b[0m\u001b[1;33m+\u001b[0m\u001b[1;33m(\u001b[0m\u001b[1;36m100\u001b[0m\u001b[1;33m,\u001b[0m\u001b[1;33m)\u001b[0m\u001b[1;33m]\u001b[0m\u001b[1;33m,\u001b[0m \u001b[0mdtype\u001b[0m\u001b[1;33m=\u001b[0m\u001b[0mupdater\u001b[0m\u001b[1;33m.\u001b[0m\u001b[0mmodel\u001b[0m\u001b[1;33m.\u001b[0m\u001b[0mexpparams_dtype\u001b[0m\u001b[1;33m)\u001b[0m\u001b[1;33m)\u001b[0m\u001b[1;33m\u001b[0m\u001b[0m\n\u001b[1;32m----> 8\u001b[1;33m         \u001b[1;32mfor\u001b[0m \u001b[0mexparam\u001b[0m \u001b[1;32min\u001b[0m \u001b[0mexparams\u001b[0m\u001b[1;33m\u001b[0m\u001b[0m\n\u001b[0m\u001b[0;32m      9\u001b[0m     ])\n\u001b[0;32m     10\u001b[0m     \u001b[0mf\u001b[0m \u001b[1;33m=\u001b[0m \u001b[0mplot\u001b[0m\u001b[1;33m(\u001b[0m\u001b[0mdeltas\u001b[0m \u001b[1;33m/\u001b[0m \u001b[0mnp\u001b[0m\u001b[1;33m.\u001b[0m\u001b[0mpi\u001b[0m\u001b[1;33m,\u001b[0m \u001b[0mrisks\u001b[0m\u001b[1;33m)\u001b[0m\u001b[1;33m\u001b[0m\u001b[0m\n",
        "\u001b[1;32m/home/thomas/Envs/default/local/lib/python2.7/site-packages/qinfer/smc.pyc\u001b[0m in \u001b[0;36mbayes_risk\u001b[1;34m(self, expparams)\u001b[0m\n\u001b[0;32m    476\u001b[0m         \u001b[1;31m#     for the moment this is not implemented.\u001b[0m\u001b[1;33m\u001b[0m\u001b[1;33m\u001b[0m\u001b[0m\n\u001b[0;32m    477\u001b[0m         \u001b[0mnout\u001b[0m \u001b[1;33m=\u001b[0m \u001b[0mself\u001b[0m\u001b[1;33m.\u001b[0m\u001b[0mmodel\u001b[0m\u001b[1;33m.\u001b[0m\u001b[0mn_outcomes\u001b[0m\u001b[1;33m(\u001b[0m\u001b[0mexpparams\u001b[0m\u001b[1;33m)\u001b[0m \u001b[1;31m# This is a vector so this won't work\u001b[0m\u001b[1;33m\u001b[0m\u001b[0m\n\u001b[1;32m--> 478\u001b[1;33m         \u001b[0mw\u001b[0m\u001b[1;33m,\u001b[0m \u001b[0mL\u001b[0m \u001b[1;33m=\u001b[0m \u001b[0mself\u001b[0m\u001b[1;33m.\u001b[0m\u001b[0mhypothetical_update\u001b[0m\u001b[1;33m(\u001b[0m\u001b[0mnp\u001b[0m\u001b[1;33m.\u001b[0m\u001b[0marange\u001b[0m\u001b[1;33m(\u001b[0m\u001b[0mnout\u001b[0m\u001b[1;33m)\u001b[0m\u001b[1;33m,\u001b[0m \u001b[0mexpparams\u001b[0m\u001b[1;33m,\u001b[0m \u001b[0mreturn_likelihood\u001b[0m\u001b[1;33m=\u001b[0m\u001b[0mTrue\u001b[0m\u001b[1;33m)\u001b[0m\u001b[1;33m\u001b[0m\u001b[0m\n\u001b[0m\u001b[0;32m    479\u001b[0m         \u001b[0mw\u001b[0m \u001b[1;33m=\u001b[0m \u001b[0mw\u001b[0m\u001b[1;33m[\u001b[0m\u001b[1;33m:\u001b[0m\u001b[1;33m,\u001b[0m \u001b[1;36m0\u001b[0m\u001b[1;33m,\u001b[0m \u001b[1;33m:\u001b[0m\u001b[1;33m]\u001b[0m \u001b[1;31m# Fix w.shape == (n_outcomes, n_particles).\u001b[0m\u001b[1;33m\u001b[0m\u001b[0m\n\u001b[0;32m    480\u001b[0m         \u001b[0mL\u001b[0m \u001b[1;33m=\u001b[0m \u001b[0mL\u001b[0m\u001b[1;33m[\u001b[0m\u001b[1;33m:\u001b[0m\u001b[1;33m,\u001b[0m \u001b[1;33m:\u001b[0m\u001b[1;33m,\u001b[0m \u001b[1;36m0\u001b[0m\u001b[1;33m]\u001b[0m \u001b[1;31m# Fix L.shape == (n_outcomes, n_particles).\u001b[0m\u001b[1;33m\u001b[0m\u001b[0m\n",
        "\u001b[1;32m/home/thomas/Envs/default/local/lib/python2.7/site-packages/qinfer/smc.pyc\u001b[0m in \u001b[0;36mhypothetical_update\u001b[1;34m(self, outcomes, expparams, return_likelihood, return_normalization)\u001b[0m\n\u001b[0;32m    241\u001b[0m         \u001b[1;31m# This makes the multiplication with weights (shape (models,)) make sense,\u001b[0m\u001b[1;33m\u001b[0m\u001b[1;33m\u001b[0m\u001b[0m\n\u001b[0;32m    242\u001b[0m         \u001b[1;31m# since NumPy broadcasting rules align on the right-most index.\u001b[0m\u001b[1;33m\u001b[0m\u001b[1;33m\u001b[0m\u001b[0m\n\u001b[1;32m--> 243\u001b[1;33m         \u001b[0mL\u001b[0m \u001b[1;33m=\u001b[0m \u001b[0mself\u001b[0m\u001b[1;33m.\u001b[0m\u001b[0mmodel\u001b[0m\u001b[1;33m.\u001b[0m\u001b[0mlikelihood\u001b[0m\u001b[1;33m(\u001b[0m\u001b[0moutcomes\u001b[0m\u001b[1;33m,\u001b[0m \u001b[0mlocs\u001b[0m\u001b[1;33m,\u001b[0m \u001b[0mexpparams\u001b[0m\u001b[1;33m)\u001b[0m\u001b[1;33m.\u001b[0m\u001b[0mtranspose\u001b[0m\u001b[1;33m(\u001b[0m\u001b[1;33m[\u001b[0m\u001b[1;36m0\u001b[0m\u001b[1;33m,\u001b[0m \u001b[1;36m2\u001b[0m\u001b[1;33m,\u001b[0m \u001b[1;36m1\u001b[0m\u001b[1;33m]\u001b[0m\u001b[1;33m)\u001b[0m\u001b[1;33m\u001b[0m\u001b[0m\n\u001b[0m\u001b[0;32m    244\u001b[0m         \u001b[0mhyp_weights\u001b[0m \u001b[1;33m=\u001b[0m \u001b[0mweights\u001b[0m \u001b[1;33m*\u001b[0m \u001b[0mL\u001b[0m\u001b[1;33m\u001b[0m\u001b[0m\n\u001b[0;32m    245\u001b[0m \u001b[1;33m\u001b[0m\u001b[0m\n",
        "\u001b[1;32m/home/thomas/Envs/default/local/lib/python2.7/site-packages/qinfer/derived_models.pyc\u001b[0m in \u001b[0;36mlikelihood\u001b[1;34m(self, outcomes, modelparams, expparams)\u001b[0m\n\u001b[0;32m    249\u001b[0m         return np.concatenate([\n\u001b[0;32m    250\u001b[0m             \u001b[0mbinomial_pdf\u001b[0m\u001b[1;33m(\u001b[0m\u001b[0mexpparams\u001b[0m\u001b[1;33m[\u001b[0m\u001b[1;34m'n_meas'\u001b[0m\u001b[1;33m]\u001b[0m\u001b[1;33m[\u001b[0m\u001b[0mnp\u001b[0m\u001b[1;33m.\u001b[0m\u001b[0mnewaxis\u001b[0m\u001b[1;33m,\u001b[0m \u001b[1;33m:\u001b[0m\u001b[1;33m]\u001b[0m\u001b[1;33m,\u001b[0m \u001b[0moutcomes\u001b[0m\u001b[1;33m[\u001b[0m\u001b[0midx\u001b[0m\u001b[1;33m]\u001b[0m\u001b[1;33m,\u001b[0m \u001b[0mpr1\u001b[0m\u001b[1;33m)\u001b[0m\u001b[1;33m\u001b[0m\u001b[0m\n\u001b[1;32m--> 251\u001b[1;33m             \u001b[1;32mfor\u001b[0m \u001b[0midx\u001b[0m \u001b[1;32min\u001b[0m \u001b[0mxrange\u001b[0m\u001b[1;33m(\u001b[0m\u001b[0moutcomes\u001b[0m\u001b[1;33m.\u001b[0m\u001b[0mshape\u001b[0m\u001b[1;33m[\u001b[0m\u001b[1;36m0\u001b[0m\u001b[1;33m]\u001b[0m\u001b[1;33m)\u001b[0m\u001b[1;33m\u001b[0m\u001b[0m\n\u001b[0m\u001b[0;32m    252\u001b[0m             ]) \n\u001b[0;32m    253\u001b[0m \u001b[1;33m\u001b[0m\u001b[0m\n",
        "\u001b[1;32m/home/thomas/Envs/default/local/lib/python2.7/site-packages/qinfer/utils.pyc\u001b[0m in \u001b[0;36mbinomial_pdf\u001b[1;34m(N, n, p)\u001b[0m\n\u001b[0;32m     46\u001b[0m \u001b[1;32mdef\u001b[0m \u001b[0mbinomial_pdf\u001b[0m\u001b[1;33m(\u001b[0m\u001b[0mN\u001b[0m\u001b[1;33m,\u001b[0m\u001b[0mn\u001b[0m\u001b[1;33m,\u001b[0m\u001b[0mp\u001b[0m\u001b[1;33m)\u001b[0m\u001b[1;33m:\u001b[0m\u001b[1;33m\u001b[0m\u001b[0m\n\u001b[0;32m     47\u001b[0m     \u001b[0mlogprob\u001b[0m \u001b[1;33m=\u001b[0m \u001b[0mgammaln\u001b[0m\u001b[1;33m(\u001b[0m\u001b[0mN\u001b[0m\u001b[1;33m+\u001b[0m\u001b[1;36m1\u001b[0m\u001b[1;33m)\u001b[0m\u001b[1;33m-\u001b[0m\u001b[0mgammaln\u001b[0m\u001b[1;33m(\u001b[0m\u001b[0mn\u001b[0m\u001b[1;33m+\u001b[0m\u001b[1;36m1\u001b[0m\u001b[1;33m)\u001b[0m\u001b[1;33m-\u001b[0m \u001b[0mgammaln\u001b[0m\u001b[1;33m(\u001b[0m\u001b[0mN\u001b[0m\u001b[1;33m-\u001b[0m\u001b[0mn\u001b[0m\u001b[1;33m+\u001b[0m\u001b[1;36m1\u001b[0m\u001b[1;33m)\u001b[0m\u001b[0;31m \u001b[0m\u001b[0;31m \u001b[0m\u001b[0;31m\\\u001b[0m\u001b[1;33m\u001b[0m\u001b[0m\n\u001b[1;32m---> 48\u001b[1;33m         \u001b[1;33m+\u001b[0m \u001b[0mn\u001b[0m\u001b[1;33m*\u001b[0m\u001b[0mnp\u001b[0m\u001b[1;33m.\u001b[0m\u001b[0mlog\u001b[0m\u001b[1;33m(\u001b[0m\u001b[0mp\u001b[0m\u001b[1;33m)\u001b[0m\u001b[1;33m+\u001b[0m\u001b[1;33m(\u001b[0m\u001b[0mN\u001b[0m\u001b[1;33m-\u001b[0m\u001b[0mn\u001b[0m\u001b[1;33m)\u001b[0m\u001b[1;33m*\u001b[0m\u001b[0mnp\u001b[0m\u001b[1;33m.\u001b[0m\u001b[0mlog\u001b[0m\u001b[1;33m(\u001b[0m\u001b[1;36m1\u001b[0m\u001b[1;33m-\u001b[0m\u001b[0mp\u001b[0m\u001b[1;33m)\u001b[0m\u001b[1;33m\u001b[0m\u001b[0m\n\u001b[0m\u001b[0;32m     49\u001b[0m     \u001b[1;32mreturn\u001b[0m \u001b[0mnp\u001b[0m\u001b[1;33m.\u001b[0m\u001b[0mexp\u001b[0m\u001b[1;33m(\u001b[0m\u001b[0mlogprob\u001b[0m\u001b[1;33m)\u001b[0m\u001b[1;33m\u001b[0m\u001b[0m\n\u001b[0;32m     50\u001b[0m \u001b[1;33m\u001b[0m\u001b[0m\n",
        "\u001b[1;31mKeyboardInterrupt\u001b[0m: "
       ]
      },
      {
       "metadata": {},
       "output_type": "display_data",
       "png": "[encoded data removed]",
       "text": [
        "<matplotlib.figure.Figure at 0x54238d0>"
       ]
      }
     ],
     "prompt_number": 110
    },
    {
     "cell_type": "code",
     "collapsed": false,
     "input": [
      "# now for experimental model\n",
      "plot_risks_ex(smc.SMCUpdater(neutron_model_ex, 100000, neutron_prior_ex))"
     ],
     "language": "python",
     "metadata": {},
     "outputs": []
    },
    {
     "cell_type": "markdown",
     "metadata": {},
     "source": [
      "We now explore what happens as we do uniform samplings of $\\theta$ across different warm-up intervals."
     ]
    },
    {
     "cell_type": "code",
     "collapsed": false,
     "input": [
      "def do_warmup(n_particles=20000, theta_min=0, theta_max=TWO_PI, n_thetas=21, n_neutrons=10):\n",
      "    updater = smc.SMCUpdater(neutron_model, n_particles, neutron_prior, resample_thresh=0.3)\n",
      "    thetas = np.linspace(theta_min, theta_max, n_thetas)\n",
      "    for theta in thetas:\n",
      "        experiment = np.array([(theta, n_neutrons)], dtype=neutron_model.expparams_dtype)\n",
      "        datum = neutron_model.simulate_experiment(true_modelparams, experiment)\n",
      "        updater.update(datum, experiment)\n",
      "    f_post = plot_risks(updater)\n",
      "    print(*[u\"{:0.3} \u00b1 {:0.3}\\t\".format(mu, sigma) for mu, sigma in zip(updater.est_mean(), np.sqrt(np.diag(updater.est_covariance_mtx())))])\n",
      "    print(*true_modelparams)\n",
      "    return f_post, updater"
     ],
     "language": "python",
     "metadata": {},
     "outputs": []
    },
    {
     "cell_type": "code",
     "collapsed": false,
     "input": [
      "f, updater_warmup = do_warmup(n_thetas=21**2, n_neutrons=100)"
     ],
     "language": "python",
     "metadata": {},
     "outputs": []
    },
    {
     "cell_type": "code",
     "collapsed": false,
     "input": [
      "plot_kernel_smoothed_pdf(updater_warmup, param=2)"
     ],
     "language": "python",
     "metadata": {},
     "outputs": []
    },
    {
     "cell_type": "code",
     "collapsed": false,
     "input": [
      "def do_warmup_ex(n_particles=20000, theta_min=0, theta_max=TWO_PI, n_thetas=21, n_neutrons=10,hum=0.70,hum_std=0.01,temp=293.15,temp_std=0.5):\n",
      "    updater = smc.SMCUpdater(neutron_model_ex, n_particles, neutron_prior_ex, resample_thresh=0.3)\n",
      "    deltas = np.linspace(theta_min, theta_max, n_thetas)\n",
      "    humidities = np.random.normal(hum,hum_std,n_thetas)\n",
      "    temps = np.random.normal(temp,temp_std,n_thetas)\n",
      "    exparams = zip(deltas,temps,humidities)   \n",
      "    for exparam in exparams:\n",
      "        experiment = np.array([(exparam+ (n_neutrons,))], dtype=neutron_model_ex.expparams_dtype)\n",
      "        datum = neutron_model_ex.simulate_experiment(true_modelparams_ex, experiment)\n",
      "        updater.update(datum, experiment)\n",
      "    f_post = plot_risks_ex(updater)\n",
      "    print(*[u\"{:0.3} \u00b1 {:0.3}\\t\".format(mu, sigma) for mu, sigma in zip(updater.est_mean(), np.sqrt(np.diag(updater.est_covariance_mtx())))])\n",
      "    print(*true_modelparams_ex)\n",
      "    return f_post, updater\n"
     ],
     "language": "python",
     "metadata": {},
     "outputs": []
    },
    {
     "cell_type": "code",
     "collapsed": false,
     "input": [
      "def do_warmup_array(model,params,prior,n_particles=20000, theta_min=0, theta_max=TWO_PI, n_thetas=21, n_neutrons=10,hum=0.70,hum_std=0.01,temp=293.15,temp_std=0.5):\n",
      "    updater = smc.SMCUpdater(model, n_particles, prior, resample_thresh=0.3)\n",
      "    deltas = np.linspace(theta_min, theta_max, n_thetas)\n",
      "    humidities = np.random.normal(hum,hum_std,n_thetas)\n",
      "    temps = np.random.normal(temp,temp_std,n_thetas)\n",
      "    exparams = zip(deltas,temps,humidities)   \n",
      "    for exparam in exparams:\n",
      "        experiment = np.array([(exparam+ (n_neutrons,))], dtype=model.expparams_dtype)\n",
      "        datum = model.simulate_experiment(params, experiment)\n",
      "        updater.update(datum, experiment)\n",
      "    f_post = plot_risks_array(updater,ylims=(0,10E-7))\n",
      "    print(*[u\"{:0.3} \u00b1 {:0.3}\\t\".format(mu, sigma) for mu, sigma in zip(updater.est_mean(), np.sqrt(np.diag(updater.est_covariance_mtx())))])\n",
      "    print(*params)\n",
      "    return f_post, updater\n",
      "\n",
      "def make_array_warmup(model,trueparams,priors,num_particle=20000,theta_min=0, theta_max=TWO_PI,\n",
      "               hum=0.70,hum_std=0.01,temp=293.15,temp_std=0.5, n_thetas=100,n_neutrons=10,save_file=None):\n",
      "    fig,axes = subplots(nrows=int(math.ceil((float(len(priors)))/2)),ncols=2,figsize=(8,6))\n",
      "   \n",
      "    fig.tight_layout(pad=3.0,w_pad=3.0,h_pad=3.0)    \n",
      "    for i,x,y in zip(range(0,len(priors)),trueparams,priors):        \n",
      "        subplot(math.ceil((float(len(priors))))/2,2,i)\n",
      "        f = do_warmup_array(model,x,y, num_particle,n_thetas=n_thetas,n_neutrons=n_neutrons)\n",
      "        title(r'$(A={0},b={1},\\phi={2:.3},C={3},\\alpha\\'={4})$'.format(*x[0]))\n",
      "    subplots_adjust(left=0.2,right=2.0,bottom=0.2,top=2.0,wspace=0.3,hspace=0.3)\n",
      "    if save_file is not None:\n",
      "        savefig(save_file)\n",
      "    show()\n",
      "   "
     ],
     "language": "python",
     "metadata": {},
     "outputs": []
    },
    {
     "cell_type": "code",
     "collapsed": false,
     "input": [
      "make_array_warmup(neutron_model_ex,true_modelparams_array,neutron_prior_arr,20000,n_thetas=2**15,n_neutrons=100,save_file=\"risks2.eps\")"
     ],
     "language": "python",
     "metadata": {},
     "outputs": []
    },
    {
     "cell_type": "code",
     "collapsed": false,
     "input": [
      "f_ex, updater_warmup_ex = do_warmup_ex(n_thetas=21**2, n_neutrons=100)"
     ],
     "language": "python",
     "metadata": {},
     "outputs": []
    },
    {
     "cell_type": "code",
     "collapsed": false,
     "input": [
      "plot_kernel_smoothed_pdf(updater_warmup_ex, param=0)"
     ],
     "language": "python",
     "metadata": {},
     "outputs": []
    },
    {
     "cell_type": "markdown",
     "metadata": {},
     "source": [
      "We see that exploring settings of $\\theta$ not yet chosen provides significant benefits in risk reduction.\n",
      "\n",
      "Note also that the second case, $\\theta \\in [\\pi/2, 3\\pi/2]$, reliably gives much better phase information than the other two case"
     ]
    },
    {
     "cell_type": "code",
     "collapsed": false,
     "input": [
      "figure()\n",
      "do_warmup(theta_min=0, theta_max=np.pi, n_neutrons=100);\n",
      "figure()\n",
      "do_warmup(theta_min=(np.pi/2), theta_max=(1.5*np.pi), n_neutrons=100);\n",
      "figure()\n",
      "do_warmup(theta_min=(np.pi), theta_max=(2*np.pi), n_neutrons=100);"
     ],
     "language": "python",
     "metadata": {},
     "outputs": []
    },
    {
     "cell_type": "code",
     "collapsed": false,
     "input": [
      "figure()\n",
      "do_warmup_ex(theta_min=0, theta_max=np.pi, n_neutrons=100);\n",
      "figure()\n",
      "do_warmup_ex(theta_min=(np.pi/2), theta_max=(1.5*np.pi), n_neutrons=100);\n",
      "figure()\n",
      "do_warmup_ex(theta_min=(np.pi), theta_max=(2*np.pi), n_neutrons=100);"
     ],
     "language": "python",
     "metadata": {},
     "outputs": []
    },
    {
     "cell_type": "code",
     "collapsed": false,
     "input": [
      "def do_adaptive(n_particles=100000, warmup_thetas=(), n_thetas=11, n_guesses=3, n_neutrons=10, n_warmup_neutrons=10, quiet=False):\n",
      "    updater = smc.SMCUpdater(neutron_model, n_particles, neutron_prior, resampler=resamplers.LiuWestResampler(a=0.98), resample_thresh=0.5)\n",
      "    designer = expdesign.ExperimentDesigner(updater)\n",
      "    \n",
      "    best_thetas = []\n",
      "    error_hist = []\n",
      "    \n",
      "    def objective(theta):\n",
      "        return updater.bayes_risk(                                  \n",
      "            np.array([(theta, 1)], dtype=neutron_model.expparams_dtype)\n",
      "        )\n",
      "    \n",
      "    def perform(theta, n):\n",
      "        experiment = np.array([(theta, n)], dtype=neutron_model.expparams_dtype)\n",
      "        datum = neutron_model.simulate_experiment(true_modelparams, experiment)\n",
      "        updater.update(datum, experiment)\n",
      "        mu = updater.est_mean()\n",
      "        loss = np.dot(updater.model.Q, (true_modelparams[0, :] - mu)**2)\n",
      "        error = np.abs(mu[2] - true_modelparams[0, 2])\n",
      "        error_hist.append(error)\n",
      "        if not quiet:\n",
      "            print(\"Loss: {:.2e}\\tError: {:.2e}\\tStd dev: {:.2e}\\tResample: {}\".format(loss, error, np.sqrt(updater.est_covariance_mtx()[2,2]), updater.resample_count))\n",
      "        \n",
      "    [perform(theta, n_warmup_neutrons) for theta in warmup_thetas]\n",
      "    \n",
      "    for idx_theta in xrange(n_thetas):\n",
      "        \n",
      "        best_theta = None\n",
      "        best_risk  = None\n",
      "        \n",
      "        est_phi = updater.est_mean()[2]\n",
      "        \n",
      "        for idx_guess in xrange(n_guesses):\n",
      "            idx_particle = np.argmax(np.ceil(np.cumsum(updater.particle_weights) - np.random.random()))\n",
      "            idx_pi = np.random.randint(1, 5) # If this is zero, we pick a random theta [0, 2 * pi].\n",
      "            guess = (\n",
      "                idx_pi * np.pi / 2 - updater.particle_locations[idx_particle, 2, np.newaxis] / updater.particle_locations[idx_particle, 3, np.newaxis]\n",
      "            ) # if idx_pi != 0 else TWO_PI * random.random((1,))\n",
      "            result = minimize(objective, guess, bounds=[(0, 2 * np.pi)], method='TNC', options={'maxiter': 2})\n",
      "            \n",
      "            if best_risk is None or result.fun < best_risk:\n",
      "                best_theta = result.x\n",
      "                best_risk = result.fun\n",
      "        \n",
      "        if not quiet:\n",
      "            print(u\"Chose theta = {}.\".format(best_theta), end='\\t')\n",
      "            \n",
      "        best_thetas.append(best_theta)\n",
      "        perform(best_theta, n_neutrons)\n",
      "        \n",
      "    f_post = plot_risks(updater)\n",
      "    print(*[u\"{:0.3} \u00b1 {:0.3}\\t\".format(mu, sigma) for mu, sigma in zip(updater.est_mean(), np.sqrt(np.diag(updater.est_covariance_mtx())))])\n",
      "    print(*true_modelparams)\n",
      "    return f_post, error_hist, updater, best_thetas"
     ],
     "language": "python",
     "metadata": {},
     "outputs": [],
     "prompt_number": 123
    },
    {
     "cell_type": "code",
     "collapsed": false,
     "input": [
      "warmup_thetas = np.linspace(0, np.pi/10, 19)"
     ],
     "language": "python",
     "metadata": {},
     "outputs": []
    },
    {
     "cell_type": "code",
     "collapsed": false,
     "input": [
      "f_post, this_error_hist, updater_adaptive, best_thetas = do_adaptive(n_thetas=200, n_guesses=5, warmup_thetas=warmup_thetas, n_neutrons=40, n_warmup_neutrons=100, quiet=False)"
     ],
     "language": "python",
     "metadata": {},
     "outputs": []
    },
    {
     "cell_type": "code",
     "collapsed": false,
     "input": [
      "#plot_kernel_smoothed_pdf(updater_adaptive)"
     ],
     "language": "python",
     "metadata": {},
     "outputs": []
    },
    {
     "cell_type": "code",
     "collapsed": false,
     "input": [
      "def do_adaptive_ex(n_particles=100000, warmup_exparams=(), n_thetas=11, n_guesses=3, n_neutrons=10, n_warmup_neutrons=10, quiet=False):\n",
      "    updater = smc.SMCUpdater(neutron_model_ex, n_particles, neutron_prior_ex, resampler=resamplers.LiuWestResampler(a=0.98), resample_thresh=0.5)\n",
      "    designer = expdesign.ExperimentDesigner(updater)\n",
      "    \n",
      "    best_thetas = []\n",
      "    error_hist = []\n",
      "    \n",
      "    def objective(theta):\n",
      "        \n",
      "        return updater.bayes_risk(                                  \n",
      "            np.array([tuple(theta)+(1,)], dtype=neutron_model_ex.expparams_dtype)\n",
      "        )\n",
      "    \n",
      "    def perform(exparam, n):        \n",
      "        experiment = np.array([tuple(exparam)+ (n,)], dtype=neutron_model_ex.expparams_dtype)        \n",
      "        datum = neutron_model_ex.simulate_experiment(true_modelparams_ex, experiment)\n",
      "        updater.update(datum, experiment)\n",
      "        mu = updater.est_mean()\n",
      "        loss = np.dot(updater.model.Q, (true_modelparams_ex[0, :] - mu)**2)\n",
      "        error = np.abs(mu[2] - true_modelparams_ex[0, 2])\n",
      "        error_hist.append(error)\n",
      "        if not quiet:\n",
      "            print(\"Loss: {:.2e}\\tError: {:.2e}\\tStd dev: {:.2e}\\tResample: {}\".format(loss, error, np.sqrt(updater.est_covariance_mtx()[2,2]), updater.resample_count))\n",
      "        \n",
      "    [perform(exparam, n_warmup_neutrons) for exparam in warmup_exparams]\n",
      "    \n",
      "    for idx_theta in xrange(n_thetas):\n",
      "        \n",
      "        best_theta = None\n",
      "        best_risk  = None\n",
      "        \n",
      "        est_phi = updater.est_mean()[2]\n",
      "        \n",
      "        for idx_guess in xrange(n_guesses):\n",
      "            idx_particle = np.argmax(np.ceil(np.cumsum(updater.particle_weights) - np.random.random()))\n",
      "            idx_pi = np.random.randint(1, 5) # If this is zero, we pick a random theta [0, 2 * pi].\n",
      "            guess = (\n",
      "                idx_pi * np.pi / 2 - updater.particle_locations[idx_particle, 2, np.newaxis] / updater.particle_locations[idx_particle, 3, np.newaxis]\n",
      "            ) # if idx_pi != 0 else TWO_PI * random.random((1,))\n",
      "            result = minimize(objective, (guess,293.15,0.70), bounds=[(0, 2 * np.pi),(270.,310.),(0.,1.)], method='TNC', options={'maxiter': 2})\n",
      "            \n",
      "            if best_risk is None or result.fun < best_risk:\n",
      "                best_theta = result.x\n",
      "                best_risk = result.fun\n",
      "        \n",
      "        if not quiet:\n",
      "            print(u\"Chose theta = {}.\".format(best_theta), end='\\t')\n",
      "            \n",
      "        best_thetas.append(best_theta)\n",
      "        perform(best_theta, n_neutrons)\n",
      "        \n",
      "    f_post = plot_risks_ex(updater)\n",
      "    print(*[u\"{:0.3} \u00b1 {:0.3}\\t\".format(mu, sigma) for mu, sigma in zip(updater.est_mean(), np.sqrt(np.diag(updater.est_covariance_mtx())))])\n",
      "    print(*true_modelparams)\n",
      "    return f_post, error_hist, updater, best_thetas"
     ],
     "language": "python",
     "metadata": {},
     "outputs": [],
     "prompt_number": 114
    },
    {
     "cell_type": "code",
     "collapsed": false,
     "input": [
      "def do_adaptive_ex_array(n_particles=100000, warmup_exparams=(),trueparams=(), n_thetas=11, n_guesses=3, n_neutrons=10, n_warmup_neutrons=10, quiet=False):\n",
      "    updater = smc.SMCUpdater(neutron_model_ex, n_particles, neutron_prior_ex, resampler=resamplers.LiuWestResampler(a=0.98), resample_thresh=0.5)\n",
      "    designer = expdesign.ExperimentDesigner(updater)\n",
      "    \n",
      "    best_thetas = []\n",
      "    error_hist = []\n",
      "    \n",
      "    def objective(theta):\n",
      "        \n",
      "        return updater.bayes_risk(                                  \n",
      "            np.array([tuple(theta)+(1,)], dtype=neutron_model_ex.expparams_dtype)\n",
      "        )\n",
      "    \n",
      "    def perform(exparam, n):        \n",
      "        experiment = np.array([tuple(exparam)+ (n,)], dtype=neutron_model_ex.expparams_dtype)        \n",
      "        datum = neutron_model_ex.simulate_experiment(trueparams, experiment)\n",
      "        updater.update(datum, experiment)\n",
      "        mu = updater.est_mean()\n",
      "        loss = np.dot(updater.model.Q, (trueparams[0, :] - mu)**2)\n",
      "        error = np.abs(mu[2] - trueparams[0, 2])\n",
      "        error_hist.append(error)\n",
      "        if not quiet:\n",
      "            print(\"Loss: {:.2e}\\tError: {:.2e}\\tStd dev: {:.2e}\\tResample: {}\".format(loss, error, np.sqrt(updater.est_covariance_mtx()[2,2]), updater.resample_count))\n",
      "        \n",
      "    [perform(exparam, n_warmup_neutrons) for exparam in warmup_exparams]\n",
      "    \n",
      "    for idx_theta in xrange(n_thetas):\n",
      "        \n",
      "        best_theta = None\n",
      "        best_risk  = None\n",
      "        \n",
      "        est_phi = updater.est_mean()[2]\n",
      "        \n",
      "        for idx_guess in xrange(n_guesses):\n",
      "            idx_particle = np.argmax(np.ceil(np.cumsum(updater.particle_weights) - np.random.random()))\n",
      "            idx_pi = np.random.randint(1, 5) # If this is zero, we pick a random theta [0, 2 * pi].\n",
      "            guess = (\n",
      "                idx_pi * np.pi / 2 - updater.particle_locations[idx_particle, 2, np.newaxis] / updater.particle_locations[idx_particle, 3, np.newaxis]\n",
      "            ) # if idx_pi != 0 else TWO_PI * random.random((1,))\n",
      "            result = minimize(objective, (guess,293.15,0.70), bounds=[(0, 2 * np.pi),(270.,310.),(0.,1.)], method='TNC', options={'maxiter': 2})\n",
      "            \n",
      "            if best_risk is None or result.fun < best_risk:\n",
      "                best_theta = result.x\n",
      "                best_risk = result.fun\n",
      "        \n",
      "        if not quiet:\n",
      "            print(u\"Chose theta = {}.\".format(best_theta), end='\\t')\n",
      "            \n",
      "        best_thetas.append(best_theta)\n",
      "        perform(best_theta, n_neutrons)\n",
      "        \n",
      "    f_post = plot_risks_ex(updater)\n",
      "    print(*[u\"{:0.3} \u00b1 {:0.3}\\t\".format(mu, sigma) for mu, sigma in zip(updater.est_mean(), np.sqrt(np.diag(updater.est_covariance_mtx())))])\n",
      "    print(*true_modelparams)\n",
      "    return (f_post, error_hist, updater, best_thetas)\n",
      "\n",
      "def make_array_adaptive(trueparams,warmup_params,num_particle=20000,n_thetas=200,n_guesses=5,n_neutrons=40,n_warmup_neutrons=100,quiet=False,save_file=None):\n",
      "    fig,axes = subplots(nrows=int(math.ceil((float(len(trueparams)))/2)),ncols=2,figsize=(8,6))\n",
      "   \n",
      "    fig.tight_layout(pad=3.0,w_pad=3.0,h_pad=3.0) \n",
      "    toreturn = []\n",
      "    for i,x in zip(range(1,len(trueparams)+1),trueparams):        \n",
      "        subplot(math.ceil((float(len(trueparams))))/2,2,i)\n",
      "        toreturn.append( do_adaptive_ex_array(num_particle,warmup_params,x,n_thetas=200,\n",
      "                                               n_guesses=n_guesses,n_neutrons=n_neutrons,\n",
      "                                               n_warmup_neutrons=n_warmup_neutrons,quiet=quiet))\n",
      "        title(r'$(A={0:.3f},b={1:.3f},\\phi={2:.3f},C={3:.3f},\\alpha\\'={4:.3f}$'.format(*x[0]))\n",
      "    subplots_adjust(left=0.2,right=2.0,bottom=0.2,top=2.0,wspace=0.3,hspace=0.3)\n",
      "    if save_file is not None:\n",
      "        savefig(save_file)\n",
      "    show()\n",
      "    return toreturn"
     ],
     "language": "python",
     "metadata": {},
     "outputs": [],
     "prompt_number": 113
    },
    {
     "cell_type": "code",
     "collapsed": false,
     "input": [
      "warmup_thetas = np.linspace(0, np.pi/10, 10)\n",
      "warmup_temps = np.random.normal(293.15,0.5,10)\n",
      "warmup_humids = np.random.normal(0.7,0.01,10)\n",
      "exparams = zip(warmup_thetas,warmup_temps,warmup_humids)"
     ],
     "language": "python",
     "metadata": {},
     "outputs": [],
     "prompt_number": 134
    },
    {
     "cell_type": "code",
     "collapsed": false,
     "input": [
      "#f_post, this_error_hist, updater_adaptive, best_thetas = do_adaptive_ex(n_thetas=200, n_guesses=5, warmup_exparams=exparams, n_neutrons=100, n_warmup_neutrons=100, quiet=False)"
     ],
     "language": "python",
     "metadata": {},
     "outputs": []
    },
    {
     "cell_type": "code",
     "collapsed": false,
     "input": [
      "\n",
      "theta_range = np.arange(1,20,1,dtype=int)\n",
      "times = []\n",
      "for x in theta_range:  \n",
      "    print(\"x iiiiiiiiiiiiiiiiiiiiiiis {}\".format(x))\n",
      "    fun = lambda : do_adaptive_ex(n_thetas=x, n_guesses=5, warmup_exparams=exparams, n_neutrons=100, n_warmup_neutrons=100, quiet=False)\n",
      "    t = timeit.timeit(fun, number=2)\n",
      "    times.append(t)"
     ],
     "language": "python",
     "metadata": {},
     "outputs": [
      {
       "output_type": "stream",
       "stream": "stdout",
       "text": [
        "x iiiiiiiiiiiiiiiiiiiiiiis 1\n",
        "Loss: 1.65e-02\tError: 1.28e-01\tStd dev: 1.33e-01\tResample: 1"
       ]
      },
      {
       "output_type": "stream",
       "stream": "stdout",
       "text": [
        "\n",
        "Loss: 1.38e-03\tError: 3.72e-02\tStd dev: 7.90e-02\tResample: 1\n",
        "Loss: 4.22e-06\tError: 1.99e-03\tStd dev: 5.45e-02\tResample: 2"
       ]
      },
      {
       "output_type": "stream",
       "stream": "stdout",
       "text": [
        "\n",
        "Loss: 4.91e-04\tError: 2.22e-02\tStd dev: 4.03e-02\tResample: 2\n",
        "Loss: 1.41e-04\tError: 1.18e-02\tStd dev: 4.16e-02\tResample: 2"
       ]
      },
      {
       "output_type": "stream",
       "stream": "stdout",
       "text": [
        "\n",
        "Loss: 1.85e-04\tError: 1.35e-02\tStd dev: 3.89e-02\tResample: 2\n",
        "Loss: 1.82e-05\tError: 3.39e-03\tStd dev: 4.11e-02\tResample: 2"
       ]
      },
      {
       "output_type": "stream",
       "stream": "stdout",
       "text": [
        "\n",
        "Loss: 1.07e-05\tError: 8.97e-04\tStd dev: 4.01e-02\tResample: 2\n",
        "Loss: 7.87e-05\tError: 7.39e-03\tStd dev: 3.73e-02\tResample: 3"
       ]
      },
      {
       "output_type": "stream",
       "stream": "stdout",
       "text": [
        "\n",
        "Loss: 9.81e-05\tError: 8.60e-03\tStd dev: 3.60e-02\tResample: 3\n",
        "Loss: 6.15e-05\tError: 6.21e-03\tStd dev: 3.50e-02\tResample: 3"
       ]
      },
      {
       "output_type": "stream",
       "stream": "stdout",
       "text": [
        "\n",
        "Loss: 2.98e-04\tError: 1.67e-02\tStd dev: 3.20e-02\tResample: 3\n",
        "Loss: 1.25e-04\tError: 1.04e-02\tStd dev: 3.20e-02\tResample: 3"
       ]
      },
      {
       "output_type": "stream",
       "stream": "stdout",
       "text": [
        "\n",
        "Loss: 5.73e-05\tError: 5.41e-03\tStd dev: 3.26e-02\tResample: 3\n",
        "Loss: 5.79e-05\tError: 5.45e-03\tStd dev: 3.19e-02\tResample: 3"
       ]
      },
      {
       "output_type": "stream",
       "stream": "stdout",
       "text": [
        "\n",
        "Loss: 7.88e-05\tError: 6.71e-03\tStd dev: 3.17e-02\tResample: 3\n",
        "Loss: 4.55e-05\tError: 3.79e-03\tStd dev: 3.12e-02\tResample: 3"
       ]
      },
      {
       "output_type": "stream",
       "stream": "stdout",
       "text": [
        "\n",
        "Loss: 3.82e-05\tError: 2.39e-03\tStd dev: 3.04e-02\tResample: 3\n",
        "Loss: 3.58e-05\tError: 2.37e-03\tStd dev: 2.94e-02\tResample: 3"
       ]
      },
      {
       "output_type": "stream",
       "stream": "stdout",
       "text": [
        "\n",
        "Loss: 4.66e-05\tError: 3.97e-03\tStd dev: 2.87e-02\tResample: 3\n",
        "Loss: 5.78e-05\tError: 5.27e-03\tStd dev: 2.80e-02\tResample: 3"
       ]
      },
      {
       "output_type": "stream",
       "stream": "stdout",
       "text": [
        "\n",
        "Loss: 5.96e-05\tError: 5.42e-03\tStd dev: 2.76e-02\tResample: 3\n",
        "Loss: 9.95e-05\tError: 8.68e-03\tStd dev: 2.71e-02\tResample: 3"
       ]
      },
      {
       "output_type": "stream",
       "stream": "stdout",
       "text": [
        "\n",
        "Loss: 1.22e-04\tError: 9.67e-03\tStd dev: 2.71e-02\tResample: 3\n",
        "Loss: 1.68e-04\tError: 1.15e-02\tStd dev: 2.68e-02\tResample: 3"
       ]
      },
      {
       "output_type": "stream",
       "stream": "stdout",
       "text": [
        "\n",
        "Loss: 1.16e-04\tError: 8.92e-03\tStd dev: 2.67e-02\tResample: 3\n",
        "Loss: 1.32e-04\tError: 9.70e-03\tStd dev: 2.64e-02\tResample: 3"
       ]
      },
      {
       "output_type": "stream",
       "stream": "stdout",
       "text": [
        "\n",
        "Loss: 1.00e-04\tError: 7.81e-03\tStd dev: 2.62e-02\tResample: 3\n",
        "Loss: 1.04e-04\tError: 8.03e-03\tStd dev: 2.60e-02\tResample: 3"
       ]
      },
      {
       "output_type": "stream",
       "stream": "stdout",
       "text": [
        "\n",
        "Loss: 1.86e-04\tError: 1.23e-02\tStd dev: 2.56e-02\tResample: 3\n",
        "Loss: 1.81e-04\tError: 1.21e-02\tStd dev: 2.55e-02\tResample: 3"
       ]
      },
      {
       "output_type": "stream",
       "stream": "stdout",
       "text": [
        "\n",
        "Loss: 1.77e-04\tError: 1.23e-02\tStd dev: 2.56e-02\tResample: 3\n",
        "Loss: 1.74e-04\tError: 1.21e-02\tStd dev: 2.55e-02\tResample: 3"
       ]
      },
      {
       "output_type": "stream",
       "stream": "stdout",
       "text": [
        "\n",
        "Loss: 2.22e-04\tError: 1.38e-02\tStd dev: 2.53e-02\tResample: 3\n",
        "Loss: 2.59e-04\tError: 1.51e-02\tStd dev: 2.51e-02\tResample: 3"
       ]
      },
      {
       "output_type": "stream",
       "stream": "stdout",
       "text": [
        "\n",
        "Loss: 2.76e-04\tError: 1.56e-02\tStd dev: 2.49e-02\tResample: 3\n",
        "Loss: 2.98e-04\tError: 1.63e-02\tStd dev: 2.48e-02\tResample: 3"
       ]
      },
      {
       "output_type": "stream",
       "stream": "stdout",
       "text": [
        "\n",
        "Loss: 2.24e-04\tError: 1.41e-02\tStd dev: 2.51e-02\tResample: 3\n",
        "Loss: 2.15e-04\tError: 1.37e-02\tStd dev: 2.52e-02\tResample: 3"
       ]
      },
      {
       "output_type": "stream",
       "stream": "stdout",
       "text": [
        "\n",
        "Loss: 2.16e-04\tError: 1.37e-02\tStd dev: 2.52e-02\tResample: 3\n",
        "Chose theta = [   2.63509157  310.            0.70359482]."
       ]
      },
      {
       "output_type": "stream",
       "stream": "stdout",
       "text": [
        "\tLoss: 6.93e-05\tError: 6.10e-03\tStd dev: 2.52e-02\tResample: 3\n",
        "0.903 \u00b1 0.0052\t"
       ]
      },
      {
       "output_type": "stream",
       "stream": "stdout",
       "text": [
        " -0.00484 \u00b1 0.00359\t 0.0783 \u00b1 0.0252\t 22.0 \u00b1 0.00529\t -1.02 \u00b1 0.00575\t\n",
        "[ 0.9        0.         0.0844303  1.02     ]\n",
        "Loss: 4.10e-02\tError: 2.02e-01\tStd dev: 1.57e-01\tResample: 1"
       ]
      },
      {
       "output_type": "stream",
       "stream": "stdout",
       "text": [
        "\n",
        "Loss: 5.47e-03\tError: 7.39e-02\tStd dev: 9.36e-02\tResample: 1\n",
        "Loss: 1.17e-02\tError: 1.08e-01\tStd dev: 7.98e-02\tResample: 1"
       ]
      },
      {
       "output_type": "stream",
       "stream": "stdout",
       "text": [
        "\n",
        "Loss: 6.79e-03\tError: 8.24e-02\tStd dev: 6.50e-02\tResample: 2"
       ]
      },
      {
       "output_type": "stream",
       "stream": "stdout",
       "text": [
        "\n",
        "Loss: 3.15e-03\tError: 5.61e-02\tStd dev: 5.53e-02\tResample: 2\n",
        "Loss: 7.88e-03\tError: 8.88e-02\tStd dev: 5.16e-02\tResample: 2"
       ]
      },
      {
       "output_type": "stream",
       "stream": "stdout",
       "text": [
        "\n",
        "Loss: 1.16e-02\tError: 1.08e-01\tStd dev: 4.86e-02\tResample: 2\n",
        "Loss: 1.03e-02\tError: 1.01e-01\tStd dev: 4.90e-02\tResample: 2"
       ]
      },
      {
       "output_type": "stream",
       "stream": "stdout",
       "text": [
        "\n",
        "Loss: 9.97e-03\tError: 9.98e-02\tStd dev: 4.76e-02\tResample: 2\n",
        "Loss: 9.14e-03\tError: 9.55e-02\tStd dev: 4.48e-02\tResample: 2"
       ]
      },
      {
       "output_type": "stream",
       "stream": "stdout",
       "text": [
        "\n",
        "Loss: 5.76e-03\tError: 7.58e-02\tStd dev: 4.19e-02\tResample: 2\n",
        "Loss: 5.00e-03\tError: 7.07e-02\tStd dev: 3.94e-02\tResample: 2"
       ]
      },
      {
       "output_type": "stream",
       "stream": "stdout",
       "text": [
        "\n",
        "Loss: 6.53e-03\tError: 8.08e-02\tStd dev: 3.74e-02\tResample: 2\n",
        "Loss: 5.04e-03\tError: 7.09e-02\tStd dev: 3.58e-02\tResample: 2"
       ]
      },
      {
       "output_type": "stream",
       "stream": "stdout",
       "text": [
        "\n",
        "Loss: 3.61e-03\tError: 5.99e-02\tStd dev: 3.48e-02\tResample: 2\n",
        "Loss: 3.73e-03\tError: 6.09e-02\tStd dev: 3.46e-02\tResample: 2"
       ]
      },
      {
       "output_type": "stream",
       "stream": "stdout",
       "text": [
        "\n",
        "Loss: 4.11e-03\tError: 6.39e-02\tStd dev: 3.43e-02\tResample: 2\n",
        "Loss: 3.45e-03\tError: 5.86e-02\tStd dev: 3.33e-02\tResample: 3"
       ]
      },
      {
       "output_type": "stream",
       "stream": "stdout",
       "text": [
        "\n",
        "Loss: 2.99e-03\tError: 5.45e-02\tStd dev: 3.22e-02\tResample: 3\n",
        "Loss: 3.40e-03\tError: 5.81e-02\tStd dev: 3.13e-02\tResample: 3"
       ]
      },
      {
       "output_type": "stream",
       "stream": "stdout",
       "text": [
        "\n",
        "Loss: 3.65e-03\tError: 6.02e-02\tStd dev: 3.05e-02\tResample: 3\n",
        "Loss: 2.53e-03\tError: 5.00e-02\tStd dev: 2.97e-02\tResample: 3"
       ]
      },
      {
       "output_type": "stream",
       "stream": "stdout",
       "text": [
        "\n",
        "Loss: 1.89e-03\tError: 4.32e-02\tStd dev: 2.93e-02\tResample: 3\n",
        "Loss: 1.90e-03\tError: 4.33e-02\tStd dev: 2.93e-02\tResample: 3"
       ]
      },
      {
       "output_type": "stream",
       "stream": "stdout",
       "text": [
        "\n",
        "Loss: 1.28e-03\tError: 3.53e-02\tStd dev: 2.87e-02\tResample: 3\n",
        "Loss: 1.06e-03\tError: 3.20e-02\tStd dev: 2.82e-02\tResample: 4"
       ]
      },
      {
       "output_type": "stream",
       "stream": "stdout",
       "text": [
        "\n",
        "Loss: 6.50e-04\tError: 2.45e-02\tStd dev: 2.74e-02\tResample: 4\n",
        "Loss: 3.73e-04\tError: 1.79e-02\tStd dev: 2.67e-02\tResample: 4"
       ]
      },
      {
       "output_type": "stream",
       "stream": "stdout",
       "text": [
        "\n",
        "Loss: 3.04e-04\tError: 1.58e-02\tStd dev: 2.62e-02\tResample: 4\n",
        "Loss: 5.75e-04\tError: 2.28e-02\tStd dev: 2.63e-02\tResample: 4"
       ]
      },
      {
       "output_type": "stream",
       "stream": "stdout",
       "text": [
        "\n",
        "Loss: 7.02e-04\tError: 2.55e-02\tStd dev: 2.64e-02\tResample: 4\n",
        "Loss: 6.99e-04\tError: 2.56e-02\tStd dev: 2.65e-02\tResample: 4"
       ]
      },
      {
       "output_type": "stream",
       "stream": "stdout",
       "text": [
        "\n",
        "Loss: 7.71e-04\tError: 2.70e-02\tStd dev: 2.65e-02\tResample: 4\n",
        "Loss: 5.28e-04\tError: 2.17e-02\tStd dev: 2.58e-02\tResample: 4"
       ]
      },
      {
       "output_type": "stream",
       "stream": "stdout",
       "text": [
        "\n",
        "Loss: 6.52e-04\tError: 2.44e-02\tStd dev: 2.59e-02\tResample: 4\n",
        "Loss: 7.78e-04\tError: 2.70e-02\tStd dev: 2.60e-02\tResample: 4"
       ]
      },
      {
       "output_type": "stream",
       "stream": "stdout",
       "text": [
        "\n",
        "Loss: 7.14e-04\tError: 2.58e-02\tStd dev: 2.58e-02\tResample: 4\n",
        "Loss: 8.46e-04\tError: 2.84e-02\tStd dev: 2.61e-02\tResample: 4"
       ]
      },
      {
       "output_type": "stream",
       "stream": "stdout",
       "text": [
        "\n",
        "Loss: 7.74e-04\tError: 2.71e-02\tStd dev: 2.59e-02\tResample: 4\n",
        "Loss: 8.11e-04\tError: 2.76e-02\tStd dev: 2.61e-02\tResample: 4"
       ]
      },
      {
       "output_type": "stream",
       "stream": "stdout",
       "text": [
        "\n",
        "Chose theta = [   2.7987216   295.08734119    0.70052124]."
       ]
      },
      {
       "output_type": "stream",
       "stream": "stdout",
       "text": [
        "\tLoss: 7.42e-04\tError: 2.63e-02\tStd dev: 2.57e-02\tResample: 4\n",
        "0.899 \u00b1 0.00532\t"
       ]
      },
      {
       "output_type": "stream",
       "stream": "stdout",
       "text": [
        " -0.00623 \u00b1 0.00318\t 0.111 \u00b1 0.0257\t 22.0 \u00b1 0.00496\t -1.02 \u00b1 0.00583\t\n",
        "[ 0.9        0.         0.0844303  1.02     ]\n",
        "x iiiiiiiiiiiiiiiiiiiiiiis 2\n",
        "Loss: 4.12e-02\tError: 2.03e-01\tStd dev: 1.57e-01\tResample: 1"
       ]
      },
      {
       "output_type": "stream",
       "stream": "stdout",
       "text": [
        "\n",
        "Loss: 2.29e-04\tError: 1.49e-02\tStd dev: 6.89e-02\tResample: 2"
       ]
      },
      {
       "output_type": "stream",
       "stream": "stdout",
       "text": [
        "\n",
        "Loss: 9.34e-04\tError: 3.05e-02\tStd dev: 3.86e-02\tResample: 2\n",
        "Loss: 3.85e-04\tError: 1.96e-02\tStd dev: 4.14e-02\tResample: 2"
       ]
      },
      {
       "output_type": "stream",
       "stream": "stdout",
       "text": [
        "\n",
        "Loss: 1.57e-04\tError: 1.25e-02\tStd dev: 4.15e-02\tResample: 2\n",
        "Loss: 3.93e-04\tError: 1.98e-02\tStd dev: 3.68e-02\tResample: 2"
       ]
      },
      {
       "output_type": "stream",
       "stream": "stdout",
       "text": [
        "\n",
        "Loss: 1.25e-03\tError: 3.54e-02\tStd dev: 2.93e-02\tResample: 3"
       ]
      },
      {
       "output_type": "stream",
       "stream": "stdout",
       "text": [
        "\n",
        "Loss: 1.08e-03\tError: 3.28e-02\tStd dev: 2.99e-02\tResample: 3\n",
        "Loss: 1.05e-03\tError: 3.24e-02\tStd dev: 3.00e-02\tResample: 3"
       ]
      },
      {
       "output_type": "stream",
       "stream": "stdout",
       "text": [
        "\n",
        "Loss: 1.35e-03\tError: 3.67e-02\tStd dev: 2.78e-02\tResample: 3\n",
        "Loss: 1.22e-03\tError: 3.48e-02\tStd dev: 2.77e-02\tResample: 3"
       ]
      },
      {
       "output_type": "stream",
       "stream": "stdout",
       "text": [
        "\n",
        "Loss: 1.29e-03\tError: 3.58e-02\tStd dev: 2.67e-02\tResample: 3\n",
        "Loss: 1.13e-03\tError: 3.35e-02\tStd dev: 2.67e-02\tResample: 3"
       ]
      },
      {
       "output_type": "stream",
       "stream": "stdout",
       "text": [
        "\n",
        "Loss: 1.34e-03\tError: 3.65e-02\tStd dev: 2.53e-02\tResample: 3\n",
        "Loss: 1.40e-03\tError: 3.73e-02\tStd dev: 2.47e-02\tResample: 3"
       ]
      },
      {
       "output_type": "stream",
       "stream": "stdout",
       "text": [
        "\n",
        "Loss: 1.39e-03\tError: 3.72e-02\tStd dev: 2.47e-02\tResample: 3\n",
        "Loss: 1.45e-03\tError: 3.79e-02\tStd dev: 2.43e-02\tResample: 3"
       ]
      },
      {
       "output_type": "stream",
       "stream": "stdout",
       "text": [
        "\n",
        "Loss: 1.49e-03\tError: 3.85e-02\tStd dev: 2.39e-02\tResample: 3\n",
        "Loss: 9.30e-04\tError: 3.04e-02\tStd dev: 2.54e-02\tResample: 3"
       ]
      },
      {
       "output_type": "stream",
       "stream": "stdout",
       "text": [
        "\n",
        "Loss: 5.48e-04\tError: 2.32e-02\tStd dev: 2.62e-02\tResample: 3\n",
        "Loss: 4.92e-04\tError: 2.20e-02\tStd dev: 2.60e-02\tResample: 3"
       ]
      },
      {
       "output_type": "stream",
       "stream": "stdout",
       "text": [
        "\n",
        "Loss: 6.06e-04\tError: 2.45e-02\tStd dev: 2.53e-02\tResample: 3\n",
        "Loss: 4.26e-04\tError: 2.05e-02\tStd dev: 2.56e-02\tResample: 3"
       ]
      },
      {
       "output_type": "stream",
       "stream": "stdout",
       "text": [
        "\n",
        "Loss: 4.43e-04\tError: 2.10e-02\tStd dev: 2.56e-02\tResample: 3\n",
        "Loss: 5.39e-04\tError: 2.32e-02\tStd dev: 2.52e-02\tResample: 3"
       ]
      },
      {
       "output_type": "stream",
       "stream": "stdout",
       "text": [
        "\n",
        "Loss: 5.81e-04\tError: 2.41e-02\tStd dev: 2.48e-02\tResample: 3\n",
        "Loss: 5.18e-04\tError: 2.27e-02\tStd dev: 2.48e-02\tResample: 3"
       ]
      },
      {
       "output_type": "stream",
       "stream": "stdout",
       "text": [
        "\n",
        "Loss: 5.10e-04\tError: 2.25e-02\tStd dev: 2.46e-02\tResample: 3\n",
        "Loss: 6.49e-04\tError: 2.55e-02\tStd dev: 2.41e-02\tResample: 3"
       ]
      },
      {
       "output_type": "stream",
       "stream": "stdout",
       "text": [
        "\n",
        "Loss: 5.46e-04\tError: 2.33e-02\tStd dev: 2.42e-02\tResample: 3\n",
        "Loss: 4.28e-04\tError: 2.06e-02\tStd dev: 2.43e-02\tResample: 4"
       ]
      },
      {
       "output_type": "stream",
       "stream": "stdout",
       "text": [
        "\n",
        "Loss: 4.31e-04\tError: 2.05e-02\tStd dev: 2.43e-02\tResample: 4\n",
        "Loss: 3.75e-04\tError: 1.91e-02\tStd dev: 2.44e-02\tResample: 4"
       ]
      },
      {
       "output_type": "stream",
       "stream": "stdout",
       "text": [
        "\n",
        "Loss: 4.12e-04\tError: 2.00e-02\tStd dev: 2.42e-02\tResample: 4\n",
        "Loss: 3.99e-04\tError: 1.97e-02\tStd dev: 2.42e-02\tResample: 4"
       ]
      },
      {
       "output_type": "stream",
       "stream": "stdout",
       "text": [
        "\n",
        "Loss: 2.43e-04\tError: 1.49e-02\tStd dev: 2.41e-02\tResample: 4\n",
        "Loss: 2.33e-04\tError: 1.45e-02\tStd dev: 2.41e-02\tResample: 4"
       ]
      },
      {
       "output_type": "stream",
       "stream": "stdout",
       "text": [
        "\n",
        "Loss: 2.90e-04\tError: 1.65e-02\tStd dev: 2.41e-02\tResample: 4\n",
        "Loss: 3.41e-04\tError: 1.82e-02\tStd dev: 2.42e-02\tResample: 4"
       ]
      },
      {
       "output_type": "stream",
       "stream": "stdout",
       "text": [
        "\n",
        "Loss: 3.39e-04\tError: 1.82e-02\tStd dev: 2.42e-02\tResample: 4\n",
        "Chose theta = [   3.13955595  293.15          0.7       ]."
       ]
      },
      {
       "output_type": "stream",
       "stream": "stdout",
       "text": [
        "\tLoss: 3.39e-04\tError: 1.82e-02\tStd dev: 2.42e-02\tResample: 4\n",
        "Chose theta = [   3.13767764  293.15          0.7       ]."
       ]
      },
      {
       "output_type": "stream",
       "stream": "stdout",
       "text": [
        "\tLoss: 3.32e-04\tError: 1.79e-02\tStd dev: 2.41e-02\tResample: 4\n",
        "0.901 \u00b1 0.00542\t"
       ]
      },
      {
       "output_type": "stream",
       "stream": "stdout",
       "text": [
        " 0.000659 \u00b1 0.0042\t 0.0665 \u00b1 0.0241\t 22.0 \u00b1 0.00498\t -1.02 \u00b1 0.00581\t\n",
        "[ 0.9        0.         0.0844303  1.02     ]\n",
        "Loss: 6.27e-02\tError: 2.50e-01\tStd dev: 1.64e-01\tResample: 1"
       ]
      },
      {
       "output_type": "stream",
       "stream": "stdout",
       "text": [
        "\n",
        "Loss: 4.74e-03\tError: 6.88e-02\tStd dev: 9.23e-02\tResample: 2"
       ]
      },
      {
       "output_type": "stream",
       "stream": "stdout",
       "text": [
        "\n",
        "Loss: 3.89e-04\tError: 1.96e-02\tStd dev: 6.32e-02\tResample: 2\n",
        "Loss: 2.59e-03\tError: 5.09e-02\tStd dev: 6.26e-02\tResample: 2"
       ]
      },
      {
       "output_type": "stream",
       "stream": "stdout",
       "text": [
        "\n",
        "Loss: 1.10e-03\tError: 3.32e-02\tStd dev: 5.33e-02\tResample: 2\n",
        "Loss: 1.06e-03\tError: 3.26e-02\tStd dev: 4.89e-02\tResample: 2"
       ]
      },
      {
       "output_type": "stream",
       "stream": "stdout",
       "text": [
        "\n",
        "Loss: 5.21e-04\tError: 2.28e-02\tStd dev: 4.50e-02\tResample: 2\n",
        "Loss: 5.34e-04\tError: 2.31e-02\tStd dev: 4.45e-02\tResample: 2"
       ]
      },
      {
       "output_type": "stream",
       "stream": "stdout",
       "text": [
        "\n",
        "Loss: 5.46e-04\tError: 2.34e-02\tStd dev: 4.40e-02\tResample: 2\n",
        "Loss: 2.77e-04\tError: 1.66e-02\tStd dev: 4.11e-02\tResample: 3"
       ]
      },
      {
       "output_type": "stream",
       "stream": "stdout",
       "text": [
        "\n",
        "Loss: 1.87e-05\tError: 4.26e-03\tStd dev: 3.75e-02\tResample: 3\n",
        "Loss: 1.17e-03\tError: 3.42e-02\tStd dev: 3.83e-02\tResample: 3"
       ]
      },
      {
       "output_type": "stream",
       "stream": "stdout",
       "text": [
        "\n",
        "Loss: 5.67e-04\tError: 2.37e-02\tStd dev: 3.58e-02\tResample: 3\n",
        "Loss: 3.86e-04\tError: 1.95e-02\tStd dev: 3.43e-02\tResample: 3"
       ]
      },
      {
       "output_type": "stream",
       "stream": "stdout",
       "text": [
        "\n",
        "Loss: 7.84e-04\tError: 2.80e-02\tStd dev: 3.39e-02\tResample: 3\n",
        "Loss: 5.22e-04\tError: 2.28e-02\tStd dev: 3.43e-02\tResample: 3"
       ]
      },
      {
       "output_type": "stream",
       "stream": "stdout",
       "text": [
        "\n",
        "Loss: 3.93e-04\tError: 1.97e-02\tStd dev: 3.36e-02\tResample: 3\n",
        "Loss: 6.95e-04\tError: 2.62e-02\tStd dev: 3.31e-02\tResample: 3"
       ]
      },
      {
       "output_type": "stream",
       "stream": "stdout",
       "text": [
        "\n",
        "Loss: 8.32e-04\tError: 2.87e-02\tStd dev: 3.22e-02\tResample: 3\n",
        "Loss: 5.00e-04\tError: 2.22e-02\tStd dev: 3.11e-02\tResample: 3"
       ]
      },
      {
       "output_type": "stream",
       "stream": "stdout",
       "text": [
        "\n",
        "Loss: 2.29e-04\tError: 1.48e-02\tStd dev: 3.00e-02\tResample: 3\n",
        "Loss: 2.62e-04\tError: 1.59e-02\tStd dev: 2.95e-02\tResample: 3"
       ]
      },
      {
       "output_type": "stream",
       "stream": "stdout",
       "text": [
        "\n",
        "Loss: 1.57e-04\tError: 1.19e-02\tStd dev: 2.91e-02\tResample: 3\n",
        "Loss: 1.69e-04\tError: 1.23e-02\tStd dev: 2.91e-02\tResample: 3"
       ]
      },
      {
       "output_type": "stream",
       "stream": "stdout",
       "text": [
        "\n",
        "Loss: 4.55e-05\tError: 6.18e-03\tStd dev: 2.83e-02\tResample: 3\n",
        "Loss: 3.04e-05\tError: 4.69e-03\tStd dev: 2.79e-02\tResample: 3"
       ]
      },
      {
       "output_type": "stream",
       "stream": "stdout",
       "text": [
        "\n",
        "Loss: 5.15e-05\tError: 6.54e-03\tStd dev: 2.76e-02\tResample: 3\n",
        "Loss: 1.16e-04\tError: 1.05e-02\tStd dev: 2.76e-02\tResample: 3"
       ]
      },
      {
       "output_type": "stream",
       "stream": "stdout",
       "text": [
        "\n",
        "Loss: 2.55e-04\tError: 1.57e-02\tStd dev: 2.75e-02\tResample: 3\n",
        "Loss: 3.82e-04\tError: 1.94e-02\tStd dev: 2.74e-02\tResample: 3"
       ]
      },
      {
       "output_type": "stream",
       "stream": "stdout",
       "text": [
        "\n",
        "Loss: 3.78e-04\tError: 1.93e-02\tStd dev: 2.73e-02\tResample: 3\n",
        "Loss: 3.68e-04\tError: 1.91e-02\tStd dev: 2.73e-02\tResample: 3"
       ]
      },
      {
       "output_type": "stream",
       "stream": "stdout",
       "text": [
        "\n",
        "Loss: 2.69e-04\tError: 1.62e-02\tStd dev: 2.70e-02\tResample: 3\n",
        "Loss: 1.30e-04\tError: 1.12e-02\tStd dev: 2.66e-02\tResample: 3"
       ]
      },
      {
       "output_type": "stream",
       "stream": "stdout",
       "text": [
        "\n",
        "Loss: 1.87e-04\tError: 1.36e-02\tStd dev: 2.67e-02\tResample: 3\n",
        "Loss: 2.31e-04\tError: 1.51e-02\tStd dev: 2.67e-02\tResample: 3"
       ]
      },
      {
       "output_type": "stream",
       "stream": "stdout",
       "text": [
        "\n",
        "Loss: 2.44e-04\tError: 1.55e-02\tStd dev: 2.67e-02\tResample: 3\n",
        "Loss: 2.36e-04\tError: 1.53e-02\tStd dev: 2.67e-02\tResample: 3"
       ]
      },
      {
       "output_type": "stream",
       "stream": "stdout",
       "text": [
        "\n",
        "Loss: 2.16e-04\tError: 1.45e-02\tStd dev: 2.66e-02\tResample: 4"
       ]
      },
      {
       "output_type": "stream",
       "stream": "stdout",
       "text": [
        "\n",
        "Loss: 2.16e-04\tError: 1.46e-02\tStd dev: 2.67e-02\tResample: 4\n",
        "Chose theta = [   1.56751221  293.15          0.7       ]."
       ]
      },
      {
       "output_type": "stream",
       "stream": "stdout",
       "text": [
        "\tLoss: 2.08e-04\tError: 1.43e-02\tStd dev: 2.66e-02\tResample: 4\n",
        "Chose theta = [   1.56558087  293.15          0.7       ]."
       ]
      },
      {
       "output_type": "stream",
       "stream": "stdout",
       "text": [
        "\tLoss: 2.08e-04\tError: 1.43e-02\tStd dev: 2.66e-02\tResample: 4\n",
        "0.9 \u00b1 0.00535\t"
       ]
      },
      {
       "output_type": "stream",
       "stream": "stdout",
       "text": [
        " 0.00147 \u00b1 0.00413\t 0.0988 \u00b1 0.0266\t 22.0 \u00b1 0.0054\t -1.02 \u00b1 0.00579\t\n",
        "[ 0.9        0.         0.0844303  1.02     ]\n",
        "x iiiiiiiiiiiiiiiiiiiiiiis 3\n",
        "Loss: 2.64e-02\tError: 1.62e-01\tStd dev: 1.46e-01\tResample: 1"
       ]
      },
      {
       "output_type": "stream",
       "stream": "stdout",
       "text": [
        "\n",
        "Loss: 2.11e-03\tError: 4.60e-02\tStd dev: 8.38e-02\tResample: 1\n",
        "Loss: 3.00e-04\tError: 1.73e-02\tStd dev: 4.62e-02\tResample: 2"
       ]
      },
      {
       "output_type": "stream",
       "stream": "stdout",
       "text": [
        "\n",
        "Loss: 4.01e-04\tError: 2.00e-02\tStd dev: 4.16e-02\tResample: 2\n",
        "Loss: 3.38e-05\tError: 5.79e-03\tStd dev: 4.40e-02\tResample: 2"
       ]
      },
      {
       "output_type": "stream",
       "stream": "stdout",
       "text": [
        "\n",
        "Loss: 4.20e-06\tError: 1.99e-03\tStd dev: 4.24e-02\tResample: 2\n",
        "Loss: 7.17e-05\tError: 8.38e-03\tStd dev: 4.26e-02\tResample: 2"
       ]
      },
      {
       "output_type": "stream",
       "stream": "stdout",
       "text": [
        "\n",
        "Loss: 3.81e-05\tError: 6.01e-03\tStd dev: 4.18e-02\tResample: 2\n",
        "Loss: 1.60e-05\tError: 1.92e-03\tStd dev: 3.93e-02\tResample: 2"
       ]
      },
      {
       "output_type": "stream",
       "stream": "stdout",
       "text": [
        "\n",
        "Loss: 2.29e-05\tError: 3.24e-03\tStd dev: 3.77e-02\tResample: 2\n",
        "Loss: 2.91e-05\tError: 4.08e-03\tStd dev: 3.60e-02\tResample: 2"
       ]
      },
      {
       "output_type": "stream",
       "stream": "stdout",
       "text": [
        "\n",
        "Loss: 1.44e-05\tError: 7.80e-04\tStd dev: 3.48e-02\tResample: 3"
       ]
      },
      {
       "output_type": "stream",
       "stream": "stdout",
       "text": [
        "\n",
        "Loss: 3.82e-05\tError: 5.07e-03\tStd dev: 3.41e-02\tResample: 3\n",
        "Loss: 2.26e-05\tError: 3.78e-03\tStd dev: 3.21e-02\tResample: 3"
       ]
      },
      {
       "output_type": "stream",
       "stream": "stdout",
       "text": [
        "\n",
        "Loss: 1.33e-05\tError: 2.54e-03\tStd dev: 3.20e-02\tResample: 3\n",
        "Loss: 2.93e-06\tError: 3.38e-04\tStd dev: 3.18e-02\tResample: 3"
       ]
      },
      {
       "output_type": "stream",
       "stream": "stdout",
       "text": [
        "\n",
        "Loss: 4.61e-06\tError: 1.27e-03\tStd dev: 3.17e-02\tResample: 3\n",
        "Loss: 4.96e-05\tError: 6.92e-03\tStd dev: 3.14e-02\tResample: 3"
       ]
      },
      {
       "output_type": "stream",
       "stream": "stdout",
       "text": [
        "\n",
        "Loss: 3.23e-04\tError: 1.79e-02\tStd dev: 3.11e-02\tResample: 3\n",
        "Loss: 2.05e-04\tError: 1.42e-02\tStd dev: 3.02e-02\tResample: 3"
       ]
      },
      {
       "output_type": "stream",
       "stream": "stdout",
       "text": [
        "\n",
        "Loss: 1.81e-04\tError: 1.33e-02\tStd dev: 2.95e-02\tResample: 3\n",
        "Loss: 8.79e-05\tError: 9.12e-03\tStd dev: 2.87e-02\tResample: 3"
       ]
      },
      {
       "output_type": "stream",
       "stream": "stdout",
       "text": [
        "\n",
        "Loss: 2.10e-05\tError: 4.44e-03\tStd dev: 2.82e-02\tResample: 3\n",
        "Loss: 2.17e-05\tError: 4.53e-03\tStd dev: 2.82e-02\tResample: 3"
       ]
      },
      {
       "output_type": "stream",
       "stream": "stdout",
       "text": [
        "\n",
        "Loss: 2.88e-05\tError: 5.30e-03\tStd dev: 2.81e-02\tResample: 3\n",
        "Loss: 2.05e-05\tError: 4.46e-03\tStd dev: 2.77e-02\tResample: 3"
       ]
      },
      {
       "output_type": "stream",
       "stream": "stdout",
       "text": [
        "\n",
        "Loss: 6.70e-05\tError: 8.14e-03\tStd dev: 2.75e-02\tResample: 3\n",
        "Loss: 6.18e-06\tError: 2.47e-03\tStd dev: 2.70e-02\tResample: 4"
       ]
      },
      {
       "output_type": "stream",
       "stream": "stdout",
       "text": [
        "\n",
        "Loss: 1.48e-05\tError: 3.81e-03\tStd dev: 2.68e-02\tResample: 4\n",
        "Loss: 4.20e-06\tError: 1.17e-03\tStd dev: 2.64e-02\tResample: 4"
       ]
      },
      {
       "output_type": "stream",
       "stream": "stdout",
       "text": [
        "\n",
        "Loss: 1.98e-05\tError: 4.03e-03\tStd dev: 2.61e-02\tResample: 4\n",
        "Loss: 2.85e-05\tError: 4.07e-03\tStd dev: 2.63e-02\tResample: 4"
       ]
      },
      {
       "output_type": "stream",
       "stream": "stdout",
       "text": [
        "\n",
        "Loss: 3.85e-05\tError: 5.02e-03\tStd dev: 2.61e-02\tResample: 4\n",
        "Loss: 4.38e-05\tError: 5.52e-03\tStd dev: 2.60e-02\tResample: 4"
       ]
      },
      {
       "output_type": "stream",
       "stream": "stdout",
       "text": [
        "\n",
        "Loss: 1.32e-05\tError: 2.16e-03\tStd dev: 2.62e-02\tResample: 4\n",
        "Loss: 1.24e-05\tError: 1.47e-03\tStd dev: 2.63e-02\tResample: 4"
       ]
      },
      {
       "output_type": "stream",
       "stream": "stdout",
       "text": [
        "\n",
        "Loss: 1.42e-05\tError: 2.12e-03\tStd dev: 2.63e-02\tResample: 4\n",
        "Loss: 2.74e-05\tError: 3.85e-03\tStd dev: 2.63e-02\tResample: 4"
       ]
      },
      {
       "output_type": "stream",
       "stream": "stdout",
       "text": [
        "\n",
        "Loss: 3.29e-05\tError: 4.89e-03\tStd dev: 2.61e-02\tResample: 4\n",
        "Loss: 3.22e-05\tError: 4.77e-03\tStd dev: 2.61e-02\tResample: 4"
       ]
      },
      {
       "output_type": "stream",
       "stream": "stdout",
       "text": [
        "\n",
        "Chose theta = [   4.70938659  293.15          0.7       ]."
       ]
      },
      {
       "output_type": "stream",
       "stream": "stdout",
       "text": [
        "\tLoss: 3.48e-05\tError: 4.86e-03\tStd dev: 2.62e-02\tResample: 4\n",
        "Chose theta = [   1.56861348  293.15          0.7       ]."
       ]
      },
      {
       "output_type": "stream",
       "stream": "stdout",
       "text": [
        "\tLoss: 3.32e-05\tError: 4.76e-03\tStd dev: 2.61e-02\tResample: 4\n",
        "Chose theta = [   1.56477179  293.15          0.7       ]."
       ]
      },
      {
       "output_type": "stream",
       "stream": "stdout",
       "text": [
        "\tLoss: 3.38e-05\tError: 4.65e-03\tStd dev: 2.62e-02\tResample: 4\n",
        "0.899 \u00b1 0.00532\t"
       ]
      },
      {
       "output_type": "stream",
       "stream": "stdout",
       "text": [
        " 0.00259 \u00b1 0.00391\t 0.0891 \u00b1 0.0262\t 22.0 \u00b1 0.00524\t -1.02 \u00b1 0.0058\t\n",
        "[ 0.9        0.         0.0844303  1.02     ]\n",
        "Loss: 6.29e-03\tError: 7.93e-02\tStd dev: 1.12e-01\tResample: 1"
       ]
      },
      {
       "output_type": "stream",
       "stream": "stdout",
       "text": [
        "\n",
        "Loss: 2.50e-06\tError: 1.10e-03\tStd dev: 6.21e-02\tResample: 1\n",
        "Loss: 2.86e-04\tError: 1.69e-02\tStd dev: 4.61e-02\tResample: 2"
       ]
      },
      {
       "output_type": "stream",
       "stream": "stdout",
       "text": [
        "\n",
        "Loss: 7.96e-04\tError: 2.82e-02\tStd dev: 3.77e-02\tResample: 2\n",
        "Loss: 6.77e-04\tError: 2.60e-02\tStd dev: 3.66e-02\tResample: 2"
       ]
      },
      {
       "output_type": "stream",
       "stream": "stdout",
       "text": [
        "\n",
        "Loss: 1.07e-04\tError: 1.02e-02\tStd dev: 4.02e-02\tResample: 2\n",
        "Loss: 1.56e-05\tError: 3.52e-03\tStd dev: 4.03e-02\tResample: 2"
       ]
      },
      {
       "output_type": "stream",
       "stream": "stdout",
       "text": [
        "\n",
        "Loss: 1.42e-05\tError: 3.29e-03\tStd dev: 3.98e-02\tResample: 2\n",
        "Loss: 6.80e-06\tError: 1.51e-03\tStd dev: 4.09e-02\tResample: 2"
       ]
      },
      {
       "output_type": "stream",
       "stream": "stdout",
       "text": [
        "\n",
        "Loss: 3.77e-05\tError: 5.55e-03\tStd dev: 3.81e-02\tResample: 2\n",
        "Loss: 1.44e-05\tError: 2.57e-03\tStd dev: 3.71e-02\tResample: 2"
       ]
      },
      {
       "output_type": "stream",
       "stream": "stdout",
       "text": [
        "\n",
        "Loss: 7.47e-06\tError: 4.57e-04\tStd dev: 3.58e-02\tResample: 2\n",
        "Loss: 4.77e-04\tError: 2.18e-02\tStd dev: 3.09e-02\tResample: 2"
       ]
      },
      {
       "output_type": "stream",
       "stream": "stdout",
       "text": [
        "\n",
        "Loss: 6.35e-04\tError: 2.51e-02\tStd dev: 2.94e-02\tResample: 2\n",
        "Loss: 8.88e-04\tError: 2.98e-02\tStd dev: 2.78e-02\tResample: 2"
       ]
      },
      {
       "output_type": "stream",
       "stream": "stdout",
       "text": [
        "\n",
        "Loss: 1.18e-03\tError: 3.42e-02\tStd dev: 2.67e-02\tResample: 2\n",
        "Loss: 1.16e-03\tError: 3.39e-02\tStd dev: 2.67e-02\tResample: 2"
       ]
      },
      {
       "output_type": "stream",
       "stream": "stdout",
       "text": [
        "\n",
        "Loss: 1.22e-03\tError: 3.48e-02\tStd dev: 2.61e-02\tResample: 2\n",
        "Loss: 9.22e-04\tError: 3.03e-02\tStd dev: 2.67e-02\tResample: 2"
       ]
      },
      {
       "output_type": "stream",
       "stream": "stdout",
       "text": [
        "\n",
        "Loss: 9.08e-04\tError: 3.00e-02\tStd dev: 2.63e-02\tResample: 2\n",
        "Loss: 8.64e-04\tError: 2.93e-02\tStd dev: 2.60e-02\tResample: 2"
       ]
      },
      {
       "output_type": "stream",
       "stream": "stdout",
       "text": [
        "\n",
        "Loss: 7.96e-04\tError: 2.81e-02\tStd dev: 2.59e-02\tResample: 2\n",
        "Loss: 4.51e-04\tError: 2.12e-02\tStd dev: 2.68e-02\tResample: 2"
       ]
      },
      {
       "output_type": "stream",
       "stream": "stdout",
       "text": [
        "\n",
        "Loss: 4.20e-04\tError: 2.04e-02\tStd dev: 2.68e-02\tResample: 2\n",
        "Loss: 4.33e-04\tError: 2.07e-02\tStd dev: 2.67e-02\tResample: 2"
       ]
      },
      {
       "output_type": "stream",
       "stream": "stdout",
       "text": [
        "\n",
        "Loss: 3.39e-04\tError: 1.83e-02\tStd dev: 2.67e-02\tResample: 2\n",
        "Loss: 4.89e-04\tError: 2.21e-02\tStd dev: 2.60e-02\tResample: 2"
       ]
      },
      {
       "output_type": "stream",
       "stream": "stdout",
       "text": [
        "\n",
        "Loss: 4.11e-04\tError: 2.02e-02\tStd dev: 2.60e-02\tResample: 2\n",
        "Loss: 4.01e-04\tError: 2.00e-02\tStd dev: 2.59e-02\tResample: 2"
       ]
      },
      {
       "output_type": "stream",
       "stream": "stdout",
       "text": [
        "\n",
        "Loss: 3.67e-04\tError: 1.91e-02\tStd dev: 2.58e-02\tResample: 2\n",
        "Loss: 3.26e-04\tError: 1.79e-02\tStd dev: 2.59e-02\tResample: 2"
       ]
      },
      {
       "output_type": "stream",
       "stream": "stdout",
       "text": [
        "\n",
        "Loss: 3.26e-04\tError: 1.79e-02\tStd dev: 2.59e-02\tResample: 2\n",
        "Loss: 2.63e-04\tError: 1.61e-02\tStd dev: 2.58e-02\tResample: 3"
       ]
      },
      {
       "output_type": "stream",
       "stream": "stdout",
       "text": [
        "\n",
        "Loss: 3.17e-04\tError: 1.77e-02\tStd dev: 2.56e-02\tResample: 3\n",
        "Loss: 2.84e-04\tError: 1.67e-02\tStd dev: 2.56e-02\tResample: 3"
       ]
      },
      {
       "output_type": "stream",
       "stream": "stdout",
       "text": [
        "\n",
        "Loss: 2.96e-04\tError: 1.71e-02\tStd dev: 2.56e-02\tResample: 3\n",
        "Loss: 2.76e-04\tError: 1.64e-02\tStd dev: 2.56e-02\tResample: 3"
       ]
      },
      {
       "output_type": "stream",
       "stream": "stdout",
       "text": [
        "\n",
        "Loss: 2.50e-04\tError: 1.56e-02\tStd dev: 2.55e-02\tResample: 3\n",
        "Loss: 2.83e-04\tError: 1.67e-02\tStd dev: 2.56e-02\tResample: 3"
       ]
      },
      {
       "output_type": "stream",
       "stream": "stdout",
       "text": [
        "\n",
        "Loss: 2.96e-04\tError: 1.70e-02\tStd dev: 2.56e-02\tResample: 3\n",
        "Chose theta = [   1.56757767  293.15          0.7       ]."
       ]
      },
      {
       "output_type": "stream",
       "stream": "stdout",
       "text": [
        "\tLoss: 3.03e-04\tError: 1.70e-02\tStd dev: 2.57e-02\tResample: 3\n",
        "Chose theta = [   1.56949996  293.15          0.7       ]."
       ]
      },
      {
       "output_type": "stream",
       "stream": "stdout",
       "text": [
        "\tLoss: 3.20e-04\tError: 1.76e-02\tStd dev: 2.55e-02\tResample: 3\n",
        "Chose theta = [   1.56914957  293.15          0.7       ]."
       ]
      },
      {
       "output_type": "stream",
       "stream": "stdout",
       "text": [
        "\tLoss: 3.25e-04\tError: 1.78e-02\tStd dev: 2.55e-02\tResample: 3\n",
        "0.901 \u00b1 0.00537\t"
       ]
      },
      {
       "output_type": "stream",
       "stream": "stdout",
       "text": [
        " 0.00164 \u00b1 0.00409\t 0.0666 \u00b1 0.0255\t 22.0 \u00b1 0.00524\t -1.02 \u00b1 0.00577\t\n",
        "[ 0.9        0.         0.0844303  1.02     ]\n",
        "x iiiiiiiiiiiiiiiiiiiiiiis 4\n",
        "Loss: 1.04e-02\tError: 1.02e-01\tStd dev: 1.22e-01\tResample: 1"
       ]
      },
      {
       "output_type": "stream",
       "stream": "stdout",
       "text": [
        "\n",
        "Loss: 8.62e-03\tError: 9.28e-02\tStd dev: 9.36e-02\tResample: 1\n",
        "Loss: 4.02e-05\tError: 5.73e-03\tStd dev: 5.76e-02\tResample: 1"
       ]
      },
      {
       "output_type": "stream",
       "stream": "stdout",
       "text": [
        "\n",
        "Loss: 4.84e-04\tError: 2.18e-02\tStd dev: 5.63e-02\tResample: 1\n",
        "Loss: 3.54e-03\tError: 5.94e-02\tStd dev: 5.53e-02\tResample: 1"
       ]
      },
      {
       "output_type": "stream",
       "stream": "stdout",
       "text": [
        "\n",
        "Loss: 6.24e-04\tError: 2.49e-02\tStd dev: 4.75e-02\tResample: 1\n",
        "Loss: 9.45e-04\tError: 3.07e-02\tStd dev: 4.55e-02\tResample: 1"
       ]
      },
      {
       "output_type": "stream",
       "stream": "stdout",
       "text": [
        "\n",
        "Loss: 1.33e-03\tError: 3.63e-02\tStd dev: 4.49e-02\tResample: 2"
       ]
      },
      {
       "output_type": "stream",
       "stream": "stdout",
       "text": [
        "\n",
        "Loss: 1.30e-03\tError: 3.60e-02\tStd dev: 4.43e-02\tResample: 2\n",
        "Loss: 8.39e-04\tError: 2.88e-02\tStd dev: 4.18e-02\tResample: 2"
       ]
      },
      {
       "output_type": "stream",
       "stream": "stdout",
       "text": [
        "\n",
        "Loss: 3.06e-04\tError: 1.73e-02\tStd dev: 3.91e-02\tResample: 2\n",
        "Loss: 7.70e-04\tError: 2.77e-02\tStd dev: 3.76e-02\tResample: 2"
       ]
      },
      {
       "output_type": "stream",
       "stream": "stdout",
       "text": [
        "\n",
        "Loss: 3.12e-04\tError: 1.76e-02\tStd dev: 3.56e-02\tResample: 2\n",
        "Loss: 5.63e-04\tError: 2.37e-02\tStd dev: 3.45e-02\tResample: 2"
       ]
      },
      {
       "output_type": "stream",
       "stream": "stdout",
       "text": [
        "\n",
        "Loss: 5.84e-04\tError: 2.41e-02\tStd dev: 3.37e-02\tResample: 2\n",
        "Loss: 3.81e-04\tError: 1.94e-02\tStd dev: 3.38e-02\tResample: 2"
       ]
      },
      {
       "output_type": "stream",
       "stream": "stdout",
       "text": [
        "\n",
        "Loss: 5.18e-04\tError: 2.27e-02\tStd dev: 3.37e-02\tResample: 2\n",
        "Loss: 2.76e-04\tError: 1.66e-02\tStd dev: 3.27e-02\tResample: 2"
       ]
      },
      {
       "output_type": "stream",
       "stream": "stdout",
       "text": [
        "\n",
        "Loss: 1.29e-04\tError: 1.12e-02\tStd dev: 3.15e-02\tResample: 2\n",
        "Loss: 2.82e-05\tError: 5.05e-03\tStd dev: 3.04e-02\tResample: 2"
       ]
      },
      {
       "output_type": "stream",
       "stream": "stdout",
       "text": [
        "\n",
        "Loss: 3.66e-04\tError: 1.91e-02\tStd dev: 3.03e-02\tResample: 2\n",
        "Loss: 3.50e-04\tError: 1.87e-02\tStd dev: 2.97e-02\tResample: 2"
       ]
      },
      {
       "output_type": "stream",
       "stream": "stdout",
       "text": [
        "\n",
        "Loss: 6.89e-05\tError: 7.96e-03\tStd dev: 2.90e-02\tResample: 2\n",
        "Loss: 1.01e-04\tError: 9.43e-03\tStd dev: 2.89e-02\tResample: 2"
       ]
      },
      {
       "output_type": "stream",
       "stream": "stdout",
       "text": [
        "\n",
        "Loss: 4.56e-05\tError: 6.06e-03\tStd dev: 2.85e-02\tResample: 2\n",
        "Loss: 3.26e-05\tError: 4.72e-03\tStd dev: 2.82e-02\tResample: 3"
       ]
      },
      {
       "output_type": "stream",
       "stream": "stdout",
       "text": [
        "\n",
        "Loss: 5.43e-05\tError: 6.60e-03\tStd dev: 2.79e-02\tResample: 3\n",
        "Loss: 3.56e-05\tError: 4.82e-03\tStd dev: 2.75e-02\tResample: 3"
       ]
      },
      {
       "output_type": "stream",
       "stream": "stdout",
       "text": [
        "\n",
        "Loss: 1.21e-05\tError: 4.46e-04\tStd dev: 2.69e-02\tResample: 3\n",
        "Loss: 1.86e-05\tError: 1.80e-03\tStd dev: 2.65e-02\tResample: 3"
       ]
      },
      {
       "output_type": "stream",
       "stream": "stdout",
       "text": [
        "\n",
        "Loss: 1.78e-05\tError: 1.37e-03\tStd dev: 2.64e-02\tResample: 3\n",
        "Loss: 1.32e-05\tError: 1.26e-03\tStd dev: 2.64e-02\tResample: 3"
       ]
      },
      {
       "output_type": "stream",
       "stream": "stdout",
       "text": [
        "\n",
        "Loss: 1.89e-05\tError: 2.09e-03\tStd dev: 2.62e-02\tResample: 3\n",
        "Loss: 2.07e-05\tError: 2.38e-03\tStd dev: 2.61e-02\tResample: 3"
       ]
      },
      {
       "output_type": "stream",
       "stream": "stdout",
       "text": [
        "\n",
        "Loss: 9.47e-06\tError: 1.05e-03\tStd dev: 2.64e-02\tResample: 3\n",
        "Loss: 1.62e-05\tError: 2.96e-03\tStd dev: 2.66e-02\tResample: 3"
       ]
      },
      {
       "output_type": "stream",
       "stream": "stdout",
       "text": [
        "\n",
        "Loss: 1.24e-05\tError: 1.73e-03\tStd dev: 2.64e-02\tResample: 3\n",
        "Loss: 1.04e-05\tError: 9.89e-04\tStd dev: 2.62e-02\tResample: 3"
       ]
      },
      {
       "output_type": "stream",
       "stream": "stdout",
       "text": [
        "\n",
        "Loss: 1.09e-05\tError: 1.54e-03\tStd dev: 2.64e-02\tResample: 3\n",
        "Loss: 1.95e-05\tError: 1.46e-03\tStd dev: 2.63e-02\tResample: 3"
       ]
      },
      {
       "output_type": "stream",
       "stream": "stdout",
       "text": [
        "\n",
        "Chose theta = [   3.1366046  293.15         0.7      ]."
       ]
      },
      {
       "output_type": "stream",
       "stream": "stdout",
       "text": [
        "\tLoss: 2.23e-05\tError: 1.58e-03\tStd dev: 2.62e-02\tResample: 3\n",
        "Chose theta = [   1.56499621  293.15          0.7       ]."
       ]
      },
      {
       "output_type": "stream",
       "stream": "stdout",
       "text": [
        "\tLoss: 2.19e-05\tError: 1.17e-03\tStd dev: 2.63e-02\tResample: 3\n",
        "Chose theta = [   3.35518786  270.            0.66420524]."
       ]
      },
      {
       "output_type": "stream",
       "stream": "stdout",
       "text": [
        "\tLoss: 2.13e-05\tError: 9.49e-04\tStd dev: 2.61e-02\tResample: 3\n",
        "Chose theta = [   1.56723559  293.15          0.7       ]."
       ]
      },
      {
       "output_type": "stream",
       "stream": "stdout",
       "text": [
        "\tLoss: 2.11e-05\tError: 9.37e-04\tStd dev: 2.60e-02\tResample: 3\n",
        "0.903 \u00b1 0.00513\t"
       ]
      },
      {
       "output_type": "stream",
       "stream": "stdout",
       "text": [
        " 0.00278 \u00b1 0.00398\t 0.0854 \u00b1 0.026\t 22.0 \u00b1 0.00527\t -1.02 \u00b1 0.00575\t\n",
        "[ 0.9        0.         0.0844303  1.02     ]\n",
        "Loss: 3.68e-03\tError: 6.06e-02\tStd dev: 1.02e-01\tResample: 1"
       ]
      },
      {
       "output_type": "stream",
       "stream": "stdout",
       "text": [
        "\n",
        "Loss: 1.39e-03\tError: 3.72e-02\tStd dev: 7.67e-02\tResample: 1\n",
        "Loss: 2.60e-03\tError: 5.09e-02\tStd dev: 6.85e-02\tResample: 1"
       ]
      },
      {
       "output_type": "stream",
       "stream": "stdout",
       "text": [
        "\n",
        "Loss: 2.29e-03\tError: 4.78e-02\tStd dev: 5.95e-02\tResample: 1\n",
        "Loss: 4.91e-03\tError: 7.00e-02\tStd dev: 5.48e-02\tResample: 1"
       ]
      },
      {
       "output_type": "stream",
       "stream": "stdout",
       "text": [
        "\n",
        "Loss: 1.52e-03\tError: 3.89e-02\tStd dev: 4.81e-02\tResample: 1\n",
        "Loss: 7.24e-05\tError: 8.19e-03\tStd dev: 4.21e-02\tResample: 1"
       ]
      },
      {
       "output_type": "stream",
       "stream": "stdout",
       "text": [
        "\n",
        "Loss: 6.90e-05\tError: 7.97e-03\tStd dev: 4.16e-02\tResample: 1\n",
        "Loss: 1.12e-04\tError: 1.02e-02\tStd dev: 4.17e-02\tResample: 1"
       ]
      },
      {
       "output_type": "stream",
       "stream": "stdout",
       "text": [
        "\n",
        "Loss: 1.00e-04\tError: 9.56e-03\tStd dev: 3.99e-02\tResample: 1\n",
        "Loss: 4.20e-05\tError: 5.82e-03\tStd dev: 3.77e-02\tResample: 1"
       ]
      },
      {
       "output_type": "stream",
       "stream": "stdout",
       "text": [
        "\n",
        "Loss: 3.70e-04\tError: 1.91e-02\tStd dev: 3.68e-02\tResample: 2"
       ]
      },
      {
       "output_type": "stream",
       "stream": "stdout",
       "text": [
        "\n",
        "Loss: 3.86e-05\tError: 5.97e-03\tStd dev: 3.45e-02\tResample: 2\n",
        "Loss: 2.13e-05\tError: 3.87e-03\tStd dev: 3.25e-02\tResample: 2"
       ]
      },
      {
       "output_type": "stream",
       "stream": "stdout",
       "text": [
        "\n",
        "Loss: 7.86e-05\tError: 8.57e-03\tStd dev: 3.14e-02\tResample: 2\n",
        "Loss: 6.00e-05\tError: 7.51e-03\tStd dev: 3.13e-02\tResample: 2"
       ]
      },
      {
       "output_type": "stream",
       "stream": "stdout",
       "text": [
        "\n",
        "Loss: 1.26e-04\tError: 1.09e-02\tStd dev: 3.05e-02\tResample: 2\n",
        "Loss: 1.67e-04\tError: 1.27e-02\tStd dev: 2.96e-02\tResample: 3"
       ]
      },
      {
       "output_type": "stream",
       "stream": "stdout",
       "text": [
        "\n",
        "Loss: 7.71e-04\tError: 2.74e-02\tStd dev: 2.70e-02\tResample: 3\n",
        "Loss: 7.55e-04\tError: 2.72e-02\tStd dev: 2.65e-02\tResample: 3"
       ]
      },
      {
       "output_type": "stream",
       "stream": "stdout",
       "text": [
        "\n",
        "Loss: 5.90e-04\tError: 2.40e-02\tStd dev: 2.66e-02\tResample: 3\n",
        "Loss: 4.86e-04\tError: 2.17e-02\tStd dev: 2.65e-02\tResample: 3"
       ]
      },
      {
       "output_type": "stream",
       "stream": "stdout",
       "text": [
        "\n",
        "Loss: 7.21e-04\tError: 2.64e-02\tStd dev: 2.57e-02\tResample: 3\n",
        "Loss: 7.25e-04\tError: 2.65e-02\tStd dev: 2.56e-02\tResample: 3"
       ]
      },
      {
       "output_type": "stream",
       "stream": "stdout",
       "text": [
        "\n",
        "Loss: 7.88e-04\tError: 2.77e-02\tStd dev: 2.53e-02\tResample: 3\n",
        "Loss: 5.23e-04\tError: 2.26e-02\tStd dev: 2.58e-02\tResample: 3"
       ]
      },
      {
       "output_type": "stream",
       "stream": "stdout",
       "text": [
        "\n",
        "Loss: 3.90e-04\tError: 1.94e-02\tStd dev: 2.59e-02\tResample: 3\n",
        "Loss: 3.33e-04\tError: 1.79e-02\tStd dev: 2.58e-02\tResample: 3"
       ]
      },
      {
       "output_type": "stream",
       "stream": "stdout",
       "text": [
        "\n",
        "Loss: 3.23e-04\tError: 1.76e-02\tStd dev: 2.57e-02\tResample: 3\n",
        "Loss: 1.86e-04\tError: 1.33e-02\tStd dev: 2.59e-02\tResample: 3"
       ]
      },
      {
       "output_type": "stream",
       "stream": "stdout",
       "text": [
        "\n",
        "Loss: 1.97e-04\tError: 1.37e-02\tStd dev: 2.58e-02\tResample: 3\n",
        "Loss: 1.96e-04\tError: 1.37e-02\tStd dev: 2.58e-02\tResample: 3"
       ]
      },
      {
       "output_type": "stream",
       "stream": "stdout",
       "text": [
        "\n",
        "Loss: 3.17e-04\tError: 1.73e-02\tStd dev: 2.54e-02\tResample: 3\n",
        "Loss: 3.28e-04\tError: 1.76e-02\tStd dev: 2.53e-02\tResample: 3"
       ]
      },
      {
       "output_type": "stream",
       "stream": "stdout",
       "text": [
        "\n",
        "Loss: 2.75e-04\tError: 1.61e-02\tStd dev: 2.54e-02\tResample: 3\n",
        "Loss: 2.81e-04\tError: 1.63e-02\tStd dev: 2.54e-02\tResample: 3"
       ]
      },
      {
       "output_type": "stream",
       "stream": "stdout",
       "text": [
        "\n",
        "Loss: 2.35e-04\tError: 1.49e-02\tStd dev: 2.55e-02\tResample: 3\n",
        "Loss: 2.33e-04\tError: 1.48e-02\tStd dev: 2.55e-02\tResample: 3"
       ]
      },
      {
       "output_type": "stream",
       "stream": "stdout",
       "text": [
        "\n",
        "Loss: 2.85e-04\tError: 1.63e-02\tStd dev: 2.54e-02\tResample: 3\n",
        "Loss: 2.79e-04\tError: 1.62e-02\tStd dev: 2.54e-02\tResample: 3"
       ]
      },
      {
       "output_type": "stream",
       "stream": "stdout",
       "text": [
        "\n",
        "Chose theta = [   3.13600407  293.15          0.7       ]."
       ]
      },
      {
       "output_type": "stream",
       "stream": "stdout",
       "text": [
        "\tLoss: 2.71e-04\tError: 1.58e-02\tStd dev: 2.54e-02\tResample: 3\n",
        "Chose theta = [   3.13952391  293.15          0.7       ]."
       ]
      },
      {
       "output_type": "stream",
       "stream": "stdout",
       "text": [
        "\tLoss: 2.64e-04\tError: 1.57e-02\tStd dev: 2.54e-02\tResample: 3\n",
        "Chose theta = [   0.50967676  292.58155614    0.69882246]."
       ]
      },
      {
       "output_type": "stream",
       "stream": "stdout",
       "text": [
        "\tLoss: 2.07e-04\tError: 1.37e-02\tStd dev: 2.50e-02\tResample: 3\n",
        "Chose theta = [   3.14088246  293.15          0.7       ]."
       ]
      },
      {
       "output_type": "stream",
       "stream": "stdout",
       "text": [
        "\tLoss: 1.89e-04\tError: 1.32e-02\tStd dev: 2.51e-02\tResample: 3\n",
        "0.899 \u00b1 0.00542\t"
       ]
      },
      {
       "output_type": "stream",
       "stream": "stdout",
       "text": [
        " 0.00354 \u00b1 0.00381\t 0.0712 \u00b1 0.0251\t 22.0 \u00b1 0.00531\t -1.02 \u00b1 0.00583\t\n",
        "[ 0.9        0.         0.0844303  1.02     ]\n",
        "x iiiiiiiiiiiiiiiiiiiiiiis 5\n",
        "Loss: 1.04e-02\tError: 1.02e-01\tStd dev: 1.22e-01\tResample: 1"
       ]
      },
      {
       "output_type": "stream",
       "stream": "stdout",
       "text": [
        "\n",
        "Loss: 5.19e-05\tError: 7.03e-03\tStd dev: 5.56e-02\tResample: 2"
       ]
      },
      {
       "output_type": "stream",
       "stream": "stdout",
       "text": [
        "\n",
        "Loss: 6.20e-05\tError: 7.63e-03\tStd dev: 5.63e-02\tResample: 2\n",
        "Loss: 6.49e-04\tError: 2.54e-02\tStd dev: 5.55e-02\tResample: 2"
       ]
      },
      {
       "output_type": "stream",
       "stream": "stdout",
       "text": [
        "\n",
        "Loss: 1.12e-03\tError: 3.34e-02\tStd dev: 5.18e-02\tResample: 2\n",
        "Loss: 5.95e-04\tError: 2.43e-02\tStd dev: 4.66e-02\tResample: 2"
       ]
      },
      {
       "output_type": "stream",
       "stream": "stdout",
       "text": [
        "\n",
        "Loss: 8.12e-04\tError: 2.84e-02\tStd dev: 4.48e-02\tResample: 2\n",
        "Loss: 2.16e-04\tError: 1.41e-02\tStd dev: 4.32e-02\tResample: 2"
       ]
      },
      {
       "output_type": "stream",
       "stream": "stdout",
       "text": [
        "\n",
        "Loss: 1.88e-04\tError: 1.30e-02\tStd dev: 4.25e-02\tResample: 2\n",
        "Loss: 2.01e-04\tError: 1.35e-02\tStd dev: 4.07e-02\tResample: 3"
       ]
      },
      {
       "output_type": "stream",
       "stream": "stdout",
       "text": [
        "\n",
        "Loss: 1.44e-04\tError: 1.11e-02\tStd dev: 3.85e-02\tResample: 3\n",
        "Loss: 3.35e-04\tError: 1.77e-02\tStd dev: 3.73e-02\tResample: 3"
       ]
      },
      {
       "output_type": "stream",
       "stream": "stdout",
       "text": [
        "\n",
        "Loss: 5.49e-04\tError: 2.30e-02\tStd dev: 3.60e-02\tResample: 3\n",
        "Loss: 6.53e-04\tError: 2.51e-02\tStd dev: 3.47e-02\tResample: 3"
       ]
      },
      {
       "output_type": "stream",
       "stream": "stdout",
       "text": [
        "\n",
        "Loss: 2.06e-04\tError: 1.33e-02\tStd dev: 3.34e-02\tResample: 3\n",
        "Loss: 2.94e-04\tError: 1.60e-02\tStd dev: 3.31e-02\tResample: 3"
       ]
      },
      {
       "output_type": "stream",
       "stream": "stdout",
       "text": [
        "\n",
        "Loss: 1.83e-04\tError: 1.22e-02\tStd dev: 3.25e-02\tResample: 3\n",
        "Loss: 1.44e-04\tError: 1.05e-02\tStd dev: 3.16e-02\tResample: 3"
       ]
      },
      {
       "output_type": "stream",
       "stream": "stdout",
       "text": [
        "\n",
        "Loss: 9.55e-05\tError: 7.87e-03\tStd dev: 3.07e-02\tResample: 3\n",
        "Loss: 3.53e-04\tError: 1.80e-02\tStd dev: 3.04e-02\tResample: 3"
       ]
      },
      {
       "output_type": "stream",
       "stream": "stdout",
       "text": [
        "\n",
        "Loss: 1.54e-04\tError: 1.13e-02\tStd dev: 2.94e-02\tResample: 3\n",
        "Loss: 3.19e-04\tError: 1.72e-02\tStd dev: 2.91e-02\tResample: 3"
       ]
      },
      {
       "output_type": "stream",
       "stream": "stdout",
       "text": [
        "\n",
        "Loss: 3.30e-04\tError: 1.75e-02\tStd dev: 2.88e-02\tResample: 3\n",
        "Loss: 3.27e-04\tError: 1.74e-02\tStd dev: 2.88e-02\tResample: 3"
       ]
      },
      {
       "output_type": "stream",
       "stream": "stdout",
       "text": [
        "\n",
        "Loss: 2.44e-04\tError: 1.46e-02\tStd dev: 2.85e-02\tResample: 3\n",
        "Loss: 3.88e-04\tError: 1.88e-02\tStd dev: 2.83e-02\tResample: 3"
       ]
      },
      {
       "output_type": "stream",
       "stream": "stdout",
       "text": [
        "\n",
        "Loss: 3.17e-04\tError: 1.68e-02\tStd dev: 2.79e-02\tResample: 3\n",
        "Loss: 2.44e-04\tError: 1.45e-02\tStd dev: 2.75e-02\tResample: 3"
       ]
      },
      {
       "output_type": "stream",
       "stream": "stdout",
       "text": [
        "\n",
        "Loss: 1.20e-04\tError: 9.02e-03\tStd dev: 2.71e-02\tResample: 3\n",
        "Loss: 1.04e-04\tError: 8.12e-03\tStd dev: 2.69e-02\tResample: 3"
       ]
      },
      {
       "output_type": "stream",
       "stream": "stdout",
       "text": [
        "\n",
        "Loss: 1.28e-04\tError: 9.67e-03\tStd dev: 2.69e-02\tResample: 3\n",
        "Loss: 1.26e-04\tError: 9.65e-03\tStd dev: 2.69e-02\tResample: 3"
       ]
      },
      {
       "output_type": "stream",
       "stream": "stdout",
       "text": [
        "\n",
        "Loss: 1.08e-04\tError: 8.76e-03\tStd dev: 2.67e-02\tResample: 3\n",
        "Loss: 1.24e-04\tError: 9.72e-03\tStd dev: 2.67e-02\tResample: 3"
       ]
      },
      {
       "output_type": "stream",
       "stream": "stdout",
       "text": [
        "\n",
        "Loss: 8.96e-05\tError: 7.79e-03\tStd dev: 2.65e-02\tResample: 3\n",
        "Loss: 1.60e-04\tError: 1.18e-02\tStd dev: 2.67e-02\tResample: 3"
       ]
      },
      {
       "output_type": "stream",
       "stream": "stdout",
       "text": [
        "\n",
        "Loss: 1.77e-04\tError: 1.24e-02\tStd dev: 2.67e-02\tResample: 3\n",
        "Loss: 1.98e-04\tError: 1.33e-02\tStd dev: 2.67e-02\tResample: 3"
       ]
      },
      {
       "output_type": "stream",
       "stream": "stdout",
       "text": [
        "\n",
        "Loss: 1.07e-04\tError: 1.00e-02\tStd dev: 2.66e-02\tResample: 4"
       ]
      },
      {
       "output_type": "stream",
       "stream": "stdout",
       "text": [
        "\n",
        "Loss: 1.02e-04\tError: 9.87e-03\tStd dev: 2.65e-02\tResample: 4\n",
        "Chose theta = [   1.56503594  293.15          0.7       ]."
       ]
      },
      {
       "output_type": "stream",
       "stream": "stdout",
       "text": [
        "\tLoss: 1.01e-04\tError: 9.84e-03\tStd dev: 2.65e-02\tResample: 4\n",
        "Chose theta = [   1.10016739  293.04171704    0.69971755]."
       ]
      },
      {
       "output_type": "stream",
       "stream": "stdout",
       "text": [
        "\tLoss: 7.97e-05\tError: 8.65e-03\tStd dev: 2.61e-02\tResample: 4\n",
        "Chose theta = [   2.24931481  285.27396606    1.        ]."
       ]
      },
      {
       "output_type": "stream",
       "stream": "stdout",
       "text": [
        "\tLoss: 1.28e-04\tError: 1.12e-02\tStd dev: 2.59e-02\tResample: 4\n",
        "Chose theta = [   1.56531793  293.15          0.7       ]."
       ]
      },
      {
       "output_type": "stream",
       "stream": "stdout",
       "text": [
        "\tLoss: 1.33e-04\tError: 1.13e-02\tStd dev: 2.58e-02\tResample: 4\n",
        "Chose theta = [   1.56647162  293.15          0.7       ]."
       ]
      },
      {
       "output_type": "stream",
       "stream": "stdout",
       "text": [
        "\tLoss: 1.26e-04\tError: 1.11e-02\tStd dev: 2.60e-02\tResample: 4\n",
        "0.899 \u00b1 0.00537\t"
       ]
      },
      {
       "output_type": "stream",
       "stream": "stdout",
       "text": [
        " -0.000938 \u00b1 0.00406\t 0.0956 \u00b1 0.026\t 22.0 \u00b1 0.00536\t -1.02 \u00b1 0.00574\t\n",
        "[ 0.9        0.         0.0844303  1.02     ]\n",
        "Loss: 6.24e-02\tError: 2.50e-01\tStd dev: 1.65e-01\tResample: 1"
       ]
      },
      {
       "output_type": "stream",
       "stream": "stdout",
       "text": [
        "\n",
        "Loss: 7.92e-03\tError: 8.90e-02\tStd dev: 9.66e-02\tResample: 2"
       ]
      },
      {
       "output_type": "stream",
       "stream": "stdout",
       "text": [
        "\n",
        "Loss: 3.51e-03\tError: 5.92e-02\tStd dev: 7.32e-02\tResample: 2\n",
        "Loss: 1.52e-04\tError: 1.20e-02\tStd dev: 5.33e-02\tResample: 2"
       ]
      },
      {
       "output_type": "stream",
       "stream": "stdout",
       "text": [
        "\n",
        "Loss: 9.48e-04\tError: 3.06e-02\tStd dev: 5.24e-02\tResample: 2\n",
        "Loss: 1.68e-03\tError: 4.09e-02\tStd dev: 4.95e-02\tResample: 2"
       ]
      },
      {
       "output_type": "stream",
       "stream": "stdout",
       "text": [
        "\n",
        "Loss: 1.14e-03\tError: 3.37e-02\tStd dev: 4.61e-02\tResample: 2\n",
        "Loss: 1.67e-03\tError: 4.08e-02\tStd dev: 4.57e-02\tResample: 2"
       ]
      },
      {
       "output_type": "stream",
       "stream": "stdout",
       "text": [
        "\n",
        "Loss: 2.28e-03\tError: 4.77e-02\tStd dev: 4.60e-02\tResample: 2\n",
        "Loss: 2.53e-03\tError: 5.03e-02\tStd dev: 4.38e-02\tResample: 2"
       ]
      },
      {
       "output_type": "stream",
       "stream": "stdout",
       "text": [
        "\n",
        "Loss: 2.07e-03\tError: 4.55e-02\tStd dev: 4.12e-02\tResample: 2\n",
        "Loss: 4.34e-03\tError: 6.58e-02\tStd dev: 3.92e-02\tResample: 3"
       ]
      },
      {
       "output_type": "stream",
       "stream": "stdout",
       "text": [
        "\n",
        "Loss: 1.22e-03\tError: 3.48e-02\tStd dev: 3.67e-02\tResample: 3\n",
        "Loss: 7.42e-04\tError: 2.71e-02\tStd dev: 3.50e-02\tResample: 4"
       ]
      },
      {
       "output_type": "stream",
       "stream": "stdout",
       "text": [
        "\n",
        "Loss: 2.89e-04\tError: 1.65e-02\tStd dev: 3.36e-02\tResample: 4\n",
        "Loss: 2.54e-04\tError: 1.55e-02\tStd dev: 3.35e-02\tResample: 4"
       ]
      },
      {
       "output_type": "stream",
       "stream": "stdout",
       "text": [
        "\n",
        "Loss: 3.15e-04\tError: 1.72e-02\tStd dev: 3.34e-02\tResample: 4\n",
        "Loss: 3.63e-04\tError: 1.86e-02\tStd dev: 3.27e-02\tResample: 4"
       ]
      },
      {
       "output_type": "stream",
       "stream": "stdout",
       "text": [
        "\n",
        "Loss: 5.17e-04\tError: 2.23e-02\tStd dev: 3.19e-02\tResample: 4\n",
        "Loss: 6.52e-05\tError: 6.08e-03\tStd dev: 3.02e-02\tResample: 4"
       ]
      },
      {
       "output_type": "stream",
       "stream": "stdout",
       "text": [
        "\n",
        "Loss: 3.10e-05\tError: 1.84e-03\tStd dev: 2.88e-02\tResample: 5"
       ]
      },
      {
       "output_type": "stream",
       "stream": "stdout",
       "text": [
        "\n",
        "Loss: 3.39e-05\tError: 3.54e-03\tStd dev: 2.88e-02\tResample: 5\n",
        "Loss: 8.17e-05\tError: 7.66e-03\tStd dev: 2.87e-02\tResample: 5"
       ]
      },
      {
       "output_type": "stream",
       "stream": "stdout",
       "text": [
        "\n",
        "Loss: 8.77e-05\tError: 8.39e-03\tStd dev: 2.86e-02\tResample: 5\n",
        "Loss: 5.40e-05\tError: 5.72e-03\tStd dev: 2.81e-02\tResample: 5"
       ]
      },
      {
       "output_type": "stream",
       "stream": "stdout",
       "text": [
        "\n",
        "Loss: 1.54e-04\tError: 1.13e-02\tStd dev: 2.82e-02\tResample: 5\n",
        "Loss: 4.33e-05\tError: 2.98e-03\tStd dev: 2.72e-02\tResample: 5"
       ]
      },
      {
       "output_type": "stream",
       "stream": "stdout",
       "text": [
        "\n",
        "Loss: 3.48e-05\tError: 7.70e-04\tStd dev: 2.66e-02\tResample: 5\n",
        "Loss: 3.52e-05\tError: 8.82e-04\tStd dev: 2.64e-02\tResample: 5"
       ]
      },
      {
       "output_type": "stream",
       "stream": "stdout",
       "text": [
        "\n",
        "Loss: 5.49e-05\tError: 4.46e-03\tStd dev: 2.59e-02\tResample: 5\n",
        "Loss: 2.31e-05\tError: 8.25e-04\tStd dev: 2.62e-02\tResample: 5"
       ]
      },
      {
       "output_type": "stream",
       "stream": "stdout",
       "text": [
        "\n",
        "Loss: 2.72e-05\tError: 7.45e-04\tStd dev: 2.60e-02\tResample: 5\n",
        "Loss: 2.77e-05\tError: 1.31e-03\tStd dev: 2.59e-02\tResample: 5"
       ]
      },
      {
       "output_type": "stream",
       "stream": "stdout",
       "text": [
        "\n",
        "Loss: 3.31e-05\tError: 4.36e-03\tStd dev: 2.65e-02\tResample: 5\n",
        "Loss: 5.74e-05\tError: 6.46e-03\tStd dev: 2.65e-02\tResample: 5"
       ]
      },
      {
       "output_type": "stream",
       "stream": "stdout",
       "text": [
        "\n",
        "Loss: 8.22e-05\tError: 8.28e-03\tStd dev: 2.65e-02\tResample: 5\n",
        "Loss: 3.37e-05\tError: 4.75e-03\tStd dev: 2.63e-02\tResample: 5"
       ]
      },
      {
       "output_type": "stream",
       "stream": "stdout",
       "text": [
        "\n",
        "Loss: 3.94e-05\tError: 5.48e-03\tStd dev: 2.64e-02\tResample: 5\n",
        "Loss: 3.98e-05\tError: 5.51e-03\tStd dev: 2.64e-02\tResample: 5"
       ]
      },
      {
       "output_type": "stream",
       "stream": "stdout",
       "text": [
        "\n",
        "Loss: 4.28e-05\tError: 5.43e-03\tStd dev: 2.64e-02\tResample: 5\n",
        "Chose theta = [   6.2790716  293.15         0.7      ]."
       ]
      },
      {
       "output_type": "stream",
       "stream": "stdout",
       "text": [
        "\tLoss: 5.10e-05\tError: 4.82e-03\tStd dev: 2.65e-02\tResample: 5\n",
        "Chose theta = [   2.20894374  293.1374789     0.70066347]."
       ]
      },
      {
       "output_type": "stream",
       "stream": "stdout",
       "text": [
        "\tLoss: 1.27e-04\tError: 1.01e-02\tStd dev: 2.62e-02\tResample: 5\n",
        "Chose theta = [   1.44959501  295.19711394    0.69239485]."
       ]
      },
      {
       "output_type": "stream",
       "stream": "stdout",
       "text": [
        "\tLoss: 1.64e-04\tError: 1.17e-02\tStd dev: 2.60e-02\tResample: 5\n",
        "Chose theta = [   3.13667017  293.15          0.7       ]."
       ]
      },
      {
       "output_type": "stream",
       "stream": "stdout",
       "text": [
        "\tLoss: 1.65e-04\tError: 1.19e-02\tStd dev: 2.59e-02\tResample: 5\n",
        "Chose theta = [   3.1369589  293.15         0.7      ]."
       ]
      },
      {
       "output_type": "stream",
       "stream": "stdout",
       "text": [
        "\tLoss: 1.69e-04\tError: 1.25e-02\tStd dev: 2.57e-02\tResample: 5\n",
        "0.898 \u00b1 0.00517\t"
       ]
      },
      {
       "output_type": "stream",
       "stream": "stdout",
       "text": [
        " -0.00302 \u00b1 0.0038\t 0.0969 \u00b1 0.0257\t 22.0 \u00b1 0.00534\t -1.02 \u00b1 0.00583\t\n",
        "[ 0.9        0.         0.0844303  1.02     ]\n",
        "x iiiiiiiiiiiiiiiiiiiiiiis 6\n",
        "Loss: 3.73e-03\tError: 6.10e-02\tStd dev: 1.02e-01\tResample: 1"
       ]
      },
      {
       "output_type": "stream",
       "stream": "stdout",
       "text": [
        "\n",
        "Loss: 3.61e-05\tError: 5.69e-03\tStd dev: 6.31e-02\tResample: 1\n",
        "Loss: 9.39e-04\tError: 3.06e-02\tStd dev: 6.35e-02\tResample: 1"
       ]
      },
      {
       "output_type": "stream",
       "stream": "stdout",
       "text": [
        "\n",
        "Loss: 4.84e-06\tError: 1.87e-03\tStd dev: 4.97e-02\tResample: 1\n",
        "Loss: 1.68e-04\tError: 1.29e-02\tStd dev: 4.18e-02\tResample: 1"
       ]
      },
      {
       "output_type": "stream",
       "stream": "stdout",
       "text": [
        "\n",
        "Loss: 5.06e-04\tError: 2.25e-02\tStd dev: 3.61e-02\tResample: 2"
       ]
      },
      {
       "output_type": "stream",
       "stream": "stdout",
       "text": [
        "\n",
        "Loss: 7.37e-04\tError: 2.71e-02\tStd dev: 3.33e-02\tResample: 2\n",
        "Loss: 5.92e-04\tError: 2.43e-02\tStd dev: 3.38e-02\tResample: 2"
       ]
      },
      {
       "output_type": "stream",
       "stream": "stdout",
       "text": [
        "\n",
        "Loss: 5.06e-04\tError: 2.24e-02\tStd dev: 3.44e-02\tResample: 2\n",
        "Loss: 1.38e-03\tError: 3.69e-02\tStd dev: 2.88e-02\tResample: 2"
       ]
      },
      {
       "output_type": "stream",
       "stream": "stdout",
       "text": [
        "\n",
        "Loss: 1.36e-03\tError: 3.67e-02\tStd dev: 2.82e-02\tResample: 2\n",
        "Loss: 1.61e-03\tError: 3.99e-02\tStd dev: 2.64e-02\tResample: 2"
       ]
      },
      {
       "output_type": "stream",
       "stream": "stdout",
       "text": [
        "\n",
        "Loss: 1.86e-03\tError: 4.29e-02\tStd dev: 2.43e-02\tResample: 3"
       ]
      },
      {
       "output_type": "stream",
       "stream": "stdout",
       "text": [
        "\n",
        "Loss: 1.58e-03\tError: 3.96e-02\tStd dev: 2.50e-02\tResample: 3\n",
        "Loss: 1.94e-03\tError: 4.40e-02\tStd dev: 2.33e-02\tResample: 3"
       ]
      },
      {
       "output_type": "stream",
       "stream": "stdout",
       "text": [
        "\n",
        "Loss: 1.79e-03\tError: 4.23e-02\tStd dev: 2.37e-02\tResample: 3\n",
        "Loss: 1.93e-03\tError: 4.37e-02\tStd dev: 2.31e-02\tResample: 3"
       ]
      },
      {
       "output_type": "stream",
       "stream": "stdout",
       "text": [
        "\n",
        "Loss: 1.94e-03\tError: 4.40e-02\tStd dev: 2.27e-02\tResample: 3\n",
        "Loss: 1.69e-03\tError: 4.10e-02\tStd dev: 2.33e-02\tResample: 3"
       ]
      },
      {
       "output_type": "stream",
       "stream": "stdout",
       "text": [
        "\n",
        "Loss: 2.28e-03\tError: 4.77e-02\tStd dev: 2.10e-02\tResample: 3\n",
        "Loss: 2.25e-03\tError: 4.74e-02\tStd dev: 2.09e-02\tResample: 3"
       ]
      },
      {
       "output_type": "stream",
       "stream": "stdout",
       "text": [
        "\n",
        "Loss: 1.67e-03\tError: 4.07e-02\tStd dev: 2.26e-02\tResample: 3\n",
        "Loss: 2.10e-03\tError: 4.56e-02\tStd dev: 2.11e-02\tResample: 3"
       ]
      },
      {
       "output_type": "stream",
       "stream": "stdout",
       "text": [
        "\n",
        "Loss: 2.13e-03\tError: 4.60e-02\tStd dev: 2.10e-02\tResample: 3\n",
        "Loss: 2.24e-03\tError: 4.72e-02\tStd dev: 2.06e-02\tResample: 3"
       ]
      },
      {
       "output_type": "stream",
       "stream": "stdout",
       "text": [
        "\n",
        "Loss: 2.34e-03\tError: 4.82e-02\tStd dev: 2.01e-02\tResample: 3\n",
        "Loss: 2.04e-03\tError: 4.50e-02\tStd dev: 2.09e-02\tResample: 3"
       ]
      },
      {
       "output_type": "stream",
       "stream": "stdout",
       "text": [
        "\n",
        "Loss: 1.95e-03\tError: 4.40e-02\tStd dev: 2.11e-02\tResample: 3\n",
        "Loss: 2.05e-03\tError: 4.51e-02\tStd dev: 2.07e-02\tResample: 3"
       ]
      },
      {
       "output_type": "stream",
       "stream": "stdout",
       "text": [
        "\n",
        "Loss: 2.11e-03\tError: 4.58e-02\tStd dev: 2.04e-02\tResample: 3\n",
        "Loss: 2.11e-03\tError: 4.58e-02\tStd dev: 2.04e-02\tResample: 3"
       ]
      },
      {
       "output_type": "stream",
       "stream": "stdout",
       "text": [
        "\n",
        "Loss: 2.12e-03\tError: 4.58e-02\tStd dev: 2.04e-02\tResample: 3\n",
        "Loss: 2.05e-03\tError: 4.51e-02\tStd dev: 2.06e-02\tResample: 3"
       ]
      },
      {
       "output_type": "stream",
       "stream": "stdout",
       "text": [
        "\n",
        "Loss: 2.07e-03\tError: 4.53e-02\tStd dev: 2.05e-02\tResample: 3\n",
        "Loss: 1.98e-03\tError: 4.43e-02\tStd dev: 2.08e-02\tResample: 3"
       ]
      },
      {
       "output_type": "stream",
       "stream": "stdout",
       "text": [
        "\n",
        "Loss: 1.91e-03\tError: 4.36e-02\tStd dev: 2.10e-02\tResample: 3\n",
        "Loss: 1.82e-03\tError: 4.26e-02\tStd dev: 2.13e-02\tResample: 3"
       ]
      },
      {
       "output_type": "stream",
       "stream": "stdout",
       "text": [
        "\n",
        "Loss: 1.79e-03\tError: 4.21e-02\tStd dev: 2.14e-02\tResample: 3\n",
        "Loss: 1.82e-03\tError: 4.25e-02\tStd dev: 2.13e-02\tResample: 3"
       ]
      },
      {
       "output_type": "stream",
       "stream": "stdout",
       "text": [
        "\n",
        "Loss: 1.83e-03\tError: 4.26e-02\tStd dev: 2.13e-02\tResample: 3\n",
        "Chose theta = [   3.13920208  293.15          0.7       ]."
       ]
      },
      {
       "output_type": "stream",
       "stream": "stdout",
       "text": [
        "\tLoss: 1.84e-03\tError: 4.26e-02\tStd dev: 2.12e-02\tResample: 3\n",
        "Chose theta = [   1.56932714  293.15          0.7       ]."
       ]
      },
      {
       "output_type": "stream",
       "stream": "stdout",
       "text": [
        "\tLoss: 1.84e-03\tError: 4.25e-02\tStd dev: 2.13e-02\tResample: 3\n",
        "Chose theta = [   1.56864853  293.15          0.7       ]."
       ]
      },
      {
       "output_type": "stream",
       "stream": "stdout",
       "text": [
        "\tLoss: 1.84e-03\tError: 4.25e-02\tStd dev: 2.13e-02\tResample: 3\n",
        "Chose theta = [   1.57076078  293.15          0.7       ]."
       ]
      },
      {
       "output_type": "stream",
       "stream": "stdout",
       "text": [
        "\tLoss: 1.83e-03\tError: 4.23e-02\tStd dev: 2.14e-02\tResample: 3\n",
        "Chose theta = [   3.14019269  293.15          0.7       ]."
       ]
      },
      {
       "output_type": "stream",
       "stream": "stdout",
       "text": [
        "\tLoss: 1.85e-03\tError: 4.25e-02\tStd dev: 2.13e-02\tResample: 3\n",
        "Chose theta = [   1.56795307  293.15          0.7       ]."
       ]
      },
      {
       "output_type": "stream",
       "stream": "stdout",
       "text": [
        "\tLoss: 1.86e-03\tError: 4.26e-02\tStd dev: 2.13e-02\tResample: 3\n",
        "0.902 \u00b1 0.00528\t"
       ]
      },
      {
       "output_type": "stream",
       "stream": "stdout",
       "text": [
        " 0.00636 \u00b1 0.00295\t 0.0418 \u00b1 0.0213\t 22.0 \u00b1 0.00516\t -1.02 \u00b1 0.0057\t\n",
        "[ 0.9        0.         0.0844303  1.02     ]\n",
        "Loss: 2.61e-02\tError: 1.62e-01\tStd dev: 1.45e-01\tResample: 1"
       ]
      },
      {
       "output_type": "stream",
       "stream": "stdout",
       "text": [
        "\n",
        "Loss: 2.16e-03\tError: 4.65e-02\tStd dev: 8.27e-02\tResample: 1\n",
        "Loss: 7.89e-04\tError: 2.81e-02\tStd dev: 6.43e-02\tResample: 2"
       ]
      },
      {
       "output_type": "stream",
       "stream": "stdout",
       "text": [
        "\n",
        "Loss: 8.85e-05\tError: 9.31e-03\tStd dev: 5.22e-02\tResample: 2\n",
        "Loss: 2.20e-04\tError: 1.48e-02\tStd dev: 4.91e-02\tResample: 2"
       ]
      },
      {
       "output_type": "stream",
       "stream": "stdout",
       "text": [
        "\n",
        "Loss: 8.17e-06\tError: 1.89e-03\tStd dev: 4.22e-02\tResample: 2\n",
        "Loss: 5.42e-06\tError: 6.91e-05\tStd dev: 4.08e-02\tResample: 2"
       ]
      },
      {
       "output_type": "stream",
       "stream": "stdout",
       "text": [
        "\n",
        "Loss: 9.59e-05\tError: 9.74e-03\tStd dev: 4.16e-02\tResample: 2\n",
        "Loss: 3.18e-04\tError: 1.78e-02\tStd dev: 4.31e-02\tResample: 2"
       ]
      },
      {
       "output_type": "stream",
       "stream": "stdout",
       "text": [
        "\n",
        "Loss: 3.87e-04\tError: 1.96e-02\tStd dev: 4.14e-02\tResample: 2\n",
        "Loss: 2.29e-04\tError: 1.51e-02\tStd dev: 3.90e-02\tResample: 2"
       ]
      },
      {
       "output_type": "stream",
       "stream": "stdout",
       "text": [
        "\n",
        "Loss: 2.40e-04\tError: 1.53e-02\tStd dev: 3.28e-02\tResample: 3"
       ]
      },
      {
       "output_type": "stream",
       "stream": "stdout",
       "text": [
        "\n",
        "Loss: 4.82e-04\tError: 2.18e-02\tStd dev: 3.05e-02\tResample: 3\n",
        "Loss: 4.89e-05\tError: 6.95e-03\tStd dev: 3.22e-02\tResample: 3"
       ]
      },
      {
       "output_type": "stream",
       "stream": "stdout",
       "text": [
        "\n",
        "Loss: 5.76e-04\tError: 2.39e-02\tStd dev: 2.89e-02\tResample: 3\n",
        "Loss: 4.81e-04\tError: 2.18e-02\tStd dev: 2.90e-02\tResample: 3"
       ]
      },
      {
       "output_type": "stream",
       "stream": "stdout",
       "text": [
        "\n",
        "Loss: 1.55e-04\tError: 1.12e-02\tStd dev: 3.09e-02\tResample: 4"
       ]
      },
      {
       "output_type": "stream",
       "stream": "stdout",
       "text": [
        "\n",
        "Loss: 3.37e-05\tError: 2.81e-03\tStd dev: 3.12e-02\tResample: 4\n",
        "Loss: 6.19e-05\tError: 6.15e-03\tStd dev: 3.01e-02\tResample: 4"
       ]
      },
      {
       "output_type": "stream",
       "stream": "stdout",
       "text": [
        "\n",
        "Loss: 3.00e-04\tError: 1.64e-02\tStd dev: 2.82e-02\tResample: 4\n",
        "Loss: 2.10e-04\tError: 1.34e-02\tStd dev: 2.81e-02\tResample: 4"
       ]
      },
      {
       "output_type": "stream",
       "stream": "stdout",
       "text": [
        "\n",
        "Loss: 1.38e-04\tError: 1.05e-02\tStd dev: 2.80e-02\tResample: 4\n",
        "Loss: 2.82e-04\tError: 1.60e-02\tStd dev: 2.70e-02\tResample: 4"
       ]
      },
      {
       "output_type": "stream",
       "stream": "stdout",
       "text": [
        "\n",
        "Loss: 2.70e-04\tError: 1.57e-02\tStd dev: 2.70e-02\tResample: 4\n",
        "Loss: 1.53e-04\tError: 1.15e-02\tStd dev: 2.74e-02\tResample: 4"
       ]
      },
      {
       "output_type": "stream",
       "stream": "stdout",
       "text": [
        "\n",
        "Loss: 1.41e-04\tError: 1.09e-02\tStd dev: 2.72e-02\tResample: 4\n",
        "Loss: 1.28e-04\tError: 1.03e-02\tStd dev: 2.69e-02\tResample: 4"
       ]
      },
      {
       "output_type": "stream",
       "stream": "stdout",
       "text": [
        "\n",
        "Loss: 1.01e-04\tError: 8.88e-03\tStd dev: 2.68e-02\tResample: 4\n",
        "Loss: 2.80e-04\tError: 1.59e-02\tStd dev: 2.59e-02\tResample: 4"
       ]
      },
      {
       "output_type": "stream",
       "stream": "stdout",
       "text": [
        "\n",
        "Loss: 2.77e-04\tError: 1.57e-02\tStd dev: 2.57e-02\tResample: 4\n",
        "Loss: 3.70e-04\tError: 1.82e-02\tStd dev: 2.54e-02\tResample: 4"
       ]
      },
      {
       "output_type": "stream",
       "stream": "stdout",
       "text": [
        "\n",
        "Loss: 3.71e-04\tError: 1.82e-02\tStd dev: 2.54e-02\tResample: 4\n",
        "Loss: 4.39e-04\tError: 2.01e-02\tStd dev: 2.50e-02\tResample: 4"
       ]
      },
      {
       "output_type": "stream",
       "stream": "stdout",
       "text": [
        "\n",
        "Loss: 4.10e-04\tError: 1.94e-02\tStd dev: 2.51e-02\tResample: 4\n",
        "Loss: 2.81e-04\tError: 1.57e-02\tStd dev: 2.55e-02\tResample: 4"
       ]
      },
      {
       "output_type": "stream",
       "stream": "stdout",
       "text": [
        "\n",
        "Loss: 2.91e-04\tError: 1.59e-02\tStd dev: 2.54e-02\tResample: 4\n",
        "Loss: 3.02e-04\tError: 1.63e-02\tStd dev: 2.53e-02\tResample: 4"
       ]
      },
      {
       "output_type": "stream",
       "stream": "stdout",
       "text": [
        "\n",
        "Loss: 3.37e-04\tError: 1.72e-02\tStd dev: 2.51e-02\tResample: 4\n",
        "Loss: 3.74e-04\tError: 1.82e-02\tStd dev: 2.49e-02\tResample: 4"
       ]
      },
      {
       "output_type": "stream",
       "stream": "stdout",
       "text": [
        "\n",
        "Loss: 3.77e-04\tError: 1.86e-02\tStd dev: 2.49e-02\tResample: 4\n",
        "Chose theta = [   1.94570183  292.94169261    0.69782916]."
       ]
      },
      {
       "output_type": "stream",
       "stream": "stdout",
       "text": [
        "\tLoss: 1.94e-04\tError: 1.28e-02\tStd dev: 2.50e-02\tResample: 5"
       ]
      },
      {
       "output_type": "stream",
       "stream": "stdout",
       "text": [
        "\n",
        "Chose theta = [   1.56559743  293.15          0.7       ]."
       ]
      },
      {
       "output_type": "stream",
       "stream": "stdout",
       "text": [
        "\tLoss: 2.11e-04\tError: 1.34e-02\tStd dev: 2.50e-02\tResample: 5\n",
        "Chose theta = [   3.13894898  293.15          0.7       ]."
       ]
      },
      {
       "output_type": "stream",
       "stream": "stdout",
       "text": [
        "\tLoss: 2.11e-04\tError: 1.36e-02\tStd dev: 2.50e-02\tResample: 5\n",
        "Chose theta = [   6.28318531  293.16119779    0.70000553]."
       ]
      },
      {
       "output_type": "stream",
       "stream": "stdout",
       "text": [
        "\tLoss: 2.12e-04\tError: 1.36e-02\tStd dev: 2.50e-02\tResample: 5\n",
        "Chose theta = [   1.5686531  293.15         0.7      ]."
       ]
      },
      {
       "output_type": "stream",
       "stream": "stdout",
       "text": [
        "\tLoss: 2.16e-04\tError: 1.37e-02\tStd dev: 2.50e-02\tResample: 5\n",
        "Chose theta = [   1.5665539  293.15         0.7      ]."
       ]
      },
      {
       "output_type": "stream",
       "stream": "stdout",
       "text": [
        "\tLoss: 2.39e-04\tError: 1.43e-02\tStd dev: 2.51e-02\tResample: 5\n",
        "0.894 \u00b1 0.00421\t"
       ]
      },
      {
       "output_type": "stream",
       "stream": "stdout",
       "text": [
        " 0.000517 \u00b1 0.00389\t 0.0701 \u00b1 0.0251\t 22.0 \u00b1 0.0051\t -1.02 \u00b1 0.00574\t\n",
        "[ 0.9        0.         0.0844303  1.02     ]\n",
        "x iiiiiiiiiiiiiiiiiiiiiiis 7\n",
        "Loss: 4.11e-02\tError: 2.03e-01\tStd dev: 1.57e-01\tResample: 1"
       ]
      },
      {
       "output_type": "stream",
       "stream": "stdout",
       "text": [
        "\n",
        "Loss: 9.02e-03\tError: 9.50e-02\tStd dev: 9.83e-02\tResample: 1\n",
        "Loss: 4.14e-03\tError: 6.43e-02\tStd dev: 7.42e-02\tResample: 2"
       ]
      },
      {
       "output_type": "stream",
       "stream": "stdout",
       "text": [
        "\n",
        "Loss: 9.29e-03\tError: 9.64e-02\tStd dev: 6.56e-02\tResample: 2\n",
        "Loss: 1.45e-02\tError: 1.21e-01\tStd dev: 5.73e-02\tResample: 2"
       ]
      },
      {
       "output_type": "stream",
       "stream": "stdout",
       "text": [
        "\n",
        "Loss: 1.58e-02\tError: 1.26e-01\tStd dev: 5.15e-02\tResample: 2\n",
        "Loss: 1.68e-02\tError: 1.30e-01\tStd dev: 4.82e-02\tResample: 3"
       ]
      },
      {
       "output_type": "stream",
       "stream": "stdout",
       "text": [
        "\n",
        "Loss: 1.59e-02\tError: 1.26e-01\tStd dev: 4.86e-02\tResample: 3\n",
        "Loss: 2.08e-02\tError: 1.44e-01\tStd dev: 4.79e-02\tResample: 3"
       ]
      },
      {
       "output_type": "stream",
       "stream": "stdout",
       "text": [
        "\n",
        "Loss: 1.72e-02\tError: 1.31e-01\tStd dev: 4.52e-02\tResample: 3\n",
        "Loss: 9.82e-03\tError: 9.91e-02\tStd dev: 4.28e-02\tResample: 3"
       ]
      },
      {
       "output_type": "stream",
       "stream": "stdout",
       "text": [
        "\n",
        "Loss: 1.18e-02\tError: 1.09e-01\tStd dev: 3.99e-02\tResample: 3\n",
        "Loss: 8.02e-03\tError: 8.95e-02\tStd dev: 3.81e-02\tResample: 3"
       ]
      },
      {
       "output_type": "stream",
       "stream": "stdout",
       "text": [
        "\n",
        "Loss: 3.71e-03\tError: 6.08e-02\tStd dev: 3.63e-02\tResample: 4"
       ]
      },
      {
       "output_type": "stream",
       "stream": "stdout",
       "text": [
        "\n",
        "Loss: 3.02e-03\tError: 5.49e-02\tStd dev: 3.54e-02\tResample: 4\n",
        "Loss: 3.06e-03\tError: 5.52e-02\tStd dev: 3.53e-02\tResample: 4"
       ]
      },
      {
       "output_type": "stream",
       "stream": "stdout",
       "text": [
        "\n",
        "Loss: 3.51e-03\tError: 5.91e-02\tStd dev: 3.50e-02\tResample: 4\n",
        "Loss: 3.10e-03\tError: 5.55e-02\tStd dev: 3.41e-02\tResample: 4"
       ]
      },
      {
       "output_type": "stream",
       "stream": "stdout",
       "text": [
        "\n",
        "Loss: 1.56e-03\tError: 3.94e-02\tStd dev: 3.28e-02\tResample: 4\n",
        "Loss: 1.55e-03\tError: 3.92e-02\tStd dev: 3.19e-02\tResample: 4"
       ]
      },
      {
       "output_type": "stream",
       "stream": "stdout",
       "text": [
        "\n",
        "Loss: 2.32e-03\tError: 4.81e-02\tStd dev: 3.12e-02\tResample: 4\n",
        "Loss: 2.98e-03\tError: 5.45e-02\tStd dev: 3.05e-02\tResample: 4"
       ]
      },
      {
       "output_type": "stream",
       "stream": "stdout",
       "text": [
        "\n",
        "Loss: 1.93e-03\tError: 4.38e-02\tStd dev: 3.00e-02\tResample: 4\n",
        "Loss: 1.97e-03\tError: 4.42e-02\tStd dev: 2.98e-02\tResample: 4"
       ]
      },
      {
       "output_type": "stream",
       "stream": "stdout",
       "text": [
        "\n",
        "Loss: 2.61e-03\tError: 5.09e-02\tStd dev: 2.96e-02\tResample: 4\n",
        "Loss: 2.28e-03\tError: 4.75e-02\tStd dev: 2.91e-02\tResample: 4"
       ]
      },
      {
       "output_type": "stream",
       "stream": "stdout",
       "text": [
        "\n",
        "Loss: 2.10e-03\tError: 4.55e-02\tStd dev: 2.87e-02\tResample: 4\n",
        "Loss: 2.76e-03\tError: 5.24e-02\tStd dev: 2.83e-02\tResample: 4"
       ]
      },
      {
       "output_type": "stream",
       "stream": "stdout",
       "text": [
        "\n",
        "Loss: 2.38e-03\tError: 4.86e-02\tStd dev: 2.80e-02\tResample: 4\n",
        "Loss: 2.19e-03\tError: 4.65e-02\tStd dev: 2.77e-02\tResample: 4"
       ]
      },
      {
       "output_type": "stream",
       "stream": "stdout",
       "text": [
        "\n",
        "Loss: 2.18e-03\tError: 4.64e-02\tStd dev: 2.76e-02\tResample: 4\n",
        "Loss: 2.21e-03\tError: 4.67e-02\tStd dev: 2.76e-02\tResample: 5"
       ]
      },
      {
       "output_type": "stream",
       "stream": "stdout",
       "text": [
        "\n",
        "Loss: 2.45e-03\tError: 4.92e-02\tStd dev: 2.76e-02\tResample: 5\n",
        "Loss: 1.91e-03\tError: 4.33e-02\tStd dev: 2.73e-02\tResample: 5"
       ]
      },
      {
       "output_type": "stream",
       "stream": "stdout",
       "text": [
        "\n",
        "Loss: 1.84e-03\tError: 4.26e-02\tStd dev: 2.71e-02\tResample: 5\n",
        "Loss: 2.39e-03\tError: 4.86e-02\tStd dev: 2.72e-02\tResample: 5"
       ]
      },
      {
       "output_type": "stream",
       "stream": "stdout",
       "text": [
        "\n",
        "Loss: 2.60e-03\tError: 5.07e-02\tStd dev: 2.72e-02\tResample: 5\n",
        "Loss: 2.69e-03\tError: 5.17e-02\tStd dev: 2.72e-02\tResample: 5"
       ]
      },
      {
       "output_type": "stream",
       "stream": "stdout",
       "text": [
        "\n",
        "Loss: 2.70e-03\tError: 5.17e-02\tStd dev: 2.72e-02\tResample: 5\n",
        "Loss: 2.65e-03\tError: 5.13e-02\tStd dev: 2.71e-02\tResample: 5"
       ]
      },
      {
       "output_type": "stream",
       "stream": "stdout",
       "text": [
        "\n",
        "Chose theta = [   6.2749046  293.15         0.7      ]."
       ]
      },
      {
       "output_type": "stream",
       "stream": "stdout",
       "text": [
        "\tLoss: 2.64e-03\tError: 5.11e-02\tStd dev: 2.71e-02\tResample: 5\n",
        "Chose theta = [   4.70464168  293.15          0.7       ]."
       ]
      },
      {
       "output_type": "stream",
       "stream": "stdout",
       "text": [
        "\tLoss: 2.63e-03\tError: 5.10e-02\tStd dev: 2.71e-02\tResample: 5\n",
        "Chose theta = [   4.70887197  293.15          0.7       ]."
       ]
      },
      {
       "output_type": "stream",
       "stream": "stdout",
       "text": [
        "\tLoss: 2.57e-03\tError: 5.05e-02\tStd dev: 2.71e-02\tResample: 5\n",
        "Chose theta = [   4.70765269  293.15          0.7       ]."
       ]
      },
      {
       "output_type": "stream",
       "stream": "stdout",
       "text": [
        "\tLoss: 2.57e-03\tError: 5.05e-02\tStd dev: 2.71e-02\tResample: 5\n",
        "Chose theta = [   6.27596038  293.15          0.7       ]."
       ]
      },
      {
       "output_type": "stream",
       "stream": "stdout",
       "text": [
        "\tLoss: 2.57e-03\tError: 5.05e-02\tStd dev: 2.71e-02\tResample: 5\n",
        "Chose theta = [   6.28318531  293.14458713    0.70000847]."
       ]
      },
      {
       "output_type": "stream",
       "stream": "stdout",
       "text": [
        "\tLoss: 2.59e-03\tError: 5.07e-02\tStd dev: 2.71e-02\tResample: 5\n",
        "Chose theta = [   6.27680935  293.15          0.7       ]."
       ]
      },
      {
       "output_type": "stream",
       "stream": "stdout",
       "text": [
        "\tLoss: 2.59e-03\tError: 5.07e-02\tStd dev: 2.71e-02\tResample: 5\n",
        "0.897 \u00b1 0.00479\t"
       ]
      },
      {
       "output_type": "stream",
       "stream": "stdout",
       "text": [
        " 0.00267 \u00b1 0.00369\t 0.135 \u00b1 0.0271\t 22.0 \u00b1 0.00533\t -1.02 \u00b1 0.00574\t\n",
        "[ 0.9        0.         0.0844303  1.02     ]\n",
        "Loss: 1.67e-02\tError: 1.29e-01\tStd dev: 1.34e-01\tResample: 1"
       ]
      },
      {
       "output_type": "stream",
       "stream": "stdout",
       "text": [
        "\n",
        "Loss: 1.41e-03\tError: 3.75e-02\tStd dev: 7.93e-02\tResample: 1\n",
        "Loss: 2.34e-03\tError: 4.84e-02\tStd dev: 7.00e-02\tResample: 1"
       ]
      },
      {
       "output_type": "stream",
       "stream": "stdout",
       "text": [
        "\n",
        "Loss: 7.97e-04\tError: 2.82e-02\tStd dev: 5.75e-02\tResample: 1\n",
        "Loss: 2.16e-05\tError: 4.62e-03\tStd dev: 4.69e-02\tResample: 2"
       ]
      },
      {
       "output_type": "stream",
       "stream": "stdout",
       "text": [
        "\n",
        "Loss: 4.48e-05\tError: 6.62e-03\tStd dev: 4.12e-02\tResample: 2\n",
        "Loss: 5.20e-04\tError: 2.28e-02\tStd dev: 3.52e-02\tResample: 2"
       ]
      },
      {
       "output_type": "stream",
       "stream": "stdout",
       "text": [
        "\n",
        "Loss: 7.98e-04\tError: 2.82e-02\tStd dev: 3.32e-02\tResample: 2\n",
        "Loss: 6.97e-04\tError: 2.63e-02\tStd dev: 3.39e-02\tResample: 2"
       ]
      },
      {
       "output_type": "stream",
       "stream": "stdout",
       "text": [
        "\n",
        "Loss: 6.65e-04\tError: 2.57e-02\tStd dev: 3.32e-02\tResample: 2\n",
        "Loss: 3.02e-04\tError: 1.72e-02\tStd dev: 3.44e-02\tResample: 2"
       ]
      },
      {
       "output_type": "stream",
       "stream": "stdout",
       "text": [
        "\n",
        "Loss: 2.26e-05\tError: 4.21e-03\tStd dev: 3.53e-02\tResample: 2\n",
        "Loss: 1.12e-05\tError: 2.54e-03\tStd dev: 3.42e-02\tResample: 2"
       ]
      },
      {
       "output_type": "stream",
       "stream": "stdout",
       "text": [
        "\n",
        "Loss: 2.39e-05\tError: 4.37e-03\tStd dev: 3.38e-02\tResample: 2\n",
        "Loss: 4.30e-05\tError: 6.23e-03\tStd dev: 3.32e-02\tResample: 2"
       ]
      },
      {
       "output_type": "stream",
       "stream": "stdout",
       "text": [
        "\n",
        "Loss: 9.77e-05\tError: 9.60e-03\tStd dev: 3.30e-02\tResample: 2\n",
        "Loss: 1.47e-04\tError: 1.18e-02\tStd dev: 3.28e-02\tResample: 2"
       ]
      },
      {
       "output_type": "stream",
       "stream": "stdout",
       "text": [
        "\n",
        "Loss: 9.00e-05\tError: 8.98e-03\tStd dev: 3.19e-02\tResample: 2\n",
        "Loss: 1.83e-04\tError: 1.31e-02\tStd dev: 3.13e-02\tResample: 2"
       ]
      },
      {
       "output_type": "stream",
       "stream": "stdout",
       "text": [
        "\n",
        "Loss: 1.12e-04\tError: 9.95e-03\tStd dev: 3.03e-02\tResample: 2\n",
        "Loss: 7.37e-04\tError: 2.67e-02\tStd dev: 3.01e-02\tResample: 3"
       ]
      },
      {
       "output_type": "stream",
       "stream": "stdout",
       "text": [
        "\n",
        "Loss: 8.71e-04\tError: 2.91e-02\tStd dev: 2.95e-02\tResample: 3\n",
        "Loss: 6.15e-04\tError: 2.44e-02\tStd dev: 2.92e-02\tResample: 3"
       ]
      },
      {
       "output_type": "stream",
       "stream": "stdout",
       "text": [
        "\n",
        "Loss: 6.20e-04\tError: 2.46e-02\tStd dev: 2.91e-02\tResample: 3\n",
        "Loss: 8.66e-04\tError: 2.92e-02\tStd dev: 2.90e-02\tResample: 3"
       ]
      },
      {
       "output_type": "stream",
       "stream": "stdout",
       "text": [
        "\n",
        "Loss: 7.99e-04\tError: 2.80e-02\tStd dev: 2.87e-02\tResample: 3\n",
        "Loss: 1.31e-03\tError: 3.60e-02\tStd dev: 2.82e-02\tResample: 3"
       ]
      },
      {
       "output_type": "stream",
       "stream": "stdout",
       "text": [
        "\n",
        "Loss: 9.57e-04\tError: 3.07e-02\tStd dev: 2.79e-02\tResample: 3\n",
        "Loss: 5.90e-04\tError: 2.41e-02\tStd dev: 2.76e-02\tResample: 3"
       ]
      },
      {
       "output_type": "stream",
       "stream": "stdout",
       "text": [
        "\n",
        "Loss: 3.81e-04\tError: 1.93e-02\tStd dev: 2.74e-02\tResample: 4"
       ]
      },
      {
       "output_type": "stream",
       "stream": "stdout",
       "text": [
        "\n",
        "Loss: 3.33e-04\tError: 1.79e-02\tStd dev: 2.73e-02\tResample: 4\n",
        "Loss: 3.35e-04\tError: 1.80e-02\tStd dev: 2.74e-02\tResample: 4"
       ]
      },
      {
       "output_type": "stream",
       "stream": "stdout",
       "text": [
        "\n",
        "Loss: 3.83e-04\tError: 1.92e-02\tStd dev: 2.73e-02\tResample: 4\n",
        "Loss: 3.65e-04\tError: 1.87e-02\tStd dev: 2.72e-02\tResample: 4"
       ]
      },
      {
       "output_type": "stream",
       "stream": "stdout",
       "text": [
        "\n",
        "Loss: 2.52e-04\tError: 1.55e-02\tStd dev: 2.71e-02\tResample: 4\n",
        "Loss: 2.59e-04\tError: 1.57e-02\tStd dev: 2.70e-02\tResample: 4"
       ]
      },
      {
       "output_type": "stream",
       "stream": "stdout",
       "text": [
        "\n",
        "Loss: 2.22e-04\tError: 1.44e-02\tStd dev: 2.69e-02\tResample: 4\n",
        "Loss: 2.35e-04\tError: 1.49e-02\tStd dev: 2.69e-02\tResample: 4"
       ]
      },
      {
       "output_type": "stream",
       "stream": "stdout",
       "text": [
        "\n",
        "Loss: 2.57e-04\tError: 1.57e-02\tStd dev: 2.69e-02\tResample: 4\n",
        "Loss: 2.59e-04\tError: 1.57e-02\tStd dev: 2.69e-02\tResample: 4"
       ]
      },
      {
       "output_type": "stream",
       "stream": "stdout",
       "text": [
        "\n",
        "Chose theta = [   2.21643596  294.46204664    0.68401403]."
       ]
      },
      {
       "output_type": "stream",
       "stream": "stdout",
       "text": [
        "\tLoss: 1.98e-04\tError: 1.36e-02\tStd dev: 2.65e-02\tResample: 4\n",
        "Chose theta = [   4.70994774  293.15          0.7       ]."
       ]
      },
      {
       "output_type": "stream",
       "stream": "stdout",
       "text": [
        "\tLoss: 2.00e-04\tError: 1.36e-02\tStd dev: 2.65e-02\tResample: 4\n",
        "Chose theta = [   4.70738104  293.15          0.7       ]."
       ]
      },
      {
       "output_type": "stream",
       "stream": "stdout",
       "text": [
        "\tLoss: 1.99e-04\tError: 1.35e-02\tStd dev: 2.66e-02\tResample: 4\n",
        "Chose theta = [   1.56671423  293.15          0.7       ]."
       ]
      },
      {
       "output_type": "stream",
       "stream": "stdout",
       "text": [
        "\tLoss: 1.97e-04\tError: 1.35e-02\tStd dev: 2.64e-02\tResample: 4\n",
        "Chose theta = [   1.56447693  293.15          0.7       ]."
       ]
      },
      {
       "output_type": "stream",
       "stream": "stdout",
       "text": [
        "\tLoss: 1.72e-04\tError: 1.23e-02\tStd dev: 2.67e-02\tResample: 4\n",
        "Chose theta = [   1.56873789  293.15          0.7       ]."
       ]
      },
      {
       "output_type": "stream",
       "stream": "stdout",
       "text": [
        "\tLoss: 1.37e-04\tError: 1.11e-02\tStd dev: 2.64e-02\tResample: 4\n",
        "Chose theta = [   5.34367475  310.            0.69689484]."
       ]
      },
      {
       "output_type": "stream",
       "stream": "stdout",
       "text": [
        "\tLoss: 1.21e-04\tError: 1.03e-02\tStd dev: 2.63e-02\tResample: 4\n",
        "0.896 \u00b1 0.00488\t"
       ]
      },
      {
       "output_type": "stream",
       "stream": "stdout",
       "text": [
        " -0.00141 \u00b1 0.00392\t 0.0947 \u00b1 0.0263\t 22.0 \u00b1 0.00537\t -1.02 \u00b1 0.00571\t\n",
        "[ 0.9        0.         0.0844303  1.02     ]\n",
        "x iiiiiiiiiiiiiiiiiiiiiiis 8\n",
        "Loss: 4.10e-02\tError: 2.02e-01\tStd dev: 1.57e-01\tResample: 1"
       ]
      },
      {
       "output_type": "stream",
       "stream": "stdout",
       "text": [
        "\n",
        "Loss: 1.37e-02\tError: 1.17e-01\tStd dev: 1.02e-01\tResample: 1\n",
        "Loss: 1.58e-02\tError: 1.26e-01\tStd dev: 8.01e-02\tResample: 1"
       ]
      },
      {
       "output_type": "stream",
       "stream": "stdout",
       "text": [
        "\n",
        "Loss: 6.11e-03\tError: 7.82e-02\tStd dev: 6.47e-02\tResample: 2"
       ]
      },
      {
       "output_type": "stream",
       "stream": "stdout",
       "text": [
        "\n",
        "Loss: 8.76e-03\tError: 9.36e-02\tStd dev: 5.73e-02\tResample: 2\n",
        "Loss: 1.09e-02\tError: 1.04e-01\tStd dev: 5.18e-02\tResample: 2"
       ]
      },
      {
       "output_type": "stream",
       "stream": "stdout",
       "text": [
        "\n",
        "Loss: 7.98e-03\tError: 8.93e-02\tStd dev: 4.85e-02\tResample: 2\n",
        "Loss: 9.47e-03\tError: 9.73e-02\tStd dev: 4.73e-02\tResample: 2"
       ]
      },
      {
       "output_type": "stream",
       "stream": "stdout",
       "text": [
        "\n",
        "Loss: 8.28e-03\tError: 9.10e-02\tStd dev: 4.58e-02\tResample: 2\n",
        "Loss: 5.37e-03\tError: 7.33e-02\tStd dev: 4.33e-02\tResample: 2"
       ]
      },
      {
       "output_type": "stream",
       "stream": "stdout",
       "text": [
        "\n",
        "Loss: 2.83e-03\tError: 5.32e-02\tStd dev: 4.05e-02\tResample: 2\n",
        "Loss: 2.44e-03\tError: 4.94e-02\tStd dev: 3.82e-02\tResample: 2"
       ]
      },
      {
       "output_type": "stream",
       "stream": "stdout",
       "text": [
        "\n",
        "Loss: 1.95e-03\tError: 4.41e-02\tStd dev: 3.63e-02\tResample: 2\n",
        "Loss: 1.52e-03\tError: 3.90e-02\tStd dev: 3.47e-02\tResample: 3"
       ]
      },
      {
       "output_type": "stream",
       "stream": "stdout",
       "text": [
        "\n",
        "Loss: 2.38e-03\tError: 4.88e-02\tStd dev: 3.40e-02\tResample: 3\n",
        "Loss: 2.23e-03\tError: 4.72e-02\tStd dev: 3.41e-02\tResample: 3"
       ]
      },
      {
       "output_type": "stream",
       "stream": "stdout",
       "text": [
        "\n",
        "Loss: 2.29e-03\tError: 4.79e-02\tStd dev: 3.38e-02\tResample: 3\n",
        "Loss: 1.63e-03\tError: 4.03e-02\tStd dev: 3.28e-02\tResample: 3"
       ]
      },
      {
       "output_type": "stream",
       "stream": "stdout",
       "text": [
        "\n",
        "Loss: 1.03e-03\tError: 3.20e-02\tStd dev: 3.18e-02\tResample: 3\n",
        "Loss: 9.29e-04\tError: 3.04e-02\tStd dev: 3.08e-02\tResample: 3"
       ]
      },
      {
       "output_type": "stream",
       "stream": "stdout",
       "text": [
        "\n",
        "Loss: 1.32e-03\tError: 3.63e-02\tStd dev: 3.02e-02\tResample: 3\n",
        "Loss: 1.45e-03\tError: 3.80e-02\tStd dev: 2.96e-02\tResample: 3"
       ]
      },
      {
       "output_type": "stream",
       "stream": "stdout",
       "text": [
        "\n",
        "Loss: 1.01e-03\tError: 3.17e-02\tStd dev: 2.93e-02\tResample: 3\n",
        "Loss: 1.04e-03\tError: 3.21e-02\tStd dev: 2.92e-02\tResample: 3"
       ]
      },
      {
       "output_type": "stream",
       "stream": "stdout",
       "text": [
        "\n",
        "Loss: 9.54e-04\tError: 3.07e-02\tStd dev: 2.89e-02\tResample: 3\n",
        "Loss: 8.24e-04\tError: 2.85e-02\tStd dev: 2.85e-02\tResample: 3"
       ]
      },
      {
       "output_type": "stream",
       "stream": "stdout",
       "text": [
        "\n",
        "Loss: 8.29e-04\tError: 2.86e-02\tStd dev: 2.81e-02\tResample: 3\n",
        "Loss: 1.09e-03\tError: 3.29e-02\tStd dev: 2.79e-02\tResample: 3"
       ]
      },
      {
       "output_type": "stream",
       "stream": "stdout",
       "text": [
        "\n",
        "Loss: 8.05e-04\tError: 2.82e-02\tStd dev: 2.74e-02\tResample: 3\n",
        "Loss: 7.29e-04\tError: 2.68e-02\tStd dev: 2.71e-02\tResample: 3"
       ]
      },
      {
       "output_type": "stream",
       "stream": "stdout",
       "text": [
        "\n",
        "Loss: 6.81e-04\tError: 2.59e-02\tStd dev: 2.70e-02\tResample: 3\n",
        "Loss: 6.73e-04\tError: 2.58e-02\tStd dev: 2.69e-02\tResample: 3"
       ]
      },
      {
       "output_type": "stream",
       "stream": "stdout",
       "text": [
        "\n",
        "Loss: 5.76e-04\tError: 2.37e-02\tStd dev: 2.67e-02\tResample: 3\n",
        "Loss: 7.77e-04\tError: 2.76e-02\tStd dev: 2.68e-02\tResample: 3"
       ]
      },
      {
       "output_type": "stream",
       "stream": "stdout",
       "text": [
        "\n",
        "Loss: 7.64e-04\tError: 2.74e-02\tStd dev: 2.67e-02\tResample: 3\n",
        "Loss: 7.69e-04\tError: 2.75e-02\tStd dev: 2.66e-02\tResample: 3"
       ]
      },
      {
       "output_type": "stream",
       "stream": "stdout",
       "text": [
        "\n",
        "Loss: 7.53e-04\tError: 2.72e-02\tStd dev: 2.65e-02\tResample: 4"
       ]
      },
      {
       "output_type": "stream",
       "stream": "stdout",
       "text": [
        "\n",
        "Loss: 7.96e-04\tError: 2.79e-02\tStd dev: 2.66e-02\tResample: 4\n",
        "Loss: 8.33e-04\tError: 2.87e-02\tStd dev: 2.67e-02\tResample: 4"
       ]
      },
      {
       "output_type": "stream",
       "stream": "stdout",
       "text": [
        "\n",
        "Loss: 8.47e-04\tError: 2.90e-02\tStd dev: 2.67e-02\tResample: 4\n",
        "Chose theta = [   1.56310486  293.15          0.7       ]."
       ]
      },
      {
       "output_type": "stream",
       "stream": "stdout",
       "text": [
        "\tLoss: 8.48e-04\tError: 2.90e-02\tStd dev: 2.67e-02\tResample: 4\n",
        "Chose theta = [   1.56653813  293.15          0.7       ]."
       ]
      },
      {
       "output_type": "stream",
       "stream": "stdout",
       "text": [
        "\tLoss: 9.22e-04\tError: 3.01e-02\tStd dev: 2.72e-02\tResample: 4\n",
        "Chose theta = [   1.56574307  293.15          0.7       ]."
       ]
      },
      {
       "output_type": "stream",
       "stream": "stdout",
       "text": [
        "\tLoss: 8.96e-04\tError: 2.98e-02\tStd dev: 2.69e-02\tResample: 4\n",
        "Chose theta = [   1.56627547  293.15          0.7       ]."
       ]
      },
      {
       "output_type": "stream",
       "stream": "stdout",
       "text": [
        "\tLoss: 9.04e-04\tError: 2.99e-02\tStd dev: 2.70e-02\tResample: 4\n",
        "Chose theta = [   4.70658219  293.15          0.7       ]."
       ]
      },
      {
       "output_type": "stream",
       "stream": "stdout",
       "text": [
        "\tLoss: 8.98e-04\tError: 2.99e-02\tStd dev: 2.69e-02\tResample: 4\n",
        "Chose theta = [   2.18397957  293.21377677    0.7000918 ]."
       ]
      },
      {
       "output_type": "stream",
       "stream": "stdout",
       "text": [
        "\tLoss: 1.21e-03\tError: 3.47e-02\tStd dev: 2.66e-02\tResample: 4\n",
        "Chose theta = [   1.56407068  293.15          0.7       ]."
       ]
      },
      {
       "output_type": "stream",
       "stream": "stdout",
       "text": [
        "\tLoss: 1.22e-03\tError: 3.49e-02\tStd dev: 2.65e-02\tResample: 4\n",
        "Chose theta = [   4.70692973  293.15          0.7       ]."
       ]
      },
      {
       "output_type": "stream",
       "stream": "stdout",
       "text": [
        "\tLoss: 1.23e-03\tError: 3.49e-02\tStd dev: 2.65e-02\tResample: 4\n",
        "0.9 \u00b1 0.00529\t"
       ]
      },
      {
       "output_type": "stream",
       "stream": "stdout",
       "text": [
        " 0.00248 \u00b1 0.00378\t 0.119 \u00b1 0.0265\t 22.0 \u00b1 0.0053\t -1.02 \u00b1 0.00579\t\n",
        "[ 0.9        0.         0.0844303  1.02     ]\n",
        "Loss: 6.30e-03\tError: 7.94e-02\tStd dev: 1.11e-01\tResample: 1"
       ]
      },
      {
       "output_type": "stream",
       "stream": "stdout",
       "text": [
        "\n",
        "Loss: 3.97e-03\tError: 6.30e-02\tStd dev: 8.53e-02\tResample: 1\n",
        "Loss: 2.50e-04\tError: 1.56e-02\tStd dev: 6.06e-02\tResample: 1"
       ]
      },
      {
       "output_type": "stream",
       "stream": "stdout",
       "text": [
        "\n",
        "Loss: 8.62e-05\tError: 9.04e-03\tStd dev: 4.70e-02\tResample: 1\n",
        "Loss: 1.93e-04\tError: 1.37e-02\tStd dev: 4.15e-02\tResample: 2"
       ]
      },
      {
       "output_type": "stream",
       "stream": "stdout",
       "text": [
        "\n",
        "Loss: 8.27e-06\tError: 7.66e-05\tStd dev: 4.29e-02\tResample: 2\n",
        "Loss: 6.58e-05\tError: 7.43e-03\tStd dev: 3.94e-02\tResample: 2"
       ]
      },
      {
       "output_type": "stream",
       "stream": "stdout",
       "text": [
        "\n",
        "Loss: 2.41e-04\tError: 1.54e-02\tStd dev: 3.73e-02\tResample: 2\n",
        "Loss: 2.79e-04\tError: 1.66e-02\tStd dev: 3.66e-02\tResample: 2"
       ]
      },
      {
       "output_type": "stream",
       "stream": "stdout",
       "text": [
        "\n",
        "Loss: 9.60e-05\tError: 9.75e-03\tStd dev: 3.71e-02\tResample: 2\n",
        "Loss: 1.25e-04\tError: 1.11e-02\tStd dev: 3.54e-02\tResample: 2"
       ]
      },
      {
       "output_type": "stream",
       "stream": "stdout",
       "text": [
        "\n",
        "Loss: 4.51e-05\tError: 6.68e-03\tStd dev: 3.47e-02\tResample: 2\n",
        "Loss: 2.67e-05\tError: 4.99e-03\tStd dev: 3.48e-02\tResample: 2"
       ]
      },
      {
       "output_type": "stream",
       "stream": "stdout",
       "text": [
        "\n",
        "Loss: 3.06e-05\tError: 5.15e-03\tStd dev: 3.26e-02\tResample: 2\n",
        "Loss: 1.79e-05\tError: 3.61e-03\tStd dev: 3.20e-02\tResample: 2"
       ]
      },
      {
       "output_type": "stream",
       "stream": "stdout",
       "text": [
        "\n",
        "Loss: 4.03e-06\tError: 1.41e-03\tStd dev: 3.20e-02\tResample: 2\n",
        "Loss: 1.28e-06\tError: 9.59e-05\tStd dev: 3.18e-02\tResample: 2"
       ]
      },
      {
       "output_type": "stream",
       "stream": "stdout",
       "text": [
        "\n",
        "Loss: 1.37e-04\tError: 1.17e-02\tStd dev: 3.01e-02\tResample: 2\n",
        "Loss: 2.24e-04\tError: 1.49e-02\tStd dev: 2.90e-02\tResample: 2"
       ]
      },
      {
       "output_type": "stream",
       "stream": "stdout",
       "text": [
        "\n",
        "Loss: 4.43e-04\tError: 2.10e-02\tStd dev: 2.76e-02\tResample: 2\n",
        "Loss: 2.32e-04\tError: 1.52e-02\tStd dev: 2.79e-02\tResample: 2"
       ]
      },
      {
       "output_type": "stream",
       "stream": "stdout",
       "text": [
        "\n",
        "Loss: 3.98e-04\tError: 1.99e-02\tStd dev: 2.69e-02\tResample: 2\n",
        "Loss: 6.51e-04\tError: 2.55e-02\tStd dev: 2.59e-02\tResample: 2"
       ]
      },
      {
       "output_type": "stream",
       "stream": "stdout",
       "text": [
        "\n",
        "Loss: 5.74e-04\tError: 2.39e-02\tStd dev: 2.60e-02\tResample: 2\n",
        "Loss: 5.77e-04\tError: 2.39e-02\tStd dev: 2.59e-02\tResample: 2"
       ]
      },
      {
       "output_type": "stream",
       "stream": "stdout",
       "text": [
        "\n",
        "Loss: 5.51e-04\tError: 2.34e-02\tStd dev: 2.57e-02\tResample: 2\n",
        "Loss: 2.57e-04\tError: 1.59e-02\tStd dev: 2.63e-02\tResample: 2"
       ]
      },
      {
       "output_type": "stream",
       "stream": "stdout",
       "text": [
        "\n",
        "Loss: 1.43e-04\tError: 1.18e-02\tStd dev: 2.64e-02\tResample: 2\n",
        "Loss: 2.15e-05\tError: 2.84e-03\tStd dev: 2.66e-02\tResample: 3"
       ]
      },
      {
       "output_type": "stream",
       "stream": "stdout",
       "text": [
        "\n",
        "Loss: 3.56e-05\tError: 4.71e-03\tStd dev: 2.64e-02\tResample: 3\n",
        "Loss: 3.54e-05\tError: 4.64e-03\tStd dev: 2.63e-02\tResample: 3"
       ]
      },
      {
       "output_type": "stream",
       "stream": "stdout",
       "text": [
        "\n",
        "Loss: 3.53e-05\tError: 4.65e-03\tStd dev: 2.63e-02\tResample: 3\n",
        "Loss: 3.14e-05\tError: 4.26e-03\tStd dev: 2.62e-02\tResample: 3"
       ]
      },
      {
       "output_type": "stream",
       "stream": "stdout",
       "text": [
        "\n",
        "Loss: 2.98e-05\tError: 3.95e-03\tStd dev: 2.61e-02\tResample: 3\n",
        "Loss: 4.53e-05\tError: 5.60e-03\tStd dev: 2.61e-02\tResample: 3"
       ]
      },
      {
       "output_type": "stream",
       "stream": "stdout",
       "text": [
        "\n",
        "Loss: 3.75e-05\tError: 4.57e-03\tStd dev: 2.60e-02\tResample: 3\n",
        "Loss: 4.77e-05\tError: 5.60e-03\tStd dev: 2.60e-02\tResample: 3"
       ]
      },
      {
       "output_type": "stream",
       "stream": "stdout",
       "text": [
        "\n",
        "Loss: 3.93e-05\tError: 4.03e-03\tStd dev: 2.59e-02\tResample: 3\n",
        "Loss: 3.28e-05\tError: 3.21e-03\tStd dev: 2.57e-02\tResample: 3"
       ]
      },
      {
       "output_type": "stream",
       "stream": "stdout",
       "text": [
        "\n",
        "Loss: 2.57e-05\tError: 2.89e-03\tStd dev: 2.57e-02\tResample: 3\n",
        "Chose theta = [   2.79221546  310.            0.71808153]."
       ]
      },
      {
       "output_type": "stream",
       "stream": "stdout",
       "text": [
        "\tLoss: 2.94e-05\tError: 3.50e-03\tStd dev: 2.54e-02\tResample: 3\n",
        "Chose theta = [   4.70811771  293.15          0.7       ]."
       ]
      },
      {
       "output_type": "stream",
       "stream": "stdout",
       "text": [
        "\tLoss: 5.06e-05\tError: 3.36e-03\tStd dev: 2.56e-02\tResample: 3\n",
        "Chose theta = [   1.56802921  293.15          0.7       ]."
       ]
      },
      {
       "output_type": "stream",
       "stream": "stdout",
       "text": [
        "\tLoss: 5.65e-05\tError: 3.01e-03\tStd dev: 2.57e-02\tResample: 4"
       ]
      },
      {
       "output_type": "stream",
       "stream": "stdout",
       "text": [
        "\n",
        "Chose theta = [   1.56872085  293.15          0.7       ]."
       ]
      },
      {
       "output_type": "stream",
       "stream": "stdout",
       "text": [
        "\tLoss: 4.92e-05\tError: 3.62e-03\tStd dev: 2.55e-02\tResample: 4\n",
        "Chose theta = [   6.28318531  293.146074      0.69999354]."
       ]
      },
      {
       "output_type": "stream",
       "stream": "stdout",
       "text": [
        "\tLoss: 5.42e-05\tError: 3.94e-03\tStd dev: 2.55e-02\tResample: 4\n",
        "Chose theta = [   1.08945438  293.33787353    0.70003051]."
       ]
      },
      {
       "output_type": "stream",
       "stream": "stdout",
       "text": [
        "\tLoss: 4.09e-05\tError: 1.51e-03\tStd dev: 2.52e-02\tResample: 4\n",
        "Chose theta = [   6.28318531  293.15024573    0.70003938]."
       ]
      },
      {
       "output_type": "stream",
       "stream": "stdout",
       "text": [
        "\tLoss: 4.27e-05\tError: 1.65e-03\tStd dev: 2.52e-02\tResample: 4\n",
        "Chose theta = [   0.90361775  293.41193469    0.69665519]."
       ]
      },
      {
       "output_type": "stream",
       "stream": "stdout",
       "text": [
        "\tLoss: 3.87e-05\tError: 2.55e-04\tStd dev: 2.48e-02\tResample: 4\n",
        "0.899 \u00b1 0.00536\t"
       ]
      },
      {
       "output_type": "stream",
       "stream": "stdout",
       "text": [
        " 0.00562 \u00b1 0.00313\t 0.0842 \u00b1 0.0248\t 22.0 \u00b1 0.00502\t -1.02 \u00b1 0.0057\t\n",
        "[ 0.9        0.         0.0844303  1.02     ]\n",
        "x iiiiiiiiiiiiiiiiiiiiiiis 9\n",
        "Loss: 2.67e-02\tError: 1.63e-01\tStd dev: 1.46e-01\tResample: 1"
       ]
      },
      {
       "output_type": "stream",
       "stream": "stdout",
       "text": [
        "\n",
        "Loss: 3.97e-03\tError: 6.30e-02\tStd dev: 8.93e-02\tResample: 1\n",
        "Loss: 2.95e-04\tError: 1.71e-02\tStd dev: 4.67e-02\tResample: 2"
       ]
      },
      {
       "output_type": "stream",
       "stream": "stdout",
       "text": [
        "\n",
        "Loss: 1.36e-05\tError: 3.34e-03\tStd dev: 5.10e-02\tResample: 2\n",
        "Loss: 7.79e-05\tError: 8.62e-03\tStd dev: 4.34e-02\tResample: 2"
       ]
      },
      {
       "output_type": "stream",
       "stream": "stdout",
       "text": [
        "\n",
        "Loss: 4.21e-04\tError: 2.05e-02\tStd dev: 3.72e-02\tResample: 2\n",
        "Loss: 4.61e-05\tError: 6.77e-03\tStd dev: 3.97e-02\tResample: 2"
       ]
      },
      {
       "output_type": "stream",
       "stream": "stdout",
       "text": [
        "\n",
        "Loss: 1.26e-04\tError: 1.12e-02\tStd dev: 3.83e-02\tResample: 2\n",
        "Loss: 7.92e-05\tError: 8.88e-03\tStd dev: 3.90e-02\tResample: 2"
       ]
      },
      {
       "output_type": "stream",
       "stream": "stdout",
       "text": [
        "\n",
        "Loss: 3.35e-04\tError: 1.83e-02\tStd dev: 3.53e-02\tResample: 2\n",
        "Loss: 9.84e-05\tError: 9.78e-03\tStd dev: 3.59e-02\tResample: 2"
       ]
      },
      {
       "output_type": "stream",
       "stream": "stdout",
       "text": [
        "\n",
        "Loss: 4.21e-06\tError: 1.71e-03\tStd dev: 3.62e-02\tResample: 2\n",
        "Loss: 4.00e-04\tError: 1.99e-02\tStd dev: 3.64e-02\tResample: 3"
       ]
      },
      {
       "output_type": "stream",
       "stream": "stdout",
       "text": [
        "\n",
        "Loss: 3.62e-04\tError: 1.89e-02\tStd dev: 3.49e-02\tResample: 3\n",
        "Loss: 4.76e-04\tError: 2.17e-02\tStd dev: 3.42e-02\tResample: 3"
       ]
      },
      {
       "output_type": "stream",
       "stream": "stdout",
       "text": [
        "\n",
        "Loss: 5.73e-04\tError: 2.39e-02\tStd dev: 3.39e-02\tResample: 3\n",
        "Loss: 7.29e-04\tError: 2.70e-02\tStd dev: 3.37e-02\tResample: 3"
       ]
      },
      {
       "output_type": "stream",
       "stream": "stdout",
       "text": [
        "\n",
        "Loss: 1.38e-03\tError: 3.70e-02\tStd dev: 3.30e-02\tResample: 3\n",
        "Loss: 1.23e-03\tError: 3.50e-02\tStd dev: 3.20e-02\tResample: 3"
       ]
      },
      {
       "output_type": "stream",
       "stream": "stdout",
       "text": [
        "\n",
        "Loss: 3.35e-04\tError: 1.83e-02\tStd dev: 3.08e-02\tResample: 3\n",
        "Loss: 6.73e-04\tError: 2.59e-02\tStd dev: 3.02e-02\tResample: 3"
       ]
      },
      {
       "output_type": "stream",
       "stream": "stdout",
       "text": [
        "\n",
        "Loss: 7.75e-04\tError: 2.78e-02\tStd dev: 2.97e-02\tResample: 3\n",
        "Loss: 4.38e-04\tError: 2.08e-02\tStd dev: 2.93e-02\tResample: 3"
       ]
      },
      {
       "output_type": "stream",
       "stream": "stdout",
       "text": [
        "\n",
        "Loss: 4.27e-04\tError: 2.06e-02\tStd dev: 2.93e-02\tResample: 3\n",
        "Loss: 3.81e-04\tError: 1.95e-02\tStd dev: 2.91e-02\tResample: 3"
       ]
      },
      {
       "output_type": "stream",
       "stream": "stdout",
       "text": [
        "\n",
        "Loss: 4.83e-04\tError: 2.19e-02\tStd dev: 2.87e-02\tResample: 3\n",
        "Loss: 8.91e-04\tError: 2.97e-02\tStd dev: 2.84e-02\tResample: 3"
       ]
      },
      {
       "output_type": "stream",
       "stream": "stdout",
       "text": [
        "\n",
        "Loss: 7.38e-04\tError: 2.70e-02\tStd dev: 2.80e-02\tResample: 3\n",
        "Loss: 5.79e-04\tError: 2.40e-02\tStd dev: 2.77e-02\tResample: 3"
       ]
      },
      {
       "output_type": "stream",
       "stream": "stdout",
       "text": [
        "\n",
        "Loss: 5.75e-04\tError: 2.39e-02\tStd dev: 2.75e-02\tResample: 3\n",
        "Loss: 4.33e-04\tError: 2.07e-02\tStd dev: 2.75e-02\tResample: 3"
       ]
      },
      {
       "output_type": "stream",
       "stream": "stdout",
       "text": [
        "\n",
        "Loss: 4.37e-04\tError: 2.06e-02\tStd dev: 2.76e-02\tResample: 3\n",
        "Loss: 2.50e-04\tError: 1.54e-02\tStd dev: 2.74e-02\tResample: 3"
       ]
      },
      {
       "output_type": "stream",
       "stream": "stdout",
       "text": [
        "\n",
        "Loss: 2.99e-04\tError: 1.69e-02\tStd dev: 2.73e-02\tResample: 3\n",
        "Loss: 2.38e-04\tError: 1.49e-02\tStd dev: 2.71e-02\tResample: 3"
       ]
      },
      {
       "output_type": "stream",
       "stream": "stdout",
       "text": [
        "\n",
        "Loss: 3.63e-04\tError: 1.85e-02\tStd dev: 2.72e-02\tResample: 3\n",
        "Loss: 2.87e-04\tError: 1.62e-02\tStd dev: 2.71e-02\tResample: 4"
       ]
      },
      {
       "output_type": "stream",
       "stream": "stdout",
       "text": [
        "\n",
        "Loss: 2.79e-04\tError: 1.60e-02\tStd dev: 2.71e-02\tResample: 4\n",
        "Loss: 2.66e-04\tError: 1.55e-02\tStd dev: 2.71e-02\tResample: 4"
       ]
      },
      {
       "output_type": "stream",
       "stream": "stdout",
       "text": [
        "\n",
        "Loss: 2.73e-04\tError: 1.57e-02\tStd dev: 2.71e-02\tResample: 4\n",
        "Chose theta = [   6.27750461  293.15          0.7       ]."
       ]
      },
      {
       "output_type": "stream",
       "stream": "stdout",
       "text": [
        "\tLoss: 2.74e-04\tError: 1.58e-02\tStd dev: 2.71e-02\tResample: 4\n",
        "Chose theta = [   6.27675616  293.15          0.7       ]."
       ]
      },
      {
       "output_type": "stream",
       "stream": "stdout",
       "text": [
        "\tLoss: 2.74e-04\tError: 1.58e-02\tStd dev: 2.71e-02\tResample: 4\n",
        "Chose theta = [  6.25855923e-01   3.10000000e+02   1.72329173e-01]."
       ]
      },
      {
       "output_type": "stream",
       "stream": "stdout",
       "text": [
        "\tLoss: 3.23e-04\tError: 1.73e-02\tStd dev: 2.65e-02\tResample: 4\n",
        "Chose theta = [   4.70750446  293.15          0.7       ]."
       ]
      },
      {
       "output_type": "stream",
       "stream": "stdout",
       "text": [
        "\tLoss: 3.21e-04\tError: 1.73e-02\tStd dev: 2.65e-02\tResample: 4\n",
        "Chose theta = [   6.27838368  293.15          0.7       ]."
       ]
      },
      {
       "output_type": "stream",
       "stream": "stdout",
       "text": [
        "\tLoss: 3.22e-04\tError: 1.73e-02\tStd dev: 2.65e-02\tResample: 4\n",
        "Chose theta = [   6.27948988  293.15          0.7       ]."
       ]
      },
      {
       "output_type": "stream",
       "stream": "stdout",
       "text": [
        "\tLoss: 3.19e-04\tError: 1.71e-02\tStd dev: 2.64e-02\tResample: 4\n",
        "Chose theta = [   6.27772088  293.15          0.7       ]."
       ]
      },
      {
       "output_type": "stream",
       "stream": "stdout",
       "text": [
        "\tLoss: 3.19e-04\tError: 1.71e-02\tStd dev: 2.64e-02\tResample: 4\n",
        "Chose theta = [   6.27767846  293.15          0.7       ]."
       ]
      },
      {
       "output_type": "stream",
       "stream": "stdout",
       "text": [
        "\tLoss: 3.22e-04\tError: 1.71e-02\tStd dev: 2.64e-02\tResample: 4\n",
        "Chose theta = [   2.05744721  293.26446188    0.70051953]."
       ]
      },
      {
       "output_type": "stream",
       "stream": "stdout",
       "text": [
        "\tLoss: 2.91e-04\tError: 1.61e-02\tStd dev: 2.60e-02\tResample: 4\n",
        "0.898 \u00b1 0.00507\t"
       ]
      },
      {
       "output_type": "stream",
       "stream": "stdout",
       "text": [
        " 0.00511 \u00b1 0.00323\t 0.101 \u00b1 0.026\t 22.0 \u00b1 0.00534\t -1.02 \u00b1 0.00573\t\n",
        "[ 0.9        0.         0.0844303  1.02     ]\n",
        "Loss: 1.69e-02\tError: 1.30e-01\tStd dev: 1.34e-01\tResample: 1"
       ]
      },
      {
       "output_type": "stream",
       "stream": "stdout",
       "text": [
        "\n",
        "Loss: 7.74e-03\tError: 8.80e-02\tStd dev: 9.42e-02\tResample: 1\n",
        "Loss: 1.10e-03\tError: 3.31e-02\tStd dev: 6.69e-02\tResample: 1"
       ]
      },
      {
       "output_type": "stream",
       "stream": "stdout",
       "text": [
        "\n",
        "Loss: 7.84e-04\tError: 2.80e-02\tStd dev: 5.78e-02\tResample: 1\n",
        "Loss: 1.99e-04\tError: 1.40e-02\tStd dev: 4.91e-02\tResample: 2"
       ]
      },
      {
       "output_type": "stream",
       "stream": "stdout",
       "text": [
        "\n",
        "Loss: 1.45e-05\tError: 3.64e-03\tStd dev: 4.37e-02\tResample: 2\n",
        "Loss: 1.38e-04\tError: 1.15e-02\tStd dev: 3.84e-02\tResample: 2"
       ]
      },
      {
       "output_type": "stream",
       "stream": "stdout",
       "text": [
        "\n",
        "Loss: 2.64e-04\tError: 1.62e-02\tStd dev: 3.70e-02\tResample: 2\n",
        "Loss: 1.04e-04\tError: 9.34e-03\tStd dev: 3.92e-02\tResample: 2"
       ]
      },
      {
       "output_type": "stream",
       "stream": "stdout",
       "text": [
        "\n",
        "Loss: 9.38e-05\tError: 8.78e-03\tStd dev: 3.80e-02\tResample: 2\n",
        "Loss: 7.88e-05\tError: 7.51e-03\tStd dev: 3.89e-02\tResample: 2"
       ]
      },
      {
       "output_type": "stream",
       "stream": "stdout",
       "text": [
        "\n",
        "Loss: 4.90e-04\tError: 2.17e-02\tStd dev: 3.82e-02\tResample: 2\n",
        "Loss: 1.49e-04\tError: 1.15e-02\tStd dev: 3.58e-02\tResample: 2"
       ]
      },
      {
       "output_type": "stream",
       "stream": "stdout",
       "text": [
        "\n",
        "Loss: 2.94e-05\tError: 2.88e-03\tStd dev: 3.38e-02\tResample: 2\n",
        "Loss: 2.41e-05\tError: 1.75e-03\tStd dev: 3.30e-02\tResample: 2"
       ]
      },
      {
       "output_type": "stream",
       "stream": "stdout",
       "text": [
        "\n",
        "Loss: 2.45e-05\tError: 1.79e-03\tStd dev: 3.29e-02\tResample: 2\n",
        "Loss: 3.13e-05\tError: 3.21e-03\tStd dev: 3.27e-02\tResample: 2"
       ]
      },
      {
       "output_type": "stream",
       "stream": "stdout",
       "text": [
        "\n",
        "Loss: 4.76e-05\tError: 5.76e-03\tStd dev: 3.13e-02\tResample: 2\n",
        "Loss: 2.32e-05\tError: 3.09e-03\tStd dev: 3.07e-02\tResample: 2"
       ]
      },
      {
       "output_type": "stream",
       "stream": "stdout",
       "text": [
        "\n",
        "Loss: 1.31e-04\tError: 1.09e-02\tStd dev: 2.93e-02\tResample: 2\n",
        "Loss: 3.41e-04\tError: 1.80e-02\tStd dev: 2.77e-02\tResample: 3"
       ]
      },
      {
       "output_type": "stream",
       "stream": "stdout",
       "text": [
        "\n",
        "Loss: 2.25e-04\tError: 1.44e-02\tStd dev: 2.77e-02\tResample: 3\n",
        "Loss: 4.13e-04\tError: 1.97e-02\tStd dev: 2.68e-02\tResample: 3"
       ]
      },
      {
       "output_type": "stream",
       "stream": "stdout",
       "text": [
        "\n",
        "Loss: 4.55e-04\tError: 2.07e-02\tStd dev: 2.67e-02\tResample: 3\n",
        "Loss: 3.37e-04\tError: 1.74e-02\tStd dev: 2.71e-02\tResample: 3"
       ]
      },
      {
       "output_type": "stream",
       "stream": "stdout",
       "text": [
        "\n",
        "Loss: 3.63e-04\tError: 1.81e-02\tStd dev: 2.67e-02\tResample: 3\n",
        "Loss: 3.48e-04\tError: 1.76e-02\tStd dev: 2.65e-02\tResample: 3"
       ]
      },
      {
       "output_type": "stream",
       "stream": "stdout",
       "text": [
        "\n",
        "Loss: 1.08e-04\tError: 8.84e-03\tStd dev: 2.71e-02\tResample: 3\n",
        "Loss: 2.11e-04\tError: 1.35e-02\tStd dev: 2.65e-02\tResample: 3"
       ]
      },
      {
       "output_type": "stream",
       "stream": "stdout",
       "text": [
        "\n",
        "Loss: 1.56e-04\tError: 1.14e-02\tStd dev: 2.65e-02\tResample: 3\n",
        "Loss: 2.01e-04\tError: 1.33e-02\tStd dev: 2.63e-02\tResample: 3"
       ]
      },
      {
       "output_type": "stream",
       "stream": "stdout",
       "text": [
        "\n",
        "Loss: 1.79e-04\tError: 1.28e-02\tStd dev: 2.62e-02\tResample: 3\n",
        "Loss: 2.93e-04\tError: 1.66e-02\tStd dev: 2.57e-02\tResample: 3"
       ]
      },
      {
       "output_type": "stream",
       "stream": "stdout",
       "text": [
        "\n",
        "Loss: 2.33e-04\tError: 1.47e-02\tStd dev: 2.59e-02\tResample: 3\n",
        "Loss: 1.57e-04\tError: 1.19e-02\tStd dev: 2.61e-02\tResample: 3"
       ]
      },
      {
       "output_type": "stream",
       "stream": "stdout",
       "text": [
        "\n",
        "Loss: 8.82e-05\tError: 8.17e-03\tStd dev: 2.62e-02\tResample: 3\n",
        "Loss: 8.35e-05\tError: 7.87e-03\tStd dev: 2.62e-02\tResample: 3"
       ]
      },
      {
       "output_type": "stream",
       "stream": "stdout",
       "text": [
        "\n",
        "Loss: 6.46e-05\tError: 6.22e-03\tStd dev: 2.60e-02\tResample: 4"
       ]
      },
      {
       "output_type": "stream",
       "stream": "stdout",
       "text": [
        "\n",
        "Loss: 6.11e-05\tError: 6.00e-03\tStd dev: 2.60e-02\tResample: 4\n",
        "Loss: 6.67e-05\tError: 6.40e-03\tStd dev: 2.60e-02\tResample: 4"
       ]
      },
      {
       "output_type": "stream",
       "stream": "stdout",
       "text": [
        "\n",
        "Chose theta = [   3.13836454  293.15          0.7       ]."
       ]
      },
      {
       "output_type": "stream",
       "stream": "stdout",
       "text": [
        "\tLoss: 6.32e-05\tError: 6.21e-03\tStd dev: 2.62e-02\tResample: 4\n",
        "Chose theta = [   3.13538395  293.15          0.7       ]."
       ]
      },
      {
       "output_type": "stream",
       "stream": "stdout",
       "text": [
        "\tLoss: 5.59e-05\tError: 5.58e-03\tStd dev: 2.61e-02\tResample: 4\n",
        "Chose theta = [   2.67957404  270.            0.7277258 ]."
       ]
      },
      {
       "output_type": "stream",
       "stream": "stdout",
       "text": [
        "\tLoss: 7.38e-05\tError: 6.86e-03\tStd dev: 2.59e-02\tResample: 4\n",
        "Chose theta = [   3.13947897  293.15          0.7       ]."
       ]
      },
      {
       "output_type": "stream",
       "stream": "stdout",
       "text": [
        "\tLoss: 7.22e-05\tError: 6.75e-03\tStd dev: 2.59e-02\tResample: 4\n",
        "Chose theta = [   3.1369457  293.15         0.7      ]."
       ]
      },
      {
       "output_type": "stream",
       "stream": "stdout",
       "text": [
        "\tLoss: 7.27e-05\tError: 6.77e-03\tStd dev: 2.59e-02\tResample: 4\n",
        "Chose theta = [   3.13897202  293.15          0.7       ]."
       ]
      },
      {
       "output_type": "stream",
       "stream": "stdout",
       "text": [
        "\tLoss: 7.52e-05\tError: 6.90e-03\tStd dev: 2.58e-02\tResample: 4\n",
        "Chose theta = [   6.28318531  293.28115017    0.69974095]."
       ]
      },
      {
       "output_type": "stream",
       "stream": "stdout",
       "text": [
        "\tLoss: 7.55e-05\tError: 6.92e-03\tStd dev: 2.58e-02\tResample: 4\n",
        "Chose theta = [   3.13695645  293.15          0.7       ]."
       ]
      },
      {
       "output_type": "stream",
       "stream": "stdout",
       "text": [
        "\tLoss: 7.72e-05\tError: 7.06e-03\tStd dev: 2.59e-02\tResample: 4\n",
        "Chose theta = [   6.27909409  293.15          0.7       ]."
       ]
      },
      {
       "output_type": "stream",
       "stream": "stdout",
       "text": [
        "\tLoss: 7.74e-05\tError: 6.92e-03\tStd dev: 2.59e-02\tResample: 4\n",
        "0.897 \u00b1 0.00494\t"
       ]
      },
      {
       "output_type": "stream",
       "stream": "stdout",
       "text": [
        " 0.00408 \u00b1 0.00346\t 0.0775 \u00b1 0.0259\t 22.0 \u00b1 0.00518\t -1.02 \u00b1 0.00574\t\n",
        "[ 0.9        0.         0.0844303  1.02     ]\n",
        "x iiiiiiiiiiiiiiiiiiiiiiis 10\n",
        "Loss: 1.03e-02\tError: 1.01e-01\tStd dev: 1.22e-01\tResample: 1"
       ]
      },
      {
       "output_type": "stream",
       "stream": "stdout",
       "text": [
        "\n",
        "Loss: 5.47e-03\tError: 7.40e-02\tStd dev: 8.94e-02\tResample: 1\n",
        "Loss: 3.73e-05\tError: 5.51e-03\tStd dev: 5.15e-02\tResample: 2"
       ]
      },
      {
       "output_type": "stream",
       "stream": "stdout",
       "text": [
        "\n",
        "Loss: 6.88e-04\tError: 2.60e-02\tStd dev: 5.60e-02\tResample: 2\n",
        "Loss: 2.20e-03\tError: 4.68e-02\tStd dev: 5.32e-02\tResample: 3"
       ]
      },
      {
       "output_type": "stream",
       "stream": "stdout",
       "text": [
        "\n",
        "Loss: 1.46e-03\tError: 3.81e-02\tStd dev: 4.82e-02\tResample: 3\n",
        "Loss: 1.86e-03\tError: 4.31e-02\tStd dev: 4.58e-02\tResample: 3"
       ]
      },
      {
       "output_type": "stream",
       "stream": "stdout",
       "text": [
        "\n",
        "Loss: 1.50e-03\tError: 3.87e-02\tStd dev: 4.54e-02\tResample: 3\n",
        "Loss: 1.26e-03\tError: 3.55e-02\tStd dev: 4.44e-02\tResample: 3"
       ]
      },
      {
       "output_type": "stream",
       "stream": "stdout",
       "text": [
        "\n",
        "Loss: 5.87e-04\tError: 2.41e-02\tStd dev: 4.16e-02\tResample: 3\n",
        "Loss: 2.67e-04\tError: 1.62e-02\tStd dev: 3.90e-02\tResample: 3"
       ]
      },
      {
       "output_type": "stream",
       "stream": "stdout",
       "text": [
        "\n",
        "Loss: 8.53e-04\tError: 2.92e-02\tStd dev: 3.77e-02\tResample: 3\n",
        "Loss: 1.10e-04\tError: 1.04e-02\tStd dev: 3.52e-02\tResample: 3"
       ]
      },
      {
       "output_type": "stream",
       "stream": "stdout",
       "text": [
        "\n",
        "Loss: 1.57e-04\tError: 1.25e-02\tStd dev: 3.39e-02\tResample: 4"
       ]
      },
      {
       "output_type": "stream",
       "stream": "stdout",
       "text": [
        "\n",
        "Loss: 9.17e-06\tError: 2.73e-03\tStd dev: 3.26e-02\tResample: 4\n",
        "Loss: 1.37e-05\tError: 3.39e-03\tStd dev: 3.24e-02\tResample: 4"
       ]
      },
      {
       "output_type": "stream",
       "stream": "stdout",
       "text": [
        "\n",
        "Loss: 3.25e-06\tError: 1.03e-03\tStd dev: 3.16e-02\tResample: 4\n",
        "Loss: 7.32e-05\tError: 8.26e-03\tStd dev: 3.03e-02\tResample: 4"
       ]
      },
      {
       "output_type": "stream",
       "stream": "stdout",
       "text": [
        "\n",
        "Loss: 1.79e-04\tError: 1.32e-02\tStd dev: 2.90e-02\tResample: 4\n",
        "Loss: 3.66e-04\tError: 1.89e-02\tStd dev: 2.75e-02\tResample: 5"
       ]
      },
      {
       "output_type": "stream",
       "stream": "stdout",
       "text": [
        "\n",
        "Loss: 2.77e-04\tError: 1.64e-02\tStd dev: 2.73e-02\tResample: 5\n",
        "Loss: 1.11e-04\tError: 1.03e-02\tStd dev: 2.76e-02\tResample: 5"
       ]
      },
      {
       "output_type": "stream",
       "stream": "stdout",
       "text": [
        "\n",
        "Loss: 1.05e-04\tError: 9.98e-03\tStd dev: 2.74e-02\tResample: 5\n",
        "Loss: 1.12e-04\tError: 1.03e-02\tStd dev: 2.74e-02\tResample: 5"
       ]
      },
      {
       "output_type": "stream",
       "stream": "stdout",
       "text": [
        "\n",
        "Loss: 8.93e-05\tError: 9.23e-03\tStd dev: 2.74e-02\tResample: 5\n",
        "Loss: 1.68e-04\tError: 1.27e-02\tStd dev: 2.67e-02\tResample: 5"
       ]
      },
      {
       "output_type": "stream",
       "stream": "stdout",
       "text": [
        "\n",
        "Loss: 1.26e-04\tError: 1.10e-02\tStd dev: 2.66e-02\tResample: 5\n",
        "Loss: 4.07e-06\tError: 6.73e-06\tStd dev: 2.71e-02\tResample: 6"
       ]
      },
      {
       "output_type": "stream",
       "stream": "stdout",
       "text": [
        "\n",
        "Loss: 6.79e-06\tError: 1.59e-03\tStd dev: 2.68e-02\tResample: 6\n",
        "Loss: 7.94e-06\tError: 1.97e-03\tStd dev: 2.66e-02\tResample: 6"
       ]
      },
      {
       "output_type": "stream",
       "stream": "stdout",
       "text": [
        "\n",
        "Loss: 6.32e-06\tError: 1.52e-03\tStd dev: 2.66e-02\tResample: 6\n",
        "Loss: 7.86e-06\tError: 1.43e-03\tStd dev: 2.66e-02\tResample: 6"
       ]
      },
      {
       "output_type": "stream",
       "stream": "stdout",
       "text": [
        "\n",
        "Loss: 2.29e-05\tError: 3.50e-03\tStd dev: 2.66e-02\tResample: 6\n",
        "Loss: 1.49e-05\tError: 1.66e-03\tStd dev: 2.65e-02\tResample: 6"
       ]
      },
      {
       "output_type": "stream",
       "stream": "stdout",
       "text": [
        "\n",
        "Loss: 1.33e-05\tError: 1.27e-03\tStd dev: 2.64e-02\tResample: 6\n",
        "Loss: 1.25e-05\tError: 4.85e-04\tStd dev: 2.63e-02\tResample: 6"
       ]
      },
      {
       "output_type": "stream",
       "stream": "stdout",
       "text": [
        "\n",
        "Loss: 6.31e-05\tError: 7.24e-03\tStd dev: 2.56e-02\tResample: 6\n",
        "Loss: 4.85e-05\tError: 6.35e-03\tStd dev: 2.57e-02\tResample: 6"
       ]
      },
      {
       "output_type": "stream",
       "stream": "stdout",
       "text": [
        "\n",
        "Loss: 5.17e-05\tError: 6.61e-03\tStd dev: 2.56e-02\tResample: 6\n",
        "Loss: 5.10e-05\tError: 6.50e-03\tStd dev: 2.56e-02\tResample: 6"
       ]
      },
      {
       "output_type": "stream",
       "stream": "stdout",
       "text": [
        "\n",
        "Chose theta = [   4.70998651  293.15          0.7       ]."
       ]
      },
      {
       "output_type": "stream",
       "stream": "stdout",
       "text": [
        "\tLoss: 4.91e-05\tError: 6.55e-03\tStd dev: 2.57e-02\tResample: 6\n",
        "Chose theta = [   1.56739732  293.15          0.7       ]."
       ]
      },
      {
       "output_type": "stream",
       "stream": "stdout",
       "text": [
        "\tLoss: 5.01e-05\tError: 6.37e-03\tStd dev: 2.55e-02\tResample: 6\n",
        "Chose theta = [   2.20640284  293.26684128    0.70134832]."
       ]
      },
      {
       "output_type": "stream",
       "stream": "stdout",
       "text": [
        "\tLoss: 3.31e-05\tError: 4.86e-03\tStd dev: 2.52e-02\tResample: 6\n",
        "Chose theta = [   1.56812778  293.15          0.7       ]."
       ]
      },
      {
       "output_type": "stream",
       "stream": "stdout",
       "text": [
        "\tLoss: 3.66e-05\tError: 4.87e-03\tStd dev: 2.52e-02\tResample: 6\n",
        "Chose theta = [   1.56842745  293.15          0.7       ]."
       ]
      },
      {
       "output_type": "stream",
       "stream": "stdout",
       "text": [
        "\tLoss: 3.16e-05\tError: 4.77e-03\tStd dev: 2.53e-02\tResample: 6\n",
        "Chose theta = [   4.70858501  293.15          0.7       ]."
       ]
      },
      {
       "output_type": "stream",
       "stream": "stdout",
       "text": [
        "\tLoss: 3.15e-05\tError: 4.79e-03\tStd dev: 2.53e-02\tResample: 6\n",
        "Chose theta = [   1.03910704  293.46154133    0.70060729]."
       ]
      },
      {
       "output_type": "stream",
       "stream": "stdout",
       "text": [
        "\tLoss: 8.12e-05\tError: 8.55e-03\tStd dev: 2.48e-02\tResample: 6\n",
        "Chose theta = [   1.56612054  293.15          0.7       ]."
       ]
      },
      {
       "output_type": "stream",
       "stream": "stdout",
       "text": [
        "\tLoss: 7.50e-05\tError: 7.84e-03\tStd dev: 2.47e-02\tResample: 6\n",
        "Chose theta = [   1.56585059  293.15          0.7       ]."
       ]
      },
      {
       "output_type": "stream",
       "stream": "stdout",
       "text": [
        "\tLoss: 7.10e-05\tError: 6.85e-03\tStd dev: 2.45e-02\tResample: 7"
       ]
      },
      {
       "output_type": "stream",
       "stream": "stdout",
       "text": [
        "\n",
        "Chose theta = [   4.70693114  293.15          0.7       ]."
       ]
      },
      {
       "output_type": "stream",
       "stream": "stdout",
       "text": [
        "\tLoss: 7.10e-05\tError: 6.94e-03\tStd dev: 2.45e-02\tResample: 7\n",
        "0.902 \u00b1 0.00506\t"
       ]
      },
      {
       "output_type": "stream",
       "stream": "stdout",
       "text": [
        " -0.00368 \u00b1 0.00358\t 0.0775 \u00b1 0.0245\t 22.0 \u00b1 0.00515\t -1.02 \u00b1 0.00574\t\n",
        "[ 0.9        0.         0.0844303  1.02     ]\n",
        "Loss: 2.65e-02\tError: 1.63e-01\tStd dev: 1.47e-01\tResample: 1"
       ]
      },
      {
       "output_type": "stream",
       "stream": "stdout",
       "text": [
        "\n",
        "Loss: 4.19e-04\tError: 2.04e-02\tStd dev: 7.10e-02\tResample: 2"
       ]
      },
      {
       "output_type": "stream",
       "stream": "stdout",
       "text": [
        "\n",
        "Loss: 1.71e-03\tError: 4.13e-02\tStd dev: 6.80e-02\tResample: 2\n",
        "Loss: 3.99e-04\tError: 1.96e-02\tStd dev: 4.14e-02\tResample: 2"
       ]
      },
      {
       "output_type": "stream",
       "stream": "stdout",
       "text": [
        "\n",
        "Loss: 1.69e-03\tError: 4.10e-02\tStd dev: 2.88e-02\tResample: 3"
       ]
      },
      {
       "output_type": "stream",
       "stream": "stdout",
       "text": [
        "\n",
        "Loss: 1.22e-03\tError: 3.49e-02\tStd dev: 3.06e-02\tResample: 3\n",
        "Loss: 1.45e-03\tError: 3.80e-02\tStd dev: 2.85e-02\tResample: 3"
       ]
      },
      {
       "output_type": "stream",
       "stream": "stdout",
       "text": [
        "\n",
        "Loss: 1.60e-03\tError: 3.99e-02\tStd dev: 2.76e-02\tResample: 3\n",
        "Loss: 1.47e-03\tError: 3.83e-02\tStd dev: 2.83e-02\tResample: 3"
       ]
      },
      {
       "output_type": "stream",
       "stream": "stdout",
       "text": [
        "\n",
        "Loss: 1.29e-03\tError: 3.58e-02\tStd dev: 2.87e-02\tResample: 3\n",
        "Loss: 1.45e-03\tError: 3.80e-02\tStd dev: 2.72e-02\tResample: 3"
       ]
      },
      {
       "output_type": "stream",
       "stream": "stdout",
       "text": [
        "\n",
        "Loss: 1.27e-03\tError: 3.56e-02\tStd dev: 2.73e-02\tResample: 3\n",
        "Loss: 1.86e-03\tError: 4.30e-02\tStd dev: 2.42e-02\tResample: 3"
       ]
      },
      {
       "output_type": "stream",
       "stream": "stdout",
       "text": [
        "\n",
        "Loss: 1.37e-03\tError: 3.69e-02\tStd dev: 2.58e-02\tResample: 3\n",
        "Loss: 9.86e-04\tError: 3.13e-02\tStd dev: 2.68e-02\tResample: 3"
       ]
      },
      {
       "output_type": "stream",
       "stream": "stdout",
       "text": [
        "\n",
        "Loss: 1.08e-03\tError: 3.28e-02\tStd dev: 2.64e-02\tResample: 3\n",
        "Loss: 7.16e-04\tError: 2.62e-02\tStd dev: 2.82e-02\tResample: 3"
       ]
      },
      {
       "output_type": "stream",
       "stream": "stdout",
       "text": [
        "\n",
        "Loss: 5.76e-04\tError: 2.35e-02\tStd dev: 2.81e-02\tResample: 4"
       ]
      },
      {
       "output_type": "stream",
       "stream": "stdout",
       "text": [
        "\n",
        "Loss: 5.50e-04\tError: 2.29e-02\tStd dev: 2.76e-02\tResample: 4\n",
        "Loss: 1.46e-03\tError: 3.77e-02\tStd dev: 2.41e-02\tResample: 4"
       ]
      },
      {
       "output_type": "stream",
       "stream": "stdout",
       "text": [
        "\n",
        "Loss: 1.76e-03\tError: 4.15e-02\tStd dev: 2.28e-02\tResample: 4\n",
        "Loss: 1.73e-03\tError: 4.12e-02\tStd dev: 2.27e-02\tResample: 4"
       ]
      },
      {
       "output_type": "stream",
       "stream": "stdout",
       "text": [
        "\n",
        "Loss: 1.47e-03\tError: 3.78e-02\tStd dev: 2.33e-02\tResample: 4\n",
        "Loss: 1.44e-03\tError: 3.74e-02\tStd dev: 2.34e-02\tResample: 4"
       ]
      },
      {
       "output_type": "stream",
       "stream": "stdout",
       "text": [
        "\n",
        "Loss: 1.47e-03\tError: 3.78e-02\tStd dev: 2.32e-02\tResample: 4\n",
        "Loss: 1.58e-03\tError: 3.93e-02\tStd dev: 2.27e-02\tResample: 4"
       ]
      },
      {
       "output_type": "stream",
       "stream": "stdout",
       "text": [
        "\n",
        "Loss: 1.52e-03\tError: 3.86e-02\tStd dev: 2.27e-02\tResample: 4\n",
        "Loss: 1.61e-03\tError: 3.98e-02\tStd dev: 2.23e-02\tResample: 4"
       ]
      },
      {
       "output_type": "stream",
       "stream": "stdout",
       "text": [
        "\n",
        "Loss: 1.48e-03\tError: 3.81e-02\tStd dev: 2.26e-02\tResample: 4\n",
        "Loss: 1.50e-03\tError: 3.84e-02\tStd dev: 2.24e-02\tResample: 4"
       ]
      },
      {
       "output_type": "stream",
       "stream": "stdout",
       "text": [
        "\n",
        "Loss: 1.47e-03\tError: 3.80e-02\tStd dev: 2.25e-02\tResample: 4\n",
        "Loss: 1.46e-03\tError: 3.78e-02\tStd dev: 2.25e-02\tResample: 4"
       ]
      },
      {
       "output_type": "stream",
       "stream": "stdout",
       "text": [
        "\n",
        "Loss: 1.42e-03\tError: 3.73e-02\tStd dev: 2.26e-02\tResample: 4\n",
        "Loss: 1.30e-03\tError: 3.56e-02\tStd dev: 2.28e-02\tResample: 4"
       ]
      },
      {
       "output_type": "stream",
       "stream": "stdout",
       "text": [
        "\n",
        "Loss: 1.24e-03\tError: 3.48e-02\tStd dev: 2.29e-02\tResample: 4\n",
        "Loss: 1.32e-03\tError: 3.59e-02\tStd dev: 2.27e-02\tResample: 4"
       ]
      },
      {
       "output_type": "stream",
       "stream": "stdout",
       "text": [
        "\n",
        "Loss: 1.32e-03\tError: 3.58e-02\tStd dev: 2.27e-02\tResample: 4\n",
        "Loss: 1.33e-03\tError: 3.59e-02\tStd dev: 2.27e-02\tResample: 4"
       ]
      },
      {
       "output_type": "stream",
       "stream": "stdout",
       "text": [
        "\n",
        "Loss: 1.32e-03\tError: 3.59e-02\tStd dev: 2.27e-02\tResample: 4\n",
        "Loss: 1.33e-03\tError: 3.59e-02\tStd dev: 2.27e-02\tResample: 4"
       ]
      },
      {
       "output_type": "stream",
       "stream": "stdout",
       "text": [
        "\n",
        "Chose theta = [   4.70961253  293.15          0.7       ]."
       ]
      },
      {
       "output_type": "stream",
       "stream": "stdout",
       "text": [
        "\tLoss: 1.34e-03\tError: 3.59e-02\tStd dev: 2.27e-02\tResample: 4\n",
        "Chose theta = [   4.71107873  293.15          0.7       ]."
       ]
      },
      {
       "output_type": "stream",
       "stream": "stdout",
       "text": [
        "\tLoss: 1.34e-03\tError: 3.59e-02\tStd dev: 2.27e-02\tResample: 4\n",
        "Chose theta = [   4.70967243  293.15          0.7       ]."
       ]
      },
      {
       "output_type": "stream",
       "stream": "stdout",
       "text": [
        "\tLoss: 1.33e-03\tError: 3.58e-02\tStd dev: 2.26e-02\tResample: 5"
       ]
      },
      {
       "output_type": "stream",
       "stream": "stdout",
       "text": [
        "\n",
        "Chose theta = [   3.1380984  293.15         0.7      ]."
       ]
      },
      {
       "output_type": "stream",
       "stream": "stdout",
       "text": [
        "\tLoss: 1.40e-03\tError: 3.65e-02\tStd dev: 2.26e-02\tResample: 5\n",
        "Chose theta = [   3.14043762  293.15          0.7       ]."
       ]
      },
      {
       "output_type": "stream",
       "stream": "stdout",
       "text": [
        "\tLoss: 1.40e-03\tError: 3.65e-02\tStd dev: 2.26e-02\tResample: 5\n",
        "Chose theta = [   0.90268869  292.76479407    0.70078747]."
       ]
      },
      {
       "output_type": "stream",
       "stream": "stdout",
       "text": [
        "\tLoss: 1.34e-03\tError: 3.56e-02\tStd dev: 2.25e-02\tResample: 5\n",
        "Chose theta = [   1.56961631  293.15          0.7       ]."
       ]
      },
      {
       "output_type": "stream",
       "stream": "stdout",
       "text": [
        "\tLoss: 1.37e-03\tError: 3.59e-02\tStd dev: 2.24e-02\tResample: 5\n",
        "Chose theta = [   2.19312641  292.82470516    0.70105705]."
       ]
      },
      {
       "output_type": "stream",
       "stream": "stdout",
       "text": [
        "\tLoss: 1.08e-03\tError: 3.18e-02\tStd dev: 2.28e-02\tResample: 5\n",
        "Chose theta = [   2.47015868  293.29603895    0.70092857]."
       ]
      },
      {
       "output_type": "stream",
       "stream": "stdout",
       "text": [
        "\tLoss: 8.58e-04\tError: 2.81e-02\tStd dev: 2.31e-02\tResample: 5\n",
        "Chose theta = [   3.14094695  293.15          0.7       ]."
       ]
      },
      {
       "output_type": "stream",
       "stream": "stdout",
       "text": [
        "\tLoss: 8.58e-04\tError: 2.80e-02\tStd dev: 2.32e-02\tResample: 5\n",
        "0.897 \u00b1 0.00496\t"
       ]
      },
      {
       "output_type": "stream",
       "stream": "stdout",
       "text": [
        " -0.00792 \u00b1 0.00258\t 0.0564 \u00b1 0.0232\t 22.0 \u00b1 0.00522\t -1.02 \u00b1 0.00589\t\n",
        "[ 0.9        0.         0.0844303  1.02     ]\n",
        "x iiiiiiiiiiiiiiiiiiiiiiis 11\n",
        "Loss: 6.53e-03\tError: 8.08e-02\tStd dev: 1.12e-01\tResample: 1"
       ]
      },
      {
       "output_type": "stream",
       "stream": "stdout",
       "text": [
        "\n",
        "Loss: 4.84e-04\tError: 2.20e-02\tStd dev: 7.16e-02\tResample: 1\n",
        "Loss: 2.03e-02\tError: 1.42e-01\tStd dev: 7.53e-02\tResample: 2"
       ]
      },
      {
       "output_type": "stream",
       "stream": "stdout",
       "text": [
        "\n",
        "Loss: 4.32e-03\tError: 6.57e-02\tStd dev: 6.12e-02\tResample: 3"
       ]
      },
      {
       "output_type": "stream",
       "stream": "stdout",
       "text": [
        "\n",
        "Loss: 6.90e-05\tError: 8.28e-03\tStd dev: 4.23e-02\tResample: 4"
       ]
      },
      {
       "output_type": "stream",
       "stream": "stdout",
       "text": [
        "\n",
        "Loss: 1.34e-03\tError: 3.66e-02\tStd dev: 3.04e-02\tResample: 4\n",
        "Loss: 1.15e-03\tError: 3.38e-02\tStd dev: 3.07e-02\tResample: 4"
       ]
      },
      {
       "output_type": "stream",
       "stream": "stdout",
       "text": [
        "\n",
        "Loss: 1.70e-03\tError: 4.10e-02\tStd dev: 2.72e-02\tResample: 5"
       ]
      },
      {
       "output_type": "stream",
       "stream": "stdout",
       "text": [
        "\n",
        "Loss: 1.85e-03\tError: 4.27e-02\tStd dev: 2.62e-02\tResample: 5\n",
        "Loss: 2.19e-03\tError: 4.66e-02\tStd dev: 2.41e-02\tResample: 5"
       ]
      },
      {
       "output_type": "stream",
       "stream": "stdout",
       "text": [
        "\n",
        "Loss: 2.26e-03\tError: 4.73e-02\tStd dev: 2.33e-02\tResample: 5\n",
        "Loss: 2.34e-03\tError: 4.81e-02\tStd dev: 2.25e-02\tResample: 5"
       ]
      },
      {
       "output_type": "stream",
       "stream": "stdout",
       "text": [
        "\n",
        "Loss: 2.41e-03\tError: 4.88e-02\tStd dev: 2.18e-02\tResample: 5\n",
        "Loss: 2.11e-03\tError: 4.56e-02\tStd dev: 2.27e-02\tResample: 5"
       ]
      },
      {
       "output_type": "stream",
       "stream": "stdout",
       "text": [
        "\n",
        "Loss: 2.17e-03\tError: 4.62e-02\tStd dev: 2.22e-02\tResample: 5\n",
        "Loss: 2.48e-03\tError: 4.96e-02\tStd dev: 2.10e-02\tResample: 5"
       ]
      },
      {
       "output_type": "stream",
       "stream": "stdout",
       "text": [
        "\n",
        "Loss: 2.33e-03\tError: 4.79e-02\tStd dev: 2.17e-02\tResample: 5\n",
        "Loss: 2.38e-03\tError: 4.85e-02\tStd dev: 2.12e-02\tResample: 5"
       ]
      },
      {
       "output_type": "stream",
       "stream": "stdout",
       "text": [
        "\n",
        "Loss: 2.62e-03\tError: 5.10e-02\tStd dev: 2.00e-02\tResample: 5\n",
        "Loss: 2.37e-03\tError: 4.85e-02\tStd dev: 2.07e-02\tResample: 5"
       ]
      },
      {
       "output_type": "stream",
       "stream": "stdout",
       "text": [
        "\n",
        "Loss: 2.32e-03\tError: 4.79e-02\tStd dev: 2.07e-02\tResample: 5\n",
        "Loss: 2.09e-03\tError: 4.55e-02\tStd dev: 2.13e-02\tResample: 5"
       ]
      },
      {
       "output_type": "stream",
       "stream": "stdout",
       "text": [
        "\n",
        "Loss: 2.18e-03\tError: 4.65e-02\tStd dev: 2.08e-02\tResample: 5\n",
        "Loss: 2.06e-03\tError: 4.53e-02\tStd dev: 2.11e-02\tResample: 5"
       ]
      },
      {
       "output_type": "stream",
       "stream": "stdout",
       "text": [
        "\n",
        "Loss: 2.10e-03\tError: 4.58e-02\tStd dev: 2.09e-02\tResample: 5\n",
        "Loss: 2.30e-03\tError: 4.79e-02\tStd dev: 2.01e-02\tResample: 5"
       ]
      },
      {
       "output_type": "stream",
       "stream": "stdout",
       "text": [
        "\n",
        "Loss: 2.34e-03\tError: 4.83e-02\tStd dev: 1.99e-02\tResample: 5\n",
        "Loss: 2.19e-03\tError: 4.67e-02\tStd dev: 2.03e-02\tResample: 5"
       ]
      },
      {
       "output_type": "stream",
       "stream": "stdout",
       "text": [
        "\n",
        "Loss: 2.23e-03\tError: 4.71e-02\tStd dev: 2.01e-02\tResample: 5\n",
        "Loss: 2.39e-03\tError: 4.88e-02\tStd dev: 1.95e-02\tResample: 5"
       ]
      },
      {
       "output_type": "stream",
       "stream": "stdout",
       "text": [
        "\n",
        "Loss: 2.32e-03\tError: 4.81e-02\tStd dev: 1.97e-02\tResample: 5\n",
        "Loss: 2.32e-03\tError: 4.81e-02\tStd dev: 1.97e-02\tResample: 5"
       ]
      },
      {
       "output_type": "stream",
       "stream": "stdout",
       "text": [
        "\n",
        "Loss: 2.47e-03\tError: 4.96e-02\tStd dev: 1.88e-02\tResample: 6"
       ]
      },
      {
       "output_type": "stream",
       "stream": "stdout",
       "text": [
        "\n",
        "Loss: 2.44e-03\tError: 4.93e-02\tStd dev: 1.89e-02\tResample: 6\n",
        "Loss: 2.61e-03\tError: 5.10e-02\tStd dev: 1.82e-02\tResample: 6"
       ]
      },
      {
       "output_type": "stream",
       "stream": "stdout",
       "text": [
        "\n",
        "Loss: 2.50e-03\tError: 4.99e-02\tStd dev: 1.86e-02\tResample: 6\n",
        "Loss: 2.45e-03\tError: 4.95e-02\tStd dev: 1.88e-02\tResample: 6"
       ]
      },
      {
       "output_type": "stream",
       "stream": "stdout",
       "text": [
        "\n",
        "Loss: 2.45e-03\tError: 4.95e-02\tStd dev: 1.88e-02\tResample: 6\n",
        "Loss: 2.45e-03\tError: 4.94e-02\tStd dev: 1.88e-02\tResample: 6"
       ]
      },
      {
       "output_type": "stream",
       "stream": "stdout",
       "text": [
        "\n",
        "Loss: 2.44e-03\tError: 4.94e-02\tStd dev: 1.89e-02\tResample: 6\n",
        "Chose theta = [   4.71070571  293.15          0.7       ]."
       ]
      },
      {
       "output_type": "stream",
       "stream": "stdout",
       "text": [
        "\tLoss: 2.45e-03\tError: 4.94e-02\tStd dev: 1.88e-02\tResample: 6\n",
        "Chose theta = [   0.52066837  293.12195727    0.69721894]."
       ]
      },
      {
       "output_type": "stream",
       "stream": "stdout",
       "text": [
        "\tLoss: 2.47e-03\tError: 4.97e-02\tStd dev: 1.86e-02\tResample: 6\n",
        "Chose theta = [   3.13781417  293.15          0.7       ]."
       ]
      },
      {
       "output_type": "stream",
       "stream": "stdout",
       "text": [
        "\tLoss: 2.45e-03\tError: 4.95e-02\tStd dev: 1.86e-02\tResample: 6\n",
        "Chose theta = [   1.5676864  293.15         0.7      ]."
       ]
      },
      {
       "output_type": "stream",
       "stream": "stdout",
       "text": [
        "\tLoss: 2.45e-03\tError: 4.95e-02\tStd dev: 1.86e-02\tResample: 6\n",
        "Chose theta = [   3.13827092  293.15          0.7       ]."
       ]
      },
      {
       "output_type": "stream",
       "stream": "stdout",
       "text": [
        "\tLoss: 2.46e-03\tError: 4.96e-02\tStd dev: 1.86e-02\tResample: 6\n",
        "Chose theta = [   6.28130463  293.15          0.7       ]."
       ]
      },
      {
       "output_type": "stream",
       "stream": "stdout",
       "text": [
        "\tLoss: 2.46e-03\tError: 4.96e-02\tStd dev: 1.86e-02\tResample: 6\n",
        "Chose theta = [   1.56834805  293.15          0.7       ]."
       ]
      },
      {
       "output_type": "stream",
       "stream": "stdout",
       "text": [
        "\tLoss: 2.47e-03\tError: 4.97e-02\tStd dev: 1.86e-02\tResample: 6\n",
        "Chose theta = [   1.56853075  293.15          0.7       ]."
       ]
      },
      {
       "output_type": "stream",
       "stream": "stdout",
       "text": [
        "\tLoss: 2.47e-03\tError: 4.97e-02\tStd dev: 1.86e-02\tResample: 6\n",
        "Chose theta = [   1.56870114  293.15          0.7       ]."
       ]
      },
      {
       "output_type": "stream",
       "stream": "stdout",
       "text": [
        "\tLoss: 2.48e-03\tError: 4.97e-02\tStd dev: 1.86e-02\tResample: 6\n",
        "Chose theta = [   1.57016126  293.15          0.7       ]."
       ]
      },
      {
       "output_type": "stream",
       "stream": "stdout",
       "text": [
        "\tLoss: 2.49e-03\tError: 4.98e-02\tStd dev: 1.86e-02\tResample: 6\n",
        "Chose theta = [   4.71041915  293.15          0.7       ]."
       ]
      },
      {
       "output_type": "stream",
       "stream": "stdout",
       "text": [
        "\tLoss: 2.49e-03\tError: 4.98e-02\tStd dev: 1.85e-02\tResample: 6\n",
        "0.9 \u00b1 0.00504\t"
       ]
      },
      {
       "output_type": "stream",
       "stream": "stdout",
       "text": [
        " 0.000366 \u00b1 0.00365\t 0.0346 \u00b1 0.0185\t 22.0 \u00b1 0.00482\t -1.02 \u00b1 0.00588\t\n",
        "[ 0.9        0.         0.0844303  1.02     ]\n",
        "Loss: 6.18e-02\tError: 2.49e-01\tStd dev: 1.64e-01\tResample: 1"
       ]
      },
      {
       "output_type": "stream",
       "stream": "stdout",
       "text": [
        "\n",
        "Loss: 1.20e-02\tError: 1.10e-01\tStd dev: 1.03e-01\tResample: 1\n",
        "Loss: 1.16e-02\tError: 1.08e-01\tStd dev: 8.03e-02\tResample: 2"
       ]
      },
      {
       "output_type": "stream",
       "stream": "stdout",
       "text": [
        "\n",
        "Loss: 6.80e-04\tError: 2.59e-02\tStd dev: 5.69e-02\tResample: 3"
       ]
      },
      {
       "output_type": "stream",
       "stream": "stdout",
       "text": [
        "\n",
        "Loss: 4.38e-05\tError: 5.99e-03\tStd dev: 4.73e-02\tResample: 3\n",
        "Loss: 4.99e-04\tError: 2.22e-02\tStd dev: 4.71e-02\tResample: 3"
       ]
      },
      {
       "output_type": "stream",
       "stream": "stdout",
       "text": [
        "\n",
        "Loss: 1.88e-04\tError: 1.36e-02\tStd dev: 4.35e-02\tResample: 3\n",
        "Loss: 8.14e-05\tError: 8.57e-03\tStd dev: 4.24e-02\tResample: 3"
       ]
      },
      {
       "output_type": "stream",
       "stream": "stdout",
       "text": [
        "\n",
        "Loss: 9.92e-05\tError: 9.57e-03\tStd dev: 4.22e-02\tResample: 3\n",
        "Loss: 4.36e-05\tError: 6.37e-03\tStd dev: 3.80e-02\tResample: 3"
       ]
      },
      {
       "output_type": "stream",
       "stream": "stdout",
       "text": [
        "\n",
        "Loss: 1.59e-04\tError: 1.24e-02\tStd dev: 3.53e-02\tResample: 3\n",
        "Loss: 2.10e-05\tError: 3.99e-03\tStd dev: 3.52e-02\tResample: 3"
       ]
      },
      {
       "output_type": "stream",
       "stream": "stdout",
       "text": [
        "\n",
        "Loss: 2.10e-05\tError: 4.18e-03\tStd dev: 3.48e-02\tResample: 3\n",
        "Loss: 6.75e-06\tError: 1.87e-03\tStd dev: 3.33e-02\tResample: 3"
       ]
      },
      {
       "output_type": "stream",
       "stream": "stdout",
       "text": [
        "\n",
        "Loss: 3.99e-05\tError: 6.17e-03\tStd dev: 3.30e-02\tResample: 3\n",
        "Loss: 4.81e-05\tError: 6.78e-03\tStd dev: 3.28e-02\tResample: 3"
       ]
      },
      {
       "output_type": "stream",
       "stream": "stdout",
       "text": [
        "\n",
        "Loss: 5.85e-06\tError: 2.37e-03\tStd dev: 3.21e-02\tResample: 3\n",
        "Loss: 1.60e-05\tError: 3.98e-03\tStd dev: 3.15e-02\tResample: 4"
       ]
      },
      {
       "output_type": "stream",
       "stream": "stdout",
       "text": [
        "\n",
        "Loss: 9.60e-05\tError: 9.71e-03\tStd dev: 2.97e-02\tResample: 4\n",
        "Loss: 2.31e-04\tError: 1.51e-02\tStd dev: 2.85e-02\tResample: 4"
       ]
      },
      {
       "output_type": "stream",
       "stream": "stdout",
       "text": [
        "\n",
        "Loss: 3.04e-04\tError: 1.73e-02\tStd dev: 2.77e-02\tResample: 4\n",
        "Loss: 2.63e-04\tError: 1.61e-02\tStd dev: 2.74e-02\tResample: 4"
       ]
      },
      {
       "output_type": "stream",
       "stream": "stdout",
       "text": [
        "\n",
        "Loss: 1.30e-04\tError: 1.13e-02\tStd dev: 2.75e-02\tResample: 4\n",
        "Loss: 1.19e-04\tError: 1.08e-02\tStd dev: 2.75e-02\tResample: 4"
       ]
      },
      {
       "output_type": "stream",
       "stream": "stdout",
       "text": [
        "\n",
        "Loss: 8.27e-05\tError: 8.98e-03\tStd dev: 2.76e-02\tResample: 4\n",
        "Loss: 2.22e-04\tError: 1.47e-02\tStd dev: 2.69e-02\tResample: 4"
       ]
      },
      {
       "output_type": "stream",
       "stream": "stdout",
       "text": [
        "\n",
        "Loss: 3.13e-04\tError: 1.75e-02\tStd dev: 2.62e-02\tResample: 5"
       ]
      },
      {
       "output_type": "stream",
       "stream": "stdout",
       "text": [
        "\n",
        "Loss: 3.44e-04\tError: 1.83e-02\tStd dev: 2.58e-02\tResample: 5\n",
        "Loss: 4.32e-04\tError: 2.06e-02\tStd dev: 2.54e-02\tResample: 5"
       ]
      },
      {
       "output_type": "stream",
       "stream": "stdout",
       "text": [
        "\n",
        "Loss: 3.72e-04\tError: 1.91e-02\tStd dev: 2.53e-02\tResample: 5\n",
        "Loss: 5.29e-04\tError: 2.28e-02\tStd dev: 2.48e-02\tResample: 5"
       ]
      },
      {
       "output_type": "stream",
       "stream": "stdout",
       "text": [
        "\n",
        "Loss: 5.41e-04\tError: 2.31e-02\tStd dev: 2.48e-02\tResample: 5\n",
        "Loss: 4.43e-04\tError: 2.09e-02\tStd dev: 2.50e-02\tResample: 5"
       ]
      },
      {
       "output_type": "stream",
       "stream": "stdout",
       "text": [
        "\n",
        "Loss: 6.02e-04\tError: 2.43e-02\tStd dev: 2.43e-02\tResample: 5\n",
        "Loss: 4.47e-04\tError: 2.09e-02\tStd dev: 2.48e-02\tResample: 5"
       ]
      },
      {
       "output_type": "stream",
       "stream": "stdout",
       "text": [
        "\n",
        "Loss: 3.97e-04\tError: 1.98e-02\tStd dev: 2.49e-02\tResample: 5\n",
        "Loss: 3.84e-04\tError: 1.94e-02\tStd dev: 2.49e-02\tResample: 5"
       ]
      },
      {
       "output_type": "stream",
       "stream": "stdout",
       "text": [
        "\n",
        "Loss: 3.78e-04\tError: 1.93e-02\tStd dev: 2.49e-02\tResample: 5\n",
        "Loss: 4.61e-04\tError: 2.13e-02\tStd dev: 2.45e-02\tResample: 5"
       ]
      },
      {
       "output_type": "stream",
       "stream": "stdout",
       "text": [
        "\n",
        "Loss: 4.59e-04\tError: 2.12e-02\tStd dev: 2.46e-02\tResample: 5\n",
        "Chose theta = [   0.96164628  293.07582125    0.69941271]."
       ]
      },
      {
       "output_type": "stream",
       "stream": "stdout",
       "text": [
        "\tLoss: 7.97e-04\tError: 2.81e-02\tStd dev: 2.37e-02\tResample: 5\n",
        "Chose theta = [   1.56680475  293.15          0.7       ]."
       ]
      },
      {
       "output_type": "stream",
       "stream": "stdout",
       "text": [
        "\tLoss: 7.84e-04\tError: 2.79e-02\tStd dev: 2.36e-02\tResample: 5\n",
        "Chose theta = [   3.13987918  293.15          0.7       ]."
       ]
      },
      {
       "output_type": "stream",
       "stream": "stdout",
       "text": [
        "\tLoss: 7.87e-04\tError: 2.80e-02\tStd dev: 2.35e-02\tResample: 5\n",
        "Chose theta = [   3.14083196  293.15          0.7       ]."
       ]
      },
      {
       "output_type": "stream",
       "stream": "stdout",
       "text": [
        "\tLoss: 7.87e-04\tError: 2.80e-02\tStd dev: 2.35e-02\tResample: 5\n",
        "Chose theta = [   3.1392702  293.15         0.7      ]."
       ]
      },
      {
       "output_type": "stream",
       "stream": "stdout",
       "text": [
        "\tLoss: 7.84e-04\tError: 2.78e-02\tStd dev: 2.35e-02\tResample: 5\n",
        "Chose theta = [   1.56569793  293.15          0.7       ]."
       ]
      },
      {
       "output_type": "stream",
       "stream": "stdout",
       "text": [
        "\tLoss: 8.11e-04\tError: 2.83e-02\tStd dev: 2.35e-02\tResample: 5\n",
        "Chose theta = [  4.66592071e-02   2.93043039e+02   7.03767588e-01]."
       ]
      },
      {
       "output_type": "stream",
       "stream": "stdout",
       "text": [
        "\tLoss: 9.74e-04\tError: 3.10e-02\tStd dev: 2.29e-02\tResample: 5\n",
        "Chose theta = [   3.13943098  293.15          0.7       ]."
       ]
      },
      {
       "output_type": "stream",
       "stream": "stdout",
       "text": [
        "\tLoss: 9.70e-04\tError: 3.09e-02\tStd dev: 2.29e-02\tResample: 5\n",
        "Chose theta = [   1.56907067  293.15          0.7       ]."
       ]
      },
      {
       "output_type": "stream",
       "stream": "stdout",
       "text": [
        "\tLoss: 9.69e-04\tError: 3.09e-02\tStd dev: 2.29e-02\tResample: 5\n",
        "Chose theta = [   1.570601  293.15        0.7     ]."
       ]
      },
      {
       "output_type": "stream",
       "stream": "stdout",
       "text": [
        "\tLoss: 9.72e-04\tError: 3.09e-02\tStd dev: 2.29e-02\tResample: 5\n",
        "Chose theta = [   1.56975682  293.15          0.7       ]."
       ]
      },
      {
       "output_type": "stream",
       "stream": "stdout",
       "text": [
        "\tLoss: 9.69e-04\tError: 3.09e-02\tStd dev: 2.29e-02\tResample: 5\n",
        "0.9 \u00b1 0.00515\t"
       ]
      },
      {
       "output_type": "stream",
       "stream": "stdout",
       "text": [
        " 0.0036 \u00b1 0.00356\t 0.0536 \u00b1 0.0229\t 22.0 \u00b1 0.00508\t -1.02 \u00b1 0.00578\t\n",
        "[ 0.9        0.         0.0844303  1.02     ]\n",
        "x iiiiiiiiiiiiiiiiiiiiiiis 12\n",
        "Loss: 1.66e-02\tError: 1.29e-01\tStd dev: 1.34e-01\tResample: 1"
       ]
      },
      {
       "output_type": "stream",
       "stream": "stdout",
       "text": [
        "\n",
        "Loss: 1.40e-03\tError: 3.74e-02\tStd dev: 7.94e-02\tResample: 1\n",
        "Loss: 2.73e-06\tError: 1.62e-03\tStd dev: 5.51e-02\tResample: 2"
       ]
      },
      {
       "output_type": "stream",
       "stream": "stdout",
       "text": [
        "\n",
        "Loss: 6.63e-04\tError: 2.57e-02\tStd dev: 3.92e-02\tResample: 2\n",
        "Loss: 5.71e-04\tError: 2.39e-02\tStd dev: 3.78e-02\tResample: 2"
       ]
      },
      {
       "output_type": "stream",
       "stream": "stdout",
       "text": [
        "\n",
        "Loss: 5.94e-04\tError: 2.44e-02\tStd dev: 3.58e-02\tResample: 2\n",
        "Loss: 2.34e-04\tError: 1.52e-02\tStd dev: 3.74e-02\tResample: 2"
       ]
      },
      {
       "output_type": "stream",
       "stream": "stdout",
       "text": [
        "\n",
        "Loss: 6.16e-06\tError: 8.68e-04\tStd dev: 3.97e-02\tResample: 2\n",
        "Loss: 2.29e-05\tError: 3.91e-03\tStd dev: 4.07e-02\tResample: 2"
       ]
      },
      {
       "output_type": "stream",
       "stream": "stdout",
       "text": [
        "\n",
        "Loss: 1.00e-04\tError: 9.29e-03\tStd dev: 3.70e-02\tResample: 2\n",
        "Loss: 2.49e-04\tError: 1.51e-02\tStd dev: 3.83e-02\tResample: 3"
       ]
      },
      {
       "output_type": "stream",
       "stream": "stdout",
       "text": [
        "\n",
        "Loss: 4.59e-05\tError: 4.58e-03\tStd dev: 3.56e-02\tResample: 3\n",
        "Loss: 4.53e-05\tError: 4.49e-03\tStd dev: 3.42e-02\tResample: 3"
       ]
      },
      {
       "output_type": "stream",
       "stream": "stdout",
       "text": [
        "\n",
        "Loss: 1.59e-04\tError: 1.17e-02\tStd dev: 3.36e-02\tResample: 3\n",
        "Loss: 4.86e-04\tError: 2.13e-02\tStd dev: 3.32e-02\tResample: 3"
       ]
      },
      {
       "output_type": "stream",
       "stream": "stdout",
       "text": [
        "\n",
        "Loss: 4.33e-04\tError: 1.99e-02\tStd dev: 3.31e-02\tResample: 3\n",
        "Loss: 6.98e-04\tError: 2.59e-02\tStd dev: 3.32e-02\tResample: 3"
       ]
      },
      {
       "output_type": "stream",
       "stream": "stdout",
       "text": [
        "\n",
        "Loss: 4.70e-04\tError: 2.11e-02\tStd dev: 3.23e-02\tResample: 3\n",
        "Loss: 5.30e-04\tError: 2.25e-02\tStd dev: 3.14e-02\tResample: 3"
       ]
      },
      {
       "output_type": "stream",
       "stream": "stdout",
       "text": [
        "\n",
        "Loss: 3.35e-04\tError: 1.78e-02\tStd dev: 3.04e-02\tResample: 3\n",
        "Loss: 2.82e-04\tError: 1.62e-02\tStd dev: 2.97e-02\tResample: 3"
       ]
      },
      {
       "output_type": "stream",
       "stream": "stdout",
       "text": [
        "\n",
        "Loss: 1.68e-04\tError: 1.23e-02\tStd dev: 2.90e-02\tResample: 3\n",
        "Loss: 1.14e-04\tError: 9.73e-03\tStd dev: 2.86e-02\tResample: 3"
       ]
      },
      {
       "output_type": "stream",
       "stream": "stdout",
       "text": [
        "\n",
        "Loss: 1.24e-04\tError: 1.01e-02\tStd dev: 2.86e-02\tResample: 3\n",
        "Loss: 1.02e-04\tError: 8.99e-03\tStd dev: 2.84e-02\tResample: 3"
       ]
      },
      {
       "output_type": "stream",
       "stream": "stdout",
       "text": [
        "\n",
        "Loss: 3.30e-05\tError: 1.76e-03\tStd dev: 2.78e-02\tResample: 3\n",
        "Loss: 3.36e-05\tError: 2.21e-03\tStd dev: 2.73e-02\tResample: 3"
       ]
      },
      {
       "output_type": "stream",
       "stream": "stdout",
       "text": [
        "\n",
        "Loss: 5.75e-05\tError: 5.03e-03\tStd dev: 2.68e-02\tResample: 3\n",
        "Loss: 1.44e-04\tError: 1.06e-02\tStd dev: 2.61e-02\tResample: 4"
       ]
      },
      {
       "output_type": "stream",
       "stream": "stdout",
       "text": [
        "\n",
        "Loss: 2.08e-04\tError: 1.31e-02\tStd dev: 2.56e-02\tResample: 4\n",
        "Loss: 1.97e-04\tError: 1.27e-02\tStd dev: 2.56e-02\tResample: 4"
       ]
      },
      {
       "output_type": "stream",
       "stream": "stdout",
       "text": [
        "\n",
        "Loss: 1.95e-04\tError: 1.26e-02\tStd dev: 2.55e-02\tResample: 4\n",
        "Loss: 1.65e-04\tError: 1.16e-02\tStd dev: 2.56e-02\tResample: 4"
       ]
      },
      {
       "output_type": "stream",
       "stream": "stdout",
       "text": [
        "\n",
        "Loss: 1.44e-04\tError: 1.06e-02\tStd dev: 2.56e-02\tResample: 4\n",
        "Loss: 3.14e-04\tError: 1.63e-02\tStd dev: 2.47e-02\tResample: 4"
       ]
      },
      {
       "output_type": "stream",
       "stream": "stdout",
       "text": [
        "\n",
        "Loss: 2.48e-04\tError: 1.42e-02\tStd dev: 2.49e-02\tResample: 4\n",
        "Loss: 1.98e-04\tError: 1.25e-02\tStd dev: 2.51e-02\tResample: 4"
       ]
      },
      {
       "output_type": "stream",
       "stream": "stdout",
       "text": [
        "\n",
        "Loss: 2.03e-04\tError: 1.27e-02\tStd dev: 2.50e-02\tResample: 4\n",
        "Loss: 1.52e-04\tError: 1.09e-02\tStd dev: 2.53e-02\tResample: 4"
       ]
      },
      {
       "output_type": "stream",
       "stream": "stdout",
       "text": [
        "\n",
        "Loss: 1.27e-04\tError: 1.09e-02\tStd dev: 2.54e-02\tResample: 4\n",
        "Chose theta = [   3.13970957  293.15          0.7       ]."
       ]
      },
      {
       "output_type": "stream",
       "stream": "stdout",
       "text": [
        "\tLoss: 1.34e-04\tError: 1.09e-02\tStd dev: 2.54e-02\tResample: 4\n",
        "Chose theta = [   3.13628073  293.15          0.7       ]."
       ]
      },
      {
       "output_type": "stream",
       "stream": "stdout",
       "text": [
        "\tLoss: 1.44e-04\tError: 1.16e-02\tStd dev: 2.54e-02\tResample: 4\n",
        "Chose theta = [   0.48751525  292.27592348    0.69907046]."
       ]
      },
      {
       "output_type": "stream",
       "stream": "stdout",
       "text": [
        "\tLoss: 2.92e-05\tError: 3.51e-03\tStd dev: 2.50e-02\tResample: 4\n",
        "Chose theta = [   1.78849705  270.            0.65014669]."
       ]
      },
      {
       "output_type": "stream",
       "stream": "stdout",
       "text": [
        "\tLoss: 1.70e-05\tError: 5.24e-04\tStd dev: 2.46e-02\tResample: 4\n",
        "Chose theta = [   0.45875511  297.32534672    0.71864168]."
       ]
      },
      {
       "output_type": "stream",
       "stream": "stdout",
       "text": [
        "\tLoss: 1.95e-05\tError: 2.09e-03\tStd dev: 2.43e-02\tResample: 4\n",
        "Chose theta = [   1.02690409  293.01646121    0.70028324]."
       ]
      },
      {
       "output_type": "stream",
       "stream": "stdout",
       "text": [
        "\tLoss: 3.31e-05\tError: 4.49e-03\tStd dev: 2.40e-02\tResample: 4\n",
        "Chose theta = [   0.63654817  292.33305187    0.7008915 ]."
       ]
      },
      {
       "output_type": "stream",
       "stream": "stdout",
       "text": [
        "\tLoss: 2.27e-05\tError: 2.73e-03\tStd dev: 2.35e-02\tResample: 5"
       ]
      },
      {
       "output_type": "stream",
       "stream": "stdout",
       "text": [
        "\n",
        "Chose theta = [   1.56673934  293.15          0.7       ]."
       ]
      },
      {
       "output_type": "stream",
       "stream": "stdout",
       "text": [
        "\tLoss: 2.30e-05\tError: 2.88e-03\tStd dev: 2.35e-02\tResample: 5\n",
        "Chose theta = [   4.70903488  293.15          0.7       ]."
       ]
      },
      {
       "output_type": "stream",
       "stream": "stdout",
       "text": [
        "\tLoss: 2.30e-05\tError: 2.89e-03\tStd dev: 2.35e-02\tResample: 5\n",
        "Chose theta = [   6.27859898  293.15          0.7       ]."
       ]
      },
      {
       "output_type": "stream",
       "stream": "stdout",
       "text": [
        "\tLoss: 1.98e-05\tError: 2.64e-03\tStd dev: 2.34e-02\tResample: 5\n",
        "Chose theta = [   1.56551933  293.15          0.7       ]."
       ]
      },
      {
       "output_type": "stream",
       "stream": "stdout",
       "text": [
        "\tLoss: 1.90e-05\tError: 2.42e-03\tStd dev: 2.35e-02\tResample: 5\n",
        "Chose theta = [   1.56430555  293.15          0.7       ]."
       ]
      },
      {
       "output_type": "stream",
       "stream": "stdout",
       "text": [
        "\tLoss: 2.28e-05\tError: 3.15e-03\tStd dev: 2.34e-02\tResample: 5\n",
        "0.901 \u00b1 0.00525\t"
       ]
      },
      {
       "output_type": "stream",
       "stream": "stdout",
       "text": [
        " 0.000428 \u00b1 0.00381\t 0.0876 \u00b1 0.0234\t 22.0 \u00b1 0.00489\t -1.02 \u00b1 0.00574\t\n",
        "[ 0.9        0.         0.0844303  1.02     ]\n",
        "Loss: 8.98e-02\tError: 3.00e-01\tStd dev: 1.68e-01\tResample: 1"
       ]
      },
      {
       "output_type": "stream",
       "stream": "stdout",
       "text": [
        "\n",
        "Loss: 3.73e-03\tError: 6.10e-02\tStd dev: 9.02e-02\tResample: 2"
       ]
      },
      {
       "output_type": "stream",
       "stream": "stdout",
       "text": [
        "\n",
        "Loss: 1.68e-03\tError: 4.09e-02\tStd dev: 6.98e-02\tResample: 2\n",
        "Loss: 5.48e-04\tError: 2.32e-02\tStd dev: 5.67e-02\tResample: 2"
       ]
      },
      {
       "output_type": "stream",
       "stream": "stdout",
       "text": [
        "\n",
        "Loss: 8.89e-06\tError: 1.17e-04\tStd dev: 4.59e-02\tResample: 2\n",
        "Loss: 4.31e-04\tError: 2.07e-02\tStd dev: 4.71e-02\tResample: 2"
       ]
      },
      {
       "output_type": "stream",
       "stream": "stdout",
       "text": [
        "\n",
        "Loss: 2.72e-04\tError: 1.64e-02\tStd dev: 4.41e-02\tResample: 2\n",
        "Loss: 3.03e-04\tError: 1.73e-02\tStd dev: 4.36e-02\tResample: 2"
       ]
      },
      {
       "output_type": "stream",
       "stream": "stdout",
       "text": [
        "\n",
        "Loss: 9.05e-04\tError: 3.00e-02\tStd dev: 4.57e-02\tResample: 3"
       ]
      },
      {
       "output_type": "stream",
       "stream": "stdout",
       "text": [
        "\n",
        "Loss: 1.10e-04\tError: 1.03e-02\tStd dev: 4.14e-02\tResample: 3\n",
        "Loss: 5.61e-05\tError: 7.34e-03\tStd dev: 3.68e-02\tResample: 3"
       ]
      },
      {
       "output_type": "stream",
       "stream": "stdout",
       "text": [
        "\n",
        "Loss: 1.92e-04\tError: 1.38e-02\tStd dev: 3.77e-02\tResample: 3\n",
        "Loss: 7.84e-04\tError: 2.80e-02\tStd dev: 3.70e-02\tResample: 3"
       ]
      },
      {
       "output_type": "stream",
       "stream": "stdout",
       "text": [
        "\n",
        "Loss: 8.17e-04\tError: 2.86e-02\tStd dev: 3.55e-02\tResample: 3\n",
        "Loss: 4.67e-04\tError: 2.16e-02\tStd dev: 3.42e-02\tResample: 3"
       ]
      },
      {
       "output_type": "stream",
       "stream": "stdout",
       "text": [
        "\n",
        "Loss: 4.91e-04\tError: 2.21e-02\tStd dev: 3.41e-02\tResample: 3\n",
        "Loss: 4.29e-04\tError: 2.07e-02\tStd dev: 3.36e-02\tResample: 3"
       ]
      },
      {
       "output_type": "stream",
       "stream": "stdout",
       "text": [
        "\n",
        "Loss: 2.25e-04\tError: 1.50e-02\tStd dev: 3.25e-02\tResample: 3\n",
        "Loss: 5.98e-04\tError: 2.44e-02\tStd dev: 3.19e-02\tResample: 3"
       ]
      },
      {
       "output_type": "stream",
       "stream": "stdout",
       "text": [
        "\n",
        "Loss: 3.63e-04\tError: 1.89e-02\tStd dev: 3.08e-02\tResample: 3\n",
        "Loss: 5.59e-05\tError: 7.26e-03\tStd dev: 2.97e-02\tResample: 3"
       ]
      },
      {
       "output_type": "stream",
       "stream": "stdout",
       "text": [
        "\n",
        "Loss: 6.29e-05\tError: 7.74e-03\tStd dev: 2.91e-02\tResample: 3\n",
        "Loss: 1.86e-04\tError: 1.35e-02\tStd dev: 2.90e-02\tResample: 3"
       ]
      },
      {
       "output_type": "stream",
       "stream": "stdout",
       "text": [
        "\n",
        "Loss: 1.74e-04\tError: 1.29e-02\tStd dev: 2.90e-02\tResample: 3\n",
        "Loss: 6.36e-04\tError: 2.50e-02\tStd dev: 2.94e-02\tResample: 3"
       ]
      },
      {
       "output_type": "stream",
       "stream": "stdout",
       "text": [
        "\n",
        "Loss: 6.09e-04\tError: 2.45e-02\tStd dev: 2.90e-02\tResample: 3\n",
        "Loss: 5.06e-04\tError: 2.23e-02\tStd dev: 2.86e-02\tResample: 3"
       ]
      },
      {
       "output_type": "stream",
       "stream": "stdout",
       "text": [
        "\n",
        "Loss: 9.64e-04\tError: 3.08e-02\tStd dev: 2.82e-02\tResample: 3\n",
        "Loss: 1.04e-03\tError: 3.20e-02\tStd dev: 2.79e-02\tResample: 3"
       ]
      },
      {
       "output_type": "stream",
       "stream": "stdout",
       "text": [
        "\n",
        "Loss: 9.98e-04\tError: 3.14e-02\tStd dev: 2.76e-02\tResample: 3\n",
        "Loss: 1.00e-03\tError: 3.14e-02\tStd dev: 2.75e-02\tResample: 3"
       ]
      },
      {
       "output_type": "stream",
       "stream": "stdout",
       "text": [
        "\n",
        "Loss: 1.00e-03\tError: 3.15e-02\tStd dev: 2.76e-02\tResample: 3\n",
        "Loss: 9.70e-04\tError: 3.09e-02\tStd dev: 2.75e-02\tResample: 3"
       ]
      },
      {
       "output_type": "stream",
       "stream": "stdout",
       "text": [
        "\n",
        "Loss: 8.66e-04\tError: 2.92e-02\tStd dev: 2.74e-02\tResample: 3\n",
        "Loss: 7.09e-04\tError: 2.65e-02\tStd dev: 2.74e-02\tResample: 3"
       ]
      },
      {
       "output_type": "stream",
       "stream": "stdout",
       "text": [
        "\n",
        "Loss: 6.26e-04\tError: 2.48e-02\tStd dev: 2.74e-02\tResample: 3\n",
        "Loss: 5.28e-04\tError: 2.28e-02\tStd dev: 2.73e-02\tResample: 3"
       ]
      },
      {
       "output_type": "stream",
       "stream": "stdout",
       "text": [
        "\n",
        "Loss: 4.87e-04\tError: 2.18e-02\tStd dev: 2.73e-02\tResample: 4"
       ]
      },
      {
       "output_type": "stream",
       "stream": "stdout",
       "text": [
        "\n",
        "Loss: 5.27e-04\tError: 2.28e-02\tStd dev: 2.73e-02\tResample: 4\n",
        "Loss: 5.41e-04\tError: 2.30e-02\tStd dev: 2.73e-02\tResample: 4"
       ]
      },
      {
       "output_type": "stream",
       "stream": "stdout",
       "text": [
        "\n",
        "Chose theta = [   3.13596427  293.15          0.7       ]."
       ]
      },
      {
       "output_type": "stream",
       "stream": "stdout",
       "text": [
        "\tLoss: 5.40e-04\tError: 2.29e-02\tStd dev: 2.74e-02\tResample: 4\n",
        "Chose theta = [   2.34892872  292.91485213    0.70014143]."
       ]
      },
      {
       "output_type": "stream",
       "stream": "stdout",
       "text": [
        "\tLoss: 4.66e-04\tError: 2.12e-02\tStd dev: 2.70e-02\tResample: 4\n",
        "Chose theta = [   0.          289.19208131    0.67308923]."
       ]
      },
      {
       "output_type": "stream",
       "stream": "stdout",
       "text": [
        "\tLoss: 4.23e-04\tError: 2.02e-02\tStd dev: 2.68e-02\tResample: 4\n",
        "Chose theta = [   3.13497113  293.15          0.7       ]."
       ]
      },
      {
       "output_type": "stream",
       "stream": "stdout",
       "text": [
        "\tLoss: 4.25e-04\tError: 2.03e-02\tStd dev: 2.68e-02\tResample: 4\n",
        "Chose theta = [   6.28318531  293.14335539    0.69987861]."
       ]
      },
      {
       "output_type": "stream",
       "stream": "stdout",
       "text": [
        "\tLoss: 4.08e-04\tError: 2.00e-02\tStd dev: 2.68e-02\tResample: 4\n",
        "Chose theta = [   3.13526237  293.15          0.7       ]."
       ]
      },
      {
       "output_type": "stream",
       "stream": "stdout",
       "text": [
        "\tLoss: 4.03e-04\tError: 1.99e-02\tStd dev: 2.68e-02\tResample: 4\n",
        "Chose theta = [   2.37004936  292.31594622    0.69808546]."
       ]
      },
      {
       "output_type": "stream",
       "stream": "stdout",
       "text": [
        "\tLoss: 7.06e-04\tError: 2.64e-02\tStd dev: 2.64e-02\tResample: 4\n",
        "Chose theta = [   3.13656937  293.15          0.7       ]."
       ]
      },
      {
       "output_type": "stream",
       "stream": "stdout",
       "text": [
        "\tLoss: 7.07e-04\tError: 2.64e-02\tStd dev: 2.64e-02\tResample: 4\n",
        "Chose theta = [   2.48713361  293.4465966     0.69995647]."
       ]
      },
      {
       "output_type": "stream",
       "stream": "stdout",
       "text": [
        "\tLoss: 4.65e-04\tError: 2.14e-02\tStd dev: 2.61e-02\tResample: 4\n",
        "Chose theta = [   3.13858162  293.15          0.7       ]."
       ]
      },
      {
       "output_type": "stream",
       "stream": "stdout",
       "text": [
        "\tLoss: 4.52e-04\tError: 2.12e-02\tStd dev: 2.60e-02\tResample: 4\n",
        "Chose theta = [   2.38192269  294.1554396     0.69926977]."
       ]
      },
      {
       "output_type": "stream",
       "stream": "stdout",
       "text": [
        "\tLoss: 6.24e-04\tError: 2.49e-02\tStd dev: 2.57e-02\tResample: 4\n",
        "Chose theta = [   3.13484808  293.15          0.7       ]."
       ]
      },
      {
       "output_type": "stream",
       "stream": "stdout",
       "text": [
        "\tLoss: 5.95e-04\tError: 2.42e-02\tStd dev: 2.58e-02\tResample: 4\n",
        "0.898 \u00b1 0.00494\t"
       ]
      },
      {
       "output_type": "stream",
       "stream": "stdout",
       "text": [
        " -0.00202 \u00b1 0.00368\t 0.109 \u00b1 0.0258\t 22.0 \u00b1 0.00546\t -1.02 \u00b1 0.00578\t\n",
        "[ 0.9        0.         0.0844303  1.02     ]\n",
        "x iiiiiiiiiiiiiiiiiiiiiiis 13\n",
        "Loss: 1.03e-02\tError: 1.02e-01\tStd dev: 1.22e-01\tResample: 1"
       ]
      },
      {
       "output_type": "stream",
       "stream": "stdout",
       "text": [
        "\n",
        "Loss: 2.39e-02\tError: 1.55e-01\tStd dev: 9.98e-02\tResample: 1\n",
        "Loss: 1.60e-03\tError: 3.99e-02\tStd dev: 6.86e-02\tResample: 1"
       ]
      },
      {
       "output_type": "stream",
       "stream": "stdout",
       "text": [
        "\n",
        "Loss: 8.36e-06\tError: 3.12e-04\tStd dev: 4.96e-02\tResample: 2"
       ]
      },
      {
       "output_type": "stream",
       "stream": "stdout",
       "text": [
        "\n",
        "Loss: 7.61e-04\tError: 2.73e-02\tStd dev: 3.64e-02\tResample: 2\n",
        "Loss: 1.22e-03\tError: 3.48e-02\tStd dev: 3.17e-02\tResample: 2"
       ]
      },
      {
       "output_type": "stream",
       "stream": "stdout",
       "text": [
        "\n",
        "Loss: 1.38e-03\tError: 3.70e-02\tStd dev: 2.99e-02\tResample: 2\n",
        "Loss: 1.24e-03\tError: 3.50e-02\tStd dev: 3.04e-02\tResample: 2"
       ]
      },
      {
       "output_type": "stream",
       "stream": "stdout",
       "text": [
        "\n",
        "Loss: 1.24e-03\tError: 3.49e-02\tStd dev: 3.03e-02\tResample: 2\n",
        "Loss: 5.68e-04\tError: 2.36e-02\tStd dev: 3.33e-02\tResample: 2"
       ]
      },
      {
       "output_type": "stream",
       "stream": "stdout",
       "text": [
        "\n",
        "Loss: 9.05e-04\tError: 2.99e-02\tStd dev: 3.04e-02\tResample: 2\n",
        "Loss: 6.32e-04\tError: 2.50e-02\tStd dev: 3.08e-02\tResample: 2"
       ]
      },
      {
       "output_type": "stream",
       "stream": "stdout",
       "text": [
        "\n",
        "Loss: 5.31e-04\tError: 2.29e-02\tStd dev: 3.04e-02\tResample: 2\n",
        "Loss: 3.74e-04\tError: 1.92e-02\tStd dev: 3.03e-02\tResample: 2"
       ]
      },
      {
       "output_type": "stream",
       "stream": "stdout",
       "text": [
        "\n",
        "Loss: 2.45e-04\tError: 1.54e-02\tStd dev: 3.04e-02\tResample: 2\n",
        "Loss: 1.75e-04\tError: 1.30e-02\tStd dev: 3.05e-02\tResample: 2"
       ]
      },
      {
       "output_type": "stream",
       "stream": "stdout",
       "text": [
        "\n",
        "Loss: 7.72e-05\tError: 8.65e-03\tStd dev: 3.10e-02\tResample: 2\n",
        "Loss: 8.26e-05\tError: 8.96e-03\tStd dev: 3.04e-02\tResample: 2"
       ]
      },
      {
       "output_type": "stream",
       "stream": "stdout",
       "text": [
        "\n",
        "Loss: 9.52e-05\tError: 9.64e-03\tStd dev: 2.96e-02\tResample: 2\n",
        "Loss: 3.26e-05\tError: 5.36e-03\tStd dev: 2.93e-02\tResample: 2"
       ]
      },
      {
       "output_type": "stream",
       "stream": "stdout",
       "text": [
        "\n",
        "Loss: 2.20e-05\tError: 4.17e-03\tStd dev: 2.94e-02\tResample: 3"
       ]
      },
      {
       "output_type": "stream",
       "stream": "stdout",
       "text": [
        "\n",
        "Loss: 5.51e-06\tError: 1.34e-03\tStd dev: 2.87e-02\tResample: 3\n",
        "Loss: 1.09e-04\tError: 1.00e-02\tStd dev: 2.87e-02\tResample: 3"
       ]
      },
      {
       "output_type": "stream",
       "stream": "stdout",
       "text": [
        "\n",
        "Loss: 1.42e-04\tError: 1.15e-02\tStd dev: 2.84e-02\tResample: 3\n",
        "Loss: 1.23e-04\tError: 1.06e-02\tStd dev: 2.82e-02\tResample: 3"
       ]
      },
      {
       "output_type": "stream",
       "stream": "stdout",
       "text": [
        "\n",
        "Loss: 7.82e-05\tError: 8.27e-03\tStd dev: 2.78e-02\tResample: 3\n",
        "Loss: 5.92e-06\tError: 2.36e-04\tStd dev: 2.73e-02\tResample: 3"
       ]
      },
      {
       "output_type": "stream",
       "stream": "stdout",
       "text": [
        "\n",
        "Loss: 8.73e-06\tError: 1.92e-03\tStd dev: 2.69e-02\tResample: 3\n",
        "Loss: 6.41e-06\tError: 8.63e-05\tStd dev: 2.68e-02\tResample: 3"
       ]
      },
      {
       "output_type": "stream",
       "stream": "stdout",
       "text": [
        "\n",
        "Loss: 1.29e-05\tError: 2.83e-03\tStd dev: 2.65e-02\tResample: 3\n",
        "Loss: 1.02e-05\tError: 1.79e-03\tStd dev: 2.64e-02\tResample: 3"
       ]
      },
      {
       "output_type": "stream",
       "stream": "stdout",
       "text": [
        "\n",
        "Loss: 1.11e-05\tError: 1.68e-03\tStd dev: 2.64e-02\tResample: 3\n",
        "Loss: 1.01e-05\tError: 1.42e-03\tStd dev: 2.63e-02\tResample: 3"
       ]
      },
      {
       "output_type": "stream",
       "stream": "stdout",
       "text": [
        "\n",
        "Loss: 1.89e-05\tError: 2.66e-03\tStd dev: 2.63e-02\tResample: 3\n",
        "Loss: 7.54e-05\tError: 7.60e-03\tStd dev: 2.59e-02\tResample: 3"
       ]
      },
      {
       "output_type": "stream",
       "stream": "stdout",
       "text": [
        "\n",
        "Loss: 8.98e-05\tError: 8.38e-03\tStd dev: 2.58e-02\tResample: 3\n",
        "Loss: 1.36e-04\tError: 1.06e-02\tStd dev: 2.55e-02\tResample: 3"
       ]
      },
      {
       "output_type": "stream",
       "stream": "stdout",
       "text": [
        "\n",
        "Loss: 9.88e-05\tError: 8.87e-03\tStd dev: 2.56e-02\tResample: 3\n",
        "Loss: 1.18e-04\tError: 9.70e-03\tStd dev: 2.54e-02\tResample: 3"
       ]
      },
      {
       "output_type": "stream",
       "stream": "stdout",
       "text": [
        "\n",
        "Loss: 1.31e-04\tError: 1.03e-02\tStd dev: 2.53e-02\tResample: 4"
       ]
      },
      {
       "output_type": "stream",
       "stream": "stdout",
       "text": [
        "\n",
        "Chose theta = [   6.28073857  293.15          0.7       ]."
       ]
      },
      {
       "output_type": "stream",
       "stream": "stdout",
       "text": [
        "\tLoss: 1.42e-04\tError: 1.07e-02\tStd dev: 2.53e-02\tResample: 4\n",
        "Chose theta = [   6.28318531  293.14779954    0.70000969]."
       ]
      },
      {
       "output_type": "stream",
       "stream": "stdout",
       "text": [
        "\tLoss: 1.32e-04\tError: 1.03e-02\tStd dev: 2.53e-02\tResample: 4\n",
        "Chose theta = [   1.56732479  293.15          0.7       ]."
       ]
      },
      {
       "output_type": "stream",
       "stream": "stdout",
       "text": [
        "\tLoss: 1.33e-04\tError: 1.02e-02\tStd dev: 2.53e-02\tResample: 4\n",
        "Chose theta = [   1.56857795  293.15          0.7       ]."
       ]
      },
      {
       "output_type": "stream",
       "stream": "stdout",
       "text": [
        "\tLoss: 1.37e-04\tError: 1.07e-02\tStd dev: 2.54e-02\tResample: 4\n",
        "Chose theta = [   1.56650195  293.15          0.7       ]."
       ]
      },
      {
       "output_type": "stream",
       "stream": "stdout",
       "text": [
        "\tLoss: 1.42e-04\tError: 1.08e-02\tStd dev: 2.53e-02\tResample: 4\n",
        "Chose theta = [   6.28318531  293.15295471    0.69999456]."
       ]
      },
      {
       "output_type": "stream",
       "stream": "stdout",
       "text": [
        "\tLoss: 1.34e-04\tError: 1.04e-02\tStd dev: 2.53e-02\tResample: 4\n",
        "Chose theta = [   1.56603565  293.15          0.7       ]."
       ]
      },
      {
       "output_type": "stream",
       "stream": "stdout",
       "text": [
        "\tLoss: 1.29e-04\tError: 1.03e-02\tStd dev: 2.54e-02\tResample: 4\n",
        "Chose theta = [   4.70890692  293.15          0.7       ]."
       ]
      },
      {
       "output_type": "stream",
       "stream": "stdout",
       "text": [
        "\tLoss: 1.28e-04\tError: 1.03e-02\tStd dev: 2.54e-02\tResample: 4\n",
        "Chose theta = [   1.56869996  293.15          0.7       ]."
       ]
      },
      {
       "output_type": "stream",
       "stream": "stdout",
       "text": [
        "\tLoss: 1.25e-04\tError: 1.01e-02\tStd dev: 2.53e-02\tResample: 4\n",
        "Chose theta = [   1.56669679  293.15          0.7       ]."
       ]
      },
      {
       "output_type": "stream",
       "stream": "stdout",
       "text": [
        "\tLoss: 1.23e-04\tError: 1.01e-02\tStd dev: 2.54e-02\tResample: 4\n",
        "Chose theta = [   1.56621794  293.15          0.7       ]."
       ]
      },
      {
       "output_type": "stream",
       "stream": "stdout",
       "text": [
        "\tLoss: 1.25e-04\tError: 1.02e-02\tStd dev: 2.54e-02\tResample: 4\n",
        "Chose theta = [   1.08548787  293.24084311    0.69988445]."
       ]
      },
      {
       "output_type": "stream",
       "stream": "stdout",
       "text": [
        "\tLoss: 1.21e-04\tError: 9.95e-03\tStd dev: 2.49e-02\tResample: 4\n",
        "Chose theta = [   1.56777135  293.15          0.7       ]."
       ]
      },
      {
       "output_type": "stream",
       "stream": "stdout",
       "text": [
        "\tLoss: 1.22e-04\tError: 1.01e-02\tStd dev: 2.50e-02\tResample: 4\n",
        "0.901 \u00b1 0.00503\t"
       ]
      },
      {
       "output_type": "stream",
       "stream": "stdout",
       "text": [
        " -0.000788 \u00b1 0.00365\t 0.0945 \u00b1 0.025\t 22.0 \u00b1 0.00462\t -1.02 \u00b1 0.00571\t\n",
        "[ 0.9        0.         0.0844303  1.02     ]\n",
        "Loss: 1.06e-02\tError: 1.03e-01\tStd dev: 1.23e-01\tResample: 1"
       ]
      },
      {
       "output_type": "stream",
       "stream": "stdout",
       "text": [
        "\n",
        "Loss: 1.28e-02\tError: 1.13e-01\tStd dev: 9.64e-02\tResample: 1\n",
        "Loss: 4.79e-03\tError: 6.92e-02\tStd dev: 7.31e-02\tResample: 1"
       ]
      },
      {
       "output_type": "stream",
       "stream": "stdout",
       "text": [
        "\n",
        "Loss: 2.99e-04\tError: 1.72e-02\tStd dev: 5.48e-02\tResample: 1\n",
        "Loss: 3.39e-04\tError: 1.82e-02\tStd dev: 3.98e-02\tResample: 2"
       ]
      },
      {
       "output_type": "stream",
       "stream": "stdout",
       "text": [
        "\n",
        "Loss: 1.01e-03\tError: 3.18e-02\tStd dev: 3.29e-02\tResample: 2\n",
        "Loss: 5.18e-04\tError: 2.27e-02\tStd dev: 3.50e-02\tResample: 2"
       ]
      },
      {
       "output_type": "stream",
       "stream": "stdout",
       "text": [
        "\n",
        "Loss: 7.78e-04\tError: 2.79e-02\tStd dev: 3.32e-02\tResample: 2\n",
        "Loss: 9.37e-04\tError: 3.06e-02\tStd dev: 3.19e-02\tResample: 2"
       ]
      },
      {
       "output_type": "stream",
       "stream": "stdout",
       "text": [
        "\n",
        "Loss: 7.72e-04\tError: 2.77e-02\tStd dev: 3.20e-02\tResample: 2\n",
        "Loss: 2.92e-04\tError: 1.70e-02\tStd dev: 3.37e-02\tResample: 2"
       ]
      },
      {
       "output_type": "stream",
       "stream": "stdout",
       "text": [
        "\n",
        "Loss: 2.23e-04\tError: 1.48e-02\tStd dev: 3.29e-02\tResample: 2\n",
        "Loss: 3.41e-06\tError: 1.42e-03\tStd dev: 3.37e-02\tResample: 2"
       ]
      },
      {
       "output_type": "stream",
       "stream": "stdout",
       "text": [
        "\n",
        "Loss: 1.38e-04\tError: 1.15e-02\tStd dev: 3.35e-02\tResample: 3"
       ]
      },
      {
       "output_type": "stream",
       "stream": "stdout",
       "text": [
        "\n",
        "Loss: 2.85e-05\tError: 4.57e-03\tStd dev: 3.23e-02\tResample: 3\n",
        "Loss: 1.34e-04\tError: 1.06e-02\tStd dev: 3.19e-02\tResample: 3"
       ]
      },
      {
       "output_type": "stream",
       "stream": "stdout",
       "text": [
        "\n",
        "Loss: 1.79e-04\tError: 1.24e-02\tStd dev: 3.17e-02\tResample: 3\n",
        "Loss: 4.91e-04\tError: 2.17e-02\tStd dev: 3.14e-02\tResample: 3"
       ]
      },
      {
       "output_type": "stream",
       "stream": "stdout",
       "text": [
        "\n",
        "Loss: 8.82e-04\tError: 2.92e-02\tStd dev: 3.06e-02\tResample: 3\n",
        "Loss: 8.12e-04\tError: 2.80e-02\tStd dev: 2.98e-02\tResample: 3"
       ]
      },
      {
       "output_type": "stream",
       "stream": "stdout",
       "text": [
        "\n",
        "Loss: 1.87e-04\tError: 1.31e-02\tStd dev: 2.89e-02\tResample: 3\n",
        "Loss: 3.39e-05\tError: 3.54e-03\tStd dev: 2.80e-02\tResample: 3"
       ]
      },
      {
       "output_type": "stream",
       "stream": "stdout",
       "text": [
        "\n",
        "Loss: 1.31e-04\tError: 1.00e-02\tStd dev: 2.78e-02\tResample: 3\n",
        "Loss: 1.42e-04\tError: 1.10e-02\tStd dev: 2.78e-02\tResample: 3"
       ]
      },
      {
       "output_type": "stream",
       "stream": "stdout",
       "text": [
        "\n",
        "Loss: 1.63e-04\tError: 1.20e-02\tStd dev: 2.77e-02\tResample: 3\n",
        "Loss: 1.29e-04\tError: 1.06e-02\tStd dev: 2.74e-02\tResample: 3"
       ]
      },
      {
       "output_type": "stream",
       "stream": "stdout",
       "text": [
        "\n",
        "Loss: 2.11e-04\tError: 1.39e-02\tStd dev: 2.71e-02\tResample: 3\n",
        "Loss: 1.19e-04\tError: 1.03e-02\tStd dev: 2.68e-02\tResample: 3"
       ]
      },
      {
       "output_type": "stream",
       "stream": "stdout",
       "text": [
        "\n",
        "Loss: 1.97e-04\tError: 1.36e-02\tStd dev: 2.67e-02\tResample: 3\n",
        "Loss: 7.60e-05\tError: 8.42e-03\tStd dev: 2.65e-02\tResample: 3"
       ]
      },
      {
       "output_type": "stream",
       "stream": "stdout",
       "text": [
        "\n",
        "Loss: 9.38e-05\tError: 9.47e-03\tStd dev: 2.65e-02\tResample: 3\n",
        "Loss: 9.72e-05\tError: 9.54e-03\tStd dev: 2.65e-02\tResample: 3"
       ]
      },
      {
       "output_type": "stream",
       "stream": "stdout",
       "text": [
        "\n",
        "Loss: 8.28e-05\tError: 8.81e-03\tStd dev: 2.64e-02\tResample: 3\n",
        "Loss: 3.60e-05\tError: 5.06e-03\tStd dev: 2.61e-02\tResample: 3"
       ]
      },
      {
       "output_type": "stream",
       "stream": "stdout",
       "text": [
        "\n",
        "Loss: 3.40e-05\tError: 4.86e-03\tStd dev: 2.61e-02\tResample: 3\n",
        "Loss: 4.56e-05\tError: 6.07e-03\tStd dev: 2.61e-02\tResample: 3"
       ]
      },
      {
       "output_type": "stream",
       "stream": "stdout",
       "text": [
        "\n",
        "Loss: 4.14e-05\tError: 5.74e-03\tStd dev: 2.61e-02\tResample: 3\n",
        "Loss: 6.30e-05\tError: 7.48e-03\tStd dev: 2.62e-02\tResample: 3"
       ]
      },
      {
       "output_type": "stream",
       "stream": "stdout",
       "text": [
        "\n",
        "Loss: 4.74e-05\tError: 6.62e-03\tStd dev: 2.63e-02\tResample: 3\n",
        "Loss: 4.40e-05\tError: 6.18e-03\tStd dev: 2.64e-02\tResample: 4"
       ]
      },
      {
       "output_type": "stream",
       "stream": "stdout",
       "text": [
        "\n",
        "Chose theta = [   2.17846282  293.01291039    0.70055326]."
       ]
      },
      {
       "output_type": "stream",
       "stream": "stdout",
       "text": [
        "\tLoss: 8.02e-06\tError: 7.27e-04\tStd dev: 2.60e-02\tResample: 4\n",
        "Chose theta = [   3.13800031  293.15          0.7       ]."
       ]
      },
      {
       "output_type": "stream",
       "stream": "stdout",
       "text": [
        "\tLoss: 1.27e-05\tError: 3.52e-04\tStd dev: 2.60e-02\tResample: 4\n",
        "Chose theta = [   3.13975423  293.15          0.7       ]."
       ]
      },
      {
       "output_type": "stream",
       "stream": "stdout",
       "text": [
        "\tLoss: 1.45e-05\tError: 1.41e-04\tStd dev: 2.60e-02\tResample: 4\n",
        "Chose theta = [   3.13880624  293.15          0.7       ]."
       ]
      },
      {
       "output_type": "stream",
       "stream": "stdout",
       "text": [
        "\tLoss: 2.29e-05\tError: 4.04e-04\tStd dev: 2.60e-02\tResample: 4\n",
        "Chose theta = [   3.13710477  293.15          0.7       ]."
       ]
      },
      {
       "output_type": "stream",
       "stream": "stdout",
       "text": [
        "\tLoss: 2.16e-05\tError: 3.76e-04\tStd dev: 2.60e-02\tResample: 4\n",
        "Chose theta = [   3.13949051  293.15          0.7       ]."
       ]
      },
      {
       "output_type": "stream",
       "stream": "stdout",
       "text": [
        "\tLoss: 2.38e-05\tError: 5.30e-04\tStd dev: 2.60e-02\tResample: 4\n",
        "Chose theta = [   1.76501106  273.17402285    1.        ]."
       ]
      },
      {
       "output_type": "stream",
       "stream": "stdout",
       "text": [
        "\tLoss: 2.45e-05\tError: 1.31e-03\tStd dev: 2.57e-02\tResample: 4\n",
        "Chose theta = [   0.80004768  292.77126146    0.70021914]."
       ]
      },
      {
       "output_type": "stream",
       "stream": "stdout",
       "text": [
        "\tLoss: 3.83e-05\tError: 4.10e-03\tStd dev: 2.51e-02\tResample: 4\n",
        "Chose theta = [   4.07980378  310.            0.54173611]."
       ]
      },
      {
       "output_type": "stream",
       "stream": "stdout",
       "text": [
        "\tLoss: 2.92e-05\tError: 2.42e-03\tStd dev: 2.50e-02\tResample: 4\n",
        "Chose theta = [   4.7103575  293.15         0.7      ]."
       ]
      },
      {
       "output_type": "stream",
       "stream": "stdout",
       "text": [
        "\tLoss: 2.74e-05\tError: 2.36e-03\tStd dev: 2.50e-02\tResample: 4\n",
        "Chose theta = [   3.13836401  293.15          0.7       ]."
       ]
      },
      {
       "output_type": "stream",
       "stream": "stdout",
       "text": [
        "\tLoss: 2.54e-05\tError: 2.58e-03\tStd dev: 2.50e-02\tResample: 4\n",
        "Chose theta = [   4.78080572  270.            0.7097358 ]."
       ]
      },
      {
       "output_type": "stream",
       "stream": "stdout",
       "text": [
        "\tLoss: 1.83e-05\tError: 1.25e-03\tStd dev: 2.49e-02\tResample: 4\n",
        "Chose theta = [   6.28318531  293.15629608    0.70053641]."
       ]
      },
      {
       "output_type": "stream",
       "stream": "stdout",
       "text": [
        "\tLoss: 2.26e-05\tError: 1.51e-03\tStd dev: 2.50e-02\tResample: 4\n",
        "0.904 \u00b1 0.0046\t"
       ]
      },
      {
       "output_type": "stream",
       "stream": "stdout",
       "text": [
        " 0.000601 \u00b1 0.00389\t 0.0829 \u00b1 0.025\t 22.0 \u00b1 0.00543\t -1.02 \u00b1 0.0058\t\n",
        "[ 0.9        0.         0.0844303  1.02     ]\n",
        "x iiiiiiiiiiiiiiiiiiiiiiis 14\n",
        "Loss: 4.12e-02\tError: 2.03e-01\tStd dev: 1.56e-01\tResample: 1"
       ]
      },
      {
       "output_type": "stream",
       "stream": "stdout",
       "text": [
        "\n",
        "Loss: 3.62e-02\tError: 1.90e-01\tStd dev: 1.06e-01\tResample: 1\n",
        "Loss: 5.12e-03\tError: 7.15e-02\tStd dev: 7.61e-02\tResample: 2"
       ]
      },
      {
       "output_type": "stream",
       "stream": "stdout",
       "text": [
        "\n",
        "Loss: 3.87e-03\tError: 6.22e-02\tStd dev: 6.38e-02\tResample: 2\n",
        "Loss: 7.88e-03\tError: 8.88e-02\tStd dev: 5.72e-02\tResample: 2"
       ]
      },
      {
       "output_type": "stream",
       "stream": "stdout",
       "text": [
        "\n",
        "Loss: 5.26e-03\tError: 7.25e-02\tStd dev: 5.12e-02\tResample: 2\n",
        "Loss: 3.33e-03\tError: 5.77e-02\tStd dev: 4.79e-02\tResample: 2"
       ]
      },
      {
       "output_type": "stream",
       "stream": "stdout",
       "text": [
        "\n",
        "Loss: 2.23e-03\tError: 4.72e-02\tStd dev: 4.75e-02\tResample: 2\n",
        "Loss: 5.08e-03\tError: 7.11e-02\tStd dev: 4.98e-02\tResample: 2"
       ]
      },
      {
       "output_type": "stream",
       "stream": "stdout",
       "text": [
        "\n",
        "Loss: 3.31e-03\tError: 5.74e-02\tStd dev: 4.67e-02\tResample: 2\n",
        "Loss: 1.30e-03\tError: 3.58e-02\tStd dev: 4.33e-02\tResample: 2"
       ]
      },
      {
       "output_type": "stream",
       "stream": "stdout",
       "text": [
        "\n",
        "Loss: 2.13e-04\tError: 1.38e-02\tStd dev: 3.92e-02\tResample: 3"
       ]
      },
      {
       "output_type": "stream",
       "stream": "stdout",
       "text": [
        "\n",
        "Loss: 4.54e-04\tError: 2.07e-02\tStd dev: 3.80e-02\tResample: 3\n",
        "Loss: 3.50e-04\tError: 1.80e-02\tStd dev: 3.63e-02\tResample: 3"
       ]
      },
      {
       "output_type": "stream",
       "stream": "stdout",
       "text": [
        "\n",
        "Loss: 3.73e-04\tError: 1.86e-02\tStd dev: 3.54e-02\tResample: 3\n",
        "Loss: 4.25e-04\tError: 2.01e-02\tStd dev: 3.52e-02\tResample: 3"
       ]
      },
      {
       "output_type": "stream",
       "stream": "stdout",
       "text": [
        "\n",
        "Loss: 1.84e-04\tError: 1.25e-02\tStd dev: 3.41e-02\tResample: 3\n",
        "Loss: 2.41e-04\tError: 1.46e-02\tStd dev: 3.35e-02\tResample: 3"
       ]
      },
      {
       "output_type": "stream",
       "stream": "stdout",
       "text": [
        "\n",
        "Loss: 2.02e-04\tError: 1.31e-02\tStd dev: 3.24e-02\tResample: 3\n",
        "Loss: 1.41e-04\tError: 1.06e-02\tStd dev: 3.14e-02\tResample: 3"
       ]
      },
      {
       "output_type": "stream",
       "stream": "stdout",
       "text": [
        "\n",
        "Loss: 8.03e-05\tError: 6.91e-03\tStd dev: 3.04e-02\tResample: 3\n",
        "Loss: 7.81e-05\tError: 6.74e-03\tStd dev: 2.98e-02\tResample: 3"
       ]
      },
      {
       "output_type": "stream",
       "stream": "stdout",
       "text": [
        "\n",
        "Loss: 7.19e-05\tError: 6.15e-03\tStd dev: 2.94e-02\tResample: 3\n",
        "Loss: 6.03e-05\tError: 5.33e-03\tStd dev: 2.95e-02\tResample: 3"
       ]
      },
      {
       "output_type": "stream",
       "stream": "stdout",
       "text": [
        "\n",
        "Loss: 3.70e-05\tError: 3.10e-03\tStd dev: 2.90e-02\tResample: 3\n",
        "Loss: 2.46e-04\tError: 1.51e-02\tStd dev: 2.92e-02\tResample: 3"
       ]
      },
      {
       "output_type": "stream",
       "stream": "stdout",
       "text": [
        "\n",
        "Loss: 2.87e-04\tError: 1.63e-02\tStd dev: 2.89e-02\tResample: 3\n",
        "Loss: 1.44e-04\tError: 1.09e-02\tStd dev: 2.84e-02\tResample: 3"
       ]
      },
      {
       "output_type": "stream",
       "stream": "stdout",
       "text": [
        "\n",
        "Loss: 1.00e-04\tError: 8.69e-03\tStd dev: 2.79e-02\tResample: 3\n",
        "Loss: 2.50e-04\tError: 1.53e-02\tStd dev: 2.80e-02\tResample: 3"
       ]
      },
      {
       "output_type": "stream",
       "stream": "stdout",
       "text": [
        "\n",
        "Loss: 2.84e-04\tError: 1.64e-02\tStd dev: 2.79e-02\tResample: 3\n",
        "Loss: 2.84e-04\tError: 1.63e-02\tStd dev: 2.80e-02\tResample: 3"
       ]
      },
      {
       "output_type": "stream",
       "stream": "stdout",
       "text": [
        "\n",
        "Loss: 5.32e-04\tError: 2.27e-02\tStd dev: 2.78e-02\tResample: 3\n",
        "Loss: 5.57e-04\tError: 2.32e-02\tStd dev: 2.77e-02\tResample: 4"
       ]
      },
      {
       "output_type": "stream",
       "stream": "stdout",
       "text": [
        "\n",
        "Loss: 6.59e-04\tError: 2.53e-02\tStd dev: 2.75e-02\tResample: 4\n",
        "Loss: 9.99e-04\tError: 3.11e-02\tStd dev: 2.71e-02\tResample: 4"
       ]
      },
      {
       "output_type": "stream",
       "stream": "stdout",
       "text": [
        "\n",
        "Loss: 1.06e-03\tError: 3.21e-02\tStd dev: 2.69e-02\tResample: 4\n",
        "Loss: 9.72e-04\tError: 3.07e-02\tStd dev: 2.70e-02\tResample: 4"
       ]
      },
      {
       "output_type": "stream",
       "stream": "stdout",
       "text": [
        "\n",
        "Loss: 9.14e-04\tError: 2.97e-02\tStd dev: 2.71e-02\tResample: 4\n",
        "Loss: 9.22e-04\tError: 2.98e-02\tStd dev: 2.71e-02\tResample: 4"
       ]
      },
      {
       "output_type": "stream",
       "stream": "stdout",
       "text": [
        "\n",
        "Chose theta = [   3.13364781  293.15          0.7       ]."
       ]
      },
      {
       "output_type": "stream",
       "stream": "stdout",
       "text": [
        "\tLoss: 9.03e-04\tError: 2.95e-02\tStd dev: 2.71e-02\tResample: 4\n",
        "Chose theta = [   1.21383002  310.            0.72948885]."
       ]
      },
      {
       "output_type": "stream",
       "stream": "stdout",
       "text": [
        "\tLoss: 9.52e-04\tError: 3.03e-02\tStd dev: 2.66e-02\tResample: 4\n",
        "Chose theta = [   1.21841392  294.26859136    0.71923902]."
       ]
      },
      {
       "output_type": "stream",
       "stream": "stdout",
       "text": [
        "\tLoss: 9.70e-04\tError: 3.06e-02\tStd dev: 2.61e-02\tResample: 4\n",
        "Chose theta = [   1.49007305  292.19122863    0.70122673]."
       ]
      },
      {
       "output_type": "stream",
       "stream": "stdout",
       "text": [
        "\tLoss: 9.06e-04\tError: 2.95e-02\tStd dev: 2.55e-02\tResample: 4\n",
        "Chose theta = [   3.13575259  293.15          0.7       ]."
       ]
      },
      {
       "output_type": "stream",
       "stream": "stdout",
       "text": [
        "\tLoss: 9.03e-04\tError: 2.94e-02\tStd dev: 2.56e-02\tResample: 4\n",
        "Chose theta = [   3.13734854  293.15          0.7       ]."
       ]
      },
      {
       "output_type": "stream",
       "stream": "stdout",
       "text": [
        "\tLoss: 8.96e-04\tError: 2.94e-02\tStd dev: 2.55e-02\tResample: 4\n",
        "Chose theta = [   1.91698758  295.08167648    0.69972096]."
       ]
      },
      {
       "output_type": "stream",
       "stream": "stdout",
       "text": [
        "\tLoss: 1.01e-03\tError: 3.13e-02\tStd dev: 2.52e-02\tResample: 4\n",
        "Chose theta = [   3.13597688  293.15          0.7       ]."
       ]
      },
      {
       "output_type": "stream",
       "stream": "stdout",
       "text": [
        "\tLoss: 1.01e-03\tError: 3.13e-02\tStd dev: 2.52e-02\tResample: 4\n",
        "Chose theta = [   3.13692336  293.15          0.7       ]."
       ]
      },
      {
       "output_type": "stream",
       "stream": "stdout",
       "text": [
        "\tLoss: 1.01e-03\tError: 3.13e-02\tStd dev: 2.52e-02\tResample: 4\n",
        "Chose theta = [   4.70763397  293.15          0.7       ]."
       ]
      },
      {
       "output_type": "stream",
       "stream": "stdout",
       "text": [
        "\tLoss: 9.90e-04\tError: 3.10e-02\tStd dev: 2.51e-02\tResample: 4\n",
        "Chose theta = [   3.13523505  293.15          0.7       ]."
       ]
      },
      {
       "output_type": "stream",
       "stream": "stdout",
       "text": [
        "\tLoss: 9.81e-04\tError: 3.08e-02\tStd dev: 2.51e-02\tResample: 4\n",
        "Chose theta = [   3.13701832  293.15          0.7       ]."
       ]
      },
      {
       "output_type": "stream",
       "stream": "stdout",
       "text": [
        "\tLoss: 9.89e-04\tError: 3.09e-02\tStd dev: 2.51e-02\tResample: 4\n",
        "Chose theta = [   0.76100228  293.24214757    0.70180938]."
       ]
      },
      {
       "output_type": "stream",
       "stream": "stdout",
       "text": [
        "\tLoss: 7.62e-04\tError: 2.70e-02\tStd dev: 2.44e-02\tResample: 4\n",
        "Chose theta = [   1.23795872  293.02472387    0.69984064]."
       ]
      },
      {
       "output_type": "stream",
       "stream": "stdout",
       "text": [
        "\tLoss: 7.59e-04\tError: 2.69e-02\tStd dev: 2.40e-02\tResample: 4\n",
        "0.895 \u00b1 0.00432\t"
       ]
      },
      {
       "output_type": "stream",
       "stream": "stdout",
       "text": [
        " -0.000524 \u00b1 0.00374\t 0.111 \u00b1 0.024\t 22.0 \u00b1 0.00497\t -1.02 \u00b1 0.00572\t\n",
        "[ 0.9        0.         0.0844303  1.02     ]\n",
        "Loss: 2.23e-03\tError: 4.71e-02\tStd dev: 9.31e-02\tResample: 1"
       ]
      },
      {
       "output_type": "stream",
       "stream": "stdout",
       "text": [
        "\n",
        "Loss: 2.59e-02\tError: 1.61e-01\tStd dev: 9.48e-02\tResample: 2"
       ]
      },
      {
       "output_type": "stream",
       "stream": "stdout",
       "text": [
        "\n",
        "Loss: 1.58e-02\tError: 1.26e-01\tStd dev: 7.40e-02\tResample: 2\n",
        "Loss: 1.01e-02\tError: 1.00e-01\tStd dev: 6.22e-02\tResample: 2"
       ]
      },
      {
       "output_type": "stream",
       "stream": "stdout",
       "text": [
        "\n",
        "Loss: 9.37e-03\tError: 9.67e-02\tStd dev: 5.46e-02\tResample: 2\n",
        "Loss: 5.42e-03\tError: 7.35e-02\tStd dev: 4.92e-02\tResample: 3"
       ]
      },
      {
       "output_type": "stream",
       "stream": "stdout",
       "text": [
        "\n",
        "Loss: 5.71e-03\tError: 7.55e-02\tStd dev: 4.63e-02\tResample: 3\n",
        "Loss: 3.87e-03\tError: 6.21e-02\tStd dev: 4.71e-02\tResample: 3"
       ]
      },
      {
       "output_type": "stream",
       "stream": "stdout",
       "text": [
        "\n",
        "Loss: 3.33e-03\tError: 5.77e-02\tStd dev: 4.59e-02\tResample: 3\n",
        "Loss: 9.19e-04\tError: 3.02e-02\tStd dev: 4.24e-02\tResample: 4"
       ]
      },
      {
       "output_type": "stream",
       "stream": "stdout",
       "text": [
        "\n",
        "Loss: 7.43e-04\tError: 2.71e-02\tStd dev: 4.00e-02\tResample: 4\n",
        "Loss: 6.19e-05\tError: 6.82e-03\tStd dev: 3.64e-02\tResample: 4"
       ]
      },
      {
       "output_type": "stream",
       "stream": "stdout",
       "text": [
        "\n",
        "Loss: 1.59e-05\tError: 1.01e-03\tStd dev: 3.44e-02\tResample: 4\n",
        "Loss: 1.95e-05\tError: 2.32e-03\tStd dev: 3.32e-02\tResample: 4"
       ]
      },
      {
       "output_type": "stream",
       "stream": "stdout",
       "text": [
        "\n",
        "Loss: 1.39e-05\tError: 8.73e-04\tStd dev: 3.23e-02\tResample: 4\n",
        "Loss: 2.26e-05\tError: 2.42e-03\tStd dev: 3.21e-02\tResample: 4"
       ]
      },
      {
       "output_type": "stream",
       "stream": "stdout",
       "text": [
        "\n",
        "Loss: 2.14e-05\tError: 3.25e-03\tStd dev: 3.25e-02\tResample: 4\n",
        "Loss: 5.05e-05\tError: 6.19e-03\tStd dev: 3.20e-02\tResample: 4"
       ]
      },
      {
       "output_type": "stream",
       "stream": "stdout",
       "text": [
        "\n",
        "Loss: 2.46e-04\tError: 1.54e-02\tStd dev: 3.14e-02\tResample: 4\n",
        "Loss: 3.11e-04\tError: 1.74e-02\tStd dev: 3.06e-02\tResample: 4"
       ]
      },
      {
       "output_type": "stream",
       "stream": "stdout",
       "text": [
        "\n",
        "Loss: 1.82e-04\tError: 1.31e-02\tStd dev: 2.97e-02\tResample: 4\n",
        "Loss: 1.14e-04\tError: 1.01e-02\tStd dev: 2.91e-02\tResample: 4"
       ]
      },
      {
       "output_type": "stream",
       "stream": "stdout",
       "text": [
        "\n",
        "Loss: 1.21e-04\tError: 1.05e-02\tStd dev: 2.87e-02\tResample: 4\n",
        "Loss: 1.21e-04\tError: 1.05e-02\tStd dev: 2.87e-02\tResample: 4"
       ]
      },
      {
       "output_type": "stream",
       "stream": "stdout",
       "text": [
        "\n",
        "Loss: 1.02e-04\tError: 9.61e-03\tStd dev: 2.85e-02\tResample: 4\n",
        "Loss: 1.73e-04\tError: 1.28e-02\tStd dev: 2.82e-02\tResample: 4"
       ]
      },
      {
       "output_type": "stream",
       "stream": "stdout",
       "text": [
        "\n",
        "Loss: 2.40e-04\tError: 1.52e-02\tStd dev: 2.79e-02\tResample: 4\n",
        "Loss: 4.17e-05\tError: 4.96e-03\tStd dev: 2.73e-02\tResample: 4"
       ]
      },
      {
       "output_type": "stream",
       "stream": "stdout",
       "text": [
        "\n",
        "Loss: 5.78e-05\tError: 6.39e-03\tStd dev: 2.71e-02\tResample: 4\n",
        "Loss: 5.94e-05\tError: 6.51e-03\tStd dev: 2.68e-02\tResample: 4"
       ]
      },
      {
       "output_type": "stream",
       "stream": "stdout",
       "text": [
        "\n",
        "Loss: 1.05e-04\tError: 9.29e-03\tStd dev: 2.68e-02\tResample: 4\n",
        "Loss: 1.04e-04\tError: 9.33e-03\tStd dev: 2.68e-02\tResample: 4"
       ]
      },
      {
       "output_type": "stream",
       "stream": "stdout",
       "text": [
        "\n",
        "Loss: 1.44e-04\tError: 1.14e-02\tStd dev: 2.68e-02\tResample: 4\n",
        "Loss: 6.43e-04\tError: 2.45e-02\tStd dev: 2.67e-02\tResample: 5"
       ]
      },
      {
       "output_type": "stream",
       "stream": "stdout",
       "text": [
        "\n",
        "Loss: 4.30e-04\tError: 1.97e-02\tStd dev: 2.68e-02\tResample: 5\n",
        "Loss: 6.28e-04\tError: 2.40e-02\tStd dev: 2.64e-02\tResample: 5"
       ]
      },
      {
       "output_type": "stream",
       "stream": "stdout",
       "text": [
        "\n",
        "Loss: 5.49e-04\tError: 2.23e-02\tStd dev: 2.65e-02\tResample: 5\n",
        "Loss: 4.36e-04\tError: 1.97e-02\tStd dev: 2.66e-02\tResample: 5"
       ]
      },
      {
       "output_type": "stream",
       "stream": "stdout",
       "text": [
        "\n",
        "Loss: 4.57e-04\tError: 2.04e-02\tStd dev: 2.66e-02\tResample: 5\n",
        "Loss: 4.74e-04\tError: 2.08e-02\tStd dev: 2.65e-02\tResample: 5"
       ]
      },
      {
       "output_type": "stream",
       "stream": "stdout",
       "text": [
        "\n",
        "Chose theta = [   1.5632833  293.15         0.7      ]."
       ]
      },
      {
       "output_type": "stream",
       "stream": "stdout",
       "text": [
        "\tLoss: 5.03e-04\tError: 2.17e-02\tStd dev: 2.64e-02\tResample: 5\n",
        "Chose theta = [   2.88231033  310.            0.67762027]."
       ]
      },
      {
       "output_type": "stream",
       "stream": "stdout",
       "text": [
        "\tLoss: 5.02e-04\tError: 2.17e-02\tStd dev: 2.62e-02\tResample: 5\n",
        "Chose theta = [   6.28318531  293.15106968    0.70000188]."
       ]
      },
      {
       "output_type": "stream",
       "stream": "stdout",
       "text": [
        "\tLoss: 5.09e-04\tError: 2.18e-02\tStd dev: 2.62e-02\tResample: 5\n",
        "Chose theta = [   6.28318531  293.14434871    0.70002867]."
       ]
      },
      {
       "output_type": "stream",
       "stream": "stdout",
       "text": [
        "\tLoss: 5.02e-04\tError: 2.17e-02\tStd dev: 2.62e-02\tResample: 5\n",
        "Chose theta = [   4.70717839  293.15          0.7       ]."
       ]
      },
      {
       "output_type": "stream",
       "stream": "stdout",
       "text": [
        "\tLoss: 4.99e-04\tError: 2.18e-02\tStd dev: 2.61e-02\tResample: 5\n",
        "Chose theta = [   0.63327541  292.30490093    0.69859515]."
       ]
      },
      {
       "output_type": "stream",
       "stream": "stdout",
       "text": [
        "\tLoss: 3.60e-04\tError: 1.82e-02\tStd dev: 2.54e-02\tResample: 5\n",
        "Chose theta = [   4.7100571  293.15         0.7      ]."
       ]
      },
      {
       "output_type": "stream",
       "stream": "stdout",
       "text": [
        "\tLoss: 3.78e-04\tError: 1.85e-02\tStd dev: 2.54e-02\tResample: 5\n",
        "Chose theta = [   1.56600975  293.15          0.7       ]."
       ]
      },
      {
       "output_type": "stream",
       "stream": "stdout",
       "text": [
        "\tLoss: 3.70e-04\tError: 1.86e-02\tStd dev: 2.52e-02\tResample: 5\n",
        "Chose theta = [   1.56629796  293.15          0.7       ]."
       ]
      },
      {
       "output_type": "stream",
       "stream": "stdout",
       "text": [
        "\tLoss: 3.69e-04\tError: 1.86e-02\tStd dev: 2.52e-02\tResample: 5\n",
        "Chose theta = [   1.56804264  293.15          0.7       ]."
       ]
      },
      {
       "output_type": "stream",
       "stream": "stdout",
       "text": [
        "\tLoss: 3.82e-04\tError: 1.88e-02\tStd dev: 2.53e-02\tResample: 5\n",
        "Chose theta = [   1.56884393  293.15          0.7       ]."
       ]
      },
      {
       "output_type": "stream",
       "stream": "stdout",
       "text": [
        "\tLoss: 3.42e-04\tError: 1.80e-02\tStd dev: 2.51e-02\tResample: 5\n",
        "Chose theta = [   1.56562789  293.15          0.7       ]."
       ]
      },
      {
       "output_type": "stream",
       "stream": "stdout",
       "text": [
        "\tLoss: 3.50e-04\tError: 1.84e-02\tStd dev: 2.49e-02\tResample: 6"
       ]
      },
      {
       "output_type": "stream",
       "stream": "stdout",
       "text": [
        "\n",
        "Chose theta = [   0.79058954  292.53477716    0.70002618]."
       ]
      },
      {
       "output_type": "stream",
       "stream": "stdout",
       "text": [
        "\tLoss: 4.26e-04\tError: 2.04e-02\tStd dev: 2.45e-02\tResample: 6\n",
        "Chose theta = [   3.13865066  293.15          0.7       ]."
       ]
      },
      {
       "output_type": "stream",
       "stream": "stdout",
       "text": [
        "\tLoss: 4.32e-04\tError: 2.06e-02\tStd dev: 2.45e-02\tResample: 6\n",
        "0.899 \u00b1 0.00511\t"
       ]
      },
      {
       "output_type": "stream",
       "stream": "stdout",
       "text": [
        " 0.00192 \u00b1 0.00349\t 0.105 \u00b1 0.0245\t 22.0 \u00b1 0.00513\t -1.02 \u00b1 0.00584\t\n",
        "[ 0.9        0.         0.0844303  1.02     ]\n",
        "x iiiiiiiiiiiiiiiiiiiiiiis 15\n",
        "Loss: 1.04e-02\tError: 1.02e-01\tStd dev: 1.23e-01\tResample: 1"
       ]
      },
      {
       "output_type": "stream",
       "stream": "stdout",
       "text": [
        "\n",
        "Loss: 3.09e-02\tError: 1.76e-01\tStd dev: 1.00e-01\tResample: 1\n",
        "Loss: 9.07e-03\tError: 9.52e-02\tStd dev: 7.57e-02\tResample: 1"
       ]
      },
      {
       "output_type": "stream",
       "stream": "stdout",
       "text": [
        "\n",
        "Loss: 3.32e-03\tError: 5.76e-02\tStd dev: 6.19e-02\tResample: 1\n",
        "Loss: 2.14e-03\tError: 4.62e-02\tStd dev: 5.41e-02\tResample: 1"
       ]
      },
      {
       "output_type": "stream",
       "stream": "stdout",
       "text": [
        "\n",
        "Loss: 2.69e-03\tError: 5.18e-02\tStd dev: 4.99e-02\tResample: 2"
       ]
      },
      {
       "output_type": "stream",
       "stream": "stdout",
       "text": [
        "\n",
        "Loss: 3.65e-05\tError: 2.96e-03\tStd dev: 4.17e-02\tResample: 3"
       ]
      },
      {
       "output_type": "stream",
       "stream": "stdout",
       "text": [
        "\n",
        "Loss: 3.71e-05\tError: 3.70e-03\tStd dev: 4.03e-02\tResample: 3\n",
        "Loss: 1.05e-04\tError: 9.61e-03\tStd dev: 3.82e-02\tResample: 3"
       ]
      },
      {
       "output_type": "stream",
       "stream": "stdout",
       "text": [
        "\n",
        "Loss: 1.55e-05\tError: 2.37e-03\tStd dev: 3.83e-02\tResample: 3\n",
        "Loss: 1.56e-05\tError: 2.34e-03\tStd dev: 3.67e-02\tResample: 3"
       ]
      },
      {
       "output_type": "stream",
       "stream": "stdout",
       "text": [
        "\n",
        "Loss: 5.44e-04\tError: 2.32e-02\tStd dev: 3.71e-02\tResample: 4"
       ]
      },
      {
       "output_type": "stream",
       "stream": "stdout",
       "text": [
        "\n",
        "Loss: 2.56e-04\tError: 1.59e-02\tStd dev: 3.52e-02\tResample: 4\n",
        "Loss: 5.87e-04\tError: 2.42e-02\tStd dev: 3.43e-02\tResample: 4"
       ]
      },
      {
       "output_type": "stream",
       "stream": "stdout",
       "text": [
        "\n",
        "Loss: 6.16e-04\tError: 2.48e-02\tStd dev: 3.35e-02\tResample: 4\n",
        "Loss: 4.97e-04\tError: 2.21e-02\tStd dev: 3.36e-02\tResample: 4"
       ]
      },
      {
       "output_type": "stream",
       "stream": "stdout",
       "text": [
        "\n",
        "Loss: 4.55e-04\tError: 2.11e-02\tStd dev: 3.32e-02\tResample: 4\n",
        "Loss: 8.33e-05\tError: 8.93e-03\tStd dev: 3.20e-02\tResample: 4"
       ]
      },
      {
       "output_type": "stream",
       "stream": "stdout",
       "text": [
        "\n",
        "Loss: 5.99e-05\tError: 7.49e-03\tStd dev: 3.11e-02\tResample: 4\n",
        "Loss: 1.31e-05\tError: 3.10e-03\tStd dev: 3.01e-02\tResample: 4"
       ]
      },
      {
       "output_type": "stream",
       "stream": "stdout",
       "text": [
        "\n",
        "Loss: 5.17e-06\tError: 1.03e-03\tStd dev: 2.94e-02\tResample: 4\n",
        "Loss: 3.12e-05\tError: 5.09e-03\tStd dev: 2.85e-02\tResample: 4"
       ]
      },
      {
       "output_type": "stream",
       "stream": "stdout",
       "text": [
        "\n",
        "Loss: 1.44e-05\tError: 3.23e-03\tStd dev: 2.83e-02\tResample: 4\n",
        "Loss: 1.05e-05\tError: 2.68e-03\tStd dev: 2.83e-02\tResample: 4"
       ]
      },
      {
       "output_type": "stream",
       "stream": "stdout",
       "text": [
        "\n",
        "Loss: 5.34e-06\tError: 8.15e-04\tStd dev: 2.82e-02\tResample: 4\n",
        "Loss: 2.63e-05\tError: 4.74e-03\tStd dev: 2.81e-02\tResample: 4"
       ]
      },
      {
       "output_type": "stream",
       "stream": "stdout",
       "text": [
        "\n",
        "Loss: 3.52e-05\tError: 5.59e-03\tStd dev: 2.78e-02\tResample: 4\n",
        "Loss: 5.02e-05\tError: 6.81e-03\tStd dev: 2.76e-02\tResample: 4"
       ]
      },
      {
       "output_type": "stream",
       "stream": "stdout",
       "text": [
        "\n",
        "Loss: 6.88e-05\tError: 8.06e-03\tStd dev: 2.74e-02\tResample: 4\n",
        "Loss: 6.31e-05\tError: 7.69e-03\tStd dev: 2.72e-02\tResample: 4"
       ]
      },
      {
       "output_type": "stream",
       "stream": "stdout",
       "text": [
        "\n",
        "Loss: 8.19e-05\tError: 8.83e-03\tStd dev: 2.71e-02\tResample: 4\n",
        "Loss: 9.27e-05\tError: 9.06e-03\tStd dev: 2.72e-02\tResample: 4"
       ]
      },
      {
       "output_type": "stream",
       "stream": "stdout",
       "text": [
        "\n",
        "Loss: 7.08e-05\tError: 7.72e-03\tStd dev: 2.70e-02\tResample: 4\n",
        "Loss: 7.60e-05\tError: 8.02e-03\tStd dev: 2.69e-02\tResample: 4"
       ]
      },
      {
       "output_type": "stream",
       "stream": "stdout",
       "text": [
        "\n",
        "Loss: 1.20e-04\tError: 1.04e-02\tStd dev: 2.69e-02\tResample: 4\n",
        "Loss: 1.31e-04\tError: 1.09e-02\tStd dev: 2.68e-02\tResample: 4"
       ]
      },
      {
       "output_type": "stream",
       "stream": "stdout",
       "text": [
        "\n",
        "Loss: 8.57e-05\tError: 8.48e-03\tStd dev: 2.68e-02\tResample: 4\n",
        "Loss: 9.17e-05\tError: 8.80e-03\tStd dev: 2.67e-02\tResample: 4"
       ]
      },
      {
       "output_type": "stream",
       "stream": "stdout",
       "text": [
        "\n",
        "Loss: 9.77e-05\tError: 9.30e-03\tStd dev: 2.67e-02\tResample: 4\n",
        "Loss: 9.63e-05\tError: 9.17e-03\tStd dev: 2.67e-02\tResample: 4"
       ]
      },
      {
       "output_type": "stream",
       "stream": "stdout",
       "text": [
        "\n",
        "Chose theta = [   3.1364647  293.15         0.7      ]."
       ]
      },
      {
       "output_type": "stream",
       "stream": "stdout",
       "text": [
        "\tLoss: 1.02e-04\tError: 9.39e-03\tStd dev: 2.66e-02\tResample: 4\n",
        "Chose theta = [   3.13671192  293.15          0.7       ]."
       ]
      },
      {
       "output_type": "stream",
       "stream": "stdout",
       "text": [
        "\tLoss: 1.02e-04\tError: 9.36e-03\tStd dev: 2.66e-02\tResample: 4\n",
        "Chose theta = [   3.13964034  293.15          0.7       ]."
       ]
      },
      {
       "output_type": "stream",
       "stream": "stdout",
       "text": [
        "\tLoss: 9.76e-05\tError: 8.74e-03\tStd dev: 2.65e-02\tResample: 5"
       ]
      },
      {
       "output_type": "stream",
       "stream": "stdout",
       "text": [
        "\n",
        "Chose theta = [   4.70905115  293.15          0.7       ]."
       ]
      },
      {
       "output_type": "stream",
       "stream": "stdout",
       "text": [
        "\tLoss: 1.04e-04\tError: 8.89e-03\tStd dev: 2.65e-02\tResample: 5\n",
        "Chose theta = [   4.70865105  293.15          0.7       ]."
       ]
      },
      {
       "output_type": "stream",
       "stream": "stdout",
       "text": [
        "\tLoss: 1.11e-04\tError: 8.99e-03\tStd dev: 2.65e-02\tResample: 5\n",
        "Chose theta = [   3.13748835  293.15          0.7       ]."
       ]
      },
      {
       "output_type": "stream",
       "stream": "stdout",
       "text": [
        "\tLoss: 1.08e-04\tError: 8.98e-03\tStd dev: 2.66e-02\tResample: 5\n",
        "Chose theta = [   4.70919306  293.15          0.7       ]."
       ]
      },
      {
       "output_type": "stream",
       "stream": "stdout",
       "text": [
        "\tLoss: 1.10e-04\tError: 9.03e-03\tStd dev: 2.66e-02\tResample: 5\n",
        "Chose theta = [   3.13459377  293.15          0.7       ]."
       ]
      },
      {
       "output_type": "stream",
       "stream": "stdout",
       "text": [
        "\tLoss: 9.67e-05\tError: 8.39e-03\tStd dev: 2.66e-02\tResample: 5\n",
        "Chose theta = [   3.13938236  293.15          0.7       ]."
       ]
      },
      {
       "output_type": "stream",
       "stream": "stdout",
       "text": [
        "\tLoss: 1.02e-04\tError: 8.81e-03\tStd dev: 2.68e-02\tResample: 5\n",
        "Chose theta = [   0.78257733  293.55309386    0.69996999]."
       ]
      },
      {
       "output_type": "stream",
       "stream": "stdout",
       "text": [
        "\tLoss: 5.62e-05\tError: 5.66e-03\tStd dev: 2.61e-02\tResample: 5\n",
        "Chose theta = [   2.02635238  294.17972798    0.70296658]."
       ]
      },
      {
       "output_type": "stream",
       "stream": "stdout",
       "text": [
        "\tLoss: 4.54e-05\tError: 4.57e-03\tStd dev: 2.58e-02\tResample: 5\n",
        "Chose theta = [   3.13807327  293.15          0.7       ]."
       ]
      },
      {
       "output_type": "stream",
       "stream": "stdout",
       "text": [
        "\tLoss: 4.63e-05\tError: 4.52e-03\tStd dev: 2.57e-02\tResample: 5\n",
        "Chose theta = [  1.18844799e-02   2.70000000e+02   6.90427970e-01]."
       ]
      },
      {
       "output_type": "stream",
       "stream": "stdout",
       "text": [
        "\tLoss: 9.05e-05\tError: 8.13e-03\tStd dev: 2.56e-02\tResample: 5\n",
        "Chose theta = [   3.13650201  293.15          0.7       ]."
       ]
      },
      {
       "output_type": "stream",
       "stream": "stdout",
       "text": [
        "\tLoss: 8.41e-05\tError: 7.78e-03\tStd dev: 2.57e-02\tResample: 5\n",
        "Chose theta = [   3.1373092  293.15         0.7      ]."
       ]
      },
      {
       "output_type": "stream",
       "stream": "stdout",
       "text": [
        "\tLoss: 8.25e-05\tError: 7.68e-03\tStd dev: 2.57e-02\tResample: 5\n",
        "0.896 \u00b1 0.00463\t"
       ]
      },
      {
       "output_type": "stream",
       "stream": "stdout",
       "text": [
        " 0.00326 \u00b1 0.00338\t 0.0921 \u00b1 0.0257\t 22.0 \u00b1 0.00529\t -1.02 \u00b1 0.00583\t\n",
        "[ 0.9        0.         0.0844303  1.02     ]\n",
        "Loss: 2.63e-02\tError: 1.62e-01\tStd dev: 1.46e-01\tResample: 1"
       ]
      },
      {
       "output_type": "stream",
       "stream": "stdout",
       "text": [
        "\n",
        "Loss: 1.11e-04\tError: 1.03e-02\tStd dev: 6.56e-02\tResample: 2"
       ]
      },
      {
       "output_type": "stream",
       "stream": "stdout",
       "text": [
        "\n",
        "Loss: 1.27e-05\tError: 2.87e-03\tStd dev: 5.49e-02\tResample: 2\n",
        "Loss: 4.52e-04\tError: 2.11e-02\tStd dev: 4.07e-02\tResample: 2"
       ]
      },
      {
       "output_type": "stream",
       "stream": "stdout",
       "text": [
        "\n",
        "Loss: 5.27e-05\tError: 6.25e-03\tStd dev: 4.68e-02\tResample: 2\n",
        "Loss: 3.43e-04\tError: 1.82e-02\tStd dev: 4.61e-02\tResample: 2"
       ]
      },
      {
       "output_type": "stream",
       "stream": "stdout",
       "text": [
        "\n",
        "Loss: 3.72e-05\tError: 5.47e-03\tStd dev: 4.18e-02\tResample: 2\n",
        "Loss: 5.03e-05\tError: 6.60e-03\tStd dev: 4.14e-02\tResample: 2"
       ]
      },
      {
       "output_type": "stream",
       "stream": "stdout",
       "text": [
        "\n",
        "Loss: 3.77e-05\tError: 5.44e-03\tStd dev: 4.07e-02\tResample: 2\n",
        "Loss: 1.95e-04\tError: 1.36e-02\tStd dev: 4.03e-02\tResample: 2"
       ]
      },
      {
       "output_type": "stream",
       "stream": "stdout",
       "text": [
        "\n",
        "Loss: 8.21e-04\tError: 2.85e-02\tStd dev: 3.95e-02\tResample: 2\n",
        "Loss: 7.11e-04\tError: 2.65e-02\tStd dev: 3.75e-02\tResample: 2"
       ]
      },
      {
       "output_type": "stream",
       "stream": "stdout",
       "text": [
        "\n",
        "Loss: 4.77e-04\tError: 2.16e-02\tStd dev: 3.56e-02\tResample: 2\n",
        "Loss: 1.25e-04\tError: 1.10e-02\tStd dev: 3.37e-02\tResample: 2"
       ]
      },
      {
       "output_type": "stream",
       "stream": "stdout",
       "text": [
        "\n",
        "Loss: 4.89e-04\tError: 2.21e-02\tStd dev: 3.35e-02\tResample: 2\n",
        "Loss: 5.04e-04\tError: 2.24e-02\tStd dev: 3.34e-02\tResample: 2"
       ]
      },
      {
       "output_type": "stream",
       "stream": "stdout",
       "text": [
        "\n",
        "Loss: 7.02e-04\tError: 2.64e-02\tStd dev: 3.33e-02\tResample: 3"
       ]
      },
      {
       "output_type": "stream",
       "stream": "stdout",
       "text": [
        "\n",
        "Loss: 4.35e-04\tError: 2.07e-02\tStd dev: 3.23e-02\tResample: 3\n",
        "Loss: 1.16e-03\tError: 3.38e-02\tStd dev: 3.16e-02\tResample: 3"
       ]
      },
      {
       "output_type": "stream",
       "stream": "stdout",
       "text": [
        "\n",
        "Loss: 8.77e-04\tError: 2.94e-02\tStd dev: 3.07e-02\tResample: 3\n",
        "Loss: 4.45e-04\tError: 2.08e-02\tStd dev: 2.99e-02\tResample: 3"
       ]
      },
      {
       "output_type": "stream",
       "stream": "stdout",
       "text": [
        "\n",
        "Loss: 3.87e-04\tError: 1.94e-02\tStd dev: 2.93e-02\tResample: 3\n",
        "Loss: 5.32e-04\tError: 2.27e-02\tStd dev: 2.90e-02\tResample: 3"
       ]
      },
      {
       "output_type": "stream",
       "stream": "stdout",
       "text": [
        "\n",
        "Loss: 5.40e-04\tError: 2.29e-02\tStd dev: 2.90e-02\tResample: 3\n",
        "Loss: 4.09e-04\tError: 1.97e-02\tStd dev: 2.87e-02\tResample: 3"
       ]
      },
      {
       "output_type": "stream",
       "stream": "stdout",
       "text": [
        "\n",
        "Loss: 2.00e-04\tError: 1.35e-02\tStd dev: 2.82e-02\tResample: 3\n",
        "Loss: 3.21e-04\tError: 1.75e-02\tStd dev: 2.80e-02\tResample: 3"
       ]
      },
      {
       "output_type": "stream",
       "stream": "stdout",
       "text": [
        "\n",
        "Loss: 1.22e-04\tError: 1.05e-02\tStd dev: 2.75e-02\tResample: 3\n",
        "Loss: 1.20e-04\tError: 1.05e-02\tStd dev: 2.72e-02\tResample: 3"
       ]
      },
      {
       "output_type": "stream",
       "stream": "stdout",
       "text": [
        "\n",
        "Loss: 1.86e-04\tError: 1.32e-02\tStd dev: 2.72e-02\tResample: 3\n",
        "Loss: 2.48e-04\tError: 1.54e-02\tStd dev: 2.71e-02\tResample: 3"
       ]
      },
      {
       "output_type": "stream",
       "stream": "stdout",
       "text": [
        "\n",
        "Loss: 2.51e-04\tError: 1.53e-02\tStd dev: 2.71e-02\tResample: 3\n",
        "Loss: 3.64e-04\tError: 1.85e-02\tStd dev: 2.71e-02\tResample: 3"
       ]
      },
      {
       "output_type": "stream",
       "stream": "stdout",
       "text": [
        "\n",
        "Loss: 7.12e-04\tError: 2.64e-02\tStd dev: 2.67e-02\tResample: 3\n",
        "Loss: 5.97e-04\tError: 2.42e-02\tStd dev: 2.68e-02\tResample: 3"
       ]
      },
      {
       "output_type": "stream",
       "stream": "stdout",
       "text": [
        "\n",
        "Loss: 7.36e-04\tError: 2.69e-02\tStd dev: 2.64e-02\tResample: 3\n",
        "Loss: 7.49e-04\tError: 2.71e-02\tStd dev: 2.63e-02\tResample: 3"
       ]
      },
      {
       "output_type": "stream",
       "stream": "stdout",
       "text": [
        "\n",
        "Loss: 6.45e-04\tError: 2.51e-02\tStd dev: 2.65e-02\tResample: 3\n",
        "Loss: 5.76e-04\tError: 2.39e-02\tStd dev: 2.68e-02\tResample: 3"
       ]
      },
      {
       "output_type": "stream",
       "stream": "stdout",
       "text": [
        "\n",
        "Loss: 6.02e-04\tError: 2.42e-02\tStd dev: 2.67e-02\tResample: 3\n",
        "Chose theta = [   1.56781824  293.15          0.7       ]."
       ]
      },
      {
       "output_type": "stream",
       "stream": "stdout",
       "text": [
        "\tLoss: 5.92e-04\tError: 2.40e-02\tStd dev: 2.66e-02\tResample: 3\n",
        "Chose theta = [   1.56776959  293.15          0.7       ]."
       ]
      },
      {
       "output_type": "stream",
       "stream": "stdout",
       "text": [
        "\tLoss: 5.73e-04\tError: 2.35e-02\tStd dev: 2.65e-02\tResample: 3\n",
        "Chose theta = [   1.56549016  293.15          0.7       ]."
       ]
      },
      {
       "output_type": "stream",
       "stream": "stdout",
       "text": [
        "\tLoss: 5.75e-04\tError: 2.35e-02\tStd dev: 2.65e-02\tResample: 3\n",
        "Chose theta = [   4.70790665  293.15          0.7       ]."
       ]
      },
      {
       "output_type": "stream",
       "stream": "stdout",
       "text": [
        "\tLoss: 5.75e-04\tError: 2.34e-02\tStd dev: 2.64e-02\tResample: 3\n",
        "Chose theta = [   4.70733801  293.15          0.7       ]."
       ]
      },
      {
       "output_type": "stream",
       "stream": "stdout",
       "text": [
        "\tLoss: 5.74e-04\tError: 2.34e-02\tStd dev: 2.65e-02\tResample: 3\n",
        "Chose theta = [   1.56715073  293.15          0.7       ]."
       ]
      },
      {
       "output_type": "stream",
       "stream": "stdout",
       "text": [
        "\tLoss: 5.76e-04\tError: 2.35e-02\tStd dev: 2.65e-02\tResample: 3\n",
        "Chose theta = [   1.56339178  293.15          0.7       ]."
       ]
      },
      {
       "output_type": "stream",
       "stream": "stdout",
       "text": [
        "\tLoss: 6.03e-04\tError: 2.40e-02\tStd dev: 2.64e-02\tResample: 3\n",
        "Chose theta = [   1.56727358  293.15          0.7       ]."
       ]
      },
      {
       "output_type": "stream",
       "stream": "stdout",
       "text": [
        "\tLoss: 6.28e-04\tError: 2.46e-02\tStd dev: 2.66e-02\tResample: 3\n",
        "Chose theta = [   2.10354658  292.41105358    0.69601835]."
       ]
      },
      {
       "output_type": "stream",
       "stream": "stdout",
       "text": [
        "\tLoss: 1.80e-04\tError: 1.27e-02\tStd dev: 2.59e-02\tResample: 4"
       ]
      },
      {
       "output_type": "stream",
       "stream": "stdout",
       "text": [
        "\n",
        "Chose theta = [   6.28318531  293.14871701    0.70001792]."
       ]
      },
      {
       "output_type": "stream",
       "stream": "stdout",
       "text": [
        "\tLoss: 1.78e-04\tError: 1.26e-02\tStd dev: 2.60e-02\tResample: 4\n",
        "Chose theta = [   1.08634823  293.34953695    0.69937257]."
       ]
      },
      {
       "output_type": "stream",
       "stream": "stdout",
       "text": [
        "\tLoss: 2.12e-04\tError: 1.40e-02\tStd dev: 2.55e-02\tResample: 4\n",
        "Chose theta = [   6.27966764  293.15          0.7       ]."
       ]
      },
      {
       "output_type": "stream",
       "stream": "stdout",
       "text": [
        "\tLoss: 2.17e-04\tError: 1.39e-02\tStd dev: 2.56e-02\tResample: 4\n",
        "Chose theta = [   6.28318531  293.01848487    0.69986428]."
       ]
      },
      {
       "output_type": "stream",
       "stream": "stdout",
       "text": [
        "\tLoss: 2.23e-04\tError: 1.40e-02\tStd dev: 2.55e-02\tResample: 4\n",
        "Chose theta = [   6.28318531  293.14556542    0.6999966 ]."
       ]
      },
      {
       "output_type": "stream",
       "stream": "stdout",
       "text": [
        "\tLoss: 2.29e-04\tError: 1.40e-02\tStd dev: 2.55e-02\tResample: 4\n",
        "Chose theta = [   6.28015374  293.15          0.7       ]."
       ]
      },
      {
       "output_type": "stream",
       "stream": "stdout",
       "text": [
        "\tLoss: 2.36e-04\tError: 1.40e-02\tStd dev: 2.55e-02\tResample: 4\n",
        "0.897 \u00b1 0.00477\t"
       ]
      },
      {
       "output_type": "stream",
       "stream": "stdout",
       "text": [
        " -0.0046 \u00b1 0.00315\t 0.0984 \u00b1 0.0255\t 22.0 \u00b1 0.00514\t -1.02 \u00b1 0.00571\t\n",
        "[ 0.9        0.         0.0844303  1.02     ]\n",
        "x iiiiiiiiiiiiiiiiiiiiiiis 16\n",
        "Loss: 4.07e-02\tError: 2.02e-01\tStd dev: 1.56e-01\tResample: 1"
       ]
      },
      {
       "output_type": "stream",
       "stream": "stdout",
       "text": [
        "\n",
        "Loss: 1.72e-03\tError: 4.14e-02\tStd dev: 8.04e-02\tResample: 2"
       ]
      },
      {
       "output_type": "stream",
       "stream": "stdout",
       "text": [
        "\n",
        "Loss: 5.16e-04\tError: 2.26e-02\tStd dev: 6.26e-02\tResample: 2\n",
        "Loss: 1.35e-05\tError: 2.83e-03\tStd dev: 4.79e-02\tResample: 2"
       ]
      },
      {
       "output_type": "stream",
       "stream": "stdout",
       "text": [
        "\n",
        "Loss: 8.61e-04\tError: 2.92e-02\tStd dev: 5.16e-02\tResample: 2\n",
        "Loss: 4.86e-05\tError: 5.83e-03\tStd dev: 4.36e-02\tResample: 2"
       ]
      },
      {
       "output_type": "stream",
       "stream": "stdout",
       "text": [
        "\n",
        "Loss: 1.28e-04\tError: 1.06e-02\tStd dev: 4.24e-02\tResample: 2\n",
        "Loss: 4.56e-05\tError: 3.31e-03\tStd dev: 3.95e-02\tResample: 3"
       ]
      },
      {
       "output_type": "stream",
       "stream": "stdout",
       "text": [
        "\n",
        "Loss: 5.62e-05\tError: 5.41e-03\tStd dev: 4.17e-02\tResample: 3\n",
        "Loss: 2.52e-05\tError: 1.20e-03\tStd dev: 3.89e-02\tResample: 3"
       ]
      },
      {
       "output_type": "stream",
       "stream": "stdout",
       "text": [
        "\n",
        "Loss: 2.43e-04\tError: 1.47e-02\tStd dev: 3.45e-02\tResample: 3\n",
        "Loss: 1.13e-04\tError: 9.18e-03\tStd dev: 3.43e-02\tResample: 3"
       ]
      },
      {
       "output_type": "stream",
       "stream": "stdout",
       "text": [
        "\n",
        "Loss: 1.30e-04\tError: 1.00e-02\tStd dev: 3.29e-02\tResample: 3\n",
        "Loss: 1.69e-04\tError: 1.18e-02\tStd dev: 3.15e-02\tResample: 3"
       ]
      },
      {
       "output_type": "stream",
       "stream": "stdout",
       "text": [
        "\n",
        "Loss: 1.00e-04\tError: 8.62e-03\tStd dev: 3.14e-02\tResample: 3\n",
        "Loss: 1.19e-04\tError: 9.66e-03\tStd dev: 3.12e-02\tResample: 3"
       ]
      },
      {
       "output_type": "stream",
       "stream": "stdout",
       "text": [
        "\n",
        "Loss: 7.45e-05\tError: 6.40e-03\tStd dev: 3.15e-02\tResample: 3\n",
        "Loss: 3.58e-05\tError: 2.21e-03\tStd dev: 3.17e-02\tResample: 3"
       ]
      },
      {
       "output_type": "stream",
       "stream": "stdout",
       "text": [
        "\n",
        "Loss: 3.84e-05\tError: 3.24e-03\tStd dev: 3.03e-02\tResample: 3\n",
        "Loss: 4.62e-05\tError: 4.56e-03\tStd dev: 3.02e-02\tResample: 3"
       ]
      },
      {
       "output_type": "stream",
       "stream": "stdout",
       "text": [
        "\n",
        "Loss: 2.60e-05\tError: 1.34e-03\tStd dev: 2.93e-02\tResample: 3\n",
        "Loss: 7.63e-05\tError: 6.74e-03\tStd dev: 2.81e-02\tResample: 3"
       ]
      },
      {
       "output_type": "stream",
       "stream": "stdout",
       "text": [
        "\n",
        "Loss: 4.82e-05\tError: 3.96e-03\tStd dev: 2.80e-02\tResample: 3\n",
        "Loss: 2.53e-05\tError: 2.70e-03\tStd dev: 2.80e-02\tResample: 3"
       ]
      },
      {
       "output_type": "stream",
       "stream": "stdout",
       "text": [
        "\n",
        "Loss: 2.04e-05\tError: 1.70e-03\tStd dev: 2.79e-02\tResample: 3\n",
        "Loss: 2.60e-05\tError: 1.95e-03\tStd dev: 2.78e-02\tResample: 3"
       ]
      },
      {
       "output_type": "stream",
       "stream": "stdout",
       "text": [
        "\n",
        "Loss: 2.59e-05\tError: 1.59e-03\tStd dev: 2.72e-02\tResample: 3\n",
        "Loss: 5.12e-05\tError: 5.48e-03\tStd dev: 2.67e-02\tResample: 3"
       ]
      },
      {
       "output_type": "stream",
       "stream": "stdout",
       "text": [
        "\n",
        "Loss: 4.63e-05\tError: 5.06e-03\tStd dev: 2.65e-02\tResample: 3\n",
        "Loss: 1.10e-04\tError: 9.48e-03\tStd dev: 2.59e-02\tResample: 4"
       ]
      },
      {
       "output_type": "stream",
       "stream": "stdout",
       "text": [
        "\n",
        "Loss: 1.39e-04\tError: 1.07e-02\tStd dev: 2.57e-02\tResample: 4\n",
        "Loss: 1.41e-04\tError: 1.08e-02\tStd dev: 2.57e-02\tResample: 4"
       ]
      },
      {
       "output_type": "stream",
       "stream": "stdout",
       "text": [
        "\n",
        "Loss: 1.83e-04\tError: 1.27e-02\tStd dev: 2.54e-02\tResample: 4\n",
        "Loss: 2.35e-04\tError: 1.45e-02\tStd dev: 2.50e-02\tResample: 4"
       ]
      },
      {
       "output_type": "stream",
       "stream": "stdout",
       "text": [
        "\n",
        "Loss: 1.29e-04\tError: 1.02e-02\tStd dev: 2.55e-02\tResample: 4\n",
        "Loss: 5.54e-05\tError: 6.12e-03\tStd dev: 2.59e-02\tResample: 4"
       ]
      },
      {
       "output_type": "stream",
       "stream": "stdout",
       "text": [
        "\n",
        "Loss: 6.29e-05\tError: 6.74e-03\tStd dev: 2.58e-02\tResample: 4\n",
        "Loss: 4.75e-05\tError: 5.70e-03\tStd dev: 2.59e-02\tResample: 4"
       ]
      },
      {
       "output_type": "stream",
       "stream": "stdout",
       "text": [
        "\n",
        "Loss: 5.10e-05\tError: 6.00e-03\tStd dev: 2.59e-02\tResample: 4\n",
        "Loss: 4.98e-05\tError: 6.24e-03\tStd dev: 2.59e-02\tResample: 4"
       ]
      },
      {
       "output_type": "stream",
       "stream": "stdout",
       "text": [
        "\n",
        "Chose theta = [   1.56783536  293.15          0.7       ]."
       ]
      },
      {
       "ename": "KeyboardInterrupt",
       "evalue": "",
       "output_type": "pyerr",
       "traceback": [
        "\u001b[1;31m---------------------------------------------------------------------------\u001b[0m\n\u001b[1;31mKeyboardInterrupt\u001b[0m                         Traceback (most recent call last)",
        "\u001b[1;32m<ipython-input-122-99a8ddcc7e18>\u001b[0m in \u001b[0;36m<module>\u001b[1;34m()\u001b[0m\n\u001b[0;32m      5\u001b[0m     \u001b[1;32mprint\u001b[0m\u001b[1;33m(\u001b[0m\u001b[1;34m\"x iiiiiiiiiiiiiiiiiiiiiiis {}\"\u001b[0m\u001b[1;33m.\u001b[0m\u001b[0mformat\u001b[0m\u001b[1;33m(\u001b[0m\u001b[0mx\u001b[0m\u001b[1;33m)\u001b[0m\u001b[1;33m)\u001b[0m\u001b[1;33m\u001b[0m\u001b[0m\n\u001b[0;32m      6\u001b[0m     \u001b[0mfun\u001b[0m \u001b[1;33m=\u001b[0m \u001b[1;32mlambda\u001b[0m \u001b[1;33m:\u001b[0m \u001b[0mdo_adaptive_ex\u001b[0m\u001b[1;33m(\u001b[0m\u001b[0mn_thetas\u001b[0m\u001b[1;33m=\u001b[0m\u001b[0mx\u001b[0m\u001b[1;33m,\u001b[0m \u001b[0mn_guesses\u001b[0m\u001b[1;33m=\u001b[0m\u001b[1;36m5\u001b[0m\u001b[1;33m,\u001b[0m \u001b[0mwarmup_exparams\u001b[0m\u001b[1;33m=\u001b[0m\u001b[0mexparams\u001b[0m\u001b[1;33m,\u001b[0m \u001b[0mn_neutrons\u001b[0m\u001b[1;33m=\u001b[0m\u001b[1;36m100\u001b[0m\u001b[1;33m,\u001b[0m \u001b[0mn_warmup_neutrons\u001b[0m\u001b[1;33m=\u001b[0m\u001b[1;36m100\u001b[0m\u001b[1;33m,\u001b[0m \u001b[0mquiet\u001b[0m\u001b[1;33m=\u001b[0m\u001b[0mFalse\u001b[0m\u001b[1;33m)\u001b[0m\u001b[1;33m\u001b[0m\u001b[0m\n\u001b[1;32m----> 7\u001b[1;33m     \u001b[0mt\u001b[0m \u001b[1;33m=\u001b[0m \u001b[0mtimeit\u001b[0m\u001b[1;33m.\u001b[0m\u001b[0mtimeit\u001b[0m\u001b[1;33m(\u001b[0m\u001b[0mfun\u001b[0m\u001b[1;33m,\u001b[0m \u001b[0mnumber\u001b[0m\u001b[1;33m=\u001b[0m\u001b[1;36m2\u001b[0m\u001b[1;33m)\u001b[0m\u001b[1;33m\u001b[0m\u001b[0m\n\u001b[0m\u001b[0;32m      8\u001b[0m     \u001b[0mtimes\u001b[0m\u001b[1;33m.\u001b[0m\u001b[0mappend\u001b[0m\u001b[1;33m(\u001b[0m\u001b[0mt\u001b[0m\u001b[1;33m)\u001b[0m\u001b[1;33m\u001b[0m\u001b[0m\n",
        "\u001b[1;32m/usr/lib/python2.7/timeit.pyc\u001b[0m in \u001b[0;36mtimeit\u001b[1;34m(stmt, setup, timer, number)\u001b[0m\n\u001b[0;32m    228\u001b[0m            number=default_number):\n\u001b[0;32m    229\u001b[0m     \u001b[1;34m\"\"\"Convenience function to create Timer object and call timeit method.\"\"\"\u001b[0m\u001b[1;33m\u001b[0m\u001b[0m\n\u001b[1;32m--> 230\u001b[1;33m     \u001b[1;32mreturn\u001b[0m \u001b[0mTimer\u001b[0m\u001b[1;33m(\u001b[0m\u001b[0mstmt\u001b[0m\u001b[1;33m,\u001b[0m \u001b[0msetup\u001b[0m\u001b[1;33m,\u001b[0m \u001b[0mtimer\u001b[0m\u001b[1;33m)\u001b[0m\u001b[1;33m.\u001b[0m\u001b[0mtimeit\u001b[0m\u001b[1;33m(\u001b[0m\u001b[0mnumber\u001b[0m\u001b[1;33m)\u001b[0m\u001b[1;33m\u001b[0m\u001b[0m\n\u001b[0m\u001b[0;32m    231\u001b[0m \u001b[1;33m\u001b[0m\u001b[0m\n\u001b[0;32m    232\u001b[0m def repeat(stmt=\"pass\", setup=\"pass\", timer=default_timer,\n",
        "\u001b[1;32m/usr/lib/python2.7/timeit.pyc\u001b[0m in \u001b[0;36mtimeit\u001b[1;34m(self, number)\u001b[0m\n\u001b[0;32m    193\u001b[0m         \u001b[0mgc\u001b[0m\u001b[1;33m.\u001b[0m\u001b[0mdisable\u001b[0m\u001b[1;33m(\u001b[0m\u001b[1;33m)\u001b[0m\u001b[1;33m\u001b[0m\u001b[0m\n\u001b[0;32m    194\u001b[0m         \u001b[1;32mtry\u001b[0m\u001b[1;33m:\u001b[0m\u001b[1;33m\u001b[0m\u001b[0m\n\u001b[1;32m--> 195\u001b[1;33m             \u001b[0mtiming\u001b[0m \u001b[1;33m=\u001b[0m \u001b[0mself\u001b[0m\u001b[1;33m.\u001b[0m\u001b[0minner\u001b[0m\u001b[1;33m(\u001b[0m\u001b[0mit\u001b[0m\u001b[1;33m,\u001b[0m \u001b[0mself\u001b[0m\u001b[1;33m.\u001b[0m\u001b[0mtimer\u001b[0m\u001b[1;33m)\u001b[0m\u001b[1;33m\u001b[0m\u001b[0m\n\u001b[0m\u001b[0;32m    196\u001b[0m         \u001b[1;32mfinally\u001b[0m\u001b[1;33m:\u001b[0m\u001b[1;33m\u001b[0m\u001b[0m\n\u001b[0;32m    197\u001b[0m             \u001b[1;32mif\u001b[0m \u001b[0mgcold\u001b[0m\u001b[1;33m:\u001b[0m\u001b[1;33m\u001b[0m\u001b[0m\n",
        "\u001b[1;32m/usr/lib/python2.7/timeit.pyc\u001b[0m in \u001b[0;36minner\u001b[1;34m(_it, _timer, _func)\u001b[0m\n\u001b[0;32m     98\u001b[0m         \u001b[0m_t0\u001b[0m \u001b[1;33m=\u001b[0m \u001b[0m_timer\u001b[0m\u001b[1;33m(\u001b[0m\u001b[1;33m)\u001b[0m\u001b[1;33m\u001b[0m\u001b[0m\n\u001b[0;32m     99\u001b[0m         \u001b[1;32mfor\u001b[0m \u001b[0m_i\u001b[0m \u001b[1;32min\u001b[0m \u001b[0m_it\u001b[0m\u001b[1;33m:\u001b[0m\u001b[1;33m\u001b[0m\u001b[0m\n\u001b[1;32m--> 100\u001b[1;33m             \u001b[0m_func\u001b[0m\u001b[1;33m(\u001b[0m\u001b[1;33m)\u001b[0m\u001b[1;33m\u001b[0m\u001b[0m\n\u001b[0m\u001b[0;32m    101\u001b[0m         \u001b[0m_t1\u001b[0m \u001b[1;33m=\u001b[0m \u001b[0m_timer\u001b[0m\u001b[1;33m(\u001b[0m\u001b[1;33m)\u001b[0m\u001b[1;33m\u001b[0m\u001b[0m\n\u001b[0;32m    102\u001b[0m         \u001b[1;32mreturn\u001b[0m \u001b[0m_t1\u001b[0m \u001b[1;33m-\u001b[0m \u001b[0m_t0\u001b[0m\u001b[1;33m\u001b[0m\u001b[0m\n",
        "\u001b[1;32m<ipython-input-122-99a8ddcc7e18>\u001b[0m in \u001b[0;36m<lambda>\u001b[1;34m()\u001b[0m\n\u001b[0;32m      4\u001b[0m \u001b[1;32mfor\u001b[0m \u001b[0mx\u001b[0m \u001b[1;32min\u001b[0m \u001b[0mtheta_range\u001b[0m\u001b[1;33m:\u001b[0m\u001b[1;33m\u001b[0m\u001b[0m\n\u001b[0;32m      5\u001b[0m     \u001b[1;32mprint\u001b[0m\u001b[1;33m(\u001b[0m\u001b[1;34m\"x iiiiiiiiiiiiiiiiiiiiiiis {}\"\u001b[0m\u001b[1;33m.\u001b[0m\u001b[0mformat\u001b[0m\u001b[1;33m(\u001b[0m\u001b[0mx\u001b[0m\u001b[1;33m)\u001b[0m\u001b[1;33m)\u001b[0m\u001b[1;33m\u001b[0m\u001b[0m\n\u001b[1;32m----> 6\u001b[1;33m     \u001b[0mfun\u001b[0m \u001b[1;33m=\u001b[0m \u001b[1;32mlambda\u001b[0m \u001b[1;33m:\u001b[0m \u001b[0mdo_adaptive_ex\u001b[0m\u001b[1;33m(\u001b[0m\u001b[0mn_thetas\u001b[0m\u001b[1;33m=\u001b[0m\u001b[0mx\u001b[0m\u001b[1;33m,\u001b[0m \u001b[0mn_guesses\u001b[0m\u001b[1;33m=\u001b[0m\u001b[1;36m5\u001b[0m\u001b[1;33m,\u001b[0m \u001b[0mwarmup_exparams\u001b[0m\u001b[1;33m=\u001b[0m\u001b[0mexparams\u001b[0m\u001b[1;33m,\u001b[0m \u001b[0mn_neutrons\u001b[0m\u001b[1;33m=\u001b[0m\u001b[1;36m100\u001b[0m\u001b[1;33m,\u001b[0m \u001b[0mn_warmup_neutrons\u001b[0m\u001b[1;33m=\u001b[0m\u001b[1;36m100\u001b[0m\u001b[1;33m,\u001b[0m \u001b[0mquiet\u001b[0m\u001b[1;33m=\u001b[0m\u001b[0mFalse\u001b[0m\u001b[1;33m)\u001b[0m\u001b[1;33m\u001b[0m\u001b[0m\n\u001b[0m\u001b[0;32m      7\u001b[0m     \u001b[0mt\u001b[0m \u001b[1;33m=\u001b[0m \u001b[0mtimeit\u001b[0m\u001b[1;33m.\u001b[0m\u001b[0mtimeit\u001b[0m\u001b[1;33m(\u001b[0m\u001b[0mfun\u001b[0m\u001b[1;33m,\u001b[0m \u001b[0mnumber\u001b[0m\u001b[1;33m=\u001b[0m\u001b[1;36m2\u001b[0m\u001b[1;33m)\u001b[0m\u001b[1;33m\u001b[0m\u001b[0m\n\u001b[0;32m      8\u001b[0m     \u001b[0mtimes\u001b[0m\u001b[1;33m.\u001b[0m\u001b[0mappend\u001b[0m\u001b[1;33m(\u001b[0m\u001b[0mt\u001b[0m\u001b[1;33m)\u001b[0m\u001b[1;33m\u001b[0m\u001b[0m\n",
        "\u001b[1;32m<ipython-input-114-2844506125e2>\u001b[0m in \u001b[0;36mdo_adaptive_ex\u001b[1;34m(n_particles, warmup_exparams, n_thetas, n_guesses, n_neutrons, n_warmup_neutrons, quiet)\u001b[0m\n\u001b[0;32m     48\u001b[0m \u001b[1;33m\u001b[0m\u001b[0m\n\u001b[0;32m     49\u001b[0m         \u001b[0mbest_thetas\u001b[0m\u001b[1;33m.\u001b[0m\u001b[0mappend\u001b[0m\u001b[1;33m(\u001b[0m\u001b[0mbest_theta\u001b[0m\u001b[1;33m)\u001b[0m\u001b[1;33m\u001b[0m\u001b[0m\n\u001b[1;32m---> 50\u001b[1;33m         \u001b[0mperform\u001b[0m\u001b[1;33m(\u001b[0m\u001b[0mbest_theta\u001b[0m\u001b[1;33m,\u001b[0m \u001b[0mn_neutrons\u001b[0m\u001b[1;33m)\u001b[0m\u001b[1;33m\u001b[0m\u001b[0m\n\u001b[0m\u001b[0;32m     51\u001b[0m \u001b[1;33m\u001b[0m\u001b[0m\n\u001b[0;32m     52\u001b[0m     \u001b[0mf_post\u001b[0m \u001b[1;33m=\u001b[0m \u001b[0mplot_risks_ex\u001b[0m\u001b[1;33m(\u001b[0m\u001b[0mupdater\u001b[0m\u001b[1;33m)\u001b[0m\u001b[1;33m\u001b[0m\u001b[0m\n",
        "\u001b[1;32m<ipython-input-114-2844506125e2>\u001b[0m in \u001b[0;36mperform\u001b[1;34m(exparam, n)\u001b[0m\n\u001b[0;32m     15\u001b[0m         \u001b[0mexperiment\u001b[0m \u001b[1;33m=\u001b[0m \u001b[0mnp\u001b[0m\u001b[1;33m.\u001b[0m\u001b[0marray\u001b[0m\u001b[1;33m(\u001b[0m\u001b[1;33m[\u001b[0m\u001b[0mtuple\u001b[0m\u001b[1;33m(\u001b[0m\u001b[0mexparam\u001b[0m\u001b[1;33m)\u001b[0m\u001b[1;33m+\u001b[0m \u001b[1;33m(\u001b[0m\u001b[0mn\u001b[0m\u001b[1;33m,\u001b[0m\u001b[1;33m)\u001b[0m\u001b[1;33m]\u001b[0m\u001b[1;33m,\u001b[0m \u001b[0mdtype\u001b[0m\u001b[1;33m=\u001b[0m\u001b[0mneutron_model_ex\u001b[0m\u001b[1;33m.\u001b[0m\u001b[0mexpparams_dtype\u001b[0m\u001b[1;33m)\u001b[0m\u001b[1;33m\u001b[0m\u001b[0m\n\u001b[0;32m     16\u001b[0m         \u001b[0mdatum\u001b[0m \u001b[1;33m=\u001b[0m \u001b[0mneutron_model_ex\u001b[0m\u001b[1;33m.\u001b[0m\u001b[0msimulate_experiment\u001b[0m\u001b[1;33m(\u001b[0m\u001b[0mtrue_modelparams_ex\u001b[0m\u001b[1;33m,\u001b[0m \u001b[0mexperiment\u001b[0m\u001b[1;33m)\u001b[0m\u001b[1;33m\u001b[0m\u001b[0m\n\u001b[1;32m---> 17\u001b[1;33m         \u001b[0mupdater\u001b[0m\u001b[1;33m.\u001b[0m\u001b[0mupdate\u001b[0m\u001b[1;33m(\u001b[0m\u001b[0mdatum\u001b[0m\u001b[1;33m,\u001b[0m \u001b[0mexperiment\u001b[0m\u001b[1;33m)\u001b[0m\u001b[1;33m\u001b[0m\u001b[0m\n\u001b[0m\u001b[0;32m     18\u001b[0m         \u001b[0mmu\u001b[0m \u001b[1;33m=\u001b[0m \u001b[0mupdater\u001b[0m\u001b[1;33m.\u001b[0m\u001b[0mest_mean\u001b[0m\u001b[1;33m(\u001b[0m\u001b[1;33m)\u001b[0m\u001b[1;33m\u001b[0m\u001b[0m\n\u001b[0;32m     19\u001b[0m         \u001b[0mloss\u001b[0m \u001b[1;33m=\u001b[0m \u001b[0mnp\u001b[0m\u001b[1;33m.\u001b[0m\u001b[0mdot\u001b[0m\u001b[1;33m(\u001b[0m\u001b[0mupdater\u001b[0m\u001b[1;33m.\u001b[0m\u001b[0mmodel\u001b[0m\u001b[1;33m.\u001b[0m\u001b[0mQ\u001b[0m\u001b[1;33m,\u001b[0m \u001b[1;33m(\u001b[0m\u001b[0mtrue_modelparams_ex\u001b[0m\u001b[1;33m[\u001b[0m\u001b[1;36m0\u001b[0m\u001b[1;33m,\u001b[0m \u001b[1;33m:\u001b[0m\u001b[1;33m]\u001b[0m \u001b[1;33m-\u001b[0m \u001b[0mmu\u001b[0m\u001b[1;33m)\u001b[0m\u001b[1;33m**\u001b[0m\u001b[1;36m2\u001b[0m\u001b[1;33m)\u001b[0m\u001b[1;33m\u001b[0m\u001b[0m\n",
        "\u001b[1;32m/home/thomas/Envs/default/local/lib/python2.7/site-packages/qinfer/smc.pyc\u001b[0m in \u001b[0;36mupdate\u001b[1;34m(self, outcome, expparams, check_for_resample)\u001b[0m\n\u001b[0;32m    300\u001b[0m \u001b[1;33m\u001b[0m\u001b[0m\n\u001b[0;32m    301\u001b[0m         \u001b[1;31m# Perform the update.\u001b[0m\u001b[1;33m\u001b[0m\u001b[1;33m\u001b[0m\u001b[0m\n\u001b[1;32m--> 302\u001b[1;33m         \u001b[0mweights\u001b[0m\u001b[1;33m,\u001b[0m \u001b[0mnorm\u001b[0m \u001b[1;33m=\u001b[0m \u001b[0mself\u001b[0m\u001b[1;33m.\u001b[0m\u001b[0mhypothetical_update\u001b[0m\u001b[1;33m(\u001b[0m\u001b[0moutcome\u001b[0m\u001b[1;33m,\u001b[0m \u001b[0mexpparams\u001b[0m\u001b[1;33m,\u001b[0m \u001b[0mreturn_normalization\u001b[0m\u001b[1;33m=\u001b[0m\u001b[0mTrue\u001b[0m\u001b[1;33m)\u001b[0m\u001b[1;33m\u001b[0m\u001b[0m\n\u001b[0m\u001b[0;32m    303\u001b[0m \u001b[1;33m\u001b[0m\u001b[0m\n\u001b[0;32m    304\u001b[0m         \u001b[1;31m# Check for negative weights before applying the update.\u001b[0m\u001b[1;33m\u001b[0m\u001b[1;33m\u001b[0m\u001b[0m\n",
        "\u001b[1;32m/home/thomas/Envs/default/local/lib/python2.7/site-packages/qinfer/smc.pyc\u001b[0m in \u001b[0;36mhypothetical_update\u001b[1;34m(self, outcomes, expparams, return_likelihood, return_normalization)\u001b[0m\n\u001b[0;32m    241\u001b[0m         \u001b[1;31m# This makes the multiplication with weights (shape (models,)) make sense,\u001b[0m\u001b[1;33m\u001b[0m\u001b[1;33m\u001b[0m\u001b[0m\n\u001b[0;32m    242\u001b[0m         \u001b[1;31m# since NumPy broadcasting rules align on the right-most index.\u001b[0m\u001b[1;33m\u001b[0m\u001b[1;33m\u001b[0m\u001b[0m\n\u001b[1;32m--> 243\u001b[1;33m         \u001b[0mL\u001b[0m \u001b[1;33m=\u001b[0m \u001b[0mself\u001b[0m\u001b[1;33m.\u001b[0m\u001b[0mmodel\u001b[0m\u001b[1;33m.\u001b[0m\u001b[0mlikelihood\u001b[0m\u001b[1;33m(\u001b[0m\u001b[0moutcomes\u001b[0m\u001b[1;33m,\u001b[0m \u001b[0mlocs\u001b[0m\u001b[1;33m,\u001b[0m \u001b[0mexpparams\u001b[0m\u001b[1;33m)\u001b[0m\u001b[1;33m.\u001b[0m\u001b[0mtranspose\u001b[0m\u001b[1;33m(\u001b[0m\u001b[1;33m[\u001b[0m\u001b[1;36m0\u001b[0m\u001b[1;33m,\u001b[0m \u001b[1;36m2\u001b[0m\u001b[1;33m,\u001b[0m \u001b[1;36m1\u001b[0m\u001b[1;33m]\u001b[0m\u001b[1;33m)\u001b[0m\u001b[1;33m\u001b[0m\u001b[0m\n\u001b[0m\u001b[0;32m    244\u001b[0m         \u001b[0mhyp_weights\u001b[0m \u001b[1;33m=\u001b[0m \u001b[0mweights\u001b[0m \u001b[1;33m*\u001b[0m \u001b[0mL\u001b[0m\u001b[1;33m\u001b[0m\u001b[0m\n\u001b[0;32m    245\u001b[0m \u001b[1;33m\u001b[0m\u001b[0m\n",
        "\u001b[1;32m/home/thomas/Envs/default/local/lib/python2.7/site-packages/qinfer/derived_models.pyc\u001b[0m in \u001b[0;36mlikelihood\u001b[1;34m(self, outcomes, modelparams, expparams)\u001b[0m\n\u001b[0;32m    249\u001b[0m         return np.concatenate([\n\u001b[0;32m    250\u001b[0m             \u001b[0mbinomial_pdf\u001b[0m\u001b[1;33m(\u001b[0m\u001b[0mexpparams\u001b[0m\u001b[1;33m[\u001b[0m\u001b[1;34m'n_meas'\u001b[0m\u001b[1;33m]\u001b[0m\u001b[1;33m[\u001b[0m\u001b[0mnp\u001b[0m\u001b[1;33m.\u001b[0m\u001b[0mnewaxis\u001b[0m\u001b[1;33m,\u001b[0m \u001b[1;33m:\u001b[0m\u001b[1;33m]\u001b[0m\u001b[1;33m,\u001b[0m \u001b[0moutcomes\u001b[0m\u001b[1;33m[\u001b[0m\u001b[0midx\u001b[0m\u001b[1;33m]\u001b[0m\u001b[1;33m,\u001b[0m \u001b[0mpr1\u001b[0m\u001b[1;33m)\u001b[0m\u001b[1;33m\u001b[0m\u001b[0m\n\u001b[1;32m--> 251\u001b[1;33m             \u001b[1;32mfor\u001b[0m \u001b[0midx\u001b[0m \u001b[1;32min\u001b[0m \u001b[0mxrange\u001b[0m\u001b[1;33m(\u001b[0m\u001b[0moutcomes\u001b[0m\u001b[1;33m.\u001b[0m\u001b[0mshape\u001b[0m\u001b[1;33m[\u001b[0m\u001b[1;36m0\u001b[0m\u001b[1;33m]\u001b[0m\u001b[1;33m)\u001b[0m\u001b[1;33m\u001b[0m\u001b[0m\n\u001b[0m\u001b[0;32m    252\u001b[0m             ]) \n\u001b[0;32m    253\u001b[0m \u001b[1;33m\u001b[0m\u001b[0m\n",
        "\u001b[1;32m/home/thomas/Envs/default/local/lib/python2.7/site-packages/qinfer/utils.pyc\u001b[0m in \u001b[0;36mbinomial_pdf\u001b[1;34m(N, n, p)\u001b[0m\n\u001b[0;32m     46\u001b[0m \u001b[1;32mdef\u001b[0m \u001b[0mbinomial_pdf\u001b[0m\u001b[1;33m(\u001b[0m\u001b[0mN\u001b[0m\u001b[1;33m,\u001b[0m\u001b[0mn\u001b[0m\u001b[1;33m,\u001b[0m\u001b[0mp\u001b[0m\u001b[1;33m)\u001b[0m\u001b[1;33m:\u001b[0m\u001b[1;33m\u001b[0m\u001b[0m\n\u001b[0;32m     47\u001b[0m     \u001b[0mlogprob\u001b[0m \u001b[1;33m=\u001b[0m \u001b[0mgammaln\u001b[0m\u001b[1;33m(\u001b[0m\u001b[0mN\u001b[0m\u001b[1;33m+\u001b[0m\u001b[1;36m1\u001b[0m\u001b[1;33m)\u001b[0m\u001b[1;33m-\u001b[0m\u001b[0mgammaln\u001b[0m\u001b[1;33m(\u001b[0m\u001b[0mn\u001b[0m\u001b[1;33m+\u001b[0m\u001b[1;36m1\u001b[0m\u001b[1;33m)\u001b[0m\u001b[1;33m-\u001b[0m \u001b[0mgammaln\u001b[0m\u001b[1;33m(\u001b[0m\u001b[0mN\u001b[0m\u001b[1;33m-\u001b[0m\u001b[0mn\u001b[0m\u001b[1;33m+\u001b[0m\u001b[1;36m1\u001b[0m\u001b[1;33m)\u001b[0m\u001b[0;31m \u001b[0m\u001b[0;31m \u001b[0m\u001b[0;31m\\\u001b[0m\u001b[1;33m\u001b[0m\u001b[0m\n\u001b[1;32m---> 48\u001b[1;33m         \u001b[1;33m+\u001b[0m \u001b[0mn\u001b[0m\u001b[1;33m*\u001b[0m\u001b[0mnp\u001b[0m\u001b[1;33m.\u001b[0m\u001b[0mlog\u001b[0m\u001b[1;33m(\u001b[0m\u001b[0mp\u001b[0m\u001b[1;33m)\u001b[0m\u001b[1;33m+\u001b[0m\u001b[1;33m(\u001b[0m\u001b[0mN\u001b[0m\u001b[1;33m-\u001b[0m\u001b[0mn\u001b[0m\u001b[1;33m)\u001b[0m\u001b[1;33m*\u001b[0m\u001b[0mnp\u001b[0m\u001b[1;33m.\u001b[0m\u001b[0mlog\u001b[0m\u001b[1;33m(\u001b[0m\u001b[1;36m1\u001b[0m\u001b[1;33m-\u001b[0m\u001b[0mp\u001b[0m\u001b[1;33m)\u001b[0m\u001b[1;33m\u001b[0m\u001b[0m\n\u001b[0m\u001b[0;32m     49\u001b[0m     \u001b[1;32mreturn\u001b[0m \u001b[0mnp\u001b[0m\u001b[1;33m.\u001b[0m\u001b[0mexp\u001b[0m\u001b[1;33m(\u001b[0m\u001b[0mlogprob\u001b[0m\u001b[1;33m)\u001b[0m\u001b[1;33m\u001b[0m\u001b[0m\n\u001b[0;32m     50\u001b[0m \u001b[1;33m\u001b[0m\u001b[0m\n",
        "\u001b[1;31mKeyboardInterrupt\u001b[0m: "
       ]
      },
      {
       "output_type": "stream",
       "stream": "stdout",
       "text": [
        "\t"
       ]
      },
      {
       "metadata": {},
       "output_type": "display_data",
       "png": "[encoded data removed]",
       "text": [
        "<matplotlib.figure.Figure at 0x73f6a90>"
       ]
      }
     ],
     "prompt_number": 122
    },
    {
     "cell_type": "code",
     "collapsed": false,
     "input": [
      "x = np.arange(1,11,1)\n",
      "plot(x,times)\n",
      "savefig(\"adaptivetimes.eps\")"
     ],
     "language": "python",
     "metadata": {},
     "outputs": [
      {
       "metadata": {},
       "output_type": "pyout",
       "prompt_number": 121,
       "text": [
        "[<matplotlib.lines.Line2D at 0x5d335d0>]"
       ]
      },
      {
       "metadata": {},
       "output_type": "display_data",
       "png": "[encoded data removed]",
       "text": [
        "<matplotlib.figure.Figure at 0x7543110>"
       ]
      }
     ],
     "prompt_number": 121
    },
    {
     "cell_type": "code",
     "collapsed": false,
     "input": [
      "res = make_array_adaptive(true_modelparams_array,exparams,n_thetas=200, n_guesses=5, n_neutrons=100, n_warmup_neutrons=100, quiet=False)"
     ],
     "language": "python",
     "metadata": {},
     "outputs": []
    },
    {
     "cell_type": "code",
     "collapsed": false,
     "input": [
      "plot_kernel_smoothed_pdf(updater_adaptive)"
     ],
     "language": "python",
     "metadata": {},
     "outputs": []
    },
    {
     "cell_type": "code",
     "collapsed": false,
     "input": [
      "plot_kernel_smoothed_pdf(updater_adaptive, param=3)"
     ],
     "language": "python",
     "metadata": {},
     "outputs": []
    },
    {
     "cell_type": "code",
     "collapsed": false,
     "input": [
      "plot(this_error_hist)"
     ],
     "language": "python",
     "metadata": {},
     "outputs": []
    },
    {
     "cell_type": "code",
     "collapsed": false,
     "input": [
      "l = 10\n",
      "n_t = 30\n",
      "error_hist = np.zeros((l, n_t + warmup_thetas.size))\n",
      "for idx_run in xrange(l):\n",
      "    print(\"Run {}...\".format(idx_run))   \n",
      "    f_post, this_error_hist, updater_adaptive, best_thetas = do_adaptive_ex(n_thetas=n_t, n_guesses=3, warmup_exparams=exparams, n_neutrons=100, n_warmup_neutrons=100, quiet=True)"
     ],
     "language": "python",
     "metadata": {},
     "outputs": [
      {
       "output_type": "stream",
       "stream": "stdout",
       "text": [
        "Run 0...\n",
        "0.898 \u00b1 0.005\t"
       ]
      },
      {
       "output_type": "stream",
       "stream": "stdout",
       "text": [
        " -0.00413 \u00b1 0.00346\t 0.106 \u00b1 0.0286\t 22.0 \u00b1 0.00514\t -1.02 \u00b1 0.00575\t\n",
        "[ 0.9        0.         0.0844303  1.02     ]\n",
        "Run 1...\n",
        "0.896 \u00b1 0.00446\t"
       ]
      },
      {
       "output_type": "stream",
       "stream": "stdout",
       "text": [
        " -0.006 \u00b1 0.00281\t 0.0348 \u00b1 0.0219\t 22.0 \u00b1 0.00584\t -1.02 \u00b1 0.00576\t\n",
        "[ 0.9        0.         0.0844303  1.02     ]\n",
        "Run 2...\n",
        "0.9 \u00b1 0.00526\t"
       ]
      },
      {
       "output_type": "stream",
       "stream": "stdout",
       "text": [
        " -0.00191 \u00b1 0.00373\t 0.0803 \u00b1 0.0319\t 22.0 \u00b1 0.0054\t -1.02 \u00b1 0.00574\t\n",
        "[ 0.9        0.         0.0844303  1.02     ]\n",
        "Run 3...\n",
        "0.899 \u00b1 0.00523\t"
       ]
      },
      {
       "output_type": "stream",
       "stream": "stdout",
       "text": [
        " -0.000643 \u00b1 0.00399\t 0.129 \u00b1 0.03\t 22.0 \u00b1 0.00548\t -1.02 \u00b1 0.00578\t\n",
        "[ 0.9        0.         0.0844303  1.02     ]\n",
        "Run 4...\n",
        "0.9 \u00b1 0.00516\t"
       ]
      },
      {
       "output_type": "stream",
       "stream": "stdout",
       "text": [
        " 0.00126 \u00b1 0.00363\t 0.0437 \u00b1 0.0234\t 22.0 \u00b1 0.00542\t -1.02 \u00b1 0.00589\t\n",
        "[ 0.9        0.         0.0844303  1.02     ]\n",
        "Run 5...\n",
        "0.899 \u00b1 0.00512\t"
       ]
      },
      {
       "output_type": "stream",
       "stream": "stdout",
       "text": [
        " 0.00462 \u00b1 0.00329\t 0.0856 \u00b1 0.0285\t 22.0 \u00b1 0.00563\t -1.02 \u00b1 0.00574\t\n",
        "[ 0.9        0.         0.0844303  1.02     ]\n",
        "Run 6...\n",
        "0.898 \u00b1 0.00504\t"
       ]
      },
      {
       "output_type": "stream",
       "stream": "stdout",
       "text": [
        " 0.00023 \u00b1 0.00378\t 0.118 \u00b1 0.0296\t 22.0 \u00b1 0.00545\t -1.02 \u00b1 0.00579\t\n",
        "[ 0.9        0.         0.0844303  1.02     ]\n",
        "Run 7...\n",
        "0.901 \u00b1 0.00535\t"
       ]
      },
      {
       "output_type": "stream",
       "stream": "stdout",
       "text": [
        " 0.000863 \u00b1 0.0041\t 0.112 \u00b1 0.0276\t 22.0 \u00b1 0.00542\t -1.02 \u00b1 0.00571\t\n",
        "[ 0.9        0.         0.0844303  1.02     ]\n",
        "Run 8...\n",
        "0.897 \u00b1 0.00484\t"
       ]
      },
      {
       "output_type": "stream",
       "stream": "stdout",
       "text": [
        " 0.00421 \u00b1 0.00333\t 0.0671 \u00b1 0.0282\t 22.0 \u00b1 0.00529\t -1.02 \u00b1 0.00579\t\n",
        "[ 0.9        0.         0.0844303  1.02     ]\n",
        "Run 9...\n",
        "0.903 \u00b1 0.00488\t"
       ]
      },
      {
       "output_type": "stream",
       "stream": "stdout",
       "text": [
        " -0.00161 \u00b1 0.0039\t 0.119 \u00b1 0.0263\t 22.0 \u00b1 0.00489\t -1.02 \u00b1 0.00579\t\n",
        "[ 0.9        0.         0.0844303  1.02     ]\n"
       ]
      },
      {
       "metadata": {},
       "output_type": "display_data",
       "png": "[encoded data removed]",
       "text": [
        "<matplotlib.figure.Figure at 0x5abbf10>"
       ]
      }
     ],
     "prompt_number": 135
    },
    {
     "cell_type": "code",
     "collapsed": false,
     "input": [
      "xs = arange(error_hist.shape[1]) + 1\n",
      "ns = np.concatenate([1000 * arange(1, 1 + len(warmup_thetas)), 1000 * len(warmup_thetas) + 40 * arange(1, 501)])\n",
      "figure(figsize=(12,6))\n",
      "xlim(xmax=max(xs))\n",
      "plot(xs, np.mean(error_hist, axis=0), label='Mean error of adaptive algo.')\n",
      "#plot(xs, 1/sqrt(ns), 'k--', label='CRB for perfect contrast')\n",
      "legend()\n",
      "title('Performance over 100 runs of adaptive algorithm')\n",
      "xlabel('Experiment index', size=14)\n",
      "ylabel(r'Error in $\\phi$', size=14);"
     ],
     "language": "python",
     "metadata": {},
     "outputs": [
      {
       "metadata": {},
       "output_type": "display_data",
       "png": "[encoded data removed]",
       "text": [
        "<matplotlib.figure.Figure at 0x4400c50>"
       ]
      }
     ],
     "prompt_number": 133
    },
    {
     "cell_type": "code",
     "collapsed": false,
     "input": [
      "plot_kernel_smoothed_pdf(updater_adaptive, param=2, show_true=False)\n"
     ],
     "language": "python",
     "metadata": {},
     "outputs": []
    },
    {
     "cell_type": "code",
     "collapsed": false,
     "input": [
      "plot_kernel_smoothed_pdf(updater_adaptive, param=3, show_true=False)\n"
     ],
     "language": "python",
     "metadata": {},
     "outputs": []
    },
    {
     "cell_type": "code",
     "collapsed": false,
     "input": [
      "title("
     ],
     "language": "python",
     "metadata": {},
     "outputs": []
    }
   ],
   "metadata": {}
  }
 ]
}