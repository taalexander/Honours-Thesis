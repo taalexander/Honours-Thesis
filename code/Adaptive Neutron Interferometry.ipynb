{
 "metadata": {
  "name": ""
 },
 "nbformat": 3,
 "nbformat_minor": 0,
 "worksheets": [
  {
   "cells": [
    {
     "cell_type": "heading",
     "level": 1,
     "metadata": {},
     "source": [
      "Adaptive Neutron Interferometry"
     ]
    },
    {
     "cell_type": "heading",
     "level": 2,
     "metadata": {},
     "source": [
      "Preamble"
     ]
    },
    {
     "cell_type": "code",
     "collapsed": false,
     "input": [
      "from __future__ import division, print_function"
     ],
     "language": "python",
     "metadata": {},
     "outputs": [],
     "prompt_number": 1
    },
    {
     "cell_type": "code",
     "collapsed": false,
     "input": [
      "%pylab inline"
     ],
     "language": "python",
     "metadata": {},
     "outputs": [
      {
       "output_type": "stream",
       "stream": "stdout",
       "text": [
        "Populating the interactive namespace from numpy and matplotlib\n"
       ]
      }
     ],
     "prompt_number": 2
    },
    {
     "cell_type": "code",
     "collapsed": false,
     "input": [
      "from qinfer import smc, abstract_model, derived_models, distributions, expdesign, resamplers\n",
      "from scipy.optimize import minimize, curve_fit\n",
      "import scipy.stats\n",
      "import timeit"
     ],
     "language": "python",
     "metadata": {},
     "outputs": [
      {
       "output_type": "stream",
       "stream": "stderr",
       "text": [
        "/home/thomas/Envs/default/local/lib/python2.7/site-packages/qinfer/metrics.py:50: UserWarning: Could not import scikit-learn. Some features may not work.\n",
        "  warnings.warn(\"Could not import scikit-learn. Some features may not work.\")\n"
       ]
      }
     ],
     "prompt_number": 3
    },
    {
     "cell_type": "heading",
     "level": 2,
     "metadata": {},
     "source": [
      "Constants"
     ]
    },
    {
     "cell_type": "code",
     "collapsed": false,
     "input": [
      "TWO_PI = np.pi * 2"
     ],
     "language": "python",
     "metadata": {},
     "outputs": [],
     "prompt_number": 4
    },
    {
     "cell_type": "heading",
     "level": 2,
     "metadata": {},
     "source": [
      "Inference Models"
     ]
    },
    {
     "cell_type": "markdown",
     "metadata": {},
     "source": [
      "We start with a model that will be used for performing inference, $\\Pr(O | A, b, \\phi, \\lambda; \\theta) = (\\frac{1}{2} + b) + \\frac{A}{2} \\cos(\\lambda \\theta + \\phi)$.\n",
      "This model will then be used to adaptively learn the value of $\\vec{x} = (A, b, \\phi, \\lambda)$."
     ]
    },
    {
     "cell_type": "code",
     "collapsed": false,
     "input": [
      "class SingleNeutronModel(abstract_model.Model):    \n",
      "    ## PROPERTIES ##\n",
      "    @property\n",
      "    def n_modelparams(self):\n",
      "        return 4 # A, b, \\phi, \\lambda\n",
      "    @property\n",
      "    def expparams_dtype(self):\n",
      "        return [('theta', 'float')]\n",
      "    @property\n",
      "    def is_n_outcomes_constant(self):\n",
      "        return True\n",
      "    @property\n",
      "    def Q(self):\n",
      "        return np.array([1, 1, 1, 1]) # Prioritize phi over the others.\n",
      "    ## METHODS ##    \n",
      "    @staticmethod\n",
      "    def are_models_valid(modelparams):\n",
      "        A, b, phi, lambda_ = modelparams.T\n",
      "        abs_b = np.abs(b)\n",
      "        return np.all([\n",
      "            A > 0,\n",
      "            A <= 1 - 2 * abs_b,\n",
      "            abs_b <= 0.5,\n",
      "            phi >= 0,\n",
      "            phi <= np.pi / 2,\n",
      "            lambda_ >= 0\n",
      "        ], axis=0)\n",
      "    def n_outcomes(self, expparams):\n",
      "        return 2    \n",
      "    def likelihood(self, outcomes, modelparams, expparams):\n",
      "        # By calling the superclass implementation, we can consolidate\n",
      "        # call counting there.\n",
      "        super(SingleNeutronModel, self).likelihood(outcomes, modelparams, expparams)\n",
      "                    \n",
      "        # Extract each model parameter under its own name.\n",
      "        A, b, phi, lambda_ = modelparams.T[..., np.newaxis]\n",
      "        theta = expparams['theta'][np.newaxis, :]\n",
      "        \n",
      "        pr0 = (0.5 + b) + (0.5 * A * np.cos(lambda_ * theta + phi))\n",
      "                \n",
      "        # Now we concatenate over outcomes.\n",
      "        return abstract_model.Model.pr0_to_likelihood_array(outcomes, pr0)"
     ],
     "language": "python",
     "metadata": {},
     "outputs": [],
     "prompt_number": 5
    },
    {
     "cell_type": "markdown",
     "metadata": {},
     "source": [
      "We start with a model that will be used for performing inference, $$P(0|A,b,\\Delta\\phi,C,\\alpha';\\delta,\\hat{\\Phi},\\hat{T})= \\int \\limits_\\Phi \\int \\limits_T \\left[(\\frac{1}{2}+b)+\\frac{A}{2}cos\\left(\\Delta\\phi + C\\delta + \\frac{\\alpha' \\Phi\\delta}{T}\\times 10^{h_A - \\frac{h_B}{h_C - T}}\\right)\\right]P(T|\\hat{T})P(\\Phi|\\hat{\\Phi})dTd\\Phi$$\n",
      " This model will learn $\\vec{x} = (A,b,\\Delta\\phi,C,\\alpha')$                                                                                                                                         "
     ]
    },
    {
     "cell_type": "code",
     "collapsed": false,
     "input": [
      "class SingleNeutronModelEx(abstract_model.Model): \n",
      "    def __init__(self):\n",
      "        self.h_A=6.20963\n",
      "        self.h_B=2354.731 \n",
      "        self.h_C=7.559\n",
      "        super(SingleNeutronModelEx, self).__init__()\n",
      "    ## PROPERTIES ##\n",
      "    @property\n",
      "    def n_modelparams(self):\n",
      "        return 5 # A, b, \\phi,C,\\alpha\n",
      "    @property\n",
      "    def expparams_dtype(self):\n",
      "        return [('delta', 'float'),('temp','float'),('humid','float')]\n",
      "    @property\n",
      "    def is_n_outcomes_constant(self):\n",
      "        return True\n",
      "    @property\n",
      "    def Q(self):\n",
      "        return np.array([1, 1, 1, 1,1]) # Quadratic loss matrix, all are same for now\n",
      "    ## METHODS ##    \n",
      "    @staticmethod\n",
      "    def are_models_valid(modelparams):\n",
      "        A, b, phi, C, alpha = modelparams.T\n",
      "        abs_b = np.abs(b)\n",
      "        return np.all([\n",
      "            A > 0,\n",
      "            A <= 1 - 2 * abs_b,\n",
      "            abs_b <= 0.5,\n",
      "            phi >= 0 ,\n",
      "            phi <= np.pi / 2,\n",
      "            C >= 0,\n",
      "            alpha <=0 # might not work care\n",
      "            \n",
      "        ], axis=0)\n",
      "    def n_outcomes(self, expparams):\n",
      "        return 2    \n",
      "    def likelihood(self, outcomes, modelparams, expparams):\n",
      "        # By calling the superclass implementation, we can consolidate\n",
      "        # call counting there.\n",
      "        super(SingleNeutronModelEx, self).likelihood(outcomes, modelparams, expparams)\n",
      "                    \n",
      "        # Extract each model parameter under its own name.\n",
      "        A, b, phi, C, alpha = modelparams.T[..., np.newaxis]\n",
      "        delta = expparams['delta'][np.newaxis, :]\n",
      "        temp = expparams['temp'][np.newaxis, :]\n",
      "        humid = expparams['humid'][np.newaxis, :]\n",
      "        pr0 = (0.5 + b) + (0.5 * A * np.cos(C * delta + phi+ (alpha*delta*humid/temp*10**(self.h_A-(self.h_B/(self.h_C+temp))))))\n",
      "                \n",
      "        # Now we concatenate over outcomes.\n",
      "        return abstract_model.Model.pr0_to_likelihood_array(outcomes, pr0)"
     ],
     "language": "python",
     "metadata": {},
     "outputs": [],
     "prompt_number": 6
    },
    {
     "cell_type": "code",
     "collapsed": false,
     "input": [
      "single_neutron_model = SingleNeutronModel()\n",
      "neutron_model = derived_models.BinomialModel(single_neutron_model)\n",
      "single_neutron_model_ex = SingleNeutronModelEx()\n",
      "neutron_model_ex = derived_models.BinomialModel(single_neutron_model_ex)\n"
     ],
     "language": "python",
     "metadata": {},
     "outputs": [],
     "prompt_number": 7
    },
    {
     "cell_type": "heading",
     "level": 2,
     "metadata": {},
     "source": [
      "True Models"
     ]
    },
    {
     "cell_type": "markdown",
     "metadata": {},
     "source": [
      "For consistency, we will test with a set of \"true\" model parameters for each model."
     ]
    },
    {
     "cell_type": "code",
     "collapsed": false,
     "input": [
      "true_modelparams = np.array([[0.9, 0.00, (0.43 * np.pi / 16), 1.02]])\n",
      "true_modelparams_ex = np.array([[0.9, 0.00, (0.43 * np.pi / 16), 1.02,-1.02]])"
     ],
     "language": "python",
     "metadata": {},
     "outputs": [],
     "prompt_number": 8
    },
    {
     "cell_type": "code",
     "collapsed": false,
     "input": [
      "true_modelparams_array = np.array([[[0.9, 0.00, (0.43 * np.pi / 16), 1.02,-1.02]],[[0.9, 0.00, (0.43 * np.pi / 16), 1.02,-1.02]]\n",
      "                                   ,[[0.9, 0.00, (np.pi / 2), 1.02,-1.02]]\n",
      "                                   ,[[0.7, 0.1, (0.43 * np.pi / 16), 1.02,-1.02]]\n",
      "                                   ,[[0.9, 0.00, (0.43 * np.pi / 16), 1.5,-1.02]]\n",
      "                                   ,[[0.1, 0.00, (0.43 * np.pi / 16), 1.02,-1.02]]\n",
      "                                   ])"
     ],
     "language": "python",
     "metadata": {},
     "outputs": [],
     "prompt_number": 9
    },
    {
     "cell_type": "code",
     "collapsed": false,
     "input": [
      "[[[0.9, 0.00, (0.43 * np.pi / 16), 1.02,-1.02]],[[0.9, 0.00, (0.43 * np.pi / 16), 1.02,-1.02]]\n",
      "                                   ,[[0.9, 0.00, (np.pi / 2), 1.02,-1.02]]\n",
      "                                   ,[[0.7, 0.1, (0.43 * np.pi / 16), 1.02,-1.02]]\n",
      "                                   ,[[0.9, 0.00, (0.43 * np.pi / 16), 1.5,-1.02]]\n",
      "                                   ,[[0.1, 0.00, (0.43 * np.pi / 16), 1.02,-1.02]]\n",
      "                                   ]"
     ],
     "language": "python",
     "metadata": {},
     "outputs": [
      {
       "metadata": {},
       "output_type": "pyout",
       "prompt_number": 10,
       "text": [
        "[[[0.9, 0.0, 0.08443030256522568, 1.02, -1.02]],\n",
        " [[0.9, 0.0, 0.08443030256522568, 1.02, -1.02]],\n",
        " [[0.9, 0.0, 1.5707963267948966, 1.02, -1.02]],\n",
        " [[0.7, 0.1, 0.08443030256522568, 1.02, -1.02]],\n",
        " [[0.9, 0.0, 0.08443030256522568, 1.5, -1.02]],\n",
        " [[0.1, 0.0, 0.08443030256522568, 1.02, -1.02]]]"
       ]
      }
     ],
     "prompt_number": 10
    },
    {
     "cell_type": "markdown",
     "metadata": {},
     "source": [
      "Of course, it's important that each \"true\" model be a valid model, and so we assert that here."
     ]
    },
    {
     "cell_type": "code",
     "collapsed": false,
     "input": [
      "assert neutron_model.are_models_valid(true_modelparams)\n",
      "assert neutron_model_ex.are_models_valid(true_modelparams_ex)\n",
      "for x in true_modelparams_array:\n",
      "    print(neutron_model_ex.are_models_valid(x))"
     ],
     "language": "python",
     "metadata": {},
     "outputs": [
      {
       "output_type": "stream",
       "stream": "stdout",
       "text": [
        "[ True]\n",
        "[ True]\n",
        "[ True]\n",
        "[ True]\n",
        "[ True]\n",
        "[ True]\n"
       ]
      }
     ],
     "prompt_number": 11
    },
    {
     "cell_type": "heading",
     "level": 2,
     "metadata": {},
     "source": [
      "Prior Distributions"
     ]
    },
    {
     "cell_type": "code",
     "collapsed": false,
     "input": [
      "neutron_prior = distributions.UniformDistribution([\n",
      "    [0.7, 0.925],\n",
      "    [-0.00005, 0.00005],\n",
      "    [0, np.pi / 8],\n",
      "    [true_modelparams[0, 3] - 0.01, true_modelparams[0, 3] + 0.01]\n",
      "])\n",
      "neutron_prior_ex = distributions.UniformDistribution([\n",
      "    [true_modelparams_ex[0, 0] - 0.01, true_modelparams_ex[0, 0] + 0.01],\n",
      "    [true_modelparams_ex[0, 1] - 0.01, true_modelparams_ex[0, 1] + 0.01],\n",
      "    [0,np.pi/2],\n",
      "    [true_modelparams_ex[0, 3] - 0.01, true_modelparams_ex[0, 3] + 0.01],\n",
      "    [true_modelparams_ex[0, 4] - 0.01, true_modelparams_ex[0, 4] + 0.01]\n",
      "])"
     ],
     "language": "python",
     "metadata": {},
     "outputs": [],
     "prompt_number": 12
    },
    {
     "cell_type": "code",
     "collapsed": false,
     "input": [
      "r'$(A={0},b={1},\\phi={2},C={3},\\alpha\\'={4}$'.format(*[[0.9, 0.00, (0.43 * np.pi / 16), 1.02,-1.02]][0])"
     ],
     "language": "python",
     "metadata": {},
     "outputs": [
      {
       "metadata": {},
       "output_type": "pyout",
       "prompt_number": 13,
       "text": [
        "\"$(A=0.9,b=0.0,\\\\phi=0.0844303025652,C=1.02,\\\\alpha\\\\'=-1.02$\""
       ]
      }
     ],
     "prompt_number": 13
    },
    {
     "cell_type": "code",
     "collapsed": false,
     "input": [
      "neutron_prior_arr = [  distributions.UniformDistribution([\n",
      "    [x[0, 0] - 0.02, x[0, 0] + 0.02],\n",
      "    [x[0, 1] - 0.02, x[0, 1] + 0.02],\n",
      "    [0,np.pi/2],\n",
      "    [x[0, 3] - 0.05, x[0, 3] + 0.05],\n",
      "    [x[0, 4] - 0.05, x[0, 4] + 0.05]\n",
      "]) for x in true_modelparams_array]\n"
     ],
     "language": "python",
     "metadata": {},
     "outputs": [],
     "prompt_number": 14
    },
    {
     "cell_type": "heading",
     "level": 2,
     "metadata": {},
     "source": [
      "Plotting Functions"
     ]
    },
    {
     "cell_type": "code",
     "collapsed": false,
     "input": [
      "def plot_kernel_smoothed_pdf(updater, param=2, show_true=True):\n",
      "    kernel = scipy.stats.norm(scale=0.0005, loc=updater.particle_locations[:, param]).pdf\n",
      "    xs = linspace(*updater.prior._ranges[param], num=100)\n",
      "    smoothed_pdf = np.sum(kernel(xs[:, np.newaxis]) * updater.particle_weights, axis=-1)\n",
      "    plot(xs, smoothed_pdf)\n",
      "    if show_true:\n",
      "        plot(true_modelparams[:, param], 0, 'rx')"
     ],
     "language": "python",
     "metadata": {},
     "outputs": [],
     "prompt_number": 15
    },
    {
     "cell_type": "heading",
     "level": 2,
     "metadata": {},
     "source": [
      "SMC Updater"
     ]
    },
    {
     "cell_type": "markdown",
     "metadata": {},
     "source": [
      "Warm up the updater by performing experiments over unifomly spaced theta, then look at the risk profile. This experimental setup is not really reasonable, as it assumes 1000 changings of the phase flag but only 10 neutrons per setting. That said, this is still useful for our purposes, as it causes the distribution to warm up to one that is approximately Gaussian."
     ]
    },
    {
     "cell_type": "code",
     "collapsed": false,
     "input": [
      "def plot_risks(updater, theta_min=0, theta_max=TWO_PI, n_thetas=100):\n",
      "    thetas = np.linspace(theta_min, theta_max, n_thetas)\n",
      "    risks = np.array([\n",
      "        updater.bayes_risk(np.array([(theta, 10)], dtype=updater.model.expparams_dtype))\n",
      "        for theta in thetas\n",
      "    ])\n",
      "    f = plot(thetas / np.pi, risks)\n",
      "    xlabel(r'$\\theta / \\pi$')\n",
      "    ylabel(r'$r(\\theta)$')\n",
      "    return f"
     ],
     "language": "python",
     "metadata": {},
     "outputs": [],
     "prompt_number": 16
    },
    {
     "cell_type": "markdown",
     "metadata": {},
     "source": [
      "Before we do anything, the risk profile rewards exploring $\\theta \\approx \\pi$. Note that this is dependent on the prior; here, we have chosen $\\phi \\sim \\text{Uniform}(0, \\pi / 2)$."
     ]
    },
    {
     "cell_type": "code",
     "collapsed": false,
     "input": [
      "plot_risks(smc.SMCUpdater(neutron_model, 100000, neutron_prior))"
     ],
     "language": "python",
     "metadata": {},
     "outputs": [
      {
       "metadata": {},
       "output_type": "pyout",
       "prompt_number": 17,
       "text": [
        "[<matplotlib.lines.Line2D at 0x4830e10>]"
       ]
      },
      {
       "metadata": {},
       "output_type": "display_data",
       "png": "[encoded data removed]",
       "text": [
        "<matplotlib.figure.Figure at 0x479f310>"
       ]
      }
     ],
     "prompt_number": 17
    },
    {
     "cell_type": "code",
     "collapsed": false,
     "input": [
      "def plot_risks_ex(updater, theta_min=0, theta_max=TWO_PI,hum=0.70,hum_std=0.01,temp=293.15,temp_std=0.5, n_thetas=100):\n",
      "    deltas = np.linspace(theta_min, theta_max, n_thetas)\n",
      "    humidities = np.random.normal(hum,hum_std,n_thetas)\n",
      "    temps = np.random.normal(temp,temp_std,n_thetas)\n",
      "    exparams = zip(deltas,temps,humidities)   \n",
      "    risks = np.array([\n",
      "        updater.bayes_risk(np.array([exparam+(10,)], dtype=updater.model.expparams_dtype))\n",
      "        for exparam in exparams\n",
      "    ])\n",
      "    f = plot(deltas / np.pi, risks)    \n",
      "    xlabel(r'$\\theta / \\pi$')\n",
      "    ylabel(r'$r(\\theta)$')\n",
      "    return f\n"
     ],
     "language": "python",
     "metadata": {},
     "outputs": [],
     "prompt_number": 18
    },
    {
     "cell_type": "code",
     "collapsed": false,
     "input": [
      "def plot_risks_array(updater, theta_min=0, theta_max=TWO_PI,hum=0.70,hum_std=0.01,temp=293.15,temp_std=0.5, n_thetas=100,ylims=None):\n",
      "    deltas = np.linspace(theta_min, theta_max, n_thetas)\n",
      "    humidities = np.random.normal(hum,hum_std,n_thetas)\n",
      "    temps = np.random.normal(temp,temp_std,n_thetas)\n",
      "    exparams = zip(deltas,temps,humidities)   \n",
      "    risks = np.array([\n",
      "        updater.bayes_risk(np.array([exparam+(100,)], dtype=updater.model.expparams_dtype))\n",
      "        for exparam in exparams\n",
      "    ])\n",
      "    f = plot(deltas / np.pi, risks)    \n",
      "    xlabel(r'$\\theta / \\pi$')\n",
      "    ylabel(r'$r(\\delta)$')\n",
      "    if ylims is not None:\n",
      "        ylim(ylims)\n",
      "    return f\n",
      "def make_array(model,trueparams,priors,num_particle=100000,theta_min=0, theta_max=TWO_PI,\n",
      "               hum=0.70,hum_std=0.01,temp=293.15,temp_std=0.5, n_thetas=100,save_file=None):\n",
      "    fig,axes = subplots(nrows=int(math.ceil((float(len(priors)))/2)),ncols=2,figsize=(8,6))\n",
      "   \n",
      "    fig.tight_layout(pad=3.0,w_pad=3.0,h_pad=3.0)    \n",
      "    for i,x,y in zip(range(0,len(priors)),trueparams,priors):        \n",
      "        subplot(math.ceil((float(len(priors))))/2,2,i)\n",
      "        f = plot_risks_array(smc.SMCUpdater(model, num_particle,y))\n",
      "        title(r'$(A={0},b={1},\\phi={2},C={3},\\alpha\\'={4}$'.format(*x[0]))\n",
      "    \n",
      "    subplots_adjust(left=0.2,right=2.0,bottom=0.2,top=2.0,wspace=0.3,hspace=0.3)\n",
      "    if save_file is not None:\n",
      "        savefig(save_file)\n",
      "    show()"
     ],
     "language": "python",
     "metadata": {},
     "outputs": [],
     "prompt_number": 29
    },
    {
     "cell_type": "code",
     "collapsed": false,
     "input": [
      "make_array(neutron_model_ex,true_modelparams_array,neutron_prior_arr,100000,save_file=\"risks1.eps\")"
     ],
     "language": "python",
     "metadata": {},
     "outputs": [
      {
       "metadata": {},
       "output_type": "display_data",
       "png": "[encoded data removed]",
       "text": [
        "<matplotlib.figure.Figure at 0x479f410>"
       ]
      }
     ],
     "prompt_number": 20
    },
    {
     "cell_type": "code",
     "collapsed": false,
     "input": [
      "# now for experimental model\n",
      "plot_risks_ex(smc.SMCUpdater(neutron_model_ex, 100000, neutron_prior_ex))"
     ],
     "language": "python",
     "metadata": {},
     "outputs": [
      {
       "metadata": {},
       "output_type": "pyout",
       "prompt_number": 21,
       "text": [
        "[<matplotlib.lines.Line2D at 0x4a847d0>]"
       ]
      },
      {
       "metadata": {},
       "output_type": "display_data",
       "png": "[encoded data removed]",
       "text": [
        "<matplotlib.figure.Figure at 0x544d590>"
       ]
      }
     ],
     "prompt_number": 21
    },
    {
     "cell_type": "markdown",
     "metadata": {},
     "source": [
      "We now explore what happens as we do uniform samplings of $\\theta$ across different warm-up intervals."
     ]
    },
    {
     "cell_type": "code",
     "collapsed": false,
     "input": [
      "def do_warmup(n_particles=20000, theta_min=0, theta_max=TWO_PI, n_thetas=21, n_neutrons=10):\n",
      "    updater = smc.SMCUpdater(neutron_model, n_particles, neutron_prior, resample_thresh=0.3)\n",
      "    thetas = np.linspace(theta_min, theta_max, n_thetas)\n",
      "    for theta in thetas:\n",
      "        experiment = np.array([(theta, n_neutrons)], dtype=neutron_model.expparams_dtype)\n",
      "        datum = neutron_model.simulate_experiment(true_modelparams, experiment)\n",
      "        updater.update(datum, experiment)\n",
      "    f_post = plot_risks(updater)\n",
      "    print(*[u\"{:0.3} \u00b1 {:0.3}\\t\".format(mu, sigma) for mu, sigma in zip(updater.est_mean(), np.sqrt(np.diag(updater.est_covariance_mtx())))])\n",
      "    print(*true_modelparams)\n",
      "    return f_post, updater"
     ],
     "language": "python",
     "metadata": {},
     "outputs": [],
     "prompt_number": 22
    },
    {
     "cell_type": "code",
     "collapsed": false,
     "input": [
      "f, updater_warmup = do_warmup(n_thetas=21**2, n_neutrons=100)"
     ],
     "language": "python",
     "metadata": {},
     "outputs": [
      {
       "output_type": "stream",
       "stream": "stdout",
       "text": [
        "0.898 \u00b1 0.00377\t 2.82e-06 \u00b1 2.77e-05\t 0.0604 \u00b1 0.0119\t 1.02 \u00b1 0.00324\t\n",
        "[ 0.9        0.         0.0844303  1.02     ]\n"
       ]
      },
      {
       "metadata": {},
       "output_type": "display_data",
       "png": "[encoded data removed]",
       "text": [
        "<matplotlib.figure.Figure at 0x48242d0>"
       ]
      }
     ],
     "prompt_number": 23
    },
    {
     "cell_type": "code",
     "collapsed": false,
     "input": [
      "plot_kernel_smoothed_pdf(updater_warmup, param=2)"
     ],
     "language": "python",
     "metadata": {},
     "outputs": [
      {
       "metadata": {},
       "output_type": "display_data",
       "png": "[encoded data removed]",
       "text": [
        "<matplotlib.figure.Figure at 0x4afe0d0>"
       ]
      }
     ],
     "prompt_number": 24
    },
    {
     "cell_type": "code",
     "collapsed": false,
     "input": [
      "def do_warmup_ex(n_particles=20000, theta_min=0, theta_max=TWO_PI, n_thetas=21, n_neutrons=10,hum=0.70,hum_std=0.01,temp=293.15,temp_std=0.5):\n",
      "    updater = smc.SMCUpdater(neutron_model_ex, n_particles, neutron_prior_ex, resample_thresh=0.3)\n",
      "    deltas = np.linspace(theta_min, theta_max, n_thetas)\n",
      "    humidities = np.random.normal(hum,hum_std,n_thetas)\n",
      "    temps = np.random.normal(temp,temp_std,n_thetas)\n",
      "    exparams = zip(deltas,temps,humidities)   \n",
      "    for exparam in exparams:\n",
      "        experiment = np.array([(exparam+ (n_neutrons,))], dtype=neutron_model_ex.expparams_dtype)\n",
      "        datum = neutron_model_ex.simulate_experiment(true_modelparams_ex, experiment)\n",
      "        updater.update(datum, experiment)\n",
      "    f_post = plot_risks_ex(updater)\n",
      "    print(*[u\"{:0.3} \u00b1 {:0.3}\\t\".format(mu, sigma) for mu, sigma in zip(updater.est_mean(), np.sqrt(np.diag(updater.est_covariance_mtx())))])\n",
      "    print(*true_modelparams_ex)\n",
      "    return f_post, updater\n"
     ],
     "language": "python",
     "metadata": {},
     "outputs": [],
     "prompt_number": 25
    },
    {
     "cell_type": "code",
     "collapsed": false,
     "input": [
      "def do_warmup_array(model,params,prior,n_particles=20000, theta_min=0, theta_max=TWO_PI, n_thetas=21, n_neutrons=10,hum=0.70,hum_std=0.01,temp=293.15,temp_std=0.5):\n",
      "    updater = smc.SMCUpdater(model, n_particles, prior, resample_thresh=0.3)\n",
      "    deltas = np.linspace(theta_min, theta_max, n_thetas)\n",
      "    humidities = np.random.normal(hum,hum_std,n_thetas)\n",
      "    temps = np.random.normal(temp,temp_std,n_thetas)\n",
      "    exparams = zip(deltas,temps,humidities)   \n",
      "    for exparam in exparams:\n",
      "        experiment = np.array([(exparam+ (n_neutrons,))], dtype=model.expparams_dtype)\n",
      "        datum = model.simulate_experiment(params, experiment)\n",
      "        updater.update(datum, experiment)\n",
      "    f_post = plot_risks_array(updater,ylims=(0,10E-7))\n",
      "    print(*[u\"{:0.3} \u00b1 {:0.3}\\t\".format(mu, sigma) for mu, sigma in zip(updater.est_mean(), np.sqrt(np.diag(updater.est_covariance_mtx())))])\n",
      "    print(*params)\n",
      "    return f_post, updater\n",
      "\n",
      "def make_array_warmup(model,trueparams,priors,num_particle=20000,theta_min=0, theta_max=TWO_PI,\n",
      "               hum=0.70,hum_std=0.01,temp=293.15,temp_std=0.5, n_thetas=100,n_neutrons=10,save_file=None):\n",
      "    fig,axes = subplots(nrows=int(math.ceil((float(len(priors)))/2)),ncols=2,figsize=(8,6))\n",
      "   \n",
      "    fig.tight_layout(pad=3.0,w_pad=3.0,h_pad=3.0)    \n",
      "    for i,x,y in zip(range(0,len(priors)),trueparams,priors):        \n",
      "        subplot(math.ceil((float(len(priors))))/2,2,i)\n",
      "        f = do_warmup_array(model,x,y, num_particle,n_thetas=n_thetas,n_neutrons=n_neutrons)\n",
      "        title(r'$(A={0:.3f},b={1:.3f},\\phi={2:.3f},C={3:.3f},\\alpha\\'={4:.3f}$'.format(*x[0]))\n",
      "    subplots_adjust(left=0.2,right=2.0,bottom=0.2,top=2.0,wspace=0.3,hspace=0.3)\n",
      "    if save_file is not None:\n",
      "        savefig(save_file)\n",
      "    show()\n",
      "   "
     ],
     "language": "python",
     "metadata": {},
     "outputs": [],
     "prompt_number": 28
    },
    {
     "cell_type": "code",
     "collapsed": false,
     "input": [
      "make_array_warmup(neutron_model_ex,true_modelparams_array,neutron_prior_arr,20000,n_thetas=2**15,n_neutrons=100,save_file=\"risks2.eps\")"
     ],
     "language": "python",
     "metadata": {},
     "outputs": [
      {
       "output_type": "stream",
       "stream": "stdout",
       "text": [
        "0.901 \u00b1 0.000464\t 8.82e-05 \u00b1 0.000259\t 0.0862 \u00b1 0.00217\t 1.02 \u00b1 0.00067\t -1.02 \u00b1 0.0273\t\n",
        "[ 0.9        0.         0.0844303  1.02      -1.02     ]\n",
        "0.9 \u00b1 0.000443\t"
       ]
      },
      {
       "output_type": "stream",
       "stream": "stdout",
       "text": [
        " -0.000149 \u00b1 0.000254\t 0.0825 \u00b1 0.00203\t 1.02 \u00b1 0.00064\t -1.03 \u00b1 0.0317\t\n",
        "[ 0.9        0.         0.0844303  1.02      -1.02     ]\n",
        "0.899 \u00b1 0.000457\t"
       ]
      },
      {
       "ename": "KeyboardInterrupt",
       "evalue": "",
       "output_type": "pyerr",
       "traceback": [
        "\u001b[1;31m---------------------------------------------------------------------------\u001b[0m\n\u001b[1;31mKeyboardInterrupt\u001b[0m                         Traceback (most recent call last)",
        "\u001b[1;32m<ipython-input-30-dde2dd213ed1>\u001b[0m in \u001b[0;36m<module>\u001b[1;34m()\u001b[0m\n\u001b[1;32m----> 1\u001b[1;33m \u001b[0mmake_array_warmup\u001b[0m\u001b[1;33m(\u001b[0m\u001b[0mneutron_model_ex\u001b[0m\u001b[1;33m,\u001b[0m\u001b[0mtrue_modelparams_array\u001b[0m\u001b[1;33m,\u001b[0m\u001b[0mneutron_prior_arr\u001b[0m\u001b[1;33m,\u001b[0m\u001b[1;36m20000\u001b[0m\u001b[1;33m,\u001b[0m\u001b[0mn_thetas\u001b[0m\u001b[1;33m=\u001b[0m\u001b[1;36m2\u001b[0m\u001b[1;33m**\u001b[0m\u001b[1;36m15\u001b[0m\u001b[1;33m,\u001b[0m\u001b[0mn_neutrons\u001b[0m\u001b[1;33m=\u001b[0m\u001b[1;36m100\u001b[0m\u001b[1;33m,\u001b[0m\u001b[0msave_file\u001b[0m\u001b[1;33m=\u001b[0m\u001b[1;34m\"risks2.eps\"\u001b[0m\u001b[1;33m)\u001b[0m\u001b[1;33m\u001b[0m\u001b[0m\n\u001b[0m",
        "\u001b[1;32m<ipython-input-28-baf7a6ba9396>\u001b[0m in \u001b[0;36mmake_array_warmup\u001b[1;34m(model, trueparams, priors, num_particle, theta_min, theta_max, hum, hum_std, temp, temp_std, n_thetas, n_neutrons, save_file)\u001b[0m\n\u001b[0;32m     21\u001b[0m     \u001b[1;32mfor\u001b[0m \u001b[0mi\u001b[0m\u001b[1;33m,\u001b[0m\u001b[0mx\u001b[0m\u001b[1;33m,\u001b[0m\u001b[0my\u001b[0m \u001b[1;32min\u001b[0m \u001b[0mzip\u001b[0m\u001b[1;33m(\u001b[0m\u001b[0mrange\u001b[0m\u001b[1;33m(\u001b[0m\u001b[1;36m0\u001b[0m\u001b[1;33m,\u001b[0m\u001b[0mlen\u001b[0m\u001b[1;33m(\u001b[0m\u001b[0mpriors\u001b[0m\u001b[1;33m)\u001b[0m\u001b[1;33m)\u001b[0m\u001b[1;33m,\u001b[0m\u001b[0mtrueparams\u001b[0m\u001b[1;33m,\u001b[0m\u001b[0mpriors\u001b[0m\u001b[1;33m)\u001b[0m\u001b[1;33m:\u001b[0m\u001b[1;33m\u001b[0m\u001b[0m\n\u001b[0;32m     22\u001b[0m         \u001b[0msubplot\u001b[0m\u001b[1;33m(\u001b[0m\u001b[0mmath\u001b[0m\u001b[1;33m.\u001b[0m\u001b[0mceil\u001b[0m\u001b[1;33m(\u001b[0m\u001b[1;33m(\u001b[0m\u001b[0mfloat\u001b[0m\u001b[1;33m(\u001b[0m\u001b[0mlen\u001b[0m\u001b[1;33m(\u001b[0m\u001b[0mpriors\u001b[0m\u001b[1;33m)\u001b[0m\u001b[1;33m)\u001b[0m\u001b[1;33m)\u001b[0m\u001b[1;33m)\u001b[0m\u001b[1;33m/\u001b[0m\u001b[1;36m2\u001b[0m\u001b[1;33m,\u001b[0m\u001b[1;36m2\u001b[0m\u001b[1;33m,\u001b[0m\u001b[0mi\u001b[0m\u001b[1;33m)\u001b[0m\u001b[1;33m\u001b[0m\u001b[0m\n\u001b[1;32m---> 23\u001b[1;33m         \u001b[0mf\u001b[0m \u001b[1;33m=\u001b[0m \u001b[0mdo_warmup_array\u001b[0m\u001b[1;33m(\u001b[0m\u001b[0mmodel\u001b[0m\u001b[1;33m,\u001b[0m\u001b[0mx\u001b[0m\u001b[1;33m,\u001b[0m\u001b[0my\u001b[0m\u001b[1;33m,\u001b[0m \u001b[0mnum_particle\u001b[0m\u001b[1;33m,\u001b[0m\u001b[0mn_thetas\u001b[0m\u001b[1;33m=\u001b[0m\u001b[0mn_thetas\u001b[0m\u001b[1;33m,\u001b[0m\u001b[0mn_neutrons\u001b[0m\u001b[1;33m=\u001b[0m\u001b[0mn_neutrons\u001b[0m\u001b[1;33m)\u001b[0m\u001b[1;33m\u001b[0m\u001b[0m\n\u001b[0m\u001b[0;32m     24\u001b[0m         \u001b[0mtitle\u001b[0m\u001b[1;33m(\u001b[0m\u001b[1;34mr'$(A={0:.3f},b={1:.3f},\\phi={2:.3f},C={3:.3f},\\alpha\\'={4:.3f}$'\u001b[0m\u001b[1;33m.\u001b[0m\u001b[0mformat\u001b[0m\u001b[1;33m(\u001b[0m\u001b[1;33m*\u001b[0m\u001b[0mx\u001b[0m\u001b[1;33m[\u001b[0m\u001b[1;36m0\u001b[0m\u001b[1;33m]\u001b[0m\u001b[1;33m)\u001b[0m\u001b[1;33m)\u001b[0m\u001b[1;33m\u001b[0m\u001b[0m\n\u001b[0;32m     25\u001b[0m     \u001b[0msubplots_adjust\u001b[0m\u001b[1;33m(\u001b[0m\u001b[0mleft\u001b[0m\u001b[1;33m=\u001b[0m\u001b[1;36m0.2\u001b[0m\u001b[1;33m,\u001b[0m\u001b[0mright\u001b[0m\u001b[1;33m=\u001b[0m\u001b[1;36m2.0\u001b[0m\u001b[1;33m,\u001b[0m\u001b[0mbottom\u001b[0m\u001b[1;33m=\u001b[0m\u001b[1;36m0.2\u001b[0m\u001b[1;33m,\u001b[0m\u001b[0mtop\u001b[0m\u001b[1;33m=\u001b[0m\u001b[1;36m2.0\u001b[0m\u001b[1;33m,\u001b[0m\u001b[0mwspace\u001b[0m\u001b[1;33m=\u001b[0m\u001b[1;36m0.3\u001b[0m\u001b[1;33m,\u001b[0m\u001b[0mhspace\u001b[0m\u001b[1;33m=\u001b[0m\u001b[1;36m0.3\u001b[0m\u001b[1;33m)\u001b[0m\u001b[1;33m\u001b[0m\u001b[0m\n",
        "\u001b[1;32m<ipython-input-28-baf7a6ba9396>\u001b[0m in \u001b[0;36mdo_warmup_array\u001b[1;34m(model, params, prior, n_particles, theta_min, theta_max, n_thetas, n_neutrons, hum, hum_std, temp, temp_std)\u001b[0m\n\u001b[0;32m      8\u001b[0m         \u001b[0mexperiment\u001b[0m \u001b[1;33m=\u001b[0m \u001b[0mnp\u001b[0m\u001b[1;33m.\u001b[0m\u001b[0marray\u001b[0m\u001b[1;33m(\u001b[0m\u001b[1;33m[\u001b[0m\u001b[1;33m(\u001b[0m\u001b[0mexparam\u001b[0m\u001b[1;33m+\u001b[0m \u001b[1;33m(\u001b[0m\u001b[0mn_neutrons\u001b[0m\u001b[1;33m,\u001b[0m\u001b[1;33m)\u001b[0m\u001b[1;33m)\u001b[0m\u001b[1;33m]\u001b[0m\u001b[1;33m,\u001b[0m \u001b[0mdtype\u001b[0m\u001b[1;33m=\u001b[0m\u001b[0mmodel\u001b[0m\u001b[1;33m.\u001b[0m\u001b[0mexpparams_dtype\u001b[0m\u001b[1;33m)\u001b[0m\u001b[1;33m\u001b[0m\u001b[0m\n\u001b[0;32m      9\u001b[0m         \u001b[0mdatum\u001b[0m \u001b[1;33m=\u001b[0m \u001b[0mmodel\u001b[0m\u001b[1;33m.\u001b[0m\u001b[0msimulate_experiment\u001b[0m\u001b[1;33m(\u001b[0m\u001b[0mparams\u001b[0m\u001b[1;33m,\u001b[0m \u001b[0mexperiment\u001b[0m\u001b[1;33m)\u001b[0m\u001b[1;33m\u001b[0m\u001b[0m\n\u001b[1;32m---> 10\u001b[1;33m         \u001b[0mupdater\u001b[0m\u001b[1;33m.\u001b[0m\u001b[0mupdate\u001b[0m\u001b[1;33m(\u001b[0m\u001b[0mdatum\u001b[0m\u001b[1;33m,\u001b[0m \u001b[0mexperiment\u001b[0m\u001b[1;33m)\u001b[0m\u001b[1;33m\u001b[0m\u001b[0m\n\u001b[0m\u001b[0;32m     11\u001b[0m     \u001b[0mf_post\u001b[0m \u001b[1;33m=\u001b[0m \u001b[0mplot_risks_array\u001b[0m\u001b[1;33m(\u001b[0m\u001b[0mupdater\u001b[0m\u001b[1;33m,\u001b[0m\u001b[0mylims\u001b[0m\u001b[1;33m=\u001b[0m\u001b[1;33m(\u001b[0m\u001b[1;36m0\u001b[0m\u001b[1;33m,\u001b[0m\u001b[1;36m10E-7\u001b[0m\u001b[1;33m)\u001b[0m\u001b[1;33m)\u001b[0m\u001b[1;33m\u001b[0m\u001b[0m\n\u001b[0;32m     12\u001b[0m     \u001b[1;32mprint\u001b[0m\u001b[1;33m(\u001b[0m\u001b[1;33m*\u001b[0m\u001b[1;33m[\u001b[0m\u001b[1;34mu\"{:0.3} \u00b1 {:0.3}\\t\"\u001b[0m\u001b[1;33m.\u001b[0m\u001b[0mformat\u001b[0m\u001b[1;33m(\u001b[0m\u001b[0mmu\u001b[0m\u001b[1;33m,\u001b[0m \u001b[0msigma\u001b[0m\u001b[1;33m)\u001b[0m \u001b[1;32mfor\u001b[0m \u001b[0mmu\u001b[0m\u001b[1;33m,\u001b[0m \u001b[0msigma\u001b[0m \u001b[1;32min\u001b[0m \u001b[0mzip\u001b[0m\u001b[1;33m(\u001b[0m\u001b[0mupdater\u001b[0m\u001b[1;33m.\u001b[0m\u001b[0mest_mean\u001b[0m\u001b[1;33m(\u001b[0m\u001b[1;33m)\u001b[0m\u001b[1;33m,\u001b[0m \u001b[0mnp\u001b[0m\u001b[1;33m.\u001b[0m\u001b[0msqrt\u001b[0m\u001b[1;33m(\u001b[0m\u001b[0mnp\u001b[0m\u001b[1;33m.\u001b[0m\u001b[0mdiag\u001b[0m\u001b[1;33m(\u001b[0m\u001b[0mupdater\u001b[0m\u001b[1;33m.\u001b[0m\u001b[0mest_covariance_mtx\u001b[0m\u001b[1;33m(\u001b[0m\u001b[1;33m)\u001b[0m\u001b[1;33m)\u001b[0m\u001b[1;33m)\u001b[0m\u001b[1;33m)\u001b[0m\u001b[1;33m]\u001b[0m\u001b[1;33m)\u001b[0m\u001b[1;33m\u001b[0m\u001b[0m\n",
        "\u001b[1;32m/home/thomas/Envs/default/local/lib/python2.7/site-packages/qinfer/smc.pyc\u001b[0m in \u001b[0;36mupdate\u001b[1;34m(self, outcome, expparams, check_for_resample)\u001b[0m\n\u001b[0;32m    300\u001b[0m \u001b[1;33m\u001b[0m\u001b[0m\n\u001b[0;32m    301\u001b[0m         \u001b[1;31m# Perform the update.\u001b[0m\u001b[1;33m\u001b[0m\u001b[1;33m\u001b[0m\u001b[0m\n\u001b[1;32m--> 302\u001b[1;33m         \u001b[0mweights\u001b[0m\u001b[1;33m,\u001b[0m \u001b[0mnorm\u001b[0m \u001b[1;33m=\u001b[0m \u001b[0mself\u001b[0m\u001b[1;33m.\u001b[0m\u001b[0mhypothetical_update\u001b[0m\u001b[1;33m(\u001b[0m\u001b[0moutcome\u001b[0m\u001b[1;33m,\u001b[0m \u001b[0mexpparams\u001b[0m\u001b[1;33m,\u001b[0m \u001b[0mreturn_normalization\u001b[0m\u001b[1;33m=\u001b[0m\u001b[0mTrue\u001b[0m\u001b[1;33m)\u001b[0m\u001b[1;33m\u001b[0m\u001b[0m\n\u001b[0m\u001b[0;32m    303\u001b[0m \u001b[1;33m\u001b[0m\u001b[0m\n\u001b[0;32m    304\u001b[0m         \u001b[1;31m# Check for negative weights before applying the update.\u001b[0m\u001b[1;33m\u001b[0m\u001b[1;33m\u001b[0m\u001b[0m\n",
        "\u001b[1;32m/home/thomas/Envs/default/local/lib/python2.7/site-packages/qinfer/smc.pyc\u001b[0m in \u001b[0;36mhypothetical_update\u001b[1;34m(self, outcomes, expparams, return_likelihood, return_normalization)\u001b[0m\n\u001b[0;32m    241\u001b[0m         \u001b[1;31m# This makes the multiplication with weights (shape (models,)) make sense,\u001b[0m\u001b[1;33m\u001b[0m\u001b[1;33m\u001b[0m\u001b[0m\n\u001b[0;32m    242\u001b[0m         \u001b[1;31m# since NumPy broadcasting rules align on the right-most index.\u001b[0m\u001b[1;33m\u001b[0m\u001b[1;33m\u001b[0m\u001b[0m\n\u001b[1;32m--> 243\u001b[1;33m         \u001b[0mL\u001b[0m \u001b[1;33m=\u001b[0m \u001b[0mself\u001b[0m\u001b[1;33m.\u001b[0m\u001b[0mmodel\u001b[0m\u001b[1;33m.\u001b[0m\u001b[0mlikelihood\u001b[0m\u001b[1;33m(\u001b[0m\u001b[0moutcomes\u001b[0m\u001b[1;33m,\u001b[0m \u001b[0mlocs\u001b[0m\u001b[1;33m,\u001b[0m \u001b[0mexpparams\u001b[0m\u001b[1;33m)\u001b[0m\u001b[1;33m.\u001b[0m\u001b[0mtranspose\u001b[0m\u001b[1;33m(\u001b[0m\u001b[1;33m[\u001b[0m\u001b[1;36m0\u001b[0m\u001b[1;33m,\u001b[0m \u001b[1;36m2\u001b[0m\u001b[1;33m,\u001b[0m \u001b[1;36m1\u001b[0m\u001b[1;33m]\u001b[0m\u001b[1;33m)\u001b[0m\u001b[1;33m\u001b[0m\u001b[0m\n\u001b[0m\u001b[0;32m    244\u001b[0m         \u001b[0mhyp_weights\u001b[0m \u001b[1;33m=\u001b[0m \u001b[0mweights\u001b[0m \u001b[1;33m*\u001b[0m \u001b[0mL\u001b[0m\u001b[1;33m\u001b[0m\u001b[0m\n\u001b[0;32m    245\u001b[0m \u001b[1;33m\u001b[0m\u001b[0m\n",
        "\u001b[1;32m/home/thomas/Envs/default/local/lib/python2.7/site-packages/qinfer/derived_models.pyc\u001b[0m in \u001b[0;36mlikelihood\u001b[1;34m(self, outcomes, modelparams, expparams)\u001b[0m\n\u001b[0;32m    249\u001b[0m         return np.concatenate([\n\u001b[0;32m    250\u001b[0m             \u001b[0mbinomial_pdf\u001b[0m\u001b[1;33m(\u001b[0m\u001b[0mexpparams\u001b[0m\u001b[1;33m[\u001b[0m\u001b[1;34m'n_meas'\u001b[0m\u001b[1;33m]\u001b[0m\u001b[1;33m[\u001b[0m\u001b[0mnp\u001b[0m\u001b[1;33m.\u001b[0m\u001b[0mnewaxis\u001b[0m\u001b[1;33m,\u001b[0m \u001b[1;33m:\u001b[0m\u001b[1;33m]\u001b[0m\u001b[1;33m,\u001b[0m \u001b[0moutcomes\u001b[0m\u001b[1;33m[\u001b[0m\u001b[0midx\u001b[0m\u001b[1;33m]\u001b[0m\u001b[1;33m,\u001b[0m \u001b[0mpr1\u001b[0m\u001b[1;33m)\u001b[0m\u001b[1;33m\u001b[0m\u001b[0m\n\u001b[1;32m--> 251\u001b[1;33m             \u001b[1;32mfor\u001b[0m \u001b[0midx\u001b[0m \u001b[1;32min\u001b[0m \u001b[0mxrange\u001b[0m\u001b[1;33m(\u001b[0m\u001b[0moutcomes\u001b[0m\u001b[1;33m.\u001b[0m\u001b[0mshape\u001b[0m\u001b[1;33m[\u001b[0m\u001b[1;36m0\u001b[0m\u001b[1;33m]\u001b[0m\u001b[1;33m)\u001b[0m\u001b[1;33m\u001b[0m\u001b[0m\n\u001b[0m\u001b[0;32m    252\u001b[0m             ]) \n\u001b[0;32m    253\u001b[0m \u001b[1;33m\u001b[0m\u001b[0m\n",
        "\u001b[1;32m/home/thomas/Envs/default/local/lib/python2.7/site-packages/qinfer/utils.pyc\u001b[0m in \u001b[0;36mbinomial_pdf\u001b[1;34m(N, n, p)\u001b[0m\n\u001b[0;32m     46\u001b[0m \u001b[1;32mdef\u001b[0m \u001b[0mbinomial_pdf\u001b[0m\u001b[1;33m(\u001b[0m\u001b[0mN\u001b[0m\u001b[1;33m,\u001b[0m\u001b[0mn\u001b[0m\u001b[1;33m,\u001b[0m\u001b[0mp\u001b[0m\u001b[1;33m)\u001b[0m\u001b[1;33m:\u001b[0m\u001b[1;33m\u001b[0m\u001b[0m\n\u001b[0;32m     47\u001b[0m     \u001b[0mlogprob\u001b[0m \u001b[1;33m=\u001b[0m \u001b[0mgammaln\u001b[0m\u001b[1;33m(\u001b[0m\u001b[0mN\u001b[0m\u001b[1;33m+\u001b[0m\u001b[1;36m1\u001b[0m\u001b[1;33m)\u001b[0m\u001b[1;33m-\u001b[0m\u001b[0mgammaln\u001b[0m\u001b[1;33m(\u001b[0m\u001b[0mn\u001b[0m\u001b[1;33m+\u001b[0m\u001b[1;36m1\u001b[0m\u001b[1;33m)\u001b[0m\u001b[1;33m-\u001b[0m \u001b[0mgammaln\u001b[0m\u001b[1;33m(\u001b[0m\u001b[0mN\u001b[0m\u001b[1;33m-\u001b[0m\u001b[0mn\u001b[0m\u001b[1;33m+\u001b[0m\u001b[1;36m1\u001b[0m\u001b[1;33m)\u001b[0m\u001b[0;31m \u001b[0m\u001b[0;31m \u001b[0m\u001b[0;31m\\\u001b[0m\u001b[1;33m\u001b[0m\u001b[0m\n\u001b[1;32m---> 48\u001b[1;33m         \u001b[1;33m+\u001b[0m \u001b[0mn\u001b[0m\u001b[1;33m*\u001b[0m\u001b[0mnp\u001b[0m\u001b[1;33m.\u001b[0m\u001b[0mlog\u001b[0m\u001b[1;33m(\u001b[0m\u001b[0mp\u001b[0m\u001b[1;33m)\u001b[0m\u001b[1;33m+\u001b[0m\u001b[1;33m(\u001b[0m\u001b[0mN\u001b[0m\u001b[1;33m-\u001b[0m\u001b[0mn\u001b[0m\u001b[1;33m)\u001b[0m\u001b[1;33m*\u001b[0m\u001b[0mnp\u001b[0m\u001b[1;33m.\u001b[0m\u001b[0mlog\u001b[0m\u001b[1;33m(\u001b[0m\u001b[1;36m1\u001b[0m\u001b[1;33m-\u001b[0m\u001b[0mp\u001b[0m\u001b[1;33m)\u001b[0m\u001b[1;33m\u001b[0m\u001b[0m\n\u001b[0m\u001b[0;32m     49\u001b[0m     \u001b[1;32mreturn\u001b[0m \u001b[0mnp\u001b[0m\u001b[1;33m.\u001b[0m\u001b[0mexp\u001b[0m\u001b[1;33m(\u001b[0m\u001b[0mlogprob\u001b[0m\u001b[1;33m)\u001b[0m\u001b[1;33m\u001b[0m\u001b[0m\n\u001b[0;32m     50\u001b[0m \u001b[1;33m\u001b[0m\u001b[0m\n",
        "\u001b[1;31mKeyboardInterrupt\u001b[0m: "
       ]
      },
      {
       "output_type": "stream",
       "stream": "stdout",
       "text": [
        " -3.91e-05 \u00b1 0.000172\t 1.57 \u00b1 0.000996\t 1.02 \u00b1 0.000309\t -1.03 \u00b1 0.031\t\n",
        "[ 0.9         0.          1.57079633  1.02       -1.02      ]\n"
       ]
      },
      {
       "metadata": {},
       "output_type": "display_data",
       "png": "[encoded data removed]",
       "text": [
        "<matplotlib.figure.Figure at 0x4f5f350>"
       ]
      }
     ],
     "prompt_number": 30
    },
    {
     "cell_type": "code",
     "collapsed": false,
     "input": [
      "f_ex, updater_warmup_ex = do_warmup_ex(n_thetas=21**2, n_neutrons=100)"
     ],
     "language": "python",
     "metadata": {},
     "outputs": []
    },
    {
     "cell_type": "code",
     "collapsed": false,
     "input": [
      "plot_kernel_smoothed_pdf(updater_warmup_ex, param=0)"
     ],
     "language": "python",
     "metadata": {},
     "outputs": []
    },
    {
     "cell_type": "markdown",
     "metadata": {},
     "source": [
      "We see that exploring settings of $\\theta$ not yet chosen provides significant benefits in risk reduction.\n",
      "\n",
      "Note also that the second case, $\\theta \\in [\\pi/2, 3\\pi/2]$, reliably gives much better phase information than the other two case"
     ]
    },
    {
     "cell_type": "code",
     "collapsed": false,
     "input": [
      "figure()\n",
      "do_warmup(theta_min=0, theta_max=np.pi, n_neutrons=100);\n",
      "figure()\n",
      "do_warmup(theta_min=(np.pi/2), theta_max=(1.5*np.pi), n_neutrons=100);\n",
      "figure()\n",
      "do_warmup(theta_min=(np.pi), theta_max=(2*np.pi), n_neutrons=100);"
     ],
     "language": "python",
     "metadata": {},
     "outputs": []
    },
    {
     "cell_type": "code",
     "collapsed": false,
     "input": [
      "figure()\n",
      "do_warmup_ex(theta_min=0, theta_max=np.pi, n_neutrons=100);\n",
      "figure()\n",
      "do_warmup_ex(theta_min=(np.pi/2), theta_max=(1.5*np.pi), n_neutrons=100);\n",
      "figure()\n",
      "do_warmup_ex(theta_min=(np.pi), theta_max=(2*np.pi), n_neutrons=100);"
     ],
     "language": "python",
     "metadata": {},
     "outputs": []
    },
    {
     "cell_type": "code",
     "collapsed": false,
     "input": [
      "def do_adaptive(n_particles=100000, warmup_thetas=(), n_thetas=11, n_guesses=3, n_neutrons=10, n_warmup_neutrons=10, quiet=False):\n",
      "    updater = smc.SMCUpdater(neutron_model, n_particles, neutron_prior, resampler=resamplers.LiuWestResampler(a=0.98), resample_thresh=0.5)\n",
      "    designer = expdesign.ExperimentDesigner(updater)\n",
      "    \n",
      "    best_thetas = []\n",
      "    error_hist = []\n",
      "    \n",
      "    def objective(theta):\n",
      "        return updater.bayes_risk(                                  \n",
      "            np.array([(theta, 1)], dtype=neutron_model.expparams_dtype)\n",
      "        )\n",
      "    \n",
      "    def perform(theta, n):\n",
      "        experiment = np.array([(theta, n)], dtype=neutron_model.expparams_dtype)\n",
      "        datum = neutron_model.simulate_experiment(true_modelparams, experiment)\n",
      "        updater.update(datum, experiment)\n",
      "        mu = updater.est_mean()\n",
      "        loss = np.dot(updater.model.Q, (true_modelparams[0, :] - mu)**2)\n",
      "        error = np.abs(mu[2] - true_modelparams[0, 2])\n",
      "        error_hist.append(error)\n",
      "        if not quiet:\n",
      "            print(\"Loss: {:.2e}\\tError: {:.2e}\\tStd dev: {:.2e}\\tResample: {}\".format(loss, error, np.sqrt(updater.est_covariance_mtx()[2,2]), updater.resample_count))\n",
      "        \n",
      "    [perform(theta, n_warmup_neutrons) for theta in warmup_thetas]\n",
      "    \n",
      "    for idx_theta in xrange(n_thetas):\n",
      "        \n",
      "        best_theta = None\n",
      "        best_risk  = None\n",
      "        \n",
      "        est_phi = updater.est_mean()[2]\n",
      "        \n",
      "        for idx_guess in xrange(n_guesses):\n",
      "            idx_particle = np.argmax(np.ceil(np.cumsum(updater.particle_weights) - np.random.random()))\n",
      "            idx_pi = np.random.randint(1, 5) # If this is zero, we pick a random theta [0, 2 * pi].\n",
      "            guess = (\n",
      "                idx_pi * np.pi / 2 - updater.particle_locations[idx_particle, 2, np.newaxis] / updater.particle_locations[idx_particle, 3, np.newaxis]\n",
      "            ) # if idx_pi != 0 else TWO_PI * random.random((1,))\n",
      "            result = minimize(objective, guess, bounds=[(0, 2 * np.pi)], method='TNC', options={'maxiter': 2})\n",
      "            \n",
      "            if best_risk is None or result.fun < best_risk:\n",
      "                best_theta = result.x\n",
      "                best_risk = result.fun\n",
      "        \n",
      "        if not quiet:\n",
      "            print(u\"Chose theta = {}.\".format(best_theta), end='\\t')\n",
      "            \n",
      "        best_thetas.append(best_theta)\n",
      "        perform(best_theta, n_neutrons)\n",
      "        \n",
      "    f_post = plot_risks(updater)\n",
      "    print(*[u\"{:0.3} \u00b1 {:0.3}\\t\".format(mu, sigma) for mu, sigma in zip(updater.est_mean(), np.sqrt(np.diag(updater.est_covariance_mtx())))])\n",
      "    print(*true_modelparams)\n",
      "    return f_post, error_hist, updater, best_thetas"
     ],
     "language": "python",
     "metadata": {},
     "outputs": [],
     "prompt_number": 31
    },
    {
     "cell_type": "code",
     "collapsed": false,
     "input": [
      "warmup_thetas = np.linspace(0, np.pi/10, 19)"
     ],
     "language": "python",
     "metadata": {},
     "outputs": [],
     "prompt_number": 32
    },
    {
     "cell_type": "code",
     "collapsed": false,
     "input": [
      "f_post, this_error_hist, updater_adaptive, best_thetas = do_adaptive(n_thetas=200, n_guesses=5, warmup_thetas=warmup_thetas, n_neutrons=40, n_warmup_neutrons=100, quiet=False)"
     ],
     "language": "python",
     "metadata": {},
     "outputs": []
    },
    {
     "cell_type": "code",
     "collapsed": false,
     "input": [
      "plot_kernel_smoothed_pdf(updater_adaptive)"
     ],
     "language": "python",
     "metadata": {},
     "outputs": []
    },
    {
     "cell_type": "code",
     "collapsed": false,
     "input": [
      "def do_adaptive_ex(n_particles=100000, warmup_exparams=(), n_thetas=11, n_guesses=3, n_neutrons=10, n_warmup_neutrons=10, quiet=False):\n",
      "    updater = smc.SMCUpdater(neutron_model_ex, n_particles, neutron_prior_ex, resampler=resamplers.LiuWestResampler(a=0.98), resample_thresh=0.5)\n",
      "    designer = expdesign.ExperimentDesigner(updater)\n",
      "    \n",
      "    best_thetas = []\n",
      "    error_hist = []\n",
      "    \n",
      "    def objective(theta):\n",
      "        \n",
      "        return updater.bayes_risk(                                  \n",
      "            np.array([tuple(theta)+(1,)], dtype=neutron_model_ex.expparams_dtype)\n",
      "        )\n",
      "    \n",
      "    def perform(exparam, n):        \n",
      "        experiment = np.array([tuple(exparam)+ (n,)], dtype=neutron_model_ex.expparams_dtype)        \n",
      "        datum = neutron_model_ex.simulate_experiment(true_modelparams_ex, experiment)\n",
      "        updater.update(datum, experiment)\n",
      "        mu = updater.est_mean()\n",
      "        loss = np.dot(updater.model.Q, (true_modelparams_ex[0, :] - mu)**2)\n",
      "        error = np.abs(mu[2] - true_modelparams_ex[0, 2])\n",
      "        error_hist.append(error)\n",
      "        if not quiet:\n",
      "            print(\"Loss: {:.2e}\\tError: {:.2e}\\tStd dev: {:.2e}\\tResample: {}\".format(loss, error, np.sqrt(updater.est_covariance_mtx()[2,2]), updater.resample_count))\n",
      "        \n",
      "    [perform(exparam, n_warmup_neutrons) for exparam in warmup_exparams]\n",
      "    \n",
      "    for idx_theta in xrange(n_thetas):\n",
      "        \n",
      "        best_theta = None\n",
      "        best_risk  = None\n",
      "        \n",
      "        est_phi = updater.est_mean()[2]\n",
      "        \n",
      "        for idx_guess in xrange(n_guesses):\n",
      "            idx_particle = np.argmax(np.ceil(np.cumsum(updater.particle_weights) - np.random.random()))\n",
      "            idx_pi = np.random.randint(1, 5) # If this is zero, we pick a random theta [0, 2 * pi].\n",
      "            guess = (\n",
      "                idx_pi * np.pi / 2 - updater.particle_locations[idx_particle, 2, np.newaxis] / updater.particle_locations[idx_particle, 3, np.newaxis]\n",
      "            ) # if idx_pi != 0 else TWO_PI * random.random((1,))\n",
      "            result = minimize(objective, (guess,293.15,0.70), bounds=[(0, 2 * np.pi),(270.,310.),(0.,1.)], method='TNC', options={'maxiter': 2})\n",
      "            \n",
      "            if best_risk is None or result.fun < best_risk:\n",
      "                best_theta = result.x\n",
      "                best_risk = result.fun\n",
      "        \n",
      "        if not quiet:\n",
      "            print(u\"Chose theta = {}.\".format(best_theta), end='\\t')\n",
      "            \n",
      "        best_thetas.append(best_theta)\n",
      "        perform(best_theta, n_neutrons)\n",
      "        \n",
      "    f_post = plot_risks_ex(updater)\n",
      "    print(*[u\"{:0.3} \u00b1 {:0.3}\\t\".format(mu, sigma) for mu, sigma in zip(updater.est_mean(), np.sqrt(np.diag(updater.est_covariance_mtx())))])\n",
      "    print(*true_modelparams)\n",
      "    return f_post, error_hist, updater, best_thetas"
     ],
     "language": "python",
     "metadata": {},
     "outputs": [],
     "prompt_number": 37
    },
    {
     "cell_type": "code",
     "collapsed": false,
     "input": [
      "def do_adaptive_ex_array(n_particles=100000, warmup_exparams=(),trueparams=(), n_thetas=11, n_guesses=3, n_neutrons=10, n_warmup_neutrons=10, quiet=False):\n",
      "    updater = smc.SMCUpdater(neutron_model_ex, n_particles, neutron_prior_ex, resampler=resamplers.LiuWestResampler(a=0.98), resample_thresh=0.5)\n",
      "    designer = expdesign.ExperimentDesigner(updater)\n",
      "    \n",
      "    best_thetas = []\n",
      "    error_hist = []\n",
      "    \n",
      "    def objective(theta):\n",
      "        \n",
      "        return updater.bayes_risk(                                  \n",
      "            np.array([tuple(theta)+(1,)], dtype=neutron_model_ex.expparams_dtype)\n",
      "        )\n",
      "    \n",
      "    def perform(exparam, n):        \n",
      "        experiment = np.array([tuple(exparam)+ (n,)], dtype=neutron_model_ex.expparams_dtype)        \n",
      "        datum = neutron_model_ex.simulate_experiment(trueparams, experiment)\n",
      "        updater.update(datum, experiment)\n",
      "        mu = updater.est_mean()\n",
      "        loss = np.dot(updater.model.Q, (trueparams[0, :] - mu)**2)\n",
      "        error = np.abs(mu[2] - trueparams[0, 2])\n",
      "        error_hist.append(error)\n",
      "        if not quiet:\n",
      "            print(\"Loss: {:.2e}\\tError: {:.2e}\\tStd dev: {:.2e}\\tResample: {}\".format(loss, error, np.sqrt(updater.est_covariance_mtx()[2,2]), updater.resample_count))\n",
      "        \n",
      "    [perform(exparam, n_warmup_neutrons) for exparam in warmup_exparams]\n",
      "    \n",
      "    for idx_theta in xrange(n_thetas):\n",
      "        \n",
      "        best_theta = None\n",
      "        best_risk  = None\n",
      "        \n",
      "        est_phi = updater.est_mean()[2]\n",
      "        \n",
      "        for idx_guess in xrange(n_guesses):\n",
      "            idx_particle = np.argmax(np.ceil(np.cumsum(updater.particle_weights) - np.random.random()))\n",
      "            idx_pi = np.random.randint(1, 5) # If this is zero, we pick a random theta [0, 2 * pi].\n",
      "            guess = (\n",
      "                idx_pi * np.pi / 2 - updater.particle_locations[idx_particle, 2, np.newaxis] / updater.particle_locations[idx_particle, 3, np.newaxis]\n",
      "            ) # if idx_pi != 0 else TWO_PI * random.random((1,))\n",
      "            result = minimize(objective, (guess,293.15,0.70), bounds=[(0, 2 * np.pi),(270.,310.),(0.,1.)], method='TNC', options={'maxiter': 2})\n",
      "            \n",
      "            if best_risk is None or result.fun < best_risk:\n",
      "                best_theta = result.x\n",
      "                best_risk = result.fun\n",
      "        \n",
      "        if not quiet:\n",
      "            print(u\"Chose theta = {}.\".format(best_theta), end='\\t')\n",
      "            \n",
      "        best_thetas.append(best_theta)\n",
      "        perform(best_theta, n_neutrons)\n",
      "        \n",
      "    f_post = plot_risks_ex(updater)\n",
      "    print(*[u\"{:0.3} \u00b1 {:0.3}\\t\".format(mu, sigma) for mu, sigma in zip(updater.est_mean(), np.sqrt(np.diag(updater.est_covariance_mtx())))])\n",
      "    print(*true_modelparams)\n",
      "    return (f_post, error_hist, updater, best_thetas)\n",
      "\n",
      "def make_array_adaptive(trueparams,warmup_params,num_particle=20000,n_thetas=200,n_guesses=5,n_neutrons=40,n_warmup_neutrons=100,quiet=False,save_file=None):\n",
      "    fig,axes = subplots(nrows=int(math.ceil((float(len(trueparams)))/2)),ncols=2,figsize=(8,6))\n",
      "   \n",
      "    fig.tight_layout(pad=3.0,w_pad=3.0,h_pad=3.0) \n",
      "    toreturn = []\n",
      "    for i,x in zip(range(0,len(trueparams)),trueparams):        \n",
      "        subplot(math.ceil((float(len(trueparams))))/2,2,i)\n",
      "        toreturn.append( do_adaptive_ex_array(num_particle,warmup_params,x,n_thetas=200,\n",
      "                                               n_guesses=n_guesses,n_neutrons=n_neutrons,\n",
      "                                               n_warmup_neutrons=n_warmup_neutrons,quiet=quiet))\n",
      "        title(r'$(A={0:.3f},b={1:.3f},\\phi={2:.3f},C={3:.3f},\\alpha\\'={4:.3f}$'.format(*x[0]))\n",
      "    subplots_adjust(left=0.2,right=2.0,bottom=0.2,top=2.0,wspace=0.3,hspace=0.3)\n",
      "    if save_file is not None:\n",
      "        savefig(save_file)\n",
      "    show()\n",
      "    return toreturn"
     ],
     "language": "python",
     "metadata": {},
     "outputs": []
    },
    {
     "cell_type": "code",
     "collapsed": false,
     "input": [
      "warmup_thetas = np.linspace(0, np.pi*2, 40)\n",
      "warmup_temps = np.random.normal(293.15,0.5,40)\n",
      "warmup_humids = np.random.normal(0.7,0.01,40)\n",
      "exparams = zip(warmup_thetas,warmup_temps,warmup_humids)"
     ],
     "language": "python",
     "metadata": {},
     "outputs": [],
     "prompt_number": 34
    },
    {
     "cell_type": "code",
     "collapsed": false,
     "input": [
      "f_post, this_error_hist, updater_adaptive, best_thetas = do_adaptive_ex(n_thetas=200, n_guesses=5, warmup_exparams=exparams, n_neutrons=100, n_warmup_neutrons=100, quiet=False)"
     ],
     "language": "python",
     "metadata": {},
     "outputs": []
    },
    {
     "cell_type": "code",
     "collapsed": false,
     "input": [
      "\n",
      "for x in np.arange(1,1000,5,dtype=float):    \n",
      "    timeit.timeit('do_adaptive_ex(n_thetas={0}, n_guesses=5, warmup_exparams=exparams, n_neutrons=100, n_warmup_neutrons=100, quiet=False)'.format(x), number=2)"
     ],
     "language": "python",
     "metadata": {},
     "outputs": [
      {
       "ename": "NameError",
       "evalue": "global name 'do_adaptive_ex' is not defined",
       "output_type": "pyerr",
       "traceback": [
        "\u001b[1;31m---------------------------------------------------------------------------\u001b[0m\n\u001b[1;31mNameError\u001b[0m                                 Traceback (most recent call last)",
        "\u001b[1;32m<ipython-input-38-6b271b75b011>\u001b[0m in \u001b[0;36m<module>\u001b[1;34m()\u001b[0m\n\u001b[0;32m      1\u001b[0m \u001b[1;33m\u001b[0m\u001b[0m\n\u001b[0;32m      2\u001b[0m \u001b[1;32mfor\u001b[0m \u001b[0mx\u001b[0m \u001b[1;32min\u001b[0m \u001b[0mnp\u001b[0m\u001b[1;33m.\u001b[0m\u001b[0marange\u001b[0m\u001b[1;33m(\u001b[0m\u001b[1;36m1\u001b[0m\u001b[1;33m,\u001b[0m\u001b[1;36m1000\u001b[0m\u001b[1;33m,\u001b[0m\u001b[1;36m5\u001b[0m\u001b[1;33m,\u001b[0m\u001b[0mdtype\u001b[0m\u001b[1;33m=\u001b[0m\u001b[0mfloat\u001b[0m\u001b[1;33m)\u001b[0m\u001b[1;33m:\u001b[0m\u001b[1;33m\u001b[0m\u001b[0m\n\u001b[1;32m----> 3\u001b[1;33m     \u001b[0mtimeit\u001b[0m\u001b[1;33m.\u001b[0m\u001b[0mtimeit\u001b[0m\u001b[1;33m(\u001b[0m\u001b[1;34m'do_adaptive_ex(n_thetas={0}, n_guesses=5, warmup_exparams=exparams, n_neutrons=100, n_warmup_neutrons=100, quiet=False)'\u001b[0m\u001b[1;33m.\u001b[0m\u001b[0mformat\u001b[0m\u001b[1;33m(\u001b[0m\u001b[0mx\u001b[0m\u001b[1;33m)\u001b[0m\u001b[1;33m,\u001b[0m \u001b[0mnumber\u001b[0m\u001b[1;33m=\u001b[0m\u001b[1;36m2\u001b[0m\u001b[1;33m)\u001b[0m\u001b[1;33m\u001b[0m\u001b[0m\n\u001b[0m",
        "\u001b[1;32m/usr/lib/python2.7/timeit.pyc\u001b[0m in \u001b[0;36mtimeit\u001b[1;34m(stmt, setup, timer, number)\u001b[0m\n\u001b[0;32m    228\u001b[0m            number=default_number):\n\u001b[0;32m    229\u001b[0m     \u001b[1;34m\"\"\"Convenience function to create Timer object and call timeit method.\"\"\"\u001b[0m\u001b[1;33m\u001b[0m\u001b[0m\n\u001b[1;32m--> 230\u001b[1;33m     \u001b[1;32mreturn\u001b[0m \u001b[0mTimer\u001b[0m\u001b[1;33m(\u001b[0m\u001b[0mstmt\u001b[0m\u001b[1;33m,\u001b[0m \u001b[0msetup\u001b[0m\u001b[1;33m,\u001b[0m \u001b[0mtimer\u001b[0m\u001b[1;33m)\u001b[0m\u001b[1;33m.\u001b[0m\u001b[0mtimeit\u001b[0m\u001b[1;33m(\u001b[0m\u001b[0mnumber\u001b[0m\u001b[1;33m)\u001b[0m\u001b[1;33m\u001b[0m\u001b[0m\n\u001b[0m\u001b[0;32m    231\u001b[0m \u001b[1;33m\u001b[0m\u001b[0m\n\u001b[0;32m    232\u001b[0m def repeat(stmt=\"pass\", setup=\"pass\", timer=default_timer,\n",
        "\u001b[1;32m/usr/lib/python2.7/timeit.pyc\u001b[0m in \u001b[0;36mtimeit\u001b[1;34m(self, number)\u001b[0m\n\u001b[0;32m    193\u001b[0m         \u001b[0mgc\u001b[0m\u001b[1;33m.\u001b[0m\u001b[0mdisable\u001b[0m\u001b[1;33m(\u001b[0m\u001b[1;33m)\u001b[0m\u001b[1;33m\u001b[0m\u001b[0m\n\u001b[0;32m    194\u001b[0m         \u001b[1;32mtry\u001b[0m\u001b[1;33m:\u001b[0m\u001b[1;33m\u001b[0m\u001b[0m\n\u001b[1;32m--> 195\u001b[1;33m             \u001b[0mtiming\u001b[0m \u001b[1;33m=\u001b[0m \u001b[0mself\u001b[0m\u001b[1;33m.\u001b[0m\u001b[0minner\u001b[0m\u001b[1;33m(\u001b[0m\u001b[0mit\u001b[0m\u001b[1;33m,\u001b[0m \u001b[0mself\u001b[0m\u001b[1;33m.\u001b[0m\u001b[0mtimer\u001b[0m\u001b[1;33m)\u001b[0m\u001b[1;33m\u001b[0m\u001b[0m\n\u001b[0m\u001b[0;32m    196\u001b[0m         \u001b[1;32mfinally\u001b[0m\u001b[1;33m:\u001b[0m\u001b[1;33m\u001b[0m\u001b[0m\n\u001b[0;32m    197\u001b[0m             \u001b[1;32mif\u001b[0m \u001b[0mgcold\u001b[0m\u001b[1;33m:\u001b[0m\u001b[1;33m\u001b[0m\u001b[0m\n",
        "\u001b[1;32m/usr/lib/python2.7/timeit.pyc\u001b[0m in \u001b[0;36minner\u001b[1;34m(_it, _timer)\u001b[0m\n",
        "\u001b[1;31mNameError\u001b[0m: global name 'do_adaptive_ex' is not defined"
       ]
      }
     ],
     "prompt_number": 38
    },
    {
     "cell_type": "code",
     "collapsed": false,
     "input": [
      "res = make_array_adaptive(true_modelparams_array,exparams,n_thetas=200, n_guesses=5, n_neutrons=100, n_warmup_neutrons=100, quiet=False)"
     ],
     "language": "python",
     "metadata": {},
     "outputs": [
      {
       "output_type": "stream",
       "stream": "stdout",
       "text": [
        "Loss: 4.14e-02\tError: 2.03e-01\tStd dev: 1.56e-01\tResample: 1\n",
        "Loss: 2.12e-02\tError: 1.46e-01\tStd dev: 1.17e-01\tResample: 1\n",
        "Loss: 3.93e-02\tError: 1.98e-01\tStd dev: 9.48e-02\tResample: 1\n",
        "Loss: 1.27e-02\tError: 1.13e-01\tStd dev: 8.16e-02\tResample: 1\n",
        "Loss: 2.86e-03\tError: 5.34e-02\tStd dev: 6.71e-02\tResample: 2\n",
        "Loss: 1.78e-05\tError: 3.61e-03\tStd dev: 5.09e-02\tResample: 2"
       ]
      },
      {
       "output_type": "stream",
       "stream": "stdout",
       "text": [
        "\n",
        "Loss: 5.81e-04\tError: 2.40e-02\tStd dev: 5.20e-02\tResample: 2\n",
        "Loss: 1.57e-05\tError: 3.15e-03\tStd dev: 4.34e-02\tResample: 2\n",
        "Loss: 5.54e-04\tError: 2.34e-02\tStd dev: 3.50e-02\tResample: 3\n",
        "Loss: 3.33e-05\tError: 5.26e-03\tStd dev: 3.83e-02\tResample: 3\n",
        "Loss: 1.50e-04\tError: 1.20e-02\tStd dev: 3.57e-02\tResample: 3"
       ]
      },
      {
       "output_type": "stream",
       "stream": "stdout",
       "text": [
        "\n",
        "Loss: 3.18e-04\tError: 1.76e-02\tStd dev: 3.34e-02\tResample: 3\n",
        "Loss: 1.48e-04\tError: 1.19e-02\tStd dev: 3.37e-02\tResample: 3\n",
        "Loss: 1.14e-04\tError: 1.04e-02\tStd dev: 3.32e-02\tResample: 3\n",
        "Loss: 4.74e-05\tError: 6.41e-03\tStd dev: 3.32e-02\tResample: 3\n",
        "Loss: 2.16e-05\tError: 3.85e-03\tStd dev: 3.31e-02\tResample: 3\n",
        "Loss: 1.27e-05\tError: 1.55e-03\tStd dev: 3.33e-02\tResample: 3\n",
        "Loss: 1.99e-05\tError: 2.60e-03\tStd dev: 3.30e-02\tResample: 4"
       ]
      },
      {
       "output_type": "stream",
       "stream": "stdout",
       "text": [
        "\n",
        "Loss: 2.77e-05\tError: 4.78e-03\tStd dev: 3.36e-02\tResample: 4\n",
        "Loss: 5.33e-05\tError: 7.07e-03\tStd dev: 3.35e-02\tResample: 4\n",
        "Loss: 1.82e-05\tError: 3.60e-03\tStd dev: 3.27e-02\tResample: 4\n",
        "Loss: 1.25e-05\tError: 2.55e-03\tStd dev: 3.18e-02\tResample: 4\n",
        "Loss: 2.94e-04\tError: 1.71e-02\tStd dev: 3.11e-02\tResample: 4\n",
        "Loss: 3.01e-04\tError: 1.73e-02\tStd dev: 3.02e-02\tResample: 4\n",
        "Loss: 1.10e-04\tError: 1.04e-02\tStd dev: 2.94e-02\tResample: 4"
       ]
      },
      {
       "output_type": "stream",
       "stream": "stdout",
       "text": [
        "\n",
        "Loss: 1.71e-04\tError: 1.29e-02\tStd dev: 2.87e-02\tResample: 4\n",
        "Loss: 3.91e-05\tError: 5.91e-03\tStd dev: 2.82e-02\tResample: 4\n",
        "Loss: 4.38e-05\tError: 6.30e-03\tStd dev: 2.77e-02\tResample: 4\n",
        "Loss: 4.40e-05\tError: 6.31e-03\tStd dev: 2.74e-02\tResample: 4\n",
        "Loss: 4.04e-05\tError: 6.00e-03\tStd dev: 2.71e-02\tResample: 4\n",
        "Loss: 1.50e-04\tError: 1.21e-02\tStd dev: 2.67e-02\tResample: 4\n",
        "Loss: 5.02e-05\tError: 6.76e-03\tStd dev: 2.66e-02\tResample: 4"
       ]
      },
      {
       "output_type": "stream",
       "stream": "stdout",
       "text": [
        "\n",
        "Loss: 1.39e-05\tError: 2.43e-03\tStd dev: 2.64e-02\tResample: 4\n",
        "Loss: 3.62e-05\tError: 5.59e-03\tStd dev: 2.63e-02\tResample: 4\n",
        "Loss: 3.05e-05\tError: 4.98e-03\tStd dev: 2.62e-02\tResample: 4\n",
        "Loss: 1.88e-05\tError: 3.11e-03\tStd dev: 2.61e-02\tResample: 4\n",
        "Loss: 1.72e-05\tError: 1.07e-03\tStd dev: 2.60e-02\tResample: 4\n",
        "Loss: 1.59e-05\tError: 1.42e-03\tStd dev: 2.60e-02\tResample: 4\n",
        "Loss: 1.49e-05\tError: 1.47e-03\tStd dev: 2.60e-02\tResample: 4"
       ]
      },
      {
       "output_type": "stream",
       "stream": "stdout",
       "text": [
        "\n",
        "Loss: 2.34e-05\tError: 1.48e-03\tStd dev: 2.61e-02\tResample: 4\n",
        "Chose theta = [   1.45662216  293.15          0.7       ]."
       ]
      },
      {
       "output_type": "stream",
       "stream": "stdout",
       "text": [
        "\tLoss: 8.98e-05\tError: 8.16e-03\tStd dev: 2.61e-02\tResample: 5\n",
        "Chose theta = [   0.71288752  273.54649728    0.69595942]."
       ]
      },
      {
       "output_type": "stream",
       "stream": "stdout",
       "text": [
        "\tLoss: 1.38e-04\tError: 1.06e-02\tStd dev: 2.58e-02\tResample: 5\n",
        "Chose theta = [   1.19605196  310.            0.69919486]."
       ]
      },
      {
       "output_type": "stream",
       "stream": "stdout",
       "text": [
        "\tLoss: 2.05e-04\tError: 1.34e-02\tStd dev: 2.55e-02\tResample: 5\n",
        "Chose theta = [   4.26474193  270.            0.67592517]."
       ]
      },
      {
       "output_type": "stream",
       "stream": "stdout",
       "text": [
        "\tLoss: 4.22e-04\tError: 2.00e-02\tStd dev: 2.53e-02\tResample: 5\n",
        "Chose theta = [   1.49979175  293.15          0.7       ]."
       ]
      },
      {
       "output_type": "stream",
       "stream": "stdout",
       "text": [
        "\tLoss: 2.92e-04\tError: 1.64e-02\tStd dev: 2.48e-02\tResample: 5\n",
        "Chose theta = [   3.62520375  310.            0.71374993]."
       ]
      },
      {
       "output_type": "stream",
       "stream": "stdout",
       "text": [
        "\tLoss: 4.00e-04\tError: 1.95e-02\tStd dev: 2.46e-02\tResample: 5\n",
        "Chose theta = [   1.46953753  293.15          0.7       ]."
       ]
      },
      {
       "output_type": "stream",
       "stream": "stdout",
       "text": [
        "\tLoss: 3.19e-04\tError: 1.73e-02\tStd dev: 2.42e-02\tResample: 5\n",
        "Chose theta = [   4.63075086  293.15          0.7       ]."
       ]
      },
      {
       "output_type": "stream",
       "stream": "stdout",
       "text": [
        "\tLoss: 4.00e-04\tError: 1.95e-02\tStd dev: 2.40e-02\tResample: 5\n",
        "Chose theta = [   3.9176056   310.            0.71226515]."
       ]
      },
      {
       "output_type": "stream",
       "stream": "stdout",
       "text": [
        "\tLoss: 3.98e-04\tError: 1.95e-02\tStd dev: 2.39e-02\tResample: 5\n",
        "Chose theta = [   1.4773818  293.15         0.7      ]."
       ]
      },
      {
       "output_type": "stream",
       "stream": "stdout",
       "text": [
        "\tLoss: 4.53e-04\tError: 2.08e-02\tStd dev: 2.37e-02\tResample: 5\n",
        "Chose theta = [   4.60490427  293.15          0.7       ]."
       ]
      },
      {
       "output_type": "stream",
       "stream": "stdout",
       "text": [
        "\tLoss: 2.95e-04\tError: 1.65e-02\tStd dev: 2.37e-02\tResample: 5\n",
        "Chose theta = [   1.34147032  310.            0.70814151]."
       ]
      },
      {
       "output_type": "stream",
       "stream": "stdout",
       "text": [
        "\tLoss: 1.91e-04\tError: 1.30e-02\tStd dev: 2.33e-02\tResample: 5\n",
        "Chose theta = [   1.48920271  293.15          0.7       ]."
       ]
      },
      {
       "output_type": "stream",
       "stream": "stdout",
       "text": [
        "\tLoss: 2.61e-04\tError: 1.55e-02\tStd dev: 2.31e-02\tResample: 5\n",
        "Chose theta = [   1.038747    310.            0.63310667]."
       ]
      },
      {
       "output_type": "stream",
       "stream": "stdout",
       "text": [
        "\tLoss: 2.08e-04\tError: 1.37e-02\tStd dev: 2.28e-02\tResample: 5\n",
        "Chose theta = [   1.51292129  293.15          0.7       ]."
       ]
      },
      {
       "output_type": "stream",
       "stream": "stdout",
       "text": [
        "\tLoss: 1.83e-04\tError: 1.27e-02\tStd dev: 2.25e-02\tResample: 5\n",
        "Chose theta = [   1.48296016  293.15          0.7       ]."
       ]
      },
      {
       "output_type": "stream",
       "stream": "stdout",
       "text": [
        "\tLoss: 1.38e-04\tError: 1.08e-02\tStd dev: 2.22e-02\tResample: 5\n",
        "Chose theta = [   1.49222707  293.15          0.7       ]."
       ]
      },
      {
       "output_type": "stream",
       "stream": "stdout",
       "text": [
        "\tLoss: 1.73e-04\tError: 1.23e-02\tStd dev: 2.21e-02\tResample: 5\n",
        "Chose theta = [   1.47404073  293.15          0.7       ]."
       ]
      },
      {
       "output_type": "stream",
       "stream": "stdout",
       "text": [
        "\tLoss: 1.25e-04\tError: 1.02e-02\tStd dev: 2.18e-02\tResample: 5\n",
        "Chose theta = [   1.46989042  293.15          0.7       ]."
       ]
      },
      {
       "output_type": "stream",
       "stream": "stdout",
       "text": [
        "\tLoss: 7.17e-05\tError: 7.20e-03\tStd dev: 2.16e-02\tResample: 5\n",
        "Chose theta = [   1.48079456  293.15          0.7       ]."
       ]
      },
      {
       "output_type": "stream",
       "stream": "stdout",
       "text": [
        "\tLoss: 3.64e-05\tError: 4.11e-03\tStd dev: 2.13e-02\tResample: 5\n",
        "Chose theta = [   4.02639527  270.            0.68252869]."
       ]
      },
      {
       "output_type": "stream",
       "stream": "stdout",
       "text": [
        "\tLoss: 2.60e-05\tError: 2.51e-03\tStd dev: 2.13e-02\tResample: 5\n",
        "Chose theta = [   1.48622454  293.15          0.7       ]."
       ]
      },
      {
       "output_type": "stream",
       "stream": "stdout",
       "text": [
        "\tLoss: 2.41e-05\tError: 2.10e-03\tStd dev: 2.11e-02\tResample: 5\n",
        "Chose theta = [   1.49480687  293.15          0.7       ]."
       ]
      },
      {
       "output_type": "stream",
       "stream": "stdout",
       "text": [
        "\tLoss: 2.32e-05\tError: 1.99e-03\tStd dev: 2.09e-02\tResample: 5\n",
        "Chose theta = [   1.46958507  293.15          0.7       ]."
       ]
      },
      {
       "output_type": "stream",
       "stream": "stdout",
       "text": [
        "\tLoss: 5.22e-05\tError: 5.76e-03\tStd dev: 2.06e-02\tResample: 5\n",
        "Chose theta = [   1.47709379  293.15          0.7       ]."
       ]
      },
      {
       "output_type": "stream",
       "stream": "stdout",
       "text": [
        "\tLoss: 6.35e-05\tError: 6.67e-03\tStd dev: 2.04e-02\tResample: 5\n",
        "Chose theta = [   1.25653945  270.            0.59692435]."
       ]
      },
      {
       "output_type": "stream",
       "stream": "stdout",
       "text": [
        "\tLoss: 9.90e-05\tError: 8.94e-03\tStd dev: 2.01e-02\tResample: 6\n",
        "Chose theta = [   3.64563987  310.            0.77357158]."
       ]
      },
      {
       "output_type": "stream",
       "stream": "stdout",
       "text": [
        "\tLoss: 1.02e-04\tError: 9.13e-03\tStd dev: 2.00e-02\tResample: 6\n",
        "Chose theta = [   1.50180875  293.15          0.7       ]."
       ]
      },
      {
       "output_type": "stream",
       "stream": "stdout",
       "text": [
        "\tLoss: 7.37e-05\tError: 7.39e-03\tStd dev: 1.99e-02\tResample: 6\n",
        "Chose theta = [   1.52484087  293.15          0.7       ]."
       ]
      },
      {
       "output_type": "stream",
       "stream": "stdout",
       "text": [
        "\tLoss: 8.05e-05\tError: 7.84e-03\tStd dev: 1.98e-02\tResample: 6\n",
        "Chose theta = [   1.51008322  293.15          0.7       ]."
       ]
      },
      {
       "output_type": "stream",
       "stream": "stdout",
       "text": [
        "\tLoss: 1.04e-04\tError: 9.21e-03\tStd dev: 1.97e-02\tResample: 6\n",
        "Chose theta = [   1.47465787  293.15          0.7       ]."
       ]
      },
      {
       "output_type": "stream",
       "stream": "stdout",
       "text": [
        "\tLoss: 8.76e-05\tError: 8.28e-03\tStd dev: 1.96e-02\tResample: 6\n",
        "Chose theta = [   1.48585545  293.15          0.7       ]."
       ]
      },
      {
       "output_type": "stream",
       "stream": "stdout",
       "text": [
        "\tLoss: 1.10e-04\tError: 9.55e-03\tStd dev: 1.95e-02\tResample: 6\n",
        "Chose theta = [   1.49950124  293.15          0.7       ]."
       ]
      },
      {
       "output_type": "stream",
       "stream": "stdout",
       "text": [
        "\tLoss: 3.89e-05\tError: 4.44e-03\tStd dev: 1.94e-02\tResample: 6\n",
        "Chose theta = [   1.19037689  270.            0.61861149]."
       ]
      },
      {
       "output_type": "stream",
       "stream": "stdout",
       "text": [
        "\tLoss: 2.53e-05\tError: 2.37e-03\tStd dev: 1.93e-02\tResample: 6\n",
        "Chose theta = [   1.51131584  293.15          0.7       ]."
       ]
      },
      {
       "output_type": "stream",
       "stream": "stdout",
       "text": [
        "\tLoss: 3.98e-05\tError: 4.50e-03\tStd dev: 1.92e-02\tResample: 6\n",
        "Chose theta = [   6.19032687  293.15          0.7       ]."
       ]
      },
      {
       "output_type": "stream",
       "stream": "stdout",
       "text": [
        "\tLoss: 2.63e-05\tError: 3.48e-03\tStd dev: 1.93e-02\tResample: 6\n",
        "Chose theta = [   3.09022516  293.15          0.7       ]."
       ]
      },
      {
       "output_type": "stream",
       "stream": "stdout",
       "text": [
        "\tLoss: 3.77e-05\tError: 4.85e-03\tStd dev: 1.92e-02\tResample: 6\n",
        "Chose theta = [   1.47065452  293.15          0.7       ]."
       ]
      },
      {
       "output_type": "stream",
       "stream": "stdout",
       "text": [
        "\tLoss: 2.73e-05\tError: 3.62e-03\tStd dev: 1.92e-02\tResample: 6\n",
        "Chose theta = [   1.48217036  293.15          0.7       ]."
       ]
      },
      {
       "output_type": "stream",
       "stream": "stdout",
       "text": [
        "\tLoss: 1.80e-05\tError: 1.88e-03\tStd dev: 1.91e-02\tResample: 6\n",
        "Chose theta = [   1.48201813  293.15          0.7       ]."
       ]
      },
      {
       "output_type": "stream",
       "stream": "stdout",
       "text": [
        "\tLoss: 2.40e-05\tError: 3.11e-03\tStd dev: 1.90e-02\tResample: 6\n",
        "Chose theta = [   6.23204725  293.15          0.7       ]."
       ]
      },
      {
       "output_type": "stream",
       "stream": "stdout",
       "text": [
        "\tLoss: 4.01e-05\tError: 4.32e-03\tStd dev: 1.89e-02\tResample: 6\n",
        "Chose theta = [   3.07500217  293.15          0.7       ]."
       ]
      },
      {
       "output_type": "stream",
       "stream": "stdout",
       "text": [
        "\tLoss: 3.15e-05\tError: 3.18e-03\tStd dev: 1.88e-02\tResample: 6\n",
        "Chose theta = [   1.47364532  293.15          0.7       ]."
       ]
      },
      {
       "output_type": "stream",
       "stream": "stdout",
       "text": [
        "\tLoss: 3.64e-05\tError: 3.88e-03\tStd dev: 1.87e-02\tResample: 6\n",
        "Chose theta = [   6.21190318  293.15          0.7       ]."
       ]
      },
      {
       "output_type": "stream",
       "stream": "stdout",
       "text": [
        "\tLoss: 2.37e-05\tError: 2.85e-03\tStd dev: 1.88e-02\tResample: 6\n",
        "Chose theta = [   3.09766066  293.15          0.7       ]."
       ]
      },
      {
       "output_type": "stream",
       "stream": "stdout",
       "text": [
        "\tLoss: 2.01e-05\tError: 1.81e-03\tStd dev: 1.87e-02\tResample: 6\n",
        "Chose theta = [   0.87616652  270.            0.74747867]."
       ]
      },
      {
       "output_type": "stream",
       "stream": "stdout",
       "text": [
        "\tLoss: 2.37e-05\tError: 2.70e-03\tStd dev: 1.86e-02\tResample: 6\n",
        "Chose theta = [   3.33424952  270.            0.48786335]."
       ]
      },
      {
       "output_type": "stream",
       "stream": "stdout",
       "text": [
        "\tLoss: 2.58e-05\tError: 3.10e-03\tStd dev: 1.86e-02\tResample: 6\n",
        "Chose theta = [   1.51415147  293.15          0.7       ]."
       ]
      },
      {
       "output_type": "stream",
       "stream": "stdout",
       "text": [
        "\tLoss: 7.22e-05\tError: 7.44e-03\tStd dev: 1.85e-02\tResample: 6\n",
        "Chose theta = [   6.28318531  298.64082404    0.70174595]."
       ]
      },
      {
       "output_type": "stream",
       "stream": "stdout",
       "text": [
        "\tLoss: 1.05e-04\tError: 8.93e-03\tStd dev: 1.84e-02\tResample: 6\n",
        "Chose theta = [   1.4852599  293.15         0.7      ]."
       ]
      },
      {
       "output_type": "stream",
       "stream": "stdout",
       "text": [
        "\tLoss: 1.71e-04\tError: 1.21e-02\tStd dev: 1.83e-02\tResample: 6\n",
        "Chose theta = [   1.50631316  293.15          0.7       ]."
       ]
      },
      {
       "output_type": "stream",
       "stream": "stdout",
       "text": [
        "\tLoss: 1.48e-04\tError: 1.11e-02\tStd dev: 1.82e-02\tResample: 6\n",
        "Chose theta = [   1.5007431  293.15         0.7      ]."
       ]
      },
      {
       "output_type": "stream",
       "stream": "stdout",
       "text": [
        "\tLoss: 1.47e-04\tError: 1.10e-02\tStd dev: 1.81e-02\tResample: 6\n",
        "Chose theta = [   1.46390767  293.15          0.7       ]."
       ]
      },
      {
       "output_type": "stream",
       "stream": "stdout",
       "text": [
        "\tLoss: 1.26e-04\tError: 1.01e-02\tStd dev: 1.81e-02\tResample: 6\n",
        "Chose theta = [   6.19914764  293.15          0.7       ]."
       ]
      },
      {
       "output_type": "stream",
       "stream": "stdout",
       "text": [
        "\tLoss: 9.08e-05\tError: 8.57e-03\tStd dev: 1.81e-02\tResample: 6\n",
        "Chose theta = [   6.2075823  293.15         0.7      ]."
       ]
      },
      {
       "output_type": "stream",
       "stream": "stdout",
       "text": [
        "\tLoss: 1.08e-04\tError: 9.31e-03\tStd dev: 1.81e-02\tResample: 6\n",
        "Chose theta = [   1.49685887  293.15          0.7       ]."
       ]
      },
      {
       "output_type": "stream",
       "stream": "stdout",
       "text": [
        "\tLoss: 1.31e-04\tError: 1.05e-02\tStd dev: 1.80e-02\tResample: 6\n",
        "Chose theta = [   6.23987017  293.15          0.7       ]."
       ]
      },
      {
       "output_type": "stream",
       "stream": "stdout",
       "text": [
        "\tLoss: 1.91e-04\tError: 1.25e-02\tStd dev: 1.78e-02\tResample: 6\n",
        "Chose theta = [   0.79014549  310.            0.70626173]."
       ]
      },
      {
       "output_type": "stream",
       "stream": "stdout",
       "text": [
        "\tLoss: 2.30e-04\tError: 1.40e-02\tStd dev: 1.77e-02\tResample: 6\n",
        "Chose theta = [   6.17865476  293.15          0.7       ]."
       ]
      },
      {
       "output_type": "stream",
       "stream": "stdout",
       "text": [
        "\tLoss: 1.88e-04\tError: 1.28e-02\tStd dev: 1.78e-02\tResample: 6\n",
        "Chose theta = [   1.52703251  293.15          0.7       ]."
       ]
      },
      {
       "output_type": "stream",
       "stream": "stdout",
       "text": [
        "\tLoss: 1.72e-04\tError: 1.21e-02\tStd dev: 1.77e-02\tResample: 6\n",
        "Chose theta = [   1.48195017  293.15          0.7       ]."
       ]
      },
      {
       "output_type": "stream",
       "stream": "stdout",
       "text": [
        "\tLoss: 1.95e-04\tError: 1.30e-02\tStd dev: 1.77e-02\tResample: 6\n",
        "Chose theta = [   1.51080434  293.15          0.7       ]."
       ]
      },
      {
       "output_type": "stream",
       "stream": "stdout",
       "text": [
        "\tLoss: 1.58e-04\tError: 1.15e-02\tStd dev: 1.76e-02\tResample: 6\n",
        "Chose theta = [   1.51520507  293.15          0.7       ]."
       ]
      },
      {
       "output_type": "stream",
       "stream": "stdout",
       "text": [
        "\tLoss: 1.41e-04\tError: 1.08e-02\tStd dev: 1.75e-02\tResample: 6\n",
        "Chose theta = [   1.48453813  293.15          0.7       ]."
       ]
      },
      {
       "output_type": "stream",
       "stream": "stdout",
       "text": [
        "\tLoss: 1.55e-04\tError: 1.14e-02\tStd dev: 1.75e-02\tResample: 6\n",
        "Chose theta = [   6.20760803  293.15          0.7       ]."
       ]
      },
      {
       "output_type": "stream",
       "stream": "stdout",
       "text": [
        "\tLoss: 1.18e-04\tError: 1.00e-02\tStd dev: 1.76e-02\tResample: 6\n",
        "Chose theta = [   3.09627972  293.15          0.7       ]."
       ]
      },
      {
       "output_type": "stream",
       "stream": "stdout",
       "text": [
        "\tLoss: 1.21e-04\tError: 1.02e-02\tStd dev: 1.75e-02\tResample: 6\n",
        "Chose theta = [   6.28318531  293.18491298    0.72537066]."
       ]
      },
      {
       "output_type": "stream",
       "stream": "stdout",
       "text": [
        "\tLoss: 1.43e-04\tError: 1.10e-02\tStd dev: 1.74e-02\tResample: 6\n",
        "Chose theta = [   1.46274425  310.            0.72862   ]."
       ]
      },
      {
       "output_type": "stream",
       "stream": "stdout",
       "text": [
        "\tLoss: 1.24e-04\tError: 1.01e-02\tStd dev: 1.74e-02\tResample: 6\n",
        "Chose theta = [   1.47619165  293.15          0.7       ]."
       ]
      },
      {
       "output_type": "stream",
       "stream": "stdout",
       "text": [
        "\tLoss: 8.37e-05\tError: 7.94e-03\tStd dev: 1.73e-02\tResample: 6\n",
        "Chose theta = [   6.28318531  293.52444118    0.70030795]."
       ]
      },
      {
       "output_type": "stream",
       "stream": "stdout",
       "text": [
        "\tLoss: 1.45e-04\tError: 1.04e-02\tStd dev: 1.70e-02\tResample: 6\n",
        "Chose theta = [   1.49774141  293.15          0.7       ]."
       ]
      },
      {
       "output_type": "stream",
       "stream": "stdout",
       "text": [
        "\tLoss: 1.57e-04\tError: 1.10e-02\tStd dev: 1.69e-02\tResample: 6\n",
        "Chose theta = [   3.07096436  293.15          0.7       ]."
       ]
      },
      {
       "output_type": "stream",
       "stream": "stdout",
       "text": [
        "\tLoss: 1.49e-04\tError: 1.05e-02\tStd dev: 1.69e-02\tResample: 6\n",
        "Chose theta = [   1.4816975  293.15         0.7      ]."
       ]
      },
      {
       "output_type": "stream",
       "stream": "stdout",
       "text": [
        "\tLoss: 1.90e-04\tError: 1.23e-02\tStd dev: 1.69e-02\tResample: 6\n",
        "Chose theta = [   1.49564322  293.15          0.7       ]."
       ]
      },
      {
       "output_type": "stream",
       "stream": "stdout",
       "text": [
        "\tLoss: 2.25e-04\tError: 1.36e-02\tStd dev: 1.68e-02\tResample: 6\n",
        "Chose theta = [   6.20384654  293.15          0.7       ]."
       ]
      },
      {
       "output_type": "stream",
       "stream": "stdout",
       "text": [
        "\tLoss: 1.72e-04\tError: 1.20e-02\tStd dev: 1.70e-02\tResample: 6\n",
        "Chose theta = [   1.49406482  293.15          0.7       ]."
       ]
      },
      {
       "output_type": "stream",
       "stream": "stdout",
       "text": [
        "\tLoss: 1.62e-04\tError: 1.16e-02\tStd dev: 1.69e-02\tResample: 6\n",
        "Chose theta = [   1.4695595  293.15         0.7      ]."
       ]
      },
      {
       "output_type": "stream",
       "stream": "stdout",
       "text": [
        "\tLoss: 1.38e-04\tError: 1.05e-02\tStd dev: 1.69e-02\tResample: 6\n",
        "Chose theta = [   1.13803559  310.            0.7311663 ]."
       ]
      },
      {
       "output_type": "stream",
       "stream": "stdout",
       "text": [
        "\tLoss: 1.78e-04\tError: 1.23e-02\tStd dev: 1.68e-02\tResample: 6\n",
        "Chose theta = [   1.48647991  293.15          0.7       ]."
       ]
      },
      {
       "output_type": "stream",
       "stream": "stdout",
       "text": [
        "\tLoss: 1.72e-04\tError: 1.20e-02\tStd dev: 1.67e-02\tResample: 6\n",
        "Chose theta = [   1.46963299  293.15          0.7       ]."
       ]
      },
      {
       "output_type": "stream",
       "stream": "stdout",
       "text": [
        "\tLoss: 1.62e-04\tError: 1.16e-02\tStd dev: 1.67e-02\tResample: 6\n",
        "Chose theta = [   6.21532295  293.15          0.7       ]."
       ]
      },
      {
       "output_type": "stream",
       "stream": "stdout",
       "text": [
        "\tLoss: 1.27e-04\tError: 1.03e-02\tStd dev: 1.68e-02\tResample: 6\n",
        "Chose theta = [   3.08422568  293.15          0.7       ]."
       ]
      },
      {
       "output_type": "stream",
       "stream": "stdout",
       "text": [
        "\tLoss: 1.20e-04\tError: 9.92e-03\tStd dev: 1.68e-02\tResample: 6\n",
        "Chose theta = [   6.28318531  285.84745252    0.67943844]."
       ]
      },
      {
       "output_type": "stream",
       "stream": "stdout",
       "text": [
        "\tLoss: 1.28e-04\tError: 1.02e-02\tStd dev: 1.67e-02\tResample: 6\n",
        "Chose theta = [   1.46975066  293.15          0.7       ]."
       ]
      },
      {
       "output_type": "stream",
       "stream": "stdout",
       "text": [
        "\tLoss: 1.75e-04\tError: 1.23e-02\tStd dev: 1.67e-02\tResample: 6\n",
        "Chose theta = [   6.28318531  292.39015274    0.69367392]."
       ]
      },
      {
       "output_type": "stream",
       "stream": "stdout",
       "text": [
        "\tLoss: 2.39e-04\tError: 1.42e-02\tStd dev: 1.64e-02\tResample: 6\n",
        "Chose theta = [   1.50046645  293.15          0.7       ]."
       ]
      },
      {
       "output_type": "stream",
       "stream": "stdout",
       "text": [
        "\tLoss: 3.22e-04\tError: 1.68e-02\tStd dev: 1.63e-02\tResample: 6\n",
        "Chose theta = [   1.50119966  293.15          0.7       ]."
       ]
      },
      {
       "output_type": "stream",
       "stream": "stdout",
       "text": [
        "\tLoss: 2.75e-04\tError: 1.54e-02\tStd dev: 1.63e-02\tResample: 6\n",
        "Chose theta = [   3.60778725  270.            0.69377842]."
       ]
      },
      {
       "output_type": "stream",
       "stream": "stdout",
       "text": [
        "\tLoss: 2.69e-04\tError: 1.52e-02\tStd dev: 1.63e-02\tResample: 6\n",
        "Chose theta = [   6.19369977  293.15          0.7       ]."
       ]
      },
      {
       "output_type": "stream",
       "stream": "stdout",
       "text": [
        "\tLoss: 2.16e-04\tError: 1.37e-02\tStd dev: 1.64e-02\tResample: 6\n",
        "Chose theta = [   1.49879001  293.15          0.7       ]."
       ]
      },
      {
       "output_type": "stream",
       "stream": "stdout",
       "text": [
        "\tLoss: 1.72e-04\tError: 1.20e-02\tStd dev: 1.64e-02\tResample: 6\n",
        "Chose theta = [   3.5080938   310.            0.70262187]."
       ]
      },
      {
       "output_type": "stream",
       "stream": "stdout",
       "text": [
        "\tLoss: 1.39e-04\tError: 1.04e-02\tStd dev: 1.63e-02\tResample: 6\n",
        "Chose theta = [   1.48289635  293.15          0.7       ]."
       ]
      },
      {
       "output_type": "stream",
       "stream": "stdout",
       "text": [
        "\tLoss: 1.50e-04\tError: 1.09e-02\tStd dev: 1.63e-02\tResample: 6\n",
        "Chose theta = [   1.48900039  293.15          0.7       ]."
       ]
      },
      {
       "output_type": "stream",
       "stream": "stdout",
       "text": [
        "\tLoss: 1.51e-04\tError: 1.10e-02\tStd dev: 1.62e-02\tResample: 6\n",
        "Chose theta = [   1.29965173  270.            0.67706003]."
       ]
      },
      {
       "output_type": "stream",
       "stream": "stdout",
       "text": [
        "\tLoss: 1.54e-04\tError: 1.11e-02\tStd dev: 1.62e-02\tResample: 6\n",
        "Chose theta = [   0.68110556  304.54131605    1.        ]."
       ]
      },
      {
       "output_type": "stream",
       "stream": "stdout",
       "text": [
        "\tLoss: 1.69e-04\tError: 1.18e-02\tStd dev: 1.61e-02\tResample: 6\n",
        "Chose theta = [   1.4806936  293.15         0.7      ]."
       ]
      },
      {
       "output_type": "stream",
       "stream": "stdout",
       "text": [
        "\tLoss: 1.09e-04\tError: 8.99e-03\tStd dev: 1.60e-02\tResample: 6\n",
        "Chose theta = [   6.20590133  293.15          0.7       ]."
       ]
      },
      {
       "output_type": "stream",
       "stream": "stdout",
       "text": [
        "\tLoss: 1.54e-04\tError: 1.07e-02\tStd dev: 1.58e-02\tResample: 6\n",
        "Chose theta = [   1.4966827  293.15         0.7      ]."
       ]
      },
      {
       "output_type": "stream",
       "stream": "stdout",
       "text": [
        "\tLoss: 1.57e-04\tError: 1.09e-02\tStd dev: 1.58e-02\tResample: 6\n",
        "Chose theta = [   0.77043336  310.            0.71425086]."
       ]
      },
      {
       "output_type": "stream",
       "stream": "stdout",
       "text": [
        "\tLoss: 1.64e-04\tError: 1.12e-02\tStd dev: 1.57e-02\tResample: 6\n",
        "Chose theta = [   1.51583687  293.15          0.7       ]."
       ]
      },
      {
       "output_type": "stream",
       "stream": "stdout",
       "text": [
        "\tLoss: 1.62e-04\tError: 1.11e-02\tStd dev: 1.57e-02\tResample: 6\n",
        "Chose theta = [   3.10246734  293.15          0.7       ]."
       ]
      },
      {
       "output_type": "stream",
       "stream": "stdout",
       "text": [
        "\tLoss: 1.66e-04\tError: 1.13e-02\tStd dev: 1.57e-02\tResample: 6\n",
        "Chose theta = [   0.86591073  270.            0.61826924]."
       ]
      },
      {
       "output_type": "stream",
       "stream": "stdout",
       "text": [
        "\tLoss: 1.90e-04\tError: 1.23e-02\tStd dev: 1.56e-02\tResample: 6\n",
        "Chose theta = [   1.48633368  293.15          0.7       ]."
       ]
      },
      {
       "output_type": "stream",
       "stream": "stdout",
       "text": [
        "\tLoss: 2.16e-04\tError: 1.33e-02\tStd dev: 1.56e-02\tResample: 6\n",
        "Chose theta = [   3.70707335  310.            0.77704362]."
       ]
      },
      {
       "output_type": "stream",
       "stream": "stdout",
       "text": [
        "\tLoss: 2.05e-04\tError: 1.28e-02\tStd dev: 1.55e-02\tResample: 6\n",
        "Chose theta = [   0.85165617  270.            0.63033639]."
       ]
      },
      {
       "output_type": "stream",
       "stream": "stdout",
       "text": [
        "\tLoss: 1.96e-04\tError: 1.25e-02\tStd dev: 1.55e-02\tResample: 6\n",
        "Chose theta = [   6.21621693  293.15          0.7       ]."
       ]
      },
      {
       "output_type": "stream",
       "stream": "stdout",
       "text": [
        "\tLoss: 1.51e-04\tError: 1.10e-02\tStd dev: 1.56e-02\tResample: 6\n",
        "Chose theta = [   6.28318531  302.9295998     0.71603487]."
       ]
      },
      {
       "output_type": "stream",
       "stream": "stdout",
       "text": [
        "\tLoss: 1.48e-04\tError: 1.09e-02\tStd dev: 1.56e-02\tResample: 6\n",
        "Chose theta = [   0.84679831  310.            0.73556524]."
       ]
      },
      {
       "output_type": "stream",
       "stream": "stdout",
       "text": [
        "\tLoss: 1.39e-04\tError: 1.04e-02\tStd dev: 1.56e-02\tResample: 6\n",
        "Chose theta = [   6.21219459  293.15          0.7       ]."
       ]
      },
      {
       "output_type": "stream",
       "stream": "stdout",
       "text": [
        "\tLoss: 1.32e-04\tError: 1.02e-02\tStd dev: 1.56e-02\tResample: 6\n",
        "Chose theta = [   6.2295949  293.15         0.7      ]."
       ]
      },
      {
       "output_type": "stream",
       "stream": "stdout",
       "text": [
        "\tLoss: 1.14e-04\tError: 9.43e-03\tStd dev: 1.56e-02\tResample: 6\n",
        "Chose theta = [   6.22025219  293.15          0.7       ]."
       ]
      },
      {
       "output_type": "stream",
       "stream": "stdout",
       "text": [
        "\tLoss: 1.07e-04\tError: 9.15e-03\tStd dev: 1.56e-02\tResample: 6\n",
        "Chose theta = [   3.07884176  293.15          0.7       ]."
       ]
      },
      {
       "output_type": "stream",
       "stream": "stdout",
       "text": [
        "\tLoss: 1.17e-04\tError: 9.74e-03\tStd dev: 1.56e-02\tResample: 6\n",
        "Chose theta = [   3.42495954  310.            0.66013583]."
       ]
      },
      {
       "output_type": "stream",
       "stream": "stdout",
       "text": [
        "\tLoss: 1.75e-04\tError: 1.26e-02\tStd dev: 1.56e-02\tResample: 6\n",
        "Chose theta = [   6.28318531  281.25931153    0.82965704]."
       ]
      },
      {
       "output_type": "stream",
       "stream": "stdout",
       "text": [
        "\tLoss: 1.39e-04\tError: 1.13e-02\tStd dev: 1.56e-02\tResample: 6\n",
        "Chose theta = [   6.21567227  293.15          0.7       ]."
       ]
      },
      {
       "output_type": "stream",
       "stream": "stdout",
       "text": [
        "\tLoss: 1.75e-04\tError: 1.26e-02\tStd dev: 1.55e-02\tResample: 6\n",
        "Chose theta = [   3.26137844  270.            0.78953347]."
       ]
      },
      {
       "output_type": "stream",
       "stream": "stdout",
       "text": [
        "\tLoss: 1.82e-04\tError: 1.28e-02\tStd dev: 1.55e-02\tResample: 6\n",
        "Chose theta = [   6.28318531  298.52212949    0.70575194]."
       ]
      },
      {
       "output_type": "stream",
       "stream": "stdout",
       "text": [
        "\tLoss: 1.36e-04\tError: 1.12e-02\tStd dev: 1.56e-02\tResample: 6\n",
        "Chose theta = [   1.48052515  293.15          0.7       ]."
       ]
      },
      {
       "output_type": "stream",
       "stream": "stdout",
       "text": [
        "\tLoss: 1.51e-04\tError: 1.19e-02\tStd dev: 1.56e-02\tResample: 6\n",
        "Chose theta = [   6.28318531  307.35886624    0.73878332]."
       ]
      },
      {
       "output_type": "stream",
       "stream": "stdout",
       "text": [
        "\tLoss: 1.19e-04\tError: 1.06e-02\tStd dev: 1.56e-02\tResample: 6\n",
        "Chose theta = [   1.50200036  293.15          0.7       ]."
       ]
      },
      {
       "output_type": "stream",
       "stream": "stdout",
       "text": [
        "\tLoss: 1.33e-04\tError: 1.12e-02\tStd dev: 1.55e-02\tResample: 6\n",
        "Chose theta = [   3.08492036  293.15          0.7       ]."
       ]
      },
      {
       "output_type": "stream",
       "stream": "stdout",
       "text": [
        "\tLoss: 1.52e-04\tError: 1.21e-02\tStd dev: 1.55e-02\tResample: 7\n",
        "Chose theta = [   1.48856458  293.15          0.7       ]."
       ]
      },
      {
       "output_type": "stream",
       "stream": "stdout",
       "text": [
        "\tLoss: 1.21e-04\tError: 1.07e-02\tStd dev: 1.55e-02\tResample: 7\n",
        "Chose theta = [   1.49760292  293.15          0.7       ]."
       ]
      },
      {
       "output_type": "stream",
       "stream": "stdout",
       "text": [
        "\tLoss: 1.61e-04\tError: 1.24e-02\tStd dev: 1.55e-02\tResample: 7\n",
        "Chose theta = [   3.09515448  293.15          0.7       ]."
       ]
      },
      {
       "output_type": "stream",
       "stream": "stdout",
       "text": [
        "\tLoss: 1.44e-04\tError: 1.17e-02\tStd dev: 1.54e-02\tResample: 7\n",
        "Chose theta = [   6.28318531  289.50520282    0.70725298]."
       ]
      },
      {
       "output_type": "stream",
       "stream": "stdout",
       "text": [
        "\tLoss: 1.14e-04\tError: 1.05e-02\tStd dev: 1.54e-02\tResample: 7\n",
        "Chose theta = [   1.49390503  293.15          0.7       ]."
       ]
      },
      {
       "output_type": "stream",
       "stream": "stdout",
       "text": [
        "\tLoss: 1.41e-04\tError: 1.17e-02\tStd dev: 1.54e-02\tResample: 7\n",
        "Chose theta = [   1.49028862  293.15          0.7       ]."
       ]
      },
      {
       "output_type": "stream",
       "stream": "stdout",
       "text": [
        "\tLoss: 1.21e-04\tError: 1.08e-02\tStd dev: 1.54e-02\tResample: 7\n",
        "Chose theta = [   6.28318531  286.10735984    0.67747855]."
       ]
      },
      {
       "output_type": "stream",
       "stream": "stdout",
       "text": [
        "\tLoss: 1.21e-04\tError: 1.08e-02\tStd dev: 1.53e-02\tResample: 7\n",
        "Chose theta = [   1.47039305  293.15          0.7       ]."
       ]
      },
      {
       "output_type": "stream",
       "stream": "stdout",
       "text": [
        "\tLoss: 1.12e-04\tError: 1.04e-02\tStd dev: 1.53e-02\tResample: 7\n",
        "Chose theta = [   0.98567754  310.            0.7161788 ]."
       ]
      },
      {
       "output_type": "stream",
       "stream": "stdout",
       "text": [
        "\tLoss: 1.11e-04\tError: 1.03e-02\tStd dev: 1.52e-02\tResample: 7\n",
        "Chose theta = [   6.28318531  293.01534458    0.7009551 ]."
       ]
      },
      {
       "output_type": "stream",
       "stream": "stdout",
       "text": [
        "\tLoss: 1.11e-04\tError: 1.03e-02\tStd dev: 1.52e-02\tResample: 7\n",
        "Chose theta = [   1.50046919  293.15          0.7       ]."
       ]
      },
      {
       "output_type": "stream",
       "stream": "stdout",
       "text": [
        "\tLoss: 1.43e-04\tError: 1.17e-02\tStd dev: 1.52e-02\tResample: 7\n",
        "Chose theta = [   1.48727776  293.15          0.7       ]."
       ]
      },
      {
       "output_type": "stream",
       "stream": "stdout",
       "text": [
        "\tLoss: 2.16e-04\tError: 1.45e-02\tStd dev: 1.51e-02\tResample: 7\n",
        "Chose theta = [   6.28318531  282.70580873    0.68549239]."
       ]
      },
      {
       "output_type": "stream",
       "stream": "stdout",
       "text": [
        "\tLoss: 2.42e-04\tError: 1.53e-02\tStd dev: 1.51e-02\tResample: 7\n",
        "Chose theta = [   1.47794548  293.15          0.7       ]."
       ]
      },
      {
       "output_type": "stream",
       "stream": "stdout",
       "text": [
        "\tLoss: 2.31e-04\tError: 1.49e-02\tStd dev: 1.51e-02\tResample: 7\n",
        "Chose theta = [   6.28318531  305.05985573    0.74407406]."
       ]
      },
      {
       "output_type": "stream",
       "stream": "stdout",
       "text": [
        "\tLoss: 2.96e-04\tError: 1.68e-02\tStd dev: 1.50e-02\tResample: 7\n",
        "Chose theta = [   3.07213502  293.15          0.7       ]."
       ]
      },
      {
       "output_type": "stream",
       "stream": "stdout",
       "text": [
        "\tLoss: 3.36e-04\tError: 1.80e-02\tStd dev: 1.49e-02\tResample: 7\n",
        "Chose theta = [   3.08311279  293.15          0.7       ]."
       ]
      },
      {
       "output_type": "stream",
       "stream": "stdout",
       "text": [
        "\tLoss: 3.65e-04\tError: 1.88e-02\tStd dev: 1.49e-02\tResample: 7\n",
        "Chose theta = [   1.50368557  293.15          0.7       ]."
       ]
      },
      {
       "output_type": "stream",
       "stream": "stdout",
       "text": [
        "\tLoss: 3.30e-04\tError: 1.79e-02\tStd dev: 1.48e-02\tResample: 7\n",
        "Chose theta = [   3.09576607  293.15          0.7       ]."
       ]
      },
      {
       "output_type": "stream",
       "stream": "stdout",
       "text": [
        "\tLoss: 3.19e-04\tError: 1.75e-02\tStd dev: 1.48e-02\tResample: 7\n",
        "Chose theta = [   3.07141571  293.15          0.7       ]."
       ]
      },
      {
       "output_type": "stream",
       "stream": "stdout",
       "text": [
        "\tLoss: 3.20e-04\tError: 1.76e-02\tStd dev: 1.48e-02\tResample: 7\n",
        "Chose theta = [   1.52707854  293.15          0.7       ]."
       ]
      },
      {
       "output_type": "stream",
       "stream": "stdout",
       "text": [
        "\tLoss: 3.25e-04\tError: 1.77e-02\tStd dev: 1.48e-02\tResample: 7\n",
        "Chose theta = [   6.28318531  293.3199386     0.69854636]."
       ]
      },
      {
       "output_type": "stream",
       "stream": "stdout",
       "text": [
        "\tLoss: 3.23e-04\tError: 1.77e-02\tStd dev: 1.48e-02\tResample: 7\n",
        "Chose theta = [   0.65998365  274.60095601    0.67130567]."
       ]
      },
      {
       "output_type": "stream",
       "stream": "stdout",
       "text": [
        "\tLoss: 3.46e-04\tError: 1.83e-02\tStd dev: 1.47e-02\tResample: 7\n",
        "Chose theta = [   1.53154974  293.15          0.7       ]."
       ]
      },
      {
       "output_type": "stream",
       "stream": "stdout",
       "text": [
        "\tLoss: 3.61e-04\tError: 1.87e-02\tStd dev: 1.47e-02\tResample: 7\n",
        "Chose theta = [   3.07907294  293.15          0.7       ]."
       ]
      },
      {
       "output_type": "stream",
       "stream": "stdout",
       "text": [
        "\tLoss: 3.25e-04\tError: 1.77e-02\tStd dev: 1.47e-02\tResample: 7\n",
        "Chose theta = [   1.51092741  293.15          0.7       ]."
       ]
      },
      {
       "output_type": "stream",
       "stream": "stdout",
       "text": [
        "\tLoss: 3.03e-04\tError: 1.71e-02\tStd dev: 1.47e-02\tResample: 7\n",
        "Chose theta = [   3.08816266  293.15          0.7       ]."
       ]
      },
      {
       "output_type": "stream",
       "stream": "stdout",
       "text": [
        "\tLoss: 3.05e-04\tError: 1.71e-02\tStd dev: 1.47e-02\tResample: 7\n",
        "Chose theta = [   1.49992665  293.15          0.7       ]."
       ]
      },
      {
       "output_type": "stream",
       "stream": "stdout",
       "text": [
        "\tLoss: 3.38e-04\tError: 1.80e-02\tStd dev: 1.46e-02\tResample: 7\n",
        "Chose theta = [   1.48003364  293.15          0.7       ]."
       ]
      },
      {
       "output_type": "stream",
       "stream": "stdout",
       "text": [
        "\tLoss: 4.13e-04\tError: 2.00e-02\tStd dev: 1.46e-02\tResample: 7\n",
        "Chose theta = [   1.49790357  293.15          0.7       ]."
       ]
      },
      {
       "output_type": "stream",
       "stream": "stdout",
       "text": [
        "\tLoss: 3.45e-04\tError: 1.82e-02\tStd dev: 1.45e-02\tResample: 7\n",
        "Chose theta = [   1.48936153  293.15          0.7       ]."
       ]
      },
      {
       "output_type": "stream",
       "stream": "stdout",
       "text": [
        "\tLoss: 3.52e-04\tError: 1.84e-02\tStd dev: 1.45e-02\tResample: 7\n",
        "Chose theta = [   1.50248395  293.15          0.7       ]."
       ]
      },
      {
       "output_type": "stream",
       "stream": "stdout",
       "text": [
        "\tLoss: 3.34e-04\tError: 1.79e-02\tStd dev: 1.45e-02\tResample: 7\n",
        "Chose theta = [   6.28318531  292.34161141    0.70237564]."
       ]
      },
      {
       "output_type": "stream",
       "stream": "stdout",
       "text": [
        "\tLoss: 3.32e-04\tError: 1.79e-02\tStd dev: 1.45e-02\tResample: 7\n",
        "Chose theta = [   1.52270595  293.15          0.7       ]."
       ]
      },
      {
       "output_type": "stream",
       "stream": "stdout",
       "text": [
        "\tLoss: 3.14e-04\tError: 1.74e-02\tStd dev: 1.44e-02\tResample: 7\n",
        "Chose theta = [   0.96721485  310.            0.73219687]."
       ]
      },
      {
       "output_type": "stream",
       "stream": "stdout",
       "text": [
        "\tLoss: 3.05e-04\tError: 1.71e-02\tStd dev: 1.44e-02\tResample: 7\n",
        "Chose theta = [   0.55367789  270.            0.63478652]."
       ]
      },
      {
       "output_type": "stream",
       "stream": "stdout",
       "text": [
        "\tLoss: 3.25e-04\tError: 1.77e-02\tStd dev: 1.44e-02\tResample: 7\n",
        "Chose theta = [   1.27423143  270.            0.66271953]."
       ]
      },
      {
       "output_type": "stream",
       "stream": "stdout",
       "text": [
        "\tLoss: 3.18e-04\tError: 1.75e-02\tStd dev: 1.43e-02\tResample: 7\n",
        "Chose theta = [   3.05844567  293.15          0.7       ]."
       ]
      },
      {
       "output_type": "stream",
       "stream": "stdout",
       "text": [
        "\tLoss: 3.42e-04\tError: 1.82e-02\tStd dev: 1.43e-02\tResample: 7\n",
        "Chose theta = [   6.28318531  289.50821035    0.74918735]."
       ]
      },
      {
       "output_type": "stream",
       "stream": "stdout",
       "text": [
        "\tLoss: 3.53e-04\tError: 1.84e-02\tStd dev: 1.42e-02\tResample: 7\n",
        "Chose theta = [   6.28318531  309.34946474    0.70692489]."
       ]
      },
      {
       "output_type": "stream",
       "stream": "stdout",
       "text": [
        "\tLoss: 3.65e-04\tError: 1.87e-02\tStd dev: 1.42e-02\tResample: 7\n",
        "Chose theta = [   0.74020595  310.            0.69097927]."
       ]
      },
      {
       "output_type": "stream",
       "stream": "stdout",
       "text": [
        "\tLoss: 3.82e-04\tError: 1.92e-02\tStd dev: 1.41e-02\tResample: 7\n",
        "Chose theta = [   1.50708818  293.15          0.7       ]."
       ]
      },
      {
       "output_type": "stream",
       "stream": "stdout",
       "text": [
        "\tLoss: 4.02e-04\tError: 1.97e-02\tStd dev: 1.41e-02\tResample: 7\n",
        "Chose theta = [   3.08526255  293.15          0.7       ]."
       ]
      },
      {
       "output_type": "stream",
       "stream": "stdout",
       "text": [
        "\tLoss: 4.04e-04\tError: 1.97e-02\tStd dev: 1.41e-02\tResample: 7\n",
        "Chose theta = [   1.53993511  293.15          0.7       ]."
       ]
      },
      {
       "output_type": "stream",
       "stream": "stdout",
       "text": [
        "\tLoss: 4.36e-04\tError: 2.05e-02\tStd dev: 1.40e-02\tResample: 7\n",
        "Chose theta = [   3.0772598  293.15         0.7      ]."
       ]
      },
      {
       "output_type": "stream",
       "stream": "stdout",
       "text": [
        "\tLoss: 4.75e-04\tError: 2.14e-02\tStd dev: 1.40e-02\tResample: 7\n",
        "Chose theta = [   1.52364614  293.15          0.7       ]."
       ]
      },
      {
       "output_type": "stream",
       "stream": "stdout",
       "text": [
        "\tLoss: 4.71e-04\tError: 2.13e-02\tStd dev: 1.39e-02\tResample: 7\n",
        "Chose theta = [   6.28318531  293.04451008    0.70000307]."
       ]
      },
      {
       "output_type": "stream",
       "stream": "stdout",
       "text": [
        "\tLoss: 4.24e-04\tError: 2.03e-02\tStd dev: 1.40e-02\tResample: 7\n",
        "Chose theta = [   1.50066803  293.15          0.7       ]."
       ]
      },
      {
       "output_type": "stream",
       "stream": "stdout",
       "text": [
        "\tLoss: 4.58e-04\tError: 2.11e-02\tStd dev: 1.40e-02\tResample: 7\n",
        "Chose theta = [   6.28318531  275.22591226    0.70982299]."
       ]
      },
      {
       "output_type": "stream",
       "stream": "stdout",
       "text": [
        "\tLoss: 5.02e-04\tError: 2.20e-02\tStd dev: 1.39e-02\tResample: 7\n",
        "Chose theta = [   1.51120575  293.15          0.7       ]."
       ]
      },
      {
       "output_type": "stream",
       "stream": "stdout",
       "text": [
        "\tLoss: 4.53e-04\tError: 2.09e-02\tStd dev: 1.39e-02\tResample: 7\n",
        "Chose theta = [   6.28318531  293.89058618    0.69929546]."
       ]
      },
      {
       "output_type": "stream",
       "stream": "stdout",
       "text": [
        "\tLoss: 4.37e-04\tError: 2.06e-02\tStd dev: 1.39e-02\tResample: 7\n",
        "Chose theta = [   1.50564844  293.15          0.7       ]."
       ]
      },
      {
       "output_type": "stream",
       "stream": "stdout",
       "text": [
        "\tLoss: 4.27e-04\tError: 2.03e-02\tStd dev: 1.38e-02\tResample: 7\n",
        "Chose theta = [   1.49642929  293.15          0.7       ]."
       ]
      },
      {
       "output_type": "stream",
       "stream": "stdout",
       "text": [
        "\tLoss: 4.36e-04\tError: 2.06e-02\tStd dev: 1.38e-02\tResample: 7\n",
        "Chose theta = [   6.28318531  293.1299988     0.69973208]."
       ]
      },
      {
       "output_type": "stream",
       "stream": "stdout",
       "text": [
        "\tLoss: 4.48e-04\tError: 2.08e-02\tStd dev: 1.38e-02\tResample: 7\n",
        "Chose theta = [   1.49480139  293.15          0.7       ]."
       ]
      },
      {
       "output_type": "stream",
       "stream": "stdout",
       "text": [
        "\tLoss: 4.05e-04\tError: 1.98e-02\tStd dev: 1.38e-02\tResample: 7\n",
        "Chose theta = [   1.50685525  293.15          0.7       ]."
       ]
      },
      {
       "output_type": "stream",
       "stream": "stdout",
       "text": [
        "\tLoss: 4.40e-04\tError: 2.06e-02\tStd dev: 1.37e-02\tResample: 7\n",
        "Chose theta = [   1.18427875  270.            0.68683812]."
       ]
      },
      {
       "output_type": "stream",
       "stream": "stdout",
       "text": [
        "\tLoss: 3.50e-04\tError: 1.84e-02\tStd dev: 1.37e-02\tResample: 7\n",
        "Chose theta = [   0.58873643  270.            0.66270053]."
       ]
      },
      {
       "output_type": "stream",
       "stream": "stdout",
       "text": [
        "\tLoss: 4.13e-04\tError: 2.00e-02\tStd dev: 1.36e-02\tResample: 7\n",
        "Chose theta = [   1.50049222  293.15          0.7       ]."
       ]
      },
      {
       "output_type": "stream",
       "stream": "stdout",
       "text": [
        "\tLoss: 3.75e-04\tError: 1.90e-02\tStd dev: 1.36e-02\tResample: 7\n",
        "Chose theta = [   1.50491722  293.15          0.7       ]."
       ]
      },
      {
       "output_type": "stream",
       "stream": "stdout",
       "text": [
        "\tLoss: 3.60e-04\tError: 1.86e-02\tStd dev: 1.36e-02\tResample: 7\n",
        "Chose theta = [   3.07006366  293.15          0.7       ]."
       ]
      },
      {
       "output_type": "stream",
       "stream": "stdout",
       "text": [
        "\tLoss: 3.71e-04\tError: 1.89e-02\tStd dev: 1.36e-02\tResample: 7\n",
        "Chose theta = [   1.52142754  293.15          0.7       ]."
       ]
      },
      {
       "output_type": "stream",
       "stream": "stdout",
       "text": [
        "\tLoss: 3.55e-04\tError: 1.85e-02\tStd dev: 1.35e-02\tResample: 7\n",
        "Chose theta = [   3.20057797  270.            0.68642429]."
       ]
      },
      {
       "output_type": "stream",
       "stream": "stdout",
       "text": [
        "\tLoss: 3.40e-04\tError: 1.81e-02\tStd dev: 1.35e-02\tResample: 7\n",
        "Chose theta = [   1.49315757  293.15          0.7       ]."
       ]
      },
      {
       "output_type": "stream",
       "stream": "stdout",
       "text": [
        "\tLoss: 3.42e-04\tError: 1.81e-02\tStd dev: 1.35e-02\tResample: 7\n",
        "Chose theta = [   0.71940604  270.            0.65933219]."
       ]
      },
      {
       "output_type": "stream",
       "stream": "stdout",
       "text": [
        "\tLoss: 3.32e-04\tError: 1.79e-02\tStd dev: 1.35e-02\tResample: 7\n",
        "Chose theta = [   6.28318531  291.45069102    0.70382358]."
       ]
      },
      {
       "output_type": "stream",
       "stream": "stdout",
       "text": [
        "\tLoss: 3.41e-04\tError: 1.81e-02\tStd dev: 1.35e-02\tResample: 7\n",
        "Chose theta = [   1.2043931   310.            0.70876032]."
       ]
      },
      {
       "output_type": "stream",
       "stream": "stdout",
       "text": [
        "\tLoss: 3.64e-04\tError: 1.87e-02\tStd dev: 1.34e-02\tResample: 7\n",
        "Chose theta = [   1.49690607  293.15          0.7       ]."
       ]
      },
      {
       "output_type": "stream",
       "stream": "stdout",
       "text": [
        "\tLoss: 4.06e-04\tError: 1.98e-02\tStd dev: 1.34e-02\tResample: 7\n",
        "Chose theta = [   1.50889077  293.15          0.7       ]."
       ]
      },
      {
       "output_type": "stream",
       "stream": "stdout",
       "text": [
        "\tLoss: 3.79e-04\tError: 1.91e-02\tStd dev: 1.34e-02\tResample: 7\n",
        "Chose theta = [   1.01034133  270.            0.66115725]."
       ]
      },
      {
       "output_type": "stream",
       "stream": "stdout",
       "text": [
        "\tLoss: 3.29e-04\tError: 1.78e-02\tStd dev: 1.34e-02\tResample: 7\n",
        "Chose theta = [   6.28318531  293.52201536    0.69900659]."
       ]
      },
      {
       "output_type": "stream",
       "stream": "stdout",
       "text": [
        "\tLoss: 3.15e-04\tError: 1.74e-02\tStd dev: 1.34e-02\tResample: 7\n",
        "Chose theta = [   6.28318531  291.56336778    0.70038124]."
       ]
      },
      {
       "output_type": "stream",
       "stream": "stdout",
       "text": [
        "\tLoss: 3.48e-04\tError: 1.82e-02\tStd dev: 1.33e-02\tResample: 7\n",
        "Chose theta = [   3.08561932  293.15          0.7       ]."
       ]
      },
      {
       "output_type": "stream",
       "stream": "stdout",
       "text": [
        "\tLoss: 3.48e-04\tError: 1.82e-02\tStd dev: 1.33e-02\tResample: 7\n",
        "Chose theta = [   1.49771045  293.15          0.7       ]."
       ]
      },
      {
       "output_type": "stream",
       "stream": "stdout",
       "text": [
        "\tLoss: 3.03e-04\tError: 1.70e-02\tStd dev: 1.33e-02\tResample: 7\n",
        "Chose theta = [   1.48982911  293.15          0.7       ]."
       ]
      },
      {
       "output_type": "stream",
       "stream": "stdout",
       "text": [
        "\tLoss: 3.09e-04\tError: 1.72e-02\tStd dev: 1.32e-02\tResample: 7\n",
        "Chose theta = [   3.09479483  293.15          0.7       ]."
       ]
      },
      {
       "output_type": "stream",
       "stream": "stdout",
       "text": [
        "\tLoss: 2.90e-04\tError: 1.66e-02\tStd dev: 1.32e-02\tResample: 7\n",
        "Chose theta = [   3.08836159  293.15          0.7       ]."
       ]
      },
      {
       "output_type": "stream",
       "stream": "stdout",
       "text": [
        "\tLoss: 3.01e-04\tError: 1.69e-02\tStd dev: 1.32e-02\tResample: 7\n",
        "Chose theta = [   1.49390188  293.15          0.7       ]."
       ]
      },
      {
       "output_type": "stream",
       "stream": "stdout",
       "text": [
        "\tLoss: 2.97e-04\tError: 1.68e-02\tStd dev: 1.32e-02\tResample: 7\n",
        "Chose theta = [   1.5180013  293.15         0.7      ]."
       ]
      },
      {
       "output_type": "stream",
       "stream": "stdout",
       "text": [
        "\tLoss: 3.28e-04\tError: 1.77e-02\tStd dev: 1.32e-02\tResample: 7\n",
        "0.899 \u00b1 0.0044\t"
       ]
      },
      {
       "output_type": "stream",
       "stream": "stdout",
       "text": [
        " -0.00173 \u00b1 0.00228\t 0.0667 \u00b1 0.0132\t 1.02 \u00b1 0.0045\t -1.02 \u00b1 0.00584\t\n",
        "[ 0.9        0.         0.0844303  1.02     ]\n",
        "Loss: 1.69e-02\tError: 1.30e-01\tStd dev: 1.33e-01\tResample: 1\n",
        "Loss: 2.76e-03\tError: 5.25e-02\tStd dev: 8.86e-02\tResample: 1\n",
        "Loss: 6.76e-04\tError: 2.60e-02\tStd dev: 6.98e-02\tResample: 1\n",
        "Loss: 6.62e-03\tError: 8.14e-02\tStd dev: 7.34e-02\tResample: 1"
       ]
      },
      {
       "output_type": "stream",
       "stream": "stdout",
       "text": [
        "\n",
        "Loss: 1.21e-02\tError: 1.10e-01\tStd dev: 6.60e-02\tResample: 1\n",
        "Loss: 3.56e-03\tError: 5.96e-02\tStd dev: 5.75e-02\tResample: 1\n",
        "Loss: 1.33e-03\tError: 3.65e-02\tStd dev: 5.06e-02\tResample: 2\n",
        "Loss: 1.39e-03\tError: 3.72e-02\tStd dev: 4.74e-02\tResample: 2\n",
        "Loss: 2.19e-03\tError: 4.68e-02\tStd dev: 4.50e-02\tResample: 2"
       ]
      },
      {
       "output_type": "stream",
       "stream": "stdout",
       "text": [
        "\n",
        "Loss: 9.36e-04\tError: 3.06e-02\tStd dev: 4.21e-02\tResample: 2\n",
        "Loss: 8.73e-04\tError: 2.95e-02\tStd dev: 4.01e-02\tResample: 2\n",
        "Loss: 1.43e-03\tError: 3.78e-02\tStd dev: 3.89e-02\tResample: 2\n",
        "Loss: 5.58e-04\tError: 2.36e-02\tStd dev: 3.71e-02\tResample: 2\n",
        "Loss: 1.30e-03\tError: 3.61e-02\tStd dev: 3.65e-02\tResample: 2\n",
        "Loss: 1.19e-03\tError: 3.45e-02\tStd dev: 3.57e-02\tResample: 2\n",
        "Loss: 7.37e-04\tError: 2.71e-02\tStd dev: 3.52e-02\tResample: 2"
       ]
      },
      {
       "output_type": "stream",
       "stream": "stdout",
       "text": [
        "\n",
        "Loss: 9.47e-04\tError: 3.08e-02\tStd dev: 3.49e-02\tResample: 2\n",
        "Loss: 8.82e-04\tError: 2.97e-02\tStd dev: 3.53e-02\tResample: 2\n",
        "Loss: 1.08e-03\tError: 3.27e-02\tStd dev: 3.56e-02\tResample: 2\n",
        "Loss: 1.34e-03\tError: 3.63e-02\tStd dev: 3.52e-02\tResample: 2\n",
        "Loss: 4.45e-04\tError: 2.10e-02\tStd dev: 3.43e-02\tResample: 2\n",
        "Loss: 1.10e-03\tError: 3.30e-02\tStd dev: 3.34e-02\tResample: 2\n",
        "Loss: 1.11e-03\tError: 3.32e-02\tStd dev: 3.24e-02\tResample: 2"
       ]
      },
      {
       "output_type": "stream",
       "stream": "stdout",
       "text": [
        "\n",
        "Loss: 5.83e-04\tError: 2.41e-02\tStd dev: 3.14e-02\tResample: 2\n",
        "Loss: 3.31e-04\tError: 1.81e-02\tStd dev: 3.04e-02\tResample: 2\n",
        "Loss: 2.23e-04\tError: 1.48e-02\tStd dev: 2.95e-02\tResample: 2\n",
        "Loss: 4.56e-04\tError: 2.13e-02\tStd dev: 2.91e-02\tResample: 2\n",
        "Loss: 4.40e-04\tError: 2.09e-02\tStd dev: 2.86e-02\tResample: 2\n",
        "Loss: 4.65e-04\tError: 2.15e-02\tStd dev: 2.82e-02\tResample: 3"
       ]
      },
      {
       "output_type": "stream",
       "stream": "stdout",
       "text": [
        "\n",
        "Loss: 3.90e-04\tError: 1.97e-02\tStd dev: 2.78e-02\tResample: 3\n",
        "Loss: 2.97e-04\tError: 1.71e-02\tStd dev: 2.74e-02\tResample: 3\n",
        "Loss: 3.98e-04\tError: 1.98e-02\tStd dev: 2.72e-02\tResample: 3\n",
        "Loss: 2.55e-04\tError: 1.58e-02\tStd dev: 2.68e-02\tResample: 3\n",
        "Loss: 3.00e-04\tError: 1.72e-02\tStd dev: 2.67e-02\tResample: 3\n",
        "Loss: 2.99e-04\tError: 1.71e-02\tStd dev: 2.66e-02\tResample: 3\n",
        "Loss: 2.06e-04\tError: 1.41e-02\tStd dev: 2.64e-02\tResample: 3"
       ]
      },
      {
       "output_type": "stream",
       "stream": "stdout",
       "text": [
        "\n",
        "Loss: 3.00e-04\tError: 1.72e-02\tStd dev: 2.64e-02\tResample: 3\n",
        "Loss: 2.45e-04\tError: 1.54e-02\tStd dev: 2.64e-02\tResample: 3\n",
        "Loss: 2.69e-04\tError: 1.62e-02\tStd dev: 2.62e-02\tResample: 3\n",
        "Loss: 2.68e-04\tError: 1.62e-02\tStd dev: 2.63e-02\tResample: 3\n",
        "Chose theta = [   3.73521813  270.            0.63553077]."
       ]
      },
      {
       "output_type": "stream",
       "stream": "stdout",
       "text": [
        "\tLoss: 4.46e-04\tError: 2.09e-02\tStd dev: 2.62e-02\tResample: 3\n",
        "Chose theta = [   1.44197436  293.15          0.7       ]."
       ]
      },
      {
       "output_type": "stream",
       "stream": "stdout",
       "text": [
        "\tLoss: 3.37e-04\tError: 1.81e-02\tStd dev: 2.58e-02\tResample: 3\n",
        "Chose theta = [   1.44656164  293.15          0.7       ]."
       ]
      },
      {
       "output_type": "stream",
       "stream": "stdout",
       "text": [
        "\tLoss: 3.67e-04\tError: 1.89e-02\tStd dev: 2.54e-02\tResample: 3\n",
        "Chose theta = [   1.47036189  293.15          0.7       ]."
       ]
      },
      {
       "output_type": "stream",
       "stream": "stdout",
       "text": [
        "\tLoss: 3.29e-04\tError: 1.79e-02\tStd dev: 2.50e-02\tResample: 3\n",
        "Chose theta = [   1.44881681  293.15          0.7       ]."
       ]
      },
      {
       "output_type": "stream",
       "stream": "stdout",
       "text": [
        "\tLoss: 2.19e-04\tError: 1.45e-02\tStd dev: 2.47e-02\tResample: 3\n",
        "Chose theta = [   1.51701976  293.15          0.7       ]."
       ]
      },
      {
       "output_type": "stream",
       "stream": "stdout",
       "text": [
        "\tLoss: 2.63e-04\tError: 1.59e-02\tStd dev: 2.44e-02\tResample: 3\n",
        "Chose theta = [   4.57214517  293.15          0.7       ]."
       ]
      },
      {
       "output_type": "stream",
       "stream": "stdout",
       "text": [
        "\tLoss: 3.42e-04\tError: 1.83e-02\tStd dev: 2.43e-02\tResample: 3\n",
        "Chose theta = [   1.41750951  293.15          0.7       ]."
       ]
      },
      {
       "output_type": "stream",
       "stream": "stdout",
       "text": [
        "\tLoss: 3.22e-04\tError: 1.77e-02\tStd dev: 2.40e-02\tResample: 3\n",
        "Chose theta = [   1.47012004  293.15          0.7       ]."
       ]
      },
      {
       "output_type": "stream",
       "stream": "stdout",
       "text": [
        "\tLoss: 5.53e-04\tError: 2.33e-02\tStd dev: 2.38e-02\tResample: 3\n",
        "Chose theta = [   1.49404166  293.15          0.7       ]."
       ]
      },
      {
       "output_type": "stream",
       "stream": "stdout",
       "text": [
        "\tLoss: 5.06e-04\tError: 2.23e-02\tStd dev: 2.35e-02\tResample: 3\n",
        "Chose theta = [   1.1723757   270.            0.65268753]."
       ]
      },
      {
       "output_type": "stream",
       "stream": "stdout",
       "text": [
        "\tLoss: 4.17e-04\tError: 2.02e-02\tStd dev: 2.32e-02\tResample: 3\n",
        "Chose theta = [   1.45106057  293.15          0.7       ]."
       ]
      },
      {
       "output_type": "stream",
       "stream": "stdout",
       "text": [
        "\tLoss: 4.89e-04\tError: 2.19e-02\tStd dev: 2.30e-02\tResample: 3\n",
        "Chose theta = [   1.45216225  293.15          0.7       ]."
       ]
      },
      {
       "output_type": "stream",
       "stream": "stdout",
       "text": [
        "\tLoss: 5.32e-04\tError: 2.29e-02\tStd dev: 2.28e-02\tResample: 3\n",
        "Chose theta = [   1.44899016  293.15          0.7       ]."
       ]
      },
      {
       "output_type": "stream",
       "stream": "stdout",
       "text": [
        "\tLoss: 4.15e-04\tError: 2.02e-02\tStd dev: 2.26e-02\tResample: 3\n",
        "Chose theta = [   1.47358767  293.15          0.7       ]."
       ]
      },
      {
       "output_type": "stream",
       "stream": "stdout",
       "text": [
        "\tLoss: 2.96e-04\tError: 1.69e-02\tStd dev: 2.24e-02\tResample: 3\n",
        "Chose theta = [   1.44499157  293.15          0.7       ]."
       ]
      },
      {
       "output_type": "stream",
       "stream": "stdout",
       "text": [
        "\tLoss: 2.97e-04\tError: 1.70e-02\tStd dev: 2.22e-02\tResample: 3\n",
        "Chose theta = [   1.45952784  293.15          0.7       ]."
       ]
      },
      {
       "output_type": "stream",
       "stream": "stdout",
       "text": [
        "\tLoss: 3.44e-04\tError: 1.83e-02\tStd dev: 2.20e-02\tResample: 3\n",
        "Chose theta = [   4.59353478  293.15          0.7       ]."
       ]
      },
      {
       "output_type": "stream",
       "stream": "stdout",
       "text": [
        "\tLoss: 3.04e-04\tError: 1.72e-02\tStd dev: 2.19e-02\tResample: 3\n",
        "Chose theta = [   1.47317474  293.15          0.7       ]."
       ]
      },
      {
       "output_type": "stream",
       "stream": "stdout",
       "text": [
        "\tLoss: 2.81e-04\tError: 1.65e-02\tStd dev: 2.17e-02\tResample: 3\n",
        "Chose theta = [   1.44491806  293.15          0.7       ]."
       ]
      },
      {
       "output_type": "stream",
       "stream": "stdout",
       "text": [
        "\tLoss: 3.37e-04\tError: 1.81e-02\tStd dev: 2.16e-02\tResample: 3\n",
        "Chose theta = [   1.45736313  293.15          0.7       ]."
       ]
      },
      {
       "output_type": "stream",
       "stream": "stdout",
       "text": [
        "\tLoss: 3.27e-04\tError: 1.78e-02\tStd dev: 2.14e-02\tResample: 3\n",
        "Chose theta = [   1.46302744  293.15          0.7       ]."
       ]
      },
      {
       "output_type": "stream",
       "stream": "stdout",
       "text": [
        "\tLoss: 4.06e-04\tError: 1.99e-02\tStd dev: 2.12e-02\tResample: 3\n",
        "Chose theta = [   1.45305543  293.15          0.7       ]."
       ]
      },
      {
       "output_type": "stream",
       "stream": "stdout",
       "text": [
        "\tLoss: 3.97e-04\tError: 1.97e-02\tStd dev: 2.11e-02\tResample: 3\n",
        "Chose theta = [   1.09244259  310.            0.65799132]."
       ]
      },
      {
       "output_type": "stream",
       "stream": "stdout",
       "text": [
        "\tLoss: 2.58e-04\tError: 1.58e-02\tStd dev: 2.10e-02\tResample: 3\n",
        "Chose theta = [   4.59515319  293.15          0.7       ]."
       ]
      },
      {
       "output_type": "stream",
       "stream": "stdout",
       "text": [
        "\tLoss: 2.65e-04\tError: 1.60e-02\tStd dev: 2.09e-02\tResample: 3\n",
        "Chose theta = [   1.48416685  293.15          0.7       ]."
       ]
      },
      {
       "output_type": "stream",
       "stream": "stdout",
       "text": [
        "\tLoss: 2.55e-04\tError: 1.57e-02\tStd dev: 2.08e-02\tResample: 3\n",
        "Chose theta = [   1.46935657  293.15          0.7       ]."
       ]
      },
      {
       "output_type": "stream",
       "stream": "stdout",
       "text": [
        "\tLoss: 2.27e-04\tError: 1.48e-02\tStd dev: 2.07e-02\tResample: 3\n",
        "Chose theta = [   1.46251919  293.15          0.7       ]."
       ]
      },
      {
       "output_type": "stream",
       "stream": "stdout",
       "text": [
        "\tLoss: 2.06e-04\tError: 1.40e-02\tStd dev: 2.06e-02\tResample: 3\n",
        "Chose theta = [   1.50281152  293.15          0.7       ]."
       ]
      },
      {
       "output_type": "stream",
       "stream": "stdout",
       "text": [
        "\tLoss: 2.25e-04\tError: 1.47e-02\tStd dev: 2.05e-02\tResample: 3\n",
        "Chose theta = [   1.49269607  293.15          0.7       ]."
       ]
      },
      {
       "output_type": "stream",
       "stream": "stdout",
       "text": [
        "\tLoss: 2.12e-04\tError: 1.43e-02\tStd dev: 2.03e-02\tResample: 3\n",
        "Chose theta = [   1.50174432  293.15          0.7       ]."
       ]
      },
      {
       "output_type": "stream",
       "stream": "stdout",
       "text": [
        "\tLoss: 1.63e-04\tError: 1.24e-02\tStd dev: 2.02e-02\tResample: 3\n",
        "Chose theta = [   0.85315567  310.            0.72330078]."
       ]
      },
      {
       "output_type": "stream",
       "stream": "stdout",
       "text": [
        "\tLoss: 1.47e-04\tError: 1.18e-02\tStd dev: 2.01e-02\tResample: 3\n",
        "Chose theta = [   1.46670958  293.15          0.7       ]."
       ]
      },
      {
       "output_type": "stream",
       "stream": "stdout",
       "text": [
        "\tLoss: 8.46e-05\tError: 8.65e-03\tStd dev: 2.00e-02\tResample: 3\n",
        "Chose theta = [   0.92132636  310.            0.74888003]."
       ]
      },
      {
       "output_type": "stream",
       "stream": "stdout",
       "text": [
        "\tLoss: 8.68e-05\tError: 8.77e-03\tStd dev: 1.99e-02\tResample: 3\n",
        "Chose theta = [   1.48097386  293.15          0.7       ]."
       ]
      },
      {
       "output_type": "stream",
       "stream": "stdout",
       "text": [
        "\tLoss: 2.67e-05\tError: 3.87e-03\tStd dev: 1.97e-02\tResample: 4\n",
        "Chose theta = [   3.58162712  310.            0.68364618]."
       ]
      },
      {
       "output_type": "stream",
       "stream": "stdout",
       "text": [
        "\tLoss: 2.60e-05\tError: 3.80e-03\tStd dev: 1.96e-02\tResample: 4\n",
        "Chose theta = [   3.05891186  293.15          0.7       ]."
       ]
      },
      {
       "output_type": "stream",
       "stream": "stdout",
       "text": [
        "\tLoss: 1.67e-05\tError: 2.95e-03\tStd dev: 1.96e-02\tResample: 4\n",
        "Chose theta = [   6.28318531  293.72924585    0.6908315 ]."
       ]
      },
      {
       "output_type": "stream",
       "stream": "stdout",
       "text": [
        "\tLoss: 9.66e-06\tError: 8.81e-04\tStd dev: 1.95e-02\tResample: 4\n",
        "Chose theta = [   3.06690553  293.15          0.7       ]."
       ]
      },
      {
       "output_type": "stream",
       "stream": "stdout",
       "text": [
        "\tLoss: 8.70e-06\tError: 6.65e-04\tStd dev: 1.94e-02\tResample: 4\n",
        "Chose theta = [   6.28318531  292.54833581    0.69685253]."
       ]
      },
      {
       "output_type": "stream",
       "stream": "stdout",
       "text": [
        "\tLoss: 8.79e-06\tError: 6.97e-04\tStd dev: 1.94e-02\tResample: 4\n",
        "Chose theta = [   1.5111294  293.15         0.7      ]."
       ]
      },
      {
       "output_type": "stream",
       "stream": "stdout",
       "text": [
        "\tLoss: 1.34e-05\tError: 2.40e-03\tStd dev: 1.94e-02\tResample: 4\n",
        "Chose theta = [   3.08478233  293.15          0.7       ]."
       ]
      },
      {
       "output_type": "stream",
       "stream": "stdout",
       "text": [
        "\tLoss: 2.87e-05\tError: 3.98e-03\tStd dev: 1.93e-02\tResample: 4\n",
        "Chose theta = [   1.49355545  293.15          0.7       ]."
       ]
      },
      {
       "output_type": "stream",
       "stream": "stdout",
       "text": [
        "\tLoss: 2.69e-05\tError: 3.73e-03\tStd dev: 1.92e-02\tResample: 4\n",
        "Chose theta = [   3.21111093  310.            0.63248751]."
       ]
      },
      {
       "output_type": "stream",
       "stream": "stdout",
       "text": [
        "\tLoss: 1.83e-05\tError: 2.82e-03\tStd dev: 1.92e-02\tResample: 4\n",
        "Chose theta = [   6.28318531  293.05951993    0.7013201 ]."
       ]
      },
      {
       "output_type": "stream",
       "stream": "stdout",
       "text": [
        "\tLoss: 1.52e-05\tError: 1.62e-03\tStd dev: 1.91e-02\tResample: 4\n",
        "Chose theta = [   1.54907602  293.15          0.7       ]."
       ]
      },
      {
       "output_type": "stream",
       "stream": "stdout",
       "text": [
        "\tLoss: 1.59e-05\tError: 1.33e-03\tStd dev: 1.89e-02\tResample: 4\n",
        "Chose theta = [   1.5183892  293.15         0.7      ]."
       ]
      },
      {
       "output_type": "stream",
       "stream": "stdout",
       "text": [
        "\tLoss: 1.35e-05\tError: 5.53e-04\tStd dev: 1.89e-02\tResample: 4\n",
        "Chose theta = [   3.07575935  293.15          0.7       ]."
       ]
      },
      {
       "output_type": "stream",
       "stream": "stdout",
       "text": [
        "\tLoss: 1.10e-05\tError: 2.46e-04\tStd dev: 1.88e-02\tResample: 4\n",
        "Chose theta = [   1.52158102  293.15          0.7       ]."
       ]
      },
      {
       "output_type": "stream",
       "stream": "stdout",
       "text": [
        "\tLoss: 1.11e-05\tError: 8.18e-04\tStd dev: 1.88e-02\tResample: 4\n",
        "Chose theta = [   1.45927165  293.15          0.7       ]."
       ]
      },
      {
       "output_type": "stream",
       "stream": "stdout",
       "text": [
        "\tLoss: 1.16e-05\tError: 1.12e-03\tStd dev: 1.87e-02\tResample: 4\n",
        "Chose theta = [   3.1819971   310.            0.67406084]."
       ]
      },
      {
       "output_type": "stream",
       "stream": "stdout",
       "text": [
        "\tLoss: 9.47e-06\tError: 4.78e-04\tStd dev: 1.87e-02\tResample: 4\n",
        "Chose theta = [   1.49265561  293.15          0.7       ]."
       ]
      },
      {
       "output_type": "stream",
       "stream": "stdout",
       "text": [
        "\tLoss: 2.30e-05\tError: 3.49e-03\tStd dev: 1.84e-02\tResample: 4\n",
        "Chose theta = [   1.48228687  293.15          0.7       ]."
       ]
      },
      {
       "output_type": "stream",
       "stream": "stdout",
       "text": [
        "\tLoss: 1.66e-05\tError: 2.49e-03\tStd dev: 1.84e-02\tResample: 4\n",
        "Chose theta = [   6.23809734  293.15          0.7       ]."
       ]
      },
      {
       "output_type": "stream",
       "stream": "stdout",
       "text": [
        "\tLoss: 3.77e-05\tError: 4.47e-03\tStd dev: 1.81e-02\tResample: 4\n",
        "Chose theta = [   4.62431032  293.15          0.7       ]."
       ]
      },
      {
       "output_type": "stream",
       "stream": "stdout",
       "text": [
        "\tLoss: 3.37e-05\tError: 3.92e-03\tStd dev: 1.81e-02\tResample: 4\n",
        "Chose theta = [   3.28629296  270.            0.71613578]."
       ]
      },
      {
       "output_type": "stream",
       "stream": "stdout",
       "text": [
        "\tLoss: 3.43e-05\tError: 4.01e-03\tStd dev: 1.80e-02\tResample: 4\n",
        "Chose theta = [   1.50508206  293.15          0.7       ]."
       ]
      },
      {
       "output_type": "stream",
       "stream": "stdout",
       "text": [
        "\tLoss: 4.73e-05\tError: 5.33e-03\tStd dev: 1.79e-02\tResample: 4\n",
        "Chose theta = [   1.48066298  293.15          0.7       ]."
       ]
      },
      {
       "output_type": "stream",
       "stream": "stdout",
       "text": [
        "\tLoss: 2.39e-05\tError: 2.51e-03\tStd dev: 1.79e-02\tResample: 4\n",
        "Chose theta = [   1.47745423  293.15          0.7       ]."
       ]
      },
      {
       "output_type": "stream",
       "stream": "stdout",
       "text": [
        "\tLoss: 1.97e-05\tError: 1.58e-03\tStd dev: 1.79e-02\tResample: 4\n",
        "Chose theta = [   1.46836264  293.15          0.7       ]."
       ]
      },
      {
       "output_type": "stream",
       "stream": "stdout",
       "text": [
        "\tLoss: 2.68e-05\tError: 3.00e-03\tStd dev: 1.78e-02\tResample: 4\n",
        "Chose theta = [   3.46028319  270.            0.69435994]."
       ]
      },
      {
       "output_type": "stream",
       "stream": "stdout",
       "text": [
        "\tLoss: 3.01e-05\tError: 3.57e-03\tStd dev: 1.77e-02\tResample: 4\n",
        "Chose theta = [   6.18282348  293.15          0.7       ]."
       ]
      },
      {
       "output_type": "stream",
       "stream": "stdout",
       "text": [
        "\tLoss: 2.07e-05\tError: 2.67e-03\tStd dev: 1.78e-02\tResample: 4\n",
        "Chose theta = [   1.48110166  293.15          0.7       ]."
       ]
      },
      {
       "output_type": "stream",
       "stream": "stdout",
       "text": [
        "\tLoss: 1.92e-05\tError: 2.40e-03\tStd dev: 1.77e-02\tResample: 4\n",
        "Chose theta = [   1.49384897  293.15          0.7       ]."
       ]
      },
      {
       "output_type": "stream",
       "stream": "stdout",
       "text": [
        "\tLoss: 1.50e-05\tError: 1.42e-03\tStd dev: 1.77e-02\tResample: 4\n",
        "Chose theta = [   1.47485448  293.15          0.7       ]."
       ]
      },
      {
       "output_type": "stream",
       "stream": "stdout",
       "text": [
        "\tLoss: 1.26e-05\tError: 6.96e-04\tStd dev: 1.78e-02\tResample: 4\n",
        "Chose theta = [   1.4780841  293.15         0.7      ]."
       ]
      },
      {
       "output_type": "stream",
       "stream": "stdout",
       "text": [
        "\tLoss: 1.24e-05\tError: 7.00e-05\tStd dev: 1.77e-02\tResample: 4\n",
        "Chose theta = [   6.23258552  293.15          0.7       ]."
       ]
      },
      {
       "output_type": "stream",
       "stream": "stdout",
       "text": [
        "\tLoss: 1.03e-05\tError: 1.19e-03\tStd dev: 1.78e-02\tResample: 4\n",
        "Chose theta = [   3.47102977  270.            0.69115918]."
       ]
      },
      {
       "output_type": "stream",
       "stream": "stdout",
       "text": [
        "\tLoss: 7.49e-06\tError: 3.57e-04\tStd dev: 1.77e-02\tResample: 4\n",
        "Chose theta = [   6.18951977  293.15          0.7       ]."
       ]
      },
      {
       "output_type": "stream",
       "stream": "stdout",
       "text": [
        "\tLoss: 3.66e-05\tError: 3.83e-03\tStd dev: 1.72e-02\tResample: 5\n",
        "Chose theta = [   1.49688904  293.15          0.7       ]."
       ]
      },
      {
       "output_type": "stream",
       "stream": "stdout",
       "text": [
        "\tLoss: 6.61e-05\tError: 6.58e-03\tStd dev: 1.70e-02\tResample: 5\n",
        "Chose theta = [   3.0672389  293.15         0.7      ]."
       ]
      },
      {
       "output_type": "stream",
       "stream": "stdout",
       "text": [
        "\tLoss: 1.06e-04\tError: 9.03e-03\tStd dev: 1.66e-02\tResample: 5\n",
        "Chose theta = [   1.46790327  293.15          0.7       ]."
       ]
      },
      {
       "output_type": "stream",
       "stream": "stdout",
       "text": [
        "\tLoss: 1.14e-04\tError: 9.45e-03\tStd dev: 1.66e-02\tResample: 5\n",
        "Chose theta = [   3.07108721  293.15          0.7       ]."
       ]
      },
      {
       "output_type": "stream",
       "stream": "stdout",
       "text": [
        "\tLoss: 9.70e-05\tError: 8.57e-03\tStd dev: 1.67e-02\tResample: 5\n",
        "Chose theta = [   1.48547474  293.15          0.7       ]."
       ]
      },
      {
       "output_type": "stream",
       "stream": "stdout",
       "text": [
        "\tLoss: 1.08e-04\tError: 9.19e-03\tStd dev: 1.66e-02\tResample: 5\n",
        "Chose theta = [   1.46046013  293.15          0.7       ]."
       ]
      },
      {
       "output_type": "stream",
       "stream": "stdout",
       "text": [
        "\tLoss: 9.48e-05\tError: 8.44e-03\tStd dev: 1.66e-02\tResample: 5\n",
        "Chose theta = [   1.32737673  310.            0.72235812]."
       ]
      },
      {
       "output_type": "stream",
       "stream": "stdout",
       "text": [
        "\tLoss: 8.21e-05\tError: 7.66e-03\tStd dev: 1.66e-02\tResample: 5\n",
        "Chose theta = [   1.49575622  293.15          0.7       ]."
       ]
      },
      {
       "output_type": "stream",
       "stream": "stdout",
       "text": [
        "\tLoss: 8.15e-05\tError: 7.62e-03\tStd dev: 1.65e-02\tResample: 5\n",
        "Chose theta = [   0.56146624  310.            0.57313552]."
       ]
      },
      {
       "output_type": "stream",
       "stream": "stdout",
       "text": [
        "\tLoss: 8.89e-05\tError: 8.12e-03\tStd dev: 1.64e-02\tResample: 5\n",
        "Chose theta = [   1.48720658  293.15          0.7       ]."
       ]
      },
      {
       "output_type": "stream",
       "stream": "stdout",
       "text": [
        "\tLoss: 7.15e-05\tError: 6.98e-03\tStd dev: 1.65e-02\tResample: 5\n",
        "Chose theta = [   3.3596963   270.            0.68601325]."
       ]
      },
      {
       "output_type": "stream",
       "stream": "stdout",
       "text": [
        "\tLoss: 4.90e-05\tError: 5.16e-03\tStd dev: 1.65e-02\tResample: 5\n",
        "Chose theta = [   1.49160723  310.            0.71174995]."
       ]
      },
      {
       "output_type": "stream",
       "stream": "stdout",
       "text": [
        "\tLoss: 4.82e-05\tError: 5.08e-03\tStd dev: 1.65e-02\tResample: 5\n",
        "Chose theta = [   1.50239211  293.15          0.7       ]."
       ]
      },
      {
       "output_type": "stream",
       "stream": "stdout",
       "text": [
        "\tLoss: 3.74e-05\tError: 3.92e-03\tStd dev: 1.65e-02\tResample: 5\n",
        "Chose theta = [   1.51008014  293.15          0.7       ]."
       ]
      },
      {
       "output_type": "stream",
       "stream": "stdout",
       "text": [
        "\tLoss: 2.99e-05\tError: 2.86e-03\tStd dev: 1.65e-02\tResample: 5\n",
        "Chose theta = [   3.06886603  293.15          0.7       ]."
       ]
      },
      {
       "output_type": "stream",
       "stream": "stdout",
       "text": [
        "\tLoss: 3.04e-05\tError: 2.93e-03\tStd dev: 1.65e-02\tResample: 5\n",
        "Chose theta = [   1.47338842  293.15          0.7       ]."
       ]
      },
      {
       "output_type": "stream",
       "stream": "stdout",
       "text": [
        "\tLoss: 2.65e-05\tError: 2.21e-03\tStd dev: 1.65e-02\tResample: 5\n",
        "Chose theta = [   1.46765008  293.15          0.7       ]."
       ]
      },
      {
       "output_type": "stream",
       "stream": "stdout",
       "text": [
        "\tLoss: 2.42e-05\tError: 1.67e-03\tStd dev: 1.65e-02\tResample: 5\n",
        "Chose theta = [   3.16869574  310.            0.66734124]."
       ]
      },
      {
       "output_type": "stream",
       "stream": "stdout",
       "text": [
        "\tLoss: 2.38e-05\tError: 1.53e-03\tStd dev: 1.64e-02\tResample: 5\n",
        "Chose theta = [   1.4806679  293.15         0.7      ]."
       ]
      },
      {
       "output_type": "stream",
       "stream": "stdout",
       "text": [
        "\tLoss: 3.61e-05\tError: 3.75e-03\tStd dev: 1.63e-02\tResample: 5\n",
        "Chose theta = [   1.48125909  293.15          0.7       ]."
       ]
      },
      {
       "output_type": "stream",
       "stream": "stdout",
       "text": [
        "\tLoss: 2.88e-05\tError: 2.65e-03\tStd dev: 1.63e-02\tResample: 5\n",
        "Chose theta = [   1.48010889  293.15          0.7       ]."
       ]
      },
      {
       "output_type": "stream",
       "stream": "stdout",
       "text": [
        "\tLoss: 3.21e-05\tError: 3.18e-03\tStd dev: 1.62e-02\tResample: 5\n",
        "Chose theta = [   1.46492353  293.15          0.7       ]."
       ]
      },
      {
       "output_type": "stream",
       "stream": "stdout",
       "text": [
        "\tLoss: 2.54e-05\tError: 1.94e-03\tStd dev: 1.63e-02\tResample: 5\n",
        "Chose theta = [   1.48517922  293.15          0.7       ]."
       ]
      },
      {
       "output_type": "stream",
       "stream": "stdout",
       "text": [
        "\tLoss: 2.27e-05\tError: 1.17e-03\tStd dev: 1.63e-02\tResample: 5\n",
        "Chose theta = [   1.50476985  293.15          0.7       ]."
       ]
      },
      {
       "output_type": "stream",
       "stream": "stdout",
       "text": [
        "\tLoss: 2.30e-05\tError: 1.28e-03\tStd dev: 1.62e-02\tResample: 5\n",
        "Chose theta = [   3.10376  293.15       0.7    ]."
       ]
      },
      {
       "output_type": "stream",
       "stream": "stdout",
       "text": [
        "\tLoss: 2.14e-05\tError: 4.31e-04\tStd dev: 1.62e-02\tResample: 5\n",
        "Chose theta = [   3.04011671  293.15          0.7       ]."
       ]
      },
      {
       "output_type": "stream",
       "stream": "stdout",
       "text": [
        "\tLoss: 2.22e-05\tError: 9.33e-04\tStd dev: 1.62e-02\tResample: 5\n",
        "Chose theta = [   1.49060698  293.15          0.7       ]."
       ]
      },
      {
       "output_type": "stream",
       "stream": "stdout",
       "text": [
        "\tLoss: 2.19e-05\tError: 1.10e-03\tStd dev: 1.62e-02\tResample: 5\n",
        "Chose theta = [   1.14848498  270.            0.71303824]."
       ]
      },
      {
       "output_type": "stream",
       "stream": "stdout",
       "text": [
        "\tLoss: 2.36e-05\tError: 1.73e-03\tStd dev: 1.62e-02\tResample: 5\n",
        "Chose theta = [   3.07225012  293.15          0.7       ]."
       ]
      },
      {
       "output_type": "stream",
       "stream": "stdout",
       "text": [
        "\tLoss: 2.50e-05\tError: 2.13e-03\tStd dev: 1.62e-02\tResample: 5\n",
        "Chose theta = [   1.48439247  293.15          0.7       ]."
       ]
      },
      {
       "output_type": "stream",
       "stream": "stdout",
       "text": [
        "\tLoss: 2.31e-05\tError: 1.54e-03\tStd dev: 1.62e-02\tResample: 5\n",
        "Chose theta = [   6.18800259  293.15          0.7       ]."
       ]
      },
      {
       "output_type": "stream",
       "stream": "stdout",
       "text": [
        "\tLoss: 2.36e-05\tError: 1.34e-03\tStd dev: 1.61e-02\tResample: 5\n",
        "Chose theta = [   3.05380648  293.15          0.7       ]."
       ]
      },
      {
       "output_type": "stream",
       "stream": "stdout",
       "text": [
        "\tLoss: 2.67e-05\tError: 2.20e-03\tStd dev: 1.61e-02\tResample: 5\n",
        "Chose theta = [   3.05903567  293.15          0.7       ]."
       ]
      },
      {
       "output_type": "stream",
       "stream": "stdout",
       "text": [
        "\tLoss: 2.46e-05\tError: 1.67e-03\tStd dev: 1.61e-02\tResample: 5\n",
        "Chose theta = [   1.49046003  293.15          0.7       ]."
       ]
      },
      {
       "output_type": "stream",
       "stream": "stdout",
       "text": [
        "\tLoss: 2.71e-05\tError: 2.34e-03\tStd dev: 1.61e-02\tResample: 5\n",
        "Chose theta = [   1.49454353  293.15          0.7       ]."
       ]
      },
      {
       "output_type": "stream",
       "stream": "stdout",
       "text": [
        "\tLoss: 2.40e-05\tError: 1.45e-03\tStd dev: 1.60e-02\tResample: 5\n",
        "Chose theta = [   3.057118  293.15        0.7     ]."
       ]
      },
      {
       "output_type": "stream",
       "stream": "stdout",
       "text": [
        "\tLoss: 2.25e-05\tError: 5.17e-04\tStd dev: 1.59e-02\tResample: 5\n",
        "Chose theta = [   1.49305145  293.15          0.7       ]."
       ]
      },
      {
       "output_type": "stream",
       "stream": "stdout",
       "text": [
        "\tLoss: 2.38e-05\tError: 1.36e-03\tStd dev: 1.59e-02\tResample: 5\n",
        "Chose theta = [   1.50500439  293.15          0.7       ]."
       ]
      },
      {
       "output_type": "stream",
       "stream": "stdout",
       "text": [
        "\tLoss: 2.52e-05\tError: 1.86e-03\tStd dev: 1.59e-02\tResample: 5\n",
        "Chose theta = [   1.50779949  293.15          0.7       ]."
       ]
      },
      {
       "output_type": "stream",
       "stream": "stdout",
       "text": [
        "\tLoss: 2.26e-05\tError: 6.50e-04\tStd dev: 1.58e-02\tResample: 5\n",
        "Chose theta = [   1.46454915  293.15          0.7       ]."
       ]
      },
      {
       "output_type": "stream",
       "stream": "stdout",
       "text": [
        "\tLoss: 2.25e-05\tError: 4.92e-04\tStd dev: 1.58e-02\tResample: 5\n",
        "Chose theta = [   3.08508773  293.15          0.7       ]."
       ]
      },
      {
       "output_type": "stream",
       "stream": "stdout",
       "text": [
        "\tLoss: 2.25e-05\tError: 4.05e-04\tStd dev: 1.57e-02\tResample: 5\n",
        "Chose theta = [   6.19210458  293.15          0.7       ]."
       ]
      },
      {
       "output_type": "stream",
       "stream": "stdout",
       "text": [
        "\tLoss: 2.70e-05\tError: 3.39e-04\tStd dev: 1.56e-02\tResample: 5\n",
        "Chose theta = [   3.06873405  293.15          0.7       ]."
       ]
      },
      {
       "output_type": "stream",
       "stream": "stdout",
       "text": [
        "\tLoss: 2.92e-05\tError: 1.21e-03\tStd dev: 1.55e-02\tResample: 5\n",
        "Chose theta = [   3.34129078  270.            0.57842407]."
       ]
      },
      {
       "output_type": "stream",
       "stream": "stdout",
       "text": [
        "\tLoss: 3.18e-05\tError: 1.87e-03\tStd dev: 1.55e-02\tResample: 5\n",
        "Chose theta = [   1.48739018  293.15          0.7       ]."
       ]
      },
      {
       "output_type": "stream",
       "stream": "stdout",
       "text": [
        "\tLoss: 2.96e-05\tError: 1.22e-03\tStd dev: 1.55e-02\tResample: 5\n",
        "Chose theta = [   3.05784065  293.15          0.7       ]."
       ]
      },
      {
       "output_type": "stream",
       "stream": "stdout",
       "text": [
        "\tLoss: 3.58e-05\tError: 2.34e-03\tStd dev: 1.54e-02\tResample: 5\n",
        "Chose theta = [   3.30027891  310.            0.6883289 ]."
       ]
      },
      {
       "output_type": "stream",
       "stream": "stdout",
       "text": [
        "\tLoss: 3.40e-05\tError: 2.01e-03\tStd dev: 1.54e-02\tResample: 5\n",
        "Chose theta = [   0.60449952  310.            0.73255413]."
       ]
      },
      {
       "output_type": "stream",
       "stream": "stdout",
       "text": [
        "\tLoss: 3.40e-05\tError: 2.02e-03\tStd dev: 1.53e-02\tResample: 5\n",
        "Chose theta = [   1.47666511  293.15          0.7       ]."
       ]
      },
      {
       "output_type": "stream",
       "stream": "stdout",
       "text": [
        "\tLoss: 3.44e-05\tError: 2.10e-03\tStd dev: 1.53e-02\tResample: 5\n",
        "Chose theta = [   1.48790779  293.15          0.7       ]."
       ]
      },
      {
       "output_type": "stream",
       "stream": "stdout",
       "text": [
        "\tLoss: 3.35e-05\tError: 1.87e-03\tStd dev: 1.53e-02\tResample: 5\n",
        "Chose theta = [   1.49592503  293.15          0.7       ]."
       ]
      },
      {
       "output_type": "stream",
       "stream": "stdout",
       "text": [
        "\tLoss: 3.02e-05\tError: 7.50e-04\tStd dev: 1.53e-02\tResample: 5\n",
        "Chose theta = [   1.48045036  293.15          0.7       ]."
       ]
      },
      {
       "output_type": "stream",
       "stream": "stdout",
       "text": [
        "\tLoss: 3.20e-05\tError: 1.45e-03\tStd dev: 1.52e-02\tResample: 5\n",
        "Chose theta = [   1.49388182  293.15          0.7       ]."
       ]
      },
      {
       "output_type": "stream",
       "stream": "stdout",
       "text": [
        "\tLoss: 3.15e-05\tError: 1.30e-03\tStd dev: 1.52e-02\tResample: 5\n",
        "Chose theta = [   1.4713972  293.15         0.7      ]."
       ]
      },
      {
       "output_type": "stream",
       "stream": "stdout",
       "text": [
        "\tLoss: 3.45e-05\tError: 2.10e-03\tStd dev: 1.51e-02\tResample: 5\n",
        "Chose theta = [   3.06292422  293.15          0.7       ]."
       ]
      },
      {
       "output_type": "stream",
       "stream": "stdout",
       "text": [
        "\tLoss: 3.23e-05\tError: 1.72e-03\tStd dev: 1.51e-02\tResample: 5\n",
        "Chose theta = [   3.08339973  293.15          0.7       ]."
       ]
      },
      {
       "output_type": "stream",
       "stream": "stdout",
       "text": [
        "\tLoss: 3.46e-05\tError: 2.11e-03\tStd dev: 1.51e-02\tResample: 5\n",
        "Chose theta = [   3.07544208  293.15          0.7       ]."
       ]
      },
      {
       "output_type": "stream",
       "stream": "stdout",
       "text": [
        "\tLoss: 2.82e-05\tError: 6.79e-04\tStd dev: 1.52e-02\tResample: 5\n",
        "Chose theta = [   1.50314166  293.15          0.7       ]."
       ]
      },
      {
       "output_type": "stream",
       "stream": "stdout",
       "text": [
        "\tLoss: 2.78e-05\tError: 4.06e-04\tStd dev: 1.52e-02\tResample: 5\n",
        "Chose theta = [   1.4746973  293.15         0.7      ]."
       ]
      },
      {
       "output_type": "stream",
       "stream": "stdout",
       "text": [
        "\tLoss: 3.00e-05\tError: 1.40e-03\tStd dev: 1.51e-02\tResample: 5\n",
        "Chose theta = [   1.48864824  293.15          0.7       ]."
       ]
      },
      {
       "output_type": "stream",
       "stream": "stdout",
       "text": [
        "\tLoss: 3.19e-05\tError: 1.94e-03\tStd dev: 1.50e-02\tResample: 5\n",
        "Chose theta = [   0.58460436  275.22505003    0.73026013]."
       ]
      },
      {
       "output_type": "stream",
       "stream": "stdout",
       "text": [
        "\tLoss: 3.16e-05\tError: 1.81e-03\tStd dev: 1.50e-02\tResample: 5\n",
        "Chose theta = [   0.83804596  270.            0.70075782]."
       ]
      },
      {
       "output_type": "stream",
       "stream": "stdout",
       "text": [
        "\tLoss: 2.92e-05\tError: 3.10e-04\tStd dev: 1.51e-02\tResample: 5\n",
        "Chose theta = [   1.48434489  293.15          0.7       ]."
       ]
      },
      {
       "output_type": "stream",
       "stream": "stdout",
       "text": [
        "\tLoss: 2.93e-05\tError: 5.42e-04\tStd dev: 1.51e-02\tResample: 5\n",
        "Chose theta = [   1.48851339  293.15          0.7       ]."
       ]
      },
      {
       "output_type": "stream",
       "stream": "stdout",
       "text": [
        "\tLoss: 3.01e-05\tError: 1.10e-03\tStd dev: 1.51e-02\tResample: 5\n",
        "Chose theta = [   1.48210169  293.15          0.7       ]."
       ]
      },
      {
       "output_type": "stream",
       "stream": "stdout",
       "text": [
        "\tLoss: 2.98e-05\tError: 9.78e-04\tStd dev: 1.51e-02\tResample: 5\n",
        "Chose theta = [   3.04873129  293.15          0.7       ]."
       ]
      },
      {
       "output_type": "stream",
       "stream": "stdout",
       "text": [
        "\tLoss: 3.03e-05\tError: 1.35e-03\tStd dev: 1.51e-02\tResample: 5\n",
        "Chose theta = [   1.49249919  293.15          0.7       ]."
       ]
      },
      {
       "output_type": "stream",
       "stream": "stdout",
       "text": [
        "\tLoss: 2.90e-05\tError: 2.48e-04\tStd dev: 1.50e-02\tResample: 5\n",
        "Chose theta = [   1.49843817  293.15          0.7       ]."
       ]
      },
      {
       "output_type": "stream",
       "stream": "stdout",
       "text": [
        "\tLoss: 3.10e-05\tError: 1.60e-03\tStd dev: 1.51e-02\tResample: 5\n",
        "Chose theta = [   1.50087379  293.15          0.7       ]."
       ]
      },
      {
       "output_type": "stream",
       "stream": "stdout",
       "text": [
        "\tLoss: 3.18e-05\tError: 1.86e-03\tStd dev: 1.50e-02\tResample: 5\n",
        "Chose theta = [   3.06521363  293.15          0.7       ]."
       ]
      },
      {
       "output_type": "stream",
       "stream": "stdout",
       "text": [
        "\tLoss: 3.18e-05\tError: 1.83e-03\tStd dev: 1.50e-02\tResample: 5\n",
        "Chose theta = [   3.05283804  293.15          0.7       ]."
       ]
      },
      {
       "output_type": "stream",
       "stream": "stdout",
       "text": [
        "\tLoss: 3.29e-05\tError: 2.19e-03\tStd dev: 1.50e-02\tResample: 5\n",
        "Chose theta = [   1.47944314  293.15          0.7       ]."
       ]
      },
      {
       "output_type": "stream",
       "stream": "stdout",
       "text": [
        "\tLoss: 2.93e-05\tError: 8.53e-04\tStd dev: 1.49e-02\tResample: 5\n",
        "Chose theta = [   0.77895611  273.09698628    0.69753167]."
       ]
      },
      {
       "output_type": "stream",
       "stream": "stdout",
       "text": [
        "\tLoss: 2.81e-05\tError: 7.80e-06\tStd dev: 1.48e-02\tResample: 5\n",
        "Chose theta = [   1.47327677  293.15          0.7       ]."
       ]
      },
      {
       "output_type": "stream",
       "stream": "stdout",
       "text": [
        "\tLoss: 3.06e-05\tError: 1.40e-03\tStd dev: 1.48e-02\tResample: 5\n",
        "Chose theta = [   3.05282511  293.15          0.7       ]."
       ]
      },
      {
       "output_type": "stream",
       "stream": "stdout",
       "text": [
        "\tLoss: 2.82e-05\tError: 3.58e-04\tStd dev: 1.48e-02\tResample: 5\n",
        "Chose theta = [   1.48785521  293.15          0.7       ]."
       ]
      },
      {
       "output_type": "stream",
       "stream": "stdout",
       "text": [
        "\tLoss: 2.83e-05\tError: 5.73e-04\tStd dev: 1.48e-02\tResample: 5\n",
        "Chose theta = [   0.47314171  309.56129072    0.73873302]."
       ]
      },
      {
       "output_type": "stream",
       "stream": "stdout",
       "text": [
        "\tLoss: 3.18e-05\tError: 1.29e-03\tStd dev: 1.49e-02\tResample: 5\n",
        "Chose theta = [   1.46645408  293.15          0.7       ]."
       ]
      },
      {
       "output_type": "stream",
       "stream": "stdout",
       "text": [
        "\tLoss: 3.07e-05\tError: 1.16e-04\tStd dev: 1.48e-02\tResample: 5\n",
        "Chose theta = [   1.02474701  270.            0.63366929]."
       ]
      },
      {
       "output_type": "stream",
       "stream": "stdout",
       "text": [
        "\tLoss: 3.07e-05\tError: 3.31e-04\tStd dev: 1.47e-02\tResample: 5\n",
        "Chose theta = [   1.51324115  293.15          0.7       ]."
       ]
      },
      {
       "output_type": "stream",
       "stream": "stdout",
       "text": [
        "\tLoss: 3.04e-05\tError: 1.85e-04\tStd dev: 1.47e-02\tResample: 5\n",
        "Chose theta = [   3.08316785  293.15          0.7       ]."
       ]
      },
      {
       "output_type": "stream",
       "stream": "stdout",
       "text": [
        "\tLoss: 3.05e-05\tError: 2.78e-04\tStd dev: 1.47e-02\tResample: 5\n",
        "Chose theta = [   1.47029803  293.15          0.7       ]."
       ]
      },
      {
       "output_type": "stream",
       "stream": "stdout",
       "text": [
        "\tLoss: 3.07e-05\tError: 9.01e-04\tStd dev: 1.47e-02\tResample: 5\n",
        "Chose theta = [   3.07441782  293.15          0.7       ]."
       ]
      },
      {
       "output_type": "stream",
       "stream": "stdout",
       "text": [
        "\tLoss: 3.03e-05\tError: 4.68e-04\tStd dev: 1.47e-02\tResample: 5\n",
        "Chose theta = [   1.50335209  293.15          0.7       ]."
       ]
      },
      {
       "output_type": "stream",
       "stream": "stdout",
       "text": [
        "\tLoss: 3.05e-05\tError: 7.09e-04\tStd dev: 1.47e-02\tResample: 5\n",
        "Chose theta = [   1.49874359  293.15          0.7       ]."
       ]
      },
      {
       "output_type": "stream",
       "stream": "stdout",
       "text": [
        "\tLoss: 3.03e-05\tError: 4.92e-04\tStd dev: 1.46e-02\tResample: 5\n",
        "Chose theta = [   1.48453689  293.15          0.7       ]."
       ]
      },
      {
       "output_type": "stream",
       "stream": "stdout",
       "text": [
        "\tLoss: 3.02e-05\tError: 3.84e-04\tStd dev: 1.46e-02\tResample: 5\n",
        "Chose theta = [   1.05867803  310.            0.74134687]."
       ]
      },
      {
       "output_type": "stream",
       "stream": "stdout",
       "text": [
        "\tLoss: 3.42e-05\tError: 1.99e-03\tStd dev: 1.47e-02\tResample: 5\n",
        "Chose theta = [   3.06588344  293.15          0.7       ]."
       ]
      },
      {
       "output_type": "stream",
       "stream": "stdout",
       "text": [
        "\tLoss: 3.55e-05\tError: 2.30e-03\tStd dev: 1.47e-02\tResample: 5\n",
        "Chose theta = [   1.49241797  293.15          0.7       ]."
       ]
      },
      {
       "output_type": "stream",
       "stream": "stdout",
       "text": [
        "\tLoss: 3.42e-05\tError: 1.97e-03\tStd dev: 1.46e-02\tResample: 5\n",
        "Chose theta = [   3.06073843  293.15          0.7       ]."
       ]
      },
      {
       "output_type": "stream",
       "stream": "stdout",
       "text": [
        "\tLoss: 3.21e-05\tError: 1.21e-03\tStd dev: 1.46e-02\tResample: 5\n",
        "Chose theta = [   3.15866534  270.            0.6827117 ]."
       ]
      },
      {
       "output_type": "stream",
       "stream": "stdout",
       "text": [
        "\tLoss: 3.13e-05\tError: 2.88e-04\tStd dev: 1.46e-02\tResample: 5\n",
        "Chose theta = [   1.47301007  293.15          0.7       ]."
       ]
      },
      {
       "output_type": "stream",
       "stream": "stdout",
       "text": [
        "\tLoss: 3.16e-05\tError: 7.36e-04\tStd dev: 1.46e-02\tResample: 5\n",
        "Chose theta = [   1.46400726  293.15          0.7       ]."
       ]
      },
      {
       "output_type": "stream",
       "stream": "stdout",
       "text": [
        "\tLoss: 3.13e-05\tError: 2.91e-04\tStd dev: 1.45e-02\tResample: 5\n",
        "Chose theta = [   1.47200248  293.15          0.7       ]."
       ]
      },
      {
       "output_type": "stream",
       "stream": "stdout",
       "text": [
        "\tLoss: 3.26e-05\tError: 9.86e-04\tStd dev: 1.44e-02\tResample: 5\n",
        "Chose theta = [   1.46938801  293.15          0.7       ]."
       ]
      },
      {
       "output_type": "stream",
       "stream": "stdout",
       "text": [
        "\tLoss: 3.23e-05\tError: 8.26e-04\tStd dev: 1.44e-02\tResample: 5\n",
        "Chose theta = [   1.48462698  293.15          0.7       ]."
       ]
      },
      {
       "output_type": "stream",
       "stream": "stdout",
       "text": [
        "\tLoss: 3.22e-05\tError: 7.76e-04\tStd dev: 1.44e-02\tResample: 5\n",
        "Chose theta = [   3.07793458  293.15          0.7       ]."
       ]
      },
      {
       "output_type": "stream",
       "stream": "stdout",
       "text": [
        "\tLoss: 3.23e-05\tError: 8.19e-04\tStd dev: 1.44e-02\tResample: 5\n",
        "Chose theta = [   1.49575793  293.15          0.7       ]."
       ]
      },
      {
       "output_type": "stream",
       "stream": "stdout",
       "text": [
        "\tLoss: 3.14e-05\tError: 8.74e-05\tStd dev: 1.44e-02\tResample: 5\n",
        "Chose theta = [   3.08036994  293.15          0.7       ]."
       ]
      },
      {
       "output_type": "stream",
       "stream": "stdout",
       "text": [
        "\tLoss: 3.15e-05\tError: 8.77e-04\tStd dev: 1.44e-02\tResample: 5\n",
        "Chose theta = [   3.09094341  293.15          0.7       ]."
       ]
      },
      {
       "output_type": "stream",
       "stream": "stdout",
       "text": [
        "\tLoss: 3.13e-05\tError: 1.34e-04\tStd dev: 1.44e-02\tResample: 5\n",
        "Chose theta = [   1.48242483  293.15          0.7       ]."
       ]
      },
      {
       "output_type": "stream",
       "stream": "stdout",
       "text": [
        "\tLoss: 3.13e-05\tError: 1.94e-04\tStd dev: 1.44e-02\tResample: 5\n",
        "Chose theta = [   1.46454915  293.15          0.7       ]."
       ]
      },
      {
       "output_type": "stream",
       "stream": "stdout",
       "text": [
        "\tLoss: 3.25e-05\tError: 1.30e-03\tStd dev: 1.44e-02\tResample: 5\n",
        "Chose theta = [   1.4913703  293.15         0.7      ]."
       ]
      },
      {
       "output_type": "stream",
       "stream": "stdout",
       "text": [
        "\tLoss: 3.47e-05\tError: 2.04e-03\tStd dev: 1.44e-02\tResample: 5\n",
        "Chose theta = [   1.47262221  293.15          0.7       ]."
       ]
      },
      {
       "output_type": "stream",
       "stream": "stdout",
       "text": [
        "\tLoss: 3.58e-05\tError: 2.30e-03\tStd dev: 1.44e-02\tResample: 5\n",
        "Chose theta = [   0.70637531  273.80908819    0.68479637]."
       ]
      },
      {
       "output_type": "stream",
       "stream": "stdout",
       "text": [
        "\tLoss: 4.52e-05\tError: 3.53e-03\tStd dev: 1.43e-02\tResample: 6\n",
        "Chose theta = [   3.05366092  293.15          0.7       ]."
       ]
      },
      {
       "output_type": "stream",
       "stream": "stdout",
       "text": [
        "\tLoss: 4.51e-05\tError: 3.52e-03\tStd dev: 1.43e-02\tResample: 6\n",
        "Chose theta = [   6.28318531  293.6050104     0.70415822]."
       ]
      },
      {
       "output_type": "stream",
       "stream": "stdout",
       "text": [
        "\tLoss: 4.74e-05\tError: 4.51e-03\tStd dev: 1.44e-02\tResample: 6\n",
        "Chose theta = [   6.28318531  275.4594482     0.72705363]."
       ]
      },
      {
       "output_type": "stream",
       "stream": "stdout",
       "text": [
        "\tLoss: 4.52e-05\tError: 3.63e-03\tStd dev: 1.42e-02\tResample: 6\n",
        "Chose theta = [   6.20039514  293.15          0.7       ]."
       ]
      },
      {
       "output_type": "stream",
       "stream": "stdout",
       "text": [
        "\tLoss: 4.60e-05\tError: 4.15e-03\tStd dev: 1.42e-02\tResample: 6\n",
        "Chose theta = [   1.08391277  270.            0.77253417]."
       ]
      },
      {
       "output_type": "stream",
       "stream": "stdout",
       "text": [
        "\tLoss: 5.27e-05\tError: 4.87e-03\tStd dev: 1.42e-02\tResample: 6\n",
        "Chose theta = [   6.28318531  281.80604808    0.72113352]."
       ]
      },
      {
       "output_type": "stream",
       "stream": "stdout",
       "text": [
        "\tLoss: 6.22e-05\tError: 6.41e-03\tStd dev: 1.43e-02\tResample: 6\n",
        "Chose theta = [   6.28318531  293.49169121    0.70442909]."
       ]
      },
      {
       "output_type": "stream",
       "stream": "stdout",
       "text": [
        "\tLoss: 7.78e-05\tError: 7.92e-03\tStd dev: 1.43e-02\tResample: 6\n",
        "Chose theta = [   6.20253403  293.15          0.7       ]."
       ]
      },
      {
       "output_type": "stream",
       "stream": "stdout",
       "text": [
        "\tLoss: 9.14e-05\tError: 8.96e-03\tStd dev: 1.43e-02\tResample: 6\n",
        "Chose theta = [   6.17912326  293.15          0.7       ]."
       ]
      },
      {
       "output_type": "stream",
       "stream": "stdout",
       "text": [
        "\tLoss: 1.26e-04\tError: 1.10e-02\tStd dev: 1.43e-02\tResample: 6\n",
        "Chose theta = [   6.28318531  305.01146771    0.70498013]."
       ]
      },
      {
       "output_type": "stream",
       "stream": "stdout",
       "text": [
        "\tLoss: 1.43e-04\tError: 1.18e-02\tStd dev: 1.42e-02\tResample: 6\n",
        "Chose theta = [   6.19266697  293.15          0.7       ]."
       ]
      },
      {
       "output_type": "stream",
       "stream": "stdout",
       "text": [
        "\tLoss: 1.63e-04\tError: 1.26e-02\tStd dev: 1.41e-02\tResample: 7\n",
        "Chose theta = [   6.28318531  301.21944029    0.75097545]."
       ]
      },
      {
       "output_type": "stream",
       "stream": "stdout",
       "text": [
        "\tLoss: 1.80e-04\tError: 1.33e-02\tStd dev: 1.40e-02\tResample: 7\n",
        "Chose theta = [   6.28318531  288.64644477    0.71325503]."
       ]
      },
      {
       "output_type": "stream",
       "stream": "stdout",
       "text": [
        "\tLoss: 2.29e-04\tError: 1.50e-02\tStd dev: 1.38e-02\tResample: 7\n",
        "Chose theta = [   6.28318531  289.68021943    0.70394489]."
       ]
      },
      {
       "output_type": "stream",
       "stream": "stdout",
       "text": [
        "\tLoss: 1.72e-04\tError: 1.30e-02\tStd dev: 1.40e-02\tResample: 7\n",
        "Chose theta = [   1.16282016  270.            0.80995638]."
       ]
      },
      {
       "output_type": "stream",
       "stream": "stdout",
       "text": [
        "\tLoss: 1.76e-04\tError: 1.31e-02\tStd dev: 1.39e-02\tResample: 7\n",
        "Chose theta = [   6.19814734  293.15          0.7       ]."
       ]
      },
      {
       "output_type": "stream",
       "stream": "stdout",
       "text": [
        "\tLoss: 2.10e-04\tError: 1.44e-02\tStd dev: 1.38e-02\tResample: 7\n",
        "Chose theta = [   6.20980899  293.15          0.7       ]."
       ]
      },
      {
       "output_type": "stream",
       "stream": "stdout",
       "text": [
        "\tLoss: 1.53e-04\tError: 1.22e-02\tStd dev: 1.39e-02\tResample: 7\n",
        "Chose theta = [   6.20264352  293.15          0.7       ]."
       ]
      },
      {
       "output_type": "stream",
       "stream": "stdout",
       "text": [
        "\tLoss: 1.71e-04\tError: 1.30e-02\tStd dev: 1.38e-02\tResample: 7\n",
        "Chose theta = [   1.47244344  293.15          0.7       ]."
       ]
      },
      {
       "output_type": "stream",
       "stream": "stdout",
       "text": [
        "\tLoss: 1.92e-04\tError: 1.37e-02\tStd dev: 1.38e-02\tResample: 7\n",
        "Chose theta = [   6.28318531  305.12457587    0.67310168]."
       ]
      },
      {
       "output_type": "stream",
       "stream": "stdout",
       "text": [
        "\tLoss: 1.81e-04\tError: 1.33e-02\tStd dev: 1.38e-02\tResample: 7\n",
        "Chose theta = [   6.28318531  294.3494465     0.70758618]."
       ]
      },
      {
       "output_type": "stream",
       "stream": "stdout",
       "text": [
        "\tLoss: 1.48e-04\tError: 1.20e-02\tStd dev: 1.39e-02\tResample: 7\n",
        "Chose theta = [   1.4578952  293.15         0.7      ]."
       ]
      },
      {
       "output_type": "stream",
       "stream": "stdout",
       "text": [
        "\tLoss: 1.65e-04\tError: 1.27e-02\tStd dev: 1.39e-02\tResample: 7\n",
        "Chose theta = [   6.28318531  270.16366349    0.62454462]."
       ]
      },
      {
       "output_type": "stream",
       "stream": "stdout",
       "text": [
        "\tLoss: 1.46e-04\tError: 1.19e-02\tStd dev: 1.38e-02\tResample: 7\n",
        "Chose theta = [   1.4774759  293.15         0.7      ]."
       ]
      },
      {
       "output_type": "stream",
       "stream": "stdout",
       "text": [
        "\tLoss: 1.55e-04\tError: 1.22e-02\tStd dev: 1.38e-02\tResample: 7\n",
        "Chose theta = [   6.28318531  274.70189966    0.54736207]."
       ]
      },
      {
       "output_type": "stream",
       "stream": "stdout",
       "text": [
        "\tLoss: 1.95e-04\tError: 1.38e-02\tStd dev: 1.37e-02\tResample: 7\n",
        "Chose theta = [   6.28318531  279.09712125    0.81033457]."
       ]
      },
      {
       "output_type": "stream",
       "stream": "stdout",
       "text": [
        "\tLoss: 2.38e-04\tError: 1.53e-02\tStd dev: 1.36e-02\tResample: 7\n",
        "0.899 \u00b1 0.00429\t"
       ]
      },
      {
       "output_type": "stream",
       "stream": "stdout",
       "text": [
        " -0.000568 \u00b1 0.00239\t 0.0997 \u00b1 0.0136\t 1.02 \u00b1 0.00472\t -1.02 \u00b1 0.00571\t\n",
        "[ 0.9        0.         0.0844303  1.02     ]\n",
        "Loss: 3.85e-03\tError: 6.20e-02\tStd dev: 4.95e-02\tResample: 1"
       ]
      },
      {
       "output_type": "stream",
       "stream": "stdout",
       "text": [
        "\n",
        "Loss: 2.90e-03\tError: 5.39e-02\tStd dev: 4.07e-02\tResample: 1\n",
        "Loss: 2.28e-03\tError: 4.77e-02\tStd dev: 3.52e-02\tResample: 1\n",
        "Loss: 2.06e-03\tError: 4.53e-02\tStd dev: 3.26e-02\tResample: 1\n",
        "Loss: 1.15e-03\tError: 3.39e-02\tStd dev: 2.55e-02\tResample: 1\n",
        "Loss: 9.81e-04\tError: 3.12e-02\tStd dev: 2.35e-02\tResample: 1\n",
        "Loss: 8.43e-04\tError: 2.89e-02\tStd dev: 2.18e-02\tResample: 1\n",
        "Loss: 8.78e-04\tError: 2.95e-02\tStd dev: 2.20e-02\tResample: 1"
       ]
      },
      {
       "output_type": "stream",
       "stream": "stdout",
       "text": [
        "\n",
        "Loss: 9.35e-04\tError: 3.05e-02\tStd dev: 2.24e-02\tResample: 1\n",
        "Loss: 9.51e-04\tError: 3.08e-02\tStd dev: 2.26e-02\tResample: 1\n",
        "Loss: 9.90e-04\tError: 3.14e-02\tStd dev: 2.29e-02\tResample: 1\n",
        "Loss: 1.04e-03\tError: 3.22e-02\tStd dev: 2.32e-02\tResample: 1\n",
        "Loss: 8.50e-04\tError: 2.91e-02\tStd dev: 2.11e-02\tResample: 1\n",
        "Loss: 5.95e-04\tError: 2.43e-02\tStd dev: 1.73e-02\tResample: 2"
       ]
      },
      {
       "output_type": "stream",
       "stream": "stdout",
       "text": [
        "\n",
        "Loss: 6.13e-04\tError: 2.47e-02\tStd dev: 1.73e-02\tResample: 2\n",
        "Loss: 6.35e-04\tError: 2.52e-02\tStd dev: 1.73e-02\tResample: 2\n",
        "Loss: 5.32e-04\tError: 2.30e-02\tStd dev: 1.58e-02\tResample: 2\n",
        "Loss: 5.24e-04\tError: 2.28e-02\tStd dev: 1.55e-02\tResample: 2\n",
        "Loss: 5.18e-04\tError: 2.27e-02\tStd dev: 1.53e-02\tResample: 2\n",
        "Loss: 5.70e-04\tError: 2.38e-02\tStd dev: 1.58e-02\tResample: 2\n",
        "Loss: 5.58e-04\tError: 2.36e-02\tStd dev: 1.55e-02\tResample: 2"
       ]
      },
      {
       "output_type": "stream",
       "stream": "stdout",
       "text": [
        "\n",
        "Loss: 4.81e-04\tError: 2.18e-02\tStd dev: 1.45e-02\tResample: 2\n",
        "Loss: 4.32e-04\tError: 2.06e-02\tStd dev: 1.38e-02\tResample: 2\n",
        "Loss: 4.15e-04\tError: 2.01e-02\tStd dev: 1.35e-02\tResample: 2\n",
        "Loss: 3.89e-04\tError: 1.94e-02\tStd dev: 1.31e-02\tResample: 2\n",
        "Loss: 4.34e-04\tError: 2.06e-02\tStd dev: 1.37e-02\tResample: 2\n",
        "Loss: 4.30e-04\tError: 2.05e-02\tStd dev: 1.36e-02\tResample: 2\n",
        "Loss: 4.51e-04\tError: 2.10e-02\tStd dev: 1.39e-02\tResample: 2"
       ]
      },
      {
       "output_type": "stream",
       "stream": "stdout",
       "text": [
        "\n",
        "Loss: 4.58e-04\tError: 2.11e-02\tStd dev: 1.40e-02\tResample: 2\n",
        "Loss: 4.56e-04\tError: 2.09e-02\tStd dev: 1.40e-02\tResample: 2\n",
        "Loss: 4.58e-04\tError: 2.10e-02\tStd dev: 1.40e-02\tResample: 2\n",
        "Loss: 4.62e-04\tError: 2.11e-02\tStd dev: 1.40e-02\tResample: 2\n",
        "Loss: 4.29e-04\tError: 1.99e-02\tStd dev: 1.31e-02\tResample: 3"
       ]
      },
      {
       "output_type": "stream",
       "stream": "stdout",
       "text": [
        "\n",
        "Loss: 4.53e-04\tError: 2.07e-02\tStd dev: 1.35e-02\tResample: 3\n",
        "Loss: 4.24e-04\tError: 1.97e-02\tStd dev: 1.30e-02\tResample: 3\n",
        "Loss: 4.13e-04\tError: 1.92e-02\tStd dev: 1.27e-02\tResample: 3\n",
        "Loss: 4.02e-04\tError: 1.88e-02\tStd dev: 1.25e-02\tResample: 3\n",
        "Loss: 3.90e-04\tError: 1.83e-02\tStd dev: 1.22e-02\tResample: 3\n",
        "Loss: 3.84e-04\tError: 1.81e-02\tStd dev: 1.21e-02\tResample: 3\n",
        "Loss: 3.87e-04\tError: 1.82e-02\tStd dev: 1.21e-02\tResample: 3"
       ]
      },
      {
       "output_type": "stream",
       "stream": "stdout",
       "text": [
        "\n",
        "Chose theta = [   1.62287686  293.15          0.7       ]."
       ]
      },
      {
       "output_type": "stream",
       "stream": "stdout",
       "text": [
        "\tLoss: 3.91e-04\tError: 1.83e-02\tStd dev: 1.21e-02\tResample: 3\n",
        "Chose theta = [   1.62345851  293.15          0.7       ]."
       ]
      },
      {
       "output_type": "stream",
       "stream": "stdout",
       "text": [
        "\tLoss: 3.91e-04\tError: 1.83e-02\tStd dev: 1.21e-02\tResample: 3\n",
        "Chose theta = [   1.62098375  293.15          0.7       ]."
       ]
      },
      {
       "output_type": "stream",
       "stream": "stdout",
       "text": [
        "\tLoss: 3.92e-04\tError: 1.83e-02\tStd dev: 1.22e-02\tResample: 3\n",
        "Chose theta = [   2.54360584  310.            0.69809197]."
       ]
      },
      {
       "output_type": "stream",
       "stream": "stdout",
       "text": [
        "\tLoss: 3.62e-04\tError: 1.74e-02\tStd dev: 1.17e-02\tResample: 3\n",
        "Chose theta = [   1.65235955  293.15          0.7       ]."
       ]
      },
      {
       "output_type": "stream",
       "stream": "stdout",
       "text": [
        "\tLoss: 3.59e-04\tError: 1.73e-02\tStd dev: 1.16e-02\tResample: 3\n",
        "Chose theta = [   1.63888397  293.15          0.7       ]."
       ]
      },
      {
       "output_type": "stream",
       "stream": "stdout",
       "text": [
        "\tLoss: 3.67e-04\tError: 1.75e-02\tStd dev: 1.17e-02\tResample: 3\n",
        "Chose theta = [   1.63870394  293.15          0.7       ]."
       ]
      },
      {
       "output_type": "stream",
       "stream": "stdout",
       "text": [
        "\tLoss: 3.67e-04\tError: 1.75e-02\tStd dev: 1.17e-02\tResample: 3\n",
        "Chose theta = [   1.61263791  293.15          0.7       ]."
       ]
      },
      {
       "output_type": "stream",
       "stream": "stdout",
       "text": [
        "\tLoss: 3.65e-04\tError: 1.75e-02\tStd dev: 1.17e-02\tResample: 3\n",
        "Chose theta = [   2.01120666  310.            0.73295504]."
       ]
      },
      {
       "output_type": "stream",
       "stream": "stdout",
       "text": [
        "\tLoss: 3.78e-04\tError: 1.79e-02\tStd dev: 1.19e-02\tResample: 3\n",
        "Chose theta = [   1.62607901  293.15          0.7       ]."
       ]
      },
      {
       "output_type": "stream",
       "stream": "stdout",
       "text": [
        "\tLoss: 3.76e-04\tError: 1.78e-02\tStd dev: 1.18e-02\tResample: 3\n",
        "Chose theta = [   4.76729435  293.15          0.7       ]."
       ]
      },
      {
       "output_type": "stream",
       "stream": "stdout",
       "text": [
        "\tLoss: 3.88e-04\tError: 1.85e-02\tStd dev: 1.20e-02\tResample: 3\n",
        "Chose theta = [   1.61823429  293.15          0.7       ]."
       ]
      },
      {
       "output_type": "stream",
       "stream": "stdout",
       "text": [
        "\tLoss: 3.89e-04\tError: 1.85e-02\tStd dev: 1.20e-02\tResample: 3\n",
        "Chose theta = [   1.62987099  293.15          0.7       ]."
       ]
      },
      {
       "output_type": "stream",
       "stream": "stdout",
       "text": [
        "\tLoss: 3.89e-04\tError: 1.86e-02\tStd dev: 1.21e-02\tResample: 3\n",
        "Chose theta = [   2.1359584   310.            0.74877982]."
       ]
      },
      {
       "output_type": "stream",
       "stream": "stdout",
       "text": [
        "\tLoss: 4.03e-04\tError: 1.89e-02\tStd dev: 1.22e-02\tResample: 3\n",
        "Chose theta = [   4.75674148  293.15          0.7       ]."
       ]
      },
      {
       "output_type": "stream",
       "stream": "stdout",
       "text": [
        "\tLoss: 4.18e-04\tError: 1.96e-02\tStd dev: 1.24e-02\tResample: 3\n",
        "Chose theta = [   1.61455524  293.15          0.7       ]."
       ]
      },
      {
       "output_type": "stream",
       "stream": "stdout",
       "text": [
        "\tLoss: 4.19e-04\tError: 1.96e-02\tStd dev: 1.24e-02\tResample: 3\n",
        "Chose theta = [   1.63613081  293.15          0.7       ]."
       ]
      },
      {
       "output_type": "stream",
       "stream": "stdout",
       "text": [
        "\tLoss: 4.18e-04\tError: 1.96e-02\tStd dev: 1.24e-02\tResample: 3\n",
        "Chose theta = [   4.7650949  293.15         0.7      ]."
       ]
      },
      {
       "output_type": "stream",
       "stream": "stdout",
       "text": [
        "\tLoss: 4.21e-04\tError: 1.97e-02\tStd dev: 1.24e-02\tResample: 3\n",
        "Chose theta = [   4.75708973  293.15          0.7       ]."
       ]
      },
      {
       "output_type": "stream",
       "stream": "stdout",
       "text": [
        "\tLoss: 4.38e-04\tError: 2.03e-02\tStd dev: 1.23e-02\tResample: 4\n",
        "Chose theta = [  6.36844918e-02   2.93150000e+02   7.00000000e-01]."
       ]
      },
      {
       "output_type": "stream",
       "stream": "stdout",
       "text": [
        "\tLoss: 4.14e-04\tError: 1.97e-02\tStd dev: 1.20e-02\tResample: 4\n",
        "Chose theta = [  2.97933590e-02   2.93150000e+02   7.00000000e-01]."
       ]
      },
      {
       "output_type": "stream",
       "stream": "stdout",
       "text": [
        "\tLoss: 4.07e-04\tError: 1.95e-02\tStd dev: 1.19e-02\tResample: 4\n",
        "Chose theta = [   0.          305.59898399    0.66291215]."
       ]
      },
      {
       "output_type": "stream",
       "stream": "stdout",
       "text": [
        "\tLoss: 3.68e-04\tError: 1.85e-02\tStd dev: 1.14e-02\tResample: 4\n",
        "Chose theta = [   0.          293.09985462    0.70110777]."
       ]
      },
      {
       "output_type": "stream",
       "stream": "stdout",
       "text": [
        "\tLoss: 3.05e-04\tError: 1.67e-02\tStd dev: 1.06e-02\tResample: 4\n",
        "Chose theta = [   4.76492432  293.15          0.7       ]."
       ]
      },
      {
       "output_type": "stream",
       "stream": "stdout",
       "text": [
        "\tLoss: 3.10e-04\tError: 1.70e-02\tStd dev: 1.07e-02\tResample: 4\n",
        "Chose theta = [   3.19818008  293.15          0.7       ]."
       ]
      },
      {
       "output_type": "stream",
       "stream": "stdout",
       "text": [
        "\tLoss: 2.57e-04\tError: 1.50e-02\tStd dev: 9.77e-03\tResample: 4\n",
        "Chose theta = [   4.76316493  293.15          0.7       ]."
       ]
      },
      {
       "output_type": "stream",
       "stream": "stdout",
       "text": [
        "\tLoss: 2.53e-04\tError: 1.48e-02\tStd dev: 9.67e-03\tResample: 4\n",
        "Chose theta = [   4.39433683  270.            0.77754558]."
       ]
      },
      {
       "output_type": "stream",
       "stream": "stdout",
       "text": [
        "\tLoss: 2.55e-04\tError: 1.49e-02\tStd dev: 9.70e-03\tResample: 4\n",
        "Chose theta = [   4.75996031  293.15          0.7       ]."
       ]
      },
      {
       "output_type": "stream",
       "stream": "stdout",
       "text": [
        "\tLoss: 2.57e-04\tError: 1.50e-02\tStd dev: 9.76e-03\tResample: 4\n",
        "Chose theta = [   1.62198947  293.15          0.7       ]."
       ]
      },
      {
       "output_type": "stream",
       "stream": "stdout",
       "text": [
        "\tLoss: 2.59e-04\tError: 1.51e-02\tStd dev: 9.79e-03\tResample: 4\n",
        "Chose theta = [   1.82840231  270.            0.56911471]."
       ]
      },
      {
       "output_type": "stream",
       "stream": "stdout",
       "text": [
        "\tLoss: 2.47e-04\tError: 1.47e-02\tStd dev: 9.58e-03\tResample: 4\n",
        "Chose theta = [   4.75646497  293.15          0.7       ]."
       ]
      },
      {
       "output_type": "stream",
       "stream": "stdout",
       "text": [
        "\tLoss: 2.46e-04\tError: 1.46e-02\tStd dev: 9.53e-03\tResample: 4\n",
        "Chose theta = [   4.75809238  293.15          0.7       ]."
       ]
      },
      {
       "output_type": "stream",
       "stream": "stdout",
       "text": [
        "\tLoss: 2.47e-04\tError: 1.46e-02\tStd dev: 9.55e-03\tResample: 4\n",
        "Chose theta = [   1.87705279  270.            0.69501546]."
       ]
      },
      {
       "output_type": "stream",
       "stream": "stdout",
       "text": [
        "\tLoss: 2.32e-04\tError: 1.40e-02\tStd dev: 9.25e-03\tResample: 4\n",
        "Chose theta = [   4.75142165  293.15          0.7       ]."
       ]
      },
      {
       "output_type": "stream",
       "stream": "stdout",
       "text": [
        "\tLoss: 2.32e-04\tError: 1.40e-02\tStd dev: 9.24e-03\tResample: 4\n",
        "Chose theta = [   1.61929221  293.15          0.7       ]."
       ]
      },
      {
       "output_type": "stream",
       "stream": "stdout",
       "text": [
        "\tLoss: 2.32e-04\tError: 1.40e-02\tStd dev: 9.24e-03\tResample: 4\n",
        "Chose theta = [   4.7613396  293.15         0.7      ]."
       ]
      },
      {
       "output_type": "stream",
       "stream": "stdout",
       "text": [
        "\tLoss: 2.31e-04\tError: 1.38e-02\tStd dev: 9.16e-03\tResample: 4\n",
        "Chose theta = [   1.6308481  293.15         0.7      ]."
       ]
      },
      {
       "output_type": "stream",
       "stream": "stdout",
       "text": [
        "\tLoss: 2.32e-04\tError: 1.39e-02\tStd dev: 9.16e-03\tResample: 4\n",
        "Chose theta = [   1.65094041  293.15          0.7       ]."
       ]
      },
      {
       "output_type": "stream",
       "stream": "stdout",
       "text": [
        "\tLoss: 2.32e-04\tError: 1.39e-02\tStd dev: 9.16e-03\tResample: 4\n",
        "Chose theta = [   1.63609417  293.15          0.7       ]."
       ]
      },
      {
       "output_type": "stream",
       "stream": "stdout",
       "text": [
        "\tLoss: 2.32e-04\tError: 1.39e-02\tStd dev: 9.16e-03\tResample: 4\n",
        "Chose theta = [   1.64983285  293.15          0.7       ]."
       ]
      },
      {
       "output_type": "stream",
       "stream": "stdout",
       "text": [
        "\tLoss: 2.32e-04\tError: 1.38e-02\tStd dev: 9.14e-03\tResample: 4\n",
        "Chose theta = [   4.76795767  293.15          0.7       ]."
       ]
      },
      {
       "output_type": "stream",
       "stream": "stdout",
       "text": [
        "\tLoss: 2.32e-04\tError: 1.37e-02\tStd dev: 9.07e-03\tResample: 4\n",
        "Chose theta = [   1.61593727  293.15          0.7       ]."
       ]
      },
      {
       "output_type": "stream",
       "stream": "stdout",
       "text": [
        "\tLoss: 2.32e-04\tError: 1.37e-02\tStd dev: 9.07e-03\tResample: 4\n",
        "Chose theta = [   4.76659505  293.15          0.7       ]."
       ]
      },
      {
       "output_type": "stream",
       "stream": "stdout",
       "text": [
        "\tLoss: 2.32e-04\tError: 1.37e-02\tStd dev: 9.06e-03\tResample: 4\n",
        "Chose theta = [   1.61674472  293.15          0.7       ]."
       ]
      },
      {
       "output_type": "stream",
       "stream": "stdout",
       "text": [
        "\tLoss: 2.31e-04\tError: 1.37e-02\tStd dev: 9.08e-03\tResample: 4\n",
        "Chose theta = [   1.61664264  293.15          0.7       ]."
       ]
      },
      {
       "output_type": "stream",
       "stream": "stdout",
       "text": [
        "\tLoss: 2.31e-04\tError: 1.37e-02\tStd dev: 9.08e-03\tResample: 4\n",
        "Chose theta = [   3.18161263  293.15          0.7       ]."
       ]
      },
      {
       "output_type": "stream",
       "stream": "stdout",
       "text": [
        "\tLoss: 2.23e-04\tError: 1.33e-02\tStd dev: 8.71e-03\tResample: 5\n",
        "Chose theta = [   0.          293.35800326    0.70360488]."
       ]
      },
      {
       "output_type": "stream",
       "stream": "stdout",
       "text": [
        "\tLoss: 2.44e-04\tError: 1.41e-02\tStd dev: 9.06e-03\tResample: 5\n",
        "Chose theta = [   1.63270583  293.15          0.7       ]."
       ]
      },
      {
       "output_type": "stream",
       "stream": "stdout",
       "text": [
        "\tLoss: 2.45e-04\tError: 1.41e-02\tStd dev: 9.06e-03\tResample: 5\n",
        "Chose theta = [   0.          293.27280735    0.70073255]."
       ]
      },
      {
       "output_type": "stream",
       "stream": "stdout",
       "text": [
        "\tLoss: 2.64e-04\tError: 1.47e-02\tStd dev: 9.34e-03\tResample: 5\n",
        "Chose theta = [   0.          293.12303091    0.6998627 ]."
       ]
      },
      {
       "output_type": "stream",
       "stream": "stdout",
       "text": [
        "\tLoss: 2.47e-04\tError: 1.42e-02\tStd dev: 9.03e-03\tResample: 5\n",
        "Chose theta = [   4.76222747  293.15          0.7       ]."
       ]
      },
      {
       "output_type": "stream",
       "stream": "stdout",
       "text": [
        "\tLoss: 2.47e-04\tError: 1.43e-02\tStd dev: 9.11e-03\tResample: 5\n",
        "Chose theta = [  3.64738756e-02   2.93150000e+02   7.00000000e-01]."
       ]
      },
      {
       "output_type": "stream",
       "stream": "stdout",
       "text": [
        "\tLoss: 2.42e-04\tError: 1.41e-02\tStd dev: 9.00e-03\tResample: 5\n",
        "Chose theta = [   0.          292.99556829    0.69990769]."
       ]
      },
      {
       "output_type": "stream",
       "stream": "stdout",
       "text": [
        "\tLoss: 2.23e-04\tError: 1.35e-02\tStd dev: 8.64e-03\tResample: 5\n",
        "Chose theta = [   0.          293.12594745    0.70002149]."
       ]
      },
      {
       "output_type": "stream",
       "stream": "stdout",
       "text": [
        "\tLoss: 2.17e-04\tError: 1.32e-02\tStd dev: 8.50e-03\tResample: 5\n",
        "Chose theta = [   0.          289.87248235    0.70330336]."
       ]
      },
      {
       "output_type": "stream",
       "stream": "stdout",
       "text": [
        "\tLoss: 1.71e-04\tError: 1.15e-02\tStd dev: 7.56e-03\tResample: 5\n",
        "Chose theta = [   4.75845101  293.15          0.7       ]."
       ]
      },
      {
       "output_type": "stream",
       "stream": "stdout",
       "text": [
        "\tLoss: 1.71e-04\tError: 1.15e-02\tStd dev: 7.57e-03\tResample: 5\n",
        "Chose theta = [   0.          294.43256153    0.70719517]."
       ]
      },
      {
       "output_type": "stream",
       "stream": "stdout",
       "text": [
        "\tLoss: 1.52e-04\tError: 1.07e-02\tStd dev: 7.11e-03\tResample: 5\n",
        "Chose theta = [   4.76411626  293.15          0.7       ]."
       ]
      },
      {
       "output_type": "stream",
       "stream": "stdout",
       "text": [
        "\tLoss: 1.52e-04\tError: 1.07e-02\tStd dev: 7.12e-03\tResample: 5\n",
        "Chose theta = [   4.76323602  293.15          0.7       ]."
       ]
      },
      {
       "output_type": "stream",
       "stream": "stdout",
       "text": [
        "\tLoss: 1.56e-04\tError: 1.06e-02\tStd dev: 7.07e-03\tResample: 5\n",
        "Chose theta = [   4.49379908  310.            0.75231669]."
       ]
      },
      {
       "output_type": "stream",
       "stream": "stdout",
       "text": [
        "\tLoss: 1.56e-04\tError: 1.06e-02\tStd dev: 7.06e-03\tResample: 5\n",
        "Chose theta = [   1.61755823  293.15          0.7       ]."
       ]
      },
      {
       "output_type": "stream",
       "stream": "stdout",
       "text": [
        "\tLoss: 1.56e-04\tError: 1.06e-02\tStd dev: 7.07e-03\tResample: 5\n",
        "Chose theta = [   4.75453232  293.15          0.7       ]."
       ]
      },
      {
       "output_type": "stream",
       "stream": "stdout",
       "text": [
        "\tLoss: 1.54e-04\tError: 1.06e-02\tStd dev: 7.09e-03\tResample: 5\n",
        "Chose theta = [   4.75496031  293.15          0.7       ]."
       ]
      },
      {
       "output_type": "stream",
       "stream": "stdout",
       "text": [
        "\tLoss: 1.54e-04\tError: 1.06e-02\tStd dev: 7.09e-03\tResample: 5\n",
        "Chose theta = [   4.76405148  293.15          0.7       ]."
       ]
      },
      {
       "output_type": "stream",
       "stream": "stdout",
       "text": [
        "\tLoss: 1.53e-04\tError: 1.07e-02\tStd dev: 7.11e-03\tResample: 5\n",
        "Chose theta = [   4.74820792  293.15          0.7       ]."
       ]
      },
      {
       "output_type": "stream",
       "stream": "stdout",
       "text": [
        "\tLoss: 1.54e-04\tError: 1.06e-02\tStd dev: 7.10e-03\tResample: 5\n",
        "Chose theta = [   1.61743366  293.15          0.7       ]."
       ]
      },
      {
       "output_type": "stream",
       "stream": "stdout",
       "text": [
        "\tLoss: 1.54e-04\tError: 1.07e-02\tStd dev: 7.11e-03\tResample: 5\n",
        "Chose theta = [   0.          293.20656737    0.70002576]."
       ]
      },
      {
       "output_type": "stream",
       "stream": "stdout",
       "text": [
        "\tLoss: 1.61e-04\tError: 1.10e-02\tStd dev: 7.27e-03\tResample: 5\n",
        "Chose theta = [   1.61521525  293.15          0.7       ]."
       ]
      },
      {
       "output_type": "stream",
       "stream": "stdout",
       "text": [
        "\tLoss: 1.61e-04\tError: 1.09e-02\tStd dev: 7.23e-03\tResample: 5\n",
        "Chose theta = [   4.76191509  293.15          0.7       ]."
       ]
      },
      {
       "output_type": "stream",
       "stream": "stdout",
       "text": [
        "\tLoss: 1.58e-04\tError: 1.10e-02\tStd dev: 7.26e-03\tResample: 5\n",
        "Chose theta = [   4.76201807  293.15          0.7       ]."
       ]
      },
      {
       "output_type": "stream",
       "stream": "stdout",
       "text": [
        "\tLoss: 1.57e-04\tError: 1.10e-02\tStd dev: 7.28e-03\tResample: 5\n",
        "Chose theta = [   4.75119417  293.15          0.7       ]."
       ]
      },
      {
       "output_type": "stream",
       "stream": "stdout",
       "text": [
        "\tLoss: 1.57e-04\tError: 1.10e-02\tStd dev: 7.28e-03\tResample: 5\n",
        "Chose theta = [   4.77427416  293.15          0.7       ]."
       ]
      },
      {
       "output_type": "stream",
       "stream": "stdout",
       "text": [
        "\tLoss: 1.57e-04\tError: 1.10e-02\tStd dev: 7.28e-03\tResample: 5\n",
        "Chose theta = [   4.74601475  293.15          0.7       ]."
       ]
      },
      {
       "output_type": "stream",
       "stream": "stdout",
       "text": [
        "\tLoss: 1.56e-04\tError: 1.10e-02\tStd dev: 7.30e-03\tResample: 5\n",
        "Chose theta = [   4.74641093  293.15          0.7       ]."
       ]
      },
      {
       "output_type": "stream",
       "stream": "stdout",
       "text": [
        "\tLoss: 1.57e-04\tError: 1.11e-02\tStd dev: 7.31e-03\tResample: 5\n",
        "Chose theta = [   4.74370687  293.15          0.7       ]."
       ]
      },
      {
       "output_type": "stream",
       "stream": "stdout",
       "text": [
        "\tLoss: 1.57e-04\tError: 1.11e-02\tStd dev: 7.31e-03\tResample: 5\n",
        "Chose theta = [   0.          292.67953873    0.69847924]."
       ]
      },
      {
       "output_type": "stream",
       "stream": "stdout",
       "text": [
        "\tLoss: 1.49e-04\tError: 1.07e-02\tStd dev: 7.11e-03\tResample: 5\n",
        "Chose theta = [   4.7563931  293.15         0.7      ]."
       ]
      },
      {
       "output_type": "stream",
       "stream": "stdout",
       "text": [
        "\tLoss: 1.53e-04\tError: 1.09e-02\tStd dev: 7.04e-03\tResample: 6\n",
        "Chose theta = [   3.19318272  293.15          0.7       ]."
       ]
      },
      {
       "output_type": "stream",
       "stream": "stdout",
       "text": [
        "\tLoss: 1.62e-04\tError: 1.16e-02\tStd dev: 7.37e-03\tResample: 6\n",
        "Chose theta = [   3.19154328  293.15          0.7       ]."
       ]
      },
      {
       "output_type": "stream",
       "stream": "stdout",
       "text": [
        "\tLoss: 1.58e-04\tError: 1.14e-02\tStd dev: 7.23e-03\tResample: 6\n",
        "Chose theta = [   6.28318531  303.84442861    0.86477255]."
       ]
      },
      {
       "output_type": "stream",
       "stream": "stdout",
       "text": [
        "\tLoss: 1.57e-04\tError: 1.16e-02\tStd dev: 7.34e-03\tResample: 6\n",
        "Chose theta = [   6.28318531  293.12932279    0.69994968]."
       ]
      },
      {
       "output_type": "stream",
       "stream": "stdout",
       "text": [
        "\tLoss: 1.59e-04\tError: 1.14e-02\tStd dev: 7.23e-03\tResample: 6\n",
        "Chose theta = [   3.18282956  293.15          0.7       ]."
       ]
      },
      {
       "output_type": "stream",
       "stream": "stdout",
       "text": [
        "\tLoss: 1.57e-04\tError: 1.12e-02\tStd dev: 7.12e-03\tResample: 6\n",
        "Chose theta = [   6.28318531  288.84124757    0.735394  ]."
       ]
      },
      {
       "output_type": "stream",
       "stream": "stdout",
       "text": [
        "\tLoss: 1.60e-04\tError: 1.08e-02\tStd dev: 6.94e-03\tResample: 6\n",
        "Chose theta = [   6.28318531  291.86559731    0.68664557]."
       ]
      },
      {
       "output_type": "stream",
       "stream": "stdout",
       "text": [
        "\tLoss: 1.61e-04\tError: 1.07e-02\tStd dev: 6.89e-03\tResample: 6\n",
        "Chose theta = [   3.88690164  310.            0.72963209]."
       ]
      },
      {
       "output_type": "stream",
       "stream": "stdout",
       "text": [
        "\tLoss: 1.61e-04\tError: 1.07e-02\tStd dev: 6.91e-03\tResample: 6\n",
        "Chose theta = [   6.28318531  297.15107509    0.71845742]."
       ]
      },
      {
       "output_type": "stream",
       "stream": "stdout",
       "text": [
        "\tLoss: 1.62e-04\tError: 1.06e-02\tStd dev: 6.86e-03\tResample: 6\n",
        "Chose theta = [   6.28318531  296.93621707    0.69262623]."
       ]
      },
      {
       "output_type": "stream",
       "stream": "stdout",
       "text": [
        "\tLoss: 1.61e-04\tError: 1.09e-02\tStd dev: 6.97e-03\tResample: 6\n",
        "Chose theta = [   6.28318531  308.75464145    0.69623061]."
       ]
      },
      {
       "output_type": "stream",
       "stream": "stdout",
       "text": [
        "\tLoss: 1.60e-04\tError: 1.11e-02\tStd dev: 7.07e-03\tResample: 6\n",
        "Chose theta = [   6.28318531  299.61205254    0.69684773]."
       ]
      },
      {
       "output_type": "stream",
       "stream": "stdout",
       "text": [
        "\tLoss: 1.62e-04\tError: 1.10e-02\tStd dev: 7.02e-03\tResample: 6\n",
        "Chose theta = [   6.28318531  278.43944139    0.70600646]."
       ]
      },
      {
       "output_type": "stream",
       "stream": "stdout",
       "text": [
        "\tLoss: 1.61e-04\tError: 1.12e-02\tStd dev: 7.08e-03\tResample: 6\n",
        "Chose theta = [   3.74681483  310.            0.74053878]."
       ]
      },
      {
       "output_type": "stream",
       "stream": "stdout",
       "text": [
        "\tLoss: 1.59e-04\tError: 1.09e-02\tStd dev: 6.96e-03\tResample: 6\n",
        "Chose theta = [   6.28318531  278.85702511    0.65858505]."
       ]
      },
      {
       "output_type": "stream",
       "stream": "stdout",
       "text": [
        "\tLoss: 1.59e-04\tError: 1.09e-02\tStd dev: 6.96e-03\tResample: 6\n",
        "Chose theta = [   3.51854299  270.            0.71192351]."
       ]
      },
      {
       "output_type": "stream",
       "stream": "stdout",
       "text": [
        "\tLoss: 1.62e-04\tError: 1.12e-02\tStd dev: 7.08e-03\tResample: 6\n",
        "Chose theta = [   6.28318531  280.61918472    0.68026048]."
       ]
      },
      {
       "output_type": "stream",
       "stream": "stdout",
       "text": [
        "\tLoss: 1.64e-04\tError: 1.10e-02\tStd dev: 6.98e-03\tResample: 6\n",
        "Chose theta = [   3.1924523  293.15         0.7      ]."
       ]
      },
      {
       "output_type": "stream",
       "stream": "stdout",
       "text": [
        "\tLoss: 1.70e-04\tError: 1.14e-02\tStd dev: 7.18e-03\tResample: 6\n",
        "Chose theta = [   6.28318531  293.676602      0.71399637]."
       ]
      },
      {
       "output_type": "stream",
       "stream": "stdout",
       "text": [
        "\tLoss: 1.71e-04\tError: 1.11e-02\tStd dev: 7.05e-03\tResample: 6\n",
        "Chose theta = [   6.28318531  300.27826198    0.77992352]."
       ]
      },
      {
       "output_type": "stream",
       "stream": "stdout",
       "text": [
        "\tLoss: 1.71e-04\tError: 1.12e-02\tStd dev: 7.10e-03\tResample: 6\n",
        "Chose theta = [   6.28318531  294.50067217    0.70083309]."
       ]
      },
      {
       "output_type": "stream",
       "stream": "stdout",
       "text": [
        "\tLoss: 1.71e-04\tError: 1.13e-02\tStd dev: 7.15e-03\tResample: 6\n",
        "Chose theta = [   6.28318531  297.66807743    0.74022662]."
       ]
      },
      {
       "output_type": "stream",
       "stream": "stdout",
       "text": [
        "\tLoss: 1.71e-04\tError: 1.16e-02\tStd dev: 7.23e-03\tResample: 6\n",
        "Chose theta = [   6.28318531  291.54725065    0.69164032]."
       ]
      },
      {
       "output_type": "stream",
       "stream": "stdout",
       "text": [
        "\tLoss: 1.71e-04\tError: 1.15e-02\tStd dev: 7.22e-03\tResample: 6\n",
        "Chose theta = [   6.28318531  304.85054365    0.67582021]."
       ]
      },
      {
       "output_type": "stream",
       "stream": "stdout",
       "text": [
        "\tLoss: 1.72e-04\tError: 1.15e-02\tStd dev: 7.20e-03\tResample: 6\n",
        "Chose theta = [   6.28318531  295.72504009    0.68069319]."
       ]
      },
      {
       "output_type": "stream",
       "stream": "stdout",
       "text": [
        "\tLoss: 1.72e-04\tError: 1.16e-02\tStd dev: 7.25e-03\tResample: 6\n",
        "Chose theta = [   6.28318531  302.14210808    0.70944987]."
       ]
      },
      {
       "output_type": "stream",
       "stream": "stdout",
       "text": [
        "\tLoss: 1.73e-04\tError: 1.14e-02\tStd dev: 7.17e-03\tResample: 6\n",
        "Chose theta = [   3.19235482  293.15          0.7       ]."
       ]
      },
      {
       "output_type": "stream",
       "stream": "stdout",
       "text": [
        "\tLoss: 1.73e-04\tError: 1.15e-02\tStd dev: 7.18e-03\tResample: 6\n",
        "Chose theta = [   6.28318531  307.79763572    0.72903205]."
       ]
      },
      {
       "output_type": "stream",
       "stream": "stdout",
       "text": [
        "\tLoss: 1.73e-04\tError: 1.15e-02\tStd dev: 7.20e-03\tResample: 6\n",
        "Chose theta = [  7.03592410e-02   2.93150000e+02   7.00000000e-01]."
       ]
      },
      {
       "output_type": "stream",
       "stream": "stdout",
       "text": [
        "\tLoss: 1.64e-04\tError: 1.11e-02\tStd dev: 6.99e-03\tResample: 6\n",
        "Chose theta = [   3.18690062  293.15          0.7       ]."
       ]
      },
      {
       "output_type": "stream",
       "stream": "stdout",
       "text": [
        "\tLoss: 1.68e-04\tError: 1.14e-02\tStd dev: 7.10e-03\tResample: 6\n",
        "Chose theta = [   3.59281185  310.            0.71471188]."
       ]
      },
      {
       "output_type": "stream",
       "stream": "stdout",
       "text": [
        "\tLoss: 1.69e-04\tError: 1.15e-02\tStd dev: 7.12e-03\tResample: 6\n",
        "Chose theta = [   4.33225644  310.            0.7878825 ]."
       ]
      },
      {
       "output_type": "stream",
       "stream": "stdout",
       "text": [
        "\tLoss: 1.68e-04\tError: 1.11e-02\tStd dev: 6.96e-03\tResample: 6\n",
        "Chose theta = [   6.28318531  289.22051237    0.74637474]."
       ]
      },
      {
       "output_type": "stream",
       "stream": "stdout",
       "text": [
        "\tLoss: 1.68e-04\tError: 1.11e-02\tStd dev: 6.97e-03\tResample: 6\n",
        "Chose theta = [   4.23825253  270.            0.65022676]."
       ]
      },
      {
       "output_type": "stream",
       "stream": "stdout",
       "text": [
        "\tLoss: 1.69e-04\tError: 1.13e-02\tStd dev: 7.06e-03\tResample: 6\n",
        "Chose theta = [   3.20253455  293.15          0.7       ]."
       ]
      },
      {
       "output_type": "stream",
       "stream": "stdout",
       "text": [
        "\tLoss: 1.71e-04\tError: 1.15e-02\tStd dev: 7.14e-03\tResample: 6\n",
        "Chose theta = [   3.1952327  293.15         0.7      ]."
       ]
      },
      {
       "output_type": "stream",
       "stream": "stdout",
       "text": [
        "\tLoss: 1.72e-04\tError: 1.15e-02\tStd dev: 7.15e-03\tResample: 6\n",
        "Chose theta = [   6.25342588  286.7339798     0.67409812]."
       ]
      },
      {
       "output_type": "stream",
       "stream": "stdout",
       "text": [
        "\tLoss: 1.71e-04\tError: 1.17e-02\tStd dev: 7.22e-03\tResample: 6\n",
        "Chose theta = [   3.19301951  293.15          0.7       ]."
       ]
      },
      {
       "output_type": "stream",
       "stream": "stdout",
       "text": [
        "\tLoss: 1.78e-04\tError: 1.21e-02\tStd dev: 7.39e-03\tResample: 6\n",
        "Chose theta = [   3.20534545  293.15          0.7       ]."
       ]
      },
      {
       "output_type": "stream",
       "stream": "stdout",
       "text": [
        "\tLoss: 1.82e-04\tError: 1.23e-02\tStd dev: 7.49e-03\tResample: 6\n",
        "Chose theta = [   3.19798397  293.15          0.7       ]."
       ]
      },
      {
       "output_type": "stream",
       "stream": "stdout",
       "text": [
        "\tLoss: 1.76e-04\tError: 1.20e-02\tStd dev: 7.34e-03\tResample: 6\n",
        "Chose theta = [   3.0581072   310.            0.71272862]."
       ]
      },
      {
       "output_type": "stream",
       "stream": "stdout",
       "text": [
        "\tLoss: 1.75e-04\tError: 1.20e-02\tStd dev: 7.31e-03\tResample: 6\n",
        "Chose theta = [  5.22594471e-02   2.93150000e+02   7.00000000e-01]."
       ]
      },
      {
       "output_type": "stream",
       "stream": "stdout",
       "text": [
        "\tLoss: 1.77e-04\tError: 1.20e-02\tStd dev: 7.32e-03\tResample: 6\n",
        "Chose theta = [   3.19197389  293.15          0.7       ]."
       ]
      },
      {
       "output_type": "stream",
       "stream": "stdout",
       "text": [
        "\tLoss: 1.83e-04\tError: 1.24e-02\tStd dev: 7.46e-03\tResample: 6\n",
        "Chose theta = [   3.18924127  293.15          0.7       ]."
       ]
      },
      {
       "output_type": "stream",
       "stream": "stdout",
       "text": [
        "\tLoss: 1.78e-04\tError: 1.21e-02\tStd dev: 7.33e-03\tResample: 6\n",
        "Chose theta = [   6.28318531  299.67646197    0.67810024]."
       ]
      },
      {
       "output_type": "stream",
       "stream": "stdout",
       "text": [
        "\tLoss: 1.79e-04\tError: 1.20e-02\tStd dev: 7.29e-03\tResample: 6\n",
        "Chose theta = [   3.20298247  293.15          0.7       ]."
       ]
      },
      {
       "output_type": "stream",
       "stream": "stdout",
       "text": [
        "\tLoss: 1.76e-04\tError: 1.18e-02\tStd dev: 7.21e-03\tResample: 6\n",
        "Chose theta = [   3.20558651  293.15          0.7       ]."
       ]
      },
      {
       "output_type": "stream",
       "stream": "stdout",
       "text": [
        "\tLoss: 1.71e-04\tError: 1.15e-02\tStd dev: 7.08e-03\tResample: 6\n",
        "Chose theta = [  5.48430518e-02   2.93150000e+02   7.00000000e-01]."
       ]
      },
      {
       "output_type": "stream",
       "stream": "stdout",
       "text": [
        "\tLoss: 1.67e-04\tError: 1.13e-02\tStd dev: 6.97e-03\tResample: 6\n",
        "Chose theta = [   6.28318531  300.5740933     0.74417289]."
       ]
      },
      {
       "output_type": "stream",
       "stream": "stdout",
       "text": [
        "\tLoss: 1.64e-04\tError: 1.15e-02\tStd dev: 7.03e-03\tResample: 6\n",
        "Chose theta = [   3.19470956  293.15          0.7       ]."
       ]
      },
      {
       "output_type": "stream",
       "stream": "stdout",
       "text": [
        "\tLoss: 1.68e-04\tError: 1.17e-02\tStd dev: 7.14e-03\tResample: 6\n",
        "Chose theta = [   3.19882381  293.15          0.7       ]."
       ]
      },
      {
       "output_type": "stream",
       "stream": "stdout",
       "text": [
        "\tLoss: 1.65e-04\tError: 1.15e-02\tStd dev: 7.03e-03\tResample: 6\n",
        "Chose theta = [   3.20124021  293.15          0.7       ]."
       ]
      },
      {
       "output_type": "stream",
       "stream": "stdout",
       "text": [
        "\tLoss: 1.67e-04\tError: 1.17e-02\tStd dev: 7.09e-03\tResample: 6\n",
        "Chose theta = [   3.19617084  293.15          0.7       ]."
       ]
      },
      {
       "output_type": "stream",
       "stream": "stdout",
       "text": [
        "\tLoss: 1.58e-04\tError: 1.11e-02\tStd dev: 6.82e-03\tResample: 6\n",
        "Chose theta = [   3.19059299  293.15          0.7       ]."
       ]
      },
      {
       "output_type": "stream",
       "stream": "stdout",
       "text": [
        "\tLoss: 1.64e-04\tError: 1.14e-02\tStd dev: 6.99e-03\tResample: 6\n",
        "Chose theta = [   3.19080454  293.15          0.7       ]."
       ]
      },
      {
       "output_type": "stream",
       "stream": "stdout",
       "text": [
        "\tLoss: 1.62e-04\tError: 1.13e-02\tStd dev: 6.92e-03\tResample: 6\n",
        "Chose theta = [   1.61144877  293.15          0.7       ]."
       ]
      },
      {
       "output_type": "stream",
       "stream": "stdout",
       "text": [
        "\tLoss: 1.62e-04\tError: 1.13e-02\tStd dev: 6.92e-03\tResample: 6\n",
        "Chose theta = [   3.18762525  293.15          0.7       ]."
       ]
      },
      {
       "output_type": "stream",
       "stream": "stdout",
       "text": [
        "\tLoss: 1.67e-04\tError: 1.16e-02\tStd dev: 7.06e-03\tResample: 6\n",
        "Chose theta = [   3.19427607  293.15          0.7       ]."
       ]
      },
      {
       "output_type": "stream",
       "stream": "stdout",
       "text": [
        "\tLoss: 1.63e-04\tError: 1.14e-02\tStd dev: 6.95e-03\tResample: 6\n",
        "Chose theta = [   3.20296286  293.15          0.7       ]."
       ]
      },
      {
       "output_type": "stream",
       "stream": "stdout",
       "text": [
        "\tLoss: 1.65e-04\tError: 1.15e-02\tStd dev: 6.99e-03\tResample: 6\n",
        "Chose theta = [   3.20045877  293.15          0.7       ]."
       ]
      },
      {
       "output_type": "stream",
       "stream": "stdout",
       "text": [
        "\tLoss: 1.65e-04\tError: 1.15e-02\tStd dev: 6.98e-03\tResample: 6\n",
        "Chose theta = [   3.18954734  293.15          0.7       ]."
       ]
      },
      {
       "output_type": "stream",
       "stream": "stdout",
       "text": [
        "\tLoss: 1.64e-04\tError: 1.15e-02\tStd dev: 6.96e-03\tResample: 6\n",
        "Chose theta = [   3.20229415  310.            0.85336831]."
       ]
      },
      {
       "output_type": "stream",
       "stream": "stdout",
       "text": [
        "\tLoss: 1.65e-04\tError: 1.15e-02\tStd dev: 6.98e-03\tResample: 6\n",
        "Chose theta = [   3.19545615  293.15          0.7       ]."
       ]
      },
      {
       "output_type": "stream",
       "stream": "stdout",
       "text": [
        "\tLoss: 1.58e-04\tError: 1.11e-02\tStd dev: 6.77e-03\tResample: 6\n",
        "Chose theta = [   6.28318531  275.36186106    0.40638412]."
       ]
      },
      {
       "output_type": "stream",
       "stream": "stdout",
       "text": [
        "\tLoss: 1.60e-04\tError: 1.10e-02\tStd dev: 6.75e-03\tResample: 6\n",
        "Chose theta = [   3.19881833  293.15          0.7       ]."
       ]
      },
      {
       "output_type": "stream",
       "stream": "stdout",
       "text": [
        "\tLoss: 1.65e-04\tError: 1.13e-02\tStd dev: 6.89e-03\tResample: 6\n",
        "Chose theta = [   1.61262169  293.15          0.7       ]."
       ]
      },
      {
       "output_type": "stream",
       "stream": "stdout",
       "text": [
        "\tLoss: 1.69e-04\tError: 1.14e-02\tStd dev: 6.91e-03\tResample: 6\n",
        "Chose theta = [   3.19131071  293.15          0.7       ]."
       ]
      },
      {
       "output_type": "stream",
       "stream": "stdout",
       "text": [
        "\tLoss: 1.69e-04\tError: 1.14e-02\tStd dev: 6.90e-03\tResample: 6\n",
        "Chose theta = [   3.19873723  293.15          0.7       ]."
       ]
      },
      {
       "output_type": "stream",
       "stream": "stdout",
       "text": [
        "\tLoss: 1.68e-04\tError: 1.14e-02\tStd dev: 6.89e-03\tResample: 6\n",
        "Chose theta = [   4.20692001  270.            0.67690357]."
       ]
      },
      {
       "output_type": "stream",
       "stream": "stdout",
       "text": [
        "\tLoss: 1.68e-04\tError: 1.14e-02\tStd dev: 6.91e-03\tResample: 6\n",
        "Chose theta = [   1.60728006  293.15          0.7       ]."
       ]
      },
      {
       "output_type": "stream",
       "stream": "stdout",
       "text": [
        "\tLoss: 1.65e-04\tError: 1.14e-02\tStd dev: 6.89e-03\tResample: 6\n",
        "Chose theta = [   6.28318531  276.47639166    0.76008773]."
       ]
      },
      {
       "output_type": "stream",
       "stream": "stdout",
       "text": [
        "\tLoss: 1.66e-04\tError: 1.13e-02\tStd dev: 6.88e-03\tResample: 6\n",
        "Chose theta = [   1.61946705  293.15          0.7       ]."
       ]
      },
      {
       "output_type": "stream",
       "stream": "stdout",
       "text": [
        "\tLoss: 1.67e-04\tError: 1.14e-02\tStd dev: 6.88e-03\tResample: 6\n",
        "Chose theta = [   3.19159729  293.15          0.7       ]."
       ]
      },
      {
       "output_type": "stream",
       "stream": "stdout",
       "text": [
        "\tLoss: 1.75e-04\tError: 1.18e-02\tStd dev: 7.08e-03\tResample: 6\n",
        "Chose theta = [  6.01124567e-02   2.93150000e+02   7.00000000e-01]."
       ]
      },
      {
       "output_type": "stream",
       "stream": "stdout",
       "text": [
        "\tLoss: 1.70e-04\tError: 1.17e-02\tStd dev: 6.98e-03\tResample: 6\n",
        "Chose theta = [  3.70779103e-02   2.93150000e+02   7.00000000e-01]."
       ]
      },
      {
       "output_type": "stream",
       "stream": "stdout",
       "text": [
        "\tLoss: 1.84e-04\tError: 1.22e-02\tStd dev: 7.21e-03\tResample: 6\n",
        "Chose theta = [   3.19130987  293.15          0.7       ]."
       ]
      },
      {
       "output_type": "stream",
       "stream": "stdout",
       "text": [
        "\tLoss: 1.78e-04\tError: 1.19e-02\tStd dev: 7.07e-03\tResample: 6\n",
        "Chose theta = [   3.20659045  293.15          0.7       ]."
       ]
      },
      {
       "output_type": "stream",
       "stream": "stdout",
       "text": [
        "\tLoss: 1.79e-04\tError: 1.19e-02\tStd dev: 7.07e-03\tResample: 6\n",
        "Chose theta = [   1.61289656  293.15          0.7       ]."
       ]
      },
      {
       "output_type": "stream",
       "stream": "stdout",
       "text": [
        "\tLoss: 1.78e-04\tError: 1.19e-02\tStd dev: 7.06e-03\tResample: 6\n",
        "Chose theta = [  5.07415573e-02   2.93150000e+02   7.00000000e-01]."
       ]
      },
      {
       "output_type": "stream",
       "stream": "stdout",
       "text": [
        "\tLoss: 1.54e-04\tError: 1.09e-02\tStd dev: 6.62e-03\tResample: 6\n",
        "Chose theta = [   3.19271647  293.15          0.7       ]."
       ]
      },
      {
       "output_type": "stream",
       "stream": "stdout",
       "text": [
        "\tLoss: 1.57e-04\tError: 1.11e-02\tStd dev: 6.68e-03\tResample: 6\n",
        "Chose theta = [   3.18866784  293.15          0.7       ]."
       ]
      },
      {
       "output_type": "stream",
       "stream": "stdout",
       "text": [
        "\tLoss: 1.51e-04\tError: 1.06e-02\tStd dev: 6.49e-03\tResample: 6\n",
        "Chose theta = [   3.66367183  310.            0.69809991]."
       ]
      },
      {
       "output_type": "stream",
       "stream": "stdout",
       "text": [
        "\tLoss: 1.53e-04\tError: 1.09e-02\tStd dev: 6.59e-03\tResample: 6\n",
        "Chose theta = [   3.18232794  293.15          0.7       ]."
       ]
      },
      {
       "output_type": "stream",
       "stream": "stdout",
       "text": [
        "\tLoss: 1.54e-04\tError: 1.10e-02\tStd dev: 6.62e-03\tResample: 6\n",
        "Chose theta = [   0.81016056  310.            0.67117958]."
       ]
      },
      {
       "output_type": "stream",
       "stream": "stdout",
       "text": [
        "\tLoss: 1.39e-04\tError: 1.02e-02\tStd dev: 6.27e-03\tResample: 6\n",
        "Chose theta = [   3.19691086  293.15          0.7       ]."
       ]
      },
      {
       "output_type": "stream",
       "stream": "stdout",
       "text": [
        "\tLoss: 1.37e-04\tError: 1.00e-02\tStd dev: 6.20e-03\tResample: 6\n",
        "Chose theta = [   6.28318531  294.9285571     0.64857911]."
       ]
      },
      {
       "output_type": "stream",
       "stream": "stdout",
       "text": [
        "\tLoss: 1.40e-04\tError: 1.00e-02\tStd dev: 6.17e-03\tResample: 6\n",
        "Chose theta = [   3.19223172  293.15          0.7       ]."
       ]
      },
      {
       "output_type": "stream",
       "stream": "stdout",
       "text": [
        "\tLoss: 1.42e-04\tError: 1.02e-02\tStd dev: 6.25e-03\tResample: 6\n",
        "Chose theta = [   3.58173411  310.            0.72715609]."
       ]
      },
      {
       "output_type": "stream",
       "stream": "stdout",
       "text": [
        "\tLoss: 1.43e-04\tError: 1.03e-02\tStd dev: 6.30e-03\tResample: 6\n",
        "Chose theta = [   4.75310367  293.15          0.7       ]."
       ]
      },
      {
       "output_type": "stream",
       "stream": "stdout",
       "text": [
        "\tLoss: 1.45e-04\tError: 1.04e-02\tStd dev: 6.33e-03\tResample: 6\n",
        "Chose theta = [   3.19373957  293.15          0.7       ]."
       ]
      },
      {
       "output_type": "stream",
       "stream": "stdout",
       "text": [
        "\tLoss: 1.42e-04\tError: 1.01e-02\tStd dev: 6.20e-03\tResample: 6\n",
        "Chose theta = [   3.19035709  293.15          0.7       ]."
       ]
      },
      {
       "output_type": "stream",
       "stream": "stdout",
       "text": [
        "\tLoss: 1.41e-04\tError: 1.00e-02\tStd dev: 6.17e-03\tResample: 6\n",
        "Chose theta = [   3.19959908  293.15          0.7       ]."
       ]
      },
      {
       "output_type": "stream",
       "stream": "stdout",
       "text": [
        "\tLoss: 1.41e-04\tError: 1.00e-02\tStd dev: 6.17e-03\tResample: 6\n",
        "Chose theta = [   6.28318531  297.45976338    0.68352763]."
       ]
      },
      {
       "output_type": "stream",
       "stream": "stdout",
       "text": [
        "\tLoss: 1.47e-04\tError: 9.83e-03\tStd dev: 6.09e-03\tResample: 6\n",
        "Chose theta = [   3.18956935  293.15          0.7       ]."
       ]
      },
      {
       "output_type": "stream",
       "stream": "stdout",
       "text": [
        "\tLoss: 1.50e-04\tError: 1.00e-02\tStd dev: 6.19e-03\tResample: 6\n",
        "Chose theta = [   6.28318531  304.9336888     0.67439928]."
       ]
      },
      {
       "output_type": "stream",
       "stream": "stdout",
       "text": [
        "\tLoss: 1.49e-04\tError: 1.01e-02\tStd dev: 6.19e-03\tResample: 6\n",
        "Chose theta = [   1.61049604  293.15          0.7       ]."
       ]
      },
      {
       "output_type": "stream",
       "stream": "stdout",
       "text": [
        "\tLoss: 1.50e-04\tError: 1.01e-02\tStd dev: 6.20e-03\tResample: 6\n",
        "Chose theta = [   6.28318531  294.39511218    0.6793455 ]."
       ]
      },
      {
       "output_type": "stream",
       "stream": "stdout",
       "text": [
        "\tLoss: 1.48e-04\tError: 1.02e-02\tStd dev: 6.24e-03\tResample: 6\n",
        "Chose theta = [   6.28318531  286.61226352    0.49818507]."
       ]
      },
      {
       "output_type": "stream",
       "stream": "stdout",
       "text": [
        "\tLoss: 1.47e-04\tError: 1.02e-02\tStd dev: 6.24e-03\tResample: 6\n",
        "Chose theta = [   3.19703691  293.15          0.7       ]."
       ]
      },
      {
       "output_type": "stream",
       "stream": "stdout",
       "text": [
        "\tLoss: 1.47e-04\tError: 1.01e-02\tStd dev: 6.22e-03\tResample: 6\n",
        "Chose theta = [   6.28318531  304.29998367    0.69067079]."
       ]
      },
      {
       "output_type": "stream",
       "stream": "stdout",
       "text": [
        "\tLoss: 1.44e-04\tError: 1.02e-02\tStd dev: 6.25e-03\tResample: 6\n",
        "Chose theta = [   6.28318531  302.31996199    0.71352106]."
       ]
      },
      {
       "output_type": "stream",
       "stream": "stdout",
       "text": [
        "\tLoss: 1.42e-04\tError: 1.03e-02\tStd dev: 6.27e-03\tResample: 6\n",
        "Chose theta = [   1.61939816  293.15          0.7       ]."
       ]
      },
      {
       "output_type": "stream",
       "stream": "stdout",
       "text": [
        "\tLoss: 1.40e-04\tError: 1.02e-02\tStd dev: 6.26e-03\tResample: 6\n",
        "Chose theta = [   3.19921752  293.15          0.7       ]."
       ]
      },
      {
       "output_type": "stream",
       "stream": "stdout",
       "text": [
        "\tLoss: 1.39e-04\tError: 1.01e-02\tStd dev: 6.21e-03\tResample: 6\n",
        "Chose theta = [   3.19367001  293.15          0.7       ]."
       ]
      },
      {
       "output_type": "stream",
       "stream": "stdout",
       "text": [
        "\tLoss: 1.43e-04\tError: 1.04e-02\tStd dev: 6.34e-03\tResample: 6\n",
        "Chose theta = [   3.19609703  293.15          0.7       ]."
       ]
      },
      {
       "output_type": "stream",
       "stream": "stdout",
       "text": [
        "\tLoss: 1.45e-04\tError: 1.06e-02\tStd dev: 6.41e-03\tResample: 6\n",
        "Chose theta = [   3.20473677  293.15          0.7       ]."
       ]
      },
      {
       "output_type": "stream",
       "stream": "stdout",
       "text": [
        "\tLoss: 1.48e-04\tError: 1.08e-02\tStd dev: 6.50e-03\tResample: 6\n",
        "Chose theta = [   3.19297853  293.15          0.7       ]."
       ]
      },
      {
       "output_type": "stream",
       "stream": "stdout",
       "text": [
        "\tLoss: 1.50e-04\tError: 1.09e-02\tStd dev: 6.56e-03\tResample: 6\n",
        "Chose theta = [   3.19771672  293.15          0.7       ]."
       ]
      },
      {
       "output_type": "stream",
       "stream": "stdout",
       "text": [
        "\tLoss: 1.51e-04\tError: 1.10e-02\tStd dev: 6.59e-03\tResample: 6\n",
        "Chose theta = [   3.17558111  293.15          0.7       ]."
       ]
      },
      {
       "output_type": "stream",
       "stream": "stdout",
       "text": [
        "\tLoss: 1.56e-04\tError: 1.13e-02\tStd dev: 6.72e-03\tResample: 6\n",
        "Chose theta = [   3.20136477  293.15          0.7       ]."
       ]
      },
      {
       "output_type": "stream",
       "stream": "stdout",
       "text": [
        "\tLoss: 1.55e-04\tError: 1.13e-02\tStd dev: 6.70e-03\tResample: 6\n",
        "Chose theta = [   2.73396096  270.            0.66361096]."
       ]
      },
      {
       "output_type": "stream",
       "stream": "stdout",
       "text": [
        "\tLoss: 1.58e-04\tError: 1.14e-02\tStd dev: 6.76e-03\tResample: 6\n",
        "Chose theta = [   4.74897361  293.15          0.7       ]."
       ]
      },
      {
       "output_type": "stream",
       "stream": "stdout",
       "text": [
        "\tLoss: 1.60e-04\tError: 1.15e-02\tStd dev: 6.79e-03\tResample: 6\n",
        "Chose theta = [   3.18135017  293.15          0.7       ]."
       ]
      },
      {
       "output_type": "stream",
       "stream": "stdout",
       "text": [
        "\tLoss: 1.56e-04\tError: 1.12e-02\tStd dev: 6.67e-03\tResample: 6\n",
        "Chose theta = [   3.18200806  293.15          0.7       ]."
       ]
      },
      {
       "output_type": "stream",
       "stream": "stdout",
       "text": [
        "\tLoss: 1.55e-04\tError: 1.11e-02\tStd dev: 6.64e-03\tResample: 6\n",
        "Chose theta = [   4.28307124  310.            0.82667812]."
       ]
      },
      {
       "output_type": "stream",
       "stream": "stdout",
       "text": [
        "\tLoss: 1.57e-04\tError: 1.11e-02\tStd dev: 6.62e-03\tResample: 6\n",
        "Chose theta = [   3.19138875  293.15          0.7       ]."
       ]
      },
      {
       "output_type": "stream",
       "stream": "stdout",
       "text": [
        "\tLoss: 1.56e-04\tError: 1.11e-02\tStd dev: 6.60e-03\tResample: 6\n",
        "Chose theta = [   3.19169602  293.15          0.7       ]."
       ]
      },
      {
       "output_type": "stream",
       "stream": "stdout",
       "text": [
        "\tLoss: 1.58e-04\tError: 1.12e-02\tStd dev: 6.65e-03\tResample: 6\n",
        "Chose theta = [   4.75461806  293.15          0.7       ]."
       ]
      },
      {
       "output_type": "stream",
       "stream": "stdout",
       "text": [
        "\tLoss: 1.59e-04\tError: 1.12e-02\tStd dev: 6.66e-03\tResample: 6\n",
        "Chose theta = [   6.28318531  292.07644709    0.71685006]."
       ]
      },
      {
       "output_type": "stream",
       "stream": "stdout",
       "text": [
        "\tLoss: 1.49e-04\tError: 1.11e-02\tStd dev: 6.67e-03\tResample: 6\n",
        "Chose theta = [   3.17876126  293.15          0.7       ]."
       ]
      },
      {
       "output_type": "stream",
       "stream": "stdout",
       "text": [
        "\tLoss: 1.47e-04\tError: 1.10e-02\tStd dev: 6.62e-03\tResample: 6\n",
        "Chose theta = [   3.19315826  293.15          0.7       ]."
       ]
      },
      {
       "output_type": "stream",
       "stream": "stdout",
       "text": [
        "\tLoss: 1.47e-04\tError: 1.10e-02\tStd dev: 6.62e-03\tResample: 6\n",
        "Chose theta = [   3.1922406  293.15         0.7      ]."
       ]
      },
      {
       "output_type": "stream",
       "stream": "stdout",
       "text": [
        "\tLoss: 1.49e-04\tError: 1.12e-02\tStd dev: 6.68e-03\tResample: 6\n",
        "Chose theta = [   3.18894293  293.15          0.7       ]."
       ]
      },
      {
       "output_type": "stream",
       "stream": "stdout",
       "text": [
        "\tLoss: 1.47e-04\tError: 1.10e-02\tStd dev: 6.60e-03\tResample: 6\n",
        "0.902 \u00b1 0.00409\t"
       ]
      },
      {
       "output_type": "stream",
       "stream": "stdout",
       "text": [
        " 0.000435 \u00b1 0.00203\t 1.56 \u00b1 0.0066\t 1.02 \u00b1 0.00245\t -1.02 \u00b1 0.00518\t\n",
        "[ 0.9        0.         0.0844303  1.02     ]\n",
        "Loss: 9.24e-02\tError: 2.06e-01\tStd dev: 1.57e-01\tResample: 1"
       ]
      },
      {
       "output_type": "stream",
       "stream": "stdout",
       "text": [
        "\n",
        "Loss: 5.92e-02\tError: 9.64e-02\tStd dev: 1.08e-01\tResample: 1\n",
        "Loss: 8.35e-02\tError: 1.83e-01\tStd dev: 9.40e-02\tResample: 1\n",
        "Loss: 5.63e-02\tError: 7.97e-02\tStd dev: 7.78e-02\tResample: 2\n",
        "Loss: 5.84e-02\tError: 9.18e-02\tStd dev: 6.91e-02\tResample: 2\n",
        "Loss: 5.11e-02\tError: 3.48e-02\tStd dev: 5.80e-02\tResample: 2"
       ]
      },
      {
       "output_type": "stream",
       "stream": "stdout",
       "text": [
        "\n",
        "Loss: 5.14e-02\tError: 3.88e-02\tStd dev: 5.40e-02\tResample: 2\n",
        "Loss: 5.00e-02\tError: 1.42e-02\tStd dev: 4.04e-02\tResample: 3\n",
        "Loss: 5.08e-02\tError: 3.45e-02\tStd dev: 3.15e-02\tResample: 3\n",
        "Loss: 5.15e-02\tError: 4.45e-02\tStd dev: 2.56e-02\tResample: 4"
       ]
      },
      {
       "output_type": "stream",
       "stream": "stdout",
       "text": [
        "\n",
        "Loss: 5.20e-02\tError: 5.15e-02\tStd dev: 2.19e-02\tResample: 4\n",
        "Loss: 5.23e-02\tError: 5.55e-02\tStd dev: 1.97e-02\tResample: 4\n",
        "Loss: 5.26e-02\tError: 6.17e-02\tStd dev: 1.57e-02\tResample: 5\n",
        "Loss: 5.26e-02\tError: 6.47e-02\tStd dev: 1.38e-02\tResample: 5\n",
        "Loss: 5.22e-02\tError: 6.94e-02\tStd dev: 1.08e-02\tResample: 6"
       ]
      },
      {
       "output_type": "stream",
       "stream": "stdout",
       "text": [
        "\n",
        "Loss: 5.15e-02\tError: 7.30e-02\tStd dev: 8.34e-03\tResample: 7\n",
        "Loss: 5.09e-02\tError: 7.51e-02\tStd dev: 6.99e-03\tResample: 7\n",
        "Loss: 4.98e-02\tError: 7.69e-02\tStd dev: 5.40e-03\tResample: 8"
       ]
      },
      {
       "output_type": "stream",
       "stream": "stdout",
       "text": [
        "\n",
        "Loss: 4.91e-02\tError: 7.79e-02\tStd dev: 4.52e-03\tResample: 8\n",
        "Loss: 4.86e-02\tError: 7.80e-02\tStd dev: 4.25e-03\tResample: 9\n",
        "Loss: 4.83e-02\tError: 7.79e-02\tStd dev: 4.34e-03\tResample: 9\n",
        "Loss: 4.78e-02\tError: 7.72e-02\tStd dev: 4.62e-03\tResample: 10"
       ]
      },
      {
       "output_type": "stream",
       "stream": "stdout",
       "text": [
        "\n",
        "Loss: 4.77e-02\tError: 7.69e-02\tStd dev: 4.73e-03\tResample: 10\n",
        "Loss: 4.75e-02\tError: 7.62e-02\tStd dev: 5.01e-03\tResample: 10\n",
        "Loss: 4.72e-02\tError: 7.52e-02\tStd dev: 5.29e-03\tResample: 10\n",
        "Loss: 4.70e-02\tError: 7.43e-02\tStd dev: 5.40e-03\tResample: 11\n",
        "Loss: 4.68e-02\tError: 7.35e-02\tStd dev: 5.51e-03\tResample: 11"
       ]
      },
      {
       "output_type": "stream",
       "stream": "stdout",
       "text": [
        "\n",
        "Loss: 4.66e-02\tError: 7.27e-02\tStd dev: 5.59e-03\tResample: 11\n",
        "Loss: 4.66e-02\tError: 7.26e-02\tStd dev: 5.59e-03\tResample: 11\n",
        "Loss: 4.64e-02\tError: 7.18e-02\tStd dev: 5.64e-03\tResample: 11\n",
        "Loss: 4.64e-02\tError: 7.17e-02\tStd dev: 5.64e-03\tResample: 11\n",
        "Loss: 4.62e-02\tError: 7.11e-02\tStd dev: 5.64e-03\tResample: 12"
       ]
      },
      {
       "output_type": "stream",
       "stream": "stdout",
       "text": [
        "\n",
        "Loss: 4.62e-02\tError: 7.11e-02\tStd dev: 5.63e-03\tResample: 12\n",
        "Loss: 4.62e-02\tError: 7.11e-02\tStd dev: 5.63e-03\tResample: 12\n",
        "Loss: 4.62e-02\tError: 7.10e-02\tStd dev: 5.64e-03\tResample: 12\n",
        "Loss: 4.62e-02\tError: 7.10e-02\tStd dev: 5.64e-03\tResample: 12\n",
        "Loss: 4.62e-02\tError: 7.09e-02\tStd dev: 5.64e-03\tResample: 12\n",
        "Loss: 4.62e-02\tError: 7.09e-02\tStd dev: 5.64e-03\tResample: 12\n",
        "Loss: 4.62e-02\tError: 7.10e-02\tStd dev: 5.64e-03\tResample: 12"
       ]
      },
      {
       "output_type": "stream",
       "stream": "stdout",
       "text": [
        "\n",
        "Loss: 4.62e-02\tError: 7.09e-02\tStd dev: 5.64e-03\tResample: 12\n",
        "Chose theta = [   1.55904744  293.15          0.7       ]."
       ]
      },
      {
       "output_type": "stream",
       "stream": "stdout",
       "text": [
        "\tLoss: 4.62e-02\tError: 7.11e-02\tStd dev: 5.46e-03\tResample: 12\n",
        "Chose theta = [   1.56015895  293.15          0.7       ]."
       ]
      },
      {
       "output_type": "stream",
       "stream": "stdout",
       "text": [
        "\tLoss: 4.63e-02\tError: 7.19e-02\tStd dev: 4.97e-03\tResample: 12\n",
        "Chose theta = [   6.26886067  293.15          0.7       ]."
       ]
      },
      {
       "output_type": "stream",
       "stream": "stdout",
       "text": [
        "\tLoss: 4.63e-02\tError: 7.19e-02\tStd dev: 4.97e-03\tResample: 12\n",
        "Chose theta = [   1.55695576  293.15          0.7       ]."
       ]
      },
      {
       "output_type": "stream",
       "stream": "stdout",
       "text": [
        "\tLoss: 4.63e-02\tError: 7.22e-02\tStd dev: 4.75e-03\tResample: 12\n",
        "Chose theta = [   6.28318531  293.15342685    0.6998741 ]."
       ]
      },
      {
       "output_type": "stream",
       "stream": "stdout",
       "text": [
        "\tLoss: 4.63e-02\tError: 7.21e-02\tStd dev: 4.72e-03\tResample: 12\n",
        "Chose theta = [   1.55698221  293.15          0.7       ]."
       ]
      },
      {
       "output_type": "stream",
       "stream": "stdout",
       "text": [
        "\tLoss: 4.63e-02\tError: 7.25e-02\tStd dev: 4.52e-03\tResample: 12\n",
        "Chose theta = [   6.28318531  292.97349465    0.69970738]."
       ]
      },
      {
       "output_type": "stream",
       "stream": "stdout",
       "text": [
        "\tLoss: 4.63e-02\tError: 7.24e-02\tStd dev: 4.49e-03\tResample: 12\n",
        "Chose theta = [   1.567174  293.15        0.7     ]."
       ]
      },
      {
       "output_type": "stream",
       "stream": "stdout",
       "text": [
        "\tLoss: 4.63e-02\tError: 7.28e-02\tStd dev: 4.31e-03\tResample: 12\n",
        "Chose theta = [   6.27202495  293.15          0.7       ]."
       ]
      },
      {
       "output_type": "stream",
       "stream": "stdout",
       "text": [
        "\tLoss: 4.63e-02\tError: 7.27e-02\tStd dev: 4.30e-03\tResample: 12\n",
        "Chose theta = [   6.28318531  293.24795772    0.69984877]."
       ]
      },
      {
       "output_type": "stream",
       "stream": "stdout",
       "text": [
        "\tLoss: 4.63e-02\tError: 7.27e-02\tStd dev: 4.29e-03\tResample: 12\n",
        "Chose theta = [   6.26967908  293.15          0.7       ]."
       ]
      },
      {
       "output_type": "stream",
       "stream": "stdout",
       "text": [
        "\tLoss: 4.63e-02\tError: 7.27e-02\tStd dev: 4.30e-03\tResample: 12\n",
        "Chose theta = [   1.55614208  293.15          0.7       ]."
       ]
      },
      {
       "output_type": "stream",
       "stream": "stdout",
       "text": [
        "\tLoss: 4.63e-02\tError: 7.27e-02\tStd dev: 4.29e-03\tResample: 12\n",
        "Chose theta = [   6.27449301  293.15          0.7       ]."
       ]
      },
      {
       "output_type": "stream",
       "stream": "stdout",
       "text": [
        "\tLoss: 4.63e-02\tError: 7.27e-02\tStd dev: 4.27e-03\tResample: 12\n",
        "Chose theta = [   6.26997626  293.15          0.7       ]."
       ]
      },
      {
       "output_type": "stream",
       "stream": "stdout",
       "text": [
        "\tLoss: 4.63e-02\tError: 7.27e-02\tStd dev: 4.27e-03\tResample: 12\n",
        "Chose theta = [   1.56473324  293.15          0.7       ]."
       ]
      },
      {
       "output_type": "stream",
       "stream": "stdout",
       "text": [
        "\tLoss: 4.63e-02\tError: 7.29e-02\tStd dev: 4.18e-03\tResample: 12\n",
        "Chose theta = [   4.70125153  293.15          0.7       ]."
       ]
      },
      {
       "output_type": "stream",
       "stream": "stdout",
       "text": [
        "\tLoss: 4.63e-02\tError: 7.27e-02\tStd dev: 4.11e-03\tResample: 12\n",
        "Chose theta = [   1.55789778  293.15          0.7       ]."
       ]
      },
      {
       "output_type": "stream",
       "stream": "stdout",
       "text": [
        "\tLoss: 4.63e-02\tError: 7.31e-02\tStd dev: 3.98e-03\tResample: 12\n",
        "Chose theta = [   6.27101584  293.15          0.7       ]."
       ]
      },
      {
       "output_type": "stream",
       "stream": "stdout",
       "text": [
        "\tLoss: 4.63e-02\tError: 7.30e-02\tStd dev: 3.92e-03\tResample: 12\n",
        "Chose theta = [   1.55687933  293.15          0.7       ]."
       ]
      },
      {
       "output_type": "stream",
       "stream": "stdout",
       "text": [
        "\tLoss: 4.63e-02\tError: 7.32e-02\tStd dev: 3.88e-03\tResample: 12\n",
        "Chose theta = [   1.55784213  293.15          0.7       ]."
       ]
      },
      {
       "output_type": "stream",
       "stream": "stdout",
       "text": [
        "\tLoss: 4.63e-02\tError: 7.32e-02\tStd dev: 3.87e-03\tResample: 12\n",
        "Chose theta = [   6.26890783  293.15          0.7       ]."
       ]
      },
      {
       "output_type": "stream",
       "stream": "stdout",
       "text": [
        "\tLoss: 4.63e-02\tError: 7.32e-02\tStd dev: 3.88e-03\tResample: 12\n",
        "Chose theta = [   6.27252027  293.15          0.7       ]."
       ]
      },
      {
       "output_type": "stream",
       "stream": "stdout",
       "text": [
        "\tLoss: 4.63e-02\tError: 7.31e-02\tStd dev: 3.82e-03\tResample: 12\n",
        "Chose theta = [   6.26927705  293.15          0.7       ]."
       ]
      },
      {
       "output_type": "stream",
       "stream": "stdout",
       "text": [
        "\tLoss: 4.63e-02\tError: 7.31e-02\tStd dev: 3.82e-03\tResample: 12\n",
        "Chose theta = [   1.56217282  293.15          0.7       ]."
       ]
      },
      {
       "output_type": "stream",
       "stream": "stdout",
       "text": [
        "\tLoss: 4.63e-02\tError: 7.29e-02\tStd dev: 3.84e-03\tResample: 12\n",
        "Chose theta = [   6.27215669  293.15          0.7       ]."
       ]
      },
      {
       "output_type": "stream",
       "stream": "stdout",
       "text": [
        "\tLoss: 4.62e-02\tError: 7.29e-02\tStd dev: 3.82e-03\tResample: 12\n",
        "Chose theta = [   1.56264715  293.15          0.7       ]."
       ]
      },
      {
       "output_type": "stream",
       "stream": "stdout",
       "text": [
        "\tLoss: 4.62e-02\tError: 7.30e-02\tStd dev: 3.80e-03\tResample: 12\n",
        "Chose theta = [   1.55744053  293.15          0.7       ]."
       ]
      },
      {
       "output_type": "stream",
       "stream": "stdout",
       "text": [
        "\tLoss: 4.62e-02\tError: 7.29e-02\tStd dev: 3.80e-03\tResample: 12\n",
        "Chose theta = [   1.55430386  293.15          0.7       ]."
       ]
      },
      {
       "output_type": "stream",
       "stream": "stdout",
       "text": [
        "\tLoss: 4.63e-02\tError: 7.31e-02\tStd dev: 3.77e-03\tResample: 12\n",
        "Chose theta = [   1.55750239  293.15          0.7       ]."
       ]
      },
      {
       "output_type": "stream",
       "stream": "stdout",
       "text": [
        "\tLoss: 4.63e-02\tError: 7.33e-02\tStd dev: 3.75e-03\tResample: 12\n",
        "Chose theta = [   1.5578695  293.15         0.7      ]."
       ]
      },
      {
       "output_type": "stream",
       "stream": "stdout",
       "text": [
        "\tLoss: 4.63e-02\tError: 7.36e-02\tStd dev: 3.75e-03\tResample: 12\n",
        "Chose theta = [   1.55672421  293.15          0.7       ]."
       ]
      },
      {
       "output_type": "stream",
       "stream": "stdout",
       "text": [
        "\tLoss: 4.64e-02\tError: 7.39e-02\tStd dev: 3.77e-03\tResample: 12\n",
        "Chose theta = [   1.56145658  293.15          0.7       ]."
       ]
      },
      {
       "output_type": "stream",
       "stream": "stdout",
       "text": [
        "\tLoss: 4.64e-02\tError: 7.41e-02\tStd dev: 3.80e-03\tResample: 12\n",
        "Chose theta = [   6.28318531  286.38951859    0.96044969]."
       ]
      },
      {
       "output_type": "stream",
       "stream": "stdout",
       "text": [
        "\tLoss: 4.64e-02\tError: 7.40e-02\tStd dev: 3.76e-03\tResample: 12\n",
        "Chose theta = [   1.56628264  293.15          0.7       ]."
       ]
      },
      {
       "output_type": "stream",
       "stream": "stdout",
       "text": [
        "\tLoss: 4.64e-02\tError: 7.39e-02\tStd dev: 3.75e-03\tResample: 12\n",
        "Chose theta = [   1.55746779  293.15          0.7       ]."
       ]
      },
      {
       "output_type": "stream",
       "stream": "stdout",
       "text": [
        "\tLoss: 4.64e-02\tError: 7.42e-02\tStd dev: 3.78e-03\tResample: 12\n",
        "Chose theta = [   1.56262153  293.15          0.7       ]."
       ]
      },
      {
       "output_type": "stream",
       "stream": "stdout",
       "text": [
        "\tLoss: 4.64e-02\tError: 7.42e-02\tStd dev: 3.79e-03\tResample: 12\n",
        "Chose theta = [   1.5591321  293.15         0.7      ]."
       ]
      },
      {
       "output_type": "stream",
       "stream": "stdout",
       "text": [
        "\tLoss: 4.64e-02\tError: 7.43e-02\tStd dev: 3.80e-03\tResample: 12\n",
        "Chose theta = [   1.55928002  293.15          0.7       ]."
       ]
      },
      {
       "output_type": "stream",
       "stream": "stdout",
       "text": [
        "\tLoss: 4.65e-02\tError: 7.45e-02\tStd dev: 3.83e-03\tResample: 12\n",
        "Chose theta = [   6.28318531  293.14296961    0.69997861]."
       ]
      },
      {
       "output_type": "stream",
       "stream": "stdout",
       "text": [
        "\tLoss: 4.64e-02\tError: 7.43e-02\tStd dev: 3.78e-03\tResample: 12\n",
        "Chose theta = [   1.56028539  293.15          0.7       ]."
       ]
      },
      {
       "output_type": "stream",
       "stream": "stdout",
       "text": [
        "\tLoss: 4.64e-02\tError: 7.44e-02\tStd dev: 3.79e-03\tResample: 12\n",
        "Chose theta = [   1.55205763  270.            0.95451489]."
       ]
      },
      {
       "output_type": "stream",
       "stream": "stdout",
       "text": [
        "\tLoss: 4.65e-02\tError: 7.46e-02\tStd dev: 3.84e-03\tResample: 12\n",
        "Chose theta = [   1.56149755  293.15          0.7       ]."
       ]
      },
      {
       "output_type": "stream",
       "stream": "stdout",
       "text": [
        "\tLoss: 4.64e-02\tError: 7.44e-02\tStd dev: 3.80e-03\tResample: 12\n",
        "Chose theta = [   6.28318531  293.29912111    0.70006919]."
       ]
      },
      {
       "output_type": "stream",
       "stream": "stdout",
       "text": [
        "\tLoss: 4.64e-02\tError: 7.44e-02\tStd dev: 3.78e-03\tResample: 12\n",
        "Chose theta = [   1.56672234  293.15          0.7       ]."
       ]
      },
      {
       "output_type": "stream",
       "stream": "stdout",
       "text": [
        "\tLoss: 4.64e-02\tError: 7.44e-02\tStd dev: 3.80e-03\tResample: 12\n",
        "Chose theta = [   1.56380763  293.15          0.7       ]."
       ]
      },
      {
       "output_type": "stream",
       "stream": "stdout",
       "text": [
        "\tLoss: 4.65e-02\tError: 7.46e-02\tStd dev: 3.84e-03\tResample: 13\n",
        "Chose theta = [   6.27220501  293.15          0.7       ]."
       ]
      },
      {
       "output_type": "stream",
       "stream": "stdout",
       "text": [
        "\tLoss: 4.64e-02\tError: 7.45e-02\tStd dev: 3.81e-03\tResample: 13\n",
        "Chose theta = [   0.          296.04894448    0.54381504]."
       ]
      },
      {
       "output_type": "stream",
       "stream": "stdout",
       "text": [
        "\tLoss: 4.64e-02\tError: 7.44e-02\tStd dev: 3.81e-03\tResample: 13\n",
        "Chose theta = [   6.28026213  293.15          0.7       ]."
       ]
      },
      {
       "output_type": "stream",
       "stream": "stdout",
       "text": [
        "\tLoss: 4.63e-02\tError: 7.43e-02\tStd dev: 3.76e-03\tResample: 13\n",
        "Chose theta = [   6.26872648  293.15          0.7       ]."
       ]
      },
      {
       "output_type": "stream",
       "stream": "stdout",
       "text": [
        "\tLoss: 4.64e-02\tError: 7.43e-02\tStd dev: 3.78e-03\tResample: 13\n",
        "Chose theta = [   6.27270839  293.15          0.7       ]."
       ]
      },
      {
       "output_type": "stream",
       "stream": "stdout",
       "text": [
        "\tLoss: 4.63e-02\tError: 7.43e-02\tStd dev: 3.77e-03\tResample: 13\n",
        "Chose theta = [   6.27109398  293.15          0.7       ]."
       ]
      },
      {
       "output_type": "stream",
       "stream": "stdout",
       "text": [
        "\tLoss: 4.63e-02\tError: 7.42e-02\tStd dev: 3.75e-03\tResample: 13\n",
        "Chose theta = [   6.28230083  293.15          0.7       ]."
       ]
      },
      {
       "output_type": "stream",
       "stream": "stdout",
       "text": [
        "\tLoss: 4.63e-02\tError: 7.42e-02\tStd dev: 3.75e-03\tResample: 13\n",
        "Chose theta = [   6.26907263  293.15          0.7       ]."
       ]
      },
      {
       "output_type": "stream",
       "stream": "stdout",
       "text": [
        "\tLoss: 4.63e-02\tError: 7.42e-02\tStd dev: 3.75e-03\tResample: 13\n",
        "Chose theta = [   6.27196241  293.15          0.7       ]."
       ]
      },
      {
       "output_type": "stream",
       "stream": "stdout",
       "text": [
        "\tLoss: 4.64e-02\tError: 7.44e-02\tStd dev: 3.79e-03\tResample: 13\n",
        "Chose theta = [   6.28318531  290.39054065    0.72341301]."
       ]
      },
      {
       "output_type": "stream",
       "stream": "stdout",
       "text": [
        "\tLoss: 4.64e-02\tError: 7.44e-02\tStd dev: 3.79e-03\tResample: 13\n",
        "Chose theta = [   6.28125685  293.15          0.7       ]."
       ]
      },
      {
       "output_type": "stream",
       "stream": "stdout",
       "text": [
        "\tLoss: 4.64e-02\tError: 7.45e-02\tStd dev: 3.81e-03\tResample: 13\n",
        "Chose theta = [   6.26929551  293.15          0.7       ]."
       ]
      },
      {
       "output_type": "stream",
       "stream": "stdout",
       "text": [
        "\tLoss: 4.64e-02\tError: 7.44e-02\tStd dev: 3.80e-03\tResample: 13\n",
        "Chose theta = [   6.28318531  293.06047959    0.69998935]."
       ]
      },
      {
       "output_type": "stream",
       "stream": "stdout",
       "text": [
        "\tLoss: 4.64e-02\tError: 7.45e-02\tStd dev: 3.82e-03\tResample: 13\n",
        "Chose theta = [   6.28318531  277.98286338    0.66614368]."
       ]
      },
      {
       "output_type": "stream",
       "stream": "stdout",
       "text": [
        "\tLoss: 4.64e-02\tError: 7.46e-02\tStd dev: 3.83e-03\tResample: 13\n",
        "Chose theta = [   6.28318531  271.45454553    0.75344865]."
       ]
      },
      {
       "output_type": "stream",
       "stream": "stdout",
       "text": [
        "\tLoss: 4.64e-02\tError: 7.46e-02\tStd dev: 3.82e-03\tResample: 13\n",
        "Chose theta = [   6.28318531  282.78086008    0.7527245 ]."
       ]
      },
      {
       "output_type": "stream",
       "stream": "stdout",
       "text": [
        "\tLoss: 4.65e-02\tError: 7.47e-02\tStd dev: 3.85e-03\tResample: 13\n",
        "Chose theta = [   6.27286347  293.15          0.7       ]."
       ]
      },
      {
       "output_type": "stream",
       "stream": "stdout",
       "text": [
        "\tLoss: 4.65e-02\tError: 7.47e-02\tStd dev: 3.84e-03\tResample: 13\n",
        "Chose theta = [   6.28318531  288.31261051    0.70485278]."
       ]
      },
      {
       "output_type": "stream",
       "stream": "stdout",
       "text": [
        "\tLoss: 4.64e-02\tError: 7.46e-02\tStd dev: 3.84e-03\tResample: 13\n",
        "Chose theta = [   6.2785566  293.15         0.7      ]."
       ]
      },
      {
       "output_type": "stream",
       "stream": "stdout",
       "text": [
        "\tLoss: 4.65e-02\tError: 7.47e-02\tStd dev: 3.85e-03\tResample: 13\n",
        "Chose theta = [   6.28318531  281.15822323    0.65238389]."
       ]
      },
      {
       "output_type": "stream",
       "stream": "stdout",
       "text": [
        "\tLoss: 4.65e-02\tError: 7.47e-02\tStd dev: 3.86e-03\tResample: 13\n",
        "Chose theta = [   6.28318531  293.01329899    0.7000375 ]."
       ]
      },
      {
       "output_type": "stream",
       "stream": "stdout",
       "text": [
        "\tLoss: 4.65e-02\tError: 7.47e-02\tStd dev: 3.84e-03\tResample: 13\n",
        "Chose theta = [   1.56021822  293.15          0.7       ]."
       ]
      },
      {
       "output_type": "stream",
       "stream": "stdout",
       "text": [
        "\tLoss: 4.65e-02\tError: 7.51e-02\tStd dev: 3.92e-03\tResample: 13\n",
        "Chose theta = [   4.70820388  293.15          0.7       ]."
       ]
      },
      {
       "output_type": "stream",
       "stream": "stdout",
       "text": [
        "\tLoss: 4.64e-02\tError: 7.45e-02\tStd dev: 3.73e-03\tResample: 13\n",
        "Chose theta = [   6.28318531  280.73558415    0.74077628]."
       ]
      },
      {
       "output_type": "stream",
       "stream": "stdout",
       "text": [
        "\tLoss: 4.64e-02\tError: 7.45e-02\tStd dev: 3.72e-03\tResample: 13\n",
        "Chose theta = [   3.1273237  293.15         0.7      ]."
       ]
      },
      {
       "output_type": "stream",
       "stream": "stdout",
       "text": [
        "\tLoss: 4.62e-02\tError: 7.41e-02\tStd dev: 3.41e-03\tResample: 13\n",
        "Chose theta = [   0.          286.34976264    0.62979492]."
       ]
      },
      {
       "output_type": "stream",
       "stream": "stdout",
       "text": [
        "\tLoss: 4.62e-02\tError: 7.41e-02\tStd dev: 3.41e-03\tResample: 13\n",
        "Chose theta = [   6.27259145  293.15          0.7       ]."
       ]
      },
      {
       "output_type": "stream",
       "stream": "stdout",
       "text": [
        "\tLoss: 4.62e-02\tError: 7.41e-02\tStd dev: 3.41e-03\tResample: 13\n",
        "Chose theta = [   6.27393205  293.15          0.7       ]."
       ]
      },
      {
       "output_type": "stream",
       "stream": "stdout",
       "text": [
        "\tLoss: 4.62e-02\tError: 7.40e-02\tStd dev: 3.39e-03\tResample: 13\n",
        "Chose theta = [   1.56171008  293.15          0.7       ]."
       ]
      },
      {
       "output_type": "stream",
       "stream": "stdout",
       "text": [
        "\tLoss: 4.61e-02\tError: 7.40e-02\tStd dev: 3.37e-03\tResample: 13\n",
        "Chose theta = [   6.27217483  293.15          0.7       ]."
       ]
      },
      {
       "output_type": "stream",
       "stream": "stdout",
       "text": [
        "\tLoss: 4.62e-02\tError: 7.41e-02\tStd dev: 3.40e-03\tResample: 13\n",
        "Chose theta = [   6.27175675  293.15          0.7       ]."
       ]
      },
      {
       "output_type": "stream",
       "stream": "stdout",
       "text": [
        "\tLoss: 4.62e-02\tError: 7.40e-02\tStd dev: 3.38e-03\tResample: 13\n",
        "Chose theta = [   6.27379275  293.15          0.7       ]."
       ]
      },
      {
       "output_type": "stream",
       "stream": "stdout",
       "text": [
        "\tLoss: 4.62e-02\tError: 7.41e-02\tStd dev: 3.39e-03\tResample: 13\n",
        "Chose theta = [   6.27161322  293.15          0.7       ]."
       ]
      },
      {
       "output_type": "stream",
       "stream": "stdout",
       "text": [
        "\tLoss: 4.62e-02\tError: 7.42e-02\tStd dev: 3.43e-03\tResample: 13\n",
        "Chose theta = [   6.27218805  293.15          0.7       ]."
       ]
      },
      {
       "output_type": "stream",
       "stream": "stdout",
       "text": [
        "\tLoss: 4.62e-02\tError: 7.42e-02\tStd dev: 3.44e-03\tResample: 13\n",
        "Chose theta = [   0.          275.03314032    0.59026459]."
       ]
      },
      {
       "output_type": "stream",
       "stream": "stdout",
       "text": [
        "\tLoss: 4.62e-02\tError: 7.41e-02\tStd dev: 3.42e-03\tResample: 13\n",
        "Chose theta = [   6.27704038  293.15          0.7       ]."
       ]
      },
      {
       "output_type": "stream",
       "stream": "stdout",
       "text": [
        "\tLoss: 4.61e-02\tError: 7.40e-02\tStd dev: 3.38e-03\tResample: 13\n",
        "Chose theta = [   6.27309834  293.15          0.7       ]."
       ]
      },
      {
       "output_type": "stream",
       "stream": "stdout",
       "text": [
        "\tLoss: 4.61e-02\tError: 7.40e-02\tStd dev: 3.38e-03\tResample: 13\n",
        "Chose theta = [   1.55926584  293.15          0.7       ]."
       ]
      },
      {
       "output_type": "stream",
       "stream": "stdout",
       "text": [
        "\tLoss: 4.62e-02\tError: 7.43e-02\tStd dev: 3.48e-03\tResample: 13\n",
        "Chose theta = [   6.27213569  293.15          0.7       ]."
       ]
      },
      {
       "output_type": "stream",
       "stream": "stdout",
       "text": [
        "\tLoss: 4.62e-02\tError: 7.43e-02\tStd dev: 3.50e-03\tResample: 13\n",
        "Chose theta = [   6.28318531  282.07206766    0.71925968]."
       ]
      },
      {
       "output_type": "stream",
       "stream": "stdout",
       "text": [
        "\tLoss: 4.62e-02\tError: 7.42e-02\tStd dev: 3.46e-03\tResample: 13\n",
        "Chose theta = [   6.27280063  293.15          0.7       ]."
       ]
      },
      {
       "output_type": "stream",
       "stream": "stdout",
       "text": [
        "\tLoss: 4.62e-02\tError: 7.42e-02\tStd dev: 3.46e-03\tResample: 13\n",
        "Chose theta = [   6.26917652  293.15          0.7       ]."
       ]
      },
      {
       "output_type": "stream",
       "stream": "stdout",
       "text": [
        "\tLoss: 4.62e-02\tError: 7.43e-02\tStd dev: 3.47e-03\tResample: 13\n",
        "Chose theta = [   6.28318531  295.52730081    0.69755512]."
       ]
      },
      {
       "output_type": "stream",
       "stream": "stdout",
       "text": [
        "\tLoss: 4.61e-02\tError: 7.41e-02\tStd dev: 3.39e-03\tResample: 13\n",
        "Chose theta = [  5.60343727e-02   2.70000000e+02   6.89058847e-01]."
       ]
      },
      {
       "output_type": "stream",
       "stream": "stdout",
       "text": [
        "\tLoss: 4.61e-02\tError: 7.40e-02\tStd dev: 3.38e-03\tResample: 13\n",
        "Chose theta = [   6.27903862  293.15          0.7       ]."
       ]
      },
      {
       "output_type": "stream",
       "stream": "stdout",
       "text": [
        "\tLoss: 4.61e-02\tError: 7.38e-02\tStd dev: 3.30e-03\tResample: 13\n",
        "Chose theta = [   6.26850679  293.15          0.7       ]."
       ]
      },
      {
       "output_type": "stream",
       "stream": "stdout",
       "text": [
        "\tLoss: 4.60e-02\tError: 7.36e-02\tStd dev: 3.23e-03\tResample: 13\n",
        "Chose theta = [   6.27044754  293.15          0.7       ]."
       ]
      },
      {
       "output_type": "stream",
       "stream": "stdout",
       "text": [
        "\tLoss: 4.60e-02\tError: 7.36e-02\tStd dev: 3.23e-03\tResample: 13\n",
        "Chose theta = [  1.29930344e-01   3.10000000e+02   7.09887247e-01]."
       ]
      },
      {
       "output_type": "stream",
       "stream": "stdout",
       "text": [
        "\tLoss: 4.60e-02\tError: 7.36e-02\tStd dev: 3.23e-03\tResample: 13\n",
        "Chose theta = [   0.          281.60614839    0.67748264]."
       ]
      },
      {
       "output_type": "stream",
       "stream": "stdout",
       "text": [
        "\tLoss: 4.60e-02\tError: 7.36e-02\tStd dev: 3.22e-03\tResample: 13\n",
        "Chose theta = [   6.26984727  293.15          0.7       ]."
       ]
      },
      {
       "output_type": "stream",
       "stream": "stdout",
       "text": [
        "\tLoss: 4.60e-02\tError: 7.35e-02\tStd dev: 3.20e-03\tResample: 13\n",
        "Chose theta = [   6.27532303  293.15          0.7       ]."
       ]
      },
      {
       "output_type": "stream",
       "stream": "stdout",
       "text": [
        "\tLoss: 4.60e-02\tError: 7.35e-02\tStd dev: 3.17e-03\tResample: 13\n",
        "Chose theta = [   6.27144638  293.15          0.7       ]."
       ]
      },
      {
       "output_type": "stream",
       "stream": "stdout",
       "text": [
        "\tLoss: 4.60e-02\tError: 7.34e-02\tStd dev: 3.16e-03\tResample: 13\n",
        "Chose theta = [   0.          277.69466638    0.62918487]."
       ]
      },
      {
       "output_type": "stream",
       "stream": "stdout",
       "text": [
        "\tLoss: 4.60e-02\tError: 7.34e-02\tStd dev: 3.14e-03\tResample: 13\n",
        "Chose theta = [   0.          295.93147078    0.65700872]."
       ]
      },
      {
       "output_type": "stream",
       "stream": "stdout",
       "text": [
        "\tLoss: 4.60e-02\tError: 7.34e-02\tStd dev: 3.17e-03\tResample: 13\n",
        "Chose theta = [   6.2768648  293.15         0.7      ]."
       ]
      },
      {
       "output_type": "stream",
       "stream": "stdout",
       "text": [
        "\tLoss: 4.59e-02\tError: 7.34e-02\tStd dev: 3.15e-03\tResample: 13\n",
        "Chose theta = [   6.27312381  293.15          0.7       ]."
       ]
      },
      {
       "output_type": "stream",
       "stream": "stdout",
       "text": [
        "\tLoss: 4.59e-02\tError: 7.33e-02\tStd dev: 3.11e-03\tResample: 14\n",
        "Chose theta = [   1.55759404  293.15          0.7       ]."
       ]
      },
      {
       "output_type": "stream",
       "stream": "stdout",
       "text": [
        "\tLoss: 4.59e-02\tError: 7.34e-02\tStd dev: 3.15e-03\tResample: 14\n",
        "Chose theta = [   3.12963365  293.15          0.7       ]."
       ]
      },
      {
       "output_type": "stream",
       "stream": "stdout",
       "text": [
        "\tLoss: 4.58e-02\tError: 7.31e-02\tStd dev: 2.79e-03\tResample: 14\n",
        "Chose theta = [   3.13196836  293.15          0.7       ]."
       ]
      },
      {
       "output_type": "stream",
       "stream": "stdout",
       "text": [
        "\tLoss: 4.56e-02\tError: 7.29e-02\tStd dev: 2.51e-03\tResample: 14\n",
        "Chose theta = [   3.12848847  293.15          0.7       ]."
       ]
      },
      {
       "output_type": "stream",
       "stream": "stdout",
       "text": [
        "\tLoss: 4.56e-02\tError: 7.29e-02\tStd dev: 2.44e-03\tResample: 14\n",
        "Chose theta = [   1.55856469  293.15          0.7       ]."
       ]
      },
      {
       "output_type": "stream",
       "stream": "stdout",
       "text": [
        "\tLoss: 4.56e-02\tError: 7.29e-02\tStd dev: 2.44e-03\tResample: 14\n",
        "Chose theta = [   3.13224002  293.15          0.7       ]."
       ]
      },
      {
       "output_type": "stream",
       "stream": "stdout",
       "text": [
        "\tLoss: 4.55e-02\tError: 7.29e-02\tStd dev: 2.30e-03\tResample: 15\n",
        "Chose theta = [   6.27167956  293.15          0.7       ]."
       ]
      },
      {
       "output_type": "stream",
       "stream": "stdout",
       "text": [
        "\tLoss: 4.55e-02\tError: 7.29e-02\tStd dev: 2.30e-03\tResample: 15\n",
        "Chose theta = [   4.70569018  293.15          0.7       ]."
       ]
      },
      {
       "output_type": "stream",
       "stream": "stdout",
       "text": [
        "\tLoss: 4.55e-02\tError: 7.27e-02\tStd dev: 2.20e-03\tResample: 15\n",
        "Chose theta = [   4.70255961  293.15          0.7       ]."
       ]
      },
      {
       "output_type": "stream",
       "stream": "stdout",
       "text": [
        "\tLoss: 4.55e-02\tError: 7.27e-02\tStd dev: 2.17e-03\tResample: 15\n",
        "Chose theta = [   6.28318531  293.24271625    0.69992263]."
       ]
      },
      {
       "output_type": "stream",
       "stream": "stdout",
       "text": [
        "\tLoss: 4.55e-02\tError: 7.27e-02\tStd dev: 2.17e-03\tResample: 15\n",
        "Chose theta = [   4.6987838  293.15         0.7      ]."
       ]
      },
      {
       "output_type": "stream",
       "stream": "stdout",
       "text": [
        "\tLoss: 4.55e-02\tError: 7.26e-02\tStd dev: 2.13e-03\tResample: 15\n",
        "Chose theta = [   4.7035635  293.15         0.7      ]."
       ]
      },
      {
       "output_type": "stream",
       "stream": "stdout",
       "text": [
        "\tLoss: 4.55e-02\tError: 7.25e-02\tStd dev: 2.11e-03\tResample: 15\n",
        "Chose theta = [   4.70039568  293.15          0.7       ]."
       ]
      },
      {
       "output_type": "stream",
       "stream": "stdout",
       "text": [
        "\tLoss: 4.55e-02\tError: 7.25e-02\tStd dev: 2.11e-03\tResample: 15\n",
        "Chose theta = [   4.70276878  293.15          0.7       ]."
       ]
      },
      {
       "output_type": "stream",
       "stream": "stdout",
       "text": [
        "\tLoss: 4.54e-02\tError: 7.24e-02\tStd dev: 2.08e-03\tResample: 15\n",
        "Chose theta = [   4.69897585  293.15          0.7       ]."
       ]
      },
      {
       "output_type": "stream",
       "stream": "stdout",
       "text": [
        "\tLoss: 4.54e-02\tError: 7.23e-02\tStd dev: 2.07e-03\tResample: 15\n",
        "Chose theta = [   4.70308957  293.15          0.7       ]."
       ]
      },
      {
       "output_type": "stream",
       "stream": "stdout",
       "text": [
        "\tLoss: 4.54e-02\tError: 7.23e-02\tStd dev: 2.06e-03\tResample: 15\n",
        "Chose theta = [   4.70200231  293.15          0.7       ]."
       ]
      },
      {
       "output_type": "stream",
       "stream": "stdout",
       "text": [
        "\tLoss: 4.54e-02\tError: 7.23e-02\tStd dev: 2.06e-03\tResample: 15\n",
        "Chose theta = [   6.27277544  293.15          0.7       ]."
       ]
      },
      {
       "output_type": "stream",
       "stream": "stdout",
       "text": [
        "\tLoss: 4.54e-02\tError: 7.23e-02\tStd dev: 2.06e-03\tResample: 15\n",
        "Chose theta = [   4.7045996  293.15         0.7      ]."
       ]
      },
      {
       "output_type": "stream",
       "stream": "stdout",
       "text": [
        "\tLoss: 4.54e-02\tError: 7.23e-02\tStd dev: 2.05e-03\tResample: 15\n",
        "Chose theta = [   1.55620164  293.15          0.7       ]."
       ]
      },
      {
       "output_type": "stream",
       "stream": "stdout",
       "text": [
        "\tLoss: 4.54e-02\tError: 7.23e-02\tStd dev: 2.05e-03\tResample: 15\n",
        "Chose theta = [   4.70201879  293.15          0.7       ]."
       ]
      },
      {
       "output_type": "stream",
       "stream": "stdout",
       "text": [
        "\tLoss: 4.54e-02\tError: 7.21e-02\tStd dev: 2.04e-03\tResample: 15\n",
        "Chose theta = [   6.27334734  293.15          0.7       ]."
       ]
      },
      {
       "output_type": "stream",
       "stream": "stdout",
       "text": [
        "\tLoss: 4.54e-02\tError: 7.21e-02\tStd dev: 2.03e-03\tResample: 15\n",
        "Chose theta = [   4.69851665  293.15          0.7       ]."
       ]
      },
      {
       "output_type": "stream",
       "stream": "stdout",
       "text": [
        "\tLoss: 4.54e-02\tError: 7.20e-02\tStd dev: 2.03e-03\tResample: 15\n",
        "Chose theta = [   6.27124516  293.15          0.7       ]."
       ]
      },
      {
       "output_type": "stream",
       "stream": "stdout",
       "text": [
        "\tLoss: 4.54e-02\tError: 7.20e-02\tStd dev: 2.03e-03\tResample: 15\n",
        "Chose theta = [   4.70933691  293.15          0.7       ]."
       ]
      },
      {
       "output_type": "stream",
       "stream": "stdout",
       "text": [
        "\tLoss: 4.54e-02\tError: 7.19e-02\tStd dev: 2.03e-03\tResample: 15\n",
        "Chose theta = [   4.70318874  293.15          0.7       ]."
       ]
      },
      {
       "output_type": "stream",
       "stream": "stdout",
       "text": [
        "\tLoss: 4.54e-02\tError: 7.19e-02\tStd dev: 2.03e-03\tResample: 15\n",
        "Chose theta = [   4.69892307  293.15          0.7       ]."
       ]
      },
      {
       "output_type": "stream",
       "stream": "stdout",
       "text": [
        "\tLoss: 4.53e-02\tError: 7.18e-02\tStd dev: 2.02e-03\tResample: 16\n",
        "Chose theta = [   6.27112249  293.15          0.7       ]."
       ]
      },
      {
       "output_type": "stream",
       "stream": "stdout",
       "text": [
        "\tLoss: 4.53e-02\tError: 7.18e-02\tStd dev: 2.02e-03\tResample: 16\n",
        "Chose theta = [   6.27014064  293.15          0.7       ]."
       ]
      },
      {
       "output_type": "stream",
       "stream": "stdout",
       "text": [
        "\tLoss: 4.53e-02\tError: 7.18e-02\tStd dev: 2.02e-03\tResample: 16\n",
        "Chose theta = [   6.27132793  293.15          0.7       ]."
       ]
      },
      {
       "output_type": "stream",
       "stream": "stdout",
       "text": [
        "\tLoss: 4.53e-02\tError: 7.18e-02\tStd dev: 2.03e-03\tResample: 16\n",
        "Chose theta = [   4.69961528  293.15          0.7       ]."
       ]
      },
      {
       "output_type": "stream",
       "stream": "stdout",
       "text": [
        "\tLoss: 4.53e-02\tError: 7.17e-02\tStd dev: 2.03e-03\tResample: 16\n",
        "Chose theta = [   6.27328607  293.15          0.7       ]."
       ]
      },
      {
       "output_type": "stream",
       "stream": "stdout",
       "text": [
        "\tLoss: 4.53e-02\tError: 7.17e-02\tStd dev: 2.03e-03\tResample: 16\n",
        "Chose theta = [   4.69843441  293.15          0.7       ]."
       ]
      },
      {
       "output_type": "stream",
       "stream": "stdout",
       "text": [
        "\tLoss: 4.53e-02\tError: 7.17e-02\tStd dev: 2.03e-03\tResample: 16\n",
        "Chose theta = [   6.27184402  293.15          0.7       ]."
       ]
      },
      {
       "output_type": "stream",
       "stream": "stdout",
       "text": [
        "\tLoss: 4.53e-02\tError: 7.16e-02\tStd dev: 2.04e-03\tResample: 16\n",
        "Chose theta = [   4.70051578  293.15          0.7       ]."
       ]
      },
      {
       "output_type": "stream",
       "stream": "stdout",
       "text": [
        "\tLoss: 4.53e-02\tError: 7.16e-02\tStd dev: 2.04e-03\tResample: 16\n",
        "Chose theta = [   6.28318531  293.11138518    0.70038651]."
       ]
      },
      {
       "output_type": "stream",
       "stream": "stdout",
       "text": [
        "\tLoss: 4.53e-02\tError: 7.15e-02\tStd dev: 2.04e-03\tResample: 16\n",
        "Chose theta = [   6.27180206  293.15          0.7       ]."
       ]
      },
      {
       "output_type": "stream",
       "stream": "stdout",
       "text": [
        "\tLoss: 4.53e-02\tError: 7.15e-02\tStd dev: 2.04e-03\tResample: 16\n",
        "Chose theta = [   6.27084596  293.15          0.7       ]."
       ]
      },
      {
       "output_type": "stream",
       "stream": "stdout",
       "text": [
        "\tLoss: 4.53e-02\tError: 7.15e-02\tStd dev: 2.05e-03\tResample: 16\n",
        "Chose theta = [   1.55593642  293.15          0.7       ]."
       ]
      },
      {
       "output_type": "stream",
       "stream": "stdout",
       "text": [
        "\tLoss: 4.53e-02\tError: 7.16e-02\tStd dev: 2.04e-03\tResample: 16\n",
        "Chose theta = [   6.27322188  293.15          0.7       ]."
       ]
      },
      {
       "output_type": "stream",
       "stream": "stdout",
       "text": [
        "\tLoss: 4.53e-02\tError: 7.16e-02\tStd dev: 2.05e-03\tResample: 16\n",
        "Chose theta = [   6.28318531  293.26708917    0.70045265]."
       ]
      },
      {
       "output_type": "stream",
       "stream": "stdout",
       "text": [
        "\tLoss: 4.53e-02\tError: 7.15e-02\tStd dev: 2.06e-03\tResample: 16\n",
        "Chose theta = [   6.26902749  293.15          0.7       ]."
       ]
      },
      {
       "output_type": "stream",
       "stream": "stdout",
       "text": [
        "\tLoss: 4.53e-02\tError: 7.15e-02\tStd dev: 2.06e-03\tResample: 16\n",
        "Chose theta = [   6.27226524  293.15          0.7       ]."
       ]
      },
      {
       "output_type": "stream",
       "stream": "stdout",
       "text": [
        "\tLoss: 4.53e-02\tError: 7.15e-02\tStd dev: 2.06e-03\tResample: 16\n",
        "Chose theta = [   6.2719894  293.15         0.7      ]."
       ]
      },
      {
       "output_type": "stream",
       "stream": "stdout",
       "text": [
        "\tLoss: 4.53e-02\tError: 7.15e-02\tStd dev: 2.06e-03\tResample: 16\n",
        "Chose theta = [   6.27242292  293.15          0.7       ]."
       ]
      },
      {
       "output_type": "stream",
       "stream": "stdout",
       "text": [
        "\tLoss: 4.53e-02\tError: 7.15e-02\tStd dev: 2.06e-03\tResample: 16\n",
        "Chose theta = [   1.56008631  293.15          0.7       ]."
       ]
      },
      {
       "output_type": "stream",
       "stream": "stdout",
       "text": [
        "\tLoss: 4.53e-02\tError: 7.16e-02\tStd dev: 2.06e-03\tResample: 16\n",
        "Chose theta = [   6.27337204  293.15          0.7       ]."
       ]
      },
      {
       "output_type": "stream",
       "stream": "stdout",
       "text": [
        "\tLoss: 4.53e-02\tError: 7.15e-02\tStd dev: 2.06e-03\tResample: 16\n",
        "Chose theta = [   1.55907948  293.15          0.7       ]."
       ]
      },
      {
       "output_type": "stream",
       "stream": "stdout",
       "text": [
        "\tLoss: 4.53e-02\tError: 7.16e-02\tStd dev: 2.06e-03\tResample: 16\n",
        "Chose theta = [   1.55974032  293.15          0.7       ]."
       ]
      },
      {
       "output_type": "stream",
       "stream": "stdout",
       "text": [
        "\tLoss: 4.53e-02\tError: 7.17e-02\tStd dev: 2.05e-03\tResample: 16\n",
        "Chose theta = [   6.27195569  293.15          0.7       ]."
       ]
      },
      {
       "output_type": "stream",
       "stream": "stdout",
       "text": [
        "\tLoss: 4.53e-02\tError: 7.17e-02\tStd dev: 2.06e-03\tResample: 16\n",
        "Chose theta = [   6.28318531  293.16773414    0.70008051]."
       ]
      },
      {
       "output_type": "stream",
       "stream": "stdout",
       "text": [
        "\tLoss: 4.52e-02\tError: 7.16e-02\tStd dev: 2.08e-03\tResample: 17\n",
        "Chose theta = [   4.70158252  293.15          0.7       ]."
       ]
      },
      {
       "output_type": "stream",
       "stream": "stdout",
       "text": [
        "\tLoss: 4.52e-02\tError: 7.15e-02\tStd dev: 2.08e-03\tResample: 17\n",
        "Chose theta = [   6.27196812  293.15          0.7       ]."
       ]
      },
      {
       "output_type": "stream",
       "stream": "stdout",
       "text": [
        "\tLoss: 4.52e-02\tError: 7.15e-02\tStd dev: 2.09e-03\tResample: 17\n",
        "Chose theta = [   4.70133253  293.15          0.7       ]."
       ]
      },
      {
       "output_type": "stream",
       "stream": "stdout",
       "text": [
        "\tLoss: 4.52e-02\tError: 7.14e-02\tStd dev: 2.09e-03\tResample: 17\n",
        "Chose theta = [   4.69999739  293.15          0.7       ]."
       ]
      },
      {
       "output_type": "stream",
       "stream": "stdout",
       "text": [
        "\tLoss: 4.52e-02\tError: 7.14e-02\tStd dev: 2.09e-03\tResample: 17\n",
        "Chose theta = [   6.27061213  293.15          0.7       ]."
       ]
      },
      {
       "output_type": "stream",
       "stream": "stdout",
       "text": [
        "\tLoss: 4.52e-02\tError: 7.13e-02\tStd dev: 2.10e-03\tResample: 17\n",
        "Chose theta = [   6.26743729  293.15          0.7       ]."
       ]
      },
      {
       "output_type": "stream",
       "stream": "stdout",
       "text": [
        "\tLoss: 4.52e-02\tError: 7.13e-02\tStd dev: 2.11e-03\tResample: 17\n",
        "Chose theta = [   6.27016234  293.15          0.7       ]."
       ]
      },
      {
       "output_type": "stream",
       "stream": "stdout",
       "text": [
        "\tLoss: 4.52e-02\tError: 7.13e-02\tStd dev: 2.10e-03\tResample: 17\n",
        "Chose theta = [   6.27158997  293.15          0.7       ]."
       ]
      },
      {
       "output_type": "stream",
       "stream": "stdout",
       "text": [
        "\tLoss: 4.52e-02\tError: 7.13e-02\tStd dev: 2.10e-03\tResample: 17\n",
        "Chose theta = [   6.27120029  293.15          0.7       ]."
       ]
      },
      {
       "output_type": "stream",
       "stream": "stdout",
       "text": [
        "\tLoss: 4.52e-02\tError: 7.13e-02\tStd dev: 2.10e-03\tResample: 17\n",
        "Chose theta = [   6.27240258  293.15          0.7       ]."
       ]
      },
      {
       "output_type": "stream",
       "stream": "stdout",
       "text": [
        "\tLoss: 4.52e-02\tError: 7.13e-02\tStd dev: 2.10e-03\tResample: 17\n",
        "Chose theta = [   6.27265393  293.15          0.7       ]."
       ]
      },
      {
       "output_type": "stream",
       "stream": "stdout",
       "text": [
        "\tLoss: 4.52e-02\tError: 7.13e-02\tStd dev: 2.10e-03\tResample: 17\n",
        "Chose theta = [   6.27325246  293.15          0.7       ]."
       ]
      },
      {
       "output_type": "stream",
       "stream": "stdout",
       "text": [
        "\tLoss: 4.52e-02\tError: 7.13e-02\tStd dev: 2.10e-03\tResample: 17\n",
        "Chose theta = [   6.28318531  293.06685088    0.7002393 ]."
       ]
      },
      {
       "output_type": "stream",
       "stream": "stdout",
       "text": [
        "\tLoss: 4.52e-02\tError: 7.13e-02\tStd dev: 2.11e-03\tResample: 17\n",
        "Chose theta = [   6.27372517  293.15          0.7       ]."
       ]
      },
      {
       "output_type": "stream",
       "stream": "stdout",
       "text": [
        "\tLoss: 4.52e-02\tError: 7.12e-02\tStd dev: 2.13e-03\tResample: 17\n",
        "Chose theta = [   6.27238913  293.15          0.7       ]."
       ]
      },
      {
       "output_type": "stream",
       "stream": "stdout",
       "text": [
        "\tLoss: 4.52e-02\tError: 7.12e-02\tStd dev: 2.12e-03\tResample: 17\n",
        "Chose theta = [   6.26872479  293.15          0.7       ]."
       ]
      },
      {
       "output_type": "stream",
       "stream": "stdout",
       "text": [
        "\tLoss: 4.52e-02\tError: 7.12e-02\tStd dev: 2.12e-03\tResample: 17\n",
        "Chose theta = [   6.26988339  293.15          0.7       ]."
       ]
      },
      {
       "output_type": "stream",
       "stream": "stdout",
       "text": [
        "\tLoss: 4.52e-02\tError: 7.11e-02\tStd dev: 2.13e-03\tResample: 17\n",
        "Chose theta = [   1.55862789  293.15          0.7       ]."
       ]
      },
      {
       "output_type": "stream",
       "stream": "stdout",
       "text": [
        "\tLoss: 4.52e-02\tError: 7.11e-02\tStd dev: 2.13e-03\tResample: 17\n",
        "Chose theta = [   6.27080141  293.15          0.7       ]."
       ]
      },
      {
       "output_type": "stream",
       "stream": "stdout",
       "text": [
        "\tLoss: 4.52e-02\tError: 7.11e-02\tStd dev: 2.13e-03\tResample: 17\n",
        "Chose theta = [   6.27332672  293.15          0.7       ]."
       ]
      },
      {
       "output_type": "stream",
       "stream": "stdout",
       "text": [
        "\tLoss: 4.52e-02\tError: 7.11e-02\tStd dev: 2.13e-03\tResample: 17\n",
        "Chose theta = [   6.27176631  293.15          0.7       ]."
       ]
      },
      {
       "output_type": "stream",
       "stream": "stdout",
       "text": [
        "\tLoss: 4.52e-02\tError: 7.11e-02\tStd dev: 2.13e-03\tResample: 17\n",
        "Chose theta = [   6.27155888  293.15          0.7       ]."
       ]
      },
      {
       "output_type": "stream",
       "stream": "stdout",
       "text": [
        "\tLoss: 4.52e-02\tError: 7.11e-02\tStd dev: 2.14e-03\tResample: 17\n",
        "Chose theta = [   6.26961614  293.15          0.7       ]."
       ]
      },
      {
       "output_type": "stream",
       "stream": "stdout",
       "text": [
        "\tLoss: 4.52e-02\tError: 7.10e-02\tStd dev: 2.14e-03\tResample: 17\n",
        "Chose theta = [   1.55562102  293.15          0.7       ]."
       ]
      },
      {
       "output_type": "stream",
       "stream": "stdout",
       "text": [
        "\tLoss: 4.52e-02\tError: 7.10e-02\tStd dev: 2.14e-03\tResample: 17\n",
        "Chose theta = [   6.2681659  293.15         0.7      ]."
       ]
      },
      {
       "output_type": "stream",
       "stream": "stdout",
       "text": [
        "\tLoss: 4.52e-02\tError: 7.10e-02\tStd dev: 2.14e-03\tResample: 17\n",
        "Chose theta = [   6.28318531  293.16407216    0.70012898]."
       ]
      },
      {
       "output_type": "stream",
       "stream": "stdout",
       "text": [
        "\tLoss: 4.52e-02\tError: 7.10e-02\tStd dev: 2.14e-03\tResample: 17\n",
        "Chose theta = [   6.26780927  293.15          0.7       ]."
       ]
      },
      {
       "output_type": "stream",
       "stream": "stdout",
       "text": [
        "\tLoss: 4.52e-02\tError: 7.10e-02\tStd dev: 2.14e-03\tResample: 17\n",
        "Chose theta = [   6.28318531  293.16527217    0.69961982]."
       ]
      },
      {
       "output_type": "stream",
       "stream": "stdout",
       "text": [
        "\tLoss: 4.52e-02\tError: 7.11e-02\tStd dev: 2.14e-03\tResample: 17\n",
        "Chose theta = [   6.26792909  293.15          0.7       ]."
       ]
      },
      {
       "output_type": "stream",
       "stream": "stdout",
       "text": [
        "\tLoss: 4.52e-02\tError: 7.10e-02\tStd dev: 2.14e-03\tResample: 17\n",
        "Chose theta = [   6.27259576  293.15          0.7       ]."
       ]
      },
      {
       "output_type": "stream",
       "stream": "stdout",
       "text": [
        "\tLoss: 4.52e-02\tError: 7.11e-02\tStd dev: 2.14e-03\tResample: 17\n",
        "Chose theta = [   1.5564057  293.15         0.7      ]."
       ]
      },
      {
       "output_type": "stream",
       "stream": "stdout",
       "text": [
        "\tLoss: 4.52e-02\tError: 7.13e-02\tStd dev: 2.14e-03\tResample: 17\n",
        "Chose theta = [   6.27222884  293.15          0.7       ]."
       ]
      },
      {
       "output_type": "stream",
       "stream": "stdout",
       "text": [
        "\tLoss: 4.52e-02\tError: 7.12e-02\tStd dev: 2.15e-03\tResample: 17\n",
        "Chose theta = [   6.26801135  293.15          0.7       ]."
       ]
      },
      {
       "output_type": "stream",
       "stream": "stdout",
       "text": [
        "\tLoss: 4.52e-02\tError: 7.12e-02\tStd dev: 2.15e-03\tResample: 17\n",
        "Chose theta = [   6.26994641  293.15          0.7       ]."
       ]
      },
      {
       "output_type": "stream",
       "stream": "stdout",
       "text": [
        "\tLoss: 4.52e-02\tError: 7.12e-02\tStd dev: 2.15e-03\tResample: 17\n",
        "Chose theta = [   6.27284444  293.15          0.7       ]."
       ]
      },
      {
       "output_type": "stream",
       "stream": "stdout",
       "text": [
        "\tLoss: 4.52e-02\tError: 7.13e-02\tStd dev: 2.14e-03\tResample: 17\n",
        "Chose theta = [   4.70213428  293.15          0.7       ]."
       ]
      },
      {
       "output_type": "stream",
       "stream": "stdout",
       "text": [
        "\tLoss: 4.52e-02\tError: 7.11e-02\tStd dev: 2.14e-03\tResample: 17\n",
        "Chose theta = [   6.27287116  293.15          0.7       ]."
       ]
      },
      {
       "output_type": "stream",
       "stream": "stdout",
       "text": [
        "\tLoss: 4.52e-02\tError: 7.11e-02\tStd dev: 2.14e-03\tResample: 17\n",
        "Chose theta = [   6.28318531  293.07638494    0.70000448]."
       ]
      },
      {
       "output_type": "stream",
       "stream": "stdout",
       "text": [
        "\tLoss: 4.52e-02\tError: 7.11e-02\tStd dev: 2.14e-03\tResample: 17\n",
        "Chose theta = [   6.2721442  293.15         0.7      ]."
       ]
      },
      {
       "output_type": "stream",
       "stream": "stdout",
       "text": [
        "\tLoss: 4.51e-02\tError: 7.11e-02\tStd dev: 2.14e-03\tResample: 17\n",
        "Chose theta = [   6.27260901  293.15          0.7       ]."
       ]
      },
      {
       "output_type": "stream",
       "stream": "stdout",
       "text": [
        "\tLoss: 4.51e-02\tError: 7.11e-02\tStd dev: 2.15e-03\tResample: 17\n",
        "Chose theta = [   4.6995885  293.15         0.7      ]."
       ]
      },
      {
       "output_type": "stream",
       "stream": "stdout",
       "text": [
        "\tLoss: 4.51e-02\tError: 7.10e-02\tStd dev: 2.14e-03\tResample: 17\n",
        "Chose theta = [   6.26860515  293.15          0.7       ]."
       ]
      },
      {
       "output_type": "stream",
       "stream": "stdout",
       "text": [
        "\tLoss: 4.51e-02\tError: 7.10e-02\tStd dev: 2.14e-03\tResample: 17\n",
        "Chose theta = [   6.26823399  293.15          0.7       ]."
       ]
      },
      {
       "output_type": "stream",
       "stream": "stdout",
       "text": [
        "\tLoss: 4.51e-02\tError: 7.10e-02\tStd dev: 2.14e-03\tResample: 17\n",
        "Chose theta = [   1.5565314  293.15         0.7      ]."
       ]
      },
      {
       "output_type": "stream",
       "stream": "stdout",
       "text": [
        "\tLoss: 4.51e-02\tError: 7.11e-02\tStd dev: 2.14e-03\tResample: 17\n",
        "Chose theta = [   6.27312843  293.15          0.7       ]."
       ]
      },
      {
       "output_type": "stream",
       "stream": "stdout",
       "text": [
        "\tLoss: 4.51e-02\tError: 7.11e-02\tStd dev: 2.14e-03\tResample: 17\n",
        "Chose theta = [   6.27201404  293.15          0.7       ]."
       ]
      },
      {
       "output_type": "stream",
       "stream": "stdout",
       "text": [
        "\tLoss: 4.51e-02\tError: 7.10e-02\tStd dev: 2.14e-03\tResample: 17\n",
        "Chose theta = [   6.26950054  293.15          0.7       ]."
       ]
      },
      {
       "output_type": "stream",
       "stream": "stdout",
       "text": [
        "\tLoss: 4.51e-02\tError: 7.10e-02\tStd dev: 2.14e-03\tResample: 17\n",
        "Chose theta = [   6.27064989  293.15          0.7       ]."
       ]
      },
      {
       "output_type": "stream",
       "stream": "stdout",
       "text": [
        "\tLoss: 4.51e-02\tError: 7.09e-02\tStd dev: 2.15e-03\tResample: 17\n",
        "0.882 \u00b1 0.000962\t"
       ]
      },
      {
       "output_type": "stream",
       "stream": "stdout",
       "text": [
        " 0.0172 \u00b1 0.00087\t 0.0135 \u00b1 0.00215\t 1.02 \u00b1 0.00085\t -1.01 \u00b1 0.0025\t\n",
        "[ 0.9        0.         0.0844303  1.02     ]\n",
        "Loss: 2.92e-01\tError: 2.47e-01\tStd dev: 1.63e-01\tResample: 1"
       ]
      },
      {
       "output_type": "stream",
       "stream": "stdout",
       "text": [
        "\n",
        "Loss: 2.58e-01\tError: 1.65e-01\tStd dev: 1.21e-01\tResample: 1\n",
        "Loss: 2.67e-01\tError: 1.92e-01\tStd dev: 9.68e-02\tResample: 1\n",
        "Loss: 2.64e-01\tError: 1.85e-01\tStd dev: 8.02e-02\tResample: 1\n",
        "Loss: 2.71e-01\tError: 2.02e-01\tStd dev: 6.65e-02\tResample: 2\n",
        "Loss: 3.03e-01\tError: 2.70e-01\tStd dev: 5.59e-02\tResample: 3"
       ]
      },
      {
       "output_type": "stream",
       "stream": "stdout",
       "text": [
        "\n",
        "Loss: 3.20e-01\tError: 3.01e-01\tStd dev: 5.08e-02\tResample: 3\n",
        "Loss: 3.35e-01\tError: 3.24e-01\tStd dev: 4.78e-02\tResample: 4\n",
        "Loss: 3.64e-01\tError: 3.68e-01\tStd dev: 4.74e-02\tResample: 5"
       ]
      },
      {
       "output_type": "stream",
       "stream": "stdout",
       "text": [
        "\n",
        "Loss: 3.98e-01\tError: 4.11e-01\tStd dev: 4.34e-02\tResample: 6\n",
        "Loss: 4.28e-01\tError: 4.46e-01\tStd dev: 3.38e-02\tResample: 7\n",
        "Loss: 4.38e-01\tError: 4.57e-01\tStd dev: 3.03e-02\tResample: 7"
       ]
      },
      {
       "output_type": "stream",
       "stream": "stdout",
       "text": [
        "\n",
        "Loss: 4.43e-01\tError: 4.63e-01\tStd dev: 2.86e-02\tResample: 7\n",
        "Loss: 4.46e-01\tError: 4.66e-01\tStd dev: 2.82e-02\tResample: 8\n",
        "Loss: 4.46e-01\tError: 4.67e-01\tStd dev: 2.77e-02\tResample: 8\n",
        "Loss: 4.55e-01\tError: 4.75e-01\tStd dev: 2.27e-02\tResample: 9"
       ]
      },
      {
       "output_type": "stream",
       "stream": "stdout",
       "text": [
        "\n",
        "Loss: 4.65e-01\tError: 4.85e-01\tStd dev: 1.90e-02\tResample: 10\n",
        "Loss: 4.76e-01\tError: 4.95e-01\tStd dev: 1.69e-02\tResample: 10\n",
        "Loss: 4.90e-01\tError: 5.09e-01\tStd dev: 1.49e-02\tResample: 11"
       ]
      },
      {
       "output_type": "stream",
       "stream": "stdout",
       "text": [
        "\n",
        "Loss: 4.98e-01\tError: 5.17e-01\tStd dev: 1.37e-02\tResample: 11\n",
        "Loss: 5.06e-01\tError: 5.25e-01\tStd dev: 1.17e-02\tResample: 12\n",
        "Loss: 5.13e-01\tError: 5.31e-01\tStd dev: 1.11e-02\tResample: 12\n",
        "Loss: 5.17e-01\tError: 5.34e-01\tStd dev: 1.09e-02\tResample: 13"
       ]
      },
      {
       "output_type": "stream",
       "stream": "stdout",
       "text": [
        "\n",
        "Loss: 5.19e-01\tError: 5.37e-01\tStd dev: 1.07e-02\tResample: 13\n",
        "Loss: 5.19e-01\tError: 5.37e-01\tStd dev: 1.04e-02\tResample: 14\n",
        "Loss: 5.18e-01\tError: 5.37e-01\tStd dev: 1.00e-02\tResample: 14\n",
        "Loss: 5.17e-01\tError: 5.36e-01\tStd dev: 9.35e-03\tResample: 14\n",
        "Loss: 5.15e-01\tError: 5.35e-01\tStd dev: 8.66e-03\tResample: 15"
       ]
      },
      {
       "output_type": "stream",
       "stream": "stdout",
       "text": [
        "\n",
        "Loss: 5.15e-01\tError: 5.35e-01\tStd dev: 8.19e-03\tResample: 15\n",
        "Loss: 5.15e-01\tError: 5.35e-01\tStd dev: 8.47e-03\tResample: 15\n",
        "Loss: 5.17e-01\tError: 5.36e-01\tStd dev: 9.19e-03\tResample: 15\n",
        "Loss: 5.23e-01\tError: 5.40e-01\tStd dev: 1.03e-02\tResample: 16\n",
        "Loss: 5.14e-01\tError: 5.32e-01\tStd dev: 9.81e-03\tResample: 17"
       ]
      },
      {
       "output_type": "stream",
       "stream": "stdout",
       "text": [
        "\n",
        "Loss: 5.09e-01\tError: 5.27e-01\tStd dev: 3.11e-03\tResample: 18\n",
        "Loss: 5.08e-01\tError: 5.27e-01\tStd dev: 3.16e-03\tResample: 19\n",
        "Loss: 5.07e-01\tError: 5.26e-01\tStd dev: 3.14e-03\tResample: 20"
       ]
      },
      {
       "output_type": "stream",
       "stream": "stdout",
       "text": [
        "\n",
        "Loss: 5.07e-01\tError: 5.26e-01\tStd dev: 3.07e-03\tResample: 20\n",
        "Loss: 5.07e-01\tError: 5.26e-01\tStd dev: 3.07e-03\tResample: 21\n",
        "Loss: 5.07e-01\tError: 5.26e-01\tStd dev: 3.12e-03\tResample: 21\n",
        "Loss: 5.07e-01\tError: 5.26e-01\tStd dev: 3.19e-03\tResample: 21\n",
        "Chose theta = [   2.54066624  293.15          0.7       ]."
       ]
      },
      {
       "output_type": "stream",
       "stream": "stdout",
       "text": [
        "\tLoss: 5.07e-01\tError: 5.26e-01\tStd dev: 3.20e-03\tResample: 21\n",
        "Chose theta = [   2.53861924  293.15          0.7       ]."
       ]
      },
      {
       "output_type": "stream",
       "stream": "stdout",
       "text": [
        "\tLoss: 5.07e-01\tError: 5.26e-01\tStd dev: 3.23e-03\tResample: 21\n",
        "Chose theta = [   2.53917264  293.15          0.7       ]."
       ]
      },
      {
       "output_type": "stream",
       "stream": "stdout",
       "text": [
        "\tLoss: 5.07e-01\tError: 5.26e-01\tStd dev: 3.25e-03\tResample: 21\n",
        "Chose theta = [   2.54279015  293.15          0.7       ]."
       ]
      },
      {
       "output_type": "stream",
       "stream": "stdout",
       "text": [
        "\tLoss: 5.07e-01\tError: 5.26e-01\tStd dev: 3.26e-03\tResample: 21\n",
        "Chose theta = [   0.97325163  293.15          0.7       ]."
       ]
      },
      {
       "output_type": "stream",
       "stream": "stdout",
       "text": [
        "\tLoss: 5.07e-01\tError: 5.26e-01\tStd dev: 3.27e-03\tResample: 21\n",
        "Chose theta = [   0.97963635  293.15          0.7       ]."
       ]
      },
      {
       "output_type": "stream",
       "stream": "stdout",
       "text": [
        "\tLoss: 5.07e-01\tError: 5.26e-01\tStd dev: 3.25e-03\tResample: 21\n",
        "Chose theta = [   0.97309567  293.15          0.7       ]."
       ]
      },
      {
       "output_type": "stream",
       "stream": "stdout",
       "text": [
        "\tLoss: 5.07e-01\tError: 5.26e-01\tStd dev: 3.25e-03\tResample: 21\n",
        "Chose theta = [   2.54263606  293.15          0.7       ]."
       ]
      },
      {
       "output_type": "stream",
       "stream": "stdout",
       "text": [
        "\tLoss: 5.07e-01\tError: 5.26e-01\tStd dev: 3.25e-03\tResample: 21\n",
        "Chose theta = [   0.96825078  293.15          0.7       ]."
       ]
      },
      {
       "output_type": "stream",
       "stream": "stdout",
       "text": [
        "\tLoss: 5.07e-01\tError: 5.26e-01\tStd dev: 3.27e-03\tResample: 21\n",
        "Chose theta = [   0.97058608  293.15          0.7       ]."
       ]
      },
      {
       "output_type": "stream",
       "stream": "stdout",
       "text": [
        "\tLoss: 5.07e-01\tError: 5.26e-01\tStd dev: 3.25e-03\tResample: 21\n",
        "Chose theta = [   0.97862667  293.15          0.7       ]."
       ]
      },
      {
       "output_type": "stream",
       "stream": "stdout",
       "text": [
        "\tLoss: 5.07e-01\tError: 5.26e-01\tStd dev: 3.25e-03\tResample: 21\n",
        "Chose theta = [   0.97073553  293.15          0.7       ]."
       ]
      },
      {
       "output_type": "stream",
       "stream": "stdout",
       "text": [
        "\tLoss: 5.07e-01\tError: 5.26e-01\tStd dev: 3.24e-03\tResample: 21\n",
        "Chose theta = [   0.9716572  293.15         0.7      ]."
       ]
      },
      {
       "output_type": "stream",
       "stream": "stdout",
       "text": [
        "\tLoss: 5.07e-01\tError: 5.26e-01\tStd dev: 3.25e-03\tResample: 21\n",
        "Chose theta = [   2.54014949  293.15          0.7       ]."
       ]
      },
      {
       "output_type": "stream",
       "stream": "stdout",
       "text": [
        "\tLoss: 5.06e-01\tError: 5.26e-01\tStd dev: 3.25e-03\tResample: 21\n",
        "Chose theta = [   0.97622993  293.15          0.7       ]."
       ]
      },
      {
       "output_type": "stream",
       "stream": "stdout",
       "text": [
        "\tLoss: 5.07e-01\tError: 5.26e-01\tStd dev: 3.22e-03\tResample: 21\n",
        "Chose theta = [   0.9726894  293.15         0.7      ]."
       ]
      },
      {
       "output_type": "stream",
       "stream": "stdout",
       "text": [
        "\tLoss: 5.07e-01\tError: 5.26e-01\tStd dev: 3.23e-03\tResample: 21\n",
        "Chose theta = [   0.97291766  293.15          0.7       ]."
       ]
      },
      {
       "output_type": "stream",
       "stream": "stdout",
       "text": [
        "\tLoss: 5.06e-01\tError: 5.26e-01\tStd dev: 3.24e-03\tResample: 21\n",
        "Chose theta = [   2.5428048  293.15         0.7      ]."
       ]
      },
      {
       "output_type": "stream",
       "stream": "stdout",
       "text": [
        "\tLoss: 5.06e-01\tError: 5.25e-01\tStd dev: 3.23e-03\tResample: 21\n",
        "Chose theta = [   0.96849109  293.15          0.7       ]."
       ]
      },
      {
       "output_type": "stream",
       "stream": "stdout",
       "text": [
        "\tLoss: 5.06e-01\tError: 5.25e-01\tStd dev: 3.24e-03\tResample: 21\n",
        "Chose theta = [   5.68364623  293.15          0.7       ]."
       ]
      },
      {
       "output_type": "stream",
       "stream": "stdout",
       "text": [
        "\tLoss: 5.07e-01\tError: 5.26e-01\tStd dev: 3.19e-03\tResample: 22\n",
        "Chose theta = [   0.97037046  293.15          0.7       ]."
       ]
      },
      {
       "output_type": "stream",
       "stream": "stdout",
       "text": [
        "\tLoss: 5.06e-01\tError: 5.26e-01\tStd dev: 3.21e-03\tResample: 22\n",
        "Chose theta = [   0.97366583  293.15          0.7       ]."
       ]
      },
      {
       "output_type": "stream",
       "stream": "stdout",
       "text": [
        "\tLoss: 5.06e-01\tError: 5.26e-01\tStd dev: 3.22e-03\tResample: 22\n",
        "Chose theta = [   0.97210765  293.15          0.7       ]."
       ]
      },
      {
       "output_type": "stream",
       "stream": "stdout",
       "text": [
        "\tLoss: 5.06e-01\tError: 5.25e-01\tStd dev: 3.22e-03\tResample: 22\n",
        "Chose theta = [   0.96807122  293.15          0.7       ]."
       ]
      },
      {
       "output_type": "stream",
       "stream": "stdout",
       "text": [
        "\tLoss: 5.06e-01\tError: 5.25e-01\tStd dev: 3.24e-03\tResample: 22\n",
        "Chose theta = [   0.97604003  293.15          0.7       ]."
       ]
      },
      {
       "output_type": "stream",
       "stream": "stdout",
       "text": [
        "\tLoss: 5.06e-01\tError: 5.25e-01\tStd dev: 3.22e-03\tResample: 22\n",
        "Chose theta = [   0.9702103  293.15         0.7      ]."
       ]
      },
      {
       "output_type": "stream",
       "stream": "stdout",
       "text": [
        "\tLoss: 5.06e-01\tError: 5.25e-01\tStd dev: 3.23e-03\tResample: 22\n",
        "Chose theta = [   0.97377961  293.15          0.7       ]."
       ]
      },
      {
       "output_type": "stream",
       "stream": "stdout",
       "text": [
        "\tLoss: 5.06e-01\tError: 5.25e-01\tStd dev: 3.25e-03\tResample: 22\n",
        "Chose theta = [   0.97681268  293.15          0.7       ]."
       ]
      },
      {
       "output_type": "stream",
       "stream": "stdout",
       "text": [
        "\tLoss: 5.06e-01\tError: 5.25e-01\tStd dev: 3.25e-03\tResample: 22\n",
        "Chose theta = [   0.97369693  293.15          0.7       ]."
       ]
      },
      {
       "output_type": "stream",
       "stream": "stdout",
       "text": [
        "\tLoss: 5.06e-01\tError: 5.25e-01\tStd dev: 3.24e-03\tResample: 22\n",
        "Chose theta = [   0.97003731  293.15          0.7       ]."
       ]
      },
      {
       "output_type": "stream",
       "stream": "stdout",
       "text": [
        "\tLoss: 5.06e-01\tError: 5.25e-01\tStd dev: 3.24e-03\tResample: 22\n",
        "Chose theta = [   0.97471628  293.15          0.7       ]."
       ]
      },
      {
       "output_type": "stream",
       "stream": "stdout",
       "text": [
        "\tLoss: 5.06e-01\tError: 5.25e-01\tStd dev: 3.24e-03\tResample: 22\n",
        "Chose theta = [   2.54198214  293.15          0.7       ]."
       ]
      },
      {
       "output_type": "stream",
       "stream": "stdout",
       "text": [
        "\tLoss: 5.06e-01\tError: 5.25e-01\tStd dev: 3.23e-03\tResample: 22\n",
        "Chose theta = [   0.97921918  293.15          0.7       ]."
       ]
      },
      {
       "output_type": "stream",
       "stream": "stdout",
       "text": [
        "\tLoss: 5.06e-01\tError: 5.25e-01\tStd dev: 3.22e-03\tResample: 22\n",
        "Chose theta = [   0.97609035  293.15          0.7       ]."
       ]
      },
      {
       "output_type": "stream",
       "stream": "stdout",
       "text": [
        "\tLoss: 5.06e-01\tError: 5.25e-01\tStd dev: 3.23e-03\tResample: 22\n",
        "Chose theta = [   0.97033303  293.15          0.7       ]."
       ]
      },
      {
       "output_type": "stream",
       "stream": "stdout",
       "text": [
        "\tLoss: 5.06e-01\tError: 5.25e-01\tStd dev: 3.21e-03\tResample: 22\n",
        "Chose theta = [   2.53919966  293.15          0.7       ]."
       ]
      },
      {
       "output_type": "stream",
       "stream": "stdout",
       "text": [
        "\tLoss: 5.06e-01\tError: 5.25e-01\tStd dev: 3.19e-03\tResample: 22\n",
        "Chose theta = [   0.97113652  293.15          0.7       ]."
       ]
      },
      {
       "output_type": "stream",
       "stream": "stdout",
       "text": [
        "\tLoss: 5.06e-01\tError: 5.25e-01\tStd dev: 3.21e-03\tResample: 22\n",
        "Chose theta = [   0.97609767  293.15          0.7       ]."
       ]
      },
      {
       "output_type": "stream",
       "stream": "stdout",
       "text": [
        "\tLoss: 5.06e-01\tError: 5.25e-01\tStd dev: 3.22e-03\tResample: 22\n",
        "Chose theta = [   2.54408844  293.15          0.7       ]."
       ]
      },
      {
       "output_type": "stream",
       "stream": "stdout",
       "text": [
        "\tLoss: 5.06e-01\tError: 5.25e-01\tStd dev: 3.20e-03\tResample: 22\n",
        "Chose theta = [   0.97740516  293.15          0.7       ]."
       ]
      },
      {
       "output_type": "stream",
       "stream": "stdout",
       "text": [
        "\tLoss: 5.05e-01\tError: 5.25e-01\tStd dev: 3.20e-03\tResample: 22\n",
        "Chose theta = [   0.97745072  293.15          0.7       ]."
       ]
      },
      {
       "output_type": "stream",
       "stream": "stdout",
       "text": [
        "\tLoss: 5.05e-01\tError: 5.25e-01\tStd dev: 3.20e-03\tResample: 22\n",
        "Chose theta = [   0.97241979  293.15          0.7       ]."
       ]
      },
      {
       "output_type": "stream",
       "stream": "stdout",
       "text": [
        "\tLoss: 5.05e-01\tError: 5.25e-01\tStd dev: 3.20e-03\tResample: 22\n",
        "Chose theta = [   0.97294627  293.15          0.7       ]."
       ]
      },
      {
       "output_type": "stream",
       "stream": "stdout",
       "text": [
        "\tLoss: 5.05e-01\tError: 5.25e-01\tStd dev: 3.20e-03\tResample: 22\n",
        "Chose theta = [   0.97147837  293.15          0.7       ]."
       ]
      },
      {
       "output_type": "stream",
       "stream": "stdout",
       "text": [
        "\tLoss: 5.05e-01\tError: 5.25e-01\tStd dev: 3.20e-03\tResample: 22\n",
        "Chose theta = [   2.54738247  293.15          0.7       ]."
       ]
      },
      {
       "output_type": "stream",
       "stream": "stdout",
       "text": [
        "\tLoss: 5.05e-01\tError: 5.25e-01\tStd dev: 3.19e-03\tResample: 22\n",
        "Chose theta = [   0.97051917  293.15          0.7       ]."
       ]
      },
      {
       "output_type": "stream",
       "stream": "stdout",
       "text": [
        "\tLoss: 5.05e-01\tError: 5.24e-01\tStd dev: 3.19e-03\tResample: 22\n",
        "Chose theta = [   0.97467213  293.15          0.7       ]."
       ]
      },
      {
       "output_type": "stream",
       "stream": "stdout",
       "text": [
        "\tLoss: 5.05e-01\tError: 5.24e-01\tStd dev: 3.19e-03\tResample: 22\n",
        "Chose theta = [   0.97068945  293.15          0.7       ]."
       ]
      },
      {
       "output_type": "stream",
       "stream": "stdout",
       "text": [
        "\tLoss: 5.05e-01\tError: 5.25e-01\tStd dev: 3.19e-03\tResample: 22\n",
        "Chose theta = [   0.96943866  293.15          0.7       ]."
       ]
      },
      {
       "output_type": "stream",
       "stream": "stdout",
       "text": [
        "\tLoss: 5.05e-01\tError: 5.24e-01\tStd dev: 3.19e-03\tResample: 22\n",
        "Chose theta = [   0.98012159  293.15          0.7       ]."
       ]
      },
      {
       "output_type": "stream",
       "stream": "stdout",
       "text": [
        "\tLoss: 5.05e-01\tError: 5.24e-01\tStd dev: 3.19e-03\tResample: 22\n",
        "Chose theta = [   0.96988387  293.15          0.7       ]."
       ]
      },
      {
       "output_type": "stream",
       "stream": "stdout",
       "text": [
        "\tLoss: 5.05e-01\tError: 5.24e-01\tStd dev: 3.19e-03\tResample: 22\n",
        "Chose theta = [   2.54554458  293.15          0.7       ]."
       ]
      },
      {
       "output_type": "stream",
       "stream": "stdout",
       "text": [
        "\tLoss: 5.05e-01\tError: 5.24e-01\tStd dev: 3.15e-03\tResample: 22\n",
        "Chose theta = [   0.97135459  293.15          0.7       ]."
       ]
      },
      {
       "output_type": "stream",
       "stream": "stdout",
       "text": [
        "\tLoss: 5.05e-01\tError: 5.24e-01\tStd dev: 3.15e-03\tResample: 22\n",
        "Chose theta = [   0.97842959  293.15          0.7       ]."
       ]
      },
      {
       "output_type": "stream",
       "stream": "stdout",
       "text": [
        "\tLoss: 5.05e-01\tError: 5.24e-01\tStd dev: 3.15e-03\tResample: 22\n",
        "Chose theta = [   0.96924221  293.15          0.7       ]."
       ]
      },
      {
       "output_type": "stream",
       "stream": "stdout",
       "text": [
        "\tLoss: 5.05e-01\tError: 5.24e-01\tStd dev: 3.15e-03\tResample: 22\n",
        "Chose theta = [   2.54133109  293.15          0.7       ]."
       ]
      },
      {
       "output_type": "stream",
       "stream": "stdout",
       "text": [
        "\tLoss: 5.05e-01\tError: 5.24e-01\tStd dev: 3.10e-03\tResample: 22\n",
        "Chose theta = [   0.97005246  293.15          0.7       ]."
       ]
      },
      {
       "output_type": "stream",
       "stream": "stdout",
       "text": [
        "\tLoss: 5.05e-01\tError: 5.24e-01\tStd dev: 3.10e-03\tResample: 22\n",
        "Chose theta = [   0.97437829  293.15          0.7       ]."
       ]
      },
      {
       "output_type": "stream",
       "stream": "stdout",
       "text": [
        "\tLoss: 5.05e-01\tError: 5.24e-01\tStd dev: 3.10e-03\tResample: 22\n",
        "Chose theta = [   0.97373047  293.15          0.7       ]."
       ]
      },
      {
       "output_type": "stream",
       "stream": "stdout",
       "text": [
        "\tLoss: 5.05e-01\tError: 5.24e-01\tStd dev: 3.10e-03\tResample: 22\n",
        "Chose theta = [   0.97534848  293.15          0.7       ]."
       ]
      },
      {
       "output_type": "stream",
       "stream": "stdout",
       "text": [
        "\tLoss: 5.05e-01\tError: 5.24e-01\tStd dev: 3.10e-03\tResample: 22\n",
        "Chose theta = [   0.96944181  293.15          0.7       ]."
       ]
      },
      {
       "output_type": "stream",
       "stream": "stdout",
       "text": [
        "\tLoss: 5.05e-01\tError: 5.24e-01\tStd dev: 3.10e-03\tResample: 22\n",
        "Chose theta = [   0.97511018  293.15          0.7       ]."
       ]
      },
      {
       "output_type": "stream",
       "stream": "stdout",
       "text": [
        "\tLoss: 5.05e-01\tError: 5.24e-01\tStd dev: 3.10e-03\tResample: 22\n",
        "Chose theta = [   0.97131298  293.15          0.7       ]."
       ]
      },
      {
       "output_type": "stream",
       "stream": "stdout",
       "text": [
        "\tLoss: 5.05e-01\tError: 5.24e-01\tStd dev: 3.09e-03\tResample: 22\n",
        "Chose theta = [   0.96922177  293.15          0.7       ]."
       ]
      },
      {
       "output_type": "stream",
       "stream": "stdout",
       "text": [
        "\tLoss: 5.05e-01\tError: 5.24e-01\tStd dev: 3.09e-03\tResample: 22\n",
        "Chose theta = [   0.97258933  293.15          0.7       ]."
       ]
      },
      {
       "output_type": "stream",
       "stream": "stdout",
       "text": [
        "\tLoss: 5.05e-01\tError: 5.24e-01\tStd dev: 3.09e-03\tResample: 22\n",
        "Chose theta = [   0.97294332  293.15          0.7       ]."
       ]
      },
      {
       "output_type": "stream",
       "stream": "stdout",
       "text": [
        "\tLoss: 5.05e-01\tError: 5.24e-01\tStd dev: 3.08e-03\tResample: 22\n",
        "Chose theta = [   2.54811139  293.15          0.7       ]."
       ]
      },
      {
       "output_type": "stream",
       "stream": "stdout",
       "text": [
        "\tLoss: 5.05e-01\tError: 5.24e-01\tStd dev: 3.06e-03\tResample: 22\n",
        "Chose theta = [   0.97913632  293.15          0.7       ]."
       ]
      },
      {
       "output_type": "stream",
       "stream": "stdout",
       "text": [
        "\tLoss: 5.04e-01\tError: 5.24e-01\tStd dev: 3.05e-03\tResample: 22\n",
        "Chose theta = [   2.54499425  293.15          0.7       ]."
       ]
      },
      {
       "output_type": "stream",
       "stream": "stdout",
       "text": [
        "\tLoss: 5.04e-01\tError: 5.24e-01\tStd dev: 3.01e-03\tResample: 22\n",
        "Chose theta = [   0.97823311  293.15          0.7       ]."
       ]
      },
      {
       "output_type": "stream",
       "stream": "stdout",
       "text": [
        "\tLoss: 5.04e-01\tError: 5.24e-01\tStd dev: 3.00e-03\tResample: 22\n",
        "Chose theta = [   0.97834337  293.15          0.7       ]."
       ]
      },
      {
       "output_type": "stream",
       "stream": "stdout",
       "text": [
        "\tLoss: 5.04e-01\tError: 5.24e-01\tStd dev: 2.99e-03\tResample: 22\n",
        "Chose theta = [   0.97711012  293.15          0.7       ]."
       ]
      },
      {
       "output_type": "stream",
       "stream": "stdout",
       "text": [
        "\tLoss: 5.04e-01\tError: 5.24e-01\tStd dev: 2.99e-03\tResample: 22\n",
        "Chose theta = [   2.54379555  293.15          0.7       ]."
       ]
      },
      {
       "output_type": "stream",
       "stream": "stdout",
       "text": [
        "\tLoss: 5.04e-01\tError: 5.24e-01\tStd dev: 2.94e-03\tResample: 22\n",
        "Chose theta = [   0.97046868  293.15          0.7       ]."
       ]
      },
      {
       "output_type": "stream",
       "stream": "stdout",
       "text": [
        "\tLoss: 5.04e-01\tError: 5.24e-01\tStd dev: 2.95e-03\tResample: 22\n",
        "Chose theta = [   4.11448495  293.15          0.7       ]."
       ]
      },
      {
       "output_type": "stream",
       "stream": "stdout",
       "text": [
        "\tLoss: 5.04e-01\tError: 5.24e-01\tStd dev: 2.95e-03\tResample: 22\n",
        "Chose theta = [   4.11313994  293.15          0.7       ]."
       ]
      },
      {
       "output_type": "stream",
       "stream": "stdout",
       "text": [
        "\tLoss: 5.04e-01\tError: 5.24e-01\tStd dev: 2.95e-03\tResample: 22\n",
        "Chose theta = [   0.97568673  293.15          0.7       ]."
       ]
      },
      {
       "output_type": "stream",
       "stream": "stdout",
       "text": [
        "\tLoss: 5.04e-01\tError: 5.24e-01\tStd dev: 2.94e-03\tResample: 22\n",
        "Chose theta = [   0.96971881  293.15          0.7       ]."
       ]
      },
      {
       "output_type": "stream",
       "stream": "stdout",
       "text": [
        "\tLoss: 5.04e-01\tError: 5.24e-01\tStd dev: 2.94e-03\tResample: 22\n",
        "Chose theta = [   4.1181456  293.15         0.7      ]."
       ]
      },
      {
       "output_type": "stream",
       "stream": "stdout",
       "text": [
        "\tLoss: 5.04e-01\tError: 5.24e-01\tStd dev: 2.93e-03\tResample: 22\n",
        "Chose theta = [   0.97261416  293.15          0.7       ]."
       ]
      },
      {
       "output_type": "stream",
       "stream": "stdout",
       "text": [
        "\tLoss: 5.04e-01\tError: 5.24e-01\tStd dev: 2.93e-03\tResample: 22\n",
        "Chose theta = [   0.97312122  293.15          0.7       ]."
       ]
      },
      {
       "output_type": "stream",
       "stream": "stdout",
       "text": [
        "\tLoss: 5.04e-01\tError: 5.24e-01\tStd dev: 2.93e-03\tResample: 22\n",
        "Chose theta = [   2.54158232  293.15          0.7       ]."
       ]
      },
      {
       "output_type": "stream",
       "stream": "stdout",
       "text": [
        "\tLoss: 5.04e-01\tError: 5.24e-01\tStd dev: 2.92e-03\tResample: 22\n",
        "Chose theta = [   0.9788031  293.15         0.7      ]."
       ]
      },
      {
       "output_type": "stream",
       "stream": "stdout",
       "text": [
        "\tLoss: 5.04e-01\tError: 5.24e-01\tStd dev: 2.92e-03\tResample: 22\n",
        "Chose theta = [   0.97314088  293.15          0.7       ]."
       ]
      },
      {
       "output_type": "stream",
       "stream": "stdout",
       "text": [
        "\tLoss: 5.04e-01\tError: 5.24e-01\tStd dev: 2.92e-03\tResample: 23\n",
        "Chose theta = [   4.11444527  293.15          0.7       ]."
       ]
      },
      {
       "output_type": "stream",
       "stream": "stdout",
       "text": [
        "\tLoss: 5.04e-01\tError: 5.24e-01\tStd dev: 2.92e-03\tResample: 23\n",
        "Chose theta = [   4.10781865  293.15          0.7       ]."
       ]
      },
      {
       "output_type": "stream",
       "stream": "stdout",
       "text": [
        "\tLoss: 5.04e-01\tError: 5.24e-01\tStd dev: 2.91e-03\tResample: 23\n",
        "Chose theta = [   0.97275425  293.15          0.7       ]."
       ]
      },
      {
       "output_type": "stream",
       "stream": "stdout",
       "text": [
        "\tLoss: 5.04e-01\tError: 5.24e-01\tStd dev: 2.91e-03\tResample: 23\n",
        "Chose theta = [   4.11196036  293.15          0.7       ]."
       ]
      },
      {
       "output_type": "stream",
       "stream": "stdout",
       "text": [
        "\tLoss: 5.04e-01\tError: 5.24e-01\tStd dev: 2.90e-03\tResample: 23\n",
        "Chose theta = [   4.11674213  293.15          0.7       ]."
       ]
      },
      {
       "output_type": "stream",
       "stream": "stdout",
       "text": [
        "\tLoss: 5.05e-01\tError: 5.24e-01\tStd dev: 2.89e-03\tResample: 23\n",
        "Chose theta = [   0.97503019  293.15          0.7       ]."
       ]
      },
      {
       "output_type": "stream",
       "stream": "stdout",
       "text": [
        "\tLoss: 5.05e-01\tError: 5.24e-01\tStd dev: 2.89e-03\tResample: 23\n",
        "Chose theta = [   0.96725559  293.15          0.7       ]."
       ]
      },
      {
       "output_type": "stream",
       "stream": "stdout",
       "text": [
        "\tLoss: 5.05e-01\tError: 5.24e-01\tStd dev: 2.89e-03\tResample: 23\n",
        "Chose theta = [   0.97326915  293.15          0.7       ]."
       ]
      },
      {
       "output_type": "stream",
       "stream": "stdout",
       "text": [
        "\tLoss: 5.04e-01\tError: 5.24e-01\tStd dev: 2.89e-03\tResample: 23\n",
        "Chose theta = [   0.97489216  293.15          0.7       ]."
       ]
      },
      {
       "output_type": "stream",
       "stream": "stdout",
       "text": [
        "\tLoss: 5.04e-01\tError: 5.24e-01\tStd dev: 2.88e-03\tResample: 23\n",
        "Chose theta = [   0.9774728  293.15         0.7      ]."
       ]
      },
      {
       "output_type": "stream",
       "stream": "stdout",
       "text": [
        "\tLoss: 5.04e-01\tError: 5.24e-01\tStd dev: 2.88e-03\tResample: 23\n",
        "Chose theta = [   5.68477281  293.15          0.7       ]."
       ]
      },
      {
       "output_type": "stream",
       "stream": "stdout",
       "text": [
        "\tLoss: 5.05e-01\tError: 5.24e-01\tStd dev: 2.90e-03\tResample: 23\n",
        "Chose theta = [   0.9693681  293.15         0.7      ]."
       ]
      },
      {
       "output_type": "stream",
       "stream": "stdout",
       "text": [
        "\tLoss: 5.05e-01\tError: 5.24e-01\tStd dev: 2.90e-03\tResample: 23\n",
        "Chose theta = [   4.11514172  293.15          0.7       ]."
       ]
      },
      {
       "output_type": "stream",
       "stream": "stdout",
       "text": [
        "\tLoss: 5.05e-01\tError: 5.24e-01\tStd dev: 2.89e-03\tResample: 23\n",
        "Chose theta = [   0.97377561  293.15          0.7       ]."
       ]
      },
      {
       "output_type": "stream",
       "stream": "stdout",
       "text": [
        "\tLoss: 5.05e-01\tError: 5.24e-01\tStd dev: 2.89e-03\tResample: 23\n",
        "Chose theta = [   0.97110784  293.15          0.7       ]."
       ]
      },
      {
       "output_type": "stream",
       "stream": "stdout",
       "text": [
        "\tLoss: 5.05e-01\tError: 5.24e-01\tStd dev: 2.89e-03\tResample: 23\n",
        "Chose theta = [   0.97178497  293.15          0.7       ]."
       ]
      },
      {
       "output_type": "stream",
       "stream": "stdout",
       "text": [
        "\tLoss: 5.05e-01\tError: 5.24e-01\tStd dev: 2.89e-03\tResample: 23\n",
        "Chose theta = [   0.97817044  293.15          0.7       ]."
       ]
      },
      {
       "output_type": "stream",
       "stream": "stdout",
       "text": [
        "\tLoss: 5.05e-01\tError: 5.24e-01\tStd dev: 2.88e-03\tResample: 23\n",
        "Chose theta = [   4.11838553  293.15          0.7       ]."
       ]
      },
      {
       "output_type": "stream",
       "stream": "stdout",
       "text": [
        "\tLoss: 5.05e-01\tError: 5.24e-01\tStd dev: 2.87e-03\tResample: 23\n",
        "Chose theta = [   5.68349594  293.15          0.7       ]."
       ]
      },
      {
       "output_type": "stream",
       "stream": "stdout",
       "text": [
        "\tLoss: 5.05e-01\tError: 5.24e-01\tStd dev: 2.90e-03\tResample: 23\n",
        "Chose theta = [   0.97128596  293.15          0.7       ]."
       ]
      },
      {
       "output_type": "stream",
       "stream": "stdout",
       "text": [
        "\tLoss: 5.05e-01\tError: 5.24e-01\tStd dev: 2.90e-03\tResample: 23\n",
        "Chose theta = [   4.12007747  293.15          0.7       ]."
       ]
      },
      {
       "output_type": "stream",
       "stream": "stdout",
       "text": [
        "\tLoss: 5.05e-01\tError: 5.24e-01\tStd dev: 2.89e-03\tResample: 23\n",
        "Chose theta = [   0.97104796  293.15          0.7       ]."
       ]
      },
      {
       "output_type": "stream",
       "stream": "stdout",
       "text": [
        "\tLoss: 5.05e-01\tError: 5.24e-01\tStd dev: 2.89e-03\tResample: 23\n",
        "Chose theta = [   0.97631095  293.15          0.7       ]."
       ]
      },
      {
       "output_type": "stream",
       "stream": "stdout",
       "text": [
        "\tLoss: 5.05e-01\tError: 5.24e-01\tStd dev: 2.89e-03\tResample: 23\n",
        "Chose theta = [   0.97136579  293.15          0.7       ]."
       ]
      },
      {
       "output_type": "stream",
       "stream": "stdout",
       "text": [
        "\tLoss: 5.05e-01\tError: 5.24e-01\tStd dev: 2.89e-03\tResample: 23\n",
        "Chose theta = [   4.12201687  293.15          0.7       ]."
       ]
      },
      {
       "output_type": "stream",
       "stream": "stdout",
       "text": [
        "\tLoss: 5.05e-01\tError: 5.24e-01\tStd dev: 2.88e-03\tResample: 23\n",
        "Chose theta = [   0.97839448  293.15          0.7       ]."
       ]
      },
      {
       "output_type": "stream",
       "stream": "stdout",
       "text": [
        "\tLoss: 5.05e-01\tError: 5.24e-01\tStd dev: 2.88e-03\tResample: 23\n",
        "Chose theta = [   0.97153213  293.15          0.7       ]."
       ]
      },
      {
       "output_type": "stream",
       "stream": "stdout",
       "text": [
        "\tLoss: 5.05e-01\tError: 5.25e-01\tStd dev: 2.88e-03\tResample: 23\n",
        "Chose theta = [   0.96845194  293.15          0.7       ]."
       ]
      },
      {
       "output_type": "stream",
       "stream": "stdout",
       "text": [
        "\tLoss: 5.05e-01\tError: 5.24e-01\tStd dev: 2.88e-03\tResample: 23\n",
        "Chose theta = [   4.11115805  293.15          0.7       ]."
       ]
      },
      {
       "output_type": "stream",
       "stream": "stdout",
       "text": [
        "\tLoss: 5.05e-01\tError: 5.25e-01\tStd dev: 2.86e-03\tResample: 23\n",
        "Chose theta = [   0.96846794  293.15          0.7       ]."
       ]
      },
      {
       "output_type": "stream",
       "stream": "stdout",
       "text": [
        "\tLoss: 5.05e-01\tError: 5.24e-01\tStd dev: 2.86e-03\tResample: 23\n",
        "Chose theta = [   4.11130411  293.15          0.7       ]."
       ]
      },
      {
       "output_type": "stream",
       "stream": "stdout",
       "text": [
        "\tLoss: 5.05e-01\tError: 5.25e-01\tStd dev: 2.85e-03\tResample: 23\n",
        "Chose theta = [   5.68754595  293.15          0.7       ]."
       ]
      },
      {
       "output_type": "stream",
       "stream": "stdout",
       "text": [
        "\tLoss: 5.06e-01\tError: 5.25e-01\tStd dev: 2.92e-03\tResample: 24\n",
        "Chose theta = [   0.97084247  293.15          0.7       ]."
       ]
      },
      {
       "output_type": "stream",
       "stream": "stdout",
       "text": [
        "\tLoss: 5.06e-01\tError: 5.25e-01\tStd dev: 2.92e-03\tResample: 24\n",
        "Chose theta = [   0.97167877  293.15          0.7       ]."
       ]
      },
      {
       "output_type": "stream",
       "stream": "stdout",
       "text": [
        "\tLoss: 5.06e-01\tError: 5.25e-01\tStd dev: 2.92e-03\tResample: 24\n",
        "Chose theta = [   0.97459287  293.15          0.7       ]."
       ]
      },
      {
       "output_type": "stream",
       "stream": "stdout",
       "text": [
        "\tLoss: 5.05e-01\tError: 5.25e-01\tStd dev: 2.92e-03\tResample: 24\n",
        "Chose theta = [   0.97477281  293.15          0.7       ]."
       ]
      },
      {
       "output_type": "stream",
       "stream": "stdout",
       "text": [
        "\tLoss: 5.05e-01\tError: 5.25e-01\tStd dev: 2.91e-03\tResample: 24\n",
        "Chose theta = [   0.97102788  293.15          0.7       ]."
       ]
      },
      {
       "output_type": "stream",
       "stream": "stdout",
       "text": [
        "\tLoss: 5.05e-01\tError: 5.25e-01\tStd dev: 2.91e-03\tResample: 24\n",
        "Chose theta = [   0.97115928  293.15          0.7       ]."
       ]
      },
      {
       "output_type": "stream",
       "stream": "stdout",
       "text": [
        "\tLoss: 5.05e-01\tError: 5.25e-01\tStd dev: 2.91e-03\tResample: 24\n",
        "Chose theta = [   2.54451966  293.15          0.7       ]."
       ]
      },
      {
       "output_type": "stream",
       "stream": "stdout",
       "text": [
        "\tLoss: 5.05e-01\tError: 5.25e-01\tStd dev: 2.87e-03\tResample: 24\n",
        "Chose theta = [   0.96813886  293.15          0.7       ]."
       ]
      },
      {
       "output_type": "stream",
       "stream": "stdout",
       "text": [
        "\tLoss: 5.05e-01\tError: 5.24e-01\tStd dev: 2.87e-03\tResample: 24\n",
        "Chose theta = [   0.96934489  293.15          0.7       ]."
       ]
      },
      {
       "output_type": "stream",
       "stream": "stdout",
       "text": [
        "\tLoss: 5.05e-01\tError: 5.24e-01\tStd dev: 2.86e-03\tResample: 24\n",
        "Chose theta = [   0.96855117  293.15          0.7       ]."
       ]
      },
      {
       "output_type": "stream",
       "stream": "stdout",
       "text": [
        "\tLoss: 5.05e-01\tError: 5.24e-01\tStd dev: 2.86e-03\tResample: 24\n",
        "Chose theta = [   0.97711567  293.15          0.7       ]."
       ]
      },
      {
       "output_type": "stream",
       "stream": "stdout",
       "text": [
        "\tLoss: 5.05e-01\tError: 5.24e-01\tStd dev: 2.86e-03\tResample: 24\n",
        "Chose theta = [   0.97359979  293.15          0.7       ]."
       ]
      },
      {
       "output_type": "stream",
       "stream": "stdout",
       "text": [
        "\tLoss: 5.05e-01\tError: 5.24e-01\tStd dev: 2.86e-03\tResample: 24\n",
        "Chose theta = [   0.97771974  293.15          0.7       ]."
       ]
      },
      {
       "output_type": "stream",
       "stream": "stdout",
       "text": [
        "\tLoss: 5.05e-01\tError: 5.24e-01\tStd dev: 2.85e-03\tResample: 24\n",
        "Chose theta = [   0.96894466  293.15          0.7       ]."
       ]
      },
      {
       "output_type": "stream",
       "stream": "stdout",
       "text": [
        "\tLoss: 5.05e-01\tError: 5.24e-01\tStd dev: 2.85e-03\tResample: 24\n",
        "Chose theta = [   0.96909121  293.15          0.7       ]."
       ]
      },
      {
       "output_type": "stream",
       "stream": "stdout",
       "text": [
        "\tLoss: 5.05e-01\tError: 5.24e-01\tStd dev: 2.85e-03\tResample: 24\n",
        "Chose theta = [   0.97360265  293.15          0.7       ]."
       ]
      },
      {
       "output_type": "stream",
       "stream": "stdout",
       "text": [
        "\tLoss: 5.05e-01\tError: 5.24e-01\tStd dev: 2.84e-03\tResample: 24\n",
        "Chose theta = [   0.97296005  293.15          0.7       ]."
       ]
      },
      {
       "output_type": "stream",
       "stream": "stdout",
       "text": [
        "\tLoss: 5.05e-01\tError: 5.24e-01\tStd dev: 2.85e-03\tResample: 24\n",
        "Chose theta = [   0.97148713  293.15          0.7       ]."
       ]
      },
      {
       "output_type": "stream",
       "stream": "stdout",
       "text": [
        "\tLoss: 5.05e-01\tError: 5.24e-01\tStd dev: 2.85e-03\tResample: 24\n",
        "Chose theta = [   0.97583207  293.15          0.7       ]."
       ]
      },
      {
       "output_type": "stream",
       "stream": "stdout",
       "text": [
        "\tLoss: 5.05e-01\tError: 5.24e-01\tStd dev: 2.86e-03\tResample: 24\n",
        "Chose theta = [   0.9737698  293.15         0.7      ]."
       ]
      },
      {
       "output_type": "stream",
       "stream": "stdout",
       "text": [
        "\tLoss: 5.05e-01\tError: 5.24e-01\tStd dev: 2.86e-03\tResample: 24\n",
        "Chose theta = [   0.9718675  293.15         0.7      ]."
       ]
      },
      {
       "output_type": "stream",
       "stream": "stdout",
       "text": [
        "\tLoss: 5.05e-01\tError: 5.24e-01\tStd dev: 2.86e-03\tResample: 24\n",
        "Chose theta = [   0.96936944  293.15          0.7       ]."
       ]
      },
      {
       "output_type": "stream",
       "stream": "stdout",
       "text": [
        "\tLoss: 5.05e-01\tError: 5.24e-01\tStd dev: 2.85e-03\tResample: 24\n",
        "Chose theta = [   0.9731224  293.15         0.7      ]."
       ]
      },
      {
       "output_type": "stream",
       "stream": "stdout",
       "text": [
        "\tLoss: 5.05e-01\tError: 5.24e-01\tStd dev: 2.85e-03\tResample: 24\n",
        "Chose theta = [   0.97010557  293.15          0.7       ]."
       ]
      },
      {
       "output_type": "stream",
       "stream": "stdout",
       "text": [
        "\tLoss: 5.05e-01\tError: 5.24e-01\tStd dev: 2.85e-03\tResample: 24\n",
        "Chose theta = [   0.977206  293.15        0.7     ]."
       ]
      },
      {
       "output_type": "stream",
       "stream": "stdout",
       "text": [
        "\tLoss: 5.05e-01\tError: 5.24e-01\tStd dev: 2.84e-03\tResample: 24\n",
        "Chose theta = [   0.97715702  293.15          0.7       ]."
       ]
      },
      {
       "output_type": "stream",
       "stream": "stdout",
       "text": [
        "\tLoss: 5.05e-01\tError: 5.24e-01\tStd dev: 2.84e-03\tResample: 24\n",
        "Chose theta = [   0.97513193  293.15          0.7       ]."
       ]
      },
      {
       "output_type": "stream",
       "stream": "stdout",
       "text": [
        "\tLoss: 5.05e-01\tError: 5.24e-01\tStd dev: 2.84e-03\tResample: 24\n",
        "Chose theta = [   0.97141305  293.15          0.7       ]."
       ]
      },
      {
       "output_type": "stream",
       "stream": "stdout",
       "text": [
        "\tLoss: 5.05e-01\tError: 5.24e-01\tStd dev: 2.83e-03\tResample: 24\n",
        "Chose theta = [   0.97589036  293.15          0.7       ]."
       ]
      },
      {
       "output_type": "stream",
       "stream": "stdout",
       "text": [
        "\tLoss: 5.05e-01\tError: 5.24e-01\tStd dev: 2.83e-03\tResample: 24\n",
        "Chose theta = [   0.97220205  293.15          0.7       ]."
       ]
      },
      {
       "output_type": "stream",
       "stream": "stdout",
       "text": [
        "\tLoss: 5.05e-01\tError: 5.24e-01\tStd dev: 2.83e-03\tResample: 24\n",
        "Chose theta = [   0.97168792  293.15          0.7       ]."
       ]
      },
      {
       "output_type": "stream",
       "stream": "stdout",
       "text": [
        "\tLoss: 5.05e-01\tError: 5.24e-01\tStd dev: 2.83e-03\tResample: 24\n",
        "Chose theta = [   0.97604041  293.15          0.7       ]."
       ]
      },
      {
       "output_type": "stream",
       "stream": "stdout",
       "text": [
        "\tLoss: 5.04e-01\tError: 5.24e-01\tStd dev: 2.82e-03\tResample: 24\n",
        "Chose theta = [   0.97009496  293.15          0.7       ]."
       ]
      },
      {
       "output_type": "stream",
       "stream": "stdout",
       "text": [
        "\tLoss: 5.04e-01\tError: 5.24e-01\tStd dev: 2.81e-03\tResample: 24\n",
        "Chose theta = [   0.97482368  293.15          0.7       ]."
       ]
      },
      {
       "output_type": "stream",
       "stream": "stdout",
       "text": [
        "\tLoss: 5.04e-01\tError: 5.24e-01\tStd dev: 2.81e-03\tResample: 24\n",
        "Chose theta = [   2.54589185  293.15          0.7       ]."
       ]
      },
      {
       "output_type": "stream",
       "stream": "stdout",
       "text": [
        "\tLoss: 5.04e-01\tError: 5.24e-01\tStd dev: 2.79e-03\tResample: 24\n",
        "Chose theta = [   2.54357917  293.15          0.7       ]."
       ]
      },
      {
       "output_type": "stream",
       "stream": "stdout",
       "text": [
        "\tLoss: 5.04e-01\tError: 5.24e-01\tStd dev: 2.77e-03\tResample: 24\n",
        "Chose theta = [   4.11451363  293.15          0.7       ]."
       ]
      },
      {
       "output_type": "stream",
       "stream": "stdout",
       "text": [
        "\tLoss: 5.04e-01\tError: 5.24e-01\tStd dev: 2.77e-03\tResample: 24\n",
        "Chose theta = [   0.96818269  293.15          0.7       ]."
       ]
      },
      {
       "output_type": "stream",
       "stream": "stdout",
       "text": [
        "\tLoss: 5.04e-01\tError: 5.24e-01\tStd dev: 2.76e-03\tResample: 24\n",
        "Chose theta = [   4.11917543  293.15          0.7       ]."
       ]
      },
      {
       "output_type": "stream",
       "stream": "stdout",
       "text": [
        "\tLoss: 5.05e-01\tError: 5.24e-01\tStd dev: 2.75e-03\tResample: 24\n",
        "Chose theta = [   0.97157667  293.15          0.7       ]."
       ]
      },
      {
       "output_type": "stream",
       "stream": "stdout",
       "text": [
        "\tLoss: 5.04e-01\tError: 5.24e-01\tStd dev: 2.74e-03\tResample: 24\n",
        "Chose theta = [   0.97601915  293.15          0.7       ]."
       ]
      },
      {
       "output_type": "stream",
       "stream": "stdout",
       "text": [
        "\tLoss: 5.04e-01\tError: 5.24e-01\tStd dev: 2.75e-03\tResample: 24\n",
        "Chose theta = [   0.96980284  293.15          0.7       ]."
       ]
      },
      {
       "output_type": "stream",
       "stream": "stdout",
       "text": [
        "\tLoss: 5.04e-01\tError: 5.24e-01\tStd dev: 2.74e-03\tResample: 24\n",
        "Chose theta = [   4.11281975  293.15          0.7       ]."
       ]
      },
      {
       "output_type": "stream",
       "stream": "stdout",
       "text": [
        "\tLoss: 5.04e-01\tError: 5.24e-01\tStd dev: 2.73e-03\tResample: 24\n",
        "Chose theta = [   4.11290915  293.15          0.7       ]."
       ]
      },
      {
       "output_type": "stream",
       "stream": "stdout",
       "text": [
        "\tLoss: 5.05e-01\tError: 5.24e-01\tStd dev: 2.72e-03\tResample: 24\n",
        "Chose theta = [   0.97212057  293.15          0.7       ]."
       ]
      },
      {
       "output_type": "stream",
       "stream": "stdout",
       "text": [
        "\tLoss: 5.05e-01\tError: 5.24e-01\tStd dev: 2.72e-03\tResample: 24\n",
        "Chose theta = [   4.11804909  293.15          0.7       ]."
       ]
      },
      {
       "output_type": "stream",
       "stream": "stdout",
       "text": [
        "\tLoss: 5.05e-01\tError: 5.24e-01\tStd dev: 2.70e-03\tResample: 24\n",
        "Chose theta = [   0.97323552  293.15          0.7       ]."
       ]
      },
      {
       "output_type": "stream",
       "stream": "stdout",
       "text": [
        "\tLoss: 5.05e-01\tError: 5.24e-01\tStd dev: 2.70e-03\tResample: 24\n",
        "Chose theta = [   0.97297624  293.15          0.7       ]."
       ]
      },
      {
       "output_type": "stream",
       "stream": "stdout",
       "text": [
        "\tLoss: 5.05e-01\tError: 5.24e-01\tStd dev: 2.69e-03\tResample: 24\n",
        "Chose theta = [   4.11564383  293.15          0.7       ]."
       ]
      },
      {
       "output_type": "stream",
       "stream": "stdout",
       "text": [
        "\tLoss: 5.05e-01\tError: 5.24e-01\tStd dev: 2.68e-03\tResample: 24\n",
        "Chose theta = [   0.97115259  293.15          0.7       ]."
       ]
      },
      {
       "output_type": "stream",
       "stream": "stdout",
       "text": [
        "\tLoss: 5.05e-01\tError: 5.24e-01\tStd dev: 2.68e-03\tResample: 24\n",
        "Chose theta = [   4.11170713  293.15          0.7       ]."
       ]
      },
      {
       "output_type": "stream",
       "stream": "stdout",
       "text": [
        "\tLoss: 5.05e-01\tError: 5.24e-01\tStd dev: 2.66e-03\tResample: 24\n",
        "Chose theta = [   4.11689173  293.15          0.7       ]."
       ]
      },
      {
       "output_type": "stream",
       "stream": "stdout",
       "text": [
        "\tLoss: 5.05e-01\tError: 5.24e-01\tStd dev: 2.64e-03\tResample: 24\n",
        "Chose theta = [   0.97936111  293.15          0.7       ]."
       ]
      },
      {
       "output_type": "stream",
       "stream": "stdout",
       "text": [
        "\tLoss: 5.05e-01\tError: 5.24e-01\tStd dev: 2.64e-03\tResample: 24\n",
        "Chose theta = [   0.97228778  293.15          0.7       ]."
       ]
      },
      {
       "output_type": "stream",
       "stream": "stdout",
       "text": [
        "\tLoss: 5.05e-01\tError: 5.24e-01\tStd dev: 2.64e-03\tResample: 24\n",
        "Chose theta = [   0.9775764  293.15         0.7      ]."
       ]
      },
      {
       "output_type": "stream",
       "stream": "stdout",
       "text": [
        "\tLoss: 5.05e-01\tError: 5.24e-01\tStd dev: 2.64e-03\tResample: 24\n",
        "Chose theta = [   0.9752379  293.15         0.7      ]."
       ]
      },
      {
       "output_type": "stream",
       "stream": "stdout",
       "text": [
        "\tLoss: 5.05e-01\tError: 5.24e-01\tStd dev: 2.63e-03\tResample: 24\n",
        "Chose theta = [   0.97259164  293.15          0.7       ]."
       ]
      },
      {
       "output_type": "stream",
       "stream": "stdout",
       "text": [
        "\tLoss: 5.05e-01\tError: 5.24e-01\tStd dev: 2.63e-03\tResample: 24\n",
        "Chose theta = [   0.97536944  293.15          0.7       ]."
       ]
      },
      {
       "output_type": "stream",
       "stream": "stdout",
       "text": [
        "\tLoss: 5.05e-01\tError: 5.24e-01\tStd dev: 2.63e-03\tResample: 24\n",
        "Chose theta = [   0.97111969  293.15          0.7       ]."
       ]
      },
      {
       "output_type": "stream",
       "stream": "stdout",
       "text": [
        "\tLoss: 5.05e-01\tError: 5.24e-01\tStd dev: 2.64e-03\tResample: 24\n",
        "Chose theta = [   0.97040394  293.15          0.7       ]."
       ]
      },
      {
       "output_type": "stream",
       "stream": "stdout",
       "text": [
        "\tLoss: 5.05e-01\tError: 5.24e-01\tStd dev: 2.63e-03\tResample: 24\n",
        "Chose theta = [   0.97081238  293.15          0.7       ]."
       ]
      },
      {
       "output_type": "stream",
       "stream": "stdout",
       "text": [
        "\tLoss: 5.05e-01\tError: 5.24e-01\tStd dev: 2.63e-03\tResample: 24\n",
        "Chose theta = [   0.96788574  293.15          0.7       ]."
       ]
      },
      {
       "output_type": "stream",
       "stream": "stdout",
       "text": [
        "\tLoss: 5.05e-01\tError: 5.24e-01\tStd dev: 2.63e-03\tResample: 24\n",
        "Chose theta = [   0.9708466  293.15         0.7      ]."
       ]
      },
      {
       "output_type": "stream",
       "stream": "stdout",
       "text": [
        "\tLoss: 5.05e-01\tError: 5.24e-01\tStd dev: 2.62e-03\tResample: 24\n",
        "Chose theta = [   0.97503288  293.15          0.7       ]."
       ]
      },
      {
       "output_type": "stream",
       "stream": "stdout",
       "text": [
        "\tLoss: 5.04e-01\tError: 5.24e-01\tStd dev: 2.62e-03\tResample: 24\n",
        "Chose theta = [   0.96948557  293.15          0.7       ]."
       ]
      },
      {
       "output_type": "stream",
       "stream": "stdout",
       "text": [
        "\tLoss: 5.05e-01\tError: 5.24e-01\tStd dev: 2.62e-03\tResample: 24\n",
        "Chose theta = [   0.97645644  293.15          0.7       ]."
       ]
      },
      {
       "output_type": "stream",
       "stream": "stdout",
       "text": [
        "\tLoss: 5.04e-01\tError: 5.24e-01\tStd dev: 2.62e-03\tResample: 24\n",
        "Chose theta = [   0.97196431  293.15          0.7       ]."
       ]
      },
      {
       "output_type": "stream",
       "stream": "stdout",
       "text": [
        "\tLoss: 5.05e-01\tError: 5.24e-01\tStd dev: 2.62e-03\tResample: 24\n",
        "Chose theta = [   0.97432216  293.15          0.7       ]."
       ]
      },
      {
       "output_type": "stream",
       "stream": "stdout",
       "text": [
        "\tLoss: 5.04e-01\tError: 5.24e-01\tStd dev: 2.61e-03\tResample: 24\n",
        "Chose theta = [   4.11751015  293.15          0.7       ]."
       ]
      },
      {
       "output_type": "stream",
       "stream": "stdout",
       "text": [
        "\tLoss: 5.04e-01\tError: 5.24e-01\tStd dev: 2.59e-03\tResample: 24\n",
        "Chose theta = [   4.11887029  293.15          0.7       ]."
       ]
      },
      {
       "output_type": "stream",
       "stream": "stdout",
       "text": [
        "\tLoss: 5.05e-01\tError: 5.24e-01\tStd dev: 2.56e-03\tResample: 25\n",
        "Chose theta = [   0.9750931  293.15         0.7      ]."
       ]
      },
      {
       "output_type": "stream",
       "stream": "stdout",
       "text": [
        "\tLoss: 5.05e-01\tError: 5.24e-01\tStd dev: 2.57e-03\tResample: 25\n",
        "Chose theta = [   0.97486714  293.15          0.7       ]."
       ]
      },
      {
       "output_type": "stream",
       "stream": "stdout",
       "text": [
        "\tLoss: 5.05e-01\tError: 5.24e-01\tStd dev: 2.57e-03\tResample: 25\n",
        "Chose theta = [   0.97314604  293.15          0.7       ]."
       ]
      },
      {
       "output_type": "stream",
       "stream": "stdout",
       "text": [
        "\tLoss: 5.05e-01\tError: 5.24e-01\tStd dev: 2.56e-03\tResample: 25\n",
        "Chose theta = [   4.11428341  293.15          0.7       ]."
       ]
      },
      {
       "output_type": "stream",
       "stream": "stdout",
       "text": [
        "\tLoss: 5.05e-01\tError: 5.24e-01\tStd dev: 2.54e-03\tResample: 25\n",
        "Chose theta = [   0.97546779  293.15          0.7       ]."
       ]
      },
      {
       "output_type": "stream",
       "stream": "stdout",
       "text": [
        "\tLoss: 5.05e-01\tError: 5.24e-01\tStd dev: 2.54e-03\tResample: 25\n",
        "Chose theta = [   0.97071829  293.15          0.7       ]."
       ]
      },
      {
       "output_type": "stream",
       "stream": "stdout",
       "text": [
        "\tLoss: 5.05e-01\tError: 5.24e-01\tStd dev: 2.54e-03\tResample: 25\n",
        "Chose theta = [   0.97360399  293.15          0.7       ]."
       ]
      },
      {
       "output_type": "stream",
       "stream": "stdout",
       "text": [
        "\tLoss: 5.05e-01\tError: 5.24e-01\tStd dev: 2.54e-03\tResample: 25\n",
        "Chose theta = [   0.9691601  293.15         0.7      ]."
       ]
      },
      {
       "output_type": "stream",
       "stream": "stdout",
       "text": [
        "\tLoss: 5.05e-01\tError: 5.24e-01\tStd dev: 2.54e-03\tResample: 25\n",
        "Chose theta = [   0.97360141  293.15          0.7       ]."
       ]
      },
      {
       "output_type": "stream",
       "stream": "stdout",
       "text": [
        "\tLoss: 5.05e-01\tError: 5.24e-01\tStd dev: 2.53e-03\tResample: 25\n",
        "Chose theta = [   0.97195202  293.15          0.7       ]."
       ]
      },
      {
       "output_type": "stream",
       "stream": "stdout",
       "text": [
        "\tLoss: 5.05e-01\tError: 5.24e-01\tStd dev: 2.53e-03\tResample: 25\n",
        "Chose theta = [   0.97256375  293.15          0.7       ]."
       ]
      },
      {
       "output_type": "stream",
       "stream": "stdout",
       "text": [
        "\tLoss: 5.04e-01\tError: 5.24e-01\tStd dev: 2.53e-03\tResample: 25\n",
        "Chose theta = [   0.97175528  293.15          0.7       ]."
       ]
      },
      {
       "output_type": "stream",
       "stream": "stdout",
       "text": [
        "\tLoss: 5.04e-01\tError: 5.24e-01\tStd dev: 2.53e-03\tResample: 25\n",
        "Chose theta = [   2.54441034  293.15          0.7       ]."
       ]
      },
      {
       "output_type": "stream",
       "stream": "stdout",
       "text": [
        "\tLoss: 5.04e-01\tError: 5.24e-01\tStd dev: 2.51e-03\tResample: 25\n",
        "Chose theta = [   0.9721599  293.15         0.7      ]."
       ]
      },
      {
       "output_type": "stream",
       "stream": "stdout",
       "text": [
        "\tLoss: 5.04e-01\tError: 5.24e-01\tStd dev: 2.51e-03\tResample: 25\n",
        "0.89 \u00b1 0.000485\t"
       ]
      },
      {
       "output_type": "stream",
       "stream": "stdout",
       "text": [
        " 0.0153 \u00b1 0.000213\t 0.608 \u00b1 0.00251\t 1.02 \u00b1 0.000568\t -1.02 \u00b1 0.00149\t\n",
        "[ 0.9        0.         0.0844303  1.02     ]\n",
        "Loss: 2.40e+00\tError: 1.33e+00\tStd dev: 9.10e-02\tResample: 1"
       ]
      },
      {
       "output_type": "stream",
       "stream": "stdout",
       "text": [
        "\n",
        "Loss: 2.31e+00\tError: 1.29e+00\tStd dev: 7.72e-02\tResample: 1\n",
        "Loss: 2.22e+00\tError: 1.26e+00\tStd dev: 6.54e-02\tResample: 1\n",
        "Loss: 2.07e+00\tError: 1.20e+00\tStd dev: 5.70e-02\tResample: 2\n",
        "Loss: 1.92e+00\tError: 1.13e+00\tStd dev: 5.02e-02\tResample: 3"
       ]
      },
      {
       "output_type": "stream",
       "stream": "stdout",
       "text": [
        "\n",
        "Loss: 1.73e+00\tError: 1.05e+00\tStd dev: 3.85e-02\tResample: 4\n",
        "Loss: 1.67e+00\tError: 1.02e+00\tStd dev: 2.63e-02\tResample: 5\n",
        "Loss: 1.65e+00\tError: 1.00e+00\tStd dev: 1.57e-02\tResample: 6"
       ]
      },
      {
       "output_type": "stream",
       "stream": "stdout",
       "text": [
        "\n",
        "Loss: 1.64e+00\tError: 9.98e-01\tStd dev: 1.26e-02\tResample: 7\n",
        "Loss: 1.63e+00\tError: 9.91e-01\tStd dev: 1.19e-02\tResample: 8"
       ]
      },
      {
       "output_type": "stream",
       "stream": "stdout",
       "text": [
        "\n",
        "Loss: 1.61e+00\tError: 9.85e-01\tStd dev: 1.10e-02\tResample: 9\n",
        "Loss: 1.61e+00\tError: 9.84e-01\tStd dev: 1.14e-02\tResample: 9\n",
        "Loss: 1.64e+00\tError: 9.97e-01\tStd dev: 1.74e-02\tResample: 10"
       ]
      },
      {
       "output_type": "stream",
       "stream": "stdout",
       "text": [
        "\n",
        "Loss: 1.68e+00\tError: 1.02e+00\tStd dev: 1.04e-02\tResample: 11\n",
        "Loss: 1.69e+00\tError: 1.03e+00\tStd dev: 5.99e-03\tResample: 11\n",
        "Loss: 1.70e+00\tError: 1.03e+00\tStd dev: 5.28e-03\tResample: 12"
       ]
      },
      {
       "output_type": "stream",
       "stream": "stdout",
       "text": [
        "\n",
        "Loss: 1.70e+00\tError: 1.03e+00\tStd dev: 5.12e-03\tResample: 12\n",
        "Loss: 1.71e+00\tError: 1.03e+00\tStd dev: 5.00e-03\tResample: 12\n",
        "Loss: 1.71e+00\tError: 1.03e+00\tStd dev: 4.86e-03\tResample: 13\n",
        "Loss: 1.71e+00\tError: 1.03e+00\tStd dev: 4.77e-03\tResample: 13\n",
        "Loss: 1.71e+00\tError: 1.03e+00\tStd dev: 4.66e-03\tResample: 13"
       ]
      },
      {
       "output_type": "stream",
       "stream": "stdout",
       "text": [
        "\n",
        "Loss: 1.71e+00\tError: 1.03e+00\tStd dev: 4.66e-03\tResample: 13\n",
        "Loss: 1.71e+00\tError: 1.03e+00\tStd dev: 4.68e-03\tResample: 13\n",
        "Loss: 1.71e+00\tError: 1.03e+00\tStd dev: 4.78e-03\tResample: 13\n",
        "Loss: 1.71e+00\tError: 1.03e+00\tStd dev: 4.85e-03\tResample: 13\n",
        "Loss: 1.71e+00\tError: 1.03e+00\tStd dev: 4.93e-03\tResample: 13\n",
        "Loss: 1.70e+00\tError: 1.03e+00\tStd dev: 5.00e-03\tResample: 13\n",
        "Loss: 1.70e+00\tError: 1.03e+00\tStd dev: 5.05e-03\tResample: 14"
       ]
      },
      {
       "output_type": "stream",
       "stream": "stdout",
       "text": [
        "\n",
        "Loss: 1.69e+00\tError: 1.02e+00\tStd dev: 5.39e-03\tResample: 14\n",
        "Loss: 1.68e+00\tError: 1.02e+00\tStd dev: 3.85e-03\tResample: 15\n",
        "Loss: 1.67e+00\tError: 1.02e+00\tStd dev: 1.91e-03\tResample: 15\n",
        "Loss: 1.67e+00\tError: 1.02e+00\tStd dev: 1.59e-03\tResample: 16"
       ]
      },
      {
       "output_type": "stream",
       "stream": "stdout",
       "text": [
        "\n",
        "Loss: 1.66e+00\tError: 1.02e+00\tStd dev: 1.11e-03\tResample: 16\n",
        "Loss: 1.66e+00\tError: 1.02e+00\tStd dev: 1.08e-03\tResample: 17\n",
        "Loss: 1.66e+00\tError: 1.02e+00\tStd dev: 1.04e-03\tResample: 17\n",
        "Loss: 1.66e+00\tError: 1.02e+00\tStd dev: 1.00e-03\tResample: 18"
       ]
      },
      {
       "output_type": "stream",
       "stream": "stdout",
       "text": [
        "\n",
        "Loss: 1.66e+00\tError: 1.02e+00\tStd dev: 9.89e-04\tResample: 18\n",
        "Loss: 1.66e+00\tError: 1.02e+00\tStd dev: 9.79e-04\tResample: 18\n",
        "Loss: 1.66e+00\tError: 1.02e+00\tStd dev: 9.73e-04\tResample: 18\n",
        "Loss: 1.66e+00\tError: 1.02e+00\tStd dev: 9.70e-04\tResample: 18\n",
        "Chose theta = [   5.19422082  293.15          0.7       ]."
       ]
      },
      {
       "output_type": "stream",
       "stream": "stdout",
       "text": [
        "\tLoss: 1.66e+00\tError: 1.02e+00\tStd dev: 8.96e-04\tResample: 19\n",
        "Chose theta = [   5.19417583  293.15          0.7       ]."
       ]
      },
      {
       "output_type": "stream",
       "stream": "stdout",
       "text": [
        "\tLoss: 1.66e+00\tError: 1.02e+00\tStd dev: 8.49e-04\tResample: 19\n",
        "Chose theta = [   5.19548747  293.15          0.7       ]."
       ]
      },
      {
       "output_type": "stream",
       "stream": "stdout",
       "text": [
        "\tLoss: 1.66e+00\tError: 1.02e+00\tStd dev: 8.12e-04\tResample: 19\n",
        "Chose theta = [   0.48293325  293.15          0.7       ]."
       ]
      },
      {
       "output_type": "stream",
       "stream": "stdout",
       "text": [
        "\tLoss: 1.66e+00\tError: 1.02e+00\tStd dev: 8.11e-04\tResample: 19\n",
        "Chose theta = [   3.62412894  293.15          0.7       ]."
       ]
      },
      {
       "output_type": "stream",
       "stream": "stdout",
       "text": [
        "\tLoss: 1.66e+00\tError: 1.02e+00\tStd dev: 8.12e-04\tResample: 19\n",
        "Chose theta = [   3.62359162  293.15          0.7       ]."
       ]
      },
      {
       "output_type": "stream",
       "stream": "stdout",
       "text": [
        "\tLoss: 1.66e+00\tError: 1.02e+00\tStd dev: 8.12e-04\tResample: 19\n",
        "Chose theta = [   3.62457149  293.15          0.7       ]."
       ]
      },
      {
       "output_type": "stream",
       "stream": "stdout",
       "text": [
        "\tLoss: 1.66e+00\tError: 1.02e+00\tStd dev: 8.12e-04\tResample: 19\n",
        "Chose theta = [   3.62650569  293.15          0.7       ]."
       ]
      },
      {
       "output_type": "stream",
       "stream": "stdout",
       "text": [
        "\tLoss: 1.66e+00\tError: 1.02e+00\tStd dev: 8.13e-04\tResample: 19\n",
        "Chose theta = [   3.624654  293.15        0.7     ]."
       ]
      },
      {
       "output_type": "stream",
       "stream": "stdout",
       "text": [
        "\tLoss: 1.66e+00\tError: 1.02e+00\tStd dev: 8.13e-04\tResample: 19\n",
        "Chose theta = [   3.62450816  293.15          0.7       ]."
       ]
      },
      {
       "output_type": "stream",
       "stream": "stdout",
       "text": [
        "\tLoss: 1.66e+00\tError: 1.02e+00\tStd dev: 8.14e-04\tResample: 19\n",
        "Chose theta = [   3.62384977  293.15          0.7       ]."
       ]
      },
      {
       "output_type": "stream",
       "stream": "stdout",
       "text": [
        "\tLoss: 1.66e+00\tError: 1.02e+00\tStd dev: 8.14e-04\tResample: 19\n",
        "Chose theta = [   3.6247397  293.15         0.7      ]."
       ]
      },
      {
       "output_type": "stream",
       "stream": "stdout",
       "text": [
        "\tLoss: 1.66e+00\tError: 1.02e+00\tStd dev: 8.15e-04\tResample: 19\n",
        "Chose theta = [   3.62450438  293.15          0.7       ]."
       ]
      },
      {
       "output_type": "stream",
       "stream": "stdout",
       "text": [
        "\tLoss: 1.66e+00\tError: 1.02e+00\tStd dev: 8.15e-04\tResample: 19\n",
        "Chose theta = [   3.62386683  293.15          0.7       ]."
       ]
      },
      {
       "output_type": "stream",
       "stream": "stdout",
       "text": [
        "\tLoss: 1.66e+00\tError: 1.02e+00\tStd dev: 8.15e-04\tResample: 19\n",
        "Chose theta = [   3.62288688  293.15          0.7       ]."
       ]
      },
      {
       "output_type": "stream",
       "stream": "stdout",
       "text": [
        "\tLoss: 1.66e+00\tError: 1.02e+00\tStd dev: 8.16e-04\tResample: 19\n",
        "Chose theta = [   3.62431095  293.15          0.7       ]."
       ]
      },
      {
       "output_type": "stream",
       "stream": "stdout",
       "text": [
        "\tLoss: 1.66e+00\tError: 1.02e+00\tStd dev: 8.17e-04\tResample: 19\n",
        "Chose theta = [   3.62534844  293.15          0.7       ]."
       ]
      },
      {
       "output_type": "stream",
       "stream": "stdout",
       "text": [
        "\tLoss: 1.66e+00\tError: 1.02e+00\tStd dev: 8.19e-04\tResample: 19\n",
        "Chose theta = [   3.62394975  293.15          0.7       ]."
       ]
      },
      {
       "output_type": "stream",
       "stream": "stdout",
       "text": [
        "\tLoss: 1.66e+00\tError: 1.02e+00\tStd dev: 8.21e-04\tResample: 19\n",
        "Chose theta = [   0.48264176  293.15          0.7       ]."
       ]
      },
      {
       "output_type": "stream",
       "stream": "stdout",
       "text": [
        "\tLoss: 1.66e+00\tError: 1.02e+00\tStd dev: 8.20e-04\tResample: 19\n",
        "Chose theta = [   3.6241609  293.15         0.7      ]."
       ]
      },
      {
       "output_type": "stream",
       "stream": "stdout",
       "text": [
        "\tLoss: 1.66e+00\tError: 1.02e+00\tStd dev: 8.21e-04\tResample: 19\n",
        "Chose theta = [   3.62424435  293.15          0.7       ]."
       ]
      },
      {
       "output_type": "stream",
       "stream": "stdout",
       "text": [
        "\tLoss: 1.66e+00\tError: 1.02e+00\tStd dev: 8.24e-04\tResample: 19\n",
        "Chose theta = [   3.62447341  293.15          0.7       ]."
       ]
      },
      {
       "output_type": "stream",
       "stream": "stdout",
       "text": [
        "\tLoss: 1.66e+00\tError: 1.02e+00\tStd dev: 8.25e-04\tResample: 19\n",
        "Chose theta = [   0.48169994  293.15          0.7       ]."
       ]
      },
      {
       "output_type": "stream",
       "stream": "stdout",
       "text": [
        "\tLoss: 1.66e+00\tError: 1.02e+00\tStd dev: 8.28e-04\tResample: 19\n",
        "Chose theta = [   3.62347727  293.15          0.7       ]."
       ]
      },
      {
       "output_type": "stream",
       "stream": "stdout",
       "text": [
        "\tLoss: 1.66e+00\tError: 1.02e+00\tStd dev: 8.29e-04\tResample: 19\n",
        "Chose theta = [   3.62543932  293.15          0.7       ]."
       ]
      },
      {
       "output_type": "stream",
       "stream": "stdout",
       "text": [
        "\tLoss: 1.66e+00\tError: 1.02e+00\tStd dev: 8.30e-04\tResample: 19\n",
        "Chose theta = [   3.62701975  293.15          0.7       ]."
       ]
      },
      {
       "output_type": "stream",
       "stream": "stdout",
       "text": [
        "\tLoss: 1.66e+00\tError: 1.02e+00\tStd dev: 8.32e-04\tResample: 19\n",
        "Chose theta = [   3.62475566  293.15          0.7       ]."
       ]
      },
      {
       "output_type": "stream",
       "stream": "stdout",
       "text": [
        "\tLoss: 1.66e+00\tError: 1.02e+00\tStd dev: 8.34e-04\tResample: 19\n",
        "Chose theta = [   3.6252791  293.15         0.7      ]."
       ]
      },
      {
       "output_type": "stream",
       "stream": "stdout",
       "text": [
        "\tLoss: 1.66e+00\tError: 1.02e+00\tStd dev: 8.38e-04\tResample: 19\n",
        "Chose theta = [   3.62499682  293.15          0.7       ]."
       ]
      },
      {
       "output_type": "stream",
       "stream": "stdout",
       "text": [
        "\tLoss: 1.66e+00\tError: 1.02e+00\tStd dev: 8.40e-04\tResample: 19\n",
        "Chose theta = [   3.62585313  293.15          0.7       ]."
       ]
      },
      {
       "output_type": "stream",
       "stream": "stdout",
       "text": [
        "\tLoss: 1.66e+00\tError: 1.02e+00\tStd dev: 8.42e-04\tResample: 19\n",
        "Chose theta = [   3.6249444  293.15         0.7      ]."
       ]
      },
      {
       "output_type": "stream",
       "stream": "stdout",
       "text": [
        "\tLoss: 1.66e+00\tError: 1.02e+00\tStd dev: 8.43e-04\tResample: 19\n",
        "Chose theta = [   0.48259088  293.15          0.7       ]."
       ]
      },
      {
       "output_type": "stream",
       "stream": "stdout",
       "text": [
        "\tLoss: 1.66e+00\tError: 1.02e+00\tStd dev: 8.44e-04\tResample: 19\n",
        "Chose theta = [   3.62415968  293.15          0.7       ]."
       ]
      },
      {
       "output_type": "stream",
       "stream": "stdout",
       "text": [
        "\tLoss: 1.66e+00\tError: 1.02e+00\tStd dev: 8.45e-04\tResample: 19\n",
        "Chose theta = [   3.62488594  293.15          0.7       ]."
       ]
      },
      {
       "output_type": "stream",
       "stream": "stdout",
       "text": [
        "\tLoss: 1.66e+00\tError: 1.02e+00\tStd dev: 8.46e-04\tResample: 19\n",
        "Chose theta = [   0.48249561  293.15          0.7       ]."
       ]
      },
      {
       "output_type": "stream",
       "stream": "stdout",
       "text": [
        "\tLoss: 1.66e+00\tError: 1.02e+00\tStd dev: 8.48e-04\tResample: 19\n",
        "Chose theta = [   0.4828562  293.15         0.7      ]."
       ]
      },
      {
       "output_type": "stream",
       "stream": "stdout",
       "text": [
        "\tLoss: 1.66e+00\tError: 1.02e+00\tStd dev: 8.48e-04\tResample: 19\n",
        "Chose theta = [   0.48261605  293.15          0.7       ]."
       ]
      },
      {
       "output_type": "stream",
       "stream": "stdout",
       "text": [
        "\tLoss: 1.66e+00\tError: 1.02e+00\tStd dev: 8.49e-04\tResample: 19\n",
        "Chose theta = [   3.62386319  293.15          0.7       ]."
       ]
      },
      {
       "output_type": "stream",
       "stream": "stdout",
       "text": [
        "\tLoss: 1.66e+00\tError: 1.02e+00\tStd dev: 8.50e-04\tResample: 19\n",
        "Chose theta = [   3.62473671  293.15          0.7       ]."
       ]
      },
      {
       "output_type": "stream",
       "stream": "stdout",
       "text": [
        "\tLoss: 1.66e+00\tError: 1.02e+00\tStd dev: 8.52e-04\tResample: 19\n",
        "Chose theta = [   3.62424203  293.15          0.7       ]."
       ]
      },
      {
       "output_type": "stream",
       "stream": "stdout",
       "text": [
        "\tLoss: 1.66e+00\tError: 1.02e+00\tStd dev: 8.55e-04\tResample: 19\n",
        "Chose theta = [   0.48267157  293.15          0.7       ]."
       ]
      },
      {
       "output_type": "stream",
       "stream": "stdout",
       "text": [
        "\tLoss: 1.66e+00\tError: 1.02e+00\tStd dev: 8.56e-04\tResample: 19\n",
        "Chose theta = [   5.19558489  293.15          0.7       ]."
       ]
      },
      {
       "output_type": "stream",
       "stream": "stdout",
       "text": [
        "\tLoss: 1.66e+00\tError: 1.02e+00\tStd dev: 8.38e-04\tResample: 19\n",
        "Chose theta = [   0.48357028  293.15          0.7       ]."
       ]
      },
      {
       "output_type": "stream",
       "stream": "stdout",
       "text": [
        "\tLoss: 1.66e+00\tError: 1.02e+00\tStd dev: 8.40e-04\tResample: 19\n",
        "Chose theta = [   3.62371014  293.15          0.7       ]."
       ]
      },
      {
       "output_type": "stream",
       "stream": "stdout",
       "text": [
        "\tLoss: 1.66e+00\tError: 1.02e+00\tStd dev: 8.45e-04\tResample: 19\n",
        "Chose theta = [   0.48442555  293.15          0.7       ]."
       ]
      },
      {
       "output_type": "stream",
       "stream": "stdout",
       "text": [
        "\tLoss: 1.66e+00\tError: 1.02e+00\tStd dev: 8.46e-04\tResample: 19\n",
        "Chose theta = [   3.62384146  293.15          0.7       ]."
       ]
      },
      {
       "output_type": "stream",
       "stream": "stdout",
       "text": [
        "\tLoss: 1.66e+00\tError: 1.02e+00\tStd dev: 8.50e-04\tResample: 19\n",
        "Chose theta = [   3.62430321  293.15          0.7       ]."
       ]
      },
      {
       "output_type": "stream",
       "stream": "stdout",
       "text": [
        "\tLoss: 1.66e+00\tError: 1.02e+00\tStd dev: 8.52e-04\tResample: 19\n",
        "Chose theta = [   3.62403208  293.15          0.7       ]."
       ]
      },
      {
       "output_type": "stream",
       "stream": "stdout",
       "text": [
        "\tLoss: 1.66e+00\tError: 1.02e+00\tStd dev: 8.58e-04\tResample: 19\n",
        "Chose theta = [   3.62395808  293.15          0.7       ]."
       ]
      },
      {
       "output_type": "stream",
       "stream": "stdout",
       "text": [
        "\tLoss: 1.66e+00\tError: 1.02e+00\tStd dev: 8.57e-04\tResample: 19\n",
        "Chose theta = [   3.62416094  293.15          0.7       ]."
       ]
      },
      {
       "output_type": "stream",
       "stream": "stdout",
       "text": [
        "\tLoss: 1.66e+00\tError: 1.02e+00\tStd dev: 8.58e-04\tResample: 19\n",
        "Chose theta = [   3.62346605  293.15          0.7       ]."
       ]
      },
      {
       "output_type": "stream",
       "stream": "stdout",
       "text": [
        "\tLoss: 1.66e+00\tError: 1.02e+00\tStd dev: 8.61e-04\tResample: 19\n",
        "Chose theta = [   3.62465339  293.15          0.7       ]."
       ]
      },
      {
       "output_type": "stream",
       "stream": "stdout",
       "text": [
        "\tLoss: 1.66e+00\tError: 1.02e+00\tStd dev: 8.60e-04\tResample: 19\n",
        "Chose theta = [   0.48256867  293.15          0.7       ]."
       ]
      },
      {
       "output_type": "stream",
       "stream": "stdout",
       "text": [
        "\tLoss: 1.66e+00\tError: 1.02e+00\tStd dev: 8.63e-04\tResample: 19\n",
        "Chose theta = [   0.48245208  293.15          0.7       ]."
       ]
      },
      {
       "output_type": "stream",
       "stream": "stdout",
       "text": [
        "\tLoss: 1.66e+00\tError: 1.02e+00\tStd dev: 8.64e-04\tResample: 19\n",
        "Chose theta = [   3.62420336  293.15          0.7       ]."
       ]
      },
      {
       "output_type": "stream",
       "stream": "stdout",
       "text": [
        "\tLoss: 1.66e+00\tError: 1.02e+00\tStd dev: 8.64e-04\tResample: 20\n",
        "Chose theta = [   0.48419626  293.15          0.7       ]."
       ]
      },
      {
       "output_type": "stream",
       "stream": "stdout",
       "text": [
        "\tLoss: 1.66e+00\tError: 1.02e+00\tStd dev: 8.66e-04\tResample: 20\n",
        "Chose theta = [   3.62441016  293.15          0.7       ]."
       ]
      },
      {
       "output_type": "stream",
       "stream": "stdout",
       "text": [
        "\tLoss: 1.66e+00\tError: 1.02e+00\tStd dev: 8.69e-04\tResample: 20\n",
        "Chose theta = [   0.48276745  293.15          0.7       ]."
       ]
      },
      {
       "output_type": "stream",
       "stream": "stdout",
       "text": [
        "\tLoss: 1.66e+00\tError: 1.02e+00\tStd dev: 8.70e-04\tResample: 20\n",
        "Chose theta = [   0.48175566  293.15          0.7       ]."
       ]
      },
      {
       "output_type": "stream",
       "stream": "stdout",
       "text": [
        "\tLoss: 1.66e+00\tError: 1.02e+00\tStd dev: 8.74e-04\tResample: 20\n",
        "Chose theta = [   0.48292972  293.15          0.7       ]."
       ]
      },
      {
       "output_type": "stream",
       "stream": "stdout",
       "text": [
        "\tLoss: 1.66e+00\tError: 1.02e+00\tStd dev: 8.77e-04\tResample: 20\n",
        "Chose theta = [   3.62670427  293.15          0.7       ]."
       ]
      },
      {
       "output_type": "stream",
       "stream": "stdout",
       "text": [
        "\tLoss: 1.66e+00\tError: 1.02e+00\tStd dev: 8.81e-04\tResample: 20\n",
        "Chose theta = [   3.62353997  293.15          0.7       ]."
       ]
      },
      {
       "output_type": "stream",
       "stream": "stdout",
       "text": [
        "\tLoss: 1.66e+00\tError: 1.02e+00\tStd dev: 8.85e-04\tResample: 20\n",
        "Chose theta = [   0.48322433  293.15          0.7       ]."
       ]
      },
      {
       "output_type": "stream",
       "stream": "stdout",
       "text": [
        "\tLoss: 1.66e+00\tError: 1.02e+00\tStd dev: 8.86e-04\tResample: 20\n",
        "Chose theta = [   0.48203664  293.15          0.7       ]."
       ]
      },
      {
       "output_type": "stream",
       "stream": "stdout",
       "text": [
        "\tLoss: 1.66e+00\tError: 1.02e+00\tStd dev: 8.87e-04\tResample: 20\n",
        "Chose theta = [   3.62480978  293.15          0.7       ]."
       ]
      },
      {
       "output_type": "stream",
       "stream": "stdout",
       "text": [
        "\tLoss: 1.66e+00\tError: 1.02e+00\tStd dev: 8.92e-04\tResample: 20\n",
        "Chose theta = [   3.62395747  293.15          0.7       ]."
       ]
      },
      {
       "output_type": "stream",
       "stream": "stdout",
       "text": [
        "\tLoss: 1.66e+00\tError: 1.02e+00\tStd dev: 8.96e-04\tResample: 20\n",
        "Chose theta = [   3.62473034  293.15          0.7       ]."
       ]
      },
      {
       "output_type": "stream",
       "stream": "stdout",
       "text": [
        "\tLoss: 1.66e+00\tError: 1.02e+00\tStd dev: 8.96e-04\tResample: 20\n",
        "Chose theta = [   5.19532746  293.15          0.7       ]."
       ]
      },
      {
       "output_type": "stream",
       "stream": "stdout",
       "text": [
        "\tLoss: 1.66e+00\tError: 1.02e+00\tStd dev: 8.81e-04\tResample: 20\n",
        "Chose theta = [   3.62366512  293.15          0.7       ]."
       ]
      },
      {
       "output_type": "stream",
       "stream": "stdout",
       "text": [
        "\tLoss: 1.66e+00\tError: 1.02e+00\tStd dev: 8.83e-04\tResample: 20\n",
        "Chose theta = [   0.48284303  293.15          0.7       ]."
       ]
      },
      {
       "output_type": "stream",
       "stream": "stdout",
       "text": [
        "\tLoss: 1.66e+00\tError: 1.02e+00\tStd dev: 8.89e-04\tResample: 20\n",
        "Chose theta = [   5.19329851  293.15          0.7       ]."
       ]
      },
      {
       "output_type": "stream",
       "stream": "stdout",
       "text": [
        "\tLoss: 1.66e+00\tError: 1.02e+00\tStd dev: 8.77e-04\tResample: 20\n",
        "Chose theta = [   0.48319416  293.15          0.7       ]."
       ]
      },
      {
       "output_type": "stream",
       "stream": "stdout",
       "text": [
        "\tLoss: 1.66e+00\tError: 1.02e+00\tStd dev: 8.82e-04\tResample: 20\n",
        "Chose theta = [   0.48387971  293.15          0.7       ]."
       ]
      },
      {
       "output_type": "stream",
       "stream": "stdout",
       "text": [
        "\tLoss: 1.66e+00\tError: 1.02e+00\tStd dev: 8.83e-04\tResample: 20\n",
        "Chose theta = [   0.48217711  293.15          0.7       ]."
       ]
      },
      {
       "output_type": "stream",
       "stream": "stdout",
       "text": [
        "\tLoss: 1.66e+00\tError: 1.02e+00\tStd dev: 8.84e-04\tResample: 20\n",
        "Chose theta = [   3.62495568  293.15          0.7       ]."
       ]
      },
      {
       "output_type": "stream",
       "stream": "stdout",
       "text": [
        "\tLoss: 1.66e+00\tError: 1.02e+00\tStd dev: 8.85e-04\tResample: 20\n",
        "Chose theta = [   0.48312296  293.15          0.7       ]."
       ]
      },
      {
       "output_type": "stream",
       "stream": "stdout",
       "text": [
        "\tLoss: 1.66e+00\tError: 1.02e+00\tStd dev: 8.87e-04\tResample: 20\n",
        "Chose theta = [   3.62529675  293.15          0.7       ]."
       ]
      },
      {
       "output_type": "stream",
       "stream": "stdout",
       "text": [
        "\tLoss: 1.66e+00\tError: 1.02e+00\tStd dev: 8.89e-04\tResample: 20\n",
        "Chose theta = [   0.48393354  293.15          0.7       ]."
       ]
      },
      {
       "output_type": "stream",
       "stream": "stdout",
       "text": [
        "\tLoss: 1.66e+00\tError: 1.02e+00\tStd dev: 8.90e-04\tResample: 20\n",
        "Chose theta = [   0.48297904  293.15          0.7       ]."
       ]
      },
      {
       "output_type": "stream",
       "stream": "stdout",
       "text": [
        "\tLoss: 1.66e+00\tError: 1.02e+00\tStd dev: 8.89e-04\tResample: 20\n",
        "Chose theta = [   0.48367313  293.15          0.7       ]."
       ]
      },
      {
       "output_type": "stream",
       "stream": "stdout",
       "text": [
        "\tLoss: 1.66e+00\tError: 1.02e+00\tStd dev: 8.86e-04\tResample: 20\n",
        "Chose theta = [   0.48258681  293.15          0.7       ]."
       ]
      },
      {
       "output_type": "stream",
       "stream": "stdout",
       "text": [
        "\tLoss: 1.66e+00\tError: 1.02e+00\tStd dev: 8.87e-04\tResample: 20\n",
        "Chose theta = [   0.48470471  293.15          0.7       ]."
       ]
      },
      {
       "output_type": "stream",
       "stream": "stdout",
       "text": [
        "\tLoss: 1.66e+00\tError: 1.02e+00\tStd dev: 8.89e-04\tResample: 20\n",
        "Chose theta = [   0.48314946  293.15          0.7       ]."
       ]
      },
      {
       "output_type": "stream",
       "stream": "stdout",
       "text": [
        "\tLoss: 1.66e+00\tError: 1.02e+00\tStd dev: 8.87e-04\tResample: 20\n",
        "Chose theta = [   0.48304764  293.15          0.7       ]."
       ]
      },
      {
       "output_type": "stream",
       "stream": "stdout",
       "text": [
        "\tLoss: 1.66e+00\tError: 1.02e+00\tStd dev: 8.86e-04\tResample: 20\n",
        "Chose theta = [   0.48304078  293.15          0.7       ]."
       ]
      },
      {
       "output_type": "stream",
       "stream": "stdout",
       "text": [
        "\tLoss: 1.66e+00\tError: 1.02e+00\tStd dev: 8.89e-04\tResample: 20\n",
        "Chose theta = [   0.48291379  293.15          0.7       ]."
       ]
      },
      {
       "output_type": "stream",
       "stream": "stdout",
       "text": [
        "\tLoss: 1.66e+00\tError: 1.02e+00\tStd dev: 8.88e-04\tResample: 20\n",
        "Chose theta = [   2.05427102  293.15          0.7       ]."
       ]
      },
      {
       "output_type": "stream",
       "stream": "stdout",
       "text": [
        "\tLoss: 1.66e+00\tError: 1.02e+00\tStd dev: 8.70e-04\tResample: 20\n",
        "Chose theta = [   0.48302415  293.15          0.7       ]."
       ]
      },
      {
       "output_type": "stream",
       "stream": "stdout",
       "text": [
        "\tLoss: 1.66e+00\tError: 1.02e+00\tStd dev: 8.73e-04\tResample: 20\n",
        "Chose theta = [   0.48457537  293.15          0.7       ]."
       ]
      },
      {
       "output_type": "stream",
       "stream": "stdout",
       "text": [
        "\tLoss: 1.66e+00\tError: 1.02e+00\tStd dev: 8.73e-04\tResample: 20\n",
        "Chose theta = [   0.4847431  293.15         0.7      ]."
       ]
      },
      {
       "output_type": "stream",
       "stream": "stdout",
       "text": [
        "\tLoss: 1.66e+00\tError: 1.02e+00\tStd dev: 8.74e-04\tResample: 20\n",
        "Chose theta = [   3.62358908  293.15          0.7       ]."
       ]
      },
      {
       "output_type": "stream",
       "stream": "stdout",
       "text": [
        "\tLoss: 1.66e+00\tError: 1.02e+00\tStd dev: 8.78e-04\tResample: 20\n",
        "Chose theta = [   0.4852775  293.15         0.7      ]."
       ]
      },
      {
       "output_type": "stream",
       "stream": "stdout",
       "text": [
        "\tLoss: 1.66e+00\tError: 1.02e+00\tStd dev: 8.80e-04\tResample: 20\n",
        "Chose theta = [   0.48271064  293.15          0.7       ]."
       ]
      },
      {
       "output_type": "stream",
       "stream": "stdout",
       "text": [
        "\tLoss: 1.66e+00\tError: 1.02e+00\tStd dev: 8.80e-04\tResample: 20\n",
        "Chose theta = [   0.48355549  293.15          0.7       ]."
       ]
      },
      {
       "output_type": "stream",
       "stream": "stdout",
       "text": [
        "\tLoss: 1.66e+00\tError: 1.02e+00\tStd dev: 8.81e-04\tResample: 20\n",
        "Chose theta = [   0.48336306  293.15          0.7       ]."
       ]
      },
      {
       "output_type": "stream",
       "stream": "stdout",
       "text": [
        "\tLoss: 1.66e+00\tError: 1.02e+00\tStd dev: 8.80e-04\tResample: 20\n",
        "Chose theta = [   0.48267774  293.15          0.7       ]."
       ]
      },
      {
       "output_type": "stream",
       "stream": "stdout",
       "text": [
        "\tLoss: 1.66e+00\tError: 1.02e+00\tStd dev: 8.83e-04\tResample: 20\n",
        "Chose theta = [   0.48365886  293.15          0.7       ]."
       ]
      },
      {
       "output_type": "stream",
       "stream": "stdout",
       "text": [
        "\tLoss: 1.66e+00\tError: 1.02e+00\tStd dev: 8.82e-04\tResample: 20\n",
        "Chose theta = [   3.62368465  293.15          0.7       ]."
       ]
      },
      {
       "output_type": "stream",
       "stream": "stdout",
       "text": [
        "\tLoss: 1.66e+00\tError: 1.02e+00\tStd dev: 8.86e-04\tResample: 20\n",
        "Chose theta = [   0.48327482  293.15          0.7       ]."
       ]
      },
      {
       "output_type": "stream",
       "stream": "stdout",
       "text": [
        "\tLoss: 1.66e+00\tError: 1.02e+00\tStd dev: 8.85e-04\tResample: 20\n",
        "Chose theta = [   3.62554626  293.15          0.7       ]."
       ]
      },
      {
       "output_type": "stream",
       "stream": "stdout",
       "text": [
        "\tLoss: 1.66e+00\tError: 1.02e+00\tStd dev: 8.89e-04\tResample: 20\n",
        "Chose theta = [   0.48257858  293.15          0.7       ]."
       ]
      },
      {
       "output_type": "stream",
       "stream": "stdout",
       "text": [
        "\tLoss: 1.66e+00\tError: 1.02e+00\tStd dev: 8.90e-04\tResample: 20\n",
        "Chose theta = [   0.4821777  293.15         0.7      ]."
       ]
      },
      {
       "output_type": "stream",
       "stream": "stdout",
       "text": [
        "\tLoss: 1.66e+00\tError: 1.02e+00\tStd dev: 8.91e-04\tResample: 20\n",
        "Chose theta = [   0.48325332  293.15          0.7       ]."
       ]
      },
      {
       "output_type": "stream",
       "stream": "stdout",
       "text": [
        "\tLoss: 1.66e+00\tError: 1.02e+00\tStd dev: 8.93e-04\tResample: 20\n",
        "Chose theta = [   3.62425225  293.15          0.7       ]."
       ]
      },
      {
       "output_type": "stream",
       "stream": "stdout",
       "text": [
        "\tLoss: 1.66e+00\tError: 1.02e+00\tStd dev: 8.95e-04\tResample: 20\n",
        "Chose theta = [   3.62420904  293.15          0.7       ]."
       ]
      },
      {
       "output_type": "stream",
       "stream": "stdout",
       "text": [
        "\tLoss: 1.66e+00\tError: 1.02e+00\tStd dev: 9.00e-04\tResample: 20\n",
        "Chose theta = [   0.48256142  293.15          0.7       ]."
       ]
      },
      {
       "output_type": "stream",
       "stream": "stdout",
       "text": [
        "\tLoss: 1.66e+00\tError: 1.02e+00\tStd dev: 9.02e-04\tResample: 20\n",
        "Chose theta = [   3.62652271  293.15          0.7       ]."
       ]
      },
      {
       "output_type": "stream",
       "stream": "stdout",
       "text": [
        "\tLoss: 1.66e+00\tError: 1.02e+00\tStd dev: 9.09e-04\tResample: 20\n",
        "Chose theta = [   3.62435236  293.15          0.7       ]."
       ]
      },
      {
       "output_type": "stream",
       "stream": "stdout",
       "text": [
        "\tLoss: 1.66e+00\tError: 1.02e+00\tStd dev: 9.15e-04\tResample: 20\n",
        "Chose theta = [   3.62486034  293.15          0.7       ]."
       ]
      },
      {
       "output_type": "stream",
       "stream": "stdout",
       "text": [
        "\tLoss: 1.66e+00\tError: 1.02e+00\tStd dev: 9.21e-04\tResample: 20\n",
        "Chose theta = [   3.62608891  293.15          0.7       ]."
       ]
      },
      {
       "output_type": "stream",
       "stream": "stdout",
       "text": [
        "\tLoss: 1.66e+00\tError: 1.02e+00\tStd dev: 9.23e-04\tResample: 20\n",
        "Chose theta = [   3.62315774  293.15          0.7       ]."
       ]
      },
      {
       "output_type": "stream",
       "stream": "stdout",
       "text": [
        "\tLoss: 1.66e+00\tError: 1.02e+00\tStd dev: 9.23e-04\tResample: 20\n",
        "Chose theta = [   3.62462715  293.15          0.7       ]."
       ]
      },
      {
       "output_type": "stream",
       "stream": "stdout",
       "text": [
        "\tLoss: 1.66e+00\tError: 1.02e+00\tStd dev: 9.28e-04\tResample: 20\n",
        "Chose theta = [   3.62580225  293.15          0.7       ]."
       ]
      },
      {
       "output_type": "stream",
       "stream": "stdout",
       "text": [
        "\tLoss: 1.66e+00\tError: 1.02e+00\tStd dev: 9.30e-04\tResample: 20\n",
        "Chose theta = [   0.48373549  293.15          0.7       ]."
       ]
      },
      {
       "output_type": "stream",
       "stream": "stdout",
       "text": [
        "\tLoss: 1.66e+00\tError: 1.02e+00\tStd dev: 9.32e-04\tResample: 20\n",
        "Chose theta = [   0.48227657  293.15          0.7       ]."
       ]
      },
      {
       "output_type": "stream",
       "stream": "stdout",
       "text": [
        "\tLoss: 1.66e+00\tError: 1.02e+00\tStd dev: 9.33e-04\tResample: 20\n",
        "Chose theta = [   3.62644021  293.15          0.7       ]."
       ]
      },
      {
       "output_type": "stream",
       "stream": "stdout",
       "text": [
        "\tLoss: 1.66e+00\tError: 1.02e+00\tStd dev: 9.36e-04\tResample: 20\n",
        "Chose theta = [   3.62498744  293.15          0.7       ]."
       ]
      },
      {
       "output_type": "stream",
       "stream": "stdout",
       "text": [
        "\tLoss: 1.66e+00\tError: 1.02e+00\tStd dev: 9.41e-04\tResample: 20\n",
        "Chose theta = [   3.62418313  293.15          0.7       ]."
       ]
      },
      {
       "output_type": "stream",
       "stream": "stdout",
       "text": [
        "\tLoss: 1.66e+00\tError: 1.02e+00\tStd dev: 9.46e-04\tResample: 20\n",
        "Chose theta = [   3.62448086  293.15          0.7       ]."
       ]
      },
      {
       "output_type": "stream",
       "stream": "stdout",
       "text": [
        "\tLoss: 1.66e+00\tError: 1.02e+00\tStd dev: 9.49e-04\tResample: 20\n",
        "Chose theta = [   3.62516542  293.15          0.7       ]."
       ]
      },
      {
       "output_type": "stream",
       "stream": "stdout",
       "text": [
        "\tLoss: 1.66e+00\tError: 1.02e+00\tStd dev: 9.50e-04\tResample: 20\n",
        "Chose theta = [   0.48492224  293.15          0.7       ]."
       ]
      },
      {
       "output_type": "stream",
       "stream": "stdout",
       "text": [
        "\tLoss: 1.66e+00\tError: 1.02e+00\tStd dev: 9.51e-04\tResample: 20\n",
        "Chose theta = [   0.48274919  293.15          0.7       ]."
       ]
      },
      {
       "output_type": "stream",
       "stream": "stdout",
       "text": [
        "\tLoss: 1.66e+00\tError: 1.02e+00\tStd dev: 9.51e-04\tResample: 20\n",
        "Chose theta = [   3.62503153  293.15          0.7       ]."
       ]
      },
      {
       "output_type": "stream",
       "stream": "stdout",
       "text": [
        "\tLoss: 1.66e+00\tError: 1.02e+00\tStd dev: 9.55e-04\tResample: 20\n",
        "Chose theta = [   0.48337881  293.15          0.7       ]."
       ]
      },
      {
       "output_type": "stream",
       "stream": "stdout",
       "text": [
        "\tLoss: 1.66e+00\tError: 1.02e+00\tStd dev: 9.56e-04\tResample: 20\n",
        "Chose theta = [   0.48285883  293.15          0.7       ]."
       ]
      },
      {
       "output_type": "stream",
       "stream": "stdout",
       "text": [
        "\tLoss: 1.66e+00\tError: 1.02e+00\tStd dev: 9.56e-04\tResample: 20\n",
        "Chose theta = [   5.19490979  293.15          0.7       ]."
       ]
      },
      {
       "output_type": "stream",
       "stream": "stdout",
       "text": [
        "\tLoss: 1.66e+00\tError: 1.02e+00\tStd dev: 9.39e-04\tResample: 20\n",
        "Chose theta = [   3.62453679  293.15          0.7       ]."
       ]
      },
      {
       "output_type": "stream",
       "stream": "stdout",
       "text": [
        "\tLoss: 1.66e+00\tError: 1.02e+00\tStd dev: 9.44e-04\tResample: 20\n",
        "Chose theta = [   0.48540216  293.15          0.7       ]."
       ]
      },
      {
       "output_type": "stream",
       "stream": "stdout",
       "text": [
        "\tLoss: 1.66e+00\tError: 1.02e+00\tStd dev: 9.45e-04\tResample: 20\n",
        "Chose theta = [   0.48483752  293.15          0.7       ]."
       ]
      },
      {
       "output_type": "stream",
       "stream": "stdout",
       "text": [
        "\tLoss: 1.66e+00\tError: 1.02e+00\tStd dev: 9.45e-04\tResample: 20\n",
        "Chose theta = [   3.62451371  293.15          0.7       ]."
       ]
      },
      {
       "output_type": "stream",
       "stream": "stdout",
       "text": [
        "\tLoss: 1.66e+00\tError: 1.02e+00\tStd dev: 9.51e-04\tResample: 20\n",
        "Chose theta = [   3.62692566  293.15          0.7       ]."
       ]
      },
      {
       "output_type": "stream",
       "stream": "stdout",
       "text": [
        "\tLoss: 1.66e+00\tError: 1.02e+00\tStd dev: 9.53e-04\tResample: 20\n",
        "Chose theta = [   3.62590327  293.15          0.7       ]."
       ]
      },
      {
       "output_type": "stream",
       "stream": "stdout",
       "text": [
        "\tLoss: 1.66e+00\tError: 1.02e+00\tStd dev: 9.56e-04\tResample: 20\n",
        "Chose theta = [   3.6238978  293.15         0.7      ]."
       ]
      },
      {
       "output_type": "stream",
       "stream": "stdout",
       "text": [
        "\tLoss: 1.66e+00\tError: 1.02e+00\tStd dev: 9.56e-04\tResample: 20\n",
        "Chose theta = [   3.62718419  293.15          0.7       ]."
       ]
      },
      {
       "output_type": "stream",
       "stream": "stdout",
       "text": [
        "\tLoss: 1.66e+00\tError: 1.02e+00\tStd dev: 9.59e-04\tResample: 20\n",
        "Chose theta = [   3.6242837  293.15         0.7      ]."
       ]
      },
      {
       "output_type": "stream",
       "stream": "stdout",
       "text": [
        "\tLoss: 1.66e+00\tError: 1.02e+00\tStd dev: 9.61e-04\tResample: 20\n",
        "Chose theta = [   3.62628752  293.15          0.7       ]."
       ]
      },
      {
       "output_type": "stream",
       "stream": "stdout",
       "text": [
        "\tLoss: 1.66e+00\tError: 1.02e+00\tStd dev: 9.64e-04\tResample: 20\n",
        "Chose theta = [   3.6271  293.15      0.7   ]."
       ]
      },
      {
       "output_type": "stream",
       "stream": "stdout",
       "text": [
        "\tLoss: 1.66e+00\tError: 1.02e+00\tStd dev: 9.68e-04\tResample: 20\n",
        "Chose theta = [   3.62502205  293.15          0.7       ]."
       ]
      },
      {
       "output_type": "stream",
       "stream": "stdout",
       "text": [
        "\tLoss: 1.66e+00\tError: 1.02e+00\tStd dev: 9.71e-04\tResample: 20\n",
        "Chose theta = [   3.62410583  293.15          0.7       ]."
       ]
      },
      {
       "output_type": "stream",
       "stream": "stdout",
       "text": [
        "\tLoss: 1.66e+00\tError: 1.02e+00\tStd dev: 9.73e-04\tResample: 20\n",
        "Chose theta = [   3.62416387  293.15          0.7       ]."
       ]
      },
      {
       "output_type": "stream",
       "stream": "stdout",
       "text": [
        "\tLoss: 1.66e+00\tError: 1.02e+00\tStd dev: 9.76e-04\tResample: 20\n",
        "Chose theta = [   3.62470741  293.15          0.7       ]."
       ]
      },
      {
       "output_type": "stream",
       "stream": "stdout",
       "text": [
        "\tLoss: 1.66e+00\tError: 1.02e+00\tStd dev: 9.79e-04\tResample: 20\n",
        "Chose theta = [   3.62368008  293.15          0.7       ]."
       ]
      },
      {
       "output_type": "stream",
       "stream": "stdout",
       "text": [
        "\tLoss: 1.66e+00\tError: 1.02e+00\tStd dev: 9.80e-04\tResample: 21\n",
        "Chose theta = [   3.62452641  293.15          0.7       ]."
       ]
      },
      {
       "output_type": "stream",
       "stream": "stdout",
       "text": [
        "\tLoss: 1.66e+00\tError: 1.02e+00\tStd dev: 9.85e-04\tResample: 21\n",
        "Chose theta = [   3.6275518  293.15         0.7      ]."
       ]
      },
      {
       "output_type": "stream",
       "stream": "stdout",
       "text": [
        "\tLoss: 1.66e+00\tError: 1.02e+00\tStd dev: 9.87e-04\tResample: 21\n",
        "Chose theta = [   3.62422986  293.15          0.7       ]."
       ]
      },
      {
       "output_type": "stream",
       "stream": "stdout",
       "text": [
        "\tLoss: 1.66e+00\tError: 1.02e+00\tStd dev: 9.88e-04\tResample: 21\n",
        "Chose theta = [   0.48449828  293.15          0.7       ]."
       ]
      },
      {
       "output_type": "stream",
       "stream": "stdout",
       "text": [
        "\tLoss: 1.66e+00\tError: 1.02e+00\tStd dev: 9.88e-04\tResample: 21\n",
        "Chose theta = [   3.62670255  293.15          0.7       ]."
       ]
      },
      {
       "output_type": "stream",
       "stream": "stdout",
       "text": [
        "\tLoss: 1.66e+00\tError: 1.02e+00\tStd dev: 9.88e-04\tResample: 21\n",
        "Chose theta = [   3.62639872  293.15          0.7       ]."
       ]
      },
      {
       "output_type": "stream",
       "stream": "stdout",
       "text": [
        "\tLoss: 1.66e+00\tError: 1.02e+00\tStd dev: 9.90e-04\tResample: 21\n",
        "Chose theta = [   3.62645808  293.15          0.7       ]."
       ]
      },
      {
       "output_type": "stream",
       "stream": "stdout",
       "text": [
        "\tLoss: 1.66e+00\tError: 1.02e+00\tStd dev: 9.90e-04\tResample: 21\n",
        "Chose theta = [   3.62524943  293.15          0.7       ]."
       ]
      },
      {
       "output_type": "stream",
       "stream": "stdout",
       "text": [
        "\tLoss: 1.66e+00\tError: 1.02e+00\tStd dev: 9.92e-04\tResample: 21\n",
        "Chose theta = [   0.48352168  293.15          0.7       ]."
       ]
      },
      {
       "output_type": "stream",
       "stream": "stdout",
       "text": [
        "\tLoss: 1.66e+00\tError: 1.02e+00\tStd dev: 9.92e-04\tResample: 21\n",
        "Chose theta = [   3.6245465  293.15         0.7      ]."
       ]
      },
      {
       "output_type": "stream",
       "stream": "stdout",
       "text": [
        "\tLoss: 1.66e+00\tError: 1.02e+00\tStd dev: 9.92e-04\tResample: 21\n",
        "Chose theta = [   3.62648737  293.15          0.7       ]."
       ]
      },
      {
       "output_type": "stream",
       "stream": "stdout",
       "text": [
        "\tLoss: 1.66e+00\tError: 1.02e+00\tStd dev: 9.95e-04\tResample: 21\n",
        "Chose theta = [   3.62718743  293.15          0.7       ]."
       ]
      },
      {
       "output_type": "stream",
       "stream": "stdout",
       "text": [
        "\tLoss: 1.66e+00\tError: 1.02e+00\tStd dev: 9.97e-04\tResample: 21\n",
        "Chose theta = [   0.48296257  293.15          0.7       ]."
       ]
      },
      {
       "output_type": "stream",
       "stream": "stdout",
       "text": [
        "\tLoss: 1.66e+00\tError: 1.02e+00\tStd dev: 9.97e-04\tResample: 21\n",
        "Chose theta = [   0.48419071  293.15          0.7       ]."
       ]
      },
      {
       "output_type": "stream",
       "stream": "stdout",
       "text": [
        "\tLoss: 1.66e+00\tError: 1.02e+00\tStd dev: 9.98e-04\tResample: 21\n",
        "Chose theta = [   3.62601093  293.15          0.7       ]."
       ]
      },
      {
       "output_type": "stream",
       "stream": "stdout",
       "text": [
        "\tLoss: 1.66e+00\tError: 1.02e+00\tStd dev: 1.00e-03\tResample: 21\n",
        "Chose theta = [   3.62415967  293.15          0.7       ]."
       ]
      },
      {
       "output_type": "stream",
       "stream": "stdout",
       "text": [
        "\tLoss: 1.66e+00\tError: 1.02e+00\tStd dev: 1.00e-03\tResample: 21\n",
        "Chose theta = [   3.62512749  293.15          0.7       ]."
       ]
      },
      {
       "output_type": "stream",
       "stream": "stdout",
       "text": [
        "\tLoss: 1.66e+00\tError: 1.02e+00\tStd dev: 1.01e-03\tResample: 21\n",
        "Chose theta = [   3.62581729  293.15          0.7       ]."
       ]
      },
      {
       "output_type": "stream",
       "stream": "stdout",
       "text": [
        "\tLoss: 1.66e+00\tError: 1.02e+00\tStd dev: 1.01e-03\tResample: 21\n",
        "Chose theta = [   3.62615927  293.15          0.7       ]."
       ]
      },
      {
       "output_type": "stream",
       "stream": "stdout",
       "text": [
        "\tLoss: 1.66e+00\tError: 1.02e+00\tStd dev: 1.01e-03\tResample: 21\n",
        "Chose theta = [   3.62423468  293.15          0.7       ]."
       ]
      },
      {
       "output_type": "stream",
       "stream": "stdout",
       "text": [
        "\tLoss: 1.66e+00\tError: 1.02e+00\tStd dev: 1.01e-03\tResample: 21\n",
        "Chose theta = [   3.62559747  293.15          0.7       ]."
       ]
      },
      {
       "output_type": "stream",
       "stream": "stdout",
       "text": [
        "\tLoss: 1.66e+00\tError: 1.02e+00\tStd dev: 1.01e-03\tResample: 21\n",
        "Chose theta = [   3.62668379  293.15          0.7       ]."
       ]
      },
      {
       "output_type": "stream",
       "stream": "stdout",
       "text": [
        "\tLoss: 1.66e+00\tError: 1.02e+00\tStd dev: 1.01e-03\tResample: 21\n",
        "Chose theta = [   3.62448849  293.15          0.7       ]."
       ]
      },
      {
       "output_type": "stream",
       "stream": "stdout",
       "text": [
        "\tLoss: 1.66e+00\tError: 1.02e+00\tStd dev: 1.01e-03\tResample: 21\n",
        "Chose theta = [   3.62649677  293.15          0.7       ]."
       ]
      },
      {
       "output_type": "stream",
       "stream": "stdout",
       "text": [
        "\tLoss: 1.66e+00\tError: 1.02e+00\tStd dev: 1.01e-03\tResample: 21\n",
        "Chose theta = [   3.62699993  293.15          0.7       ]."
       ]
      },
      {
       "output_type": "stream",
       "stream": "stdout",
       "text": [
        "\tLoss: 1.66e+00\tError: 1.02e+00\tStd dev: 1.01e-03\tResample: 21\n",
        "Chose theta = [   3.62713037  293.15          0.7       ]."
       ]
      },
      {
       "output_type": "stream",
       "stream": "stdout",
       "text": [
        "\tLoss: 1.66e+00\tError: 1.02e+00\tStd dev: 1.01e-03\tResample: 21\n",
        "Chose theta = [   3.62682466  293.15          0.7       ]."
       ]
      },
      {
       "output_type": "stream",
       "stream": "stdout",
       "text": [
        "\tLoss: 1.66e+00\tError: 1.02e+00\tStd dev: 1.01e-03\tResample: 21\n",
        "Chose theta = [   3.62594347  293.15          0.7       ]."
       ]
      },
      {
       "output_type": "stream",
       "stream": "stdout",
       "text": [
        "\tLoss: 1.66e+00\tError: 1.02e+00\tStd dev: 1.01e-03\tResample: 21\n",
        "Chose theta = [   0.48280888  293.15          0.7       ]."
       ]
      },
      {
       "output_type": "stream",
       "stream": "stdout",
       "text": [
        "\tLoss: 1.66e+00\tError: 1.02e+00\tStd dev: 1.01e-03\tResample: 21\n",
        "Chose theta = [   3.62500675  293.15          0.7       ]."
       ]
      },
      {
       "output_type": "stream",
       "stream": "stdout",
       "text": [
        "\tLoss: 1.66e+00\tError: 1.02e+00\tStd dev: 1.00e-03\tResample: 21\n",
        "Chose theta = [   3.62615486  293.15          0.7       ]."
       ]
      },
      {
       "output_type": "stream",
       "stream": "stdout",
       "text": [
        "\tLoss: 1.66e+00\tError: 1.02e+00\tStd dev: 1.00e-03\tResample: 21\n",
        "Chose theta = [   3.62640005  293.15          0.7       ]."
       ]
      },
      {
       "output_type": "stream",
       "stream": "stdout",
       "text": [
        "\tLoss: 1.66e+00\tError: 1.02e+00\tStd dev: 1.00e-03\tResample: 21\n",
        "Chose theta = [   3.62511989  293.15          0.7       ]."
       ]
      },
      {
       "output_type": "stream",
       "stream": "stdout",
       "text": [
        "\tLoss: 1.66e+00\tError: 1.02e+00\tStd dev: 9.99e-04\tResample: 21\n",
        "Chose theta = [   5.19727413  293.15          0.7       ]."
       ]
      },
      {
       "output_type": "stream",
       "stream": "stdout",
       "text": [
        "\tLoss: 1.66e+00\tError: 1.02e+00\tStd dev: 1.01e-03\tResample: 21\n",
        "Chose theta = [   0.48275049  293.15          0.7       ]."
       ]
      },
      {
       "output_type": "stream",
       "stream": "stdout",
       "text": [
        "\tLoss: 1.66e+00\tError: 1.02e+00\tStd dev: 1.01e-03\tResample: 21\n",
        "Chose theta = [   3.62618571  293.15          0.7       ]."
       ]
      },
      {
       "output_type": "stream",
       "stream": "stdout",
       "text": [
        "\tLoss: 1.66e+00\tError: 1.02e+00\tStd dev: 1.01e-03\tResample: 21\n",
        "Chose theta = [   3.62615025  293.15          0.7       ]."
       ]
      },
      {
       "output_type": "stream",
       "stream": "stdout",
       "text": [
        "\tLoss: 1.66e+00\tError: 1.02e+00\tStd dev: 1.01e-03\tResample: 21\n",
        "Chose theta = [   3.62658276  293.15          0.7       ]."
       ]
      },
      {
       "output_type": "stream",
       "stream": "stdout",
       "text": [
        "\tLoss: 1.66e+00\tError: 1.02e+00\tStd dev: 1.01e-03\tResample: 21\n",
        "Chose theta = [   3.62504242  293.15          0.7       ]."
       ]
      },
      {
       "output_type": "stream",
       "stream": "stdout",
       "text": [
        "\tLoss: 1.66e+00\tError: 1.02e+00\tStd dev: 1.01e-03\tResample: 21\n",
        "Chose theta = [   3.62681356  293.15          0.7       ]."
       ]
      },
      {
       "output_type": "stream",
       "stream": "stdout",
       "text": [
        "\tLoss: 1.66e+00\tError: 1.02e+00\tStd dev: 1.00e-03\tResample: 21\n",
        "Chose theta = [   3.62644952  293.15          0.7       ]."
       ]
      },
      {
       "output_type": "stream",
       "stream": "stdout",
       "text": [
        "\tLoss: 1.66e+00\tError: 1.02e+00\tStd dev: 1.01e-03\tResample: 21\n",
        "Chose theta = [   0.48345442  293.15          0.7       ]."
       ]
      },
      {
       "output_type": "stream",
       "stream": "stdout",
       "text": [
        "\tLoss: 1.66e+00\tError: 1.02e+00\tStd dev: 1.00e-03\tResample: 21\n",
        "Chose theta = [   5.19620663  293.15          0.7       ]."
       ]
      },
      {
       "output_type": "stream",
       "stream": "stdout",
       "text": [
        "\tLoss: 1.66e+00\tError: 1.02e+00\tStd dev: 1.01e-03\tResample: 21\n",
        "Chose theta = [   0.48503101  293.15          0.7       ]."
       ]
      },
      {
       "output_type": "stream",
       "stream": "stdout",
       "text": [
        "\tLoss: 1.66e+00\tError: 1.02e+00\tStd dev: 1.01e-03\tResample: 21\n",
        "Chose theta = [   3.62385673  293.15          0.7       ]."
       ]
      },
      {
       "output_type": "stream",
       "stream": "stdout",
       "text": [
        "\tLoss: 1.66e+00\tError: 1.02e+00\tStd dev: 1.01e-03\tResample: 21\n",
        "Chose theta = [   3.62704527  293.15          0.7       ]."
       ]
      },
      {
       "output_type": "stream",
       "stream": "stdout",
       "text": [
        "\tLoss: 1.66e+00\tError: 1.02e+00\tStd dev: 1.01e-03\tResample: 21\n",
        "Chose theta = [   3.6268083  293.15         0.7      ]."
       ]
      },
      {
       "output_type": "stream",
       "stream": "stdout",
       "text": [
        "\tLoss: 1.66e+00\tError: 1.02e+00\tStd dev: 1.01e-03\tResample: 21\n",
        "Chose theta = [   3.62655797  293.15          0.7       ]."
       ]
      },
      {
       "output_type": "stream",
       "stream": "stdout",
       "text": [
        "\tLoss: 1.66e+00\tError: 1.02e+00\tStd dev: 1.01e-03\tResample: 21\n",
        "Chose theta = [   0.48561454  293.15          0.7       ]."
       ]
      },
      {
       "output_type": "stream",
       "stream": "stdout",
       "text": [
        "\tLoss: 1.66e+00\tError: 1.02e+00\tStd dev: 1.01e-03\tResample: 21\n",
        "Chose theta = [   3.62697772  293.15          0.7       ]."
       ]
      },
      {
       "output_type": "stream",
       "stream": "stdout",
       "text": [
        "\tLoss: 1.66e+00\tError: 1.02e+00\tStd dev: 1.01e-03\tResample: 21\n",
        "Chose theta = [   0.48535527  293.15          0.7       ]."
       ]
      },
      {
       "output_type": "stream",
       "stream": "stdout",
       "text": [
        "\tLoss: 1.66e+00\tError: 1.02e+00\tStd dev: 1.01e-03\tResample: 21\n",
        "Chose theta = [   3.62598134  293.15          0.7       ]."
       ]
      },
      {
       "output_type": "stream",
       "stream": "stdout",
       "text": [
        "\tLoss: 1.66e+00\tError: 1.02e+00\tStd dev: 1.01e-03\tResample: 21\n",
        "Chose theta = [   0.48575272  293.15          0.7       ]."
       ]
      },
      {
       "output_type": "stream",
       "stream": "stdout",
       "text": [
        "\tLoss: 1.66e+00\tError: 1.02e+00\tStd dev: 1.01e-03\tResample: 21\n",
        "Chose theta = [   2.05369345  293.15          0.7       ]."
       ]
      },
      {
       "output_type": "stream",
       "stream": "stdout",
       "text": [
        "\tLoss: 1.66e+00\tError: 1.02e+00\tStd dev: 1.01e-03\tResample: 21\n",
        "Chose theta = [   0.48539196  293.15          0.7       ]."
       ]
      },
      {
       "output_type": "stream",
       "stream": "stdout",
       "text": [
        "\tLoss: 1.66e+00\tError: 1.02e+00\tStd dev: 1.00e-03\tResample: 21\n",
        "Chose theta = [   3.6243914  293.15         0.7      ]."
       ]
      },
      {
       "output_type": "stream",
       "stream": "stdout",
       "text": [
        "\tLoss: 1.66e+00\tError: 1.02e+00\tStd dev: 1.00e-03\tResample: 21\n",
        "Chose theta = [   3.62679803  293.15          0.7       ]."
       ]
      },
      {
       "output_type": "stream",
       "stream": "stdout",
       "text": [
        "\tLoss: 1.66e+00\tError: 1.02e+00\tStd dev: 1.00e-03\tResample: 21\n",
        "Chose theta = [   2.05468359  293.15          0.7       ]."
       ]
      },
      {
       "output_type": "stream",
       "stream": "stdout",
       "text": [
        "\tLoss: 1.66e+00\tError: 1.02e+00\tStd dev: 9.99e-04\tResample: 21\n",
        "0.89 \u00b1 0.000274\t"
       ]
      },
      {
       "output_type": "stream",
       "stream": "stdout",
       "text": [
        " 0.0118 \u00b1 0.000107\t 1.1 \u00b1 0.000999\t 1.01 \u00b1 0.000289\t -1.02 \u00b1 0.000298\t\n",
        "[ 0.9        0.         0.0844303  1.02     ]\n"
       ]
      },
      {
       "metadata": {},
       "output_type": "display_data",
       "png": "[encoded data removed]",
       "text": [
        "<matplotlib.figure.Figure at 0x61270d0>"
       ]
      }
     ],
     "prompt_number": 132
    },
    {
     "cell_type": "code",
     "collapsed": false,
     "input": [
      "plot_kernel_smoothed_pdf(updater_adaptive)"
     ],
     "language": "python",
     "metadata": {},
     "outputs": []
    },
    {
     "cell_type": "code",
     "collapsed": false,
     "input": [
      "plot_kernel_smoothed_pdf(updater_adaptive, param=3)"
     ],
     "language": "python",
     "metadata": {},
     "outputs": []
    },
    {
     "cell_type": "code",
     "collapsed": false,
     "input": [
      "plot(this_error_hist)"
     ],
     "language": "python",
     "metadata": {},
     "outputs": []
    },
    {
     "cell_type": "code",
     "collapsed": false,
     "input": [
      "error_hist = np.zeros((100, 500 + warmup_thetas.size))\n",
      "for idx_run in xrange(100):\n",
      "    print(\"Run {}...\".format(idx_run))\n",
      "    f_post, this_error_hist, updater_adaptive, best_thetas = do_adaptive(n_thetas=500, n_guesses=3, warmup_thetas=warmup_thetas, n_neutrons=40, n_warmup_neutrons=1000, quiet=True)\n",
      "    error_hist[idx_run, :] = this_error_hist"
     ],
     "language": "python",
     "metadata": {},
     "outputs": []
    },
    {
     "cell_type": "code",
     "collapsed": false,
     "input": [
      "xs = arange(error_hist.shape[1]) + 1\n",
      "ns = np.concatenate([1000 * arange(1, 1 + len(warmup_thetas)), 1000 * len(warmup_thetas) + 40 * arange(1, 501)])\n",
      "figure(figsize=(12,6))\n",
      "xlim(xmax=max(xs))\n",
      "plot(xs, np.mean(error_hist, axis=0), label='Mean error of adaptive algo.')\n",
      "plot(xs, 1/sqrt(ns), 'k--', label='CRB for perfect contrast')\n",
      "legend()\n",
      "title('Performance over 100 runs of adaptive algorithm')\n",
      "xlabel('Experiment index', size=14)\n",
      "ylabel(r'Error in $\\phi$', size=14);"
     ],
     "language": "python",
     "metadata": {},
     "outputs": []
    },
    {
     "cell_type": "code",
     "collapsed": false,
     "input": [
      "plot_kernel_smoothed_pdf(updater_adaptive, param=2, show_true=False)\n"
     ],
     "language": "python",
     "metadata": {},
     "outputs": []
    },
    {
     "cell_type": "code",
     "collapsed": false,
     "input": [
      "plot_kernel_smoothed_pdf(updater_adaptive, param=3, show_true=False)\n"
     ],
     "language": "python",
     "metadata": {},
     "outputs": []
    },
    {
     "cell_type": "code",
     "collapsed": false,
     "input": [
      "title("
     ],
     "language": "python",
     "metadata": {},
     "outputs": []
    }
   ],
   "metadata": {}
  }
 ]
}