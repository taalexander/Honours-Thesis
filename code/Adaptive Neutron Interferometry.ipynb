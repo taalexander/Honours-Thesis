{
 "metadata": {
  "name": ""
 },
 "nbformat": 3,
 "nbformat_minor": 0,
 "worksheets": [
  {
   "cells": [
    {
     "cell_type": "heading",
     "level": 1,
     "metadata": {},
     "source": [
      "Adaptive Neutron Interferometry"
     ]
    },
    {
     "cell_type": "heading",
     "level": 2,
     "metadata": {},
     "source": [
      "Preamble"
     ]
    },
    {
     "cell_type": "code",
     "collapsed": false,
     "input": [
      "from __future__ import division, print_function"
     ],
     "language": "python",
     "metadata": {},
     "outputs": [],
     "prompt_number": 75
    },
    {
     "cell_type": "code",
     "collapsed": false,
     "input": [
      "%pylab inline"
     ],
     "language": "python",
     "metadata": {},
     "outputs": [
      {
       "output_type": "stream",
       "stream": "stdout",
       "text": [
        "Populating the interactive namespace from numpy and matplotlib\n"
       ]
      }
     ],
     "prompt_number": 76
    },
    {
     "cell_type": "code",
     "collapsed": false,
     "input": [
      "from qinfer import smc, abstract_model, derived_models, distributions, expdesign, resamplers\n",
      "from scipy.optimize import minimize, curve_fit\n",
      "import scipy.stats"
     ],
     "language": "python",
     "metadata": {},
     "outputs": [],
     "prompt_number": 77
    },
    {
     "cell_type": "heading",
     "level": 2,
     "metadata": {},
     "source": [
      "Constants"
     ]
    },
    {
     "cell_type": "code",
     "collapsed": false,
     "input": [
      "TWO_PI = np.pi * 2"
     ],
     "language": "python",
     "metadata": {},
     "outputs": [],
     "prompt_number": 78
    },
    {
     "cell_type": "heading",
     "level": 2,
     "metadata": {},
     "source": [
      "Inference Models"
     ]
    },
    {
     "cell_type": "markdown",
     "metadata": {},
     "source": [
      "We start with a model that will be used for performing inference, $\\Pr(O | A, b, \\phi, \\lambda; \\theta) = (\\frac{1}{2} + b) + \\frac{A}{2} \\cos(\\lambda \\theta + \\phi)$.\n",
      "This model will then be used to adaptively learn the value of $\\vec{x} = (A, b, \\phi, \\lambda)$."
     ]
    },
    {
     "cell_type": "code",
     "collapsed": false,
     "input": [
      "class SingleNeutronModel(abstract_model.Model):    \n",
      "    ## PROPERTIES ##\n",
      "    @property\n",
      "    def n_modelparams(self):\n",
      "        return 4 # A, b, \\phi, \\lambda\n",
      "    @property\n",
      "    def expparams_dtype(self):\n",
      "        return [('theta', 'float')]\n",
      "    @property\n",
      "    def is_n_outcomes_constant(self):\n",
      "        return True\n",
      "    @property\n",
      "    def Q(self):\n",
      "        return np.array([1, 1, 1, 1]) # Prioritize phi over the others.\n",
      "    ## METHODS ##    \n",
      "    @staticmethod\n",
      "    def are_models_valid(modelparams):\n",
      "        A, b, phi, lambda_ = modelparams.T\n",
      "        abs_b = np.abs(b)\n",
      "        return np.all([\n",
      "            A > 0,\n",
      "            A <= 1 - 2 * abs_b,\n",
      "            abs_b <= 0.5,\n",
      "            phi >= 0,\n",
      "            phi <= np.pi / 2,\n",
      "            lambda_ >= 0\n",
      "        ], axis=0)\n",
      "    def n_outcomes(self, expparams):\n",
      "        return 2    \n",
      "    def likelihood(self, outcomes, modelparams, expparams):\n",
      "        # By calling the superclass implementation, we can consolidate\n",
      "        # call counting there.\n",
      "        super(SingleNeutronModel, self).likelihood(outcomes, modelparams, expparams)\n",
      "                    \n",
      "        # Extract each model parameter under its own name.\n",
      "        A, b, phi, lambda_ = modelparams.T[..., np.newaxis]\n",
      "        theta = expparams['theta'][np.newaxis, :]\n",
      "        \n",
      "        pr0 = (0.5 + b) + (0.5 * A * np.cos(lambda_ * theta + phi))\n",
      "                \n",
      "        # Now we concatenate over outcomes.\n",
      "        return abstract_model.Model.pr0_to_likelihood_array(outcomes, pr0)"
     ],
     "language": "python",
     "metadata": {},
     "outputs": [],
     "prompt_number": 79
    },
    {
     "cell_type": "markdown",
     "metadata": {},
     "source": [
      "We start with a model that will be used for performing inference, $$P(0|A,b,\\Delta\\phi,C,\\alpha';\\delta,\\hat{\\Phi},\\hat{T})= \\int \\limits_\\Phi \\int \\limits_T \\left[(\\frac{1}{2}+b)+\\frac{A}{2}cos\\left(\\Delta\\phi + C\\delta + \\frac{\\alpha' \\Phi\\delta}{T}\\times 10^{h_A - \\frac{h_B}{h_C - T}}\\right)\\right]P(T|\\hat{T})P(\\Phi|\\hat{\\Phi})dTd\\Phi$$\n",
      " This model will learn $\\vec{x} = (A,b,\\Delta\\phi,C,\\alpha')$                                                                                                                                         "
     ]
    },
    {
     "cell_type": "code",
     "collapsed": false,
     "input": [
      "class SingleNeutronModelEx(abstract_model.Model): \n",
      "    def __init__(self):\n",
      "        self.h_A=6.20963\n",
      "        self.h_B=2354.731 \n",
      "        self.h_C=7.559\n",
      "        super(SingleNeutronModelEx, self).__init__()\n",
      "    ## PROPERTIES ##\n",
      "    @property\n",
      "    def n_modelparams(self):\n",
      "        return 5 # A, b, \\phi,C,\\alpha\n",
      "    @property\n",
      "    def expparams_dtype(self):\n",
      "        return [('delta', 'float'),('temp','float'),('humid','float')]\n",
      "    @property\n",
      "    def is_n_outcomes_constant(self):\n",
      "        return True\n",
      "    @property\n",
      "    def Q(self):\n",
      "        return np.array([1, 1, 1, 1,1]) # Quadratic loss matrix, all are same for now\n",
      "    ## METHODS ##    \n",
      "    @staticmethod\n",
      "    def are_models_valid(modelparams):\n",
      "        A, b, phi, C, alpha = modelparams.T\n",
      "        abs_b = np.abs(b)\n",
      "        return np.all([\n",
      "            A > 0,\n",
      "            A <= 1 - 2 * abs_b,\n",
      "            abs_b <= 0.5,\n",
      "            phi >= 0 ,\n",
      "            phi <= np.pi / 2,\n",
      "            C >= 0,\n",
      "            alpha <=0 # might not work care\n",
      "            \n",
      "        ], axis=0)\n",
      "    def n_outcomes(self, expparams):\n",
      "        return 2    \n",
      "    def likelihood(self, outcomes, modelparams, expparams):\n",
      "        # By calling the superclass implementation, we can consolidate\n",
      "        # call counting there.\n",
      "        super(SingleNeutronModelEx, self).likelihood(outcomes, modelparams, expparams)\n",
      "                    \n",
      "        # Extract each model parameter under its own name.\n",
      "        A, b, phi, C, alpha = modelparams.T[..., np.newaxis]\n",
      "        delta = expparams['delta'][np.newaxis, :]\n",
      "        temp = expparams['temp'][np.newaxis, :]\n",
      "        humid = expparams['humid'][np.newaxis, :]\n",
      "        pr0 = (0.5 + b) + (0.5 * A * np.cos(C * delta + phi+ (alpha*delta*humid/temp*10**(self.h_A-(self.h_B/(self.h_C+temp))))))\n",
      "                \n",
      "        # Now we concatenate over outcomes.\n",
      "        return abstract_model.Model.pr0_to_likelihood_array(outcomes, pr0)"
     ],
     "language": "python",
     "metadata": {},
     "outputs": [],
     "prompt_number": 80
    },
    {
     "cell_type": "code",
     "collapsed": false,
     "input": [
      "single_neutron_model = SingleNeutronModel()\n",
      "neutron_model = derived_models.BinomialModel(single_neutron_model)\n",
      "single_neutron_model_ex = SingleNeutronModelEx()\n",
      "neutron_model_ex = derived_models.BinomialModel(single_neutron_model_ex)\n"
     ],
     "language": "python",
     "metadata": {},
     "outputs": [],
     "prompt_number": 81
    },
    {
     "cell_type": "heading",
     "level": 2,
     "metadata": {},
     "source": [
      "True Models"
     ]
    },
    {
     "cell_type": "markdown",
     "metadata": {},
     "source": [
      "For consistency, we will test with a set of \"true\" model parameters for each model."
     ]
    },
    {
     "cell_type": "code",
     "collapsed": false,
     "input": [
      "true_modelparams = np.array([[0.9, 0.00, (0.43 * np.pi / 16), 1.02]])\n",
      "true_modelparams_ex = np.array([[0.9, 0.00, (0.43 * np.pi / 16), 1.02,-1.02]])"
     ],
     "language": "python",
     "metadata": {},
     "outputs": [],
     "prompt_number": 82
    },
    {
     "cell_type": "code",
     "collapsed": false,
     "input": [
      "true_modelparams_array = np.array([[[0.9, 0.00, (0.43 * np.pi / 16), 1.02,-1.02]],[[0.9, 0.00, (0.43 * np.pi / 16), 1.02,-1.02]]\n",
      "                                   ,[[0.9, 0.00, (np.pi / 2), 1.02,-1.02]]\n",
      "                                   ,[[0.7, 0.1, (0.43 * np.pi / 16), 1.02,-1.02]]\n",
      "                                   ,[[0.9, 0.00, (0.43 * np.pi / 16), 1.5,-1.02]]\n",
      "                                   ,[[0.1, 0.00, (0.43 * np.pi / 16), 1.02,-1.02]]\n",
      "                                   ])"
     ],
     "language": "python",
     "metadata": {},
     "outputs": [],
     "prompt_number": 83
    },
    {
     "cell_type": "code",
     "collapsed": false,
     "input": [
      "[[[0.9, 0.00, (0.43 * np.pi / 16), 1.02,-1.02]],[[0.9, 0.00, (0.43 * np.pi / 16), 1.02,-1.02]]\n",
      "                                   ,[[0.9, 0.00, (np.pi / 2), 1.02,-1.02]]\n",
      "                                   ,[[0.7, 0.1, (0.43 * np.pi / 16), 1.02,-1.02]]\n",
      "                                   ,[[0.9, 0.00, (0.43 * np.pi / 16), 1.5,-1.02]]\n",
      "                                   ,[[0.1, 0.00, (0.43 * np.pi / 16), 1.02,-1.02]]\n",
      "                                   ]"
     ],
     "language": "python",
     "metadata": {},
     "outputs": [
      {
       "metadata": {},
       "output_type": "pyout",
       "prompt_number": 84,
       "text": [
        "[[[0.9, 0.0, 0.08443030256522568, 1.02, -1.02]],\n",
        " [[0.9, 0.0, 0.08443030256522568, 1.02, -1.02]],\n",
        " [[0.9, 0.0, 1.5707963267948966, 1.02, -1.02]],\n",
        " [[0.7, 0.1, 0.08443030256522568, 1.02, -1.02]],\n",
        " [[0.9, 0.0, 0.08443030256522568, 1.5, -1.02]],\n",
        " [[0.1, 0.0, 0.08443030256522568, 1.02, -1.02]]]"
       ]
      }
     ],
     "prompt_number": 84
    },
    {
     "cell_type": "markdown",
     "metadata": {},
     "source": [
      "Of course, it's important that each \"true\" model be a valid model, and so we assert that here."
     ]
    },
    {
     "cell_type": "code",
     "collapsed": false,
     "input": [
      "assert neutron_model.are_models_valid(true_modelparams)\n",
      "assert neutron_model_ex.are_models_valid(true_modelparams_ex)\n",
      "for x in true_modelparams_array:\n",
      "    print(neutron_model_ex.are_models_valid(x))"
     ],
     "language": "python",
     "metadata": {},
     "outputs": [
      {
       "output_type": "stream",
       "stream": "stdout",
       "text": [
        "[ True]\n",
        "[ True]\n",
        "[ True]\n",
        "[ True]\n",
        "[ True]\n",
        "[ True]\n"
       ]
      }
     ],
     "prompt_number": 85
    },
    {
     "cell_type": "heading",
     "level": 2,
     "metadata": {},
     "source": [
      "Prior Distributions"
     ]
    },
    {
     "cell_type": "code",
     "collapsed": false,
     "input": [
      "neutron_prior = distributions.UniformDistribution([\n",
      "    [0.7, 0.925],\n",
      "    [-0.00005, 0.00005],\n",
      "    [0, np.pi / 8],\n",
      "    [true_modelparams[0, 3] - 0.01, true_modelparams[0, 3] + 0.01]\n",
      "])\n",
      "neutron_prior_ex = distributions.UniformDistribution([\n",
      "    [true_modelparams_ex[0, 0] - 0.01, true_modelparams_ex[0, 0] + 0.01],\n",
      "    [true_modelparams_ex[0, 1] - 0.01, true_modelparams_ex[0, 1] + 0.01],\n",
      "    [0,np.pi/2],\n",
      "    [true_modelparams_ex[0, 3] - 0.01, true_modelparams_ex[0, 3] + 0.01],\n",
      "    [true_modelparams_ex[0, 4] - 0.01, true_modelparams_ex[0, 4] + 0.01]\n",
      "])"
     ],
     "language": "python",
     "metadata": {},
     "outputs": [],
     "prompt_number": 86
    },
    {
     "cell_type": "code",
     "collapsed": false,
     "input": [
      "r'$(A={0},b={1},\\phi={2},C={3},\\alpha\\'={4}$'.format(*[[0.9, 0.00, (0.43 * np.pi / 16), 1.02,-1.02]][0])"
     ],
     "language": "python",
     "metadata": {},
     "outputs": [
      {
       "metadata": {},
       "output_type": "pyout",
       "prompt_number": 87,
       "text": [
        "\"$(A=0.9,b=0.0,\\\\phi=0.0844303025652,C=1.02,\\\\alpha\\\\'=-1.02$\""
       ]
      }
     ],
     "prompt_number": 87
    },
    {
     "cell_type": "code",
     "collapsed": false,
     "input": [
      "neutron_prior_arr = [  distributions.UniformDistribution([\n",
      "    [x[0, 0] - 0.02, x[0, 0] + 0.02],\n",
      "    [x[0, 1] - 0.02, x[0, 1] + 0.02],\n",
      "    [0,np.pi/2],\n",
      "    [x[0, 3] - 0.05, x[0, 3] + 0.05],\n",
      "    [x[0, 4] - 0.05, x[0, 4] + 0.05]\n",
      "]) for x in true_modelparams_array]\n"
     ],
     "language": "python",
     "metadata": {},
     "outputs": [],
     "prompt_number": 88
    },
    {
     "cell_type": "heading",
     "level": 2,
     "metadata": {},
     "source": [
      "Plotting Functions"
     ]
    },
    {
     "cell_type": "code",
     "collapsed": false,
     "input": [
      "def plot_kernel_smoothed_pdf(updater, param=2, show_true=True):\n",
      "    kernel = scipy.stats.norm(scale=0.0005, loc=updater.particle_locations[:, param]).pdf\n",
      "    xs = linspace(*updater.prior._ranges[param], num=100)\n",
      "    smoothed_pdf = np.sum(kernel(xs[:, np.newaxis]) * updater.particle_weights, axis=-1)\n",
      "    plot(xs, smoothed_pdf)\n",
      "    if show_true:\n",
      "        plot(true_modelparams[:, param], 0, 'rx')"
     ],
     "language": "python",
     "metadata": {},
     "outputs": [],
     "prompt_number": 89
    },
    {
     "cell_type": "heading",
     "level": 2,
     "metadata": {},
     "source": [
      "SMC Updater"
     ]
    },
    {
     "cell_type": "markdown",
     "metadata": {},
     "source": [
      "Warm up the updater by performing experiments over unifomly spaced theta, then look at the risk profile. This experimental setup is not really reasonable, as it assumes 1000 changings of the phase flag but only 10 neutrons per setting. That said, this is still useful for our purposes, as it causes the distribution to warm up to one that is approximately Gaussian."
     ]
    },
    {
     "cell_type": "code",
     "collapsed": false,
     "input": [
      "def plot_risks(updater, theta_min=0, theta_max=TWO_PI, n_thetas=100):\n",
      "    thetas = np.linspace(theta_min, theta_max, n_thetas)\n",
      "    risks = np.array([\n",
      "        updater.bayes_risk(np.array([(theta, 10)], dtype=updater.model.expparams_dtype))\n",
      "        for theta in thetas\n",
      "    ])\n",
      "    f = plot(thetas / np.pi, risks)\n",
      "    xlabel(r'$\\theta / \\pi$')\n",
      "    ylabel(r'$r(\\theta)$')\n",
      "    return f"
     ],
     "language": "python",
     "metadata": {},
     "outputs": [],
     "prompt_number": 90
    },
    {
     "cell_type": "markdown",
     "metadata": {},
     "source": [
      "Before we do anything, the risk profile rewards exploring $\\theta \\approx \\pi$. Note that this is dependent on the prior; here, we have chosen $\\phi \\sim \\text{Uniform}(0, \\pi / 2)$."
     ]
    },
    {
     "cell_type": "code",
     "collapsed": false,
     "input": [
      "plot_risks(smc.SMCUpdater(neutron_model, 100000, neutron_prior))"
     ],
     "language": "python",
     "metadata": {},
     "outputs": [
      {
       "metadata": {},
       "output_type": "pyout",
       "prompt_number": 91,
       "text": [
        "[<matplotlib.lines.Line2D at 0x467e310>]"
       ]
      },
      {
       "metadata": {},
       "output_type": "display_data",
       "png": "[encoded data removed]",
       "text": [
        "<matplotlib.figure.Figure at 0x4345c10>"
       ]
      }
     ],
     "prompt_number": 91
    },
    {
     "cell_type": "code",
     "collapsed": false,
     "input": [
      "def plot_risks_ex(updater, theta_min=0, theta_max=TWO_PI,hum=0.70,hum_std=0.01,temp=293.15,temp_std=0.5, n_thetas=100):\n",
      "    deltas = np.linspace(theta_min, theta_max, n_thetas)\n",
      "    humidities = np.random.normal(hum,hum_std,n_thetas)\n",
      "    temps = np.random.normal(temp,temp_std,n_thetas)\n",
      "    exparams = zip(deltas,temps,humidities)   \n",
      "    risks = np.array([\n",
      "        updater.bayes_risk(np.array([exparam+(10,)], dtype=updater.model.expparams_dtype))\n",
      "        for exparam in exparams\n",
      "    ])\n",
      "    f = plot(deltas / np.pi, risks)    \n",
      "    xlabel(r'$\\theta / \\pi$')\n",
      "    ylabel(r'$r(\\theta)$')\n",
      "    return f\n"
     ],
     "language": "python",
     "metadata": {},
     "outputs": [],
     "prompt_number": 92
    },
    {
     "cell_type": "code",
     "collapsed": false,
     "input": [
      "def plot_risks_array(updater, theta_min=0, theta_max=TWO_PI,hum=0.70,hum_std=0.01,temp=293.15,temp_std=0.5, n_thetas=100,ylims=None):\n",
      "    deltas = np.linspace(theta_min, theta_max, n_thetas)\n",
      "    humidities = np.random.normal(hum,hum_std,n_thetas)\n",
      "    temps = np.random.normal(temp,temp_std,n_thetas)\n",
      "    exparams = zip(deltas,temps,humidities)   \n",
      "    risks = np.array([\n",
      "        updater.bayes_risk(np.array([exparam+(10,)], dtype=updater.model.expparams_dtype))\n",
      "        for exparam in exparams\n",
      "    ])\n",
      "    f = plot(deltas / np.pi, risks)    \n",
      "    xlabel(r'$\\theta / \\pi$')\n",
      "    ylabel(r'$r(\\delta)$')\n",
      "    if ylim is not None:\n",
      "        ylim(ylims)\n",
      "    return f\n",
      "def make_array(model,trueparams,priors,num_particle=100000,theta_min=0, theta_max=TWO_PI,\n",
      "               hum=0.70,hum_std=0.01,temp=293.15,temp_std=0.5, n_thetas=100,save_file=None):\n",
      "    fig,axes = subplots(nrows=int(math.ceil((float(len(priors)))/2)),ncols=2,figsize=(8,6))\n",
      "   \n",
      "    fig.tight_layout(pad=3.0,w_pad=3.0,h_pad=3.0)    \n",
      "    for i,x,y in zip(range(0,len(priors)),trueparams,priors):        \n",
      "        subplot(math.ceil((float(len(priors))))/2,2,i)\n",
      "        f = plot_risks_array(smc.SMCUpdater(model, num_particle,y))\n",
      "        title(r'$(A={0},b={1},\\phi={2},C={3},\\alpha\\'={4}$'.format(*x[0]))\n",
      "    \n",
      "    subplots_adjust(left=0.2,right=2.0,bottom=0.2,top=2.0,wspace=0.3,hspace=0.3)\n",
      "    if save_file is not None:\n",
      "        savefig(save_file)\n",
      "    show()"
     ],
     "language": "python",
     "metadata": {},
     "outputs": [],
     "prompt_number": 104
    },
    {
     "cell_type": "code",
     "collapsed": false,
     "input": [
      "make_array(neutron_model_ex,true_modelparams_array,neutron_prior_arr,100000,save_file=\"risks1.eps\")"
     ],
     "language": "python",
     "metadata": {},
     "outputs": [
      {
       "metadata": {},
       "output_type": "display_data",
       "png": "[encoded data removed]",
       "text": [
        "<matplotlib.figure.Figure at 0x6e38fd0>"
       ]
      }
     ],
     "prompt_number": 103
    },
    {
     "cell_type": "code",
     "collapsed": false,
     "input": [
      "# now for experimental model\n",
      "plot_risks_ex(smc.SMCUpdater(neutron_model_ex, 100000, neutron_prior_ex))"
     ],
     "language": "python",
     "metadata": {},
     "outputs": [
      {
       "metadata": {},
       "output_type": "pyout",
       "prompt_number": 95,
       "text": [
        "[<matplotlib.lines.Line2D at 0x3da2050>]"
       ]
      },
      {
       "metadata": {},
       "output_type": "display_data",
       "png": "[encoded data removed]",
       "text": [
        "<matplotlib.figure.Figure at 0x4336b10>"
       ]
      }
     ],
     "prompt_number": 95
    },
    {
     "cell_type": "markdown",
     "metadata": {},
     "source": [
      "We now explore what happens as we do uniform samplings of $\\theta$ across different warm-up intervals."
     ]
    },
    {
     "cell_type": "code",
     "collapsed": false,
     "input": [
      "def do_warmup(n_particles=20000, theta_min=0, theta_max=TWO_PI, n_thetas=21, n_neutrons=10):\n",
      "    updater = smc.SMCUpdater(neutron_model, n_particles, neutron_prior, resample_thresh=0.3)\n",
      "    thetas = np.linspace(theta_min, theta_max, n_thetas)\n",
      "    for theta in thetas:\n",
      "        experiment = np.array([(theta, n_neutrons)], dtype=neutron_model.expparams_dtype)\n",
      "        datum = neutron_model.simulate_experiment(true_modelparams, experiment)\n",
      "        updater.update(datum, experiment)\n",
      "    f_post = plot_risks(updater)\n",
      "    print(*[u\"{:0.3} \u00b1 {:0.3}\\t\".format(mu, sigma) for mu, sigma in zip(updater.est_mean(), np.sqrt(np.diag(updater.est_covariance_mtx())))])\n",
      "    print(*true_modelparams)\n",
      "    return f_post, updater"
     ],
     "language": "python",
     "metadata": {},
     "outputs": [],
     "prompt_number": 96
    },
    {
     "cell_type": "code",
     "collapsed": false,
     "input": [
      "f, updater_warmup = do_warmup(n_thetas=21**2, n_neutrons=100)"
     ],
     "language": "python",
     "metadata": {},
     "outputs": [
      {
       "output_type": "stream",
       "stream": "stdout",
       "text": [
        "0.898 \u00b1 0.00388\t -3.59e-07 \u00b1 2.82e-05\t 0.094 \u00b1 0.012\t 1.02 \u00b1 0.00349\t\n",
        "[ 0.9        0.         0.0844303  1.02     ]\n"
       ]
      },
      {
       "metadata": {},
       "output_type": "display_data",
       "png": "[encoded data removed]",
       "text": [
        "<matplotlib.figure.Figure at 0x4368c90>"
       ]
      }
     ],
     "prompt_number": 97
    },
    {
     "cell_type": "code",
     "collapsed": false,
     "input": [
      "plot_kernel_smoothed_pdf(updater_warmup, param=2)"
     ],
     "language": "python",
     "metadata": {},
     "outputs": [
      {
       "metadata": {},
       "output_type": "display_data",
       "png": "[encoded data removed]",
       "text": [
        "<matplotlib.figure.Figure at 0x4368890>"
       ]
      }
     ],
     "prompt_number": 98
    },
    {
     "cell_type": "code",
     "collapsed": false,
     "input": [
      "def do_warmup_ex(n_particles=20000, theta_min=0, theta_max=TWO_PI, n_thetas=21, n_neutrons=10,hum=0.70,hum_std=0.01,temp=293.15,temp_std=0.5):\n",
      "    updater = smc.SMCUpdater(neutron_model_ex, n_particles, neutron_prior_ex, resample_thresh=0.3)\n",
      "    deltas = np.linspace(theta_min, theta_max, n_thetas)\n",
      "    humidities = np.random.normal(hum,hum_std,n_thetas)\n",
      "    temps = np.random.normal(temp,temp_std,n_thetas)\n",
      "    exparams = zip(deltas,temps,humidities)   \n",
      "    for exparam in exparams:\n",
      "        experiment = np.array([(exparam+ (n_neutrons,))], dtype=neutron_model_ex.expparams_dtype)\n",
      "        datum = neutron_model_ex.simulate_experiment(true_modelparams_ex, experiment)\n",
      "        updater.update(datum, experiment)\n",
      "    f_post = plot_risks_ex(updater)\n",
      "    print(*[u\"{:0.3} \u00b1 {:0.3}\\t\".format(mu, sigma) for mu, sigma in zip(updater.est_mean(), np.sqrt(np.diag(updater.est_covariance_mtx())))])\n",
      "    print(*true_modelparams_ex)\n",
      "    return f_post, updater\n"
     ],
     "language": "python",
     "metadata": {},
     "outputs": [],
     "prompt_number": 99
    },
    {
     "cell_type": "code",
     "collapsed": false,
     "input": [
      "def do_warmup_array(model,params,prior,n_particles=20000, theta_min=0, theta_max=TWO_PI, n_thetas=21, n_neutrons=10,hum=0.70,hum_std=0.01,temp=293.15,temp_std=0.5):\n",
      "    updater = smc.SMCUpdater(model, n_particles, prior, resample_thresh=0.3)\n",
      "    deltas = np.linspace(theta_min, theta_max, n_thetas)\n",
      "    humidities = np.random.normal(hum,hum_std,n_thetas)\n",
      "    temps = np.random.normal(temp,temp_std,n_thetas)\n",
      "    exparams = zip(deltas,temps,humidities)   \n",
      "    for exparam in exparams:\n",
      "        experiment = np.array([(exparam+ (n_neutrons,))], dtype=model.expparams_dtype)\n",
      "        datum = model.simulate_experiment(params, experiment)\n",
      "        updater.update(datum, experiment)\n",
      "    f_post = plot_risks_array(updater,ylim=(0,10E-7))\n",
      "    print(*[u\"{:0.3} \u00b1 {:0.3}\\t\".format(mu, sigma) for mu, sigma in zip(updater.est_mean(), np.sqrt(np.diag(updater.est_covariance_mtx())))])\n",
      "    print(*params)\n",
      "    return f_post, updater\n",
      "\n",
      "def make_array_warmup(model,trueparams,priors,num_particle=20000,theta_min=0, theta_max=TWO_PI,\n",
      "               hum=0.70,hum_std=0.01,temp=293.15,temp_std=0.5, n_thetas=100,save_file=None):\n",
      "    fig,axes = subplots(nrows=int(math.ceil((float(len(priors)))/2)),ncols=2,figsize=(8,6))\n",
      "   \n",
      "    fig.tight_layout(pad=3.0,w_pad=3.0,h_pad=3.0)    \n",
      "    for i,x,y in zip(range(0,len(priors)),trueparams,priors):        \n",
      "        subplot(math.ceil((float(len(priors))))/2,2,i)\n",
      "        f = do_warmup_array(model,x,y, num_particle,n_thetas=n_thetas)\n",
      "        title(r'$(A={0:.3f},b={1:.3f},\\phi={2:.3f},C={3:.3f},\\alpha\\'={4:.3f}$'.format(*x[0]))\n",
      "    subplots_adjust(left=0.2,right=2.0,bottom=0.2,top=2.0,wspace=0.3,hspace=0.3)\n",
      "    if save_file is not None:\n",
      "        savefig(save_file)\n",
      "    show()\n",
      "   "
     ],
     "language": "python",
     "metadata": {},
     "outputs": [],
     "prompt_number": 100
    },
    {
     "cell_type": "code",
     "collapsed": false,
     "input": [
      "make_array_warmup(neutron_model_ex,true_modelparams_array,neutron_prior_arr,20000,n_thetas=2**15,save_file=\"risks2.eps\")"
     ],
     "language": "python",
     "metadata": {},
     "outputs": [
      {
       "output_type": "stream",
       "stream": "stdout",
       "text": [
        "0.897 \u00b1 0.00149\t -7.58e-05 \u00b1 0.000843\t 0.0791 \u00b1 0.00654\t 1.02 \u00b1 0.00207\t -1.03 \u00b1 0.0274\t\n",
        "[ 0.9        0.         0.0844303  1.02      -1.02     ]\n",
        "0.899 \u00b1 0.00135\t"
       ]
      },
      {
       "output_type": "stream",
       "stream": "stdout",
       "text": [
        " -0.000549 \u00b1 0.000799\t 0.0863 \u00b1 0.00619\t 1.02 \u00b1 0.00199\t -1.02 \u00b1 0.0287\t\n",
        "[ 0.9        0.         0.0844303  1.02      -1.02     ]\n",
        "0.902 \u00b1 0.00116\t"
       ]
      },
      {
       "output_type": "stream",
       "stream": "stdout",
       "text": [
        " 7.08e-05 \u00b1 0.000572\t 1.57 \u00b1 0.00266\t 1.02 \u00b1 0.000823\t -1.04 \u00b1 0.0186\t\n",
        "[ 0.9         0.          1.57079633  1.02       -1.02      ]\n",
        "0.699 \u00b1 0.00176\t"
       ]
      },
      {
       "output_type": "stream",
       "stream": "stdout",
       "text": [
        " 0.0991 \u00b1 0.00102\t 0.0875 \u00b1 0.00914\t 1.02 \u00b1 0.00284\t -1.02 \u00b1 0.0308\t\n",
        "[ 0.7        0.1        0.0844303  1.02      -1.02     ]\n",
        "0.9 \u00b1 0.00135\t"
       ]
      },
      {
       "output_type": "stream",
       "stream": "stdout",
       "text": [
        " -0.000662 \u00b1 0.000585\t 0.0777 \u00b1 0.00459\t 1.5 \u00b1 0.00129\t -1.03 \u00b1 0.0259\t\n",
        "[ 0.9        0.         0.0844303  1.5       -1.02     ]\n",
        "0.101 \u00b1 0.00252\t"
       ]
      },
      {
       "output_type": "stream",
       "stream": "stdout",
       "text": [
        " -0.000524 \u00b1 0.00119\t 0.107 \u00b1 0.0521\t 1.01 \u00b1 0.0169\t -1.02 \u00b1 0.0285\t\n",
        "[ 0.1        0.         0.0844303  1.02      -1.02     ]\n"
       ]
      },
      {
       "metadata": {},
       "output_type": "display_data",
       "png": "[encoded data removed]",
       "text": [
        "<matplotlib.figure.Figure at 0x59400d0>"
       ]
      }
     ],
     "prompt_number": 105
    },
    {
     "cell_type": "code",
     "collapsed": false,
     "input": [
      "f_ex, updater_warmup_ex = do_warmup_ex(n_thetas=21**2, n_neutrons=100)"
     ],
     "language": "python",
     "metadata": {},
     "outputs": [
      {
       "output_type": "stream",
       "stream": "stdout",
       "text": [
        "0.902 \u00b1 0.00376\t -0.000638 \u00b1 0.00209\t 0.082 \u00b1 0.0149\t 1.02 \u00b1 0.00448\t -1.02 \u00b1 0.0054\t\n",
        "[ 0.9        0.         0.0844303  1.02      -1.02     ]\n"
       ]
      },
      {
       "metadata": {},
       "output_type": "display_data",
       "png": "[encoded data removed]",
       "text": [
        "<matplotlib.figure.Figure at 0x373dad0>"
       ]
      }
     ],
     "prompt_number": 31
    },
    {
     "cell_type": "code",
     "collapsed": false,
     "input": [
      "plot_kernel_smoothed_pdf(updater_warmup_ex, param=0)"
     ],
     "language": "python",
     "metadata": {},
     "outputs": []
    },
    {
     "cell_type": "markdown",
     "metadata": {},
     "source": [
      "We see that exploring settings of $\\theta$ not yet chosen provides significant benefits in risk reduction.\n",
      "\n",
      "Note also that the second case, $\\theta \\in [\\pi/2, 3\\pi/2]$, reliably gives much better phase information than the other two case"
     ]
    },
    {
     "cell_type": "code",
     "collapsed": false,
     "input": [
      "figure()\n",
      "do_warmup(theta_min=0, theta_max=np.pi, n_neutrons=100);\n",
      "figure()\n",
      "do_warmup(theta_min=(np.pi/2), theta_max=(1.5*np.pi), n_neutrons=100);\n",
      "figure()\n",
      "do_warmup(theta_min=(np.pi), theta_max=(2*np.pi), n_neutrons=100);"
     ],
     "language": "python",
     "metadata": {},
     "outputs": []
    },
    {
     "cell_type": "code",
     "collapsed": false,
     "input": [
      "figure()\n",
      "do_warmup_ex(theta_min=0, theta_max=np.pi, n_neutrons=100);\n",
      "figure()\n",
      "do_warmup_ex(theta_min=(np.pi/2), theta_max=(1.5*np.pi), n_neutrons=100);\n",
      "figure()\n",
      "do_warmup_ex(theta_min=(np.pi), theta_max=(2*np.pi), n_neutrons=100);"
     ],
     "language": "python",
     "metadata": {},
     "outputs": []
    },
    {
     "cell_type": "code",
     "collapsed": false,
     "input": [
      "def do_adaptive(n_particles=100000, warmup_thetas=(), n_thetas=11, n_guesses=3, n_neutrons=10, n_warmup_neutrons=10, quiet=False):\n",
      "    updater = smc.SMCUpdater(neutron_model, n_particles, neutron_prior, resampler=resamplers.LiuWestResampler(a=0.98), resample_thresh=0.5)\n",
      "    designer = expdesign.ExperimentDesigner(updater)\n",
      "    \n",
      "    best_thetas = []\n",
      "    error_hist = []\n",
      "    \n",
      "    def objective(theta):\n",
      "        return updater.bayes_risk(                                  \n",
      "            np.array([(theta, 1)], dtype=neutron_model.expparams_dtype)\n",
      "        )\n",
      "    \n",
      "    def perform(theta, n):\n",
      "        experiment = np.array([(theta, n)], dtype=neutron_model.expparams_dtype)\n",
      "        datum = neutron_model.simulate_experiment(true_modelparams, experiment)\n",
      "        updater.update(datum, experiment)\n",
      "        mu = updater.est_mean()\n",
      "        loss = np.dot(updater.model.Q, (true_modelparams[0, :] - mu)**2)\n",
      "        error = np.abs(mu[2] - true_modelparams[0, 2])\n",
      "        error_hist.append(error)\n",
      "        if not quiet:\n",
      "            print(\"Loss: {:.2e}\\tError: {:.2e}\\tStd dev: {:.2e}\\tResample: {}\".format(loss, error, np.sqrt(updater.est_covariance_mtx()[2,2]), updater.resample_count))\n",
      "        \n",
      "    [perform(theta, n_warmup_neutrons) for theta in warmup_thetas]\n",
      "    \n",
      "    for idx_theta in xrange(n_thetas):\n",
      "        \n",
      "        best_theta = None\n",
      "        best_risk  = None\n",
      "        \n",
      "        est_phi = updater.est_mean()[2]\n",
      "        \n",
      "        for idx_guess in xrange(n_guesses):\n",
      "            idx_particle = np.argmax(np.ceil(np.cumsum(updater.particle_weights) - np.random.random()))\n",
      "            idx_pi = np.random.randint(1, 5) # If this is zero, we pick a random theta [0, 2 * pi].\n",
      "            guess = (\n",
      "                idx_pi * np.pi / 2 - updater.particle_locations[idx_particle, 2, np.newaxis] / updater.particle_locations[idx_particle, 3, np.newaxis]\n",
      "            ) # if idx_pi != 0 else TWO_PI * random.random((1,))\n",
      "            result = minimize(objective, guess, bounds=[(0, 2 * np.pi)], method='TNC', options={'maxiter': 2})\n",
      "            \n",
      "            if best_risk is None or result.fun < best_risk:\n",
      "                best_theta = result.x\n",
      "                best_risk = result.fun\n",
      "        \n",
      "        if not quiet:\n",
      "            print(u\"Chose theta = {}.\".format(best_theta), end='\\t')\n",
      "            \n",
      "        best_thetas.append(best_theta)\n",
      "        perform(best_theta, n_neutrons)\n",
      "        \n",
      "    f_post = plot_risks(updater)\n",
      "    print(*[u\"{:0.3} \u00b1 {:0.3}\\t\".format(mu, sigma) for mu, sigma in zip(updater.est_mean(), np.sqrt(np.diag(updater.est_covariance_mtx())))])\n",
      "    print(*true_modelparams)\n",
      "    return f_post, error_hist, updater, best_thetas"
     ],
     "language": "python",
     "metadata": {},
     "outputs": []
    },
    {
     "cell_type": "code",
     "collapsed": false,
     "input": [
      "warmup_thetas = np.linspace(0, np.pi/10, 19)"
     ],
     "language": "python",
     "metadata": {},
     "outputs": []
    },
    {
     "cell_type": "code",
     "collapsed": false,
     "input": [
      "f_post, this_error_hist, updater_adaptive, best_thetas = do_adaptive(n_thetas=200, n_guesses=5, warmup_thetas=warmup_thetas, n_neutrons=40, n_warmup_neutrons=100, quiet=False)"
     ],
     "language": "python",
     "metadata": {},
     "outputs": []
    },
    {
     "cell_type": "code",
     "collapsed": false,
     "input": [
      "plot_kernel_smoothed_pdf(updater_adaptive)"
     ],
     "language": "python",
     "metadata": {},
     "outputs": []
    },
    {
     "cell_type": "code",
     "collapsed": false,
     "input": [
      "def do_adaptive_ex(n_particles=100000, warmup_exparams=(), n_thetas=11, n_guesses=3, n_neutrons=10, n_warmup_neutrons=10, quiet=False):\n",
      "    updater = smc.SMCUpdater(neutron_model_ex, n_particles, neutron_prior_ex, resampler=resamplers.LiuWestResampler(a=0.98), resample_thresh=0.5)\n",
      "    designer = expdesign.ExperimentDesigner(updater)\n",
      "    \n",
      "    best_thetas = []\n",
      "    error_hist = []\n",
      "    \n",
      "    def objective(theta):\n",
      "        \n",
      "        return updater.bayes_risk(                                  \n",
      "            np.array([tuple(theta)+(1,)], dtype=neutron_model_ex.expparams_dtype)\n",
      "        )\n",
      "    \n",
      "    def perform(exparam, n):        \n",
      "        experiment = np.array([tuple(exparam)+ (n,)], dtype=neutron_model_ex.expparams_dtype)        \n",
      "        datum = neutron_model_ex.simulate_experiment(true_modelparams_ex, experiment)\n",
      "        updater.update(datum, experiment)\n",
      "        mu = updater.est_mean()\n",
      "        loss = np.dot(updater.model.Q, (true_modelparams_ex[0, :] - mu)**2)\n",
      "        error = np.abs(mu[2] - true_modelparams_ex[0, 2])\n",
      "        error_hist.append(error)\n",
      "        if not quiet:\n",
      "            print(\"Loss: {:.2e}\\tError: {:.2e}\\tStd dev: {:.2e}\\tResample: {}\".format(loss, error, np.sqrt(updater.est_covariance_mtx()[2,2]), updater.resample_count))\n",
      "        \n",
      "    [perform(exparam, n_warmup_neutrons) for exparam in warmup_exparams]\n",
      "    \n",
      "    for idx_theta in xrange(n_thetas):\n",
      "        \n",
      "        best_theta = None\n",
      "        best_risk  = None\n",
      "        \n",
      "        est_phi = updater.est_mean()[2]\n",
      "        \n",
      "        for idx_guess in xrange(n_guesses):\n",
      "            idx_particle = np.argmax(np.ceil(np.cumsum(updater.particle_weights) - np.random.random()))\n",
      "            idx_pi = np.random.randint(1, 5) # If this is zero, we pick a random theta [0, 2 * pi].\n",
      "            guess = (\n",
      "                idx_pi * np.pi / 2 - updater.particle_locations[idx_particle, 2, np.newaxis] / updater.particle_locations[idx_particle, 3, np.newaxis]\n",
      "            ) # if idx_pi != 0 else TWO_PI * random.random((1,))\n",
      "            result = minimize(objective, (guess,293.15,0.70), bounds=[(0, 2 * np.pi),(270.,310.),(0.,1.)], method='TNC', options={'maxiter': 2})\n",
      "            \n",
      "            if best_risk is None or result.fun < best_risk:\n",
      "                best_theta = result.x\n",
      "                best_risk = result.fun\n",
      "        \n",
      "        if not quiet:\n",
      "            print(u\"Chose theta = {}.\".format(best_theta), end='\\t')\n",
      "            \n",
      "        best_thetas.append(best_theta)\n",
      "        perform(best_theta, n_neutrons)\n",
      "        \n",
      "    f_post = plot_risks_ex(updater)\n",
      "    print(*[u\"{:0.3} \u00b1 {:0.3}\\t\".format(mu, sigma) for mu, sigma in zip(updater.est_mean(), np.sqrt(np.diag(updater.est_covariance_mtx())))])\n",
      "    print(*true_modelparams)\n",
      "    return f_post, error_hist, updater, best_thetas"
     ],
     "language": "python",
     "metadata": {},
     "outputs": [],
     "prompt_number": 106
    },
    {
     "cell_type": "code",
     "collapsed": false,
     "input": [
      "warmup_thetas = np.linspace(0, np.pi/10, 19)\n",
      "warmup_temps = np.random.normal(293.16,0.15,19)\n",
      "warmup_humids = np.random.normal(0.7,0.01,19)\n",
      "exparams = zip(warmup_thetas,warmup_temps,warmup_humids)"
     ],
     "language": "python",
     "metadata": {},
     "outputs": [],
     "prompt_number": 107
    },
    {
     "cell_type": "code",
     "collapsed": false,
     "input": [
      "f_post, this_error_hist, updater_adaptive, best_thetas = do_adaptive_ex(n_thetas=200, n_guesses=5, warmup_exparams=exparams, n_neutrons=40, n_warmup_neutrons=100, quiet=False)"
     ],
     "language": "python",
     "metadata": {},
     "outputs": [
      {
       "output_type": "stream",
       "stream": "stdout",
       "text": [
        "Loss: 6.35e-03\tError: 7.96e-02\tStd dev: 1.12e-01\tResample: 1\n",
        "Loss: 8.86e-04\tError: 2.95e-02\tStd dev: 7.85e-02\tResample: 1\n",
        "Loss: 1.75e-03\tError: 4.18e-02\tStd dev: 8.20e-02\tResample: 1"
       ]
      },
      {
       "output_type": "stream",
       "stream": "stdout",
       "text": [
        "\n",
        "Loss: 1.86e-03\tError: 4.31e-02\tStd dev: 7.98e-02\tResample: 1\n",
        "Loss: 4.55e-04\tError: 2.10e-02\tStd dev: 6.85e-02\tResample: 1"
       ]
      },
      {
       "output_type": "stream",
       "stream": "stdout",
       "text": [
        "\n",
        "Loss: 1.27e-04\tError: 1.05e-02\tStd dev: 6.24e-02\tResample: 1\n",
        "Loss: 3.23e-04\tError: 1.76e-02\tStd dev: 6.40e-02\tResample: 1"
       ]
      },
      {
       "output_type": "stream",
       "stream": "stdout",
       "text": [
        "\n",
        "Loss: 2.21e-05\tError: 1.81e-03\tStd dev: 5.63e-02\tResample: 1\n",
        "Loss: 2.11e-05\tError: 6.68e-04\tStd dev: 5.28e-02\tResample: 2"
       ]
      },
      {
       "output_type": "stream",
       "stream": "stdout",
       "text": [
        "\n",
        "Loss: 2.11e-05\tError: 9.30e-04\tStd dev: 5.17e-02\tResample: 2\n",
        "Loss: 2.40e-05\tError: 1.97e-03\tStd dev: 5.04e-02\tResample: 2"
       ]
      },
      {
       "output_type": "stream",
       "stream": "stdout",
       "text": [
        "\n",
        "Loss: 3.43e-05\tError: 3.73e-03\tStd dev: 4.88e-02\tResample: 2\n",
        "Loss: 2.50e-05\tError: 2.37e-03\tStd dev: 4.84e-02\tResample: 2"
       ]
      },
      {
       "output_type": "stream",
       "stream": "stdout",
       "text": [
        "\n",
        "Loss: 3.74e-04\tError: 1.87e-02\tStd dev: 4.15e-02\tResample: 2\n",
        "Loss: 3.57e-04\tError: 1.82e-02\tStd dev: 4.11e-02\tResample: 2"
       ]
      },
      {
       "output_type": "stream",
       "stream": "stdout",
       "text": [
        "\n",
        "Loss: 1.83e-04\tError: 1.27e-02\tStd dev: 4.25e-02\tResample: 2\n",
        "Loss: 8.51e-05\tError: 8.01e-03\tStd dev: 4.32e-02\tResample: 2"
       ]
      },
      {
       "output_type": "stream",
       "stream": "stdout",
       "text": [
        "\n",
        "Loss: 1.34e-04\tError: 1.06e-02\tStd dev: 4.18e-02\tResample: 2\n",
        "Loss: 2.08e-05\tError: 1.32e-03\tStd dev: 4.41e-02\tResample: 2"
       ]
      },
      {
       "output_type": "stream",
       "stream": "stdout",
       "text": [
        "\n",
        "Chose theta = [   4.63502059  293.15          0.7       ]."
       ]
      },
      {
       "output_type": "stream",
       "stream": "stdout",
       "text": [
        "\tLoss: 9.87e-05\tError: 9.18e-03\tStd dev: 4.09e-02\tResample: 2\n",
        "Chose theta = [   4.66631951  293.15          0.7       ]."
       ]
      },
      {
       "output_type": "stream",
       "stream": "stdout",
       "text": [
        "\tLoss: 7.11e-05\tError: 7.48e-03\tStd dev: 4.03e-02\tResample: 2\n",
        "Chose theta = [   4.6396151  293.15         0.7      ]."
       ]
      },
      {
       "output_type": "stream",
       "stream": "stdout",
       "text": [
        "\tLoss: 3.70e-05\tError: 4.53e-03\tStd dev: 4.01e-02\tResample: 2\n",
        "Chose theta = [   4.6770812  293.15         0.7      ]."
       ]
      },
      {
       "output_type": "stream",
       "stream": "stdout",
       "text": [
        "\tLoss: 3.10e-05\tError: 3.76e-03\tStd dev: 3.94e-02\tResample: 2\n",
        "Chose theta = [   4.64020298  293.15          0.7       ]."
       ]
      },
      {
       "output_type": "stream",
       "stream": "stdout",
       "text": [
        "\tLoss: 2.73e-04\tError: 1.61e-02\tStd dev: 3.62e-02\tResample: 2\n",
        "Chose theta = [   1.44766143  293.15          0.7       ]."
       ]
      },
      {
       "output_type": "stream",
       "stream": "stdout",
       "text": [
        "\tLoss: 4.53e-04\tError: 2.10e-02\tStd dev: 3.46e-02\tResample: 2\n",
        "Chose theta = [   4.61965122  293.15          0.7       ]."
       ]
      },
      {
       "output_type": "stream",
       "stream": "stdout",
       "text": [
        "\tLoss: 2.53e-04\tError: 1.55e-02\tStd dev: 3.54e-02\tResample: 2\n",
        "Chose theta = [   4.61341501  293.15          0.7       ]."
       ]
      },
      {
       "output_type": "stream",
       "stream": "stdout",
       "text": [
        "\tLoss: 1.60e-04\tError: 1.20e-02\tStd dev: 3.56e-02\tResample: 2\n",
        "Chose theta = [   4.62402199  293.15          0.7       ]."
       ]
      },
      {
       "output_type": "stream",
       "stream": "stdout",
       "text": [
        "\tLoss: 6.85e-05\tError: 7.14e-03\tStd dev: 3.59e-02\tResample: 2\n",
        "Chose theta = [   1.49051809  293.15          0.7       ]."
       ]
      },
      {
       "output_type": "stream",
       "stream": "stdout",
       "text": [
        "\tLoss: 1.14e-04\tError: 9.83e-03\tStd dev: 3.51e-02\tResample: 2\n",
        "Chose theta = [   1.51296331  293.15          0.7       ]."
       ]
      },
      {
       "output_type": "stream",
       "stream": "stdout",
       "text": [
        "\tLoss: 2.36e-04\tError: 1.48e-02\tStd dev: 3.38e-02\tResample: 2\n",
        "Chose theta = [   1.57072404  293.15          0.7       ]."
       ]
      },
      {
       "output_type": "stream",
       "stream": "stdout",
       "text": [
        "\tLoss: 2.75e-04\tError: 1.61e-02\tStd dev: 3.32e-02\tResample: 2\n",
        "Chose theta = [   1.54146105  293.15          0.7       ]."
       ]
      },
      {
       "output_type": "stream",
       "stream": "stdout",
       "text": [
        "\tLoss: 1.87e-04\tError: 1.31e-02\tStd dev: 3.34e-02\tResample: 2\n",
        "Chose theta = [   1.50332767  293.15          0.7       ]."
       ]
      },
      {
       "output_type": "stream",
       "stream": "stdout",
       "text": [
        "\tLoss: 3.67e-04\tError: 1.87e-02\tStd dev: 3.20e-02\tResample: 2\n",
        "Chose theta = [   1.46145093  293.15          0.7       ]."
       ]
      },
      {
       "output_type": "stream",
       "stream": "stdout",
       "text": [
        "\tLoss: 3.48e-04\tError: 1.82e-02\tStd dev: 3.18e-02\tResample: 2\n",
        "Chose theta = [   1.45717945  293.15          0.7       ]."
       ]
      },
      {
       "output_type": "stream",
       "stream": "stdout",
       "text": [
        "\tLoss: 3.27e-04\tError: 1.76e-02\tStd dev: 3.16e-02\tResample: 2\n",
        "Chose theta = [   1.51798045  293.15          0.7       ]."
       ]
      },
      {
       "output_type": "stream",
       "stream": "stdout",
       "text": [
        "\tLoss: 2.19e-04\tError: 1.42e-02\tStd dev: 3.19e-02\tResample: 2\n",
        "Chose theta = [   1.55116828  293.15          0.7       ]."
       ]
      },
      {
       "output_type": "stream",
       "stream": "stdout",
       "text": [
        "\tLoss: 4.89e-05\tError: 5.62e-03\tStd dev: 3.26e-02\tResample: 2\n",
        "Chose theta = [   1.48610883  293.15          0.7       ]."
       ]
      },
      {
       "output_type": "stream",
       "stream": "stdout",
       "text": [
        "\tLoss: 1.30e-04\tError: 1.07e-02\tStd dev: 3.18e-02\tResample: 2\n",
        "Chose theta = [   4.60448542  293.15          0.7       ]."
       ]
      },
      {
       "output_type": "stream",
       "stream": "stdout",
       "text": [
        "\tLoss: 1.08e-04\tError: 9.54e-03\tStd dev: 3.16e-02\tResample: 2\n",
        "Chose theta = [   1.48035501  293.15          0.7       ]."
       ]
      },
      {
       "output_type": "stream",
       "stream": "stdout",
       "text": [
        "\tLoss: 1.12e-04\tError: 9.75e-03\tStd dev: 3.13e-02\tResample: 2\n",
        "Chose theta = [   1.51678567  293.15          0.7       ]."
       ]
      },
      {
       "output_type": "stream",
       "stream": "stdout",
       "text": [
        "\tLoss: 1.36e-04\tError: 1.09e-02\tStd dev: 3.09e-02\tResample: 2\n",
        "Chose theta = [   1.50707538  293.15          0.7       ]."
       ]
      },
      {
       "output_type": "stream",
       "stream": "stdout",
       "text": [
        "\tLoss: 5.63e-05\tError: 6.21e-03\tStd dev: 3.11e-02\tResample: 2\n",
        "Chose theta = [   4.6092814  293.15         0.7      ]."
       ]
      },
      {
       "output_type": "stream",
       "stream": "stdout",
       "text": [
        "\tLoss: 3.56e-05\tError: 4.01e-03\tStd dev: 3.10e-02\tResample: 2\n",
        "Chose theta = [   1.48904322  293.15          0.7       ]."
       ]
      },
      {
       "output_type": "stream",
       "stream": "stdout",
       "text": [
        "\tLoss: 4.00e-05\tError: 4.53e-03\tStd dev: 3.07e-02\tResample: 2\n",
        "Chose theta = [   1.49372813  293.15          0.7       ]."
       ]
      },
      {
       "output_type": "stream",
       "stream": "stdout",
       "text": [
        "\tLoss: 2.26e-05\tError: 1.54e-03\tStd dev: 3.08e-02\tResample: 2\n",
        "Chose theta = [   1.49415927  293.15          0.7       ]."
       ]
      },
      {
       "output_type": "stream",
       "stream": "stdout",
       "text": [
        "\tLoss: 2.48e-05\tError: 2.11e-03\tStd dev: 3.05e-02\tResample: 2\n",
        "Chose theta = [   1.47509821  293.15          0.7       ]."
       ]
      },
      {
       "output_type": "stream",
       "stream": "stdout",
       "text": [
        "\tLoss: 2.36e-05\tError: 1.81e-03\tStd dev: 3.03e-02\tResample: 2\n",
        "Chose theta = [   1.48736614  293.15          0.7       ]."
       ]
      },
      {
       "output_type": "stream",
       "stream": "stdout",
       "text": [
        "\tLoss: 2.00e-05\tError: 1.83e-05\tStd dev: 2.99e-02\tResample: 2\n",
        "Chose theta = [   1.45840013  293.15          0.7       ]."
       ]
      },
      {
       "output_type": "stream",
       "stream": "stdout",
       "text": [
        "\tLoss: 8.99e-05\tError: 8.42e-03\tStd dev: 2.91e-02\tResample: 2\n",
        "Chose theta = [   1.54593063  293.15          0.7       ]."
       ]
      },
      {
       "output_type": "stream",
       "stream": "stdout",
       "text": [
        "\tLoss: 2.27e-05\tError: 1.72e-03\tStd dev: 2.94e-02\tResample: 2\n",
        "Chose theta = [   1.43589847  293.15          0.7       ]."
       ]
      },
      {
       "output_type": "stream",
       "stream": "stdout",
       "text": [
        "\tLoss: 3.45e-05\tError: 3.74e-03\tStd dev: 2.94e-02\tResample: 2\n",
        "Chose theta = [   1.47993861  293.15          0.7       ]."
       ]
      },
      {
       "output_type": "stream",
       "stream": "stdout",
       "text": [
        "\tLoss: 1.87e-04\tError: 1.28e-02\tStd dev: 2.94e-02\tResample: 2\n",
        "Chose theta = [   4.59659508  293.15          0.7       ]."
       ]
      },
      {
       "output_type": "stream",
       "stream": "stdout",
       "text": [
        "\tLoss: 1.43e-04\tError: 1.11e-02\tStd dev: 2.92e-02\tResample: 2\n",
        "Chose theta = [   1.48363018  293.15          0.7       ]."
       ]
      },
      {
       "output_type": "stream",
       "stream": "stdout",
       "text": [
        "\tLoss: 1.30e-04\tError: 1.05e-02\tStd dev: 2.90e-02\tResample: 2\n",
        "Chose theta = [   1.44458812  293.15          0.7       ]."
       ]
      },
      {
       "output_type": "stream",
       "stream": "stdout",
       "text": [
        "\tLoss: 1.86e-04\tError: 1.29e-02\tStd dev: 2.89e-02\tResample: 3"
       ]
      },
      {
       "output_type": "stream",
       "stream": "stdout",
       "text": [
        "\n",
        "Chose theta = [   4.57868215  293.15          0.7       ]."
       ]
      },
      {
       "output_type": "stream",
       "stream": "stdout",
       "text": [
        "\tLoss: 2.13e-04\tError: 1.38e-02\tStd dev: 2.87e-02\tResample: 3\n",
        "Chose theta = [   1.4961422  293.15         0.7      ]."
       ]
      },
      {
       "output_type": "stream",
       "stream": "stdout",
       "text": [
        "\tLoss: 1.15e-04\tError: 9.69e-03\tStd dev: 2.84e-02\tResample: 3\n",
        "Chose theta = [   4.62115483  293.15          0.7       ]."
       ]
      },
      {
       "output_type": "stream",
       "stream": "stdout",
       "text": [
        "\tLoss: 1.43e-05\tError: 3.74e-04\tStd dev: 2.82e-02\tResample: 3\n",
        "Chose theta = [   3.66515571  310.            0.72755018]."
       ]
      },
      {
       "output_type": "stream",
       "stream": "stdout",
       "text": [
        "\tLoss: 1.83e-05\tError: 1.79e-03\tStd dev: 2.80e-02\tResample: 3\n",
        "Chose theta = [   4.63028288  293.15          0.7       ]."
       ]
      },
      {
       "output_type": "stream",
       "stream": "stdout",
       "text": [
        "\tLoss: 1.57e-05\tError: 1.01e-03\tStd dev: 2.78e-02\tResample: 3\n",
        "Chose theta = [   1.48472833  293.15          0.7       ]."
       ]
      },
      {
       "output_type": "stream",
       "stream": "stdout",
       "text": [
        "\tLoss: 1.31e-04\tError: 1.07e-02\tStd dev: 2.79e-02\tResample: 3\n",
        "Chose theta = [   1.09873337  270.            0.71782418]."
       ]
      },
      {
       "output_type": "stream",
       "stream": "stdout",
       "text": [
        "\tLoss: 1.94e-04\tError: 1.33e-02\tStd dev: 2.77e-02\tResample: 3\n",
        "Chose theta = [   1.02350716  270.            0.75375463]."
       ]
      },
      {
       "output_type": "stream",
       "stream": "stdout",
       "text": [
        "\tLoss: 2.78e-04\tError: 1.61e-02\tStd dev: 2.75e-02\tResample: 3\n",
        "Chose theta = [   4.58540617  293.15          0.7       ]."
       ]
      },
      {
       "output_type": "stream",
       "stream": "stdout",
       "text": [
        "\tLoss: 2.43e-04\tError: 1.50e-02\tStd dev: 2.74e-02\tResample: 3\n",
        "Chose theta = [   4.60296685  293.15          0.7       ]."
       ]
      },
      {
       "output_type": "stream",
       "stream": "stdout",
       "text": [
        "\tLoss: 3.53e-04\tError: 1.83e-02\tStd dev: 2.72e-02\tResample: 3\n",
        "Chose theta = [   1.43303771  293.15          0.7       ]."
       ]
      },
      {
       "output_type": "stream",
       "stream": "stdout",
       "text": [
        "\tLoss: 4.76e-04\tError: 2.14e-02\tStd dev: 2.70e-02\tResample: 3\n",
        "Chose theta = [   1.0105995   310.            0.65388835]."
       ]
      },
      {
       "output_type": "stream",
       "stream": "stdout",
       "text": [
        "\tLoss: 4.66e-04\tError: 2.11e-02\tStd dev: 2.69e-02\tResample: 3\n",
        "Chose theta = [   1.46509049  293.15          0.7       ]."
       ]
      },
      {
       "output_type": "stream",
       "stream": "stdout",
       "text": [
        "\tLoss: 4.15e-04\tError: 1.99e-02\tStd dev: 2.67e-02\tResample: 3\n",
        "Chose theta = [   1.48292399  293.15          0.7       ]."
       ]
      },
      {
       "output_type": "stream",
       "stream": "stdout",
       "text": [
        "\tLoss: 1.88e-04\tError: 1.31e-02\tStd dev: 2.66e-02\tResample: 3\n",
        "Chose theta = [   4.5742032  293.15         0.7      ]."
       ]
      },
      {
       "output_type": "stream",
       "stream": "stdout",
       "text": [
        "\tLoss: 1.68e-04\tError: 1.23e-02\tStd dev: 2.65e-02\tResample: 3\n",
        "Chose theta = [   1.45738432  293.15          0.7       ]."
       ]
      },
      {
       "output_type": "stream",
       "stream": "stdout",
       "text": [
        "\tLoss: 1.67e-04\tError: 1.22e-02\tStd dev: 2.63e-02\tResample: 3\n",
        "Chose theta = [   1.40982861  293.15          0.7       ]."
       ]
      },
      {
       "output_type": "stream",
       "stream": "stdout",
       "text": [
        "\tLoss: 1.63e-04\tError: 1.21e-02\tStd dev: 2.62e-02\tResample: 3\n",
        "Chose theta = [   1.50687472  293.15          0.7       ]."
       ]
      },
      {
       "output_type": "stream",
       "stream": "stdout",
       "text": [
        "\tLoss: 1.25e-04\tError: 1.04e-02\tStd dev: 2.61e-02\tResample: 3\n",
        "Chose theta = [   1.47703846  293.15          0.7       ]."
       ]
      },
      {
       "output_type": "stream",
       "stream": "stdout",
       "text": [
        "\tLoss: 1.02e-04\tError: 9.26e-03\tStd dev: 2.59e-02\tResample: 3\n",
        "Chose theta = [   1.44444383  293.15          0.7       ]."
       ]
      },
      {
       "output_type": "stream",
       "stream": "stdout",
       "text": [
        "\tLoss: 1.40e-04\tError: 1.11e-02\tStd dev: 2.58e-02\tResample: 3\n",
        "Chose theta = [   1.45762746  293.15          0.7       ]."
       ]
      },
      {
       "output_type": "stream",
       "stream": "stdout",
       "text": [
        "\tLoss: 1.06e-04\tError: 9.44e-03\tStd dev: 2.57e-02\tResample: 3\n",
        "Chose theta = [   4.58114395  293.15          0.7       ]."
       ]
      },
      {
       "output_type": "stream",
       "stream": "stdout",
       "text": [
        "\tLoss: 1.55e-04\tError: 1.17e-02\tStd dev: 2.56e-02\tResample: 3\n",
        "Chose theta = [   1.45042051  293.15          0.7       ]."
       ]
      },
      {
       "output_type": "stream",
       "stream": "stdout",
       "text": [
        "\tLoss: 2.18e-04\tError: 1.41e-02\tStd dev: 2.54e-02\tResample: 3\n",
        "Chose theta = [   1.47124036  293.15          0.7       ]."
       ]
      },
      {
       "output_type": "stream",
       "stream": "stdout",
       "text": [
        "\tLoss: 3.35e-04\tError: 1.78e-02\tStd dev: 2.53e-02\tResample: 3\n",
        "Chose theta = [   4.58585644  293.15          0.7       ]."
       ]
      },
      {
       "output_type": "stream",
       "stream": "stdout",
       "text": [
        "\tLoss: 3.29e-04\tError: 1.76e-02\tStd dev: 2.52e-02\tResample: 3\n",
        "Chose theta = [   1.01911676  270.            0.57085735]."
       ]
      },
      {
       "output_type": "stream",
       "stream": "stdout",
       "text": [
        "\tLoss: 3.81e-04\tError: 1.90e-02\tStd dev: 2.51e-02\tResample: 3\n",
        "Chose theta = [   1.44205837  293.15          0.7       ]."
       ]
      },
      {
       "output_type": "stream",
       "stream": "stdout",
       "text": [
        "\tLoss: 4.14e-04\tError: 1.98e-02\tStd dev: 2.50e-02\tResample: 3\n",
        "Chose theta = [   1.50055026  293.15          0.7       ]."
       ]
      },
      {
       "output_type": "stream",
       "stream": "stdout",
       "text": [
        "\tLoss: 5.41e-04\tError: 2.28e-02\tStd dev: 2.49e-02\tResample: 3\n",
        "Chose theta = [   1.45922988  293.15          0.7       ]."
       ]
      },
      {
       "output_type": "stream",
       "stream": "stdout",
       "text": [
        "\tLoss: 5.32e-04\tError: 2.26e-02\tStd dev: 2.48e-02\tResample: 3\n",
        "Chose theta = [   4.55950712  293.15          0.7       ]."
       ]
      },
      {
       "output_type": "stream",
       "stream": "stdout",
       "text": [
        "\tLoss: 4.77e-04\tError: 2.14e-02\tStd dev: 2.47e-02\tResample: 3\n",
        "Chose theta = [   1.45168782  293.15          0.7       ]."
       ]
      },
      {
       "output_type": "stream",
       "stream": "stdout",
       "text": [
        "\tLoss: 5.05e-04\tError: 2.20e-02\tStd dev: 2.46e-02\tResample: 3\n",
        "Chose theta = [   1.45012304  293.15          0.7       ]."
       ]
      },
      {
       "output_type": "stream",
       "stream": "stdout",
       "text": [
        "\tLoss: 4.72e-04\tError: 2.12e-02\tStd dev: 2.45e-02\tResample: 3\n",
        "Chose theta = [   1.44719774  293.15          0.7       ]."
       ]
      },
      {
       "output_type": "stream",
       "stream": "stdout",
       "text": [
        "\tLoss: 4.71e-04\tError: 2.12e-02\tStd dev: 2.44e-02\tResample: 3\n",
        "Chose theta = [   5.65922445  270.            0.67898827]."
       ]
      },
      {
       "output_type": "stream",
       "stream": "stdout",
       "text": [
        "\tLoss: 4.87e-04\tError: 2.16e-02\tStd dev: 2.43e-02\tResample: 3\n",
        "Chose theta = [   4.57470188  293.15          0.7       ]."
       ]
      },
      {
       "output_type": "stream",
       "stream": "stdout",
       "text": [
        "\tLoss: 3.35e-04\tError: 1.78e-02\tStd dev: 2.43e-02\tResample: 3\n",
        "Chose theta = [   1.47684767  293.15          0.7       ]."
       ]
      },
      {
       "output_type": "stream",
       "stream": "stdout",
       "text": [
        "\tLoss: 3.22e-04\tError: 1.74e-02\tStd dev: 2.42e-02\tResample: 3\n",
        "Chose theta = [   1.45193278  293.15          0.7       ]."
       ]
      },
      {
       "output_type": "stream",
       "stream": "stdout",
       "text": [
        "\tLoss: 3.95e-04\tError: 1.94e-02\tStd dev: 2.41e-02\tResample: 3\n",
        "Chose theta = [   1.4360374  293.15         0.7      ]."
       ]
      },
      {
       "output_type": "stream",
       "stream": "stdout",
       "text": [
        "\tLoss: 3.75e-04\tError: 1.89e-02\tStd dev: 2.40e-02\tResample: 3\n",
        "Chose theta = [   4.63398564  293.15          0.7       ]."
       ]
      },
      {
       "output_type": "stream",
       "stream": "stdout",
       "text": [
        "\tLoss: 3.30e-04\tError: 1.76e-02\tStd dev: 2.40e-02\tResample: 3\n",
        "Chose theta = [   1.44401921  293.15          0.7       ]."
       ]
      },
      {
       "output_type": "stream",
       "stream": "stdout",
       "text": [
        "\tLoss: 3.09e-04\tError: 1.70e-02\tStd dev: 2.39e-02\tResample: 3\n",
        "Chose theta = [   1.44803188  293.15          0.7       ]."
       ]
      },
      {
       "output_type": "stream",
       "stream": "stdout",
       "text": [
        "\tLoss: 3.79e-04\tError: 1.90e-02\tStd dev: 2.38e-02\tResample: 3\n",
        "Chose theta = [   1.47714578  293.15          0.7       ]."
       ]
      },
      {
       "output_type": "stream",
       "stream": "stdout",
       "text": [
        "\tLoss: 3.21e-04\tError: 1.74e-02\tStd dev: 2.37e-02\tResample: 3\n",
        "Chose theta = [   1.47010268  293.15          0.7       ]."
       ]
      },
      {
       "output_type": "stream",
       "stream": "stdout",
       "text": [
        "\tLoss: 4.29e-04\tError: 2.02e-02\tStd dev: 2.36e-02\tResample: 3\n",
        "Chose theta = [   4.26576236  270.            0.57824589]."
       ]
      },
      {
       "output_type": "stream",
       "stream": "stdout",
       "text": [
        "\tLoss: 3.47e-04\tError: 1.81e-02\tStd dev: 2.35e-02\tResample: 3\n",
        "Chose theta = [   4.57097628  293.15          0.7       ]."
       ]
      },
      {
       "output_type": "stream",
       "stream": "stdout",
       "text": [
        "\tLoss: 2.90e-04\tError: 1.64e-02\tStd dev: 2.34e-02\tResample: 3\n",
        "Chose theta = [   1.4538219  293.15         0.7      ]."
       ]
      },
      {
       "output_type": "stream",
       "stream": "stdout",
       "text": [
        "\tLoss: 2.50e-04\tError: 1.52e-02\tStd dev: 2.34e-02\tResample: 3\n",
        "Chose theta = [   1.52404816  293.15          0.7       ]."
       ]
      },
      {
       "output_type": "stream",
       "stream": "stdout",
       "text": [
        "\tLoss: 3.20e-04\tError: 1.73e-02\tStd dev: 2.33e-02\tResample: 3\n",
        "Chose theta = [   3.06448704  293.15          0.7       ]."
       ]
      },
      {
       "output_type": "stream",
       "stream": "stdout",
       "text": [
        "\tLoss: 3.20e-04\tError: 1.73e-02\tStd dev: 2.32e-02\tResample: 3\n",
        "Chose theta = [   3.55261033  270.            0.7239026 ]."
       ]
      },
      {
       "output_type": "stream",
       "stream": "stdout",
       "text": [
        "\tLoss: 2.19e-04\tError: 1.41e-02\tStd dev: 2.32e-02\tResample: 4"
       ]
      },
      {
       "output_type": "stream",
       "stream": "stdout",
       "text": [
        "\n",
        "Chose theta = [   4.64264664  293.15          0.7       ]."
       ]
      },
      {
       "output_type": "stream",
       "stream": "stdout",
       "text": [
        "\tLoss: 2.52e-04\tError: 1.52e-02\tStd dev: 2.32e-02\tResample: 4\n",
        "Chose theta = [   3.03633342  293.15          0.7       ]."
       ]
      },
      {
       "output_type": "stream",
       "stream": "stdout",
       "text": [
        "\tLoss: 2.54e-04\tError: 1.53e-02\tStd dev: 2.31e-02\tResample: 4\n",
        "Chose theta = [   3.10994902  293.15          0.7       ]."
       ]
      },
      {
       "output_type": "stream",
       "stream": "stdout",
       "text": [
        "\tLoss: 2.51e-04\tError: 1.52e-02\tStd dev: 2.31e-02\tResample: 4\n",
        "Chose theta = [   3.06494339  293.15          0.7       ]."
       ]
      },
      {
       "output_type": "stream",
       "stream": "stdout",
       "text": [
        "\tLoss: 1.87e-04\tError: 1.28e-02\tStd dev: 2.31e-02\tResample: 4\n",
        "Chose theta = [   4.658807  293.15        0.7     ]."
       ]
      },
      {
       "output_type": "stream",
       "stream": "stdout",
       "text": [
        "\tLoss: 1.70e-04\tError: 1.21e-02\tStd dev: 2.30e-02\tResample: 4\n",
        "Chose theta = [   4.61786492  293.15          0.7       ]."
       ]
      },
      {
       "output_type": "stream",
       "stream": "stdout",
       "text": [
        "\tLoss: 1.52e-04\tError: 1.13e-02\tStd dev: 2.29e-02\tResample: 4\n",
        "Chose theta = [   1.43486738  293.15          0.7       ]."
       ]
      },
      {
       "output_type": "stream",
       "stream": "stdout",
       "text": [
        "\tLoss: 1.84e-04\tError: 1.26e-02\tStd dev: 2.28e-02\tResample: 4\n",
        "Chose theta = [   3.06503732  293.15          0.7       ]."
       ]
      },
      {
       "output_type": "stream",
       "stream": "stdout",
       "text": [
        "\tLoss: 1.86e-04\tError: 1.27e-02\tStd dev: 2.28e-02\tResample: 4\n",
        "Chose theta = [   1.1483061   310.            0.68613903]."
       ]
      },
      {
       "output_type": "stream",
       "stream": "stdout",
       "text": [
        "\tLoss: 2.09e-04\tError: 1.35e-02\tStd dev: 2.27e-02\tResample: 4\n",
        "Chose theta = [   3.8284438   270.            0.70643543]."
       ]
      },
      {
       "output_type": "stream",
       "stream": "stdout",
       "text": [
        "\tLoss: 1.88e-04\tError: 1.27e-02\tStd dev: 2.26e-02\tResample: 4\n",
        "Chose theta = [   3.19448252  270.            0.62550804]."
       ]
      },
      {
       "output_type": "stream",
       "stream": "stdout",
       "text": [
        "\tLoss: 1.80e-04\tError: 1.24e-02\tStd dev: 2.25e-02\tResample: 4\n",
        "Chose theta = [   3.06848755  293.15          0.7       ]."
       ]
      },
      {
       "output_type": "stream",
       "stream": "stdout",
       "text": [
        "\tLoss: 2.09e-04\tError: 1.36e-02\tStd dev: 2.25e-02\tResample: 4\n",
        "Chose theta = [   3.0780622  293.15         0.7      ]."
       ]
      },
      {
       "output_type": "stream",
       "stream": "stdout",
       "text": [
        "\tLoss: 2.39e-04\tError: 1.47e-02\tStd dev: 2.24e-02\tResample: 4\n",
        "Chose theta = [   1.23976157  310.            0.70581784]."
       ]
      },
      {
       "output_type": "stream",
       "stream": "stdout",
       "text": [
        "\tLoss: 1.88e-04\tError: 1.28e-02\tStd dev: 2.24e-02\tResample: 4\n",
        "Chose theta = [   3.07313741  293.15          0.7       ]."
       ]
      },
      {
       "output_type": "stream",
       "stream": "stdout",
       "text": [
        "\tLoss: 1.64e-04\tError: 1.18e-02\tStd dev: 2.23e-02\tResample: 4\n",
        "Chose theta = [   1.52264751  293.15          0.7       ]."
       ]
      },
      {
       "output_type": "stream",
       "stream": "stdout",
       "text": [
        "\tLoss: 1.59e-04\tError: 1.16e-02\tStd dev: 2.23e-02\tResample: 4\n",
        "Chose theta = [   1.45753906  293.15          0.7       ]."
       ]
      },
      {
       "output_type": "stream",
       "stream": "stdout",
       "text": [
        "\tLoss: 1.01e-04\tError: 8.87e-03\tStd dev: 2.22e-02\tResample: 4\n",
        "Chose theta = [   1.33031493  270.            0.62440083]."
       ]
      },
      {
       "output_type": "stream",
       "stream": "stdout",
       "text": [
        "\tLoss: 1.04e-04\tError: 9.01e-03\tStd dev: 2.22e-02\tResample: 4\n",
        "Chose theta = [   1.46904912  293.15          0.7       ]."
       ]
      },
      {
       "output_type": "stream",
       "stream": "stdout",
       "text": [
        "\tLoss: 5.97e-05\tError: 6.22e-03\tStd dev: 2.21e-02\tResample: 4\n",
        "Chose theta = [   1.47354049  293.15          0.7       ]."
       ]
      },
      {
       "output_type": "stream",
       "stream": "stdout",
       "text": [
        "\tLoss: 4.54e-05\tError: 5.00e-03\tStd dev: 2.20e-02\tResample: 4\n",
        "Chose theta = [   1.48490657  293.15          0.7       ]."
       ]
      },
      {
       "output_type": "stream",
       "stream": "stdout",
       "text": [
        "\tLoss: 6.05e-05\tError: 6.28e-03\tStd dev: 2.20e-02\tResample: 4\n",
        "Chose theta = [   1.4755969  293.15         0.7      ]."
       ]
      },
      {
       "output_type": "stream",
       "stream": "stdout",
       "text": [
        "\tLoss: 7.22e-05\tError: 7.12e-03\tStd dev: 2.19e-02\tResample: 4\n",
        "Chose theta = [   3.13743266  270.            0.60764507]."
       ]
      },
      {
       "output_type": "stream",
       "stream": "stdout",
       "text": [
        "\tLoss: 1.24e-04\tError: 1.02e-02\tStd dev: 2.18e-02\tResample: 4\n",
        "Chose theta = [   1.4988059  293.15         0.7      ]."
       ]
      },
      {
       "output_type": "stream",
       "stream": "stdout",
       "text": [
        "\tLoss: 1.49e-04\tError: 1.13e-02\tStd dev: 2.17e-02\tResample: 4\n",
        "Chose theta = [   4.59268948  293.15          0.7       ]."
       ]
      },
      {
       "output_type": "stream",
       "stream": "stdout",
       "text": [
        "\tLoss: 1.69e-04\tError: 1.22e-02\tStd dev: 2.18e-02\tResample: 4\n",
        "Chose theta = [   1.33284013  270.            0.92452815]."
       ]
      },
      {
       "output_type": "stream",
       "stream": "stdout",
       "text": [
        "\tLoss: 9.32e-05\tError: 8.65e-03\tStd dev: 2.17e-02\tResample: 4\n",
        "Chose theta = [   1.46890915  293.15          0.7       ]."
       ]
      },
      {
       "output_type": "stream",
       "stream": "stdout",
       "text": [
        "\tLoss: 4.18e-05\tError: 4.99e-03\tStd dev: 2.17e-02\tResample: 4\n",
        "Chose theta = [   1.49109682  293.15          0.7       ]."
       ]
      },
      {
       "output_type": "stream",
       "stream": "stdout",
       "text": [
        "\tLoss: 4.97e-05\tError: 5.71e-03\tStd dev: 2.16e-02\tResample: 4\n",
        "Chose theta = [   1.48267451  293.15          0.7       ]."
       ]
      },
      {
       "output_type": "stream",
       "stream": "stdout",
       "text": [
        "\tLoss: 5.95e-05\tError: 6.48e-03\tStd dev: 2.16e-02\tResample: 4\n",
        "Chose theta = [   1.48759269  293.15          0.7       ]."
       ]
      },
      {
       "output_type": "stream",
       "stream": "stdout",
       "text": [
        "\tLoss: 1.22e-04\tError: 1.01e-02\tStd dev: 2.15e-02\tResample: 4\n",
        "Chose theta = [   1.45117032  293.15          0.7       ]."
       ]
      },
      {
       "output_type": "stream",
       "stream": "stdout",
       "text": [
        "\tLoss: 1.03e-04\tError: 9.20e-03\tStd dev: 2.14e-02\tResample: 4\n",
        "Chose theta = [   1.50985247  293.15          0.7       ]."
       ]
      },
      {
       "output_type": "stream",
       "stream": "stdout",
       "text": [
        "\tLoss: 1.66e-04\tError: 1.21e-02\tStd dev: 2.14e-02\tResample: 4\n",
        "Chose theta = [   1.4830418  293.15         0.7      ]."
       ]
      },
      {
       "output_type": "stream",
       "stream": "stdout",
       "text": [
        "\tLoss: 1.37e-04\tError: 1.08e-02\tStd dev: 2.13e-02\tResample: 4\n",
        "Chose theta = [   3.33975699  310.            0.75504545]."
       ]
      },
      {
       "output_type": "stream",
       "stream": "stdout",
       "text": [
        "\tLoss: 1.57e-04\tError: 1.17e-02\tStd dev: 2.13e-02\tResample: 4\n",
        "Chose theta = [   3.06134785  293.15          0.7       ]."
       ]
      },
      {
       "output_type": "stream",
       "stream": "stdout",
       "text": [
        "\tLoss: 1.57e-04\tError: 1.17e-02\tStd dev: 2.12e-02\tResample: 4\n",
        "Chose theta = [   1.45947085  293.15          0.7       ]."
       ]
      },
      {
       "output_type": "stream",
       "stream": "stdout",
       "text": [
        "\tLoss: 1.92e-04\tError: 1.31e-02\tStd dev: 2.12e-02\tResample: 4\n",
        "Chose theta = [   1.4466754  293.15         0.7      ]."
       ]
      },
      {
       "output_type": "stream",
       "stream": "stdout",
       "text": [
        "\tLoss: 2.47e-04\tError: 1.50e-02\tStd dev: 2.11e-02\tResample: 4\n",
        "Chose theta = [   1.29311212  310.            0.68590045]."
       ]
      },
      {
       "output_type": "stream",
       "stream": "stdout",
       "text": [
        "\tLoss: 1.65e-04\tError: 1.21e-02\tStd dev: 2.11e-02\tResample: 4\n",
        "Chose theta = [   1.49089748  293.15          0.7       ]."
       ]
      },
      {
       "output_type": "stream",
       "stream": "stdout",
       "text": [
        "\tLoss: 1.69e-04\tError: 1.22e-02\tStd dev: 2.10e-02\tResample: 4\n",
        "Chose theta = [   3.07103813  270.            0.59923987]."
       ]
      },
      {
       "output_type": "stream",
       "stream": "stdout",
       "text": [
        "\tLoss: 1.90e-04\tError: 1.30e-02\tStd dev: 2.10e-02\tResample: 4\n",
        "Chose theta = [   3.07649509  293.15          0.7       ]."
       ]
      },
      {
       "output_type": "stream",
       "stream": "stdout",
       "text": [
        "\tLoss: 1.89e-04\tError: 1.30e-02\tStd dev: 2.09e-02\tResample: 4\n",
        "Chose theta = [   1.45287817  293.15          0.7       ]."
       ]
      },
      {
       "output_type": "stream",
       "stream": "stdout",
       "text": [
        "\tLoss: 2.01e-04\tError: 1.34e-02\tStd dev: 2.09e-02\tResample: 4\n",
        "Chose theta = [   1.46728479  293.15          0.7       ]."
       ]
      },
      {
       "output_type": "stream",
       "stream": "stdout",
       "text": [
        "\tLoss: 2.37e-04\tError: 1.47e-02\tStd dev: 2.08e-02\tResample: 4\n",
        "Chose theta = [   1.04236137  310.            0.63150034]."
       ]
      },
      {
       "output_type": "stream",
       "stream": "stdout",
       "text": [
        "\tLoss: 2.58e-04\tError: 1.54e-02\tStd dev: 2.08e-02\tResample: 4\n",
        "Chose theta = [   0.80570846  270.            0.85196229]."
       ]
      },
      {
       "output_type": "stream",
       "stream": "stdout",
       "text": [
        "\tLoss: 3.49e-04\tError: 1.81e-02\tStd dev: 2.06e-02\tResample: 4\n",
        "Chose theta = [   1.4551511  293.15         0.7      ]."
       ]
      },
      {
       "output_type": "stream",
       "stream": "stdout",
       "text": [
        "\tLoss: 4.88e-04\tError: 2.16e-02\tStd dev: 2.06e-02\tResample: 4\n",
        "Chose theta = [   1.45440382  293.15          0.7       ]."
       ]
      },
      {
       "output_type": "stream",
       "stream": "stdout",
       "text": [
        "\tLoss: 4.66e-04\tError: 2.10e-02\tStd dev: 2.05e-02\tResample: 4\n",
        "Chose theta = [   1.44128122  293.15          0.7       ]."
       ]
      },
      {
       "output_type": "stream",
       "stream": "stdout",
       "text": [
        "\tLoss: 4.68e-04\tError: 2.11e-02\tStd dev: 2.05e-02\tResample: 4\n",
        "Chose theta = [   3.06122752  293.15          0.7       ]."
       ]
      },
      {
       "output_type": "stream",
       "stream": "stdout",
       "text": [
        "\tLoss: 5.38e-04\tError: 2.26e-02\tStd dev: 2.03e-02\tResample: 4\n",
        "Chose theta = [   3.93619189  270.            0.68889824]."
       ]
      },
      {
       "output_type": "stream",
       "stream": "stdout",
       "text": [
        "\tLoss: 6.60e-04\tError: 2.52e-02\tStd dev: 2.03e-02\tResample: 4\n",
        "Chose theta = [   1.43867086  293.15          0.7       ]."
       ]
      },
      {
       "output_type": "stream",
       "stream": "stdout",
       "text": [
        "\tLoss: 6.40e-04\tError: 2.48e-02\tStd dev: 2.03e-02\tResample: 4\n",
        "Chose theta = [   1.46185296  293.15          0.7       ]."
       ]
      },
      {
       "output_type": "stream",
       "stream": "stdout",
       "text": [
        "\tLoss: 5.91e-04\tError: 2.38e-02\tStd dev: 2.02e-02\tResample: 4\n",
        "Chose theta = [   1.44166241  293.15          0.7       ]."
       ]
      },
      {
       "output_type": "stream",
       "stream": "stdout",
       "text": [
        "\tLoss: 5.52e-04\tError: 2.30e-02\tStd dev: 2.02e-02\tResample: 4\n",
        "Chose theta = [   1.46896618  293.15          0.7       ]."
       ]
      },
      {
       "output_type": "stream",
       "stream": "stdout",
       "text": [
        "\tLoss: 5.25e-04\tError: 2.24e-02\tStd dev: 2.02e-02\tResample: 4\n",
        "Chose theta = [   1.44060689  293.15          0.7       ]."
       ]
      },
      {
       "output_type": "stream",
       "stream": "stdout",
       "text": [
        "\tLoss: 5.08e-04\tError: 2.20e-02\tStd dev: 2.01e-02\tResample: 4\n",
        "Chose theta = [   3.05499413  293.15          0.7       ]."
       ]
      },
      {
       "output_type": "stream",
       "stream": "stdout",
       "text": [
        "\tLoss: 4.73e-04\tError: 2.12e-02\tStd dev: 2.02e-02\tResample: 4\n",
        "Chose theta = [   1.47317641  293.15          0.7       ]."
       ]
      },
      {
       "output_type": "stream",
       "stream": "stdout",
       "text": [
        "\tLoss: 4.83e-04\tError: 2.14e-02\tStd dev: 2.01e-02\tResample: 4\n",
        "Chose theta = [   3.14278715  310.            0.73728519]."
       ]
      },
      {
       "output_type": "stream",
       "stream": "stdout",
       "text": [
        "\tLoss: 4.73e-04\tError: 2.12e-02\tStd dev: 2.01e-02\tResample: 4\n",
        "Chose theta = [   1.47018935  293.15          0.7       ]."
       ]
      },
      {
       "output_type": "stream",
       "stream": "stdout",
       "text": [
        "\tLoss: 5.77e-04\tError: 2.35e-02\tStd dev: 2.00e-02\tResample: 4\n",
        "Chose theta = [   3.05545462  293.15          0.7       ]."
       ]
      },
      {
       "output_type": "stream",
       "stream": "stdout",
       "text": [
        "\tLoss: 5.75e-04\tError: 2.35e-02\tStd dev: 2.00e-02\tResample: 4\n",
        "Chose theta = [   4.61348713  293.15          0.7       ]."
       ]
      },
      {
       "output_type": "stream",
       "stream": "stdout",
       "text": [
        "\tLoss: 6.26e-04\tError: 2.45e-02\tStd dev: 2.01e-02\tResample: 4\n",
        "Chose theta = [   1.12648477  310.            0.65619686]."
       ]
      },
      {
       "output_type": "stream",
       "stream": "stdout",
       "text": [
        "\tLoss: 6.21e-04\tError: 2.44e-02\tStd dev: 2.00e-02\tResample: 4\n",
        "Chose theta = [   1.44806945  293.15          0.7       ]."
       ]
      },
      {
       "output_type": "stream",
       "stream": "stdout",
       "text": [
        "\tLoss: 6.39e-04\tError: 2.48e-02\tStd dev: 2.00e-02\tResample: 4\n",
        "Chose theta = [   1.46892526  293.15          0.7       ]."
       ]
      },
      {
       "output_type": "stream",
       "stream": "stdout",
       "text": [
        "\tLoss: 7.13e-04\tError: 2.62e-02\tStd dev: 1.99e-02\tResample: 4\n",
        "Chose theta = [   1.44758073  293.15          0.7       ]."
       ]
      },
      {
       "output_type": "stream",
       "stream": "stdout",
       "text": [
        "\tLoss: 7.53e-04\tError: 2.70e-02\tStd dev: 1.99e-02\tResample: 4\n",
        "Chose theta = [   3.06851017  293.15          0.7       ]."
       ]
      },
      {
       "output_type": "stream",
       "stream": "stdout",
       "text": [
        "\tLoss: 7.50e-04\tError: 2.69e-02\tStd dev: 1.98e-02\tResample: 4\n",
        "Chose theta = [   1.46129212  293.15          0.7       ]."
       ]
      },
      {
       "output_type": "stream",
       "stream": "stdout",
       "text": [
        "\tLoss: 7.00e-04\tError: 2.60e-02\tStd dev: 1.98e-02\tResample: 4\n",
        "Chose theta = [   3.39739294  310.            0.62709368]."
       ]
      },
      {
       "output_type": "stream",
       "stream": "stdout",
       "text": [
        "\tLoss: 7.52e-04\tError: 2.70e-02\tStd dev: 1.97e-02\tResample: 4\n",
        "Chose theta = [   1.43588595  293.15          0.7       ]."
       ]
      },
      {
       "output_type": "stream",
       "stream": "stdout",
       "text": [
        "\tLoss: 6.31e-04\tError: 2.46e-02\tStd dev: 1.97e-02\tResample: 4\n",
        "Chose theta = [   6.28318531  294.91263566    0.693894  ]."
       ]
      },
      {
       "output_type": "stream",
       "stream": "stdout",
       "text": [
        "\tLoss: 6.42e-04\tError: 2.48e-02\tStd dev: 1.97e-02\tResample: 4\n",
        "Chose theta = [   4.14820567  270.            0.72854221]."
       ]
      },
      {
       "output_type": "stream",
       "stream": "stdout",
       "text": [
        "\tLoss: 6.72e-04\tError: 2.54e-02\tStd dev: 1.97e-02\tResample: 4\n",
        "Chose theta = [   1.45110741  293.15          0.7       ]."
       ]
      },
      {
       "output_type": "stream",
       "stream": "stdout",
       "text": [
        "\tLoss: 7.10e-04\tError: 2.61e-02\tStd dev: 1.96e-02\tResample: 4\n",
        "Chose theta = [   1.47256708  293.15          0.7       ]."
       ]
      },
      {
       "output_type": "stream",
       "stream": "stdout",
       "text": [
        "\tLoss: 7.19e-04\tError: 2.63e-02\tStd dev: 1.96e-02\tResample: 4\n",
        "Chose theta = [   1.41940006  293.15          0.7       ]."
       ]
      },
      {
       "output_type": "stream",
       "stream": "stdout",
       "text": [
        "\tLoss: 6.47e-04\tError: 2.49e-02\tStd dev: 1.96e-02\tResample: 4\n",
        "Chose theta = [   1.48578492  293.15          0.7       ]."
       ]
      },
      {
       "output_type": "stream",
       "stream": "stdout",
       "text": [
        "\tLoss: 5.06e-04\tError: 2.19e-02\tStd dev: 1.96e-02\tResample: 4\n",
        "Chose theta = [   4.60728348  293.15          0.7       ]."
       ]
      },
      {
       "output_type": "stream",
       "stream": "stdout",
       "text": [
        "\tLoss: 4.65e-04\tError: 2.10e-02\tStd dev: 1.95e-02\tResample: 4\n",
        "Chose theta = [   3.06930914  293.15          0.7       ]."
       ]
      },
      {
       "output_type": "stream",
       "stream": "stdout",
       "text": [
        "\tLoss: 5.74e-04\tError: 2.33e-02\tStd dev: 1.93e-02\tResample: 4\n",
        "Chose theta = [   4.61877288  293.15          0.7       ]."
       ]
      },
      {
       "output_type": "stream",
       "stream": "stdout",
       "text": [
        "\tLoss: 6.01e-04\tError: 2.39e-02\tStd dev: 1.93e-02\tResample: 4\n",
        "Chose theta = [   1.03296615  310.            0.75859294]."
       ]
      },
      {
       "output_type": "stream",
       "stream": "stdout",
       "text": [
        "\tLoss: 6.09e-04\tError: 2.41e-02\tStd dev: 1.92e-02\tResample: 4\n",
        "Chose theta = [   1.46792743  293.15          0.7       ]."
       ]
      },
      {
       "output_type": "stream",
       "stream": "stdout",
       "text": [
        "\tLoss: 6.40e-04\tError: 2.47e-02\tStd dev: 1.92e-02\tResample: 4\n",
        "Chose theta = [   1.46374305  293.15          0.7       ]."
       ]
      },
      {
       "output_type": "stream",
       "stream": "stdout",
       "text": [
        "\tLoss: 6.34e-04\tError: 2.46e-02\tStd dev: 1.92e-02\tResample: 4\n",
        "Chose theta = [   1.46183877  293.15          0.7       ]."
       ]
      },
      {
       "output_type": "stream",
       "stream": "stdout",
       "text": [
        "\tLoss: 5.40e-04\tError: 2.26e-02\tStd dev: 1.92e-02\tResample: 4\n",
        "Chose theta = [   1.44672082  293.15          0.7       ]."
       ]
      },
      {
       "output_type": "stream",
       "stream": "stdout",
       "text": [
        "\tLoss: 5.58e-04\tError: 2.30e-02\tStd dev: 1.91e-02\tResample: 4\n",
        "Chose theta = [   1.49110837  293.15          0.7       ]."
       ]
      },
      {
       "output_type": "stream",
       "stream": "stdout",
       "text": [
        "\tLoss: 5.79e-04\tError: 2.34e-02\tStd dev: 1.91e-02\tResample: 4\n",
        "Chose theta = [   4.6122307  293.15         0.7      ]."
       ]
      },
      {
       "output_type": "stream",
       "stream": "stdout",
       "text": [
        "\tLoss: 5.83e-04\tError: 2.35e-02\tStd dev: 1.91e-02\tResample: 4\n",
        "Chose theta = [   4.61816289  293.15          0.7       ]."
       ]
      },
      {
       "output_type": "stream",
       "stream": "stdout",
       "text": [
        "\tLoss: 6.43e-04\tError: 2.47e-02\tStd dev: 1.91e-02\tResample: 5"
       ]
      },
      {
       "output_type": "stream",
       "stream": "stdout",
       "text": [
        "\n",
        "Chose theta = [   6.17892229  293.15          0.7       ]."
       ]
      },
      {
       "output_type": "stream",
       "stream": "stdout",
       "text": [
        "\tLoss: 6.39e-04\tError: 2.47e-02\tStd dev: 1.91e-02\tResample: 5\n",
        "Chose theta = [   6.28318531  274.41672133    0.42656232]."
       ]
      },
      {
       "output_type": "stream",
       "stream": "stdout",
       "text": [
        "\tLoss: 6.08e-04\tError: 2.41e-02\tStd dev: 1.92e-02\tResample: 5\n",
        "Chose theta = [   6.28318531  293.13950884    0.70105153]."
       ]
      },
      {
       "output_type": "stream",
       "stream": "stdout",
       "text": [
        "\tLoss: 6.59e-04\tError: 2.50e-02\tStd dev: 1.90e-02\tResample: 5\n",
        "Chose theta = [   6.28318531  291.07590601    0.70064751]."
       ]
      },
      {
       "output_type": "stream",
       "stream": "stdout",
       "text": [
        "\tLoss: 7.09e-04\tError: 2.59e-02\tStd dev: 1.89e-02\tResample: 5\n",
        "Chose theta = [   6.28318531  280.69809093    0.69290303]."
       ]
      },
      {
       "output_type": "stream",
       "stream": "stdout",
       "text": [
        "\tLoss: 6.37e-04\tError: 2.46e-02\tStd dev: 1.90e-02\tResample: 5\n",
        "Chose theta = [   6.28318531  292.91806895    0.70168984]."
       ]
      },
      {
       "output_type": "stream",
       "stream": "stdout",
       "text": [
        "\tLoss: 6.08e-04\tError: 2.41e-02\tStd dev: 1.91e-02\tResample: 5\n",
        "Chose theta = [   6.28318531  293.40330921    0.70004005]."
       ]
      },
      {
       "output_type": "stream",
       "stream": "stdout",
       "text": [
        "\tLoss: 5.80e-04\tError: 2.36e-02\tStd dev: 1.91e-02\tResample: 5\n",
        "Chose theta = [   6.28318531  290.85778015    0.70513138]."
       ]
      },
      {
       "output_type": "stream",
       "stream": "stdout",
       "text": [
        "\tLoss: 6.64e-04\tError: 2.51e-02\tStd dev: 1.89e-02\tResample: 5\n",
        "Chose theta = [   6.28318531  277.36809108    0.73049951]."
       ]
      },
      {
       "output_type": "stream",
       "stream": "stdout",
       "text": [
        "\tLoss: 6.73e-04\tError: 2.53e-02\tStd dev: 1.89e-02\tResample: 5\n",
        "Chose theta = [   6.28318531  309.61247565    0.74567315]."
       ]
      },
      {
       "output_type": "stream",
       "stream": "stdout",
       "text": [
        "\tLoss: 7.18e-04\tError: 2.61e-02\tStd dev: 1.88e-02\tResample: 5\n",
        "Chose theta = [   6.28318531  292.79532812    0.69982143]."
       ]
      },
      {
       "output_type": "stream",
       "stream": "stdout",
       "text": [
        "\tLoss: 7.26e-04\tError: 2.62e-02\tStd dev: 1.88e-02\tResample: 5\n",
        "Chose theta = [   6.28318531  287.37528203    0.70539143]."
       ]
      },
      {
       "output_type": "stream",
       "stream": "stdout",
       "text": [
        "\tLoss: 7.33e-04\tError: 2.63e-02\tStd dev: 1.87e-02\tResample: 5\n",
        "Chose theta = [   1.4478671  293.15         0.7      ]."
       ]
      },
      {
       "output_type": "stream",
       "stream": "stdout",
       "text": [
        "\tLoss: 7.95e-04\tError: 2.75e-02\tStd dev: 1.87e-02\tResample: 5\n",
        "Chose theta = [   1.44634953  293.15          0.7       ]."
       ]
      },
      {
       "output_type": "stream",
       "stream": "stdout",
       "text": [
        "\tLoss: 7.75e-04\tError: 2.71e-02\tStd dev: 1.86e-02\tResample: 5\n",
        "Chose theta = [   6.28318531  285.70179515    0.67882733]."
       ]
      },
      {
       "output_type": "stream",
       "stream": "stdout",
       "text": [
        "\tLoss: 7.82e-04\tError: 2.72e-02\tStd dev: 1.86e-02\tResample: 5\n",
        "Chose theta = [   1.45383245  293.15          0.7       ]."
       ]
      },
      {
       "output_type": "stream",
       "stream": "stdout",
       "text": [
        "\tLoss: 8.42e-04\tError: 2.83e-02\tStd dev: 1.85e-02\tResample: 5\n",
        "Chose theta = [   1.44622527  293.15          0.7       ]."
       ]
      },
      {
       "output_type": "stream",
       "stream": "stdout",
       "text": [
        "\tLoss: 8.21e-04\tError: 2.79e-02\tStd dev: 1.85e-02\tResample: 5\n",
        "Chose theta = [   6.28318531  294.33831579    0.70942408]."
       ]
      },
      {
       "output_type": "stream",
       "stream": "stdout",
       "text": [
        "\tLoss: 7.91e-04\tError: 2.74e-02\tStd dev: 1.86e-02\tResample: 5\n",
        "Chose theta = [   6.28318531  286.07782955    0.63512209]."
       ]
      },
      {
       "output_type": "stream",
       "stream": "stdout",
       "text": [
        "\tLoss: 7.98e-04\tError: 2.75e-02\tStd dev: 1.85e-02\tResample: 5\n",
        "Chose theta = [   6.18053582  293.15          0.7       ]."
       ]
      },
      {
       "output_type": "stream",
       "stream": "stdout",
       "text": [
        "\tLoss: 7.15e-04\tError: 2.61e-02\tStd dev: 1.86e-02\tResample: 5\n",
        "Chose theta = [   6.18033359  293.15          0.7       ]."
       ]
      },
      {
       "output_type": "stream",
       "stream": "stdout",
       "text": [
        "\tLoss: 6.73e-04\tError: 2.54e-02\tStd dev: 1.87e-02\tResample: 5\n",
        "Chose theta = [   6.28318531  291.53545406    0.70217782]."
       ]
      },
      {
       "output_type": "stream",
       "stream": "stdout",
       "text": [
        "\tLoss: 6.15e-04\tError: 2.43e-02\tStd dev: 1.87e-02\tResample: 5\n",
        "Chose theta = [   6.28318531  295.74787088    0.69655214]."
       ]
      },
      {
       "output_type": "stream",
       "stream": "stdout",
       "text": [
        "\tLoss: 5.29e-04\tError: 2.27e-02\tStd dev: 1.88e-02\tResample: 5\n",
        "Chose theta = [   6.28318531  292.81415273    0.6984943 ]."
       ]
      },
      {
       "output_type": "stream",
       "stream": "stdout",
       "text": [
        "\tLoss: 4.79e-04\tError: 2.16e-02\tStd dev: 1.89e-02\tResample: 5\n",
        "Chose theta = [   6.28318531  286.9779508     0.63289703]."
       ]
      },
      {
       "output_type": "stream",
       "stream": "stdout",
       "text": [
        "\tLoss: 5.17e-04\tError: 2.24e-02\tStd dev: 1.88e-02\tResample: 5\n",
        "Chose theta = [   6.28318531  291.84902545    0.70024117]."
       ]
      },
      {
       "output_type": "stream",
       "stream": "stdout",
       "text": [
        "\tLoss: 4.70e-04\tError: 2.14e-02\tStd dev: 1.88e-02\tResample: 5\n",
        "Chose theta = [   1.4455225  293.15         0.7      ]."
       ]
      },
      {
       "output_type": "stream",
       "stream": "stdout",
       "text": [
        "\tLoss: 4.86e-04\tError: 2.18e-02\tStd dev: 1.88e-02\tResample: 5\n",
        "Chose theta = [   1.44292397  293.15          0.7       ]."
       ]
      },
      {
       "output_type": "stream",
       "stream": "stdout",
       "text": [
        "\tLoss: 4.09e-04\tError: 1.99e-02\tStd dev: 1.88e-02\tResample: 5\n",
        "Chose theta = [   1.50492155  293.15          0.7       ]."
       ]
      },
      {
       "output_type": "stream",
       "stream": "stdout",
       "text": [
        "\tLoss: 3.94e-04\tError: 1.95e-02\tStd dev: 1.87e-02\tResample: 5\n",
        "0.9 \u00b1 0.00514\t"
       ]
      },
      {
       "output_type": "stream",
       "stream": "stdout",
       "text": [
        " 0.00337 \u00b1 0.0033\t 0.104 \u00b1 0.0187\t 1.02 \u00b1 0.00523\t -1.02 \u00b1 0.0057\t\n",
        "[ 0.9        0.         0.0844303  1.02     ]\n"
       ]
      },
      {
       "metadata": {},
       "output_type": "display_data",
       "png": "[encoded data removed]",
       "text": [
        "<matplotlib.figure.Figure at 0x66a2990>"
       ]
      }
     ],
     "prompt_number": 108
    },
    {
     "cell_type": "code",
     "collapsed": false,
     "input": [
      "plot_kernel_smoothed_pdf(updater_adaptive)"
     ],
     "language": "python",
     "metadata": {},
     "outputs": []
    },
    {
     "cell_type": "code",
     "collapsed": false,
     "input": [
      "plot_kernel_smoothed_pdf(updater_adaptive, param=3)"
     ],
     "language": "python",
     "metadata": {},
     "outputs": []
    },
    {
     "cell_type": "code",
     "collapsed": false,
     "input": [
      "plot(this_error_hist)"
     ],
     "language": "python",
     "metadata": {},
     "outputs": []
    },
    {
     "cell_type": "code",
     "collapsed": false,
     "input": [
      "error_hist = np.zeros((100, 500 + warmup_thetas.size))\n",
      "for idx_run in xrange(100):\n",
      "    print(\"Run {}...\".format(idx_run))\n",
      "    f_post, this_error_hist, updater_adaptive, best_thetas = do_adaptive(n_thetas=500, n_guesses=3, warmup_thetas=warmup_thetas, n_neutrons=40, n_warmup_neutrons=1000, quiet=True)\n",
      "    error_hist[idx_run, :] = this_error_hist"
     ],
     "language": "python",
     "metadata": {},
     "outputs": []
    },
    {
     "cell_type": "code",
     "collapsed": false,
     "input": [
      "xs = arange(error_hist.shape[1]) + 1\n",
      "ns = np.concatenate([1000 * arange(1, 1 + len(warmup_thetas)), 1000 * len(warmup_thetas) + 40 * arange(1, 501)])\n",
      "figure(figsize=(12,6))\n",
      "xlim(xmax=max(xs))\n",
      "plot(xs, np.mean(error_hist, axis=0), label='Mean error of adaptive algo.')\n",
      "plot(xs, 1/sqrt(ns), 'k--', label='CRB for perfect contrast')\n",
      "legend()\n",
      "title('Performance over 100 runs of adaptive algorithm')\n",
      "xlabel('Experiment index', size=14)\n",
      "ylabel(r'Error in $\\phi$', size=14);"
     ],
     "language": "python",
     "metadata": {},
     "outputs": []
    },
    {
     "cell_type": "code",
     "collapsed": false,
     "input": [
      "plot_kernel_smoothed_pdf(updater_adaptive, param=2, show_true=False)\n"
     ],
     "language": "python",
     "metadata": {},
     "outputs": []
    },
    {
     "cell_type": "code",
     "collapsed": false,
     "input": [
      "plot_kernel_smoothed_pdf(updater_adaptive, param=3, show_true=False)\n"
     ],
     "language": "python",
     "metadata": {},
     "outputs": []
    },
    {
     "cell_type": "code",
     "collapsed": false,
     "input": [
      "title("
     ],
     "language": "python",
     "metadata": {},
     "outputs": []
    }
   ],
   "metadata": {}
  }
 ]
}