{
 "metadata": {
  "name": ""
 },
 "nbformat": 3,
 "nbformat_minor": 0,
 "worksheets": [
  {
   "cells": [
    {
     "cell_type": "heading",
     "level": 1,
     "metadata": {},
     "source": [
      "Adaptive Neutron Interferometry"
     ]
    },
    {
     "cell_type": "heading",
     "level": 2,
     "metadata": {},
     "source": [
      "Preamble"
     ]
    },
    {
     "cell_type": "code",
     "collapsed": false,
     "input": [
      "from __future__ import division, print_function"
     ],
     "language": "python",
     "metadata": {},
     "outputs": [],
     "prompt_number": 2
    },
    {
     "cell_type": "code",
     "collapsed": false,
     "input": [
      "%pylab inline"
     ],
     "language": "python",
     "metadata": {},
     "outputs": [
      {
       "output_type": "stream",
       "stream": "stdout",
       "text": [
        "Populating the interactive namespace from numpy and matplotlib\n"
       ]
      }
     ],
     "prompt_number": 3
    },
    {
     "cell_type": "code",
     "collapsed": false,
     "input": [
      "from qinfer import smc, abstract_model, derived_models, distributions, expdesign, resamplers\n",
      "from scipy.optimize import minimize, curve_fit\n",
      "import scipy.stats"
     ],
     "language": "python",
     "metadata": {},
     "outputs": [
      {
       "output_type": "stream",
       "stream": "stderr",
       "text": [
        "/home/thomas/Envs/default/local/lib/python2.7/site-packages/qinfer/metrics.py:50: UserWarning: Could not import scikit-learn. Some features may not work.\n",
        "  warnings.warn(\"Could not import scikit-learn. Some features may not work.\")\n"
       ]
      }
     ],
     "prompt_number": 4
    },
    {
     "cell_type": "heading",
     "level": 2,
     "metadata": {},
     "source": [
      "Constants"
     ]
    },
    {
     "cell_type": "code",
     "collapsed": false,
     "input": [
      "TWO_PI = np.pi * 2"
     ],
     "language": "python",
     "metadata": {},
     "outputs": [],
     "prompt_number": 5
    },
    {
     "cell_type": "heading",
     "level": 2,
     "metadata": {},
     "source": [
      "Inference Models"
     ]
    },
    {
     "cell_type": "markdown",
     "metadata": {},
     "source": [
      "We start with a model that will be used for performing inference, $\\Pr(O | A, b, \\phi, \\lambda; \\theta) = (\\frac{1}{2} + b) + \\frac{A}{2} \\cos(\\lambda \\theta + \\phi)$.\n",
      "This model will then be used to adaptively learn the value of $\\vec{x} = (A, b, \\phi, \\lambda)$."
     ]
    },
    {
     "cell_type": "code",
     "collapsed": false,
     "input": [
      "class SingleNeutronModel(abstract_model.Model):    \n",
      "    ## PROPERTIES ##\n",
      "    @property\n",
      "    def n_modelparams(self):\n",
      "        return 4 # A, b, \\phi, \\lambda\n",
      "    @property\n",
      "    def expparams_dtype(self):\n",
      "        return [('theta', 'float')]\n",
      "    @property\n",
      "    def is_n_outcomes_constant(self):\n",
      "        return True\n",
      "    @property\n",
      "    def Q(self):\n",
      "        return np.array([1, 1, 1, 1]) # Prioritize phi over the others.\n",
      "    ## METHODS ##    \n",
      "    @staticmethod\n",
      "    def are_models_valid(modelparams):\n",
      "        A, b, phi, lambda_ = modelparams.T\n",
      "        abs_b = np.abs(b)\n",
      "        return np.all([\n",
      "            A > 0,\n",
      "            A <= 1 - 2 * abs_b,\n",
      "            abs_b <= 0.5,\n",
      "            phi >= 0,\n",
      "            phi <= np.pi / 2,\n",
      "            lambda_ >= 0\n",
      "        ], axis=0)\n",
      "    def n_outcomes(self, expparams):\n",
      "        return 2    \n",
      "    def likelihood(self, outcomes, modelparams, expparams):\n",
      "        # By calling the superclass implementation, we can consolidate\n",
      "        # call counting there.\n",
      "        super(SingleNeutronModel, self).likelihood(outcomes, modelparams, expparams)\n",
      "                    \n",
      "        # Extract each model parameter under its own name.\n",
      "        A, b, phi, lambda_ = modelparams.T[..., np.newaxis]\n",
      "        theta = expparams['theta'][np.newaxis, :]\n",
      "        \n",
      "        pr0 = (0.5 + b) + (0.5 * A * np.cos(lambda_ * theta + phi))\n",
      "                \n",
      "        # Now we concatenate over outcomes.\n",
      "        return abstract_model.Model.pr0_to_likelihood_array(outcomes, pr0)"
     ],
     "language": "python",
     "metadata": {},
     "outputs": [],
     "prompt_number": 6
    },
    {
     "cell_type": "markdown",
     "metadata": {},
     "source": [
      "We start with a model that will be used for performing inference, $$P(0|A,b,\\Delta\\phi,C,\\alpha';\\delta,\\hat{\\Phi},\\hat{T})= \\int \\limits_\\Phi \\int \\limits_T \\left[(\\frac{1}{2}+b)+\\frac{A}{2}cos\\left(\\Delta\\phi + C\\delta + \\frac{\\alpha' \\Phi\\delta}{T}\\times 10^{h_A - \\frac{h_B}{h_C - T}}\\right)\\right]P(T|\\hat{T})P(\\Phi|\\hat{\\Phi})dTd\\Phi$$\n",
      " This model will learn $\\vec{x} = (A,b,\\Delta\\phi,C,\\alpha')$                                                                                                                                         "
     ]
    },
    {
     "cell_type": "code",
     "collapsed": false,
     "input": [
      "class SingleNeutronModelEx(abstract_model.Model): \n",
      "    def __init__(self):\n",
      "        self.h_A=6.20963\n",
      "        self.h_B=2354.731 \n",
      "        self.h_C=7.559\n",
      "        super(SingleNeutronModelEx, self).__init__()\n",
      "    ## PROPERTIES ##\n",
      "    @property\n",
      "    def n_modelparams(self):\n",
      "        return 5 # A, b, \\phi,C,\\alpha\n",
      "    @property\n",
      "    def expparams_dtype(self):\n",
      "        return [('delta', 'float'),('temp','float'),('humid','float')]\n",
      "    @property\n",
      "    def is_n_outcomes_constant(self):\n",
      "        return True\n",
      "    @property\n",
      "    def Q(self):\n",
      "        return np.array([1, 1, 1, 1,1]) # Quadratic loss matrix, all are same for now\n",
      "    ## METHODS ##    \n",
      "    @staticmethod\n",
      "    def are_models_valid(modelparams):\n",
      "        A, b, phi, C, alpha = modelparams.T\n",
      "        abs_b = np.abs(b)\n",
      "        return np.all([\n",
      "            A > 0,\n",
      "            A <= 1 - 2 * abs_b,\n",
      "            abs_b <= 0.5,\n",
      "            phi >= 0 ,\n",
      "            phi <= np.pi / 2,\n",
      "            C >= 0,\n",
      "            alpha <=0 # might not work care\n",
      "            \n",
      "        ], axis=0)\n",
      "    def n_outcomes(self, expparams):\n",
      "        return 2    \n",
      "    def likelihood(self, outcomes, modelparams, expparams):\n",
      "        # By calling the superclass implementation, we can consolidate\n",
      "        # call counting there.\n",
      "        super(SingleNeutronModelEx, self).likelihood(outcomes, modelparams, expparams)\n",
      "                    \n",
      "        # Extract each model parameter under its own name.\n",
      "        A, b, phi, C, alpha = modelparams.T[..., np.newaxis]\n",
      "        delta = expparams['delta'][np.newaxis, :]\n",
      "        temp = expparams['temp'][np.newaxis, :]\n",
      "        humid = expparams['humid'][np.newaxis, :]\n",
      "        pr0 = (0.5 + b) + (0.5 * A * np.cos(C * delta + phi+ (alpha*delta*humid/temp*10**(self.h_A-(self.h_B/(self.h_C+temp))))))\n",
      "                \n",
      "        # Now we concatenate over outcomes.\n",
      "        return abstract_model.Model.pr0_to_likelihood_array(outcomes, pr0)"
     ],
     "language": "python",
     "metadata": {},
     "outputs": [],
     "prompt_number": 45
    },
    {
     "cell_type": "code",
     "collapsed": false,
     "input": [
      "single_neutron_model = SingleNeutronModel()\n",
      "neutron_model = derived_models.BinomialModel(single_neutron_model)\n",
      "single_neutron_model_ex = SingleNeutronModelEx()\n",
      "neutron_model_ex = derived_models.BinomialModel(single_neutron_model_ex)\n"
     ],
     "language": "python",
     "metadata": {},
     "outputs": [],
     "prompt_number": 46
    },
    {
     "cell_type": "heading",
     "level": 2,
     "metadata": {},
     "source": [
      "True Models"
     ]
    },
    {
     "cell_type": "markdown",
     "metadata": {},
     "source": [
      "For consistency, we will test with a set of \"true\" model parameters for each model."
     ]
    },
    {
     "cell_type": "code",
     "collapsed": false,
     "input": [
      "true_modelparams = np.array([[0.9, 0.00, (0.43 * np.pi / 16), 1.02]])\n",
      "true_modelparams_ex = np.array([[0.9, 0.00, (0.43 * np.pi / 16), 1.02,-1.02]])"
     ],
     "language": "python",
     "metadata": {},
     "outputs": [],
     "prompt_number": 47
    },
    {
     "cell_type": "code",
     "collapsed": false,
     "input": [
      "[true_modelparams[0, 3] - 0.01, true_modelparams[0, 3] + 0.01]"
     ],
     "language": "python",
     "metadata": {},
     "outputs": [
      {
       "metadata": {},
       "output_type": "pyout",
       "prompt_number": 48,
       "text": [
        "[1.01, 1.03]"
       ]
      }
     ],
     "prompt_number": 48
    },
    {
     "cell_type": "markdown",
     "metadata": {},
     "source": [
      "Of course, it's important that each \"true\" model be a valid model, and so we assert that here."
     ]
    },
    {
     "cell_type": "code",
     "collapsed": false,
     "input": [
      "assert neutron_model.are_models_valid(true_modelparams)\n",
      "assert neutron_model_ex.are_models_valid(true_modelparams_ex)"
     ],
     "language": "python",
     "metadata": {},
     "outputs": [],
     "prompt_number": 49
    },
    {
     "cell_type": "heading",
     "level": 2,
     "metadata": {},
     "source": [
      "Prior Distributions"
     ]
    },
    {
     "cell_type": "code",
     "collapsed": false,
     "input": [
      "neutron_prior = distributions.UniformDistribution([\n",
      "    [0.7, 0.925],\n",
      "    [-0.00005, 0.00005],\n",
      "    [0, np.pi / 8],\n",
      "    [true_modelparams[0, 3] - 0.01, true_modelparams[0, 3] + 0.01]\n",
      "])\n",
      "neutron_prior_ex = distributions.UniformDistribution([\n",
      "    [0.7, 0.925],\n",
      "    [-0.00005, 0.00005],\n",
      "    [0, np.pi / 8],\n",
      "    [true_modelparams[0, 3] - 0.01, true_modelparams[0, 3] + 0.01],\n",
      "    [true_modelparams_ex[0, 4] - 0.01, true_modelparams_ex[0, 4] + 0.01]\n",
      "])"
     ],
     "language": "python",
     "metadata": {},
     "outputs": [],
     "prompt_number": 50
    },
    {
     "cell_type": "heading",
     "level": 2,
     "metadata": {},
     "source": [
      "Plotting Functions"
     ]
    },
    {
     "cell_type": "code",
     "collapsed": false,
     "input": [
      "def plot_kernel_smoothed_pdf(updater, param=2, show_true=True):\n",
      "    kernel = scipy.stats.norm(scale=0.0005, loc=updater.particle_locations[:, param]).pdf\n",
      "    xs = linspace(*updater.prior._ranges[param], num=100)\n",
      "    smoothed_pdf = np.sum(kernel(xs[:, np.newaxis]) * updater.particle_weights, axis=-1)\n",
      "    plot(xs, smoothed_pdf)\n",
      "    if show_true:\n",
      "        plot(true_modelparams[:, param], 0, 'rx')"
     ],
     "language": "python",
     "metadata": {},
     "outputs": [],
     "prompt_number": 51
    },
    {
     "cell_type": "heading",
     "level": 2,
     "metadata": {},
     "source": [
      "SMC Updater"
     ]
    },
    {
     "cell_type": "markdown",
     "metadata": {},
     "source": [
      "Warm up the updater by performing experiments over unifomly spaced theta, then look at the risk profile. This experimental setup is not really reasonable, as it assumes 1000 changings of the phase flag but only 10 neutrons per setting. That said, this is still useful for our purposes, as it causes the distribution to warm up to one that is approximately Gaussian."
     ]
    },
    {
     "cell_type": "code",
     "collapsed": false,
     "input": [
      "def plot_risks(updater, theta_min=0, theta_max=TWO_PI, n_thetas=100):\n",
      "    thetas = np.linspace(theta_min, theta_max, n_thetas)\n",
      "    risks = np.array([\n",
      "        updater.bayes_risk(np.array([(theta, 10)], dtype=updater.model.expparams_dtype))\n",
      "        for theta in thetas\n",
      "    ])\n",
      "    f = plot(thetas / np.pi, risks)\n",
      "    xlabel(r'$\\theta / \\pi$')\n",
      "    ylabel(r'$r(\\theta)$')\n",
      "    return f"
     ],
     "language": "python",
     "metadata": {},
     "outputs": [],
     "prompt_number": 52
    },
    {
     "cell_type": "markdown",
     "metadata": {},
     "source": [
      "Before we do anything, the risk profile rewards exploring $\\theta \\approx \\pi$. Note that this is dependent on the prior; here, we have chosen $\\phi \\sim \\text{Uniform}(0, \\pi / 2)$."
     ]
    },
    {
     "cell_type": "code",
     "collapsed": false,
     "input": [
      "plot_risks(smc.SMCUpdater(neutron_model, 100000, neutron_prior))"
     ],
     "language": "python",
     "metadata": {},
     "outputs": [
      {
       "metadata": {},
       "output_type": "pyout",
       "prompt_number": 42,
       "text": [
        "[<matplotlib.lines.Line2D at 0x3eacc50>]"
       ]
      },
      {
       "metadata": {},
       "output_type": "display_data",
       "png": "[encoded data removed]",
       "text": [
        "<matplotlib.figure.Figure at 0x3f96710>"
       ]
      }
     ],
     "prompt_number": 42
    },
    {
     "cell_type": "code",
     "collapsed": false,
     "input": [
      "def plot_risks_ex(updater, theta_min=0, theta_max=TWO_PI,hum=0.70,hum_std=0.01,temp=293.15,temp_std=0.5, n_thetas=100):\n",
      "    deltas = np.linspace(theta_min, theta_max, n_thetas)\n",
      "    humidities = np.random.normal(hum,hum_std,n_thetas)\n",
      "    temps = np.random.normal(temp,temp_std,n_thetas)\n",
      "    exparams = zip(deltas,temps,humidities)   \n",
      "    risks = np.array([\n",
      "        updater.bayes_risk(np.array([exparam+(10,)], dtype=updater.model.expparams_dtype))\n",
      "        for exparam in exparams\n",
      "    ])\n",
      "    f = plot(deltas / np.pi, risks)\n",
      "    xlabel(r'$\\theta / \\pi$')\n",
      "    ylabel(r'$r(\\theta)$')\n",
      "    return f"
     ],
     "language": "python",
     "metadata": {},
     "outputs": [],
     "prompt_number": 57
    },
    {
     "cell_type": "code",
     "collapsed": false,
     "input": [
      "# now for experimental model\n",
      "plot_risks_ex(smc.SMCUpdater(neutron_model_ex, 100000, neutron_prior_ex))"
     ],
     "language": "python",
     "metadata": {},
     "outputs": [
      {
       "metadata": {},
       "output_type": "pyout",
       "prompt_number": 58,
       "text": [
        "[<matplotlib.lines.Line2D at 0x405de50>]"
       ]
      },
      {
       "metadata": {},
       "output_type": "display_data",
       "png": "[encoded data removed]",
       "text": [
        "<matplotlib.figure.Figure at 0x3de78d0>"
       ]
      }
     ],
     "prompt_number": 58
    },
    {
     "cell_type": "markdown",
     "metadata": {},
     "source": [
      "We now explore what happens as we do uniform samplings of $\\theta$ across different warm-up intervals."
     ]
    },
    {
     "cell_type": "code",
     "collapsed": false,
     "input": [
      "def do_warmup(n_particles=20000, theta_min=0, theta_max=TWO_PI, n_thetas=21, n_neutrons=10):\n",
      "    updater = smc.SMCUpdater(neutron_model, n_particles, neutron_prior, resample_thresh=0.3)\n",
      "    thetas = np.linspace(theta_min, theta_max, n_thetas)\n",
      "    for theta in thetas:\n",
      "        experiment = np.array([(theta, n_neutrons)], dtype=neutron_model.expparams_dtype)\n",
      "        datum = neutron_model.simulate_experiment(true_modelparams, experiment)\n",
      "        updater.update(datum, experiment)\n",
      "    f_post = plot_risks(updater)\n",
      "    print(*[u\"{:0.3} \u00b1 {:0.3}\\t\".format(mu, sigma) for mu, sigma in zip(updater.est_mean(), np.sqrt(np.diag(updater.est_covariance_mtx())))])\n",
      "    print(*true_modelparams)\n",
      "    return f_post, updater"
     ],
     "language": "python",
     "metadata": {},
     "outputs": [],
     "prompt_number": 13
    },
    {
     "cell_type": "code",
     "collapsed": false,
     "input": [
      "f, updater_warmup = do_warmup(n_thetas=21**2, n_neutrons=100)"
     ],
     "language": "python",
     "metadata": {},
     "outputs": [
      {
       "output_type": "stream",
       "stream": "stdout",
       "text": [
        "0.895 \u00b1 0.00397\t -3.44e-06 \u00b1 2.76e-05\t 0.0771 \u00b1 0.0129\t 1.02 \u00b1 0.00367\t\n",
        "[ 0.9        0.         0.0844303  1.02     ]\n"
       ]
      },
      {
       "metadata": {},
       "output_type": "display_data",
       "png": "[encoded data removed]",
       "text": [
        "<matplotlib.figure.Figure at 0x364f110>"
       ]
      }
     ],
     "prompt_number": 14
    },
    {
     "cell_type": "code",
     "collapsed": false,
     "input": [
      "plot_kernel_smoothed_pdf(updater_warmup, param=2)"
     ],
     "language": "python",
     "metadata": {},
     "outputs": [
      {
       "metadata": {},
       "output_type": "display_data",
       "png": "[encoded data removed]",
       "text": [
        "<matplotlib.figure.Figure at 0x3d93a90>"
       ]
      }
     ],
     "prompt_number": 16
    },
    {
     "cell_type": "code",
     "collapsed": false,
     "input": [
      "def do_warmup_ex(n_particles=20000, theta_min=0, theta_max=TWO_PI, n_thetas=21, n_neutrons=10,hum=0.70,hum_std=0.01,temp=293.15,temp_std=0.5):\n",
      "    updater = smc.SMCUpdater(neutron_model_ex, n_particles, neutron_prior_ex, resample_thresh=0.3)\n",
      "    deltas = np.linspace(theta_min, theta_max, n_thetas)\n",
      "    humidities = np.random.normal(hum,hum_std,n_thetas)\n",
      "    temps = np.random.normal(temp,temp_std,n_thetas)\n",
      "    exparams = zip(deltas,temps,humidities)   \n",
      "    for exparam in exparams:\n",
      "        experiment = np.array([(exparam+ (n_neutrons,))], dtype=neutron_model_ex.expparams_dtype)\n",
      "        datum = neutron_model_ex.simulate_experiment(true_modelparams_ex, experiment)\n",
      "        updater.update(datum, experiment)\n",
      "    f_post = plot_risks_ex(updater)\n",
      "    print(*[u\"{:0.3} \u00b1 {:0.3}\\t\".format(mu, sigma) for mu, sigma in zip(updater.est_mean(), np.sqrt(np.diag(updater.est_covariance_mtx())))])\n",
      "    print(*true_modelparams_ex)\n",
      "    return f_post, updater"
     ],
     "language": "python",
     "metadata": {},
     "outputs": [],
     "prompt_number": 65
    },
    {
     "cell_type": "code",
     "collapsed": false,
     "input": [
      "f_ex, updater_warmup_ex = do_warmup_ex(n_thetas=21**2, n_neutrons=100)"
     ],
     "language": "python",
     "metadata": {},
     "outputs": [
      {
       "output_type": "stream",
       "stream": "stdout",
       "text": [
        "0.899 \u00b1 0.00394\t 1.37e-06 \u00b1 2.97e-05\t 0.0919 \u00b1 0.012\t 1.02 \u00b1 0.00334\t -1.02 \u00b1 0.00599\t\n",
        "[ 0.9        0.         0.0844303  1.02      -1.02     ]\n"
       ]
      },
      {
       "metadata": {},
       "output_type": "display_data",
       "png": "[encoded data removed]",
       "text": [
        "<matplotlib.figure.Figure at 0x42c42d0>"
       ]
      }
     ],
     "prompt_number": 67
    },
    {
     "cell_type": "code",
     "collapsed": false,
     "input": [
      "plot_kernel_smoothed_pdf(updater_warmup_ex, param=0)"
     ],
     "language": "python",
     "metadata": {},
     "outputs": [
      {
       "metadata": {},
       "output_type": "display_data",
       "png": "[encoded data removed]",
       "text": [
        "<matplotlib.figure.Figure at 0x489cad0>"
       ]
      }
     ],
     "prompt_number": 79
    },
    {
     "cell_type": "markdown",
     "metadata": {},
     "source": [
      "We see that exploring settings of $\\theta$ not yet chosen provides significant benefits in risk reduction.\n",
      "\n",
      "Note also that the second case, $\\theta \\in [\\pi/2, 3\\pi/2]$, reliably gives much better phase information than the other two case"
     ]
    },
    {
     "cell_type": "code",
     "collapsed": false,
     "input": [
      "figure()\n",
      "do_warmup(theta_min=0, theta_max=np.pi, n_neutrons=100);\n",
      "figure()\n",
      "do_warmup(theta_min=(np.pi/2), theta_max=(1.5*np.pi), n_neutrons=100);\n",
      "figure()\n",
      "do_warmup(theta_min=(np.pi), theta_max=(2*np.pi), n_neutrons=100);"
     ],
     "language": "python",
     "metadata": {},
     "outputs": [
      {
       "output_type": "stream",
       "stream": "stdout",
       "text": [
        "0.9 \u00b1 0.014\t 6.75e-07 \u00b1 2.84e-05\t 0.0687 \u00b1 0.0283\t 1.02 \u00b1 0.00575\t\n",
        "[ 0.9        0.         0.0844303  1.02     ]\n",
        "0.878 \u00b1 0.0184\t"
       ]
      },
      {
       "output_type": "stream",
       "stream": "stdout",
       "text": [
        " -3.58e-07 \u00b1 2.91e-05\t 0.0932 \u00b1 0.0338\t 1.02 \u00b1 0.00568\t\n",
        "[ 0.9        0.         0.0844303  1.02     ]\n",
        "0.908 \u00b1 0.0119\t"
       ]
      },
      {
       "output_type": "stream",
       "stream": "stdout",
       "text": [
        " -4.41e-07 \u00b1 3.02e-05\t 0.0544 \u00b1 0.0313\t 1.02 \u00b1 0.00555\t\n",
        "[ 0.9        0.         0.0844303  1.02     ]\n"
       ]
      },
      {
       "metadata": {},
       "output_type": "display_data",
       "png": "[encoded data removed]",
       "text": [
        "<matplotlib.figure.Figure at 0x3d9ca90>"
       ]
      },
      {
       "metadata": {},
       "output_type": "display_data",
       "png": "[encoded data removed]",
       "text": [
        "<matplotlib.figure.Figure at 0x3d9e410>"
       ]
      },
      {
       "metadata": {},
       "output_type": "display_data",
       "png": "[encoded data removed]",
       "text": [
        "<matplotlib.figure.Figure at 0x38b5090>"
       ]
      }
     ],
     "prompt_number": 17
    },
    {
     "cell_type": "code",
     "collapsed": false,
     "input": [
      "figure()\n",
      "do_warmup_ex(theta_min=0, theta_max=np.pi, n_neutrons=100);\n",
      "figure()\n",
      "do_warmup_ex(theta_min=(np.pi/2), theta_max=(1.5*np.pi), n_neutrons=100);\n",
      "figure()\n",
      "do_warmup_ex(theta_min=(np.pi), theta_max=(2*np.pi), n_neutrons=100);"
     ],
     "language": "python",
     "metadata": {},
     "outputs": [
      {
       "output_type": "stream",
       "stream": "stdout",
       "text": [
        "0.892 \u00b1 0.0158\t -1.57e-06 \u00b1 2.92e-05\t 0.0689 \u00b1 0.0289\t 1.02 \u00b1 0.00571\t -1.02 \u00b1 0.00589\t\n",
        "[ 0.9        0.         0.0844303  1.02      -1.02     ]\n",
        "0.904 \u00b1 0.0148\t"
       ]
      },
      {
       "output_type": "stream",
       "stream": "stdout",
       "text": [
        " 5.24e-07 \u00b1 2.86e-05\t 0.0617 \u00b1 0.0297\t 1.02 \u00b1 0.00554\t -1.02 \u00b1 0.00587\t\n",
        "[ 0.9        0.         0.0844303  1.02      -1.02     ]\n",
        "0.9 \u00b1 0.0138\t"
       ]
      },
      {
       "output_type": "stream",
       "stream": "stdout",
       "text": [
        " -2.89e-07 \u00b1 2.91e-05\t 0.0635 \u00b1 0.0334\t 1.02 \u00b1 0.00546\t -1.02 \u00b1 0.00593\t\n",
        "[ 0.9        0.         0.0844303  1.02      -1.02     ]\n"
       ]
      },
      {
       "metadata": {},
       "output_type": "display_data",
       "png": "[encoded data removed]",
       "text": [
        "<matplotlib.figure.Figure at 0x4f8a690>"
       ]
      },
      {
       "metadata": {},
       "output_type": "display_data",
       "png": "[encoded data removed]",
       "text": [
        "<matplotlib.figure.Figure at 0x4f8a450>"
       ]
      },
      {
       "metadata": {},
       "output_type": "display_data",
       "png": "[encoded data removed]",
       "text": [
        "<matplotlib.figure.Figure at 0x48afb10>"
       ]
      }
     ],
     "prompt_number": 80
    },
    {
     "cell_type": "code",
     "collapsed": false,
     "input": [
      "def do_adaptive(n_particles=100000, warmup_thetas=(), n_thetas=11, n_guesses=3, n_neutrons=10, n_warmup_neutrons=10, quiet=False):\n",
      "    updater = smc.SMCUpdater(neutron_model, n_particles, neutron_prior, resampler=resamplers.LiuWestResampler(a=0.98), resample_thresh=0.5)\n",
      "    designer = expdesign.ExperimentDesigner(updater)\n",
      "    \n",
      "    best_thetas = []\n",
      "    error_hist = []\n",
      "    \n",
      "    def objective(theta):\n",
      "        return updater.bayes_risk(                                  \n",
      "            np.array([(theta, 1)], dtype=neutron_model.expparams_dtype)\n",
      "        )\n",
      "    \n",
      "    def perform(theta, n):\n",
      "        experiment = np.array([(theta, n)], dtype=neutron_model.expparams_dtype)\n",
      "        datum = neutron_model.simulate_experiment(true_modelparams, experiment)\n",
      "        updater.update(datum, experiment)\n",
      "        mu = updater.est_mean()\n",
      "        loss = np.dot(updater.model.Q, (true_modelparams[0, :] - mu)**2)\n",
      "        error = np.abs(mu[2] - true_modelparams[0, 2])\n",
      "        error_hist.append(error)\n",
      "        if not quiet:\n",
      "            print(\"Loss: {:.2e}\\tError: {:.2e}\\tStd dev: {:.2e}\\tResample: {}\".format(loss, error, np.sqrt(updater.est_covariance_mtx()[2,2]), updater.resample_count))\n",
      "        \n",
      "    [perform(theta, n_warmup_neutrons) for theta in warmup_thetas]\n",
      "    \n",
      "    for idx_theta in xrange(n_thetas):\n",
      "        \n",
      "        best_theta = None\n",
      "        best_risk  = None\n",
      "        \n",
      "        est_phi = updater.est_mean()[2]\n",
      "        \n",
      "        for idx_guess in xrange(n_guesses):\n",
      "            idx_particle = np.argmax(np.ceil(np.cumsum(updater.particle_weights) - np.random.random()))\n",
      "            idx_pi = np.random.randint(1, 5) # If this is zero, we pick a random theta [0, 2 * pi].\n",
      "            guess = (\n",
      "                idx_pi * np.pi / 2 - updater.particle_locations[idx_particle, 2, np.newaxis] / updater.particle_locations[idx_particle, 3, np.newaxis]\n",
      "            ) # if idx_pi != 0 else TWO_PI * random.random((1,))\n",
      "            result = minimize(objective, guess, bounds=[(0, 2 * np.pi)], method='TNC', options={'maxiter': 2})\n",
      "            \n",
      "            if best_risk is None or result.fun < best_risk:\n",
      "                best_theta = result.x\n",
      "                best_risk = result.fun\n",
      "        \n",
      "        if not quiet:\n",
      "            print(u\"Chose theta = {}.\".format(best_theta), end='\\t')\n",
      "            \n",
      "        best_thetas.append(best_theta)\n",
      "        perform(best_theta, n_neutrons)\n",
      "        \n",
      "    f_post = plot_risks(updater)\n",
      "    print(*[u\"{:0.3} \u00b1 {:0.3}\\t\".format(mu, sigma) for mu, sigma in zip(updater.est_mean(), np.sqrt(np.diag(updater.est_covariance_mtx())))])\n",
      "    print(*true_modelparams)\n",
      "    return f_post, error_hist, updater, best_thetas"
     ],
     "language": "python",
     "metadata": {},
     "outputs": [],
     "prompt_number": 83
    },
    {
     "cell_type": "code",
     "collapsed": false,
     "input": [
      "warmup_thetas = np.linspace(0, np.pi/10, 19)"
     ],
     "language": "python",
     "metadata": {},
     "outputs": [],
     "prompt_number": 19
    },
    {
     "cell_type": "code",
     "collapsed": false,
     "input": [
      "f_post, this_error_hist, updater_adaptive, best_thetas = do_adaptive(n_thetas=200, n_guesses=5, warmup_thetas=warmup_thetas, n_neutrons=40, n_warmup_neutrons=100, quiet=False)"
     ],
     "language": "python",
     "metadata": {},
     "outputs": [
      {
       "output_type": "stream",
       "stream": "stdout",
       "text": [
        "Loss: 9.68e-03\tError: 9.19e-02\tStd dev: 1.08e-01\tResample: 0\n",
        "Loss: 6.57e-03\tError: 7.97e-02\tStd dev: 1.00e-01\tResample: 1"
       ]
      },
      {
       "output_type": "stream",
       "stream": "stdout",
       "text": [
        "\n",
        "Loss: 3.33e-03\tError: 5.76e-02\tStd dev: 9.01e-02\tResample: 1\n",
        "Loss: 1.61e-03\tError: 4.01e-02\tStd dev: 8.08e-02\tResample: 1"
       ]
      },
      {
       "output_type": "stream",
       "stream": "stdout",
       "text": [
        "\n",
        "Loss: 8.28e-04\tError: 2.83e-02\tStd dev: 7.15e-02\tResample: 2"
       ]
      },
      {
       "output_type": "stream",
       "stream": "stdout",
       "text": [
        "\n",
        "Loss: 3.59e-04\tError: 1.72e-02\tStd dev: 6.48e-02\tResample: 2\n",
        "Loss: 2.71e-04\tError: 7.88e-03\tStd dev: 4.96e-02\tResample: 3"
       ]
      },
      {
       "output_type": "stream",
       "stream": "stdout",
       "text": [
        "\n",
        "Loss: 3.05e-04\tError: 9.39e-03\tStd dev: 4.80e-02\tResample: 3\n",
        "Loss: 1.58e-04\tError: 2.29e-04\tStd dev: 5.15e-02\tResample: 3"
       ]
      },
      {
       "output_type": "stream",
       "stream": "stdout",
       "text": [
        "\n",
        "Loss: 1.87e-04\tError: 3.81e-03\tStd dev: 4.91e-02\tResample: 3\n",
        "Loss: 2.56e-04\tError: 1.20e-02\tStd dev: 5.43e-02\tResample: 3"
       ]
      },
      {
       "output_type": "stream",
       "stream": "stdout",
       "text": [
        "\n",
        "Loss: 1.42e-04\tError: 1.52e-03\tStd dev: 4.97e-02\tResample: 3\n",
        "Loss: 1.68e-04\tError: 6.75e-03\tStd dev: 5.06e-02\tResample: 3"
       ]
      },
      {
       "output_type": "stream",
       "stream": "stdout",
       "text": [
        "\n",
        "Loss: 8.53e-04\tError: 2.76e-02\tStd dev: 5.52e-02\tResample: 3\n",
        "Loss: 9.79e-04\tError: 2.99e-02\tStd dev: 5.41e-02\tResample: 4"
       ]
      },
      {
       "output_type": "stream",
       "stream": "stdout",
       "text": [
        "\n",
        "Loss: 2.34e-03\tError: 4.75e-02\tStd dev: 5.55e-02\tResample: 4\n",
        "Loss: 8.85e-04\tError: 2.84e-02\tStd dev: 5.19e-02\tResample: 4"
       ]
      },
      {
       "output_type": "stream",
       "stream": "stdout",
       "text": [
        "\n",
        "Loss: 1.52e-03\tError: 3.80e-02\tStd dev: 5.22e-02\tResample: 4\n",
        "Loss: 5.91e-04\tError: 2.27e-02\tStd dev: 4.92e-02\tResample: 4"
       ]
      },
      {
       "output_type": "stream",
       "stream": "stdout",
       "text": [
        "\n",
        "Chose theta = [ 4.67725897]."
       ]
      },
      {
       "output_type": "stream",
       "stream": "stdout",
       "text": [
        "\tLoss: 1.46e-04\tError: 1.01e-02\tStd dev: 4.63e-02\tResample: 4\n",
        "Chose theta = [ 1.56042436]."
       ]
      },
      {
       "output_type": "stream",
       "stream": "stdout",
       "text": [
        "\tLoss: 2.49e-05\tError: 1.37e-03\tStd dev: 4.30e-02\tResample: 4\n",
        "Chose theta = [ 4.61440235]."
       ]
      },
      {
       "output_type": "stream",
       "stream": "stdout",
       "text": [
        "\tLoss: 9.17e-05\tError: 8.81e-03\tStd dev: 4.04e-02\tResample: 4\n",
        "Chose theta = [ 4.70168465]."
       ]
      },
      {
       "output_type": "stream",
       "stream": "stdout",
       "text": [
        "\tLoss: 4.32e-04\tError: 2.06e-02\tStd dev: 3.60e-02\tResample: 5"
       ]
      },
      {
       "output_type": "stream",
       "stream": "stdout",
       "text": [
        "\n",
        "Chose theta = [ 6.18331502]."
       ]
      },
      {
       "output_type": "stream",
       "stream": "stdout",
       "text": [
        "\tLoss: 3.53e-04\tError: 1.81e-02\tStd dev: 3.63e-02\tResample: 5\n",
        "Chose theta = [ 3.08466207]."
       ]
      },
      {
       "output_type": "stream",
       "stream": "stdout",
       "text": [
        "\tLoss: 3.23e-04\tError: 1.69e-02\tStd dev: 3.64e-02\tResample: 5\n",
        "Chose theta = [ 4.6598482]."
       ]
      },
      {
       "output_type": "stream",
       "stream": "stdout",
       "text": [
        "\tLoss: 1.07e-04\tError: 7.49e-03\tStd dev: 3.82e-02\tResample: 5\n",
        "Chose theta = [ 1.463492]."
       ]
      },
      {
       "output_type": "stream",
       "stream": "stdout",
       "text": [
        "\tLoss: 1.09e-04\tError: 7.68e-03\tStd dev: 3.75e-02\tResample: 5\n",
        "Chose theta = [ 1.550222]."
       ]
      },
      {
       "output_type": "stream",
       "stream": "stdout",
       "text": [
        "\tLoss: 9.90e-05\tError: 6.86e-03\tStd dev: 3.70e-02\tResample: 5\n",
        "Chose theta = [ 1.52227836]."
       ]
      },
      {
       "output_type": "stream",
       "stream": "stdout",
       "text": [
        "\tLoss: 6.76e-05\tError: 2.46e-03\tStd dev: 3.71e-02\tResample: 5\n",
        "Chose theta = [ 4.65470555]."
       ]
      },
      {
       "output_type": "stream",
       "stream": "stdout",
       "text": [
        "\tLoss: 1.64e-04\tError: 1.08e-02\tStd dev: 3.51e-02\tResample: 5\n",
        "Chose theta = [ 1.5546095]."
       ]
      },
      {
       "output_type": "stream",
       "stream": "stdout",
       "text": [
        "\tLoss: 9.00e-05\tError: 5.75e-03\tStd dev: 3.55e-02\tResample: 5\n",
        "Chose theta = [ 1.54833934]."
       ]
      },
      {
       "output_type": "stream",
       "stream": "stdout",
       "text": [
        "\tLoss: 1.71e-04\tError: 1.12e-02\tStd dev: 3.40e-02\tResample: 5\n",
        "Chose theta = [ 1.47873983]."
       ]
      },
      {
       "output_type": "stream",
       "stream": "stdout",
       "text": [
        "\tLoss: 8.37e-05\tError: 2.79e-03\tStd dev: 3.55e-02\tResample: 5\n",
        "Chose theta = [ 4.68811159]."
       ]
      },
      {
       "output_type": "stream",
       "stream": "stdout",
       "text": [
        "\tLoss: 7.05e-05\tError: 2.23e-03\tStd dev: 3.45e-02\tResample: 5\n",
        "Chose theta = [ 4.64786209]."
       ]
      },
      {
       "output_type": "stream",
       "stream": "stdout",
       "text": [
        "\tLoss: 6.98e-05\tError: 1.91e-03\tStd dev: 3.41e-02\tResample: 5\n",
        "Chose theta = [ 4.60425777]."
       ]
      },
      {
       "output_type": "stream",
       "stream": "stdout",
       "text": [
        "\tLoss: 7.47e-05\tError: 1.46e-03\tStd dev: 3.41e-02\tResample: 5\n",
        "Chose theta = [ 1.46530351]."
       ]
      },
      {
       "output_type": "stream",
       "stream": "stdout",
       "text": [
        "\tLoss: 6.78e-05\tError: 7.72e-04\tStd dev: 3.34e-02\tResample: 5\n",
        "Chose theta = [ 3.00913787]."
       ]
      },
      {
       "output_type": "stream",
       "stream": "stdout",
       "text": [
        "\tLoss: 8.67e-05\tError: 7.26e-04\tStd dev: 3.34e-02\tResample: 5\n",
        "Chose theta = [ 1.51650208]."
       ]
      },
      {
       "output_type": "stream",
       "stream": "stdout",
       "text": [
        "\tLoss: 8.60e-05\tError: 5.46e-04\tStd dev: 3.29e-02\tResample: 5\n",
        "Chose theta = [ 1.51786689]."
       ]
      },
      {
       "output_type": "stream",
       "stream": "stdout",
       "text": [
        "\tLoss: 1.61e-04\tError: 1.00e-02\tStd dev: 3.12e-02\tResample: 5\n",
        "Chose theta = [ 1.5434332]."
       ]
      },
      {
       "output_type": "stream",
       "stream": "stdout",
       "text": [
        "\tLoss: 2.07e-04\tError: 1.23e-02\tStd dev: 3.05e-02\tResample: 5\n",
        "Chose theta = [ 4.6474917]."
       ]
      },
      {
       "output_type": "stream",
       "stream": "stdout",
       "text": [
        "\tLoss: 3.78e-04\tError: 1.82e-02\tStd dev: 2.93e-02\tResample: 5\n",
        "Chose theta = [ 1.52228811]."
       ]
      },
      {
       "output_type": "stream",
       "stream": "stdout",
       "text": [
        "\tLoss: 3.25e-04\tError: 1.66e-02\tStd dev: 2.93e-02\tResample: 5\n",
        "Chose theta = [ 1.52290779]."
       ]
      },
      {
       "output_type": "stream",
       "stream": "stdout",
       "text": [
        "\tLoss: 3.20e-04\tError: 1.64e-02\tStd dev: 2.90e-02\tResample: 5\n",
        "Chose theta = [ 1.52633418]."
       ]
      },
      {
       "output_type": "stream",
       "stream": "stdout",
       "text": [
        "\tLoss: 5.15e-04\tError: 2.18e-02\tStd dev: 2.78e-02\tResample: 5\n",
        "Chose theta = [ 3.06604324]."
       ]
      },
      {
       "output_type": "stream",
       "stream": "stdout",
       "text": [
        "\tLoss: 5.17e-04\tError: 2.19e-02\tStd dev: 2.78e-02\tResample: 5\n",
        "Chose theta = [ 3.06144741]."
       ]
      },
      {
       "output_type": "stream",
       "stream": "stdout",
       "text": [
        "\tLoss: 4.70e-04\tError: 2.00e-02\tStd dev: 2.79e-02\tResample: 5\n",
        "Chose theta = [ 1.47153663]."
       ]
      },
      {
       "output_type": "stream",
       "stream": "stdout",
       "text": [
        "\tLoss: 5.14e-04\tError: 2.11e-02\tStd dev: 2.75e-02\tResample: 5\n",
        "Chose theta = [ 3.0072218]."
       ]
      },
      {
       "output_type": "stream",
       "stream": "stdout",
       "text": [
        "\tLoss: 6.54e-04\tError: 2.51e-02\tStd dev: 2.70e-02\tResample: 5\n",
        "Chose theta = [ 3.06908847]."
       ]
      },
      {
       "output_type": "stream",
       "stream": "stdout",
       "text": [
        "\tLoss: 6.91e-04\tError: 2.60e-02\tStd dev: 2.69e-02\tResample: 5\n",
        "Chose theta = [ 3.01928488]."
       ]
      },
      {
       "output_type": "stream",
       "stream": "stdout",
       "text": [
        "\tLoss: 8.05e-04\tError: 2.82e-02\tStd dev: 2.65e-02\tResample: 5\n",
        "Chose theta = [ 3.04240222]."
       ]
      },
      {
       "output_type": "stream",
       "stream": "stdout",
       "text": [
        "\tLoss: 7.57e-04\tError: 2.73e-02\tStd dev: 2.66e-02\tResample: 5\n",
        "Chose theta = [ 3.08984099]."
       ]
      },
      {
       "output_type": "stream",
       "stream": "stdout",
       "text": [
        "\tLoss: 7.56e-04\tError: 2.73e-02\tStd dev: 2.66e-02\tResample: 5\n",
        "Chose theta = [ 3.0988409]."
       ]
      },
      {
       "output_type": "stream",
       "stream": "stdout",
       "text": [
        "\tLoss: 7.56e-04\tError: 2.73e-02\tStd dev: 2.66e-02\tResample: 5\n",
        "Chose theta = [ 0.]."
       ]
      },
      {
       "output_type": "stream",
       "stream": "stdout",
       "text": [
        "\tLoss: 7.30e-04\tError: 2.67e-02\tStd dev: 2.66e-02\tResample: 5\n",
        "Chose theta = [ 0.]."
       ]
      },
      {
       "output_type": "stream",
       "stream": "stdout",
       "text": [
        "\tLoss: 7.30e-04\tError: 2.67e-02\tStd dev: 2.66e-02\tResample: 5\n",
        "Chose theta = [ 3.05007151]."
       ]
      },
      {
       "output_type": "stream",
       "stream": "stdout",
       "text": [
        "\tLoss: 8.17e-04\tError: 2.84e-02\tStd dev: 2.64e-02\tResample: 5\n",
        "Chose theta = [ 3.06418205]."
       ]
      },
      {
       "output_type": "stream",
       "stream": "stdout",
       "text": [
        "\tLoss: 9.01e-04\tError: 2.98e-02\tStd dev: 2.61e-02\tResample: 5\n",
        "Chose theta = [ 3.10481691]."
       ]
      },
      {
       "output_type": "stream",
       "stream": "stdout",
       "text": [
        "\tLoss: 9.98e-04\tError: 3.12e-02\tStd dev: 2.60e-02\tResample: 5\n",
        "Chose theta = [ 3.02925957]."
       ]
      },
      {
       "output_type": "stream",
       "stream": "stdout",
       "text": [
        "\tLoss: 9.94e-04\tError: 3.11e-02\tStd dev: 2.59e-02\tResample: 5\n",
        "Chose theta = [ 6.20609522]."
       ]
      },
      {
       "output_type": "stream",
       "stream": "stdout",
       "text": [
        "\tLoss: 1.14e-03\tError: 3.29e-02\tStd dev: 2.56e-02\tResample: 5\n",
        "Chose theta = [ 3.05771532]."
       ]
      },
      {
       "output_type": "stream",
       "stream": "stdout",
       "text": [
        "\tLoss: 1.02e-03\tError: 3.14e-02\tStd dev: 2.59e-02\tResample: 5\n",
        "Chose theta = [ 6.19410959]."
       ]
      },
      {
       "output_type": "stream",
       "stream": "stdout",
       "text": [
        "\tLoss: 9.79e-04\tError: 3.09e-02\tStd dev: 2.60e-02\tResample: 5\n",
        "Chose theta = [ 0.]."
       ]
      },
      {
       "output_type": "stream",
       "stream": "stdout",
       "text": [
        "\tLoss: 1.01e-03\tError: 3.13e-02\tStd dev: 2.59e-02\tResample: 5\n",
        "Chose theta = [ 3.03308692]."
       ]
      },
      {
       "output_type": "stream",
       "stream": "stdout",
       "text": [
        "\tLoss: 1.01e-03\tError: 3.12e-02\tStd dev: 2.59e-02\tResample: 5\n",
        "Chose theta = [ 6.24036075]."
       ]
      },
      {
       "output_type": "stream",
       "stream": "stdout",
       "text": [
        "\tLoss: 1.02e-03\tError: 3.14e-02\tStd dev: 2.59e-02\tResample: 5\n",
        "Chose theta = [ 3.05503132]."
       ]
      },
      {
       "output_type": "stream",
       "stream": "stdout",
       "text": [
        "\tLoss: 9.69e-04\tError: 3.07e-02\tStd dev: 2.60e-02\tResample: 5\n",
        "Chose theta = [ 3.06409076]."
       ]
      },
      {
       "output_type": "stream",
       "stream": "stdout",
       "text": [
        "\tLoss: 1.01e-03\tError: 3.12e-02\tStd dev: 2.59e-02\tResample: 5\n",
        "Chose theta = [ 1.53484195]."
       ]
      },
      {
       "output_type": "stream",
       "stream": "stdout",
       "text": [
        "\tLoss: 1.66e-03\tError: 4.01e-02\tStd dev: 2.33e-02\tResample: 5\n",
        "Chose theta = [ 3.09694307]."
       ]
      },
      {
       "output_type": "stream",
       "stream": "stdout",
       "text": [
        "\tLoss: 1.58e-03\tError: 3.93e-02\tStd dev: 2.35e-02\tResample: 5\n",
        "Chose theta = [ 3.05593647]."
       ]
      },
      {
       "output_type": "stream",
       "stream": "stdout",
       "text": [
        "\tLoss: 1.57e-03\tError: 3.93e-02\tStd dev: 2.35e-02\tResample: 5\n",
        "Chose theta = [ 6.20600975]."
       ]
      },
      {
       "output_type": "stream",
       "stream": "stdout",
       "text": [
        "\tLoss: 1.67e-03\tError: 4.02e-02\tStd dev: 2.33e-02\tResample: 5\n",
        "Chose theta = [ 0.]."
       ]
      },
      {
       "output_type": "stream",
       "stream": "stdout",
       "text": [
        "\tLoss: 1.63e-03\tError: 3.98e-02\tStd dev: 2.33e-02\tResample: 5\n",
        "Chose theta = [ 3.10355173]."
       ]
      },
      {
       "output_type": "stream",
       "stream": "stdout",
       "text": [
        "\tLoss: 1.62e-03\tError: 3.98e-02\tStd dev: 2.33e-02\tResample: 5\n",
        "Chose theta = [ 3.05704636]."
       ]
      },
      {
       "output_type": "stream",
       "stream": "stdout",
       "text": [
        "\tLoss: 1.62e-03\tError: 3.97e-02\tStd dev: 2.33e-02\tResample: 5\n",
        "Chose theta = [ 3.07847566]."
       ]
      },
      {
       "output_type": "stream",
       "stream": "stdout",
       "text": [
        "\tLoss: 1.61e-03\tError: 3.97e-02\tStd dev: 2.34e-02\tResample: 5\n",
        "Chose theta = [ 3.0534311]."
       ]
      },
      {
       "output_type": "stream",
       "stream": "stdout",
       "text": [
        "\tLoss: 1.56e-03\tError: 3.91e-02\tStd dev: 2.35e-02\tResample: 5\n",
        "Chose theta = [ 6.22015556]."
       ]
      },
      {
       "output_type": "stream",
       "stream": "stdout",
       "text": [
        "\tLoss: 1.51e-03\tError: 3.86e-02\tStd dev: 2.36e-02\tResample: 5\n",
        "Chose theta = [ 3.09416237]."
       ]
      },
      {
       "output_type": "stream",
       "stream": "stdout",
       "text": [
        "\tLoss: 1.48e-03\tError: 3.82e-02\tStd dev: 2.37e-02\tResample: 5\n",
        "Chose theta = [ 3.07339454]."
       ]
      },
      {
       "output_type": "stream",
       "stream": "stdout",
       "text": [
        "\tLoss: 1.47e-03\tError: 3.82e-02\tStd dev: 2.37e-02\tResample: 5\n",
        "Chose theta = [ 6.20295676]."
       ]
      },
      {
       "output_type": "stream",
       "stream": "stdout",
       "text": [
        "\tLoss: 1.47e-03\tError: 3.82e-02\tStd dev: 2.37e-02\tResample: 5\n",
        "Chose theta = [ 3.05142984]."
       ]
      },
      {
       "output_type": "stream",
       "stream": "stdout",
       "text": [
        "\tLoss: 1.56e-03\tError: 3.92e-02\tStd dev: 2.34e-02\tResample: 5\n",
        "Chose theta = [ 3.10994207]."
       ]
      },
      {
       "output_type": "stream",
       "stream": "stdout",
       "text": [
        "\tLoss: 1.55e-03\tError: 3.91e-02\tStd dev: 2.34e-02\tResample: 5\n",
        "Chose theta = [ 6.25932298]."
       ]
      },
      {
       "output_type": "stream",
       "stream": "stdout",
       "text": [
        "\tLoss: 1.58e-03\tError: 3.93e-02\tStd dev: 2.34e-02\tResample: 5\n",
        "Chose theta = [ 3.05867192]."
       ]
      },
      {
       "output_type": "stream",
       "stream": "stdout",
       "text": [
        "\tLoss: 1.54e-03\tError: 3.89e-02\tStd dev: 2.35e-02\tResample: 5\n",
        "Chose theta = [ 6.24135727]."
       ]
      },
      {
       "output_type": "stream",
       "stream": "stdout",
       "text": [
        "\tLoss: 1.56e-03\tError: 3.91e-02\tStd dev: 2.35e-02\tResample: 5\n",
        "Chose theta = [ 3.08767659]."
       ]
      },
      {
       "output_type": "stream",
       "stream": "stdout",
       "text": [
        "\tLoss: 1.53e-03\tError: 3.87e-02\tStd dev: 2.36e-02\tResample: 5\n",
        "Chose theta = [ 3.10047917]."
       ]
      },
      {
       "output_type": "stream",
       "stream": "stdout",
       "text": [
        "\tLoss: 1.52e-03\tError: 3.87e-02\tStd dev: 2.36e-02\tResample: 5\n",
        "Chose theta = [ 3.04850115]."
       ]
      },
      {
       "output_type": "stream",
       "stream": "stdout",
       "text": [
        "\tLoss: 1.61e-03\tError: 3.96e-02\tStd dev: 2.33e-02\tResample: 5\n",
        "Chose theta = [ 3.10948634]."
       ]
      },
      {
       "output_type": "stream",
       "stream": "stdout",
       "text": [
        "\tLoss: 1.61e-03\tError: 3.96e-02\tStd dev: 2.33e-02\tResample: 5\n",
        "Chose theta = [ 3.09841827]."
       ]
      },
      {
       "output_type": "stream",
       "stream": "stdout",
       "text": [
        "\tLoss: 1.60e-03\tError: 3.95e-02\tStd dev: 2.33e-02\tResample: 5\n",
        "Chose theta = [ 6.21322211]."
       ]
      },
      {
       "output_type": "stream",
       "stream": "stdout",
       "text": [
        "\tLoss: 1.62e-03\tError: 3.97e-02\tStd dev: 2.33e-02\tResample: 5\n",
        "Chose theta = [ 0.]."
       ]
      },
      {
       "output_type": "stream",
       "stream": "stdout",
       "text": [
        "\tLoss: 1.62e-03\tError: 3.96e-02\tStd dev: 2.33e-02\tResample: 5\n",
        "Chose theta = [ 0.]."
       ]
      },
      {
       "output_type": "stream",
       "stream": "stdout",
       "text": [
        "\tLoss: 1.61e-03\tError: 3.96e-02\tStd dev: 2.33e-02\tResample: 5\n",
        "Chose theta = [ 6.19936122]."
       ]
      },
      {
       "output_type": "stream",
       "stream": "stdout",
       "text": [
        "\tLoss: 1.66e-03\tError: 3.99e-02\tStd dev: 2.29e-02\tResample: 6"
       ]
      },
      {
       "output_type": "stream",
       "stream": "stdout",
       "text": [
        "\n",
        "Chose theta = [ 1.54183586]."
       ]
      },
      {
       "output_type": "stream",
       "stream": "stdout",
       "text": [
        "\tLoss: 1.79e-03\tError: 4.15e-02\tStd dev: 2.23e-02\tResample: 6\n",
        "Chose theta = [ 4.68949637]."
       ]
      },
      {
       "output_type": "stream",
       "stream": "stdout",
       "text": [
        "\tLoss: 1.73e-03\tError: 4.09e-02\tStd dev: 2.24e-02\tResample: 6\n",
        "Chose theta = [ 4.68610882]."
       ]
      },
      {
       "output_type": "stream",
       "stream": "stdout",
       "text": [
        "\tLoss: 1.73e-03\tError: 4.08e-02\tStd dev: 2.23e-02\tResample: 6\n",
        "Chose theta = [ 4.64798172]."
       ]
      },
      {
       "output_type": "stream",
       "stream": "stdout",
       "text": [
        "\tLoss: 1.80e-03\tError: 4.16e-02\tStd dev: 2.20e-02\tResample: 6\n",
        "Chose theta = [ 4.69873865]."
       ]
      },
      {
       "output_type": "stream",
       "stream": "stdout",
       "text": [
        "\tLoss: 2.13e-03\tError: 4.52e-02\tStd dev: 2.08e-02\tResample: 6\n",
        "Chose theta = [ 1.56070238]."
       ]
      },
      {
       "output_type": "stream",
       "stream": "stdout",
       "text": [
        "\tLoss: 1.68e-03\tError: 4.01e-02\tStd dev: 2.21e-02\tResample: 6\n",
        "Chose theta = [ 4.6959496]."
       ]
      },
      {
       "output_type": "stream",
       "stream": "stdout",
       "text": [
        "\tLoss: 1.63e-03\tError: 3.95e-02\tStd dev: 2.22e-02\tResample: 6\n",
        "Chose theta = [ 4.67130948]."
       ]
      },
      {
       "output_type": "stream",
       "stream": "stdout",
       "text": [
        "\tLoss: 1.51e-03\tError: 3.80e-02\tStd dev: 2.26e-02\tResample: 6\n",
        "Chose theta = [ 4.68437078]."
       ]
      },
      {
       "output_type": "stream",
       "stream": "stdout",
       "text": [
        "\tLoss: 1.46e-03\tError: 3.73e-02\tStd dev: 2.27e-02\tResample: 6\n",
        "Chose theta = [ 4.6646459]."
       ]
      },
      {
       "output_type": "stream",
       "stream": "stdout",
       "text": [
        "\tLoss: 1.25e-03\tError: 3.46e-02\tStd dev: 2.33e-02\tResample: 6\n",
        "Chose theta = [ 4.69213768]."
       ]
      },
      {
       "output_type": "stream",
       "stream": "stdout",
       "text": [
        "\tLoss: 1.04e-03\tError: 3.15e-02\tStd dev: 2.39e-02\tResample: 6\n",
        "Chose theta = [ 1.54724313]."
       ]
      },
      {
       "output_type": "stream",
       "stream": "stdout",
       "text": [
        "\tLoss: 9.92e-04\tError: 3.08e-02\tStd dev: 2.39e-02\tResample: 6\n",
        "Chose theta = [ 6.13254516]."
       ]
      },
      {
       "output_type": "stream",
       "stream": "stdout",
       "text": [
        "\tLoss: 1.02e-03\tError: 3.12e-02\tStd dev: 2.38e-02\tResample: 6\n",
        "Chose theta = [ 4.690154]."
       ]
      },
      {
       "output_type": "stream",
       "stream": "stdout",
       "text": [
        "\tLoss: 9.14e-04\tError: 2.94e-02\tStd dev: 2.41e-02\tResample: 6\n",
        "Chose theta = [ 1.55207179]."
       ]
      },
      {
       "output_type": "stream",
       "stream": "stdout",
       "text": [
        "\tLoss: 8.75e-04\tError: 2.88e-02\tStd dev: 2.40e-02\tResample: 6\n",
        "Chose theta = [ 4.68361881]."
       ]
      },
      {
       "output_type": "stream",
       "stream": "stdout",
       "text": [
        "\tLoss: 9.21e-04\tError: 2.95e-02\tStd dev: 2.38e-02\tResample: 6\n",
        "Chose theta = [ 1.52735894]."
       ]
      },
      {
       "output_type": "stream",
       "stream": "stdout",
       "text": [
        "\tLoss: 9.12e-04\tError: 2.94e-02\tStd dev: 2.37e-02\tResample: 6\n",
        "Chose theta = [ 1.54081752]."
       ]
      },
      {
       "output_type": "stream",
       "stream": "stdout",
       "text": [
        "\tLoss: 9.68e-04\tError: 3.03e-02\tStd dev: 2.34e-02\tResample: 6\n",
        "Chose theta = [ 1.52464354]."
       ]
      },
      {
       "output_type": "stream",
       "stream": "stdout",
       "text": [
        "\tLoss: 7.55e-04\tError: 2.66e-02\tStd dev: 2.38e-02\tResample: 6\n",
        "Chose theta = [ 1.52848431]."
       ]
      },
      {
       "output_type": "stream",
       "stream": "stdout",
       "text": [
        "\tLoss: 6.57e-04\tError: 2.48e-02\tStd dev: 2.40e-02\tResample: 6\n",
        "Chose theta = [ 4.66232731]."
       ]
      },
      {
       "output_type": "stream",
       "stream": "stdout",
       "text": [
        "\tLoss: 5.94e-04\tError: 2.35e-02\tStd dev: 2.41e-02\tResample: 6\n",
        "Chose theta = [ 1.51945499]."
       ]
      },
      {
       "output_type": "stream",
       "stream": "stdout",
       "text": [
        "\tLoss: 8.10e-04\tError: 2.76e-02\tStd dev: 2.33e-02\tResample: 6\n",
        "Chose theta = [ 1.51786724]."
       ]
      },
      {
       "output_type": "stream",
       "stream": "stdout",
       "text": [
        "\tLoss: 9.39e-04\tError: 2.98e-02\tStd dev: 2.29e-02\tResample: 6\n",
        "Chose theta = [ 1.5495562]."
       ]
      },
      {
       "output_type": "stream",
       "stream": "stdout",
       "text": [
        "\tLoss: 7.16e-04\tError: 2.59e-02\tStd dev: 2.33e-02\tResample: 6\n",
        "Chose theta = [ 4.6684962]."
       ]
      },
      {
       "output_type": "stream",
       "stream": "stdout",
       "text": [
        "\tLoss: 7.45e-04\tError: 2.65e-02\tStd dev: 2.32e-02\tResample: 6\n",
        "Chose theta = [ 0.]."
       ]
      },
      {
       "output_type": "stream",
       "stream": "stdout",
       "text": [
        "\tLoss: 7.10e-04\tError: 2.61e-02\tStd dev: 2.32e-02\tResample: 6\n",
        "Chose theta = [ 1.56961908]."
       ]
      },
      {
       "output_type": "stream",
       "stream": "stdout",
       "text": [
        "\tLoss: 6.10e-04\tError: 2.41e-02\tStd dev: 2.33e-02\tResample: 6\n",
        "Chose theta = [ 1.5341541]."
       ]
      },
      {
       "output_type": "stream",
       "stream": "stdout",
       "text": [
        "\tLoss: 7.81e-04\tError: 2.74e-02\tStd dev: 2.27e-02\tResample: 6\n",
        "Chose theta = [ 1.55523728]."
       ]
      },
      {
       "output_type": "stream",
       "stream": "stdout",
       "text": [
        "\tLoss: 7.53e-04\tError: 2.69e-02\tStd dev: 2.27e-02\tResample: 6\n",
        "Chose theta = [ 1.54860955]."
       ]
      },
      {
       "output_type": "stream",
       "stream": "stdout",
       "text": [
        "\tLoss: 9.88e-04\tError: 3.09e-02\tStd dev: 2.20e-02\tResample: 6\n",
        "Chose theta = [ 1.51488658]."
       ]
      },
      {
       "output_type": "stream",
       "stream": "stdout",
       "text": [
        "\tLoss: 1.06e-03\tError: 3.20e-02\tStd dev: 2.17e-02\tResample: 6\n",
        "Chose theta = [ 4.65623557]."
       ]
      },
      {
       "output_type": "stream",
       "stream": "stdout",
       "text": [
        "\tLoss: 1.02e-03\tError: 3.14e-02\tStd dev: 2.18e-02\tResample: 6\n",
        "Chose theta = [ 1.54375319]."
       ]
      },
      {
       "output_type": "stream",
       "stream": "stdout",
       "text": [
        "\tLoss: 1.07e-03\tError: 3.22e-02\tStd dev: 2.16e-02\tResample: 6\n",
        "Chose theta = [ 1.52019378]."
       ]
      },
      {
       "output_type": "stream",
       "stream": "stdout",
       "text": [
        "\tLoss: 1.29e-03\tError: 3.53e-02\tStd dev: 2.10e-02\tResample: 6\n",
        "Chose theta = [ 1.55339304]."
       ]
      },
      {
       "output_type": "stream",
       "stream": "stdout",
       "text": [
        "\tLoss: 1.20e-03\tError: 3.41e-02\tStd dev: 2.11e-02\tResample: 6\n",
        "Chose theta = [ 1.53878178]."
       ]
      },
      {
       "output_type": "stream",
       "stream": "stdout",
       "text": [
        "\tLoss: 1.44e-03\tError: 3.73e-02\tStd dev: 2.05e-02\tResample: 6\n",
        "Chose theta = [ 1.50567407]."
       ]
      },
      {
       "output_type": "stream",
       "stream": "stdout",
       "text": [
        "\tLoss: 1.36e-03\tError: 3.62e-02\tStd dev: 2.06e-02\tResample: 6\n",
        "Chose theta = [ 1.52797018]."
       ]
      },
      {
       "output_type": "stream",
       "stream": "stdout",
       "text": [
        "\tLoss: 1.44e-03\tError: 3.73e-02\tStd dev: 2.03e-02\tResample: 6\n",
        "Chose theta = [ 4.69122761]."
       ]
      },
      {
       "output_type": "stream",
       "stream": "stdout",
       "text": [
        "\tLoss: 1.44e-03\tError: 3.74e-02\tStd dev: 2.03e-02\tResample: 6\n",
        "Chose theta = [ 4.67543891]."
       ]
      },
      {
       "output_type": "stream",
       "stream": "stdout",
       "text": [
        "\tLoss: 1.39e-03\tError: 3.67e-02\tStd dev: 2.04e-02\tResample: 6\n",
        "Chose theta = [ 0.]."
       ]
      },
      {
       "output_type": "stream",
       "stream": "stdout",
       "text": [
        "\tLoss: 1.42e-03\tError: 3.69e-02\tStd dev: 2.04e-02\tResample: 6\n",
        "Chose theta = [ 1.51653567]."
       ]
      },
      {
       "output_type": "stream",
       "stream": "stdout",
       "text": [
        "\tLoss: 1.17e-03\tError: 3.35e-02\tStd dev: 2.08e-02\tResample: 6\n",
        "Chose theta = [ 1.54078725]."
       ]
      },
      {
       "output_type": "stream",
       "stream": "stdout",
       "text": [
        "\tLoss: 1.17e-03\tError: 3.35e-02\tStd dev: 2.07e-02\tResample: 6\n",
        "Chose theta = [ 1.5207892]."
       ]
      },
      {
       "output_type": "stream",
       "stream": "stdout",
       "text": [
        "\tLoss: 1.07e-03\tError: 3.20e-02\tStd dev: 2.08e-02\tResample: 6\n",
        "Chose theta = [ 1.5456036]."
       ]
      },
      {
       "output_type": "stream",
       "stream": "stdout",
       "text": [
        "\tLoss: 9.96e-04\tError: 3.08e-02\tStd dev: 2.09e-02\tResample: 6\n",
        "Chose theta = [ 1.52645346]."
       ]
      },
      {
       "output_type": "stream",
       "stream": "stdout",
       "text": [
        "\tLoss: 9.87e-04\tError: 3.06e-02\tStd dev: 2.08e-02\tResample: 6\n",
        "Chose theta = [ 4.62995134]."
       ]
      },
      {
       "output_type": "stream",
       "stream": "stdout",
       "text": [
        "\tLoss: 9.49e-04\tError: 3.00e-02\tStd dev: 2.08e-02\tResample: 6\n",
        "Chose theta = [ 1.50898366]."
       ]
      },
      {
       "output_type": "stream",
       "stream": "stdout",
       "text": [
        "\tLoss: 9.29e-04\tError: 2.97e-02\tStd dev: 2.08e-02\tResample: 6\n",
        "Chose theta = [ 1.51063788]."
       ]
      },
      {
       "output_type": "stream",
       "stream": "stdout",
       "text": [
        "\tLoss: 8.73e-04\tError: 2.88e-02\tStd dev: 2.08e-02\tResample: 6\n",
        "Chose theta = [ 1.52453966]."
       ]
      },
      {
       "output_type": "stream",
       "stream": "stdout",
       "text": [
        "\tLoss: 9.78e-04\tError: 3.05e-02\tStd dev: 2.05e-02\tResample: 6\n",
        "Chose theta = [ 1.54419896]."
       ]
      },
      {
       "output_type": "stream",
       "stream": "stdout",
       "text": [
        "\tLoss: 8.33e-04\tError: 2.81e-02\tStd dev: 2.07e-02\tResample: 6\n",
        "Chose theta = [ 1.49890662]."
       ]
      },
      {
       "output_type": "stream",
       "stream": "stdout",
       "text": [
        "\tLoss: 7.74e-04\tError: 2.70e-02\tStd dev: 2.07e-02\tResample: 6\n",
        "Chose theta = [ 1.52541459]."
       ]
      },
      {
       "output_type": "stream",
       "stream": "stdout",
       "text": [
        "\tLoss: 8.38e-04\tError: 2.82e-02\tStd dev: 2.05e-02\tResample: 6\n",
        "Chose theta = [ 4.67001366]."
       ]
      },
      {
       "output_type": "stream",
       "stream": "stdout",
       "text": [
        "\tLoss: 9.14e-04\tError: 2.94e-02\tStd dev: 2.04e-02\tResample: 6\n",
        "Chose theta = [ 3.06999834]."
       ]
      },
      {
       "output_type": "stream",
       "stream": "stdout",
       "text": [
        "\tLoss: 8.71e-04\tError: 2.90e-02\tStd dev: 2.04e-02\tResample: 6\n",
        "Chose theta = [ 1.52618844]."
       ]
      },
      {
       "output_type": "stream",
       "stream": "stdout",
       "text": [
        "\tLoss: 7.94e-04\tError: 2.76e-02\tStd dev: 2.05e-02\tResample: 6\n",
        "Chose theta = [ 1.53194315]."
       ]
      },
      {
       "output_type": "stream",
       "stream": "stdout",
       "text": [
        "\tLoss: 8.25e-04\tError: 2.82e-02\tStd dev: 2.03e-02\tResample: 6\n",
        "Chose theta = [ 1.54266905]."
       ]
      },
      {
       "output_type": "stream",
       "stream": "stdout",
       "text": [
        "\tLoss: 7.28e-04\tError: 2.64e-02\tStd dev: 2.04e-02\tResample: 6\n",
        "Chose theta = [ 1.54670385]."
       ]
      },
      {
       "output_type": "stream",
       "stream": "stdout",
       "text": [
        "\tLoss: 8.01e-04\tError: 2.77e-02\tStd dev: 2.02e-02\tResample: 6\n",
        "Chose theta = [ 1.53541101]."
       ]
      },
      {
       "output_type": "stream",
       "stream": "stdout",
       "text": [
        "\tLoss: 8.67e-04\tError: 2.89e-02\tStd dev: 2.00e-02\tResample: 6\n",
        "Chose theta = [ 1.51694144]."
       ]
      },
      {
       "output_type": "stream",
       "stream": "stdout",
       "text": [
        "\tLoss: 7.55e-04\tError: 2.69e-02\tStd dev: 2.01e-02\tResample: 6\n",
        "Chose theta = [ 4.68469137]."
       ]
      },
      {
       "output_type": "stream",
       "stream": "stdout",
       "text": [
        "\tLoss: 7.91e-04\tError: 2.76e-02\tStd dev: 2.01e-02\tResample: 6\n",
        "Chose theta = [ 4.66808785]."
       ]
      },
      {
       "output_type": "stream",
       "stream": "stdout",
       "text": [
        "\tLoss: 7.29e-04\tError: 2.64e-02\tStd dev: 2.01e-02\tResample: 6\n",
        "Chose theta = [ 3.08921579]."
       ]
      },
      {
       "output_type": "stream",
       "stream": "stdout",
       "text": [
        "\tLoss: 7.26e-04\tError: 2.64e-02\tStd dev: 2.01e-02\tResample: 6\n",
        "Chose theta = [ 1.54146918]."
       ]
      },
      {
       "output_type": "stream",
       "stream": "stdout",
       "text": [
        "\tLoss: 6.99e-04\tError: 2.59e-02\tStd dev: 2.01e-02\tResample: 6\n",
        "Chose theta = [ 1.51511356]."
       ]
      },
      {
       "output_type": "stream",
       "stream": "stdout",
       "text": [
        "\tLoss: 8.45e-04\tError: 2.85e-02\tStd dev: 1.98e-02\tResample: 6\n",
        "Chose theta = [ 1.52828067]."
       ]
      },
      {
       "output_type": "stream",
       "stream": "stdout",
       "text": [
        "\tLoss: 9.72e-04\tError: 3.06e-02\tStd dev: 1.95e-02\tResample: 6\n",
        "Chose theta = [ 1.51794254]."
       ]
      },
      {
       "output_type": "stream",
       "stream": "stdout",
       "text": [
        "\tLoss: 1.03e-03\tError: 3.15e-02\tStd dev: 1.94e-02\tResample: 6\n",
        "Chose theta = [ 1.5263339]."
       ]
      },
      {
       "output_type": "stream",
       "stream": "stdout",
       "text": [
        "\tLoss: 1.02e-03\tError: 3.14e-02\tStd dev: 1.93e-02\tResample: 6\n",
        "Chose theta = [ 4.63070029]."
       ]
      },
      {
       "output_type": "stream",
       "stream": "stdout",
       "text": [
        "\tLoss: 1.01e-03\tError: 3.12e-02\tStd dev: 1.93e-02\tResample: 6\n",
        "Chose theta = [ 1.51705887]."
       ]
      },
      {
       "output_type": "stream",
       "stream": "stdout",
       "text": [
        "\tLoss: 9.60e-04\tError: 3.04e-02\tStd dev: 1.93e-02\tResample: 6\n",
        "Chose theta = [ 1.51589808]."
       ]
      },
      {
       "output_type": "stream",
       "stream": "stdout",
       "text": [
        "\tLoss: 7.90e-04\tError: 2.76e-02\tStd dev: 1.95e-02\tResample: 6\n",
        "Chose theta = [ 1.51316832]."
       ]
      },
      {
       "output_type": "stream",
       "stream": "stdout",
       "text": [
        "\tLoss: 7.77e-04\tError: 2.73e-02\tStd dev: 1.95e-02\tResample: 6\n",
        "Chose theta = [ 1.51714204]."
       ]
      },
      {
       "output_type": "stream",
       "stream": "stdout",
       "text": [
        "\tLoss: 7.67e-04\tError: 2.72e-02\tStd dev: 1.94e-02\tResample: 6\n",
        "Chose theta = [ 1.51630973]."
       ]
      },
      {
       "output_type": "stream",
       "stream": "stdout",
       "text": [
        "\tLoss: 8.75e-04\tError: 2.90e-02\tStd dev: 1.92e-02\tResample: 6\n",
        "Chose theta = [ 1.52926067]."
       ]
      },
      {
       "output_type": "stream",
       "stream": "stdout",
       "text": [
        "\tLoss: 7.24e-04\tError: 2.64e-02\tStd dev: 1.93e-02\tResample: 6\n",
        "Chose theta = [ 1.55720339]."
       ]
      },
      {
       "output_type": "stream",
       "stream": "stdout",
       "text": [
        "\tLoss: 6.28e-04\tError: 2.45e-02\tStd dev: 1.94e-02\tResample: 7"
       ]
      },
      {
       "output_type": "stream",
       "stream": "stdout",
       "text": [
        "\n",
        "Chose theta = [ 6.22319563]."
       ]
      },
      {
       "output_type": "stream",
       "stream": "stdout",
       "text": [
        "\tLoss: 6.24e-04\tError: 2.45e-02\tStd dev: 1.94e-02\tResample: 7\n",
        "Chose theta = [ 1.48610097]."
       ]
      },
      {
       "output_type": "stream",
       "stream": "stdout",
       "text": [
        "\tLoss: 6.81e-04\tError: 2.56e-02\tStd dev: 1.92e-02\tResample: 7\n",
        "Chose theta = [ 1.5171966]."
       ]
      },
      {
       "output_type": "stream",
       "stream": "stdout",
       "text": [
        "\tLoss: 6.20e-04\tError: 2.44e-02\tStd dev: 1.92e-02\tResample: 7\n",
        "Chose theta = [ 1.50123741]."
       ]
      },
      {
       "output_type": "stream",
       "stream": "stdout",
       "text": [
        "\tLoss: 5.80e-04\tError: 2.36e-02\tStd dev: 1.92e-02\tResample: 7\n",
        "Chose theta = [ 1.50392735]."
       ]
      },
      {
       "output_type": "stream",
       "stream": "stdout",
       "text": [
        "\tLoss: 6.68e-04\tError: 2.53e-02\tStd dev: 1.91e-02\tResample: 7\n",
        "Chose theta = [ 1.5059589]."
       ]
      },
      {
       "output_type": "stream",
       "stream": "stdout",
       "text": [
        "\tLoss: 7.34e-04\tError: 2.66e-02\tStd dev: 1.89e-02\tResample: 7\n",
        "Chose theta = [ 1.52643628]."
       ]
      },
      {
       "output_type": "stream",
       "stream": "stdout",
       "text": [
        "\tLoss: 8.39e-04\tError: 2.85e-02\tStd dev: 1.87e-02\tResample: 7\n",
        "Chose theta = [ 3.04312528]."
       ]
      },
      {
       "output_type": "stream",
       "stream": "stdout",
       "text": [
        "\tLoss: 8.38e-04\tError: 2.84e-02\tStd dev: 1.87e-02\tResample: 7\n",
        "Chose theta = [ 1.50388778]."
       ]
      },
      {
       "output_type": "stream",
       "stream": "stdout",
       "text": [
        "\tLoss: 9.35e-04\tError: 3.01e-02\tStd dev: 1.86e-02\tResample: 7\n",
        "Chose theta = [ 6.22825562]."
       ]
      },
      {
       "output_type": "stream",
       "stream": "stdout",
       "text": [
        "\tLoss: 9.48e-04\tError: 3.02e-02\tStd dev: 1.85e-02\tResample: 7\n",
        "Chose theta = [ 1.49727723]."
       ]
      },
      {
       "output_type": "stream",
       "stream": "stdout",
       "text": [
        "\tLoss: 8.13e-04\tError: 2.80e-02\tStd dev: 1.86e-02\tResample: 7\n",
        "Chose theta = [ 6.21460754]."
       ]
      },
      {
       "output_type": "stream",
       "stream": "stdout",
       "text": [
        "\tLoss: 8.09e-04\tError: 2.79e-02\tStd dev: 1.86e-02\tResample: 7\n",
        "Chose theta = [ 1.50557281]."
       ]
      },
      {
       "output_type": "stream",
       "stream": "stdout",
       "text": [
        "\tLoss: 7.94e-04\tError: 2.76e-02\tStd dev: 1.86e-02\tResample: 7\n",
        "Chose theta = [ 1.47363958]."
       ]
      },
      {
       "output_type": "stream",
       "stream": "stdout",
       "text": [
        "\tLoss: 9.00e-04\tError: 2.95e-02\tStd dev: 1.84e-02\tResample: 7\n",
        "Chose theta = [ 1.53078364]."
       ]
      },
      {
       "output_type": "stream",
       "stream": "stdout",
       "text": [
        "\tLoss: 8.14e-04\tError: 2.80e-02\tStd dev: 1.84e-02\tResample: 7\n",
        "Chose theta = [ 1.51383885]."
       ]
      },
      {
       "output_type": "stream",
       "stream": "stdout",
       "text": [
        "\tLoss: 8.56e-04\tError: 2.87e-02\tStd dev: 1.83e-02\tResample: 7\n",
        "Chose theta = [ 6.21944987]."
       ]
      },
      {
       "output_type": "stream",
       "stream": "stdout",
       "text": [
        "\tLoss: 8.18e-04\tError: 2.82e-02\tStd dev: 1.84e-02\tResample: 7\n",
        "Chose theta = [ 1.5541774]."
       ]
      },
      {
       "output_type": "stream",
       "stream": "stdout",
       "text": [
        "\tLoss: 6.72e-04\tError: 2.56e-02\tStd dev: 1.85e-02\tResample: 7\n",
        "Chose theta = [ 1.5129472]."
       ]
      },
      {
       "output_type": "stream",
       "stream": "stdout",
       "text": [
        "\tLoss: 7.62e-04\tError: 2.73e-02\tStd dev: 1.84e-02\tResample: 7\n",
        "Chose theta = [ 1.50215947]."
       ]
      },
      {
       "output_type": "stream",
       "stream": "stdout",
       "text": [
        "\tLoss: 6.48e-04\tError: 2.51e-02\tStd dev: 1.84e-02\tResample: 7\n",
        "Chose theta = [ 6.19452264]."
       ]
      },
      {
       "output_type": "stream",
       "stream": "stdout",
       "text": [
        "\tLoss: 6.45e-04\tError: 2.51e-02\tStd dev: 1.84e-02\tResample: 7\n",
        "Chose theta = [ 1.50848596]."
       ]
      },
      {
       "output_type": "stream",
       "stream": "stdout",
       "text": [
        "\tLoss: 7.30e-04\tError: 2.67e-02\tStd dev: 1.83e-02\tResample: 7\n",
        "Chose theta = [ 1.51343293]."
       ]
      },
      {
       "output_type": "stream",
       "stream": "stdout",
       "text": [
        "\tLoss: 7.20e-04\tError: 2.65e-02\tStd dev: 1.82e-02\tResample: 7\n",
        "Chose theta = [ 1.51220629]."
       ]
      },
      {
       "output_type": "stream",
       "stream": "stdout",
       "text": [
        "\tLoss: 7.09e-04\tError: 2.63e-02\tStd dev: 1.82e-02\tResample: 7\n",
        "Chose theta = [ 1.5213205]."
       ]
      },
      {
       "output_type": "stream",
       "stream": "stdout",
       "text": [
        "\tLoss: 6.10e-04\tError: 2.44e-02\tStd dev: 1.82e-02\tResample: 7\n",
        "Chose theta = [ 6.24808125]."
       ]
      },
      {
       "output_type": "stream",
       "stream": "stdout",
       "text": [
        "\tLoss: 5.92e-04\tError: 2.41e-02\tStd dev: 1.83e-02\tResample: 7\n",
        "Chose theta = [ 1.5098977]."
       ]
      },
      {
       "output_type": "stream",
       "stream": "stdout",
       "text": [
        "\tLoss: 6.04e-04\tError: 2.43e-02\tStd dev: 1.82e-02\tResample: 7\n",
        "Chose theta = [ 1.52474722]."
       ]
      },
      {
       "output_type": "stream",
       "stream": "stdout",
       "text": [
        "\tLoss: 5.36e-04\tError: 2.29e-02\tStd dev: 1.82e-02\tResample: 7\n",
        "Chose theta = [ 6.21790434]."
       ]
      },
      {
       "output_type": "stream",
       "stream": "stdout",
       "text": [
        "\tLoss: 5.20e-04\tError: 2.26e-02\tStd dev: 1.82e-02\tResample: 7\n",
        "Chose theta = [ 1.51755259]."
       ]
      },
      {
       "output_type": "stream",
       "stream": "stdout",
       "text": [
        "\tLoss: 4.93e-04\tError: 2.21e-02\tStd dev: 1.82e-02\tResample: 7\n",
        "Chose theta = [ 1.51070757]."
       ]
      },
      {
       "output_type": "stream",
       "stream": "stdout",
       "text": [
        "\tLoss: 5.68e-04\tError: 2.37e-02\tStd dev: 1.81e-02\tResample: 7\n",
        "Chose theta = [ 1.53854208]."
       ]
      },
      {
       "output_type": "stream",
       "stream": "stdout",
       "text": [
        "\tLoss: 5.70e-04\tError: 2.37e-02\tStd dev: 1.80e-02\tResample: 7\n",
        "Chose theta = [ 1.5198966]."
       ]
      },
      {
       "output_type": "stream",
       "stream": "stdout",
       "text": [
        "\tLoss: 5.64e-04\tError: 2.36e-02\tStd dev: 1.80e-02\tResample: 7\n",
        "Chose theta = [ 1.49118893]."
       ]
      },
      {
       "output_type": "stream",
       "stream": "stdout",
       "text": [
        "\tLoss: 5.27e-04\tError: 2.28e-02\tStd dev: 1.79e-02\tResample: 7\n",
        "Chose theta = [ 6.2259302]."
       ]
      },
      {
       "output_type": "stream",
       "stream": "stdout",
       "text": [
        "\tLoss: 5.25e-04\tError: 2.28e-02\tStd dev: 1.79e-02\tResample: 7\n",
        "Chose theta = [ 1.48550028]."
       ]
      },
      {
       "output_type": "stream",
       "stream": "stdout",
       "text": [
        "\tLoss: 4.69e-04\tError: 2.15e-02\tStd dev: 1.79e-02\tResample: 7\n",
        "Chose theta = [ 6.22774936]."
       ]
      },
      {
       "output_type": "stream",
       "stream": "stdout",
       "text": [
        "\tLoss: 4.55e-04\tError: 2.12e-02\tStd dev: 1.80e-02\tResample: 7\n",
        "Chose theta = [ 6.22490842]."
       ]
      },
      {
       "output_type": "stream",
       "stream": "stdout",
       "text": [
        "\tLoss: 4.64e-04\tError: 2.14e-02\tStd dev: 1.79e-02\tResample: 7\n",
        "Chose theta = [ 1.48520866]."
       ]
      },
      {
       "output_type": "stream",
       "stream": "stdout",
       "text": [
        "\tLoss: 4.67e-04\tError: 2.15e-02\tStd dev: 1.79e-02\tResample: 7\n",
        "Chose theta = [ 6.2255541]."
       ]
      },
      {
       "output_type": "stream",
       "stream": "stdout",
       "text": [
        "\tLoss: 4.53e-04\tError: 2.12e-02\tStd dev: 1.79e-02\tResample: 7\n",
        "Chose theta = [ 6.25399385]."
       ]
      },
      {
       "output_type": "stream",
       "stream": "stdout",
       "text": [
        "\tLoss: 4.84e-04\tError: 2.18e-02\tStd dev: 1.79e-02\tResample: 7\n",
        "Chose theta = [ 1.52858204]."
       ]
      },
      {
       "output_type": "stream",
       "stream": "stdout",
       "text": [
        "\tLoss: 5.02e-04\tError: 2.22e-02\tStd dev: 1.78e-02\tResample: 7\n",
        "Chose theta = [ 1.52050943]."
       ]
      },
      {
       "output_type": "stream",
       "stream": "stdout",
       "text": [
        "\tLoss: 3.89e-04\tError: 1.95e-02\tStd dev: 1.79e-02\tResample: 7\n",
        "Chose theta = [ 1.4852177]."
       ]
      },
      {
       "output_type": "stream",
       "stream": "stdout",
       "text": [
        "\tLoss: 4.45e-04\tError: 2.09e-02\tStd dev: 1.78e-02\tResample: 7\n",
        "Chose theta = [ 1.4779658]."
       ]
      },
      {
       "output_type": "stream",
       "stream": "stdout",
       "text": [
        "\tLoss: 4.10e-04\tError: 2.01e-02\tStd dev: 1.77e-02\tResample: 7\n",
        "Chose theta = [ 6.20480135]."
       ]
      },
      {
       "output_type": "stream",
       "stream": "stdout",
       "text": [
        "\tLoss: 4.19e-04\tError: 2.02e-02\tStd dev: 1.77e-02\tResample: 7\n",
        "Chose theta = [ 1.50414961]."
       ]
      },
      {
       "output_type": "stream",
       "stream": "stdout",
       "text": [
        "\tLoss: 4.11e-04\tError: 2.00e-02\tStd dev: 1.77e-02\tResample: 7\n",
        "0.897 \u00b1 0.007\t"
       ]
      },
      {
       "output_type": "stream",
       "stream": "stdout",
       "text": [
        " -6.59e-07 \u00b1 2.86e-05\t 0.0644 \u00b1 0.0177\t 1.02 \u00b1 0.00521\t\n",
        "[ 0.9        0.         0.0844303  1.02     ]\n"
       ]
      },
      {
       "metadata": {},
       "output_type": "display_data",
       "png": "[encoded data removed]",
       "text": [
        "<matplotlib.figure.Figure at 0x3672810>"
       ]
      }
     ],
     "prompt_number": 20
    },
    {
     "cell_type": "code",
     "collapsed": false,
     "input": [
      "plot_kernel_smoothed_pdf(updater_adaptive)"
     ],
     "language": "python",
     "metadata": {},
     "outputs": [
      {
       "metadata": {},
       "output_type": "display_data",
       "png": "[encoded data removed]",
       "text": [
        "<matplotlib.figure.Figure at 0x4e41e90>"
       ]
      }
     ],
     "prompt_number": 20
    },
    {
     "cell_type": "code",
     "collapsed": false,
     "input": [
      "def do_adaptive_ex(n_particles=100000, warmup_exparams=(), n_thetas=11, n_guesses=3, n_neutrons=10, n_warmup_neutrons=10, quiet=False):\n",
      "    updater = smc.SMCUpdater(neutron_model_ex, n_particles, neutron_prior_ex, resampler=resamplers.LiuWestResampler(a=0.98), resample_thresh=0.5)\n",
      "    designer = expdesign.ExperimentDesigner(updater)\n",
      "    \n",
      "    best_thetas = []\n",
      "    error_hist = []\n",
      "    \n",
      "    def objective(theta):\n",
      "        \n",
      "        return updater.bayes_risk(                                  \n",
      "            np.array([tuple(theta)+(1,)], dtype=neutron_model_ex.expparams_dtype)\n",
      "        )\n",
      "    \n",
      "    def perform(exparam, n):        \n",
      "        experiment = np.array([tuple(exparam)+ (n,)], dtype=neutron_model_ex.expparams_dtype)        \n",
      "        datum = neutron_model_ex.simulate_experiment(true_modelparams_ex, experiment)\n",
      "        updater.update(datum, experiment)\n",
      "        mu = updater.est_mean()\n",
      "        loss = np.dot(updater.model.Q, (true_modelparams_ex[0, :] - mu)**2)\n",
      "        error = np.abs(mu[2] - true_modelparams_ex[0, 2])\n",
      "        error_hist.append(error)\n",
      "        if not quiet:\n",
      "            print(\"Loss: {:.2e}\\tError: {:.2e}\\tStd dev: {:.2e}\\tResample: {}\".format(loss, error, np.sqrt(updater.est_covariance_mtx()[2,2]), updater.resample_count))\n",
      "        \n",
      "    [perform(exparam, n_warmup_neutrons) for exparam in warmup_exparams]\n",
      "    \n",
      "    for idx_theta in xrange(n_thetas):\n",
      "        \n",
      "        best_theta = None\n",
      "        best_risk  = None\n",
      "        \n",
      "        est_phi = updater.est_mean()[2]\n",
      "        \n",
      "        for idx_guess in xrange(n_guesses):\n",
      "            idx_particle = np.argmax(np.ceil(np.cumsum(updater.particle_weights) - np.random.random()))\n",
      "            idx_pi = np.random.randint(1, 5) # If this is zero, we pick a random theta [0, 2 * pi].\n",
      "            guess = (\n",
      "                idx_pi * np.pi / 2 - updater.particle_locations[idx_particle, 2, np.newaxis] / updater.particle_locations[idx_particle, 3, np.newaxis]\n",
      "            ) # if idx_pi != 0 else TWO_PI * random.random((1,))\n",
      "            result = minimize(objective, (guess,293.15,0.70), bounds=[(0, 2 * np.pi),(270.,310.),(0.,1.)], method='TNC', options={'maxiter': 2})\n",
      "            \n",
      "            if best_risk is None or result.fun < best_risk:\n",
      "                best_theta = result.x\n",
      "                best_risk = result.fun\n",
      "        \n",
      "        if not quiet:\n",
      "            print(u\"Chose theta = {}.\".format(best_theta), end='\\t')\n",
      "            \n",
      "        best_thetas.append(best_theta)\n",
      "        perform(best_theta, n_neutrons)\n",
      "        \n",
      "    f_post = plot_risks_ex(updater)\n",
      "    print(*[u\"{:0.3} \u00b1 {:0.3}\\t\".format(mu, sigma) for mu, sigma in zip(updater.est_mean(), np.sqrt(np.diag(updater.est_covariance_mtx())))])\n",
      "    print(*true_modelparams)\n",
      "    return f_post, error_hist, updater, best_thetas"
     ],
     "language": "python",
     "metadata": {},
     "outputs": [],
     "prompt_number": 121
    },
    {
     "cell_type": "code",
     "collapsed": false,
     "input": [
      "warmup_thetas = np.linspace(0, np.pi/10, 19)\n",
      "warmup_temps = np.random.normal(293.16,0.15,19)\n",
      "warmup_humids = np.random.normal(0.7,0.01,19)\n",
      "exparams = zip(warmup_thetas,warmup_temps,warmup_humids)"
     ],
     "language": "python",
     "metadata": {},
     "outputs": [],
     "prompt_number": 122
    },
    {
     "cell_type": "code",
     "collapsed": false,
     "input": [
      "f_post, this_error_hist, updater_adaptive, best_thetas = do_adaptive_ex(n_thetas=200, n_guesses=5, warmup_exparams=exparams, n_neutrons=40, n_warmup_neutrons=100, quiet=False)"
     ],
     "language": "python",
     "metadata": {},
     "outputs": [
      {
       "output_type": "stream",
       "stream": "stdout",
       "text": [
        "Loss: 4.23e-03\tError: 6.45e-02\tStd dev: 9.65e-02\tResample: 1\n",
        "Loss: 5.37e-03\tError: 7.26e-02\tStd dev: 9.72e-02\tResample: 1\n",
        "Loss: 1.92e-03\tError: 4.38e-02\tStd dev: 8.37e-02\tResample: 1"
       ]
      },
      {
       "output_type": "stream",
       "stream": "stdout",
       "text": [
        "\n",
        "Loss: 9.19e-04\tError: 2.98e-02\tStd dev: 7.54e-02\tResample: 1\n",
        "Loss: 2.80e-03\tError: 5.29e-02\tStd dev: 8.30e-02\tResample: 1"
       ]
      },
      {
       "output_type": "stream",
       "stream": "stdout",
       "text": [
        "\n",
        "Loss: 1.88e-03\tError: 4.33e-02\tStd dev: 7.78e-02\tResample: 1\n",
        "Loss: 5.72e-03\tError: 7.55e-02\tStd dev: 8.56e-02\tResample: 1"
       ]
      },
      {
       "output_type": "stream",
       "stream": "stdout",
       "text": [
        "\n",
        "Loss: 3.69e-03\tError: 6.07e-02\tStd dev: 8.04e-02\tResample: 1\n",
        "Loss: 3.58e-03\tError: 5.98e-02\tStd dev: 7.86e-02\tResample: 1"
       ]
      },
      {
       "output_type": "stream",
       "stream": "stdout",
       "text": [
        "\n",
        "Loss: 4.94e-03\tError: 7.02e-02\tStd dev: 7.92e-02\tResample: 1\n",
        "Loss: 4.27e-03\tError: 6.53e-02\tStd dev: 7.69e-02\tResample: 1"
       ]
      },
      {
       "output_type": "stream",
       "stream": "stdout",
       "text": [
        "\n",
        "Loss: 4.29e-03\tError: 6.54e-02\tStd dev: 7.55e-02\tResample: 1\n",
        "Loss: 4.09e-03\tError: 6.39e-02\tStd dev: 7.39e-02\tResample: 1"
       ]
      },
      {
       "output_type": "stream",
       "stream": "stdout",
       "text": [
        "\n",
        "Loss: 3.16e-03\tError: 5.61e-02\tStd dev: 7.05e-02\tResample: 2"
       ]
      },
      {
       "output_type": "stream",
       "stream": "stdout",
       "text": [
        "\n",
        "Loss: 1.78e-03\tError: 4.21e-02\tStd dev: 6.67e-02\tResample: 2\n",
        "Loss: 3.41e-03\tError: 5.83e-02\tStd dev: 6.80e-02\tResample: 2"
       ]
      },
      {
       "output_type": "stream",
       "stream": "stdout",
       "text": [
        "\n",
        "Loss: 7.95e-04\tError: 2.79e-02\tStd dev: 6.17e-02\tResample: 2\n",
        "Loss: 2.34e-04\tError: 1.47e-02\tStd dev: 5.72e-02\tResample: 2"
       ]
      },
      {
       "output_type": "stream",
       "stream": "stdout",
       "text": [
        "\n",
        "Loss: 4.70e-04\tError: 2.12e-02\tStd dev: 5.80e-02\tResample: 2\n",
        "Chose theta = [   4.68459003  293.15          0.7       ]."
       ]
      },
      {
       "output_type": "stream",
       "stream": "stdout",
       "text": [
        "\tLoss: 1.01e-03\tError: 3.17e-02\tStd dev: 5.73e-02\tResample: 2\n",
        "Chose theta = [   1.48750039  293.15          0.7       ]."
       ]
      },
      {
       "output_type": "stream",
       "stream": "stdout",
       "text": [
        "\tLoss: 1.33e-04\tError: 9.48e-03\tStd dev: 5.21e-02\tResample: 2\n",
        "Chose theta = [   1.47664572  293.15          0.7       ]."
       ]
      },
      {
       "output_type": "stream",
       "stream": "stdout",
       "text": [
        "\tLoss: 4.29e-04\tError: 2.02e-02\tStd dev: 5.24e-02\tResample: 2\n",
        "Chose theta = [   5.39685852  270.            0.64860956]."
       ]
      },
      {
       "output_type": "stream",
       "stream": "stdout",
       "text": [
        "\tLoss: 1.05e-04\tError: 6.63e-03\tStd dev: 4.83e-02\tResample: 2\n",
        "Chose theta = [   2.92669932  293.15          0.7       ]."
       ]
      },
      {
       "output_type": "stream",
       "stream": "stdout",
       "text": [
        "\tLoss: 9.66e-05\tError: 2.37e-03\tStd dev: 4.71e-02\tResample: 2\n",
        "Chose theta = [   1.52828415  293.15          0.7       ]."
       ]
      },
      {
       "output_type": "stream",
       "stream": "stdout",
       "text": [
        "\tLoss: 9.85e-05\tError: 4.27e-04\tStd dev: 4.54e-02\tResample: 2\n",
        "Chose theta = [   6.1630815  293.15         0.7      ]."
       ]
      },
      {
       "output_type": "stream",
       "stream": "stdout",
       "text": [
        "\tLoss: 1.22e-04\tError: 1.03e-03\tStd dev: 4.52e-02\tResample: 2\n",
        "Chose theta = [   6.12878852  293.15          0.7       ]."
       ]
      },
      {
       "output_type": "stream",
       "stream": "stdout",
       "text": [
        "\tLoss: 1.57e-04\tError: 2.91e-03\tStd dev: 4.47e-02\tResample: 2\n",
        "Chose theta = [   3.01427626  293.15          0.7       ]."
       ]
      },
      {
       "output_type": "stream",
       "stream": "stdout",
       "text": [
        "\tLoss: 2.06e-04\tError: 5.11e-03\tStd dev: 4.41e-02\tResample: 2\n",
        "Chose theta = [   3.02958554  293.15          0.7       ]."
       ]
      },
      {
       "output_type": "stream",
       "stream": "stdout",
       "text": [
        "\tLoss: 3.33e-04\tError: 8.78e-03\tStd dev: 4.23e-02\tResample: 3"
       ]
      },
      {
       "output_type": "stream",
       "stream": "stdout",
       "text": [
        "\n",
        "Chose theta = [   4.69319452  293.15          0.7       ]."
       ]
      },
      {
       "output_type": "stream",
       "stream": "stdout",
       "text": [
        "\tLoss: 8.02e-04\tError: 2.16e-02\tStd dev: 3.72e-02\tResample: 3\n",
        "Chose theta = [   4.68229214  293.15          0.7       ]."
       ]
      },
      {
       "output_type": "stream",
       "stream": "stdout",
       "text": [
        "\tLoss: 8.42e-04\tError: 2.24e-02\tStd dev: 3.63e-02\tResample: 3\n",
        "Chose theta = [   1.54753313  293.15          0.7       ]."
       ]
      },
      {
       "output_type": "stream",
       "stream": "stdout",
       "text": [
        "\tLoss: 7.79e-04\tError: 2.11e-02\tStd dev: 3.61e-02\tResample: 3\n",
        "Chose theta = [   4.67957562  293.15          0.7       ]."
       ]
      },
      {
       "output_type": "stream",
       "stream": "stdout",
       "text": [
        "\tLoss: 9.10e-04\tError: 2.37e-02\tStd dev: 3.48e-02\tResample: 3\n",
        "Chose theta = [   1.5508188  293.15         0.7      ]."
       ]
      },
      {
       "output_type": "stream",
       "stream": "stdout",
       "text": [
        "\tLoss: 7.47e-04\tError: 2.04e-02\tStd dev: 3.52e-02\tResample: 3\n",
        "Chose theta = [   1.52513765  293.15          0.7       ]."
       ]
      },
      {
       "output_type": "stream",
       "stream": "stdout",
       "text": [
        "\tLoss: 1.06e-03\tError: 2.63e-02\tStd dev: 3.29e-02\tResample: 3\n",
        "Chose theta = [   1.54376211  293.15          0.7       ]."
       ]
      },
      {
       "output_type": "stream",
       "stream": "stdout",
       "text": [
        "\tLoss: 8.76e-04\tError: 2.30e-02\tStd dev: 3.34e-02\tResample: 3\n",
        "Chose theta = [   1.55137768  293.15          0.7       ]."
       ]
      },
      {
       "output_type": "stream",
       "stream": "stdout",
       "text": [
        "\tLoss: 9.18e-04\tError: 2.38e-02\tStd dev: 3.27e-02\tResample: 3\n",
        "Chose theta = [   5.31507178  310.            0.69455051]."
       ]
      },
      {
       "output_type": "stream",
       "stream": "stdout",
       "text": [
        "\tLoss: 6.11e-04\tError: 1.79e-02\tStd dev: 3.40e-02\tResample: 3\n",
        "Chose theta = [   1.52181191  293.15          0.7       ]."
       ]
      },
      {
       "output_type": "stream",
       "stream": "stdout",
       "text": [
        "\tLoss: 6.10e-04\tError: 1.78e-02\tStd dev: 3.35e-02\tResample: 3\n",
        "Chose theta = [   2.59229874  310.            0.83501067]."
       ]
      },
      {
       "output_type": "stream",
       "stream": "stdout",
       "text": [
        "\tLoss: 3.72e-04\tError: 1.21e-02\tStd dev: 3.44e-02\tResample: 3\n",
        "Chose theta = [   1.50971782  293.15          0.7       ]."
       ]
      },
      {
       "output_type": "stream",
       "stream": "stdout",
       "text": [
        "\tLoss: 2.68e-04\tError: 7.83e-03\tStd dev: 3.47e-02\tResample: 3\n",
        "Chose theta = [   1.47559296  293.15          0.7       ]."
       ]
      },
      {
       "output_type": "stream",
       "stream": "stdout",
       "text": [
        "\tLoss: 5.62e-04\tError: 1.76e-02\tStd dev: 3.24e-02\tResample: 3\n",
        "Chose theta = [   1.49180285  293.15          0.7       ]."
       ]
      },
      {
       "output_type": "stream",
       "stream": "stdout",
       "text": [
        "\tLoss: 6.63e-04\tError: 2.00e-02\tStd dev: 3.15e-02\tResample: 3\n",
        "Chose theta = [   4.64658026  293.15          0.7       ]."
       ]
      },
      {
       "output_type": "stream",
       "stream": "stdout",
       "text": [
        "\tLoss: 5.26e-04\tError: 1.67e-02\tStd dev: 3.19e-02\tResample: 3\n",
        "Chose theta = [   3.04888374  293.15          0.7       ]."
       ]
      },
      {
       "output_type": "stream",
       "stream": "stdout",
       "text": [
        "\tLoss: 5.03e-04\tError: 1.64e-02\tStd dev: 3.19e-02\tResample: 3\n",
        "Chose theta = [   1.532609  293.15        0.7     ]."
       ]
      },
      {
       "output_type": "stream",
       "stream": "stdout",
       "text": [
        "\tLoss: 5.14e-04\tError: 1.67e-02\tStd dev: 3.15e-02\tResample: 3\n",
        "Chose theta = [   1.5085393  293.15         0.7      ]."
       ]
      },
      {
       "output_type": "stream",
       "stream": "stdout",
       "text": [
        "\tLoss: 5.59e-04\tError: 1.78e-02\tStd dev: 3.09e-02\tResample: 3\n",
        "Chose theta = [   1.55649639  293.15          0.7       ]."
       ]
      },
      {
       "output_type": "stream",
       "stream": "stdout",
       "text": [
        "\tLoss: 4.74e-04\tError: 1.56e-02\tStd dev: 3.10e-02\tResample: 3\n",
        "Chose theta = [   1.54247717  293.15          0.7       ]."
       ]
      },
      {
       "output_type": "stream",
       "stream": "stdout",
       "text": [
        "\tLoss: 3.88e-04\tError: 1.30e-02\tStd dev: 3.10e-02\tResample: 3\n",
        "Chose theta = [   4.66916363  293.15          0.7       ]."
       ]
      },
      {
       "output_type": "stream",
       "stream": "stdout",
       "text": [
        "\tLoss: 4.82e-04\tError: 1.58e-02\tStd dev: 3.04e-02\tResample: 3\n",
        "Chose theta = [   1.53131525  293.15          0.7       ]."
       ]
      },
      {
       "output_type": "stream",
       "stream": "stdout",
       "text": [
        "\tLoss: 6.66e-04\tError: 2.03e-02\tStd dev: 2.93e-02\tResample: 3\n",
        "Chose theta = [   1.91827824  270.            0.66820651]."
       ]
      },
      {
       "output_type": "stream",
       "stream": "stdout",
       "text": [
        "\tLoss: 6.49e-04\tError: 2.00e-02\tStd dev: 2.91e-02\tResample: 3\n",
        "Chose theta = [   1.88241877  310.            0.71576128]."
       ]
      },
      {
       "output_type": "stream",
       "stream": "stdout",
       "text": [
        "\tLoss: 4.14e-04\tError: 1.41e-02\tStd dev: 2.96e-02\tResample: 3\n",
        "Chose theta = [   4.79514257  310.            0.70694618]."
       ]
      },
      {
       "output_type": "stream",
       "stream": "stdout",
       "text": [
        "\tLoss: 4.70e-04\tError: 1.57e-02\tStd dev: 2.92e-02\tResample: 3\n",
        "Chose theta = [   1.50254028  293.15          0.7       ]."
       ]
      },
      {
       "output_type": "stream",
       "stream": "stdout",
       "text": [
        "\tLoss: 3.25e-04\tError: 1.10e-02\tStd dev: 2.95e-02\tResample: 3\n",
        "Chose theta = [   1.49259567  293.15          0.7       ]."
       ]
      },
      {
       "output_type": "stream",
       "stream": "stdout",
       "text": [
        "\tLoss: 2.21e-04\tError: 6.13e-03\tStd dev: 2.97e-02\tResample: 3\n",
        "Chose theta = [   1.51281009  293.15          0.7       ]."
       ]
      },
      {
       "output_type": "stream",
       "stream": "stdout",
       "text": [
        "\tLoss: 1.70e-04\tError: 1.80e-03\tStd dev: 2.98e-02\tResample: 3\n",
        "Chose theta = [   1.49713953  293.15          0.7       ]."
       ]
      },
      {
       "output_type": "stream",
       "stream": "stdout",
       "text": [
        "\tLoss: 1.62e-04\tError: 4.25e-03\tStd dev: 2.98e-02\tResample: 3\n",
        "Chose theta = [   1.4705066  293.15         0.7      ]."
       ]
      },
      {
       "output_type": "stream",
       "stream": "stdout",
       "text": [
        "\tLoss: 1.80e-04\tError: 3.05e-03\tStd dev: 2.91e-02\tResample: 3\n",
        "Chose theta = [   4.642407  293.15        0.7     ]."
       ]
      },
      {
       "output_type": "stream",
       "stream": "stdout",
       "text": [
        "\tLoss: 1.69e-04\tError: 1.86e-03\tStd dev: 2.90e-02\tResample: 3\n",
        "Chose theta = [   1.50381705  293.15          0.7       ]."
       ]
      },
      {
       "output_type": "stream",
       "stream": "stdout",
       "text": [
        "\tLoss: 2.32e-04\tError: 6.82e-03\tStd dev: 2.84e-02\tResample: 3\n",
        "Chose theta = [   1.49405313  293.15          0.7       ]."
       ]
      },
      {
       "output_type": "stream",
       "stream": "stdout",
       "text": [
        "\tLoss: 2.46e-04\tError: 7.54e-03\tStd dev: 2.80e-02\tResample: 3\n",
        "Chose theta = [   1.51715842  293.15          0.7       ]."
       ]
      },
      {
       "output_type": "stream",
       "stream": "stdout",
       "text": [
        "\tLoss: 2.45e-04\tError: 7.51e-03\tStd dev: 2.78e-02\tResample: 3\n",
        "Chose theta = [   1.50905322  293.15          0.7       ]."
       ]
      },
      {
       "output_type": "stream",
       "stream": "stdout",
       "text": [
        "\tLoss: 2.02e-04\tError: 4.89e-03\tStd dev: 2.77e-02\tResample: 3\n",
        "Chose theta = [   4.61431441  293.15          0.7       ]."
       ]
      },
      {
       "output_type": "stream",
       "stream": "stdout",
       "text": [
        "\tLoss: 2.68e-04\tError: 8.59e-03\tStd dev: 2.73e-02\tResample: 3\n",
        "Chose theta = [   2.28664869  310.            0.71792067]."
       ]
      },
      {
       "output_type": "stream",
       "stream": "stdout",
       "text": [
        "\tLoss: 2.75e-04\tError: 8.85e-03\tStd dev: 2.71e-02\tResample: 3\n",
        "Chose theta = [   1.52376367  293.15          0.7       ]."
       ]
      },
      {
       "output_type": "stream",
       "stream": "stdout",
       "text": [
        "\tLoss: 1.84e-04\tError: 3.17e-03\tStd dev: 2.72e-02\tResample: 3\n",
        "Chose theta = [   1.52651784  293.15          0.7       ]."
       ]
      },
      {
       "output_type": "stream",
       "stream": "stdout",
       "text": [
        "\tLoss: 1.75e-04\tError: 2.24e-03\tStd dev: 2.70e-02\tResample: 3\n",
        "Chose theta = [   1.50199224  293.15          0.7       ]."
       ]
      },
      {
       "output_type": "stream",
       "stream": "stdout",
       "text": [
        "\tLoss: 1.73e-04\tError: 1.98e-03\tStd dev: 2.68e-02\tResample: 3\n",
        "Chose theta = [   1.51338772  293.15          0.7       ]."
       ]
      },
      {
       "output_type": "stream",
       "stream": "stdout",
       "text": [
        "\tLoss: 1.59e-04\tError: 1.38e-03\tStd dev: 2.67e-02\tResample: 3\n",
        "Chose theta = [   1.45361311  293.15          0.7       ]."
       ]
      },
      {
       "output_type": "stream",
       "stream": "stdout",
       "text": [
        "\tLoss: 1.65e-04\tError: 7.34e-04\tStd dev: 2.64e-02\tResample: 3\n",
        "Chose theta = [   1.50743822  293.15          0.7       ]."
       ]
      },
      {
       "output_type": "stream",
       "stream": "stdout",
       "text": [
        "\tLoss: 1.60e-04\tError: 4.59e-04\tStd dev: 2.63e-02\tResample: 3\n",
        "Chose theta = [   1.50172989  293.15          0.7       ]."
       ]
      },
      {
       "output_type": "stream",
       "stream": "stdout",
       "text": [
        "\tLoss: 2.14e-04\tError: 5.59e-03\tStd dev: 2.58e-02\tResample: 3\n",
        "Chose theta = [   1.48535273  293.15          0.7       ]."
       ]
      },
      {
       "output_type": "stream",
       "stream": "stdout",
       "text": [
        "\tLoss: 1.92e-04\tError: 3.97e-03\tStd dev: 2.57e-02\tResample: 3\n",
        "Chose theta = [   1.31877563  310.            0.7084404 ]."
       ]
      },
      {
       "output_type": "stream",
       "stream": "stdout",
       "text": [
        "\tLoss: 1.67e-04\tError: 3.98e-04\tStd dev: 2.56e-02\tResample: 3\n",
        "Chose theta = [   1.40703069  293.15          0.7       ]."
       ]
      },
      {
       "output_type": "stream",
       "stream": "stdout",
       "text": [
        "\tLoss: 1.88e-04\tError: 6.52e-03\tStd dev: 2.56e-02\tResample: 3\n",
        "Chose theta = [   1.48077973  293.15          0.7       ]."
       ]
      },
      {
       "output_type": "stream",
       "stream": "stdout",
       "text": [
        "\tLoss: 2.04e-04\tError: 8.00e-03\tStd dev: 2.55e-02\tResample: 3\n",
        "Chose theta = [   4.63028722  293.15          0.7       ]."
       ]
      },
      {
       "output_type": "stream",
       "stream": "stdout",
       "text": [
        "\tLoss: 1.87e-04\tError: 6.21e-03\tStd dev: 2.53e-02\tResample: 3\n",
        "Chose theta = [   4.60636789  293.15          0.7       ]."
       ]
      },
      {
       "output_type": "stream",
       "stream": "stdout",
       "text": [
        "\tLoss: 1.98e-04\tError: 7.36e-03\tStd dev: 2.53e-02\tResample: 3\n",
        "Chose theta = [   1.48875302  293.15          0.7       ]."
       ]
      },
      {
       "output_type": "stream",
       "stream": "stdout",
       "text": [
        "\tLoss: 2.45e-04\tError: 1.05e-02\tStd dev: 2.52e-02\tResample: 4"
       ]
      },
      {
       "output_type": "stream",
       "stream": "stdout",
       "text": [
        "\n",
        "Chose theta = [   1.50280428  293.15          0.7       ]."
       ]
      },
      {
       "output_type": "stream",
       "stream": "stdout",
       "text": [
        "\tLoss: 2.03e-04\tError: 7.68e-03\tStd dev: 2.49e-02\tResample: 4\n",
        "Chose theta = [   1.50116634  293.15          0.7       ]."
       ]
      },
      {
       "output_type": "stream",
       "stream": "stdout",
       "text": [
        "\tLoss: 2.30e-04\tError: 9.64e-03\tStd dev: 2.48e-02\tResample: 4\n",
        "Chose theta = [   1.44510057  293.15          0.7       ]."
       ]
      },
      {
       "output_type": "stream",
       "stream": "stdout",
       "text": [
        "\tLoss: 2.17e-04\tError: 8.80e-03\tStd dev: 2.46e-02\tResample: 4\n",
        "Chose theta = [   1.5186471  293.15         0.7      ]."
       ]
      },
      {
       "output_type": "stream",
       "stream": "stdout",
       "text": [
        "\tLoss: 2.03e-04\tError: 7.67e-03\tStd dev: 2.44e-02\tResample: 4\n",
        "Chose theta = [   1.47466859  293.15          0.7       ]."
       ]
      },
      {
       "output_type": "stream",
       "stream": "stdout",
       "text": [
        "\tLoss: 1.82e-04\tError: 5.52e-03\tStd dev: 2.42e-02\tResample: 4\n",
        "Chose theta = [   2.58130316  310.            0.72415426]."
       ]
      },
      {
       "output_type": "stream",
       "stream": "stdout",
       "text": [
        "\tLoss: 1.91e-04\tError: 3.93e-03\tStd dev: 2.41e-02\tResample: 4\n",
        "Chose theta = [   1.48337872  293.15          0.7       ]."
       ]
      },
      {
       "output_type": "stream",
       "stream": "stdout",
       "text": [
        "\tLoss: 1.89e-04\tError: 3.49e-03\tStd dev: 2.39e-02\tResample: 4\n",
        "Chose theta = [   1.48776052  293.15          0.7       ]."
       ]
      },
      {
       "output_type": "stream",
       "stream": "stdout",
       "text": [
        "\tLoss: 2.09e-04\tError: 2.90e-03\tStd dev: 2.36e-02\tResample: 4\n",
        "Chose theta = [   1.52942757  293.15          0.7       ]."
       ]
      },
      {
       "output_type": "stream",
       "stream": "stdout",
       "text": [
        "\tLoss: 1.85e-04\tError: 1.90e-03\tStd dev: 2.36e-02\tResample: 4\n",
        "Chose theta = [   1.52013936  293.15          0.7       ]."
       ]
      },
      {
       "output_type": "stream",
       "stream": "stdout",
       "text": [
        "\tLoss: 1.85e-04\tError: 2.61e-03\tStd dev: 2.34e-02\tResample: 4\n",
        "Chose theta = [   1.48121623  293.15          0.7       ]."
       ]
      },
      {
       "output_type": "stream",
       "stream": "stdout",
       "text": [
        "\tLoss: 1.98e-04\tError: 1.79e-03\tStd dev: 2.32e-02\tResample: 4\n",
        "Chose theta = [   1.53195494  310.            0.73588823]."
       ]
      },
      {
       "output_type": "stream",
       "stream": "stdout",
       "text": [
        "\tLoss: 2.25e-04\tError: 4.41e-03\tStd dev: 2.31e-02\tResample: 4\n",
        "Chose theta = [   1.48486792  293.15          0.7       ]."
       ]
      },
      {
       "output_type": "stream",
       "stream": "stdout",
       "text": [
        "\tLoss: 2.39e-04\tError: 5.50e-03\tStd dev: 2.29e-02\tResample: 4\n",
        "Chose theta = [   1.49056268  293.15          0.7       ]."
       ]
      },
      {
       "output_type": "stream",
       "stream": "stdout",
       "text": [
        "\tLoss: 2.34e-04\tError: 5.10e-03\tStd dev: 2.28e-02\tResample: 4\n",
        "Chose theta = [   1.49115797  293.15          0.7       ]."
       ]
      },
      {
       "output_type": "stream",
       "stream": "stdout",
       "text": [
        "\tLoss: 2.51e-04\tError: 6.24e-03\tStd dev: 2.26e-02\tResample: 4\n",
        "Chose theta = [   1.48459056  293.15          0.7       ]."
       ]
      },
      {
       "output_type": "stream",
       "stream": "stdout",
       "text": [
        "\tLoss: 2.01e-04\tError: 2.01e-03\tStd dev: 2.26e-02\tResample: 4\n",
        "Chose theta = [   6.16751563  293.15          0.7       ]."
       ]
      },
      {
       "output_type": "stream",
       "stream": "stdout",
       "text": [
        "\tLoss: 1.32e-04\tError: 7.69e-04\tStd dev: 2.26e-02\tResample: 4\n",
        "Chose theta = [   1.48776047  293.15          0.7       ]."
       ]
      },
      {
       "output_type": "stream",
       "stream": "stdout",
       "text": [
        "\tLoss: 1.28e-04\tError: 3.48e-04\tStd dev: 2.25e-02\tResample: 4\n",
        "Chose theta = [   1.50900553  293.15          0.7       ]."
       ]
      },
      {
       "output_type": "stream",
       "stream": "stdout",
       "text": [
        "\tLoss: 1.30e-04\tError: 3.20e-04\tStd dev: 2.23e-02\tResample: 4\n",
        "Chose theta = [   1.49010769  293.15          0.7       ]."
       ]
      },
      {
       "output_type": "stream",
       "stream": "stdout",
       "text": [
        "\tLoss: 1.27e-04\tError: 2.19e-03\tStd dev: 2.22e-02\tResample: 4\n",
        "Chose theta = [   2.35270578  310.            0.6514696 ]."
       ]
      },
      {
       "output_type": "stream",
       "stream": "stdout",
       "text": [
        "\tLoss: 1.20e-04\tError: 5.04e-03\tStd dev: 2.22e-02\tResample: 4\n",
        "Chose theta = [   1.49889578  293.15          0.7       ]."
       ]
      },
      {
       "output_type": "stream",
       "stream": "stdout",
       "text": [
        "\tLoss: 1.27e-04\tError: 5.90e-03\tStd dev: 2.21e-02\tResample: 4\n",
        "Chose theta = [   1.49858603  293.15          0.7       ]."
       ]
      },
      {
       "output_type": "stream",
       "stream": "stdout",
       "text": [
        "\tLoss: 1.17e-04\tError: 4.61e-03\tStd dev: 2.19e-02\tResample: 4\n",
        "Chose theta = [   1.49980835  293.15          0.7       ]."
       ]
      },
      {
       "output_type": "stream",
       "stream": "stdout",
       "text": [
        "\tLoss: 1.08e-04\tError: 1.45e-04\tStd dev: 2.18e-02\tResample: 4\n",
        "Chose theta = [   2.93977092  310.            0.70038826]."
       ]
      },
      {
       "output_type": "stream",
       "stream": "stdout",
       "text": [
        "\tLoss: 1.03e-04\tError: 2.70e-05\tStd dev: 2.18e-02\tResample: 4\n",
        "Chose theta = [   1.50056139  293.15          0.7       ]."
       ]
      },
      {
       "output_type": "stream",
       "stream": "stdout",
       "text": [
        "\tLoss: 1.04e-04\tError: 4.87e-04\tStd dev: 2.17e-02\tResample: 4\n",
        "Chose theta = [   3.05449487  293.15          0.7       ]."
       ]
      },
      {
       "output_type": "stream",
       "stream": "stdout",
       "text": [
        "\tLoss: 9.94e-05\tError: 3.90e-04\tStd dev: 2.16e-02\tResample: 4\n",
        "Chose theta = [   2.87585897  310.            0.74172181]."
       ]
      },
      {
       "output_type": "stream",
       "stream": "stdout",
       "text": [
        "\tLoss: 6.00e-05\tError: 1.58e-03\tStd dev: 2.16e-02\tResample: 4\n",
        "Chose theta = [   1.50609658  293.15          0.7       ]."
       ]
      },
      {
       "output_type": "stream",
       "stream": "stdout",
       "text": [
        "\tLoss: 7.58e-05\tError: 3.06e-03\tStd dev: 2.15e-02\tResample: 4\n",
        "Chose theta = [   1.47380211  293.15          0.7       ]."
       ]
      },
      {
       "output_type": "stream",
       "stream": "stdout",
       "text": [
        "\tLoss: 8.28e-05\tError: 3.87e-03\tStd dev: 2.14e-02\tResample: 4\n",
        "Chose theta = [   1.51186237  293.15          0.7       ]."
       ]
      },
      {
       "output_type": "stream",
       "stream": "stdout",
       "text": [
        "\tLoss: 7.62e-05\tError: 3.13e-03\tStd dev: 2.13e-02\tResample: 4\n",
        "Chose theta = [   2.2872898   310.            0.71557281]."
       ]
      },
      {
       "output_type": "stream",
       "stream": "stdout",
       "text": [
        "\tLoss: 5.23e-05\tError: 8.95e-04\tStd dev: 2.12e-02\tResample: 4\n",
        "Chose theta = [   1.51087768  293.15          0.7       ]."
       ]
      },
      {
       "output_type": "stream",
       "stream": "stdout",
       "text": [
        "\tLoss: 5.43e-05\tError: 3.04e-03\tStd dev: 2.11e-02\tResample: 4\n",
        "Chose theta = [   2.26218941  310.            0.63989821]."
       ]
      },
      {
       "output_type": "stream",
       "stream": "stdout",
       "text": [
        "\tLoss: 6.02e-05\tError: 5.92e-04\tStd dev: 2.10e-02\tResample: 4\n",
        "Chose theta = [   1.43073826  293.15          0.7       ]."
       ]
      },
      {
       "output_type": "stream",
       "stream": "stdout",
       "text": [
        "\tLoss: 6.47e-05\tError: 2.81e-03\tStd dev: 2.09e-02\tResample: 4\n",
        "Chose theta = [   1.47862504  293.15          0.7       ]."
       ]
      },
      {
       "output_type": "stream",
       "stream": "stdout",
       "text": [
        "\tLoss: 6.10e-05\tError: 1.31e-03\tStd dev: 2.08e-02\tResample: 4\n",
        "Chose theta = [   6.19068217  293.15          0.7       ]."
       ]
      },
      {
       "output_type": "stream",
       "stream": "stdout",
       "text": [
        "\tLoss: 4.62e-05\tError: 1.83e-03\tStd dev: 2.08e-02\tResample: 4\n",
        "Chose theta = [   1.49380406  293.15          0.7       ]."
       ]
      },
      {
       "output_type": "stream",
       "stream": "stdout",
       "text": [
        "\tLoss: 4.50e-05\tError: 8.07e-04\tStd dev: 2.07e-02\tResample: 4\n",
        "Chose theta = [   1.51083742  293.15          0.7       ]."
       ]
      },
      {
       "output_type": "stream",
       "stream": "stdout",
       "text": [
        "\tLoss: 4.50e-05\tError: 8.43e-04\tStd dev: 2.06e-02\tResample: 4\n",
        "Chose theta = [   1.50850616  293.15          0.7       ]."
       ]
      },
      {
       "output_type": "stream",
       "stream": "stdout",
       "text": [
        "\tLoss: 4.77e-05\tError: 9.12e-04\tStd dev: 2.05e-02\tResample: 4\n",
        "Chose theta = [   6.17831671  293.15          0.7       ]."
       ]
      },
      {
       "output_type": "stream",
       "stream": "stdout",
       "text": [
        "\tLoss: 3.35e-05\tError: 4.35e-04\tStd dev: 2.05e-02\tResample: 5"
       ]
      },
      {
       "output_type": "stream",
       "stream": "stdout",
       "text": [
        "\n",
        "Chose theta = [   1.52461518  293.15          0.7       ]."
       ]
      },
      {
       "output_type": "stream",
       "stream": "stdout",
       "text": [
        "\tLoss: 3.80e-05\tError: 1.74e-03\tStd dev: 2.04e-02\tResample: 5\n",
        "Chose theta = [   1.48802675  293.15          0.7       ]."
       ]
      },
      {
       "output_type": "stream",
       "stream": "stdout",
       "text": [
        "\tLoss: 3.47e-05\tError: 8.34e-04\tStd dev: 2.03e-02\tResample: 5\n",
        "Chose theta = [   1.51646076  293.15          0.7       ]."
       ]
      },
      {
       "output_type": "stream",
       "stream": "stdout",
       "text": [
        "\tLoss: 4.30e-05\tError: 2.61e-03\tStd dev: 2.02e-02\tResample: 5\n",
        "Chose theta = [   1.49493672  293.15          0.7       ]."
       ]
      },
      {
       "output_type": "stream",
       "stream": "stdout",
       "text": [
        "\tLoss: 4.98e-05\tError: 3.53e-03\tStd dev: 2.02e-02\tResample: 5\n",
        "Chose theta = [   1.49746368  293.15          0.7       ]."
       ]
      },
      {
       "output_type": "stream",
       "stream": "stdout",
       "text": [
        "\tLoss: 3.75e-05\tError: 1.58e-03\tStd dev: 2.01e-02\tResample: 5\n",
        "Chose theta = [   2.64437067  310.            0.67018312]."
       ]
      },
      {
       "output_type": "stream",
       "stream": "stdout",
       "text": [
        "\tLoss: 5.77e-05\tError: 2.96e-03\tStd dev: 2.00e-02\tResample: 5\n",
        "Chose theta = [   6.19153809  293.15          0.7       ]."
       ]
      },
      {
       "output_type": "stream",
       "stream": "stdout",
       "text": [
        "\tLoss: 8.62e-05\tError: 3.61e-03\tStd dev: 2.01e-02\tResample: 5\n",
        "Chose theta = [   3.0314791  293.15         0.7      ]."
       ]
      },
      {
       "output_type": "stream",
       "stream": "stdout",
       "text": [
        "\tLoss: 6.59e-05\tError: 3.18e-03\tStd dev: 2.00e-02\tResample: 5\n",
        "Chose theta = [   1.48401602  293.15          0.7       ]."
       ]
      },
      {
       "output_type": "stream",
       "stream": "stdout",
       "text": [
        "\tLoss: 6.76e-05\tError: 3.40e-03\tStd dev: 1.99e-02\tResample: 5\n",
        "Chose theta = [   1.50376565  293.15          0.7       ]."
       ]
      },
      {
       "output_type": "stream",
       "stream": "stdout",
       "text": [
        "\tLoss: 8.94e-05\tError: 5.49e-03\tStd dev: 1.99e-02\tResample: 5\n",
        "Chose theta = [   1.50686877  293.15          0.7       ]."
       ]
      },
      {
       "output_type": "stream",
       "stream": "stdout",
       "text": [
        "\tLoss: 7.54e-05\tError: 4.25e-03\tStd dev: 1.98e-02\tResample: 5\n",
        "Chose theta = [   1.49608068  293.15          0.7       ]."
       ]
      },
      {
       "output_type": "stream",
       "stream": "stdout",
       "text": [
        "\tLoss: 5.72e-05\tError: 1.83e-03\tStd dev: 1.97e-02\tResample: 5\n",
        "Chose theta = [   1.48864996  293.15          0.7       ]."
       ]
      },
      {
       "output_type": "stream",
       "stream": "stdout",
       "text": [
        "\tLoss: 6.19e-05\tError: 2.64e-03\tStd dev: 1.96e-02\tResample: 5\n",
        "Chose theta = [   1.49601057  293.15          0.7       ]."
       ]
      },
      {
       "output_type": "stream",
       "stream": "stdout",
       "text": [
        "\tLoss: 5.17e-05\tError: 2.67e-04\tStd dev: 1.96e-02\tResample: 5\n",
        "Chose theta = [   1.47431908  293.15          0.7       ]."
       ]
      },
      {
       "output_type": "stream",
       "stream": "stdout",
       "text": [
        "\tLoss: 5.54e-05\tError: 1.48e-03\tStd dev: 1.95e-02\tResample: 5\n",
        "Chose theta = [   1.47022102  293.15          0.7       ]."
       ]
      },
      {
       "output_type": "stream",
       "stream": "stdout",
       "text": [
        "\tLoss: 6.16e-05\tError: 2.62e-03\tStd dev: 1.94e-02\tResample: 5\n",
        "Chose theta = [   1.45911314  293.15          0.7       ]."
       ]
      },
      {
       "output_type": "stream",
       "stream": "stdout",
       "text": [
        "\tLoss: 6.92e-05\tError: 3.64e-03\tStd dev: 1.93e-02\tResample: 5\n",
        "Chose theta = [   1.45647853  293.15          0.7       ]."
       ]
      },
      {
       "output_type": "stream",
       "stream": "stdout",
       "text": [
        "\tLoss: 6.46e-05\tError: 3.06e-03\tStd dev: 1.93e-02\tResample: 5\n",
        "Chose theta = [   6.14994344  310.            0.66128345]."
       ]
      },
      {
       "output_type": "stream",
       "stream": "stdout",
       "text": [
        "\tLoss: 4.79e-05\tError: 2.63e-03\tStd dev: 1.92e-02\tResample: 5\n",
        "Chose theta = [   1.45591048  293.15          0.7       ]."
       ]
      },
      {
       "output_type": "stream",
       "stream": "stdout",
       "text": [
        "\tLoss: 9.00e-05\tError: 6.69e-03\tStd dev: 1.92e-02\tResample: 5\n",
        "Chose theta = [   1.46295659  293.15          0.7       ]."
       ]
      },
      {
       "output_type": "stream",
       "stream": "stdout",
       "text": [
        "\tLoss: 5.93e-05\tError: 4.10e-03\tStd dev: 1.91e-02\tResample: 5\n",
        "Chose theta = [   3.07826617  293.15          0.7       ]."
       ]
      },
      {
       "output_type": "stream",
       "stream": "stdout",
       "text": [
        "\tLoss: 4.54e-05\tError: 3.82e-03\tStd dev: 1.91e-02\tResample: 5\n",
        "Chose theta = [   1.50806243  293.15          0.7       ]."
       ]
      },
      {
       "output_type": "stream",
       "stream": "stdout",
       "text": [
        "\tLoss: 3.70e-05\tError: 2.71e-03\tStd dev: 1.90e-02\tResample: 5\n",
        "Chose theta = [   3.03908121  293.15          0.7       ]."
       ]
      },
      {
       "output_type": "stream",
       "stream": "stdout",
       "text": [
        "\tLoss: 1.89e-05\tError: 2.06e-03\tStd dev: 1.89e-02\tResample: 5\n",
        "Chose theta = [   1.48625978  293.15          0.7       ]."
       ]
      },
      {
       "output_type": "stream",
       "stream": "stdout",
       "text": [
        "\tLoss: 3.88e-05\tError: 4.77e-03\tStd dev: 1.89e-02\tResample: 5\n",
        "Chose theta = [   3.03806353  293.15          0.7       ]."
       ]
      },
      {
       "output_type": "stream",
       "stream": "stdout",
       "text": [
        "\tLoss: 3.81e-05\tError: 4.75e-03\tStd dev: 1.89e-02\tResample: 5\n",
        "Chose theta = [   1.48993616  293.15          0.7       ]."
       ]
      },
      {
       "output_type": "stream",
       "stream": "stdout",
       "text": [
        "\tLoss: 8.03e-05\tError: 7.93e-03\tStd dev: 1.88e-02\tResample: 5\n",
        "Chose theta = [   1.46235252  293.15          0.7       ]."
       ]
      },
      {
       "output_type": "stream",
       "stream": "stdout",
       "text": [
        "\tLoss: 5.78e-05\tError: 6.41e-03\tStd dev: 1.88e-02\tResample: 5\n",
        "Chose theta = [   1.47529028  293.15          0.7       ]."
       ]
      },
      {
       "output_type": "stream",
       "stream": "stdout",
       "text": [
        "\tLoss: 7.29e-05\tError: 7.46e-03\tStd dev: 1.87e-02\tResample: 5\n",
        "Chose theta = [   1.49382649  293.15          0.7       ]."
       ]
      },
      {
       "output_type": "stream",
       "stream": "stdout",
       "text": [
        "\tLoss: 5.56e-05\tError: 6.25e-03\tStd dev: 1.86e-02\tResample: 5\n",
        "Chose theta = [   1.51873214  293.15          0.7       ]."
       ]
      },
      {
       "output_type": "stream",
       "stream": "stdout",
       "text": [
        "\tLoss: 7.61e-05\tError: 7.66e-03\tStd dev: 1.86e-02\tResample: 5\n",
        "Chose theta = [   1.46850717  293.15          0.7       ]."
       ]
      },
      {
       "output_type": "stream",
       "stream": "stdout",
       "text": [
        "\tLoss: 5.57e-05\tError: 6.24e-03\tStd dev: 1.85e-02\tResample: 5\n",
        "Chose theta = [   3.0676068  293.15         0.7      ]."
       ]
      },
      {
       "output_type": "stream",
       "stream": "stdout",
       "text": [
        "\tLoss: 4.70e-05\tError: 5.98e-03\tStd dev: 1.85e-02\tResample: 5\n",
        "Chose theta = [   1.47593107  293.15          0.7       ]."
       ]
      },
      {
       "output_type": "stream",
       "stream": "stdout",
       "text": [
        "\tLoss: 3.73e-05\tError: 5.12e-03\tStd dev: 1.84e-02\tResample: 5\n",
        "Chose theta = [   1.49243174  293.15          0.7       ]."
       ]
      },
      {
       "output_type": "stream",
       "stream": "stdout",
       "text": [
        "\tLoss: 3.03e-05\tError: 4.42e-03\tStd dev: 1.83e-02\tResample: 5\n",
        "Chose theta = [   1.52886063  293.15          0.7       ]."
       ]
      },
      {
       "output_type": "stream",
       "stream": "stdout",
       "text": [
        "\tLoss: 2.70e-05\tError: 4.04e-03\tStd dev: 1.83e-02\tResample: 5\n",
        "Chose theta = [   1.51147176  293.15          0.7       ]."
       ]
      },
      {
       "output_type": "stream",
       "stream": "stdout",
       "text": [
        "\tLoss: 1.69e-05\tError: 2.60e-03\tStd dev: 1.82e-02\tResample: 5\n",
        "Chose theta = [   1.47095053  293.15          0.7       ]."
       ]
      },
      {
       "output_type": "stream",
       "stream": "stdout",
       "text": [
        "\tLoss: 1.73e-05\tError: 2.67e-03\tStd dev: 1.82e-02\tResample: 5\n",
        "Chose theta = [   1.48129187  293.15          0.7       ]."
       ]
      },
      {
       "output_type": "stream",
       "stream": "stdout",
       "text": [
        "\tLoss: 2.43e-05\tError: 3.72e-03\tStd dev: 1.81e-02\tResample: 5\n",
        "Chose theta = [   6.1962627  293.15         0.7      ]."
       ]
      },
      {
       "output_type": "stream",
       "stream": "stdout",
       "text": [
        "\tLoss: 1.92e-05\tError: 3.36e-03\tStd dev: 1.81e-02\tResample: 5\n",
        "Chose theta = [   3.05363599  293.15          0.7       ]."
       ]
      },
      {
       "output_type": "stream",
       "stream": "stdout",
       "text": [
        "\tLoss: 1.90e-05\tError: 3.35e-03\tStd dev: 1.81e-02\tResample: 5\n",
        "Chose theta = [   1.49162978  293.15          0.7       ]."
       ]
      },
      {
       "output_type": "stream",
       "stream": "stdout",
       "text": [
        "\tLoss: 2.06e-05\tError: 3.58e-03\tStd dev: 1.80e-02\tResample: 5\n",
        "Chose theta = [   1.49178919  293.15          0.7       ]."
       ]
      },
      {
       "output_type": "stream",
       "stream": "stdout",
       "text": [
        "\tLoss: 1.18e-05\tError: 2.03e-03\tStd dev: 1.80e-02\tResample: 5\n",
        "Chose theta = [   1.48656538  293.15          0.7       ]."
       ]
      },
      {
       "output_type": "stream",
       "stream": "stdout",
       "text": [
        "\tLoss: 1.48e-05\tError: 2.66e-03\tStd dev: 1.79e-02\tResample: 5\n",
        "Chose theta = [   1.48232685  293.15          0.7       ]."
       ]
      },
      {
       "output_type": "stream",
       "stream": "stdout",
       "text": [
        "\tLoss: 1.57e-05\tError: 2.81e-03\tStd dev: 1.78e-02\tResample: 5\n",
        "Chose theta = [   1.24970689  270.            0.82869707]."
       ]
      },
      {
       "output_type": "stream",
       "stream": "stdout",
       "text": [
        "\tLoss: 1.37e-05\tError: 2.42e-03\tStd dev: 1.78e-02\tResample: 5\n",
        "Chose theta = [   1.44371755  293.15          0.7       ]."
       ]
      },
      {
       "output_type": "stream",
       "stream": "stdout",
       "text": [
        "\tLoss: 1.12e-05\tError: 1.83e-03\tStd dev: 1.77e-02\tResample: 5\n",
        "Chose theta = [   1.46803994  293.15          0.7       ]."
       ]
      },
      {
       "output_type": "stream",
       "stream": "stdout",
       "text": [
        "\tLoss: 1.54e-05\tError: 2.73e-03\tStd dev: 1.77e-02\tResample: 5\n",
        "Chose theta = [   3.06225784  293.15          0.7       ]."
       ]
      },
      {
       "output_type": "stream",
       "stream": "stdout",
       "text": [
        "\tLoss: 1.88e-05\tError: 2.93e-03\tStd dev: 1.77e-02\tResample: 5\n",
        "Chose theta = [   3.06708776  293.15          0.7       ]."
       ]
      },
      {
       "output_type": "stream",
       "stream": "stdout",
       "text": [
        "\tLoss: 1.51e-05\tError: 2.71e-03\tStd dev: 1.77e-02\tResample: 5\n",
        "Chose theta = [   3.06312399  293.15          0.7       ]."
       ]
      },
      {
       "output_type": "stream",
       "stream": "stdout",
       "text": [
        "\tLoss: 1.82e-05\tError: 2.90e-03\tStd dev: 1.77e-02\tResample: 5\n",
        "Chose theta = [   1.4786269  293.15         0.7      ]."
       ]
      },
      {
       "output_type": "stream",
       "stream": "stdout",
       "text": [
        "\tLoss: 1.65e-05\tError: 2.60e-03\tStd dev: 1.76e-02\tResample: 5\n",
        "Chose theta = [   2.68316884  310.            0.7289311 ]."
       ]
      },
      {
       "output_type": "stream",
       "stream": "stdout",
       "text": [
        "\tLoss: 2.91e-05\tError: 3.69e-03\tStd dev: 1.76e-02\tResample: 5\n",
        "Chose theta = [   1.49169295  293.15          0.7       ]."
       ]
      },
      {
       "output_type": "stream",
       "stream": "stdout",
       "text": [
        "\tLoss: 3.08e-05\tError: 3.90e-03\tStd dev: 1.76e-02\tResample: 5\n",
        "Chose theta = [   1.48195949  293.15          0.7       ]."
       ]
      },
      {
       "output_type": "stream",
       "stream": "stdout",
       "text": [
        "\tLoss: 3.96e-05\tError: 4.86e-03\tStd dev: 1.75e-02\tResample: 5\n",
        "Chose theta = [   1.47241114  293.15          0.7       ]."
       ]
      },
      {
       "output_type": "stream",
       "stream": "stdout",
       "text": [
        "\tLoss: 3.24e-05\tError: 4.09e-03\tStd dev: 1.75e-02\tResample: 5\n",
        "Chose theta = [   3.05686088  293.15          0.7       ]."
       ]
      },
      {
       "output_type": "stream",
       "stream": "stdout",
       "text": [
        "\tLoss: 3.85e-05\tError: 4.28e-03\tStd dev: 1.75e-02\tResample: 5\n",
        "Chose theta = [   0.44622337  270.            0.64526634]."
       ]
      },
      {
       "output_type": "stream",
       "stream": "stdout",
       "text": [
        "\tLoss: 3.98e-05\tError: 4.57e-03\tStd dev: 1.75e-02\tResample: 5\n",
        "Chose theta = [   1.50471417  293.15          0.7       ]."
       ]
      },
      {
       "output_type": "stream",
       "stream": "stdout",
       "text": [
        "\tLoss: 3.50e-05\tError: 4.05e-03\tStd dev: 1.74e-02\tResample: 5\n",
        "Chose theta = [   1.50182033  293.15          0.7       ]."
       ]
      },
      {
       "output_type": "stream",
       "stream": "stdout",
       "text": [
        "\tLoss: 2.29e-05\tError: 2.30e-03\tStd dev: 1.73e-02\tResample: 5\n",
        "Chose theta = [   1.48466942  293.15          0.7       ]."
       ]
      },
      {
       "output_type": "stream",
       "stream": "stdout",
       "text": [
        "\tLoss: 1.77e-05\tError: 8.40e-04\tStd dev: 1.73e-02\tResample: 5\n",
        "Chose theta = [   3.0336317  293.15         0.7      ]."
       ]
      },
      {
       "output_type": "stream",
       "stream": "stdout",
       "text": [
        "\tLoss: 1.73e-05\tError: 8.23e-04\tStd dev: 1.73e-02\tResample: 5\n",
        "Chose theta = [   1.50198057  293.15          0.7       ]."
       ]
      },
      {
       "output_type": "stream",
       "stream": "stdout",
       "text": [
        "\tLoss: 2.09e-05\tError: 1.92e-03\tStd dev: 1.72e-02\tResample: 5\n",
        "Chose theta = [   1.4090171   310.            0.46175615]."
       ]
      },
      {
       "output_type": "stream",
       "stream": "stdout",
       "text": [
        "\tLoss: 1.75e-05\tError: 7.23e-04\tStd dev: 1.72e-02\tResample: 5\n",
        "Chose theta = [   1.52120103  293.15          0.7       ]."
       ]
      },
      {
       "output_type": "stream",
       "stream": "stdout",
       "text": [
        "\tLoss: 1.75e-05\tError: 7.57e-04\tStd dev: 1.71e-02\tResample: 5\n",
        "Chose theta = [   3.05384471  293.15          0.7       ]."
       ]
      },
      {
       "output_type": "stream",
       "stream": "stdout",
       "text": [
        "\tLoss: 1.01e-05\tError: 3.46e-04\tStd dev: 1.71e-02\tResample: 5\n",
        "Chose theta = [   1.47421441  293.15          0.7       ]."
       ]
      },
      {
       "output_type": "stream",
       "stream": "stdout",
       "text": [
        "\tLoss: 1.11e-05\tError: 1.13e-03\tStd dev: 1.70e-02\tResample: 5\n",
        "Chose theta = [   1.46141612  293.15          0.7       ]."
       ]
      },
      {
       "output_type": "stream",
       "stream": "stdout",
       "text": [
        "\tLoss: 3.12e-05\tError: 4.64e-03\tStd dev: 1.70e-02\tResample: 5\n",
        "Chose theta = [   1.46459741  293.15          0.7       ]."
       ]
      },
      {
       "output_type": "stream",
       "stream": "stdout",
       "text": [
        "\tLoss: 2.42e-05\tError: 3.80e-03\tStd dev: 1.70e-02\tResample: 5\n",
        "Chose theta = [   1.48088774  293.15          0.7       ]."
       ]
      },
      {
       "output_type": "stream",
       "stream": "stdout",
       "text": [
        "\tLoss: 2.59e-05\tError: 4.02e-03\tStd dev: 1.69e-02\tResample: 5\n",
        "Chose theta = [   1.16829427  310.            0.72473444]."
       ]
      },
      {
       "output_type": "stream",
       "stream": "stdout",
       "text": [
        "\tLoss: 3.86e-05\tError: 5.32e-03\tStd dev: 1.69e-02\tResample: 5\n",
        "Chose theta = [   1.5103529  293.15         0.7      ]."
       ]
      },
      {
       "output_type": "stream",
       "stream": "stdout",
       "text": [
        "\tLoss: 2.80e-05\tError: 4.19e-03\tStd dev: 1.68e-02\tResample: 5\n",
        "Chose theta = [   1.47308001  293.15          0.7       ]."
       ]
      },
      {
       "output_type": "stream",
       "stream": "stdout",
       "text": [
        "\tLoss: 3.76e-05\tError: 5.21e-03\tStd dev: 1.68e-02\tResample: 5\n",
        "Chose theta = [   1.49496882  293.15          0.7       ]."
       ]
      },
      {
       "output_type": "stream",
       "stream": "stdout",
       "text": [
        "\tLoss: 4.72e-05\tError: 6.07e-03\tStd dev: 1.67e-02\tResample: 5\n",
        "Chose theta = [   3.02410133  293.15          0.7       ]."
       ]
      },
      {
       "output_type": "stream",
       "stream": "stdout",
       "text": [
        "\tLoss: 4.90e-05\tError: 6.30e-03\tStd dev: 1.67e-02\tResample: 5\n",
        "Chose theta = [   1.4517063  293.15         0.7      ]."
       ]
      },
      {
       "output_type": "stream",
       "stream": "stdout",
       "text": [
        "\tLoss: 5.95e-05\tError: 7.07e-03\tStd dev: 1.67e-02\tResample: 5\n",
        "Chose theta = [   1.48081023  293.15          0.7       ]."
       ]
      },
      {
       "output_type": "stream",
       "stream": "stdout",
       "text": [
        "\tLoss: 6.79e-05\tError: 7.64e-03\tStd dev: 1.66e-02\tResample: 5\n",
        "Chose theta = [   3.03753314  293.15          0.7       ]."
       ]
      },
      {
       "output_type": "stream",
       "stream": "stdout",
       "text": [
        "\tLoss: 6.79e-05\tError: 7.64e-03\tStd dev: 1.66e-02\tResample: 5\n",
        "Chose theta = [   1.06085395  310.            0.65724   ]."
       ]
      },
      {
       "output_type": "stream",
       "stream": "stdout",
       "text": [
        "\tLoss: 8.14e-05\tError: 8.45e-03\tStd dev: 1.66e-02\tResample: 5\n",
        "Chose theta = [   1.46925767  293.15          0.7       ]."
       ]
      },
      {
       "output_type": "stream",
       "stream": "stdout",
       "text": [
        "\tLoss: 5.70e-05\tError: 6.88e-03\tStd dev: 1.65e-02\tResample: 5\n",
        "Chose theta = [   1.45141254  293.15          0.7       ]."
       ]
      },
      {
       "output_type": "stream",
       "stream": "stdout",
       "text": [
        "\tLoss: 5.24e-05\tError: 6.53e-03\tStd dev: 1.65e-02\tResample: 5\n",
        "Chose theta = [   1.50364825  293.15          0.7       ]."
       ]
      },
      {
       "output_type": "stream",
       "stream": "stdout",
       "text": [
        "\tLoss: 5.78e-05\tError: 6.94e-03\tStd dev: 1.64e-02\tResample: 5\n",
        "Chose theta = [   1.45226779  293.15          0.7       ]."
       ]
      },
      {
       "output_type": "stream",
       "stream": "stdout",
       "text": [
        "\tLoss: 6.33e-05\tError: 7.31e-03\tStd dev: 1.64e-02\tResample: 5\n",
        "Chose theta = [   1.47830619  293.15          0.7       ]."
       ]
      },
      {
       "output_type": "stream",
       "stream": "stdout",
       "text": [
        "\tLoss: 6.10e-05\tError: 7.16e-03\tStd dev: 1.64e-02\tResample: 5\n",
        "Chose theta = [   1.45714611  293.15          0.7       ]."
       ]
      },
      {
       "output_type": "stream",
       "stream": "stdout",
       "text": [
        "\tLoss: 7.15e-05\tError: 7.85e-03\tStd dev: 1.63e-02\tResample: 5\n",
        "Chose theta = [   1.4696323  293.15         0.7      ]."
       ]
      },
      {
       "output_type": "stream",
       "stream": "stdout",
       "text": [
        "\tLoss: 6.45e-05\tError: 7.40e-03\tStd dev: 1.63e-02\tResample: 5\n",
        "Chose theta = [   3.04570578  293.15          0.7       ]."
       ]
      },
      {
       "output_type": "stream",
       "stream": "stdout",
       "text": [
        "\tLoss: 6.46e-05\tError: 7.40e-03\tStd dev: 1.63e-02\tResample: 5\n",
        "Chose theta = [   1.47455264  293.15          0.7       ]."
       ]
      },
      {
       "output_type": "stream",
       "stream": "stdout",
       "text": [
        "\tLoss: 6.80e-05\tError: 7.62e-03\tStd dev: 1.62e-02\tResample: 5\n",
        "Chose theta = [   1.48786202  293.15          0.7       ]."
       ]
      },
      {
       "output_type": "stream",
       "stream": "stdout",
       "text": [
        "\tLoss: 7.56e-05\tError: 8.11e-03\tStd dev: 1.62e-02\tResample: 5\n",
        "Chose theta = [   1.47959174  293.15          0.7       ]."
       ]
      },
      {
       "output_type": "stream",
       "stream": "stdout",
       "text": [
        "\tLoss: 8.46e-05\tError: 8.64e-03\tStd dev: 1.62e-02\tResample: 5\n",
        "Chose theta = [   1.46246842  293.15          0.7       ]."
       ]
      },
      {
       "output_type": "stream",
       "stream": "stdout",
       "text": [
        "\tLoss: 1.09e-04\tError: 9.96e-03\tStd dev: 1.61e-02\tResample: 5\n",
        "Chose theta = [   1.47006099  293.15          0.7       ]."
       ]
      },
      {
       "output_type": "stream",
       "stream": "stdout",
       "text": [
        "\tLoss: 1.00e-04\tError: 9.50e-03\tStd dev: 1.61e-02\tResample: 5\n",
        "Chose theta = [   1.47226209  293.15          0.7       ]."
       ]
      },
      {
       "output_type": "stream",
       "stream": "stdout",
       "text": [
        "\tLoss: 1.05e-04\tError: 9.72e-03\tStd dev: 1.61e-02\tResample: 5\n",
        "Chose theta = [   1.45349354  293.15          0.7       ]."
       ]
      },
      {
       "output_type": "stream",
       "stream": "stdout",
       "text": [
        "\tLoss: 8.55e-05\tError: 8.69e-03\tStd dev: 1.60e-02\tResample: 5\n",
        "Chose theta = [   1.48683896  293.15          0.7       ]."
       ]
      },
      {
       "output_type": "stream",
       "stream": "stdout",
       "text": [
        "\tLoss: 1.07e-04\tError: 9.83e-03\tStd dev: 1.60e-02\tResample: 5\n",
        "Chose theta = [   1.12364544  310.            0.71876454]."
       ]
      },
      {
       "output_type": "stream",
       "stream": "stdout",
       "text": [
        "\tLoss: 1.06e-04\tError: 9.80e-03\tStd dev: 1.59e-02\tResample: 5\n",
        "Chose theta = [   1.46919417  293.15          0.7       ]."
       ]
      },
      {
       "output_type": "stream",
       "stream": "stdout",
       "text": [
        "\tLoss: 9.77e-05\tError: 9.36e-03\tStd dev: 1.59e-02\tResample: 5\n",
        "Chose theta = [   1.46351616  293.15          0.7       ]."
       ]
      },
      {
       "output_type": "stream",
       "stream": "stdout",
       "text": [
        "\tLoss: 1.03e-04\tError: 9.63e-03\tStd dev: 1.59e-02\tResample: 5\n",
        "0.9 \u00b1 0.0084\t"
       ]
      },
      {
       "output_type": "stream",
       "stream": "stdout",
       "text": [
        " 5.69e-07 \u00b1 2.84e-05\t 0.0941 \u00b1 0.0159\t 1.02 \u00b1 0.00521\t -1.02 \u00b1 0.00579\t\n",
        "[ 0.9        0.         0.0844303  1.02     ]\n"
       ]
      },
      {
       "metadata": {},
       "output_type": "display_data",
       "png": "[encoded data removed]",
       "text": [
        "<matplotlib.figure.Figure at 0x3ecf110>"
       ]
      }
     ],
     "prompt_number": 123
    },
    {
     "cell_type": "code",
     "collapsed": false,
     "input": [
      "plot_kernel_smoothed_pdf(updater_adaptive)"
     ],
     "language": "python",
     "metadata": {},
     "outputs": [
      {
       "metadata": {},
       "output_type": "display_data",
       "png": "[encoded data removed]",
       "text": [
        "<matplotlib.figure.Figure at 0x508db90>"
       ]
      }
     ],
     "prompt_number": 125
    },
    {
     "cell_type": "code",
     "collapsed": false,
     "input": [
      "plot_kernel_smoothed_pdf(updater_adaptive, param=3)"
     ],
     "language": "python",
     "metadata": {},
     "outputs": [
      {
       "metadata": {},
       "output_type": "display_data",
       "png": "[encoded data removed]",
       "text": [
        "<matplotlib.figure.Figure at 0x508f350>"
       ]
      }
     ],
     "prompt_number": 126
    },
    {
     "cell_type": "code",
     "collapsed": false,
     "input": [
      "plot(this_error_hist)"
     ],
     "language": "python",
     "metadata": {},
     "outputs": [
      {
       "metadata": {},
       "output_type": "pyout",
       "prompt_number": 22,
       "text": [
        "[<matplotlib.lines.Line2D at 0x4e3ad10>]"
       ]
      },
      {
       "metadata": {},
       "output_type": "display_data",
       "png": "[encoded data removed]",
       "text": [
        "<matplotlib.figure.Figure at 0x454eb10>"
       ]
      }
     ],
     "prompt_number": "*"
    },
    {
     "cell_type": "code",
     "collapsed": false,
     "input": [
      "error_hist = np.zeros((100, 500 + warmup_thetas.size))\n",
      "for idx_run in xrange(100):\n",
      "    print(\"Run {}...\".format(idx_run))\n",
      "    f_post, this_error_hist, updater_adaptive, best_thetas = do_adaptive(n_thetas=500, n_guesses=3, warmup_thetas=warmup_thetas, n_neutrons=40, n_warmup_neutrons=1000, quiet=True)\n",
      "    error_hist[idx_run, :] = this_error_hist"
     ],
     "language": "python",
     "metadata": {},
     "outputs": [
      {
       "output_type": "stream",
       "stream": "stdout",
       "text": [
        "Run 0...\n",
        "0.895 \u00b1 0.00345\t"
       ]
      },
      {
       "output_type": "stream",
       "stream": "stdout",
       "text": [
        " -1.56e-06 \u00b1 2.88e-05\t 0.0663 \u00b1 0.0121\t 1.02 \u00b1 0.00394\t\n",
        "[ 0.9        0.         0.0844303  1.02     ]\n",
        "Run 1...\n",
        "0.9 \u00b1 0.00344\t"
       ]
      },
      {
       "output_type": "stream",
       "stream": "stdout",
       "text": [
        " 3.59e-07 \u00b1 2.86e-05\t 0.079 \u00b1 0.0113\t 1.02 \u00b1 0.00434\t\n",
        "[ 0.9        0.         0.0844303  1.02     ]\n",
        "Run 2...\n",
        "0.89 \u00b1 0.00356\t"
       ]
      },
      {
       "output_type": "stream",
       "stream": "stdout",
       "text": [
        " -5.09e-07 \u00b1 2.87e-05\t 0.0728 \u00b1 0.0116\t 1.02 \u00b1 0.0042\t\n",
        "[ 0.9        0.         0.0844303  1.02     ]\n",
        "Run 3...\n",
        "0.906 \u00b1 0.00344\t"
       ]
      },
      {
       "output_type": "stream",
       "stream": "stdout",
       "text": [
        " -6e-07 \u00b1 2.9e-05\t 0.0912 \u00b1 0.0116\t 1.02 \u00b1 0.0042\t\n",
        "[ 0.9        0.         0.0844303  1.02     ]\n",
        "Run 4...\n",
        "0.9 \u00b1 0.00344\t"
       ]
      },
      {
       "output_type": "stream",
       "stream": "stdout",
       "text": [
        " -1.44e-06 \u00b1 2.85e-05\t 0.0893 \u00b1 0.012\t 1.02 \u00b1 0.00438\t\n",
        "[ 0.9        0.         0.0844303  1.02     ]\n",
        "Run 5...\n",
        "0.897 \u00b1 0.00355\t"
       ]
      },
      {
       "output_type": "stream",
       "stream": "stdout",
       "text": [
        " 9.51e-07 \u00b1 2.91e-05\t 0.083 \u00b1 0.0118\t 1.02 \u00b1 0.00424\t\n",
        "[ 0.9        0.         0.0844303  1.02     ]\n",
        "Run 6...\n",
        "0.901 \u00b1 0.00337\t"
       ]
      },
      {
       "output_type": "stream",
       "stream": "stdout",
       "text": [
        " -4.29e-07 \u00b1 2.89e-05\t 0.0869 \u00b1 0.0118\t 1.02 \u00b1 0.00432\t\n",
        "[ 0.9        0.         0.0844303  1.02     ]\n",
        "Run 7...\n",
        "0.898 \u00b1 0.00372\t"
       ]
      },
      {
       "output_type": "stream",
       "stream": "stdout",
       "text": [
        " -8.21e-07 \u00b1 2.81e-05\t 0.0871 \u00b1 0.0119\t 1.02 \u00b1 0.00381\t\n",
        "[ 0.9        0.         0.0844303  1.02     ]\n",
        "Run 8...\n",
        "0.9 \u00b1 0.00349\t"
       ]
      },
      {
       "output_type": "stream",
       "stream": "stdout",
       "text": [
        " -2.85e-07 \u00b1 2.85e-05\t 0.0962 \u00b1 0.0115\t 1.02 \u00b1 0.00415\t\n",
        "[ 0.9        0.         0.0844303  1.02     ]\n",
        "Run 9...\n",
        "0.898 \u00b1 0.00333\t"
       ]
      },
      {
       "output_type": "stream",
       "stream": "stdout",
       "text": [
        " -1.05e-06 \u00b1 2.86e-05\t 0.0876 \u00b1 0.0116\t 1.02 \u00b1 0.00427\t\n",
        "[ 0.9        0.         0.0844303  1.02     ]\n",
        "Run 10...\n",
        "0.902 \u00b1 0.00329\t"
       ]
      },
      {
       "output_type": "stream",
       "stream": "stdout",
       "text": [
        " 3.86e-07 \u00b1 2.86e-05\t 0.0796 \u00b1 0.0129\t 1.02 \u00b1 0.00429\t\n",
        "[ 0.9        0.         0.0844303  1.02     ]\n",
        "Run 11...\n",
        "0.909 \u00b1 0.00339\t"
       ]
      },
      {
       "output_type": "stream",
       "stream": "stdout",
       "text": [
        " 1.02e-06 \u00b1 2.85e-05\t 0.0967 \u00b1 0.0112\t 1.02 \u00b1 0.00426\t\n",
        "[ 0.9        0.         0.0844303  1.02     ]\n",
        "Run 12...\n",
        "0.901 \u00b1 0.00353\t"
       ]
      },
      {
       "output_type": "stream",
       "stream": "stdout",
       "text": [
        " 1.37e-06 \u00b1 2.85e-05\t 0.0867 \u00b1 0.012\t 1.02 \u00b1 0.00412\t\n",
        "[ 0.9        0.         0.0844303  1.02     ]\n",
        "Run 13...\n",
        "0.897 \u00b1 0.00351\t"
       ]
      },
      {
       "output_type": "stream",
       "stream": "stdout",
       "text": [
        " -3.98e-07 \u00b1 2.83e-05\t 0.0891 \u00b1 0.0118\t 1.02 \u00b1 0.00431\t\n",
        "[ 0.9        0.         0.0844303  1.02     ]\n",
        "Run 14...\n",
        "0.894 \u00b1 0.00337\t"
       ]
      },
      {
       "output_type": "stream",
       "stream": "stdout",
       "text": [
        " 7.93e-07 \u00b1 2.92e-05\t 0.0647 \u00b1 0.0116\t 1.02 \u00b1 0.00415\t\n",
        "[ 0.9        0.         0.0844303  1.02     ]\n",
        "Run 15...\n",
        "0.898 \u00b1 0.00357\t"
       ]
      },
      {
       "output_type": "stream",
       "stream": "stdout",
       "text": [
        " 1.71e-06 \u00b1 3e-05\t 0.0855 \u00b1 0.0116\t 1.02 \u00b1 0.00391\t\n",
        "[ 0.9        0.         0.0844303  1.02     ]\n",
        "Run 16...\n",
        "0.895 \u00b1 0.00351\t"
       ]
      },
      {
       "output_type": "stream",
       "stream": "stdout",
       "text": [
        " 8.86e-07 \u00b1 2.92e-05\t 0.0629 \u00b1 0.0115\t 1.02 \u00b1 0.00389\t\n",
        "[ 0.9        0.         0.0844303  1.02     ]\n",
        "Run 17...\n",
        "0.896 \u00b1 0.00357\t"
       ]
      },
      {
       "output_type": "stream",
       "stream": "stdout",
       "text": [
        " -2.55e-07 \u00b1 2.84e-05\t 0.09 \u00b1 0.0108\t 1.01 \u00b1 0.00337\t\n",
        "[ 0.9        0.         0.0844303  1.02     ]\n",
        "Run 18...\n",
        "0.9 \u00b1 0.00356\t"
       ]
      },
      {
       "output_type": "stream",
       "stream": "stdout",
       "text": [
        " 2.13e-07 \u00b1 2.87e-05\t 0.089 \u00b1 0.0118\t 1.02 \u00b1 0.00427\t\n",
        "[ 0.9        0.         0.0844303  1.02     ]\n",
        "Run 19...\n",
        "0.901 \u00b1 0.00356\t"
       ]
      }
     ],
     "prompt_number": "*"
    },
    {
     "cell_type": "code",
     "collapsed": false,
     "input": [
      "xs = arange(error_hist.shape[1]) + 1\n",
      "ns = np.concatenate([1000 * arange(1, 1 + len(warmup_thetas)), 1000 * len(warmup_thetas) + 40 * arange(1, 501)])\n",
      "figure(figsize=(12,6))\n",
      "xlim(xmax=max(xs))\n",
      "plot(xs, np.mean(error_hist, axis=0), label='Mean error of adaptive algo.')\n",
      "plot(xs, 1/sqrt(ns), 'k--', label='CRB for perfect contrast')\n",
      "legend()\n",
      "title('Performance over 100 runs of adaptive algorithm')\n",
      "xlabel('Experiment index', size=14)\n",
      "ylabel(r'Error in $\\phi$', size=14);"
     ],
     "language": "python",
     "metadata": {},
     "outputs": [
      {
       "ename": "NameError",
       "evalue": "name 'error_hist' is not defined",
       "output_type": "pyerr",
       "traceback": [
        "\u001b[1;31m---------------------------------------------------------------------------\u001b[0m\n\u001b[1;31mNameError\u001b[0m                                 Traceback (most recent call last)",
        "\u001b[1;32m<ipython-input-23-24a1f86fa59e>\u001b[0m in \u001b[0;36m<module>\u001b[1;34m()\u001b[0m\n\u001b[1;32m----> 1\u001b[1;33m \u001b[0mxs\u001b[0m \u001b[1;33m=\u001b[0m \u001b[0marange\u001b[0m\u001b[1;33m(\u001b[0m\u001b[0merror_hist\u001b[0m\u001b[1;33m.\u001b[0m\u001b[0mshape\u001b[0m\u001b[1;33m[\u001b[0m\u001b[1;36m1\u001b[0m\u001b[1;33m]\u001b[0m\u001b[1;33m)\u001b[0m \u001b[1;33m+\u001b[0m \u001b[1;36m1\u001b[0m\u001b[1;33m\u001b[0m\u001b[0m\n\u001b[0m\u001b[0;32m      2\u001b[0m \u001b[0mns\u001b[0m \u001b[1;33m=\u001b[0m \u001b[0mnp\u001b[0m\u001b[1;33m.\u001b[0m\u001b[0mconcatenate\u001b[0m\u001b[1;33m(\u001b[0m\u001b[1;33m[\u001b[0m\u001b[1;36m1000\u001b[0m \u001b[1;33m*\u001b[0m \u001b[0marange\u001b[0m\u001b[1;33m(\u001b[0m\u001b[1;36m1\u001b[0m\u001b[1;33m,\u001b[0m \u001b[1;36m1\u001b[0m \u001b[1;33m+\u001b[0m \u001b[0mlen\u001b[0m\u001b[1;33m(\u001b[0m\u001b[0mwarmup_thetas\u001b[0m\u001b[1;33m)\u001b[0m\u001b[1;33m)\u001b[0m\u001b[1;33m,\u001b[0m \u001b[1;36m1000\u001b[0m \u001b[1;33m*\u001b[0m \u001b[0mlen\u001b[0m\u001b[1;33m(\u001b[0m\u001b[0mwarmup_thetas\u001b[0m\u001b[1;33m)\u001b[0m \u001b[1;33m+\u001b[0m \u001b[1;36m40\u001b[0m \u001b[1;33m*\u001b[0m \u001b[0marange\u001b[0m\u001b[1;33m(\u001b[0m\u001b[1;36m1\u001b[0m\u001b[1;33m,\u001b[0m \u001b[1;36m501\u001b[0m\u001b[1;33m)\u001b[0m\u001b[1;33m]\u001b[0m\u001b[1;33m)\u001b[0m\u001b[1;33m\u001b[0m\u001b[0m\n\u001b[0;32m      3\u001b[0m \u001b[0mfigure\u001b[0m\u001b[1;33m(\u001b[0m\u001b[0mfigsize\u001b[0m\u001b[1;33m=\u001b[0m\u001b[1;33m(\u001b[0m\u001b[1;36m12\u001b[0m\u001b[1;33m,\u001b[0m\u001b[1;36m6\u001b[0m\u001b[1;33m)\u001b[0m\u001b[1;33m)\u001b[0m\u001b[1;33m\u001b[0m\u001b[0m\n\u001b[0;32m      4\u001b[0m \u001b[0mxlim\u001b[0m\u001b[1;33m(\u001b[0m\u001b[0mxmax\u001b[0m\u001b[1;33m=\u001b[0m\u001b[0mmax\u001b[0m\u001b[1;33m(\u001b[0m\u001b[0mxs\u001b[0m\u001b[1;33m)\u001b[0m\u001b[1;33m)\u001b[0m\u001b[1;33m\u001b[0m\u001b[0m\n\u001b[0;32m      5\u001b[0m \u001b[0mplot\u001b[0m\u001b[1;33m(\u001b[0m\u001b[0mxs\u001b[0m\u001b[1;33m,\u001b[0m \u001b[0mnp\u001b[0m\u001b[1;33m.\u001b[0m\u001b[0mmean\u001b[0m\u001b[1;33m(\u001b[0m\u001b[0merror_hist\u001b[0m\u001b[1;33m,\u001b[0m \u001b[0maxis\u001b[0m\u001b[1;33m=\u001b[0m\u001b[1;36m0\u001b[0m\u001b[1;33m)\u001b[0m\u001b[1;33m,\u001b[0m \u001b[0mlabel\u001b[0m\u001b[1;33m=\u001b[0m\u001b[1;34m'Mean error of adaptive algo.'\u001b[0m\u001b[1;33m)\u001b[0m\u001b[1;33m\u001b[0m\u001b[0m\n",
        "\u001b[1;31mNameError\u001b[0m: name 'error_hist' is not defined"
       ]
      }
     ],
     "prompt_number": 23
    },
    {
     "cell_type": "code",
     "collapsed": false,
     "input": [
      "plot_kernel_smoothed_pdf(updater_adaptive, param=2, show_true=False)\n"
     ],
     "language": "python",
     "metadata": {},
     "outputs": [
      {
       "metadata": {},
       "output_type": "display_data",
       "png": "[encoded data removed]",
       "text": [
        "<matplotlib.figure.Figure at 0x3928210>"
       ]
      }
     ],
     "prompt_number": 21
    },
    {
     "cell_type": "code",
     "collapsed": false,
     "input": [
      "plot_kernel_smoothed_pdf(updater_adaptive, param=3, show_true=False)\n"
     ],
     "language": "python",
     "metadata": {},
     "outputs": [
      {
       "metadata": {},
       "output_type": "display_data",
       "png": "[encoded data removed]",
       "text": [
        "<matplotlib.figure.Figure at 0x3672750>"
       ]
      }
     ],
     "prompt_number": 22
    },
    {
     "cell_type": "code",
     "collapsed": false,
     "input": [],
     "language": "python",
     "metadata": {},
     "outputs": [],
     "prompt_number": "*"
    }
   ],
   "metadata": {}
  }
 ]
}