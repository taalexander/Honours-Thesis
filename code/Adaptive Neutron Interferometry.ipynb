{
 "metadata": {
  "name": ""
 },
 "nbformat": 3,
 "nbformat_minor": 0,
 "worksheets": [
  {
   "cells": [
    {
     "cell_type": "heading",
     "level": 1,
     "metadata": {},
     "source": [
      "Adaptive Neutron Interferometry"
     ]
    },
    {
     "cell_type": "heading",
     "level": 2,
     "metadata": {},
     "source": [
      "Preamble"
     ]
    },
    {
     "cell_type": "code",
     "collapsed": false,
     "input": [
      "from __future__ import division, print_function"
     ],
     "language": "python",
     "metadata": {},
     "outputs": [],
     "prompt_number": 1
    },
    {
     "cell_type": "code",
     "collapsed": false,
     "input": [
      "%pylab inline"
     ],
     "language": "python",
     "metadata": {},
     "outputs": [
      {
       "output_type": "stream",
       "stream": "stdout",
       "text": [
        "Populating the interactive namespace from numpy and matplotlib\n"
       ]
      }
     ],
     "prompt_number": 2
    },
    {
     "cell_type": "code",
     "collapsed": false,
     "input": [
      "from qinfer import smc, abstract_model, derived_models, distributions, expdesign, resamplers\n",
      "from scipy.optimize import minimize, curve_fit\n",
      "import scipy.stats"
     ],
     "language": "python",
     "metadata": {},
     "outputs": [
      {
       "output_type": "stream",
       "stream": "stderr",
       "text": [
        "/home/thomas/Envs/default/local/lib/python2.7/site-packages/qinfer/metrics.py:50: UserWarning: Could not import scikit-learn. Some features may not work.\n",
        "  warnings.warn(\"Could not import scikit-learn. Some features may not work.\")\n"
       ]
      }
     ],
     "prompt_number": 3
    },
    {
     "cell_type": "heading",
     "level": 2,
     "metadata": {},
     "source": [
      "Constants"
     ]
    },
    {
     "cell_type": "code",
     "collapsed": false,
     "input": [
      "TWO_PI = np.pi * 2"
     ],
     "language": "python",
     "metadata": {},
     "outputs": [],
     "prompt_number": 4
    },
    {
     "cell_type": "heading",
     "level": 2,
     "metadata": {},
     "source": [
      "Inference Models"
     ]
    },
    {
     "cell_type": "markdown",
     "metadata": {},
     "source": [
      "We start with a model that will be used for performing inference, $\\Pr(O | A, b, \\phi, \\lambda; \\theta) = (\\frac{1}{2} + b) + \\frac{A}{2} \\cos(\\lambda \\theta + \\phi)$.\n",
      "This model will then be used to adaptively learn the value of $\\vec{x} = (A, b, \\phi, \\lambda)$."
     ]
    },
    {
     "cell_type": "code",
     "collapsed": false,
     "input": [
      "class SingleNeutronModel(abstract_model.Model):    \n",
      "    ## PROPERTIES ##\n",
      "    @property\n",
      "    def n_modelparams(self):\n",
      "        return 4 # A, b, \\phi, \\lambda\n",
      "    @property\n",
      "    def expparams_dtype(self):\n",
      "        return [('theta', 'float')]\n",
      "    @property\n",
      "    def is_n_outcomes_constant(self):\n",
      "        return True\n",
      "    @property\n",
      "    def Q(self):\n",
      "        return np.array([1, 1, 1, 1]) # Prioritize phi over the others.\n",
      "    ## METHODS ##    \n",
      "    @staticmethod\n",
      "    def are_models_valid(modelparams):\n",
      "        A, b, phi, lambda_ = modelparams.T\n",
      "        abs_b = np.abs(b)\n",
      "        return np.all([\n",
      "            A > 0,\n",
      "            A <= 1 - 2 * abs_b,\n",
      "            abs_b <= 0.5,\n",
      "            phi >= 0,\n",
      "            phi <= np.pi / 2,\n",
      "            lambda_ >= 0\n",
      "        ], axis=0)\n",
      "    def n_outcomes(self, expparams):\n",
      "        return 2    \n",
      "    def likelihood(self, outcomes, modelparams, expparams):\n",
      "        # By calling the superclass implementation, we can consolidate\n",
      "        # call counting there.\n",
      "        super(SingleNeutronModel, self).likelihood(outcomes, modelparams, expparams)\n",
      "                    \n",
      "        # Extract each model parameter under its own name.\n",
      "        A, b, phi, lambda_ = modelparams.T[..., np.newaxis]\n",
      "        theta = expparams['theta'][np.newaxis, :]\n",
      "        \n",
      "        pr0 = (0.5 + b) + (0.5 * A * np.cos(lambda_ * theta + phi))\n",
      "                \n",
      "        # Now we concatenate over outcomes.\n",
      "        return abstract_model.Model.pr0_to_likelihood_array(outcomes, pr0)"
     ],
     "language": "python",
     "metadata": {},
     "outputs": [],
     "prompt_number": 5
    },
    {
     "cell_type": "code",
     "collapsed": false,
     "input": [
      "single_neutron_model = SingleNeutronModel()\n",
      "neutron_model = derived_models.BinomialModel(single_neutron_model)\n"
     ],
     "language": "python",
     "metadata": {},
     "outputs": [],
     "prompt_number": 6
    },
    {
     "cell_type": "heading",
     "level": 2,
     "metadata": {},
     "source": [
      "True Models"
     ]
    },
    {
     "cell_type": "markdown",
     "metadata": {},
     "source": [
      "For consistency, we will test with a set of \"true\" model parameters for each model."
     ]
    },
    {
     "cell_type": "code",
     "collapsed": false,
     "input": [
      "true_modelparams = np.array([[0.9, 0.00, (0.43 * np.pi / 16), 1.02]])"
     ],
     "language": "python",
     "metadata": {},
     "outputs": [],
     "prompt_number": 7
    },
    {
     "cell_type": "markdown",
     "metadata": {},
     "source": [
      "Of course, it's important that each \"true\" model be a valid model, and so we assert that here."
     ]
    },
    {
     "cell_type": "code",
     "collapsed": false,
     "input": [
      "assert neutron_model.are_models_valid(true_modelparams)"
     ],
     "language": "python",
     "metadata": {},
     "outputs": [],
     "prompt_number": 8
    },
    {
     "cell_type": "heading",
     "level": 2,
     "metadata": {},
     "source": [
      "Prior Distributions"
     ]
    },
    {
     "cell_type": "code",
     "collapsed": false,
     "input": [
      "neutron_prior = distributions.UniformDistribution([\n",
      "    [0.7, 0.925],\n",
      "    [-0.00005, 0.00005],\n",
      "    [0, np.pi / 8],\n",
      "    [true_modelparams[0, 3] - 0.01, true_modelparams[0, 3] + 0.01]\n",
      "])"
     ],
     "language": "python",
     "metadata": {},
     "outputs": [],
     "prompt_number": 9
    },
    {
     "cell_type": "heading",
     "level": 2,
     "metadata": {},
     "source": [
      "Plotting Functions"
     ]
    },
    {
     "cell_type": "code",
     "collapsed": false,
     "input": [
      "def plot_kernel_smoothed_pdf(updater, param=2, show_true=True):\n",
      "    kernel = scipy.stats.norm(scale=0.0005, loc=updater.particle_locations[:, param]).pdf\n",
      "    xs = linspace(*updater.prior._ranges[param], num=100)\n",
      "    smoothed_pdf = np.sum(kernel(xs[:, np.newaxis]) * updater.particle_weights, axis=-1)\n",
      "    plot(xs, smoothed_pdf)\n",
      "    if show_true:\n",
      "        plot(true_modelparams[:, param], 0, 'rx')"
     ],
     "language": "python",
     "metadata": {},
     "outputs": [],
     "prompt_number": 10
    },
    {
     "cell_type": "heading",
     "level": 2,
     "metadata": {},
     "source": [
      "SMC Updater"
     ]
    },
    {
     "cell_type": "markdown",
     "metadata": {},
     "source": [
      "Warm up the updater by performing experiments over unifomly spaced theta, then look at the risk profile. This experimental setup is not really reasonable, as it assumes 1000 changings of the phase flag but only 10 neutrons per setting. That said, this is still useful for our purposes, as it causes the distribution to warm up to one that is approximately Gaussian."
     ]
    },
    {
     "cell_type": "code",
     "collapsed": false,
     "input": [
      "def plot_risks(updater, theta_min=0, theta_max=TWO_PI, n_thetas=100):\n",
      "    thetas = np.linspace(theta_min, theta_max, n_thetas)\n",
      "    risks = np.array([\n",
      "        updater.bayes_risk(np.array([(theta, 10)], dtype=updater.model.expparams_dtype))\n",
      "        for theta in thetas\n",
      "    ])\n",
      "    f = plot(thetas / np.pi, risks)\n",
      "    xlabel(r'$\\theta / \\pi$')\n",
      "    ylabel(r'$r(\\theta)$')\n",
      "    return f"
     ],
     "language": "python",
     "metadata": {},
     "outputs": [],
     "prompt_number": 11
    },
    {
     "cell_type": "markdown",
     "metadata": {},
     "source": [
      "Before we do anything, the risk profile rewards exploring $\\theta \\approx \\pi$. Note that this is dependent on the prior; here, we have chosen $\\phi \\sim \\text{Uniform}(0, \\pi / 2)$."
     ]
    },
    {
     "cell_type": "code",
     "collapsed": false,
     "input": [
      "plot_risks(smc.SMCUpdater(neutron_model, 100000, neutron_prior))"
     ],
     "language": "python",
     "metadata": {},
     "outputs": [
      {
       "metadata": {},
       "output_type": "pyout",
       "prompt_number": 12,
       "text": [
        "[<matplotlib.lines.Line2D at 0x43ece10>]"
       ]
      },
      {
       "metadata": {},
       "output_type": "display_data",
       "png": "[encoded data removed]",
       "text": [
        "<matplotlib.figure.Figure at 0x3b9ff10>"
       ]
      }
     ],
     "prompt_number": 12
    },
    {
     "cell_type": "markdown",
     "metadata": {},
     "source": [
      "We now explore what happens as we do uniform samplings of $\\theta$ across different warm-up intervals."
     ]
    },
    {
     "cell_type": "code",
     "collapsed": false,
     "input": [
      "def do_warmup(n_particles=20000, theta_min=0, theta_max=TWO_PI, n_thetas=21, n_neutrons=10):\n",
      "    updater = smc.SMCUpdater(neutron_model, n_particles, neutron_prior, resample_thresh=0.3)\n",
      "    thetas = np.linspace(theta_min, theta_max, n_thetas)\n",
      "    for theta in thetas:\n",
      "        experiment = np.array([(theta, n_neutrons)], dtype=neutron_model.expparams_dtype)\n",
      "        datum = neutron_model.simulate_experiment(true_modelparams, experiment)\n",
      "        updater.update(datum, experiment)\n",
      "    f_post = plot_risks(updater)\n",
      "    print(*[u\"{:0.3} \u00b1 {:0.3}\\t\".format(mu, sigma) for mu, sigma in zip(updater.est_mean(), np.sqrt(np.diag(updater.est_covariance_mtx())))])\n",
      "    print(*true_modelparams)\n",
      "    return f_post, updater"
     ],
     "language": "python",
     "metadata": {},
     "outputs": [],
     "prompt_number": 13
    },
    {
     "cell_type": "code",
     "collapsed": false,
     "input": [
      "f, updater_warmup = do_warmup(n_thetas=21**2, n_neutrons=100)"
     ],
     "language": "python",
     "metadata": {},
     "outputs": [
      {
       "output_type": "stream",
       "stream": "stdout",
       "text": [
        "0.898 \u00b1 0.00396\t 1.11e-06 \u00b1 2.78e-05\t 0.0876 \u00b1 0.0127\t 1.02 \u00b1 0.00367\t\n",
        "[ 0.9        0.         0.0844303  1.02     ]\n"
       ]
      },
      {
       "metadata": {},
       "output_type": "display_data",
       "png": "[encoded data removed]",
       "text": [
        "<matplotlib.figure.Figure at 0x3b9f810>"
       ]
      }
     ],
     "prompt_number": 14
    },
    {
     "cell_type": "code",
     "collapsed": false,
     "input": [
      "plot_kernel_smoothed_pdf(updater_warmup, param=2)"
     ],
     "language": "python",
     "metadata": {},
     "outputs": [
      {
       "metadata": {},
       "output_type": "display_data",
       "png": "[encoded data removed]",
       "text": [
        "<matplotlib.figure.Figure at 0x4402dd0>"
       ]
      }
     ],
     "prompt_number": 15
    },
    {
     "cell_type": "markdown",
     "metadata": {},
     "source": [
      "We see that exploring settings of $\\theta$ not yet chosen provides significant benefits in risk reduction.\n",
      "\n",
      "Note also that the second case, $\\theta \\in [\\pi/2, 3\\pi/2]$, reliably gives much better phase information than the other two case"
     ]
    },
    {
     "cell_type": "code",
     "collapsed": false,
     "input": [
      "figure()\n",
      "do_warmup(theta_min=0, theta_max=np.pi, n_neutrons=100);\n",
      "figure()\n",
      "do_warmup(theta_min=(np.pi/2), theta_max=(1.5*np.pi), n_neutrons=100);\n",
      "figure()\n",
      "do_warmup(theta_min=(np.pi), theta_max=(2*np.pi), n_neutrons=100);"
     ],
     "language": "python",
     "metadata": {},
     "outputs": [
      {
       "output_type": "stream",
       "stream": "stdout",
       "text": [
        "0.902 \u00b1 0.0138\t -1.32e-07 \u00b1 2.9e-05\t 0.14 \u00b1 0.0308\t 1.02 \u00b1 0.00588\t\n",
        "[ 0.9        0.         0.0844303  1.02     ]\n",
        "0.9 \u00b1 0.0156\t"
       ]
      },
      {
       "output_type": "stream",
       "stream": "stdout",
       "text": [
        " 3.28e-07 \u00b1 2.9e-05\t 0.0969 \u00b1 0.0334\t 1.02 \u00b1 0.00528\t\n",
        "[ 0.9        0.         0.0844303  1.02     ]\n",
        "0.913 \u00b1 0.0104\t"
       ]
      },
      {
       "output_type": "stream",
       "stream": "stdout",
       "text": [
        " 1.91e-07 \u00b1 2.91e-05\t 0.0674 \u00b1 0.0328\t 1.02 \u00b1 0.00542\t\n",
        "[ 0.9        0.         0.0844303  1.02     ]\n"
       ]
      },
      {
       "metadata": {},
       "output_type": "display_data",
       "png": "[encoded data removed]",
       "text": [
        "<matplotlib.figure.Figure at 0x463fad0>"
       ]
      },
      {
       "metadata": {},
       "output_type": "display_data",
       "png": "[encoded data removed]",
       "text": [
        "<matplotlib.figure.Figure at 0x463c290>"
       ]
      },
      {
       "metadata": {},
       "output_type": "display_data",
       "png": "[encoded data removed]",
       "text": [
        "<matplotlib.figure.Figure at 0x4b5ea90>"
       ]
      }
     ],
     "prompt_number": 16
    },
    {
     "cell_type": "code",
     "collapsed": false,
     "input": [
      "def do_adaptive(n_particles=100000, warmup_thetas=(), n_thetas=11, n_guesses=3, n_neutrons=10, n_warmup_neutrons=10, quiet=False):\n",
      "    updater = smc.SMCUpdater(neutron_model, n_particles, neutron_prior, resampler=resamplers.LiuWestResampler(a=0.98), resample_thresh=0.5)\n",
      "    designer = expdesign.ExperimentDesigner(updater)\n",
      "    \n",
      "    best_thetas = []\n",
      "    error_hist = []\n",
      "    \n",
      "    def objective(theta):\n",
      "        return updater.bayes_risk(                                  \n",
      "            np.array([(theta, 1)], dtype=neutron_model.expparams_dtype)\n",
      "        )\n",
      "    \n",
      "    def perform(theta, n):\n",
      "        experiment = np.array([(theta, n)], dtype=neutron_model.expparams_dtype)\n",
      "        datum = neutron_model.simulate_experiment(true_modelparams, experiment)\n",
      "        updater.update(datum, experiment)\n",
      "        mu = updater.est_mean()\n",
      "        loss = np.dot(updater.model.Q, (true_modelparams[0, :] - mu)**2)\n",
      "        error = np.abs(mu[2] - true_modelparams[0, 2])\n",
      "        error_hist.append(error)\n",
      "        if not quiet:\n",
      "            print(\"Loss: {:.2e}\\tError: {:.2e}\\tStd dev: {:.2e}\\tResample: {}\".format(loss, error, np.sqrt(updater.est_covariance_mtx()[2,2]), updater.resample_count))\n",
      "        \n",
      "    [perform(theta, n_warmup_neutrons) for theta in warmup_thetas]\n",
      "    \n",
      "    for idx_theta in xrange(n_thetas):\n",
      "        \n",
      "        best_theta = None\n",
      "        best_risk  = None\n",
      "        \n",
      "        est_phi = updater.est_mean()[2]\n",
      "        \n",
      "        for idx_guess in xrange(n_guesses):\n",
      "            idx_particle = np.argmax(np.ceil(np.cumsum(updater.particle_weights) - np.random.random()))\n",
      "            idx_pi = np.random.randint(1, 5) # If this is zero, we pick a random theta [0, 2 * pi].\n",
      "            guess = (\n",
      "                idx_pi * np.pi / 2 - updater.particle_locations[idx_particle, 2, np.newaxis] / updater.particle_locations[idx_particle, 3, np.newaxis]\n",
      "            ) # if idx_pi != 0 else TWO_PI * random.random((1,))\n",
      "            result = minimize(objective, guess, bounds=[(0, 2 * np.pi)], method='TNC', options={'maxiter': 2})\n",
      "            \n",
      "            if best_risk is None or result.fun < best_risk:\n",
      "                best_theta = result.x\n",
      "                best_risk = result.fun\n",
      "        \n",
      "        if not quiet:\n",
      "            print(u\"Chose theta = {}.\".format(best_theta), end='\\t')\n",
      "            \n",
      "        best_thetas.append(best_theta)\n",
      "        perform(best_theta, n_neutrons)\n",
      "        \n",
      "    f_post = plot_risks(updater)\n",
      "    print(*[u\"{:0.3} \u00b1 {:0.3}\\t\".format(mu, sigma) for mu, sigma in zip(updater.est_mean(), np.sqrt(np.diag(updater.est_covariance_mtx())))])\n",
      "    print(*true_modelparams)\n",
      "    return f_post, error_hist, updater, best_thetas"
     ],
     "language": "python",
     "metadata": {},
     "outputs": [],
     "prompt_number": 17
    },
    {
     "cell_type": "code",
     "collapsed": false,
     "input": [
      "warmup_thetas = np.linspace(0, np.pi/10, 19)"
     ],
     "language": "python",
     "metadata": {},
     "outputs": [],
     "prompt_number": 18
    },
    {
     "cell_type": "code",
     "collapsed": false,
     "input": [
      "f_post, this_error_hist, updater_adaptive, best_thetas = do_adaptive(n_thetas=200, n_guesses=5, warmup_thetas=warmup_thetas, n_neutrons=40, n_warmup_neutrons=100, quiet=False)"
     ],
     "language": "python",
     "metadata": {},
     "outputs": [
      {
       "output_type": "stream",
       "stream": "stdout",
       "text": [
        "Loss: 4.30e-03\tError: 6.50e-02\tStd dev: 9.64e-02\tResample: 1\n",
        "Loss: 4.11e-03\tError: 6.39e-02\tStd dev: 9.36e-02\tResample: 1\n",
        "Loss: 7.90e-03\tError: 8.78e-02\tStd dev: 9.94e-02\tResample: 1"
       ]
      },
      {
       "output_type": "stream",
       "stream": "stdout",
       "text": [
        "\n",
        "Loss: 1.10e-02\tError: 1.03e-01\tStd dev: 1.02e-01\tResample: 1\n",
        "Loss: 7.62e-03\tError: 8.63e-02\tStd dev: 9.65e-02\tResample: 1"
       ]
      },
      {
       "output_type": "stream",
       "stream": "stdout",
       "text": [
        "\n",
        "Loss: 7.24e-03\tError: 8.42e-02\tStd dev: 9.46e-02\tResample: 1\n",
        "Loss: 9.08e-03\tError: 9.42e-02\tStd dev: 9.57e-02\tResample: 1"
       ]
      },
      {
       "output_type": "stream",
       "stream": "stdout",
       "text": [
        "\n",
        "Loss: 6.77e-03\tError: 8.13e-02\tStd dev: 9.15e-02\tResample: 1\n",
        "Loss: 6.80e-03\tError: 8.14e-02\tStd dev: 9.02e-02\tResample: 1"
       ]
      },
      {
       "output_type": "stream",
       "stream": "stdout",
       "text": [
        "\n",
        "Loss: 3.18e-03\tError: 5.52e-02\tStd dev: 8.24e-02\tResample: 1\n",
        "Loss: 3.15e-03\tError: 5.49e-02\tStd dev: 8.10e-02\tResample: 1"
       ]
      },
      {
       "output_type": "stream",
       "stream": "stdout",
       "text": [
        "\n",
        "Loss: 5.43e-03\tError: 7.27e-02\tStd dev: 8.22e-02\tResample: 2"
       ]
      },
      {
       "output_type": "stream",
       "stream": "stdout",
       "text": [
        "\n",
        "Loss: 3.30e-03\tError: 5.62e-02\tStd dev: 7.74e-02\tResample: 2\n",
        "Loss: 1.83e-03\tError: 4.10e-02\tStd dev: 7.23e-02\tResample: 2"
       ]
      },
      {
       "output_type": "stream",
       "stream": "stdout",
       "text": [
        "\n",
        "Loss: 2.29e-03\tError: 4.63e-02\tStd dev: 7.25e-02\tResample: 2\n",
        "Loss: 1.38e-03\tError: 3.50e-02\tStd dev: 6.85e-02\tResample: 2"
       ]
      },
      {
       "output_type": "stream",
       "stream": "stdout",
       "text": [
        "\n",
        "Loss: 1.24e-03\tError: 3.29e-02\tStd dev: 6.69e-02\tResample: 2\n",
        "Loss: 6.22e-04\tError: 2.11e-02\tStd dev: 6.26e-02\tResample: 2"
       ]
      },
      {
       "output_type": "stream",
       "stream": "stdout",
       "text": [
        "\n",
        "Loss: 3.93e-04\tError: 1.45e-02\tStd dev: 5.83e-02\tResample: 3"
       ]
      },
      {
       "output_type": "stream",
       "stream": "stdout",
       "text": [
        "\n",
        "Chose theta = [ 4.51638296]."
       ]
      },
      {
       "output_type": "stream",
       "stream": "stdout",
       "text": [
        "\tLoss: 2.88e-04\tError: 8.29e-03\tStd dev: 5.46e-02\tResample: 3\n",
        "Chose theta = [ 1.55875628]."
       ]
      },
      {
       "output_type": "stream",
       "stream": "stdout",
       "text": [
        "\tLoss: 9.51e-04\tError: 2.90e-02\tStd dev: 5.73e-02\tResample: 3\n",
        "Chose theta = [ 1.3862687]."
       ]
      },
      {
       "output_type": "stream",
       "stream": "stdout",
       "text": [
        "\tLoss: 5.18e-03\tError: 7.19e-02\tStd dev: 5.62e-02\tResample: 4"
       ]
      },
      {
       "output_type": "stream",
       "stream": "stdout",
       "text": [
        "\n",
        "Chose theta = [ 1.40849857]."
       ]
      },
      {
       "output_type": "stream",
       "stream": "stdout",
       "text": [
        "\tLoss: 4.91e-03\tError: 7.01e-02\tStd dev: 5.43e-02\tResample: 4\n",
        "Chose theta = [ 1.43684013]."
       ]
      },
      {
       "output_type": "stream",
       "stream": "stdout",
       "text": [
        "\tLoss: 2.64e-03\tError: 5.11e-02\tStd dev: 5.29e-02\tResample: 4\n",
        "Chose theta = [ 4.65648595]."
       ]
      },
      {
       "output_type": "stream",
       "stream": "stdout",
       "text": [
        "\tLoss: 1.46e-03\tError: 3.71e-02\tStd dev: 5.07e-02\tResample: 4\n",
        "Chose theta = [ 1.43193962]."
       ]
      },
      {
       "output_type": "stream",
       "stream": "stdout",
       "text": [
        "\tLoss: 1.38e-03\tError: 3.60e-02\tStd dev: 4.92e-02\tResample: 4\n",
        "Chose theta = [ 1.51234995]."
       ]
      },
      {
       "output_type": "stream",
       "stream": "stdout",
       "text": [
        "\tLoss: 3.31e-04\tError: 1.07e-02\tStd dev: 4.46e-02\tResample: 5"
       ]
      },
      {
       "output_type": "stream",
       "stream": "stdout",
       "text": [
        "\n",
        "Chose theta = [ 1.44464464]."
       ]
      },
      {
       "output_type": "stream",
       "stream": "stdout",
       "text": [
        "\tLoss: 2.90e-04\tError: 7.19e-03\tStd dev: 4.30e-02\tResample: 5\n",
        "Chose theta = [ 4.65045886]."
       ]
      },
      {
       "output_type": "stream",
       "stream": "stdout",
       "text": [
        "\tLoss: 3.57e-04\tError: 1.23e-02\tStd dev: 4.30e-02\tResample: 5\n",
        "Chose theta = [ 1.45051036]."
       ]
      },
      {
       "output_type": "stream",
       "stream": "stdout",
       "text": [
        "\tLoss: 2.73e-04\tError: 2.99e-03\tStd dev: 4.05e-02\tResample: 5\n",
        "Chose theta = [ 1.45297369]."
       ]
      },
      {
       "output_type": "stream",
       "stream": "stdout",
       "text": [
        "\tLoss: 2.98e-04\tError: 8.19e-03\tStd dev: 4.06e-02\tResample: 5\n",
        "Chose theta = [ 1.48046039]."
       ]
      },
      {
       "output_type": "stream",
       "stream": "stdout",
       "text": [
        "\tLoss: 4.06e-04\tError: 1.46e-02\tStd dev: 4.06e-02\tResample: 5\n",
        "Chose theta = [ 1.51449201]."
       ]
      },
      {
       "output_type": "stream",
       "stream": "stdout",
       "text": [
        "\tLoss: 3.34e-04\tError: 1.09e-02\tStd dev: 3.94e-02\tResample: 5\n",
        "Chose theta = [ 1.53271137]."
       ]
      },
      {
       "output_type": "stream",
       "stream": "stdout",
       "text": [
        "\tLoss: 2.77e-04\tError: 4.27e-03\tStd dev: 3.78e-02\tResample: 5\n",
        "Chose theta = [ 1.49192626]."
       ]
      },
      {
       "output_type": "stream",
       "stream": "stdout",
       "text": [
        "\tLoss: 6.41e-04\tError: 2.21e-02\tStd dev: 3.89e-02\tResample: 5\n",
        "Chose theta = [ 1.50619437]."
       ]
      },
      {
       "output_type": "stream",
       "stream": "stdout",
       "text": [
        "\tLoss: 3.46e-04\tError: 1.16e-02\tStd dev: 3.73e-02\tResample: 5\n",
        "Chose theta = [ 1.5084277]."
       ]
      },
      {
       "output_type": "stream",
       "stream": "stdout",
       "text": [
        "\tLoss: 2.80e-04\tError: 2.20e-03\tStd dev: 3.56e-02\tResample: 5\n",
        "Chose theta = [ 1.56403777]."
       ]
      },
      {
       "output_type": "stream",
       "stream": "stdout",
       "text": [
        "\tLoss: 2.91e-04\tError: 1.31e-05\tStd dev: 3.48e-02\tResample: 5\n",
        "Chose theta = [ 1.48247597]."
       ]
      },
      {
       "output_type": "stream",
       "stream": "stdout",
       "text": [
        "\tLoss: 3.51e-04\tError: 4.89e-03\tStd dev: 3.36e-02\tResample: 5\n",
        "Chose theta = [ 1.53317558]."
       ]
      },
      {
       "output_type": "stream",
       "stream": "stdout",
       "text": [
        "\tLoss: 3.32e-04\tError: 3.70e-03\tStd dev: 3.33e-02\tResample: 5\n",
        "Chose theta = [ 4.67105022]."
       ]
      },
      {
       "output_type": "stream",
       "stream": "stdout",
       "text": [
        "\tLoss: 2.75e-04\tError: 3.87e-03\tStd dev: 3.38e-02\tResample: 5\n",
        "Chose theta = [ 1.46178201]."
       ]
      },
      {
       "output_type": "stream",
       "stream": "stdout",
       "text": [
        "\tLoss: 2.78e-04\tError: 1.61e-03\tStd dev: 3.31e-02\tResample: 5\n",
        "Chose theta = [ 1.48872321]."
       ]
      },
      {
       "output_type": "stream",
       "stream": "stdout",
       "text": [
        "\tLoss: 2.75e-04\tError: 3.98e-03\tStd dev: 3.29e-02\tResample: 5\n",
        "Chose theta = [ 1.49583126]."
       ]
      },
      {
       "output_type": "stream",
       "stream": "stdout",
       "text": [
        "\tLoss: 2.94e-04\tError: 9.35e-04\tStd dev: 3.20e-02\tResample: 5\n",
        "Chose theta = [ 4.66013942]."
       ]
      },
      {
       "output_type": "stream",
       "stream": "stdout",
       "text": [
        "\tLoss: 2.86e-04\tError: 5.29e-05\tStd dev: 3.18e-02\tResample: 5\n",
        "Chose theta = [ 1.44803455]."
       ]
      },
      {
       "output_type": "stream",
       "stream": "stdout",
       "text": [
        "\tLoss: 3.26e-04\tError: 1.02e-02\tStd dev: 3.22e-02\tResample: 5\n",
        "Chose theta = [ 1.47627253]."
       ]
      },
      {
       "output_type": "stream",
       "stream": "stdout",
       "text": [
        "\tLoss: 6.70e-04\tError: 2.28e-02\tStd dev: 3.24e-02\tResample: 5\n",
        "Chose theta = [ 1.50833768]."
       ]
      },
      {
       "output_type": "stream",
       "stream": "stdout",
       "text": [
        "\tLoss: 5.83e-04\tError: 2.05e-02\tStd dev: 3.19e-02\tResample: 5\n",
        "Chose theta = [ 1.45857486]."
       ]
      },
      {
       "output_type": "stream",
       "stream": "stdout",
       "text": [
        "\tLoss: 5.59e-04\tError: 1.98e-02\tStd dev: 3.15e-02\tResample: 5\n",
        "Chose theta = [ 1.52462229]."
       ]
      },
      {
       "output_type": "stream",
       "stream": "stdout",
       "text": [
        "\tLoss: 5.27e-04\tError: 1.88e-02\tStd dev: 3.11e-02\tResample: 5\n",
        "Chose theta = [ 1.51766294]."
       ]
      },
      {
       "output_type": "stream",
       "stream": "stdout",
       "text": [
        "\tLoss: 4.20e-04\tError: 1.50e-02\tStd dev: 3.06e-02\tResample: 5\n",
        "Chose theta = [ 1.49209088]."
       ]
      },
      {
       "output_type": "stream",
       "stream": "stdout",
       "text": [
        "\tLoss: 6.06e-04\tError: 2.11e-02\tStd dev: 3.04e-02\tResample: 5\n",
        "Chose theta = [ 1.45933082]."
       ]
      },
      {
       "output_type": "stream",
       "stream": "stdout",
       "text": [
        "\tLoss: 7.60e-04\tError: 2.49e-02\tStd dev: 3.01e-02\tResample: 5\n",
        "Chose theta = [ 1.47397064]."
       ]
      },
      {
       "output_type": "stream",
       "stream": "stdout",
       "text": [
        "\tLoss: 7.75e-04\tError: 2.52e-02\tStd dev: 2.98e-02\tResample: 5\n",
        "Chose theta = [ 1.46367669]."
       ]
      },
      {
       "output_type": "stream",
       "stream": "stdout",
       "text": [
        "\tLoss: 9.41e-04\tError: 2.86e-02\tStd dev: 2.95e-02\tResample: 5\n",
        "Chose theta = [ 1.45978541]."
       ]
      },
      {
       "output_type": "stream",
       "stream": "stdout",
       "text": [
        "\tLoss: 7.68e-04\tError: 2.50e-02\tStd dev: 2.91e-02\tResample: 5\n",
        "Chose theta = [ 1.50495099]."
       ]
      },
      {
       "output_type": "stream",
       "stream": "stdout",
       "text": [
        "\tLoss: 7.48e-04\tError: 2.46e-02\tStd dev: 2.88e-02\tResample: 5\n",
        "Chose theta = [ 1.49003119]."
       ]
      },
      {
       "output_type": "stream",
       "stream": "stdout",
       "text": [
        "\tLoss: 8.05e-04\tError: 2.58e-02\tStd dev: 2.85e-02\tResample: 5\n",
        "Chose theta = [ 1.46545651]."
       ]
      },
      {
       "output_type": "stream",
       "stream": "stdout",
       "text": [
        "\tLoss: 6.09e-04\tError: 2.12e-02\tStd dev: 2.82e-02\tResample: 5\n",
        "Chose theta = [ 1.48558623]."
       ]
      },
      {
       "output_type": "stream",
       "stream": "stdout",
       "text": [
        "\tLoss: 7.13e-04\tError: 2.38e-02\tStd dev: 2.80e-02\tResample: 5\n",
        "Chose theta = [ 1.46306408]."
       ]
      },
      {
       "output_type": "stream",
       "stream": "stdout",
       "text": [
        "\tLoss: 5.09e-04\tError: 1.82e-02\tStd dev: 2.76e-02\tResample: 5\n",
        "Chose theta = [ 1.47748816]."
       ]
      },
      {
       "output_type": "stream",
       "stream": "stdout",
       "text": [
        "\tLoss: 6.46e-04\tError: 2.21e-02\tStd dev: 2.74e-02\tResample: 5\n",
        "Chose theta = [ 1.44039836]."
       ]
      },
      {
       "output_type": "stream",
       "stream": "stdout",
       "text": [
        "\tLoss: 6.88e-04\tError: 2.32e-02\tStd dev: 2.72e-02\tResample: 5\n",
        "Chose theta = [ 1.42662298]."
       ]
      },
      {
       "output_type": "stream",
       "stream": "stdout",
       "text": [
        "\tLoss: 8.51e-04\tError: 2.68e-02\tStd dev: 2.70e-02\tResample: 5\n",
        "Chose theta = [ 1.41579477]."
       ]
      },
      {
       "output_type": "stream",
       "stream": "stdout",
       "text": [
        "\tLoss: 1.18e-03\tError: 3.27e-02\tStd dev: 2.67e-02\tResample: 5\n",
        "Chose theta = [ 1.48708875]."
       ]
      },
      {
       "output_type": "stream",
       "stream": "stdout",
       "text": [
        "\tLoss: 9.18e-04\tError: 2.81e-02\tStd dev: 2.65e-02\tResample: 5\n",
        "Chose theta = [ 4.66109195]."
       ]
      },
      {
       "output_type": "stream",
       "stream": "stdout",
       "text": [
        "\tLoss: 7.36e-04\tError: 2.41e-02\tStd dev: 2.64e-02\tResample: 5\n",
        "Chose theta = [ 1.49225584]."
       ]
      },
      {
       "output_type": "stream",
       "stream": "stdout",
       "text": [
        "\tLoss: 8.31e-04\tError: 2.62e-02\tStd dev: 2.62e-02\tResample: 5\n",
        "Chose theta = [ 3.00214291]."
       ]
      },
      {
       "output_type": "stream",
       "stream": "stdout",
       "text": [
        "\tLoss: 9.03e-04\tError: 2.88e-02\tStd dev: 2.61e-02\tResample: 5\n",
        "Chose theta = [ 1.4317745]."
       ]
      },
      {
       "output_type": "stream",
       "stream": "stdout",
       "text": [
        "\tLoss: 8.45e-04\tError: 2.77e-02\tStd dev: 2.59e-02\tResample: 5\n",
        "Chose theta = [ 1.47592272]."
       ]
      },
      {
       "output_type": "stream",
       "stream": "stdout",
       "text": [
        "\tLoss: 1.03e-03\tError: 3.10e-02\tStd dev: 2.57e-02\tResample: 5\n",
        "Chose theta = [ 1.46925462]."
       ]
      },
      {
       "output_type": "stream",
       "stream": "stdout",
       "text": [
        "\tLoss: 1.17e-03\tError: 3.33e-02\tStd dev: 2.55e-02\tResample: 5\n",
        "Chose theta = [ 3.00875695]."
       ]
      },
      {
       "output_type": "stream",
       "stream": "stdout",
       "text": [
        "\tLoss: 1.23e-03\tError: 3.45e-02\tStd dev: 2.53e-02\tResample: 6"
       ]
      },
      {
       "output_type": "stream",
       "stream": "stdout",
       "text": [
        "\n",
        "Chose theta = [ 2.93643421]."
       ]
      },
      {
       "output_type": "stream",
       "stream": "stdout",
       "text": [
        "\tLoss: 1.41e-03\tError: 3.74e-02\tStd dev: 2.52e-02\tResample: 6\n",
        "Chose theta = [ 1.46128938]."
       ]
      },
      {
       "output_type": "stream",
       "stream": "stdout",
       "text": [
        "\tLoss: 1.35e-03\tError: 3.67e-02\tStd dev: 2.50e-02\tResample: 6\n",
        "Chose theta = [ 1.4606156]."
       ]
      },
      {
       "output_type": "stream",
       "stream": "stdout",
       "text": [
        "\tLoss: 1.11e-03\tError: 3.31e-02\tStd dev: 2.48e-02\tResample: 6\n",
        "Chose theta = [ 1.46994241]."
       ]
      },
      {
       "output_type": "stream",
       "stream": "stdout",
       "text": [
        "\tLoss: 1.12e-03\tError: 3.33e-02\tStd dev: 2.47e-02\tResample: 6\n",
        "Chose theta = [ 4.56659466]."
       ]
      },
      {
       "output_type": "stream",
       "stream": "stdout",
       "text": [
        "\tLoss: 1.33e-03\tError: 3.64e-02\tStd dev: 2.46e-02\tResample: 6\n",
        "Chose theta = [ 1.40749024]."
       ]
      },
      {
       "output_type": "stream",
       "stream": "stdout",
       "text": [
        "\tLoss: 1.48e-03\tError: 3.85e-02\tStd dev: 2.44e-02\tResample: 6\n",
        "Chose theta = [ 3.00776419]."
       ]
      },
      {
       "output_type": "stream",
       "stream": "stdout",
       "text": [
        "\tLoss: 1.63e-03\tError: 4.04e-02\tStd dev: 2.42e-02\tResample: 6\n",
        "Chose theta = [ 6.1164173]."
       ]
      },
      {
       "output_type": "stream",
       "stream": "stdout",
       "text": [
        "\tLoss: 1.50e-03\tError: 3.86e-02\tStd dev: 2.42e-02\tResample: 6\n",
        "Chose theta = [ 1.473058]."
       ]
      },
      {
       "output_type": "stream",
       "stream": "stdout",
       "text": [
        "\tLoss: 1.50e-03\tError: 3.86e-02\tStd dev: 2.41e-02\tResample: 6\n",
        "Chose theta = [ 2.99039948]."
       ]
      },
      {
       "output_type": "stream",
       "stream": "stdout",
       "text": [
        "\tLoss: 1.50e-03\tError: 3.87e-02\tStd dev: 2.40e-02\tResample: 6\n",
        "Chose theta = [ 4.62674126]."
       ]
      },
      {
       "output_type": "stream",
       "stream": "stdout",
       "text": [
        "\tLoss: 1.53e-03\tError: 3.91e-02\tStd dev: 2.40e-02\tResample: 6\n",
        "Chose theta = [ 1.44213186]."
       ]
      },
      {
       "output_type": "stream",
       "stream": "stdout",
       "text": [
        "\tLoss: 1.57e-03\tError: 3.96e-02\tStd dev: 2.38e-02\tResample: 6\n",
        "Chose theta = [ 1.44199947]."
       ]
      },
      {
       "output_type": "stream",
       "stream": "stdout",
       "text": [
        "\tLoss: 1.35e-03\tError: 3.66e-02\tStd dev: 2.37e-02\tResample: 6\n",
        "Chose theta = [ 1.46598726]."
       ]
      },
      {
       "output_type": "stream",
       "stream": "stdout",
       "text": [
        "\tLoss: 1.42e-03\tError: 3.76e-02\tStd dev: 2.35e-02\tResample: 6\n",
        "Chose theta = [ 1.45613032]."
       ]
      },
      {
       "output_type": "stream",
       "stream": "stdout",
       "text": [
        "\tLoss: 1.51e-03\tError: 3.87e-02\tStd dev: 2.33e-02\tResample: 6\n",
        "Chose theta = [ 1.44740273]."
       ]
      },
      {
       "output_type": "stream",
       "stream": "stdout",
       "text": [
        "\tLoss: 1.67e-03\tError: 4.08e-02\tStd dev: 2.32e-02\tResample: 6\n",
        "Chose theta = [ 2.96768552]."
       ]
      },
      {
       "output_type": "stream",
       "stream": "stdout",
       "text": [
        "\tLoss: 1.54e-03\tError: 3.90e-02\tStd dev: 2.32e-02\tResample: 6\n",
        "Chose theta = [ 2.99225391]."
       ]
      },
      {
       "output_type": "stream",
       "stream": "stdout",
       "text": [
        "\tLoss: 1.44e-03\tError: 3.74e-02\tStd dev: 2.33e-02\tResample: 6\n",
        "Chose theta = [ 1.46608646]."
       ]
      },
      {
       "output_type": "stream",
       "stream": "stdout",
       "text": [
        "\tLoss: 1.64e-03\tError: 4.00e-02\tStd dev: 2.31e-02\tResample: 6\n",
        "Chose theta = [ 1.4545839]."
       ]
      },
      {
       "output_type": "stream",
       "stream": "stdout",
       "text": [
        "\tLoss: 1.42e-03\tError: 3.70e-02\tStd dev: 2.30e-02\tResample: 6\n",
        "Chose theta = [ 1.49470639]."
       ]
      },
      {
       "output_type": "stream",
       "stream": "stdout",
       "text": [
        "\tLoss: 1.18e-03\tError: 3.35e-02\tStd dev: 2.29e-02\tResample: 6\n",
        "Chose theta = [ 1.51225459]."
       ]
      },
      {
       "output_type": "stream",
       "stream": "stdout",
       "text": [
        "\tLoss: 1.10e-03\tError: 3.23e-02\tStd dev: 2.27e-02\tResample: 6\n",
        "Chose theta = [ 1.45187449]."
       ]
      },
      {
       "output_type": "stream",
       "stream": "stdout",
       "text": [
        "\tLoss: 8.96e-04\tError: 2.88e-02\tStd dev: 2.26e-02\tResample: 6\n",
        "Chose theta = [ 6.16125195]."
       ]
      },
      {
       "output_type": "stream",
       "stream": "stdout",
       "text": [
        "\tLoss: 9.00e-04\tError: 2.90e-02\tStd dev: 2.26e-02\tResample: 6\n",
        "Chose theta = [ 1.45130403]."
       ]
      },
      {
       "output_type": "stream",
       "stream": "stdout",
       "text": [
        "\tLoss: 1.01e-03\tError: 3.09e-02\tStd dev: 2.24e-02\tResample: 6\n",
        "Chose theta = [ 1.47004779]."
       ]
      },
      {
       "output_type": "stream",
       "stream": "stdout",
       "text": [
        "\tLoss: 8.12e-04\tError: 2.73e-02\tStd dev: 2.23e-02\tResample: 6\n",
        "Chose theta = [ 6.14560902]."
       ]
      },
      {
       "output_type": "stream",
       "stream": "stdout",
       "text": [
        "\tLoss: 8.15e-04\tError: 2.74e-02\tStd dev: 2.23e-02\tResample: 6\n",
        "Chose theta = [ 6.14806654]."
       ]
      },
      {
       "output_type": "stream",
       "stream": "stdout",
       "text": [
        "\tLoss: 8.19e-04\tError: 2.76e-02\tStd dev: 2.23e-02\tResample: 6\n",
        "Chose theta = [ 1.46101828]."
       ]
      },
      {
       "output_type": "stream",
       "stream": "stdout",
       "text": [
        "\tLoss: 8.36e-04\tError: 2.79e-02\tStd dev: 2.22e-02\tResample: 6\n",
        "Chose theta = [ 1.4447013]."
       ]
      },
      {
       "output_type": "stream",
       "stream": "stdout",
       "text": [
        "\tLoss: 8.64e-04\tError: 2.84e-02\tStd dev: 2.21e-02\tResample: 6\n",
        "Chose theta = [ 6.13347547]."
       ]
      },
      {
       "output_type": "stream",
       "stream": "stdout",
       "text": [
        "\tLoss: 8.89e-04\tError: 2.92e-02\tStd dev: 2.20e-02\tResample: 6\n",
        "Chose theta = [ 1.44670373]."
       ]
      },
      {
       "output_type": "stream",
       "stream": "stdout",
       "text": [
        "\tLoss: 8.36e-04\tError: 2.82e-02\tStd dev: 2.19e-02\tResample: 6\n",
        "Chose theta = [ 1.48417906]."
       ]
      },
      {
       "output_type": "stream",
       "stream": "stdout",
       "text": [
        "\tLoss: 8.75e-04\tError: 2.89e-02\tStd dev: 2.18e-02\tResample: 6\n",
        "Chose theta = [ 1.45470401]."
       ]
      },
      {
       "output_type": "stream",
       "stream": "stdout",
       "text": [
        "\tLoss: 8.18e-04\tError: 2.79e-02\tStd dev: 2.17e-02\tResample: 6\n",
        "Chose theta = [ 1.47783389]."
       ]
      },
      {
       "output_type": "stream",
       "stream": "stdout",
       "text": [
        "\tLoss: 7.85e-04\tError: 2.73e-02\tStd dev: 2.16e-02\tResample: 6\n",
        "Chose theta = [ 3.00571498]."
       ]
      },
      {
       "output_type": "stream",
       "stream": "stdout",
       "text": [
        "\tLoss: 7.69e-04\tError: 2.67e-02\tStd dev: 2.16e-02\tResample: 6\n",
        "Chose theta = [ 1.44871351]."
       ]
      },
      {
       "output_type": "stream",
       "stream": "stdout",
       "text": [
        "\tLoss: 8.29e-04\tError: 2.79e-02\tStd dev: 2.15e-02\tResample: 6\n",
        "Chose theta = [ 1.49695025]."
       ]
      },
      {
       "output_type": "stream",
       "stream": "stdout",
       "text": [
        "\tLoss: 8.95e-04\tError: 2.91e-02\tStd dev: 2.14e-02\tResample: 6\n",
        "Chose theta = [ 1.45586022]."
       ]
      },
      {
       "output_type": "stream",
       "stream": "stdout",
       "text": [
        "\tLoss: 7.35e-04\tError: 2.61e-02\tStd dev: 2.13e-02\tResample: 6\n",
        "Chose theta = [ 1.47128174]."
       ]
      },
      {
       "output_type": "stream",
       "stream": "stdout",
       "text": [
        "\tLoss: 5.90e-04\tError: 2.29e-02\tStd dev: 2.11e-02\tResample: 6\n",
        "Chose theta = [ 1.46752813]."
       ]
      },
      {
       "output_type": "stream",
       "stream": "stdout",
       "text": [
        "\tLoss: 5.73e-04\tError: 2.25e-02\tStd dev: 2.10e-02\tResample: 6\n",
        "Chose theta = [ 1.45882673]."
       ]
      },
      {
       "output_type": "stream",
       "stream": "stdout",
       "text": [
        "\tLoss: 5.88e-04\tError: 2.29e-02\tStd dev: 2.09e-02\tResample: 6\n",
        "Chose theta = [ 6.16079288]."
       ]
      },
      {
       "output_type": "stream",
       "stream": "stdout",
       "text": [
        "\tLoss: 5.79e-04\tError: 2.20e-02\tStd dev: 2.09e-02\tResample: 6\n",
        "Chose theta = [ 1.4900994]."
       ]
      },
      {
       "output_type": "stream",
       "stream": "stdout",
       "text": [
        "\tLoss: 4.60e-04\tError: 1.88e-02\tStd dev: 2.08e-02\tResample: 6\n",
        "Chose theta = [ 1.48265389]."
       ]
      },
      {
       "output_type": "stream",
       "stream": "stdout",
       "text": [
        "\tLoss: 4.64e-04\tError: 1.89e-02\tStd dev: 2.07e-02\tResample: 6\n",
        "Chose theta = [ 1.50699353]."
       ]
      },
      {
       "output_type": "stream",
       "stream": "stdout",
       "text": [
        "\tLoss: 7.40e-04\tError: 2.56e-02\tStd dev: 2.06e-02\tResample: 6\n",
        "Chose theta = [ 1.47992796]."
       ]
      },
      {
       "output_type": "stream",
       "stream": "stdout",
       "text": [
        "\tLoss: 5.78e-04\tError: 2.20e-02\tStd dev: 2.05e-02\tResample: 6\n",
        "Chose theta = [ 1.4664277]."
       ]
      },
      {
       "output_type": "stream",
       "stream": "stdout",
       "text": [
        "\tLoss: 6.14e-04\tError: 2.28e-02\tStd dev: 2.05e-02\tResample: 6\n",
        "Chose theta = [ 1.4573972]."
       ]
      },
      {
       "output_type": "stream",
       "stream": "stdout",
       "text": [
        "\tLoss: 6.29e-04\tError: 2.32e-02\tStd dev: 2.04e-02\tResample: 6\n",
        "Chose theta = [ 1.45699879]."
       ]
      },
      {
       "output_type": "stream",
       "stream": "stdout",
       "text": [
        "\tLoss: 5.92e-04\tError: 2.23e-02\tStd dev: 2.03e-02\tResample: 6\n",
        "Chose theta = [ 1.49365472]."
       ]
      },
      {
       "output_type": "stream",
       "stream": "stdout",
       "text": [
        "\tLoss: 5.43e-04\tError: 2.11e-02\tStd dev: 2.02e-02\tResample: 6\n",
        "Chose theta = [ 1.49373612]."
       ]
      },
      {
       "output_type": "stream",
       "stream": "stdout",
       "text": [
        "\tLoss: 4.77e-04\tError: 1.93e-02\tStd dev: 2.01e-02\tResample: 6\n",
        "Chose theta = [ 1.51398041]."
       ]
      },
      {
       "output_type": "stream",
       "stream": "stdout",
       "text": [
        "\tLoss: 4.49e-04\tError: 1.84e-02\tStd dev: 2.00e-02\tResample: 6\n",
        "Chose theta = [ 1.47146747]."
       ]
      },
      {
       "output_type": "stream",
       "stream": "stdout",
       "text": [
        "\tLoss: 4.97e-04\tError: 1.98e-02\tStd dev: 1.99e-02\tResample: 6\n",
        "Chose theta = [ 1.48490994]."
       ]
      },
      {
       "output_type": "stream",
       "stream": "stdout",
       "text": [
        "\tLoss: 4.99e-04\tError: 1.99e-02\tStd dev: 1.98e-02\tResample: 6\n",
        "Chose theta = [ 1.43936529]."
       ]
      },
      {
       "output_type": "stream",
       "stream": "stdout",
       "text": [
        "\tLoss: 4.39e-04\tError: 1.82e-02\tStd dev: 1.97e-02\tResample: 6\n",
        "Chose theta = [ 1.45919934]."
       ]
      },
      {
       "output_type": "stream",
       "stream": "stdout",
       "text": [
        "\tLoss: 4.70e-04\tError: 1.91e-02\tStd dev: 1.97e-02\tResample: 6\n",
        "Chose theta = [ 1.4718426]."
       ]
      },
      {
       "output_type": "stream",
       "stream": "stdout",
       "text": [
        "\tLoss: 4.97e-04\tError: 1.98e-02\tStd dev: 1.96e-02\tResample: 6\n",
        "Chose theta = [ 1.49294916]."
       ]
      },
      {
       "output_type": "stream",
       "stream": "stdout",
       "text": [
        "\tLoss: 5.58e-04\tError: 2.15e-02\tStd dev: 1.95e-02\tResample: 6\n",
        "Chose theta = [ 1.46282712]."
       ]
      },
      {
       "output_type": "stream",
       "stream": "stdout",
       "text": [
        "\tLoss: 4.67e-04\tError: 1.90e-02\tStd dev: 1.94e-02\tResample: 6\n",
        "Chose theta = [ 1.49209177]."
       ]
      },
      {
       "output_type": "stream",
       "stream": "stdout",
       "text": [
        "\tLoss: 4.86e-04\tError: 1.95e-02\tStd dev: 1.94e-02\tResample: 6\n",
        "Chose theta = [ 1.48965643]."
       ]
      },
      {
       "output_type": "stream",
       "stream": "stdout",
       "text": [
        "\tLoss: 4.87e-04\tError: 1.96e-02\tStd dev: 1.93e-02\tResample: 6\n",
        "Chose theta = [ 1.49407391]."
       ]
      },
      {
       "output_type": "stream",
       "stream": "stdout",
       "text": [
        "\tLoss: 5.05e-04\tError: 2.01e-02\tStd dev: 1.92e-02\tResample: 6\n",
        "Chose theta = [ 1.46326809]."
       ]
      },
      {
       "output_type": "stream",
       "stream": "stdout",
       "text": [
        "\tLoss: 6.20e-04\tError: 2.30e-02\tStd dev: 1.92e-02\tResample: 6\n",
        "Chose theta = [ 1.44684873]."
       ]
      },
      {
       "output_type": "stream",
       "stream": "stdout",
       "text": [
        "\tLoss: 5.31e-04\tError: 2.08e-02\tStd dev: 1.91e-02\tResample: 6\n",
        "Chose theta = [ 1.47331239]."
       ]
      },
      {
       "output_type": "stream",
       "stream": "stdout",
       "text": [
        "\tLoss: 4.80e-04\tError: 1.94e-02\tStd dev: 1.90e-02\tResample: 6\n",
        "Chose theta = [ 1.4625517]."
       ]
      },
      {
       "output_type": "stream",
       "stream": "stdout",
       "text": [
        "\tLoss: 4.37e-04\tError: 1.81e-02\tStd dev: 1.89e-02\tResample: 6\n",
        "Chose theta = [ 6.18222154]."
       ]
      },
      {
       "output_type": "stream",
       "stream": "stdout",
       "text": [
        "\tLoss: 4.35e-04\tError: 1.83e-02\tStd dev: 1.89e-02\tResample: 6\n",
        "Chose theta = [ 1.47205589]."
       ]
      },
      {
       "output_type": "stream",
       "stream": "stdout",
       "text": [
        "\tLoss: 3.64e-04\tError: 1.59e-02\tStd dev: 1.89e-02\tResample: 6\n",
        "Chose theta = [ 1.46205465]."
       ]
      },
      {
       "output_type": "stream",
       "stream": "stdout",
       "text": [
        "\tLoss: 3.44e-04\tError: 1.52e-02\tStd dev: 1.88e-02\tResample: 6\n",
        "Chose theta = [ 1.47986357]."
       ]
      },
      {
       "output_type": "stream",
       "stream": "stdout",
       "text": [
        "\tLoss: 4.06e-04\tError: 1.74e-02\tStd dev: 1.87e-02\tResample: 6\n",
        "Chose theta = [ 1.44983718]."
       ]
      },
      {
       "output_type": "stream",
       "stream": "stdout",
       "text": [
        "\tLoss: 4.19e-04\tError: 1.78e-02\tStd dev: 1.87e-02\tResample: 6\n",
        "Chose theta = [ 1.49276716]."
       ]
      },
      {
       "output_type": "stream",
       "stream": "stdout",
       "text": [
        "\tLoss: 4.68e-04\tError: 1.92e-02\tStd dev: 1.86e-02\tResample: 6\n",
        "Chose theta = [ 6.17395998]."
       ]
      },
      {
       "output_type": "stream",
       "stream": "stdout",
       "text": [
        "\tLoss: 4.67e-04\tError: 1.94e-02\tStd dev: 1.86e-02\tResample: 6\n",
        "Chose theta = [ 1.46647105]."
       ]
      },
      {
       "output_type": "stream",
       "stream": "stdout",
       "text": [
        "\tLoss: 6.09e-04\tError: 2.30e-02\tStd dev: 1.86e-02\tResample: 6\n",
        "Chose theta = [ 1.45835701]."
       ]
      },
      {
       "output_type": "stream",
       "stream": "stdout",
       "text": [
        "\tLoss: 5.21e-04\tError: 2.08e-02\tStd dev: 1.85e-02\tResample: 6\n",
        "Chose theta = [ 1.46955069]."
       ]
      },
      {
       "output_type": "stream",
       "stream": "stdout",
       "text": [
        "\tLoss: 5.28e-04\tError: 2.10e-02\tStd dev: 1.84e-02\tResample: 6\n",
        "Chose theta = [ 1.47664091]."
       ]
      },
      {
       "output_type": "stream",
       "stream": "stdout",
       "text": [
        "\tLoss: 5.33e-04\tError: 2.11e-02\tStd dev: 1.84e-02\tResample: 6\n",
        "Chose theta = [ 1.47912867]."
       ]
      },
      {
       "output_type": "stream",
       "stream": "stdout",
       "text": [
        "\tLoss: 5.01e-04\tError: 2.03e-02\tStd dev: 1.83e-02\tResample: 6\n",
        "Chose theta = [ 6.18275261]."
       ]
      },
      {
       "output_type": "stream",
       "stream": "stdout",
       "text": [
        "\tLoss: 5.01e-04\tError: 2.08e-02\tStd dev: 1.83e-02\tResample: 6\n",
        "Chose theta = [ 1.50698105]."
       ]
      },
      {
       "output_type": "stream",
       "stream": "stdout",
       "text": [
        "\tLoss: 5.14e-04\tError: 2.12e-02\tStd dev: 1.83e-02\tResample: 6\n",
        "Chose theta = [ 1.46646378]."
       ]
      },
      {
       "output_type": "stream",
       "stream": "stdout",
       "text": [
        "\tLoss: 5.41e-04\tError: 2.18e-02\tStd dev: 1.82e-02\tResample: 6\n",
        "Chose theta = [ 1.44602973]."
       ]
      },
      {
       "output_type": "stream",
       "stream": "stdout",
       "text": [
        "\tLoss: 5.95e-04\tError: 2.31e-02\tStd dev: 1.81e-02\tResample: 6\n",
        "Chose theta = [ 6.17303618]."
       ]
      },
      {
       "output_type": "stream",
       "stream": "stdout",
       "text": [
        "\tLoss: 6.11e-04\tError: 2.41e-02\tStd dev: 1.81e-02\tResample: 6\n",
        "Chose theta = [ 1.47594256]."
       ]
      },
      {
       "output_type": "stream",
       "stream": "stdout",
       "text": [
        "\tLoss: 6.16e-04\tError: 2.42e-02\tStd dev: 1.81e-02\tResample: 6\n",
        "Chose theta = [ 1.47800937]."
       ]
      },
      {
       "output_type": "stream",
       "stream": "stdout",
       "text": [
        "\tLoss: 5.79e-04\tError: 2.33e-02\tStd dev: 1.80e-02\tResample: 6\n",
        "Chose theta = [ 1.44863713]."
       ]
      },
      {
       "output_type": "stream",
       "stream": "stdout",
       "text": [
        "\tLoss: 5.54e-04\tError: 2.28e-02\tStd dev: 1.80e-02\tResample: 6\n",
        "Chose theta = [ 1.44279867]."
       ]
      },
      {
       "output_type": "stream",
       "stream": "stdout",
       "text": [
        "\tLoss: 4.25e-04\tError: 1.96e-02\tStd dev: 1.79e-02\tResample: 6\n",
        "Chose theta = [ 6.1825801]."
       ]
      },
      {
       "output_type": "stream",
       "stream": "stdout",
       "text": [
        "\tLoss: 4.23e-04\tError: 1.93e-02\tStd dev: 1.79e-02\tResample: 6\n",
        "Chose theta = [ 1.47734737]."
       ]
      },
      {
       "output_type": "stream",
       "stream": "stdout",
       "text": [
        "\tLoss: 4.43e-04\tError: 1.99e-02\tStd dev: 1.79e-02\tResample: 6\n",
        "Chose theta = [ 6.17316661]."
       ]
      },
      {
       "output_type": "stream",
       "stream": "stdout",
       "text": [
        "\tLoss: 4.41e-04\tError: 1.96e-02\tStd dev: 1.78e-02\tResample: 6\n",
        "Chose theta = [ 1.49950891]."
       ]
      },
      {
       "output_type": "stream",
       "stream": "stdout",
       "text": [
        "\tLoss: 5.42e-04\tError: 2.21e-02\tStd dev: 1.78e-02\tResample: 6\n",
        "Chose theta = [ 1.41883926]."
       ]
      },
      {
       "output_type": "stream",
       "stream": "stdout",
       "text": [
        "\tLoss: 6.44e-04\tError: 2.44e-02\tStd dev: 1.77e-02\tResample: 6\n",
        "Chose theta = [ 1.49301821]."
       ]
      },
      {
       "output_type": "stream",
       "stream": "stdout",
       "text": [
        "\tLoss: 6.42e-04\tError: 2.44e-02\tStd dev: 1.77e-02\tResample: 6\n",
        "Chose theta = [ 6.20011267]."
       ]
      },
      {
       "output_type": "stream",
       "stream": "stdout",
       "text": [
        "\tLoss: 6.44e-04\tError: 2.45e-02\tStd dev: 1.77e-02\tResample: 6\n",
        "Chose theta = [ 1.466594]."
       ]
      },
      {
       "output_type": "stream",
       "stream": "stdout",
       "text": [
        "\tLoss: 5.93e-04\tError: 2.34e-02\tStd dev: 1.76e-02\tResample: 6\n",
        "Chose theta = [ 1.46106619]."
       ]
      },
      {
       "output_type": "stream",
       "stream": "stdout",
       "text": [
        "\tLoss: 5.65e-04\tError: 2.28e-02\tStd dev: 1.76e-02\tResample: 6\n",
        "Chose theta = [ 1.43116169]."
       ]
      },
      {
       "output_type": "stream",
       "stream": "stdout",
       "text": [
        "\tLoss: 6.43e-04\tError: 2.45e-02\tStd dev: 1.75e-02\tResample: 6\n",
        "Chose theta = [ 3.01464737]."
       ]
      },
      {
       "output_type": "stream",
       "stream": "stdout",
       "text": [
        "\tLoss: 6.49e-04\tError: 2.49e-02\tStd dev: 1.75e-02\tResample: 6\n",
        "Chose theta = [ 6.21011979]."
       ]
      },
      {
       "output_type": "stream",
       "stream": "stdout",
       "text": [
        "\tLoss: 6.52e-04\tError: 2.50e-02\tStd dev: 1.75e-02\tResample: 6\n",
        "Chose theta = [ 1.47395627]."
       ]
      },
      {
       "output_type": "stream",
       "stream": "stdout",
       "text": [
        "\tLoss: 6.98e-04\tError: 2.59e-02\tStd dev: 1.75e-02\tResample: 6\n",
        "Chose theta = [ 1.50698755]."
       ]
      },
      {
       "output_type": "stream",
       "stream": "stdout",
       "text": [
        "\tLoss: 6.11e-04\tError: 2.41e-02\tStd dev: 1.74e-02\tResample: 6\n",
        "Chose theta = [ 6.18723933]."
       ]
      },
      {
       "output_type": "stream",
       "stream": "stdout",
       "text": [
        "\tLoss: 6.13e-04\tError: 2.42e-02\tStd dev: 1.74e-02\tResample: 6\n",
        "Chose theta = [ 1.47552342]."
       ]
      },
      {
       "output_type": "stream",
       "stream": "stdout",
       "text": [
        "\tLoss: 5.99e-04\tError: 2.39e-02\tStd dev: 1.74e-02\tResample: 6\n",
        "Chose theta = [ 6.21339138]."
       ]
      },
      {
       "output_type": "stream",
       "stream": "stdout",
       "text": [
        "\tLoss: 5.93e-04\tError: 2.37e-02\tStd dev: 1.74e-02\tResample: 6\n",
        "Chose theta = [ 1.47044363]."
       ]
      },
      {
       "output_type": "stream",
       "stream": "stdout",
       "text": [
        "\tLoss: 6.18e-04\tError: 2.42e-02\tStd dev: 1.73e-02\tResample: 6\n",
        "Chose theta = [ 1.47666293]."
       ]
      },
      {
       "output_type": "stream",
       "stream": "stdout",
       "text": [
        "\tLoss: 6.61e-04\tError: 2.51e-02\tStd dev: 1.73e-02\tResample: 6\n",
        "Chose theta = [ 6.18405605]."
       ]
      },
      {
       "output_type": "stream",
       "stream": "stdout",
       "text": [
        "\tLoss: 6.73e-04\tError: 2.55e-02\tStd dev: 1.72e-02\tResample: 6\n",
        "Chose theta = [ 1.44999368]."
       ]
      },
      {
       "output_type": "stream",
       "stream": "stdout",
       "text": [
        "\tLoss: 5.90e-04\tError: 2.38e-02\tStd dev: 1.72e-02\tResample: 6\n",
        "Chose theta = [ 1.47660241]."
       ]
      },
      {
       "output_type": "stream",
       "stream": "stdout",
       "text": [
        "\tLoss: 6.51e-04\tError: 2.51e-02\tStd dev: 1.72e-02\tResample: 6\n",
        "Chose theta = [ 1.48920404]."
       ]
      },
      {
       "output_type": "stream",
       "stream": "stdout",
       "text": [
        "\tLoss: 6.50e-04\tError: 2.51e-02\tStd dev: 1.71e-02\tResample: 6\n",
        "Chose theta = [ 6.20115103]."
       ]
      },
      {
       "output_type": "stream",
       "stream": "stdout",
       "text": [
        "\tLoss: 6.43e-04\tError: 2.48e-02\tStd dev: 1.71e-02\tResample: 6\n",
        "Chose theta = [ 3.02644762]."
       ]
      },
      {
       "output_type": "stream",
       "stream": "stdout",
       "text": [
        "\tLoss: 6.50e-04\tError: 2.52e-02\tStd dev: 1.71e-02\tResample: 6\n",
        "Chose theta = [ 1.4776001]."
       ]
      },
      {
       "output_type": "stream",
       "stream": "stdout",
       "text": [
        "\tLoss: 6.54e-04\tError: 2.52e-02\tStd dev: 1.70e-02\tResample: 6\n",
        "Chose theta = [ 1.45610846]."
       ]
      },
      {
       "output_type": "stream",
       "stream": "stdout",
       "text": [
        "\tLoss: 6.65e-04\tError: 2.54e-02\tStd dev: 1.70e-02\tResample: 6\n",
        "Chose theta = [ 6.19084495]."
       ]
      },
      {
       "output_type": "stream",
       "stream": "stdout",
       "text": [
        "\tLoss: 6.57e-04\tError: 2.52e-02\tStd dev: 1.70e-02\tResample: 6\n",
        "Chose theta = [ 6.16083469]."
       ]
      },
      {
       "output_type": "stream",
       "stream": "stdout",
       "text": [
        "\tLoss: 6.50e-04\tError: 2.49e-02\tStd dev: 1.70e-02\tResample: 6\n",
        "Chose theta = [ 3.03424094]."
       ]
      },
      {
       "output_type": "stream",
       "stream": "stdout",
       "text": [
        "\tLoss: 6.47e-04\tError: 2.47e-02\tStd dev: 1.70e-02\tResample: 6\n",
        "Chose theta = [ 1.45908882]."
       ]
      },
      {
       "output_type": "stream",
       "stream": "stdout",
       "text": [
        "\tLoss: 6.02e-04\tError: 2.38e-02\tStd dev: 1.69e-02\tResample: 6\n",
        "Chose theta = [ 1.47838148]."
       ]
      },
      {
       "output_type": "stream",
       "stream": "stdout",
       "text": [
        "\tLoss: 6.23e-04\tError: 2.42e-02\tStd dev: 1.69e-02\tResample: 6\n",
        "Chose theta = [ 1.48941871]."
       ]
      },
      {
       "output_type": "stream",
       "stream": "stdout",
       "text": [
        "\tLoss: 5.54e-04\tError: 2.27e-02\tStd dev: 1.69e-02\tResample: 6\n",
        "Chose theta = [ 6.18114151]."
       ]
      },
      {
       "output_type": "stream",
       "stream": "stdout",
       "text": [
        "\tLoss: 5.61e-04\tError: 2.31e-02\tStd dev: 1.69e-02\tResample: 6\n",
        "Chose theta = [ 1.4427183]."
       ]
      },
      {
       "output_type": "stream",
       "stream": "stdout",
       "text": [
        "\tLoss: 5.26e-04\tError: 2.23e-02\tStd dev: 1.68e-02\tResample: 6\n",
        "Chose theta = [ 1.47659812]."
       ]
      },
      {
       "output_type": "stream",
       "stream": "stdout",
       "text": [
        "\tLoss: 4.98e-04\tError: 2.16e-02\tStd dev: 1.68e-02\tResample: 6\n",
        "Chose theta = [ 1.49461378]."
       ]
      },
      {
       "output_type": "stream",
       "stream": "stdout",
       "text": [
        "\tLoss: 4.81e-04\tError: 2.12e-02\tStd dev: 1.67e-02\tResample: 6\n",
        "Chose theta = [ 1.46534161]."
       ]
      },
      {
       "output_type": "stream",
       "stream": "stdout",
       "text": [
        "\tLoss: 4.88e-04\tError: 2.14e-02\tStd dev: 1.67e-02\tResample: 6\n",
        "Chose theta = [ 1.43841131]."
       ]
      },
      {
       "output_type": "stream",
       "stream": "stdout",
       "text": [
        "\tLoss: 5.19e-04\tError: 2.21e-02\tStd dev: 1.67e-02\tResample: 6\n",
        "Chose theta = [ 1.46557154]."
       ]
      },
      {
       "output_type": "stream",
       "stream": "stdout",
       "text": [
        "\tLoss: 5.26e-04\tError: 2.23e-02\tStd dev: 1.66e-02\tResample: 6\n",
        "Chose theta = [ 1.4460456]."
       ]
      },
      {
       "output_type": "stream",
       "stream": "stdout",
       "text": [
        "\tLoss: 5.87e-04\tError: 2.37e-02\tStd dev: 1.66e-02\tResample: 6\n",
        "Chose theta = [ 6.18616693]."
       ]
      },
      {
       "output_type": "stream",
       "stream": "stdout",
       "text": [
        "\tLoss: 5.82e-04\tError: 2.34e-02\tStd dev: 1.66e-02\tResample: 6\n",
        "Chose theta = [ 1.4476516]."
       ]
      },
      {
       "output_type": "stream",
       "stream": "stdout",
       "text": [
        "\tLoss: 6.11e-04\tError: 2.41e-02\tStd dev: 1.65e-02\tResample: 6\n",
        "Chose theta = [ 6.28318531]."
       ]
      },
      {
       "output_type": "stream",
       "stream": "stdout",
       "text": [
        "\tLoss: 6.16e-04\tError: 2.42e-02\tStd dev: 1.65e-02\tResample: 6\n",
        "Chose theta = [ 1.45795465]."
       ]
      },
      {
       "output_type": "stream",
       "stream": "stdout",
       "text": [
        "\tLoss: 5.92e-04\tError: 2.37e-02\tStd dev: 1.65e-02\tResample: 6\n",
        "Chose theta = [ 6.18471035]."
       ]
      },
      {
       "output_type": "stream",
       "stream": "stdout",
       "text": [
        "\tLoss: 5.94e-04\tError: 2.38e-02\tStd dev: 1.65e-02\tResample: 6\n",
        "Chose theta = [ 1.46325358]."
       ]
      },
      {
       "output_type": "stream",
       "stream": "stdout",
       "text": [
        "\tLoss: 6.52e-04\tError: 2.50e-02\tStd dev: 1.64e-02\tResample: 6\n",
        "Chose theta = [ 1.46672487]."
       ]
      },
      {
       "output_type": "stream",
       "stream": "stdout",
       "text": [
        "\tLoss: 7.12e-04\tError: 2.62e-02\tStd dev: 1.64e-02\tResample: 6\n",
        "Chose theta = [ 1.47746531]."
       ]
      },
      {
       "output_type": "stream",
       "stream": "stdout",
       "text": [
        "\tLoss: 6.97e-04\tError: 2.59e-02\tStd dev: 1.64e-02\tResample: 6\n",
        "Chose theta = [ 6.28318531]."
       ]
      },
      {
       "output_type": "stream",
       "stream": "stdout",
       "text": [
        "\tLoss: 7.03e-04\tError: 2.61e-02\tStd dev: 1.64e-02\tResample: 6\n",
        "Chose theta = [ 1.46378274]."
       ]
      },
      {
       "output_type": "stream",
       "stream": "stdout",
       "text": [
        "\tLoss: 6.75e-04\tError: 2.56e-02\tStd dev: 1.63e-02\tResample: 6\n",
        "Chose theta = [ 6.20332582]."
       ]
      },
      {
       "output_type": "stream",
       "stream": "stdout",
       "text": [
        "\tLoss: 6.87e-04\tError: 2.59e-02\tStd dev: 1.63e-02\tResample: 6\n",
        "Chose theta = [ 6.16558305]."
       ]
      },
      {
       "output_type": "stream",
       "stream": "stdout",
       "text": [
        "\tLoss: 6.71e-04\tError: 2.54e-02\tStd dev: 1.63e-02\tResample: 6\n",
        "Chose theta = [ 3.03124957]."
       ]
      },
      {
       "output_type": "stream",
       "stream": "stdout",
       "text": [
        "\tLoss: 6.72e-04\tError: 2.54e-02\tStd dev: 1.63e-02\tResample: 6\n",
        "Chose theta = [ 1.45661555]."
       ]
      },
      {
       "output_type": "stream",
       "stream": "stdout",
       "text": [
        "\tLoss: 7.16e-04\tError: 2.63e-02\tStd dev: 1.63e-02\tResample: 6\n",
        "Chose theta = [ 6.1681188]."
       ]
      },
      {
       "output_type": "stream",
       "stream": "stdout",
       "text": [
        "\tLoss: 6.92e-04\tError: 2.53e-02\tStd dev: 1.63e-02\tResample: 6\n",
        "Chose theta = [ 6.28318531]."
       ]
      },
      {
       "output_type": "stream",
       "stream": "stdout",
       "text": [
        "\tLoss: 7.10e-04\tError: 2.60e-02\tStd dev: 1.63e-02\tResample: 6\n",
        "Chose theta = [ 6.16059341]."
       ]
      },
      {
       "output_type": "stream",
       "stream": "stdout",
       "text": [
        "\tLoss: 7.19e-04\tError: 2.63e-02\tStd dev: 1.63e-02\tResample: 6\n",
        "0.895 \u00b1 0.00832\t"
       ]
      },
      {
       "output_type": "stream",
       "stream": "stdout",
       "text": [
        " -3.9e-07 \u00b1 2.87e-05\t 0.111 \u00b1 0.0163\t 1.02 \u00b1 0.00552\t\n",
        "[ 0.9        0.         0.0844303  1.02     ]\n"
       ]
      },
      {
       "metadata": {},
       "output_type": "display_data",
       "png": "[encoded data removed]",
       "text": [
        "<matplotlib.figure.Figure at 0x4da9b10>"
       ]
      }
     ],
     "prompt_number": 19
    },
    {
     "cell_type": "code",
     "collapsed": false,
     "input": [
      "plot_kernel_smoothed_pdf(updater_adaptive)"
     ],
     "language": "python",
     "metadata": {},
     "outputs": [
      {
       "metadata": {},
       "output_type": "display_data",
       "png": "[encoded data removed]",
       "text": [
        "<matplotlib.figure.Figure at 0x4dd3790>"
       ]
      }
     ],
     "prompt_number": 20
    },
    {
     "cell_type": "code",
     "collapsed": false,
     "input": [
      "plot_kernel_smoothed_pdf(updater_adaptive, param=3)"
     ],
     "language": "python",
     "metadata": {},
     "outputs": [
      {
       "metadata": {},
       "output_type": "display_data",
       "png": "[encoded data removed]",
       "text": [
        "<matplotlib.figure.Figure at 0x4b3f450>"
       ]
      }
     ],
     "prompt_number": 21
    },
    {
     "cell_type": "code",
     "collapsed": false,
     "input": [
      "plot(this_error_hist)"
     ],
     "language": "python",
     "metadata": {},
     "outputs": [
      {
       "metadata": {},
       "output_type": "pyout",
       "prompt_number": 22,
       "text": [
        "[<matplotlib.lines.Line2D at 0x4b40650>]"
       ]
      },
      {
       "metadata": {},
       "output_type": "display_data",
       "png": "[encoded data removed]",
       "text": [
        "<matplotlib.figure.Figure at 0x4656dd0>"
       ]
      }
     ],
     "prompt_number": "*"
    },
    {
     "cell_type": "code",
     "collapsed": false,
     "input": [
      "error_hist = np.zeros((100, 500 + warmup_thetas.size))\n",
      "for idx_run in xrange(100):\n",
      "    print(\"Run {}...\".format(idx_run))\n",
      "    f_post, this_error_hist, updater_adaptive, best_thetas = do_adaptive(n_thetas=500, n_guesses=3, warmup_thetas=warmup_thetas, n_neutrons=40, n_warmup_neutrons=1000, quiet=True)\n",
      "    error_hist[idx_run, :] = this_error_hist"
     ],
     "language": "python",
     "metadata": {},
     "outputs": [],
     "prompt_number": "*"
    },
    {
     "cell_type": "code",
     "collapsed": false,
     "input": [
      "xs = arange(error_hist.shape[1]) + 1\n",
      "ns = np.concatenate([1000 * arange(1, 1 + len(warmup_thetas)), 1000 * len(warmup_thetas) + 40 * arange(1, 501)])\n",
      "figure(figsize=(12,6))\n",
      "xlim(xmax=max(xs))\n",
      "plot(xs, np.mean(error_hist, axis=0), label='Mean error of adaptive algo.')\n",
      "plot(xs, 1/sqrt(ns), 'k--', label='CRB for perfect contrast')\n",
      "legend()\n",
      "title('Performance over 100 runs of adaptive algorithm')\n",
      "xlabel('Experiment index', size=14)\n",
      "ylabel(r'Error in $\\phi$', size=14);"
     ],
     "language": "python",
     "metadata": {},
     "outputs": [],
     "prompt_number": "*"
    },
    {
     "cell_type": "code",
     "collapsed": false,
     "input": [
      "plot_kernel_smoothed_pdf(updater_adaptive, param=2, show_true=False)\n"
     ],
     "language": "python",
     "metadata": {},
     "outputs": [],
     "prompt_number": "*"
    },
    {
     "cell_type": "code",
     "collapsed": false,
     "input": [
      "plot_kernel_smoothed_pdf(updater_adaptive, param=3, show_true=False)\n"
     ],
     "language": "python",
     "metadata": {},
     "outputs": [],
     "prompt_number": "*"
    },
    {
     "cell_type": "code",
     "collapsed": false,
     "input": [],
     "language": "python",
     "metadata": {},
     "outputs": [],
     "prompt_number": "*"
    }
   ],
   "metadata": {}
  }
 ]
}