{
 "metadata": {
  "name": ""
 },
 "nbformat": 3,
 "nbformat_minor": 0,
 "worksheets": [
  {
   "cells": [
    {
     "cell_type": "heading",
     "level": 1,
     "metadata": {},
     "source": [
      "Adaptive Neutron Interferometry"
     ]
    },
    {
     "cell_type": "heading",
     "level": 2,
     "metadata": {},
     "source": [
      "Preamble"
     ]
    },
    {
     "cell_type": "code",
     "collapsed": false,
     "input": [
      "from __future__ import division, print_function"
     ],
     "language": "python",
     "metadata": {},
     "outputs": [],
     "prompt_number": 1
    },
    {
     "cell_type": "code",
     "collapsed": false,
     "input": [
      "%pylab inline"
     ],
     "language": "python",
     "metadata": {},
     "outputs": [
      {
       "output_type": "stream",
       "stream": "stdout",
       "text": [
        "Populating the interactive namespace from numpy and matplotlib\n"
       ]
      }
     ],
     "prompt_number": 2
    },
    {
     "cell_type": "code",
     "collapsed": false,
     "input": [
      "from qinfer import smc, abstract_model, derived_models, distributions, expdesign, resamplers\n",
      "from scipy.optimize import minimize, curve_fit\n",
      "import scipy.stats\n",
      "import timeit"
     ],
     "language": "python",
     "metadata": {},
     "outputs": [
      {
       "output_type": "stream",
       "stream": "stderr",
       "text": [
        "/home/thomas/Envs/default/local/lib/python2.7/site-packages/qinfer/metrics.py:50: UserWarning: Could not import scikit-learn. Some features may not work.\n",
        "  warnings.warn(\"Could not import scikit-learn. Some features may not work.\")\n"
       ]
      }
     ],
     "prompt_number": 3
    },
    {
     "cell_type": "heading",
     "level": 2,
     "metadata": {},
     "source": [
      "Constants"
     ]
    },
    {
     "cell_type": "code",
     "collapsed": false,
     "input": [
      "TWO_PI = np.pi * 2\n",
      "d_u = np.pi/10"
     ],
     "language": "python",
     "metadata": {},
     "outputs": [],
     "prompt_number": 4
    },
    {
     "cell_type": "heading",
     "level": 2,
     "metadata": {},
     "source": [
      "Inference Models"
     ]
    },
    {
     "cell_type": "markdown",
     "metadata": {},
     "source": [
      "We start with a model that will be used for performing inference, $\\Pr(O | A, b, \\phi, \\lambda; \\theta) = (\\frac{1}{2} + b) + \\frac{A}{2} \\cos(\\lambda \\theta + \\phi)$.\n",
      "This model will then be used to adaptively learn the value of $\\vec{x} = (A, b, \\phi, \\lambda)$."
     ]
    },
    {
     "cell_type": "code",
     "collapsed": false,
     "input": [
      "class SingleNeutronModel(abstract_model.Model):    \n",
      "    ## PROPERTIES ##\n",
      "    @property\n",
      "    def n_modelparams(self):\n",
      "        return 4 # A, b, \\phi, \\lambda\n",
      "    @property\n",
      "    def expparams_dtype(self):\n",
      "        return [('theta', 'float')]\n",
      "    @property\n",
      "    def is_n_outcomes_constant(self):\n",
      "        return True\n",
      "    @property\n",
      "    def Q(self):\n",
      "        return np.array([1, 1, 1, 1]) # Prioritize phi over the others.\n",
      "    ## METHODS ##    \n",
      "    @staticmethod\n",
      "    def are_models_valid(modelparams):\n",
      "        A, b, phi, lambda_ = modelparams.T\n",
      "        abs_b = np.abs(b)\n",
      "        return np.all([\n",
      "            A > 0,\n",
      "            A <= 1 - 2 * abs_b,\n",
      "            abs_b <= 0.5,\n",
      "            phi >= 0,\n",
      "            phi <= np.pi / 2,\n",
      "            lambda_ >= 0\n",
      "        ], axis=0)\n",
      "    def n_outcomes(self, expparams):\n",
      "        return 2    \n",
      "    def likelihood(self, outcomes, modelparams, expparams):\n",
      "        # By calling the superclass implementation, we can consolidate\n",
      "        # call counting there.\n",
      "        super(SingleNeutronModel, self).likelihood(outcomes, modelparams, expparams)\n",
      "                    \n",
      "        # Extract each model parameter under its own name.\n",
      "        A, b, phi, lambda_ = modelparams.T[..., np.newaxis]\n",
      "        theta = expparams['theta'][np.newaxis, :]\n",
      "        \n",
      "        pr0 = (0.5 + b) + (0.5 * A * np.cos(lambda_ * theta + phi))\n",
      "                \n",
      "        # Now we concatenate over outcomes.\n",
      "        return abstract_model.Model.pr0_to_likelihood_array(outcomes, pr0)"
     ],
     "language": "python",
     "metadata": {},
     "outputs": [],
     "prompt_number": 5
    },
    {
     "cell_type": "markdown",
     "metadata": {},
     "source": [
      "We start with a model that will be used for performing inference, $$P(0|A,b,\\Delta\\phi,C,\\alpha';\\delta,\\hat{\\Phi},\\hat{T})= \\int \\limits_\\Phi \\int \\limits_T \\left[(\\frac{1}{2}+b)+\\frac{A}{2}cos\\left(\\Delta\\phi + C\\delta + \\frac{\\alpha' \\Phi\\delta}{T}\\times 10^{h_A - \\frac{h_B}{h_C - T}}\\right)\\right]P(T|\\hat{T})P(\\Phi|\\hat{\\Phi})dTd\\Phi$$\n",
      " This model will learn $\\vec{x} = (A,b,\\Delta\\phi,C,\\alpha')$                                                                                                                                         "
     ]
    },
    {
     "cell_type": "code",
     "collapsed": false,
     "input": [
      "class SingleNeutronModelEx(abstract_model.Model): \n",
      "    def __init__(self):\n",
      "        self.h_A=6.20963\n",
      "        self.h_B=2354.731 \n",
      "        self.h_C=7.559\n",
      "        super(SingleNeutronModelEx, self).__init__()\n",
      "    ## PROPERTIES ##\n",
      "    @property\n",
      "    def n_modelparams(self):\n",
      "        return 5 # A, b, \\phi,C,\\alpha\n",
      "    @property\n",
      "    def expparams_dtype(self):\n",
      "        return [('delta', 'float'),('temp','float'),('humid','float')]\n",
      "    @property\n",
      "    def is_n_outcomes_constant(self):\n",
      "        return True\n",
      "    @property\n",
      "    def Q(self):\n",
      "        return np.array([1, 1, 1, 1,1]) # Quadratic loss matrix, all are same for now\n",
      "    ## METHODS ##    \n",
      "    @staticmethod\n",
      "    def are_models_valid(modelparams):\n",
      "        A, b, phi, C, alpha = modelparams.T\n",
      "        abs_b = np.abs(b)\n",
      "        return np.all([\n",
      "            A > 0,\n",
      "            A <= 1 - 2 * abs_b,\n",
      "            abs_b <= 0.5,\n",
      "            phi >= 0 ,\n",
      "            phi <= np.pi / 2,\n",
      "            C >= 0,\n",
      "            alpha <=0 # might not work care\n",
      "            \n",
      "        ], axis=0)\n",
      "    def n_outcomes(self, expparams):\n",
      "        return 2    \n",
      "    def likelihood(self, outcomes, modelparams, expparams):\n",
      "        # By calling the superclass implementation, we can consolidate\n",
      "        # call counting there.\n",
      "        super(SingleNeutronModelEx, self).likelihood(outcomes, modelparams, expparams)\n",
      "                    \n",
      "        # Extract each model parameter under its own name.\n",
      "        A, b, phi, C, alpha = modelparams.T[..., np.newaxis]\n",
      "        delta = expparams['delta'][np.newaxis, :]\n",
      "        temp = expparams['temp'][np.newaxis, :]\n",
      "        humid = expparams['humid'][np.newaxis, :]\n",
      "        pr0 = (0.5 + b) + (0.5 * A * np.cos(C * delta + phi+ (alpha*delta*humid/temp*10**(self.h_A-(self.h_B/(self.h_C+temp))))))\n",
      "                \n",
      "        # Now we concatenate over outcomes.\n",
      "        return abstract_model.Model.pr0_to_likelihood_array(outcomes, pr0)"
     ],
     "language": "python",
     "metadata": {},
     "outputs": [],
     "prompt_number": 6
    },
    {
     "cell_type": "code",
     "collapsed": false,
     "input": [
      "single_neutron_model = SingleNeutronModel()\n",
      "neutron_model = derived_models.BinomialModel(single_neutron_model)\n",
      "single_neutron_model_ex = SingleNeutronModelEx()\n",
      "neutron_model_ex = derived_models.BinomialModel(single_neutron_model_ex)\n"
     ],
     "language": "python",
     "metadata": {},
     "outputs": [],
     "prompt_number": 7
    },
    {
     "cell_type": "heading",
     "level": 2,
     "metadata": {},
     "source": [
      "True Models"
     ]
    },
    {
     "cell_type": "markdown",
     "metadata": {},
     "source": [
      "For consistency, we will test with a set of \"true\" model parameters for each model."
     ]
    },
    {
     "cell_type": "code",
     "collapsed": false,
     "input": [
      "true_modelparams = np.array([[0.9, 0.00, (0.43 * np.pi / 16), 1.02]])\n",
      "true_modelparams_ex = np.array([[0.9, 0.00, (0.43 * np.pi / 16), 22.0,-1.02]])"
     ],
     "language": "python",
     "metadata": {},
     "outputs": [],
     "prompt_number": 8
    },
    {
     "cell_type": "code",
     "collapsed": false,
     "input": [
      "true_modelparams_array = np.array([[[0.9, 0.00, (0.43 * np.pi / 16), 22.02,-1.02]],#normal\n",
      "                                   [[0.9, 0.00, (0.43 * np.pi / 16), 15.00,-1.02]],#not full phase control\n",
      "                                   [[0.9, 0.00, (np.pi / 2),22.02,-1.02]]#larger phase offset\n",
      "                                   ,[[0.7, 0.00, (0.43 * np.pi / 16), 22.02,-1.02]]#smaller cos constant                                   \n",
      "                                   ,[[0.1, 0.00, (0.43 * np.pi / 16), 22.02,-1.02]]#very small cos constant\n",
      "                                    ,[[0.7, 0.1, (0.43 * np.pi / 16), 22.02,-1.02]]#larger offset\n",
      "                                   ])"
     ],
     "language": "python",
     "metadata": {},
     "outputs": [],
     "prompt_number": 9
    },
    {
     "cell_type": "code",
     "collapsed": false,
     "input": [
      "[[[0.9, 0.00, (0.43 * np.pi / 16), 22.02,-1.02]],#normal\n",
      "                                   [[0.9, 0.00, (0.43 * np.pi / 16), 15.00,-1.02]],#not full phase control\n",
      "                                   [[0.9, 0.00, (np.pi / 2), 22.02,-1.02]]#larger phase offset\n",
      "                                   ,[[0.7, 0.00, (0.43 * np.pi / 16), 22.02,-1.02]]#smaller cos constant                                   \n",
      "                                   ,[[0.1, 0.00, (0.43 * np.pi / 16), 22.02,-1.02]]#very small cos constant\n",
      "                                    ,[[0.9, 0.1, (0.43 * np.pi / 16), 22.02,-1.02]]#larger offset\n",
      "                                   ]"
     ],
     "language": "python",
     "metadata": {},
     "outputs": [
      {
       "metadata": {},
       "output_type": "pyout",
       "prompt_number": 10,
       "text": [
        "[[[0.9, 0.0, 0.08443030256522568, 22.02, -1.02]],\n",
        " [[0.9, 0.0, 0.08443030256522568, 15.0, -1.02]],\n",
        " [[0.9, 0.0, 1.5707963267948966, 22.02, -1.02]],\n",
        " [[0.7, 0.0, 0.08443030256522568, 22.02, -1.02]],\n",
        " [[0.1, 0.0, 0.08443030256522568, 22.02, -1.02]],\n",
        " [[0.9, 0.1, 0.08443030256522568, 22.02, -1.02]]]"
       ]
      }
     ],
     "prompt_number": 10
    },
    {
     "cell_type": "markdown",
     "metadata": {},
     "source": [
      "Of course, it's important that each \"true\" model be a valid model, and so we assert that here."
     ]
    },
    {
     "cell_type": "code",
     "collapsed": false,
     "input": [
      "assert neutron_model.are_models_valid(true_modelparams)\n",
      "assert neutron_model_ex.are_models_valid(true_modelparams_ex)\n",
      "for x in true_modelparams_array:\n",
      "    print(neutron_model_ex.are_models_valid(x))"
     ],
     "language": "python",
     "metadata": {},
     "outputs": [
      {
       "output_type": "stream",
       "stream": "stdout",
       "text": [
        "[ True]\n",
        "[ True]\n",
        "[ True]\n",
        "[ True]\n",
        "[ True]\n",
        "[ True]\n"
       ]
      }
     ],
     "prompt_number": 11
    },
    {
     "cell_type": "code",
     "collapsed": false,
     "input": [
      "def lik(delta,temp,humid,A,b,phi,C,alpha):\n",
      "    h_A=6.20963\n",
      "    h_B=2354.731 \n",
      "    h_C=7.559 \n",
      "    return   (0.5 + b) + (0.5 * A * np.cos(C * delta + phi+ (alpha*delta*humid/temp*10**(h_A-(h_B/(h_C+temp))))))"
     ],
     "language": "python",
     "metadata": {},
     "outputs": [],
     "prompt_number": 12
    },
    {
     "cell_type": "code",
     "collapsed": false,
     "input": [
      "true_modelparams_array[4][0]"
     ],
     "language": "python",
     "metadata": {},
     "outputs": [
      {
       "metadata": {},
       "output_type": "pyout",
       "prompt_number": 13,
       "text": [
        "array([  0.1      ,   0.       ,   0.0844303,  22.02     ,  -1.02     ])"
       ]
      }
     ],
     "prompt_number": 13
    },
    {
     "cell_type": "code",
     "collapsed": false,
     "input": [
      "T = np.array(10000)\n",
      "H = np.array(10000)\n",
      "H.fill(0.70)\n",
      "T.fill(293.15)\n",
      "delta = np.linspace(0,np.pi/10,10000)\n",
      "y = true_modelparams_array\n",
      "\n",
      "fig,axes = subplots(nrows=int(math.ceil((float(len(y)))/2)),ncols=2,figsize=(8,6))\n",
      "fig.tight_layout(pad=3.0,w_pad=3.0,h_pad=3.0)    \n",
      "for i,x in zip(range(1,len(y)+1),y):       \n",
      "    x = x[0]\n",
      "    subplot(math.ceil((float(len(y))/2)),2,i)\n",
      "    p = lik(delta,T,H,x[0],x[1],x[2],x[3],x[4])\n",
      "    plot(delta/np.pi,p)\n",
      "    xlim(0,1/10.)\n",
      "    xlabel(r'$\\delta/\\pi$')\n",
      "    ylabel(r'Pr(O)')\n",
      "    title(r'$(A={0},b={1},\\phi={2:.3},C={3},\\alpha\\'={4})$'.format(*x))\n",
      "    \n",
      "subplots_adjust(left=0.2,right=1.2,bottom=0.5,top=2.0,wspace=0.4,hspace=0.4)\n",
      "\n",
      "savefig('likelihoods.png')\n",
      "show()"
     ],
     "language": "python",
     "metadata": {},
     "outputs": [
      {
       "metadata": {},
       "output_type": "display_data",
       "png": "[encoded data removed]",
       "text": [
        "<matplotlib.figure.Figure at 0x3058350>"
       ]
      }
     ],
     "prompt_number": 14
    },
    {
     "cell_type": "heading",
     "level": 2,
     "metadata": {},
     "source": [
      "Prior Distributions"
     ]
    },
    {
     "cell_type": "code",
     "collapsed": false,
     "input": [
      "neutron_prior = distributions.UniformDistribution([\n",
      "    [0.7, 0.925],\n",
      "    [-0.00005, 0.00005],\n",
      "    [0, np.pi / 8],\n",
      "    [true_modelparams[0, 3] - 0.01, true_modelparams[0, 3] + 0.01]\n",
      "])\n",
      "neutron_prior_ex = distributions.UniformDistribution([\n",
      "    [true_modelparams_ex[0, 0] - 0.01, true_modelparams_ex[0, 0] + 0.01],\n",
      "    [true_modelparams_ex[0, 1] - 0.01, true_modelparams_ex[0, 1] + 0.01],\n",
      "    [0,np.pi/2],\n",
      "    [true_modelparams_ex[0, 3] - 0.01, true_modelparams_ex[0, 3] + 0.01],\n",
      "    [true_modelparams_ex[0, 4] - 0.01, true_modelparams_ex[0, 4] + 0.01]\n",
      "])"
     ],
     "language": "python",
     "metadata": {},
     "outputs": [],
     "prompt_number": 15
    },
    {
     "cell_type": "code",
     "collapsed": false,
     "input": [
      "neutron_prior_arr = [  distributions.UniformDistribution([\n",
      "    [x[0, 0] - 0.02, x[0, 0] + 0.02],\n",
      "    [x[0, 1] - 0.02, x[0, 1] + 0.02],\n",
      "    [0,np.pi/2],\n",
      "    [x[0, 3] - 0.05, x[0, 3] + 0.05],\n",
      "    [x[0, 4] - 0.05, x[0, 4] + 0.05]\n",
      "]) for x in true_modelparams_array]\n",
      "neutron_prior_arr"
     ],
     "language": "python",
     "metadata": {},
     "outputs": [
      {
       "metadata": {},
       "output_type": "pyout",
       "prompt_number": 16,
       "text": [
        "[<qinfer.distributions.UniformDistribution at 0x2fee810>,\n",
        " <qinfer.distributions.UniformDistribution at 0x2feeb90>,\n",
        " <qinfer.distributions.UniformDistribution at 0x2feec50>,\n",
        " <qinfer.distributions.UniformDistribution at 0x2feec10>,\n",
        " <qinfer.distributions.UniformDistribution at 0x2feec90>,\n",
        " <qinfer.distributions.UniformDistribution at 0x2feed90>]"
       ]
      }
     ],
     "prompt_number": 16
    },
    {
     "cell_type": "heading",
     "level": 2,
     "metadata": {},
     "source": [
      "Plotting Functions"
     ]
    },
    {
     "cell_type": "code",
     "collapsed": false,
     "input": [
      "def plot_kernel_smoothed_pdf(updater, param=2, show_true=True):\n",
      "    kernel = scipy.stats.norm(scale=0.0005, loc=updater.particle_locations[:, param]).pdf\n",
      "    xs = linspace(*updater.prior._ranges[param], num=100)\n",
      "    smoothed_pdf = np.sum(kernel(xs[:, np.newaxis]) * updater.particle_weights, axis=-1)\n",
      "    plot(xs, smoothed_pdf)\n",
      "    if show_true:\n",
      "        plot(true_modelparams[:, param], 0, 'rx')"
     ],
     "language": "python",
     "metadata": {},
     "outputs": [],
     "prompt_number": 17
    },
    {
     "cell_type": "heading",
     "level": 2,
     "metadata": {},
     "source": [
      "SMC Updater"
     ]
    },
    {
     "cell_type": "markdown",
     "metadata": {},
     "source": [
      "Warm up the updater by performing experiments over unifomly spaced theta, then look at the risk profile. This experimental setup is not really reasonable, as it assumes 1000 changings of the phase flag but only 10 neutrons per setting. That said, this is still useful for our purposes, as it causes the distribution to warm up to one that is approximately Gaussian."
     ]
    },
    {
     "cell_type": "code",
     "collapsed": false,
     "input": [
      "def plot_risks(updater, theta_min=0, theta_max=TWO_PI, n_thetas=100):\n",
      "    thetas = np.linspace(theta_min, theta_max, n_thetas)\n",
      "    risks = np.array([\n",
      "        updater.bayes_risk(np.array([(theta, 10)], dtype=updater.model.expparams_dtype))\n",
      "        for theta in thetas\n",
      "    ])\n",
      "    f = plot(thetas / np.pi, risks)\n",
      "    xlabel(r'$\\theta / \\pi$')\n",
      "    ylabel(r'$r(\\theta)$')\n",
      "    return f"
     ],
     "language": "python",
     "metadata": {},
     "outputs": [],
     "prompt_number": 18
    },
    {
     "cell_type": "markdown",
     "metadata": {},
     "source": [
      "Before we do anything, the risk profile rewards exploring $\\theta \\approx \\pi$. Note that this is dependent on the prior; here, we have chosen $\\phi \\sim \\text{Uniform}(0, \\pi / 2)$."
     ]
    },
    {
     "cell_type": "code",
     "collapsed": false,
     "input": [
      "plot_risks(smc.SMCUpdater(neutron_model, 100000, neutron_prior))"
     ],
     "language": "python",
     "metadata": {},
     "outputs": [
      {
       "metadata": {},
       "output_type": "pyout",
       "prompt_number": 19,
       "text": [
        "[<matplotlib.lines.Line2D at 0x3df2910>]"
       ]
      },
      {
       "metadata": {},
       "output_type": "display_data",
       "png": "[encoded data removed]",
       "text": [
        "<matplotlib.figure.Figure at 0x27dcfd0>"
       ]
      }
     ],
     "prompt_number": 19
    },
    {
     "cell_type": "code",
     "collapsed": false,
     "input": [
      "def plot_risks_ex(updater, theta_min=0, theta_max=TWO_PI,hum=0.70,hum_std=0.01,temp=293.15,temp_std=0.5, n_thetas=100):\n",
      "    deltas = np.linspace(theta_min, theta_max, n_thetas)\n",
      "    humidities = np.random.normal(hum,hum_std,n_thetas)\n",
      "    temps = np.random.normal(temp,temp_std,n_thetas)\n",
      "    exparams = zip(deltas,temps,humidities)   \n",
      "    risks = np.array([\n",
      "        updater.bayes_risk(np.array([exparam+(10,)], dtype=updater.model.expparams_dtype))\n",
      "        for exparam in exparams\n",
      "    ])\n",
      "    f = plot(deltas / np.pi, risks) \n",
      "    xlim((0,np.pi/10))\n",
      "    xlabel(r'$\\theta / \\pi$')\n",
      "    ylabel(r'$r(\\theta)$')\n",
      "    return f\n"
     ],
     "language": "python",
     "metadata": {},
     "outputs": [],
     "prompt_number": 20
    },
    {
     "cell_type": "code",
     "collapsed": false,
     "input": [
      "def plot_risks_array(updater, theta_min=0, theta_max=TWO_PI,hum=0.70,hum_std=0.01,temp=293.15,temp_std=0.5, n_thetas=100,ylims=None):\n",
      "    deltas = np.linspace(theta_min, theta_max, n_thetas)\n",
      "    humidities = np.random.normal(hum,hum_std,n_thetas)\n",
      "    temps = np.random.normal(temp,temp_std,n_thetas)\n",
      "    exparams = zip(deltas,temps,humidities)   \n",
      "    risks = np.array([\n",
      "        updater.bayes_risk(np.array([exparam+(100,)], dtype=updater.model.expparams_dtype))\n",
      "        for exparam in exparams\n",
      "    ])\n",
      "    f = plot(deltas / np.pi, risks)    \n",
      "    xlabel(r'$\\theta / \\pi$')\n",
      "    ylabel(r'$r(\\delta)$')\n",
      "    xlim((0,1/10))\n",
      "    if ylims is not None:\n",
      "        ylim(ylims)\n",
      "    return f\n",
      "def make_array(model,trueparams,priors,num_particle=100000,theta_min=0, theta_max=TWO_PI,\n",
      "               hum=0.70,hum_std=0.01,temp=293.15,temp_std=0.5, n_thetas=100,save_file=None):\n",
      "    fig,axes = subplots(nrows=int(math.ceil((float(len(priors)))/2)),ncols=2,figsize=(8,6))\n",
      "   \n",
      "    fig.tight_layout(pad=3.0,w_pad=3.0,h_pad=3.0)    \n",
      "    for i,x,y in zip(range(1,len(priors)+1),trueparams,priors):        \n",
      "        subplot(math.ceil((float(len(priors))))/2,2,i)\n",
      "        f = plot_risks_array(smc.SMCUpdater(model, num_particle,y),theta_min=theta_min,theta_max=theta_max)\n",
      "        title(r'$(A={0},b={1},\\phi={2:.3},C={3},\\alpha\\'={4})$'.format(*x[0]))\n",
      "    \n",
      "    subplots_adjust(left=0.2,right=1.2,bottom=0.5,top=2.0,wspace=0.4,hspace=0.4)\n",
      "    if save_file is not None:\n",
      "        savefig(save_file)\n",
      "    show()"
     ],
     "language": "python",
     "metadata": {},
     "outputs": [],
     "prompt_number": 48
    },
    {
     "cell_type": "code",
     "collapsed": false,
     "input": [
      "make_array(neutron_model_ex,true_modelparams_array,neutron_prior_arr,20000,theta_min=0,theta_max=d_u,save_file=\"risks1.eps\")"
     ],
     "language": "python",
     "metadata": {},
     "outputs": [
      {
       "metadata": {},
       "output_type": "display_data",
       "png": "[encoded data removed]",
       "text": [
        "<matplotlib.figure.Figure at 0x668aa90>"
       ]
      }
     ],
     "prompt_number": 49
    },
    {
     "cell_type": "code",
     "collapsed": false,
     "input": [
      "# now for experimental model\n",
      "plot_risks_ex(smc.SMCUpdater(neutron_model_ex, 100000, neutron_prior_ex))"
     ],
     "language": "python",
     "metadata": {},
     "outputs": [
      {
       "metadata": {},
       "output_type": "pyout",
       "prompt_number": 23,
       "text": [
        "[<matplotlib.lines.Line2D at 0x4608710>]"
       ]
      },
      {
       "metadata": {},
       "output_type": "display_data",
       "png": "[encoded data removed]",
       "text": [
        "<matplotlib.figure.Figure at 0x322a750>"
       ]
      }
     ],
     "prompt_number": 23
    },
    {
     "cell_type": "markdown",
     "metadata": {},
     "source": [
      "We now explore what happens as we do uniform samplings of $\\theta$ across different warm-up intervals."
     ]
    },
    {
     "cell_type": "code",
     "collapsed": false,
     "input": [
      "def do_warmup(n_particles=20000, theta_min=0, theta_max=TWO_PI, n_thetas=21, n_neutrons=10):\n",
      "    updater = smc.SMCUpdater(neutron_model, n_particles, neutron_prior, resample_thresh=0.3)\n",
      "    thetas = np.linspace(theta_min, theta_max, n_thetas)\n",
      "    for theta in thetas:\n",
      "        experiment = np.array([(theta, n_neutrons)], dtype=neutron_model.expparams_dtype)\n",
      "        datum = neutron_model.simulate_experiment(true_modelparams, experiment)\n",
      "        updater.update(datum, experiment)\n",
      "    f_post = plot_risks(updater)\n",
      "    print(*[u\"{:0.3} \u00b1 {:0.3}\\t\".format(mu, sigma) for mu, sigma in zip(updater.est_mean(), np.sqrt(np.diag(updater.est_covariance_mtx())))])\n",
      "    print(*true_modelparams)\n",
      "    return f_post, updater"
     ],
     "language": "python",
     "metadata": {},
     "outputs": [],
     "prompt_number": 24
    },
    {
     "cell_type": "code",
     "collapsed": false,
     "input": [
      "f, updater_warmup = do_warmup(n_thetas=21**2, n_neutrons=100)"
     ],
     "language": "python",
     "metadata": {},
     "outputs": [
      {
       "output_type": "stream",
       "stream": "stdout",
       "text": [
        "0.9 \u00b1 0.00382\t 3.35e-06 \u00b1 2.78e-05\t 0.1 \u00b1 0.0119\t 1.02 \u00b1 0.00326\t\n",
        "[ 0.9        0.         0.0844303  1.02     ]\n"
       ]
      },
      {
       "metadata": {},
       "output_type": "display_data",
       "png": "[encoded data removed]",
       "text": [
        "<matplotlib.figure.Figure at 0x3bc3f50>"
       ]
      }
     ],
     "prompt_number": 25
    },
    {
     "cell_type": "code",
     "collapsed": false,
     "input": [
      "plot_kernel_smoothed_pdf(updater_warmup, param=2)"
     ],
     "language": "python",
     "metadata": {},
     "outputs": [
      {
       "metadata": {},
       "output_type": "display_data",
       "png": "[encoded data removed]",
       "text": [
        "<matplotlib.figure.Figure at 0x50c0850>"
       ]
      }
     ],
     "prompt_number": 26
    },
    {
     "cell_type": "code",
     "collapsed": false,
     "input": [
      "def do_warmup_ex(n_particles=20000, theta_min=0, theta_max=TWO_PI, n_thetas=21, n_neutrons=10,hum=0.70,hum_std=0.01,temp=293.15,temp_std=0.5):\n",
      "    updater = smc.SMCUpdater(neutron_model_ex, n_particles, neutron_prior_ex, resample_thresh=0.3)\n",
      "    deltas = np.linspace(theta_min, theta_max, n_thetas)\n",
      "    humidities = np.random.normal(hum,hum_std,n_thetas)\n",
      "    temps = np.random.normal(temp,temp_std,n_thetas)\n",
      "    exparams = zip(deltas,temps,humidities)   \n",
      "    for exparam in exparams:\n",
      "        experiment = np.array([(exparam+ (n_neutrons,))], dtype=neutron_model_ex.expparams_dtype)\n",
      "        datum = neutron_model_ex.simulate_experiment(true_modelparams_ex, experiment)\n",
      "        updater.update(datum, experiment)\n",
      "    f_post = plot_risks_ex(updater)\n",
      "    print(*[u\"{:0.3} \u00b1 {:0.3}\\t\".format(mu, sigma) for mu, sigma in zip(updater.est_mean(), np.sqrt(np.diag(updater.est_covariance_mtx())))])\n",
      "    print(*true_modelparams_ex)\n",
      "    return f_post, updater\n"
     ],
     "language": "python",
     "metadata": {},
     "outputs": [],
     "prompt_number": 27
    },
    {
     "cell_type": "code",
     "collapsed": false,
     "input": [
      "def do_warmup_array(model,params,prior,n_particles=20000, theta_min=0, theta_max=np.pi/10, n_thetas=21, n_neutrons=10,hum=0.70,hum_std=0.01,temp=293.15,temp_std=0.5):\n",
      "    updater = smc.SMCUpdater(model, n_particles, prior, resample_thresh=0.3)\n",
      "    deltas = np.linspace(theta_min, theta_max, n_thetas)\n",
      "    humidities = np.random.normal(hum,hum_std,n_thetas)\n",
      "    temps = np.random.normal(temp,temp_std,n_thetas)\n",
      "    exparams = zip(deltas,temps,humidities)   \n",
      "    for exparam in exparams:\n",
      "        experiment = np.array([(exparam+ (n_neutrons,))], dtype=model.expparams_dtype)\n",
      "        datum = model.simulate_experiment(params, experiment)\n",
      "        updater.update(datum, experiment)\n",
      "    f_post = plot_risks_array(updater,theta_min=theta_min,theta_max=theta_max)\n",
      "    print(*[u\"{:0.3} \u00b1 {:0.3}\\t\".format(mu, sigma) for mu, sigma in zip(updater.est_mean(), np.sqrt(np.diag(updater.est_covariance_mtx())))])\n",
      "    print(*params)\n",
      "    return f_post, updater\n",
      "\n",
      "def make_array_warmup(model,trueparams,priors,num_particle=20000,theta_min=0, theta_max=TWO_PI,\n",
      "               hum=0.70,hum_std=0.01,temp=293.15,temp_std=0.5, n_thetas=100,n_neutrons=10,save_file=None):\n",
      "    fig,axes = subplots(nrows=int(math.ceil((float(len(priors)))/2)),ncols=2,figsize=(8,6))\n",
      "   \n",
      "    fig.tight_layout(pad=3.0,w_pad=3.0,h_pad=3.0)    \n",
      "    for i,x,y in zip(range(1,len(priors)+1),trueparams,priors):        \n",
      "        subplot(math.ceil((float(len(priors))))/2,2,i)\n",
      "        f = do_warmup_array(model,x,y, num_particle,n_thetas=n_thetas,n_neutrons=n_neutrons)\n",
      "        title(r'$(A={0},b={1},\\phi={2:.3},C={3},\\alpha\\'={4})$'.format(*x[0]))\n",
      "    subplots_adjust(left=0.2,right=1.2,bottom=0.5,top=2.0,wspace=0.4,hspace=0.4)\n",
      "    if save_file is not None:\n",
      "        savefig(save_file)\n",
      "    show()\n",
      "   "
     ],
     "language": "python",
     "metadata": {},
     "outputs": [],
     "prompt_number": 47
    },
    {
     "cell_type": "code",
     "collapsed": false,
     "input": [
      "make_array_warmup(neutron_model_ex,true_modelparams_array,neutron_prior_arr,20000,n_thetas=2**15,n_neutrons=100,save_file=\"risks2.eps\")"
     ],
     "language": "python",
     "metadata": {},
     "outputs": [
      {
       "output_type": "stream",
       "stream": "stdout",
       "text": [
        "0.901 \u00b1 0.000458\t 0.000121 \u00b1 0.000198\t 0.0857 \u00b1 0.00152\t 22.0 \u00b1 0.00894\t -1.04 \u00b1 0.0288\t\n",
        "[  0.9         0.          0.0844303  22.02       -1.02     ]\n",
        "0.9 \u00b1 0.000764\t"
       ]
      },
      {
       "output_type": "stream",
       "stream": "stdout",
       "text": [
        " -0.000152 \u00b1 0.000433\t 0.0814 \u00b1 0.00281\t 15.0 \u00b1 0.014\t -1.03 \u00b1 0.0289\t\n",
        "[  0.9         0.          0.0844303  15.         -1.02     ]\n",
        "0.9 \u00b1 0.000491\t"
       ]
      },
      {
       "output_type": "stream",
       "stream": "stdout",
       "text": [
        " 5.03e-05 \u00b1 0.000196\t 1.57 \u00b1 0.000613\t 22.0 \u00b1 0.00475\t -1.01 \u00b1 0.0195\t\n",
        "[  0.9          0.           1.57079633  22.02        -1.02      ]\n",
        "0.7 \u00b1 0.000594\t"
       ]
      },
      {
       "output_type": "stream",
       "stream": "stdout",
       "text": [
        " -0.000337 \u00b1 0.000275\t 0.0805 \u00b1 0.00246\t 22.0 \u00b1 0.0147\t -1.02 \u00b1 0.0309\t\n",
        "[  0.7         0.          0.0844303  22.02       -1.02     ]\n",
        "0.0986 \u00b1 0.000773\t"
       ]
      },
      {
       "output_type": "stream",
       "stream": "stdout",
       "text": [
        " 3.38e-05 \u00b1 0.000293\t 0.0874 \u00b1 0.00973\t 22.0 \u00b1 0.0292\t -1.02 \u00b1 0.0301\t\n",
        "[  0.1         0.          0.0844303  22.02       -1.02     ]\n",
        "0.701 \u00b1 0.000567\t"
       ]
      },
      {
       "output_type": "stream",
       "stream": "stdout",
       "text": [
        " 0.0997 \u00b1 0.000257\t 0.0846 \u00b1 0.00201\t 22.0 \u00b1 0.0112\t -1.02 \u00b1 0.0271\t\n",
        "[  0.7         0.1         0.0844303  22.02       -1.02     ]\n"
       ]
      },
      {
       "metadata": {},
       "output_type": "display_data",
       "png": "[encoded data removed]",
       "text": [
        "<matplotlib.figure.Figure at 0x5fb3950>"
       ]
      }
     ],
     "prompt_number": 50
    },
    {
     "cell_type": "code",
     "collapsed": false,
     "input": [
      "f_ex, updater_warmup_ex = do_warmup_ex(n_thetas=21**2, n_neutrons=100)"
     ],
     "language": "python",
     "metadata": {},
     "outputs": [
      {
       "output_type": "stream",
       "stream": "stdout",
       "text": [
        "0.893 \u00b1 0.00274\t 0.000339 \u00b1 0.00168\t 0.0791 \u00b1 0.0121\t 22.0 \u00b1 0.00324\t -1.02 \u00b1 0.00546\t\n",
        "[  0.9         0.          0.0844303  22.         -1.02     ]\n"
       ]
      },
      {
       "metadata": {},
       "output_type": "display_data",
       "png": "[encoded data removed]",
       "text": [
        "<matplotlib.figure.Figure at 0x3bc3510>"
       ]
      }
     ],
     "prompt_number": 30
    },
    {
     "cell_type": "code",
     "collapsed": false,
     "input": [
      "plot_kernel_smoothed_pdf(updater_warmup_ex, param=0)"
     ],
     "language": "python",
     "metadata": {},
     "outputs": [
      {
       "metadata": {},
       "output_type": "display_data",
       "png": "[encoded data removed]",
       "text": [
        "<matplotlib.figure.Figure at 0x3058050>"
       ]
      }
     ],
     "prompt_number": 31
    },
    {
     "cell_type": "markdown",
     "metadata": {},
     "source": [
      "We see that exploring settings of $\\theta$ not yet chosen provides significant benefits in risk reduction.\n",
      "\n",
      "Note also that the second case, $\\theta \\in [\\pi/2, 3\\pi/2]$, reliably gives much better phase information than the other two case"
     ]
    },
    {
     "cell_type": "code",
     "collapsed": false,
     "input": [
      "figure()\n",
      "do_warmup(theta_min=0, theta_max=np.pi, n_neutrons=100);\n",
      "figure()\n",
      "do_warmup(theta_min=(np.pi/2), theta_max=(1.5*np.pi), n_neutrons=100);\n",
      "figure()\n",
      "do_warmup(theta_min=(np.pi), theta_max=(2*np.pi), n_neutrons=100);"
     ],
     "language": "python",
     "metadata": {},
     "outputs": [
      {
       "output_type": "stream",
       "stream": "stdout",
       "text": [
        "0.867 \u00b1 0.0181\t 1.47e-06 \u00b1 2.98e-05\t 0.0665 \u00b1 0.0281\t 1.02 \u00b1 0.00553\t\n",
        "[ 0.9        0.         0.0844303  1.02     ]\n",
        "0.894 \u00b1 0.017\t"
       ]
      },
      {
       "output_type": "stream",
       "stream": "stdout",
       "text": [
        " -9.32e-07 \u00b1 2.9e-05\t 0.0833 \u00b1 0.0317\t 1.02 \u00b1 0.00567\t\n",
        "[ 0.9        0.         0.0844303  1.02     ]\n",
        "0.901 \u00b1 0.0139\t"
       ]
      },
      {
       "output_type": "stream",
       "stream": "stdout",
       "text": [
        " 1.35e-06 \u00b1 2.91e-05\t 0.0564 \u00b1 0.0315\t 1.02 \u00b1 0.00551\t\n",
        "[ 0.9        0.         0.0844303  1.02     ]\n"
       ]
      },
      {
       "metadata": {},
       "output_type": "display_data",
       "png": "[encoded data removed]",
       "text": [
        "<matplotlib.figure.Figure at 0x490e350>"
       ]
      },
      {
       "metadata": {},
       "output_type": "display_data",
       "png": "[encoded data removed]",
       "text": [
        "<matplotlib.figure.Figure at 0x4f96a10>"
       ]
      },
      {
       "metadata": {},
       "output_type": "display_data",
       "png": "[encoded data removed]",
       "text": [
        "<matplotlib.figure.Figure at 0x548c2d0>"
       ]
      }
     ],
     "prompt_number": 32
    },
    {
     "cell_type": "code",
     "collapsed": false,
     "input": [
      "figure()\n",
      "do_warmup_ex(theta_min=0, theta_max=np.pi, n_neutrons=100);\n",
      "figure()\n",
      "do_warmup_ex(theta_min=(np.pi/2), theta_max=(1.5*np.pi), n_neutrons=100);\n",
      "figure()\n",
      "do_warmup_ex(theta_min=(np.pi), theta_max=(2*np.pi), n_neutrons=100);"
     ],
     "language": "python",
     "metadata": {},
     "outputs": [
      {
       "output_type": "stream",
       "stream": "stdout",
       "text": [
        "0.901 \u00b1 0.00573\t 0.000206 \u00b1 0.00495\t 0.0762 \u00b1 0.0292\t 22.0 \u00b1 0.00571\t -1.02 \u00b1 0.00581\t\n",
        "[  0.9         0.          0.0844303  22.         -1.02     ]\n",
        "0.903 \u00b1 0.0052\t"
       ]
      },
      {
       "output_type": "stream",
       "stream": "stdout",
       "text": [
        " 0.00286 \u00b1 0.00489\t 0.0858 \u00b1 0.0329\t 22.0 \u00b1 0.00584\t -1.02 \u00b1 0.00574\t\n",
        "[  0.9         0.          0.0844303  22.         -1.02     ]\n",
        "0.902 \u00b1 0.00554\t"
       ]
      },
      {
       "output_type": "stream",
       "stream": "stdout",
       "text": [
        " 0.00428 \u00b1 0.00421\t 0.113 \u00b1 0.0393\t 22.0 \u00b1 0.00574\t -1.02 \u00b1 0.00576\t\n",
        "[  0.9         0.          0.0844303  22.         -1.02     ]\n"
       ]
      },
      {
       "metadata": {},
       "output_type": "display_data",
       "png": "[encoded data removed]",
       "text": [
        "<matplotlib.figure.Figure at 0x50b70d0>"
       ]
      },
      {
       "metadata": {},
       "output_type": "display_data",
       "png": "[encoded data removed]",
       "text": [
        "<matplotlib.figure.Figure at 0x4e2e250>"
       ]
      },
      {
       "metadata": {},
       "output_type": "display_data",
       "png": "[encoded data removed]",
       "text": [
        "<matplotlib.figure.Figure at 0x526e290>"
       ]
      }
     ],
     "prompt_number": 33
    },
    {
     "cell_type": "code",
     "collapsed": false,
     "input": [
      "def do_adaptive(n_particles=100000, warmup_thetas=(), n_thetas=11, n_guesses=3, n_neutrons=10, n_warmup_neutrons=10, quiet=False):\n",
      "    updater = smc.SMCUpdater(neutron_model, n_particles, neutron_prior, resampler=resamplers.LiuWestResampler(a=0.98), resample_thresh=0.5)\n",
      "    designer = expdesign.ExperimentDesigner(updater)\n",
      "    \n",
      "    best_thetas = []\n",
      "    error_hist = []\n",
      "    \n",
      "    def objective(theta):\n",
      "        return updater.bayes_risk(                                  \n",
      "            np.array([(theta, 1)], dtype=neutron_model.expparams_dtype)\n",
      "        )\n",
      "    \n",
      "    def perform(theta, n):\n",
      "        experiment = np.array([(theta, n)], dtype=neutron_model.expparams_dtype)\n",
      "        datum = neutron_model.simulate_experiment(true_modelparams, experiment)\n",
      "        updater.update(datum, experiment)\n",
      "        mu = updater.est_mean()\n",
      "        loss = np.dot(updater.model.Q, (true_modelparams[0, :] - mu)**2)\n",
      "        error = np.abs(mu[2] - true_modelparams[0, 2])\n",
      "        error_hist.append(error)\n",
      "        if not quiet:\n",
      "            print(\"Loss: {:.2e}\\tError: {:.2e}\\tStd dev: {:.2e}\\tResample: {}\".format(loss, error, np.sqrt(updater.est_covariance_mtx()[2,2]), updater.resample_count))\n",
      "        \n",
      "    [perform(theta, n_warmup_neutrons) for theta in warmup_thetas]\n",
      "    \n",
      "    for idx_theta in xrange(n_thetas):\n",
      "        \n",
      "        best_theta = None\n",
      "        best_risk  = None\n",
      "        \n",
      "        est_phi = updater.est_mean()[2]\n",
      "        \n",
      "        for idx_guess in xrange(n_guesses):\n",
      "            idx_particle = np.argmax(np.ceil(np.cumsum(updater.particle_weights) - np.random.random()))\n",
      "            idx_pi = np.random.randint(1, 5) # If this is zero, we pick a random theta [0, 2 * pi].\n",
      "            guess = (\n",
      "                idx_pi * np.pi / 2 - updater.particle_locations[idx_particle, 2, np.newaxis] / updater.particle_locations[idx_particle, 3, np.newaxis]\n",
      "            ) # if idx_pi != 0 else TWO_PI * random.random((1,))\n",
      "            result = minimize(objective, guess, bounds=[(0, 2 * np.pi)], method='TNC', options={'maxiter': 2})\n",
      "            \n",
      "            if best_risk is None or result.fun < best_risk:\n",
      "                best_theta = result.x\n",
      "                best_risk = result.fun\n",
      "        \n",
      "        if not quiet:\n",
      "            print(u\"Chose theta = {}.\".format(best_theta), end='\\t')\n",
      "            \n",
      "        best_thetas.append(best_theta)\n",
      "        perform(best_theta, n_neutrons)\n",
      "        \n",
      "    f_post = plot_risks(updater)\n",
      "    print(*[u\"{:0.3} \u00b1 {:0.3}\\t\".format(mu, sigma) for mu, sigma in zip(updater.est_mean(), np.sqrt(np.diag(updater.est_covariance_mtx())))])\n",
      "    print(*true_modelparams)\n",
      "    return f_post, error_hist, updater, best_thetas"
     ],
     "language": "python",
     "metadata": {},
     "outputs": [],
     "prompt_number": 34
    },
    {
     "cell_type": "code",
     "collapsed": false,
     "input": [
      "warmup_thetas = np.linspace(0, np.pi/10, 19)"
     ],
     "language": "python",
     "metadata": {},
     "outputs": [],
     "prompt_number": 35
    },
    {
     "cell_type": "code",
     "collapsed": false,
     "input": [
      "#f_post, this_error_hist, updater_adaptive, best_thetas = do_adaptive(n_thetas=200, n_guesses=5, warmup_thetas=warmup_thetas, n_neutrons=40, n_warmup_neutrons=100, quiet=False)"
     ],
     "language": "python",
     "metadata": {},
     "outputs": [],
     "prompt_number": 36
    },
    {
     "cell_type": "code",
     "collapsed": false,
     "input": [
      "#plot_kernel_smoothed_pdf(updater_adaptive)"
     ],
     "language": "python",
     "metadata": {},
     "outputs": [],
     "prompt_number": 37
    },
    {
     "cell_type": "code",
     "collapsed": false,
     "input": [
      "def do_adaptive_ex(n_particles=100000, warmup_exparams=(), n_thetas=11, n_guesses=3, n_neutrons=10, n_warmup_neutrons=10, quiet=False):\n",
      "    updater = smc.SMCUpdater(neutron_model_ex, n_particles, neutron_prior_ex, resampler=resamplers.LiuWestResampler(a=0.98), resample_thresh=0.5)\n",
      "    designer = expdesign.ExperimentDesigner(updater)\n",
      "    \n",
      "    best_thetas = []\n",
      "    error_hist = []\n",
      "    \n",
      "    def objective(theta):\n",
      "        \n",
      "        return updater.bayes_risk(                                  \n",
      "            np.array([tuple(theta)+(1,)], dtype=neutron_model_ex.expparams_dtype)\n",
      "        )\n",
      "    \n",
      "    def perform(exparam, n):        \n",
      "        experiment = np.array([tuple(exparam)+ (n,)], dtype=neutron_model_ex.expparams_dtype)        \n",
      "        datum = neutron_model_ex.simulate_experiment(true_modelparams_ex, experiment)\n",
      "        updater.update(datum, experiment)\n",
      "        mu = updater.est_mean()\n",
      "        loss = np.dot(updater.model.Q, (true_modelparams_ex[0, :] - mu)**2)\n",
      "        error = np.abs(mu[2] - true_modelparams_ex[0, 2])\n",
      "        error_hist.append(error)\n",
      "        if not quiet:\n",
      "            print(\"Loss: {:.2e}\\tError: {:.2e}\\tStd dev: {:.2e}\\tResample: {}\".format(loss, error, np.sqrt(updater.est_covariance_mtx()[2,2]), updater.resample_count))\n",
      "        \n",
      "    [perform(exparam, n_warmup_neutrons) for exparam in warmup_exparams]\n",
      "    \n",
      "    for idx_theta in xrange(n_thetas):\n",
      "        \n",
      "        best_theta = None\n",
      "        best_risk  = None\n",
      "        \n",
      "        est_phi = updater.est_mean()[2]\n",
      "        \n",
      "        for idx_guess in xrange(n_guesses):\n",
      "            idx_particle = np.argmax(np.ceil(np.cumsum(updater.particle_weights) - np.random.random()))\n",
      "            idx_pi = np.random.randint(1, 5) # If this is zero, we pick a random theta [0, 2 * pi].\n",
      "            guess = (\n",
      "                idx_pi * np.pi / 2 - updater.particle_locations[idx_particle, 2, np.newaxis] / updater.particle_locations[idx_particle, 3, np.newaxis]\n",
      "            ) # if idx_pi != 0 else TWO_PI * random.random((1,))\n",
      "            result = minimize(objective, (guess,293.15,0.70), bounds=[(0, 2 * np.pi),(270.,310.),(0.,1.)], method='TNC', options={'maxiter': 2})\n",
      "            \n",
      "            if best_risk is None or result.fun < best_risk:\n",
      "                best_theta = result.x\n",
      "                best_risk = result.fun\n",
      "        \n",
      "        if not quiet:\n",
      "            print(u\"Chose theta = {}.\".format(best_theta), end='\\t')\n",
      "            \n",
      "        best_thetas.append(best_theta)\n",
      "        perform(best_theta, n_neutrons)\n",
      "        \n",
      "    f_post = plot_risks_ex(updater)\n",
      "    print(*[u\"{:0.3} \u00b1 {:0.3}\\t\".format(mu, sigma) for mu, sigma in zip(updater.est_mean(), np.sqrt(np.diag(updater.est_covariance_mtx())))])\n",
      "    print(*true_modelparams)\n",
      "    return f_post, error_hist, updater, best_thetas"
     ],
     "language": "python",
     "metadata": {},
     "outputs": [],
     "prompt_number": 38
    },
    {
     "cell_type": "code",
     "collapsed": false,
     "input": [
      "def do_adaptive_ex_array(n_particles=100000, warmup_exparams=(),trueparams=(), n_thetas=11, n_guesses=3, n_neutrons=10, n_warmup_neutrons=10, quiet=False):\n",
      "    updater = smc.SMCUpdater(neutron_model_ex, n_particles, neutron_prior_ex, resampler=resamplers.LiuWestResampler(a=0.98), resample_thresh=0.5)\n",
      "    designer = expdesign.ExperimentDesigner(updater)\n",
      "    \n",
      "    best_thetas = []\n",
      "    error_hist = []\n",
      "    \n",
      "    def objective(theta):\n",
      "        \n",
      "        return updater.bayes_risk(                                  \n",
      "            np.array([tuple(theta)+(1,)], dtype=neutron_model_ex.expparams_dtype)\n",
      "        )\n",
      "    \n",
      "    def perform(exparam, n):        \n",
      "        experiment = np.array([tuple(exparam)+ (n,)], dtype=neutron_model_ex.expparams_dtype)        \n",
      "        datum = neutron_model_ex.simulate_experiment(trueparams, experiment)\n",
      "        updater.update(datum, experiment)\n",
      "        mu = updater.est_mean()\n",
      "        loss = np.dot(updater.model.Q, (trueparams[0, :] - mu)**2)\n",
      "        error = np.abs(mu[2] - trueparams[0, 2])\n",
      "        error_hist.append(error)\n",
      "        if not quiet:\n",
      "            print(\"Loss: {:.2e}\\tError: {:.2e}\\tStd dev: {:.2e}\\tResample: {}\".format(loss, error, np.sqrt(updater.est_covariance_mtx()[2,2]), updater.resample_count))\n",
      "        \n",
      "    [perform(exparam, n_warmup_neutrons) for exparam in warmup_exparams]\n",
      "    \n",
      "    for idx_theta in xrange(n_thetas):\n",
      "        \n",
      "        best_theta = None\n",
      "        best_risk  = None\n",
      "        \n",
      "        est_phi = updater.est_mean()[2]\n",
      "        \n",
      "        for idx_guess in xrange(n_guesses):\n",
      "            idx_particle = np.argmax(np.ceil(np.cumsum(updater.particle_weights) - np.random.random()))\n",
      "            idx_pi = np.random.randint(1, 5) # If this is zero, we pick a random theta [0, 2 * pi].\n",
      "            guess = (\n",
      "                idx_pi * np.pi / 2 - updater.particle_locations[idx_particle, 2, np.newaxis] / updater.particle_locations[idx_particle, 3, np.newaxis]\n",
      "            ) # if idx_pi != 0 else TWO_PI * random.random((1,))\n",
      "            result = minimize(objective, (guess,293.15,0.70), bounds=[(0, 2 * np.pi),(270.,310.),(0.,1.)], method='TNC', options={'maxiter': 2})\n",
      "            \n",
      "            if best_risk is None or result.fun < best_risk:\n",
      "                best_theta = result.x\n",
      "                best_risk = result.fun\n",
      "        \n",
      "        if not quiet:\n",
      "            print(u\"Chose theta = {}.\".format(best_theta), end='\\t')\n",
      "            \n",
      "        best_thetas.append(best_theta)\n",
      "        perform(best_theta, n_neutrons)\n",
      "        \n",
      "    f_post = plot_risks_ex(updater)\n",
      "    print(*[u\"{:0.3} \u00b1 {:0.3}\\t\".format(mu, sigma) for mu, sigma in zip(updater.est_mean(), np.sqrt(np.diag(updater.est_covariance_mtx())))])\n",
      "    print(*true_modelparams)\n",
      "    return (f_post, error_hist, updater, best_thetas)\n",
      "\n",
      "def make_array_adaptive(trueparams,warmup_params,num_particle=20000,n_thetas=200,n_guesses=5,n_neutrons=40,n_warmup_neutrons=100,quiet=False,save_file=None):\n",
      "    fig,axes = subplots(nrows=int(math.ceil((float(len(trueparams)))/2)),ncols=2,figsize=(8,6))\n",
      "   \n",
      "    fig.tight_layout(pad=3.0,w_pad=3.0,h_pad=3.0) \n",
      "    toreturn = []\n",
      "    for i,x in zip(range(1,len(trueparams)+1),trueparams):        \n",
      "        subplot(math.ceil((float(len(trueparams))))/2,2,i)\n",
      "        toreturn.append( do_adaptive_ex_array(num_particle,warmup_params,x,n_thetas=200,\n",
      "                                               n_guesses=n_guesses,n_neutrons=n_neutrons,\n",
      "                                               n_warmup_neutrons=n_warmup_neutrons,quiet=quiet))\n",
      "        title(r'$(A={0:.3f},b={1:.3f},\\phi={2:.3f},C={3:.3f},\\alpha\\'={4:.3f}$'.format(*x[0]))\n",
      "    subplots_adjust(left=0.2,right=2.0,bottom=0.2,top=2.0,wspace=0.3,hspace=0.3)\n",
      "    if save_file is not None:\n",
      "        savefig(save_file)\n",
      "    show()\n",
      "    return toreturn"
     ],
     "language": "python",
     "metadata": {},
     "outputs": [],
     "prompt_number": 39
    },
    {
     "cell_type": "code",
     "collapsed": false,
     "input": [
      "warmup_thetas = np.linspace(0, np.pi/10, 10)\n",
      "warmup_temps = np.random.normal(293.15,0.5,10)\n",
      "warmup_humids = np.random.normal(0.7,0.01,10)\n",
      "exparams = zip(warmup_thetas,warmup_temps,warmup_humids)"
     ],
     "language": "python",
     "metadata": {},
     "outputs": [],
     "prompt_number": 40
    },
    {
     "cell_type": "code",
     "collapsed": false,
     "input": [
      "#f_post, this_error_hist, updater_adaptive, best_thetas = do_adaptive_ex(n_thetas=200, n_guesses=5, warmup_exparams=exparams, n_neutrons=100, n_warmup_neutrons=100, quiet=False)"
     ],
     "language": "python",
     "metadata": {},
     "outputs": [],
     "prompt_number": 41
    },
    {
     "cell_type": "code",
     "collapsed": false,
     "input": [
      "num = 20\n",
      "theta_range = np.arange(1,num,1,dtype=int)\n",
      "times = []\n",
      "for x in theta_range:  \n",
      "    print(\"x iiiiiiiiiiiiiiiiiiiiiiis {}\".format(x))\n",
      "    fun = lambda : do_adaptive_ex(n_thetas=x, n_guesses=5, warmup_exparams=exparams, n_neutrons=100, n_warmup_neutrons=100, quiet=False)\n",
      "    t = timeit.timeit(fun, number=2)\n",
      "    times.append(t)"
     ],
     "language": "python",
     "metadata": {},
     "outputs": [
      {
       "output_type": "stream",
       "stream": "stdout",
       "text": [
        "x iiiiiiiiiiiiiiiiiiiiiiis 1\n",
        "Loss: 1.65e-02\tError: 1.29e-01\tStd dev: 1.34e-01\tResample: 1"
       ]
      },
      {
       "output_type": "stream",
       "stream": "stdout",
       "text": [
        "\n",
        "Loss: 2.33e-02\tError: 1.53e-01\tStd dev: 9.61e-02\tResample: 1\n",
        "Loss: 1.06e-02\tError: 1.03e-01\tStd dev: 7.42e-02\tResample: 1"
       ]
      },
      {
       "output_type": "stream",
       "stream": "stdout",
       "text": [
        "\n",
        "Loss: 6.15e-03\tError: 7.84e-02\tStd dev: 6.50e-02\tResample: 1\n",
        "Loss: 5.09e-03\tError: 7.13e-02\tStd dev: 6.24e-02\tResample: 1"
       ]
      },
      {
       "output_type": "stream",
       "stream": "stdout",
       "text": [
        "\n",
        "Loss: 6.62e-03\tError: 8.14e-02\tStd dev: 5.57e-02\tResample: 1\n",
        "Loss: 3.08e-03\tError: 5.55e-02\tStd dev: 4.91e-02\tResample: 2"
       ]
      },
      {
       "output_type": "stream",
       "stream": "stdout",
       "text": [
        "\n",
        "Loss: 7.91e-04\tError: 2.80e-02\tStd dev: 4.39e-02\tResample: 2\n",
        "Loss: 8.19e-04\tError: 2.86e-02\tStd dev: 4.35e-02\tResample: 2"
       ]
      },
      {
       "output_type": "stream",
       "stream": "stdout",
       "text": [
        "\n",
        "Loss: 1.21e-04\tError: 1.10e-02\tStd dev: 3.95e-02\tResample: 3"
       ]
      },
      {
       "output_type": "stream",
       "stream": "stdout",
       "text": [
        "\n",
        "Chose theta = [   2.04488812  292.64859685    0.69910381]."
       ]
      },
      {
       "output_type": "stream",
       "stream": "stdout",
       "text": [
        "\tLoss: 1.49e-05\tError: 3.80e-03\tStd dev: 3.69e-02\tResample: 3\n",
        "0.9 \u00b1 0.0057\t"
       ]
      },
      {
       "output_type": "stream",
       "stream": "stdout",
       "text": [
        " -0.000433 \u00b1 0.00536\t 0.0882 \u00b1 0.0369\t 22.0 \u00b1 0.00579\t -1.02 \u00b1 0.00578\t\n",
        "[ 0.9        0.         0.0844303  1.02     ]\n",
        "Loss: 4.03e-02\tError: 2.01e-01\tStd dev: 1.56e-01\tResample: 1"
       ]
      },
      {
       "output_type": "stream",
       "stream": "stdout",
       "text": [
        "\n",
        "Loss: 1.15e-02\tError: 1.07e-01\tStd dev: 9.63e-02\tResample: 1\n",
        "Loss: 1.28e-02\tError: 1.13e-01\tStd dev: 7.73e-02\tResample: 1"
       ]
      },
      {
       "output_type": "stream",
       "stream": "stdout",
       "text": [
        "\n",
        "Loss: 1.48e-02\tError: 1.22e-01\tStd dev: 6.84e-02\tResample: 2"
       ]
      },
      {
       "output_type": "stream",
       "stream": "stdout",
       "text": [
        "\n",
        "Loss: 1.91e-02\tError: 1.38e-01\tStd dev: 6.86e-02\tResample: 2\n",
        "Loss: 8.89e-03\tError: 9.43e-02\tStd dev: 6.01e-02\tResample: 2"
       ]
      },
      {
       "output_type": "stream",
       "stream": "stdout",
       "text": [
        "\n",
        "Loss: 8.57e-03\tError: 9.26e-02\tStd dev: 5.30e-02\tResample: 2\n",
        "Loss: 3.03e-03\tError: 5.50e-02\tStd dev: 4.78e-02\tResample: 3"
       ]
      },
      {
       "output_type": "stream",
       "stream": "stdout",
       "text": [
        "\n",
        "Loss: 3.03e-03\tError: 5.50e-02\tStd dev: 4.64e-02\tResample: 3\n",
        "Loss: 2.34e-03\tError: 4.83e-02\tStd dev: 4.34e-02\tResample: 3"
       ]
      },
      {
       "output_type": "stream",
       "stream": "stdout",
       "text": [
        "\n",
        "Chose theta = [   0.62319937  296.71388897    0.7404025 ]."
       ]
      },
      {
       "output_type": "stream",
       "stream": "stdout",
       "text": [
        "\tLoss: 9.44e-04\tError: 3.07e-02\tStd dev: 4.01e-02\tResample: 3\n",
        "0.899 \u00b1 0.00563\t"
       ]
      },
      {
       "output_type": "stream",
       "stream": "stdout",
       "text": [
        " 0.000872 \u00b1 0.00528\t 0.115 \u00b1 0.0401\t 22.0 \u00b1 0.00579\t -1.02 \u00b1 0.00567\t\n",
        "[ 0.9        0.         0.0844303  1.02     ]\n",
        "x iiiiiiiiiiiiiiiiiiiiiiis 2\n",
        "Loss: 1.05e-02\tError: 1.02e-01\tStd dev: 1.23e-01\tResample: 1"
       ]
      },
      {
       "output_type": "stream",
       "stream": "stdout",
       "text": [
        "\n",
        "Loss: 3.03e-05\tError: 5.18e-03\tStd dev: 5.55e-02\tResample: 2"
       ]
      },
      {
       "output_type": "stream",
       "stream": "stdout",
       "text": [
        "\n",
        "Loss: 2.82e-04\tError: 1.67e-02\tStd dev: 4.49e-02\tResample: 2\n",
        "Loss: 5.14e-06\tError: 1.67e-03\tStd dev: 4.93e-02\tResample: 2"
       ]
      },
      {
       "output_type": "stream",
       "stream": "stdout",
       "text": [
        "\n",
        "Loss: 2.58e-05\tError: 4.48e-03\tStd dev: 5.09e-02\tResample: 2\n",
        "Loss: 5.45e-06\tError: 1.26e-04\tStd dev: 4.61e-02\tResample: 2"
       ]
      },
      {
       "output_type": "stream",
       "stream": "stdout",
       "text": [
        "\n",
        "Loss: 1.45e-04\tError: 1.19e-02\tStd dev: 3.98e-02\tResample: 2\n",
        "Loss: 6.25e-04\tError: 2.50e-02\tStd dev: 3.41e-02\tResample: 2"
       ]
      },
      {
       "output_type": "stream",
       "stream": "stdout",
       "text": [
        "\n",
        "Loss: 5.62e-04\tError: 2.36e-02\tStd dev: 3.41e-02\tResample: 2\n",
        "Loss: 2.00e-04\tError: 1.41e-02\tStd dev: 3.55e-02\tResample: 2"
       ]
      },
      {
       "output_type": "stream",
       "stream": "stdout",
       "text": [
        "\n",
        "Chose theta = [   6.27634405  293.15          0.7       ]."
       ]
      },
      {
       "output_type": "stream",
       "stream": "stdout",
       "text": [
        "\tLoss: 2.25e-04\tError: 1.50e-02\tStd dev: 3.54e-02\tResample: 2\n",
        "Chose theta = [   1.56866355  293.15          0.7       ]."
       ]
      },
      {
       "output_type": "stream",
       "stream": "stdout",
       "text": [
        "\tLoss: 2.37e-04\tError: 1.54e-02\tStd dev: 3.51e-02\tResample: 2\n",
        "0.9 \u00b1 0.00561\t"
       ]
      },
      {
       "output_type": "stream",
       "stream": "stdout",
       "text": [
        " 0.000421 \u00b1 0.00512\t 0.0691 \u00b1 0.0351\t 22.0 \u00b1 0.00582\t -1.02 \u00b1 0.00578\t\n",
        "[ 0.9        0.         0.0844303  1.02     ]\n",
        "Loss: 1.70e-02\tError: 1.30e-01\tStd dev: 1.35e-01\tResample: 1"
       ]
      },
      {
       "output_type": "stream",
       "stream": "stdout",
       "text": [
        "\n",
        "Loss: 3.18e-03\tError: 5.64e-02\tStd dev: 8.26e-02\tResample: 1\n",
        "Loss: 1.36e-03\tError: 3.69e-02\tStd dev: 6.53e-02\tResample: 1"
       ]
      },
      {
       "output_type": "stream",
       "stream": "stdout",
       "text": [
        "\n",
        "Loss: 1.17e-06\tError: 5.08e-05\tStd dev: 4.89e-02\tResample: 2"
       ]
      },
      {
       "output_type": "stream",
       "stream": "stdout",
       "text": [
        "\n",
        "Loss: 2.77e-05\tError: 5.11e-03\tStd dev: 4.59e-02\tResample: 2\n",
        "Loss: 1.96e-04\tError: 1.39e-02\tStd dev: 4.03e-02\tResample: 2"
       ]
      },
      {
       "output_type": "stream",
       "stream": "stdout",
       "text": [
        "\n",
        "Loss: 8.93e-04\tError: 2.98e-02\tStd dev: 3.29e-02\tResample: 2\n",
        "Loss: 2.13e-04\tError: 1.45e-02\tStd dev: 3.63e-02\tResample: 2"
       ]
      },
      {
       "output_type": "stream",
       "stream": "stdout",
       "text": [
        "\n",
        "Loss: 2.09e-04\tError: 1.44e-02\tStd dev: 3.62e-02\tResample: 2\n",
        "Loss: 7.81e-05\tError: 8.62e-03\tStd dev: 3.62e-02\tResample: 2"
       ]
      },
      {
       "output_type": "stream",
       "stream": "stdout",
       "text": [
        "\n",
        "Chose theta = [   0.          297.34561755    0.69833382]."
       ]
      },
      {
       "output_type": "stream",
       "stream": "stdout",
       "text": [
        "\tLoss: 8.14e-05\tError: 8.81e-03\tStd dev: 3.61e-02\tResample: 2\n",
        "Chose theta = [   1.57727468  304.13988198    0.72251365]."
       ]
      },
      {
       "output_type": "stream",
       "stream": "stdout",
       "text": [
        "\tLoss: 1.51e-05\tError: 3.82e-03\tStd dev: 3.67e-02\tResample: 2\n",
        "0.901 \u00b1 0.00564\t"
       ]
      },
      {
       "output_type": "stream",
       "stream": "stdout",
       "text": [
        " -0.000519 \u00b1 0.00521\t 0.0806 \u00b1 0.0367\t 22.0 \u00b1 0.00577\t -1.02 \u00b1 0.00573\t\n",
        "[ 0.9        0.         0.0844303  1.02     ]\n",
        "x iiiiiiiiiiiiiiiiiiiiiiis 3\n",
        "Loss: 6.20e-03\tError: 7.87e-02\tStd dev: 1.12e-01\tResample: 1"
       ]
      },
      {
       "output_type": "stream",
       "stream": "stdout",
       "text": [
        "\n",
        "Loss: 6.25e-03\tError: 7.90e-02\tStd dev: 8.52e-02\tResample: 1\n",
        "Loss: 3.72e-03\tError: 6.10e-02\tStd dev: 6.83e-02\tResample: 1"
       ]
      },
      {
       "output_type": "stream",
       "stream": "stdout",
       "text": [
        "\n",
        "Loss: 7.70e-03\tError: 8.77e-02\tStd dev: 6.41e-02\tResample: 1\n",
        "Loss: 7.32e-03\tError: 8.55e-02\tStd dev: 6.27e-02\tResample: 1"
       ]
      },
      {
       "output_type": "stream",
       "stream": "stdout",
       "text": [
        "\n",
        "Loss: 1.15e-03\tError: 3.39e-02\tStd dev: 5.28e-02\tResample: 1\n",
        "Loss: 6.25e-05\tError: 7.47e-03\tStd dev: 4.42e-02\tResample: 2"
       ]
      },
      {
       "output_type": "stream",
       "stream": "stdout",
       "text": [
        "\n",
        "Loss: 9.65e-05\tError: 9.27e-03\tStd dev: 3.86e-02\tResample: 2\n",
        "Loss: 1.40e-04\tError: 1.10e-02\tStd dev: 3.87e-02\tResample: 2"
       ]
      },
      {
       "output_type": "stream",
       "stream": "stdout",
       "text": [
        "\n",
        "Loss: 3.07e-05\tError: 2.80e-03\tStd dev: 3.88e-02\tResample: 2\n",
        "Chose theta = [   6.27685628  293.15          0.7       ]."
       ]
      },
      {
       "output_type": "stream",
       "stream": "stdout",
       "text": [
        "\tLoss: 2.70e-05\tError: 2.34e-03\tStd dev: 3.88e-02\tResample: 2\n",
        "Chose theta = [   5.04494624  293.49247069    0.69543518]."
       ]
      },
      {
       "output_type": "stream",
       "stream": "stdout",
       "text": [
        "\tLoss: 7.33e-05\tError: 7.08e-03\tStd dev: 3.63e-02\tResample: 2\n",
        "Chose theta = [   4.70667998  293.15          0.7       ]."
       ]
      },
      {
       "output_type": "stream",
       "stream": "stdout",
       "text": [
        "\tLoss: 6.79e-05\tError: 5.70e-03\tStd dev: 3.61e-02\tResample: 2\n",
        "0.901 \u00b1 0.0056\t"
       ]
      },
      {
       "output_type": "stream",
       "stream": "stdout",
       "text": [
        " -0.00583 \u00b1 0.00384\t 0.0787 \u00b1 0.0361\t 22.0 \u00b1 0.00566\t -1.02 \u00b1 0.00585\t\n",
        "[ 0.9        0.         0.0844303  1.02     ]\n",
        "Loss: 1.66e-02\tError: 1.29e-01\tStd dev: 1.35e-01\tResample: 1"
       ]
      },
      {
       "output_type": "stream",
       "stream": "stdout",
       "text": [
        "\n",
        "Loss: 7.12e-03\tError: 8.44e-02\tStd dev: 8.94e-02\tResample: 1\n",
        "Loss: 4.99e-03\tError: 7.07e-02\tStd dev: 7.13e-02\tResample: 1"
       ]
      },
      {
       "output_type": "stream",
       "stream": "stdout",
       "text": [
        "\n",
        "Loss: 5.51e-06\tError: 1.75e-03\tStd dev: 4.83e-02\tResample: 2"
       ]
      },
      {
       "output_type": "stream",
       "stream": "stdout",
       "text": [
        "\n",
        "Loss: 6.82e-06\tError: 2.15e-03\tStd dev: 4.79e-02\tResample: 2\n",
        "Loss: 6.12e-04\tError: 2.46e-02\tStd dev: 5.00e-02\tResample: 2"
       ]
      },
      {
       "output_type": "stream",
       "stream": "stdout",
       "text": [
        "\n",
        "Loss: 1.13e-03\tError: 3.34e-02\tStd dev: 4.69e-02\tResample: 2\n",
        "Loss: 2.12e-03\tError: 4.59e-02\tStd dev: 4.48e-02\tResample: 3"
       ]
      },
      {
       "output_type": "stream",
       "stream": "stdout",
       "text": [
        "\n",
        "Loss: 2.20e-03\tError: 4.66e-02\tStd dev: 4.37e-02\tResample: 3\n",
        "Loss: 1.07e-03\tError: 3.23e-02\tStd dev: 4.08e-02\tResample: 3"
       ]
      },
      {
       "output_type": "stream",
       "stream": "stdout",
       "text": [
        "\n",
        "Chose theta = [   6.28318531  294.00551914    0.70645377]."
       ]
      },
      {
       "output_type": "stream",
       "stream": "stdout",
       "text": [
        "\tLoss: 1.29e-03\tError: 3.56e-02\tStd dev: 4.13e-02\tResample: 3\n",
        "Chose theta = [   4.52082666  302.36579363    1.        ]."
       ]
      },
      {
       "output_type": "stream",
       "stream": "stdout",
       "text": [
        "\tLoss: 2.79e-04\tError: 1.62e-02\tStd dev: 3.80e-02\tResample: 3\n",
        "Chose theta = [   1.60954655  310.            0.70789596]."
       ]
      },
      {
       "output_type": "stream",
       "stream": "stdout",
       "text": [
        "\tLoss: 3.36e-04\tError: 1.78e-02\tStd dev: 3.65e-02\tResample: 3\n",
        "0.899 \u00b1 0.0056\t"
       ]
      },
      {
       "output_type": "stream",
       "stream": "stdout",
       "text": [
        " 0.00394 \u00b1 0.00456\t 0.102 \u00b1 0.0365\t 22.0 \u00b1 0.00572\t -1.02 \u00b1 0.00581\t\n",
        "[ 0.9        0.         0.0844303  1.02     ]\n",
        "x iiiiiiiiiiiiiiiiiiiiiiis 4\n",
        "Loss: 1.02e-02\tError: 1.01e-01\tStd dev: 1.22e-01\tResample: 1"
       ]
      },
      {
       "output_type": "stream",
       "stream": "stdout",
       "text": [
        "\n",
        "Loss: 2.29e-03\tError: 4.79e-02\tStd dev: 7.89e-02\tResample: 1\n",
        "Loss: 4.08e-03\tError: 6.38e-02\tStd dev: 6.96e-02\tResample: 1"
       ]
      },
      {
       "output_type": "stream",
       "stream": "stdout",
       "text": [
        "\n",
        "Loss: 2.46e-03\tError: 4.96e-02\tStd dev: 6.12e-02\tResample: 1\n",
        "Loss: 1.44e-03\tError: 3.79e-02\tStd dev: 5.68e-02\tResample: 1"
       ]
      },
      {
       "output_type": "stream",
       "stream": "stdout",
       "text": [
        "\n",
        "Loss: 3.57e-03\tError: 5.97e-02\tStd dev: 5.29e-02\tResample: 1\n",
        "Loss: 8.12e-03\tError: 9.01e-02\tStd dev: 4.84e-02\tResample: 2"
       ]
      },
      {
       "output_type": "stream",
       "stream": "stdout",
       "text": [
        "\n",
        "Loss: 1.02e-02\tError: 1.01e-01\tStd dev: 4.51e-02\tResample: 2\n",
        "Loss: 1.03e-02\tError: 1.02e-01\tStd dev: 4.56e-02\tResample: 2"
       ]
      },
      {
       "output_type": "stream",
       "stream": "stdout",
       "text": [
        "\n",
        "Loss: 1.45e-02\tError: 1.20e-01\tStd dev: 4.28e-02\tResample: 2\n",
        "Chose theta = [   6.27010053  293.15          0.7       ]."
       ]
      },
      {
       "output_type": "stream",
       "stream": "stdout",
       "text": [
        "\tLoss: 1.50e-02\tError: 1.22e-01\tStd dev: 4.23e-02\tResample: 2\n",
        "Chose theta = [   6.28318531  293.11092402    0.69960998]."
       ]
      },
      {
       "output_type": "stream",
       "stream": "stdout",
       "text": [
        "\tLoss: 1.68e-02\tError: 1.30e-01\tStd dev: 4.25e-02\tResample: 3"
       ]
      },
      {
       "output_type": "stream",
       "stream": "stdout",
       "text": [
        "\n",
        "Chose theta = [   3.12631182  293.15          0.7       ]."
       ]
      },
      {
       "output_type": "stream",
       "stream": "stdout",
       "text": [
        "\tLoss: 1.76e-02\tError: 1.33e-01\tStd dev: 4.18e-02\tResample: 3\n",
        "Chose theta = [   6.28318531  291.43405728    0.70797496]."
       ]
      },
      {
       "output_type": "stream",
       "stream": "stdout",
       "text": [
        "\tLoss: 1.75e-02\tError: 1.32e-01\tStd dev: 4.14e-02\tResample: 3\n",
        "0.901 \u00b1 0.00564\t"
       ]
      },
      {
       "output_type": "stream",
       "stream": "stdout",
       "text": [
        " 0.000314 \u00b1 0.00514\t 0.217 \u00b1 0.0414\t 22.0 \u00b1 0.00565\t -1.02 \u00b1 0.00573\t\n",
        "[ 0.9        0.         0.0844303  1.02     ]\n",
        "Loss: 1.02e-02\tError: 1.01e-01\tStd dev: 1.22e-01\tResample: 1"
       ]
      },
      {
       "output_type": "stream",
       "stream": "stdout",
       "text": [
        "\n",
        "Loss: 1.31e-03\tError: 3.62e-02\tStd dev: 7.52e-02\tResample: 1\n",
        "Loss: 3.41e-04\tError: 1.84e-02\tStd dev: 5.98e-02\tResample: 1"
       ]
      },
      {
       "output_type": "stream",
       "stream": "stdout",
       "text": [
        "\n",
        "Loss: 1.03e-04\tError: 1.00e-02\tStd dev: 4.55e-02\tResample: 2"
       ]
      },
      {
       "output_type": "stream",
       "stream": "stdout",
       "text": [
        "\n",
        "Loss: 2.36e-04\tError: 1.53e-02\tStd dev: 4.21e-02\tResample: 2\n",
        "Loss: 9.51e-04\tError: 3.07e-02\tStd dev: 3.42e-02\tResample: 2"
       ]
      },
      {
       "output_type": "stream",
       "stream": "stdout",
       "text": [
        "\n",
        "Loss: 1.66e-03\tError: 4.06e-02\tStd dev: 2.79e-02\tResample: 3"
       ]
      },
      {
       "output_type": "stream",
       "stream": "stdout",
       "text": [
        "\n",
        "Loss: 1.84e-03\tError: 4.27e-02\tStd dev: 2.62e-02\tResample: 3\n",
        "Loss: 1.92e-03\tError: 4.36e-02\tStd dev: 2.60e-02\tResample: 3"
       ]
      },
      {
       "output_type": "stream",
       "stream": "stdout",
       "text": [
        "\n",
        "Loss: 2.08e-03\tError: 4.54e-02\tStd dev: 2.47e-02\tResample: 3\n",
        "Chose theta = [   6.28318531  293.15172638    0.70001399]."
       ]
      },
      {
       "output_type": "stream",
       "stream": "stdout",
       "text": [
        "\tLoss: 2.12e-03\tError: 4.59e-02\tStd dev: 2.42e-02\tResample: 3\n",
        "Chose theta = [   6.28318531  293.15080881    0.6999928 ]."
       ]
      },
      {
       "output_type": "stream",
       "stream": "stdout",
       "text": [
        "\tLoss: 2.14e-03\tError: 4.62e-02\tStd dev: 2.39e-02\tResample: 3\n",
        "Chose theta = [   5.24660543  293.12592088    0.70152906]."
       ]
      },
      {
       "output_type": "stream",
       "stream": "stdout",
       "text": [
        "\tLoss: 2.66e-03\tError: 5.15e-02\tStd dev: 2.07e-02\tResample: 4"
       ]
      },
      {
       "output_type": "stream",
       "stream": "stdout",
       "text": [
        "\n",
        "Chose theta = [   6.28051723  293.15          0.7       ]."
       ]
      },
      {
       "output_type": "stream",
       "stream": "stdout",
       "text": [
        "\tLoss: 2.67e-03\tError: 5.15e-02\tStd dev: 2.07e-02\tResample: 4\n",
        "0.903 \u00b1 0.00541\t"
       ]
      },
      {
       "output_type": "stream",
       "stream": "stdout",
       "text": [
        " 0.000166 \u00b1 0.00519\t 0.0329 \u00b1 0.0207\t 22.0 \u00b1 0.00527\t -1.02 \u00b1 0.0058\t\n",
        "[ 0.9        0.         0.0844303  1.02     ]\n",
        "x iiiiiiiiiiiiiiiiiiiiiiis 5\n",
        "Loss: 1.67e-02\tError: 1.29e-01\tStd dev: 1.34e-01\tResample: 1"
       ]
      },
      {
       "output_type": "stream",
       "stream": "stdout",
       "text": [
        "\n",
        "Loss: 4.41e-04\tError: 2.10e-02\tStd dev: 7.04e-02\tResample: 1\n",
        "Loss: 1.37e-05\tError: 3.61e-03\tStd dev: 5.39e-02\tResample: 2"
       ]
      },
      {
       "output_type": "stream",
       "stream": "stdout",
       "text": [
        "\n",
        "Loss: 4.70e-05\tError: 6.83e-03\tStd dev: 5.14e-02\tResample: 2\n",
        "Loss: 1.60e-04\tError: 1.24e-02\tStd dev: 5.42e-02\tResample: 2"
       ]
      },
      {
       "output_type": "stream",
       "stream": "stdout",
       "text": [
        "\n",
        "Loss: 3.90e-04\tError: 1.97e-02\tStd dev: 4.00e-02\tResample: 2\n",
        "Loss: 9.73e-04\tError: 3.12e-02\tStd dev: 3.34e-02\tResample: 2"
       ]
      },
      {
       "output_type": "stream",
       "stream": "stdout",
       "text": [
        "\n",
        "Loss: 9.75e-04\tError: 3.12e-02\tStd dev: 3.21e-02\tResample: 2\n",
        "Loss: 8.39e-04\tError: 2.89e-02\tStd dev: 3.25e-02\tResample: 2"
       ]
      },
      {
       "output_type": "stream",
       "stream": "stdout",
       "text": [
        "\n",
        "Loss: 8.61e-04\tError: 2.93e-02\tStd dev: 3.14e-02\tResample: 2\n",
        "Chose theta = [   1.5703534  293.15         0.7      ]."
       ]
      },
      {
       "output_type": "stream",
       "stream": "stdout",
       "text": [
        "\tLoss: 9.04e-04\tError: 3.00e-02\tStd dev: 3.10e-02\tResample: 2\n",
        "Chose theta = [   4.70999177  293.15          0.7       ]."
       ]
      },
      {
       "output_type": "stream",
       "stream": "stdout",
       "text": [
        "\tLoss: 8.95e-04\tError: 2.98e-02\tStd dev: 3.12e-02\tResample: 2\n",
        "Chose theta = [   1.56906698  293.15          0.7       ]."
       ]
      },
      {
       "output_type": "stream",
       "stream": "stdout",
       "text": [
        "\tLoss: 8.50e-04\tError: 2.90e-02\tStd dev: 3.17e-02\tResample: 2\n",
        "Chose theta = [   3.57984909  292.14823543    0.69078175]."
       ]
      },
      {
       "output_type": "stream",
       "stream": "stdout",
       "text": [
        "\tLoss: 5.72e-04\tError: 2.35e-02\tStd dev: 3.31e-02\tResample: 2\n",
        "Chose theta = [   0.80516752  294.16975235    0.71608806]."
       ]
      },
      {
       "output_type": "stream",
       "stream": "stdout",
       "text": [
        "\tLoss: 1.69e-03\tError: 4.10e-02\tStd dev: 2.59e-02\tResample: 3"
       ]
      },
      {
       "output_type": "stream",
       "stream": "stdout",
       "text": [
        "\n",
        "0.899 \u00b1 0.0055\t"
       ]
      },
      {
       "output_type": "stream",
       "stream": "stdout",
       "text": [
        " 0.0032 \u00b1 0.00454\t 0.0434 \u00b1 0.0259\t 22.0 \u00b1 0.00573\t -1.02 \u00b1 0.00573\t\n",
        "[ 0.9        0.         0.0844303  1.02     ]\n",
        "Loss: 1.03e-02\tError: 1.01e-01\tStd dev: 1.22e-01\tResample: 1"
       ]
      },
      {
       "output_type": "stream",
       "stream": "stdout",
       "text": [
        "\n",
        "Loss: 2.31e-03\tError: 4.80e-02\tStd dev: 7.90e-02\tResample: 1\n",
        "Loss: 2.28e-03\tError: 4.77e-02\tStd dev: 6.69e-02\tResample: 1"
       ]
      },
      {
       "output_type": "stream",
       "stream": "stdout",
       "text": [
        "\n",
        "Loss: 5.64e-04\tError: 2.37e-02\tStd dev: 5.65e-02\tResample: 1\n",
        "Loss: 8.05e-04\tError: 2.83e-02\tStd dev: 5.81e-02\tResample: 1"
       ]
      },
      {
       "output_type": "stream",
       "stream": "stdout",
       "text": [
        "\n",
        "Loss: 3.97e-05\tError: 6.24e-03\tStd dev: 4.46e-02\tResample: 2"
       ]
      },
      {
       "output_type": "stream",
       "stream": "stdout",
       "text": [
        "\n",
        "Loss: 2.67e-06\tError: 1.10e-03\tStd dev: 4.29e-02\tResample: 2\n",
        "Loss: 5.18e-04\tError: 2.26e-02\tStd dev: 4.42e-02\tResample: 2"
       ]
      },
      {
       "output_type": "stream",
       "stream": "stdout",
       "text": [
        "\n",
        "Loss: 6.24e-04\tError: 2.46e-02\tStd dev: 4.34e-02\tResample: 2\n",
        "Loss: 9.63e-04\tError: 3.08e-02\tStd dev: 4.15e-02\tResample: 3"
       ]
      },
      {
       "output_type": "stream",
       "stream": "stdout",
       "text": [
        "\n",
        "Chose theta = [   4.92005207  292.52970505    0.7023492 ]."
       ]
      },
      {
       "output_type": "stream",
       "stream": "stdout",
       "text": [
        "\tLoss: 1.06e-03\tError: 3.23e-02\tStd dev: 3.95e-02\tResample: 3\n",
        "Chose theta = [   1.56733055  293.15          0.7       ]."
       ]
      },
      {
       "output_type": "stream",
       "stream": "stdout",
       "text": [
        "\tLoss: 1.28e-03\tError: 3.54e-02\tStd dev: 4.02e-02\tResample: 3\n",
        "Chose theta = [   4.70994627  293.15          0.7       ]."
       ]
      },
      {
       "output_type": "stream",
       "stream": "stdout",
       "text": [
        "\tLoss: 1.02e-03\tError: 3.16e-02\tStd dev: 3.95e-02\tResample: 3\n",
        "Chose theta = [   1.56267447  293.15          0.7       ]."
       ]
      },
      {
       "output_type": "stream",
       "stream": "stdout",
       "text": [
        "\tLoss: 9.09e-04\tError: 2.97e-02\tStd dev: 4.00e-02\tResample: 3\n",
        "Chose theta = [   4.70450473  293.15          0.7       ]."
       ]
      },
      {
       "output_type": "stream",
       "stream": "stdout",
       "text": [
        "\tLoss: 9.28e-04\tError: 3.00e-02\tStd dev: 3.99e-02\tResample: 3\n",
        "0.9 \u00b1 0.00556\t"
       ]
      },
      {
       "output_type": "stream",
       "stream": "stdout",
       "text": [
        " 0.00507 \u00b1 0.00404\t 0.114 \u00b1 0.0399\t 22.0 \u00b1 0.00565\t -1.02 \u00b1 0.00568\t\n",
        "[ 0.9        0.         0.0844303  1.02     ]\n",
        "x iiiiiiiiiiiiiiiiiiiiiiis 6\n",
        "Loss: 4.16e-02\tError: 2.04e-01\tStd dev: 1.57e-01\tResample: 1"
       ]
      },
      {
       "output_type": "stream",
       "stream": "stdout",
       "text": [
        "\n",
        "Loss: 1.60e-02\tError: 1.26e-01\tStd dev: 9.86e-02\tResample: 1\n",
        "Loss: 4.36e-03\tError: 6.60e-02\tStd dev: 7.20e-02\tResample: 2"
       ]
      },
      {
       "output_type": "stream",
       "stream": "stdout",
       "text": [
        "\n",
        "Loss: 3.30e-06\tError: 8.89e-04\tStd dev: 4.88e-02\tResample: 3"
       ]
      },
      {
       "output_type": "stream",
       "stream": "stdout",
       "text": [
        "\n",
        "Loss: 5.14e-05\tError: 6.22e-03\tStd dev: 5.27e-02\tResample: 3\n",
        "Loss: 1.69e-03\tError: 4.08e-02\tStd dev: 5.53e-02\tResample: 4"
       ]
      },
      {
       "output_type": "stream",
       "stream": "stdout",
       "text": [
        "\n",
        "Loss: 3.92e-05\tError: 4.84e-03\tStd dev: 4.17e-02\tResample: 4\n",
        "Loss: 1.78e-05\tError: 1.17e-03\tStd dev: 4.04e-02\tResample: 4"
       ]
      },
      {
       "output_type": "stream",
       "stream": "stdout",
       "text": [
        "\n",
        "Loss: 1.99e-05\tError: 4.78e-04\tStd dev: 4.02e-02\tResample: 4\n",
        "Loss: 1.45e-04\tError: 1.11e-02\tStd dev: 3.56e-02\tResample: 5"
       ]
      },
      {
       "output_type": "stream",
       "stream": "stdout",
       "text": [
        "\n",
        "Chose theta = [   4.50836995  310.            0.75979863]."
       ]
      },
      {
       "output_type": "stream",
       "stream": "stdout",
       "text": [
        "\tLoss: 1.38e-04\tError: 1.07e-02\tStd dev: 3.43e-02\tResample: 5\n",
        "Chose theta = [   2.60351002  270.            0.65580845]."
       ]
      },
      {
       "output_type": "stream",
       "stream": "stdout",
       "text": [
        "\tLoss: 7.80e-04\tError: 2.73e-02\tStd dev: 2.94e-02\tResample: 5\n",
        "Chose theta = [   5.10830612  295.78636458    0.69772612]."
       ]
      },
      {
       "output_type": "stream",
       "stream": "stdout",
       "text": [
        "\tLoss: 3.91e-04\tError: 1.88e-02\tStd dev: 3.08e-02\tResample: 5\n",
        "Chose theta = [   3.13982324  293.15          0.7       ]."
       ]
      },
      {
       "output_type": "stream",
       "stream": "stdout",
       "text": [
        "\tLoss: 3.75e-04\tError: 1.85e-02\tStd dev: 3.11e-02\tResample: 5\n",
        "Chose theta = [   5.63111895  293.47177632    0.69684742]."
       ]
      },
      {
       "output_type": "stream",
       "stream": "stdout",
       "text": [
        "\tLoss: 4.97e-04\tError: 2.16e-02\tStd dev: 2.98e-02\tResample: 5\n",
        "Chose theta = [   1.33121406  276.86268203    0.70906756]."
       ]
      },
      {
       "output_type": "stream",
       "stream": "stdout",
       "text": [
        "\tLoss: 3.98e-04\tError: 1.91e-02\tStd dev: 2.95e-02\tResample: 5\n",
        "0.898 \u00b1 0.00538\t"
       ]
      },
      {
       "output_type": "stream",
       "stream": "stdout",
       "text": [
        " 0.00557 \u00b1 0.00404\t 0.0653 \u00b1 0.0295\t 22.0 \u00b1 0.00556\t -1.02 \u00b1 0.00578\t\n",
        "[ 0.9        0.         0.0844303  1.02     ]\n",
        "Loss: 1.03e-02\tError: 1.01e-01\tStd dev: 1.23e-01\tResample: 1"
       ]
      },
      {
       "output_type": "stream",
       "stream": "stdout",
       "text": [
        "\n",
        "Loss: 1.48e-02\tError: 1.22e-01\tStd dev: 9.27e-02\tResample: 1\n",
        "Loss: 1.52e-02\tError: 1.23e-01\tStd dev: 7.41e-02\tResample: 1"
       ]
      },
      {
       "output_type": "stream",
       "stream": "stdout",
       "text": [
        "\n",
        "Loss: 1.25e-02\tError: 1.12e-01\tStd dev: 6.58e-02\tResample: 1\n",
        "Loss: 1.60e-02\tError: 1.26e-01\tStd dev: 6.62e-02\tResample: 1"
       ]
      },
      {
       "output_type": "stream",
       "stream": "stdout",
       "text": [
        "\n",
        "Loss: 1.33e-02\tError: 1.15e-01\tStd dev: 5.77e-02\tResample: 2"
       ]
      },
      {
       "output_type": "stream",
       "stream": "stdout",
       "text": [
        "\n",
        "Loss: 4.87e-03\tError: 6.98e-02\tStd dev: 5.10e-02\tResample: 2\n",
        "Loss: 1.40e-03\tError: 3.74e-02\tStd dev: 4.56e-02\tResample: 3"
       ]
      },
      {
       "output_type": "stream",
       "stream": "stdout",
       "text": [
        "\n",
        "Loss: 1.38e-03\tError: 3.71e-02\tStd dev: 4.59e-02\tResample: 3\n",
        "Loss: 4.20e-04\tError: 2.05e-02\tStd dev: 4.21e-02\tResample: 3"
       ]
      },
      {
       "output_type": "stream",
       "stream": "stdout",
       "text": [
        "\n",
        "Chose theta = [   5.75843128  310.            0.73134207]."
       ]
      },
      {
       "output_type": "stream",
       "stream": "stdout",
       "text": [
        "\tLoss: 1.71e-04\tError: 1.30e-02\tStd dev: 3.94e-02\tResample: 3\n",
        "Chose theta = [   1.56742523  293.15          0.7       ]."
       ]
      },
      {
       "output_type": "stream",
       "stream": "stdout",
       "text": [
        "\tLoss: 2.13e-04\tError: 1.43e-02\tStd dev: 4.04e-02\tResample: 3\n",
        "Chose theta = [   5.57658303  295.71264998    0.70675837]."
       ]
      },
      {
       "output_type": "stream",
       "stream": "stdout",
       "text": [
        "\tLoss: 2.24e-04\tError: 1.47e-02\tStd dev: 3.99e-02\tResample: 3\n",
        "Chose theta = [   0.34804059  292.75896018    0.70066917]."
       ]
      },
      {
       "output_type": "stream",
       "stream": "stdout",
       "text": [
        "\tLoss: 1.63e-04\tError: 1.23e-02\tStd dev: 3.42e-02\tResample: 4"
       ]
      },
      {
       "output_type": "stream",
       "stream": "stdout",
       "text": [
        "\n",
        "Chose theta = [   4.71059895  293.15          0.7       ]."
       ]
      },
      {
       "output_type": "stream",
       "stream": "stdout",
       "text": [
        "\tLoss: 1.68e-04\tError: 1.26e-02\tStd dev: 3.39e-02\tResample: 4\n",
        "Chose theta = [  6.44245642e-02   2.92002144e+02   6.95447380e-01]."
       ]
      },
      {
       "output_type": "stream",
       "stream": "stdout",
       "text": [
        "\tLoss: 3.00e-04\tError: 1.70e-02\tStd dev: 3.19e-02\tResample: 4\n",
        "0.898 \u00b1 0.00546\t"
       ]
      },
      {
       "output_type": "stream",
       "stream": "stdout",
       "text": [
        " 0.00221 \u00b1 0.00474\t 0.0674 \u00b1 0.0319\t 22.0 \u00b1 0.00551\t -1.02 \u00b1 0.00565\t\n",
        "[ 0.9        0.         0.0844303  1.02     ]\n",
        "x iiiiiiiiiiiiiiiiiiiiiiis 7\n",
        "Loss: 3.63e-03\tError: 6.02e-02\tStd dev: 1.01e-01\tResample: 1"
       ]
      },
      {
       "output_type": "stream",
       "stream": "stdout",
       "text": [
        "\n",
        "Loss: 9.57e-06\tError: 1.08e-03\tStd dev: 5.81e-02\tResample: 1\n",
        "Loss: 1.06e-04\tError: 9.90e-03\tStd dev: 4.85e-02\tResample: 1"
       ]
      },
      {
       "output_type": "stream",
       "stream": "stdout",
       "text": [
        "\n",
        "Loss: 1.86e-04\tError: 1.33e-02\tStd dev: 4.44e-02\tResample: 1\n",
        "Loss: 1.19e-04\tError: 9.91e-03\tStd dev: 4.68e-02\tResample: 1"
       ]
      },
      {
       "output_type": "stream",
       "stream": "stdout",
       "text": [
        "\n",
        "Loss: 8.63e-05\tError: 7.97e-03\tStd dev: 4.36e-02\tResample: 2"
       ]
      },
      {
       "output_type": "stream",
       "stream": "stdout",
       "text": [
        "\n",
        "Loss: 4.63e-04\tError: 2.11e-02\tStd dev: 3.70e-02\tResample: 2\n",
        "Loss: 9.29e-04\tError: 3.02e-02\tStd dev: 3.24e-02\tResample: 2"
       ]
      },
      {
       "output_type": "stream",
       "stream": "stdout",
       "text": [
        "\n",
        "Loss: 9.40e-04\tError: 3.04e-02\tStd dev: 3.23e-02\tResample: 2\n",
        "Loss: 6.82e-04\tError: 2.59e-02\tStd dev: 3.28e-02\tResample: 2"
       ]
      },
      {
       "output_type": "stream",
       "stream": "stdout",
       "text": [
        "\n",
        "Chose theta = [   3.14110262  293.15          0.7       ]."
       ]
      },
      {
       "output_type": "stream",
       "stream": "stdout",
       "text": [
        "\tLoss: 7.03e-04\tError: 2.62e-02\tStd dev: 3.26e-02\tResample: 2\n",
        "Chose theta = [   6.28318531  299.52576029    0.72988922]."
       ]
      },
      {
       "output_type": "stream",
       "stream": "stdout",
       "text": [
        "\tLoss: 7.29e-04\tError: 2.66e-02\tStd dev: 3.23e-02\tResample: 2\n",
        "Chose theta = [   6.28109451  293.15          0.7       ]."
       ]
      },
      {
       "output_type": "stream",
       "stream": "stdout",
       "text": [
        "\tLoss: 7.33e-04\tError: 2.67e-02\tStd dev: 3.22e-02\tResample: 2\n",
        "Chose theta = [   6.28318531  293.15032361    0.69999791]."
       ]
      },
      {
       "output_type": "stream",
       "stream": "stdout",
       "text": [
        "\tLoss: 6.68e-04\tError: 2.55e-02\tStd dev: 3.28e-02\tResample: 2\n",
        "Chose theta = [   6.28142807  293.15          0.7       ]."
       ]
      },
      {
       "output_type": "stream",
       "stream": "stdout",
       "text": [
        "\tLoss: 6.74e-04\tError: 2.56e-02\tStd dev: 3.27e-02\tResample: 2\n",
        "Chose theta = [   0.          289.47364012    0.69379107]."
       ]
      },
      {
       "output_type": "stream",
       "stream": "stdout",
       "text": [
        "\tLoss: 7.26e-04\tError: 2.65e-02\tStd dev: 3.22e-02\tResample: 2\n",
        "Chose theta = [   0.          304.61681704    0.68172615]."
       ]
      },
      {
       "output_type": "stream",
       "stream": "stdout",
       "text": [
        "\tLoss: 8.04e-04\tError: 2.78e-02\tStd dev: 3.14e-02\tResample: 2\n",
        "0.901 \u00b1 0.00555\t"
       ]
      },
      {
       "output_type": "stream",
       "stream": "stdout",
       "text": [
        " 0.00544 \u00b1 0.00363\t 0.0566 \u00b1 0.0314\t 22.0 \u00b1 0.00575\t -1.02 \u00b1 0.00575\t\n",
        "[ 0.9        0.         0.0844303  1.02     ]\n",
        "Loss: 6.16e-02\tError: 2.48e-01\tStd dev: 1.65e-01\tResample: 1"
       ]
      },
      {
       "output_type": "stream",
       "stream": "stdout",
       "text": [
        "\n",
        "Loss: 1.72e-03\tError: 4.15e-02\tStd dev: 7.93e-02\tResample: 2"
       ]
      },
      {
       "output_type": "stream",
       "stream": "stdout",
       "text": [
        "\n",
        "Loss: 5.28e-06\tError: 1.89e-03\tStd dev: 5.41e-02\tResample: 2\n",
        "Loss: 9.70e-05\tError: 9.76e-03\tStd dev: 4.61e-02\tResample: 2"
       ]
      },
      {
       "output_type": "stream",
       "stream": "stdout",
       "text": [
        "\n",
        "Loss: 1.01e-04\tError: 9.98e-03\tStd dev: 4.59e-02\tResample: 2\n",
        "Loss: 1.24e-04\tError: 1.11e-02\tStd dev: 4.25e-02\tResample: 2"
       ]
      },
      {
       "output_type": "stream",
       "stream": "stdout",
       "text": [
        "\n",
        "Loss: 7.14e-04\tError: 2.67e-02\tStd dev: 3.48e-02\tResample: 2\n",
        "Loss: 1.74e-04\tError: 1.32e-02\tStd dev: 3.75e-02\tResample: 2"
       ]
      },
      {
       "output_type": "stream",
       "stream": "stdout",
       "text": [
        "\n",
        "Loss: 1.49e-04\tError: 1.22e-02\tStd dev: 3.74e-02\tResample: 2\n",
        "Loss: 4.70e-04\tError: 2.17e-02\tStd dev: 3.32e-02\tResample: 3"
       ]
      },
      {
       "output_type": "stream",
       "stream": "stdout",
       "text": [
        "\n",
        "Chose theta = [   6.28318531  292.92348638    0.6987542 ]."
       ]
      },
      {
       "output_type": "stream",
       "stream": "stdout",
       "text": [
        "\tLoss: 5.18e-04\tError: 2.27e-02\tStd dev: 3.27e-02\tResample: 3\n",
        "Chose theta = [   0.          290.07657465    0.60783148]."
       ]
      },
      {
       "output_type": "stream",
       "stream": "stdout",
       "text": [
        "\tLoss: 4.47e-04\tError: 2.11e-02\tStd dev: 3.35e-02\tResample: 3\n",
        "Chose theta = [   6.28165484  293.15          0.7       ]."
       ]
      },
      {
       "output_type": "stream",
       "stream": "stdout",
       "text": [
        "\tLoss: 4.45e-04\tError: 2.11e-02\tStd dev: 3.36e-02\tResample: 3\n",
        "Chose theta = [   6.28318531  289.84474693    0.78972639]."
       ]
      },
      {
       "output_type": "stream",
       "stream": "stdout",
       "text": [
        "\tLoss: 4.97e-04\tError: 2.23e-02\tStd dev: 3.29e-02\tResample: 3\n",
        "Chose theta = [   1.56781441  293.15          0.7       ]."
       ]
      },
      {
       "output_type": "stream",
       "stream": "stdout",
       "text": [
        "\tLoss: 4.91e-04\tError: 2.21e-02\tStd dev: 3.31e-02\tResample: 3\n",
        "Chose theta = [  8.80924729e-02   2.93985043e+02   7.02419192e-01]."
       ]
      },
      {
       "output_type": "stream",
       "stream": "stdout",
       "text": [
        "\tLoss: 3.27e-04\tError: 1.80e-02\tStd dev: 3.30e-02\tResample: 3\n",
        "Chose theta = [   1.57063474  293.15          0.7       ]."
       ]
      },
      {
       "output_type": "stream",
       "stream": "stdout",
       "text": [
        "\tLoss: 3.07e-04\tError: 1.74e-02\tStd dev: 3.31e-02\tResample: 3\n",
        "0.899 \u00b1 0.00557\t"
       ]
      },
      {
       "output_type": "stream",
       "stream": "stdout",
       "text": [
        " 0.00199 \u00b1 0.00463\t 0.067 \u00b1 0.0331\t 22.0 \u00b1 0.00578\t -1.02 \u00b1 0.00578\t\n",
        "[ 0.9        0.         0.0844303  1.02     ]\n",
        "x iiiiiiiiiiiiiiiiiiiiiiis 8\n",
        "Loss: 3.92e-03\tError: 6.26e-02\tStd dev: 1.02e-01\tResample: 1"
       ]
      },
      {
       "output_type": "stream",
       "stream": "stdout",
       "text": [
        "\n",
        "Loss: 1.23e-03\tError: 3.50e-02\tStd dev: 7.25e-02\tResample: 1\n",
        "Loss: 6.65e-04\tError: 2.57e-02\tStd dev: 6.05e-02\tResample: 1"
       ]
      },
      {
       "output_type": "stream",
       "stream": "stdout",
       "text": [
        "\n",
        "Loss: 3.87e-05\tError: 5.63e-03\tStd dev: 4.73e-02\tResample: 1\n",
        "Loss: 4.25e-05\tError: 5.97e-03\tStd dev: 4.70e-02\tResample: 1"
       ]
      },
      {
       "output_type": "stream",
       "stream": "stdout",
       "text": [
        "\n",
        "Loss: 9.38e-06\tError: 2.58e-04\tStd dev: 4.56e-02\tResample: 1\n",
        "Loss: 4.76e-04\tError: 2.17e-02\tStd dev: 3.61e-02\tResample: 2"
       ]
      },
      {
       "output_type": "stream",
       "stream": "stdout",
       "text": [
        "\n",
        "Loss: 4.19e-04\tError: 2.03e-02\tStd dev: 3.50e-02\tResample: 2\n",
        "Loss: 3.64e-04\tError: 1.88e-02\tStd dev: 3.51e-02\tResample: 2"
       ]
      },
      {
       "output_type": "stream",
       "stream": "stdout",
       "text": [
        "\n",
        "Loss: 6.04e-04\tError: 2.43e-02\tStd dev: 3.25e-02\tResample: 2\n",
        "Chose theta = [   3.13979161  293.15          0.7       ]."
       ]
      },
      {
       "output_type": "stream",
       "stream": "stdout",
       "text": [
        "\tLoss: 6.10e-04\tError: 2.43e-02\tStd dev: 3.24e-02\tResample: 2\n",
        "Chose theta = [   1.56849562  293.15          0.7       ]."
       ]
      },
      {
       "output_type": "stream",
       "stream": "stdout",
       "text": [
        "\tLoss: 6.23e-04\tError: 2.46e-02\tStd dev: 3.21e-02\tResample: 2\n",
        "Chose theta = [   2.75517479  296.40446681    0.6898345 ]."
       ]
      },
      {
       "output_type": "stream",
       "stream": "stdout",
       "text": [
        "\tLoss: 1.31e-03\tError: 3.60e-02\tStd dev: 2.80e-02\tResample: 2\n",
        "Chose theta = [   6.28318531  293.17595027    0.70011227]."
       ]
      },
      {
       "output_type": "stream",
       "stream": "stdout",
       "text": [
        "\tLoss: 1.37e-03\tError: 3.65e-02\tStd dev: 2.69e-02\tResample: 3"
       ]
      },
      {
       "output_type": "stream",
       "stream": "stdout",
       "text": [
        "\n",
        "Chose theta = [   2.35633546  293.29150337    0.70194404]."
       ]
      },
      {
       "output_type": "stream",
       "stream": "stdout",
       "text": [
        "\tLoss: 6.42e-04\tError: 2.47e-02\tStd dev: 2.92e-02\tResample: 3\n",
        "Chose theta = [   6.28318531  293.12838743    0.69997981]."
       ]
      },
      {
       "output_type": "stream",
       "stream": "stdout",
       "text": [
        "\tLoss: 5.72e-04\tError: 2.37e-02\tStd dev: 2.98e-02\tResample: 3\n",
        "Chose theta = [   0.88449695  293.47360806    0.70015637]."
       ]
      },
      {
       "output_type": "stream",
       "stream": "stdout",
       "text": [
        "\tLoss: 5.25e-04\tError: 2.27e-02\tStd dev: 2.92e-02\tResample: 4"
       ]
      },
      {
       "output_type": "stream",
       "stream": "stdout",
       "text": [
        "\n",
        "Chose theta = [   3.13663394  293.15          0.7       ]."
       ]
      },
      {
       "output_type": "stream",
       "stream": "stdout",
       "text": [
        "\tLoss: 5.07e-04\tError: 2.22e-02\tStd dev: 2.92e-02\tResample: 4\n",
        "0.903 \u00b1 0.00529\t"
       ]
      },
      {
       "output_type": "stream",
       "stream": "stdout",
       "text": [
        " 0.00256 \u00b1 0.00464\t 0.0622 \u00b1 0.0292\t 22.0 \u00b1 0.00581\t -1.02 \u00b1 0.00585\t\n",
        "[ 0.9        0.         0.0844303  1.02     ]\n",
        "Loss: 1.67e-02\tError: 1.29e-01\tStd dev: 1.34e-01\tResample: 1"
       ]
      },
      {
       "output_type": "stream",
       "stream": "stdout",
       "text": [
        "\n",
        "Loss: 4.86e-03\tError: 6.97e-02\tStd dev: 8.60e-02\tResample: 1\n",
        "Loss: 2.80e-03\tError: 5.29e-02\tStd dev: 6.84e-02\tResample: 1"
       ]
      },
      {
       "output_type": "stream",
       "stream": "stdout",
       "text": [
        "\n",
        "Loss: 4.09e-03\tError: 6.40e-02\tStd dev: 6.34e-02\tResample: 1\n",
        "Loss: 7.40e-03\tError: 8.60e-02\tStd dev: 6.79e-02\tResample: 2"
       ]
      },
      {
       "output_type": "stream",
       "stream": "stdout",
       "text": [
        "\n",
        "Loss: 4.69e-03\tError: 6.84e-02\tStd dev: 5.87e-02\tResample: 2\n",
        "Loss: 3.89e-04\tError: 1.96e-02\tStd dev: 4.78e-02\tResample: 3"
       ]
      },
      {
       "output_type": "stream",
       "stream": "stdout",
       "text": [
        "\n",
        "Loss: 1.76e-04\tError: 1.31e-02\tStd dev: 4.40e-02\tResample: 3\n",
        "Loss: 1.51e-04\tError: 1.21e-02\tStd dev: 4.45e-02\tResample: 3"
       ]
      },
      {
       "output_type": "stream",
       "stream": "stdout",
       "text": [
        "\n",
        "Loss: 2.52e-05\tError: 4.50e-03\tStd dev: 3.95e-02\tResample: 3\n",
        "Chose theta = [   6.28318531  293.14129702    0.70002232]."
       ]
      },
      {
       "output_type": "stream",
       "stream": "stdout",
       "text": [
        "\tLoss: 5.36e-05\tError: 6.84e-03\tStd dev: 3.85e-02\tResample: 3\n",
        "Chose theta = [   1.3509646  270.           0.7132961]."
       ]
      },
      {
       "output_type": "stream",
       "stream": "stdout",
       "text": [
        "\tLoss: 8.15e-06\tError: 5.84e-04\tStd dev: 3.78e-02\tResample: 3\n",
        "Chose theta = [   3.27126259  292.9672698     0.69753254]."
       ]
      },
      {
       "output_type": "stream",
       "stream": "stdout",
       "text": [
        "\tLoss: 4.30e-05\tError: 6.46e-03\tStd dev: 3.80e-02\tResample: 3\n",
        "Chose theta = [   4.21818483  288.76280079    0.69821383]."
       ]
      },
      {
       "output_type": "stream",
       "stream": "stdout",
       "text": [
        "\tLoss: 2.28e-05\tError: 4.65e-03\tStd dev: 3.63e-02\tResample: 3\n",
        "Chose theta = [   6.21979947  310.            0.64367101]."
       ]
      },
      {
       "output_type": "stream",
       "stream": "stdout",
       "text": [
        "\tLoss: 5.31e-04\tError: 2.28e-02\tStd dev: 3.64e-02\tResample: 3\n",
        "Chose theta = [   5.45367194  293.59585648    0.70195027]."
       ]
      },
      {
       "output_type": "stream",
       "stream": "stdout",
       "text": [
        "\tLoss: 7.38e-04\tError: 2.69e-02\tStd dev: 3.56e-02\tResample: 3\n",
        "Chose theta = [   6.28318531  293.14446201    0.69995349]."
       ]
      },
      {
       "output_type": "stream",
       "stream": "stdout",
       "text": [
        "\tLoss: 8.39e-04\tError: 2.88e-02\tStd dev: 3.57e-02\tResample: 3\n",
        "Chose theta = [   6.28318531  293.15262418    0.70001694]."
       ]
      },
      {
       "output_type": "stream",
       "stream": "stdout",
       "text": [
        "\tLoss: 7.57e-04\tError: 2.73e-02\tStd dev: 3.55e-02\tResample: 3\n",
        "0.9 \u00b1 0.00556\t"
       ]
      },
      {
       "output_type": "stream",
       "stream": "stdout",
       "text": [
        " 0.00121 \u00b1 0.00483\t 0.112 \u00b1 0.0355\t 22.0 \u00b1 0.00514\t -1.02 \u00b1 0.00575\t\n",
        "[ 0.9        0.         0.0844303  1.02     ]\n",
        "x iiiiiiiiiiiiiiiiiiiiiiis 9\n",
        "Loss: 9.06e-02\tError: 3.01e-01\tStd dev: 1.67e-01\tResample: 1"
       ]
      },
      {
       "output_type": "stream",
       "stream": "stdout",
       "text": [
        "\n",
        "Loss: 3.14e-02\tError: 1.77e-01\tStd dev: 1.04e-01\tResample: 1\n",
        "Loss: 3.57e-03\tError: 5.97e-02\tStd dev: 7.20e-02\tResample: 2"
       ]
      },
      {
       "output_type": "stream",
       "stream": "stdout",
       "text": [
        "\n",
        "Loss: 4.75e-03\tError: 6.89e-02\tStd dev: 6.63e-02\tResample: 2\n",
        "Loss: 3.38e-03\tError: 5.80e-02\tStd dev: 6.22e-02\tResample: 2"
       ]
      },
      {
       "output_type": "stream",
       "stream": "stdout",
       "text": [
        "\n",
        "Loss: 1.53e-03\tError: 3.89e-02\tStd dev: 5.38e-02\tResample: 2\n",
        "Loss: 2.98e-05\tError: 1.96e-03\tStd dev: 4.17e-02\tResample: 3"
       ]
      },
      {
       "output_type": "stream",
       "stream": "stdout",
       "text": [
        "\n",
        "Loss: 7.52e-05\tError: 7.28e-03\tStd dev: 4.15e-02\tResample: 3\n",
        "Loss: 7.96e-05\tError: 7.67e-03\tStd dev: 4.14e-02\tResample: 3"
       ]
      },
      {
       "output_type": "stream",
       "stream": "stdout",
       "text": [
        "\n",
        "Loss: 1.93e-03\tError: 4.36e-02\tStd dev: 4.27e-02\tResample: 4"
       ]
      },
      {
       "output_type": "stream",
       "stream": "stdout",
       "text": [
        "\n",
        "Chose theta = [   0.60215595  294.40799708    0.68501993]."
       ]
      },
      {
       "output_type": "stream",
       "stream": "stdout",
       "text": [
        "\tLoss: 1.05e-03\tError: 3.20e-02\tStd dev: 4.02e-02\tResample: 4\n",
        "Chose theta = [   4.38524628  291.58851752    0.6831368 ]."
       ]
      },
      {
       "output_type": "stream",
       "stream": "stdout",
       "text": [
        "\tLoss: 8.77e-04\tError: 2.91e-02\tStd dev: 3.84e-02\tResample: 4\n",
        "Chose theta = [   4.87948862  293.33670194    0.70484994]."
       ]
      },
      {
       "output_type": "stream",
       "stream": "stdout",
       "text": [
        "\tLoss: 4.28e-04\tError: 2.00e-02\tStd dev: 3.68e-02\tResample: 4\n",
        "Chose theta = [   6.2788397  293.15         0.7      ]."
       ]
      },
      {
       "output_type": "stream",
       "stream": "stdout",
       "text": [
        "\tLoss: 4.35e-04\tError: 2.02e-02\tStd dev: 3.67e-02\tResample: 4\n",
        "Chose theta = [   3.55027812  295.20034827    0.70055114]."
       ]
      },
      {
       "output_type": "stream",
       "stream": "stdout",
       "text": [
        "\tLoss: 5.35e-04\tError: 2.25e-02\tStd dev: 3.63e-02\tResample: 4\n",
        "Chose theta = [   3.26079137  293.24620118    0.69633292]."
       ]
      },
      {
       "output_type": "stream",
       "stream": "stdout",
       "text": [
        "\tLoss: 1.63e-04\tError: 1.18e-02\tStd dev: 3.51e-02\tResample: 4\n",
        "Chose theta = [   1.27059138  293.51717918    1.        ]."
       ]
      },
      {
       "output_type": "stream",
       "stream": "stdout",
       "text": [
        "\tLoss: 6.92e-05\tError: 7.02e-03\tStd dev: 3.50e-02\tResample: 5"
       ]
      },
      {
       "output_type": "stream",
       "stream": "stdout",
       "text": [
        "\n",
        "Chose theta = [   6.27787724  293.15          0.7       ]."
       ]
      },
      {
       "output_type": "stream",
       "stream": "stdout",
       "text": [
        "\tLoss: 8.60e-05\tError: 8.46e-03\tStd dev: 3.50e-02\tResample: 5\n",
        "Chose theta = [   6.27719275  293.15          0.7       ]."
       ]
      },
      {
       "output_type": "stream",
       "stream": "stdout",
       "text": [
        "\tLoss: 1.59e-04\tError: 1.24e-02\tStd dev: 3.52e-02\tResample: 5\n",
        "0.899 \u00b1 0.00554\t"
       ]
      },
      {
       "output_type": "stream",
       "stream": "stdout",
       "text": [
        " -0.00157 \u00b1 0.0048\t 0.0969 \u00b1 0.0352\t 22.0 \u00b1 0.00551\t -1.02 \u00b1 0.00575\t\n",
        "[ 0.9        0.         0.0844303  1.02     ]\n",
        "Loss: 3.84e-03\tError: 6.19e-02\tStd dev: 1.02e-01\tResample: 1"
       ]
      },
      {
       "output_type": "stream",
       "stream": "stdout",
       "text": [
        "\n",
        "Loss: 9.13e-06\tError: 5.40e-04\tStd dev: 5.87e-02\tResample: 1\n",
        "Loss: 3.46e-05\tError: 5.11e-03\tStd dev: 5.08e-02\tResample: 1"
       ]
      },
      {
       "output_type": "stream",
       "stream": "stdout",
       "text": [
        "\n",
        "Loss: 1.93e-04\tError: 1.36e-02\tStd dev: 4.47e-02\tResample: 1\n",
        "Loss: 1.78e-04\tError: 1.29e-02\tStd dev: 4.51e-02\tResample: 1"
       ]
      },
      {
       "output_type": "stream",
       "stream": "stdout",
       "text": [
        "\n",
        "Loss: 7.49e-04\tError: 2.72e-02\tStd dev: 3.63e-02\tResample: 2"
       ]
      },
      {
       "output_type": "stream",
       "stream": "stdout",
       "text": [
        "\n",
        "Loss: 8.40e-04\tError: 2.89e-02\tStd dev: 3.40e-02\tResample: 2\n",
        "Loss: 6.32e-04\tError: 2.50e-02\tStd dev: 3.41e-02\tResample: 2"
       ]
      },
      {
       "output_type": "stream",
       "stream": "stdout",
       "text": [
        "\n",
        "Loss: 5.47e-04\tError: 2.29e-02\tStd dev: 3.43e-02\tResample: 2\n",
        "Loss: 5.52e-04\tError: 2.30e-02\tStd dev: 3.32e-02\tResample: 2"
       ]
      },
      {
       "output_type": "stream",
       "stream": "stdout",
       "text": [
        "\n",
        "Chose theta = [   4.70771328  293.15          0.7       ]."
       ]
      },
      {
       "output_type": "stream",
       "stream": "stdout",
       "text": [
        "\tLoss: 5.47e-04\tError: 2.29e-02\tStd dev: 3.32e-02\tResample: 2\n",
        "Chose theta = [   6.22955574  272.67873697    0.70253001]."
       ]
      },
      {
       "output_type": "stream",
       "stream": "stdout",
       "text": [
        "\tLoss: 2.35e-04\tError: 1.43e-02\tStd dev: 3.41e-02\tResample: 2\n",
        "Chose theta = [   4.75520041  310.            0.6719471 ]."
       ]
      },
      {
       "output_type": "stream",
       "stream": "stdout",
       "text": [
        "\tLoss: 1.47e-04\tError: 1.06e-02\tStd dev: 3.38e-02\tResample: 2\n",
        "Chose theta = [   3.03643125  297.38582485    0.70589615]."
       ]
      },
      {
       "output_type": "stream",
       "stream": "stdout",
       "text": [
        "\tLoss: 2.37e-04\tError: 1.43e-02\tStd dev: 3.23e-02\tResample: 2\n",
        "Chose theta = [   1.56940429  293.15          0.7       ]."
       ]
      },
      {
       "output_type": "stream",
       "stream": "stdout",
       "text": [
        "\tLoss: 2.50e-04\tError: 1.49e-02\tStd dev: 3.19e-02\tResample: 2\n",
        "Chose theta = [   4.70554367  293.15          0.7       ]."
       ]
      },
      {
       "output_type": "stream",
       "stream": "stdout",
       "text": [
        "\tLoss: 2.43e-04\tError: 1.46e-02\tStd dev: 3.19e-02\tResample: 2\n",
        "Chose theta = [   1.56745238  293.15          0.7       ]."
       ]
      },
      {
       "output_type": "stream",
       "stream": "stdout",
       "text": [
        "\tLoss: 2.47e-04\tError: 1.47e-02\tStd dev: 3.19e-02\tResample: 2\n",
        "Chose theta = [   1.56681547  293.15          0.7       ]."
       ]
      },
      {
       "output_type": "stream",
       "stream": "stdout",
       "text": [
        "\tLoss: 2.45e-04\tError: 1.46e-02\tStd dev: 3.19e-02\tResample: 2\n",
        "Chose theta = [   3.66046628  294.6554106     0.69788018]."
       ]
      },
      {
       "output_type": "stream",
       "stream": "stdout",
       "text": [
        "\tLoss: 5.28e-04\tError: 2.24e-02\tStd dev: 2.97e-02\tResample: 2\n",
        "0.903 \u00b1 0.00528\t"
       ]
      },
      {
       "output_type": "stream",
       "stream": "stdout",
       "text": [
        " 0.00382 \u00b1 0.00439\t 0.062 \u00b1 0.0297\t 22.0 \u00b1 0.00543\t -1.02 \u00b1 0.00577\t\n",
        "[ 0.9        0.         0.0844303  1.02     ]\n",
        "x iiiiiiiiiiiiiiiiiiiiiiis 10\n",
        "Loss: 4.08e-02\tError: 2.02e-01\tStd dev: 1.56e-01\tResample: 1"
       ]
      },
      {
       "output_type": "stream",
       "stream": "stdout",
       "text": [
        "\n",
        "Loss: 3.68e-03\tError: 6.07e-02\tStd dev: 8.54e-02\tResample: 2"
       ]
      },
      {
       "output_type": "stream",
       "stream": "stdout",
       "text": [
        "\n",
        "Loss: 2.88e-04\tError: 1.69e-02\tStd dev: 5.98e-02\tResample: 2\n",
        "Loss: 1.77e-06\tError: 9.63e-04\tStd dev: 5.01e-02\tResample: 2"
       ]
      },
      {
       "output_type": "stream",
       "stream": "stdout",
       "text": [
        "\n",
        "Loss: 1.03e-05\tError: 2.76e-03\tStd dev: 4.77e-02\tResample: 2\n",
        "Loss: 6.51e-04\tError: 2.53e-02\tStd dev: 3.59e-02\tResample: 3"
       ]
      },
      {
       "output_type": "stream",
       "stream": "stdout",
       "text": [
        "\n",
        "Loss: 5.71e-04\tError: 2.37e-02\tStd dev: 3.47e-02\tResample: 3\n",
        "Loss: 5.53e-05\tError: 7.18e-03\tStd dev: 3.80e-02\tResample: 3"
       ]
      },
      {
       "output_type": "stream",
       "stream": "stdout",
       "text": [
        "\n",
        "Loss: 5.25e-05\tError: 7.00e-03\tStd dev: 3.80e-02\tResample: 3\n",
        "Loss: 1.06e-04\tError: 1.01e-02\tStd dev: 3.59e-02\tResample: 3"
       ]
      },
      {
       "output_type": "stream",
       "stream": "stdout",
       "text": [
        "\n",
        "Chose theta = [   5.23297656  289.20657867    0.69840195]."
       ]
      },
      {
       "output_type": "stream",
       "stream": "stdout",
       "text": [
        "\tLoss: 3.46e-04\tError: 1.85e-02\tStd dev: 3.27e-02\tResample: 3\n",
        "Chose theta = [   6.27689751  293.15          0.7       ]."
       ]
      },
      {
       "output_type": "stream",
       "stream": "stdout",
       "text": [
        "\tLoss: 2.43e-04\tError: 1.55e-02\tStd dev: 3.30e-02\tResample: 3\n",
        "Chose theta = [   3.78142076  292.65526218    0.70277968]."
       ]
      },
      {
       "output_type": "stream",
       "stream": "stdout",
       "text": [
        "\tLoss: 6.56e-05\tError: 7.95e-03\tStd dev: 3.35e-02\tResample: 3\n",
        "Chose theta = [   6.28318531  293.15261862    0.70000249]."
       ]
      },
      {
       "output_type": "stream",
       "stream": "stdout",
       "text": [
        "\tLoss: 6.85e-05\tError: 8.03e-03\tStd dev: 3.33e-02\tResample: 4"
       ]
      },
      {
       "output_type": "stream",
       "stream": "stdout",
       "text": [
        "\n",
        "Chose theta = [   3.13831222  293.15          0.7       ]."
       ]
      },
      {
       "output_type": "stream",
       "stream": "stdout",
       "text": [
        "\tLoss: 8.57e-05\tError: 9.16e-03\tStd dev: 3.35e-02\tResample: 4\n",
        "Chose theta = [   6.28318531  293.12596647    0.69993703]."
       ]
      },
      {
       "output_type": "stream",
       "stream": "stdout",
       "text": [
        "\tLoss: 1.01e-04\tError: 9.84e-03\tStd dev: 3.31e-02\tResample: 4\n",
        "Chose theta = [   3.75148906  294.10328186    0.71363177]."
       ]
      },
      {
       "output_type": "stream",
       "stream": "stdout",
       "text": [
        "\tLoss: 3.59e-06\tError: 9.16e-04\tStd dev: 3.37e-02\tResample: 4\n",
        "Chose theta = [   5.3895221   291.01945273    0.69850407]."
       ]
      },
      {
       "output_type": "stream",
       "stream": "stdout",
       "text": [
        "\tLoss: 1.48e-05\tError: 3.26e-03\tStd dev: 3.35e-02\tResample: 4\n",
        "Chose theta = [   3.13571513  293.15          0.7       ]."
       ]
      },
      {
       "output_type": "stream",
       "stream": "stdout",
       "text": [
        "\tLoss: 4.03e-05\tError: 5.46e-03\tStd dev: 3.35e-02\tResample: 4\n",
        "Chose theta = [   2.64185103  310.            0.62235588]."
       ]
      },
      {
       "output_type": "stream",
       "stream": "stdout",
       "text": [
        "\tLoss: 5.45e-04\tError: 2.31e-02\tStd dev: 3.40e-02\tResample: 5"
       ]
      },
      {
       "output_type": "stream",
       "stream": "stdout",
       "text": [
        "\n",
        "0.903 \u00b1 0.00543\t"
       ]
      },
      {
       "output_type": "stream",
       "stream": "stdout",
       "text": [
        " 0.00146 \u00b1 0.00482\t 0.108 \u00b1 0.034\t 22.0 \u00b1 0.00545\t -1.02 \u00b1 0.00574\t\n",
        "[ 0.9        0.         0.0844303  1.02     ]\n",
        "Loss: 1.20e-03\tError: 3.45e-02\tStd dev: 8.49e-02\tResample: 1"
       ]
      },
      {
       "output_type": "stream",
       "stream": "stdout",
       "text": [
        "\n",
        "Loss: 5.25e-04\tError: 2.26e-02\tStd dev: 6.64e-02\tResample: 1\n",
        "Loss: 9.37e-04\tError: 3.04e-02\tStd dev: 6.03e-02\tResample: 1"
       ]
      },
      {
       "output_type": "stream",
       "stream": "stdout",
       "text": [
        "\n",
        "Loss: 5.58e-03\tError: 7.46e-02\tStd dev: 6.09e-02\tResample: 1\n",
        "Loss: 6.47e-03\tError: 8.03e-02\tStd dev: 6.17e-02\tResample: 1"
       ]
      },
      {
       "output_type": "stream",
       "stream": "stdout",
       "text": [
        "\n",
        "Loss: 4.52e-03\tError: 6.71e-02\tStd dev: 5.48e-02\tResample: 1\n",
        "Loss: 3.60e-04\tError: 1.88e-02\tStd dev: 4.60e-02\tResample: 1"
       ]
      },
      {
       "output_type": "stream",
       "stream": "stdout",
       "text": [
        "\n",
        "Loss: 4.90e-06\tError: 1.45e-03\tStd dev: 4.08e-02\tResample: 1\n",
        "Loss: 1.45e-05\tError: 2.38e-03\tStd dev: 4.04e-02\tResample: 1"
       ]
      },
      {
       "output_type": "stream",
       "stream": "stdout",
       "text": [
        "\n",
        "Loss: 1.85e-04\tError: 1.30e-02\tStd dev: 3.60e-02\tResample: 1\n",
        "Chose theta = [   2.26731245  310.            0.72664978]."
       ]
      },
      {
       "output_type": "stream",
       "stream": "stdout",
       "text": [
        "\tLoss: 9.64e-05\tError: 8.61e-03\tStd dev: 3.62e-02\tResample: 1\n",
        "Chose theta = [   3.64363957  295.2675918     0.69478754]."
       ]
      },
      {
       "output_type": "stream",
       "stream": "stdout",
       "text": [
        "\tLoss: 1.48e-04\tError: 1.12e-02\tStd dev: 3.43e-02\tResample: 1\n",
        "Chose theta = [   3.13937998  293.15          0.7       ]."
       ]
      },
      {
       "output_type": "stream",
       "stream": "stdout",
       "text": [
        "\tLoss: 7.62e-05\tError: 8.49e-03\tStd dev: 3.56e-02\tResample: 1\n",
        "Chose theta = [   2.9485176   293.02674145    0.7002861 ]."
       ]
      },
      {
       "output_type": "stream",
       "stream": "stdout",
       "text": [
        "\tLoss: 5.06e-05\tError: 6.83e-03\tStd dev: 3.45e-02\tResample: 1\n",
        "Chose theta = [   0.          293.3062789     0.71217799]."
       ]
      },
      {
       "output_type": "stream",
       "stream": "stdout",
       "text": [
        "\tLoss: 4.97e-05\tError: 6.77e-03\tStd dev: 3.45e-02\tResample: 1\n",
        "Chose theta = [   2.63079158  293.04142986    0.69939903]."
       ]
      },
      {
       "output_type": "stream",
       "stream": "stdout",
       "text": [
        "\tLoss: 4.89e-04\tError: 2.19e-02\tStd dev: 3.09e-02\tResample: 1\n",
        "Chose theta = [   3.13732766  293.15          0.7       ]."
       ]
      },
      {
       "output_type": "stream",
       "stream": "stdout",
       "text": [
        "\tLoss: 4.76e-04\tError: 2.15e-02\tStd dev: 3.08e-02\tResample: 1\n",
        "Chose theta = [   6.28318531  293.13705501    0.70001699]."
       ]
      },
      {
       "output_type": "stream",
       "stream": "stdout",
       "text": [
        "\tLoss: 3.89e-04\tError: 1.96e-02\tStd dev: 3.12e-02\tResample: 2"
       ]
      },
      {
       "output_type": "stream",
       "stream": "stdout",
       "text": [
        "\n",
        "Chose theta = [   4.71048961  293.15          0.7       ]."
       ]
      },
      {
       "output_type": "stream",
       "stream": "stdout",
       "text": [
        "\tLoss: 4.00e-04\tError: 1.99e-02\tStd dev: 3.10e-02\tResample: 2\n",
        "Chose theta = [   1.56684231  293.15          0.7       ]."
       ]
      },
      {
       "output_type": "stream",
       "stream": "stdout",
       "text": [
        "\tLoss: 3.89e-04\tError: 1.96e-02\tStd dev: 3.09e-02\tResample: 2\n",
        "0.902 \u00b1 0.00525\t"
       ]
      },
      {
       "output_type": "stream",
       "stream": "stdout",
       "text": [
        " -0.000326 \u00b1 0.00483\t 0.0648 \u00b1 0.0309\t 22.0 \u00b1 0.0057\t -1.02 \u00b1 0.00577\t\n",
        "[ 0.9        0.         0.0844303  1.02     ]\n",
        "x iiiiiiiiiiiiiiiiiiiiiiis 11\n",
        "Loss: 1.66e-02\tError: 1.29e-01\tStd dev: 1.35e-01\tResample: 1"
       ]
      },
      {
       "output_type": "stream",
       "stream": "stdout",
       "text": [
        "\n",
        "Loss: 2.96e-05\tError: 5.34e-03\tStd dev: 6.18e-02\tResample: 2"
       ]
      },
      {
       "output_type": "stream",
       "stream": "stdout",
       "text": [
        "\n",
        "Loss: 2.16e-04\tError: 1.47e-02\tStd dev: 4.63e-02\tResample: 2\n",
        "Loss: 3.17e-04\tError: 1.78e-02\tStd dev: 4.24e-02\tResample: 2"
       ]
      },
      {
       "output_type": "stream",
       "stream": "stdout",
       "text": [
        "\n",
        "Loss: 2.66e-04\tError: 1.61e-02\tStd dev: 4.36e-02\tResample: 2\n",
        "Loss: 1.60e-03\tError: 4.00e-02\tStd dev: 3.08e-02\tResample: 2"
       ]
      },
      {
       "output_type": "stream",
       "stream": "stdout",
       "text": [
        "\n",
        "Loss: 2.03e-03\tError: 4.50e-02\tStd dev: 2.63e-02\tResample: 3"
       ]
      },
      {
       "output_type": "stream",
       "stream": "stdout",
       "text": [
        "\n",
        "Loss: 1.71e-03\tError: 4.14e-02\tStd dev: 2.73e-02\tResample: 3\n",
        "Loss: 1.76e-03\tError: 4.20e-02\tStd dev: 2.71e-02\tResample: 3"
       ]
      },
      {
       "output_type": "stream",
       "stream": "stdout",
       "text": [
        "\n",
        "Loss: 2.38e-03\tError: 4.88e-02\tStd dev: 2.34e-02\tResample: 3\n",
        "Chose theta = [   4.71227076  293.15          0.7       ]."
       ]
      },
      {
       "output_type": "stream",
       "stream": "stdout",
       "text": [
        "\tLoss: 2.39e-03\tError: 4.88e-02\tStd dev: 2.34e-02\tResample: 3\n",
        "Chose theta = [   4.71160088  293.15          0.7       ]."
       ]
      },
      {
       "output_type": "stream",
       "stream": "stdout",
       "text": [
        "\tLoss: 2.42e-03\tError: 4.92e-02\tStd dev: 2.31e-02\tResample: 3\n",
        "Chose theta = [   1.570402  293.15        0.7     ]."
       ]
      },
      {
       "output_type": "stream",
       "stream": "stdout",
       "text": [
        "\tLoss: 2.49e-03\tError: 4.99e-02\tStd dev: 2.26e-02\tResample: 3\n",
        "Chose theta = [   1.56977497  293.15          0.7       ]."
       ]
      },
      {
       "output_type": "stream",
       "stream": "stdout",
       "text": [
        "\tLoss: 2.49e-03\tError: 4.98e-02\tStd dev: 2.26e-02\tResample: 3\n",
        "Chose theta = [   4.7115667  293.15         0.7      ]."
       ]
      },
      {
       "output_type": "stream",
       "stream": "stdout",
       "text": [
        "\tLoss: 2.50e-03\tError: 4.99e-02\tStd dev: 2.25e-02\tResample: 3\n",
        "Chose theta = [   6.27927825  293.15          0.7       ]."
       ]
      },
      {
       "output_type": "stream",
       "stream": "stdout",
       "text": [
        "\tLoss: 2.44e-03\tError: 4.93e-02\tStd dev: 2.27e-02\tResample: 3\n",
        "Chose theta = [   1.56757872  293.15          0.7       ]."
       ]
      },
      {
       "output_type": "stream",
       "stream": "stdout",
       "text": [
        "\tLoss: 2.43e-03\tError: 4.92e-02\tStd dev: 2.27e-02\tResample: 3\n",
        "Chose theta = [   1.57036029  293.15          0.7       ]."
       ]
      },
      {
       "output_type": "stream",
       "stream": "stdout",
       "text": [
        "\tLoss: 2.44e-03\tError: 4.93e-02\tStd dev: 2.26e-02\tResample: 3\n",
        "Chose theta = [   4.71138651  293.15          0.7       ]."
       ]
      },
      {
       "output_type": "stream",
       "stream": "stdout",
       "text": [
        "\tLoss: 2.44e-03\tError: 4.93e-02\tStd dev: 2.26e-02\tResample: 3\n",
        "Chose theta = [   1.56940992  293.15          0.7       ]."
       ]
      },
      {
       "output_type": "stream",
       "stream": "stdout",
       "text": [
        "\tLoss: 2.43e-03\tError: 4.92e-02\tStd dev: 2.27e-02\tResample: 3\n",
        "Chose theta = [   3.13790414  293.15          0.7       ]."
       ]
      },
      {
       "output_type": "stream",
       "stream": "stdout",
       "text": [
        "\tLoss: 2.40e-03\tError: 4.88e-02\tStd dev: 2.27e-02\tResample: 3\n",
        "0.904 \u00b1 0.00491\t"
       ]
      },
      {
       "output_type": "stream",
       "stream": "stdout",
       "text": [
        " 0.000581 \u00b1 0.00459\t 0.0356 \u00b1 0.0227\t 22.0 \u00b1 0.00563\t -1.02 \u00b1 0.00567\t\n",
        "[ 0.9        0.         0.0844303  1.02     ]\n",
        "Loss: 6.27e-02\tError: 2.50e-01\tStd dev: 1.64e-01\tResample: 1"
       ]
      },
      {
       "output_type": "stream",
       "stream": "stdout",
       "text": [
        "\n",
        "Loss: 4.04e-04\tError: 2.01e-02\tStd dev: 7.01e-02\tResample: 2"
       ]
      },
      {
       "output_type": "stream",
       "stream": "stdout",
       "text": [
        "\n",
        "Loss: 2.63e-06\tError: 1.18e-03\tStd dev: 5.36e-02\tResample: 2\n",
        "Loss: 2.57e-06\tError: 1.10e-03\tStd dev: 4.92e-02\tResample: 2"
       ]
      },
      {
       "output_type": "stream",
       "stream": "stdout",
       "text": [
        "\n",
        "Loss: 1.47e-06\tError: 3.34e-04\tStd dev: 4.99e-02\tResample: 2\n",
        "Loss: 7.94e-06\tError: 2.55e-03\tStd dev: 4.54e-02\tResample: 2"
       ]
      },
      {
       "output_type": "stream",
       "stream": "stdout",
       "text": [
        "\n",
        "Loss: 7.49e-06\tError: 2.48e-03\tStd dev: 4.35e-02\tResample: 2\n",
        "Loss: 7.14e-04\tError: 2.67e-02\tStd dev: 4.49e-02\tResample: 2"
       ]
      },
      {
       "output_type": "stream",
       "stream": "stdout",
       "text": [
        "\n",
        "Loss: 8.20e-04\tError: 2.85e-02\tStd dev: 4.42e-02\tResample: 3"
       ]
      },
      {
       "output_type": "stream",
       "stream": "stdout",
       "text": [
        "\n",
        "Loss: 1.41e-03\tError: 3.75e-02\tStd dev: 4.25e-02\tResample: 3\n",
        "Chose theta = [   6.28318531  293.16204278    0.70001488]."
       ]
      },
      {
       "output_type": "stream",
       "stream": "stdout",
       "text": [
        "\tLoss: 1.61e-03\tError: 4.01e-02\tStd dev: 4.30e-02\tResample: 3\n",
        "Chose theta = [   0.          293.87903031    0.70042783]."
       ]
      },
      {
       "output_type": "stream",
       "stream": "stdout",
       "text": [
        "\tLoss: 1.48e-03\tError: 3.84e-02\tStd dev: 4.24e-02\tResample: 3\n",
        "Chose theta = [   1.86943441  294.37534661    0.69940174]."
       ]
      },
      {
       "output_type": "stream",
       "stream": "stdout",
       "text": [
        "\tLoss: 2.72e-04\tError: 1.65e-02\tStd dev: 3.93e-02\tResample: 3\n",
        "Chose theta = [   6.28151722  293.15          0.7       ]."
       ]
      },
      {
       "output_type": "stream",
       "stream": "stdout",
       "text": [
        "\tLoss: 2.95e-04\tError: 1.72e-02\tStd dev: 3.97e-02\tResample: 3\n",
        "Chose theta = [   6.28103481  293.15          0.7       ]."
       ]
      },
      {
       "output_type": "stream",
       "stream": "stdout",
       "text": [
        "\tLoss: 3.01e-04\tError: 1.73e-02\tStd dev: 3.98e-02\tResample: 3\n",
        "Chose theta = [   6.28034528  293.15          0.7       ]."
       ]
      },
      {
       "output_type": "stream",
       "stream": "stdout",
       "text": [
        "\tLoss: 2.99e-04\tError: 1.73e-02\tStd dev: 3.94e-02\tResample: 3\n",
        "Chose theta = [   0.          293.54136414    0.70146465]."
       ]
      },
      {
       "output_type": "stream",
       "stream": "stdout",
       "text": [
        "\tLoss: 3.21e-04\tError: 1.79e-02\tStd dev: 3.95e-02\tResample: 3\n",
        "Chose theta = [   6.28318531  288.37147302    0.61748474]."
       ]
      },
      {
       "output_type": "stream",
       "stream": "stdout",
       "text": [
        "\tLoss: 4.06e-04\tError: 2.01e-02\tStd dev: 4.00e-02\tResample: 4"
       ]
      },
      {
       "output_type": "stream",
       "stream": "stdout",
       "text": [
        "\n",
        "Chose theta = [   5.61904228  298.06366557    0.71627819]."
       ]
      },
      {
       "output_type": "stream",
       "stream": "stdout",
       "text": [
        "\tLoss: 1.20e-04\tError: 1.07e-02\tStd dev: 3.73e-02\tResample: 4\n",
        "Chose theta = [   4.71051614  293.15          0.7       ]."
       ]
      },
      {
       "output_type": "stream",
       "stream": "stdout",
       "text": [
        "\tLoss: 1.35e-04\tError: 1.15e-02\tStd dev: 3.75e-02\tResample: 4\n",
        "Chose theta = [   5.82796878  310.            0.76265205]."
       ]
      },
      {
       "output_type": "stream",
       "stream": "stdout",
       "text": [
        "\tLoss: 6.71e-04\tError: 2.57e-02\tStd dev: 3.74e-02\tResample: 4\n",
        "0.901 \u00b1 0.0055\t"
       ]
      },
      {
       "output_type": "stream",
       "stream": "stdout",
       "text": [
        " -0.00257 \u00b1 0.00441\t 0.11 \u00b1 0.0374\t 22.0 \u00b1 0.00557\t -1.02 \u00b1 0.00573\t\n",
        "[ 0.9        0.         0.0844303  1.02     ]\n",
        "x iiiiiiiiiiiiiiiiiiiiiiis 12\n",
        "Loss: 1.03e-02\tError: 1.01e-01\tStd dev: 1.22e-01\tResample: 1"
       ]
      },
      {
       "output_type": "stream",
       "stream": "stdout",
       "text": [
        "\n",
        "Loss: 6.71e-04\tError: 2.59e-02\tStd dev: 7.11e-02\tResample: 1\n",
        "Loss: 2.11e-03\tError: 4.59e-02\tStd dev: 6.64e-02\tResample: 1"
       ]
      },
      {
       "output_type": "stream",
       "stream": "stdout",
       "text": [
        "\n",
        "Loss: 5.03e-04\tError: 2.24e-02\tStd dev: 5.60e-02\tResample: 1\n",
        "Loss: 2.81e-04\tError: 1.67e-02\tStd dev: 5.31e-02\tResample: 1"
       ]
      },
      {
       "output_type": "stream",
       "stream": "stdout",
       "text": [
        "\n",
        "Loss: 5.87e-06\tError: 1.72e-03\tStd dev: 4.44e-02\tResample: 2"
       ]
      },
      {
       "output_type": "stream",
       "stream": "stdout",
       "text": [
        "\n",
        "Loss: 1.11e-04\tError: 1.05e-02\tStd dev: 4.38e-02\tResample: 2\n",
        "Loss: 1.82e-05\tError: 3.91e-03\tStd dev: 3.89e-02\tResample: 2"
       ]
      },
      {
       "output_type": "stream",
       "stream": "stdout",
       "text": [
        "\n",
        "Loss: 7.78e-06\tError: 2.24e-03\tStd dev: 3.86e-02\tResample: 2\n",
        "Loss: 3.51e-04\tError: 1.86e-02\tStd dev: 3.39e-02\tResample: 2"
       ]
      },
      {
       "output_type": "stream",
       "stream": "stdout",
       "text": [
        "\n",
        "Chose theta = [   3.38806988  293.39388209    0.70561623]."
       ]
      },
      {
       "output_type": "stream",
       "stream": "stdout",
       "text": [
        "\tLoss: 3.43e-04\tError: 1.84e-02\tStd dev: 3.29e-02\tResample: 2\n",
        "Chose theta = [   4.01446577  310.            0.68039923]."
       ]
      },
      {
       "output_type": "stream",
       "stream": "stdout",
       "text": [
        "\tLoss: 6.76e-04\tError: 2.57e-02\tStd dev: 3.02e-02\tResample: 3"
       ]
      },
      {
       "output_type": "stream",
       "stream": "stdout",
       "text": [
        "\n",
        "Chose theta = [   2.62712896  292.91061723    0.69917394]."
       ]
      },
      {
       "output_type": "stream",
       "stream": "stdout",
       "text": [
        "\tLoss: 1.84e-04\tError: 1.32e-02\tStd dev: 3.18e-02\tResample: 3\n",
        "Chose theta = [   4.70756447  293.15          0.7       ]."
       ]
      },
      {
       "output_type": "stream",
       "stream": "stdout",
       "text": [
        "\tLoss: 1.85e-04\tError: 1.32e-02\tStd dev: 3.19e-02\tResample: 3\n",
        "Chose theta = [   4.20213423  310.            0.68241964]."
       ]
      },
      {
       "output_type": "stream",
       "stream": "stdout",
       "text": [
        "\tLoss: 1.08e-03\tError: 3.27e-02\tStd dev: 2.71e-02\tResample: 3\n",
        "Chose theta = [   1.5682138  293.15         0.7      ]."
       ]
      },
      {
       "output_type": "stream",
       "stream": "stdout",
       "text": [
        "\tLoss: 1.10e-03\tError: 3.30e-02\tStd dev: 2.69e-02\tResample: 3\n",
        "Chose theta = [   2.25581558  292.95248655    0.69998892]."
       ]
      },
      {
       "output_type": "stream",
       "stream": "stdout",
       "text": [
        "\tLoss: 6.81e-04\tError: 2.57e-02\tStd dev: 2.81e-02\tResample: 3\n",
        "Chose theta = [   5.29816962  270.            0.84820876]."
       ]
      },
      {
       "output_type": "stream",
       "stream": "stdout",
       "text": [
        "\tLoss: 4.13e-04\tError: 2.00e-02\tStd dev: 2.89e-02\tResample: 3\n",
        "Chose theta = [   1.56827859  293.15          0.7       ]."
       ]
      },
      {
       "output_type": "stream",
       "stream": "stdout",
       "text": [
        "\tLoss: 4.13e-04\tError: 2.00e-02\tStd dev: 2.89e-02\tResample: 3\n",
        "Chose theta = [   2.2070033  293.8109376    0.6965398]."
       ]
      },
      {
       "output_type": "stream",
       "stream": "stdout",
       "text": [
        "\tLoss: 1.52e-04\tError: 1.17e-02\tStd dev: 2.93e-02\tResample: 3\n",
        "Chose theta = [   3.05405598  295.67434956    0.69700587]."
       ]
      },
      {
       "output_type": "stream",
       "stream": "stdout",
       "text": [
        "\tLoss: 2.79e-05\tError: 3.16e-03\tStd dev: 2.98e-02\tResample: 4"
       ]
      },
      {
       "output_type": "stream",
       "stream": "stdout",
       "text": [
        "\n",
        "Chose theta = [   4.35722835  289.9699065     0.70699645]."
       ]
      },
      {
       "output_type": "stream",
       "stream": "stdout",
       "text": [
        "\tLoss: 1.09e-04\tError: 9.69e-03\tStd dev: 2.95e-02\tResample: 4\n",
        "0.903 \u00b1 0.00524\t"
       ]
      },
      {
       "output_type": "stream",
       "stream": "stdout",
       "text": [
        " 0.00253 \u00b1 0.00468\t 0.0941 \u00b1 0.0295\t 22.0 \u00b1 0.00555\t -1.02 \u00b1 0.00571\t\n",
        "[ 0.9        0.         0.0844303  1.02     ]\n",
        "Loss: 1.66e-02\tError: 1.29e-01\tStd dev: 1.34e-01\tResample: 1"
       ]
      },
      {
       "output_type": "stream",
       "stream": "stdout",
       "text": [
        "\n",
        "Loss: 1.27e-04\tError: 1.12e-02\tStd dev: 6.63e-02\tResample: 1\n",
        "Loss: 5.92e-06\tError: 2.28e-03\tStd dev: 5.16e-02\tResample: 2"
       ]
      },
      {
       "output_type": "stream",
       "stream": "stdout",
       "text": [
        "\n",
        "Loss: 3.81e-04\tError: 1.95e-02\tStd dev: 4.16e-02\tResample: 2\n",
        "Loss: 4.21e-04\tError: 2.05e-02\tStd dev: 4.08e-02\tResample: 2"
       ]
      },
      {
       "output_type": "stream",
       "stream": "stdout",
       "text": [
        "\n",
        "Loss: 1.21e-03\tError: 3.48e-02\tStd dev: 3.27e-02\tResample: 2\n",
        "Loss: 7.34e-04\tError: 2.71e-02\tStd dev: 3.44e-02\tResample: 2"
       ]
      },
      {
       "output_type": "stream",
       "stream": "stdout",
       "text": [
        "\n",
        "Loss: 1.28e-03\tError: 3.57e-02\tStd dev: 2.99e-02\tResample: 2\n",
        "Loss: 1.22e-03\tError: 3.50e-02\tStd dev: 3.00e-02\tResample: 2"
       ]
      },
      {
       "output_type": "stream",
       "stream": "stdout",
       "text": [
        "\n",
        "Loss: 4.23e-04\tError: 2.05e-02\tStd dev: 3.37e-02\tResample: 2\n",
        "Chose theta = [   0.90269638  287.4324297     0.70260124]."
       ]
      },
      {
       "output_type": "stream",
       "stream": "stdout",
       "text": [
        "\tLoss: 1.49e-05\tError: 3.12e-03\tStd dev: 3.59e-02\tResample: 2\n",
        "Chose theta = [   1.79227066  270.            0.72575083]."
       ]
      },
      {
       "output_type": "stream",
       "stream": "stdout",
       "text": [
        "\tLoss: 7.80e-06\tError: 1.50e-03\tStd dev: 3.47e-02\tResample: 2\n",
        "Chose theta = [   6.28318531  294.9178824     0.70649599]."
       ]
      },
      {
       "output_type": "stream",
       "stream": "stdout",
       "text": [
        "\tLoss: 1.68e-05\tError: 1.22e-04\tStd dev: 3.52e-02\tResample: 3"
       ]
      },
      {
       "output_type": "stream",
       "stream": "stdout",
       "text": [
        "\n",
        "Chose theta = [   1.56835277  293.15          0.7       ]."
       ]
      },
      {
       "output_type": "stream",
       "stream": "stdout",
       "text": [
        "\tLoss: 2.48e-05\tError: 1.48e-03\tStd dev: 3.46e-02\tResample: 3\n",
        "Chose theta = [   5.89580055  272.98260682    0.67917352]."
       ]
      },
      {
       "output_type": "stream",
       "stream": "stdout",
       "text": [
        "\tLoss: 2.61e-04\tError: 1.54e-02\tStd dev: 3.47e-02\tResample: 3\n",
        "Chose theta = [   5.44868924  293.55404481    0.70129604]."
       ]
      },
      {
       "output_type": "stream",
       "stream": "stdout",
       "text": [
        "\tLoss: 3.64e-04\tError: 1.83e-02\tStd dev: 3.41e-02\tResample: 3\n",
        "Chose theta = [   4.70955061  293.15          0.7       ]."
       ]
      },
      {
       "output_type": "stream",
       "stream": "stdout",
       "text": [
        "\tLoss: 2.79e-04\tError: 1.54e-02\tStd dev: 3.35e-02\tResample: 3\n",
        "Chose theta = [   1.56787194  293.15          0.7       ]."
       ]
      },
      {
       "output_type": "stream",
       "stream": "stdout",
       "text": [
        "\tLoss: 2.71e-04\tError: 1.51e-02\tStd dev: 3.33e-02\tResample: 3\n",
        "Chose theta = [   4.51461667  291.24797855    0.70214465]."
       ]
      },
      {
       "output_type": "stream",
       "stream": "stdout",
       "text": [
        "\tLoss: 2.14e-04\tError: 1.30e-02\tStd dev: 3.23e-02\tResample: 3\n",
        "Chose theta = [   1.56605122  293.15          0.7       ]."
       ]
      },
      {
       "output_type": "stream",
       "stream": "stdout",
       "text": [
        "\tLoss: 2.12e-04\tError: 1.30e-02\tStd dev: 3.23e-02\tResample: 3\n",
        "Chose theta = [   3.30279777  310.            0.79329867]."
       ]
      },
      {
       "output_type": "stream",
       "stream": "stdout",
       "text": [
        "\tLoss: 8.71e-05\tError: 6.33e-03\tStd dev: 3.14e-02\tResample: 3\n",
        "Chose theta = [   4.33537547  298.66990083    0.71841182]."
       ]
      },
      {
       "output_type": "stream",
       "stream": "stdout",
       "text": [
        "\tLoss: 1.36e-04\tError: 9.27e-03\tStd dev: 3.09e-02\tResample: 3\n",
        "0.901 \u00b1 0.0056\t"
       ]
      },
      {
       "output_type": "stream",
       "stream": "stdout",
       "text": [
        " -0.00618 \u00b1 0.00351\t 0.0937 \u00b1 0.0309\t 22.0 \u00b1 0.00501\t -1.02 \u00b1 0.00584\t\n",
        "[ 0.9        0.         0.0844303  1.02     ]\n",
        "x iiiiiiiiiiiiiiiiiiiiiiis 13\n",
        "Loss: 6.42e-03\tError: 8.01e-02\tStd dev: 1.12e-01\tResample: 1"
       ]
      },
      {
       "output_type": "stream",
       "stream": "stdout",
       "text": [
        "\n",
        "Loss: 9.21e-04\tError: 3.03e-02\tStd dev: 7.20e-02\tResample: 1\n",
        "Loss: 3.24e-05\tError: 5.32e-03\tStd dev: 5.08e-02\tResample: 1"
       ]
      },
      {
       "output_type": "stream",
       "stream": "stdout",
       "text": [
        "\n",
        "Loss: 2.46e-03\tError: 4.96e-02\tStd dev: 6.07e-02\tResample: 1\n",
        "Loss: 2.37e-03\tError: 4.86e-02\tStd dev: 5.98e-02\tResample: 1"
       ]
      },
      {
       "output_type": "stream",
       "stream": "stdout",
       "text": [
        "\n",
        "Loss: 4.69e-03\tError: 6.84e-02\tStd dev: 5.50e-02\tResample: 1\n",
        "Loss: 7.16e-03\tError: 8.46e-02\tStd dev: 4.98e-02\tResample: 1"
       ]
      },
      {
       "output_type": "stream",
       "stream": "stdout",
       "text": [
        "\n",
        "Loss: 4.65e-03\tError: 6.82e-02\tStd dev: 4.60e-02\tResample: 1\n",
        "Loss: 4.48e-03\tError: 6.68e-02\tStd dev: 4.42e-02\tResample: 2"
       ]
      },
      {
       "output_type": "stream",
       "stream": "stdout",
       "text": [
        "\n",
        "Loss: 2.48e-03\tError: 4.96e-02\tStd dev: 4.15e-02\tResample: 2\n",
        "Chose theta = [   2.61014666  310.            0.70287018]."
       ]
      },
      {
       "output_type": "stream",
       "stream": "stdout",
       "text": [
        "\tLoss: 3.26e-03\tError: 5.69e-02\tStd dev: 3.93e-02\tResample: 2\n",
        "Chose theta = [   3.13214889  293.15          0.7       ]."
       ]
      },
      {
       "output_type": "stream",
       "stream": "stdout",
       "text": [
        "\tLoss: 3.49e-03\tError: 5.88e-02\tStd dev: 3.88e-02\tResample: 2\n",
        "Chose theta = [   6.28318531  293.12625267    0.69998989]."
       ]
      },
      {
       "output_type": "stream",
       "stream": "stdout",
       "text": [
        "\tLoss: 3.32e-03\tError: 5.73e-02\tStd dev: 3.85e-02\tResample: 2\n",
        "Chose theta = [   4.70255545  293.15          0.7       ]."
       ]
      },
      {
       "output_type": "stream",
       "stream": "stdout",
       "text": [
        "\tLoss: 3.37e-03\tError: 5.77e-02\tStd dev: 3.83e-02\tResample: 2\n",
        "Chose theta = [   2.31419839  287.02263389    0.68944944]."
       ]
      },
      {
       "output_type": "stream",
       "stream": "stdout",
       "text": [
        "\tLoss: 2.85e-03\tError: 5.30e-02\tStd dev: 3.68e-02\tResample: 2\n",
        "Chose theta = [   1.45575041  270.            0.67804645]."
       ]
      },
      {
       "output_type": "stream",
       "stream": "stdout",
       "text": [
        "\tLoss: 2.24e-03\tError: 4.68e-02\tStd dev: 3.54e-02\tResample: 2\n",
        "Chose theta = [   4.70510321  293.15          0.7       ]."
       ]
      },
      {
       "output_type": "stream",
       "stream": "stdout",
       "text": [
        "\tLoss: 2.20e-03\tError: 4.63e-02\tStd dev: 3.59e-02\tResample: 2\n",
        "Chose theta = [   1.56314159  293.15          0.7       ]."
       ]
      },
      {
       "output_type": "stream",
       "stream": "stdout",
       "text": [
        "\tLoss: 2.24e-03\tError: 4.68e-02\tStd dev: 3.57e-02\tResample: 2\n",
        "Chose theta = [   1.56652499  293.15          0.7       ]."
       ]
      },
      {
       "output_type": "stream",
       "stream": "stdout",
       "text": [
        "\tLoss: 2.26e-03\tError: 4.71e-02\tStd dev: 3.57e-02\tResample: 2\n",
        "Chose theta = [   4.15796661  270.            0.68490814]."
       ]
      },
      {
       "output_type": "stream",
       "stream": "stdout",
       "text": [
        "\tLoss: 2.25e-03\tError: 4.70e-02\tStd dev: 3.48e-02\tResample: 2\n",
        "Chose theta = [   1.66154083  270.            0.63395594]."
       ]
      },
      {
       "output_type": "stream",
       "stream": "stdout",
       "text": [
        "\tLoss: 3.28e-03\tError: 5.68e-02\tStd dev: 3.36e-02\tResample: 2\n",
        "Chose theta = [   2.75500627  291.21347617    0.70150619]."
       ]
      },
      {
       "output_type": "stream",
       "stream": "stdout",
       "text": [
        "\tLoss: 3.57e-03\tError: 5.93e-02\tStd dev: 3.25e-02\tResample: 2\n",
        "Chose theta = [   1.56284286  293.15          0.7       ]."
       ]
      },
      {
       "output_type": "stream",
       "stream": "stdout",
       "text": [
        "\tLoss: 3.67e-03\tError: 6.01e-02\tStd dev: 3.22e-02\tResample: 2\n",
        "0.904 \u00b1 0.00497\t"
       ]
      },
      {
       "output_type": "stream",
       "stream": "stdout",
       "text": [
        " 0.00632 \u00b1 0.00321\t 0.145 \u00b1 0.0322\t 22.0 \u00b1 0.00573\t -1.02 \u00b1 0.00575\t\n",
        "[ 0.9        0.         0.0844303  1.02     ]\n",
        "Loss: 1.69e-02\tError: 1.30e-01\tStd dev: 1.35e-01\tResample: 1"
       ]
      },
      {
       "output_type": "stream",
       "stream": "stdout",
       "text": [
        "\n",
        "Loss: 3.14e-03\tError: 5.60e-02\tStd dev: 8.24e-02\tResample: 1\n",
        "Loss: 4.12e-05\tError: 6.38e-03\tStd dev: 5.47e-02\tResample: 2"
       ]
      },
      {
       "output_type": "stream",
       "stream": "stdout",
       "text": [
        "\n",
        "Loss: 7.44e-04\tError: 2.73e-02\tStd dev: 5.68e-02\tResample: 2\n",
        "Loss: 4.60e-04\tError: 2.14e-02\tStd dev: 5.37e-02\tResample: 2"
       ]
      },
      {
       "output_type": "stream",
       "stream": "stdout",
       "text": [
        "\n",
        "Loss: 1.47e-03\tError: 3.83e-02\tStd dev: 5.17e-02\tResample: 2\n",
        "Loss: 2.28e-04\tError: 1.50e-02\tStd dev: 4.43e-02\tResample: 2"
       ]
      },
      {
       "output_type": "stream",
       "stream": "stdout",
       "text": [
        "\n",
        "Loss: 5.28e-05\tError: 7.07e-03\tStd dev: 4.05e-02\tResample: 2\n",
        "Loss: 3.91e-05\tError: 5.40e-03\tStd dev: 4.10e-02\tResample: 2"
       ]
      },
      {
       "output_type": "stream",
       "stream": "stdout",
       "text": [
        "\n",
        "Loss: 1.40e-04\tError: 1.16e-02\tStd dev: 3.60e-02\tResample: 2\n",
        "Chose theta = [   6.28318531  293.12214012    0.69997667]."
       ]
      },
      {
       "output_type": "stream",
       "stream": "stdout",
       "text": [
        "\tLoss: 9.58e-05\tError: 8.93e-03\tStd dev: 3.71e-02\tResample: 2\n",
        "Chose theta = [   6.28318531  288.60904326    0.66387929]."
       ]
      },
      {
       "output_type": "stream",
       "stream": "stdout",
       "text": [
        "\tLoss: 8.05e-05\tError: 7.68e-03\tStd dev: 3.71e-02\tResample: 3"
       ]
      },
      {
       "output_type": "stream",
       "stream": "stdout",
       "text": [
        "\n",
        "Chose theta = [   2.82743255  296.96282853    1.        ]."
       ]
      },
      {
       "output_type": "stream",
       "stream": "stdout",
       "text": [
        "\tLoss: 4.35e-05\tError: 4.84e-03\tStd dev: 3.65e-02\tResample: 3\n",
        "Chose theta = [   3.13993402  293.15          0.7       ]."
       ]
      },
      {
       "output_type": "stream",
       "stream": "stdout",
       "text": [
        "\tLoss: 4.49e-05\tError: 5.13e-03\tStd dev: 3.63e-02\tResample: 3\n",
        "Chose theta = [   6.28318531  293.14293887    0.70004106]."
       ]
      },
      {
       "output_type": "stream",
       "stream": "stdout",
       "text": [
        "\tLoss: 6.37e-05\tError: 7.27e-03\tStd dev: 3.55e-02\tResample: 3\n",
        "Chose theta = [   6.28318531  292.41156944    0.70618705]."
       ]
      },
      {
       "output_type": "stream",
       "stream": "stdout",
       "text": [
        "\tLoss: 6.91e-05\tError: 7.70e-03\tStd dev: 3.53e-02\tResample: 3\n",
        "Chose theta = [   3.26014634  291.88612348    0.69675998]."
       ]
      },
      {
       "output_type": "stream",
       "stream": "stdout",
       "text": [
        "\tLoss: 3.20e-05\tError: 3.70e-03\tStd dev: 3.61e-02\tResample: 3\n",
        "Chose theta = [   4.09063229  293.13613632    0.70196391]."
       ]
      },
      {
       "output_type": "stream",
       "stream": "stdout",
       "text": [
        "\tLoss: 3.01e-05\tError: 3.41e-03\tStd dev: 3.48e-02\tResample: 3\n",
        "Chose theta = [   3.13896786  293.15          0.7       ]."
       ]
      },
      {
       "output_type": "stream",
       "stream": "stdout",
       "text": [
        "\tLoss: 2.90e-05\tError: 3.34e-03\tStd dev: 3.47e-02\tResample: 3\n",
        "Chose theta = [   6.28318531  293.17279356    0.70002444]."
       ]
      },
      {
       "output_type": "stream",
       "stream": "stdout",
       "text": [
        "\tLoss: 3.13e-05\tError: 3.50e-03\tStd dev: 3.48e-02\tResample: 3\n",
        "Chose theta = [   2.05472227  270.            0.66517433]."
       ]
      },
      {
       "output_type": "stream",
       "stream": "stdout",
       "text": [
        "\tLoss: 1.92e-04\tError: 1.31e-02\tStd dev: 3.44e-02\tResample: 3\n",
        "Chose theta = [   6.28318531  293.13809309    0.70002121]."
       ]
      },
      {
       "output_type": "stream",
       "stream": "stdout",
       "text": [
        "\tLoss: 1.53e-04\tError: 1.17e-02\tStd dev: 3.41e-02\tResample: 3\n",
        "Chose theta = [   5.17506816  292.00820005    0.70117968]."
       ]
      },
      {
       "output_type": "stream",
       "stream": "stdout",
       "text": [
        "\tLoss: 1.57e-04\tError: 1.18e-02\tStd dev: 3.33e-02\tResample: 3\n",
        "0.901 \u00b1 0.00548\t"
       ]
      },
      {
       "output_type": "stream",
       "stream": "stdout",
       "text": [
        " -0.00366 \u00b1 0.00425\t 0.0963 \u00b1 0.0333\t 22.0 \u00b1 0.00553\t -1.02 \u00b1 0.00578\t\n",
        "[ 0.9        0.         0.0844303  1.02     ]\n",
        "x iiiiiiiiiiiiiiiiiiiiiiis 14\n",
        "Loss: 3.73e-03\tError: 6.10e-02\tStd dev: 1.02e-01\tResample: 1"
       ]
      },
      {
       "output_type": "stream",
       "stream": "stdout",
       "text": [
        "\n",
        "Loss: 5.80e-04\tError: 2.40e-02\tStd dev: 6.88e-02\tResample: 1\n",
        "Loss: 5.86e-04\tError: 2.41e-02\tStd dev: 6.02e-02\tResample: 1"
       ]
      },
      {
       "output_type": "stream",
       "stream": "stdout",
       "text": [
        "\n",
        "Loss: 1.90e-04\tError: 1.36e-02\tStd dev: 5.31e-02\tResample: 1\n",
        "Loss: 2.98e-04\tError: 1.69e-02\tStd dev: 5.45e-02\tResample: 1"
       ]
      },
      {
       "output_type": "stream",
       "stream": "stdout",
       "text": [
        "\n",
        "Loss: 7.04e-04\tError: 2.62e-02\tStd dev: 5.17e-02\tResample: 1\n",
        "Loss: 2.75e-03\tError: 5.22e-02\tStd dev: 4.95e-02\tResample: 1"
       ]
      },
      {
       "output_type": "stream",
       "stream": "stdout",
       "text": [
        "\n",
        "Loss: 3.33e-03\tError: 5.75e-02\tStd dev: 4.61e-02\tResample: 2"
       ]
      },
      {
       "output_type": "stream",
       "stream": "stdout",
       "text": [
        "\n",
        "Loss: 3.33e-03\tError: 5.75e-02\tStd dev: 4.59e-02\tResample: 2\n",
        "Loss: 2.40e-03\tError: 4.87e-02\tStd dev: 4.30e-02\tResample: 2"
       ]
      },
      {
       "output_type": "stream",
       "stream": "stdout",
       "text": [
        "\n",
        "Chose theta = [   5.88584733  288.42086346    0.69259149]."
       ]
      },
      {
       "output_type": "stream",
       "stream": "stdout",
       "text": [
        "\tLoss: 1.39e-03\tError: 3.69e-02\tStd dev: 4.06e-02\tResample: 2\n",
        "Chose theta = [   3.13280492  293.15          0.7       ]."
       ]
      },
      {
       "output_type": "stream",
       "stream": "stdout",
       "text": [
        "\tLoss: 1.35e-03\tError: 3.65e-02\tStd dev: 4.06e-02\tResample: 2\n",
        "Chose theta = [   1.21925016  270.            0.66960719]."
       ]
      },
      {
       "output_type": "stream",
       "stream": "stdout",
       "text": [
        "\tLoss: 2.98e-03\tError: 5.44e-02\tStd dev: 3.88e-02\tResample: 2\n",
        "Chose theta = [   3.37220018  292.68367801    0.70638773]."
       ]
      },
      {
       "output_type": "stream",
       "stream": "stdout",
       "text": [
        "\tLoss: 1.82e-03\tError: 4.24e-02\tStd dev: 3.67e-02\tResample: 2\n",
        "Chose theta = [   2.36765766  310.            0.83056974]."
       ]
      },
      {
       "output_type": "stream",
       "stream": "stdout",
       "text": [
        "\tLoss: 1.15e-03\tError: 3.36e-02\tStd dev: 3.50e-02\tResample: 2\n",
        "Chose theta = [   4.7045453  293.15         0.7      ]."
       ]
      },
      {
       "output_type": "stream",
       "stream": "stdout",
       "text": [
        "\tLoss: 1.14e-03\tError: 3.34e-02\tStd dev: 3.50e-02\tResample: 2\n",
        "Chose theta = [   0.          277.00974755    0.5033591 ]."
       ]
      },
      {
       "output_type": "stream",
       "stream": "stdout",
       "text": [
        "\tLoss: 9.99e-04\tError: 3.11e-02\tStd dev: 3.46e-02\tResample: 2\n",
        "Chose theta = [  5.64185928e-02   3.07307216e+02   6.76367792e-01]."
       ]
      },
      {
       "output_type": "stream",
       "stream": "stdout",
       "text": [
        "\tLoss: 2.64e-03\tError: 5.11e-02\tStd dev: 3.32e-02\tResample: 2\n",
        "Chose theta = [   2.6059772   270.            0.69324301]."
       ]
      },
      {
       "output_type": "stream",
       "stream": "stdout",
       "text": [
        "\tLoss: 3.93e-03\tError: 6.25e-02\tStd dev: 3.22e-02\tResample: 2\n",
        "Chose theta = [   1.8699739   270.            0.56758988]."
       ]
      },
      {
       "output_type": "stream",
       "stream": "stdout",
       "text": [
        "\tLoss: 4.01e-03\tError: 6.32e-02\tStd dev: 3.16e-02\tResample: 2\n",
        "Chose theta = [   6.27393846  293.15          0.7       ]."
       ]
      },
      {
       "output_type": "stream",
       "stream": "stdout",
       "text": [
        "\tLoss: 3.98e-03\tError: 6.29e-02\tStd dev: 3.16e-02\tResample: 2\n",
        "Chose theta = [   3.13552329  293.15          0.7       ]."
       ]
      },
      {
       "output_type": "stream",
       "stream": "stdout",
       "text": [
        "\tLoss: 3.97e-03\tError: 6.29e-02\tStd dev: 3.16e-02\tResample: 2\n",
        "Chose theta = [   4.48077998  293.91171652    0.70212553]."
       ]
      },
      {
       "output_type": "stream",
       "stream": "stdout",
       "text": [
        "\tLoss: 2.19e-03\tError: 4.66e-02\tStd dev: 3.05e-02\tResample: 3"
       ]
      },
      {
       "output_type": "stream",
       "stream": "stdout",
       "text": [
        "\n",
        "Chose theta = [   3.13511201  293.15          0.7       ]."
       ]
      },
      {
       "output_type": "stream",
       "stream": "stdout",
       "text": [
        "\tLoss: 2.21e-03\tError: 4.68e-02\tStd dev: 3.04e-02\tResample: 3\n",
        "0.901 \u00b1 0.00545\t"
       ]
      },
      {
       "output_type": "stream",
       "stream": "stdout",
       "text": [
        " 0.00357 \u00b1 0.0042\t 0.131 \u00b1 0.0304\t 22.0 \u00b1 0.005\t -1.02 \u00b1 0.00575\t\n",
        "[ 0.9        0.         0.0844303  1.02     ]\n",
        "Loss: 2.65e-02\tError: 1.63e-01\tStd dev: 1.45e-01\tResample: 1"
       ]
      },
      {
       "output_type": "stream",
       "stream": "stdout",
       "text": [
        "\n",
        "Loss: 3.35e-06\tError: 1.74e-03\tStd dev: 6.04e-02\tResample: 2"
       ]
      },
      {
       "output_type": "stream",
       "stream": "stdout",
       "text": [
        "\n",
        "Loss: 1.94e-03\tError: 4.40e-02\tStd dev: 6.69e-02\tResample: 2\n",
        "Loss: 3.14e-03\tError: 5.60e-02\tStd dev: 6.29e-02\tResample: 2"
       ]
      },
      {
       "output_type": "stream",
       "stream": "stdout",
       "text": [
        "\n",
        "Loss: 3.01e-03\tError: 5.48e-02\tStd dev: 6.19e-02\tResample: 2\n",
        "Loss: 8.39e-04\tError: 2.89e-02\tStd dev: 5.23e-02\tResample: 2"
       ]
      },
      {
       "output_type": "stream",
       "stream": "stdout",
       "text": [
        "\n",
        "Loss: 1.53e-03\tError: 3.91e-02\tStd dev: 4.88e-02\tResample: 2\n",
        "Loss: 1.14e-04\tError: 1.05e-02\tStd dev: 4.22e-02\tResample: 2"
       ]
      },
      {
       "output_type": "stream",
       "stream": "stdout",
       "text": [
        "\n",
        "Loss: 9.87e-05\tError: 9.48e-03\tStd dev: 4.25e-02\tResample: 2\n",
        "Loss: 5.74e-05\tError: 6.99e-03\tStd dev: 4.02e-02\tResample: 2"
       ]
      },
      {
       "output_type": "stream",
       "stream": "stdout",
       "text": [
        "\n",
        "Chose theta = [   6.27787803  293.15          0.7       ]."
       ]
      },
      {
       "output_type": "stream",
       "stream": "stdout",
       "text": [
        "\tLoss: 6.28e-05\tError: 7.58e-03\tStd dev: 3.99e-02\tResample: 2\n",
        "Chose theta = [   4.7043254  293.15         0.7      ]."
       ]
      },
      {
       "output_type": "stream",
       "stream": "stdout",
       "text": [
        "\tLoss: 1.05e-04\tError: 9.67e-03\tStd dev: 3.95e-02\tResample: 3"
       ]
      },
      {
       "output_type": "stream",
       "stream": "stdout",
       "text": [
        "\n",
        "Chose theta = [   1.56884455  293.15          0.7       ]."
       ]
      },
      {
       "output_type": "stream",
       "stream": "stdout",
       "text": [
        "\tLoss: 1.47e-04\tError: 1.19e-02\tStd dev: 4.03e-02\tResample: 3\n",
        "Chose theta = [   1.78548156  282.85574446    0.67731386]."
       ]
      },
      {
       "output_type": "stream",
       "stream": "stdout",
       "text": [
        "\tLoss: 4.78e-04\tError: 2.17e-02\tStd dev: 3.91e-02\tResample: 3\n",
        "Chose theta = [   4.7077641  293.15         0.7      ]."
       ]
      },
      {
       "output_type": "stream",
       "stream": "stdout",
       "text": [
        "\tLoss: 4.57e-04\tError: 2.11e-02\tStd dev: 3.86e-02\tResample: 3\n",
        "Chose theta = [   2.88647149  293.31807623    0.6953448 ]."
       ]
      },
      {
       "output_type": "stream",
       "stream": "stdout",
       "text": [
        "\tLoss: 8.12e-04\tError: 2.82e-02\tStd dev: 3.75e-02\tResample: 3\n",
        "Chose theta = [   1.5671939  293.15         0.7      ]."
       ]
      },
      {
       "output_type": "stream",
       "stream": "stdout",
       "text": [
        "\tLoss: 8.62e-04\tError: 2.92e-02\tStd dev: 3.78e-02\tResample: 3\n",
        "Chose theta = [   1.48520769  310.            0.56292397]."
       ]
      },
      {
       "output_type": "stream",
       "stream": "stdout",
       "text": [
        "\tLoss: 1.37e-03\tError: 3.69e-02\tStd dev: 3.63e-02\tResample: 3\n",
        "Chose theta = [   2.23308078  283.61449403    0.70294988]."
       ]
      },
      {
       "output_type": "stream",
       "stream": "stdout",
       "text": [
        "\tLoss: 9.90e-04\tError: 3.12e-02\tStd dev: 3.46e-02\tResample: 3\n",
        "Chose theta = [   3.13487993  293.15          0.7       ]."
       ]
      },
      {
       "output_type": "stream",
       "stream": "stdout",
       "text": [
        "\tLoss: 1.00e-03\tError: 3.14e-02\tStd dev: 3.46e-02\tResample: 3\n",
        "Chose theta = [   4.70552159  293.15          0.7       ]."
       ]
      },
      {
       "output_type": "stream",
       "stream": "stdout",
       "text": [
        "\tLoss: 1.02e-03\tError: 3.17e-02\tStd dev: 3.44e-02\tResample: 3\n",
        "Chose theta = [   1.56424602  293.15          0.7       ]."
       ]
      },
      {
       "output_type": "stream",
       "stream": "stdout",
       "text": [
        "\tLoss: 1.02e-03\tError: 3.16e-02\tStd dev: 3.44e-02\tResample: 3\n",
        "Chose theta = [   4.71043397  293.15          0.7       ]."
       ]
      },
      {
       "output_type": "stream",
       "stream": "stdout",
       "text": [
        "\tLoss: 1.03e-03\tError: 3.18e-02\tStd dev: 3.44e-02\tResample: 3\n",
        "Chose theta = [   4.94062589  310.            0.69869279]."
       ]
      },
      {
       "output_type": "stream",
       "stream": "stdout",
       "text": [
        "\tLoss: 7.21e-04\tError: 2.66e-02\tStd dev: 3.33e-02\tResample: 3\n",
        "0.9 \u00b1 0.00546\t"
       ]
      },
      {
       "output_type": "stream",
       "stream": "stdout",
       "text": [
        " -0.00385 \u00b1 0.00397\t 0.111 \u00b1 0.0333\t 22.0 \u00b1 0.00566\t -1.02 \u00b1 0.00571\t\n",
        "[ 0.9        0.         0.0844303  1.02     ]\n",
        "x iiiiiiiiiiiiiiiiiiiiiiis 15\n",
        "Loss: 1.26e-01\tError: 3.55e-01\tStd dev: 1.67e-01\tResample: 1"
       ]
      },
      {
       "output_type": "stream",
       "stream": "stdout",
       "text": [
        "\n",
        "Loss: 3.33e-03\tError: 5.76e-02\tStd dev: 8.71e-02\tResample: 2"
       ]
      },
      {
       "output_type": "stream",
       "stream": "stdout",
       "text": [
        "\n",
        "Loss: 7.35e-04\tError: 2.70e-02\tStd dev: 3.89e-02\tResample: 3"
       ]
      },
      {
       "output_type": "stream",
       "stream": "stdout",
       "text": [
        "\n",
        "Loss: 8.36e-04\tError: 2.88e-02\tStd dev: 3.62e-02\tResample: 3\n",
        "Loss: 9.55e-04\tError: 3.07e-02\tStd dev: 3.47e-02\tResample: 3"
       ]
      },
      {
       "output_type": "stream",
       "stream": "stdout",
       "text": [
        "\n",
        "Loss: 2.98e-04\tError: 1.71e-02\tStd dev: 3.83e-02\tResample: 3\n",
        "Loss: 2.41e-06\tError: 3.44e-04\tStd dev: 4.09e-02\tResample: 3"
       ]
      },
      {
       "output_type": "stream",
       "stream": "stdout",
       "text": [
        "\n",
        "Loss: 2.33e-04\tError: 1.53e-02\tStd dev: 4.14e-02\tResample: 4"
       ]
      },
      {
       "output_type": "stream",
       "stream": "stdout",
       "text": [
        "\n",
        "Loss: 2.59e-04\tError: 1.61e-02\tStd dev: 4.11e-02\tResample: 4\n",
        "Loss: 7.55e-04\tError: 2.75e-02\tStd dev: 4.04e-02\tResample: 4"
       ]
      },
      {
       "output_type": "stream",
       "stream": "stdout",
       "text": [
        "\n",
        "Chose theta = [   2.891659    293.24539484    0.69156817]."
       ]
      },
      {
       "output_type": "stream",
       "stream": "stdout",
       "text": [
        "\tLoss: 3.60e-04\tError: 1.90e-02\tStd dev: 3.80e-02\tResample: 4\n",
        "Chose theta = [   6.00482236  291.75329818    0.70090219]."
       ]
      },
      {
       "output_type": "stream",
       "stream": "stdout",
       "text": [
        "\tLoss: 2.52e-04\tError: 1.58e-02\tStd dev: 3.72e-02\tResample: 4\n",
        "Chose theta = [   1.9299501   310.            0.75287464]."
       ]
      },
      {
       "output_type": "stream",
       "stream": "stdout",
       "text": [
        "\tLoss: 1.25e-03\tError: 3.53e-02\tStd dev: 3.65e-02\tResample: 4\n",
        "Chose theta = [   1.5692832  293.15         0.7      ]."
       ]
      },
      {
       "output_type": "stream",
       "stream": "stdout",
       "text": [
        "\tLoss: 1.30e-03\tError: 3.60e-02\tStd dev: 3.65e-02\tResample: 4\n",
        "Chose theta = [   4.82474754  295.04305423    0.69877046]."
       ]
      },
      {
       "output_type": "stream",
       "stream": "stdout",
       "text": [
        "\tLoss: 1.49e-04\tError: 1.18e-02\tStd dev: 3.44e-02\tResample: 4\n",
        "Chose theta = [   5.60776523  310.            0.74636649]."
       ]
      },
      {
       "output_type": "stream",
       "stream": "stdout",
       "text": [
        "\tLoss: 5.15e-04\tError: 2.26e-02\tStd dev: 3.41e-02\tResample: 4\n",
        "Chose theta = [   1.56596128  293.15          0.7       ]."
       ]
      },
      {
       "output_type": "stream",
       "stream": "stdout",
       "text": [
        "\tLoss: 5.27e-04\tError: 2.29e-02\tStd dev: 3.38e-02\tResample: 4\n",
        "Chose theta = [   2.92730798  290.02371825    0.714442  ]."
       ]
      },
      {
       "output_type": "stream",
       "stream": "stdout",
       "text": [
        "\tLoss: 1.11e-04\tError: 1.03e-02\tStd dev: 3.20e-02\tResample: 4\n",
        "Chose theta = [   1.56666663  293.15          0.7       ]."
       ]
      },
      {
       "output_type": "stream",
       "stream": "stdout",
       "text": [
        "\tLoss: 1.12e-04\tError: 1.03e-02\tStd dev: 3.21e-02\tResample: 4\n",
        "Chose theta = [   5.62093606  293.29025245    0.69994859]."
       ]
      },
      {
       "output_type": "stream",
       "stream": "stdout",
       "text": [
        "\tLoss: 2.68e-05\tError: 4.09e-03\tStd dev: 3.11e-02\tResample: 4\n",
        "Chose theta = [   5.67839777  310.            0.72171059]."
       ]
      },
      {
       "output_type": "stream",
       "stream": "stdout",
       "text": [
        "\tLoss: 1.66e-05\tError: 2.15e-03\tStd dev: 3.05e-02\tResample: 4\n",
        "Chose theta = [   6.2754962  293.15         0.7      ]."
       ]
      },
      {
       "output_type": "stream",
       "stream": "stdout",
       "text": [
        "\tLoss: 1.72e-05\tError: 2.33e-03\tStd dev: 3.04e-02\tResample: 4\n",
        "Chose theta = [   0.92543265  270.            0.75741367]."
       ]
      },
      {
       "output_type": "stream",
       "stream": "stdout",
       "text": [
        "\tLoss: 2.21e-04\tError: 1.44e-02\tStd dev: 3.04e-02\tResample: 4\n",
        "Chose theta = [   5.18942553  294.72650387    0.69654491]."
       ]
      },
      {
       "output_type": "stream",
       "stream": "stdout",
       "text": [
        "\tLoss: 2.65e-04\tError: 1.59e-02\tStd dev: 3.00e-02\tResample: 4\n",
        "Chose theta = [   3.09918218  270.            0.66426706]."
       ]
      },
      {
       "output_type": "stream",
       "stream": "stdout",
       "text": [
        "\tLoss: 1.88e-04\tError: 1.32e-02\tStd dev: 2.93e-02\tResample: 4\n",
        "0.899 \u00b1 0.00544\t"
       ]
      },
      {
       "output_type": "stream",
       "stream": "stdout",
       "text": [
        " -0.000829 \u00b1 0.00466\t 0.0977 \u00b1 0.0293\t 22.0 \u00b1 0.00501\t -1.02 \u00b1 0.00585\t\n",
        "[ 0.9        0.         0.0844303  1.02     ]\n",
        "Loss: 1.03e-02\tError: 1.02e-01\tStd dev: 1.23e-01\tResample: 1"
       ]
      },
      {
       "output_type": "stream",
       "stream": "stdout",
       "text": [
        "\n",
        "Loss: 5.61e-03\tError: 7.49e-02\tStd dev: 8.61e-02\tResample: 1\n",
        "Loss: 2.28e-02\tError: 1.51e-01\tStd dev: 7.50e-02\tResample: 1"
       ]
      },
      {
       "output_type": "stream",
       "stream": "stdout",
       "text": [
        "\n",
        "Loss: 1.33e-02\tError: 1.15e-01\tStd dev: 6.64e-02\tResample: 1\n",
        "Loss: 8.89e-03\tError: 9.43e-02\tStd dev: 6.15e-02\tResample: 1"
       ]
      },
      {
       "output_type": "stream",
       "stream": "stdout",
       "text": [
        "\n",
        "Loss: 6.59e-03\tError: 8.11e-02\tStd dev: 5.40e-02\tResample: 2"
       ]
      },
      {
       "output_type": "stream",
       "stream": "stdout",
       "text": [
        "\n",
        "Loss: 2.81e-03\tError: 5.29e-02\tStd dev: 4.78e-02\tResample: 2\n",
        "Loss: 4.88e-03\tError: 6.98e-02\tStd dev: 4.51e-02\tResample: 2"
       ]
      },
      {
       "output_type": "stream",
       "stream": "stdout",
       "text": [
        "\n",
        "Loss: 4.88e-03\tError: 6.98e-02\tStd dev: 4.50e-02\tResample: 2\n",
        "Loss: 2.92e-03\tError: 5.40e-02\tStd dev: 4.23e-02\tResample: 2"
       ]
      },
      {
       "output_type": "stream",
       "stream": "stdout",
       "text": [
        "\n",
        "Chose theta = [   5.22205366  270.            0.65262873]."
       ]
      },
      {
       "output_type": "stream",
       "stream": "stdout",
       "text": [
        "\tLoss: 2.16e-03\tError: 4.65e-02\tStd dev: 3.99e-02\tResample: 2\n",
        "Chose theta = [   1.56175768  293.15          0.7       ]."
       ]
      },
      {
       "output_type": "stream",
       "stream": "stdout",
       "text": [
        "\tLoss: 2.16e-03\tError: 4.64e-02\tStd dev: 3.99e-02\tResample: 2\n",
        "Chose theta = [   1.56572068  293.15          0.7       ]."
       ]
      },
      {
       "output_type": "stream",
       "stream": "stdout",
       "text": [
        "\tLoss: 1.92e-03\tError: 4.36e-02\tStd dev: 3.87e-02\tResample: 2\n",
        "Chose theta = [   4.76324821  288.58872494    0.70420033]."
       ]
      },
      {
       "output_type": "stream",
       "stream": "stdout",
       "text": [
        "\tLoss: 1.90e-03\tError: 4.33e-02\tStd dev: 3.70e-02\tResample: 2\n",
        "Chose theta = [   1.5628318  293.15         0.7      ]."
       ]
      },
      {
       "output_type": "stream",
       "stream": "stdout",
       "text": [
        "\tLoss: 1.88e-03\tError: 4.31e-02\tStd dev: 3.71e-02\tResample: 2\n",
        "Chose theta = [   1.56293881  293.15          0.7       ]."
       ]
      },
      {
       "output_type": "stream",
       "stream": "stdout",
       "text": [
        "\tLoss: 1.90e-03\tError: 4.33e-02\tStd dev: 3.70e-02\tResample: 2\n",
        "Chose theta = [   1.56665372  293.15          0.7       ]."
       ]
      },
      {
       "output_type": "stream",
       "stream": "stdout",
       "text": [
        "\tLoss: 1.88e-03\tError: 4.30e-02\tStd dev: 3.69e-02\tResample: 3"
       ]
      },
      {
       "output_type": "stream",
       "stream": "stdout",
       "text": [
        "\n",
        "Chose theta = [   4.70382978  293.15          0.7       ]."
       ]
      },
      {
       "output_type": "stream",
       "stream": "stdout",
       "text": [
        "\tLoss: 1.90e-03\tError: 4.33e-02\tStd dev: 3.68e-02\tResample: 3\n",
        "Chose theta = [   3.91568201  293.25611006    0.69945142]."
       ]
      },
      {
       "output_type": "stream",
       "stream": "stdout",
       "text": [
        "\tLoss: 2.26e-03\tError: 4.73e-02\tStd dev: 3.54e-02\tResample: 3\n",
        "Chose theta = [   3.39271056  295.41434699    0.71018688]."
       ]
      },
      {
       "output_type": "stream",
       "stream": "stdout",
       "text": [
        "\tLoss: 2.68e-03\tError: 5.15e-02\tStd dev: 3.45e-02\tResample: 3\n",
        "Chose theta = [   1.56689004  293.15          0.7       ]."
       ]
      },
      {
       "output_type": "stream",
       "stream": "stdout",
       "text": [
        "\tLoss: 2.71e-03\tError: 5.18e-02\tStd dev: 3.46e-02\tResample: 3\n",
        "Chose theta = [   0.36154638  294.37092324    0.70444617]."
       ]
      },
      {
       "output_type": "stream",
       "stream": "stdout",
       "text": [
        "\tLoss: 3.15e-03\tError: 5.59e-02\tStd dev: 3.31e-02\tResample: 3\n",
        "Chose theta = [   1.56295078  293.15          0.7       ]."
       ]
      },
      {
       "output_type": "stream",
       "stream": "stdout",
       "text": [
        "\tLoss: 3.10e-03\tError: 5.55e-02\tStd dev: 3.33e-02\tResample: 3\n",
        "Chose theta = [   4.70287111  293.15          0.7       ]."
       ]
      },
      {
       "output_type": "stream",
       "stream": "stdout",
       "text": [
        "\tLoss: 2.91e-03\tError: 5.39e-02\tStd dev: 3.35e-02\tResample: 3\n",
        "Chose theta = [   5.64731913  292.74783145    0.70030003]."
       ]
      },
      {
       "output_type": "stream",
       "stream": "stdout",
       "text": [
        "\tLoss: 4.21e-03\tError: 6.48e-02\tStd dev: 3.28e-02\tResample: 4"
       ]
      },
      {
       "output_type": "stream",
       "stream": "stdout",
       "text": [
        "\n",
        "0.903 \u00b1 0.00521\t"
       ]
      },
      {
       "output_type": "stream",
       "stream": "stdout",
       "text": [
        " -0.00115 \u00b1 0.00463\t 0.149 \u00b1 0.0328\t 22.0 \u00b1 0.00557\t -1.02 \u00b1 0.00575\t\n",
        "[ 0.9        0.         0.0844303  1.02     ]\n",
        "x iiiiiiiiiiiiiiiiiiiiiiis 16\n",
        "Loss: 2.61e-02\tError: 1.62e-01\tStd dev: 1.46e-01\tResample: 1"
       ]
      },
      {
       "output_type": "stream",
       "stream": "stdout",
       "text": [
        "\n",
        "Loss: 7.77e-04\tError: 2.79e-02\tStd dev: 7.25e-02\tResample: 2"
       ]
      },
      {
       "output_type": "stream",
       "stream": "stdout",
       "text": [
        "\n",
        "Loss: 1.51e-03\tError: 3.89e-02\tStd dev: 6.55e-02\tResample: 2\n",
        "Loss: 4.62e-03\tError: 6.79e-02\tStd dev: 6.42e-02\tResample: 2"
       ]
      },
      {
       "output_type": "stream",
       "stream": "stdout",
       "text": [
        "\n",
        "Loss: 5.73e-03\tError: 7.57e-02\tStd dev: 6.56e-02\tResample: 2\n",
        "Loss: 1.79e-03\tError: 4.23e-02\tStd dev: 5.55e-02\tResample: 2"
       ]
      },
      {
       "output_type": "stream",
       "stream": "stdout",
       "text": [
        "\n",
        "Loss: 2.44e-04\tError: 1.56e-02\tStd dev: 4.67e-02\tResample: 2\n",
        "Loss: 2.55e-03\tError: 5.05e-02\tStd dev: 4.74e-02\tResample: 2"
       ]
      },
      {
       "output_type": "stream",
       "stream": "stdout",
       "text": [
        "\n",
        "Loss: 2.54e-03\tError: 5.04e-02\tStd dev: 4.78e-02\tResample: 2\n",
        "Loss: 9.85e-04\tError: 3.14e-02\tStd dev: 4.39e-02\tResample: 2"
       ]
      },
      {
       "output_type": "stream",
       "stream": "stdout",
       "text": [
        "\n",
        "Chose theta = [   4.70797187  293.15          0.7       ]."
       ]
      },
      {
       "output_type": "stream",
       "stream": "stdout",
       "text": [
        "\tLoss: 9.05e-04\tError: 3.00e-02\tStd dev: 4.28e-02\tResample: 2\n",
        "Chose theta = [   1.56679427  293.15          0.7       ]."
       ]
      },
      {
       "output_type": "stream",
       "stream": "stdout",
       "text": [
        "\tLoss: 8.77e-04\tError: 2.95e-02\tStd dev: 4.24e-02\tResample: 2\n",
        "Chose theta = [   3.56989754  298.57626173    0.71245673]."
       ]
      },
      {
       "output_type": "stream",
       "stream": "stdout",
       "text": [
        "\tLoss: 8.66e-04\tError: 2.93e-02\tStd dev: 4.22e-02\tResample: 2\n",
        "Chose theta = [   1.56740269  293.15          0.7       ]."
       ]
      },
      {
       "output_type": "stream",
       "stream": "stdout",
       "text": [
        "\tLoss: 9.75e-04\tError: 3.12e-02\tStd dev: 4.32e-02\tResample: 2\n",
        "Chose theta = [   1.56643441  293.15          0.7       ]."
       ]
      },
      {
       "output_type": "stream",
       "stream": "stdout",
       "text": [
        "\tLoss: 9.88e-04\tError: 3.14e-02\tStd dev: 4.34e-02\tResample: 2\n",
        "Chose theta = [   5.02426286  270.            0.66315953]."
       ]
      },
      {
       "output_type": "stream",
       "stream": "stdout",
       "text": [
        "\tLoss: 8.92e-04\tError: 2.99e-02\tStd dev: 4.15e-02\tResample: 2\n",
        "Chose theta = [   1.82412244  270.            0.68827917]."
       ]
      },
      {
       "output_type": "stream",
       "stream": "stdout",
       "text": [
        "\tLoss: 2.39e-04\tError: 1.54e-02\tStd dev: 3.87e-02\tResample: 2\n",
        "Chose theta = [   4.70793733  293.15          0.7       ]."
       ]
      },
      {
       "output_type": "stream",
       "stream": "stdout",
       "text": [
        "\tLoss: 2.35e-04\tError: 1.53e-02\tStd dev: 3.84e-02\tResample: 2\n",
        "Chose theta = [   0.80464349  276.64984341    0.74476475]."
       ]
      },
      {
       "output_type": "stream",
       "stream": "stdout",
       "text": [
        "\tLoss: 1.28e-06\tError: 9.31e-04\tStd dev: 3.50e-02\tResample: 2\n",
        "Chose theta = [   4.24475231  310.            0.56789714]."
       ]
      },
      {
       "output_type": "stream",
       "stream": "stdout",
       "text": [
        "\tLoss: 1.49e-04\tError: 1.21e-02\tStd dev: 3.53e-02\tResample: 2\n",
        "Chose theta = [   1.56939567  293.15          0.7       ]."
       ]
      },
      {
       "output_type": "stream",
       "stream": "stdout",
       "text": [
        "\tLoss: 1.47e-04\tError: 1.20e-02\tStd dev: 3.52e-02\tResample: 2\n",
        "Chose theta = [   0.51990363  293.32621603    0.70036798]."
       ]
      },
      {
       "output_type": "stream",
       "stream": "stdout",
       "text": [
        "\tLoss: 2.67e-05\tError: 4.99e-03\tStd dev: 3.24e-02\tResample: 2\n",
        "Chose theta = [   1.1752712   270.            0.71756049]."
       ]
      },
      {
       "output_type": "stream",
       "stream": "stdout",
       "text": [
        "\tLoss: 2.57e-06\tError: 6.25e-04\tStd dev: 3.16e-02\tResample: 3"
       ]
      },
      {
       "output_type": "stream",
       "stream": "stdout",
       "text": [
        "\n",
        "Chose theta = [   3.13960386  293.15          0.7       ]."
       ]
      },
      {
       "output_type": "stream",
       "stream": "stdout",
       "text": [
        "\tLoss: 5.07e-06\tError: 1.62e-03\tStd dev: 3.12e-02\tResample: 3\n",
        "Chose theta = [   5.81883737  310.            0.73978111]."
       ]
      },
      {
       "output_type": "stream",
       "stream": "stdout",
       "text": [
        "\tLoss: 2.96e-05\tError: 5.32e-03\tStd dev: 3.04e-02\tResample: 3\n",
        "Chose theta = [   3.13927614  293.15          0.7       ]."
       ]
      },
      {
       "output_type": "stream",
       "stream": "stdout",
       "text": [
        "\tLoss: 2.30e-05\tError: 4.75e-03\tStd dev: 3.07e-02\tResample: 3\n",
        "0.9 \u00b1 0.00551\t"
       ]
      },
      {
       "output_type": "stream",
       "stream": "stdout",
       "text": [
        " -0.000368 \u00b1 0.00442\t 0.0797 \u00b1 0.0307\t 22.0 \u00b1 0.00554\t -1.02 \u00b1 0.00576\t\n",
        "[ 0.9        0.         0.0844303  1.02     ]\n",
        "Loss: 3.83e-03\tError: 6.18e-02\tStd dev: 1.02e-01\tResample: 1"
       ]
      },
      {
       "output_type": "stream",
       "stream": "stdout",
       "text": [
        "\n",
        "Loss: 9.24e-06\tError: 1.13e-03\tStd dev: 5.85e-02\tResample: 1\n",
        "Loss: 8.70e-06\tError: 1.13e-03\tStd dev: 5.24e-02\tResample: 1"
       ]
      },
      {
       "output_type": "stream",
       "stream": "stdout",
       "text": [
        "\n",
        "Loss: 7.36e-04\tError: 2.70e-02\tStd dev: 5.66e-02\tResample: 1\n",
        "Loss: 3.36e-04\tError: 1.81e-02\tStd dev: 5.14e-02\tResample: 2"
       ]
      },
      {
       "output_type": "stream",
       "stream": "stdout",
       "text": [
        "\n",
        "Loss: 7.89e-05\tError: 7.91e-03\tStd dev: 4.22e-02\tResample: 2\n",
        "Loss: 7.74e-05\tError: 7.83e-03\tStd dev: 3.98e-02\tResample: 2"
       ]
      },
      {
       "output_type": "stream",
       "stream": "stdout",
       "text": [
        "\n",
        "Loss: 5.59e-05\tError: 6.33e-03\tStd dev: 3.83e-02\tResample: 2\n",
        "Loss: 3.20e-05\tError: 3.59e-03\tStd dev: 3.78e-02\tResample: 2"
       ]
      },
      {
       "output_type": "stream",
       "stream": "stdout",
       "text": [
        "\n",
        "Loss: 2.85e-05\tError: 3.10e-03\tStd dev: 3.65e-02\tResample: 2\n",
        "Chose theta = [   4.71056925  293.15          0.7       ]."
       ]
      },
      {
       "output_type": "stream",
       "stream": "stdout",
       "text": [
        "\tLoss: 2.02e-05\tError: 1.76e-03\tStd dev: 3.70e-02\tResample: 2\n",
        "Chose theta = [   1.56672075  294.18143033    0.69583331]."
       ]
      },
      {
       "output_type": "stream",
       "stream": "stdout",
       "text": [
        "\tLoss: 2.21e-05\tError: 1.50e-03\tStd dev: 3.73e-02\tResample: 3"
       ]
      },
      {
       "output_type": "stream",
       "stream": "stdout",
       "text": [
        "\n",
        "Chose theta = [   0.90168339  310.            0.77638183]."
       ]
      },
      {
       "output_type": "stream",
       "stream": "stdout",
       "text": [
        "\tLoss: 1.54e-04\tError: 1.15e-02\tStd dev: 3.41e-02\tResample: 3\n",
        "Chose theta = [   6.27866146  293.15          0.7       ]."
       ]
      },
      {
       "output_type": "stream",
       "stream": "stdout",
       "text": [
        "\tLoss: 1.57e-04\tError: 1.16e-02\tStd dev: 3.42e-02\tResample: 3\n",
        "Chose theta = [   6.28318531  293.20800756    0.69989439]."
       ]
      },
      {
       "output_type": "stream",
       "stream": "stdout",
       "text": [
        "\tLoss: 1.33e-04\tError: 1.09e-02\tStd dev: 3.46e-02\tResample: 3\n",
        "Chose theta = [   6.28085828  293.15          0.7       ]."
       ]
      },
      {
       "output_type": "stream",
       "stream": "stdout",
       "text": [
        "\tLoss: 1.42e-04\tError: 1.09e-02\tStd dev: 3.42e-02\tResample: 3\n",
        "Chose theta = [   2.75243028  292.31163157    0.69825287]."
       ]
      },
      {
       "output_type": "stream",
       "stream": "stdout",
       "text": [
        "\tLoss: 4.54e-04\tError: 2.08e-02\tStd dev: 3.12e-02\tResample: 3\n",
        "Chose theta = [   6.28318531  293.14959944    0.70000217]."
       ]
      },
      {
       "output_type": "stream",
       "stream": "stdout",
       "text": [
        "\tLoss: 5.09e-04\tError: 2.18e-02\tStd dev: 3.06e-02\tResample: 3\n",
        "Chose theta = [   3.13719928  293.15          0.7       ]."
       ]
      },
      {
       "output_type": "stream",
       "stream": "stdout",
       "text": [
        "\tLoss: 5.35e-04\tError: 2.25e-02\tStd dev: 3.07e-02\tResample: 3\n",
        "Chose theta = [   3.13746236  293.15          0.7       ]."
       ]
      },
      {
       "output_type": "stream",
       "stream": "stdout",
       "text": [
        "\tLoss: 5.14e-04\tError: 2.19e-02\tStd dev: 3.06e-02\tResample: 3\n",
        "Chose theta = [   6.27941856  293.15          0.7       ]."
       ]
      },
      {
       "output_type": "stream",
       "stream": "stdout",
       "text": [
        "\tLoss: 5.70e-04\tError: 2.35e-02\tStd dev: 3.08e-02\tResample: 3\n",
        "Chose theta = [   3.13989657  293.15          0.7       ]."
       ]
      },
      {
       "output_type": "stream",
       "stream": "stdout",
       "text": [
        "\tLoss: 5.46e-04\tError: 2.32e-02\tStd dev: 3.13e-02\tResample: 3\n",
        "Chose theta = [   6.28189014  293.15          0.7       ]."
       ]
      },
      {
       "output_type": "stream",
       "stream": "stdout",
       "text": [
        "\tLoss: 5.62e-04\tError: 2.35e-02\tStd dev: 3.10e-02\tResample: 3\n",
        "Chose theta = [   0.50673542  292.51706536    0.69538086]."
       ]
      },
      {
       "output_type": "stream",
       "stream": "stdout",
       "text": [
        "\tLoss: 8.12e-04\tError: 2.83e-02\tStd dev: 2.88e-02\tResample: 3\n",
        "Chose theta = [   2.09399235  294.95162948    0.69743612]."
       ]
      },
      {
       "output_type": "stream",
       "stream": "stdout",
       "text": [
        "\tLoss: 5.94e-04\tError: 2.42e-02\tStd dev: 2.91e-02\tResample: 3\n",
        "Chose theta = [   5.54093845  288.04762169    0.72168405]."
       ]
      },
      {
       "output_type": "stream",
       "stream": "stdout",
       "text": [
        "\tLoss: 4.50e-04\tError: 2.10e-02\tStd dev: 2.92e-02\tResample: 3\n",
        "0.903 \u00b1 0.00506\t"
       ]
      },
      {
       "output_type": "stream",
       "stream": "stdout",
       "text": [
        " 0.0011 \u00b1 0.00436\t 0.0635 \u00b1 0.0292\t 22.0 \u00b1 0.00567\t -1.02 \u00b1 0.00577\t\n",
        "[ 0.9        0.         0.0844303  1.02     ]\n",
        "x iiiiiiiiiiiiiiiiiiiiiiis 17\n",
        "Loss: 1.68e-02\tError: 1.30e-01\tStd dev: 1.34e-01\tResample: 1"
       ]
      },
      {
       "output_type": "stream",
       "stream": "stdout",
       "text": [
        "\n",
        "Loss: 4.49e-04\tError: 2.12e-02\tStd dev: 7.05e-02\tResample: 1\n",
        "Loss: 2.00e-04\tError: 1.41e-02\tStd dev: 5.91e-02\tResample: 1"
       ]
      },
      {
       "output_type": "stream",
       "stream": "stdout",
       "text": [
        "\n",
        "Loss: 2.93e-04\tError: 1.70e-02\tStd dev: 4.28e-02\tResample: 2"
       ]
      },
      {
       "output_type": "stream",
       "stream": "stdout",
       "text": [
        "\n",
        "Loss: 4.45e-04\tError: 2.10e-02\tStd dev: 3.98e-02\tResample: 2\n",
        "Loss: 8.58e-04\tError: 2.92e-02\tStd dev: 3.46e-02\tResample: 2"
       ]
      },
      {
       "output_type": "stream",
       "stream": "stdout",
       "text": [
        "\n",
        "Loss: 2.54e-04\tError: 1.59e-02\tStd dev: 3.74e-02\tResample: 2\n",
        "Loss: 6.99e-05\tError: 8.23e-03\tStd dev: 3.77e-02\tResample: 2"
       ]
      },
      {
       "output_type": "stream",
       "stream": "stdout",
       "text": [
        "\n",
        "Loss: 4.01e-05\tError: 5.72e-03\tStd dev: 3.75e-02\tResample: 2\n",
        "Loss: 1.08e-05\tError: 2.13e-03\tStd dev: 3.67e-02\tResample: 2"
       ]
      },
      {
       "output_type": "stream",
       "stream": "stdout",
       "text": [
        "\n",
        "Chose theta = [   4.71049867  293.15          0.7       ]."
       ]
      },
      {
       "output_type": "stream",
       "stream": "stdout",
       "text": [
        "\tLoss: 1.58e-05\tError: 2.98e-03\tStd dev: 3.63e-02\tResample: 2\n",
        "Chose theta = [   2.73840783  270.            0.63905049]."
       ]
      },
      {
       "output_type": "stream",
       "stream": "stdout",
       "text": [
        "\tLoss: 8.17e-05\tError: 8.60e-03\tStd dev: 3.64e-02\tResample: 2\n",
        "Chose theta = [   4.7103022  293.15         0.7      ]."
       ]
      },
      {
       "output_type": "stream",
       "stream": "stdout",
       "text": [
        "\tLoss: 1.03e-04\tError: 9.65e-03\tStd dev: 3.69e-02\tResample: 2\n",
        "Chose theta = [   2.78837515  310.            0.70414433]."
       ]
      },
      {
       "output_type": "stream",
       "stream": "stdout",
       "text": [
        "\tLoss: 2.49e-04\tError: 1.54e-02\tStd dev: 3.57e-02\tResample: 3"
       ]
      },
      {
       "output_type": "stream",
       "stream": "stdout",
       "text": [
        "\n",
        "Chose theta = [   6.28318531  293.14533981    0.70000685]."
       ]
      },
      {
       "output_type": "stream",
       "stream": "stdout",
       "text": [
        "\tLoss: 3.19e-04\tError: 1.77e-02\tStd dev: 3.60e-02\tResample: 3\n",
        "Chose theta = [   1.25137155  294.70160114    0.70483097]."
       ]
      },
      {
       "output_type": "stream",
       "stream": "stdout",
       "text": [
        "\tLoss: 3.28e-05\tError: 4.89e-03\tStd dev: 3.40e-02\tResample: 3\n",
        "Chose theta = [   2.29082334  310.            0.58259029]."
       ]
      },
      {
       "output_type": "stream",
       "stream": "stdout",
       "text": [
        "\tLoss: 2.22e-05\tError: 3.39e-03\tStd dev: 3.35e-02\tResample: 3\n",
        "Chose theta = [   3.96049542  293.32549909    0.69917846]."
       ]
      },
      {
       "output_type": "stream",
       "stream": "stdout",
       "text": [
        "\tLoss: 3.05e-04\tError: 1.74e-02\tStd dev: 2.98e-02\tResample: 4"
       ]
      },
      {
       "output_type": "stream",
       "stream": "stdout",
       "text": [
        "\n",
        "Chose theta = [   4.70734783  293.15          0.7       ]."
       ]
      },
      {
       "output_type": "stream",
       "stream": "stdout",
       "text": [
        "\tLoss: 2.69e-04\tError: 1.63e-02\tStd dev: 2.97e-02\tResample: 4\n",
        "Chose theta = [   3.18590877  310.            0.73159372]."
       ]
      },
      {
       "output_type": "stream",
       "stream": "stdout",
       "text": [
        "\tLoss: 3.34e-04\tError: 1.82e-02\tStd dev: 2.88e-02\tResample: 4\n",
        "Chose theta = [   3.1358735  293.15         0.7      ]."
       ]
      },
      {
       "output_type": "stream",
       "stream": "stdout",
       "text": [
        "\tLoss: 3.73e-04\tError: 1.92e-02\tStd dev: 2.87e-02\tResample: 4\n",
        "Chose theta = [   3.13764792  293.15          0.7       ]."
       ]
      },
      {
       "output_type": "stream",
       "stream": "stdout",
       "text": [
        "\tLoss: 3.72e-04\tError: 1.92e-02\tStd dev: 2.87e-02\tResample: 4\n",
        "Chose theta = [   5.62152061  292.75945316    0.69985698]."
       ]
      },
      {
       "output_type": "stream",
       "stream": "stdout",
       "text": [
        "\tLoss: 2.20e-04\tError: 1.48e-02\tStd dev: 2.88e-02\tResample: 4\n",
        "Chose theta = [   6.28318531  293.16322624    0.70002488]."
       ]
      },
      {
       "output_type": "stream",
       "stream": "stdout",
       "text": [
        "\tLoss: 2.40e-04\tError: 1.55e-02\tStd dev: 2.86e-02\tResample: 4\n",
        "Chose theta = [   3.13599086  293.15          0.7       ]."
       ]
      },
      {
       "output_type": "stream",
       "stream": "stdout",
       "text": [
        "\tLoss: 2.19e-04\tError: 1.47e-02\tStd dev: 2.86e-02\tResample: 4\n",
        "Chose theta = [   6.27828921  293.15          0.7       ]."
       ]
      },
      {
       "output_type": "stream",
       "stream": "stdout",
       "text": [
        "\tLoss: 2.26e-04\tError: 1.50e-02\tStd dev: 2.86e-02\tResample: 4\n",
        "Chose theta = [   4.20992727  294.2657821     0.70014676]."
       ]
      },
      {
       "output_type": "stream",
       "stream": "stdout",
       "text": [
        "\tLoss: 2.45e-04\tError: 1.56e-02\tStd dev: 2.80e-02\tResample: 4\n",
        "0.901 \u00b1 0.00539\t"
       ]
      },
      {
       "output_type": "stream",
       "stream": "stdout",
       "text": [
        " 0.000721 \u00b1 0.00444\t 0.0688 \u00b1 0.028\t 22.0 \u00b1 0.00553\t -1.02 \u00b1 0.00571\t\n",
        "[ 0.9        0.         0.0844303  1.02     ]\n",
        "Loss: 1.66e-01\tError: 4.08e-01\tStd dev: 1.61e-01\tResample: 1"
       ]
      },
      {
       "output_type": "stream",
       "stream": "stdout",
       "text": [
        "\n",
        "Loss: 1.30e-03\tError: 3.60e-02\tStd dev: 8.12e-02\tResample: 2"
       ]
      },
      {
       "output_type": "stream",
       "stream": "stdout",
       "text": [
        "\n",
        "Loss: 1.69e-04\tError: 1.27e-02\tStd dev: 5.96e-02\tResample: 2\n",
        "Loss: 1.62e-04\tError: 1.24e-02\tStd dev: 4.54e-02\tResample: 2"
       ]
      },
      {
       "output_type": "stream",
       "stream": "stdout",
       "text": [
        "\n",
        "Loss: 1.66e-04\tError: 1.25e-02\tStd dev: 4.52e-02\tResample: 2\n",
        "Loss: 1.73e-04\tError: 1.28e-02\tStd dev: 4.20e-02\tResample: 2"
       ]
      },
      {
       "output_type": "stream",
       "stream": "stdout",
       "text": [
        "\n",
        "Loss: 5.59e-05\tError: 7.09e-03\tStd dev: 4.41e-02\tResample: 2\n",
        "Loss: 1.05e-04\tError: 9.75e-03\tStd dev: 3.81e-02\tResample: 2"
       ]
      },
      {
       "output_type": "stream",
       "stream": "stdout",
       "text": [
        "\n",
        "Loss: 9.69e-05\tError: 9.37e-03\tStd dev: 3.80e-02\tResample: 2\n",
        "Loss: 6.17e-05\tError: 7.18e-03\tStd dev: 3.71e-02\tResample: 2"
       ]
      },
      {
       "output_type": "stream",
       "stream": "stdout",
       "text": [
        "\n",
        "Chose theta = [   3.90109816  270.            0.76416913]."
       ]
      },
      {
       "output_type": "stream",
       "stream": "stdout",
       "text": [
        "\tLoss: 9.71e-06\tError: 6.77e-04\tStd dev: 3.66e-02\tResample: 2\n",
        "Chose theta = [   2.81712085  286.7469141     0.66728206]."
       ]
      },
      {
       "output_type": "stream",
       "stream": "stdout",
       "text": [
        "\tLoss: 9.46e-06\tError: 5.77e-05\tStd dev: 3.51e-02\tResample: 2\n",
        "Chose theta = [   6.28078576  293.15          0.7       ]."
       ]
      },
      {
       "output_type": "stream",
       "stream": "stdout",
       "text": [
        "\tLoss: 1.53e-05\tError: 4.20e-04\tStd dev: 3.55e-02\tResample: 2\n",
        "Chose theta = [   6.28318531  293.0286217     0.69973095]."
       ]
      },
      {
       "output_type": "stream",
       "stream": "stdout",
       "text": [
        "\tLoss: 1.72e-05\tError: 5.98e-04\tStd dev: 3.55e-02\tResample: 2\n",
        "Chose theta = [   6.04976208  282.71290284    0.69523983]."
       ]
      },
      {
       "output_type": "stream",
       "stream": "stdout",
       "text": [
        "\tLoss: 1.83e-05\tError: 9.59e-04\tStd dev: 3.44e-02\tResample: 2\n",
        "Chose theta = [   6.28318531  293.16583438    0.70001674]."
       ]
      },
      {
       "output_type": "stream",
       "stream": "stdout",
       "text": [
        "\tLoss: 1.25e-05\tError: 7.74e-05\tStd dev: 3.41e-02\tResample: 2\n",
        "Chose theta = [  2.03731519e-01   2.92131679e+02   6.95730600e-01]."
       ]
      },
      {
       "output_type": "stream",
       "stream": "stdout",
       "text": [
        "\tLoss: 2.03e-05\tError: 2.67e-03\tStd dev: 3.24e-02\tResample: 2\n",
        "Chose theta = [   0.45724736  293.84031665    0.70084601]."
       ]
      },
      {
       "output_type": "stream",
       "stream": "stdout",
       "text": [
        "\tLoss: 4.97e-05\tError: 6.11e-03\tStd dev: 3.20e-02\tResample: 3"
       ]
      },
      {
       "output_type": "stream",
       "stream": "stdout",
       "text": [
        "\n",
        "Chose theta = [   3.13514501  293.15          0.7       ]."
       ]
      },
      {
       "output_type": "stream",
       "stream": "stdout",
       "text": [
        "\tLoss: 7.81e-05\tError: 8.58e-03\tStd dev: 3.14e-02\tResample: 3\n",
        "Chose theta = [   1.56550838  293.15          0.7       ]."
       ]
      },
      {
       "output_type": "stream",
       "stream": "stdout",
       "text": [
        "\tLoss: 7.80e-05\tError: 8.58e-03\tStd dev: 3.14e-02\tResample: 3\n",
        "Chose theta = [   0.43709957  310.            0.71342416]."
       ]
      },
      {
       "output_type": "stream",
       "stream": "stdout",
       "text": [
        "\tLoss: 7.92e-05\tError: 8.65e-03\tStd dev: 3.11e-02\tResample: 3\n",
        "Chose theta = [   1.56612926  293.15          0.7       ]."
       ]
      },
      {
       "output_type": "stream",
       "stream": "stdout",
       "text": [
        "\tLoss: 8.12e-05\tError: 8.85e-03\tStd dev: 3.10e-02\tResample: 3\n",
        "Chose theta = [   2.52690239  293.68577914    0.70011783]."
       ]
      },
      {
       "output_type": "stream",
       "stream": "stdout",
       "text": [
        "\tLoss: 4.70e-05\tError: 6.63e-03\tStd dev: 3.01e-02\tResample: 3\n",
        "Chose theta = [   6.28318531  293.17251075    0.69998342]."
       ]
      },
      {
       "output_type": "stream",
       "stream": "stdout",
       "text": [
        "\tLoss: 7.43e-05\tError: 8.18e-03\tStd dev: 3.04e-02\tResample: 3\n",
        "Chose theta = [   2.49243077  290.4285614     0.70543327]."
       ]
      },
      {
       "output_type": "stream",
       "stream": "stdout",
       "text": [
        "\tLoss: 2.13e-05\tError: 3.62e-03\tStd dev: 2.90e-02\tResample: 3\n",
        "Chose theta = [   3.1387757  293.15         0.7      ]."
       ]
      },
      {
       "output_type": "stream",
       "stream": "stdout",
       "text": [
        "\tLoss: 2.01e-05\tError: 4.01e-03\tStd dev: 2.87e-02\tResample: 3\n",
        "Chose theta = [   4.70724692  293.15          0.7       ]."
       ]
      },
      {
       "output_type": "stream",
       "stream": "stdout",
       "text": [
        "\tLoss: 2.02e-05\tError: 4.01e-03\tStd dev: 2.87e-02\tResample: 3\n",
        "0.898 \u00b1 0.00534\t"
       ]
      },
      {
       "output_type": "stream",
       "stream": "stdout",
       "text": [
        " -0.000898 \u00b1 0.00434\t 0.0804 \u00b1 0.0287\t 22.0 \u00b1 0.0056\t -1.02 \u00b1 0.00582\t\n",
        "[ 0.9        0.         0.0844303  1.02     ]\n",
        "x iiiiiiiiiiiiiiiiiiiiiiis 18\n",
        "Loss: 2.68e-02\tError: 1.64e-01\tStd dev: 1.46e-01\tResample: 1"
       ]
      },
      {
       "output_type": "stream",
       "stream": "stdout",
       "text": [
        "\n",
        "Loss: 9.29e-03\tError: 9.64e-02\tStd dev: 9.28e-02\tResample: 1\n",
        "Loss: 2.59e-03\tError: 5.09e-02\tStd dev: 6.86e-02\tResample: 1"
       ]
      },
      {
       "output_type": "stream",
       "stream": "stdout",
       "text": [
        "\n",
        "Loss: 3.85e-03\tError: 6.20e-02\tStd dev: 6.38e-02\tResample: 1\n",
        "Loss: 3.23e-03\tError: 5.68e-02\tStd dev: 6.12e-02\tResample: 2"
       ]
      },
      {
       "output_type": "stream",
       "stream": "stdout",
       "text": [
        "\n",
        "Loss: 4.04e-04\tError: 1.99e-02\tStd dev: 5.03e-02\tResample: 2\n",
        "Loss: 1.30e-03\tError: 3.59e-02\tStd dev: 4.81e-02\tResample: 2"
       ]
      },
      {
       "output_type": "stream",
       "stream": "stdout",
       "text": [
        "\n",
        "Loss: 2.81e-04\tError: 1.65e-02\tStd dev: 4.29e-02\tResample: 2\n",
        "Loss: 2.39e-04\tError: 1.48e-02\tStd dev: 4.34e-02\tResample: 2"
       ]
      },
      {
       "output_type": "stream",
       "stream": "stdout",
       "text": [
        "\n",
        "Loss: 1.45e-04\tError: 1.13e-02\tStd dev: 4.09e-02\tResample: 2\n",
        "Chose theta = [   6.28318531  293.14326134    0.69999815]."
       ]
      },
      {
       "output_type": "stream",
       "stream": "stdout",
       "text": [
        "\tLoss: 1.25e-04\tError: 1.04e-02\tStd dev: 4.06e-02\tResample: 2\n",
        "Chose theta = [   5.68219807  310.            0.71521298]."
       ]
      },
      {
       "output_type": "stream",
       "stream": "stdout",
       "text": [
        "\tLoss: 1.39e-04\tError: 1.11e-02\tStd dev: 3.93e-02\tResample: 2\n",
        "Chose theta = [   3.13844562  293.15          0.7       ]."
       ]
      },
      {
       "output_type": "stream",
       "stream": "stdout",
       "text": [
        "\tLoss: 1.27e-04\tError: 1.07e-02\tStd dev: 3.90e-02\tResample: 2\n",
        "Chose theta = [   6.28318531  276.97630362    0.76197674]."
       ]
      },
      {
       "output_type": "stream",
       "stream": "stdout",
       "text": [
        "\tLoss: 1.34e-04\tError: 1.10e-02\tStd dev: 3.90e-02\tResample: 2\n",
        "Chose theta = [   3.20067236  285.14342867    0.67621785]."
       ]
      },
      {
       "output_type": "stream",
       "stream": "stdout",
       "text": [
        "\tLoss: 1.52e-04\tError: 1.18e-02\tStd dev: 3.74e-02\tResample: 2\n",
        "Chose theta = [   0.          302.93129413    0.73124618]."
       ]
      },
      {
       "output_type": "stream",
       "stream": "stdout",
       "text": [
        "\tLoss: 1.61e-04\tError: 1.21e-02\tStd dev: 3.74e-02\tResample: 2\n",
        "Chose theta = [   6.28318531  294.9500429     0.69716129]."
       ]
      },
      {
       "output_type": "stream",
       "stream": "stdout",
       "text": [
        "\tLoss: 1.17e-04\tError: 1.04e-02\tStd dev: 3.70e-02\tResample: 2\n",
        "Chose theta = [   5.84222606  310.            0.72339405]."
       ]
      },
      {
       "output_type": "stream",
       "stream": "stdout",
       "text": [
        "\tLoss: 1.68e-04\tError: 1.24e-02\tStd dev: 3.69e-02\tResample: 2\n",
        "Chose theta = [   6.21228987  270.            0.65320672]."
       ]
      },
      {
       "output_type": "stream",
       "stream": "stdout",
       "text": [
        "\tLoss: 6.65e-04\tError: 2.56e-02\tStd dev: 3.65e-02\tResample: 2\n",
        "Chose theta = [   6.28318531  304.01942767    0.72412143]."
       ]
      },
      {
       "output_type": "stream",
       "stream": "stdout",
       "text": [
        "\tLoss: 6.76e-04\tError: 2.57e-02\tStd dev: 3.65e-02\tResample: 2\n",
        "Chose theta = [   1.88027673  310.            0.65855458]."
       ]
      },
      {
       "output_type": "stream",
       "stream": "stdout",
       "text": [
        "\tLoss: 7.37e-04\tError: 2.69e-02\tStd dev: 3.53e-02\tResample: 2\n",
        "Chose theta = [   5.91909395  291.97874308    0.70146513]."
       ]
      },
      {
       "output_type": "stream",
       "stream": "stdout",
       "text": [
        "\tLoss: 3.84e-04\tError: 1.93e-02\tStd dev: 3.43e-02\tResample: 3"
       ]
      },
      {
       "output_type": "stream",
       "stream": "stdout",
       "text": [
        "\n",
        "Chose theta = [   1.56869495  293.15          0.7       ]."
       ]
      },
      {
       "output_type": "stream",
       "stream": "stdout",
       "text": [
        "\tLoss: 3.90e-04\tError: 1.94e-02\tStd dev: 3.43e-02\tResample: 3\n",
        "Chose theta = [   2.44991621  292.88270744    0.69914166]."
       ]
      },
      {
       "output_type": "stream",
       "stream": "stdout",
       "text": [
        "\tLoss: 5.31e-04\tError: 2.28e-02\tStd dev: 3.36e-02\tResample: 3\n",
        "Chose theta = [   3.80048535  310.            0.76420859]."
       ]
      },
      {
       "output_type": "stream",
       "stream": "stdout",
       "text": [
        "\tLoss: 5.54e-04\tError: 2.33e-02\tStd dev: 3.28e-02\tResample: 3\n",
        "Chose theta = [   3.87768173  293.53000742    0.70179325]."
       ]
      },
      {
       "output_type": "stream",
       "stream": "stdout",
       "text": [
        "\tLoss: 6.81e-04\tError: 2.59e-02\tStd dev: 3.23e-02\tResample: 3\n",
        "Chose theta = [   1.56477949  293.15          0.7       ]."
       ]
      },
      {
       "output_type": "stream",
       "stream": "stdout",
       "text": [
        "\tLoss: 7.64e-04\tError: 2.72e-02\tStd dev: 3.19e-02\tResample: 3\n",
        "Chose theta = [   4.70530693  293.15          0.7       ]."
       ]
      },
      {
       "output_type": "stream",
       "stream": "stdout",
       "text": [
        "\tLoss: 7.52e-04\tError: 2.70e-02\tStd dev: 3.20e-02\tResample: 3\n",
        "0.901 \u00b1 0.00535\t"
       ]
      },
      {
       "output_type": "stream",
       "stream": "stdout",
       "text": [
        " -0.00421 \u00b1 0.00388\t 0.111 \u00b1 0.032\t 22.0 \u00b1 0.00543\t -1.02 \u00b1 0.00585\t\n",
        "[ 0.9        0.         0.0844303  1.02     ]\n",
        "Loss: 1.05e-02\tError: 1.02e-01\tStd dev: 1.23e-01\tResample: 1"
       ]
      },
      {
       "output_type": "stream",
       "stream": "stdout",
       "text": [
        "\n",
        "Loss: 6.46e-04\tError: 2.54e-02\tStd dev: 7.13e-02\tResample: 1\n",
        "Loss: 3.08e-04\tError: 1.75e-02\tStd dev: 5.95e-02\tResample: 1"
       ]
      },
      {
       "output_type": "stream",
       "stream": "stdout",
       "text": [
        "\n",
        "Loss: 2.07e-04\tError: 1.43e-02\tStd dev: 4.33e-02\tResample: 2"
       ]
      },
      {
       "output_type": "stream",
       "stream": "stdout",
       "text": [
        "\n",
        "Loss: 2.14e-04\tError: 1.45e-02\tStd dev: 4.31e-02\tResample: 2\n",
        "Loss: 9.74e-04\tError: 3.12e-02\tStd dev: 3.43e-02\tResample: 2"
       ]
      },
      {
       "output_type": "stream",
       "stream": "stdout",
       "text": [
        "\n",
        "Loss: 1.40e-03\tError: 3.74e-02\tStd dev: 3.02e-02\tResample: 2\n",
        "Loss: 1.78e-03\tError: 4.22e-02\tStd dev: 2.73e-02\tResample: 2"
       ]
      },
      {
       "output_type": "stream",
       "stream": "stdout",
       "text": [
        "\n",
        "Loss: 1.97e-03\tError: 4.43e-02\tStd dev: 2.60e-02\tResample: 3"
       ]
      },
      {
       "output_type": "stream",
       "stream": "stdout",
       "text": [
        "\n",
        "Loss: 1.76e-03\tError: 4.19e-02\tStd dev: 2.65e-02\tResample: 3\n",
        "Chose theta = [   4.71224421  293.15          0.7       ]."
       ]
      },
      {
       "output_type": "stream",
       "stream": "stdout",
       "text": [
        "\tLoss: 1.65e-03\tError: 4.05e-02\tStd dev: 2.73e-02\tResample: 3\n",
        "Chose theta = [   2.22027654  293.4120333     0.70177817]."
       ]
      },
      {
       "output_type": "stream",
       "stream": "stdout",
       "text": [
        "\tLoss: 2.25e-03\tError: 4.73e-02\tStd dev: 2.37e-02\tResample: 3\n",
        "Chose theta = [   4.71094043  293.15          0.7       ]."
       ]
      },
      {
       "output_type": "stream",
       "stream": "stdout",
       "text": [
        "\tLoss: 2.24e-03\tError: 4.72e-02\tStd dev: 2.39e-02\tResample: 3\n",
        "Chose theta = [   4.71113424  293.15          0.7       ]."
       ]
      },
      {
       "output_type": "stream",
       "stream": "stdout",
       "text": [
        "\tLoss: 2.26e-03\tError: 4.74e-02\tStd dev: 2.36e-02\tResample: 3\n",
        "Chose theta = [   4.50573687  297.05920815    0.68679818]."
       ]
      },
      {
       "output_type": "stream",
       "stream": "stdout",
       "text": [
        "\tLoss: 1.82e-03\tError: 4.26e-02\tStd dev: 2.52e-02\tResample: 3\n",
        "Chose theta = [   5.63020676  292.4609939     0.70183456]."
       ]
      },
      {
       "output_type": "stream",
       "stream": "stdout",
       "text": [
        "\tLoss: 1.59e-03\tError: 3.97e-02\tStd dev: 2.58e-02\tResample: 3\n",
        "Chose theta = [   1.56920976  293.15          0.7       ]."
       ]
      },
      {
       "output_type": "stream",
       "stream": "stdout",
       "text": [
        "\tLoss: 1.59e-03\tError: 3.96e-02\tStd dev: 2.61e-02\tResample: 3\n",
        "Chose theta = [   4.36181025  294.49290439    0.70050111]."
       ]
      },
      {
       "output_type": "stream",
       "stream": "stdout",
       "text": [
        "\tLoss: 1.18e-03\tError: 3.41e-02\tStd dev: 2.74e-02\tResample: 3\n",
        "Chose theta = [   0.74580532  292.89626809    0.69913351]."
       ]
      },
      {
       "output_type": "stream",
       "stream": "stdout",
       "text": [
        "\tLoss: 5.76e-04\tError: 2.35e-02\tStd dev: 2.92e-02\tResample: 4"
       ]
      },
      {
       "output_type": "stream",
       "stream": "stdout",
       "text": [
        "\n",
        "Chose theta = [   1.56951054  293.15          0.7       ]."
       ]
      },
      {
       "output_type": "stream",
       "stream": "stdout",
       "text": [
        "\tLoss: 5.81e-04\tError: 2.37e-02\tStd dev: 2.90e-02\tResample: 4\n",
        "Chose theta = [   1.64652498  270.            0.57824322]."
       ]
      },
      {
       "output_type": "stream",
       "stream": "stdout",
       "text": [
        "\tLoss: 7.34e-04\tError: 2.67e-02\tStd dev: 2.78e-02\tResample: 4\n",
        "Chose theta = [   5.74296676  294.35170761    0.70505709]."
       ]
      },
      {
       "output_type": "stream",
       "stream": "stdout",
       "text": [
        "\tLoss: 4.70e-04\tError: 2.10e-02\tStd dev: 2.84e-02\tResample: 4\n",
        "Chose theta = [   4.70954238  293.15          0.7       ]."
       ]
      },
      {
       "output_type": "stream",
       "stream": "stdout",
       "text": [
        "\tLoss: 4.74e-04\tError: 2.10e-02\tStd dev: 2.84e-02\tResample: 4\n",
        "Chose theta = [   5.2386606   294.85729085    0.70161826]."
       ]
      },
      {
       "output_type": "stream",
       "stream": "stdout",
       "text": [
        "\tLoss: 1.84e-04\tError: 1.19e-02\tStd dev: 2.90e-02\tResample: 4\n",
        "Chose theta = [   1.56695162  293.15          0.7       ]."
       ]
      },
      {
       "output_type": "stream",
       "stream": "stdout",
       "text": [
        "\tLoss: 1.84e-04\tError: 1.19e-02\tStd dev: 2.90e-02\tResample: 4\n",
        "Chose theta = [   1.57043811  293.15          0.7       ]."
       ]
      },
      {
       "output_type": "stream",
       "stream": "stdout",
       "text": [
        "\tLoss: 1.94e-04\tError: 1.23e-02\tStd dev: 2.89e-02\tResample: 4\n",
        "Chose theta = [   1.56848283  293.15          0.7       ]."
       ]
      },
      {
       "output_type": "stream",
       "stream": "stdout",
       "text": [
        "\tLoss: 1.95e-04\tError: 1.23e-02\tStd dev: 2.87e-02\tResample: 5"
       ]
      },
      {
       "output_type": "stream",
       "stream": "stdout",
       "text": [
        "\n",
        "Chose theta = [   4.18476714  293.49819169    0.70367194]."
       ]
      },
      {
       "output_type": "stream",
       "stream": "stdout",
       "text": [
        "\tLoss: 3.50e-04\tError: 1.76e-02\tStd dev: 2.78e-02\tResample: 5\n",
        "0.896 \u00b1 0.00498\t"
       ]
      },
      {
       "output_type": "stream",
       "stream": "stdout",
       "text": [
        " -0.00283 \u00b1 0.00415\t 0.0669 \u00b1 0.0278\t 22.0 \u00b1 0.00472\t -1.02 \u00b1 0.00572\t\n",
        "[ 0.9        0.         0.0844303  1.02     ]\n",
        "x iiiiiiiiiiiiiiiiiiiiiiis 19\n",
        "Loss: 6.17e-02\tError: 2.48e-01\tStd dev: 1.63e-01\tResample: 1"
       ]
      },
      {
       "output_type": "stream",
       "stream": "stdout",
       "text": [
        "\n",
        "Loss: 7.40e-03\tError: 8.60e-02\tStd dev: 9.25e-02\tResample: 2"
       ]
      },
      {
       "output_type": "stream",
       "stream": "stdout",
       "text": [
        "\n",
        "Loss: 4.73e-04\tError: 2.17e-02\tStd dev: 6.12e-02\tResample: 2\n",
        "Loss: 1.81e-03\tError: 4.26e-02\tStd dev: 6.12e-02\tResample: 2"
       ]
      },
      {
       "output_type": "stream",
       "stream": "stdout",
       "text": [
        "\n",
        "Loss: 1.75e-03\tError: 4.18e-02\tStd dev: 6.04e-02\tResample: 2\n",
        "Loss: 1.03e-04\tError: 9.37e-03\tStd dev: 4.26e-02\tResample: 3"
       ]
      },
      {
       "output_type": "stream",
       "stream": "stdout",
       "text": [
        "\n",
        "Loss: 9.55e-05\tError: 9.00e-03\tStd dev: 4.00e-02\tResample: 3\n",
        "Loss: 5.88e-05\tError: 6.74e-03\tStd dev: 3.87e-02\tResample: 3"
       ]
      },
      {
       "output_type": "stream",
       "stream": "stdout",
       "text": [
        "\n",
        "Loss: 2.98e-05\tError: 4.78e-03\tStd dev: 3.85e-02\tResample: 3\n",
        "Loss: 1.50e-05\tError: 2.67e-03\tStd dev: 3.74e-02\tResample: 3"
       ]
      },
      {
       "output_type": "stream",
       "stream": "stdout",
       "text": [
        "\n",
        "Chose theta = [   5.33937664  270.            0.58713215]."
       ]
      },
      {
       "output_type": "stream",
       "stream": "stdout",
       "text": [
        "\tLoss: 1.77e-05\tError: 3.27e-03\tStd dev: 3.67e-02\tResample: 3\n",
        "Chose theta = [   4.70969851  293.15          0.7       ]."
       ]
      },
      {
       "output_type": "stream",
       "stream": "stdout",
       "text": [
        "\tLoss: 1.89e-05\tError: 2.30e-03\tStd dev: 3.62e-02\tResample: 3\n",
        "Chose theta = [   4.71143593  293.15          0.7       ]."
       ]
      },
      {
       "output_type": "stream",
       "stream": "stdout",
       "text": [
        "\tLoss: 2.63e-05\tError: 1.18e-04\tStd dev: 3.54e-02\tResample: 3\n",
        "Chose theta = [   1.4540225   295.79802493    0.70316669]."
       ]
      },
      {
       "output_type": "stream",
       "stream": "stdout",
       "text": [
        "\tLoss: 5.37e-05\tError: 5.00e-03\tStd dev: 3.50e-02\tResample: 3\n",
        "Chose theta = [   5.86941846  310.            0.6944254 ]."
       ]
      },
      {
       "output_type": "stream",
       "stream": "stdout",
       "text": [
        "\tLoss: 3.47e-05\tError: 3.33e-04\tStd dev: 3.38e-02\tResample: 3\n",
        "Chose theta = [   1.56442084  293.15          0.7       ]."
       ]
      },
      {
       "output_type": "stream",
       "stream": "stdout",
       "text": [
        "\tLoss: 2.89e-05\tError: 1.28e-03\tStd dev: 3.39e-02\tResample: 3\n",
        "Chose theta = [   3.21224075  270.            0.43501019]."
       ]
      },
      {
       "output_type": "stream",
       "stream": "stdout",
       "text": [
        "\tLoss: 5.84e-05\tError: 5.70e-03\tStd dev: 3.23e-02\tResample: 3\n",
        "Chose theta = [   5.2199881   293.68826971    0.70157245]."
       ]
      },
      {
       "output_type": "stream",
       "stream": "stdout",
       "text": [
        "\tLoss: 4.24e-05\tError: 3.96e-03\tStd dev: 3.18e-02\tResample: 3\n",
        "Chose theta = [   4.15922145  294.18589516    0.70305003]."
       ]
      },
      {
       "output_type": "stream",
       "stream": "stdout",
       "text": [
        "\tLoss: 5.26e-05\tError: 4.95e-03\tStd dev: 3.12e-02\tResample: 3\n",
        "Chose theta = [   6.28318531  293.14621496    0.70000388]."
       ]
      },
      {
       "output_type": "stream",
       "stream": "stdout",
       "text": [
        "\tLoss: 5.33e-05\tError: 5.26e-03\tStd dev: 3.11e-02\tResample: 3\n",
        "Chose theta = [   6.2790136  293.15         0.7      ]."
       ]
      },
      {
       "output_type": "stream",
       "stream": "stdout",
       "text": [
        "\tLoss: 4.71e-05\tError: 4.81e-03\tStd dev: 3.10e-02\tResample: 3\n",
        "Chose theta = [   5.90006212  295.96817814    0.70005843]."
       ]
      },
      {
       "output_type": "stream",
       "stream": "stdout",
       "text": [
        "\tLoss: 3.23e-05\tError: 3.41e-03\tStd dev: 3.14e-02\tResample: 3\n",
        "Chose theta = [   3.86665226  270.            0.53864638]."
       ]
      },
      {
       "output_type": "stream",
       "stream": "stdout",
       "text": [
        "\tLoss: 5.93e-05\tError: 6.56e-03\tStd dev: 3.13e-02\tResample: 3\n",
        "Chose theta = [   2.74380231  310.            0.70613129]."
       ]
      },
      {
       "output_type": "stream",
       "stream": "stdout",
       "text": [
        "\tLoss: 2.60e-05\tError: 2.78e-03\tStd dev: 3.05e-02\tResample: 3\n",
        "Chose theta = [   2.45827998  270.            0.82789134]."
       ]
      },
      {
       "output_type": "stream",
       "stream": "stdout",
       "text": [
        "\tLoss: 6.68e-05\tError: 7.13e-03\tStd dev: 3.02e-02\tResample: 4"
       ]
      },
      {
       "output_type": "stream",
       "stream": "stdout",
       "text": [
        "\n",
        "Chose theta = [   0.          290.31674521    0.69890737]."
       ]
      },
      {
       "output_type": "stream",
       "stream": "stdout",
       "text": [
        "\tLoss: 5.50e-05\tError: 6.30e-03\tStd dev: 2.99e-02\tResample: 4\n",
        "Chose theta = [   3.64883405  293.60154016    0.69908237]."
       ]
      },
      {
       "output_type": "stream",
       "stream": "stdout",
       "text": [
        "\tLoss: 8.22e-05\tError: 8.17e-03\tStd dev: 2.95e-02\tResample: 4\n",
        "Chose theta = [   3.13626799  293.15          0.7       ]."
       ]
      },
      {
       "output_type": "stream",
       "stream": "stdout",
       "text": [
        "\tLoss: 8.61e-05\tError: 8.41e-03\tStd dev: 2.94e-02\tResample: 4\n",
        "Chose theta = [   2.15145941  310.            0.69133347]."
       ]
      },
      {
       "output_type": "stream",
       "stream": "stdout",
       "text": [
        "\tLoss: 3.68e-05\tError: 3.39e-03\tStd dev: 2.88e-02\tResample: 4\n",
        "0.904 \u00b1 0.00503\t"
       ]
      },
      {
       "output_type": "stream",
       "stream": "stdout",
       "text": [
        " -0.00305 \u00b1 0.00417\t 0.0878 \u00b1 0.0288\t 22.0 \u00b1 0.0053\t -1.02 \u00b1 0.00574\t\n",
        "[ 0.9        0.         0.0844303  1.02     ]\n",
        "Loss: 2.65e-02\tError: 1.63e-01\tStd dev: 1.46e-01\tResample: 1"
       ]
      },
      {
       "output_type": "stream",
       "stream": "stdout",
       "text": [
        "\n",
        "Loss: 2.57e-03\tError: 5.07e-02\tStd dev: 8.21e-02\tResample: 1\n",
        "Loss: 1.61e-03\tError: 4.01e-02\tStd dev: 6.66e-02\tResample: 1"
       ]
      },
      {
       "output_type": "stream",
       "stream": "stdout",
       "text": [
        "\n",
        "Loss: 3.23e-04\tError: 1.80e-02\tStd dev: 5.50e-02\tResample: 2"
       ]
      },
      {
       "output_type": "stream",
       "stream": "stdout",
       "text": [
        "\n",
        "Loss: 3.97e-04\tError: 1.99e-02\tStd dev: 5.55e-02\tResample: 2\n",
        "Loss: 6.00e-04\tError: 2.45e-02\tStd dev: 5.15e-02\tResample: 2"
       ]
      },
      {
       "output_type": "stream",
       "stream": "stdout",
       "text": [
        "\n",
        "Loss: 1.85e-03\tError: 4.30e-02\tStd dev: 4.90e-02\tResample: 2\n",
        "Loss: 1.09e-03\tError: 3.29e-02\tStd dev: 4.49e-02\tResample: 2"
       ]
      },
      {
       "output_type": "stream",
       "stream": "stdout",
       "text": [
        "\n",
        "Loss: 1.03e-03\tError: 3.21e-02\tStd dev: 4.56e-02\tResample: 2\n",
        "Loss: 2.29e-03\tError: 4.78e-02\tStd dev: 4.38e-02\tResample: 2"
       ]
      },
      {
       "output_type": "stream",
       "stream": "stdout",
       "text": [
        "\n",
        "Chose theta = [   5.61687401  289.93954769    0.69672607]."
       ]
      },
      {
       "output_type": "stream",
       "stream": "stdout",
       "text": [
        "\tLoss: 1.54e-03\tError: 3.92e-02\tStd dev: 4.10e-02\tResample: 2\n",
        "Chose theta = [   6.28318531  291.86758987    0.69171618]."
       ]
      },
      {
       "output_type": "stream",
       "stream": "stdout",
       "text": [
        "\tLoss: 1.21e-03\tError: 3.47e-02\tStd dev: 4.01e-02\tResample: 2\n",
        "Chose theta = [   3.13345909  293.15          0.7       ]."
       ]
      },
      {
       "output_type": "stream",
       "stream": "stdout",
       "text": [
        "\tLoss: 1.01e-03\tError: 3.17e-02\tStd dev: 4.05e-02\tResample: 2\n",
        "Chose theta = [   6.28318531  287.44064272    0.70123766]."
       ]
      },
      {
       "output_type": "stream",
       "stream": "stdout",
       "text": [
        "\tLoss: 1.42e-03\tError: 3.76e-02\tStd dev: 4.13e-02\tResample: 3"
       ]
      },
      {
       "output_type": "stream",
       "stream": "stdout",
       "text": [
        "\n",
        "Chose theta = [   6.18696439  287.37434683    0.69593556]."
       ]
      },
      {
       "output_type": "stream",
       "stream": "stdout",
       "text": [
        "\tLoss: 1.06e-03\tError: 3.23e-02\tStd dev: 3.94e-02\tResample: 3\n",
        "Chose theta = [   2.54402317  270.            0.71689842]."
       ]
      },
      {
       "output_type": "stream",
       "stream": "stdout",
       "text": [
        "\tLoss: 1.76e-03\tError: 4.18e-02\tStd dev: 3.86e-02\tResample: 3\n",
        "Chose theta = [   4.70449519  293.15          0.7       ]."
       ]
      },
      {
       "output_type": "stream",
       "stream": "stdout",
       "text": [
        "\tLoss: 1.69e-03\tError: 4.10e-02\tStd dev: 3.87e-02\tResample: 3\n",
        "Chose theta = [   4.70914745  293.15          0.7       ]."
       ]
      },
      {
       "output_type": "stream",
       "stream": "stdout",
       "text": [
        "\tLoss: 1.72e-03\tError: 4.14e-02\tStd dev: 3.88e-02\tResample: 3\n",
        "Chose theta = [   5.33184221  291.39680746    0.70076083]."
       ]
      },
      {
       "output_type": "stream",
       "stream": "stdout",
       "text": [
        "\tLoss: 1.27e-03\tError: 3.55e-02\tStd dev: 3.73e-02\tResample: 3\n",
        "Chose theta = [   3.10590045  310.            0.74471303]."
       ]
      },
      {
       "output_type": "stream",
       "stream": "stdout",
       "text": [
        "\tLoss: 1.84e-03\tError: 4.28e-02\tStd dev: 3.64e-02\tResample: 3\n",
        "Chose theta = [   5.60811458  310.            0.70868417]."
       ]
      },
      {
       "output_type": "stream",
       "stream": "stdout",
       "text": [
        "\tLoss: 1.33e-03\tError: 3.63e-02\tStd dev: 3.54e-02\tResample: 3\n",
        "Chose theta = [   1.56377675  293.15          0.7       ]."
       ]
      },
      {
       "output_type": "stream",
       "stream": "stdout",
       "text": [
        "\tLoss: 1.44e-03\tError: 3.78e-02\tStd dev: 3.52e-02\tResample: 3\n",
        "Chose theta = [   1.56331952  293.15          0.7       ]."
       ]
      },
      {
       "output_type": "stream",
       "stream": "stdout",
       "text": [
        "\tLoss: 1.50e-03\tError: 3.86e-02\tStd dev: 3.50e-02\tResample: 3\n",
        "Chose theta = [   3.72789868  310.            0.72081943]."
       ]
      },
      {
       "output_type": "stream",
       "stream": "stdout",
       "text": [
        "\tLoss: 1.22e-03\tError: 3.48e-02\tStd dev: 3.43e-02\tResample: 3\n",
        "Chose theta = [   5.02364088  295.33488404    0.70370511]."
       ]
      },
      {
       "output_type": "stream",
       "stream": "stdout",
       "text": [
        "\tLoss: 1.15e-03\tError: 3.37e-02\tStd dev: 3.37e-02\tResample: 3\n",
        "Chose theta = [   4.59023832  293.63042952    0.69554722]."
       ]
      },
      {
       "output_type": "stream",
       "stream": "stdout",
       "text": [
        "\tLoss: 1.01e-03\tError: 3.16e-02\tStd dev: 3.31e-02\tResample: 3\n",
        "Chose theta = [   1.56559666  293.15          0.7       ]."
       ]
      },
      {
       "output_type": "stream",
       "stream": "stdout",
       "text": [
        "\tLoss: 9.68e-04\tError: 3.09e-02\tStd dev: 3.34e-02\tResample: 3\n",
        "Chose theta = [   3.90752561  310.            0.7227458 ]."
       ]
      },
      {
       "output_type": "stream",
       "stream": "stdout",
       "text": [
        "\tLoss: 1.29e-03\tError: 3.57e-02\tStd dev: 3.27e-02\tResample: 3\n",
        "Chose theta = [   3.49258969  294.0721181     0.69987593]."
       ]
      },
      {
       "output_type": "stream",
       "stream": "stdout",
       "text": [
        "\tLoss: 5.49e-04\tError: 2.31e-02\tStd dev: 3.15e-02\tResample: 4"
       ]
      },
      {
       "output_type": "stream",
       "stream": "stdout",
       "text": [
        "\n",
        "0.898 \u00b1 0.00512\t"
       ]
      },
      {
       "output_type": "stream",
       "stream": "stdout",
       "text": [
        " 0.000314 \u00b1 0.00434\t 0.108 \u00b1 0.0315\t 22.0 \u00b1 0.00514\t -1.02 \u00b1 0.00581\t\n",
        "[ 0.9        0.         0.0844303  1.02     ]\n"
       ]
      },
      {
       "metadata": {},
       "output_type": "display_data",
       "png": "[encoded data removed]",
       "text": [
        "<matplotlib.figure.Figure at 0x50badd0>"
       ]
      }
     ],
     "prompt_number": 42
    },
    {
     "cell_type": "code",
     "collapsed": false,
     "input": [
      "x = np.arange(1,num,1)\n",
      "plot(x,times)\n",
      "savefig(\"adaptivetimes.eps\")"
     ],
     "language": "python",
     "metadata": {},
     "outputs": [
      {
       "metadata": {},
       "output_type": "display_data",
       "png": "[encoded data removed]",
       "text": [
        "<matplotlib.figure.Figure at 0x54b5e50>"
       ]
      }
     ],
     "prompt_number": 43
    },
    {
     "cell_type": "code",
     "collapsed": false,
     "input": [
      "res = make_array_adaptive(true_modelparams_array,exparams,n_thetas=200, n_guesses=5, n_neutrons=100, n_warmup_neutrons=100, quiet=False)"
     ],
     "language": "python",
     "metadata": {},
     "outputs": [
      {
       "output_type": "stream",
       "stream": "stdout",
       "text": [
        "Loss: 1.05e-02\tError: 1.00e-01\tStd dev: 1.21e-01\tResample: 1\n",
        "Loss: 6.50e-04\tError: 1.58e-02\tStd dev: 6.72e-02\tResample: 1\n",
        "Loss: 1.77e-03\tError: 3.70e-02\tStd dev: 6.48e-02\tResample: 1\n",
        "Loss: 3.81e-03\tError: 5.84e-02\tStd dev: 6.26e-02\tResample: 1\n",
        "Loss: 2.87e-03\tError: 4.96e-02\tStd dev: 5.92e-02\tResample: 1\n",
        "Loss: 2.41e-03\tError: 4.47e-02\tStd dev: 5.31e-02\tResample: 1\n",
        "Loss: 8.04e-04\tError: 1.98e-02\tStd dev: 4.52e-02\tResample: 2"
       ]
      },
      {
       "output_type": "stream",
       "stream": "stdout",
       "text": [
        "\n",
        "Loss: 9.16e-04\tError: 2.25e-02\tStd dev: 4.29e-02\tResample: 2\n",
        "Loss: 9.58e-04\tError: 2.34e-02\tStd dev: 4.23e-02\tResample: 2\n",
        "Loss: 7.17e-04\tError: 1.75e-02\tStd dev: 3.98e-02\tResample: 2\n",
        "Chose theta = [   0.88774075  292.15116134    0.72359094]."
       ]
      },
      {
       "output_type": "stream",
       "stream": "stdout",
       "text": [
        "\tLoss: 8.14e-04\tError: 2.01e-02\tStd dev: 3.83e-02\tResample: 2\n",
        "Chose theta = [   0.68629727  270.            0.71661821]."
       ]
      },
      {
       "output_type": "stream",
       "stream": "stdout",
       "text": [
        "\tLoss: 5.07e-04\tError: 9.85e-03\tStd dev: 3.64e-02\tResample: 2\n",
        "Chose theta = [   1.67453948  270.            0.62349443]."
       ]
      },
      {
       "output_type": "stream",
       "stream": "stdout",
       "text": [
        "\tLoss: 6.66e-04\tError: 1.62e-02\tStd dev: 3.55e-02\tResample: 2\n",
        "Chose theta = [   6.28318531  292.47793647    0.70735079]."
       ]
      },
      {
       "output_type": "stream",
       "stream": "stdout",
       "text": [
        "\tLoss: 7.14e-04\tError: 1.83e-02\tStd dev: 3.61e-02\tResample: 2\n",
        "Chose theta = [   3.46928215  298.64103806    0.71340419]."
       ]
      },
      {
       "output_type": "stream",
       "stream": "stdout",
       "text": [
        "\tLoss: 8.80e-04\tError: 2.27e-02\tStd dev: 3.51e-02\tResample: 2\n",
        "Chose theta = [   3.13635306  293.15          0.7       ]."
       ]
      },
      {
       "output_type": "stream",
       "stream": "stdout",
       "text": [
        "\tLoss: 9.05e-04\tError: 2.33e-02\tStd dev: 3.49e-02\tResample: 2\n",
        "Chose theta = [   3.18958129  295.15836232    0.75406171]."
       ]
      },
      {
       "output_type": "stream",
       "stream": "stdout",
       "text": [
        "\tLoss: 5.34e-04\tError: 1.17e-02\tStd dev: 3.32e-02\tResample: 2\n",
        "Chose theta = [  1.69992494e-01   3.10000000e+02   6.87936577e-01]."
       ]
      },
      {
       "output_type": "stream",
       "stream": "stdout",
       "text": [
        "\tLoss: 5.67e-04\tError: 1.30e-02\tStd dev: 3.21e-02\tResample: 2\n",
        "Chose theta = [   1.65406252  270.            0.61677224]."
       ]
      },
      {
       "output_type": "stream",
       "stream": "stdout",
       "text": [
        "\tLoss: 6.71e-04\tError: 1.67e-02\tStd dev: 3.12e-02\tResample: 2\n",
        "Chose theta = [   2.91713172  298.56652958    0.67481628]."
       ]
      },
      {
       "output_type": "stream",
       "stream": "stdout",
       "text": [
        "\tLoss: 9.79e-04\tError: 2.47e-02\tStd dev: 3.06e-02\tResample: 2\n",
        "Chose theta = [   3.13462029  293.15          0.7       ]."
       ]
      },
      {
       "output_type": "stream",
       "stream": "stdout",
       "text": [
        "\tLoss: 1.01e-03\tError: 2.53e-02\tStd dev: 3.05e-02\tResample: 2\n",
        "Chose theta = [   3.13692889  293.15          0.7       ]."
       ]
      },
      {
       "output_type": "stream",
       "stream": "stdout",
       "text": [
        "\tLoss: 1.01e-03\tError: 2.53e-02\tStd dev: 3.05e-02\tResample: 2\n",
        "Chose theta = [   2.92412852  273.89853921    0.61044026]."
       ]
      },
      {
       "output_type": "stream",
       "stream": "stdout",
       "text": [
        "\tLoss: 8.46e-04\tError: 2.16e-02\tStd dev: 2.96e-02\tResample: 2\n",
        "Chose theta = [   2.09992951  270.            0.68225816]."
       ]
      },
      {
       "output_type": "stream",
       "stream": "stdout",
       "text": [
        "\tLoss: 1.07e-03\tError: 2.64e-02\tStd dev: 2.92e-02\tResample: 2\n",
        "Chose theta = [   0.          295.69922126    0.70141743]."
       ]
      },
      {
       "output_type": "stream",
       "stream": "stdout",
       "text": [
        "\tLoss: 1.15e-03\tError: 2.78e-02\tStd dev: 2.95e-02\tResample: 2\n",
        "Chose theta = [   4.37145249  310.            0.74852602]."
       ]
      },
      {
       "output_type": "stream",
       "stream": "stdout",
       "text": [
        "\tLoss: 1.92e-03\tError: 4.01e-02\tStd dev: 2.92e-02\tResample: 3\n",
        "Chose theta = [   2.10166354  310.            0.77636937]."
       ]
      },
      {
       "output_type": "stream",
       "stream": "stdout",
       "text": [
        "\tLoss: 1.62e-03\tError: 3.61e-02\tStd dev: 2.86e-02\tResample: 3\n",
        "Chose theta = [   1.35492729  305.22787187    0.67429142]."
       ]
      },
      {
       "output_type": "stream",
       "stream": "stdout",
       "text": [
        "\tLoss: 2.06e-03\tError: 4.18e-02\tStd dev: 2.79e-02\tResample: 3\n",
        "Chose theta = [   2.86038542  310.            0.78015262]."
       ]
      },
      {
       "output_type": "stream",
       "stream": "stdout",
       "text": [
        "\tLoss: 1.99e-03\tError: 4.09e-02\tStd dev: 2.77e-02\tResample: 3\n",
        "Chose theta = [   3.11503884  297.89031809    0.67885951]."
       ]
      },
      {
       "output_type": "stream",
       "stream": "stdout",
       "text": [
        "\tLoss: 2.31e-03\tError: 4.48e-02\tStd dev: 2.73e-02\tResample: 3\n",
        "Chose theta = [   2.99803332  270.            0.64346297]."
       ]
      },
      {
       "output_type": "stream",
       "stream": "stdout",
       "text": [
        "\tLoss: 3.02e-03\tError: 5.22e-02\tStd dev: 2.75e-02\tResample: 4\n",
        "Chose theta = [   1.56543316  293.15          0.7       ]."
       ]
      },
      {
       "output_type": "stream",
       "stream": "stdout",
       "text": [
        "\tLoss: 3.00e-03\tError: 5.20e-02\tStd dev: 2.75e-02\tResample: 4\n",
        "Chose theta = [   1.56637411  293.15          0.7       ]."
       ]
      },
      {
       "output_type": "stream",
       "stream": "stdout",
       "text": [
        "\tLoss: 2.98e-03\tError: 5.18e-02\tStd dev: 2.75e-02\tResample: 4\n",
        "Chose theta = [   0.95813025  310.            0.83756835]."
       ]
      },
      {
       "output_type": "stream",
       "stream": "stdout",
       "text": [
        "\tLoss: 3.46e-03\tError: 5.62e-02\tStd dev: 2.69e-02\tResample: 4\n",
        "Chose theta = [   3.90739217  293.43392202    0.69462389]."
       ]
      },
      {
       "output_type": "stream",
       "stream": "stdout",
       "text": [
        "\tLoss: 2.36e-03\tError: 4.50e-02\tStd dev: 2.68e-02\tResample: 4\n",
        "Chose theta = [   3.13393427  293.15          0.7       ]."
       ]
      },
      {
       "output_type": "stream",
       "stream": "stdout",
       "text": [
        "\tLoss: 2.10e-03\tError: 4.19e-02\tStd dev: 2.71e-02\tResample: 5\n",
        "Chose theta = [   1.56623784  293.15          0.7       ]."
       ]
      },
      {
       "output_type": "stream",
       "stream": "stdout",
       "text": [
        "\tLoss: 2.10e-03\tError: 4.18e-02\tStd dev: 2.71e-02\tResample: 5\n",
        "Chose theta = [   4.21670421  293.77847144    0.70185653]."
       ]
      },
      {
       "output_type": "stream",
       "stream": "stdout",
       "text": [
        "\tLoss: 2.18e-03\tError: 4.28e-02\tStd dev: 2.67e-02\tResample: 5\n",
        "Chose theta = [   1.5632642  293.15         0.7      ]."
       ]
      },
      {
       "output_type": "stream",
       "stream": "stdout",
       "text": [
        "\tLoss: 2.16e-03\tError: 4.26e-02\tStd dev: 2.70e-02\tResample: 5\n",
        "Chose theta = [   1.56656238  293.15          0.7       ]."
       ]
      },
      {
       "output_type": "stream",
       "stream": "stdout",
       "text": [
        "\tLoss: 2.12e-03\tError: 4.22e-02\tStd dev: 2.69e-02\tResample: 5\n",
        "Chose theta = [   1.56491973  293.15          0.7       ]."
       ]
      },
      {
       "output_type": "stream",
       "stream": "stdout",
       "text": [
        "\tLoss: 2.09e-03\tError: 4.17e-02\tStd dev: 2.67e-02\tResample: 5\n",
        "Chose theta = [   1.56731717  293.15          0.7       ]."
       ]
      },
      {
       "output_type": "stream",
       "stream": "stdout",
       "text": [
        "\tLoss: 2.19e-03\tError: 4.29e-02\tStd dev: 2.69e-02\tResample: 5\n",
        "Chose theta = [   0.46863196  291.51600604    0.69828825]."
       ]
      },
      {
       "output_type": "stream",
       "stream": "stdout",
       "text": [
        "\tLoss: 1.82e-03\tError: 3.85e-02\tStd dev: 2.63e-02\tResample: 5\n",
        "Chose theta = [   1.56560923  293.15          0.7       ]."
       ]
      },
      {
       "output_type": "stream",
       "stream": "stdout",
       "text": [
        "\tLoss: 1.79e-03\tError: 3.81e-02\tStd dev: 2.61e-02\tResample: 5\n",
        "Chose theta = [   1.87655464  279.59978295    0.72695489]."
       ]
      },
      {
       "output_type": "stream",
       "stream": "stdout",
       "text": [
        "\tLoss: 2.20e-03\tError: 4.32e-02\tStd dev: 2.58e-02\tResample: 5\n",
        "Chose theta = [   1.56453093  293.15          0.7       ]."
       ]
      },
      {
       "output_type": "stream",
       "stream": "stdout",
       "text": [
        "\tLoss: 2.19e-03\tError: 4.31e-02\tStd dev: 2.58e-02\tResample: 5\n",
        "Chose theta = [   1.56776083  293.15          0.7       ]."
       ]
      },
      {
       "output_type": "stream",
       "stream": "stdout",
       "text": [
        "\tLoss: 2.19e-03\tError: 4.30e-02\tStd dev: 2.58e-02\tResample: 5\n",
        "Chose theta = [   1.56646333  293.15          0.7       ]."
       ]
      },
      {
       "output_type": "stream",
       "stream": "stdout",
       "text": [
        "\tLoss: 2.23e-03\tError: 4.35e-02\tStd dev: 2.59e-02\tResample: 5\n",
        "Chose theta = [   1.56421705  293.15          0.7       ]."
       ]
      },
      {
       "output_type": "stream",
       "stream": "stdout",
       "text": [
        "\tLoss: 2.22e-03\tError: 4.34e-02\tStd dev: 2.59e-02\tResample: 5\n",
        "Chose theta = [   5.8769337   270.            0.76273033]."
       ]
      },
      {
       "output_type": "stream",
       "stream": "stdout",
       "text": [
        "\tLoss: 2.29e-03\tError: 4.43e-02\tStd dev: 2.58e-02\tResample: 5\n",
        "Chose theta = [   6.28318531  293.13015335    0.70023989]."
       ]
      },
      {
       "output_type": "stream",
       "stream": "stdout",
       "text": [
        "\tLoss: 2.27e-03\tError: 4.41e-02\tStd dev: 2.58e-02\tResample: 5\n",
        "Chose theta = [   0.44139975  290.84930158    0.73708243]."
       ]
      },
      {
       "output_type": "stream",
       "stream": "stdout",
       "text": [
        "\tLoss: 2.38e-03\tError: 4.53e-02\tStd dev: 2.55e-02\tResample: 5\n",
        "Chose theta = [   1.56619861  293.15          0.7       ]."
       ]
      },
      {
       "output_type": "stream",
       "stream": "stdout",
       "text": [
        "\tLoss: 2.38e-03\tError: 4.52e-02\tStd dev: 2.55e-02\tResample: 5\n",
        "Chose theta = [   6.28318531  293.19240858    0.69953396]."
       ]
      },
      {
       "output_type": "stream",
       "stream": "stdout",
       "text": [
        "\tLoss: 2.42e-03\tError: 4.57e-02\tStd dev: 2.55e-02\tResample: 5\n",
        "Chose theta = [   5.49128387  270.            0.56889798]."
       ]
      },
      {
       "output_type": "stream",
       "stream": "stdout",
       "text": [
        "\tLoss: 2.27e-03\tError: 4.39e-02\tStd dev: 2.53e-02\tResample: 5\n",
        "Chose theta = [   1.56506106  293.15          0.7       ]."
       ]
      },
      {
       "output_type": "stream",
       "stream": "stdout",
       "text": [
        "\tLoss: 2.26e-03\tError: 4.38e-02\tStd dev: 2.54e-02\tResample: 5\n",
        "Chose theta = [   1.56301961  293.15          0.7       ]."
       ]
      },
      {
       "output_type": "stream",
       "stream": "stdout",
       "text": [
        "\tLoss: 2.27e-03\tError: 4.39e-02\tStd dev: 2.54e-02\tResample: 5\n",
        "Chose theta = [   1.56403293  293.15          0.7       ]."
       ]
      },
      {
       "output_type": "stream",
       "stream": "stdout",
       "text": [
        "\tLoss: 2.30e-03\tError: 4.43e-02\tStd dev: 2.53e-02\tResample: 5\n",
        "Chose theta = [   0.8057778   310.            0.43743597]."
       ]
      },
      {
       "output_type": "stream",
       "stream": "stdout",
       "text": [
        "\tLoss: 2.45e-03\tError: 4.59e-02\tStd dev: 2.48e-02\tResample: 5\n",
        "Chose theta = [   2.07570084  310.            0.69384967]."
       ]
      },
      {
       "output_type": "stream",
       "stream": "stdout",
       "text": [
        "\tLoss: 2.15e-03\tError: 4.25e-02\tStd dev: 2.44e-02\tResample: 5\n",
        "Chose theta = [   1.56251604  293.15          0.7       ]."
       ]
      },
      {
       "output_type": "stream",
       "stream": "stdout",
       "text": [
        "\tLoss: 2.11e-03\tError: 4.20e-02\tStd dev: 2.45e-02\tResample: 5\n",
        "Chose theta = [   6.2778658  293.15         0.7      ]."
       ]
      },
      {
       "output_type": "stream",
       "stream": "stdout",
       "text": [
        "\tLoss: 2.11e-03\tError: 4.20e-02\tStd dev: 2.45e-02\tResample: 5\n",
        "Chose theta = [   6.28318531  293.1801399     0.70017006]."
       ]
      },
      {
       "output_type": "stream",
       "stream": "stdout",
       "text": [
        "\tLoss: 2.14e-03\tError: 4.23e-02\tStd dev: 2.45e-02\tResample: 5\n",
        "Chose theta = [   1.56486422  293.15          0.7       ]."
       ]
      },
      {
       "output_type": "stream",
       "stream": "stdout",
       "text": [
        "\tLoss: 2.13e-03\tError: 4.23e-02\tStd dev: 2.45e-02\tResample: 5\n",
        "Chose theta = [   6.27846261  293.15          0.7       ]."
       ]
      },
      {
       "output_type": "stream",
       "stream": "stdout",
       "text": [
        "\tLoss: 2.12e-03\tError: 4.22e-02\tStd dev: 2.45e-02\tResample: 5\n",
        "Chose theta = [   1.56484096  293.15          0.7       ]."
       ]
      },
      {
       "output_type": "stream",
       "stream": "stdout",
       "text": [
        "\tLoss: 2.13e-03\tError: 4.22e-02\tStd dev: 2.45e-02\tResample: 5\n",
        "Chose theta = [   6.28318531  293.15555968    0.70028438]."
       ]
      },
      {
       "output_type": "stream",
       "stream": "stdout",
       "text": [
        "\tLoss: 2.12e-03\tError: 4.21e-02\tStd dev: 2.45e-02\tResample: 5\n",
        "Chose theta = [   6.28318531  293.11650043    0.69954715]."
       ]
      },
      {
       "output_type": "stream",
       "stream": "stdout",
       "text": [
        "\tLoss: 2.11e-03\tError: 4.20e-02\tStd dev: 2.45e-02\tResample: 5\n",
        "Chose theta = [   6.28318531  293.14583606    0.70004686]."
       ]
      },
      {
       "output_type": "stream",
       "stream": "stdout",
       "text": [
        "\tLoss: 2.09e-03\tError: 4.17e-02\tStd dev: 2.44e-02\tResample: 5\n",
        "Chose theta = [   1.80572053  310.            0.72671843]."
       ]
      },
      {
       "output_type": "stream",
       "stream": "stdout",
       "text": [
        "\tLoss: 1.89e-03\tError: 3.92e-02\tStd dev: 2.41e-02\tResample: 5\n",
        "Chose theta = [   5.35296068  270.            0.82427255]."
       ]
      },
      {
       "output_type": "stream",
       "stream": "stdout",
       "text": [
        "\tLoss: 1.82e-03\tError: 3.82e-02\tStd dev: 2.40e-02\tResample: 5\n",
        "Chose theta = [   6.28318531  293.30778791    0.69992023]."
       ]
      },
      {
       "output_type": "stream",
       "stream": "stdout",
       "text": [
        "\tLoss: 1.83e-03\tError: 3.84e-02\tStd dev: 2.40e-02\tResample: 5\n",
        "Chose theta = [   4.92919783  310.            0.60511767]."
       ]
      },
      {
       "output_type": "stream",
       "stream": "stdout",
       "text": [
        "\tLoss: 1.76e-03\tError: 3.73e-02\tStd dev: 2.39e-02\tResample: 5\n",
        "Chose theta = [   1.56414055  293.15          0.7       ]."
       ]
      },
      {
       "output_type": "stream",
       "stream": "stdout",
       "text": [
        "\tLoss: 1.78e-03\tError: 3.76e-02\tStd dev: 2.39e-02\tResample: 5\n",
        "Chose theta = [   6.27851998  293.15          0.7       ]."
       ]
      },
      {
       "output_type": "stream",
       "stream": "stdout",
       "text": [
        "\tLoss: 1.78e-03\tError: 3.75e-02\tStd dev: 2.39e-02\tResample: 5\n",
        "Chose theta = [   6.28318531  292.998455      0.70025969]."
       ]
      },
      {
       "output_type": "stream",
       "stream": "stdout",
       "text": [
        "\tLoss: 1.78e-03\tError: 3.76e-02\tStd dev: 2.39e-02\tResample: 5\n",
        "Chose theta = [  1.12477323e-01   3.10000000e+02   7.81521319e-01]."
       ]
      },
      {
       "output_type": "stream",
       "stream": "stdout",
       "text": [
        "\tLoss: 1.96e-03\tError: 3.98e-02\tStd dev: 2.36e-02\tResample: 5\n",
        "Chose theta = [   6.28318531  293.19078629    0.7000697 ]."
       ]
      },
      {
       "output_type": "stream",
       "stream": "stdout",
       "text": [
        "\tLoss: 1.99e-03\tError: 4.02e-02\tStd dev: 2.36e-02\tResample: 5\n",
        "Chose theta = [   6.28318531  293.15689897    0.6999806 ]."
       ]
      },
      {
       "output_type": "stream",
       "stream": "stdout",
       "text": [
        "\tLoss: 1.98e-03\tError: 4.01e-02\tStd dev: 2.36e-02\tResample: 5\n",
        "Chose theta = [   6.27669059  293.15          0.7       ]."
       ]
      },
      {
       "output_type": "stream",
       "stream": "stdout",
       "text": [
        "\tLoss: 1.96e-03\tError: 3.97e-02\tStd dev: 2.36e-02\tResample: 5\n",
        "Chose theta = [   6.27620987  293.15          0.7       ]."
       ]
      },
      {
       "output_type": "stream",
       "stream": "stdout",
       "text": [
        "\tLoss: 1.97e-03\tError: 3.97e-02\tStd dev: 2.36e-02\tResample: 5\n",
        "Chose theta = [   0.81130313  292.55883362    0.69802627]."
       ]
      },
      {
       "output_type": "stream",
       "stream": "stdout",
       "text": [
        "\tLoss: 2.64e-03\tError: 4.73e-02\tStd dev: 2.31e-02\tResample: 5\n",
        "Chose theta = [   1.56168461  293.15          0.7       ]."
       ]
      },
      {
       "output_type": "stream",
       "stream": "stdout",
       "text": [
        "\tLoss: 2.59e-03\tError: 4.68e-02\tStd dev: 2.32e-02\tResample: 5\n",
        "Chose theta = [   6.28318531  293.29413973    0.70015013]."
       ]
      },
      {
       "output_type": "stream",
       "stream": "stdout",
       "text": [
        "\tLoss: 2.64e-03\tError: 4.74e-02\tStd dev: 2.33e-02\tResample: 6\n",
        "Chose theta = [   4.707645  293.15        0.7     ]."
       ]
      },
      {
       "output_type": "stream",
       "stream": "stdout",
       "text": [
        "\tLoss: 2.63e-03\tError: 4.73e-02\tStd dev: 2.33e-02\tResample: 6\n",
        "Chose theta = [   0.35647718  290.58509305    0.69577848]."
       ]
      },
      {
       "output_type": "stream",
       "stream": "stdout",
       "text": [
        "\tLoss: 2.59e-03\tError: 4.69e-02\tStd dev: 2.29e-02\tResample: 6\n",
        "Chose theta = [   4.70709883  293.15          0.7       ]."
       ]
      },
      {
       "output_type": "stream",
       "stream": "stdout",
       "text": [
        "\tLoss: 2.59e-03\tError: 4.68e-02\tStd dev: 2.29e-02\tResample: 6\n",
        "Chose theta = [   6.27673483  293.15          0.7       ]."
       ]
      },
      {
       "output_type": "stream",
       "stream": "stdout",
       "text": [
        "\tLoss: 2.61e-03\tError: 4.72e-02\tStd dev: 2.29e-02\tResample: 6\n",
        "Chose theta = [   4.7079778  293.15         0.7      ]."
       ]
      },
      {
       "output_type": "stream",
       "stream": "stdout",
       "text": [
        "\tLoss: 2.60e-03\tError: 4.71e-02\tStd dev: 2.29e-02\tResample: 6\n",
        "Chose theta = [   4.70499467  293.15          0.7       ]."
       ]
      },
      {
       "output_type": "stream",
       "stream": "stdout",
       "text": [
        "\tLoss: 2.62e-03\tError: 4.73e-02\tStd dev: 2.29e-02\tResample: 6\n",
        "Chose theta = [   4.70803061  293.15          0.7       ]."
       ]
      },
      {
       "output_type": "stream",
       "stream": "stdout",
       "text": [
        "\tLoss: 2.61e-03\tError: 4.72e-02\tStd dev: 2.29e-02\tResample: 6\n",
        "Chose theta = [   6.27630303  293.15          0.7       ]."
       ]
      },
      {
       "output_type": "stream",
       "stream": "stdout",
       "text": [
        "\tLoss: 2.61e-03\tError: 4.73e-02\tStd dev: 2.29e-02\tResample: 6\n",
        "Chose theta = [   4.70555581  293.15          0.7       ]."
       ]
      },
      {
       "output_type": "stream",
       "stream": "stdout",
       "text": [
        "\tLoss: 2.62e-03\tError: 4.73e-02\tStd dev: 2.29e-02\tResample: 6\n",
        "Chose theta = [   6.27675422  293.15          0.7       ]."
       ]
      },
      {
       "output_type": "stream",
       "stream": "stdout",
       "text": [
        "\tLoss: 2.62e-03\tError: 4.73e-02\tStd dev: 2.29e-02\tResample: 6\n",
        "Chose theta = [   4.70487618  293.15          0.7       ]."
       ]
      },
      {
       "output_type": "stream",
       "stream": "stdout",
       "text": [
        "\tLoss: 2.63e-03\tError: 4.75e-02\tStd dev: 2.29e-02\tResample: 6\n",
        "Chose theta = [   3.13281777  293.15          0.7       ]."
       ]
      },
      {
       "output_type": "stream",
       "stream": "stdout",
       "text": [
        "\tLoss: 2.60e-03\tError: 4.70e-02\tStd dev: 2.29e-02\tResample: 6\n",
        "Chose theta = [   6.27480217  293.15          0.7       ]."
       ]
      },
      {
       "output_type": "stream",
       "stream": "stdout",
       "text": [
        "\tLoss: 2.61e-03\tError: 4.71e-02\tStd dev: 2.29e-02\tResample: 6\n",
        "Chose theta = [   4.70513425  293.15          0.7       ]."
       ]
      },
      {
       "output_type": "stream",
       "stream": "stdout",
       "text": [
        "\tLoss: 2.60e-03\tError: 4.70e-02\tStd dev: 2.29e-02\tResample: 6\n",
        "Chose theta = [   4.70828599  293.15          0.7       ]."
       ]
      },
      {
       "output_type": "stream",
       "stream": "stdout",
       "text": [
        "\tLoss: 2.61e-03\tError: 4.71e-02\tStd dev: 2.29e-02\tResample: 6\n",
        "Chose theta = [   6.27695445  293.15          0.7       ]."
       ]
      },
      {
       "output_type": "stream",
       "stream": "stdout",
       "text": [
        "\tLoss: 2.62e-03\tError: 4.74e-02\tStd dev: 2.30e-02\tResample: 6\n",
        "Chose theta = [   6.27886796  293.15          0.7       ]."
       ]
      },
      {
       "output_type": "stream",
       "stream": "stdout",
       "text": [
        "\tLoss: 2.62e-03\tError: 4.74e-02\tStd dev: 2.30e-02\tResample: 6\n",
        "Chose theta = [   6.27647257  293.15          0.7       ]."
       ]
      },
      {
       "output_type": "stream",
       "stream": "stdout",
       "text": [
        "\tLoss: 2.63e-03\tError: 4.76e-02\tStd dev: 2.30e-02\tResample: 6\n",
        "Chose theta = [   0.90225282  292.83046281    0.69945891]."
       ]
      },
      {
       "output_type": "stream",
       "stream": "stdout",
       "text": [
        "\tLoss: 2.38e-03\tError: 4.49e-02\tStd dev: 2.26e-02\tResample: 6\n",
        "Chose theta = [   6.27757649  293.15          0.7       ]."
       ]
      },
      {
       "output_type": "stream",
       "stream": "stdout",
       "text": [
        "\tLoss: 2.37e-03\tError: 4.47e-02\tStd dev: 2.26e-02\tResample: 6\n",
        "Chose theta = [   6.27859524  293.15          0.7       ]."
       ]
      },
      {
       "output_type": "stream",
       "stream": "stdout",
       "text": [
        "\tLoss: 2.36e-03\tError: 4.46e-02\tStd dev: 2.26e-02\tResample: 6\n",
        "Chose theta = [  9.76606078e-02   2.91968002e+02   7.01435838e-01]."
       ]
      },
      {
       "output_type": "stream",
       "stream": "stdout",
       "text": [
        "\tLoss: 1.98e-03\tError: 4.03e-02\tStd dev: 2.22e-02\tResample: 6\n",
        "Chose theta = [   4.70684625  293.15          0.7       ]."
       ]
      },
      {
       "output_type": "stream",
       "stream": "stdout",
       "text": [
        "\tLoss: 1.98e-03\tError: 4.02e-02\tStd dev: 2.22e-02\tResample: 6\n",
        "Chose theta = [   4.70565647  293.15          0.7       ]."
       ]
      },
      {
       "output_type": "stream",
       "stream": "stdout",
       "text": [
        "\tLoss: 1.97e-03\tError: 4.02e-02\tStd dev: 2.22e-02\tResample: 6\n",
        "Chose theta = [   4.70508903  293.15          0.7       ]."
       ]
      },
      {
       "output_type": "stream",
       "stream": "stdout",
       "text": [
        "\tLoss: 1.96e-03\tError: 4.00e-02\tStd dev: 2.22e-02\tResample: 6\n",
        "Chose theta = [   4.7071799  293.15         0.7      ]."
       ]
      },
      {
       "output_type": "stream",
       "stream": "stdout",
       "text": [
        "\tLoss: 1.96e-03\tError: 3.99e-02\tStd dev: 2.22e-02\tResample: 6\n",
        "Chose theta = [   4.70551947  293.15          0.7       ]."
       ]
      },
      {
       "output_type": "stream",
       "stream": "stdout",
       "text": [
        "\tLoss: 1.96e-03\tError: 4.00e-02\tStd dev: 2.22e-02\tResample: 6\n",
        "Chose theta = [   0.82439959  292.68669381    0.69821888]."
       ]
      },
      {
       "output_type": "stream",
       "stream": "stdout",
       "text": [
        "\tLoss: 1.87e-03\tError: 3.88e-02\tStd dev: 2.19e-02\tResample: 6\n",
        "Chose theta = [   4.70575386  293.15          0.7       ]."
       ]
      },
      {
       "output_type": "stream",
       "stream": "stdout",
       "text": [
        "\tLoss: 1.87e-03\tError: 3.89e-02\tStd dev: 2.20e-02\tResample: 6\n",
        "Chose theta = [   4.70697333  293.15          0.7       ]."
       ]
      },
      {
       "output_type": "stream",
       "stream": "stdout",
       "text": [
        "\tLoss: 1.88e-03\tError: 3.90e-02\tStd dev: 2.19e-02\tResample: 6\n",
        "Chose theta = [   4.70473974  293.15          0.7       ]."
       ]
      },
      {
       "output_type": "stream",
       "stream": "stdout",
       "text": [
        "\tLoss: 1.87e-03\tError: 3.89e-02\tStd dev: 2.19e-02\tResample: 6\n",
        "Chose theta = [   4.70559217  293.15          0.7       ]."
       ]
      },
      {
       "output_type": "stream",
       "stream": "stdout",
       "text": [
        "\tLoss: 1.87e-03\tError: 3.89e-02\tStd dev: 2.19e-02\tResample: 6\n",
        "Chose theta = [   4.70556393  293.15          0.7       ]."
       ]
      },
      {
       "output_type": "stream",
       "stream": "stdout",
       "text": [
        "\tLoss: 1.88e-03\tError: 3.89e-02\tStd dev: 2.19e-02\tResample: 6\n",
        "Chose theta = [   4.70532404  293.15          0.7       ]."
       ]
      },
      {
       "output_type": "stream",
       "stream": "stdout",
       "text": [
        "\tLoss: 1.88e-03\tError: 3.90e-02\tStd dev: 2.19e-02\tResample: 6\n",
        "Chose theta = [   4.70427802  293.15          0.7       ]."
       ]
      },
      {
       "output_type": "stream",
       "stream": "stdout",
       "text": [
        "\tLoss: 1.89e-03\tError: 3.92e-02\tStd dev: 2.19e-02\tResample: 6\n",
        "Chose theta = [   6.27790861  293.15          0.7       ]."
       ]
      },
      {
       "output_type": "stream",
       "stream": "stdout",
       "text": [
        "\tLoss: 1.89e-03\tError: 3.93e-02\tStd dev: 2.19e-02\tResample: 6\n",
        "Chose theta = [   4.81552881  303.26260297    1.        ]."
       ]
      },
      {
       "output_type": "stream",
       "stream": "stdout",
       "text": [
        "\tLoss: 2.02e-03\tError: 4.12e-02\tStd dev: 2.18e-02\tResample: 6\n",
        "Chose theta = [   6.28318531  293.10962753    0.70008606]."
       ]
      },
      {
       "output_type": "stream",
       "stream": "stdout",
       "text": [
        "\tLoss: 2.03e-03\tError: 4.13e-02\tStd dev: 2.18e-02\tResample: 6\n",
        "Chose theta = [   0.52815618  291.47584408    0.69726031]."
       ]
      },
      {
       "output_type": "stream",
       "stream": "stdout",
       "text": [
        "\tLoss: 1.84e-03\tError: 3.89e-02\tStd dev: 2.15e-02\tResample: 6\n",
        "Chose theta = [   6.27802898  293.15          0.7       ]."
       ]
      },
      {
       "output_type": "stream",
       "stream": "stdout",
       "text": [
        "\tLoss: 1.84e-03\tError: 3.89e-02\tStd dev: 2.15e-02\tResample: 6\n",
        "Chose theta = [   6.28318531  293.11068857    0.69985508]."
       ]
      },
      {
       "output_type": "stream",
       "stream": "stdout",
       "text": [
        "\tLoss: 1.82e-03\tError: 3.87e-02\tStd dev: 2.15e-02\tResample: 6\n",
        "Chose theta = [   6.28318531  293.04332966    0.69987795]."
       ]
      },
      {
       "output_type": "stream",
       "stream": "stdout",
       "text": [
        "\tLoss: 1.83e-03\tError: 3.88e-02\tStd dev: 2.15e-02\tResample: 6\n",
        "Chose theta = [   4.70765171  293.15          0.7       ]."
       ]
      },
      {
       "output_type": "stream",
       "stream": "stdout",
       "text": [
        "\tLoss: 1.84e-03\tError: 3.89e-02\tStd dev: 2.14e-02\tResample: 6\n",
        "Chose theta = [   4.70681377  293.15          0.7       ]."
       ]
      },
      {
       "output_type": "stream",
       "stream": "stdout",
       "text": [
        "\tLoss: 1.84e-03\tError: 3.89e-02\tStd dev: 2.14e-02\tResample: 6\n",
        "Chose theta = [   1.56277866  293.15          0.7       ]."
       ]
      },
      {
       "output_type": "stream",
       "stream": "stdout",
       "text": [
        "\tLoss: 1.84e-03\tError: 3.90e-02\tStd dev: 2.14e-02\tResample: 6\n",
        "Chose theta = [   1.234234    305.8845027     0.63405068]."
       ]
      },
      {
       "output_type": "stream",
       "stream": "stdout",
       "text": [
        "\tLoss: 1.82e-03\tError: 3.86e-02\tStd dev: 2.12e-02\tResample: 6\n",
        "Chose theta = [   6.28318531  293.16386646    0.70006693]."
       ]
      },
      {
       "output_type": "stream",
       "stream": "stdout",
       "text": [
        "\tLoss: 1.79e-03\tError: 3.82e-02\tStd dev: 2.12e-02\tResample: 6\n",
        "Chose theta = [   6.28318531  293.11663156    0.69971872]."
       ]
      },
      {
       "output_type": "stream",
       "stream": "stdout",
       "text": [
        "\tLoss: 1.76e-03\tError: 3.77e-02\tStd dev: 2.13e-02\tResample: 7\n",
        "Chose theta = [   3.13542504  293.15          0.7       ]."
       ]
      },
      {
       "output_type": "stream",
       "stream": "stdout",
       "text": [
        "\tLoss: 1.76e-03\tError: 3.77e-02\tStd dev: 2.13e-02\tResample: 7\n",
        "Chose theta = [   3.13583956  293.15          0.7       ]."
       ]
      },
      {
       "output_type": "stream",
       "stream": "stdout",
       "text": [
        "\tLoss: 1.77e-03\tError: 3.76e-02\tStd dev: 2.14e-02\tResample: 7\n",
        "Chose theta = [   6.27659123  293.15          0.7       ]."
       ]
      },
      {
       "output_type": "stream",
       "stream": "stdout",
       "text": [
        "\tLoss: 1.77e-03\tError: 3.77e-02\tStd dev: 2.14e-02\tResample: 7\n",
        "Chose theta = [   3.13585302  293.15          0.7       ]."
       ]
      },
      {
       "output_type": "stream",
       "stream": "stdout",
       "text": [
        "\tLoss: 1.77e-03\tError: 3.77e-02\tStd dev: 2.14e-02\tResample: 7\n",
        "Chose theta = [   3.13739221  293.15          0.7       ]."
       ]
      },
      {
       "output_type": "stream",
       "stream": "stdout",
       "text": [
        "\tLoss: 1.76e-03\tError: 3.76e-02\tStd dev: 2.14e-02\tResample: 7\n",
        "Chose theta = [   6.27572397  293.15          0.7       ]."
       ]
      },
      {
       "output_type": "stream",
       "stream": "stdout",
       "text": [
        "\tLoss: 1.76e-03\tError: 3.76e-02\tStd dev: 2.14e-02\tResample: 7\n",
        "Chose theta = [   3.137088  293.15        0.7     ]."
       ]
      },
      {
       "output_type": "stream",
       "stream": "stdout",
       "text": [
        "\tLoss: 1.78e-03\tError: 3.78e-02\tStd dev: 2.14e-02\tResample: 7\n",
        "Chose theta = [   3.13674172  293.15          0.7       ]."
       ]
      },
      {
       "output_type": "stream",
       "stream": "stdout",
       "text": [
        "\tLoss: 1.79e-03\tError: 3.78e-02\tStd dev: 2.14e-02\tResample: 7\n",
        "Chose theta = [   3.13653158  293.15          0.7       ]."
       ]
      },
      {
       "output_type": "stream",
       "stream": "stdout",
       "text": [
        "\tLoss: 1.79e-03\tError: 3.78e-02\tStd dev: 2.14e-02\tResample: 7\n",
        "Chose theta = [   3.13694426  293.15          0.7       ]."
       ]
      },
      {
       "output_type": "stream",
       "stream": "stdout",
       "text": [
        "\tLoss: 1.79e-03\tError: 3.79e-02\tStd dev: 2.14e-02\tResample: 7\n",
        "Chose theta = [   3.13547856  293.15          0.7       ]."
       ]
      },
      {
       "output_type": "stream",
       "stream": "stdout",
       "text": [
        "\tLoss: 1.79e-03\tError: 3.76e-02\tStd dev: 2.15e-02\tResample: 7\n",
        "Chose theta = [   3.13612726  293.15          0.7       ]."
       ]
      },
      {
       "output_type": "stream",
       "stream": "stdout",
       "text": [
        "\tLoss: 1.79e-03\tError: 3.76e-02\tStd dev: 2.15e-02\tResample: 7\n",
        "Chose theta = [   6.2762239  293.15         0.7      ]."
       ]
      },
      {
       "output_type": "stream",
       "stream": "stdout",
       "text": [
        "\tLoss: 1.78e-03\tError: 3.75e-02\tStd dev: 2.15e-02\tResample: 7\n",
        "Chose theta = [   3.13525101  293.15          0.7       ]."
       ]
      },
      {
       "output_type": "stream",
       "stream": "stdout",
       "text": [
        "\tLoss: 1.76e-03\tError: 3.71e-02\tStd dev: 2.17e-02\tResample: 8\n",
        "Chose theta = [   3.13593435  293.15          0.7       ]."
       ]
      },
      {
       "output_type": "stream",
       "stream": "stdout",
       "text": [
        "\tLoss: 1.77e-03\tError: 3.74e-02\tStd dev: 2.15e-02\tResample: 8\n",
        "Chose theta = [   3.13674429  293.15          0.7       ]."
       ]
      },
      {
       "output_type": "stream",
       "stream": "stdout",
       "text": [
        "\tLoss: 1.78e-03\tError: 3.74e-02\tStd dev: 2.16e-02\tResample: 8\n",
        "Chose theta = [   6.27655589  293.15          0.7       ]."
       ]
      },
      {
       "output_type": "stream",
       "stream": "stdout",
       "text": [
        "\tLoss: 1.79e-03\tError: 3.77e-02\tStd dev: 2.15e-02\tResample: 8\n",
        "Chose theta = [   3.13641184  293.15          0.7       ]."
       ]
      },
      {
       "output_type": "stream",
       "stream": "stdout",
       "text": [
        "\tLoss: 1.79e-03\tError: 3.76e-02\tStd dev: 2.16e-02\tResample: 8\n",
        "Chose theta = [   3.92240198  270.            0.57549617]."
       ]
      },
      {
       "output_type": "stream",
       "stream": "stdout",
       "text": [
        "\tLoss: 1.82e-03\tError: 3.81e-02\tStd dev: 2.15e-02\tResample: 8\n",
        "Chose theta = [   3.13499189  293.15          0.7       ]."
       ]
      },
      {
       "output_type": "stream",
       "stream": "stdout",
       "text": [
        "\tLoss: 1.83e-03\tError: 3.82e-02\tStd dev: 2.14e-02\tResample: 8\n",
        "Chose theta = [   3.135414  293.15        0.7     ]."
       ]
      },
      {
       "output_type": "stream",
       "stream": "stdout",
       "text": [
        "\tLoss: 1.82e-03\tError: 3.80e-02\tStd dev: 2.15e-02\tResample: 8\n",
        "Chose theta = [   3.13408358  293.15          0.7       ]."
       ]
      },
      {
       "output_type": "stream",
       "stream": "stdout",
       "text": [
        "\tLoss: 1.82e-03\tError: 3.80e-02\tStd dev: 2.15e-02\tResample: 8\n",
        "Chose theta = [   2.20236363  270.            0.75395697]."
       ]
      },
      {
       "output_type": "stream",
       "stream": "stdout",
       "text": [
        "\tLoss: 1.98e-03\tError: 4.00e-02\tStd dev: 2.12e-02\tResample: 8\n",
        "Chose theta = [   3.13497389  293.15          0.7       ]."
       ]
      },
      {
       "output_type": "stream",
       "stream": "stdout",
       "text": [
        "\tLoss: 1.98e-03\tError: 4.00e-02\tStd dev: 2.13e-02\tResample: 8\n",
        "Chose theta = [   3.13565369  293.15          0.7       ]."
       ]
      },
      {
       "output_type": "stream",
       "stream": "stdout",
       "text": [
        "\tLoss: 1.98e-03\tError: 4.00e-02\tStd dev: 2.12e-02\tResample: 8\n",
        "Chose theta = [   0.50069326  293.45115295    0.7016773 ]."
       ]
      },
      {
       "output_type": "stream",
       "stream": "stdout",
       "text": [
        "\tLoss: 1.96e-03\tError: 3.98e-02\tStd dev: 2.09e-02\tResample: 8\n",
        "Chose theta = [   3.13518417  293.15          0.7       ]."
       ]
      },
      {
       "output_type": "stream",
       "stream": "stdout",
       "text": [
        "\tLoss: 1.96e-03\tError: 3.98e-02\tStd dev: 2.09e-02\tResample: 8\n",
        "Chose theta = [   6.27907075  293.15          0.7       ]."
       ]
      },
      {
       "output_type": "stream",
       "stream": "stdout",
       "text": [
        "\tLoss: 1.96e-03\tError: 3.98e-02\tStd dev: 2.09e-02\tResample: 8\n",
        "Chose theta = [   3.13668489  293.15          0.7       ]."
       ]
      },
      {
       "output_type": "stream",
       "stream": "stdout",
       "text": [
        "\tLoss: 1.96e-03\tError: 3.98e-02\tStd dev: 2.09e-02\tResample: 8\n",
        "Chose theta = [   3.13527891  293.15          0.7       ]."
       ]
      },
      {
       "output_type": "stream",
       "stream": "stdout",
       "text": [
        "\tLoss: 1.96e-03\tError: 3.99e-02\tStd dev: 2.08e-02\tResample: 8\n",
        "Chose theta = [   6.27710082  293.15          0.7       ]."
       ]
      },
      {
       "output_type": "stream",
       "stream": "stdout",
       "text": [
        "\tLoss: 1.96e-03\tError: 3.99e-02\tStd dev: 2.08e-02\tResample: 8\n",
        "Chose theta = [   1.56635881  293.15          0.7       ]."
       ]
      },
      {
       "output_type": "stream",
       "stream": "stdout",
       "text": [
        "\tLoss: 1.95e-03\tError: 3.97e-02\tStd dev: 2.08e-02\tResample: 8\n",
        "Chose theta = [   6.27721063  293.15          0.7       ]."
       ]
      },
      {
       "output_type": "stream",
       "stream": "stdout",
       "text": [
        "\tLoss: 1.95e-03\tError: 3.96e-02\tStd dev: 2.09e-02\tResample: 8\n",
        "Chose theta = [   3.13674515  293.15          0.7       ]."
       ]
      },
      {
       "output_type": "stream",
       "stream": "stdout",
       "text": [
        "\tLoss: 1.95e-03\tError: 3.95e-02\tStd dev: 2.09e-02\tResample: 8\n",
        "Chose theta = [   3.13496844  293.15          0.7       ]."
       ]
      },
      {
       "output_type": "stream",
       "stream": "stdout",
       "text": [
        "\tLoss: 1.95e-03\tError: 3.96e-02\tStd dev: 2.08e-02\tResample: 8\n",
        "Chose theta = [   3.13660407  293.15          0.7       ]."
       ]
      },
      {
       "output_type": "stream",
       "stream": "stdout",
       "text": [
        "\tLoss: 1.96e-03\tError: 3.97e-02\tStd dev: 2.09e-02\tResample: 8\n",
        "Chose theta = [   3.13464402  293.15          0.7       ]."
       ]
      },
      {
       "output_type": "stream",
       "stream": "stdout",
       "text": [
        "\tLoss: 1.95e-03\tError: 3.95e-02\tStd dev: 2.09e-02\tResample: 8\n",
        "Chose theta = [   6.27650196  293.15          0.7       ]."
       ]
      },
      {
       "output_type": "stream",
       "stream": "stdout",
       "text": [
        "\tLoss: 1.95e-03\tError: 3.95e-02\tStd dev: 2.09e-02\tResample: 8\n",
        "Chose theta = [   3.13645472  293.15          0.7       ]."
       ]
      },
      {
       "output_type": "stream",
       "stream": "stdout",
       "text": [
        "\tLoss: 1.96e-03\tError: 3.96e-02\tStd dev: 2.10e-02\tResample: 8\n",
        "Chose theta = [   2.79235797  310.            0.82495675]."
       ]
      },
      {
       "output_type": "stream",
       "stream": "stdout",
       "text": [
        "\tLoss: 2.21e-03\tError: 4.28e-02\tStd dev: 2.08e-02\tResample: 8\n",
        "Chose theta = [   3.13475296  293.15          0.7       ]."
       ]
      },
      {
       "output_type": "stream",
       "stream": "stdout",
       "text": [
        "\tLoss: 2.21e-03\tError: 4.28e-02\tStd dev: 2.08e-02\tResample: 8\n",
        "Chose theta = [   3.13324977  293.15          0.7       ]."
       ]
      },
      {
       "output_type": "stream",
       "stream": "stdout",
       "text": [
        "\tLoss: 2.22e-03\tError: 4.28e-02\tStd dev: 2.08e-02\tResample: 8\n",
        "Chose theta = [   0.78532698  293.66952251    0.69967308]."
       ]
      },
      {
       "output_type": "stream",
       "stream": "stdout",
       "text": [
        "\tLoss: 1.96e-03\tError: 3.98e-02\tStd dev: 2.05e-02\tResample: 8\n",
        "Chose theta = [   3.13552691  293.15          0.7       ]."
       ]
      },
      {
       "output_type": "stream",
       "stream": "stdout",
       "text": [
        "\tLoss: 1.96e-03\tError: 3.98e-02\tStd dev: 2.05e-02\tResample: 8\n",
        "Chose theta = [   3.13405014  293.15          0.7       ]."
       ]
      },
      {
       "output_type": "stream",
       "stream": "stdout",
       "text": [
        "\tLoss: 1.94e-03\tError: 3.95e-02\tStd dev: 2.06e-02\tResample: 8\n",
        "Chose theta = [   1.56710522  293.15          0.7       ]."
       ]
      },
      {
       "output_type": "stream",
       "stream": "stdout",
       "text": [
        "\tLoss: 1.97e-03\tError: 3.98e-02\tStd dev: 2.06e-02\tResample: 8\n",
        "Chose theta = [   3.13416268  293.15          0.7       ]."
       ]
      },
      {
       "output_type": "stream",
       "stream": "stdout",
       "text": [
        "\tLoss: 1.97e-03\tError: 3.99e-02\tStd dev: 2.05e-02\tResample: 8\n",
        "Chose theta = [   3.13606208  293.15          0.7       ]."
       ]
      },
      {
       "output_type": "stream",
       "stream": "stdout",
       "text": [
        "\tLoss: 1.97e-03\tError: 3.99e-02\tStd dev: 2.05e-02\tResample: 8\n",
        "Chose theta = [   3.13563413  293.15          0.7       ]."
       ]
      },
      {
       "output_type": "stream",
       "stream": "stdout",
       "text": [
        "\tLoss: 1.97e-03\tError: 3.99e-02\tStd dev: 2.05e-02\tResample: 8\n",
        "Chose theta = [   6.27808368  293.15          0.7       ]."
       ]
      },
      {
       "output_type": "stream",
       "stream": "stdout",
       "text": [
        "\tLoss: 1.97e-03\tError: 3.99e-02\tStd dev: 2.05e-02\tResample: 8\n",
        "Chose theta = [   3.13711345  293.15          0.7       ]."
       ]
      },
      {
       "output_type": "stream",
       "stream": "stdout",
       "text": [
        "\tLoss: 1.97e-03\tError: 3.99e-02\tStd dev: 2.05e-02\tResample: 8\n",
        "Chose theta = [   3.13639307  293.15          0.7       ]."
       ]
      },
      {
       "output_type": "stream",
       "stream": "stdout",
       "text": [
        "\tLoss: 1.97e-03\tError: 3.99e-02\tStd dev: 2.05e-02\tResample: 8\n",
        "Chose theta = [   3.13425444  293.15          0.7       ]."
       ]
      },
      {
       "output_type": "stream",
       "stream": "stdout",
       "text": [
        "\tLoss: 1.97e-03\tError: 3.99e-02\tStd dev: 2.05e-02\tResample: 8\n",
        "Chose theta = [   3.1354953  293.15         0.7      ]."
       ]
      },
      {
       "output_type": "stream",
       "stream": "stdout",
       "text": [
        "\tLoss: 1.97e-03\tError: 3.99e-02\tStd dev: 2.05e-02\tResample: 8\n",
        "Chose theta = [   3.13781487  293.15          0.7       ]."
       ]
      },
      {
       "output_type": "stream",
       "stream": "stdout",
       "text": [
        "\tLoss: 1.96e-03\tError: 3.98e-02\tStd dev: 2.05e-02\tResample: 8\n",
        "Chose theta = [   3.13508979  293.15          0.7       ]."
       ]
      },
      {
       "output_type": "stream",
       "stream": "stdout",
       "text": [
        "\tLoss: 1.97e-03\tError: 3.99e-02\tStd dev: 2.04e-02\tResample: 8\n",
        "Chose theta = [  1.95631564e-01   2.91957181e+02   6.99665301e-01]."
       ]
      },
      {
       "output_type": "stream",
       "stream": "stdout",
       "text": [
        "\tLoss: 1.77e-03\tError: 3.75e-02\tStd dev: 2.01e-02\tResample: 8\n",
        "Chose theta = [   0.62477659  292.09551844    0.69805137]."
       ]
      },
      {
       "output_type": "stream",
       "stream": "stdout",
       "text": [
        "\tLoss: 1.76e-03\tError: 3.73e-02\tStd dev: 1.98e-02\tResample: 8\n",
        "Chose theta = [   3.1347027  293.15         0.7      ]."
       ]
      },
      {
       "output_type": "stream",
       "stream": "stdout",
       "text": [
        "\tLoss: 1.75e-03\tError: 3.73e-02\tStd dev: 1.99e-02\tResample: 8\n",
        "Chose theta = [   3.13682493  293.15          0.7       ]."
       ]
      },
      {
       "output_type": "stream",
       "stream": "stdout",
       "text": [
        "\tLoss: 1.76e-03\tError: 3.73e-02\tStd dev: 1.99e-02\tResample: 8\n",
        "Chose theta = [   3.13672474  293.15          0.7       ]."
       ]
      },
      {
       "output_type": "stream",
       "stream": "stdout",
       "text": [
        "\tLoss: 1.74e-03\tError: 3.72e-02\tStd dev: 1.98e-02\tResample: 8\n",
        "Chose theta = [   3.13645049  293.15          0.7       ]."
       ]
      },
      {
       "output_type": "stream",
       "stream": "stdout",
       "text": [
        "\tLoss: 1.74e-03\tError: 3.72e-02\tStd dev: 1.98e-02\tResample: 8\n",
        "Chose theta = [   3.13540354  293.15          0.7       ]."
       ]
      },
      {
       "output_type": "stream",
       "stream": "stdout",
       "text": [
        "\tLoss: 1.74e-03\tError: 3.72e-02\tStd dev: 1.97e-02\tResample: 8\n",
        "Chose theta = [   0.          288.20580065    0.83611   ]."
       ]
      },
      {
       "output_type": "stream",
       "stream": "stdout",
       "text": [
        "\tLoss: 1.81e-03\tError: 3.81e-02\tStd dev: 1.98e-02\tResample: 8\n",
        "Chose theta = [   6.27635843  293.15          0.7       ]."
       ]
      },
      {
       "output_type": "stream",
       "stream": "stdout",
       "text": [
        "\tLoss: 1.81e-03\tError: 3.81e-02\tStd dev: 1.98e-02\tResample: 8\n",
        "Chose theta = [   3.13506389  293.15          0.7       ]."
       ]
      },
      {
       "output_type": "stream",
       "stream": "stdout",
       "text": [
        "\tLoss: 1.81e-03\tError: 3.82e-02\tStd dev: 1.97e-02\tResample: 8\n",
        "Chose theta = [   3.1353568  293.15         0.7      ]."
       ]
      },
      {
       "output_type": "stream",
       "stream": "stdout",
       "text": [
        "\tLoss: 1.82e-03\tError: 3.82e-02\tStd dev: 1.97e-02\tResample: 8\n",
        "Chose theta = [   3.13625365  293.15          0.7       ]."
       ]
      },
      {
       "output_type": "stream",
       "stream": "stdout",
       "text": [
        "\tLoss: 1.81e-03\tError: 3.82e-02\tStd dev: 1.97e-02\tResample: 8\n",
        "Chose theta = [   3.13579878  293.15          0.7       ]."
       ]
      },
      {
       "output_type": "stream",
       "stream": "stdout",
       "text": [
        "\tLoss: 1.81e-03\tError: 3.82e-02\tStd dev: 1.96e-02\tResample: 8\n",
        "Chose theta = [   3.13676146  293.15          0.7       ]."
       ]
      },
      {
       "output_type": "stream",
       "stream": "stdout",
       "text": [
        "\tLoss: 1.81e-03\tError: 3.82e-02\tStd dev: 1.96e-02\tResample: 8\n",
        "Chose theta = [   6.27714029  293.15          0.7       ]."
       ]
      },
      {
       "output_type": "stream",
       "stream": "stdout",
       "text": [
        "\tLoss: 1.81e-03\tError: 3.82e-02\tStd dev: 1.96e-02\tResample: 8\n",
        "Chose theta = [   3.13747746  293.15          0.7       ]."
       ]
      },
      {
       "output_type": "stream",
       "stream": "stdout",
       "text": [
        "\tLoss: 1.82e-03\tError: 3.84e-02\tStd dev: 1.97e-02\tResample: 8\n",
        "Chose theta = [   3.13541744  293.15          0.7       ]."
       ]
      },
      {
       "output_type": "stream",
       "stream": "stdout",
       "text": [
        "\tLoss: 1.82e-03\tError: 3.84e-02\tStd dev: 1.97e-02\tResample: 8\n",
        "Chose theta = [   3.13439693  293.15          0.7       ]."
       ]
      },
      {
       "output_type": "stream",
       "stream": "stdout",
       "text": [
        "\tLoss: 1.82e-03\tError: 3.84e-02\tStd dev: 1.96e-02\tResample: 8\n",
        "Chose theta = [   3.13728615  293.15          0.7       ]."
       ]
      },
      {
       "output_type": "stream",
       "stream": "stdout",
       "text": [
        "\tLoss: 1.83e-03\tError: 3.85e-02\tStd dev: 1.97e-02\tResample: 8\n",
        "Chose theta = [   3.13600477  293.15          0.7       ]."
       ]
      },
      {
       "output_type": "stream",
       "stream": "stdout",
       "text": [
        "\tLoss: 1.83e-03\tError: 3.85e-02\tStd dev: 1.96e-02\tResample: 8\n",
        "Chose theta = [   3.13466039  293.15          0.7       ]."
       ]
      },
      {
       "output_type": "stream",
       "stream": "stdout",
       "text": [
        "\tLoss: 1.82e-03\tError: 3.84e-02\tStd dev: 1.96e-02\tResample: 8\n",
        "Chose theta = [   3.13631988  293.15          0.7       ]."
       ]
      },
      {
       "output_type": "stream",
       "stream": "stdout",
       "text": [
        "\tLoss: 1.82e-03\tError: 3.84e-02\tStd dev: 1.96e-02\tResample: 8\n",
        "0.895 \u00b1 0.00294\t"
       ]
      },
      {
       "output_type": "stream",
       "stream": "stdout",
       "text": [
        " -0.000819 \u00b1 0.00173\t 0.123 \u00b1 0.0196\t 22.0 \u00b1 0.00488\t -1.02 \u00b1 0.00557\t\n",
        "[ 0.9        0.         0.0844303  1.02     ]\n",
        "Loss: 4.90e+01\tError: 1.30e-01\tStd dev: 1.34e-01\tResample: 1"
       ]
      },
      {
       "output_type": "stream",
       "stream": "stdout",
       "text": [
        "\n",
        "Loss: 4.90e+01\tError: 6.81e-03\tStd dev: 6.19e-02\tResample: 2\n",
        "Loss: 4.90e+01\tError: 4.89e-02\tStd dev: 2.54e-02\tResample: 3"
       ]
      },
      {
       "output_type": "stream",
       "stream": "stdout",
       "text": [
        "\n",
        "Loss: 4.90e+01\tError: 6.67e-02\tStd dev: 1.31e-02\tResample: 4\n",
        "Loss: 4.90e+01\tError: 6.72e-02\tStd dev: 1.28e-02\tResample: 5"
       ]
      },
      {
       "output_type": "stream",
       "stream": "stdout",
       "text": [
        "\n",
        "Loss: 4.90e+01\tError: 6.89e-02\tStd dev: 1.16e-02\tResample: 5\n",
        "Loss: 4.90e+01\tError: 7.46e-02\tStd dev: 7.12e-03\tResample: 6\n",
        "Loss: 4.90e+01\tError: 7.83e-02\tStd dev: 4.26e-03\tResample: 7"
       ]
      },
      {
       "output_type": "stream",
       "stream": "stdout",
       "text": [
        "\n",
        "Loss: 4.90e+01\tError: 7.87e-02\tStd dev: 3.58e-03\tResample: 8\n",
        "Loss: 4.90e+01\tError: 7.78e-02\tStd dev: 4.13e-03\tResample: 8\n",
        "Chose theta = [   1.57051421  293.15          0.7       ]."
       ]
      },
      {
       "output_type": "stream",
       "stream": "stdout",
       "text": [
        "\tLoss: 4.90e+01\tError: 7.92e-02\tStd dev: 2.47e-03\tResample: 9\n",
        "Chose theta = [   3.14144583  293.15          0.7       ]."
       ]
      },
      {
       "output_type": "stream",
       "stream": "stdout",
       "text": [
        "\tLoss: 4.90e+01\tError: 7.92e-02\tStd dev: 1.25e-03\tResample: 10\n",
        "Chose theta = [   4.71212288  293.15          0.7       ]."
       ]
      },
      {
       "output_type": "stream",
       "stream": "stdout",
       "text": [
        "\tLoss: 4.90e+01\tError: 7.93e-02\tStd dev: 1.18e-03\tResample: 10\n",
        "Chose theta = [   1.57060269  293.15          0.7       ]."
       ]
      },
      {
       "output_type": "stream",
       "stream": "stdout",
       "text": [
        "\tLoss: 4.90e+01\tError: 7.94e-02\tStd dev: 1.21e-03\tResample: 11\n",
        "Chose theta = [   1.57056032  293.15          0.7       ]."
       ]
      },
      {
       "output_type": "stream",
       "stream": "stdout",
       "text": [
        "\tLoss: 4.90e+01\tError: 7.96e-02\tStd dev: 1.36e-03\tResample: 12\n",
        "Chose theta = [   3.14148026  293.15          0.7       ]."
       ]
      },
      {
       "output_type": "stream",
       "stream": "stdout",
       "text": [
        "\tLoss: 4.90e+01\tError: 7.95e-02\tStd dev: 1.12e-03\tResample: 13\n",
        "Chose theta = [   1.57053166  293.15          0.7       ]."
       ]
      },
      {
       "output_type": "stream",
       "stream": "stdout",
       "text": [
        "\tLoss: 4.90e+01\tError: 7.96e-02\tStd dev: 1.16e-03\tResample: 13\n",
        "Chose theta = [   6.28301304  293.15          0.7       ]."
       ]
      },
      {
       "output_type": "stream",
       "stream": "stdout",
       "text": [
        "\tLoss: 4.90e+01\tError: 7.96e-02\tStd dev: 1.16e-03\tResample: 13\n",
        "Chose theta = [   3.14135844  293.15          0.7       ]."
       ]
      },
      {
       "output_type": "stream",
       "stream": "stdout",
       "text": [
        "\tLoss: 4.90e+01\tError: 7.97e-02\tStd dev: 1.14e-03\tResample: 13\n",
        "Chose theta = [   1.57057138  293.15          0.7       ]."
       ]
      },
      {
       "output_type": "stream",
       "stream": "stdout",
       "text": [
        "\tLoss: 4.90e+01\tError: 7.97e-02\tStd dev: 1.13e-03\tResample: 14\n",
        "Chose theta = [   3.14140297  293.15          0.7       ]."
       ]
      },
      {
       "output_type": "stream",
       "stream": "stdout",
       "text": [
        "\tLoss: 4.90e+01\tError: 7.99e-02\tStd dev: 1.17e-03\tResample: 15\n",
        "Chose theta = [   6.28297327  293.15          0.7       ]."
       ]
      },
      {
       "output_type": "stream",
       "stream": "stdout",
       "text": [
        "\tLoss: 4.90e+01\tError: 7.99e-02\tStd dev: 1.17e-03\tResample: 15\n",
        "Chose theta = [   4.71221969  293.15          0.7       ]."
       ]
      },
      {
       "output_type": "stream",
       "stream": "stdout",
       "text": [
        "\tLoss: 4.90e+01\tError: 7.99e-02\tStd dev: 1.16e-03\tResample: 15\n",
        "Chose theta = [   1.57055787  293.15          0.7       ]."
       ]
      },
      {
       "output_type": "stream",
       "stream": "stdout",
       "text": [
        "\tLoss: 4.90e+01\tError: 7.99e-02\tStd dev: 1.13e-03\tResample: 16\n",
        "Chose theta = [   3.14144233  293.15          0.7       ]."
       ]
      },
      {
       "output_type": "stream",
       "stream": "stdout",
       "text": [
        "\tLoss: 4.90e+01\tError: 8.02e-02\tStd dev: 1.13e-03\tResample: 16\n",
        "Chose theta = [   3.14143069  293.15          0.7       ]."
       ]
      },
      {
       "output_type": "stream",
       "stream": "stdout",
       "text": [
        "\tLoss: 4.90e+01\tError: 8.06e-02\tStd dev: 1.05e-03\tResample: 17\n",
        "Chose theta = [   3.14145669  293.15          0.7       ]."
       ]
      },
      {
       "output_type": "stream",
       "stream": "stdout",
       "text": [
        "\tLoss: 4.90e+01\tError: 8.09e-02\tStd dev: 9.07e-04\tResample: 17\n",
        "Chose theta = [   6.28308044  293.15          0.7       ]."
       ]
      },
      {
       "output_type": "stream",
       "stream": "stdout",
       "text": [
        "\tLoss: 4.90e+01\tError: 8.08e-02\tStd dev: 9.14e-04\tResample: 17\n",
        "Chose theta = [   6.28303077  293.15          0.7       ]."
       ]
      },
      {
       "output_type": "stream",
       "stream": "stdout",
       "text": [
        "\tLoss: 4.90e+01\tError: 8.08e-02\tStd dev: 9.22e-04\tResample: 17\n",
        "Chose theta = [   1.57063897  293.15          0.7       ]."
       ]
      },
      {
       "output_type": "stream",
       "stream": "stdout",
       "text": [
        "\tLoss: 4.90e+01\tError: 8.08e-02\tStd dev: 9.38e-04\tResample: 17\n",
        "Chose theta = [   3.1413319  293.15         0.7      ]."
       ]
      },
      {
       "output_type": "stream",
       "stream": "stdout",
       "text": [
        "\tLoss: 4.90e+01\tError: 8.10e-02\tStd dev: 7.92e-04\tResample: 18\n",
        "Chose theta = [   1.57065508  293.15          0.7       ]."
       ]
      },
      {
       "output_type": "stream",
       "stream": "stdout",
       "text": [
        "\tLoss: 4.90e+01\tError: 8.10e-02\tStd dev: 8.19e-04\tResample: 18\n",
        "Chose theta = [   6.28303511  293.15          0.7       ]."
       ]
      },
      {
       "output_type": "stream",
       "stream": "stdout",
       "text": [
        "\tLoss: 4.90e+01\tError: 8.10e-02\tStd dev: 8.22e-04\tResample: 18\n",
        "Chose theta = [   1.57063406  293.15          0.7       ]."
       ]
      },
      {
       "output_type": "stream",
       "stream": "stdout",
       "text": [
        "\tLoss: 4.90e+01\tError: 8.09e-02\tStd dev: 8.66e-04\tResample: 18\n",
        "Chose theta = [   3.14138847  293.15          0.7       ]."
       ]
      },
      {
       "output_type": "stream",
       "stream": "stdout",
       "text": [
        "\tLoss: 4.90e+01\tError: 8.11e-02\tStd dev: 7.35e-04\tResample: 18\n",
        "Chose theta = [   4.71223763  293.15          0.7       ]."
       ]
      },
      {
       "output_type": "stream",
       "stream": "stdout",
       "text": [
        "\tLoss: 4.90e+01\tError: 8.11e-02\tStd dev: 7.71e-04\tResample: 18\n",
        "Chose theta = [   1.57066511  293.15          0.7       ]."
       ]
      },
      {
       "output_type": "stream",
       "stream": "stdout",
       "text": [
        "\tLoss: 4.90e+01\tError: 8.10e-02\tStd dev: 8.27e-04\tResample: 18\n",
        "Chose theta = [   3.141376  293.15        0.7     ]."
       ]
      },
      {
       "output_type": "stream",
       "stream": "stdout",
       "text": [
        "\tLoss: 4.90e+01\tError: 8.12e-02\tStd dev: 7.00e-04\tResample: 18\n",
        "Chose theta = [   1.57064226  293.15          0.7       ]."
       ]
      },
      {
       "output_type": "stream",
       "stream": "stdout",
       "text": [
        "\tLoss: 4.90e+01\tError: 8.11e-02\tStd dev: 7.54e-04\tResample: 19\n",
        "Chose theta = [   3.14144104  293.15          0.7       ]."
       ]
      },
      {
       "output_type": "stream",
       "stream": "stdout",
       "text": [
        "\tLoss: 4.90e+01\tError: 8.12e-02\tStd dev: 6.58e-04\tResample: 19\n",
        "Chose theta = [   6.28299236  293.15          0.7       ]."
       ]
      },
      {
       "output_type": "stream",
       "stream": "stdout",
       "text": [
        "\tLoss: 4.90e+01\tError: 8.12e-02\tStd dev: 6.60e-04\tResample: 19\n",
        "Chose theta = [   1.57063192  293.15          0.7       ]."
       ]
      },
      {
       "output_type": "stream",
       "stream": "stdout",
       "text": [
        "\tLoss: 4.90e+01\tError: 8.12e-02\tStd dev: 7.02e-04\tResample: 19\n",
        "Chose theta = [   3.14140208  293.15          0.7       ]."
       ]
      },
      {
       "output_type": "stream",
       "stream": "stdout",
       "text": [
        "\tLoss: 4.90e+01\tError: 8.13e-02\tStd dev: 6.27e-04\tResample: 19\n",
        "Chose theta = [   6.28303827  293.15          0.7       ]."
       ]
      },
      {
       "output_type": "stream",
       "stream": "stdout",
       "text": [
        "\tLoss: 4.90e+01\tError: 8.13e-02\tStd dev: 6.27e-04\tResample: 19\n",
        "Chose theta = [   6.28306829  293.15          0.7       ]."
       ]
      },
      {
       "output_type": "stream",
       "stream": "stdout",
       "text": [
        "\tLoss: 4.90e+01\tError: 8.13e-02\tStd dev: 6.29e-04\tResample: 19\n",
        "Chose theta = [   6.28309738  293.15          0.7       ]."
       ]
      },
      {
       "output_type": "stream",
       "stream": "stdout",
       "text": [
        "\tLoss: 4.90e+01\tError: 8.13e-02\tStd dev: 6.29e-04\tResample: 19\n",
        "Chose theta = [   1.57067288  293.15          0.7       ]."
       ]
      },
      {
       "output_type": "stream",
       "stream": "stdout",
       "text": [
        "\tLoss: 4.90e+01\tError: 8.13e-02\tStd dev: 6.67e-04\tResample: 19\n",
        "Chose theta = [   6.28304826  293.15          0.7       ]."
       ]
      },
      {
       "output_type": "stream",
       "stream": "stdout",
       "text": [
        "\tLoss: 4.90e+01\tError: 8.13e-02\tStd dev: 6.68e-04\tResample: 19\n",
        "Chose theta = [   6.28301934  293.15          0.7       ]."
       ]
      },
      {
       "output_type": "stream",
       "stream": "stdout",
       "text": [
        "\tLoss: 4.90e+01\tError: 8.13e-02\tStd dev: 6.69e-04\tResample: 19\n",
        "Chose theta = [   4.71226425  293.15          0.7       ]."
       ]
      },
      {
       "output_type": "stream",
       "stream": "stdout",
       "text": [
        "\tLoss: 4.90e+01\tError: 8.12e-02\tStd dev: 7.03e-04\tResample: 19\n",
        "Chose theta = [   4.71226996  293.15          0.7       ]."
       ]
      },
      {
       "output_type": "stream",
       "stream": "stdout",
       "text": [
        "\tLoss: 4.90e+01\tError: 8.12e-02\tStd dev: 7.60e-04\tResample: 19\n",
        "Chose theta = [   6.2829983  293.15         0.7      ]."
       ]
      },
      {
       "output_type": "stream",
       "stream": "stdout",
       "text": [
        "\tLoss: 4.90e+01\tError: 8.12e-02\tStd dev: 7.61e-04\tResample: 19\n",
        "Chose theta = [   6.28302901  293.15          0.7       ]."
       ]
      },
      {
       "output_type": "stream",
       "stream": "stdout",
       "text": [
        "\tLoss: 4.90e+01\tError: 8.12e-02\tStd dev: 7.63e-04\tResample: 19\n",
        "Chose theta = [   3.14136912  293.15          0.7       ]."
       ]
      },
      {
       "output_type": "stream",
       "stream": "stdout",
       "text": [
        "\tLoss: 4.90e+01\tError: 8.13e-02\tStd dev: 6.61e-04\tResample: 19\n",
        "Chose theta = [   3.14146667  293.15          0.7       ]."
       ]
      },
      {
       "output_type": "stream",
       "stream": "stdout",
       "text": [
        "\tLoss: 4.90e+01\tError: 8.14e-02\tStd dev: 6.01e-04\tResample: 20\n",
        "Chose theta = [   3.14142845  293.15          0.7       ]."
       ]
      },
      {
       "output_type": "stream",
       "stream": "stdout",
       "text": [
        "\tLoss: 4.90e+01\tError: 8.15e-02\tStd dev: 5.66e-04\tResample: 20\n",
        "Chose theta = [   4.71227779  293.15          0.7       ]."
       ]
      },
      {
       "output_type": "stream",
       "stream": "stdout",
       "text": [
        "\tLoss: 4.90e+01\tError: 8.14e-02\tStd dev: 5.82e-04\tResample: 20\n",
        "Chose theta = [   6.28304238  293.15          0.7       ]."
       ]
      },
      {
       "output_type": "stream",
       "stream": "stdout",
       "text": [
        "\tLoss: 4.90e+01\tError: 8.14e-02\tStd dev: 5.83e-04\tResample: 20\n",
        "Chose theta = [   4.71224314  293.15          0.7       ]."
       ]
      },
      {
       "output_type": "stream",
       "stream": "stdout",
       "text": [
        "\tLoss: 4.90e+01\tError: 8.14e-02\tStd dev: 6.01e-04\tResample: 20\n",
        "Chose theta = [   6.2830561  293.15         0.7      ]."
       ]
      },
      {
       "output_type": "stream",
       "stream": "stdout",
       "text": [
        "\tLoss: 4.90e+01\tError: 8.14e-02\tStd dev: 6.02e-04\tResample: 20\n",
        "Chose theta = [   6.28307298  293.15          0.7       ]."
       ]
      },
      {
       "output_type": "stream",
       "stream": "stdout",
       "text": [
        "\tLoss: 4.90e+01\tError: 8.14e-02\tStd dev: 6.03e-04\tResample: 20\n",
        "Chose theta = [   6.28306723  293.15          0.7       ]."
       ]
      },
      {
       "output_type": "stream",
       "stream": "stdout",
       "text": [
        "\tLoss: 4.90e+01\tError: 8.14e-02\tStd dev: 6.04e-04\tResample: 20\n",
        "Chose theta = [   3.14147378  293.15          0.7       ]."
       ]
      },
      {
       "output_type": "stream",
       "stream": "stdout",
       "text": [
        "\tLoss: 4.90e+01\tError: 8.15e-02\tStd dev: 5.67e-04\tResample: 20\n",
        "Chose theta = [   3.14149527  293.15          0.7       ]."
       ]
      },
      {
       "output_type": "stream",
       "stream": "stdout",
       "text": [
        "\tLoss: 4.90e+01\tError: 8.15e-02\tStd dev: 5.47e-04\tResample: 20\n",
        "Chose theta = [   4.71227158  293.15          0.7       ]."
       ]
      },
      {
       "output_type": "stream",
       "stream": "stdout",
       "text": [
        "\tLoss: 4.90e+01\tError: 8.15e-02\tStd dev: 5.53e-04\tResample: 20\n",
        "Chose theta = [   6.28306603  293.15          0.7       ]."
       ]
      },
      {
       "output_type": "stream",
       "stream": "stdout",
       "text": [
        "\tLoss: 4.90e+01\tError: 8.15e-02\tStd dev: 5.53e-04\tResample: 20\n",
        "Chose theta = [   6.28307625  293.15          0.7       ]."
       ]
      },
      {
       "output_type": "stream",
       "stream": "stdout",
       "text": [
        "\tLoss: 4.90e+01\tError: 8.15e-02\tStd dev: 5.52e-04\tResample: 20\n",
        "Chose theta = [   1.57065591  293.15          0.7       ]."
       ]
      },
      {
       "output_type": "stream",
       "stream": "stdout",
       "text": [
        "\tLoss: 4.90e+01\tError: 8.15e-02\tStd dev: 5.63e-04\tResample: 20\n",
        "Chose theta = [   6.28307232  293.15          0.7       ]."
       ]
      },
      {
       "output_type": "stream",
       "stream": "stdout",
       "text": [
        "\tLoss: 4.90e+01\tError: 8.15e-02\tStd dev: 5.64e-04\tResample: 20\n",
        "Chose theta = [   1.57068761  293.15          0.7       ]."
       ]
      },
      {
       "output_type": "stream",
       "stream": "stdout",
       "text": [
        "\tLoss: 4.90e+01\tError: 8.15e-02\tStd dev: 5.76e-04\tResample: 20\n",
        "Chose theta = [   3.14147869  293.15          0.7       ]."
       ]
      },
      {
       "output_type": "stream",
       "stream": "stdout",
       "text": [
        "\tLoss: 4.90e+01\tError: 8.15e-02\tStd dev: 5.53e-04\tResample: 20\n",
        "Chose theta = [   1.57064691  293.15          0.7       ]."
       ]
      },
      {
       "output_type": "stream",
       "stream": "stdout",
       "text": [
        "\tLoss: 4.90e+01\tError: 8.15e-02\tStd dev: 5.64e-04\tResample: 20\n",
        "Chose theta = [   3.14146424  293.15          0.7       ]."
       ]
      },
      {
       "output_type": "stream",
       "stream": "stdout",
       "text": [
        "\tLoss: 4.90e+01\tError: 8.16e-02\tStd dev: 5.38e-04\tResample: 21\n",
        "Chose theta = [   4.71224001  293.15          0.7       ]."
       ]
      },
      {
       "output_type": "stream",
       "stream": "stdout",
       "text": [
        "\tLoss: 4.90e+01\tError: 8.15e-02\tStd dev: 5.45e-04\tResample: 21\n",
        "Chose theta = [   6.28305441  293.15          0.7       ]."
       ]
      },
      {
       "output_type": "stream",
       "stream": "stdout",
       "text": [
        "\tLoss: 4.90e+01\tError: 8.15e-02\tStd dev: 5.45e-04\tResample: 21\n",
        "Chose theta = [   6.28308363  293.15          0.7       ]."
       ]
      },
      {
       "output_type": "stream",
       "stream": "stdout",
       "text": [
        "\tLoss: 4.90e+01\tError: 8.15e-02\tStd dev: 5.45e-04\tResample: 21\n",
        "Chose theta = [   1.57063935  293.15          0.7       ]."
       ]
      },
      {
       "output_type": "stream",
       "stream": "stdout",
       "text": [
        "\tLoss: 4.90e+01\tError: 8.15e-02\tStd dev: 5.54e-04\tResample: 21\n",
        "Chose theta = [   4.7122734  293.15         0.7      ]."
       ]
      },
      {
       "output_type": "stream",
       "stream": "stdout",
       "text": [
        "\tLoss: 4.90e+01\tError: 8.15e-02\tStd dev: 5.62e-04\tResample: 21\n",
        "Chose theta = [   1.57060104  293.15          0.7       ]."
       ]
      },
      {
       "output_type": "stream",
       "stream": "stdout",
       "text": [
        "\tLoss: 4.90e+01\tError: 8.15e-02\tStd dev: 5.81e-04\tResample: 21\n",
        "Chose theta = [   1.57064743  293.15          0.7       ]."
       ]
      },
      {
       "output_type": "stream",
       "stream": "stdout",
       "text": [
        "\tLoss: 4.90e+01\tError: 8.15e-02\tStd dev: 6.03e-04\tResample: 22\n",
        "Chose theta = [   3.14148032  293.15          0.7       ]."
       ]
      },
      {
       "output_type": "stream",
       "stream": "stdout",
       "text": [
        "\tLoss: 4.90e+01\tError: 8.15e-02\tStd dev: 5.67e-04\tResample: 22\n",
        "Chose theta = [   6.28303026  293.15          0.7       ]."
       ]
      },
      {
       "output_type": "stream",
       "stream": "stdout",
       "text": [
        "\tLoss: 4.90e+01\tError: 8.15e-02\tStd dev: 5.67e-04\tResample: 22\n",
        "Chose theta = [   6.28300931  293.15          0.7       ]."
       ]
      },
      {
       "output_type": "stream",
       "stream": "stdout",
       "text": [
        "\tLoss: 4.90e+01\tError: 8.15e-02\tStd dev: 5.66e-04\tResample: 22\n",
        "Chose theta = [   3.14146312  293.15          0.7       ]."
       ]
      },
      {
       "output_type": "stream",
       "stream": "stdout",
       "text": [
        "\tLoss: 4.90e+01\tError: 8.16e-02\tStd dev: 5.49e-04\tResample: 22\n",
        "Chose theta = [   3.14144062  293.15          0.7       ]."
       ]
      },
      {
       "output_type": "stream",
       "stream": "stdout",
       "text": [
        "\tLoss: 4.90e+01\tError: 8.16e-02\tStd dev: 5.44e-04\tResample: 23\n",
        "Chose theta = [   4.71229796  293.15          0.7       ]."
       ]
      },
      {
       "output_type": "stream",
       "stream": "stdout",
       "text": [
        "\tLoss: 4.90e+01\tError: 8.16e-02\tStd dev: 5.46e-04\tResample: 23\n",
        "Chose theta = [   6.28302136  293.15          0.7       ]."
       ]
      },
      {
       "output_type": "stream",
       "stream": "stdout",
       "text": [
        "\tLoss: 4.90e+01\tError: 8.16e-02\tStd dev: 5.46e-04\tResample: 23\n",
        "Chose theta = [   1.57063284  293.15          0.7       ]."
       ]
      },
      {
       "output_type": "stream",
       "stream": "stdout",
       "text": [
        "\tLoss: 4.90e+01\tError: 8.16e-02\tStd dev: 5.49e-04\tResample: 23\n",
        "Chose theta = [   1.57065889  293.15          0.7       ]."
       ]
      },
      {
       "output_type": "stream",
       "stream": "stdout",
       "text": [
        "\tLoss: 4.90e+01\tError: 8.16e-02\tStd dev: 5.56e-04\tResample: 23\n",
        "Chose theta = [   1.5706044  293.15         0.7      ]."
       ]
      },
      {
       "output_type": "stream",
       "stream": "stdout",
       "text": [
        "\tLoss: 4.90e+01\tError: 8.15e-02\tStd dev: 5.67e-04\tResample: 24\n",
        "Chose theta = [   6.28303544  293.15          0.7       ]."
       ]
      },
      {
       "output_type": "stream",
       "stream": "stdout",
       "text": [
        "\tLoss: 4.90e+01\tError: 8.15e-02\tStd dev: 5.67e-04\tResample: 24\n",
        "Chose theta = [   1.57061093  293.15          0.7       ]."
       ]
      },
      {
       "output_type": "stream",
       "stream": "stdout",
       "text": [
        "\tLoss: 4.90e+01\tError: 8.15e-02\tStd dev: 5.89e-04\tResample: 24\n",
        "Chose theta = [   4.71223131  293.15          0.7       ]."
       ]
      },
      {
       "output_type": "stream",
       "stream": "stdout",
       "text": [
        "\tLoss: 4.90e+01\tError: 8.15e-02\tStd dev: 6.15e-04\tResample: 24\n",
        "Chose theta = [   6.28306761  293.15          0.7       ]."
       ]
      },
      {
       "output_type": "stream",
       "stream": "stdout",
       "text": [
        "\tLoss: 4.90e+01\tError: 8.14e-02\tStd dev: 6.17e-04\tResample: 24\n",
        "Chose theta = [   3.14149247  293.15          0.7       ]."
       ]
      },
      {
       "output_type": "stream",
       "stream": "stdout",
       "text": [
        "\tLoss: 4.90e+01\tError: 8.15e-02\tStd dev: 5.78e-04\tResample: 24\n",
        "Chose theta = [   6.28307458  293.15          0.7       ]."
       ]
      },
      {
       "output_type": "stream",
       "stream": "stdout",
       "text": [
        "\tLoss: 4.90e+01\tError: 8.15e-02\tStd dev: 5.79e-04\tResample: 24\n",
        "Chose theta = [   6.28306719  293.15          0.7       ]."
       ]
      },
      {
       "output_type": "stream",
       "stream": "stdout",
       "text": [
        "\tLoss: 4.90e+01\tError: 8.15e-02\tStd dev: 5.79e-04\tResample: 24\n",
        "Chose theta = [   3.14146297  293.15          0.7       ]."
       ]
      },
      {
       "output_type": "stream",
       "stream": "stdout",
       "text": [
        "\tLoss: 4.90e+01\tError: 8.16e-02\tStd dev: 5.57e-04\tResample: 24\n",
        "Chose theta = [   4.71227944  293.15          0.7       ]."
       ]
      },
      {
       "output_type": "stream",
       "stream": "stdout",
       "text": [
        "\tLoss: 4.90e+01\tError: 8.16e-02\tStd dev: 5.67e-04\tResample: 24\n",
        "Chose theta = [   4.71217103  293.15          0.7       ]."
       ]
      },
      {
       "output_type": "stream",
       "stream": "stdout",
       "text": [
        "\tLoss: 4.90e+01\tError: 8.15e-02\tStd dev: 5.80e-04\tResample: 24\n",
        "Chose theta = [   3.14144442  293.15          0.7       ]."
       ]
      },
      {
       "output_type": "stream",
       "stream": "stdout",
       "text": [
        "\tLoss: 4.90e+01\tError: 8.16e-02\tStd dev: 5.57e-04\tResample: 24\n",
        "Chose theta = [   6.2830924  293.15         0.7      ]."
       ]
      },
      {
       "output_type": "stream",
       "stream": "stdout",
       "text": [
        "\tLoss: 4.90e+01\tError: 8.16e-02\tStd dev: 5.58e-04\tResample: 24\n",
        "Chose theta = [   1.5706862  293.15         0.7      ]."
       ]
      },
      {
       "output_type": "stream",
       "stream": "stdout",
       "text": [
        "\tLoss: 4.90e+01\tError: 8.16e-02\tStd dev: 5.72e-04\tResample: 24\n",
        "Chose theta = [   1.57064899  293.15          0.7       ]."
       ]
      },
      {
       "output_type": "stream",
       "stream": "stdout",
       "text": [
        "\tLoss: 4.90e+01\tError: 8.15e-02\tStd dev: 5.94e-04\tResample: 24\n",
        "Chose theta = [   1.57065016  293.15          0.7       ]."
       ]
      },
      {
       "output_type": "stream",
       "stream": "stdout",
       "text": [
        "\tLoss: 4.90e+01\tError: 8.15e-02\tStd dev: 6.24e-04\tResample: 24\n",
        "Chose theta = [   3.1414811  293.15         0.7      ]."
       ]
      },
      {
       "output_type": "stream",
       "stream": "stdout",
       "text": [
        "\tLoss: 4.90e+01\tError: 8.16e-02\tStd dev: 5.81e-04\tResample: 24\n",
        "Chose theta = [   1.5706774  293.15         0.7      ]."
       ]
      },
      {
       "output_type": "stream",
       "stream": "stdout",
       "text": [
        "\tLoss: 4.90e+01\tError: 8.15e-02\tStd dev: 6.12e-04\tResample: 24\n",
        "Chose theta = [   6.28303044  293.15          0.7       ]."
       ]
      },
      {
       "output_type": "stream",
       "stream": "stdout",
       "text": [
        "\tLoss: 4.90e+01\tError: 8.15e-02\tStd dev: 6.15e-04\tResample: 25\n",
        "Chose theta = [   6.28305358  293.15          0.7       ]."
       ]
      },
      {
       "output_type": "stream",
       "stream": "stdout",
       "text": [
        "\tLoss: 4.90e+01\tError: 8.15e-02\tStd dev: 6.15e-04\tResample: 25\n",
        "Chose theta = [   6.28304293  293.15          0.7       ]."
       ]
      },
      {
       "output_type": "stream",
       "stream": "stdout",
       "text": [
        "\tLoss: 4.90e+01\tError: 8.15e-02\tStd dev: 6.16e-04\tResample: 25\n",
        "Chose theta = [   1.57064085  293.15          0.7       ]."
       ]
      },
      {
       "output_type": "stream",
       "stream": "stdout",
       "text": [
        "\tLoss: 4.90e+01\tError: 8.14e-02\tStd dev: 6.40e-04\tResample: 25\n",
        "Chose theta = [   4.71223347  293.15          0.7       ]."
       ]
      },
      {
       "output_type": "stream",
       "stream": "stdout",
       "text": [
        "\tLoss: 4.90e+01\tError: 8.13e-02\tStd dev: 6.67e-04\tResample: 25\n",
        "Chose theta = [   1.570677  293.15        0.7     ]."
       ]
      },
      {
       "output_type": "stream",
       "stream": "stdout",
       "text": [
        "\tLoss: 4.90e+01\tError: 8.12e-02\tStd dev: 6.85e-04\tResample: 25\n",
        "Chose theta = [   3.14142414  293.15          0.7       ]."
       ]
      },
      {
       "output_type": "stream",
       "stream": "stdout",
       "text": [
        "\tLoss: 4.90e+01\tError: 8.14e-02\tStd dev: 6.54e-04\tResample: 25\n",
        "Chose theta = [   3.14147562  293.15          0.7       ]."
       ]
      },
      {
       "output_type": "stream",
       "stream": "stdout",
       "text": [
        "\tLoss: 4.90e+01\tError: 8.15e-02\tStd dev: 6.04e-04\tResample: 25\n",
        "Chose theta = [   1.57063919  293.15          0.7       ]."
       ]
      },
      {
       "output_type": "stream",
       "stream": "stdout",
       "text": [
        "\tLoss: 4.90e+01\tError: 8.15e-02\tStd dev: 6.34e-04\tResample: 25\n",
        "Chose theta = [   3.14148892  293.15          0.7       ]."
       ]
      },
      {
       "output_type": "stream",
       "stream": "stdout",
       "text": [
        "\tLoss: 4.90e+01\tError: 8.16e-02\tStd dev: 5.86e-04\tResample: 25\n",
        "Chose theta = [   1.57070277  293.15          0.7       ]."
       ]
      },
      {
       "output_type": "stream",
       "stream": "stdout",
       "text": [
        "\tLoss: 4.90e+01\tError: 8.15e-02\tStd dev: 6.13e-04\tResample: 25\n",
        "Chose theta = [   3.14143323  293.15          0.7       ]."
       ]
      },
      {
       "output_type": "stream",
       "stream": "stdout",
       "text": [
        "\tLoss: 4.90e+01\tError: 8.16e-02\tStd dev: 5.71e-04\tResample: 25\n",
        "Chose theta = [   6.28309488  293.15          0.7       ]."
       ]
      },
      {
       "output_type": "stream",
       "stream": "stdout",
       "text": [
        "\tLoss: 4.90e+01\tError: 8.16e-02\tStd dev: 5.72e-04\tResample: 25\n",
        "Chose theta = [   6.2830181  293.15         0.7      ]."
       ]
      },
      {
       "ename": "KeyboardInterrupt",
       "evalue": "",
       "output_type": "pyerr",
       "traceback": [
        "\u001b[1;31m---------------------------------------------------------------------------\u001b[0m\n\u001b[1;31mKeyboardInterrupt\u001b[0m                         Traceback (most recent call last)",
        "\u001b[1;32m<ipython-input-44-3b925f475461>\u001b[0m in \u001b[0;36m<module>\u001b[1;34m()\u001b[0m\n\u001b[1;32m----> 1\u001b[1;33m \u001b[0mres\u001b[0m \u001b[1;33m=\u001b[0m \u001b[0mmake_array_adaptive\u001b[0m\u001b[1;33m(\u001b[0m\u001b[0mtrue_modelparams_array\u001b[0m\u001b[1;33m,\u001b[0m\u001b[0mexparams\u001b[0m\u001b[1;33m,\u001b[0m\u001b[0mn_thetas\u001b[0m\u001b[1;33m=\u001b[0m\u001b[1;36m200\u001b[0m\u001b[1;33m,\u001b[0m \u001b[0mn_guesses\u001b[0m\u001b[1;33m=\u001b[0m\u001b[1;36m5\u001b[0m\u001b[1;33m,\u001b[0m \u001b[0mn_neutrons\u001b[0m\u001b[1;33m=\u001b[0m\u001b[1;36m100\u001b[0m\u001b[1;33m,\u001b[0m \u001b[0mn_warmup_neutrons\u001b[0m\u001b[1;33m=\u001b[0m\u001b[1;36m100\u001b[0m\u001b[1;33m,\u001b[0m \u001b[0mquiet\u001b[0m\u001b[1;33m=\u001b[0m\u001b[0mFalse\u001b[0m\u001b[1;33m)\u001b[0m\u001b[1;33m\u001b[0m\u001b[0m\n\u001b[0m",
        "\u001b[1;32m<ipython-input-39-9731ae645ec2>\u001b[0m in \u001b[0;36mmake_array_adaptive\u001b[1;34m(trueparams, warmup_params, num_particle, n_thetas, n_guesses, n_neutrons, n_warmup_neutrons, quiet, save_file)\u001b[0m\n\u001b[0;32m     64\u001b[0m         toreturn.append( do_adaptive_ex_array(num_particle,warmup_params,x,n_thetas=200,\n\u001b[0;32m     65\u001b[0m                                                \u001b[0mn_guesses\u001b[0m\u001b[1;33m=\u001b[0m\u001b[0mn_guesses\u001b[0m\u001b[1;33m,\u001b[0m\u001b[0mn_neutrons\u001b[0m\u001b[1;33m=\u001b[0m\u001b[0mn_neutrons\u001b[0m\u001b[1;33m,\u001b[0m\u001b[1;33m\u001b[0m\u001b[0m\n\u001b[1;32m---> 66\u001b[1;33m                                                n_warmup_neutrons=n_warmup_neutrons,quiet=quiet))\n\u001b[0m\u001b[0;32m     67\u001b[0m         \u001b[0mtitle\u001b[0m\u001b[1;33m(\u001b[0m\u001b[1;34mr'$(A={0:.3f},b={1:.3f},\\phi={2:.3f},C={3:.3f},\\alpha\\'={4:.3f}$'\u001b[0m\u001b[1;33m.\u001b[0m\u001b[0mformat\u001b[0m\u001b[1;33m(\u001b[0m\u001b[1;33m*\u001b[0m\u001b[0mx\u001b[0m\u001b[1;33m[\u001b[0m\u001b[1;36m0\u001b[0m\u001b[1;33m]\u001b[0m\u001b[1;33m)\u001b[0m\u001b[1;33m)\u001b[0m\u001b[1;33m\u001b[0m\u001b[0m\n\u001b[0;32m     68\u001b[0m     \u001b[0msubplots_adjust\u001b[0m\u001b[1;33m(\u001b[0m\u001b[0mleft\u001b[0m\u001b[1;33m=\u001b[0m\u001b[1;36m0.2\u001b[0m\u001b[1;33m,\u001b[0m\u001b[0mright\u001b[0m\u001b[1;33m=\u001b[0m\u001b[1;36m2.0\u001b[0m\u001b[1;33m,\u001b[0m\u001b[0mbottom\u001b[0m\u001b[1;33m=\u001b[0m\u001b[1;36m0.2\u001b[0m\u001b[1;33m,\u001b[0m\u001b[0mtop\u001b[0m\u001b[1;33m=\u001b[0m\u001b[1;36m2.0\u001b[0m\u001b[1;33m,\u001b[0m\u001b[0mwspace\u001b[0m\u001b[1;33m=\u001b[0m\u001b[1;36m0.3\u001b[0m\u001b[1;33m,\u001b[0m\u001b[0mhspace\u001b[0m\u001b[1;33m=\u001b[0m\u001b[1;36m0.3\u001b[0m\u001b[1;33m)\u001b[0m\u001b[1;33m\u001b[0m\u001b[0m\n",
        "\u001b[1;32m<ipython-input-39-9731ae645ec2>\u001b[0m in \u001b[0;36mdo_adaptive_ex_array\u001b[1;34m(n_particles, warmup_exparams, trueparams, n_thetas, n_guesses, n_neutrons, n_warmup_neutrons, quiet)\u001b[0m\n\u001b[0;32m     38\u001b[0m                 \u001b[0midx_pi\u001b[0m \u001b[1;33m*\u001b[0m \u001b[0mnp\u001b[0m\u001b[1;33m.\u001b[0m\u001b[0mpi\u001b[0m \u001b[1;33m/\u001b[0m \u001b[1;36m2\u001b[0m \u001b[1;33m-\u001b[0m \u001b[0mupdater\u001b[0m\u001b[1;33m.\u001b[0m\u001b[0mparticle_locations\u001b[0m\u001b[1;33m[\u001b[0m\u001b[0midx_particle\u001b[0m\u001b[1;33m,\u001b[0m \u001b[1;36m2\u001b[0m\u001b[1;33m,\u001b[0m \u001b[0mnp\u001b[0m\u001b[1;33m.\u001b[0m\u001b[0mnewaxis\u001b[0m\u001b[1;33m]\u001b[0m \u001b[1;33m/\u001b[0m \u001b[0mupdater\u001b[0m\u001b[1;33m.\u001b[0m\u001b[0mparticle_locations\u001b[0m\u001b[1;33m[\u001b[0m\u001b[0midx_particle\u001b[0m\u001b[1;33m,\u001b[0m \u001b[1;36m3\u001b[0m\u001b[1;33m,\u001b[0m \u001b[0mnp\u001b[0m\u001b[1;33m.\u001b[0m\u001b[0mnewaxis\u001b[0m\u001b[1;33m]\u001b[0m\u001b[1;33m\u001b[0m\u001b[0m\n\u001b[0;32m     39\u001b[0m             ) # if idx_pi != 0 else TWO_PI * random.random((1,))\n\u001b[1;32m---> 40\u001b[1;33m             \u001b[0mresult\u001b[0m \u001b[1;33m=\u001b[0m \u001b[0mminimize\u001b[0m\u001b[1;33m(\u001b[0m\u001b[0mobjective\u001b[0m\u001b[1;33m,\u001b[0m \u001b[1;33m(\u001b[0m\u001b[0mguess\u001b[0m\u001b[1;33m,\u001b[0m\u001b[1;36m293.15\u001b[0m\u001b[1;33m,\u001b[0m\u001b[1;36m0.70\u001b[0m\u001b[1;33m)\u001b[0m\u001b[1;33m,\u001b[0m \u001b[0mbounds\u001b[0m\u001b[1;33m=\u001b[0m\u001b[1;33m[\u001b[0m\u001b[1;33m(\u001b[0m\u001b[1;36m0\u001b[0m\u001b[1;33m,\u001b[0m \u001b[1;36m2\u001b[0m \u001b[1;33m*\u001b[0m \u001b[0mnp\u001b[0m\u001b[1;33m.\u001b[0m\u001b[0mpi\u001b[0m\u001b[1;33m)\u001b[0m\u001b[1;33m,\u001b[0m\u001b[1;33m(\u001b[0m\u001b[1;36m270.\u001b[0m\u001b[1;33m,\u001b[0m\u001b[1;36m310.\u001b[0m\u001b[1;33m)\u001b[0m\u001b[1;33m,\u001b[0m\u001b[1;33m(\u001b[0m\u001b[1;36m0.\u001b[0m\u001b[1;33m,\u001b[0m\u001b[1;36m1.\u001b[0m\u001b[1;33m)\u001b[0m\u001b[1;33m]\u001b[0m\u001b[1;33m,\u001b[0m \u001b[0mmethod\u001b[0m\u001b[1;33m=\u001b[0m\u001b[1;34m'TNC'\u001b[0m\u001b[1;33m,\u001b[0m \u001b[0moptions\u001b[0m\u001b[1;33m=\u001b[0m\u001b[1;33m{\u001b[0m\u001b[1;34m'maxiter'\u001b[0m\u001b[1;33m:\u001b[0m \u001b[1;36m2\u001b[0m\u001b[1;33m}\u001b[0m\u001b[1;33m)\u001b[0m\u001b[1;33m\u001b[0m\u001b[0m\n\u001b[0m\u001b[0;32m     41\u001b[0m \u001b[1;33m\u001b[0m\u001b[0m\n\u001b[0;32m     42\u001b[0m             \u001b[1;32mif\u001b[0m \u001b[0mbest_risk\u001b[0m \u001b[1;32mis\u001b[0m \u001b[0mNone\u001b[0m \u001b[1;32mor\u001b[0m \u001b[0mresult\u001b[0m\u001b[1;33m.\u001b[0m\u001b[0mfun\u001b[0m \u001b[1;33m<\u001b[0m \u001b[0mbest_risk\u001b[0m\u001b[1;33m:\u001b[0m\u001b[1;33m\u001b[0m\u001b[0m\n",
        "\u001b[1;32m/home/thomas/Envs/default/local/lib/python2.7/site-packages/scipy/optimize/_minimize.pyc\u001b[0m in \u001b[0;36mminimize\u001b[1;34m(fun, x0, args, method, jac, hess, hessp, bounds, constraints, tol, callback, options)\u001b[0m\n\u001b[0;32m    381\u001b[0m     \u001b[1;32melif\u001b[0m \u001b[0mmeth\u001b[0m \u001b[1;33m==\u001b[0m \u001b[1;34m'tnc'\u001b[0m\u001b[1;33m:\u001b[0m\u001b[1;33m\u001b[0m\u001b[0m\n\u001b[0;32m    382\u001b[0m         return _minimize_tnc(fun, x0, args, jac, bounds, callback=callback,\n\u001b[1;32m--> 383\u001b[1;33m                              **options)\n\u001b[0m\u001b[0;32m    384\u001b[0m     \u001b[1;32melif\u001b[0m \u001b[0mmeth\u001b[0m \u001b[1;33m==\u001b[0m \u001b[1;34m'cobyla'\u001b[0m\u001b[1;33m:\u001b[0m\u001b[1;33m\u001b[0m\u001b[0m\n\u001b[0;32m    385\u001b[0m         \u001b[1;32mreturn\u001b[0m \u001b[0m_minimize_cobyla\u001b[0m\u001b[1;33m(\u001b[0m\u001b[0mfun\u001b[0m\u001b[1;33m,\u001b[0m \u001b[0mx0\u001b[0m\u001b[1;33m,\u001b[0m \u001b[0margs\u001b[0m\u001b[1;33m,\u001b[0m \u001b[0mconstraints\u001b[0m\u001b[1;33m,\u001b[0m \u001b[1;33m**\u001b[0m\u001b[0moptions\u001b[0m\u001b[1;33m)\u001b[0m\u001b[1;33m\u001b[0m\u001b[0m\n",
        "\u001b[1;32m/home/thomas/Envs/default/local/lib/python2.7/site-packages/scipy/optimize/tnc.pyc\u001b[0m in \u001b[0;36m_minimize_tnc\u001b[1;34m(fun, x0, args, jac, bounds, eps, scale, offset, mesg_num, maxCGit, maxiter, eta, stepmx, accuracy, minfev, ftol, xtol, gtol, rescale, disp, callback, **unknown_options)\u001b[0m\n\u001b[0;32m    396\u001b[0m                                         \u001b[0moffset\u001b[0m\u001b[1;33m,\u001b[0m \u001b[0mmessages\u001b[0m\u001b[1;33m,\u001b[0m \u001b[0mmaxCGit\u001b[0m\u001b[1;33m,\u001b[0m \u001b[0mmaxfun\u001b[0m\u001b[1;33m,\u001b[0m\u001b[1;33m\u001b[0m\u001b[0m\n\u001b[0;32m    397\u001b[0m                                         \u001b[0meta\u001b[0m\u001b[1;33m,\u001b[0m \u001b[0mstepmx\u001b[0m\u001b[1;33m,\u001b[0m \u001b[0maccuracy\u001b[0m\u001b[1;33m,\u001b[0m \u001b[0mfmin\u001b[0m\u001b[1;33m,\u001b[0m \u001b[0mftol\u001b[0m\u001b[1;33m,\u001b[0m\u001b[1;33m\u001b[0m\u001b[0m\n\u001b[1;32m--> 398\u001b[1;33m                                         xtol, pgtol, rescale, callback)\n\u001b[0m\u001b[0;32m    399\u001b[0m \u001b[1;33m\u001b[0m\u001b[0m\n\u001b[0;32m    400\u001b[0m     \u001b[0mfunv\u001b[0m\u001b[1;33m,\u001b[0m \u001b[0mjacv\u001b[0m \u001b[1;33m=\u001b[0m \u001b[0mfunc_and_grad\u001b[0m\u001b[1;33m(\u001b[0m\u001b[0mx\u001b[0m\u001b[1;33m)\u001b[0m\u001b[1;33m\u001b[0m\u001b[0m\n",
        "\u001b[1;32m/home/thomas/Envs/default/local/lib/python2.7/site-packages/scipy/optimize/tnc.pyc\u001b[0m in \u001b[0;36mfunc_and_grad\u001b[1;34m(x)\u001b[0m\n\u001b[0;32m    354\u001b[0m         \u001b[1;32mdef\u001b[0m \u001b[0mfunc_and_grad\u001b[0m\u001b[1;33m(\u001b[0m\u001b[0mx\u001b[0m\u001b[1;33m)\u001b[0m\u001b[1;33m:\u001b[0m\u001b[1;33m\u001b[0m\u001b[0m\n\u001b[0;32m    355\u001b[0m             \u001b[0mf\u001b[0m \u001b[1;33m=\u001b[0m \u001b[0mfun\u001b[0m\u001b[1;33m(\u001b[0m\u001b[0mx\u001b[0m\u001b[1;33m,\u001b[0m \u001b[1;33m*\u001b[0m\u001b[0margs\u001b[0m\u001b[1;33m)\u001b[0m\u001b[1;33m\u001b[0m\u001b[0m\n\u001b[1;32m--> 356\u001b[1;33m             \u001b[0mg\u001b[0m \u001b[1;33m=\u001b[0m \u001b[0mapprox_fprime\u001b[0m\u001b[1;33m(\u001b[0m\u001b[0mx\u001b[0m\u001b[1;33m,\u001b[0m \u001b[0mfun\u001b[0m\u001b[1;33m,\u001b[0m \u001b[0mepsilon\u001b[0m\u001b[1;33m,\u001b[0m \u001b[1;33m*\u001b[0m\u001b[0margs\u001b[0m\u001b[1;33m)\u001b[0m\u001b[1;33m\u001b[0m\u001b[0m\n\u001b[0m\u001b[0;32m    357\u001b[0m             \u001b[1;32mreturn\u001b[0m \u001b[0mf\u001b[0m\u001b[1;33m,\u001b[0m \u001b[0mg\u001b[0m\u001b[1;33m\u001b[0m\u001b[0m\n\u001b[0;32m    358\u001b[0m     \u001b[1;32melse\u001b[0m\u001b[1;33m:\u001b[0m\u001b[1;33m\u001b[0m\u001b[0m\n",
        "\u001b[1;32m/home/thomas/Envs/default/local/lib/python2.7/site-packages/scipy/optimize/optimize.pyc\u001b[0m in \u001b[0;36mapprox_fprime\u001b[1;34m(xk, f, epsilon, *args)\u001b[0m\n\u001b[0;32m    608\u001b[0m         \u001b[0mei\u001b[0m\u001b[1;33m[\u001b[0m\u001b[0mk\u001b[0m\u001b[1;33m]\u001b[0m \u001b[1;33m=\u001b[0m \u001b[1;36m1.0\u001b[0m\u001b[1;33m\u001b[0m\u001b[0m\n\u001b[0;32m    609\u001b[0m         \u001b[0md\u001b[0m \u001b[1;33m=\u001b[0m \u001b[0mepsilon\u001b[0m \u001b[1;33m*\u001b[0m \u001b[0mei\u001b[0m\u001b[1;33m\u001b[0m\u001b[0m\n\u001b[1;32m--> 610\u001b[1;33m         \u001b[0mgrad\u001b[0m\u001b[1;33m[\u001b[0m\u001b[0mk\u001b[0m\u001b[1;33m]\u001b[0m \u001b[1;33m=\u001b[0m \u001b[1;33m(\u001b[0m\u001b[0mf\u001b[0m\u001b[1;33m(\u001b[0m\u001b[1;33m*\u001b[0m\u001b[1;33m(\u001b[0m\u001b[1;33m(\u001b[0m\u001b[0mxk\u001b[0m \u001b[1;33m+\u001b[0m \u001b[0md\u001b[0m\u001b[1;33m,\u001b[0m\u001b[1;33m)\u001b[0m \u001b[1;33m+\u001b[0m \u001b[0margs\u001b[0m\u001b[1;33m)\u001b[0m\u001b[1;33m)\u001b[0m \u001b[1;33m-\u001b[0m \u001b[0mf0\u001b[0m\u001b[1;33m)\u001b[0m \u001b[1;33m/\u001b[0m \u001b[0md\u001b[0m\u001b[1;33m[\u001b[0m\u001b[0mk\u001b[0m\u001b[1;33m]\u001b[0m\u001b[1;33m\u001b[0m\u001b[0m\n\u001b[0m\u001b[0;32m    611\u001b[0m         \u001b[0mei\u001b[0m\u001b[1;33m[\u001b[0m\u001b[0mk\u001b[0m\u001b[1;33m]\u001b[0m \u001b[1;33m=\u001b[0m \u001b[1;36m0.0\u001b[0m\u001b[1;33m\u001b[0m\u001b[0m\n\u001b[0;32m    612\u001b[0m \u001b[1;33m\u001b[0m\u001b[0m\n",
        "\u001b[1;32m<ipython-input-39-9731ae645ec2>\u001b[0m in \u001b[0;36mobjective\u001b[1;34m(theta)\u001b[0m\n\u001b[0;32m      9\u001b[0m \u001b[1;33m\u001b[0m\u001b[0m\n\u001b[0;32m     10\u001b[0m         return updater.bayes_risk(                                  \n\u001b[1;32m---> 11\u001b[1;33m             \u001b[0mnp\u001b[0m\u001b[1;33m.\u001b[0m\u001b[0marray\u001b[0m\u001b[1;33m(\u001b[0m\u001b[1;33m[\u001b[0m\u001b[0mtuple\u001b[0m\u001b[1;33m(\u001b[0m\u001b[0mtheta\u001b[0m\u001b[1;33m)\u001b[0m\u001b[1;33m+\u001b[0m\u001b[1;33m(\u001b[0m\u001b[1;36m1\u001b[0m\u001b[1;33m,\u001b[0m\u001b[1;33m)\u001b[0m\u001b[1;33m]\u001b[0m\u001b[1;33m,\u001b[0m \u001b[0mdtype\u001b[0m\u001b[1;33m=\u001b[0m\u001b[0mneutron_model_ex\u001b[0m\u001b[1;33m.\u001b[0m\u001b[0mexpparams_dtype\u001b[0m\u001b[1;33m)\u001b[0m\u001b[1;33m\u001b[0m\u001b[0m\n\u001b[0m\u001b[0;32m     12\u001b[0m         )\n\u001b[0;32m     13\u001b[0m \u001b[1;33m\u001b[0m\u001b[0m\n",
        "\u001b[1;32m/home/thomas/Envs/default/local/lib/python2.7/site-packages/qinfer/smc.pyc\u001b[0m in \u001b[0;36mbayes_risk\u001b[1;34m(self, expparams)\u001b[0m\n\u001b[0;32m    476\u001b[0m         \u001b[1;31m#     for the moment this is not implemented.\u001b[0m\u001b[1;33m\u001b[0m\u001b[1;33m\u001b[0m\u001b[0m\n\u001b[0;32m    477\u001b[0m         \u001b[0mnout\u001b[0m \u001b[1;33m=\u001b[0m \u001b[0mself\u001b[0m\u001b[1;33m.\u001b[0m\u001b[0mmodel\u001b[0m\u001b[1;33m.\u001b[0m\u001b[0mn_outcomes\u001b[0m\u001b[1;33m(\u001b[0m\u001b[0mexpparams\u001b[0m\u001b[1;33m)\u001b[0m \u001b[1;31m# This is a vector so this won't work\u001b[0m\u001b[1;33m\u001b[0m\u001b[0m\n\u001b[1;32m--> 478\u001b[1;33m         \u001b[0mw\u001b[0m\u001b[1;33m,\u001b[0m \u001b[0mL\u001b[0m \u001b[1;33m=\u001b[0m \u001b[0mself\u001b[0m\u001b[1;33m.\u001b[0m\u001b[0mhypothetical_update\u001b[0m\u001b[1;33m(\u001b[0m\u001b[0mnp\u001b[0m\u001b[1;33m.\u001b[0m\u001b[0marange\u001b[0m\u001b[1;33m(\u001b[0m\u001b[0mnout\u001b[0m\u001b[1;33m)\u001b[0m\u001b[1;33m,\u001b[0m \u001b[0mexpparams\u001b[0m\u001b[1;33m,\u001b[0m \u001b[0mreturn_likelihood\u001b[0m\u001b[1;33m=\u001b[0m\u001b[0mTrue\u001b[0m\u001b[1;33m)\u001b[0m\u001b[1;33m\u001b[0m\u001b[0m\n\u001b[0m\u001b[0;32m    479\u001b[0m         \u001b[0mw\u001b[0m \u001b[1;33m=\u001b[0m \u001b[0mw\u001b[0m\u001b[1;33m[\u001b[0m\u001b[1;33m:\u001b[0m\u001b[1;33m,\u001b[0m \u001b[1;36m0\u001b[0m\u001b[1;33m,\u001b[0m \u001b[1;33m:\u001b[0m\u001b[1;33m]\u001b[0m \u001b[1;31m# Fix w.shape == (n_outcomes, n_particles).\u001b[0m\u001b[1;33m\u001b[0m\u001b[0m\n\u001b[0;32m    480\u001b[0m         \u001b[0mL\u001b[0m \u001b[1;33m=\u001b[0m \u001b[0mL\u001b[0m\u001b[1;33m[\u001b[0m\u001b[1;33m:\u001b[0m\u001b[1;33m,\u001b[0m \u001b[1;33m:\u001b[0m\u001b[1;33m,\u001b[0m \u001b[1;36m0\u001b[0m\u001b[1;33m]\u001b[0m \u001b[1;31m# Fix L.shape == (n_outcomes, n_particles).\u001b[0m\u001b[1;33m\u001b[0m\u001b[0m\n",
        "\u001b[1;32m/home/thomas/Envs/default/local/lib/python2.7/site-packages/qinfer/smc.pyc\u001b[0m in \u001b[0;36mhypothetical_update\u001b[1;34m(self, outcomes, expparams, return_likelihood, return_normalization)\u001b[0m\n\u001b[0;32m    261\u001b[0m \u001b[1;33m\u001b[0m\u001b[0m\n\u001b[0;32m    262\u001b[0m         \u001b[1;31m# normalize\u001b[0m\u001b[1;33m\u001b[0m\u001b[1;33m\u001b[0m\u001b[0m\n\u001b[1;32m--> 263\u001b[1;33m         \u001b[0mnorm_weights\u001b[0m \u001b[1;33m=\u001b[0m \u001b[0mhyp_weights\u001b[0m \u001b[1;33m/\u001b[0m \u001b[0mfixed_norm_scale\u001b[0m\u001b[1;33m\u001b[0m\u001b[0m\n\u001b[0m\u001b[0;32m    264\u001b[0m             \u001b[1;31m# Note that newaxis is needed to align the two matrices.\u001b[0m\u001b[1;33m\u001b[0m\u001b[1;33m\u001b[0m\u001b[0m\n\u001b[0;32m    265\u001b[0m             \u001b[1;31m# This introduces a length-1 axis for the particle number,\u001b[0m\u001b[1;33m\u001b[0m\u001b[1;33m\u001b[0m\u001b[0m\n",
        "\u001b[1;31mKeyboardInterrupt\u001b[0m: "
       ]
      },
      {
       "output_type": "stream",
       "stream": "stdout",
       "text": [
        "\tLoss: 4.90e+01\tError: 8.16e-02\tStd dev: 5.73e-04\tResample: 25\n"
       ]
      },
      {
       "metadata": {},
       "output_type": "display_data",
       "png": "[encoded data removed]",
       "text": [
        "<matplotlib.figure.Figure at 0x549d3d0>"
       ]
      }
     ],
     "prompt_number": 44
    },
    {
     "cell_type": "code",
     "collapsed": false,
     "input": [
      "#plot_kernel_smoothed_pdf(updater_adaptive)"
     ],
     "language": "python",
     "metadata": {},
     "outputs": []
    },
    {
     "cell_type": "code",
     "collapsed": false,
     "input": [
      "#plot_kernel_smoothed_pdf(updater_adaptive, param=3)"
     ],
     "language": "python",
     "metadata": {},
     "outputs": []
    },
    {
     "cell_type": "code",
     "collapsed": false,
     "input": [
      "#plot(this_error_hist)"
     ],
     "language": "python",
     "metadata": {},
     "outputs": []
    },
    {
     "cell_type": "code",
     "collapsed": false,
     "input": [
      "l = 20\n",
      "n_t = 100\n",
      "error_hist = np.zeros((l, n_t + warmup_thetas.size))\n",
      "for idx_run in xrange(l):\n",
      "    print(\"Run {}...\".format(idx_run))\n",
      "    f_post, this_error_hist, updater_adaptive, best_thetas = do_adaptive_ex(n_thetas=n_t, n_guesses=5, warmup_exparams=exparams, n_neutrons=100, n_warmup_neutrons=100, quiet=True)\n",
      "    error_hist[idx_run, :] = this_error_hist"
     ],
     "language": "python",
     "metadata": {},
     "outputs": []
    },
    {
     "cell_type": "code",
     "collapsed": false,
     "input": [
      "xs = arange(error_hist.shape[1]) + 1\n",
      "ns = np.concatenate([1000 * arange(1, 1 + len(warmup_thetas)), 1000 * len(warmup_thetas) + 40 * arange(1, 501)])\n",
      "figure(figsize=(12,6))\n",
      "xlim(xmax=max(xs))\n",
      "plot(xs, np.mean(error_hist, axis=0), label='Mean error of adaptive algo.')\n",
      "#plot(xs, 1/sqrt(ns), 'k--', label='CRB for perfect contrast')\n",
      "legend()\n",
      "title('Performance over {0} runs of adaptive algorithm'.format(l))\n",
      "xlabel('Experiment index', size=14)\n",
      "ylabel(r'Error in $\\Delta\\phi$', size=14);\n",
      "savefig(\"meanerror.eps\")"
     ],
     "language": "python",
     "metadata": {},
     "outputs": []
    },
    {
     "cell_type": "code",
     "collapsed": false,
     "input": [
      "plot_kernel_smoothed_pdf(updater_adaptive, param=2, show_true=False)\n"
     ],
     "language": "python",
     "metadata": {},
     "outputs": []
    },
    {
     "cell_type": "code",
     "collapsed": false,
     "input": [
      "plot_kernel_smoothed_pdf(updater_adaptive, param=3, show_true=False)\n"
     ],
     "language": "python",
     "metadata": {},
     "outputs": []
    },
    {
     "cell_type": "code",
     "collapsed": false,
     "input": [
      "title("
     ],
     "language": "python",
     "metadata": {},
     "outputs": []
    }
   ],
   "metadata": {}
  }
 ]
}