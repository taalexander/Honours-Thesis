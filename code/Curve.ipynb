{
 "metadata": {
  "name": ""
 },
 "nbformat": 3,
 "nbformat_minor": 0,
 "worksheets": [
  {
   "cells": [
    {
     "cell_type": "code",
     "collapsed": false,
     "input": [
      "import numpy as np"
     ],
     "language": "python",
     "metadata": {},
     "outputs": [],
     "prompt_number": 1
    },
    {
     "cell_type": "code",
     "collapsed": false,
     "input": [
      "h_A=6.20963\n",
      "h_B=2354.731 \n",
      "h_C=7.559"
     ],
     "language": "python",
     "metadata": {},
     "outputs": [],
     "prompt_number": 2
    },
    {
     "cell_type": "code",
     "collapsed": false,
     "input": [
      "T = np.arange(250.,373.,0.01)\n"
     ],
     "language": "python",
     "metadata": {},
     "outputs": [],
     "prompt_number": 3
    },
    {
     "cell_type": "code",
     "collapsed": false,
     "input": [
      "def antoine(h_A,h_B,h_C,T):\n",
      "    return 10**(h_A - (h_B/(h_C+T)))"
     ],
     "language": "python",
     "metadata": {},
     "outputs": [],
     "prompt_number": 4
    },
    {
     "cell_type": "code",
     "collapsed": false,
     "input": [
      "y = antoine(h_A,h_B,h_C,T)"
     ],
     "language": "python",
     "metadata": {},
     "outputs": [],
     "prompt_number": 5
    },
    {
     "cell_type": "code",
     "collapsed": false,
     "input": [
      "plot(T,y)\n",
      "title(\"Saturation Pressure of Water versus Temperature\")\n",
      "xlabel(\"Temperature(K)\")\n",
      "ylabel(\"Pressure(bar)\")\n",
      "savefig('antoine.eps')"
     ],
     "language": "python",
     "metadata": {},
     "outputs": [
      {
       "metadata": {},
       "output_type": "display_data",
       "png": "[encoded data removed]",
       "text": [
        "<matplotlib.figure.Figure at 0x369af10>"
       ]
      }
     ],
     "prompt_number": 6
    },
    {
     "cell_type": "code",
     "collapsed": false,
     "input": [
      "a = np.linspace(1,100,100)\n",
      "b = np.linspace(100,1,100)"
     ],
     "language": "python",
     "metadata": {},
     "outputs": [],
     "prompt_number": 7
    },
    {
     "cell_type": "code",
     "collapsed": false,
     "input": [
      "a/b"
     ],
     "language": "python",
     "metadata": {},
     "outputs": [
      {
       "metadata": {},
       "output_type": "pyout",
       "prompt_number": 8,
       "text": [
        "array([  1.00000000e-02,   2.02020202e-02,   3.06122449e-02,\n",
        "         4.12371134e-02,   5.20833333e-02,   6.31578947e-02,\n",
        "         7.44680851e-02,   8.60215054e-02,   9.78260870e-02,\n",
        "         1.09890110e-01,   1.22222222e-01,   1.34831461e-01,\n",
        "         1.47727273e-01,   1.60919540e-01,   1.74418605e-01,\n",
        "         1.88235294e-01,   2.02380952e-01,   2.16867470e-01,\n",
        "         2.31707317e-01,   2.46913580e-01,   2.62500000e-01,\n",
        "         2.78481013e-01,   2.94871795e-01,   3.11688312e-01,\n",
        "         3.28947368e-01,   3.46666667e-01,   3.64864865e-01,\n",
        "         3.83561644e-01,   4.02777778e-01,   4.22535211e-01,\n",
        "         4.42857143e-01,   4.63768116e-01,   4.85294118e-01,\n",
        "         5.07462687e-01,   5.30303030e-01,   5.53846154e-01,\n",
        "         5.78125000e-01,   6.03174603e-01,   6.29032258e-01,\n",
        "         6.55737705e-01,   6.83333333e-01,   7.11864407e-01,\n",
        "         7.41379310e-01,   7.71929825e-01,   8.03571429e-01,\n",
        "         8.36363636e-01,   8.70370370e-01,   9.05660377e-01,\n",
        "         9.42307692e-01,   9.80392157e-01,   1.02000000e+00,\n",
        "         1.06122449e+00,   1.10416667e+00,   1.14893617e+00,\n",
        "         1.19565217e+00,   1.24444444e+00,   1.29545455e+00,\n",
        "         1.34883721e+00,   1.40476190e+00,   1.46341463e+00,\n",
        "         1.52500000e+00,   1.58974359e+00,   1.65789474e+00,\n",
        "         1.72972973e+00,   1.80555556e+00,   1.88571429e+00,\n",
        "         1.97058824e+00,   2.06060606e+00,   2.15625000e+00,\n",
        "         2.25806452e+00,   2.36666667e+00,   2.48275862e+00,\n",
        "         2.60714286e+00,   2.74074074e+00,   2.88461538e+00,\n",
        "         3.04000000e+00,   3.20833333e+00,   3.39130435e+00,\n",
        "         3.59090909e+00,   3.80952381e+00,   4.05000000e+00,\n",
        "         4.31578947e+00,   4.61111111e+00,   4.94117647e+00,\n",
        "         5.31250000e+00,   5.73333333e+00,   6.21428571e+00,\n",
        "         6.76923077e+00,   7.41666667e+00,   8.18181818e+00,\n",
        "         9.10000000e+00,   1.02222222e+01,   1.16250000e+01,\n",
        "         1.34285714e+01,   1.58333333e+01,   1.92000000e+01,\n",
        "         2.42500000e+01,   3.26666667e+01,   4.95000000e+01,\n",
        "         1.00000000e+02])"
       ]
      }
     ],
     "prompt_number": 8
    },
    {
     "cell_type": "code",
     "collapsed": false,
     "input": [
      "(1,2,3)+(10,)"
     ],
     "language": "python",
     "metadata": {},
     "outputs": [
      {
       "metadata": {},
       "output_type": "pyout",
       "prompt_number": 9,
       "text": [
        "(1, 2, 3, 10)"
       ]
      }
     ],
     "prompt_number": 9
    },
    {
     "cell_type": "code",
     "collapsed": false,
     "input": [
      "[1,2,3]+(10,)"
     ],
     "language": "python",
     "metadata": {},
     "outputs": [
      {
       "ename": "TypeError",
       "evalue": "can only concatenate list (not \"tuple\") to list",
       "output_type": "pyerr",
       "traceback": [
        "\u001b[1;31m---------------------------------------------------------------------------\u001b[0m\n\u001b[1;31mTypeError\u001b[0m                                 Traceback (most recent call last)",
        "\u001b[1;32m<ipython-input-10-fed3347eddd9>\u001b[0m in \u001b[0;36m<module>\u001b[1;34m()\u001b[0m\n\u001b[1;32m----> 1\u001b[1;33m \u001b[1;33m[\u001b[0m\u001b[1;36m1\u001b[0m\u001b[1;33m,\u001b[0m\u001b[1;36m2\u001b[0m\u001b[1;33m,\u001b[0m\u001b[1;36m3\u001b[0m\u001b[1;33m]\u001b[0m\u001b[1;33m+\u001b[0m\u001b[1;33m(\u001b[0m\u001b[1;36m10\u001b[0m\u001b[1;33m,\u001b[0m\u001b[1;33m)\u001b[0m\u001b[1;33m\u001b[0m\u001b[0m\n\u001b[0m",
        "\u001b[1;31mTypeError\u001b[0m: can only concatenate list (not \"tuple\") to list"
       ]
      }
     ],
     "prompt_number": 10
    },
    {
     "cell_type": "code",
     "collapsed": false,
     "input": [
      "[np.newaxis, :, :]"
     ],
     "language": "python",
     "metadata": {},
     "outputs": []
    },
    {
     "cell_type": "code",
     "collapsed": false,
     "input": [
      "2**25"
     ],
     "language": "python",
     "metadata": {},
     "outputs": []
    },
    {
     "cell_type": "code",
     "collapsed": false,
     "input": [
      "np.linspace(1,1000,5)"
     ],
     "language": "python",
     "metadata": {},
     "outputs": [
      {
       "metadata": {},
       "output_type": "pyout",
       "prompt_number": 11,
       "text": [
        "array([    1.  ,   250.75,   500.5 ,   750.25,  1000.  ])"
       ]
      }
     ],
     "prompt_number": 11
    },
    {
     "cell_type": "code",
     "collapsed": false,
     "input": [],
     "language": "python",
     "metadata": {},
     "outputs": []
    }
   ],
   "metadata": {}
  }
 ]
}