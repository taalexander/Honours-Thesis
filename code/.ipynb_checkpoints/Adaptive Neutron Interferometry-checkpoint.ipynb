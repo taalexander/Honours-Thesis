{
 "metadata": {
  "name": ""
 },
 "nbformat": 3,
 "nbformat_minor": 0,
 "worksheets": [
  {
   "cells": [
    {
     "cell_type": "heading",
     "level": 1,
     "metadata": {},
     "source": [
      "Adaptive Neutron Interferometry"
     ]
    },
    {
     "cell_type": "heading",
     "level": 2,
     "metadata": {},
     "source": [
      "Preamble"
     ]
    },
    {
     "cell_type": "code",
     "collapsed": false,
     "input": [
      "from __future__ import division, print_function"
     ],
     "language": "python",
     "metadata": {},
     "outputs": [],
     "prompt_number": 3
    },
    {
     "cell_type": "code",
     "collapsed": false,
     "input": [
      "%pylab inline"
     ],
     "language": "python",
     "metadata": {},
     "outputs": [
      {
       "output_type": "stream",
       "stream": "stdout",
       "text": [
        "Populating the interactive namespace from numpy and matplotlib\n"
       ]
      }
     ],
     "prompt_number": 4
    },
    {
     "cell_type": "code",
     "collapsed": false,
     "input": [
      "from qinfer import smc, abstract_model, derived_models, distributions, expdesign, resamplers\n",
      "from scipy.optimize import minimize, curve_fit\n",
      "import scipy.stats"
     ],
     "language": "python",
     "metadata": {},
     "outputs": [],
     "prompt_number": 5
    },
    {
     "cell_type": "heading",
     "level": 2,
     "metadata": {},
     "source": [
      "Constants"
     ]
    },
    {
     "cell_type": "code",
     "collapsed": false,
     "input": [
      "TWO_PI = np.pi * 2"
     ],
     "language": "python",
     "metadata": {},
     "outputs": [],
     "prompt_number": 6
    },
    {
     "cell_type": "heading",
     "level": 2,
     "metadata": {},
     "source": [
      "Inference Models"
     ]
    },
    {
     "cell_type": "markdown",
     "metadata": {},
     "source": [
      "We start with a model that will be used for performing inference, $\\Pr(O | A, b, \\phi, \\lambda; \\theta) = (\\frac{1}{2} + b) + \\frac{A}{2} \\cos(\\lambda \\theta + \\phi)$.\n",
      "This model will then be used to adaptively learn the value of $\\vec{x} = (A, b, \\phi, \\lambda)$."
     ]
    },
    {
     "cell_type": "code",
     "collapsed": false,
     "input": [
      "class SingleNeutronModel(abstract_model.Model):    \n",
      "    ## PROPERTIES ##\n",
      "    @property\n",
      "    def n_modelparams(self):\n",
      "        return 4 # A, b, \\phi, \\lambda\n",
      "    @property\n",
      "    def expparams_dtype(self):\n",
      "        return [('theta', 'float')]\n",
      "    @property\n",
      "    def is_n_outcomes_constant(self):\n",
      "        return True\n",
      "    @property\n",
      "    def Q(self):\n",
      "        return np.array([1, 1, 1, 1]) # Prioritize phi over the others.\n",
      "    ## METHODS ##    \n",
      "    @staticmethod\n",
      "    def are_models_valid(modelparams):\n",
      "        A, b, phi, lambda_ = modelparams.T\n",
      "        abs_b = np.abs(b)\n",
      "        return np.all([\n",
      "            A > 0,\n",
      "            A <= 1 - 2 * abs_b,\n",
      "            abs_b <= 0.5,\n",
      "            phi >= 0,\n",
      "            phi <= np.pi / 2,\n",
      "            lambda_ >= 0\n",
      "        ], axis=0)\n",
      "    def n_outcomes(self, expparams):\n",
      "        return 2    \n",
      "    def likelihood(self, outcomes, modelparams, expparams):\n",
      "        # By calling the superclass implementation, we can consolidate\n",
      "        # call counting there.\n",
      "        super(SingleNeutronModel, self).likelihood(outcomes, modelparams, expparams)\n",
      "                    \n",
      "        # Extract each model parameter under its own name.\n",
      "        A, b, phi, lambda_ = modelparams.T[..., np.newaxis]\n",
      "        theta = expparams['theta'][np.newaxis, :]\n",
      "        \n",
      "        pr0 = (0.5 + b) + (0.5 * A * np.cos(lambda_ * theta + phi))\n",
      "                \n",
      "        # Now we concatenate over outcomes.\n",
      "        return abstract_model.Model.pr0_to_likelihood_array(outcomes, pr0)"
     ],
     "language": "python",
     "metadata": {},
     "outputs": [],
     "prompt_number": 7
    },
    {
     "cell_type": "markdown",
     "metadata": {},
     "source": [
      "We start with a model that will be used for performing inference, $$P(0|A,b,\\Delta\\phi,C,\\alpha';\\delta,\\hat{\\Phi},\\hat{T})= \\int \\limits_\\Phi \\int \\limits_T \\left[(\\frac{1}{2}+b)+\\frac{A}{2}cos\\left(\\Delta\\phi + C\\delta + \\frac{\\alpha' \\Phi\\delta}{T}\\times 10^{h_A - \\frac{h_B}{h_C - T}}\\right)\\right]P(T|\\hat{T})P(\\Phi|\\hat{\\Phi})dTd\\Phi$$\n",
      " This model will learn $\\vec{x} = (A,b,\\Delta\\phi,C,\\alpha')$                                                                                                                                         "
     ]
    },
    {
     "cell_type": "code",
     "collapsed": false,
     "input": [
      "class SingleNeutronModelEx(abstract_model.Model): \n",
      "    def __init__(self):\n",
      "        self.h_A=6.20963\n",
      "        self.h_B=2354.731 \n",
      "        self.h_C=7.559\n",
      "        super(SingleNeutronModelEx, self).__init__()\n",
      "    ## PROPERTIES ##\n",
      "    @property\n",
      "    def n_modelparams(self):\n",
      "        return 5 # A, b, \\phi,C,\\alpha\n",
      "    @property\n",
      "    def expparams_dtype(self):\n",
      "        return [('delta', 'float'),('temp','float'),('humid','float')]\n",
      "    @property\n",
      "    def is_n_outcomes_constant(self):\n",
      "        return True\n",
      "    @property\n",
      "    def Q(self):\n",
      "        return np.array([1, 1, 1, 1,1]) # Quadratic loss matrix, all are same for now\n",
      "    ## METHODS ##    \n",
      "    @staticmethod\n",
      "    def are_models_valid(modelparams):\n",
      "        A, b, phi, C, alpha = modelparams.T\n",
      "        abs_b = np.abs(b)\n",
      "        return np.all([\n",
      "            A > 0,\n",
      "            A <= 1 - 2 * abs_b,\n",
      "            abs_b <= 0.5,\n",
      "            phi >= 0 ,\n",
      "            phi <= np.pi / 2,\n",
      "            C >= 0,\n",
      "            alpha <=0 # might not work care\n",
      "            \n",
      "        ], axis=0)\n",
      "    def n_outcomes(self, expparams):\n",
      "        return 2    \n",
      "    def likelihood(self, outcomes, modelparams, expparams):\n",
      "        # By calling the superclass implementation, we can consolidate\n",
      "        # call counting there.\n",
      "        super(SingleNeutronModelEx, self).likelihood(outcomes, modelparams, expparams)\n",
      "                    \n",
      "        # Extract each model parameter under its own name.\n",
      "        A, b, phi, C, alpha = modelparams.T[..., np.newaxis]\n",
      "        delta = expparams['delta'][np.newaxis, :]\n",
      "        temp = expparams['temp'][np.newaxis, :]\n",
      "        humid = expparams['humid'][np.newaxis, :]\n",
      "        pr0 = (0.5 + b) + (0.5 * A * np.cos(C * delta + phi+ (alpha*delta*humid/temp*10**(self.h_A-(self.h_B/(self.h_C+temp))))))\n",
      "                \n",
      "        # Now we concatenate over outcomes.\n",
      "        return abstract_model.Model.pr0_to_likelihood_array(outcomes, pr0)"
     ],
     "language": "python",
     "metadata": {},
     "outputs": [],
     "prompt_number": 8
    },
    {
     "cell_type": "code",
     "collapsed": false,
     "input": [
      "single_neutron_model = SingleNeutronModel()\n",
      "neutron_model = derived_models.BinomialModel(single_neutron_model)\n",
      "single_neutron_model_ex = SingleNeutronModelEx()\n",
      "neutron_model_ex = derived_models.BinomialModel(single_neutron_model_ex)\n"
     ],
     "language": "python",
     "metadata": {},
     "outputs": [],
     "prompt_number": 10
    },
    {
     "cell_type": "heading",
     "level": 2,
     "metadata": {},
     "source": [
      "True Models"
     ]
    },
    {
     "cell_type": "markdown",
     "metadata": {},
     "source": [
      "For consistency, we will test with a set of \"true\" model parameters for each model."
     ]
    },
    {
     "cell_type": "code",
     "collapsed": false,
     "input": [
      "true_modelparams = np.array([[0.9, 0.00, (0.43 * np.pi / 16), 1.02]])\n",
      "true_modelparams_ex = np.array([[0.9, 0.00, (0.43 * np.pi / 16), 1.02,-1.02]])"
     ],
     "language": "python",
     "metadata": {},
     "outputs": [],
     "prompt_number": 11
    },
    {
     "cell_type": "code",
     "collapsed": false,
     "input": [
      "true_modelparams_array = np.array([[[0.9, 0.00, (0.43 * np.pi / 16), 1.02,-1.02]],[[0.9, 0.00, (0.43 * np.pi / 16), 1.02,-1.02]]\n",
      "                                   ,[[0.9, 0.00, (np.pi / 2), 1.02,-1.02]]\n",
      "                                   ,[[0.9, 0.1, (0.43 * np.pi / 16), 1.02,-1.02]]\n",
      "                                   ,[[0.9, 0.00, (0.43 * np.pi / 16), 1.5,-1.02]]\n",
      "                                   ,[[0.1, 0.00, (0.43 * np.pi / 16), 1.02,-1.02]]\n",
      "                                   ])"
     ],
     "language": "python",
     "metadata": {},
     "outputs": [],
     "prompt_number": 37
    },
    {
     "cell_type": "markdown",
     "metadata": {},
     "source": [
      "Of course, it's important that each \"true\" model be a valid model, and so we assert that here."
     ]
    },
    {
     "cell_type": "code",
     "collapsed": false,
     "input": [
      "assert neutron_model.are_models_valid(true_modelparams)\n",
      "assert neutron_model_ex.are_models_valid(true_modelparams_ex)"
     ],
     "language": "python",
     "metadata": {},
     "outputs": [],
     "prompt_number": 13
    },
    {
     "cell_type": "heading",
     "level": 2,
     "metadata": {},
     "source": [
      "Prior Distributions"
     ]
    },
    {
     "cell_type": "code",
     "collapsed": false,
     "input": [
      "neutron_prior = distributions.UniformDistribution([\n",
      "    [0.7, 0.925],\n",
      "    [-0.00005, 0.00005],\n",
      "    [0, np.pi / 8],\n",
      "    [true_modelparams[0, 3] - 0.01, true_modelparams[0, 3] + 0.01]\n",
      "])\n",
      "neutron_prior_ex = distributions.UniformDistribution([\n",
      "    [true_modelparams_ex[0, 0] - 0.01, true_modelparams_ex[0, 0] + 0.01],\n",
      "    [true_modelparams_ex[0, 1] - 0.01, true_modelparams_ex[0, 1] + 0.01],\n",
      "    [0,np.pi/2],\n",
      "    [true_modelparams_ex[0, 3] - 0.01, true_modelparams_ex[0, 3] + 0.01],\n",
      "    [true_modelparams_ex[0, 4] - 0.01, true_modelparams_ex[0, 4] + 0.01]\n",
      "])"
     ],
     "language": "python",
     "metadata": {},
     "outputs": [],
     "prompt_number": 38
    },
    {
     "cell_type": "code",
     "collapsed": false,
     "input": [
      "neutron_prior_arr = [ [\n",
      "    [x[0, 0] - 0.01, x[0, 0] + 0.01],\n",
      "    [x[0, 1] - 0.01, x[0, 1] + 0.01],\n",
      "    [0,np.pi/2],\n",
      "    [x[0, 3] - 0.01, x[0, 3] + 0.01],\n",
      "    [x[0, 4] - 0.01, x[0, 4] + 0.01]\n",
      "] for x in true_modelparams_array]\n"
     ],
     "language": "python",
     "metadata": {},
     "outputs": [
      {
       "output_type": "stream",
       "stream": "stdout",
       "text": [
        "[[[0.89000000000000001, 0.91000000000000003], [-0.01, 0.01], [0, 1.5707963267948966], [1.01, 1.03], [-1.03, -1.01]], [[0.89000000000000001, 0.91000000000000003], [-0.01, 0.01], [0, 1.5707963267948966], [1.01, 1.03], [-1.03, -1.01]], [[0.89000000000000001, 0.91000000000000003], [-0.01, 0.01], [0, 1.5707963267948966], [1.01, 1.03], [-1.03, -1.01]], [[0.89000000000000001, 0.91000000000000003], [0.090000000000000011, 0.11], [0, 1.5707963267948966], [1.01, 1.03], [-1.03, -1.01]], [[0.89000000000000001, 0.91000000000000003], [-0.01, 0.01], [0, 1.5707963267948966], [1.49, 1.51], [-1.03, -1.01]], [[0.090000000000000011, 0.11], [-0.01, 0.01], [0, 1.5707963267948966], [1.01, 1.03], [-1.03, -1.01]]]\n"
       ]
      }
     ],
     "prompt_number": 41
    },
    {
     "cell_type": "heading",
     "level": 2,
     "metadata": {},
     "source": [
      "Plotting Functions"
     ]
    },
    {
     "cell_type": "code",
     "collapsed": false,
     "input": [
      "def plot_kernel_smoothed_pdf(updater, param=2, show_true=True):\n",
      "    kernel = scipy.stats.norm(scale=0.0005, loc=updater.particle_locations[:, param]).pdf\n",
      "    xs = linspace(*updater.prior._ranges[param], num=100)\n",
      "    smoothed_pdf = np.sum(kernel(xs[:, np.newaxis]) * updater.particle_weights, axis=-1)\n",
      "    plot(xs, smoothed_pdf)\n",
      "    if show_true:\n",
      "        plot(true_modelparams[:, param], 0, 'rx')"
     ],
     "language": "python",
     "metadata": {},
     "outputs": [],
     "prompt_number": 26
    },
    {
     "cell_type": "heading",
     "level": 2,
     "metadata": {},
     "source": [
      "SMC Updater"
     ]
    },
    {
     "cell_type": "markdown",
     "metadata": {},
     "source": [
      "Warm up the updater by performing experiments over unifomly spaced theta, then look at the risk profile. This experimental setup is not really reasonable, as it assumes 1000 changings of the phase flag but only 10 neutrons per setting. That said, this is still useful for our purposes, as it causes the distribution to warm up to one that is approximately Gaussian."
     ]
    },
    {
     "cell_type": "code",
     "collapsed": false,
     "input": [
      "def plot_risks(updater, theta_min=0, theta_max=TWO_PI, n_thetas=100):\n",
      "    thetas = np.linspace(theta_min, theta_max, n_thetas)\n",
      "    risks = np.array([\n",
      "        updater.bayes_risk(np.array([(theta, 10)], dtype=updater.model.expparams_dtype))\n",
      "        for theta in thetas\n",
      "    ])\n",
      "    f = plot(thetas / np.pi, risks)\n",
      "    xlabel(r'$\\theta / \\pi$')\n",
      "    ylabel(r'$r(\\theta)$')\n",
      "    return f"
     ],
     "language": "python",
     "metadata": {},
     "outputs": [],
     "prompt_number": 27
    },
    {
     "cell_type": "markdown",
     "metadata": {},
     "source": [
      "Before we do anything, the risk profile rewards exploring $\\theta \\approx \\pi$. Note that this is dependent on the prior; here, we have chosen $\\phi \\sim \\text{Uniform}(0, \\pi / 2)$."
     ]
    },
    {
     "cell_type": "code",
     "collapsed": false,
     "input": [
      "plot_risks(smc.SMCUpdater(neutron_model, 100000, neutron_prior))"
     ],
     "language": "python",
     "metadata": {},
     "outputs": [
      {
       "metadata": {},
       "output_type": "pyout",
       "prompt_number": 17,
       "text": [
        "[<matplotlib.lines.Line2D at 0x4833ed0>]"
       ]
      },
      {
       "metadata": {},
       "output_type": "display_data",
       "png": "[encoded data removed]",
       "text": [
        "<matplotlib.figure.Figure at 0x471e410>"
       ]
      }
     ],
     "prompt_number": 17
    },
    {
     "cell_type": "code",
     "collapsed": false,
     "input": [
      "def plot_risks_ex(updater, theta_min=0, theta_max=TWO_PI,hum=0.70,hum_std=0.01,temp=293.15,temp_std=0.5, n_thetas=100):\n",
      "    deltas = np.linspace(theta_min, theta_max, n_thetas)\n",
      "    humidities = np.random.normal(hum,hum_std,n_thetas)\n",
      "    temps = np.random.normal(temp,temp_std,n_thetas)\n",
      "    exparams = zip(deltas,temps,humidities)   \n",
      "    risks = np.array([\n",
      "        updater.bayes_risk(np.array([exparam+(10,)], dtype=updater.model.expparams_dtype))\n",
      "        for exparam in exparams\n",
      "    ])\n",
      "    f = plot(deltas / np.pi, risks)    \n",
      "    xlabel(r'$\\theta / \\pi$')\n",
      "    ylabel(r'$r(\\theta)$')\n",
      "    return f\n"
     ],
     "language": "python",
     "metadata": {},
     "outputs": [],
     "prompt_number": 31
    },
    {
     "cell_type": "code",
     "collapsed": false,
     "input": [
      "def plot_risks_array(updater, theta_min=0, theta_max=TWO_PI,hum=0.70,hum_std=0.01,temp=293.15,temp_std=0.5, n_thetas=100):\n",
      "    deltas = np.linspace(theta_min, theta_max, n_thetas)\n",
      "    humidities = np.random.normal(hum,hum_std,n_thetas)\n",
      "    temps = np.random.normal(temp,temp_std,n_thetas)\n",
      "    exparams = zip(deltas,temps,humidities)   \n",
      "    risks = np.array([\n",
      "        updater.bayes_risk(np.array([exparam+(10,)], dtype=updater.model.expparams_dtype))\n",
      "        for exparam in exparams\n",
      "    ])\n",
      "    f = plot(deltas / np.pi, risks)    \n",
      "    xlabel(r'$\\theta / \\pi$')\n",
      "    ylabel(r'$r(\\theta)$')\n",
      "    return (deltas / np.pi,risks)\n",
      "def make_array(experimentalparams,num_particle=100000,priors,theta_min=0, theta_max=TWO_PI,\n",
      "               hum=0.70,hum_std=0.01,temp=293.15,temp_std=0.5, n_thetas=100):\n",
      "    figure(1)\n",
      "    subplot(math.ceil((float(experimentalparams)))/2,2\n",
      "    for x,y in zip(experimentalparams,priors):\n",
      "        "
     ],
     "language": "python",
     "metadata": {},
     "outputs": []
    },
    {
     "cell_type": "code",
     "collapsed": false,
     "input": [
      "# now for experimental model\n",
      "plot_risks_ex(smc.SMCUpdater(neutron_model_ex, 100000, neutron_prior_ex))"
     ],
     "language": "python",
     "metadata": {},
     "outputs": [
      {
       "output_type": "stream",
       "stream": "stdout",
       "text": [
        "[ 0.06946486  0.06706743  0.06542609  0.06431116  0.06357108  0.06310651\n",
        "  0.06285238  0.06276622  0.06282064  0.06299878  0.06329149  0.06369563\n",
        "  0.0642132   0.06485102  0.06562082  0.06653971  0.06763085  0.06892506\n",
        "  0.07046178  0.07229024  0.07447298  0.07708307  0.08020605  0.08393473\n",
        "  0.08835946  0.09356472  0.09960921  0.10653132  0.11433899  0.12302108\n",
        "  0.13256678  0.14299897  0.15443047  0.1670961   0.18129637  0.19698829\n",
        "  0.21255846  0.22321406  0.22313827  0.2110491   0.19048711  0.1663862\n",
        "  0.14281643  0.12225536  0.10570488  0.09315403  0.08403279  0.07758757\n",
        "  0.07310962  0.07002094  0.0678978   0.06644718  0.06547142  0.06484101\n",
        "  0.06447064  0.06430433  0.06430587  0.06445238  0.06473045  0.06513386\n",
        "  0.06566225  0.06632064  0.06711891  0.06807172  0.06920068  0.07053303\n",
        "  0.07210464  0.07396033  0.07615525  0.0787577   0.08184503  0.08550558\n",
        "  0.08982874  0.09490349  0.10079671  0.10755632  0.11520882  0.1237592\n",
        "  0.13321183  0.14364888  0.15521786  0.16826253  0.18325785  0.20054784\n",
        "  0.21923537  0.23476883  0.23888652  0.22752713  0.20456638  0.17670011\n",
        "  0.14930909  0.1255098   0.1064963   0.09222466  0.08196241  0.07481761\n",
        "  0.06992929  0.06661183  0.06436848  0.06285684]\n"
       ]
      },
      {
       "metadata": {},
       "output_type": "pyout",
       "prompt_number": 36,
       "text": [
        "[<matplotlib.lines.Line2D at 0x50e3c10>]"
       ]
      },
      {
       "metadata": {},
       "output_type": "display_data",
       "png": "[encoded data removed]",
       "text": [
        "<matplotlib.figure.Figure at 0x50bca10>"
       ]
      }
     ],
     "prompt_number": 36
    },
    {
     "cell_type": "markdown",
     "metadata": {},
     "source": [
      "We now explore what happens as we do uniform samplings of $\\theta$ across different warm-up intervals."
     ]
    },
    {
     "cell_type": "code",
     "collapsed": false,
     "input": [
      "def do_warmup(n_particles=20000, theta_min=0, theta_max=TWO_PI, n_thetas=21, n_neutrons=10):\n",
      "    updater = smc.SMCUpdater(neutron_model, n_particles, neutron_prior, resample_thresh=0.3)\n",
      "    thetas = np.linspace(theta_min, theta_max, n_thetas)\n",
      "    for theta in thetas:\n",
      "        experiment = np.array([(theta, n_neutrons)], dtype=neutron_model.expparams_dtype)\n",
      "        datum = neutron_model.simulate_experiment(true_modelparams, experiment)\n",
      "        updater.update(datum, experiment)\n",
      "    f_post = plot_risks(updater)\n",
      "    print(*[u\"{:0.3} \u00b1 {:0.3}\\t\".format(mu, sigma) for mu, sigma in zip(updater.est_mean(), np.sqrt(np.diag(updater.est_covariance_mtx())))])\n",
      "    print(*true_modelparams)\n",
      "    return f_post, updater"
     ],
     "language": "python",
     "metadata": {},
     "outputs": [],
     "prompt_number": 20
    },
    {
     "cell_type": "code",
     "collapsed": false,
     "input": [
      "f, updater_warmup = do_warmup(n_thetas=21**2, n_neutrons=100)"
     ],
     "language": "python",
     "metadata": {},
     "outputs": [
      {
       "output_type": "stream",
       "stream": "stdout",
       "text": [
        "0.896 \u00b1 0.00394\t 3.15e-06 \u00b1 2.9e-05\t 0.0886 \u00b1 0.0124\t 1.02 \u00b1 0.00355\t\n",
        "[ 0.9        0.         0.0844303  1.02     ]\n"
       ]
      },
      {
       "metadata": {},
       "output_type": "display_data",
       "png": "[encoded data removed]",
       "text": [
        "<matplotlib.figure.Figure at 0x4768690>"
       ]
      }
     ],
     "prompt_number": 21
    },
    {
     "cell_type": "code",
     "collapsed": false,
     "input": [
      "plot_kernel_smoothed_pdf(updater_warmup, param=2)"
     ],
     "language": "python",
     "metadata": {},
     "outputs": [
      {
       "metadata": {},
       "output_type": "display_data",
       "png": "[encoded data removed]",
       "text": [
        "<matplotlib.figure.Figure at 0x4ab2610>"
       ]
      }
     ],
     "prompt_number": 22
    },
    {
     "cell_type": "code",
     "collapsed": false,
     "input": [
      "def do_warmup_ex(n_particles=20000, theta_min=0, theta_max=TWO_PI, n_thetas=21, n_neutrons=10,hum=0.70,hum_std=0.01,temp=293.15,temp_std=0.5):\n",
      "    updater = smc.SMCUpdater(neutron_model_ex, n_particles, neutron_prior_ex, resample_thresh=0.3)\n",
      "    deltas = np.linspace(theta_min, theta_max, n_thetas)\n",
      "    humidities = np.random.normal(hum,hum_std,n_thetas)\n",
      "    temps = np.random.normal(temp,temp_std,n_thetas)\n",
      "    exparams = zip(deltas,temps,humidities)   \n",
      "    for exparam in exparams:\n",
      "        experiment = np.array([(exparam+ (n_neutrons,))], dtype=neutron_model_ex.expparams_dtype)\n",
      "        datum = neutron_model_ex.simulate_experiment(true_modelparams_ex, experiment)\n",
      "        updater.update(datum, experiment)\n",
      "    f_post = plot_risks_ex(updater)\n",
      "    print(*[u\"{:0.3} \u00b1 {:0.3}\\t\".format(mu, sigma) for mu, sigma in zip(updater.est_mean(), np.sqrt(np.diag(updater.est_covariance_mtx())))])\n",
      "    print(*true_modelparams_ex)\n",
      "    return f_post, updater"
     ],
     "language": "python",
     "metadata": {},
     "outputs": [],
     "prompt_number": 23
    },
    {
     "cell_type": "code",
     "collapsed": false,
     "input": [
      "f_ex, updater_warmup_ex = do_warmup_ex(n_thetas=21**2, n_neutrons=100)"
     ],
     "language": "python",
     "metadata": {},
     "outputs": [
      {
       "ename": "AssertionError",
       "evalue": "",
       "output_type": "pyerr",
       "traceback": [
        "\u001b[1;31m---------------------------------------------------------------------------\u001b[0m\n\u001b[1;31mAssertionError\u001b[0m                            Traceback (most recent call last)",
        "\u001b[1;32m<ipython-input-24-91119a96ad60>\u001b[0m in \u001b[0;36m<module>\u001b[1;34m()\u001b[0m\n\u001b[1;32m----> 1\u001b[1;33m \u001b[0mf_ex\u001b[0m\u001b[1;33m,\u001b[0m \u001b[0mupdater_warmup_ex\u001b[0m \u001b[1;33m=\u001b[0m \u001b[0mdo_warmup_ex\u001b[0m\u001b[1;33m(\u001b[0m\u001b[0mn_thetas\u001b[0m\u001b[1;33m=\u001b[0m\u001b[1;36m21\u001b[0m\u001b[1;33m**\u001b[0m\u001b[1;36m2\u001b[0m\u001b[1;33m,\u001b[0m \u001b[0mn_neutrons\u001b[0m\u001b[1;33m=\u001b[0m\u001b[1;36m100\u001b[0m\u001b[1;33m)\u001b[0m\u001b[1;33m\u001b[0m\u001b[0m\n\u001b[0m",
        "\u001b[1;32m<ipython-input-23-e81c830e4228>\u001b[0m in \u001b[0;36mdo_warmup_ex\u001b[1;34m(n_particles, theta_min, theta_max, n_thetas, n_neutrons, hum, hum_std, temp, temp_std)\u001b[0m\n\u001b[0;32m     10\u001b[0m         \u001b[0mupdater\u001b[0m\u001b[1;33m.\u001b[0m\u001b[0mupdate\u001b[0m\u001b[1;33m(\u001b[0m\u001b[0mdatum\u001b[0m\u001b[1;33m,\u001b[0m \u001b[0mexperiment\u001b[0m\u001b[1;33m)\u001b[0m\u001b[1;33m\u001b[0m\u001b[0m\n\u001b[0;32m     11\u001b[0m     \u001b[0mf_post\u001b[0m \u001b[1;33m=\u001b[0m \u001b[0mplot_risks_ex\u001b[0m\u001b[1;33m(\u001b[0m\u001b[0mupdater\u001b[0m\u001b[1;33m)\u001b[0m\u001b[1;33m\u001b[0m\u001b[0m\n\u001b[1;32m---> 12\u001b[1;33m     \u001b[1;32mprint\u001b[0m\u001b[1;33m(\u001b[0m\u001b[1;33m*\u001b[0m\u001b[1;33m[\u001b[0m\u001b[1;34mu\"{:0.3} \u00b1 {:0.3}\\t\"\u001b[0m\u001b[1;33m.\u001b[0m\u001b[0mformat\u001b[0m\u001b[1;33m(\u001b[0m\u001b[0mmu\u001b[0m\u001b[1;33m,\u001b[0m \u001b[0msigma\u001b[0m\u001b[1;33m)\u001b[0m \u001b[1;32mfor\u001b[0m \u001b[0mmu\u001b[0m\u001b[1;33m,\u001b[0m \u001b[0msigma\u001b[0m \u001b[1;32min\u001b[0m \u001b[0mzip\u001b[0m\u001b[1;33m(\u001b[0m\u001b[0mupdater\u001b[0m\u001b[1;33m.\u001b[0m\u001b[0mest_mean\u001b[0m\u001b[1;33m(\u001b[0m\u001b[1;33m)\u001b[0m\u001b[1;33m,\u001b[0m \u001b[0mnp\u001b[0m\u001b[1;33m.\u001b[0m\u001b[0msqrt\u001b[0m\u001b[1;33m(\u001b[0m\u001b[0mnp\u001b[0m\u001b[1;33m.\u001b[0m\u001b[0mdiag\u001b[0m\u001b[1;33m(\u001b[0m\u001b[0mupdater\u001b[0m\u001b[1;33m.\u001b[0m\u001b[0mest_covariance_mtx\u001b[0m\u001b[1;33m(\u001b[0m\u001b[1;33m)\u001b[0m\u001b[1;33m)\u001b[0m\u001b[1;33m)\u001b[0m\u001b[1;33m)\u001b[0m\u001b[1;33m]\u001b[0m\u001b[1;33m)\u001b[0m\u001b[1;33m\u001b[0m\u001b[0m\n\u001b[0m\u001b[0;32m     13\u001b[0m     \u001b[1;32mprint\u001b[0m\u001b[1;33m(\u001b[0m\u001b[1;33m*\u001b[0m\u001b[0mtrue_modelparams_ex\u001b[0m\u001b[1;33m)\u001b[0m\u001b[1;33m\u001b[0m\u001b[0m\n\u001b[0;32m     14\u001b[0m     \u001b[1;32mreturn\u001b[0m \u001b[0mf_post\u001b[0m\u001b[1;33m,\u001b[0m \u001b[0mupdater\u001b[0m\u001b[1;33m\u001b[0m\u001b[0m\n",
        "\u001b[1;32m/home/thomas/Envs/default/local/lib/python2.7/site-packages/qinfer/smc.pyc\u001b[0m in \u001b[0;36mest_covariance_mtx\u001b[1;34m(self)\u001b[0m\n\u001b[0;32m    450\u001b[0m         return particle_covariance_mtx(\n\u001b[0;32m    451\u001b[0m             \u001b[0mself\u001b[0m\u001b[1;33m.\u001b[0m\u001b[0mparticle_weights\u001b[0m\u001b[1;33m,\u001b[0m\u001b[1;33m\u001b[0m\u001b[0m\n\u001b[1;32m--> 452\u001b[1;33m             self.particle_locations)\n\u001b[0m\u001b[0;32m    453\u001b[0m \u001b[1;33m\u001b[0m\u001b[0m\n\u001b[0;32m    454\u001b[0m     \u001b[1;32mdef\u001b[0m \u001b[0mbayes_risk\u001b[0m\u001b[1;33m(\u001b[0m\u001b[0mself\u001b[0m\u001b[1;33m,\u001b[0m \u001b[0mexpparams\u001b[0m\u001b[1;33m)\u001b[0m\u001b[1;33m:\u001b[0m\u001b[1;33m\u001b[0m\u001b[0m\n",
        "\u001b[1;32m/home/thomas/Envs/default/local/lib/python2.7/site-packages/qinfer/utils.pyc\u001b[0m in \u001b[0;36mparticle_covariance_mtx\u001b[1;34m(weights, locations)\u001b[0m\n\u001b[0;32m    108\u001b[0m     \u001b[1;31m# positive-semidefinite covariance matrix. If a negative eigenvalue\u001b[0m\u001b[1;33m\u001b[0m\u001b[1;33m\u001b[0m\u001b[0m\n\u001b[0;32m    109\u001b[0m     \u001b[1;31m# is produced, we should warn the caller of this.\u001b[0m\u001b[1;33m\u001b[0m\u001b[1;33m\u001b[0m\u001b[0m\n\u001b[1;32m--> 110\u001b[1;33m     \u001b[1;32massert\u001b[0m \u001b[0mnp\u001b[0m\u001b[1;33m.\u001b[0m\u001b[0mall\u001b[0m\u001b[1;33m(\u001b[0m\u001b[0mnp\u001b[0m\u001b[1;33m.\u001b[0m\u001b[0misfinite\u001b[0m\u001b[1;33m(\u001b[0m\u001b[0mcov\u001b[0m\u001b[1;33m)\u001b[0m\u001b[1;33m)\u001b[0m\u001b[1;33m\u001b[0m\u001b[0m\n\u001b[0m\u001b[0;32m    111\u001b[0m     \u001b[1;32mif\u001b[0m \u001b[1;32mnot\u001b[0m \u001b[0mnp\u001b[0m\u001b[1;33m.\u001b[0m\u001b[0mall\u001b[0m\u001b[1;33m(\u001b[0m\u001b[0mla\u001b[0m\u001b[1;33m.\u001b[0m\u001b[0meig\u001b[0m\u001b[1;33m(\u001b[0m\u001b[0mcov\u001b[0m\u001b[1;33m)\u001b[0m\u001b[1;33m[\u001b[0m\u001b[1;36m0\u001b[0m\u001b[1;33m]\u001b[0m \u001b[1;33m>=\u001b[0m \u001b[1;36m0\u001b[0m\u001b[1;33m)\u001b[0m\u001b[1;33m:\u001b[0m\u001b[1;33m\u001b[0m\u001b[0m\n\u001b[0;32m    112\u001b[0m         \u001b[0mwarnings\u001b[0m\u001b[1;33m.\u001b[0m\u001b[0mwarn\u001b[0m\u001b[1;33m(\u001b[0m\u001b[1;34m'Numerical error in covariance estimation causing positive semidefinite violation.'\u001b[0m\u001b[1;33m,\u001b[0m \u001b[0mApproximationWarning\u001b[0m\u001b[1;33m)\u001b[0m\u001b[1;33m\u001b[0m\u001b[0m\n",
        "\u001b[1;31mAssertionError\u001b[0m: "
       ]
      },
      {
       "output_type": "stream",
       "stream": "stderr",
       "text": [
        "/home/thomas/Envs/default/local/lib/python2.7/site-packages/qinfer/smc.py:305: RuntimeWarning: invalid value encountered in greater_equal\n",
        "  if not np.all(weights >= 0):\n",
        "/home/thomas/Envs/default/local/lib/python2.7/site-packages/qinfer/smc.py:306: ApproximationWarning: Negative weights occured in particle approximation. Smallest weight observed == nan. Clipping weights.\n",
        "  warnings.warn(\"Negative weights occured in particle approximation. Smallest weight observed == {}. Clipping weights.\".format(np.min(weights)), ApproximationWarning)\n"
       ]
      },
      {
       "metadata": {},
       "output_type": "display_data",
       "png": "[encoded data removed]",
       "text": [
        "<matplotlib.figure.Figure at 0x4851a90>"
       ]
      }
     ],
     "prompt_number": 24
    },
    {
     "cell_type": "code",
     "collapsed": false,
     "input": [
      "plot_kernel_smoothed_pdf(updater_warmup_ex, param=0)"
     ],
     "language": "python",
     "metadata": {},
     "outputs": []
    },
    {
     "cell_type": "markdown",
     "metadata": {},
     "source": [
      "We see that exploring settings of $\\theta$ not yet chosen provides significant benefits in risk reduction.\n",
      "\n",
      "Note also that the second case, $\\theta \\in [\\pi/2, 3\\pi/2]$, reliably gives much better phase information than the other two case"
     ]
    },
    {
     "cell_type": "code",
     "collapsed": false,
     "input": [
      "figure()\n",
      "do_warmup(theta_min=0, theta_max=np.pi, n_neutrons=100);\n",
      "figure()\n",
      "do_warmup(theta_min=(np.pi/2), theta_max=(1.5*np.pi), n_neutrons=100);\n",
      "figure()\n",
      "do_warmup(theta_min=(np.pi), theta_max=(2*np.pi), n_neutrons=100);"
     ],
     "language": "python",
     "metadata": {},
     "outputs": []
    },
    {
     "cell_type": "code",
     "collapsed": false,
     "input": [
      "figure()\n",
      "do_warmup_ex(theta_min=0, theta_max=np.pi, n_neutrons=100);\n",
      "figure()\n",
      "do_warmup_ex(theta_min=(np.pi/2), theta_max=(1.5*np.pi), n_neutrons=100);\n",
      "figure()\n",
      "do_warmup_ex(theta_min=(np.pi), theta_max=(2*np.pi), n_neutrons=100);"
     ],
     "language": "python",
     "metadata": {},
     "outputs": []
    },
    {
     "cell_type": "code",
     "collapsed": false,
     "input": [
      "def do_adaptive(n_particles=100000, warmup_thetas=(), n_thetas=11, n_guesses=3, n_neutrons=10, n_warmup_neutrons=10, quiet=False):\n",
      "    updater = smc.SMCUpdater(neutron_model, n_particles, neutron_prior, resampler=resamplers.LiuWestResampler(a=0.98), resample_thresh=0.5)\n",
      "    designer = expdesign.ExperimentDesigner(updater)\n",
      "    \n",
      "    best_thetas = []\n",
      "    error_hist = []\n",
      "    \n",
      "    def objective(theta):\n",
      "        return updater.bayes_risk(                                  \n",
      "            np.array([(theta, 1)], dtype=neutron_model.expparams_dtype)\n",
      "        )\n",
      "    \n",
      "    def perform(theta, n):\n",
      "        experiment = np.array([(theta, n)], dtype=neutron_model.expparams_dtype)\n",
      "        datum = neutron_model.simulate_experiment(true_modelparams, experiment)\n",
      "        updater.update(datum, experiment)\n",
      "        mu = updater.est_mean()\n",
      "        loss = np.dot(updater.model.Q, (true_modelparams[0, :] - mu)**2)\n",
      "        error = np.abs(mu[2] - true_modelparams[0, 2])\n",
      "        error_hist.append(error)\n",
      "        if not quiet:\n",
      "            print(\"Loss: {:.2e}\\tError: {:.2e}\\tStd dev: {:.2e}\\tResample: {}\".format(loss, error, np.sqrt(updater.est_covariance_mtx()[2,2]), updater.resample_count))\n",
      "        \n",
      "    [perform(theta, n_warmup_neutrons) for theta in warmup_thetas]\n",
      "    \n",
      "    for idx_theta in xrange(n_thetas):\n",
      "        \n",
      "        best_theta = None\n",
      "        best_risk  = None\n",
      "        \n",
      "        est_phi = updater.est_mean()[2]\n",
      "        \n",
      "        for idx_guess in xrange(n_guesses):\n",
      "            idx_particle = np.argmax(np.ceil(np.cumsum(updater.particle_weights) - np.random.random()))\n",
      "            idx_pi = np.random.randint(1, 5) # If this is zero, we pick a random theta [0, 2 * pi].\n",
      "            guess = (\n",
      "                idx_pi * np.pi / 2 - updater.particle_locations[idx_particle, 2, np.newaxis] / updater.particle_locations[idx_particle, 3, np.newaxis]\n",
      "            ) # if idx_pi != 0 else TWO_PI * random.random((1,))\n",
      "            result = minimize(objective, guess, bounds=[(0, 2 * np.pi)], method='TNC', options={'maxiter': 2})\n",
      "            \n",
      "            if best_risk is None or result.fun < best_risk:\n",
      "                best_theta = result.x\n",
      "                best_risk = result.fun\n",
      "        \n",
      "        if not quiet:\n",
      "            print(u\"Chose theta = {}.\".format(best_theta), end='\\t')\n",
      "            \n",
      "        best_thetas.append(best_theta)\n",
      "        perform(best_theta, n_neutrons)\n",
      "        \n",
      "    f_post = plot_risks(updater)\n",
      "    print(*[u\"{:0.3} \u00b1 {:0.3}\\t\".format(mu, sigma) for mu, sigma in zip(updater.est_mean(), np.sqrt(np.diag(updater.est_covariance_mtx())))])\n",
      "    print(*true_modelparams)\n",
      "    return f_post, error_hist, updater, best_thetas"
     ],
     "language": "python",
     "metadata": {},
     "outputs": []
    },
    {
     "cell_type": "code",
     "collapsed": false,
     "input": [
      "warmup_thetas = np.linspace(0, np.pi/10, 19)"
     ],
     "language": "python",
     "metadata": {},
     "outputs": []
    },
    {
     "cell_type": "code",
     "collapsed": false,
     "input": [
      "f_post, this_error_hist, updater_adaptive, best_thetas = do_adaptive(n_thetas=200, n_guesses=5, warmup_thetas=warmup_thetas, n_neutrons=40, n_warmup_neutrons=100, quiet=False)"
     ],
     "language": "python",
     "metadata": {},
     "outputs": []
    },
    {
     "cell_type": "code",
     "collapsed": false,
     "input": [
      "plot_kernel_smoothed_pdf(updater_adaptive)"
     ],
     "language": "python",
     "metadata": {},
     "outputs": []
    },
    {
     "cell_type": "code",
     "collapsed": false,
     "input": [
      "def do_adaptive_ex(n_particles=100000, warmup_exparams=(), n_thetas=11, n_guesses=3, n_neutrons=10, n_warmup_neutrons=10, quiet=False):\n",
      "    updater = smc.SMCUpdater(neutron_model_ex, n_particles, neutron_prior_ex, resampler=resamplers.LiuWestResampler(a=0.98), resample_thresh=0.5)\n",
      "    designer = expdesign.ExperimentDesigner(updater)\n",
      "    \n",
      "    best_thetas = []\n",
      "    error_hist = []\n",
      "    \n",
      "    def objective(theta):\n",
      "        \n",
      "        return updater.bayes_risk(                                  \n",
      "            np.array([tuple(theta)+(1,)], dtype=neutron_model_ex.expparams_dtype)\n",
      "        )\n",
      "    \n",
      "    def perform(exparam, n):        \n",
      "        experiment = np.array([tuple(exparam)+ (n,)], dtype=neutron_model_ex.expparams_dtype)        \n",
      "        datum = neutron_model_ex.simulate_experiment(true_modelparams_ex, experiment)\n",
      "        updater.update(datum, experiment)\n",
      "        mu = updater.est_mean()\n",
      "        loss = np.dot(updater.model.Q, (true_modelparams_ex[0, :] - mu)**2)\n",
      "        error = np.abs(mu[2] - true_modelparams_ex[0, 2])\n",
      "        error_hist.append(error)\n",
      "        if not quiet:\n",
      "            print(\"Loss: {:.2e}\\tError: {:.2e}\\tStd dev: {:.2e}\\tResample: {}\".format(loss, error, np.sqrt(updater.est_covariance_mtx()[2,2]), updater.resample_count))\n",
      "        \n",
      "    [perform(exparam, n_warmup_neutrons) for exparam in warmup_exparams]\n",
      "    \n",
      "    for idx_theta in xrange(n_thetas):\n",
      "        \n",
      "        best_theta = None\n",
      "        best_risk  = None\n",
      "        \n",
      "        est_phi = updater.est_mean()[2]\n",
      "        \n",
      "        for idx_guess in xrange(n_guesses):\n",
      "            idx_particle = np.argmax(np.ceil(np.cumsum(updater.particle_weights) - np.random.random()))\n",
      "            idx_pi = np.random.randint(1, 5) # If this is zero, we pick a random theta [0, 2 * pi].\n",
      "            guess = (\n",
      "                idx_pi * np.pi / 2 - updater.particle_locations[idx_particle, 2, np.newaxis] / updater.particle_locations[idx_particle, 3, np.newaxis]\n",
      "            ) # if idx_pi != 0 else TWO_PI * random.random((1,))\n",
      "            result = minimize(objective, (guess,293.15,0.70), bounds=[(0, 2 * np.pi),(270.,310.),(0.,1.)], method='TNC', options={'maxiter': 2})\n",
      "            \n",
      "            if best_risk is None or result.fun < best_risk:\n",
      "                best_theta = result.x\n",
      "                best_risk = result.fun\n",
      "        \n",
      "        if not quiet:\n",
      "            print(u\"Chose theta = {}.\".format(best_theta), end='\\t')\n",
      "            \n",
      "        best_thetas.append(best_theta)\n",
      "        perform(best_theta, n_neutrons)\n",
      "        \n",
      "    f_post = plot_risks_ex(updater)\n",
      "    print(*[u\"{:0.3} \u00b1 {:0.3}\\t\".format(mu, sigma) for mu, sigma in zip(updater.est_mean(), np.sqrt(np.diag(updater.est_covariance_mtx())))])\n",
      "    print(*true_modelparams)\n",
      "    return f_post, error_hist, updater, best_thetas"
     ],
     "language": "python",
     "metadata": {},
     "outputs": []
    },
    {
     "cell_type": "code",
     "collapsed": false,
     "input": [
      "warmup_thetas = np.linspace(0, np.pi/10, 19)\n",
      "warmup_temps = np.random.normal(293.16,0.15,19)\n",
      "warmup_humids = np.random.normal(0.7,0.01,19)\n",
      "exparams = zip(warmup_thetas,warmup_temps,warmup_humids)"
     ],
     "language": "python",
     "metadata": {},
     "outputs": []
    },
    {
     "cell_type": "code",
     "collapsed": false,
     "input": [
      "f_post, this_error_hist, updater_adaptive, best_thetas = do_adaptive_ex(n_thetas=200, n_guesses=5, warmup_exparams=exparams, n_neutrons=40, n_warmup_neutrons=100, quiet=False)"
     ],
     "language": "python",
     "metadata": {},
     "outputs": []
    },
    {
     "cell_type": "code",
     "collapsed": false,
     "input": [
      "plot_kernel_smoothed_pdf(updater_adaptive)"
     ],
     "language": "python",
     "metadata": {},
     "outputs": []
    },
    {
     "cell_type": "code",
     "collapsed": false,
     "input": [
      "plot_kernel_smoothed_pdf(updater_adaptive, param=3)"
     ],
     "language": "python",
     "metadata": {},
     "outputs": []
    },
    {
     "cell_type": "code",
     "collapsed": false,
     "input": [
      "plot(this_error_hist)"
     ],
     "language": "python",
     "metadata": {},
     "outputs": []
    },
    {
     "cell_type": "code",
     "collapsed": false,
     "input": [
      "error_hist = np.zeros((100, 500 + warmup_thetas.size))\n",
      "for idx_run in xrange(100):\n",
      "    print(\"Run {}...\".format(idx_run))\n",
      "    f_post, this_error_hist, updater_adaptive, best_thetas = do_adaptive(n_thetas=500, n_guesses=3, warmup_thetas=warmup_thetas, n_neutrons=40, n_warmup_neutrons=1000, quiet=True)\n",
      "    error_hist[idx_run, :] = this_error_hist"
     ],
     "language": "python",
     "metadata": {},
     "outputs": []
    },
    {
     "cell_type": "code",
     "collapsed": false,
     "input": [
      "xs = arange(error_hist.shape[1]) + 1\n",
      "ns = np.concatenate([1000 * arange(1, 1 + len(warmup_thetas)), 1000 * len(warmup_thetas) + 40 * arange(1, 501)])\n",
      "figure(figsize=(12,6))\n",
      "xlim(xmax=max(xs))\n",
      "plot(xs, np.mean(error_hist, axis=0), label='Mean error of adaptive algo.')\n",
      "plot(xs, 1/sqrt(ns), 'k--', label='CRB for perfect contrast')\n",
      "legend()\n",
      "title('Performance over 100 runs of adaptive algorithm')\n",
      "xlabel('Experiment index', size=14)\n",
      "ylabel(r'Error in $\\phi$', size=14);"
     ],
     "language": "python",
     "metadata": {},
     "outputs": []
    },
    {
     "cell_type": "code",
     "collapsed": false,
     "input": [
      "plot_kernel_smoothed_pdf(updater_adaptive, param=2, show_true=False)\n"
     ],
     "language": "python",
     "metadata": {},
     "outputs": []
    },
    {
     "cell_type": "code",
     "collapsed": false,
     "input": [
      "plot_kernel_smoothed_pdf(updater_adaptive, param=3, show_true=False)\n"
     ],
     "language": "python",
     "metadata": {},
     "outputs": []
    },
    {
     "cell_type": "code",
     "collapsed": false,
     "input": [],
     "language": "python",
     "metadata": {},
     "outputs": []
    }
   ],
   "metadata": {}
  }
 ]
}